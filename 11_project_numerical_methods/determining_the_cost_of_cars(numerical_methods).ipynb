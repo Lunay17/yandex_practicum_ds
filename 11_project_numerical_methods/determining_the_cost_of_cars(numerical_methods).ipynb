{
  "cells": [
    {
      "cell_type": "markdown",
      "metadata": {
        "id": "LLBgrEbDsVPW"
      },
      "source": [
        "# Определение стоимости автомобилей"
      ]
    },
    {
      "cell_type": "markdown",
      "metadata": {
        "id": "r0kJYnl3sVPb"
      },
      "source": [
        "Сервис по продаже автомобилей с пробегом «Не бит, не крашен» разрабатывает приложение, чтобы привлечь новых клиентов. В нём можно будет узнать рыночную стоимость своего автомобиля.<br/>\n",
        "<br/>\n",
        "Нам необходимо построить эффективную модель для прогнозирования рыночной стоимости автомобиля на базе данных о технических характеристиках, комплектации и ценах автомобилей.<br/>\n",
        "<br/>\n",
        "Заказчику в модели предсказания важны:\n",
        "- качество предсказания;\n",
        "- время обучения модели;\n",
        "- время предсказания модели.\n",
        "\n",
        "Исходный датасет содержит 16 столбцов и 354369 строк. <br/>\n",
        "<br/>\n",
        "<b>Признаки:</b> <br/>\n",
        "<br/>\n",
        "DateCrawled — дата скачивания анкеты из базы<br/>\n",
        "VehicleType — тип автомобильного кузова<br/>\n",
        "RegistrationYear — год регистрации автомобиля<br/>\n",
        "Gearbox — тип коробки передач<br/>\n",
        "Power — мощность (л. с.)<br/>\n",
        "Model — модель автомобиля<br/>\n",
        "Kilometer — пробег (км)<br/>\n",
        "RegistrationMonth — месяц регистрации автомобиля<br/>\n",
        "FuelType — тип топлива<br/>\n",
        "Brand — марка автомобиля<br/>\n",
        "NotRepaired — была машина в ремонте или нет<br/>\n",
        "DateCreated — дата создания анкеты<br/>\n",
        "NumberOfPictures — количество фотографий автомобиля<br/>\n",
        "PostalCode — почтовый индекс владельца анкеты (пользователя)<br/>\n",
        "LastSeen — дата последней активности пользователя<br/>\n",
        "<br/>\n",
        "    <b>Целевой признак:</b> Price — цена (евро)<br/>\n",
        "<br/>\n",
        "В процессе работы над проектом необходим подготовить данные к обучению, исследовать несколько моделей ML и выбрать наиболее оптимальную. \n"
      ]
    },
    {
      "cell_type": "markdown",
      "metadata": {
        "id": "ODqgfxa_sVPe"
      },
      "source": [
        "## Подготовка данных"
      ]
    },
    {
      "cell_type": "markdown",
      "metadata": {
        "id": "UWHAJknAsVPf"
      },
      "source": [
        "### Предобработка данных."
      ]
    },
    {
      "cell_type": "code",
      "execution_count": null,
      "metadata": {
        "colab": {
          "base_uri": "https://localhost:8080/"
        },
        "id": "GJfjEUg1swI6",
        "outputId": "c5de36c4-c3a9-497b-8607-f04ca5e8f109"
      },
      "outputs": [
        {
          "name": "stdout",
          "output_type": "stream",
          "text": [
            "Requirement already satisfied: catboost in /opt/conda/lib/python3.9/site-packages (1.0.3)\n",
            "Requirement already satisfied: pandas>=0.24.0 in /opt/conda/lib/python3.9/site-packages (from catboost) (1.2.4)\n",
            "Requirement already satisfied: scipy in /opt/conda/lib/python3.9/site-packages (from catboost) (1.9.1)\n",
            "Requirement already satisfied: matplotlib in /opt/conda/lib/python3.9/site-packages (from catboost) (3.3.4)\n",
            "Requirement already satisfied: graphviz in /opt/conda/lib/python3.9/site-packages (from catboost) (0.20.1)\n",
            "Requirement already satisfied: plotly in /opt/conda/lib/python3.9/site-packages (from catboost) (5.4.0)\n",
            "Requirement already satisfied: six in /opt/conda/lib/python3.9/site-packages (from catboost) (1.16.0)\n",
            "Requirement already satisfied: numpy>=1.16.0 in /opt/conda/lib/python3.9/site-packages (from catboost) (1.21.1)\n",
            "Requirement already satisfied: python-dateutil>=2.7.3 in /opt/conda/lib/python3.9/site-packages (from pandas>=0.24.0->catboost) (2.8.1)\n",
            "Requirement already satisfied: pytz>=2017.3 in /opt/conda/lib/python3.9/site-packages (from pandas>=0.24.0->catboost) (2021.1)\n",
            "Requirement already satisfied: pyparsing!=2.0.4,!=2.1.2,!=2.1.6,>=2.0.3 in /opt/conda/lib/python3.9/site-packages (from matplotlib->catboost) (2.4.7)\n",
            "Requirement already satisfied: pillow>=6.2.0 in /opt/conda/lib/python3.9/site-packages (from matplotlib->catboost) (8.4.0)\n",
            "Requirement already satisfied: kiwisolver>=1.0.1 in /opt/conda/lib/python3.9/site-packages (from matplotlib->catboost) (1.4.4)\n",
            "Requirement already satisfied: cycler>=0.10 in /opt/conda/lib/python3.9/site-packages (from matplotlib->catboost) (0.11.0)\n",
            "Requirement already satisfied: tenacity>=6.2.0 in /opt/conda/lib/python3.9/site-packages (from plotly->catboost) (8.0.1)\n",
            "Note: you may need to restart the kernel to use updated packages.\n"
          ]
        }
      ],
      "source": [
        "pip install catboost"
      ]
    },
    {
      "cell_type": "code",
      "execution_count": null,
      "metadata": {
        "id": "YfqS_7GrsVPg"
      },
      "outputs": [],
      "source": [
        "import pandas as pd\n",
        "import numpy as np\n",
        "\n",
        "from sklearn.preprocessing import OrdinalEncoder\n",
        "from sklearn.model_selection import train_test_split, GridSearchCV, cross_val_score\n",
        "from sklearn.preprocessing import StandardScaler\n",
        "from sklearn.metrics import make_scorer, mean_squared_error \n",
        "\n",
        "from sklearn.linear_model import LinearRegression\n",
        "from sklearn.ensemble import RandomForestRegressor\n",
        "\n",
        "import lightgbm as lgb\n",
        "import catboost as cb"
      ]
    },
    {
      "cell_type": "code",
      "execution_count": null,
      "metadata": {
        "colab": {
          "base_uri": "https://localhost:8080/",
          "height": 444
        },
        "id": "QbZpXrBjsVPj",
        "outputId": "6db545f9-7951-4705-9251-db4e3f420b01",
        "scrolled": true
      },
      "outputs": [
        {
          "data": {
            "text/html": [
              "<div>\n",
              "<style scoped>\n",
              "    .dataframe tbody tr th:only-of-type {\n",
              "        vertical-align: middle;\n",
              "    }\n",
              "\n",
              "    .dataframe tbody tr th {\n",
              "        vertical-align: top;\n",
              "    }\n",
              "\n",
              "    .dataframe thead th {\n",
              "        text-align: right;\n",
              "    }\n",
              "</style>\n",
              "<table border=\"1\" class=\"dataframe\">\n",
              "  <thead>\n",
              "    <tr style=\"text-align: right;\">\n",
              "      <th></th>\n",
              "      <th>DateCrawled</th>\n",
              "      <th>Price</th>\n",
              "      <th>VehicleType</th>\n",
              "      <th>RegistrationYear</th>\n",
              "      <th>Gearbox</th>\n",
              "      <th>Power</th>\n",
              "      <th>Model</th>\n",
              "      <th>Kilometer</th>\n",
              "      <th>RegistrationMonth</th>\n",
              "      <th>FuelType</th>\n",
              "      <th>Brand</th>\n",
              "      <th>Repaired</th>\n",
              "      <th>DateCreated</th>\n",
              "      <th>NumberOfPictures</th>\n",
              "      <th>PostalCode</th>\n",
              "      <th>LastSeen</th>\n",
              "    </tr>\n",
              "  </thead>\n",
              "  <tbody>\n",
              "    <tr>\n",
              "      <th>0</th>\n",
              "      <td>2016-03-24 11:52:17</td>\n",
              "      <td>480</td>\n",
              "      <td>NaN</td>\n",
              "      <td>1993</td>\n",
              "      <td>manual</td>\n",
              "      <td>0</td>\n",
              "      <td>golf</td>\n",
              "      <td>150000</td>\n",
              "      <td>0</td>\n",
              "      <td>petrol</td>\n",
              "      <td>volkswagen</td>\n",
              "      <td>NaN</td>\n",
              "      <td>2016-03-24 00:00:00</td>\n",
              "      <td>0</td>\n",
              "      <td>70435</td>\n",
              "      <td>2016-04-07 03:16:57</td>\n",
              "    </tr>\n",
              "    <tr>\n",
              "      <th>1</th>\n",
              "      <td>2016-03-24 10:58:45</td>\n",
              "      <td>18300</td>\n",
              "      <td>coupe</td>\n",
              "      <td>2011</td>\n",
              "      <td>manual</td>\n",
              "      <td>190</td>\n",
              "      <td>NaN</td>\n",
              "      <td>125000</td>\n",
              "      <td>5</td>\n",
              "      <td>gasoline</td>\n",
              "      <td>audi</td>\n",
              "      <td>yes</td>\n",
              "      <td>2016-03-24 00:00:00</td>\n",
              "      <td>0</td>\n",
              "      <td>66954</td>\n",
              "      <td>2016-04-07 01:46:50</td>\n",
              "    </tr>\n",
              "    <tr>\n",
              "      <th>2</th>\n",
              "      <td>2016-03-14 12:52:21</td>\n",
              "      <td>9800</td>\n",
              "      <td>suv</td>\n",
              "      <td>2004</td>\n",
              "      <td>auto</td>\n",
              "      <td>163</td>\n",
              "      <td>grand</td>\n",
              "      <td>125000</td>\n",
              "      <td>8</td>\n",
              "      <td>gasoline</td>\n",
              "      <td>jeep</td>\n",
              "      <td>NaN</td>\n",
              "      <td>2016-03-14 00:00:00</td>\n",
              "      <td>0</td>\n",
              "      <td>90480</td>\n",
              "      <td>2016-04-05 12:47:46</td>\n",
              "    </tr>\n",
              "    <tr>\n",
              "      <th>3</th>\n",
              "      <td>2016-03-17 16:54:04</td>\n",
              "      <td>1500</td>\n",
              "      <td>small</td>\n",
              "      <td>2001</td>\n",
              "      <td>manual</td>\n",
              "      <td>75</td>\n",
              "      <td>golf</td>\n",
              "      <td>150000</td>\n",
              "      <td>6</td>\n",
              "      <td>petrol</td>\n",
              "      <td>volkswagen</td>\n",
              "      <td>no</td>\n",
              "      <td>2016-03-17 00:00:00</td>\n",
              "      <td>0</td>\n",
              "      <td>91074</td>\n",
              "      <td>2016-03-17 17:40:17</td>\n",
              "    </tr>\n",
              "    <tr>\n",
              "      <th>4</th>\n",
              "      <td>2016-03-31 17:25:20</td>\n",
              "      <td>3600</td>\n",
              "      <td>small</td>\n",
              "      <td>2008</td>\n",
              "      <td>manual</td>\n",
              "      <td>69</td>\n",
              "      <td>fabia</td>\n",
              "      <td>90000</td>\n",
              "      <td>7</td>\n",
              "      <td>gasoline</td>\n",
              "      <td>skoda</td>\n",
              "      <td>no</td>\n",
              "      <td>2016-03-31 00:00:00</td>\n",
              "      <td>0</td>\n",
              "      <td>60437</td>\n",
              "      <td>2016-04-06 10:17:21</td>\n",
              "    </tr>\n",
              "  </tbody>\n",
              "</table>\n",
              "</div>"
            ],
            "text/plain": [
              "           DateCrawled  Price VehicleType  RegistrationYear Gearbox  Power  \\\n",
              "0  2016-03-24 11:52:17    480         NaN              1993  manual      0   \n",
              "1  2016-03-24 10:58:45  18300       coupe              2011  manual    190   \n",
              "2  2016-03-14 12:52:21   9800         suv              2004    auto    163   \n",
              "3  2016-03-17 16:54:04   1500       small              2001  manual     75   \n",
              "4  2016-03-31 17:25:20   3600       small              2008  manual     69   \n",
              "\n",
              "   Model  Kilometer  RegistrationMonth  FuelType       Brand Repaired  \\\n",
              "0   golf     150000                  0    petrol  volkswagen      NaN   \n",
              "1    NaN     125000                  5  gasoline        audi      yes   \n",
              "2  grand     125000                  8  gasoline        jeep      NaN   \n",
              "3   golf     150000                  6    petrol  volkswagen       no   \n",
              "4  fabia      90000                  7  gasoline       skoda       no   \n",
              "\n",
              "           DateCreated  NumberOfPictures  PostalCode             LastSeen  \n",
              "0  2016-03-24 00:00:00                 0       70435  2016-04-07 03:16:57  \n",
              "1  2016-03-24 00:00:00                 0       66954  2016-04-07 01:46:50  \n",
              "2  2016-03-14 00:00:00                 0       90480  2016-04-05 12:47:46  \n",
              "3  2016-03-17 00:00:00                 0       91074  2016-03-17 17:40:17  \n",
              "4  2016-03-31 00:00:00                 0       60437  2016-04-06 10:17:21  "
            ]
          },
          "execution_count": 3,
          "metadata": {},
          "output_type": "execute_result"
        }
      ],
      "source": [
        "try:\n",
        "  df= pd.read_csv('/datasets/autos.csv')\n",
        "except FileNotFoundError:\n",
        "  df = pd.read_csv('/content/autos.csv')\n",
        "\n",
        "df.head()"
      ]
    },
    {
      "cell_type": "code",
      "execution_count": null,
      "metadata": {
        "colab": {
          "base_uri": "https://localhost:8080/"
        },
        "id": "HMCWxOMQsVPk",
        "outputId": "8ec3a62b-0443-4c21-d4ce-c05693cba6e8"
      },
      "outputs": [
        {
          "name": "stdout",
          "output_type": "stream",
          "text": [
            "<class 'pandas.core.frame.DataFrame'>\n",
            "RangeIndex: 354369 entries, 0 to 354368\n",
            "Data columns (total 16 columns):\n",
            " #   Column             Non-Null Count   Dtype \n",
            "---  ------             --------------   ----- \n",
            " 0   DateCrawled        354369 non-null  object\n",
            " 1   Price              354369 non-null  int64 \n",
            " 2   VehicleType        316879 non-null  object\n",
            " 3   RegistrationYear   354369 non-null  int64 \n",
            " 4   Gearbox            334536 non-null  object\n",
            " 5   Power              354369 non-null  int64 \n",
            " 6   Model              334664 non-null  object\n",
            " 7   Kilometer          354369 non-null  int64 \n",
            " 8   RegistrationMonth  354369 non-null  int64 \n",
            " 9   FuelType           321474 non-null  object\n",
            " 10  Brand              354369 non-null  object\n",
            " 11  Repaired           283215 non-null  object\n",
            " 12  DateCreated        354369 non-null  object\n",
            " 13  NumberOfPictures   354369 non-null  int64 \n",
            " 14  PostalCode         354369 non-null  int64 \n",
            " 15  LastSeen           354369 non-null  object\n",
            "dtypes: int64(7), object(9)\n",
            "memory usage: 43.3+ MB\n"
          ]
        }
      ],
      "source": [
        "df.info()"
      ]
    },
    {
      "cell_type": "markdown",
      "metadata": {
        "id": "_yIvJGa7sVPl"
      },
      "source": [
        "Проверим данные на дубликаты"
      ]
    },
    {
      "cell_type": "code",
      "execution_count": null,
      "metadata": {
        "colab": {
          "base_uri": "https://localhost:8080/"
        },
        "id": "UaEa4efxsVPm",
        "outputId": "2d20a4a4-471d-4124-863e-ca979b405186"
      },
      "outputs": [
        {
          "data": {
            "text/plain": [
              "4"
            ]
          },
          "execution_count": 5,
          "metadata": {},
          "output_type": "execute_result"
        }
      ],
      "source": [
        "df.duplicated().sum()"
      ]
    },
    {
      "cell_type": "code",
      "execution_count": null,
      "metadata": {
        "colab": {
          "base_uri": "https://localhost:8080/"
        },
        "id": "Zps6QAaYsVPn",
        "outputId": "7dafc979-140b-46af-9b49-d2bfcee61d4d"
      },
      "outputs": [
        {
          "data": {
            "text/plain": [
              "0"
            ]
          },
          "execution_count": 6,
          "metadata": {},
          "output_type": "execute_result"
        }
      ],
      "source": [
        "df = df.drop_duplicates()\n",
        "df.duplicated().sum()"
      ]
    },
    {
      "cell_type": "markdown",
      "metadata": {
        "id": "WE83iz3rsVPo"
      },
      "source": [
        "Проверим категориальные признаки на скрытые дубликаты."
      ]
    },
    {
      "cell_type": "code",
      "execution_count": null,
      "metadata": {
        "colab": {
          "base_uri": "https://localhost:8080/"
        },
        "id": "hl3FswxhsVPp",
        "outputId": "d82e5990-a3de-455e-e30f-7764ec2fc37d",
        "scrolled": false
      },
      "outputs": [
        {
          "name": "stdout",
          "output_type": "stream",
          "text": [
            "VehicleType\n",
            "[nan 'coupe' 'suv' 'small' 'sedan' 'convertible' 'bus' 'wagon' 'other']\n",
            "\n",
            "Gearbox\n",
            "['manual' 'auto' nan]\n",
            "\n",
            "Model\n",
            "['golf' nan 'grand' 'fabia' '3er' '2_reihe' 'other' 'c_max' '3_reihe'\n",
            " 'passat' 'navara' 'ka' 'polo' 'twingo' 'a_klasse' 'scirocco' '5er'\n",
            " 'meriva' 'arosa' 'c4' 'civic' 'transporter' 'punto' 'e_klasse' 'clio'\n",
            " 'kadett' 'kangoo' 'corsa' 'one' 'fortwo' '1er' 'b_klasse' 'signum'\n",
            " 'astra' 'a8' 'jetta' 'fiesta' 'c_klasse' 'micra' 'vito' 'sprinter' '156'\n",
            " 'escort' 'forester' 'xc_reihe' 'scenic' 'a4' 'a1' 'insignia' 'combo'\n",
            " 'focus' 'tt' 'a6' 'jazz' 'omega' 'slk' '7er' '80' '147' '100' 'z_reihe'\n",
            " 'sportage' 'sorento' 'v40' 'ibiza' 'mustang' 'eos' 'touran' 'getz' 'a3'\n",
            " 'almera' 'megane' 'lupo' 'r19' 'zafira' 'caddy' 'mondeo' 'cordoba' 'colt'\n",
            " 'impreza' 'vectra' 'berlingo' 'tiguan' 'i_reihe' 'espace' 'sharan'\n",
            " '6_reihe' 'panda' 'up' 'seicento' 'ceed' '5_reihe' 'yeti' 'octavia' 'mii'\n",
            " 'rx_reihe' '6er' 'modus' 'fox' 'matiz' 'beetle' 'c1' 'rio' 'touareg'\n",
            " 'logan' 'spider' 'cuore' 's_max' 'a2' 'galaxy' 'c3' 'viano' 's_klasse'\n",
            " '1_reihe' 'avensis' 'roomster' 'sl' 'kaefer' 'santa' 'cooper' 'leon'\n",
            " '4_reihe' 'a5' '500' 'laguna' 'ptcruiser' 'clk' 'primera' 'x_reihe'\n",
            " 'exeo' '159' 'transit' 'juke' 'qashqai' 'carisma' 'accord' 'corolla'\n",
            " 'lanos' 'phaeton' 'verso' 'swift' 'rav' 'picanto' 'boxster' 'kalos'\n",
            " 'superb' 'stilo' 'alhambra' 'mx_reihe' 'roadster' 'ypsilon' 'cayenne'\n",
            " 'galant' 'justy' '90' 'sirion' 'crossfire' 'agila' 'duster' 'cr_reihe'\n",
            " 'v50' 'c_reihe' 'v_klasse' 'm_klasse' 'yaris' 'c5' 'aygo' 'cc' 'carnival'\n",
            " 'fusion' '911' 'bora' 'forfour' 'm_reihe' 'cl' 'tigra' '300c' 'spark'\n",
            " 'v70' 'kuga' 'x_type' 'ducato' 's_type' 'x_trail' 'toledo' 'altea'\n",
            " 'voyager' 'calibra' 'bravo' 'antara' 'tucson' 'citigo' 'jimny' 'wrangler'\n",
            " 'lybra' 'q7' 'lancer' 'captiva' 'c2' 'discovery' 'freelander' 'sandero'\n",
            " 'note' '900' 'cherokee' 'clubman' 'samara' 'defender' '601' 'cx_reihe'\n",
            " 'legacy' 'pajero' 'auris' 'niva' 's60' 'nubira' 'vivaro' 'g_klasse'\n",
            " 'lodgy' '850' 'range_rover' 'q3' 'serie_2' 'glk' 'charade' 'croma'\n",
            " 'outlander' 'doblo' 'musa' 'move' '9000' 'v60' '145' 'aveo' '200' 'b_max'\n",
            " 'range_rover_sport' 'terios' 'rangerover' 'q5' 'range_rover_evoque'\n",
            " 'materia' 'delta' 'gl' 'kalina' 'amarok' 'elefantino' 'i3' 'kappa'\n",
            " 'serie_3' 'serie_1']\n",
            "\n",
            "FuelType\n",
            "['petrol' 'gasoline' nan 'lpg' 'other' 'hybrid' 'cng' 'electric']\n",
            "\n",
            "Brand\n",
            "['volkswagen' 'audi' 'jeep' 'skoda' 'bmw' 'peugeot' 'ford' 'mazda'\n",
            " 'nissan' 'renault' 'mercedes_benz' 'opel' 'seat' 'citroen' 'honda' 'fiat'\n",
            " 'mini' 'smart' 'hyundai' 'sonstige_autos' 'alfa_romeo' 'subaru' 'volvo'\n",
            " 'mitsubishi' 'kia' 'suzuki' 'lancia' 'toyota' 'chevrolet' 'dacia'\n",
            " 'daihatsu' 'trabant' 'saab' 'chrysler' 'jaguar' 'daewoo' 'porsche'\n",
            " 'rover' 'land_rover' 'lada']\n",
            "\n",
            "Repaired\n",
            "[nan 'yes' 'no']\n",
            "\n"
          ]
        }
      ],
      "source": [
        "columns = ['VehicleType','Gearbox','Model','FuelType','Brand','Repaired']\n",
        "for column in columns:\n",
        "    print(column)\n",
        "    print(df[column].unique())\n",
        "    print()"
      ]
    },
    {
      "cell_type": "markdown",
      "metadata": {
        "id": "drhQx2H0smd4"
      },
      "source": [
        "К неявным дубликатам относятся названия модели 'rangerover' и 'range_rover'. Приведем название к единому стилю."
      ]
    },
    {
      "cell_type": "code",
      "execution_count": null,
      "metadata": {
        "colab": {
          "base_uri": "https://localhost:8080/",
          "height": 113
        },
        "id": "aRlZ_3x4smd6",
        "outputId": "dc25e6d5-4852-45f6-eca9-ae796ca2c41e",
        "scrolled": true
      },
      "outputs": [
        {
          "data": {
            "text/html": [
              "<div>\n",
              "<style scoped>\n",
              "    .dataframe tbody tr th:only-of-type {\n",
              "        vertical-align: middle;\n",
              "    }\n",
              "\n",
              "    .dataframe tbody tr th {\n",
              "        vertical-align: top;\n",
              "    }\n",
              "\n",
              "    .dataframe thead th {\n",
              "        text-align: right;\n",
              "    }\n",
              "</style>\n",
              "<table border=\"1\" class=\"dataframe\">\n",
              "  <thead>\n",
              "    <tr style=\"text-align: right;\">\n",
              "      <th></th>\n",
              "      <th>DateCrawled</th>\n",
              "      <th>Price</th>\n",
              "      <th>VehicleType</th>\n",
              "      <th>RegistrationYear</th>\n",
              "      <th>Gearbox</th>\n",
              "      <th>Power</th>\n",
              "      <th>Model</th>\n",
              "      <th>Kilometer</th>\n",
              "      <th>RegistrationMonth</th>\n",
              "      <th>FuelType</th>\n",
              "      <th>Brand</th>\n",
              "      <th>Repaired</th>\n",
              "      <th>DateCreated</th>\n",
              "      <th>NumberOfPictures</th>\n",
              "      <th>PostalCode</th>\n",
              "      <th>LastSeen</th>\n",
              "    </tr>\n",
              "  </thead>\n",
              "  <tbody>\n",
              "  </tbody>\n",
              "</table>\n",
              "</div>"
            ],
            "text/plain": [
              "Empty DataFrame\n",
              "Columns: [DateCrawled, Price, VehicleType, RegistrationYear, Gearbox, Power, Model, Kilometer, RegistrationMonth, FuelType, Brand, Repaired, DateCreated, NumberOfPictures, PostalCode, LastSeen]\n",
              "Index: []"
            ]
          },
          "execution_count": 8,
          "metadata": {},
          "output_type": "execute_result"
        }
      ],
      "source": [
        "df['Model'] = df['Model'].replace('range_rover', 'rangerover')\n",
        "df.query('Model == \"range_rover\"')"
      ]
    },
    {
      "cell_type": "markdown",
      "metadata": {
        "id": "h8IoO9hIsVPq"
      },
      "source": [
        "Столбцы DateCrawled, DateCreated, LastSeen, PostalCode не несут значимую для обучения моделей информацию, поэтому удалим их."
      ]
    },
    {
      "cell_type": "code",
      "execution_count": null,
      "metadata": {
        "colab": {
          "base_uri": "https://localhost:8080/",
          "height": 206
        },
        "id": "dgBolo_8sVPq",
        "outputId": "81e23497-a439-4385-bde1-1186b98add14",
        "scrolled": false
      },
      "outputs": [
        {
          "data": {
            "text/html": [
              "<div>\n",
              "<style scoped>\n",
              "    .dataframe tbody tr th:only-of-type {\n",
              "        vertical-align: middle;\n",
              "    }\n",
              "\n",
              "    .dataframe tbody tr th {\n",
              "        vertical-align: top;\n",
              "    }\n",
              "\n",
              "    .dataframe thead th {\n",
              "        text-align: right;\n",
              "    }\n",
              "</style>\n",
              "<table border=\"1\" class=\"dataframe\">\n",
              "  <thead>\n",
              "    <tr style=\"text-align: right;\">\n",
              "      <th></th>\n",
              "      <th>Price</th>\n",
              "      <th>VehicleType</th>\n",
              "      <th>RegistrationYear</th>\n",
              "      <th>Gearbox</th>\n",
              "      <th>Power</th>\n",
              "      <th>Model</th>\n",
              "      <th>Kilometer</th>\n",
              "      <th>RegistrationMonth</th>\n",
              "      <th>FuelType</th>\n",
              "      <th>Brand</th>\n",
              "      <th>Repaired</th>\n",
              "    </tr>\n",
              "  </thead>\n",
              "  <tbody>\n",
              "    <tr>\n",
              "      <th>0</th>\n",
              "      <td>480</td>\n",
              "      <td>NaN</td>\n",
              "      <td>1993</td>\n",
              "      <td>manual</td>\n",
              "      <td>0</td>\n",
              "      <td>golf</td>\n",
              "      <td>150000</td>\n",
              "      <td>0</td>\n",
              "      <td>petrol</td>\n",
              "      <td>volkswagen</td>\n",
              "      <td>NaN</td>\n",
              "    </tr>\n",
              "    <tr>\n",
              "      <th>1</th>\n",
              "      <td>18300</td>\n",
              "      <td>coupe</td>\n",
              "      <td>2011</td>\n",
              "      <td>manual</td>\n",
              "      <td>190</td>\n",
              "      <td>NaN</td>\n",
              "      <td>125000</td>\n",
              "      <td>5</td>\n",
              "      <td>gasoline</td>\n",
              "      <td>audi</td>\n",
              "      <td>yes</td>\n",
              "    </tr>\n",
              "    <tr>\n",
              "      <th>2</th>\n",
              "      <td>9800</td>\n",
              "      <td>suv</td>\n",
              "      <td>2004</td>\n",
              "      <td>auto</td>\n",
              "      <td>163</td>\n",
              "      <td>grand</td>\n",
              "      <td>125000</td>\n",
              "      <td>8</td>\n",
              "      <td>gasoline</td>\n",
              "      <td>jeep</td>\n",
              "      <td>NaN</td>\n",
              "    </tr>\n",
              "    <tr>\n",
              "      <th>3</th>\n",
              "      <td>1500</td>\n",
              "      <td>small</td>\n",
              "      <td>2001</td>\n",
              "      <td>manual</td>\n",
              "      <td>75</td>\n",
              "      <td>golf</td>\n",
              "      <td>150000</td>\n",
              "      <td>6</td>\n",
              "      <td>petrol</td>\n",
              "      <td>volkswagen</td>\n",
              "      <td>no</td>\n",
              "    </tr>\n",
              "    <tr>\n",
              "      <th>4</th>\n",
              "      <td>3600</td>\n",
              "      <td>small</td>\n",
              "      <td>2008</td>\n",
              "      <td>manual</td>\n",
              "      <td>69</td>\n",
              "      <td>fabia</td>\n",
              "      <td>90000</td>\n",
              "      <td>7</td>\n",
              "      <td>gasoline</td>\n",
              "      <td>skoda</td>\n",
              "      <td>no</td>\n",
              "    </tr>\n",
              "  </tbody>\n",
              "</table>\n",
              "</div>"
            ],
            "text/plain": [
              "   Price VehicleType  RegistrationYear Gearbox  Power  Model  Kilometer  \\\n",
              "0    480         NaN              1993  manual      0   golf     150000   \n",
              "1  18300       coupe              2011  manual    190    NaN     125000   \n",
              "2   9800         suv              2004    auto    163  grand     125000   \n",
              "3   1500       small              2001  manual     75   golf     150000   \n",
              "4   3600       small              2008  manual     69  fabia      90000   \n",
              "\n",
              "   RegistrationMonth  FuelType       Brand Repaired  \n",
              "0                  0    petrol  volkswagen      NaN  \n",
              "1                  5  gasoline        audi      yes  \n",
              "2                  8  gasoline        jeep      NaN  \n",
              "3                  6    petrol  volkswagen       no  \n",
              "4                  7  gasoline       skoda       no  "
            ]
          },
          "execution_count": 9,
          "metadata": {},
          "output_type": "execute_result"
        }
      ],
      "source": [
        "df = df.drop(['NumberOfPictures','DateCrawled','DateCreated','LastSeen','PostalCode'],axis=1)\n",
        "df.head()"
      ]
    },
    {
      "cell_type": "markdown",
      "metadata": {
        "id": "Xw8b3x_csVPs"
      },
      "source": [
        "Посмотрим основные статистические характеристики данных по каждому числовому признаку."
      ]
    },
    {
      "cell_type": "code",
      "execution_count": null,
      "metadata": {
        "colab": {
          "base_uri": "https://localhost:8080/",
          "height": 300
        },
        "id": "_pmgvT9esVPu",
        "outputId": "4bc9a3ab-ac65-42ba-f0ca-1d5dff599c05",
        "scrolled": false
      },
      "outputs": [
        {
          "data": {
            "text/html": [
              "<div>\n",
              "<style scoped>\n",
              "    .dataframe tbody tr th:only-of-type {\n",
              "        vertical-align: middle;\n",
              "    }\n",
              "\n",
              "    .dataframe tbody tr th {\n",
              "        vertical-align: top;\n",
              "    }\n",
              "\n",
              "    .dataframe thead th {\n",
              "        text-align: right;\n",
              "    }\n",
              "</style>\n",
              "<table border=\"1\" class=\"dataframe\">\n",
              "  <thead>\n",
              "    <tr style=\"text-align: right;\">\n",
              "      <th></th>\n",
              "      <th>Price</th>\n",
              "      <th>RegistrationYear</th>\n",
              "      <th>Power</th>\n",
              "      <th>Kilometer</th>\n",
              "      <th>RegistrationMonth</th>\n",
              "    </tr>\n",
              "  </thead>\n",
              "  <tbody>\n",
              "    <tr>\n",
              "      <th>count</th>\n",
              "      <td>354365.000000</td>\n",
              "      <td>354365.000000</td>\n",
              "      <td>354365.000000</td>\n",
              "      <td>354365.000000</td>\n",
              "      <td>354365.000000</td>\n",
              "    </tr>\n",
              "    <tr>\n",
              "      <th>mean</th>\n",
              "      <td>4416.679830</td>\n",
              "      <td>2004.234481</td>\n",
              "      <td>110.093816</td>\n",
              "      <td>128211.363989</td>\n",
              "      <td>5.714650</td>\n",
              "    </tr>\n",
              "    <tr>\n",
              "      <th>std</th>\n",
              "      <td>4514.176349</td>\n",
              "      <td>90.228466</td>\n",
              "      <td>189.851330</td>\n",
              "      <td>37905.083858</td>\n",
              "      <td>3.726432</td>\n",
              "    </tr>\n",
              "    <tr>\n",
              "      <th>min</th>\n",
              "      <td>0.000000</td>\n",
              "      <td>1000.000000</td>\n",
              "      <td>0.000000</td>\n",
              "      <td>5000.000000</td>\n",
              "      <td>0.000000</td>\n",
              "    </tr>\n",
              "    <tr>\n",
              "      <th>25%</th>\n",
              "      <td>1050.000000</td>\n",
              "      <td>1999.000000</td>\n",
              "      <td>69.000000</td>\n",
              "      <td>125000.000000</td>\n",
              "      <td>3.000000</td>\n",
              "    </tr>\n",
              "    <tr>\n",
              "      <th>50%</th>\n",
              "      <td>2700.000000</td>\n",
              "      <td>2003.000000</td>\n",
              "      <td>105.000000</td>\n",
              "      <td>150000.000000</td>\n",
              "      <td>6.000000</td>\n",
              "    </tr>\n",
              "    <tr>\n",
              "      <th>75%</th>\n",
              "      <td>6400.000000</td>\n",
              "      <td>2008.000000</td>\n",
              "      <td>143.000000</td>\n",
              "      <td>150000.000000</td>\n",
              "      <td>9.000000</td>\n",
              "    </tr>\n",
              "    <tr>\n",
              "      <th>max</th>\n",
              "      <td>20000.000000</td>\n",
              "      <td>9999.000000</td>\n",
              "      <td>20000.000000</td>\n",
              "      <td>150000.000000</td>\n",
              "      <td>12.000000</td>\n",
              "    </tr>\n",
              "  </tbody>\n",
              "</table>\n",
              "</div>"
            ],
            "text/plain": [
              "               Price  RegistrationYear          Power      Kilometer  \\\n",
              "count  354365.000000     354365.000000  354365.000000  354365.000000   \n",
              "mean     4416.679830       2004.234481     110.093816  128211.363989   \n",
              "std      4514.176349         90.228466     189.851330   37905.083858   \n",
              "min         0.000000       1000.000000       0.000000    5000.000000   \n",
              "25%      1050.000000       1999.000000      69.000000  125000.000000   \n",
              "50%      2700.000000       2003.000000     105.000000  150000.000000   \n",
              "75%      6400.000000       2008.000000     143.000000  150000.000000   \n",
              "max     20000.000000       9999.000000   20000.000000  150000.000000   \n",
              "\n",
              "       RegistrationMonth  \n",
              "count      354365.000000  \n",
              "mean            5.714650  \n",
              "std             3.726432  \n",
              "min             0.000000  \n",
              "25%             3.000000  \n",
              "50%             6.000000  \n",
              "75%             9.000000  \n",
              "max            12.000000  "
            ]
          },
          "execution_count": 10,
          "metadata": {},
          "output_type": "execute_result"
        }
      ],
      "source": [
        "df.describe()"
      ]
    },
    {
      "cell_type": "markdown",
      "metadata": {
        "id": "Lwyer4x7sVPw"
      },
      "source": [
        "- Средняя стоимость автомобиля 2700 евро. Минимальная цена авто - 0 евро. Возможно, автомобиль отдают бесплатно. Оставим эти данные без изменения.\n",
        "- Минимальный год регистриции автомобиля 1000, максимальный - 9999. Такого быть не может. Далее заполним выбросы единой заглушкой.\n",
        "- Максимальное значение мощности автомобиля - 20 000 л.с, минимально - 0. Такого тоже быть не может. Далее заполним выбросы медианами.\n",
        "- Больше половины автомобилей имеют максимальный пробег. Возможно, это ограничение системы.\n",
        "- Месяц регистрации автомобиля варьируется от 0 до 12. Возможно, 0 это ошибка в данных. "
      ]
    },
    {
      "cell_type": "markdown",
      "metadata": {
        "id": "b1MUoabksVPx"
      },
      "source": [
        "Посмотрим характеристики по категориальным признакам."
      ]
    },
    {
      "cell_type": "code",
      "execution_count": null,
      "metadata": {
        "colab": {
          "base_uri": "https://localhost:8080/",
          "height": 175
        },
        "id": "uiDVayB-sVPx",
        "outputId": "594bfcd8-68c0-4e19-ec40-61dce41ab13c"
      },
      "outputs": [
        {
          "data": {
            "text/html": [
              "<div>\n",
              "<style scoped>\n",
              "    .dataframe tbody tr th:only-of-type {\n",
              "        vertical-align: middle;\n",
              "    }\n",
              "\n",
              "    .dataframe tbody tr th {\n",
              "        vertical-align: top;\n",
              "    }\n",
              "\n",
              "    .dataframe thead th {\n",
              "        text-align: right;\n",
              "    }\n",
              "</style>\n",
              "<table border=\"1\" class=\"dataframe\">\n",
              "  <thead>\n",
              "    <tr style=\"text-align: right;\">\n",
              "      <th></th>\n",
              "      <th>VehicleType</th>\n",
              "      <th>Gearbox</th>\n",
              "      <th>Model</th>\n",
              "      <th>FuelType</th>\n",
              "      <th>Brand</th>\n",
              "      <th>Repaired</th>\n",
              "    </tr>\n",
              "  </thead>\n",
              "  <tbody>\n",
              "    <tr>\n",
              "      <th>count</th>\n",
              "      <td>316875</td>\n",
              "      <td>334532</td>\n",
              "      <td>334660</td>\n",
              "      <td>321470</td>\n",
              "      <td>354365</td>\n",
              "      <td>283211</td>\n",
              "    </tr>\n",
              "    <tr>\n",
              "      <th>unique</th>\n",
              "      <td>8</td>\n",
              "      <td>2</td>\n",
              "      <td>249</td>\n",
              "      <td>7</td>\n",
              "      <td>40</td>\n",
              "      <td>2</td>\n",
              "    </tr>\n",
              "    <tr>\n",
              "      <th>top</th>\n",
              "      <td>sedan</td>\n",
              "      <td>manual</td>\n",
              "      <td>golf</td>\n",
              "      <td>petrol</td>\n",
              "      <td>volkswagen</td>\n",
              "      <td>no</td>\n",
              "    </tr>\n",
              "    <tr>\n",
              "      <th>freq</th>\n",
              "      <td>91457</td>\n",
              "      <td>268249</td>\n",
              "      <td>29232</td>\n",
              "      <td>216349</td>\n",
              "      <td>77012</td>\n",
              "      <td>247158</td>\n",
              "    </tr>\n",
              "  </tbody>\n",
              "</table>\n",
              "</div>"
            ],
            "text/plain": [
              "       VehicleType Gearbox   Model FuelType       Brand Repaired\n",
              "count       316875  334532  334660   321470      354365   283211\n",
              "unique           8       2     249        7          40        2\n",
              "top          sedan  manual    golf   petrol  volkswagen       no\n",
              "freq         91457  268249   29232   216349       77012   247158"
            ]
          },
          "execution_count": 11,
          "metadata": {},
          "output_type": "execute_result"
        }
      ],
      "source": [
        "df.describe(include=['object', 'bool'])"
      ]
    },
    {
      "cell_type": "markdown",
      "metadata": {
        "id": "PClBdy6gsVPy"
      },
      "source": [
        "- 8 типов автомобильного кузова, чаще всего встречается седан.\n",
        "- 2 типа коробки передач, чаще встречаются автомобили с ручной коробкой передач.\n",
        "- 250 уникальных моделей автомобилей. Самый популярный golf. \n",
        "- 7 видов топлива, чаще встречаются автомобили на бензине.\n",
        "- 40 марок автомобилей. Самый популярный бренд Volkswagen.\n",
        "- большинство автомобилей не были в ремонте, но в столбце очень много пропусков."
      ]
    },
    {
      "cell_type": "code",
      "execution_count": null,
      "metadata": {
        "colab": {
          "base_uri": "https://localhost:8080/"
        },
        "id": "I-kxcEJCsVPz",
        "outputId": "a6caec0a-9e8b-4553-efbd-6a49be16dd98"
      },
      "outputs": [
        {
          "name": "stdout",
          "output_type": "stream",
          "text": [
            "<class 'pandas.core.frame.DataFrame'>\n",
            "Int64Index: 354365 entries, 0 to 354368\n",
            "Data columns (total 11 columns):\n",
            " #   Column             Non-Null Count   Dtype \n",
            "---  ------             --------------   ----- \n",
            " 0   Price              354365 non-null  int64 \n",
            " 1   VehicleType        316875 non-null  object\n",
            " 2   RegistrationYear   354365 non-null  int64 \n",
            " 3   Gearbox            334532 non-null  object\n",
            " 4   Power              354365 non-null  int64 \n",
            " 5   Model              334660 non-null  object\n",
            " 6   Kilometer          354365 non-null  int64 \n",
            " 7   RegistrationMonth  354365 non-null  int64 \n",
            " 8   FuelType           321470 non-null  object\n",
            " 9   Brand              354365 non-null  object\n",
            " 10  Repaired           283211 non-null  object\n",
            "dtypes: int64(5), object(6)\n",
            "memory usage: 32.4+ MB\n"
          ]
        }
      ],
      "source": [
        "df.info()"
      ]
    },
    {
      "cell_type": "markdown",
      "metadata": {
        "id": "a2b44TU1sVP0"
      },
      "source": [
        "#### Выводы\n",
        "Первоначально датафрейм состоял 16 столбцов и 354369 строк. \n",
        "В процессе предобработки удалили дубликаты и столбцы, несущественные для последующего обучения. В результате осталось 11 столбцов и 354368 строк. <br/>\n",
        "В датафрейме довольно много пропусков и нереалистичных данных. Перед обучением необходимо с ними поработать."
      ]
    },
    {
      "cell_type": "markdown",
      "metadata": {
        "id": "1gjNHJs3sVP1"
      },
      "source": [
        "### Заполнение пропусков, исправление выбросов."
      ]
    },
    {
      "cell_type": "markdown",
      "metadata": {
        "id": "ZDWKb2JCsVP2"
      },
      "source": [
        "Перед обучением модели более подробно изучим данные, а также заполним пропуски и исправим выбросы."
      ]
    },
    {
      "cell_type": "code",
      "execution_count": null,
      "metadata": {
        "colab": {
          "base_uri": "https://localhost:8080/"
        },
        "id": "dx6gK7qlsVP3",
        "outputId": "e41c7462-445a-421e-d0c1-1f0e5f527202",
        "scrolled": true
      },
      "outputs": [
        {
          "data": {
            "text/plain": [
              "Price                 0.00\n",
              "VehicleType          10.58\n",
              "RegistrationYear      0.00\n",
              "Gearbox               5.60\n",
              "Power                 0.00\n",
              "Model                 5.56\n",
              "Kilometer             0.00\n",
              "RegistrationMonth     0.00\n",
              "FuelType              9.28\n",
              "Brand                 0.00\n",
              "Repaired             20.08\n",
              "dtype: float64"
            ]
          },
          "execution_count": 13,
          "metadata": {},
          "output_type": "execute_result"
        }
      ],
      "source": [
        "(df.isna().sum() / df.shape[0] * 100).round(2)"
      ]
    },
    {
      "cell_type": "markdown",
      "metadata": {
        "id": "gjvmJjOmsVP4"
      },
      "source": [
        "Самое большое количество пропусков в столбце \"Ремонт авто\" - 20%. В столбце \"Тип кузова\" и \"Тип топлива\" пропусков почти 10%. "
      ]
    },
    {
      "cell_type": "markdown",
      "metadata": {
        "id": "5ZNv0CvHsVP5"
      },
      "source": [
        "<b>Категориальные признаки</b>"
      ]
    },
    {
      "cell_type": "code",
      "execution_count": null,
      "metadata": {
        "colab": {
          "base_uri": "https://localhost:8080/"
        },
        "id": "0SaIZwLtsVP6",
        "outputId": "1ebe9eac-f206-459a-a1e7-ad88b0898114"
      },
      "outputs": [
        {
          "data": {
            "text/plain": [
              "golf     29232\n",
              "other    24420\n",
              "3er      19761\n",
              "polo     13066\n",
              "corsa    12570\n",
              "Name: Model, dtype: int64"
            ]
          },
          "execution_count": 14,
          "metadata": {},
          "output_type": "execute_result"
        }
      ],
      "source": [
        "df['Model'].value_counts().head()"
      ]
    },
    {
      "cell_type": "markdown",
      "metadata": {
        "id": "PAhHBlvQsVP9"
      },
      "source": [
        "Other вторая по популярности категория в столбце Модель автомобиля. Заполним пропуски этой же категорией. "
      ]
    },
    {
      "cell_type": "code",
      "execution_count": null,
      "metadata": {
        "id": "tFt6UHepsVP_"
      },
      "outputs": [],
      "source": [
        "df['Model'] = df['Model'].fillna('other')"
      ]
    },
    {
      "cell_type": "markdown",
      "metadata": {
        "id": "NDcHTPtRsVQA"
      },
      "source": [
        "Заполним пропуски в столбцах Коробка передач, тип топлива, ремонт автомобиля значением unknown."
      ]
    },
    {
      "cell_type": "code",
      "execution_count": null,
      "metadata": {
        "id": "Ab3AupFYsVQB"
      },
      "outputs": [],
      "source": [
        "df['Gearbox'] = df['Gearbox'].fillna('unknown')\n",
        "df['FuelType'] = df['FuelType'].fillna('unknown')\n",
        "df['Repaired'] = df['Repaired'].fillna('unknown')"
      ]
    },
    {
      "cell_type": "code",
      "execution_count": null,
      "metadata": {
        "id": "125PVvh8sVQC",
        "scrolled": true
      },
      "outputs": [],
      "source": [
        "df['VehicleType'] = df['VehicleType'].fillna('unknown')"
      ]
    },
    {
      "cell_type": "code",
      "execution_count": null,
      "metadata": {
        "colab": {
          "base_uri": "https://localhost:8080/"
        },
        "id": "-03loG89sVQD",
        "outputId": "703db7c8-7f49-4a1c-9767-d6d8fd85aaeb"
      },
      "outputs": [
        {
          "data": {
            "text/plain": [
              "Price                0\n",
              "VehicleType          0\n",
              "RegistrationYear     0\n",
              "Gearbox              0\n",
              "Power                0\n",
              "Model                0\n",
              "Kilometer            0\n",
              "RegistrationMonth    0\n",
              "FuelType             0\n",
              "Brand                0\n",
              "Repaired             0\n",
              "dtype: int64"
            ]
          },
          "execution_count": 18,
          "metadata": {},
          "output_type": "execute_result"
        }
      ],
      "source": [
        "df.isna().sum()"
      ]
    },
    {
      "cell_type": "markdown",
      "metadata": {
        "id": "9RRGjmAgsVQE"
      },
      "source": [
        "<b>Количественные признаки</b>"
      ]
    },
    {
      "cell_type": "code",
      "execution_count": null,
      "metadata": {
        "colab": {
          "base_uri": "https://localhost:8080/"
        },
        "id": "1tqh5JYnsVQF",
        "outputId": "ce42507f-b0e5-4097-9a17-7ab99979c63e",
        "scrolled": false
      },
      "outputs": [
        {
          "data": {
            "text/plain": [
              "count    354365.000000\n",
              "mean        110.093816\n",
              "std         189.851330\n",
              "min           0.000000\n",
              "0%            0.000000\n",
              "3%            0.000000\n",
              "6%            0.000000\n",
              "9%            0.000000\n",
              "12%          43.000000\n",
              "15%          54.000000\n",
              "18%          60.000000\n",
              "21%          60.000000\n",
              "24%          66.000000\n",
              "27%          73.000000\n",
              "30%          75.000000\n",
              "33.0%        75.000000\n",
              "36%          82.000000\n",
              "39%          90.000000\n",
              "42%          94.000000\n",
              "45.0%       101.000000\n",
              "48%         102.000000\n",
              "50%         105.000000\n",
              "51%         105.000000\n",
              "54%         109.000000\n",
              "57.0%       115.000000\n",
              "60%         116.000000\n",
              "63%         122.000000\n",
              "66.0%       125.000000\n",
              "69%         135.000000\n",
              "72%         140.000000\n",
              "75%         143.000000\n",
              "78%         150.000000\n",
              "81%         150.000000\n",
              "84%         163.000000\n",
              "87%         170.000000\n",
              "90.0%       179.000000\n",
              "93%         200.000000\n",
              "96%         224.000000\n",
              "99%         300.000000\n",
              "max       20000.000000\n",
              "Name: Power, dtype: float64"
            ]
          },
          "execution_count": 19,
          "metadata": {},
          "output_type": "execute_result"
        }
      ],
      "source": [
        "perc = np.arange(0,1,0.03)\n",
        "df['Power'].describe(percentiles = perc)"
      ]
    },
    {
      "cell_type": "markdown",
      "metadata": {
        "id": "fhC18vEzsVQG"
      },
      "source": [
        "Как мы видим 99% автомобилей имеют мощность до 300 л.с. Заменим наши верхние и нижние выбросы медианными значениями по модели автомобиля."
      ]
    },
    {
      "cell_type": "code",
      "execution_count": null,
      "metadata": {
        "colab": {
          "base_uri": "https://localhost:8080/"
        },
        "id": "2Pmyy_50sVQI",
        "outputId": "66edd02e-dd93-491c-ba9a-933e0916c579"
      },
      "outputs": [
        {
          "data": {
            "text/plain": [
              "43730"
            ]
          },
          "execution_count": 20,
          "metadata": {},
          "output_type": "execute_result"
        }
      ],
      "source": [
        "len(df.query('Power == 0 or Power > 300'))"
      ]
    },
    {
      "cell_type": "code",
      "execution_count": null,
      "metadata": {
        "colab": {
          "base_uri": "https://localhost:8080/"
        },
        "id": "7Ds2MWMGsVQK",
        "outputId": "50db118d-0a5f-4517-9cc1-3b5822558a32",
        "scrolled": true
      },
      "outputs": [
        {
          "data": {
            "text/plain": [
              "count    354365.000000\n",
              "mean        116.766226\n",
              "std          48.652873\n",
              "min           0.000000\n",
              "25%          75.000000\n",
              "50%         107.000000\n",
              "75%         143.000000\n",
              "max         343.000000\n",
              "Name: Power, dtype: float64"
            ]
          },
          "execution_count": 21,
          "metadata": {},
          "output_type": "execute_result"
        }
      ],
      "source": [
        "medians = df.groupby('Model')['Power'].transform('median')\n",
        "df.loc[df['Power'] == 0, 'Power'] = medians\n",
        "df.loc[df['Power'] > 300, 'Power'] = medians\n",
        "df['Power'].describe()"
      ]
    },
    {
      "cell_type": "code",
      "execution_count": null,
      "metadata": {
        "colab": {
          "base_uri": "https://localhost:8080/"
        },
        "id": "zWiCuLYxsVQL",
        "outputId": "052e9174-d3ca-4cec-c17e-c06b790a335f",
        "scrolled": true
      },
      "outputs": [
        {
          "data": {
            "text/plain": [
              "10"
            ]
          },
          "execution_count": 22,
          "metadata": {},
          "output_type": "execute_result"
        }
      ],
      "source": [
        "len(df.query('Power == 0'))"
      ]
    },
    {
      "cell_type": "markdown",
      "metadata": {
        "id": "9n3g1rFtsVQM"
      },
      "source": [
        "После заполнения с нулевыми значениями осталось 10 строк. Оставим их без измениния."
      ]
    },
    {
      "cell_type": "markdown",
      "metadata": {
        "id": "_kQl98EEsVQM"
      },
      "source": [
        "<b>RegistrationYear</b>"
      ]
    },
    {
      "cell_type": "code",
      "execution_count": null,
      "metadata": {
        "colab": {
          "base_uri": "https://localhost:8080/"
        },
        "id": "tbDyDkMcsVQY",
        "outputId": "4f58db2c-f78f-4bea-f530-b75771ca4e97"
      },
      "outputs": [
        {
          "data": {
            "text/plain": [
              "count    354365.000000\n",
              "mean       2004.234481\n",
              "std          90.228466\n",
              "min        1000.000000\n",
              "0%         1000.000000\n",
              "3%         1990.000000\n",
              "6%         1993.000000\n",
              "9%         1995.000000\n",
              "12%        1996.000000\n",
              "15%        1997.000000\n",
              "18%        1998.000000\n",
              "21%        1998.000000\n",
              "24%        1999.000000\n",
              "27%        1999.000000\n",
              "30%        2000.000000\n",
              "33.0%      2000.000000\n",
              "36%        2001.000000\n",
              "39%        2001.000000\n",
              "42%        2002.000000\n",
              "45.0%      2002.000000\n",
              "48%        2003.000000\n",
              "50%        2003.000000\n",
              "51%        2003.000000\n",
              "54%        2004.000000\n",
              "57.0%      2004.000000\n",
              "60%        2005.000000\n",
              "63%        2005.000000\n",
              "66.0%      2006.000000\n",
              "69%        2006.000000\n",
              "72%        2007.000000\n",
              "75%        2008.000000\n",
              "78%        2008.000000\n",
              "81%        2009.000000\n",
              "84%        2010.000000\n",
              "87%        2011.000000\n",
              "90.0%      2012.000000\n",
              "93%        2015.000000\n",
              "96%        2017.000000\n",
              "99%        2018.000000\n",
              "max        9999.000000\n",
              "Name: RegistrationYear, dtype: float64"
            ]
          },
          "execution_count": 23,
          "metadata": {},
          "output_type": "execute_result"
        }
      ],
      "source": [
        "perc = np.arange(0,1,0.03)\n",
        "df['RegistrationYear'].describe(percentiles = perc)"
      ]
    },
    {
      "cell_type": "markdown",
      "metadata": {
        "id": "FXlwTGknsVQZ"
      },
      "source": [
        "Большинство данных по году регистрации автомобиля входят норму. Выбросов не более 3-4%. Чтобы не удалять эти строки, заполним выброс заглужкой -1. Ограничим год регистрации 1930 - 2016"
      ]
    },
    {
      "cell_type": "code",
      "execution_count": null,
      "metadata": {
        "colab": {
          "base_uri": "https://localhost:8080/"
        },
        "id": "4p803sCCsVQa",
        "outputId": "ab33d3bd-ba0e-4f4d-adab-f22c3d68d8d4"
      },
      "outputs": [
        {
          "data": {
            "text/plain": [
              "count    354365.000000\n",
              "mean       1919.328808\n",
              "std         399.734463\n",
              "min          -1.000000\n",
              "25%        1998.000000\n",
              "50%        2002.000000\n",
              "75%        2007.000000\n",
              "max        2016.000000\n",
              "Name: RegistrationYear, dtype: float64"
            ]
          },
          "execution_count": 24,
          "metadata": {},
          "output_type": "execute_result"
        }
      ],
      "source": [
        "df.loc[df['RegistrationYear'] < 1930 , 'RegistrationYear'] = -1\n",
        "df.loc[df['RegistrationYear'] > 2016, 'RegistrationYear'] = -1\n",
        "df['RegistrationYear'].describe()"
      ]
    },
    {
      "cell_type": "code",
      "execution_count": null,
      "metadata": {
        "colab": {
          "base_uri": "https://localhost:8080/"
        },
        "id": "EVeke1KRsmep",
        "outputId": "7414740f-a0ee-429c-9932-a56bb562e0cf"
      },
      "outputs": [
        {
          "data": {
            "text/plain": [
              "Price                0\n",
              "VehicleType          0\n",
              "RegistrationYear     0\n",
              "Gearbox              0\n",
              "Power                0\n",
              "Model                0\n",
              "Kilometer            0\n",
              "RegistrationMonth    0\n",
              "FuelType             0\n",
              "Brand                0\n",
              "Repaired             0\n",
              "dtype: int64"
            ]
          },
          "execution_count": 25,
          "metadata": {},
          "output_type": "execute_result"
        }
      ],
      "source": [
        "df.isna().sum()"
      ]
    },
    {
      "cell_type": "markdown",
      "metadata": {
        "id": "nPqX_CtSsVQa"
      },
      "source": [
        "#### Выводы\n",
        "В процессе работы с пропусками и выбросами получили следущие результаты:\n",
        " - В столбце Модель автомобиля все пропуски заполнили категорией other.\n",
        " - Пропуски в столбцах Коробка передач, Тип топлива, Ремонтировался ли автомобиль заполнили значением unknown.\n",
        " - Нереалистичные данные в столбце Мощность автомобиля заполнили медианными значениями по моделям автомобиля.\n",
        " - Чтобы не терять данные, нереалистичные показатели в столбце Год регистрации автомобиля заполнили заглушкой -1.\n",
        "Остальные данные сохранили в первоначальном виде."
      ]
    },
    {
      "cell_type": "code",
      "execution_count": null,
      "metadata": {
        "colab": {
          "base_uri": "https://localhost:8080/",
          "height": 49
        },
        "id": "Av-UWD48sFK7",
        "outputId": "fcf8404e-5e58-46f7-ef85-e8aac82e1a62"
      },
      "outputs": [
        {
          "data": {
            "text/html": [
              "<div>\n",
              "<style scoped>\n",
              "    .dataframe tbody tr th:only-of-type {\n",
              "        vertical-align: middle;\n",
              "    }\n",
              "\n",
              "    .dataframe tbody tr th {\n",
              "        vertical-align: top;\n",
              "    }\n",
              "\n",
              "    .dataframe thead th {\n",
              "        text-align: right;\n",
              "    }\n",
              "</style>\n",
              "<table border=\"1\" class=\"dataframe\">\n",
              "  <thead>\n",
              "    <tr style=\"text-align: right;\">\n",
              "      <th></th>\n",
              "      <th>Price</th>\n",
              "      <th>VehicleType</th>\n",
              "      <th>RegistrationYear</th>\n",
              "      <th>Gearbox</th>\n",
              "      <th>Power</th>\n",
              "      <th>Model</th>\n",
              "      <th>Kilometer</th>\n",
              "      <th>RegistrationMonth</th>\n",
              "      <th>FuelType</th>\n",
              "      <th>Brand</th>\n",
              "      <th>Repaired</th>\n",
              "    </tr>\n",
              "  </thead>\n",
              "  <tbody>\n",
              "  </tbody>\n",
              "</table>\n",
              "</div>"
            ],
            "text/plain": [
              "Empty DataFrame\n",
              "Columns: [Price, VehicleType, RegistrationYear, Gearbox, Power, Model, Kilometer, RegistrationMonth, FuelType, Brand, Repaired]\n",
              "Index: []"
            ]
          },
          "execution_count": 26,
          "metadata": {},
          "output_type": "execute_result"
        }
      ],
      "source": [
        "df = df.loc[df['Price'] > 0]\n",
        "df[df['Price'] == 0]"
      ]
    },
    {
      "cell_type": "markdown",
      "metadata": {
        "id": "gzlXPJ6-sVQb"
      },
      "source": [
        "## Обучение моделей"
      ]
    },
    {
      "cell_type": "markdown",
      "metadata": {
        "id": "N4xOdI2YsVQc"
      },
      "source": [
        "### Подготовка данных к обучению."
      ]
    },
    {
      "cell_type": "markdown",
      "metadata": {
        "id": "2ceR55cisVQc"
      },
      "source": [
        "Для того, чтобы работать с категориальными данными нам необходимо их преобразовать. Для этого воспользуемся техникой Ordinal Encoder. "
      ]
    },
    {
      "cell_type": "code",
      "execution_count": null,
      "metadata": {
        "colab": {
          "base_uri": "https://localhost:8080/",
          "height": 424
        },
        "id": "8td9xThbsFK_",
        "outputId": "e7fed1c4-9484-4e37-98e1-e2ce53320f8c"
      },
      "outputs": [
        {
          "data": {
            "text/html": [
              "<div>\n",
              "<style scoped>\n",
              "    .dataframe tbody tr th:only-of-type {\n",
              "        vertical-align: middle;\n",
              "    }\n",
              "\n",
              "    .dataframe tbody tr th {\n",
              "        vertical-align: top;\n",
              "    }\n",
              "\n",
              "    .dataframe thead th {\n",
              "        text-align: right;\n",
              "    }\n",
              "</style>\n",
              "<table border=\"1\" class=\"dataframe\">\n",
              "  <thead>\n",
              "    <tr style=\"text-align: right;\">\n",
              "      <th></th>\n",
              "      <th>Price</th>\n",
              "      <th>VehicleType</th>\n",
              "      <th>RegistrationYear</th>\n",
              "      <th>Gearbox</th>\n",
              "      <th>Power</th>\n",
              "      <th>Model</th>\n",
              "      <th>Kilometer</th>\n",
              "      <th>RegistrationMonth</th>\n",
              "      <th>FuelType</th>\n",
              "      <th>Brand</th>\n",
              "      <th>Repaired</th>\n",
              "    </tr>\n",
              "  </thead>\n",
              "  <tbody>\n",
              "    <tr>\n",
              "      <th>0</th>\n",
              "      <td>480</td>\n",
              "      <td>7.0</td>\n",
              "      <td>1993</td>\n",
              "      <td>1.0</td>\n",
              "      <td>95.0</td>\n",
              "      <td>116.0</td>\n",
              "      <td>150000</td>\n",
              "      <td>0</td>\n",
              "      <td>6.0</td>\n",
              "      <td>38.0</td>\n",
              "      <td>1.0</td>\n",
              "    </tr>\n",
              "    <tr>\n",
              "      <th>1</th>\n",
              "      <td>18300</td>\n",
              "      <td>2.0</td>\n",
              "      <td>2011</td>\n",
              "      <td>1.0</td>\n",
              "      <td>190.0</td>\n",
              "      <td>166.0</td>\n",
              "      <td>125000</td>\n",
              "      <td>5</td>\n",
              "      <td>2.0</td>\n",
              "      <td>1.0</td>\n",
              "      <td>2.0</td>\n",
              "    </tr>\n",
              "    <tr>\n",
              "      <th>2</th>\n",
              "      <td>9800</td>\n",
              "      <td>6.0</td>\n",
              "      <td>2004</td>\n",
              "      <td>0.0</td>\n",
              "      <td>163.0</td>\n",
              "      <td>117.0</td>\n",
              "      <td>125000</td>\n",
              "      <td>8</td>\n",
              "      <td>2.0</td>\n",
              "      <td>14.0</td>\n",
              "      <td>1.0</td>\n",
              "    </tr>\n",
              "    <tr>\n",
              "      <th>3</th>\n",
              "      <td>1500</td>\n",
              "      <td>5.0</td>\n",
              "      <td>2001</td>\n",
              "      <td>1.0</td>\n",
              "      <td>75.0</td>\n",
              "      <td>116.0</td>\n",
              "      <td>150000</td>\n",
              "      <td>6</td>\n",
              "      <td>6.0</td>\n",
              "      <td>38.0</td>\n",
              "      <td>0.0</td>\n",
              "    </tr>\n",
              "    <tr>\n",
              "      <th>4</th>\n",
              "      <td>3600</td>\n",
              "      <td>5.0</td>\n",
              "      <td>2008</td>\n",
              "      <td>1.0</td>\n",
              "      <td>69.0</td>\n",
              "      <td>101.0</td>\n",
              "      <td>90000</td>\n",
              "      <td>7</td>\n",
              "      <td>2.0</td>\n",
              "      <td>31.0</td>\n",
              "      <td>0.0</td>\n",
              "    </tr>\n",
              "    <tr>\n",
              "      <th>...</th>\n",
              "      <td>...</td>\n",
              "      <td>...</td>\n",
              "      <td>...</td>\n",
              "      <td>...</td>\n",
              "      <td>...</td>\n",
              "      <td>...</td>\n",
              "      <td>...</td>\n",
              "      <td>...</td>\n",
              "      <td>...</td>\n",
              "      <td>...</td>\n",
              "      <td>...</td>\n",
              "    </tr>\n",
              "    <tr>\n",
              "      <th>354363</th>\n",
              "      <td>1150</td>\n",
              "      <td>0.0</td>\n",
              "      <td>2000</td>\n",
              "      <td>1.0</td>\n",
              "      <td>120.0</td>\n",
              "      <td>248.0</td>\n",
              "      <td>150000</td>\n",
              "      <td>3</td>\n",
              "      <td>6.0</td>\n",
              "      <td>24.0</td>\n",
              "      <td>0.0</td>\n",
              "    </tr>\n",
              "    <tr>\n",
              "      <th>354365</th>\n",
              "      <td>2200</td>\n",
              "      <td>7.0</td>\n",
              "      <td>2005</td>\n",
              "      <td>2.0</td>\n",
              "      <td>99.0</td>\n",
              "      <td>166.0</td>\n",
              "      <td>20000</td>\n",
              "      <td>1</td>\n",
              "      <td>7.0</td>\n",
              "      <td>33.0</td>\n",
              "      <td>1.0</td>\n",
              "    </tr>\n",
              "    <tr>\n",
              "      <th>354366</th>\n",
              "      <td>1199</td>\n",
              "      <td>1.0</td>\n",
              "      <td>2000</td>\n",
              "      <td>0.0</td>\n",
              "      <td>101.0</td>\n",
              "      <td>106.0</td>\n",
              "      <td>125000</td>\n",
              "      <td>3</td>\n",
              "      <td>6.0</td>\n",
              "      <td>32.0</td>\n",
              "      <td>0.0</td>\n",
              "    </tr>\n",
              "    <tr>\n",
              "      <th>354367</th>\n",
              "      <td>9200</td>\n",
              "      <td>0.0</td>\n",
              "      <td>1996</td>\n",
              "      <td>1.0</td>\n",
              "      <td>102.0</td>\n",
              "      <td>223.0</td>\n",
              "      <td>150000</td>\n",
              "      <td>3</td>\n",
              "      <td>2.0</td>\n",
              "      <td>38.0</td>\n",
              "      <td>0.0</td>\n",
              "    </tr>\n",
              "    <tr>\n",
              "      <th>354368</th>\n",
              "      <td>3400</td>\n",
              "      <td>8.0</td>\n",
              "      <td>2002</td>\n",
              "      <td>1.0</td>\n",
              "      <td>100.0</td>\n",
              "      <td>116.0</td>\n",
              "      <td>150000</td>\n",
              "      <td>6</td>\n",
              "      <td>2.0</td>\n",
              "      <td>38.0</td>\n",
              "      <td>1.0</td>\n",
              "    </tr>\n",
              "  </tbody>\n",
              "</table>\n",
              "<p>343593 rows × 11 columns</p>\n",
              "</div>"
            ],
            "text/plain": [
              "        Price  VehicleType  RegistrationYear  Gearbox  Power  Model  \\\n",
              "0         480          7.0              1993      1.0   95.0  116.0   \n",
              "1       18300          2.0              2011      1.0  190.0  166.0   \n",
              "2        9800          6.0              2004      0.0  163.0  117.0   \n",
              "3        1500          5.0              2001      1.0   75.0  116.0   \n",
              "4        3600          5.0              2008      1.0   69.0  101.0   \n",
              "...       ...          ...               ...      ...    ...    ...   \n",
              "354363   1150          0.0              2000      1.0  120.0  248.0   \n",
              "354365   2200          7.0              2005      2.0   99.0  166.0   \n",
              "354366   1199          1.0              2000      0.0  101.0  106.0   \n",
              "354367   9200          0.0              1996      1.0  102.0  223.0   \n",
              "354368   3400          8.0              2002      1.0  100.0  116.0   \n",
              "\n",
              "        Kilometer  RegistrationMonth  FuelType  Brand  Repaired  \n",
              "0          150000                  0       6.0   38.0       1.0  \n",
              "1          125000                  5       2.0    1.0       2.0  \n",
              "2          125000                  8       2.0   14.0       1.0  \n",
              "3          150000                  6       6.0   38.0       0.0  \n",
              "4           90000                  7       2.0   31.0       0.0  \n",
              "...           ...                ...       ...    ...       ...  \n",
              "354363     150000                  3       6.0   24.0       0.0  \n",
              "354365      20000                  1       7.0   33.0       1.0  \n",
              "354366     125000                  3       6.0   32.0       0.0  \n",
              "354367     150000                  3       2.0   38.0       0.0  \n",
              "354368     150000                  6       2.0   38.0       1.0  \n",
              "\n",
              "[343593 rows x 11 columns]"
            ]
          },
          "execution_count": 27,
          "metadata": {},
          "output_type": "execute_result"
        }
      ],
      "source": [
        "df_ordinal = df.copy()\n",
        "category = ['VehicleType', 'Gearbox', 'Model', 'FuelType', 'Brand', 'Repaired']\n",
        "encoder = OrdinalEncoder()\n",
        "encoder.fit(df_ordinal[category])\n",
        "df_ordinal[category] = encoder.transform(df_ordinal[category])\n",
        "df_ordinal"
      ]
    },
    {
      "cell_type": "code",
      "execution_count": null,
      "metadata": {
        "colab": {
          "base_uri": "https://localhost:8080/",
          "height": 488
        },
        "id": "pngVqL4xsmfV",
        "outputId": "2598c366-5aeb-4499-fdc9-a95a47692da8"
      },
      "outputs": [
        {
          "data": {
            "text/html": [
              "<div>\n",
              "<style scoped>\n",
              "    .dataframe tbody tr th:only-of-type {\n",
              "        vertical-align: middle;\n",
              "    }\n",
              "\n",
              "    .dataframe tbody tr th {\n",
              "        vertical-align: top;\n",
              "    }\n",
              "\n",
              "    .dataframe thead th {\n",
              "        text-align: right;\n",
              "    }\n",
              "</style>\n",
              "<table border=\"1\" class=\"dataframe\">\n",
              "  <thead>\n",
              "    <tr style=\"text-align: right;\">\n",
              "      <th></th>\n",
              "      <th>Price</th>\n",
              "      <th>RegistrationYear</th>\n",
              "      <th>Power</th>\n",
              "      <th>Kilometer</th>\n",
              "      <th>RegistrationMonth</th>\n",
              "      <th>VehicleType_convertible</th>\n",
              "      <th>VehicleType_coupe</th>\n",
              "      <th>VehicleType_other</th>\n",
              "      <th>VehicleType_sedan</th>\n",
              "      <th>VehicleType_small</th>\n",
              "      <th>...</th>\n",
              "      <th>Brand_smart</th>\n",
              "      <th>Brand_sonstige_autos</th>\n",
              "      <th>Brand_subaru</th>\n",
              "      <th>Brand_suzuki</th>\n",
              "      <th>Brand_toyota</th>\n",
              "      <th>Brand_trabant</th>\n",
              "      <th>Brand_volkswagen</th>\n",
              "      <th>Brand_volvo</th>\n",
              "      <th>Repaired_unknown</th>\n",
              "      <th>Repaired_yes</th>\n",
              "    </tr>\n",
              "  </thead>\n",
              "  <tbody>\n",
              "    <tr>\n",
              "      <th>0</th>\n",
              "      <td>480</td>\n",
              "      <td>1993</td>\n",
              "      <td>95.0</td>\n",
              "      <td>150000</td>\n",
              "      <td>0</td>\n",
              "      <td>0</td>\n",
              "      <td>0</td>\n",
              "      <td>0</td>\n",
              "      <td>0</td>\n",
              "      <td>0</td>\n",
              "      <td>...</td>\n",
              "      <td>0</td>\n",
              "      <td>0</td>\n",
              "      <td>0</td>\n",
              "      <td>0</td>\n",
              "      <td>0</td>\n",
              "      <td>0</td>\n",
              "      <td>1</td>\n",
              "      <td>0</td>\n",
              "      <td>1</td>\n",
              "      <td>0</td>\n",
              "    </tr>\n",
              "    <tr>\n",
              "      <th>1</th>\n",
              "      <td>18300</td>\n",
              "      <td>2011</td>\n",
              "      <td>190.0</td>\n",
              "      <td>125000</td>\n",
              "      <td>5</td>\n",
              "      <td>0</td>\n",
              "      <td>1</td>\n",
              "      <td>0</td>\n",
              "      <td>0</td>\n",
              "      <td>0</td>\n",
              "      <td>...</td>\n",
              "      <td>0</td>\n",
              "      <td>0</td>\n",
              "      <td>0</td>\n",
              "      <td>0</td>\n",
              "      <td>0</td>\n",
              "      <td>0</td>\n",
              "      <td>0</td>\n",
              "      <td>0</td>\n",
              "      <td>0</td>\n",
              "      <td>1</td>\n",
              "    </tr>\n",
              "    <tr>\n",
              "      <th>2</th>\n",
              "      <td>9800</td>\n",
              "      <td>2004</td>\n",
              "      <td>163.0</td>\n",
              "      <td>125000</td>\n",
              "      <td>8</td>\n",
              "      <td>0</td>\n",
              "      <td>0</td>\n",
              "      <td>0</td>\n",
              "      <td>0</td>\n",
              "      <td>0</td>\n",
              "      <td>...</td>\n",
              "      <td>0</td>\n",
              "      <td>0</td>\n",
              "      <td>0</td>\n",
              "      <td>0</td>\n",
              "      <td>0</td>\n",
              "      <td>0</td>\n",
              "      <td>0</td>\n",
              "      <td>0</td>\n",
              "      <td>1</td>\n",
              "      <td>0</td>\n",
              "    </tr>\n",
              "    <tr>\n",
              "      <th>3</th>\n",
              "      <td>1500</td>\n",
              "      <td>2001</td>\n",
              "      <td>75.0</td>\n",
              "      <td>150000</td>\n",
              "      <td>6</td>\n",
              "      <td>0</td>\n",
              "      <td>0</td>\n",
              "      <td>0</td>\n",
              "      <td>0</td>\n",
              "      <td>1</td>\n",
              "      <td>...</td>\n",
              "      <td>0</td>\n",
              "      <td>0</td>\n",
              "      <td>0</td>\n",
              "      <td>0</td>\n",
              "      <td>0</td>\n",
              "      <td>0</td>\n",
              "      <td>1</td>\n",
              "      <td>0</td>\n",
              "      <td>0</td>\n",
              "      <td>0</td>\n",
              "    </tr>\n",
              "    <tr>\n",
              "      <th>4</th>\n",
              "      <td>3600</td>\n",
              "      <td>2008</td>\n",
              "      <td>69.0</td>\n",
              "      <td>90000</td>\n",
              "      <td>7</td>\n",
              "      <td>0</td>\n",
              "      <td>0</td>\n",
              "      <td>0</td>\n",
              "      <td>0</td>\n",
              "      <td>1</td>\n",
              "      <td>...</td>\n",
              "      <td>0</td>\n",
              "      <td>0</td>\n",
              "      <td>0</td>\n",
              "      <td>0</td>\n",
              "      <td>0</td>\n",
              "      <td>0</td>\n",
              "      <td>0</td>\n",
              "      <td>0</td>\n",
              "      <td>0</td>\n",
              "      <td>0</td>\n",
              "    </tr>\n",
              "    <tr>\n",
              "      <th>...</th>\n",
              "      <td>...</td>\n",
              "      <td>...</td>\n",
              "      <td>...</td>\n",
              "      <td>...</td>\n",
              "      <td>...</td>\n",
              "      <td>...</td>\n",
              "      <td>...</td>\n",
              "      <td>...</td>\n",
              "      <td>...</td>\n",
              "      <td>...</td>\n",
              "      <td>...</td>\n",
              "      <td>...</td>\n",
              "      <td>...</td>\n",
              "      <td>...</td>\n",
              "      <td>...</td>\n",
              "      <td>...</td>\n",
              "      <td>...</td>\n",
              "      <td>...</td>\n",
              "      <td>...</td>\n",
              "      <td>...</td>\n",
              "      <td>...</td>\n",
              "    </tr>\n",
              "    <tr>\n",
              "      <th>354363</th>\n",
              "      <td>1150</td>\n",
              "      <td>2000</td>\n",
              "      <td>120.0</td>\n",
              "      <td>150000</td>\n",
              "      <td>3</td>\n",
              "      <td>0</td>\n",
              "      <td>0</td>\n",
              "      <td>0</td>\n",
              "      <td>0</td>\n",
              "      <td>0</td>\n",
              "      <td>...</td>\n",
              "      <td>0</td>\n",
              "      <td>0</td>\n",
              "      <td>0</td>\n",
              "      <td>0</td>\n",
              "      <td>0</td>\n",
              "      <td>0</td>\n",
              "      <td>0</td>\n",
              "      <td>0</td>\n",
              "      <td>0</td>\n",
              "      <td>0</td>\n",
              "    </tr>\n",
              "    <tr>\n",
              "      <th>354365</th>\n",
              "      <td>2200</td>\n",
              "      <td>2005</td>\n",
              "      <td>99.0</td>\n",
              "      <td>20000</td>\n",
              "      <td>1</td>\n",
              "      <td>0</td>\n",
              "      <td>0</td>\n",
              "      <td>0</td>\n",
              "      <td>0</td>\n",
              "      <td>0</td>\n",
              "      <td>...</td>\n",
              "      <td>0</td>\n",
              "      <td>1</td>\n",
              "      <td>0</td>\n",
              "      <td>0</td>\n",
              "      <td>0</td>\n",
              "      <td>0</td>\n",
              "      <td>0</td>\n",
              "      <td>0</td>\n",
              "      <td>1</td>\n",
              "      <td>0</td>\n",
              "    </tr>\n",
              "    <tr>\n",
              "      <th>354366</th>\n",
              "      <td>1199</td>\n",
              "      <td>2000</td>\n",
              "      <td>101.0</td>\n",
              "      <td>125000</td>\n",
              "      <td>3</td>\n",
              "      <td>1</td>\n",
              "      <td>0</td>\n",
              "      <td>0</td>\n",
              "      <td>0</td>\n",
              "      <td>0</td>\n",
              "      <td>...</td>\n",
              "      <td>1</td>\n",
              "      <td>0</td>\n",
              "      <td>0</td>\n",
              "      <td>0</td>\n",
              "      <td>0</td>\n",
              "      <td>0</td>\n",
              "      <td>0</td>\n",
              "      <td>0</td>\n",
              "      <td>0</td>\n",
              "      <td>0</td>\n",
              "    </tr>\n",
              "    <tr>\n",
              "      <th>354367</th>\n",
              "      <td>9200</td>\n",
              "      <td>1996</td>\n",
              "      <td>102.0</td>\n",
              "      <td>150000</td>\n",
              "      <td>3</td>\n",
              "      <td>0</td>\n",
              "      <td>0</td>\n",
              "      <td>0</td>\n",
              "      <td>0</td>\n",
              "      <td>0</td>\n",
              "      <td>...</td>\n",
              "      <td>0</td>\n",
              "      <td>0</td>\n",
              "      <td>0</td>\n",
              "      <td>0</td>\n",
              "      <td>0</td>\n",
              "      <td>0</td>\n",
              "      <td>1</td>\n",
              "      <td>0</td>\n",
              "      <td>0</td>\n",
              "      <td>0</td>\n",
              "    </tr>\n",
              "    <tr>\n",
              "      <th>354368</th>\n",
              "      <td>3400</td>\n",
              "      <td>2002</td>\n",
              "      <td>100.0</td>\n",
              "      <td>150000</td>\n",
              "      <td>6</td>\n",
              "      <td>0</td>\n",
              "      <td>0</td>\n",
              "      <td>0</td>\n",
              "      <td>0</td>\n",
              "      <td>0</td>\n",
              "      <td>...</td>\n",
              "      <td>0</td>\n",
              "      <td>0</td>\n",
              "      <td>0</td>\n",
              "      <td>0</td>\n",
              "      <td>0</td>\n",
              "      <td>0</td>\n",
              "      <td>1</td>\n",
              "      <td>0</td>\n",
              "      <td>1</td>\n",
              "      <td>0</td>\n",
              "    </tr>\n",
              "  </tbody>\n",
              "</table>\n",
              "<p>343593 rows × 311 columns</p>\n",
              "</div>"
            ],
            "text/plain": [
              "        Price  RegistrationYear  Power  Kilometer  RegistrationMonth  \\\n",
              "0         480              1993   95.0     150000                  0   \n",
              "1       18300              2011  190.0     125000                  5   \n",
              "2        9800              2004  163.0     125000                  8   \n",
              "3        1500              2001   75.0     150000                  6   \n",
              "4        3600              2008   69.0      90000                  7   \n",
              "...       ...               ...    ...        ...                ...   \n",
              "354363   1150              2000  120.0     150000                  3   \n",
              "354365   2200              2005   99.0      20000                  1   \n",
              "354366   1199              2000  101.0     125000                  3   \n",
              "354367   9200              1996  102.0     150000                  3   \n",
              "354368   3400              2002  100.0     150000                  6   \n",
              "\n",
              "        VehicleType_convertible  VehicleType_coupe  VehicleType_other  \\\n",
              "0                             0                  0                  0   \n",
              "1                             0                  1                  0   \n",
              "2                             0                  0                  0   \n",
              "3                             0                  0                  0   \n",
              "4                             0                  0                  0   \n",
              "...                         ...                ...                ...   \n",
              "354363                        0                  0                  0   \n",
              "354365                        0                  0                  0   \n",
              "354366                        1                  0                  0   \n",
              "354367                        0                  0                  0   \n",
              "354368                        0                  0                  0   \n",
              "\n",
              "        VehicleType_sedan  VehicleType_small  ...  Brand_smart  \\\n",
              "0                       0                  0  ...            0   \n",
              "1                       0                  0  ...            0   \n",
              "2                       0                  0  ...            0   \n",
              "3                       0                  1  ...            0   \n",
              "4                       0                  1  ...            0   \n",
              "...                   ...                ...  ...          ...   \n",
              "354363                  0                  0  ...            0   \n",
              "354365                  0                  0  ...            0   \n",
              "354366                  0                  0  ...            1   \n",
              "354367                  0                  0  ...            0   \n",
              "354368                  0                  0  ...            0   \n",
              "\n",
              "        Brand_sonstige_autos  Brand_subaru  Brand_suzuki  Brand_toyota  \\\n",
              "0                          0             0             0             0   \n",
              "1                          0             0             0             0   \n",
              "2                          0             0             0             0   \n",
              "3                          0             0             0             0   \n",
              "4                          0             0             0             0   \n",
              "...                      ...           ...           ...           ...   \n",
              "354363                     0             0             0             0   \n",
              "354365                     1             0             0             0   \n",
              "354366                     0             0             0             0   \n",
              "354367                     0             0             0             0   \n",
              "354368                     0             0             0             0   \n",
              "\n",
              "        Brand_trabant  Brand_volkswagen  Brand_volvo  Repaired_unknown  \\\n",
              "0                   0                 1            0                 1   \n",
              "1                   0                 0            0                 0   \n",
              "2                   0                 0            0                 1   \n",
              "3                   0                 1            0                 0   \n",
              "4                   0                 0            0                 0   \n",
              "...               ...               ...          ...               ...   \n",
              "354363              0                 0            0                 0   \n",
              "354365              0                 0            0                 1   \n",
              "354366              0                 0            0                 0   \n",
              "354367              0                 1            0                 0   \n",
              "354368              0                 1            0                 1   \n",
              "\n",
              "        Repaired_yes  \n",
              "0                  0  \n",
              "1                  1  \n",
              "2                  0  \n",
              "3                  0  \n",
              "4                  0  \n",
              "...              ...  \n",
              "354363             0  \n",
              "354365             0  \n",
              "354366             0  \n",
              "354367             0  \n",
              "354368             0  \n",
              "\n",
              "[343593 rows x 311 columns]"
            ]
          },
          "execution_count": 28,
          "metadata": {},
          "output_type": "execute_result"
        }
      ],
      "source": [
        "df_ohe = pd.get_dummies(df, drop_first=True) # Чтобы избежать дамми-ловушки используем аргумент drop_first\n",
        "df_ohe"
      ]
    },
    {
      "cell_type": "markdown",
      "metadata": {
        "id": "PRl0p2sVsVQe"
      },
      "source": [
        "Разобьем данные на 2 выборки: обучающую и тестовую. Качество обучения будем определять при помощи крос-валидации."
      ]
    },
    {
      "cell_type": "code",
      "execution_count": null,
      "metadata": {
        "id": "fspx2gSesVQf"
      },
      "outputs": [],
      "source": [
        "# для начала разобьем выборку на тестовую и остальную часть\n",
        "df_train, df_test = train_test_split(df_ordinal, test_size=0.2, random_state=12345) \n",
        "\n",
        "# разбиваем теперь оставшуюся выборку на тренировочную и валидационную\n",
        "df_train, df_valid = train_test_split(df_train, test_size=0.25, random_state=12345)\n",
        "\n",
        "\n",
        "# Для линейной регрессии подготовим выборки с использованием датасета после прямого кодирования.\n",
        "\n",
        "df_train_lg, df_test_lg = train_test_split(df_ohe, test_size=0.2, random_state=12345) \n",
        "df_train_lg, df_valid_lg = train_test_split(df_train_lg, test_size=0.25, random_state=12345)"
      ]
    },
    {
      "cell_type": "markdown",
      "metadata": {
        "id": "Xk9_ss41sVQh"
      },
      "source": [
        "Создаем признаки и целевой признак."
      ]
    },
    {
      "cell_type": "code",
      "execution_count": null,
      "metadata": {
        "id": "2CIFjwQjsVQh"
      },
      "outputs": [],
      "source": [
        "# признаки для тренировочной выборки\n",
        "features_train = df_train.drop('Price', axis=1) \n",
        "target_train = df_train['Price']\n",
        "\n",
        "# признаки для валидационной выборки. На ней мы будем проверять качество обучения.\n",
        "features_valid = df_valid.drop('Price', axis=1)\n",
        "target_valid = df_valid['Price']\n",
        "\n",
        "# признаки для тестовой выборки. На ней мы проверим результат обучения.\n",
        "features_test = df_test.drop('Price', axis=1)\n",
        "target_test = df_test['Price']\n",
        "\n",
        "\n",
        "# тоже самое сделаем для линейной регрессии.\n",
        "features_train_lg = df_train_lg.drop('Price', axis=1)\n",
        "target_train_lg = df_train_lg['Price']\n",
        "\n",
        "features_valid_lg = df_valid_lg.drop('Price', axis=1)\n",
        "target_valid_lg = df_valid_lg['Price']\n",
        "\n",
        "features_test_lg = df_test_lg.drop('Price', axis=1)\n",
        "target_test_lg = df_test_lg['Price']"
      ]
    },
    {
      "cell_type": "markdown",
      "metadata": {
        "id": "Erdjcc-FsVQj"
      },
      "source": [
        "Масштабируем наши количественные признаки."
      ]
    },
    {
      "cell_type": "code",
      "execution_count": null,
      "metadata": {
        "colab": {
          "base_uri": "https://localhost:8080/",
          "height": 445
        },
        "id": "K-RqipsdsVQj",
        "outputId": "dbd41660-95d5-48ca-8091-d14323f10bd5"
      },
      "outputs": [
        {
          "data": {
            "text/html": [
              "<div>\n",
              "<style scoped>\n",
              "    .dataframe tbody tr th:only-of-type {\n",
              "        vertical-align: middle;\n",
              "    }\n",
              "\n",
              "    .dataframe tbody tr th {\n",
              "        vertical-align: top;\n",
              "    }\n",
              "\n",
              "    .dataframe thead th {\n",
              "        text-align: right;\n",
              "    }\n",
              "</style>\n",
              "<table border=\"1\" class=\"dataframe\">\n",
              "  <thead>\n",
              "    <tr style=\"text-align: right;\">\n",
              "      <th></th>\n",
              "      <th>VehicleType</th>\n",
              "      <th>RegistrationYear</th>\n",
              "      <th>Gearbox</th>\n",
              "      <th>Power</th>\n",
              "      <th>Model</th>\n",
              "      <th>Kilometer</th>\n",
              "      <th>RegistrationMonth</th>\n",
              "      <th>FuelType</th>\n",
              "      <th>Brand</th>\n",
              "      <th>Repaired</th>\n",
              "    </tr>\n",
              "  </thead>\n",
              "  <tbody>\n",
              "    <tr>\n",
              "      <th>86995</th>\n",
              "      <td>0.0</td>\n",
              "      <td>0.205999</td>\n",
              "      <td>1.0</td>\n",
              "      <td>0.249174</td>\n",
              "      <td>212.0</td>\n",
              "      <td>0.577540</td>\n",
              "      <td>1.140897</td>\n",
              "      <td>2.0</td>\n",
              "      <td>20.0</td>\n",
              "      <td>2.0</td>\n",
              "    </tr>\n",
              "    <tr>\n",
              "      <th>84015</th>\n",
              "      <td>5.0</td>\n",
              "      <td>0.211071</td>\n",
              "      <td>1.0</td>\n",
              "      <td>-1.085169</td>\n",
              "      <td>101.0</td>\n",
              "      <td>-1.553067</td>\n",
              "      <td>-0.210889</td>\n",
              "      <td>6.0</td>\n",
              "      <td>31.0</td>\n",
              "      <td>0.0</td>\n",
              "    </tr>\n",
              "    <tr>\n",
              "      <th>232077</th>\n",
              "      <td>4.0</td>\n",
              "      <td>0.211071</td>\n",
              "      <td>0.0</td>\n",
              "      <td>3.759523</td>\n",
              "      <td>116.0</td>\n",
              "      <td>0.577540</td>\n",
              "      <td>-1.562676</td>\n",
              "      <td>7.0</td>\n",
              "      <td>38.0</td>\n",
              "      <td>0.0</td>\n",
              "    </tr>\n",
              "    <tr>\n",
              "      <th>63882</th>\n",
              "      <td>8.0</td>\n",
              "      <td>0.160348</td>\n",
              "      <td>1.0</td>\n",
              "      <td>-0.859358</td>\n",
              "      <td>53.0</td>\n",
              "      <td>0.577540</td>\n",
              "      <td>-1.562676</td>\n",
              "      <td>7.0</td>\n",
              "      <td>9.0</td>\n",
              "      <td>1.0</td>\n",
              "    </tr>\n",
              "    <tr>\n",
              "      <th>93078</th>\n",
              "      <td>5.0</td>\n",
              "      <td>0.195854</td>\n",
              "      <td>1.0</td>\n",
              "      <td>-1.167283</td>\n",
              "      <td>8.0</td>\n",
              "      <td>0.577540</td>\n",
              "      <td>1.411254</td>\n",
              "      <td>7.0</td>\n",
              "      <td>25.0</td>\n",
              "      <td>2.0</td>\n",
              "    </tr>\n",
              "  </tbody>\n",
              "</table>\n",
              "</div>"
            ],
            "text/plain": [
              "        VehicleType  RegistrationYear  Gearbox     Power  Model  Kilometer  \\\n",
              "86995           0.0          0.205999      1.0  0.249174  212.0   0.577540   \n",
              "84015           5.0          0.211071      1.0 -1.085169  101.0  -1.553067   \n",
              "232077          4.0          0.211071      0.0  3.759523  116.0   0.577540   \n",
              "63882           8.0          0.160348      1.0 -0.859358   53.0   0.577540   \n",
              "93078           5.0          0.195854      1.0 -1.167283    8.0   0.577540   \n",
              "\n",
              "        RegistrationMonth  FuelType  Brand  Repaired  \n",
              "86995            1.140897       2.0   20.0       2.0  \n",
              "84015           -0.210889       6.0   31.0       0.0  \n",
              "232077          -1.562676       7.0   38.0       0.0  \n",
              "63882           -1.562676       7.0    9.0       1.0  \n",
              "93078            1.411254       7.0   25.0       2.0  "
            ]
          },
          "metadata": {},
          "output_type": "display_data"
        },
        {
          "data": {
            "text/html": [
              "<div>\n",
              "<style scoped>\n",
              "    .dataframe tbody tr th:only-of-type {\n",
              "        vertical-align: middle;\n",
              "    }\n",
              "\n",
              "    .dataframe tbody tr th {\n",
              "        vertical-align: top;\n",
              "    }\n",
              "\n",
              "    .dataframe thead th {\n",
              "        text-align: right;\n",
              "    }\n",
              "</style>\n",
              "<table border=\"1\" class=\"dataframe\">\n",
              "  <thead>\n",
              "    <tr style=\"text-align: right;\">\n",
              "      <th></th>\n",
              "      <th>RegistrationYear</th>\n",
              "      <th>Power</th>\n",
              "      <th>Kilometer</th>\n",
              "      <th>RegistrationMonth</th>\n",
              "      <th>VehicleType_convertible</th>\n",
              "      <th>VehicleType_coupe</th>\n",
              "      <th>VehicleType_other</th>\n",
              "      <th>VehicleType_sedan</th>\n",
              "      <th>VehicleType_small</th>\n",
              "      <th>VehicleType_suv</th>\n",
              "      <th>...</th>\n",
              "      <th>Brand_smart</th>\n",
              "      <th>Brand_sonstige_autos</th>\n",
              "      <th>Brand_subaru</th>\n",
              "      <th>Brand_suzuki</th>\n",
              "      <th>Brand_toyota</th>\n",
              "      <th>Brand_trabant</th>\n",
              "      <th>Brand_volkswagen</th>\n",
              "      <th>Brand_volvo</th>\n",
              "      <th>Repaired_unknown</th>\n",
              "      <th>Repaired_yes</th>\n",
              "    </tr>\n",
              "  </thead>\n",
              "  <tbody>\n",
              "    <tr>\n",
              "      <th>86995</th>\n",
              "      <td>0.205999</td>\n",
              "      <td>0.249174</td>\n",
              "      <td>0.577540</td>\n",
              "      <td>1.140897</td>\n",
              "      <td>0</td>\n",
              "      <td>0</td>\n",
              "      <td>0</td>\n",
              "      <td>0</td>\n",
              "      <td>0</td>\n",
              "      <td>0</td>\n",
              "      <td>...</td>\n",
              "      <td>0</td>\n",
              "      <td>0</td>\n",
              "      <td>0</td>\n",
              "      <td>0</td>\n",
              "      <td>0</td>\n",
              "      <td>0</td>\n",
              "      <td>0</td>\n",
              "      <td>0</td>\n",
              "      <td>0</td>\n",
              "      <td>1</td>\n",
              "    </tr>\n",
              "    <tr>\n",
              "      <th>84015</th>\n",
              "      <td>0.211071</td>\n",
              "      <td>-1.085169</td>\n",
              "      <td>-1.553067</td>\n",
              "      <td>-0.210889</td>\n",
              "      <td>0</td>\n",
              "      <td>0</td>\n",
              "      <td>0</td>\n",
              "      <td>0</td>\n",
              "      <td>1</td>\n",
              "      <td>0</td>\n",
              "      <td>...</td>\n",
              "      <td>0</td>\n",
              "      <td>0</td>\n",
              "      <td>0</td>\n",
              "      <td>0</td>\n",
              "      <td>0</td>\n",
              "      <td>0</td>\n",
              "      <td>0</td>\n",
              "      <td>0</td>\n",
              "      <td>0</td>\n",
              "      <td>0</td>\n",
              "    </tr>\n",
              "    <tr>\n",
              "      <th>232077</th>\n",
              "      <td>0.211071</td>\n",
              "      <td>3.759523</td>\n",
              "      <td>0.577540</td>\n",
              "      <td>-1.562676</td>\n",
              "      <td>0</td>\n",
              "      <td>0</td>\n",
              "      <td>0</td>\n",
              "      <td>1</td>\n",
              "      <td>0</td>\n",
              "      <td>0</td>\n",
              "      <td>...</td>\n",
              "      <td>0</td>\n",
              "      <td>0</td>\n",
              "      <td>0</td>\n",
              "      <td>0</td>\n",
              "      <td>0</td>\n",
              "      <td>0</td>\n",
              "      <td>1</td>\n",
              "      <td>0</td>\n",
              "      <td>0</td>\n",
              "      <td>0</td>\n",
              "    </tr>\n",
              "    <tr>\n",
              "      <th>63882</th>\n",
              "      <td>0.160348</td>\n",
              "      <td>-0.859358</td>\n",
              "      <td>0.577540</td>\n",
              "      <td>-1.562676</td>\n",
              "      <td>0</td>\n",
              "      <td>0</td>\n",
              "      <td>0</td>\n",
              "      <td>0</td>\n",
              "      <td>0</td>\n",
              "      <td>0</td>\n",
              "      <td>...</td>\n",
              "      <td>0</td>\n",
              "      <td>0</td>\n",
              "      <td>0</td>\n",
              "      <td>0</td>\n",
              "      <td>0</td>\n",
              "      <td>0</td>\n",
              "      <td>0</td>\n",
              "      <td>0</td>\n",
              "      <td>1</td>\n",
              "      <td>0</td>\n",
              "    </tr>\n",
              "    <tr>\n",
              "      <th>93078</th>\n",
              "      <td>0.195854</td>\n",
              "      <td>-1.167283</td>\n",
              "      <td>0.577540</td>\n",
              "      <td>1.411254</td>\n",
              "      <td>0</td>\n",
              "      <td>0</td>\n",
              "      <td>0</td>\n",
              "      <td>0</td>\n",
              "      <td>1</td>\n",
              "      <td>0</td>\n",
              "      <td>...</td>\n",
              "      <td>0</td>\n",
              "      <td>0</td>\n",
              "      <td>0</td>\n",
              "      <td>0</td>\n",
              "      <td>0</td>\n",
              "      <td>0</td>\n",
              "      <td>0</td>\n",
              "      <td>0</td>\n",
              "      <td>0</td>\n",
              "      <td>1</td>\n",
              "    </tr>\n",
              "  </tbody>\n",
              "</table>\n",
              "<p>5 rows × 310 columns</p>\n",
              "</div>"
            ],
            "text/plain": [
              "        RegistrationYear     Power  Kilometer  RegistrationMonth  \\\n",
              "86995           0.205999  0.249174   0.577540           1.140897   \n",
              "84015           0.211071 -1.085169  -1.553067          -0.210889   \n",
              "232077          0.211071  3.759523   0.577540          -1.562676   \n",
              "63882           0.160348 -0.859358   0.577540          -1.562676   \n",
              "93078           0.195854 -1.167283   0.577540           1.411254   \n",
              "\n",
              "        VehicleType_convertible  VehicleType_coupe  VehicleType_other  \\\n",
              "86995                         0                  0                  0   \n",
              "84015                         0                  0                  0   \n",
              "232077                        0                  0                  0   \n",
              "63882                         0                  0                  0   \n",
              "93078                         0                  0                  0   \n",
              "\n",
              "        VehicleType_sedan  VehicleType_small  VehicleType_suv  ...  \\\n",
              "86995                   0                  0                0  ...   \n",
              "84015                   0                  1                0  ...   \n",
              "232077                  1                  0                0  ...   \n",
              "63882                   0                  0                0  ...   \n",
              "93078                   0                  1                0  ...   \n",
              "\n",
              "        Brand_smart  Brand_sonstige_autos  Brand_subaru  Brand_suzuki  \\\n",
              "86995             0                     0             0             0   \n",
              "84015             0                     0             0             0   \n",
              "232077            0                     0             0             0   \n",
              "63882             0                     0             0             0   \n",
              "93078             0                     0             0             0   \n",
              "\n",
              "        Brand_toyota  Brand_trabant  Brand_volkswagen  Brand_volvo  \\\n",
              "86995              0              0                 0            0   \n",
              "84015              0              0                 0            0   \n",
              "232077             0              0                 1            0   \n",
              "63882              0              0                 0            0   \n",
              "93078              0              0                 0            0   \n",
              "\n",
              "        Repaired_unknown  Repaired_yes  \n",
              "86995                  0             1  \n",
              "84015                  0             0  \n",
              "232077                 0             0  \n",
              "63882                  1             0  \n",
              "93078                  0             1  \n",
              "\n",
              "[5 rows x 310 columns]"
            ]
          },
          "execution_count": 31,
          "metadata": {},
          "output_type": "execute_result"
        }
      ],
      "source": [
        "# создаем список со столбцами с количественными данными.\n",
        "numeric = ['RegistrationYear', 'Power', 'Kilometer', 'RegistrationMonth']\n",
        "# трансформируем данные\n",
        "scaler = StandardScaler()\n",
        "scaler.fit(features_train[numeric])\n",
        "features_train[numeric] = scaler.transform(features_train[numeric])\n",
        "features_valid[numeric] = scaler.transform(features_valid[numeric])\n",
        "features_test[numeric] = scaler.transform(features_test[numeric])\n",
        "pd.options.mode.chained_assignment = None;\n",
        "display(features_train.head())\n",
        "\n",
        "scaler_lg = StandardScaler()\n",
        "scaler_lg.fit(features_train_lg[numeric])\n",
        "features_train_lg[numeric] = scaler_lg.transform(features_train_lg[numeric])\n",
        "features_valid_lg[numeric] = scaler_lg.transform(features_valid_lg[numeric])\n",
        "features_test_lg[numeric] = scaler_lg.transform(features_test_lg[numeric])\n",
        "pd.options.mode.chained_assignment = None;\n",
        "features_train_lg.head()"
      ]
    },
    {
      "cell_type": "markdown",
      "metadata": {
        "id": "sLYhn_4gsVQk"
      },
      "source": [
        "### Подготовка критериев качества модели."
      ]
    },
    {
      "cell_type": "markdown",
      "metadata": {
        "id": "kSVIQ9CysVQl"
      },
      "source": [
        "Критерии, которые важны заказчику:\n",
        "- качество предсказания;\n",
        "- время обучения модели;\n",
        "- время предсказания модели.\n",
        "Для определения качества предсказания будем использовать RMSE. Напишем функцию расчета."
      ]
    },
    {
      "cell_type": "code",
      "execution_count": null,
      "metadata": {
        "id": "Rz7rUEPZsVQm"
      },
      "outputs": [],
      "source": [
        "def RMSE(target, predict):\n",
        "    return (mean_squared_error(target, predict))**0.5"
      ]
    },
    {
      "cell_type": "markdown",
      "metadata": {
        "id": "rrJl9XQksVQm"
      },
      "source": [
        "Для начала попробуем классические модели обучения, а потом перейдем к более сложным, в том числе градиентный бустинг и "
      ]
    },
    {
      "cell_type": "markdown",
      "metadata": {
        "id": "fUBooqRksVQn"
      },
      "source": [
        "### Линейная регрессию"
      ]
    },
    {
      "cell_type": "code",
      "execution_count": null,
      "metadata": {
        "colab": {
          "base_uri": "https://localhost:8080/"
        },
        "id": "J54Pfn0MsVQo",
        "outputId": "b26e59b9-8e5b-458e-bff3-4a2abf3dc9aa",
        "scrolled": true
      },
      "outputs": [
        {
          "name": "stdout",
          "output_type": "stream",
          "text": [
            "CPU times: user 20.9 s, sys: 38.8 s, total: 59.7 s\n",
            "Wall time: 1min\n"
          ]
        },
        {
          "data": {
            "text/plain": [
              "LinearRegression()"
            ]
          },
          "execution_count": 33,
          "metadata": {},
          "output_type": "execute_result"
        }
      ],
      "source": [
        "%%time\n",
        "\n",
        "model_linereg = LinearRegression()\n",
        "model_linereg.fit(features_train_lg, target_train_lg)"
      ]
    },
    {
      "cell_type": "code",
      "execution_count": null,
      "metadata": {
        "colab": {
          "base_uri": "https://localhost:8080/"
        },
        "id": "qvqbtv_DsFLM",
        "outputId": "d355aa8b-cf0c-43ba-e915-f3c0f2b843e7"
      },
      "outputs": [
        {
          "name": "stdout",
          "output_type": "stream",
          "text": [
            "Среднее качество модели линейной регрессии: 2895.796221220404\n",
            "CPU times: user 71.2 ms, sys: 65.8 ms, total: 137 ms\n",
            "Wall time: 150 ms\n"
          ]
        }
      ],
      "source": [
        "%%time\n",
        "\n",
        "predicted_valid_lg = model_linereg.predict(features_valid_lg)\n",
        "linereg_score = RMSE(target_valid_lg, predicted_valid_lg)\n",
        "\n",
        "print('Среднее качество модели линейной регрессии:', linereg_score)"
      ]
    },
    {
      "cell_type": "markdown",
      "metadata": {
        "id": "DQtKlvCvsVQq"
      },
      "source": [
        "### Случайный лес"
      ]
    },
    {
      "cell_type": "markdown",
      "metadata": {
        "id": "hejboeIhsVQs"
      },
      "source": [
        "Выбираем наилучшие параметры"
      ]
    },
    {
      "cell_type": "code",
      "execution_count": null,
      "metadata": {
        "colab": {
          "base_uri": "https://localhost:8080/",
          "height": 394
        },
        "id": "D5FBxVqEsVQt",
        "outputId": "1fe21d02-2099-4024-bb83-738c65b8c7ed"
      },
      "outputs": [
        {
          "name": "stdout",
          "output_type": "stream",
          "text": [
            "{'max_depth': 15, 'min_samples_leaf': 4, 'min_samples_split': 2, 'n_estimators': 18}\n"
          ]
        },
        {
          "data": {
            "text/plain": [
              "1785.4667983913237"
            ]
          },
          "execution_count": 35,
          "metadata": {},
          "output_type": "execute_result"
        }
      ],
      "source": [
        "clf = RandomForestRegressor(random_state=1234)\n",
        "parametrs = { 'n_estimators': range(18, 25, 3),\n",
        "                     'max_depth': range(15, 25, 2),\n",
        "                     'min_samples_leaf': range(2,5),\n",
        "                     'min_samples_split': range(2,6,2) }\n",
        "grid = GridSearchCV(clf, parametrs, cv=5, scoring=make_scorer(RMSE))\n",
        "grid.fit(features_train, target_train)\n",
        "\n",
        "print(grid.best_params_)\n",
        "grid.best_score_"
      ]
    },
    {
      "cell_type": "markdown",
      "metadata": {
        "id": "38keGglPsVQx"
      },
      "source": [
        "Запускаем модель обучения с лучшими параметрами."
      ]
    },
    {
      "cell_type": "code",
      "execution_count": null,
      "metadata": {
        "colab": {
          "base_uri": "https://localhost:8080/"
        },
        "id": "qYwUqvH4sVQy",
        "outputId": "fb51e753-835d-41d0-c82b-cd365dbb0c59",
        "scrolled": true
      },
      "outputs": [
        {
          "name": "stdout",
          "output_type": "stream",
          "text": [
            "CPU times: user 11.7 s, sys: 0 ns, total: 11.7 s\n",
            "Wall time: 12.5 s\n"
          ]
        },
        {
          "data": {
            "text/plain": [
              "RandomForestRegressor(max_depth=15, min_samples_leaf=4, n_estimators=18,\n",
              "                      random_state=1234)"
            ]
          },
          "execution_count": 36,
          "metadata": {},
          "output_type": "execute_result"
        }
      ],
      "source": [
        "%%time\n",
        "model_forest = RandomForestRegressor(random_state=1234, max_depth=15, min_samples_leaf=4, min_samples_split=2, n_estimators=18)\n",
        "model_forest.fit(features_train, target_train)"
      ]
    },
    {
      "cell_type": "code",
      "execution_count": null,
      "metadata": {
        "colab": {
          "base_uri": "https://localhost:8080/"
        },
        "id": "z5pOjX7PsFLP",
        "outputId": "31439a17-c26d-4fa9-9a8b-f44d3e7721e2"
      },
      "outputs": [
        {
          "name": "stdout",
          "output_type": "stream",
          "text": [
            "Качество модели Случайного леса: 1769.7888705711002\n",
            "CPU times: user 215 ms, sys: 4 ms, total: 219 ms\n",
            "Wall time: 216 ms\n"
          ]
        }
      ],
      "source": [
        "%%time\n",
        "predicted_valid = model_forest.predict(features_valid)\n",
        "forest_score = RMSE(target_valid, predicted_valid)\n",
        "print('Качество модели Случайного леса:', forest_score)"
      ]
    },
    {
      "cell_type": "markdown",
      "metadata": {
        "id": "awU_apUzsVQz"
      },
      "source": [
        "### Градиентный бустинг LightGBM"
      ]
    },
    {
      "cell_type": "markdown",
      "metadata": {
        "id": "8iZGt-52sVQ0"
      },
      "source": [
        "Выбираем наилучшие параметры"
      ]
    },
    {
      "cell_type": "code",
      "execution_count": null,
      "metadata": {
        "colab": {
          "base_uri": "https://localhost:8080/"
        },
        "id": "JmsLaP-UsVQ0",
        "outputId": "83a2e293-066f-49a0-d6c5-2f3c3f10da63"
      },
      "outputs": [
        {
          "name": "stdout",
          "output_type": "stream",
          "text": [
            "{'learning_rate': 0.001, 'max_depth': 1, 'n_estimators': 50}\n"
          ]
        },
        {
          "data": {
            "text/plain": [
              "4443.824172203311"
            ]
          },
          "execution_count": 38,
          "metadata": {},
          "output_type": "execute_result"
        }
      ],
      "source": [
        "clf = lgb.LGBMRegressor()\n",
        "\n",
        "parametrs = {'max_depth': range(-1, 10),\n",
        "             'learning_rate': [0.001, 0.5],\n",
        "             'n_estimators': [50, 100, 200, 500],\n",
        "             }\n",
        "\n",
        "grid = GridSearchCV(clf, parametrs, scoring=make_scorer(RMSE), cv=5)\n",
        "grid.fit(features_train, target_train)\n",
        "\n",
        "print(grid.best_params_)\n",
        "grid.best_score_"
      ]
    },
    {
      "cell_type": "code",
      "execution_count": null,
      "metadata": {
        "colab": {
          "base_uri": "https://localhost:8080/"
        },
        "id": "cq9_K5_rsVQ1",
        "outputId": "3f7b39ab-fe65-4d2b-977c-4de0202d4b2c",
        "scrolled": true
      },
      "outputs": [
        {
          "name": "stdout",
          "output_type": "stream",
          "text": [
            "CPU times: user 1.93 s, sys: 6.81 ms, total: 1.94 s\n",
            "Wall time: 1.92 s\n"
          ]
        },
        {
          "data": {
            "text/plain": [
              "LGBMRegressor(learning_rate=0.001, max_depth=1, n_estimators=50,\n",
              "              random_state=1234)"
            ]
          },
          "execution_count": 39,
          "metadata": {},
          "output_type": "execute_result"
        }
      ],
      "source": [
        "%%time\n",
        "\n",
        "model_lgb = lgb.LGBMRegressor(random_state=1234, max_depth=1, n_estimators=50, learning_rate=0.001)\n",
        "model_lgb.fit(features_train, target_train)"
      ]
    },
    {
      "cell_type": "code",
      "execution_count": null,
      "metadata": {
        "colab": {
          "base_uri": "https://localhost:8080/"
        },
        "id": "9HGF4dzHsFLT",
        "outputId": "44d86874-d55b-444b-ad1c-3cb55efb6834"
      },
      "outputs": [
        {
          "name": "stdout",
          "output_type": "stream",
          "text": [
            "Качество модели LightGBM: 4444.609647052022\n",
            "CPU times: user 133 ms, sys: 3 µs, total: 133 ms\n",
            "Wall time: 94.8 ms\n"
          ]
        }
      ],
      "source": [
        "%%time\n",
        "\n",
        "predicted_valid = model_lgb.predict(features_valid)\n",
        "lgb_score = RMSE(target_valid, predicted_valid)\n",
        "print('Качество модели LightGBM:', lgb_score)"
      ]
    },
    {
      "cell_type": "markdown",
      "metadata": {
        "id": "9dbKzBz_sVQ2"
      },
      "source": [
        "### Градиентный бустинг CatBoost"
      ]
    },
    {
      "cell_type": "code",
      "execution_count": null,
      "metadata": {
        "colab": {
          "base_uri": "https://localhost:8080/"
        },
        "id": "mlAy9WErsVQ2",
        "outputId": "74c9b759-bedc-42f1-b7ad-565632a419e2"
      },
      "outputs": [
        {
          "name": "stdout",
          "output_type": "stream",
          "text": [
            "0:\tlearn: 4087.7210605\ttotal: 84.2ms\tremaining: 8.34s\n",
            "10:\tlearn: 2373.3218538\ttotal: 381ms\tremaining: 3.08s\n",
            "20:\tlearn: 2082.3341099\ttotal: 672ms\tremaining: 2.53s\n",
            "30:\tlearn: 1980.7083354\ttotal: 954ms\tremaining: 2.12s\n",
            "40:\tlearn: 1922.5131386\ttotal: 1.25s\tremaining: 1.8s\n",
            "50:\tlearn: 1884.0387586\ttotal: 1.52s\tremaining: 1.46s\n",
            "60:\tlearn: 1858.9404781\ttotal: 1.8s\tremaining: 1.15s\n",
            "70:\tlearn: 1834.0093821\ttotal: 2.08s\tremaining: 849ms\n",
            "80:\tlearn: 1813.7062692\ttotal: 2.36s\tremaining: 553ms\n",
            "90:\tlearn: 1796.8729778\ttotal: 2.63s\tremaining: 260ms\n",
            "99:\tlearn: 1781.7518870\ttotal: 2.88s\tremaining: 0us\n",
            "0:\tlearn: 4068.5506695\ttotal: 30ms\tremaining: 2.97s\n",
            "10:\tlearn: 2360.8349496\ttotal: 328ms\tremaining: 2.65s\n",
            "20:\tlearn: 2069.9068381\ttotal: 622ms\tremaining: 2.34s\n",
            "30:\tlearn: 1973.3843276\ttotal: 897ms\tremaining: 2s\n",
            "40:\tlearn: 1913.9699102\ttotal: 1.18s\tremaining: 1.7s\n",
            "50:\tlearn: 1876.4317576\ttotal: 1.46s\tremaining: 1.4s\n",
            "60:\tlearn: 1848.7101931\ttotal: 1.75s\tremaining: 1.12s\n",
            "70:\tlearn: 1823.3655177\ttotal: 2.03s\tremaining: 831ms\n",
            "80:\tlearn: 1801.1424322\ttotal: 2.32s\tremaining: 543ms\n",
            "90:\tlearn: 1784.3293951\ttotal: 2.6s\tremaining: 257ms\n",
            "99:\tlearn: 1770.5425788\ttotal: 2.88s\tremaining: 0us\n",
            "0:\tlearn: 4085.5082327\ttotal: 31.2ms\tremaining: 3.08s\n",
            "10:\tlearn: 2365.1949933\ttotal: 325ms\tremaining: 2.63s\n",
            "20:\tlearn: 2074.6862465\ttotal: 658ms\tremaining: 2.47s\n",
            "30:\tlearn: 1974.1728528\ttotal: 934ms\tremaining: 2.08s\n",
            "40:\tlearn: 1926.7674163\ttotal: 1.24s\tremaining: 1.78s\n",
            "50:\tlearn: 1889.5642081\ttotal: 1.53s\tremaining: 1.47s\n",
            "60:\tlearn: 1859.4029153\ttotal: 1.8s\tremaining: 1.15s\n",
            "70:\tlearn: 1833.0887022\ttotal: 2.09s\tremaining: 853ms\n",
            "80:\tlearn: 1812.5706089\ttotal: 2.37s\tremaining: 555ms\n",
            "90:\tlearn: 1796.0282410\ttotal: 2.66s\tremaining: 263ms\n",
            "99:\tlearn: 1782.8234989\ttotal: 2.93s\tremaining: 0us\n",
            "0:\tlearn: 4087.5679626\ttotal: 29.7ms\tremaining: 2.94s\n",
            "10:\tlearn: 2369.6224889\ttotal: 350ms\tremaining: 2.83s\n",
            "20:\tlearn: 2074.0713203\ttotal: 655ms\tremaining: 2.46s\n",
            "30:\tlearn: 1974.9160563\ttotal: 956ms\tremaining: 2.13s\n",
            "40:\tlearn: 1921.7474285\ttotal: 1.24s\tremaining: 1.78s\n",
            "50:\tlearn: 1884.0294857\ttotal: 1.53s\tremaining: 1.47s\n",
            "60:\tlearn: 1857.7695629\ttotal: 1.81s\tremaining: 1.16s\n",
            "70:\tlearn: 1832.9789252\ttotal: 2.09s\tremaining: 854ms\n",
            "80:\tlearn: 1811.5325764\ttotal: 2.38s\tremaining: 558ms\n",
            "90:\tlearn: 1796.3616844\ttotal: 2.68s\tremaining: 265ms\n",
            "99:\tlearn: 1781.1269836\ttotal: 2.93s\tremaining: 0us\n",
            "0:\tlearn: 4091.1939522\ttotal: 29.8ms\tremaining: 2.95s\n",
            "10:\tlearn: 2376.6054663\ttotal: 308ms\tremaining: 2.49s\n",
            "20:\tlearn: 2083.4940617\ttotal: 592ms\tremaining: 2.23s\n",
            "30:\tlearn: 1987.1147682\ttotal: 863ms\tremaining: 1.92s\n",
            "40:\tlearn: 1928.6578934\ttotal: 1.15s\tremaining: 1.65s\n",
            "50:\tlearn: 1892.2631529\ttotal: 1.43s\tremaining: 1.38s\n",
            "60:\tlearn: 1862.7681473\ttotal: 1.71s\tremaining: 1.09s\n",
            "70:\tlearn: 1838.9940364\ttotal: 2.01s\tremaining: 820ms\n",
            "80:\tlearn: 1817.6361611\ttotal: 2.28s\tremaining: 535ms\n",
            "90:\tlearn: 1799.6772143\ttotal: 2.55s\tremaining: 253ms\n",
            "99:\tlearn: 1786.8209804\ttotal: 2.8s\tremaining: 0us\n",
            "0:\tlearn: 4067.5508795\ttotal: 52.7ms\tremaining: 5.21s\n",
            "10:\tlearn: 2279.7652349\ttotal: 551ms\tremaining: 4.46s\n",
            "20:\tlearn: 1992.5719341\ttotal: 1.03s\tremaining: 3.88s\n",
            "30:\tlearn: 1896.8118424\ttotal: 1.5s\tremaining: 3.34s\n",
            "40:\tlearn: 1844.9402356\ttotal: 1.98s\tremaining: 2.84s\n",
            "50:\tlearn: 1806.2517444\ttotal: 2.46s\tremaining: 2.37s\n",
            "60:\tlearn: 1778.2786065\ttotal: 2.95s\tremaining: 1.89s\n",
            "70:\tlearn: 1753.5443935\ttotal: 3.44s\tremaining: 1.41s\n",
            "80:\tlearn: 1735.3301773\ttotal: 3.93s\tremaining: 921ms\n",
            "90:\tlearn: 1713.8493951\ttotal: 4.42s\tremaining: 437ms\n",
            "99:\tlearn: 1697.5767863\ttotal: 4.88s\tremaining: 0us\n",
            "0:\tlearn: 4053.2140676\ttotal: 45.7ms\tremaining: 4.52s\n",
            "10:\tlearn: 2270.3499997\ttotal: 527ms\tremaining: 4.26s\n",
            "20:\tlearn: 1982.0307392\ttotal: 1.01s\tremaining: 3.82s\n",
            "30:\tlearn: 1887.9964835\ttotal: 1.48s\tremaining: 3.29s\n",
            "40:\tlearn: 1835.3813155\ttotal: 1.94s\tremaining: 2.79s\n",
            "50:\tlearn: 1795.9605903\ttotal: 2.41s\tremaining: 2.31s\n",
            "60:\tlearn: 1765.5327318\ttotal: 2.89s\tremaining: 1.84s\n",
            "70:\tlearn: 1740.6064724\ttotal: 3.36s\tremaining: 1.37s\n",
            "80:\tlearn: 1719.3678067\ttotal: 3.85s\tremaining: 902ms\n",
            "90:\tlearn: 1699.8472810\ttotal: 4.36s\tremaining: 431ms\n",
            "99:\tlearn: 1685.4857560\ttotal: 4.8s\tremaining: 0us\n",
            "0:\tlearn: 4065.4656318\ttotal: 47ms\tremaining: 4.66s\n",
            "10:\tlearn: 2280.6658890\ttotal: 520ms\tremaining: 4.21s\n",
            "20:\tlearn: 1994.4355377\ttotal: 1.01s\tremaining: 3.79s\n",
            "30:\tlearn: 1897.7451229\ttotal: 1.48s\tremaining: 3.3s\n",
            "40:\tlearn: 1848.9718614\ttotal: 1.96s\tremaining: 2.82s\n",
            "50:\tlearn: 1808.4109946\ttotal: 2.43s\tremaining: 2.33s\n",
            "60:\tlearn: 1778.4771180\ttotal: 2.9s\tremaining: 1.85s\n",
            "70:\tlearn: 1752.2362126\ttotal: 3.4s\tremaining: 1.39s\n",
            "80:\tlearn: 1730.1285784\ttotal: 3.88s\tremaining: 911ms\n",
            "90:\tlearn: 1710.1210373\ttotal: 4.38s\tremaining: 433ms\n",
            "99:\tlearn: 1693.0493536\ttotal: 4.84s\tremaining: 0us\n",
            "0:\tlearn: 4067.0436423\ttotal: 46.2ms\tremaining: 4.57s\n",
            "10:\tlearn: 2278.7688205\ttotal: 519ms\tremaining: 4.2s\n",
            "20:\tlearn: 1989.9309349\ttotal: 980ms\tremaining: 3.69s\n",
            "30:\tlearn: 1894.2392423\ttotal: 1.45s\tremaining: 3.23s\n",
            "40:\tlearn: 1844.8617259\ttotal: 1.95s\tremaining: 2.8s\n",
            "50:\tlearn: 1806.8825457\ttotal: 2.42s\tremaining: 2.33s\n",
            "60:\tlearn: 1777.7366153\ttotal: 2.91s\tremaining: 1.86s\n",
            "70:\tlearn: 1755.3365765\ttotal: 3.4s\tremaining: 1.39s\n",
            "80:\tlearn: 1735.9977402\ttotal: 3.88s\tremaining: 911ms\n",
            "90:\tlearn: 1716.2524427\ttotal: 4.36s\tremaining: 431ms\n",
            "99:\tlearn: 1698.4215128\ttotal: 4.78s\tremaining: 0us\n",
            "0:\tlearn: 4071.1201673\ttotal: 48.1ms\tremaining: 4.77s\n",
            "10:\tlearn: 2282.4433681\ttotal: 546ms\tremaining: 4.42s\n",
            "20:\tlearn: 2003.0231658\ttotal: 1.02s\tremaining: 3.85s\n",
            "30:\tlearn: 1906.9866254\ttotal: 1.5s\tremaining: 3.34s\n",
            "40:\tlearn: 1851.0244198\ttotal: 1.98s\tremaining: 2.84s\n",
            "50:\tlearn: 1811.7327609\ttotal: 2.47s\tremaining: 2.38s\n",
            "60:\tlearn: 1785.1174817\ttotal: 2.96s\tremaining: 1.89s\n",
            "70:\tlearn: 1759.4843894\ttotal: 3.46s\tremaining: 1.41s\n",
            "80:\tlearn: 1736.3768358\ttotal: 3.93s\tremaining: 922ms\n",
            "90:\tlearn: 1717.8012839\ttotal: 4.42s\tremaining: 437ms\n",
            "99:\tlearn: 1702.5145728\ttotal: 4.86s\tremaining: 0us\n",
            "0:\tlearn: 4052.4320893\ttotal: 83.9ms\tremaining: 8.3s\n",
            "10:\tlearn: 2216.4467032\ttotal: 900ms\tremaining: 7.28s\n",
            "20:\tlearn: 1915.0836133\ttotal: 1.7s\tremaining: 6.4s\n",
            "30:\tlearn: 1828.8794990\ttotal: 2.58s\tremaining: 5.75s\n",
            "40:\tlearn: 1774.5451551\ttotal: 3.41s\tremaining: 4.91s\n",
            "50:\tlearn: 1733.2504416\ttotal: 4.24s\tremaining: 4.07s\n",
            "60:\tlearn: 1702.2308976\ttotal: 5.08s\tremaining: 3.25s\n",
            "70:\tlearn: 1670.8630035\ttotal: 5.93s\tremaining: 2.42s\n",
            "80:\tlearn: 1643.3437972\ttotal: 6.75s\tremaining: 1.58s\n",
            "90:\tlearn: 1619.1889114\ttotal: 7.64s\tremaining: 756ms\n",
            "99:\tlearn: 1601.1820558\ttotal: 8.41s\tremaining: 0us\n",
            "0:\tlearn: 4037.9809922\ttotal: 79.4ms\tremaining: 7.86s\n",
            "10:\tlearn: 2201.3376826\ttotal: 904ms\tremaining: 7.32s\n",
            "20:\tlearn: 1905.2597014\ttotal: 1.71s\tremaining: 6.45s\n",
            "30:\tlearn: 1810.5981438\ttotal: 2.57s\tremaining: 5.72s\n",
            "40:\tlearn: 1755.0165687\ttotal: 3.43s\tremaining: 4.93s\n",
            "50:\tlearn: 1719.4612481\ttotal: 4.26s\tremaining: 4.09s\n",
            "60:\tlearn: 1681.9970014\ttotal: 5.08s\tremaining: 3.25s\n",
            "70:\tlearn: 1654.6314870\ttotal: 5.91s\tremaining: 2.41s\n",
            "80:\tlearn: 1630.8964185\ttotal: 6.72s\tremaining: 1.57s\n",
            "90:\tlearn: 1610.5276137\ttotal: 7.52s\tremaining: 743ms\n",
            "99:\tlearn: 1592.2476175\ttotal: 8.28s\tremaining: 0us\n",
            "0:\tlearn: 4050.4509922\ttotal: 82.8ms\tremaining: 8.19s\n",
            "10:\tlearn: 2201.4067426\ttotal: 899ms\tremaining: 7.28s\n",
            "20:\tlearn: 1910.9676375\ttotal: 1.68s\tremaining: 6.33s\n",
            "30:\tlearn: 1816.5341599\ttotal: 2.48s\tremaining: 5.52s\n",
            "40:\tlearn: 1764.3108249\ttotal: 3.3s\tremaining: 4.75s\n",
            "50:\tlearn: 1727.1862675\ttotal: 4.16s\tremaining: 4s\n",
            "60:\tlearn: 1697.4126119\ttotal: 5.01s\tremaining: 3.2s\n",
            "70:\tlearn: 1671.8178807\ttotal: 5.85s\tremaining: 2.39s\n",
            "80:\tlearn: 1646.3426574\ttotal: 6.71s\tremaining: 1.57s\n",
            "90:\tlearn: 1618.6991482\ttotal: 7.57s\tremaining: 749ms\n",
            "99:\tlearn: 1598.3322934\ttotal: 8.34s\tremaining: 0us\n",
            "0:\tlearn: 4052.5230230\ttotal: 80.1ms\tremaining: 7.93s\n",
            "10:\tlearn: 2213.9393048\ttotal: 941ms\tremaining: 7.61s\n",
            "20:\tlearn: 1911.1998040\ttotal: 1.74s\tremaining: 6.55s\n",
            "30:\tlearn: 1816.2505197\ttotal: 2.54s\tremaining: 5.66s\n",
            "40:\tlearn: 1762.4504964\ttotal: 3.37s\tremaining: 4.85s\n",
            "50:\tlearn: 1723.9505305\ttotal: 4.22s\tremaining: 4.06s\n",
            "60:\tlearn: 1692.6496867\ttotal: 5.08s\tremaining: 3.25s\n",
            "70:\tlearn: 1663.2631390\ttotal: 5.97s\tremaining: 2.44s\n",
            "80:\tlearn: 1637.9070375\ttotal: 6.82s\tremaining: 1.6s\n",
            "90:\tlearn: 1616.7192004\ttotal: 7.7s\tremaining: 761ms\n",
            "99:\tlearn: 1599.0958142\ttotal: 8.46s\tremaining: 0us\n",
            "0:\tlearn: 4057.1769018\ttotal: 82.3ms\tremaining: 8.15s\n",
            "10:\tlearn: 2205.1983297\ttotal: 945ms\tremaining: 7.64s\n",
            "20:\tlearn: 1913.3060811\ttotal: 1.79s\tremaining: 6.73s\n",
            "30:\tlearn: 1825.9265935\ttotal: 2.62s\tremaining: 5.84s\n",
            "40:\tlearn: 1768.4516157\ttotal: 3.44s\tremaining: 4.96s\n",
            "50:\tlearn: 1731.3813225\ttotal: 4.28s\tremaining: 4.11s\n",
            "60:\tlearn: 1695.6034788\ttotal: 5.11s\tremaining: 3.27s\n",
            "70:\tlearn: 1672.2354917\ttotal: 5.97s\tremaining: 2.44s\n",
            "80:\tlearn: 1649.5886042\ttotal: 6.81s\tremaining: 1.6s\n",
            "90:\tlearn: 1626.4091115\ttotal: 7.61s\tremaining: 753ms\n",
            "99:\tlearn: 1608.6340705\ttotal: 8.33s\tremaining: 0us\n",
            "0:\tlearn: 4045.0713406\ttotal: 309ms\tremaining: 30.6s\n",
            "10:\tlearn: 2143.7900544\ttotal: 3.3s\tremaining: 26.7s\n",
            "20:\tlearn: 1840.0762403\ttotal: 6.5s\tremaining: 24.4s\n",
            "30:\tlearn: 1745.2629378\ttotal: 9.48s\tremaining: 21.1s\n",
            "40:\tlearn: 1690.3903426\ttotal: 12.4s\tremaining: 17.9s\n",
            "50:\tlearn: 1640.8666050\ttotal: 15.4s\tremaining: 14.8s\n",
            "60:\tlearn: 1603.1085240\ttotal: 18.4s\tremaining: 11.8s\n",
            "70:\tlearn: 1571.9267753\ttotal: 21.3s\tremaining: 8.71s\n",
            "80:\tlearn: 1540.9540892\ttotal: 24.3s\tremaining: 5.7s\n",
            "90:\tlearn: 1514.4030096\ttotal: 27.1s\tremaining: 2.68s\n",
            "99:\tlearn: 1495.1104391\ttotal: 29.6s\tremaining: 0us\n",
            "0:\tlearn: 4027.9184722\ttotal: 287ms\tremaining: 28.5s\n",
            "10:\tlearn: 2123.1830627\ttotal: 3.29s\tremaining: 26.6s\n",
            "20:\tlearn: 1823.2564452\ttotal: 6.32s\tremaining: 23.8s\n",
            "30:\tlearn: 1729.0937115\ttotal: 9.32s\tremaining: 20.7s\n",
            "40:\tlearn: 1670.0118504\ttotal: 12.3s\tremaining: 17.7s\n",
            "50:\tlearn: 1625.4220874\ttotal: 15.2s\tremaining: 14.6s\n",
            "60:\tlearn: 1587.5211769\ttotal: 18.3s\tremaining: 11.7s\n",
            "70:\tlearn: 1553.4964358\ttotal: 21.3s\tremaining: 8.7s\n",
            "80:\tlearn: 1526.3637471\ttotal: 24.3s\tremaining: 5.69s\n",
            "90:\tlearn: 1499.6820180\ttotal: 27.3s\tremaining: 2.7s\n",
            "99:\tlearn: 1476.4842880\ttotal: 29.9s\tremaining: 0us\n",
            "0:\tlearn: 4043.1042595\ttotal: 297ms\tremaining: 29.4s\n",
            "10:\tlearn: 2138.6018020\ttotal: 3.24s\tremaining: 26.2s\n",
            "20:\tlearn: 1839.0292679\ttotal: 6.22s\tremaining: 23.4s\n",
            "30:\tlearn: 1745.8817410\ttotal: 9.2s\tremaining: 20.5s\n",
            "40:\tlearn: 1683.3841862\ttotal: 12.2s\tremaining: 17.6s\n",
            "50:\tlearn: 1638.5260712\ttotal: 15.1s\tremaining: 14.5s\n",
            "60:\tlearn: 1598.9350572\ttotal: 18.1s\tremaining: 11.6s\n",
            "70:\tlearn: 1567.0397059\ttotal: 21.1s\tremaining: 8.62s\n",
            "80:\tlearn: 1535.4940860\ttotal: 24.1s\tremaining: 5.64s\n",
            "90:\tlearn: 1509.3365531\ttotal: 27s\tremaining: 2.67s\n",
            "99:\tlearn: 1488.8225770\ttotal: 29.7s\tremaining: 0us\n",
            "0:\tlearn: 4046.3276631\ttotal: 291ms\tremaining: 28.8s\n",
            "10:\tlearn: 2140.1308255\ttotal: 3.23s\tremaining: 26.2s\n",
            "20:\tlearn: 1830.6696265\ttotal: 6.18s\tremaining: 23.3s\n",
            "30:\tlearn: 1739.8871977\ttotal: 9.19s\tremaining: 20.5s\n",
            "40:\tlearn: 1680.2212903\ttotal: 12.1s\tremaining: 17.5s\n",
            "50:\tlearn: 1633.0108154\ttotal: 15.1s\tremaining: 14.5s\n",
            "60:\tlearn: 1595.3512471\ttotal: 18.1s\tremaining: 11.6s\n",
            "70:\tlearn: 1561.0933503\ttotal: 21.1s\tremaining: 8.61s\n",
            "80:\tlearn: 1532.9687581\ttotal: 24s\tremaining: 5.64s\n",
            "90:\tlearn: 1505.4891319\ttotal: 27s\tremaining: 2.67s\n",
            "99:\tlearn: 1487.3928094\ttotal: 29.6s\tremaining: 0us\n",
            "0:\tlearn: 4050.8787503\ttotal: 293ms\tremaining: 29s\n",
            "10:\tlearn: 2141.3712803\ttotal: 3.22s\tremaining: 26.1s\n",
            "20:\tlearn: 1844.0992167\ttotal: 6.18s\tremaining: 23.3s\n",
            "30:\tlearn: 1748.6695736\ttotal: 9.13s\tremaining: 20.3s\n",
            "40:\tlearn: 1690.1258892\ttotal: 12.1s\tremaining: 17.5s\n",
            "50:\tlearn: 1643.2116111\ttotal: 15.1s\tremaining: 14.5s\n",
            "60:\tlearn: 1607.7082525\ttotal: 18s\tremaining: 11.5s\n",
            "70:\tlearn: 1572.0744324\ttotal: 21s\tremaining: 8.57s\n",
            "80:\tlearn: 1536.5874516\ttotal: 23.9s\tremaining: 5.61s\n",
            "90:\tlearn: 1513.4843466\ttotal: 26.9s\tremaining: 2.66s\n",
            "99:\tlearn: 1493.6444392\ttotal: 29.5s\tremaining: 0us\n",
            "0:\tlearn: 4080.9708784\ttotal: 42.3ms\tremaining: 4.19s\n",
            "10:\tlearn: 2378.1473417\ttotal: 403ms\tremaining: 3.26s\n",
            "20:\tlearn: 2078.8671212\ttotal: 767ms\tremaining: 2.88s\n",
            "30:\tlearn: 1978.6399795\ttotal: 1.13s\tremaining: 2.52s\n",
            "40:\tlearn: 1919.1759296\ttotal: 1.57s\tremaining: 2.26s\n",
            "50:\tlearn: 1882.2690626\ttotal: 1.92s\tremaining: 1.85s\n",
            "60:\tlearn: 1856.1719481\ttotal: 2.27s\tremaining: 1.45s\n",
            "70:\tlearn: 1832.0430564\ttotal: 2.62s\tremaining: 1.07s\n",
            "80:\tlearn: 1815.3623735\ttotal: 2.96s\tremaining: 696ms\n",
            "90:\tlearn: 1797.2374268\ttotal: 3.31s\tremaining: 327ms\n",
            "99:\tlearn: 1783.1289185\ttotal: 3.63s\tremaining: 0us\n",
            "{'depth': 8, 'iterations': 100, 'learning_rate': 0.15}\n"
          ]
        },
        {
          "data": {
            "text/plain": [
              "1818.4077144272487"
            ]
          },
          "execution_count": 41,
          "metadata": {},
          "output_type": "execute_result"
        }
      ],
      "source": [
        "clf = cb.CatBoostRegressor()\n",
        "\n",
        "parametrs = {\"iterations\": [100],\n",
        "                \"depth\": range(8, 16, 2),\n",
        "                \"learning_rate\" : [0.15]\n",
        "             }\n",
        "\n",
        "grid = GridSearchCV(clf, parametrs, scoring=make_scorer(RMSE), cv=5)\n",
        "grid.fit(features_train, target_train, verbose=10)\n",
        "\n",
        "print(grid.best_params_)\n",
        "grid.best_score_"
      ]
    },
    {
      "cell_type": "code",
      "execution_count": null,
      "metadata": {
        "colab": {
          "base_uri": "https://localhost:8080/"
        },
        "id": "z6TTiml5sVQ3",
        "outputId": "2c9834f1-6f51-4ad4-ba1b-c2b9b9d606f6"
      },
      "outputs": [
        {
          "name": "stdout",
          "output_type": "stream",
          "text": [
            "0:\tlearn: 4084.9823886\ttotal: 38.8ms\tremaining: 3.84s\n",
            "1:\tlearn: 3723.6141605\ttotal: 78.6ms\tremaining: 3.85s\n",
            "2:\tlearn: 3424.2377701\ttotal: 116ms\tremaining: 3.76s\n",
            "3:\tlearn: 3185.1825498\ttotal: 154ms\tremaining: 3.71s\n",
            "4:\tlearn: 2991.0752580\ttotal: 191ms\tremaining: 3.62s\n",
            "5:\tlearn: 2833.1288370\ttotal: 227ms\tremaining: 3.55s\n",
            "6:\tlearn: 2700.2442018\ttotal: 265ms\tremaining: 3.52s\n",
            "7:\tlearn: 2592.5888296\ttotal: 304ms\tremaining: 3.5s\n",
            "8:\tlearn: 2507.1797788\ttotal: 341ms\tremaining: 3.44s\n",
            "9:\tlearn: 2434.7971975\ttotal: 377ms\tremaining: 3.4s\n",
            "10:\tlearn: 2376.0848098\ttotal: 413ms\tremaining: 3.34s\n",
            "11:\tlearn: 2325.3830322\ttotal: 449ms\tremaining: 3.29s\n",
            "12:\tlearn: 2280.4131599\ttotal: 488ms\tremaining: 3.26s\n",
            "13:\tlearn: 2239.9816132\ttotal: 523ms\tremaining: 3.21s\n",
            "14:\tlearn: 2209.9809565\ttotal: 556ms\tremaining: 3.15s\n",
            "15:\tlearn: 2183.3516983\ttotal: 592ms\tremaining: 3.11s\n",
            "16:\tlearn: 2153.7227410\ttotal: 630ms\tremaining: 3.07s\n",
            "17:\tlearn: 2133.6212907\ttotal: 663ms\tremaining: 3.02s\n",
            "18:\tlearn: 2109.9697827\ttotal: 702ms\tremaining: 2.99s\n",
            "19:\tlearn: 2090.7903518\ttotal: 739ms\tremaining: 2.96s\n",
            "20:\tlearn: 2077.6467493\ttotal: 774ms\tremaining: 2.91s\n",
            "21:\tlearn: 2060.9084643\ttotal: 810ms\tremaining: 2.87s\n",
            "22:\tlearn: 2048.4451467\ttotal: 842ms\tremaining: 2.82s\n",
            "23:\tlearn: 2036.5680544\ttotal: 876ms\tremaining: 2.77s\n",
            "24:\tlearn: 2026.3735229\ttotal: 908ms\tremaining: 2.73s\n",
            "25:\tlearn: 2013.7739215\ttotal: 947ms\tremaining: 2.69s\n",
            "26:\tlearn: 2006.8816743\ttotal: 980ms\tremaining: 2.65s\n",
            "27:\tlearn: 1997.9785596\ttotal: 1.01s\tremaining: 2.61s\n",
            "28:\tlearn: 1988.7848355\ttotal: 1.05s\tremaining: 2.57s\n",
            "29:\tlearn: 1982.6246623\ttotal: 1.09s\tremaining: 2.54s\n",
            "30:\tlearn: 1974.9795764\ttotal: 1.12s\tremaining: 2.5s\n",
            "31:\tlearn: 1967.1001019\ttotal: 1.16s\tremaining: 2.46s\n",
            "32:\tlearn: 1961.2722723\ttotal: 1.19s\tremaining: 2.42s\n",
            "33:\tlearn: 1954.2586034\ttotal: 1.23s\tremaining: 2.38s\n",
            "34:\tlearn: 1950.3962862\ttotal: 1.27s\tremaining: 2.36s\n",
            "35:\tlearn: 1946.0411141\ttotal: 1.31s\tremaining: 2.32s\n",
            "36:\tlearn: 1940.8705983\ttotal: 1.34s\tremaining: 2.29s\n",
            "37:\tlearn: 1933.7093341\ttotal: 1.38s\tremaining: 2.26s\n",
            "38:\tlearn: 1930.9250714\ttotal: 1.42s\tremaining: 2.22s\n",
            "39:\tlearn: 1926.4374828\ttotal: 1.45s\tremaining: 2.18s\n",
            "40:\tlearn: 1921.4601431\ttotal: 1.49s\tremaining: 2.14s\n",
            "41:\tlearn: 1916.4330929\ttotal: 1.53s\tremaining: 2.11s\n",
            "42:\tlearn: 1912.8447517\ttotal: 1.56s\tremaining: 2.08s\n",
            "43:\tlearn: 1907.0993414\ttotal: 1.6s\tremaining: 2.04s\n",
            "44:\tlearn: 1903.7646570\ttotal: 1.64s\tremaining: 2s\n",
            "45:\tlearn: 1900.2102226\ttotal: 1.67s\tremaining: 1.96s\n",
            "46:\tlearn: 1896.7909932\ttotal: 1.71s\tremaining: 1.93s\n",
            "47:\tlearn: 1893.6299625\ttotal: 1.75s\tremaining: 1.89s\n",
            "48:\tlearn: 1890.0161437\ttotal: 1.78s\tremaining: 1.86s\n",
            "49:\tlearn: 1886.0054516\ttotal: 1.82s\tremaining: 1.82s\n",
            "50:\tlearn: 1882.4453135\ttotal: 1.86s\tremaining: 1.79s\n",
            "51:\tlearn: 1879.4179298\ttotal: 1.9s\tremaining: 1.75s\n",
            "52:\tlearn: 1876.6063399\ttotal: 1.93s\tremaining: 1.71s\n",
            "53:\tlearn: 1874.3805713\ttotal: 1.97s\tremaining: 1.67s\n",
            "54:\tlearn: 1870.6996403\ttotal: 2s\tremaining: 1.64s\n",
            "55:\tlearn: 1866.9993344\ttotal: 2.04s\tremaining: 1.6s\n",
            "56:\tlearn: 1864.9230490\ttotal: 2.07s\tremaining: 1.56s\n",
            "57:\tlearn: 1861.6951740\ttotal: 2.11s\tremaining: 1.53s\n",
            "58:\tlearn: 1858.6437665\ttotal: 2.14s\tremaining: 1.49s\n",
            "59:\tlearn: 1857.0501725\ttotal: 2.18s\tremaining: 1.45s\n",
            "60:\tlearn: 1853.8471310\ttotal: 2.21s\tremaining: 1.41s\n",
            "61:\tlearn: 1852.0507405\ttotal: 2.25s\tremaining: 1.38s\n",
            "62:\tlearn: 1849.0305805\ttotal: 2.28s\tremaining: 1.34s\n",
            "63:\tlearn: 1846.1582325\ttotal: 2.33s\tremaining: 1.31s\n",
            "64:\tlearn: 1843.5463610\ttotal: 2.37s\tremaining: 1.27s\n",
            "65:\tlearn: 1841.0504985\ttotal: 2.4s\tremaining: 1.24s\n",
            "66:\tlearn: 1839.3559918\ttotal: 2.44s\tremaining: 1.2s\n",
            "67:\tlearn: 1837.2075073\ttotal: 2.48s\tremaining: 1.17s\n",
            "68:\tlearn: 1835.2381021\ttotal: 2.51s\tremaining: 1.13s\n",
            "69:\tlearn: 1832.4345699\ttotal: 2.55s\tremaining: 1.09s\n",
            "70:\tlearn: 1830.8874367\ttotal: 2.58s\tremaining: 1.05s\n",
            "71:\tlearn: 1829.4297283\ttotal: 2.62s\tremaining: 1.02s\n",
            "72:\tlearn: 1826.7992728\ttotal: 2.66s\tremaining: 982ms\n",
            "73:\tlearn: 1825.0497258\ttotal: 2.69s\tremaining: 946ms\n",
            "74:\tlearn: 1822.7591461\ttotal: 2.73s\tremaining: 910ms\n",
            "75:\tlearn: 1820.8563318\ttotal: 2.77s\tremaining: 874ms\n",
            "76:\tlearn: 1819.5283893\ttotal: 2.8s\tremaining: 837ms\n",
            "77:\tlearn: 1817.9006626\ttotal: 2.84s\tremaining: 801ms\n",
            "78:\tlearn: 1816.6937958\ttotal: 2.87s\tremaining: 764ms\n",
            "79:\tlearn: 1814.9505070\ttotal: 2.9s\tremaining: 726ms\n",
            "80:\tlearn: 1812.8765519\ttotal: 2.94s\tremaining: 689ms\n",
            "81:\tlearn: 1811.2721826\ttotal: 2.98s\tremaining: 654ms\n",
            "82:\tlearn: 1809.5968316\ttotal: 3.01s\tremaining: 617ms\n",
            "83:\tlearn: 1808.3294454\ttotal: 3.04s\tremaining: 580ms\n",
            "84:\tlearn: 1806.8972809\ttotal: 3.08s\tremaining: 543ms\n",
            "85:\tlearn: 1805.4596036\ttotal: 3.11s\tremaining: 506ms\n",
            "86:\tlearn: 1803.8891546\ttotal: 3.15s\tremaining: 470ms\n",
            "87:\tlearn: 1801.5312497\ttotal: 3.18s\tremaining: 434ms\n",
            "88:\tlearn: 1799.0761255\ttotal: 3.22s\tremaining: 398ms\n",
            "89:\tlearn: 1797.2666142\ttotal: 3.26s\tremaining: 362ms\n",
            "90:\tlearn: 1796.0865435\ttotal: 3.29s\tremaining: 326ms\n",
            "91:\tlearn: 1794.5131006\ttotal: 3.33s\tremaining: 289ms\n",
            "92:\tlearn: 1792.5059710\ttotal: 3.36s\tremaining: 253ms\n",
            "93:\tlearn: 1790.1958447\ttotal: 3.4s\tremaining: 217ms\n",
            "94:\tlearn: 1788.6261155\ttotal: 3.44s\tremaining: 181ms\n",
            "95:\tlearn: 1786.8140808\ttotal: 3.48s\tremaining: 145ms\n",
            "96:\tlearn: 1784.8530476\ttotal: 3.51s\tremaining: 109ms\n",
            "97:\tlearn: 1783.8249710\ttotal: 3.55s\tremaining: 72.4ms\n",
            "98:\tlearn: 1782.8711729\ttotal: 3.58s\tremaining: 36.2ms\n",
            "99:\tlearn: 1780.8320359\ttotal: 3.62s\tremaining: 0us\n",
            "CPU times: user 3.76 s, sys: 32.7 ms, total: 3.8 s\n",
            "Wall time: 4.51 s\n"
          ]
        },
        {
          "data": {
            "text/plain": [
              "<catboost.core.CatBoostRegressor at 0x7ff80b43a520>"
            ]
          },
          "execution_count": 42,
          "metadata": {},
          "output_type": "execute_result"
        }
      ],
      "source": [
        "%%time\n",
        "model_cb = cb.CatBoostRegressor(random_state=1234, max_depth=8, iterations=100, learning_rate=0.15)\n",
        "model_cb.fit(features_train, target_train)\n"
      ]
    },
    {
      "cell_type": "code",
      "execution_count": null,
      "metadata": {
        "colab": {
          "base_uri": "https://localhost:8080/"
        },
        "id": "SR9Cm_51sFLW",
        "outputId": "d49ff470-f7ba-4453-832a-b2d05c5c8314"
      },
      "outputs": [
        {
          "name": "stdout",
          "output_type": "stream",
          "text": [
            "Качество модели CatBoost 1806.9210297933698\n",
            "CPU times: user 18.7 ms, sys: 42 µs, total: 18.7 ms\n",
            "Wall time: 16.8 ms\n"
          ]
        }
      ],
      "source": [
        "%%time\n",
        "predicted_valid = model_cb.predict(features_valid)\n",
        "cb_score = RMSE(target_valid, predicted_valid)\n",
        "print('Качество модели CatBoost', cb_score)"
      ]
    },
    {
      "cell_type": "markdown",
      "metadata": {
        "id": "A8gXcY1YsVQ4"
      },
      "source": [
        "## Анализ моделей"
      ]
    },
    {
      "cell_type": "code",
      "execution_count": null,
      "metadata": {
        "colab": {
          "base_uri": "https://localhost:8080/",
          "height": 175
        },
        "id": "MTI9DxTKsVQ5",
        "outputId": "0f154bc7-a241-41d9-faa6-be4e871ebe47"
      },
      "outputs": [
        {
          "data": {
            "text/html": [
              "<div>\n",
              "<style scoped>\n",
              "    .dataframe tbody tr th:only-of-type {\n",
              "        vertical-align: middle;\n",
              "    }\n",
              "\n",
              "    .dataframe tbody tr th {\n",
              "        vertical-align: top;\n",
              "    }\n",
              "\n",
              "    .dataframe thead th {\n",
              "        text-align: right;\n",
              "    }\n",
              "</style>\n",
              "<table border=\"1\" class=\"dataframe\">\n",
              "  <thead>\n",
              "    <tr style=\"text-align: right;\">\n",
              "      <th></th>\n",
              "      <th>Модель</th>\n",
              "      <th>Время обучение модели, сек.</th>\n",
              "      <th>Время предсказания модели, сек.</th>\n",
              "      <th>RMSE</th>\n",
              "    </tr>\n",
              "  </thead>\n",
              "  <tbody>\n",
              "    <tr>\n",
              "      <th>0</th>\n",
              "      <td>Линейная регрессия</td>\n",
              "      <td>12.20</td>\n",
              "      <td>0.084</td>\n",
              "      <td>2895.796221</td>\n",
              "    </tr>\n",
              "    <tr>\n",
              "      <th>1</th>\n",
              "      <td>Случайный лес</td>\n",
              "      <td>9.87</td>\n",
              "      <td>0.275</td>\n",
              "      <td>1769.788871</td>\n",
              "    </tr>\n",
              "    <tr>\n",
              "      <th>2</th>\n",
              "      <td>LGBMRegressor</td>\n",
              "      <td>2.71</td>\n",
              "      <td>0.511</td>\n",
              "      <td>4444.609647</td>\n",
              "    </tr>\n",
              "    <tr>\n",
              "      <th>3</th>\n",
              "      <td>CatBoostRegressor</td>\n",
              "      <td>2.07</td>\n",
              "      <td>0.014</td>\n",
              "      <td>1806.921030</td>\n",
              "    </tr>\n",
              "  </tbody>\n",
              "</table>\n",
              "</div>"
            ],
            "text/plain": [
              "               Модель  Время обучение модели, сек.  \\\n",
              "0  Линейная регрессия                        12.20   \n",
              "1       Случайный лес                         9.87   \n",
              "2       LGBMRegressor                         2.71   \n",
              "3   CatBoostRegressor                         2.07   \n",
              "\n",
              "   Время предсказания модели, сек.         RMSE  \n",
              "0                            0.084  2895.796221  \n",
              "1                            0.275  1769.788871  \n",
              "2                            0.511  4444.609647  \n",
              "3                            0.014  1806.921030  "
            ]
          },
          "metadata": {},
          "output_type": "display_data"
        }
      ],
      "source": [
        "columns = ['Модель', 'Время обучение модели, сек.', 'Время предсказания модели, сек.', 'RMSE',]\n",
        "model_lineregression = ['Линейная регрессия', 12.2, 0.084, linereg_score]\n",
        "model_forest = ['Случайный лес', 9.87, 0.275,  forest_score]\n",
        "model_lgbm = ['LGBMRegressor', 2.71, 0.511, lgb_score]\n",
        "model_cbust = ['CatBoostRegressor', 2.07, 0.014, cb_score]\n",
        "\n",
        "table = pd.DataFrame([model_lineregression, model_forest, model_lgbm, model_cbust], columns = columns)\n",
        "display(table)"
      ]
    },
    {
      "cell_type": "markdown",
      "metadata": {
        "id": "HUXi6iTaUPMb"
      },
      "source": [
        "В результате по качеству обучения моделей на тренировочной выборке наилучие результаты показала модель LGBMRegressor. Проверим эту модель на тестовой выборке."
      ]
    },
    {
      "cell_type": "code",
      "execution_count": null,
      "metadata": {
        "id": "RN9IqS5EIb3c",
        "outputId": "27c64be0-1d47-4092-ca60-f6e3e3d6487a"
      },
      "outputs": [
        {
          "name": "stdout",
          "output_type": "stream",
          "text": [
            "Качество модели градиентного бустинга LightGBM на тестовой выборке: 1667.0672923739592\n",
            "CPU times: user 7min 55s, sys: 4.79 s, total: 8min\n",
            "Wall time: 8min 3s\n"
          ]
        }
      ],
      "source": [
        "%%time\n",
        "\n",
        "model = lgb.LGBMRegressor(random_state=1234, max_depth=5, n_estimators=500, learning_rate=0.5)\n",
        "model.fit(features_train, target_train)\n",
        "predict = model.predict(features_test)\n",
        "score = RMSE(target_test, predict)\n",
        "print('Качество модели градиентного бустинга LightGBM на тестовой выборке:', score)"
      ]
    },
    {
      "cell_type": "markdown",
      "metadata": {
        "id": "54RT4xszLZzm"
      },
      "source": [
        "### Итоги.\n",
        "Целью данной работы было построение модели предсказания рыночной стоимости автомобиля с пробегом на основе данных о технических характеристиках, комплектации и ценах других автомобилей. Важными критериями качества модели являются качество предсказания, время обучения модели и время предсказания модели.\n",
        "<br/>\n",
        "<br/>\n",
        "В процессе работы с датасетом была проведена подготовка данных для будущего обучения модели. В результате предобработки данных были заполнены пропуски, исправлены аномальные значения, удалены неактульные для обучения столбцы. \n",
        "<br/>\n",
        "<br/>\n",
        "В процессе выбора наилучшей модели обучения на тренировочной выборке обучили 4 модели, замерили время их работы и качество предсказаний. В качестве моделей использованы Линейная регрессия, Случайный лес, LGBMRegressor, CatBoostRegressor.\n",
        "<br/>\n",
        "<br/>\n",
        "Наилучшие результаты на показала модель LGBMRegressor c RMSE = 385.92 и временем обучения 72 секунды. На тестовой выборке модель также показала высокое качество. \n",
        "В дальнейшем рекомендуем применять модель LGBMRegressor."
      ]
    }
  ],
  "metadata": {
    "ExecuteTimeLog": [
      {
        "duration": 402,
        "start_time": "2022-08-01T09:11:13.240Z"
      },
      {
        "duration": 1019,
        "start_time": "2022-08-01T09:12:29.338Z"
      },
      {
        "duration": 759,
        "start_time": "2022-08-01T09:12:49.816Z"
      },
      {
        "duration": 12,
        "start_time": "2022-08-01T09:13:16.380Z"
      },
      {
        "duration": 108,
        "start_time": "2022-08-01T09:13:22.008Z"
      },
      {
        "duration": 109,
        "start_time": "2022-08-01T09:37:52.528Z"
      },
      {
        "duration": 70,
        "start_time": "2022-08-01T10:55:03.547Z"
      },
      {
        "duration": 41,
        "start_time": "2022-08-01T11:09:32.072Z"
      },
      {
        "duration": 13,
        "start_time": "2022-08-01T11:09:43.166Z"
      },
      {
        "duration": 11,
        "start_time": "2022-08-01T11:09:47.416Z"
      },
      {
        "duration": 10,
        "start_time": "2022-08-01T11:10:11.078Z"
      },
      {
        "duration": 2,
        "start_time": "2022-08-01T11:10:29.604Z"
      },
      {
        "duration": 751,
        "start_time": "2022-08-01T11:10:29.609Z"
      },
      {
        "duration": 108,
        "start_time": "2022-08-01T11:10:30.361Z"
      },
      {
        "duration": 102,
        "start_time": "2022-08-01T11:10:30.471Z"
      },
      {
        "duration": 38,
        "start_time": "2022-08-01T11:10:34.258Z"
      },
      {
        "duration": 2,
        "start_time": "2022-08-01T11:10:41.717Z"
      },
      {
        "duration": 736,
        "start_time": "2022-08-01T11:10:41.740Z"
      },
      {
        "duration": 140,
        "start_time": "2022-08-01T11:10:42.479Z"
      },
      {
        "duration": 120,
        "start_time": "2022-08-01T11:10:42.621Z"
      },
      {
        "duration": 134,
        "start_time": "2022-08-01T11:10:43.456Z"
      },
      {
        "duration": 100,
        "start_time": "2022-08-01T11:25:27.578Z"
      },
      {
        "duration": 5,
        "start_time": "2022-08-01T11:28:55.657Z"
      },
      {
        "duration": 9,
        "start_time": "2022-08-01T11:29:30.905Z"
      },
      {
        "duration": 592,
        "start_time": "2022-08-01T11:29:56.674Z"
      },
      {
        "duration": 131,
        "start_time": "2022-08-01T11:30:49.890Z"
      },
      {
        "duration": 132,
        "start_time": "2022-08-01T11:30:57.950Z"
      },
      {
        "duration": 118,
        "start_time": "2022-08-01T11:31:03.051Z"
      },
      {
        "duration": 158,
        "start_time": "2022-08-01T11:31:09.166Z"
      },
      {
        "duration": 217,
        "start_time": "2022-08-01T11:31:20.646Z"
      },
      {
        "duration": 2,
        "start_time": "2022-08-01T11:32:51.255Z"
      },
      {
        "duration": 18,
        "start_time": "2022-08-01T11:35:09.016Z"
      },
      {
        "duration": 152,
        "start_time": "2022-08-01T11:35:41.591Z"
      },
      {
        "duration": 160,
        "start_time": "2022-08-01T11:36:10.760Z"
      },
      {
        "duration": 257,
        "start_time": "2022-08-01T11:36:19.746Z"
      },
      {
        "duration": 7,
        "start_time": "2022-08-01T11:37:24.769Z"
      },
      {
        "duration": 322,
        "start_time": "2022-08-01T11:39:02.894Z"
      },
      {
        "duration": 54,
        "start_time": "2022-08-01T11:39:14.474Z"
      },
      {
        "duration": 43,
        "start_time": "2022-08-01T11:39:50.417Z"
      },
      {
        "duration": 431,
        "start_time": "2022-08-01T11:39:57.243Z"
      },
      {
        "duration": 12,
        "start_time": "2022-08-01T11:40:13.075Z"
      },
      {
        "duration": 12,
        "start_time": "2022-08-01T11:40:17.574Z"
      },
      {
        "duration": 413,
        "start_time": "2022-08-01T11:41:48.647Z"
      },
      {
        "duration": 379,
        "start_time": "2022-08-01T12:24:28.574Z"
      },
      {
        "duration": 103,
        "start_time": "2022-08-01T12:25:07.049Z"
      },
      {
        "duration": 48,
        "start_time": "2022-08-01T18:40:58.368Z"
      },
      {
        "duration": 762,
        "start_time": "2022-08-01T18:41:08.000Z"
      },
      {
        "duration": 1109,
        "start_time": "2022-08-01T18:41:08.768Z"
      },
      {
        "duration": 148,
        "start_time": "2022-08-01T18:41:09.878Z"
      },
      {
        "duration": 471,
        "start_time": "2022-08-01T18:41:10.028Z"
      },
      {
        "duration": 132,
        "start_time": "2022-08-01T18:41:10.501Z"
      },
      {
        "duration": 104,
        "start_time": "2022-08-01T18:41:10.634Z"
      },
      {
        "duration": 74,
        "start_time": "2022-08-01T18:41:10.740Z"
      },
      {
        "duration": 58,
        "start_time": "2022-08-02T10:26:06.084Z"
      },
      {
        "duration": 794,
        "start_time": "2022-08-02T10:26:12.564Z"
      },
      {
        "duration": 1177,
        "start_time": "2022-08-02T10:26:13.360Z"
      },
      {
        "duration": 132,
        "start_time": "2022-08-02T10:26:14.540Z"
      },
      {
        "duration": 472,
        "start_time": "2022-08-02T10:26:14.674Z"
      },
      {
        "duration": 925,
        "start_time": "2022-08-02T10:26:18.501Z"
      },
      {
        "duration": 52,
        "start_time": "2022-08-02T10:29:39.374Z"
      },
      {
        "duration": 39,
        "start_time": "2022-08-02T10:32:49.829Z"
      },
      {
        "duration": 10,
        "start_time": "2022-08-02T10:33:06.324Z"
      },
      {
        "duration": 39,
        "start_time": "2022-08-02T10:33:17.066Z"
      },
      {
        "duration": 3,
        "start_time": "2022-08-02T10:33:35.524Z"
      },
      {
        "duration": 924,
        "start_time": "2022-08-02T10:33:35.529Z"
      },
      {
        "duration": 191,
        "start_time": "2022-08-02T10:33:36.456Z"
      },
      {
        "duration": 439,
        "start_time": "2022-08-02T10:33:36.648Z"
      },
      {
        "duration": 918,
        "start_time": "2022-08-02T10:33:37.093Z"
      },
      {
        "duration": 106,
        "start_time": "2022-08-02T10:33:38.013Z"
      },
      {
        "duration": 52,
        "start_time": "2022-08-02T10:33:38.121Z"
      },
      {
        "duration": 55,
        "start_time": "2022-08-02T10:33:38.174Z"
      },
      {
        "duration": 37,
        "start_time": "2022-08-02T10:33:43.269Z"
      },
      {
        "duration": 8,
        "start_time": "2022-08-02T10:41:39.455Z"
      },
      {
        "duration": 118,
        "start_time": "2022-08-02T10:41:53.859Z"
      },
      {
        "duration": 1622,
        "start_time": "2022-08-02T10:46:10.937Z"
      },
      {
        "duration": 227,
        "start_time": "2022-08-02T10:46:37.495Z"
      },
      {
        "duration": 186,
        "start_time": "2022-08-02T10:46:45.028Z"
      },
      {
        "duration": 115,
        "start_time": "2022-08-02T10:47:43.649Z"
      },
      {
        "duration": 357,
        "start_time": "2022-08-02T11:48:09.538Z"
      },
      {
        "duration": 99,
        "start_time": "2022-08-02T11:58:48.999Z"
      },
      {
        "duration": 4,
        "start_time": "2022-08-02T11:59:21.430Z"
      },
      {
        "duration": 980,
        "start_time": "2022-08-02T11:59:21.436Z"
      },
      {
        "duration": 193,
        "start_time": "2022-08-02T11:59:22.420Z"
      },
      {
        "duration": 57,
        "start_time": "2022-08-02T11:59:22.616Z"
      },
      {
        "duration": 275,
        "start_time": "2022-08-02T11:59:22.675Z"
      },
      {
        "duration": 569,
        "start_time": "2022-08-02T11:59:22.953Z"
      },
      {
        "duration": 149,
        "start_time": "2022-08-02T11:59:23.524Z"
      },
      {
        "duration": 81,
        "start_time": "2022-08-02T11:59:23.675Z"
      },
      {
        "duration": 422,
        "start_time": "2022-08-02T11:59:23.758Z"
      },
      {
        "duration": 138,
        "start_time": "2022-08-02T11:59:24.191Z"
      },
      {
        "duration": 5,
        "start_time": "2022-08-02T12:00:12.703Z"
      },
      {
        "duration": 1007,
        "start_time": "2022-08-02T12:00:16.523Z"
      },
      {
        "duration": 155,
        "start_time": "2022-08-02T12:00:19.818Z"
      },
      {
        "duration": 461,
        "start_time": "2022-08-02T12:01:27.721Z"
      },
      {
        "duration": 1012,
        "start_time": "2022-08-02T12:01:30.222Z"
      },
      {
        "duration": 32,
        "start_time": "2022-08-02T12:01:37.822Z"
      },
      {
        "duration": 193,
        "start_time": "2022-08-02T12:01:41.522Z"
      },
      {
        "duration": 378,
        "start_time": "2022-08-02T12:01:45.639Z"
      },
      {
        "duration": 174,
        "start_time": "2022-08-02T12:01:47.763Z"
      },
      {
        "duration": 3,
        "start_time": "2022-08-02T12:01:53.122Z"
      },
      {
        "duration": 876,
        "start_time": "2022-08-02T12:01:54.322Z"
      },
      {
        "duration": 154,
        "start_time": "2022-08-02T12:01:57.620Z"
      },
      {
        "duration": 24,
        "start_time": "2022-08-02T12:02:00.643Z"
      },
      {
        "duration": 179,
        "start_time": "2022-08-02T12:02:03.331Z"
      },
      {
        "duration": 638,
        "start_time": "2022-08-02T12:03:02.124Z"
      },
      {
        "duration": 888,
        "start_time": "2022-08-02T12:03:02.763Z"
      },
      {
        "duration": 188,
        "start_time": "2022-08-02T12:03:03.653Z"
      },
      {
        "duration": 555,
        "start_time": "2022-08-02T12:03:03.844Z"
      },
      {
        "duration": 1119,
        "start_time": "2022-08-02T12:03:04.400Z"
      },
      {
        "duration": 47,
        "start_time": "2022-08-02T12:03:05.521Z"
      },
      {
        "duration": 161,
        "start_time": "2022-08-02T12:03:05.570Z"
      },
      {
        "duration": 85,
        "start_time": "2022-08-02T12:03:05.733Z"
      },
      {
        "duration": 345,
        "start_time": "2022-08-02T12:03:05.820Z"
      },
      {
        "duration": 120,
        "start_time": "2022-08-02T12:03:06.167Z"
      },
      {
        "duration": 62,
        "start_time": "2022-08-02T12:39:21.467Z"
      },
      {
        "duration": 22,
        "start_time": "2022-08-02T12:39:45.621Z"
      },
      {
        "duration": 34,
        "start_time": "2022-08-02T12:40:03.853Z"
      },
      {
        "duration": 68,
        "start_time": "2022-08-02T12:41:26.942Z"
      },
      {
        "duration": 67,
        "start_time": "2022-08-02T12:41:55.634Z"
      },
      {
        "duration": 47,
        "start_time": "2022-08-02T12:42:03.319Z"
      },
      {
        "duration": 113,
        "start_time": "2022-08-02T12:42:15.549Z"
      },
      {
        "duration": 93,
        "start_time": "2022-08-02T12:42:44.826Z"
      },
      {
        "duration": 47,
        "start_time": "2022-08-02T12:43:04.438Z"
      },
      {
        "duration": 32,
        "start_time": "2022-08-02T12:45:20.979Z"
      },
      {
        "duration": 32,
        "start_time": "2022-08-02T12:45:38.547Z"
      },
      {
        "duration": 58,
        "start_time": "2022-08-02T12:45:57.516Z"
      },
      {
        "duration": 58,
        "start_time": "2022-08-02T12:46:18.215Z"
      },
      {
        "duration": 78,
        "start_time": "2022-08-02T12:46:21.043Z"
      },
      {
        "duration": 56,
        "start_time": "2022-08-02T12:47:28.544Z"
      },
      {
        "duration": 26,
        "start_time": "2022-08-02T12:51:49.787Z"
      },
      {
        "duration": 60,
        "start_time": "2022-08-02T12:51:55.134Z"
      },
      {
        "duration": 289,
        "start_time": "2022-08-02T12:52:54.934Z"
      },
      {
        "duration": 10964,
        "start_time": "2022-08-02T12:53:20.812Z"
      },
      {
        "duration": 836,
        "start_time": "2022-08-02T16:11:36.422Z"
      },
      {
        "duration": 1293,
        "start_time": "2022-08-02T16:11:37.260Z"
      },
      {
        "duration": 132,
        "start_time": "2022-08-02T16:11:38.555Z"
      },
      {
        "duration": 493,
        "start_time": "2022-08-02T16:11:38.688Z"
      },
      {
        "duration": 912,
        "start_time": "2022-08-02T16:11:39.183Z"
      },
      {
        "duration": 141,
        "start_time": "2022-08-02T16:11:40.096Z"
      },
      {
        "duration": 44,
        "start_time": "2022-08-02T16:11:40.239Z"
      },
      {
        "duration": 85,
        "start_time": "2022-08-02T16:11:40.285Z"
      },
      {
        "duration": 311,
        "start_time": "2022-08-02T16:11:40.372Z"
      },
      {
        "duration": 96,
        "start_time": "2022-08-02T16:11:40.685Z"
      },
      {
        "duration": 97,
        "start_time": "2022-08-02T16:11:40.783Z"
      },
      {
        "duration": 66,
        "start_time": "2022-08-02T16:11:40.881Z"
      },
      {
        "duration": 31,
        "start_time": "2022-08-02T16:11:40.949Z"
      },
      {
        "duration": 54,
        "start_time": "2022-08-02T16:11:40.982Z"
      },
      {
        "duration": 326,
        "start_time": "2022-08-02T16:11:41.037Z"
      },
      {
        "duration": 39,
        "start_time": "2022-08-02T16:26:22.533Z"
      },
      {
        "duration": 2,
        "start_time": "2022-08-02T16:28:11.338Z"
      },
      {
        "duration": 885,
        "start_time": "2022-08-02T16:28:11.342Z"
      },
      {
        "duration": 129,
        "start_time": "2022-08-02T16:28:12.229Z"
      },
      {
        "duration": 419,
        "start_time": "2022-08-02T16:28:12.360Z"
      },
      {
        "duration": 895,
        "start_time": "2022-08-02T16:28:12.782Z"
      },
      {
        "duration": 146,
        "start_time": "2022-08-02T16:28:13.678Z"
      },
      {
        "duration": 41,
        "start_time": "2022-08-02T16:28:13.828Z"
      },
      {
        "duration": 88,
        "start_time": "2022-08-02T16:28:13.871Z"
      },
      {
        "duration": 334,
        "start_time": "2022-08-02T16:28:13.961Z"
      },
      {
        "duration": 114,
        "start_time": "2022-08-02T16:28:14.296Z"
      },
      {
        "duration": 121,
        "start_time": "2022-08-02T16:28:14.412Z"
      },
      {
        "duration": 60,
        "start_time": "2022-08-02T16:28:14.537Z"
      },
      {
        "duration": 60,
        "start_time": "2022-08-02T16:28:14.614Z"
      },
      {
        "duration": 60,
        "start_time": "2022-08-02T16:28:14.677Z"
      },
      {
        "duration": 62,
        "start_time": "2022-08-02T16:28:14.739Z"
      },
      {
        "duration": 11887,
        "start_time": "2022-08-02T16:28:14.802Z"
      },
      {
        "duration": 20,
        "start_time": "2022-08-02T16:33:27.660Z"
      },
      {
        "duration": 42,
        "start_time": "2022-08-02T16:38:49.273Z"
      },
      {
        "duration": 35,
        "start_time": "2022-08-02T16:40:34.941Z"
      },
      {
        "duration": 634,
        "start_time": "2022-08-02T16:40:52.840Z"
      },
      {
        "duration": 866,
        "start_time": "2022-08-02T16:40:53.476Z"
      },
      {
        "duration": 158,
        "start_time": "2022-08-02T16:40:54.344Z"
      },
      {
        "duration": 530,
        "start_time": "2022-08-02T16:40:54.505Z"
      },
      {
        "duration": 938,
        "start_time": "2022-08-02T16:40:55.037Z"
      },
      {
        "duration": 147,
        "start_time": "2022-08-02T16:40:55.977Z"
      },
      {
        "duration": 44,
        "start_time": "2022-08-02T16:40:56.126Z"
      },
      {
        "duration": 81,
        "start_time": "2022-08-02T16:40:56.172Z"
      },
      {
        "duration": 293,
        "start_time": "2022-08-02T16:40:56.255Z"
      },
      {
        "duration": 97,
        "start_time": "2022-08-02T16:40:56.550Z"
      },
      {
        "duration": 108,
        "start_time": "2022-08-02T16:40:56.649Z"
      },
      {
        "duration": 53,
        "start_time": "2022-08-02T16:40:56.759Z"
      },
      {
        "duration": 59,
        "start_time": "2022-08-02T16:40:56.813Z"
      },
      {
        "duration": 54,
        "start_time": "2022-08-02T16:40:56.873Z"
      },
      {
        "duration": 33,
        "start_time": "2022-08-02T16:46:38.030Z"
      },
      {
        "duration": 18,
        "start_time": "2022-08-02T16:47:22.959Z"
      },
      {
        "duration": 4,
        "start_time": "2022-08-02T16:49:54.429Z"
      },
      {
        "duration": 101,
        "start_time": "2022-08-02T16:50:01.166Z"
      },
      {
        "duration": 654,
        "start_time": "2022-08-02T16:50:10.732Z"
      },
      {
        "duration": 1052,
        "start_time": "2022-08-02T16:50:11.388Z"
      },
      {
        "duration": 131,
        "start_time": "2022-08-02T16:50:12.441Z"
      },
      {
        "duration": 498,
        "start_time": "2022-08-02T16:50:12.574Z"
      },
      {
        "duration": 956,
        "start_time": "2022-08-02T16:50:13.073Z"
      },
      {
        "duration": 130,
        "start_time": "2022-08-02T16:50:14.031Z"
      },
      {
        "duration": 67,
        "start_time": "2022-08-02T16:50:14.163Z"
      },
      {
        "duration": 84,
        "start_time": "2022-08-02T16:50:14.232Z"
      },
      {
        "duration": 358,
        "start_time": "2022-08-02T16:50:14.317Z"
      },
      {
        "duration": 105,
        "start_time": "2022-08-02T16:50:14.677Z"
      },
      {
        "duration": 114,
        "start_time": "2022-08-02T16:50:14.789Z"
      },
      {
        "duration": 109,
        "start_time": "2022-08-02T16:50:14.904Z"
      },
      {
        "duration": 52,
        "start_time": "2022-08-02T16:50:15.017Z"
      },
      {
        "duration": 73,
        "start_time": "2022-08-02T16:50:15.071Z"
      },
      {
        "duration": 20,
        "start_time": "2022-08-02T16:50:15.145Z"
      },
      {
        "duration": 98,
        "start_time": "2022-08-02T16:50:47.722Z"
      },
      {
        "duration": 693,
        "start_time": "2022-08-02T16:50:58.387Z"
      },
      {
        "duration": 961,
        "start_time": "2022-08-02T16:50:59.082Z"
      },
      {
        "duration": 136,
        "start_time": "2022-08-02T16:51:00.044Z"
      },
      {
        "duration": 753,
        "start_time": "2022-08-02T16:51:00.182Z"
      },
      {
        "duration": 2199,
        "start_time": "2022-08-02T16:51:00.937Z"
      },
      {
        "duration": 131,
        "start_time": "2022-08-02T16:51:03.139Z"
      },
      {
        "duration": 65,
        "start_time": "2022-08-02T16:51:03.272Z"
      },
      {
        "duration": 98,
        "start_time": "2022-08-02T16:51:03.341Z"
      },
      {
        "duration": 338,
        "start_time": "2022-08-02T16:51:03.440Z"
      },
      {
        "duration": 103,
        "start_time": "2022-08-02T16:51:03.781Z"
      },
      {
        "duration": 142,
        "start_time": "2022-08-02T16:51:03.886Z"
      },
      {
        "duration": 91,
        "start_time": "2022-08-02T16:51:04.041Z"
      },
      {
        "duration": 40,
        "start_time": "2022-08-02T16:51:04.134Z"
      },
      {
        "duration": 87,
        "start_time": "2022-08-02T16:51:04.177Z"
      },
      {
        "duration": 18,
        "start_time": "2022-08-02T16:51:04.265Z"
      },
      {
        "duration": 98,
        "start_time": "2022-08-02T17:02:34.656Z"
      },
      {
        "duration": 60,
        "start_time": "2022-08-02T17:02:41.623Z"
      },
      {
        "duration": 93,
        "start_time": "2022-08-02T17:02:50.127Z"
      },
      {
        "duration": 624,
        "start_time": "2022-08-02T17:03:01.757Z"
      },
      {
        "duration": 872,
        "start_time": "2022-08-02T17:03:02.383Z"
      },
      {
        "duration": 134,
        "start_time": "2022-08-02T17:03:03.257Z"
      },
      {
        "duration": 482,
        "start_time": "2022-08-02T17:03:03.397Z"
      },
      {
        "duration": 1013,
        "start_time": "2022-08-02T17:03:03.880Z"
      },
      {
        "duration": 144,
        "start_time": "2022-08-02T17:03:04.895Z"
      },
      {
        "duration": 48,
        "start_time": "2022-08-02T17:03:05.040Z"
      },
      {
        "duration": 109,
        "start_time": "2022-08-02T17:03:05.111Z"
      },
      {
        "duration": 296,
        "start_time": "2022-08-02T17:03:05.222Z"
      },
      {
        "duration": 99,
        "start_time": "2022-08-02T17:03:05.520Z"
      },
      {
        "duration": 104,
        "start_time": "2022-08-02T17:03:05.621Z"
      },
      {
        "duration": 95,
        "start_time": "2022-08-02T17:03:05.726Z"
      },
      {
        "duration": 44,
        "start_time": "2022-08-02T17:03:05.823Z"
      },
      {
        "duration": 81,
        "start_time": "2022-08-02T17:03:05.869Z"
      },
      {
        "duration": 18,
        "start_time": "2022-08-02T17:03:05.952Z"
      },
      {
        "duration": 157,
        "start_time": "2022-08-02T17:08:49.629Z"
      },
      {
        "duration": 72,
        "start_time": "2022-08-02T17:12:04.125Z"
      },
      {
        "duration": 87,
        "start_time": "2022-08-02T17:13:06.325Z"
      },
      {
        "duration": 110,
        "start_time": "2022-08-02T17:13:22.927Z"
      },
      {
        "duration": 758,
        "start_time": "2022-08-02T17:13:34.127Z"
      },
      {
        "duration": 948,
        "start_time": "2022-08-02T17:13:34.887Z"
      },
      {
        "duration": 152,
        "start_time": "2022-08-02T17:13:35.836Z"
      },
      {
        "duration": 487,
        "start_time": "2022-08-02T17:13:35.990Z"
      },
      {
        "duration": 2057,
        "start_time": "2022-08-02T17:13:36.479Z"
      },
      {
        "duration": 301,
        "start_time": "2022-08-02T17:13:38.538Z"
      },
      {
        "duration": 92,
        "start_time": "2022-08-02T17:13:38.840Z"
      },
      {
        "duration": 97,
        "start_time": "2022-08-02T17:13:38.936Z"
      },
      {
        "duration": 316,
        "start_time": "2022-08-02T17:13:39.035Z"
      },
      {
        "duration": 101,
        "start_time": "2022-08-02T17:13:39.353Z"
      },
      {
        "duration": 100,
        "start_time": "2022-08-02T17:13:39.456Z"
      },
      {
        "duration": 96,
        "start_time": "2022-08-02T17:13:39.557Z"
      },
      {
        "duration": 50,
        "start_time": "2022-08-02T17:13:39.654Z"
      },
      {
        "duration": 66,
        "start_time": "2022-08-02T17:13:39.706Z"
      },
      {
        "duration": 42,
        "start_time": "2022-08-02T17:13:39.774Z"
      },
      {
        "duration": 102,
        "start_time": "2022-08-02T17:21:15.229Z"
      },
      {
        "duration": 697,
        "start_time": "2022-08-02T17:23:31.627Z"
      },
      {
        "duration": 903,
        "start_time": "2022-08-02T17:23:32.330Z"
      },
      {
        "duration": 181,
        "start_time": "2022-08-02T17:23:33.234Z"
      },
      {
        "duration": 487,
        "start_time": "2022-08-02T17:23:33.417Z"
      },
      {
        "duration": 1104,
        "start_time": "2022-08-02T17:23:33.914Z"
      },
      {
        "duration": 132,
        "start_time": "2022-08-02T17:23:35.021Z"
      },
      {
        "duration": 78,
        "start_time": "2022-08-02T17:23:35.155Z"
      },
      {
        "duration": 95,
        "start_time": "2022-08-02T17:23:35.238Z"
      },
      {
        "duration": 332,
        "start_time": "2022-08-02T17:23:35.335Z"
      },
      {
        "duration": 116,
        "start_time": "2022-08-02T17:23:35.669Z"
      },
      {
        "duration": 108,
        "start_time": "2022-08-02T17:23:35.786Z"
      },
      {
        "duration": 120,
        "start_time": "2022-08-02T17:23:35.896Z"
      },
      {
        "duration": 32,
        "start_time": "2022-08-02T17:23:36.029Z"
      },
      {
        "duration": 73,
        "start_time": "2022-08-02T17:23:36.064Z"
      },
      {
        "duration": 21,
        "start_time": "2022-08-02T17:23:36.139Z"
      },
      {
        "duration": 327,
        "start_time": "2022-08-02T17:45:04.169Z"
      },
      {
        "duration": 49,
        "start_time": "2022-08-02T17:45:25.979Z"
      },
      {
        "duration": 32,
        "start_time": "2022-08-02T17:50:24.144Z"
      },
      {
        "duration": 9,
        "start_time": "2022-08-02T17:50:58.917Z"
      },
      {
        "duration": 1147,
        "start_time": "2022-08-02T17:50:58.927Z"
      },
      {
        "duration": 140,
        "start_time": "2022-08-02T17:51:00.076Z"
      },
      {
        "duration": 452,
        "start_time": "2022-08-02T17:51:00.218Z"
      },
      {
        "duration": 909,
        "start_time": "2022-08-02T17:51:00.671Z"
      },
      {
        "duration": 153,
        "start_time": "2022-08-02T17:51:01.583Z"
      },
      {
        "duration": 38,
        "start_time": "2022-08-02T17:51:01.738Z"
      },
      {
        "duration": 88,
        "start_time": "2022-08-02T17:51:01.778Z"
      },
      {
        "duration": 319,
        "start_time": "2022-08-02T17:51:01.868Z"
      },
      {
        "duration": 99,
        "start_time": "2022-08-02T17:51:02.189Z"
      },
      {
        "duration": 93,
        "start_time": "2022-08-02T17:51:02.290Z"
      },
      {
        "duration": 54,
        "start_time": "2022-08-02T17:51:02.385Z"
      },
      {
        "duration": 18,
        "start_time": "2022-08-02T17:51:02.441Z"
      },
      {
        "duration": 82,
        "start_time": "2022-08-02T17:51:02.461Z"
      },
      {
        "duration": 31,
        "start_time": "2022-08-02T17:51:02.544Z"
      },
      {
        "duration": 96,
        "start_time": "2022-08-02T17:52:39.028Z"
      },
      {
        "duration": 31,
        "start_time": "2022-08-02T18:16:03.254Z"
      },
      {
        "duration": 38,
        "start_time": "2022-08-02T18:21:05.391Z"
      },
      {
        "duration": 88,
        "start_time": "2022-08-02T18:21:29.733Z"
      },
      {
        "duration": 647,
        "start_time": "2022-08-02T18:21:42.923Z"
      },
      {
        "duration": 892,
        "start_time": "2022-08-02T18:21:43.572Z"
      },
      {
        "duration": 155,
        "start_time": "2022-08-02T18:21:44.465Z"
      },
      {
        "duration": 522,
        "start_time": "2022-08-02T18:21:44.629Z"
      },
      {
        "duration": 941,
        "start_time": "2022-08-02T18:21:45.154Z"
      },
      {
        "duration": 133,
        "start_time": "2022-08-02T18:21:46.097Z"
      },
      {
        "duration": 46,
        "start_time": "2022-08-02T18:21:46.231Z"
      },
      {
        "duration": 103,
        "start_time": "2022-08-02T18:21:46.279Z"
      },
      {
        "duration": 294,
        "start_time": "2022-08-02T18:21:46.384Z"
      },
      {
        "duration": 97,
        "start_time": "2022-08-02T18:21:46.679Z"
      },
      {
        "duration": 92,
        "start_time": "2022-08-02T18:21:46.778Z"
      },
      {
        "duration": 57,
        "start_time": "2022-08-02T18:21:46.872Z"
      },
      {
        "duration": 24,
        "start_time": "2022-08-02T18:21:46.932Z"
      },
      {
        "duration": 76,
        "start_time": "2022-08-02T18:21:46.959Z"
      },
      {
        "duration": 19,
        "start_time": "2022-08-02T18:21:47.037Z"
      },
      {
        "duration": 92,
        "start_time": "2022-08-02T18:21:47.057Z"
      },
      {
        "duration": 168,
        "start_time": "2022-08-02T18:29:37.028Z"
      },
      {
        "duration": 274,
        "start_time": "2022-08-02T18:29:55.755Z"
      },
      {
        "duration": 303,
        "start_time": "2022-08-02T18:31:37.060Z"
      },
      {
        "duration": 373,
        "start_time": "2022-08-02T18:32:21.555Z"
      },
      {
        "duration": 346,
        "start_time": "2022-08-02T18:32:46.533Z"
      },
      {
        "duration": 301,
        "start_time": "2022-08-02T18:34:32.150Z"
      },
      {
        "duration": 308,
        "start_time": "2022-08-02T18:34:39.263Z"
      },
      {
        "duration": 267,
        "start_time": "2022-08-02T18:34:56.900Z"
      },
      {
        "duration": 363,
        "start_time": "2022-08-02T18:35:08.538Z"
      },
      {
        "duration": 590,
        "start_time": "2022-08-02T18:35:19.139Z"
      },
      {
        "duration": 731,
        "start_time": "2022-08-02T18:35:28.928Z"
      },
      {
        "duration": 1200,
        "start_time": "2022-08-02T18:35:40.836Z"
      },
      {
        "duration": 1299,
        "start_time": "2022-08-02T18:35:53.684Z"
      },
      {
        "duration": 13,
        "start_time": "2022-08-02T18:38:21.550Z"
      },
      {
        "duration": 10,
        "start_time": "2022-08-02T18:39:44.721Z"
      },
      {
        "duration": 3,
        "start_time": "2022-08-02T18:40:26.025Z"
      },
      {
        "duration": 973,
        "start_time": "2022-08-02T18:40:31.985Z"
      },
      {
        "duration": 23,
        "start_time": "2022-08-02T18:40:41.245Z"
      },
      {
        "duration": 24,
        "start_time": "2022-08-02T18:46:30.243Z"
      },
      {
        "duration": 10031,
        "start_time": "2022-08-02T18:49:12.093Z"
      },
      {
        "duration": 7,
        "start_time": "2022-08-02T18:49:30.534Z"
      },
      {
        "duration": 65,
        "start_time": "2022-08-02T18:49:42.657Z"
      },
      {
        "duration": 38,
        "start_time": "2022-08-02T18:49:45.587Z"
      },
      {
        "duration": 758,
        "start_time": "2022-08-02T19:15:45.555Z"
      },
      {
        "duration": 3607,
        "start_time": "2022-08-02T19:18:59.238Z"
      },
      {
        "duration": 37,
        "start_time": "2022-08-02T19:19:25.921Z"
      },
      {
        "duration": 3786,
        "start_time": "2022-08-02T19:19:55.467Z"
      },
      {
        "duration": 32,
        "start_time": "2022-08-02T19:19:59.255Z"
      },
      {
        "duration": 22,
        "start_time": "2022-08-02T19:27:03.119Z"
      },
      {
        "duration": 8307,
        "start_time": "2022-08-02T19:28:04.255Z"
      },
      {
        "duration": 52,
        "start_time": "2022-08-02T19:45:54.927Z"
      },
      {
        "duration": 56,
        "start_time": "2022-08-02T19:46:20.266Z"
      },
      {
        "duration": 920,
        "start_time": "2022-08-02T19:59:02.274Z"
      },
      {
        "duration": 52,
        "start_time": "2022-08-02T19:59:16.598Z"
      },
      {
        "duration": 29,
        "start_time": "2022-08-02T19:59:36.237Z"
      },
      {
        "duration": 43,
        "start_time": "2022-08-02T20:00:09.318Z"
      },
      {
        "duration": 38,
        "start_time": "2022-08-02T20:00:11.381Z"
      },
      {
        "duration": 38,
        "start_time": "2022-08-02T20:00:49.227Z"
      },
      {
        "duration": 22,
        "start_time": "2022-08-02T20:00:53.274Z"
      },
      {
        "duration": 43,
        "start_time": "2022-08-02T20:04:03.220Z"
      },
      {
        "duration": 3,
        "start_time": "2022-08-02T20:09:18.563Z"
      },
      {
        "duration": 893,
        "start_time": "2022-08-02T20:09:18.568Z"
      },
      {
        "duration": 181,
        "start_time": "2022-08-02T20:09:19.463Z"
      },
      {
        "duration": 494,
        "start_time": "2022-08-02T20:09:19.647Z"
      },
      {
        "duration": 881,
        "start_time": "2022-08-02T20:09:20.143Z"
      },
      {
        "duration": 151,
        "start_time": "2022-08-02T20:09:21.026Z"
      },
      {
        "duration": 41,
        "start_time": "2022-08-02T20:09:21.179Z"
      },
      {
        "duration": 94,
        "start_time": "2022-08-02T20:09:21.222Z"
      },
      {
        "duration": 282,
        "start_time": "2022-08-02T20:09:21.318Z"
      },
      {
        "duration": 113,
        "start_time": "2022-08-02T20:09:21.612Z"
      },
      {
        "duration": 88,
        "start_time": "2022-08-02T20:09:21.729Z"
      },
      {
        "duration": 77,
        "start_time": "2022-08-02T20:09:21.819Z"
      },
      {
        "duration": 58,
        "start_time": "2022-08-02T20:09:21.898Z"
      },
      {
        "duration": 97,
        "start_time": "2022-08-02T20:09:21.958Z"
      },
      {
        "duration": 38,
        "start_time": "2022-08-02T20:09:22.057Z"
      },
      {
        "duration": 135,
        "start_time": "2022-08-02T20:09:22.097Z"
      },
      {
        "duration": 33,
        "start_time": "2022-08-02T20:09:22.234Z"
      },
      {
        "duration": 82,
        "start_time": "2022-08-02T20:09:22.269Z"
      },
      {
        "duration": 29,
        "start_time": "2022-08-02T20:09:22.353Z"
      },
      {
        "duration": 32,
        "start_time": "2022-08-02T20:09:22.384Z"
      },
      {
        "duration": 0,
        "start_time": "2022-08-02T20:09:22.418Z"
      },
      {
        "duration": 0,
        "start_time": "2022-08-02T20:09:22.419Z"
      },
      {
        "duration": 50,
        "start_time": "2022-08-02T20:10:19.675Z"
      },
      {
        "duration": 46,
        "start_time": "2022-08-02T20:11:11.391Z"
      },
      {
        "duration": 23,
        "start_time": "2022-08-02T20:11:13.554Z"
      },
      {
        "duration": 823,
        "start_time": "2022-08-03T07:18:29.041Z"
      },
      {
        "duration": 1205,
        "start_time": "2022-08-03T07:18:29.866Z"
      },
      {
        "duration": 142,
        "start_time": "2022-08-03T07:18:31.072Z"
      },
      {
        "duration": 498,
        "start_time": "2022-08-03T07:18:31.218Z"
      },
      {
        "duration": 955,
        "start_time": "2022-08-03T07:18:31.722Z"
      },
      {
        "duration": 133,
        "start_time": "2022-08-03T07:18:32.679Z"
      },
      {
        "duration": 48,
        "start_time": "2022-08-03T07:18:32.814Z"
      },
      {
        "duration": 94,
        "start_time": "2022-08-03T07:18:32.864Z"
      },
      {
        "duration": 317,
        "start_time": "2022-08-03T07:18:32.959Z"
      },
      {
        "duration": 96,
        "start_time": "2022-08-03T07:18:33.279Z"
      },
      {
        "duration": 99,
        "start_time": "2022-08-03T07:18:33.376Z"
      },
      {
        "duration": 52,
        "start_time": "2022-08-03T07:18:33.477Z"
      },
      {
        "duration": 22,
        "start_time": "2022-08-03T07:18:33.531Z"
      },
      {
        "duration": 72,
        "start_time": "2022-08-03T07:18:33.554Z"
      },
      {
        "duration": 18,
        "start_time": "2022-08-03T07:18:33.628Z"
      },
      {
        "duration": 102,
        "start_time": "2022-08-03T07:18:33.648Z"
      },
      {
        "duration": 23,
        "start_time": "2022-08-03T07:18:33.752Z"
      },
      {
        "duration": 62,
        "start_time": "2022-08-03T07:18:33.777Z"
      },
      {
        "duration": 16,
        "start_time": "2022-08-03T07:18:33.840Z"
      },
      {
        "duration": 812,
        "start_time": "2022-08-03T07:18:33.858Z"
      },
      {
        "duration": 0,
        "start_time": "2022-08-03T07:18:34.672Z"
      },
      {
        "duration": 60,
        "start_time": "2022-08-03T07:26:00.420Z"
      },
      {
        "duration": 10,
        "start_time": "2022-08-03T07:27:29.230Z"
      },
      {
        "duration": 14,
        "start_time": "2022-08-03T07:27:54.470Z"
      },
      {
        "duration": 5,
        "start_time": "2022-08-03T07:28:21.895Z"
      },
      {
        "duration": 670,
        "start_time": "2022-08-03T07:28:29.971Z"
      },
      {
        "duration": 922,
        "start_time": "2022-08-03T07:28:30.645Z"
      },
      {
        "duration": 156,
        "start_time": "2022-08-03T07:28:31.569Z"
      },
      {
        "duration": 512,
        "start_time": "2022-08-03T07:28:31.732Z"
      },
      {
        "duration": 1027,
        "start_time": "2022-08-03T07:28:32.246Z"
      },
      {
        "duration": 169,
        "start_time": "2022-08-03T07:28:33.275Z"
      },
      {
        "duration": 46,
        "start_time": "2022-08-03T07:28:33.447Z"
      },
      {
        "duration": 94,
        "start_time": "2022-08-03T07:28:33.495Z"
      },
      {
        "duration": 375,
        "start_time": "2022-08-03T07:28:33.590Z"
      },
      {
        "duration": 109,
        "start_time": "2022-08-03T07:28:33.967Z"
      },
      {
        "duration": 116,
        "start_time": "2022-08-03T07:28:34.078Z"
      },
      {
        "duration": 58,
        "start_time": "2022-08-03T07:28:34.196Z"
      },
      {
        "duration": 38,
        "start_time": "2022-08-03T07:28:34.256Z"
      },
      {
        "duration": 110,
        "start_time": "2022-08-03T07:28:34.297Z"
      },
      {
        "duration": 39,
        "start_time": "2022-08-03T07:28:34.408Z"
      },
      {
        "duration": 112,
        "start_time": "2022-08-03T07:28:34.448Z"
      },
      {
        "duration": 21,
        "start_time": "2022-08-03T07:28:34.561Z"
      },
      {
        "duration": 28,
        "start_time": "2022-08-03T07:28:34.583Z"
      },
      {
        "duration": 62,
        "start_time": "2022-08-03T07:28:34.616Z"
      },
      {
        "duration": 41,
        "start_time": "2022-08-03T07:28:34.680Z"
      },
      {
        "duration": 966,
        "start_time": "2022-08-03T07:28:34.724Z"
      },
      {
        "duration": 0,
        "start_time": "2022-08-03T07:28:35.691Z"
      },
      {
        "duration": 42,
        "start_time": "2022-08-03T07:36:11.862Z"
      },
      {
        "duration": 9,
        "start_time": "2022-08-03T07:37:01.616Z"
      },
      {
        "duration": 41,
        "start_time": "2022-08-03T07:37:15.617Z"
      },
      {
        "duration": 12,
        "start_time": "2022-08-03T07:42:55.341Z"
      },
      {
        "duration": 627,
        "start_time": "2022-08-03T07:43:33.017Z"
      },
      {
        "duration": 798,
        "start_time": "2022-08-03T07:43:33.646Z"
      },
      {
        "duration": 129,
        "start_time": "2022-08-03T07:43:34.446Z"
      },
      {
        "duration": 465,
        "start_time": "2022-08-03T07:43:34.576Z"
      },
      {
        "duration": 963,
        "start_time": "2022-08-03T07:43:35.042Z"
      },
      {
        "duration": 138,
        "start_time": "2022-08-03T07:43:36.009Z"
      },
      {
        "duration": 44,
        "start_time": "2022-08-03T07:43:36.149Z"
      },
      {
        "duration": 89,
        "start_time": "2022-08-03T07:43:36.195Z"
      },
      {
        "duration": 270,
        "start_time": "2022-08-03T07:43:36.286Z"
      },
      {
        "duration": 90,
        "start_time": "2022-08-03T07:43:36.558Z"
      },
      {
        "duration": 87,
        "start_time": "2022-08-03T07:43:36.650Z"
      },
      {
        "duration": 34,
        "start_time": "2022-08-03T07:43:36.739Z"
      },
      {
        "duration": 42,
        "start_time": "2022-08-03T07:43:36.774Z"
      },
      {
        "duration": 53,
        "start_time": "2022-08-03T07:43:36.819Z"
      },
      {
        "duration": 35,
        "start_time": "2022-08-03T07:43:36.874Z"
      },
      {
        "duration": 78,
        "start_time": "2022-08-03T07:43:36.911Z"
      },
      {
        "duration": 34,
        "start_time": "2022-08-03T07:43:36.990Z"
      },
      {
        "duration": 11,
        "start_time": "2022-08-03T07:43:37.026Z"
      },
      {
        "duration": 72,
        "start_time": "2022-08-03T07:43:37.038Z"
      },
      {
        "duration": 73,
        "start_time": "2022-08-03T07:43:37.111Z"
      },
      {
        "duration": 0,
        "start_time": "2022-08-03T07:43:37.186Z"
      },
      {
        "duration": 0,
        "start_time": "2022-08-03T07:43:37.188Z"
      },
      {
        "duration": 0,
        "start_time": "2022-08-03T07:43:37.189Z"
      },
      {
        "duration": 7,
        "start_time": "2022-08-03T07:44:08.932Z"
      },
      {
        "duration": 22,
        "start_time": "2022-08-03T07:44:13.989Z"
      },
      {
        "duration": 681,
        "start_time": "2022-08-03T07:48:56.779Z"
      },
      {
        "duration": 846,
        "start_time": "2022-08-03T07:48:57.463Z"
      },
      {
        "duration": 130,
        "start_time": "2022-08-03T07:48:58.311Z"
      },
      {
        "duration": 442,
        "start_time": "2022-08-03T07:48:58.443Z"
      },
      {
        "duration": 891,
        "start_time": "2022-08-03T07:48:58.886Z"
      },
      {
        "duration": 107,
        "start_time": "2022-08-03T07:48:59.778Z"
      },
      {
        "duration": 56,
        "start_time": "2022-08-03T07:48:59.887Z"
      },
      {
        "duration": 77,
        "start_time": "2022-08-03T07:48:59.944Z"
      },
      {
        "duration": 291,
        "start_time": "2022-08-03T07:49:00.023Z"
      },
      {
        "duration": 138,
        "start_time": "2022-08-03T07:49:00.316Z"
      },
      {
        "duration": 188,
        "start_time": "2022-08-03T07:49:00.455Z"
      },
      {
        "duration": 97,
        "start_time": "2022-08-03T07:49:00.644Z"
      },
      {
        "duration": 89,
        "start_time": "2022-08-03T07:49:00.743Z"
      },
      {
        "duration": 106,
        "start_time": "2022-08-03T07:49:00.834Z"
      },
      {
        "duration": 72,
        "start_time": "2022-08-03T07:49:00.941Z"
      },
      {
        "duration": 139,
        "start_time": "2022-08-03T07:49:01.015Z"
      },
      {
        "duration": 81,
        "start_time": "2022-08-03T07:49:01.156Z"
      },
      {
        "duration": 10,
        "start_time": "2022-08-03T07:49:01.238Z"
      },
      {
        "duration": 264,
        "start_time": "2022-08-03T07:49:01.250Z"
      },
      {
        "duration": 0,
        "start_time": "2022-08-03T07:49:01.516Z"
      },
      {
        "duration": 0,
        "start_time": "2022-08-03T07:49:01.517Z"
      },
      {
        "duration": 0,
        "start_time": "2022-08-03T07:49:01.519Z"
      },
      {
        "duration": 76,
        "start_time": "2022-08-03T07:49:48.977Z"
      },
      {
        "duration": 6,
        "start_time": "2022-08-03T07:50:10.293Z"
      },
      {
        "duration": 21,
        "start_time": "2022-08-03T07:55:37.968Z"
      },
      {
        "duration": 5,
        "start_time": "2022-08-03T08:07:05.607Z"
      },
      {
        "duration": 7,
        "start_time": "2022-08-03T08:07:15.773Z"
      },
      {
        "duration": 9,
        "start_time": "2022-08-03T08:07:34.932Z"
      },
      {
        "duration": 6,
        "start_time": "2022-08-03T08:07:39.959Z"
      },
      {
        "duration": 2417,
        "start_time": "2022-08-03T08:11:43.557Z"
      },
      {
        "duration": 885,
        "start_time": "2022-08-03T08:12:36.955Z"
      },
      {
        "duration": 2,
        "start_time": "2022-08-03T10:25:05.111Z"
      },
      {
        "duration": 847,
        "start_time": "2022-08-03T10:25:05.115Z"
      },
      {
        "duration": 167,
        "start_time": "2022-08-03T10:25:05.964Z"
      },
      {
        "duration": 515,
        "start_time": "2022-08-03T10:25:06.134Z"
      },
      {
        "duration": 958,
        "start_time": "2022-08-03T10:25:06.652Z"
      },
      {
        "duration": 127,
        "start_time": "2022-08-03T10:25:07.611Z"
      },
      {
        "duration": 41,
        "start_time": "2022-08-03T10:25:07.741Z"
      },
      {
        "duration": 91,
        "start_time": "2022-08-03T10:25:07.783Z"
      },
      {
        "duration": 264,
        "start_time": "2022-08-03T10:25:07.876Z"
      },
      {
        "duration": 93,
        "start_time": "2022-08-03T10:25:08.142Z"
      },
      {
        "duration": 95,
        "start_time": "2022-08-03T10:25:08.238Z"
      },
      {
        "duration": 47,
        "start_time": "2022-08-03T10:25:08.334Z"
      },
      {
        "duration": 42,
        "start_time": "2022-08-03T10:25:08.383Z"
      },
      {
        "duration": 81,
        "start_time": "2022-08-03T10:25:08.428Z"
      },
      {
        "duration": 20,
        "start_time": "2022-08-03T10:25:08.511Z"
      },
      {
        "duration": 110,
        "start_time": "2022-08-03T10:25:08.533Z"
      },
      {
        "duration": 43,
        "start_time": "2022-08-03T10:25:08.645Z"
      },
      {
        "duration": 11,
        "start_time": "2022-08-03T10:25:08.689Z"
      },
      {
        "duration": 102,
        "start_time": "2022-08-03T10:25:08.703Z"
      },
      {
        "duration": 5,
        "start_time": "2022-08-03T10:25:08.806Z"
      },
      {
        "duration": 30,
        "start_time": "2022-08-03T10:25:08.813Z"
      },
      {
        "duration": 986,
        "start_time": "2022-08-03T10:25:08.844Z"
      },
      {
        "duration": 5,
        "start_time": "2022-08-03T10:26:50.230Z"
      },
      {
        "duration": 21,
        "start_time": "2022-08-03T10:27:10.337Z"
      },
      {
        "duration": 8,
        "start_time": "2022-08-03T10:27:51.966Z"
      },
      {
        "duration": 22,
        "start_time": "2022-08-03T10:29:32.182Z"
      },
      {
        "duration": 51,
        "start_time": "2022-08-03T10:41:28.330Z"
      },
      {
        "duration": 10,
        "start_time": "2022-08-03T10:41:33.926Z"
      },
      {
        "duration": 617,
        "start_time": "2022-08-03T10:41:54.619Z"
      },
      {
        "duration": 877,
        "start_time": "2022-08-03T10:41:55.238Z"
      },
      {
        "duration": 137,
        "start_time": "2022-08-03T10:41:56.116Z"
      },
      {
        "duration": 466,
        "start_time": "2022-08-03T10:41:56.255Z"
      },
      {
        "duration": 979,
        "start_time": "2022-08-03T10:41:56.723Z"
      },
      {
        "duration": 122,
        "start_time": "2022-08-03T10:41:57.703Z"
      },
      {
        "duration": 46,
        "start_time": "2022-08-03T10:41:57.827Z"
      },
      {
        "duration": 79,
        "start_time": "2022-08-03T10:41:57.875Z"
      },
      {
        "duration": 286,
        "start_time": "2022-08-03T10:41:57.956Z"
      },
      {
        "duration": 94,
        "start_time": "2022-08-03T10:41:58.245Z"
      },
      {
        "duration": 95,
        "start_time": "2022-08-03T10:41:58.341Z"
      },
      {
        "duration": 34,
        "start_time": "2022-08-03T10:41:58.437Z"
      },
      {
        "duration": 37,
        "start_time": "2022-08-03T10:41:58.472Z"
      },
      {
        "duration": 53,
        "start_time": "2022-08-03T10:41:58.511Z"
      },
      {
        "duration": 19,
        "start_time": "2022-08-03T10:41:58.566Z"
      },
      {
        "duration": 93,
        "start_time": "2022-08-03T10:41:58.587Z"
      },
      {
        "duration": 30,
        "start_time": "2022-08-03T10:41:58.681Z"
      },
      {
        "duration": 15,
        "start_time": "2022-08-03T10:41:58.713Z"
      },
      {
        "duration": 85,
        "start_time": "2022-08-03T10:41:58.730Z"
      },
      {
        "duration": 4,
        "start_time": "2022-08-03T10:41:58.817Z"
      },
      {
        "duration": 26,
        "start_time": "2022-08-03T10:41:58.823Z"
      },
      {
        "duration": 20,
        "start_time": "2022-08-03T10:41:58.850Z"
      },
      {
        "duration": 10,
        "start_time": "2022-08-03T10:46:25.023Z"
      },
      {
        "duration": 9,
        "start_time": "2022-08-03T10:46:37.432Z"
      },
      {
        "duration": 843,
        "start_time": "2022-08-03T11:04:38.633Z"
      },
      {
        "duration": 689,
        "start_time": "2022-08-03T11:08:29.077Z"
      },
      {
        "duration": 426,
        "start_time": "2022-08-03T11:09:52.593Z"
      },
      {
        "duration": 126,
        "start_time": "2022-08-03T11:11:17.470Z"
      },
      {
        "duration": 3,
        "start_time": "2022-08-03T11:12:50.932Z"
      },
      {
        "duration": 97,
        "start_time": "2022-08-03T11:15:42.986Z"
      },
      {
        "duration": 687,
        "start_time": "2022-08-03T11:15:59.025Z"
      },
      {
        "duration": 22,
        "start_time": "2022-08-03T11:32:39.350Z"
      },
      {
        "duration": 103,
        "start_time": "2022-08-03T11:33:22.270Z"
      },
      {
        "duration": 3,
        "start_time": "2022-08-03T11:35:01.708Z"
      },
      {
        "duration": 217,
        "start_time": "2022-08-03T11:35:40.808Z"
      },
      {
        "duration": 1100,
        "start_time": "2022-08-03T11:36:25.307Z"
      },
      {
        "duration": 827,
        "start_time": "2022-08-03T11:36:26.410Z"
      },
      {
        "duration": 183,
        "start_time": "2022-08-03T11:36:27.239Z"
      },
      {
        "duration": 537,
        "start_time": "2022-08-03T11:36:27.423Z"
      },
      {
        "duration": 965,
        "start_time": "2022-08-03T11:36:27.962Z"
      },
      {
        "duration": 127,
        "start_time": "2022-08-03T11:36:28.929Z"
      },
      {
        "duration": 54,
        "start_time": "2022-08-03T11:36:29.058Z"
      },
      {
        "duration": 69,
        "start_time": "2022-08-03T11:36:29.113Z"
      },
      {
        "duration": 292,
        "start_time": "2022-08-03T11:36:29.184Z"
      },
      {
        "duration": 88,
        "start_time": "2022-08-03T11:36:29.478Z"
      },
      {
        "duration": 102,
        "start_time": "2022-08-03T11:36:29.568Z"
      },
      {
        "duration": 64,
        "start_time": "2022-08-03T11:36:29.672Z"
      },
      {
        "duration": 51,
        "start_time": "2022-08-03T11:36:29.739Z"
      },
      {
        "duration": 87,
        "start_time": "2022-08-03T11:36:29.793Z"
      },
      {
        "duration": 22,
        "start_time": "2022-08-03T11:36:29.882Z"
      },
      {
        "duration": 129,
        "start_time": "2022-08-03T11:36:29.906Z"
      },
      {
        "duration": 55,
        "start_time": "2022-08-03T11:36:30.037Z"
      },
      {
        "duration": 20,
        "start_time": "2022-08-03T11:36:30.094Z"
      },
      {
        "duration": 96,
        "start_time": "2022-08-03T11:36:30.116Z"
      },
      {
        "duration": 7,
        "start_time": "2022-08-03T11:36:30.214Z"
      },
      {
        "duration": 81,
        "start_time": "2022-08-03T11:36:30.223Z"
      },
      {
        "duration": 47,
        "start_time": "2022-08-03T11:36:30.305Z"
      },
      {
        "duration": 827,
        "start_time": "2022-08-03T11:36:30.354Z"
      },
      {
        "duration": 97,
        "start_time": "2022-08-03T11:36:31.183Z"
      },
      {
        "duration": 0,
        "start_time": "2022-08-03T11:36:31.283Z"
      },
      {
        "duration": 0,
        "start_time": "2022-08-03T11:36:31.284Z"
      },
      {
        "duration": 0,
        "start_time": "2022-08-03T11:36:31.285Z"
      },
      {
        "duration": 41,
        "start_time": "2022-08-03T11:36:56.540Z"
      },
      {
        "duration": 19,
        "start_time": "2022-08-03T11:37:03.173Z"
      },
      {
        "duration": 104,
        "start_time": "2022-08-03T11:37:09.671Z"
      },
      {
        "duration": 9,
        "start_time": "2022-08-03T11:46:03.214Z"
      },
      {
        "duration": 4,
        "start_time": "2022-08-03T11:47:19.535Z"
      },
      {
        "duration": 3,
        "start_time": "2022-08-03T11:47:23.508Z"
      },
      {
        "duration": 3,
        "start_time": "2022-08-03T11:56:00.904Z"
      },
      {
        "duration": 21,
        "start_time": "2022-08-03T12:01:06.551Z"
      },
      {
        "duration": 3,
        "start_time": "2022-08-03T12:06:03.875Z"
      },
      {
        "duration": 66,
        "start_time": "2022-08-03T12:36:51.920Z"
      },
      {
        "duration": 12,
        "start_time": "2022-08-03T12:44:02.024Z"
      },
      {
        "duration": 10,
        "start_time": "2022-08-03T12:45:50.647Z"
      },
      {
        "duration": 1593,
        "start_time": "2022-08-03T12:46:40.020Z"
      },
      {
        "duration": 1429,
        "start_time": "2022-08-03T12:46:50.582Z"
      },
      {
        "duration": 5,
        "start_time": "2022-08-03T12:47:54.344Z"
      },
      {
        "duration": 762,
        "start_time": "2022-08-03T12:47:54.355Z"
      },
      {
        "duration": 128,
        "start_time": "2022-08-03T12:47:55.119Z"
      },
      {
        "duration": 408,
        "start_time": "2022-08-03T12:47:55.249Z"
      },
      {
        "duration": 869,
        "start_time": "2022-08-03T12:47:55.660Z"
      },
      {
        "duration": 111,
        "start_time": "2022-08-03T12:47:56.530Z"
      },
      {
        "duration": 32,
        "start_time": "2022-08-03T12:47:56.642Z"
      },
      {
        "duration": 84,
        "start_time": "2022-08-03T12:47:56.676Z"
      },
      {
        "duration": 278,
        "start_time": "2022-08-03T12:47:56.762Z"
      },
      {
        "duration": 83,
        "start_time": "2022-08-03T12:47:57.041Z"
      },
      {
        "duration": 91,
        "start_time": "2022-08-03T12:47:57.127Z"
      },
      {
        "duration": 33,
        "start_time": "2022-08-03T12:47:57.220Z"
      },
      {
        "duration": 35,
        "start_time": "2022-08-03T12:47:57.254Z"
      },
      {
        "duration": 77,
        "start_time": "2022-08-03T12:47:57.291Z"
      },
      {
        "duration": 26,
        "start_time": "2022-08-03T12:47:57.371Z"
      },
      {
        "duration": 125,
        "start_time": "2022-08-03T12:47:57.408Z"
      },
      {
        "duration": 30,
        "start_time": "2022-08-03T12:47:57.535Z"
      },
      {
        "duration": 18,
        "start_time": "2022-08-03T12:47:57.567Z"
      },
      {
        "duration": 91,
        "start_time": "2022-08-03T12:47:57.586Z"
      },
      {
        "duration": 7,
        "start_time": "2022-08-03T12:47:57.678Z"
      },
      {
        "duration": 56,
        "start_time": "2022-08-03T12:47:57.687Z"
      },
      {
        "duration": 25,
        "start_time": "2022-08-03T12:47:57.745Z"
      },
      {
        "duration": 715,
        "start_time": "2022-08-03T12:47:57.772Z"
      },
      {
        "duration": 39,
        "start_time": "2022-08-03T12:47:58.488Z"
      },
      {
        "duration": 17,
        "start_time": "2022-08-03T12:47:58.529Z"
      },
      {
        "duration": 6,
        "start_time": "2022-08-03T12:47:58.548Z"
      },
      {
        "duration": 1560,
        "start_time": "2022-08-03T12:47:58.556Z"
      },
      {
        "duration": 95,
        "start_time": "2022-08-03T12:48:00.119Z"
      },
      {
        "duration": 0,
        "start_time": "2022-08-03T12:48:00.216Z"
      },
      {
        "duration": 1110,
        "start_time": "2022-08-03T12:48:49.294Z"
      },
      {
        "duration": 960,
        "start_time": "2022-08-03T12:48:50.406Z"
      },
      {
        "duration": 182,
        "start_time": "2022-08-03T12:48:51.368Z"
      },
      {
        "duration": 550,
        "start_time": "2022-08-03T12:48:51.552Z"
      },
      {
        "duration": 1132,
        "start_time": "2022-08-03T12:48:52.104Z"
      },
      {
        "duration": 133,
        "start_time": "2022-08-03T12:48:53.239Z"
      },
      {
        "duration": 57,
        "start_time": "2022-08-03T12:48:53.374Z"
      },
      {
        "duration": 92,
        "start_time": "2022-08-03T12:48:53.433Z"
      },
      {
        "duration": 348,
        "start_time": "2022-08-03T12:48:53.528Z"
      },
      {
        "duration": 104,
        "start_time": "2022-08-03T12:48:53.878Z"
      },
      {
        "duration": 104,
        "start_time": "2022-08-03T12:48:53.984Z"
      },
      {
        "duration": 58,
        "start_time": "2022-08-03T12:48:54.090Z"
      },
      {
        "duration": 27,
        "start_time": "2022-08-03T12:48:54.150Z"
      },
      {
        "duration": 83,
        "start_time": "2022-08-03T12:48:54.179Z"
      },
      {
        "duration": 19,
        "start_time": "2022-08-03T12:48:54.263Z"
      },
      {
        "duration": 109,
        "start_time": "2022-08-03T12:48:54.284Z"
      },
      {
        "duration": 45,
        "start_time": "2022-08-03T12:48:54.394Z"
      },
      {
        "duration": 15,
        "start_time": "2022-08-03T12:48:54.441Z"
      },
      {
        "duration": 95,
        "start_time": "2022-08-03T12:48:54.457Z"
      },
      {
        "duration": 6,
        "start_time": "2022-08-03T12:48:54.554Z"
      },
      {
        "duration": 19,
        "start_time": "2022-08-03T12:48:54.562Z"
      },
      {
        "duration": 37,
        "start_time": "2022-08-03T12:48:54.583Z"
      },
      {
        "duration": 840,
        "start_time": "2022-08-03T12:48:54.622Z"
      },
      {
        "duration": 48,
        "start_time": "2022-08-03T12:48:55.464Z"
      },
      {
        "duration": 26,
        "start_time": "2022-08-03T12:48:55.518Z"
      },
      {
        "duration": 3,
        "start_time": "2022-08-03T12:48:55.546Z"
      },
      {
        "duration": 1882,
        "start_time": "2022-08-03T12:48:55.550Z"
      },
      {
        "duration": 196,
        "start_time": "2022-08-03T12:48:57.439Z"
      },
      {
        "duration": 0,
        "start_time": "2022-08-03T12:48:57.639Z"
      },
      {
        "duration": 801,
        "start_time": "2022-08-03T12:50:01.229Z"
      },
      {
        "duration": 103,
        "start_time": "2022-08-03T12:50:39.423Z"
      },
      {
        "duration": 908,
        "start_time": "2022-08-03T12:50:53.127Z"
      },
      {
        "duration": 11,
        "start_time": "2022-08-03T12:53:30.922Z"
      },
      {
        "duration": 1900,
        "start_time": "2022-08-03T12:56:56.332Z"
      },
      {
        "duration": 4,
        "start_time": "2022-08-03T12:57:25.165Z"
      },
      {
        "duration": 1732,
        "start_time": "2022-08-03T12:57:36.694Z"
      },
      {
        "duration": 960,
        "start_time": "2022-08-03T12:59:09.558Z"
      },
      {
        "duration": 770,
        "start_time": "2022-08-03T13:02:22.341Z"
      },
      {
        "duration": 43,
        "start_time": "2022-08-03T13:25:09.690Z"
      },
      {
        "duration": 1735001,
        "start_time": "2022-08-03T13:28:39.655Z"
      },
      {
        "duration": 74,
        "start_time": "2022-08-03T18:04:01.278Z"
      },
      {
        "duration": 1143,
        "start_time": "2022-08-03T18:07:48.434Z"
      },
      {
        "duration": 832,
        "start_time": "2022-08-03T18:07:49.579Z"
      },
      {
        "duration": 133,
        "start_time": "2022-08-03T18:07:50.413Z"
      },
      {
        "duration": 587,
        "start_time": "2022-08-03T18:07:50.548Z"
      },
      {
        "duration": 1711,
        "start_time": "2022-08-03T18:07:51.136Z"
      },
      {
        "duration": 118,
        "start_time": "2022-08-03T18:07:52.848Z"
      },
      {
        "duration": 54,
        "start_time": "2022-08-03T18:07:52.968Z"
      },
      {
        "duration": 66,
        "start_time": "2022-08-03T18:07:53.023Z"
      },
      {
        "duration": 278,
        "start_time": "2022-08-03T18:07:53.090Z"
      },
      {
        "duration": 84,
        "start_time": "2022-08-03T18:07:53.371Z"
      },
      {
        "duration": 92,
        "start_time": "2022-08-03T18:07:53.457Z"
      },
      {
        "duration": 32,
        "start_time": "2022-08-03T18:07:53.551Z"
      },
      {
        "duration": 36,
        "start_time": "2022-08-03T18:07:53.585Z"
      },
      {
        "duration": 71,
        "start_time": "2022-08-03T18:07:53.622Z"
      },
      {
        "duration": 20,
        "start_time": "2022-08-03T18:07:53.694Z"
      },
      {
        "duration": 78,
        "start_time": "2022-08-03T18:07:53.716Z"
      },
      {
        "duration": 39,
        "start_time": "2022-08-03T18:07:53.795Z"
      },
      {
        "duration": 15,
        "start_time": "2022-08-03T18:07:53.835Z"
      },
      {
        "duration": 92,
        "start_time": "2022-08-03T18:07:53.851Z"
      },
      {
        "duration": 9,
        "start_time": "2022-08-03T18:07:53.945Z"
      },
      {
        "duration": 28,
        "start_time": "2022-08-03T18:07:53.955Z"
      },
      {
        "duration": 37,
        "start_time": "2022-08-03T18:07:53.985Z"
      },
      {
        "duration": 703,
        "start_time": "2022-08-03T18:07:54.024Z"
      },
      {
        "duration": 39,
        "start_time": "2022-08-03T18:07:54.729Z"
      },
      {
        "duration": 19,
        "start_time": "2022-08-03T18:07:54.770Z"
      },
      {
        "duration": 105,
        "start_time": "2022-08-03T18:07:54.791Z"
      },
      {
        "duration": 11,
        "start_time": "2022-08-03T18:07:54.898Z"
      },
      {
        "duration": 338,
        "start_time": "2022-08-03T18:07:54.912Z"
      },
      {
        "duration": 1145,
        "start_time": "2022-08-03T18:12:57.049Z"
      },
      {
        "duration": 861,
        "start_time": "2022-08-03T18:12:58.196Z"
      },
      {
        "duration": 140,
        "start_time": "2022-08-03T18:12:59.059Z"
      },
      {
        "duration": 569,
        "start_time": "2022-08-03T18:12:59.201Z"
      },
      {
        "duration": 1057,
        "start_time": "2022-08-03T18:12:59.772Z"
      },
      {
        "duration": 122,
        "start_time": "2022-08-03T18:13:00.831Z"
      },
      {
        "duration": 57,
        "start_time": "2022-08-03T18:13:00.954Z"
      },
      {
        "duration": 81,
        "start_time": "2022-08-03T18:13:01.013Z"
      },
      {
        "duration": 427,
        "start_time": "2022-08-03T18:13:01.110Z"
      },
      {
        "duration": 193,
        "start_time": "2022-08-03T18:13:01.541Z"
      },
      {
        "duration": 201,
        "start_time": "2022-08-03T18:13:01.736Z"
      },
      {
        "duration": 106,
        "start_time": "2022-08-03T18:13:01.940Z"
      },
      {
        "duration": 91,
        "start_time": "2022-08-03T18:13:02.047Z"
      },
      {
        "duration": 175,
        "start_time": "2022-08-03T18:13:02.140Z"
      },
      {
        "duration": 20,
        "start_time": "2022-08-03T18:13:02.317Z"
      },
      {
        "duration": 190,
        "start_time": "2022-08-03T18:13:02.340Z"
      },
      {
        "duration": 85,
        "start_time": "2022-08-03T18:13:02.532Z"
      },
      {
        "duration": 15,
        "start_time": "2022-08-03T18:13:02.619Z"
      },
      {
        "duration": 183,
        "start_time": "2022-08-03T18:13:02.635Z"
      },
      {
        "duration": 7,
        "start_time": "2022-08-03T18:13:02.819Z"
      },
      {
        "duration": 20,
        "start_time": "2022-08-03T18:13:02.828Z"
      },
      {
        "duration": 80,
        "start_time": "2022-08-03T18:13:02.849Z"
      },
      {
        "duration": 885,
        "start_time": "2022-08-03T18:13:02.931Z"
      },
      {
        "duration": 47,
        "start_time": "2022-08-03T18:13:03.818Z"
      },
      {
        "duration": 21,
        "start_time": "2022-08-03T18:13:03.867Z"
      },
      {
        "duration": 127,
        "start_time": "2022-08-03T18:13:03.889Z"
      },
      {
        "duration": 3,
        "start_time": "2022-08-03T18:13:04.019Z"
      },
      {
        "duration": 786,
        "start_time": "2022-08-03T18:13:04.025Z"
      },
      {
        "duration": 850617,
        "start_time": "2022-08-03T18:13:04.813Z"
      },
      {
        "duration": 1797,
        "start_time": "2022-08-03T18:27:15.431Z"
      },
      {
        "duration": 126,
        "start_time": "2022-08-03T18:27:17.230Z"
      },
      {
        "duration": 0,
        "start_time": "2022-08-03T18:27:17.359Z"
      },
      {
        "duration": 1210,
        "start_time": "2022-08-03T19:23:15.477Z"
      },
      {
        "duration": 890,
        "start_time": "2022-08-03T19:23:16.689Z"
      },
      {
        "duration": 144,
        "start_time": "2022-08-03T19:23:17.580Z"
      },
      {
        "duration": 491,
        "start_time": "2022-08-03T19:23:17.726Z"
      },
      {
        "duration": 963,
        "start_time": "2022-08-03T19:23:18.220Z"
      },
      {
        "duration": 121,
        "start_time": "2022-08-03T19:23:19.184Z"
      },
      {
        "duration": 48,
        "start_time": "2022-08-03T19:23:19.309Z"
      },
      {
        "duration": 86,
        "start_time": "2022-08-03T19:23:19.358Z"
      },
      {
        "duration": 279,
        "start_time": "2022-08-03T19:23:19.446Z"
      },
      {
        "duration": 92,
        "start_time": "2022-08-03T19:23:19.728Z"
      },
      {
        "duration": 97,
        "start_time": "2022-08-03T19:23:19.825Z"
      },
      {
        "duration": 33,
        "start_time": "2022-08-03T19:23:19.924Z"
      },
      {
        "duration": 21,
        "start_time": "2022-08-03T19:23:19.959Z"
      },
      {
        "duration": 75,
        "start_time": "2022-08-03T19:23:19.982Z"
      },
      {
        "duration": 20,
        "start_time": "2022-08-03T19:23:20.059Z"
      },
      {
        "duration": 88,
        "start_time": "2022-08-03T19:23:20.080Z"
      },
      {
        "duration": 20,
        "start_time": "2022-08-03T19:23:20.169Z"
      },
      {
        "duration": 32,
        "start_time": "2022-08-03T19:23:20.191Z"
      },
      {
        "duration": 74,
        "start_time": "2022-08-03T19:23:20.225Z"
      },
      {
        "duration": 17,
        "start_time": "2022-08-03T19:23:20.301Z"
      },
      {
        "duration": 22,
        "start_time": "2022-08-03T19:23:20.319Z"
      },
      {
        "duration": 19,
        "start_time": "2022-08-03T19:23:20.343Z"
      },
      {
        "duration": 756,
        "start_time": "2022-08-03T19:23:20.364Z"
      },
      {
        "duration": 41,
        "start_time": "2022-08-03T19:23:21.122Z"
      },
      {
        "duration": 20,
        "start_time": "2022-08-03T19:23:21.164Z"
      },
      {
        "duration": 108,
        "start_time": "2022-08-03T19:23:21.186Z"
      },
      {
        "duration": 4,
        "start_time": "2022-08-03T19:23:21.296Z"
      },
      {
        "duration": 1519,
        "start_time": "2022-08-03T19:23:21.310Z"
      },
      {
        "duration": 824322,
        "start_time": "2022-08-03T19:23:22.909Z"
      },
      {
        "duration": 1802,
        "start_time": "2022-08-03T19:37:07.233Z"
      },
      {
        "duration": 109,
        "start_time": "2022-08-03T19:37:09.036Z"
      },
      {
        "duration": 0,
        "start_time": "2022-08-03T19:37:09.146Z"
      },
      {
        "duration": 1210322,
        "start_time": "2022-08-03T20:06:22.425Z"
      },
      {
        "duration": 35985,
        "start_time": "2022-08-03T20:34:06.330Z"
      },
      {
        "duration": 1238,
        "start_time": "2022-08-04T10:51:29.630Z"
      },
      {
        "duration": 1218,
        "start_time": "2022-08-04T10:51:30.870Z"
      },
      {
        "duration": 121,
        "start_time": "2022-08-04T10:51:32.090Z"
      },
      {
        "duration": 489,
        "start_time": "2022-08-04T10:51:32.214Z"
      },
      {
        "duration": 976,
        "start_time": "2022-08-04T10:51:32.706Z"
      },
      {
        "duration": 132,
        "start_time": "2022-08-04T10:51:33.684Z"
      },
      {
        "duration": 45,
        "start_time": "2022-08-04T10:51:33.818Z"
      },
      {
        "duration": 93,
        "start_time": "2022-08-04T10:51:33.865Z"
      },
      {
        "duration": 266,
        "start_time": "2022-08-04T10:51:33.960Z"
      },
      {
        "duration": 85,
        "start_time": "2022-08-04T10:51:34.230Z"
      },
      {
        "duration": 92,
        "start_time": "2022-08-04T10:51:34.317Z"
      },
      {
        "duration": 33,
        "start_time": "2022-08-04T10:51:34.411Z"
      },
      {
        "duration": 22,
        "start_time": "2022-08-04T10:51:34.447Z"
      },
      {
        "duration": 76,
        "start_time": "2022-08-04T10:51:34.470Z"
      },
      {
        "duration": 20,
        "start_time": "2022-08-04T10:51:34.547Z"
      },
      {
        "duration": 97,
        "start_time": "2022-08-04T10:51:34.569Z"
      },
      {
        "duration": 35,
        "start_time": "2022-08-04T10:51:34.668Z"
      },
      {
        "duration": 16,
        "start_time": "2022-08-04T10:51:34.704Z"
      },
      {
        "duration": 101,
        "start_time": "2022-08-04T10:51:34.722Z"
      },
      {
        "duration": 9,
        "start_time": "2022-08-04T10:51:34.826Z"
      },
      {
        "duration": 25,
        "start_time": "2022-08-04T10:51:34.836Z"
      },
      {
        "duration": 50,
        "start_time": "2022-08-04T10:51:34.863Z"
      },
      {
        "duration": 757,
        "start_time": "2022-08-04T10:51:34.915Z"
      },
      {
        "duration": 47,
        "start_time": "2022-08-04T10:51:35.674Z"
      },
      {
        "duration": 19,
        "start_time": "2022-08-04T10:51:35.723Z"
      },
      {
        "duration": 118,
        "start_time": "2022-08-04T10:51:35.744Z"
      },
      {
        "duration": 3,
        "start_time": "2022-08-04T10:51:35.863Z"
      },
      {
        "duration": 2587,
        "start_time": "2022-08-04T10:54:49.437Z"
      },
      {
        "duration": 437745,
        "start_time": "2022-08-04T10:56:19.606Z"
      },
      {
        "duration": 132,
        "start_time": "2022-08-04T11:03:37.353Z"
      },
      {
        "duration": 417128,
        "start_time": "2022-08-04T11:08:39.538Z"
      },
      {
        "duration": 7120,
        "start_time": "2022-08-04T11:18:24.355Z"
      },
      {
        "duration": 2589,
        "start_time": "2022-08-04T11:18:51.327Z"
      },
      {
        "duration": 9,
        "start_time": "2022-08-04T11:19:03.475Z"
      },
      {
        "duration": 4,
        "start_time": "2022-08-05T05:26:43.353Z"
      },
      {
        "duration": 136,
        "start_time": "2022-08-05T07:15:02.854Z"
      },
      {
        "duration": 47,
        "start_time": "2022-08-05T07:45:26.345Z"
      },
      {
        "duration": 3,
        "start_time": "2022-08-05T07:45:32.316Z"
      },
      {
        "duration": 1269,
        "start_time": "2022-08-05T07:45:32.322Z"
      },
      {
        "duration": 1083,
        "start_time": "2022-08-05T07:45:33.592Z"
      },
      {
        "duration": 101,
        "start_time": "2022-08-05T07:45:34.676Z"
      },
      {
        "duration": 476,
        "start_time": "2022-08-05T07:45:34.779Z"
      },
      {
        "duration": 902,
        "start_time": "2022-08-05T07:45:35.257Z"
      },
      {
        "duration": 101,
        "start_time": "2022-08-05T07:45:36.161Z"
      },
      {
        "duration": 2103,
        "start_time": "2022-08-05T07:45:42.551Z"
      },
      {
        "duration": 4,
        "start_time": "2022-08-05T07:46:00.229Z"
      },
      {
        "duration": 34,
        "start_time": "2022-08-05T07:46:07.311Z"
      },
      {
        "duration": 470,
        "start_time": "2022-08-05T07:47:30.309Z"
      },
      {
        "duration": 2089,
        "start_time": "2022-08-05T07:57:05.016Z"
      },
      {
        "duration": 1441,
        "start_time": "2022-08-05T07:57:07.107Z"
      },
      {
        "duration": 1151,
        "start_time": "2022-08-05T07:57:08.549Z"
      },
      {
        "duration": 117,
        "start_time": "2022-08-05T07:57:09.703Z"
      },
      {
        "duration": 502,
        "start_time": "2022-08-05T07:57:09.821Z"
      },
      {
        "duration": 960,
        "start_time": "2022-08-05T07:57:10.325Z"
      },
      {
        "duration": 117,
        "start_time": "2022-08-05T07:57:11.287Z"
      },
      {
        "duration": 28,
        "start_time": "2022-08-05T07:57:11.405Z"
      },
      {
        "duration": 72,
        "start_time": "2022-08-05T07:57:11.438Z"
      },
      {
        "duration": 213,
        "start_time": "2022-08-05T07:57:11.514Z"
      },
      {
        "duration": 82,
        "start_time": "2022-08-05T07:57:11.729Z"
      },
      {
        "duration": 235,
        "start_time": "2022-08-05T07:57:11.812Z"
      },
      {
        "duration": 81,
        "start_time": "2022-08-05T07:57:12.049Z"
      },
      {
        "duration": 73,
        "start_time": "2022-08-05T07:57:12.132Z"
      },
      {
        "duration": 28,
        "start_time": "2022-08-05T07:57:12.207Z"
      },
      {
        "duration": 21,
        "start_time": "2022-08-05T07:57:12.236Z"
      },
      {
        "duration": 98,
        "start_time": "2022-08-05T07:57:12.258Z"
      },
      {
        "duration": 18,
        "start_time": "2022-08-05T07:57:12.358Z"
      },
      {
        "duration": 76,
        "start_time": "2022-08-05T07:57:12.378Z"
      },
      {
        "duration": 22,
        "start_time": "2022-08-05T07:57:12.455Z"
      },
      {
        "duration": 35,
        "start_time": "2022-08-05T07:57:12.479Z"
      },
      {
        "duration": 98,
        "start_time": "2022-08-05T07:57:12.516Z"
      },
      {
        "duration": 8,
        "start_time": "2022-08-05T07:57:12.616Z"
      },
      {
        "duration": 21,
        "start_time": "2022-08-05T07:57:12.626Z"
      },
      {
        "duration": 21,
        "start_time": "2022-08-05T07:57:12.649Z"
      },
      {
        "duration": 728,
        "start_time": "2022-08-05T07:57:12.672Z"
      },
      {
        "duration": 1942,
        "start_time": "2022-08-05T07:57:13.402Z"
      },
      {
        "duration": 37,
        "start_time": "2022-08-05T07:57:15.400Z"
      },
      {
        "duration": 69,
        "start_time": "2022-08-05T07:57:15.439Z"
      },
      {
        "duration": 290,
        "start_time": "2022-08-05T07:57:15.511Z"
      },
      {
        "duration": 3,
        "start_time": "2022-08-05T07:57:15.803Z"
      },
      {
        "duration": 2305,
        "start_time": "2022-08-05T07:57:15.807Z"
      },
      {
        "duration": 170263,
        "start_time": "2022-08-05T07:57:18.114Z"
      },
      {
        "duration": 9737,
        "start_time": "2022-08-05T08:00:08.378Z"
      },
      {
        "duration": 393576,
        "start_time": "2022-08-05T08:00:18.117Z"
      },
      {
        "duration": 0,
        "start_time": "2022-08-05T08:06:51.696Z"
      },
      {
        "duration": 0,
        "start_time": "2022-08-05T08:06:51.697Z"
      },
      {
        "duration": 1,
        "start_time": "2022-08-05T08:06:51.698Z"
      },
      {
        "duration": 0,
        "start_time": "2022-08-05T08:06:51.700Z"
      },
      {
        "duration": 0,
        "start_time": "2022-08-05T08:06:51.701Z"
      },
      {
        "duration": 0,
        "start_time": "2022-08-05T08:06:51.702Z"
      },
      {
        "duration": 0,
        "start_time": "2022-08-05T08:06:51.705Z"
      },
      {
        "duration": 0,
        "start_time": "2022-08-05T08:06:51.706Z"
      },
      {
        "duration": 0,
        "start_time": "2022-08-05T08:06:51.707Z"
      },
      {
        "duration": 1930,
        "start_time": "2022-08-05T08:06:57.994Z"
      },
      {
        "duration": 4,
        "start_time": "2022-08-05T08:06:59.927Z"
      },
      {
        "duration": 858,
        "start_time": "2022-08-05T08:06:59.932Z"
      },
      {
        "duration": 192,
        "start_time": "2022-08-05T08:07:00.792Z"
      },
      {
        "duration": 688,
        "start_time": "2022-08-05T08:07:00.986Z"
      },
      {
        "duration": 1058,
        "start_time": "2022-08-05T08:07:01.676Z"
      },
      {
        "duration": 111,
        "start_time": "2022-08-05T08:07:02.736Z"
      },
      {
        "duration": 27,
        "start_time": "2022-08-05T08:07:02.849Z"
      },
      {
        "duration": 53,
        "start_time": "2022-08-05T08:07:02.878Z"
      },
      {
        "duration": 175,
        "start_time": "2022-08-05T08:07:02.934Z"
      },
      {
        "duration": 66,
        "start_time": "2022-08-05T08:07:03.110Z"
      },
      {
        "duration": 267,
        "start_time": "2022-08-05T08:07:03.179Z"
      },
      {
        "duration": 77,
        "start_time": "2022-08-05T08:07:03.448Z"
      },
      {
        "duration": 124,
        "start_time": "2022-08-05T08:07:03.527Z"
      },
      {
        "duration": 66,
        "start_time": "2022-08-05T08:07:03.653Z"
      },
      {
        "duration": 31,
        "start_time": "2022-08-05T08:07:03.721Z"
      },
      {
        "duration": 45,
        "start_time": "2022-08-05T08:07:03.754Z"
      },
      {
        "duration": 23,
        "start_time": "2022-08-05T08:07:03.802Z"
      },
      {
        "duration": 81,
        "start_time": "2022-08-05T08:07:03.827Z"
      },
      {
        "duration": 29,
        "start_time": "2022-08-05T08:07:03.910Z"
      },
      {
        "duration": 20,
        "start_time": "2022-08-05T08:07:03.941Z"
      },
      {
        "duration": 115,
        "start_time": "2022-08-05T08:07:03.963Z"
      },
      {
        "duration": 22,
        "start_time": "2022-08-05T08:07:04.080Z"
      },
      {
        "duration": 28,
        "start_time": "2022-08-05T08:07:04.103Z"
      },
      {
        "duration": 25,
        "start_time": "2022-08-05T08:07:04.133Z"
      },
      {
        "duration": 698,
        "start_time": "2022-08-05T08:07:04.160Z"
      },
      {
        "duration": 1121,
        "start_time": "2022-08-05T08:07:04.860Z"
      },
      {
        "duration": 497,
        "start_time": "2022-08-05T08:07:05.984Z"
      },
      {
        "duration": 147,
        "start_time": "2022-08-05T08:07:06.482Z"
      },
      {
        "duration": 99,
        "start_time": "2022-08-05T08:07:06.631Z"
      },
      {
        "duration": 3,
        "start_time": "2022-08-05T08:07:06.732Z"
      },
      {
        "duration": 187759,
        "start_time": "2022-08-05T08:07:22.047Z"
      },
      {
        "duration": 2086,
        "start_time": "2022-08-05T08:16:18.325Z"
      },
      {
        "duration": 3,
        "start_time": "2022-08-05T08:16:20.414Z"
      },
      {
        "duration": 715,
        "start_time": "2022-08-05T08:16:20.419Z"
      },
      {
        "duration": 109,
        "start_time": "2022-08-05T08:16:21.136Z"
      },
      {
        "duration": 441,
        "start_time": "2022-08-05T08:16:21.247Z"
      },
      {
        "duration": 829,
        "start_time": "2022-08-05T08:16:21.690Z"
      },
      {
        "duration": 115,
        "start_time": "2022-08-05T08:16:22.521Z"
      },
      {
        "duration": 27,
        "start_time": "2022-08-05T08:16:22.638Z"
      },
      {
        "duration": 52,
        "start_time": "2022-08-05T08:16:22.667Z"
      },
      {
        "duration": 266,
        "start_time": "2022-08-05T08:16:22.722Z"
      },
      {
        "duration": 89,
        "start_time": "2022-08-05T08:16:22.990Z"
      },
      {
        "duration": 285,
        "start_time": "2022-08-05T08:16:23.080Z"
      },
      {
        "duration": 107,
        "start_time": "2022-08-05T08:16:23.367Z"
      },
      {
        "duration": 76,
        "start_time": "2022-08-05T08:16:23.475Z"
      },
      {
        "duration": 42,
        "start_time": "2022-08-05T08:16:23.552Z"
      },
      {
        "duration": 25,
        "start_time": "2022-08-05T08:16:23.596Z"
      },
      {
        "duration": 61,
        "start_time": "2022-08-05T08:16:23.623Z"
      },
      {
        "duration": 27,
        "start_time": "2022-08-05T08:16:23.686Z"
      },
      {
        "duration": 92,
        "start_time": "2022-08-05T08:16:23.715Z"
      },
      {
        "duration": 26,
        "start_time": "2022-08-05T08:16:23.809Z"
      },
      {
        "duration": 18,
        "start_time": "2022-08-05T08:16:23.836Z"
      },
      {
        "duration": 102,
        "start_time": "2022-08-05T08:16:23.856Z"
      },
      {
        "duration": 8,
        "start_time": "2022-08-05T08:16:23.960Z"
      },
      {
        "duration": 45,
        "start_time": "2022-08-05T08:16:23.970Z"
      },
      {
        "duration": 28,
        "start_time": "2022-08-05T08:16:24.017Z"
      },
      {
        "duration": 637,
        "start_time": "2022-08-05T08:16:24.047Z"
      },
      {
        "duration": 938,
        "start_time": "2022-08-05T08:16:24.686Z"
      },
      {
        "duration": 486,
        "start_time": "2022-08-05T08:16:25.627Z"
      },
      {
        "duration": 140,
        "start_time": "2022-08-05T08:16:26.115Z"
      },
      {
        "duration": 103,
        "start_time": "2022-08-05T08:16:26.257Z"
      },
      {
        "duration": 3,
        "start_time": "2022-08-05T08:16:26.362Z"
      },
      {
        "duration": 178554,
        "start_time": "2022-08-05T08:18:13.547Z"
      },
      {
        "duration": 156583,
        "start_time": "2022-08-05T08:22:14.724Z"
      },
      {
        "duration": 9073,
        "start_time": "2022-08-05T08:24:51.309Z"
      },
      {
        "duration": 1780251,
        "start_time": "2022-08-05T08:25:00.385Z"
      },
      {
        "duration": 0,
        "start_time": "2022-08-05T08:54:40.700Z"
      },
      {
        "duration": 0,
        "start_time": "2022-08-05T08:54:40.701Z"
      },
      {
        "duration": 0,
        "start_time": "2022-08-05T08:54:40.702Z"
      },
      {
        "duration": 0,
        "start_time": "2022-08-05T08:54:40.702Z"
      },
      {
        "duration": 0,
        "start_time": "2022-08-05T08:54:40.703Z"
      },
      {
        "duration": 0,
        "start_time": "2022-08-05T08:54:40.703Z"
      },
      {
        "duration": 3,
        "start_time": "2022-08-05T09:03:52.383Z"
      },
      {
        "duration": 9,
        "start_time": "2022-08-05T09:03:52.391Z"
      },
      {
        "duration": 741,
        "start_time": "2022-08-05T09:03:52.401Z"
      },
      {
        "duration": 108,
        "start_time": "2022-08-05T09:03:53.144Z"
      },
      {
        "duration": 391,
        "start_time": "2022-08-05T09:03:53.254Z"
      },
      {
        "duration": 831,
        "start_time": "2022-08-05T09:03:53.648Z"
      },
      {
        "duration": 96,
        "start_time": "2022-08-05T09:03:54.480Z"
      },
      {
        "duration": 34,
        "start_time": "2022-08-05T09:03:54.578Z"
      },
      {
        "duration": 36,
        "start_time": "2022-08-05T09:03:54.613Z"
      },
      {
        "duration": 102,
        "start_time": "2022-08-05T09:03:54.652Z"
      },
      {
        "duration": 232,
        "start_time": "2022-08-05T09:03:54.755Z"
      },
      {
        "duration": 85,
        "start_time": "2022-08-05T09:03:54.989Z"
      },
      {
        "duration": 74,
        "start_time": "2022-08-05T09:03:55.075Z"
      },
      {
        "duration": 29,
        "start_time": "2022-08-05T09:03:55.150Z"
      },
      {
        "duration": 25,
        "start_time": "2022-08-05T09:03:55.181Z"
      },
      {
        "duration": 49,
        "start_time": "2022-08-05T09:03:55.207Z"
      },
      {
        "duration": 16,
        "start_time": "2022-08-05T09:03:55.258Z"
      },
      {
        "duration": 75,
        "start_time": "2022-08-05T09:03:55.275Z"
      },
      {
        "duration": 21,
        "start_time": "2022-08-05T09:03:55.352Z"
      },
      {
        "duration": 28,
        "start_time": "2022-08-05T09:03:55.374Z"
      },
      {
        "duration": 65,
        "start_time": "2022-08-05T09:03:55.404Z"
      },
      {
        "duration": 6,
        "start_time": "2022-08-05T09:03:55.470Z"
      },
      {
        "duration": 37,
        "start_time": "2022-08-05T09:03:55.478Z"
      },
      {
        "duration": 19,
        "start_time": "2022-08-05T09:03:55.516Z"
      },
      {
        "duration": 647,
        "start_time": "2022-08-05T09:03:55.537Z"
      },
      {
        "duration": 871,
        "start_time": "2022-08-05T09:03:56.186Z"
      },
      {
        "duration": 479,
        "start_time": "2022-08-05T09:03:57.059Z"
      },
      {
        "duration": 139,
        "start_time": "2022-08-05T09:03:57.539Z"
      },
      {
        "duration": 97,
        "start_time": "2022-08-05T09:03:57.680Z"
      },
      {
        "duration": 2,
        "start_time": "2022-08-05T09:03:57.779Z"
      },
      {
        "duration": 151849,
        "start_time": "2022-08-05T09:04:02.757Z"
      },
      {
        "duration": 143671,
        "start_time": "2022-08-05T09:17:50.454Z"
      },
      {
        "duration": 0,
        "start_time": "2022-08-05T09:33:34.734Z"
      },
      {
        "duration": 0,
        "start_time": "2022-08-05T09:33:34.736Z"
      },
      {
        "duration": 0,
        "start_time": "2022-08-05T09:33:34.737Z"
      },
      {
        "duration": 0,
        "start_time": "2022-08-05T09:33:34.737Z"
      },
      {
        "duration": 0,
        "start_time": "2022-08-05T09:33:34.738Z"
      },
      {
        "duration": 0,
        "start_time": "2022-08-05T09:33:34.739Z"
      },
      {
        "duration": 0,
        "start_time": "2022-08-05T09:33:34.740Z"
      },
      {
        "duration": 0,
        "start_time": "2022-08-05T09:33:34.741Z"
      },
      {
        "duration": 0,
        "start_time": "2022-08-05T09:33:34.800Z"
      },
      {
        "duration": 0,
        "start_time": "2022-08-05T09:33:34.801Z"
      },
      {
        "duration": 0,
        "start_time": "2022-08-05T09:33:34.802Z"
      },
      {
        "duration": 0,
        "start_time": "2022-08-05T09:33:34.804Z"
      },
      {
        "duration": 0,
        "start_time": "2022-08-05T09:33:34.805Z"
      },
      {
        "duration": 0,
        "start_time": "2022-08-05T09:33:34.806Z"
      },
      {
        "duration": 0,
        "start_time": "2022-08-05T09:33:34.806Z"
      },
      {
        "duration": 0,
        "start_time": "2022-08-05T09:33:34.807Z"
      },
      {
        "duration": 0,
        "start_time": "2022-08-05T09:33:34.808Z"
      },
      {
        "duration": 0,
        "start_time": "2022-08-05T09:33:34.809Z"
      },
      {
        "duration": 0,
        "start_time": "2022-08-05T09:33:34.810Z"
      },
      {
        "duration": 0,
        "start_time": "2022-08-05T09:33:34.811Z"
      },
      {
        "duration": 0,
        "start_time": "2022-08-05T09:33:34.812Z"
      },
      {
        "duration": 0,
        "start_time": "2022-08-05T09:33:34.813Z"
      },
      {
        "duration": 0,
        "start_time": "2022-08-05T09:33:34.814Z"
      },
      {
        "duration": 0,
        "start_time": "2022-08-05T09:33:34.814Z"
      },
      {
        "duration": 0,
        "start_time": "2022-08-05T09:33:34.816Z"
      },
      {
        "duration": 0,
        "start_time": "2022-08-05T09:33:34.817Z"
      },
      {
        "duration": 0,
        "start_time": "2022-08-05T09:33:34.817Z"
      },
      {
        "duration": 0,
        "start_time": "2022-08-05T09:33:34.819Z"
      },
      {
        "duration": 0,
        "start_time": "2022-08-05T09:33:34.819Z"
      },
      {
        "duration": 0,
        "start_time": "2022-08-05T09:33:34.820Z"
      },
      {
        "duration": 1998,
        "start_time": "2022-08-05T09:33:38.191Z"
      },
      {
        "duration": 4,
        "start_time": "2022-08-05T09:33:50.299Z"
      },
      {
        "duration": 1946,
        "start_time": "2022-08-05T09:34:01.630Z"
      },
      {
        "duration": 4,
        "start_time": "2022-08-05T09:34:03.578Z"
      },
      {
        "duration": 739,
        "start_time": "2022-08-05T09:34:03.584Z"
      },
      {
        "duration": 119,
        "start_time": "2022-08-05T09:34:04.325Z"
      },
      {
        "duration": 397,
        "start_time": "2022-08-05T09:34:04.446Z"
      },
      {
        "duration": 804,
        "start_time": "2022-08-05T09:34:04.844Z"
      },
      {
        "duration": 94,
        "start_time": "2022-08-05T09:34:05.650Z"
      },
      {
        "duration": 25,
        "start_time": "2022-08-05T09:34:05.746Z"
      },
      {
        "duration": 51,
        "start_time": "2022-08-05T09:34:05.773Z"
      },
      {
        "duration": 62,
        "start_time": "2022-08-05T09:34:05.826Z"
      },
      {
        "duration": 223,
        "start_time": "2022-08-05T09:34:05.900Z"
      },
      {
        "duration": 66,
        "start_time": "2022-08-05T09:34:06.124Z"
      },
      {
        "duration": 63,
        "start_time": "2022-08-05T09:34:06.200Z"
      },
      {
        "duration": 41,
        "start_time": "2022-08-05T09:34:06.264Z"
      },
      {
        "duration": 43,
        "start_time": "2022-08-05T09:34:06.307Z"
      },
      {
        "duration": 60,
        "start_time": "2022-08-05T09:34:06.351Z"
      },
      {
        "duration": 16,
        "start_time": "2022-08-05T09:34:06.413Z"
      },
      {
        "duration": 74,
        "start_time": "2022-08-05T09:34:06.431Z"
      },
      {
        "duration": 21,
        "start_time": "2022-08-05T09:34:06.507Z"
      },
      {
        "duration": 14,
        "start_time": "2022-08-05T09:34:06.530Z"
      },
      {
        "duration": 91,
        "start_time": "2022-08-05T09:34:06.545Z"
      },
      {
        "duration": 9,
        "start_time": "2022-08-05T09:34:06.642Z"
      },
      {
        "duration": 29,
        "start_time": "2022-08-05T09:34:06.653Z"
      },
      {
        "duration": 28,
        "start_time": "2022-08-05T09:34:06.684Z"
      },
      {
        "duration": 629,
        "start_time": "2022-08-05T09:34:06.714Z"
      },
      {
        "duration": 890,
        "start_time": "2022-08-05T09:34:07.345Z"
      },
      {
        "duration": 482,
        "start_time": "2022-08-05T09:34:08.237Z"
      },
      {
        "duration": 145,
        "start_time": "2022-08-05T09:34:08.722Z"
      },
      {
        "duration": 92,
        "start_time": "2022-08-05T09:34:08.868Z"
      },
      {
        "duration": 2,
        "start_time": "2022-08-05T09:34:08.962Z"
      },
      {
        "duration": 1865,
        "start_time": "2022-08-05T09:37:12.333Z"
      },
      {
        "duration": 4,
        "start_time": "2022-08-05T09:37:14.200Z"
      },
      {
        "duration": 684,
        "start_time": "2022-08-05T09:37:14.205Z"
      },
      {
        "duration": 108,
        "start_time": "2022-08-05T09:37:14.890Z"
      },
      {
        "duration": 389,
        "start_time": "2022-08-05T09:37:15.000Z"
      },
      {
        "duration": 783,
        "start_time": "2022-08-05T09:37:15.390Z"
      },
      {
        "duration": 92,
        "start_time": "2022-08-05T09:37:16.175Z"
      },
      {
        "duration": 42,
        "start_time": "2022-08-05T09:37:16.269Z"
      },
      {
        "duration": 45,
        "start_time": "2022-08-05T09:37:16.313Z"
      },
      {
        "duration": 80,
        "start_time": "2022-08-05T09:37:16.361Z"
      },
      {
        "duration": 220,
        "start_time": "2022-08-05T09:37:16.443Z"
      },
      {
        "duration": 68,
        "start_time": "2022-08-05T09:37:16.665Z"
      },
      {
        "duration": 78,
        "start_time": "2022-08-05T09:37:16.735Z"
      },
      {
        "duration": 32,
        "start_time": "2022-08-05T09:37:16.815Z"
      },
      {
        "duration": 29,
        "start_time": "2022-08-05T09:37:16.848Z"
      },
      {
        "duration": 51,
        "start_time": "2022-08-05T09:37:16.879Z"
      },
      {
        "duration": 15,
        "start_time": "2022-08-05T09:37:16.931Z"
      },
      {
        "duration": 68,
        "start_time": "2022-08-05T09:37:16.948Z"
      },
      {
        "duration": 23,
        "start_time": "2022-08-05T09:37:17.018Z"
      },
      {
        "duration": 14,
        "start_time": "2022-08-05T09:37:17.042Z"
      },
      {
        "duration": 86,
        "start_time": "2022-08-05T09:37:17.058Z"
      },
      {
        "duration": 6,
        "start_time": "2022-08-05T09:37:17.146Z"
      },
      {
        "duration": 27,
        "start_time": "2022-08-05T09:37:17.153Z"
      },
      {
        "duration": 33,
        "start_time": "2022-08-05T09:37:17.182Z"
      },
      {
        "duration": 620,
        "start_time": "2022-08-05T09:37:17.216Z"
      },
      {
        "duration": 826,
        "start_time": "2022-08-05T09:37:17.837Z"
      },
      {
        "duration": 488,
        "start_time": "2022-08-05T09:37:18.664Z"
      },
      {
        "duration": 131,
        "start_time": "2022-08-05T09:37:19.155Z"
      },
      {
        "duration": 113,
        "start_time": "2022-08-05T09:37:19.288Z"
      },
      {
        "duration": 3,
        "start_time": "2022-08-05T09:37:19.402Z"
      },
      {
        "duration": 135415,
        "start_time": "2022-08-05T09:37:19.406Z"
      },
      {
        "duration": 2361,
        "start_time": "2022-08-05T09:43:41.162Z"
      },
      {
        "duration": 329,
        "start_time": "2022-08-05T11:23:49.954Z"
      },
      {
        "duration": 174377,
        "start_time": "2022-08-05T11:24:11.629Z"
      },
      {
        "duration": 3,
        "start_time": "2022-08-05T11:28:17.383Z"
      },
      {
        "duration": 3,
        "start_time": "2022-08-05T11:28:19.128Z"
      },
      {
        "duration": 4,
        "start_time": "2022-08-05T11:28:32.616Z"
      },
      {
        "duration": 1345,
        "start_time": "2022-08-05T11:28:32.622Z"
      },
      {
        "duration": 805,
        "start_time": "2022-08-05T11:28:33.970Z"
      },
      {
        "duration": 109,
        "start_time": "2022-08-05T11:28:34.777Z"
      },
      {
        "duration": 538,
        "start_time": "2022-08-05T11:28:34.888Z"
      },
      {
        "duration": 1308,
        "start_time": "2022-08-05T11:28:35.428Z"
      },
      {
        "duration": 199,
        "start_time": "2022-08-05T11:28:36.738Z"
      },
      {
        "duration": 84,
        "start_time": "2022-08-05T11:28:36.939Z"
      },
      {
        "duration": 100,
        "start_time": "2022-08-05T11:28:37.025Z"
      },
      {
        "duration": 184,
        "start_time": "2022-08-05T11:28:37.127Z"
      },
      {
        "duration": 486,
        "start_time": "2022-08-05T11:28:37.315Z"
      },
      {
        "duration": 150,
        "start_time": "2022-08-05T11:28:37.804Z"
      },
      {
        "duration": 78,
        "start_time": "2022-08-05T11:28:37.955Z"
      },
      {
        "duration": 29,
        "start_time": "2022-08-05T11:28:38.034Z"
      },
      {
        "duration": 39,
        "start_time": "2022-08-05T11:28:38.065Z"
      },
      {
        "duration": 47,
        "start_time": "2022-08-05T11:28:38.105Z"
      },
      {
        "duration": 17,
        "start_time": "2022-08-05T11:28:38.154Z"
      },
      {
        "duration": 76,
        "start_time": "2022-08-05T11:28:38.173Z"
      },
      {
        "duration": 21,
        "start_time": "2022-08-05T11:28:38.251Z"
      },
      {
        "duration": 33,
        "start_time": "2022-08-05T11:28:38.274Z"
      },
      {
        "duration": 72,
        "start_time": "2022-08-05T11:28:38.309Z"
      },
      {
        "duration": 19,
        "start_time": "2022-08-05T11:28:38.382Z"
      },
      {
        "duration": 21,
        "start_time": "2022-08-05T11:28:38.402Z"
      },
      {
        "duration": 21,
        "start_time": "2022-08-05T11:28:38.424Z"
      },
      {
        "duration": 674,
        "start_time": "2022-08-05T11:28:38.447Z"
      },
      {
        "duration": 1079,
        "start_time": "2022-08-05T11:28:39.123Z"
      },
      {
        "duration": 489,
        "start_time": "2022-08-05T11:28:40.203Z"
      },
      {
        "duration": 150,
        "start_time": "2022-08-05T11:28:40.693Z"
      },
      {
        "duration": 597,
        "start_time": "2022-08-05T11:28:40.847Z"
      },
      {
        "duration": 4,
        "start_time": "2022-08-05T11:28:41.500Z"
      },
      {
        "duration": 165195,
        "start_time": "2022-08-05T11:28:41.506Z"
      },
      {
        "duration": 165163,
        "start_time": "2022-08-05T11:31:26.703Z"
      },
      {
        "duration": 2226,
        "start_time": "2022-08-05T11:34:11.868Z"
      },
      {
        "duration": 1523847,
        "start_time": "2022-08-05T11:34:14.096Z"
      },
      {
        "duration": 0,
        "start_time": "2022-08-05T11:59:37.944Z"
      },
      {
        "duration": 0,
        "start_time": "2022-08-05T11:59:37.946Z"
      },
      {
        "duration": 0,
        "start_time": "2022-08-05T11:59:37.947Z"
      },
      {
        "duration": 0,
        "start_time": "2022-08-05T11:59:37.947Z"
      },
      {
        "duration": 0,
        "start_time": "2022-08-05T11:59:37.949Z"
      },
      {
        "duration": 0,
        "start_time": "2022-08-05T11:59:37.950Z"
      },
      {
        "duration": 2,
        "start_time": "2022-08-05T11:59:42.194Z"
      },
      {
        "duration": 8,
        "start_time": "2022-08-05T11:59:42.202Z"
      },
      {
        "duration": 781,
        "start_time": "2022-08-05T11:59:42.211Z"
      },
      {
        "duration": 106,
        "start_time": "2022-08-05T11:59:42.999Z"
      },
      {
        "duration": 373,
        "start_time": "2022-08-05T11:59:43.107Z"
      },
      {
        "duration": 915,
        "start_time": "2022-08-05T11:59:43.482Z"
      },
      {
        "duration": 129,
        "start_time": "2022-08-05T11:59:44.401Z"
      },
      {
        "duration": 24,
        "start_time": "2022-08-05T11:59:44.532Z"
      },
      {
        "duration": 19,
        "start_time": "2022-08-05T11:59:44.557Z"
      },
      {
        "duration": 61,
        "start_time": "2022-08-05T11:59:44.577Z"
      },
      {
        "duration": 89,
        "start_time": "2022-08-05T11:59:44.639Z"
      },
      {
        "duration": 251,
        "start_time": "2022-08-05T11:59:44.730Z"
      },
      {
        "duration": 91,
        "start_time": "2022-08-05T11:59:44.982Z"
      },
      {
        "duration": 85,
        "start_time": "2022-08-05T11:59:45.075Z"
      },
      {
        "duration": 40,
        "start_time": "2022-08-05T11:59:45.161Z"
      },
      {
        "duration": 28,
        "start_time": "2022-08-05T11:59:45.204Z"
      },
      {
        "duration": 45,
        "start_time": "2022-08-05T11:59:45.233Z"
      },
      {
        "duration": 46,
        "start_time": "2022-08-05T11:59:45.280Z"
      },
      {
        "duration": 67,
        "start_time": "2022-08-05T11:59:45.327Z"
      },
      {
        "duration": 34,
        "start_time": "2022-08-05T11:59:45.395Z"
      },
      {
        "duration": 14,
        "start_time": "2022-08-05T11:59:45.431Z"
      },
      {
        "duration": 102,
        "start_time": "2022-08-05T11:59:45.447Z"
      },
      {
        "duration": 7,
        "start_time": "2022-08-05T11:59:45.551Z"
      },
      {
        "duration": 21,
        "start_time": "2022-08-05T11:59:45.559Z"
      },
      {
        "duration": 30,
        "start_time": "2022-08-05T11:59:45.601Z"
      },
      {
        "duration": 510,
        "start_time": "2022-08-05T11:59:47.022Z"
      },
      {
        "duration": 74,
        "start_time": "2022-08-05T12:01:10.057Z"
      },
      {
        "duration": 1071,
        "start_time": "2022-08-05T12:01:49.202Z"
      },
      {
        "duration": 106,
        "start_time": "2022-08-05T12:03:57.011Z"
      },
      {
        "duration": 143,
        "start_time": "2022-08-05T12:07:25.260Z"
      },
      {
        "duration": 54,
        "start_time": "2022-08-05T12:07:30.439Z"
      },
      {
        "duration": 66,
        "start_time": "2022-08-05T12:07:53.448Z"
      },
      {
        "duration": 447,
        "start_time": "2022-08-05T12:09:04.470Z"
      },
      {
        "duration": 105,
        "start_time": "2022-08-05T12:09:47.319Z"
      },
      {
        "duration": 118,
        "start_time": "2022-08-05T12:10:28.683Z"
      },
      {
        "duration": 1034,
        "start_time": "2022-08-05T12:11:17.804Z"
      },
      {
        "duration": 88,
        "start_time": "2022-08-05T12:11:48.382Z"
      },
      {
        "duration": 90,
        "start_time": "2022-08-05T12:12:32.893Z"
      },
      {
        "duration": 424,
        "start_time": "2022-08-05T12:13:07.099Z"
      },
      {
        "duration": 617,
        "start_time": "2022-08-05T12:25:11.855Z"
      },
      {
        "duration": 2,
        "start_time": "2022-08-05T12:25:34.691Z"
      },
      {
        "duration": 4,
        "start_time": "2022-08-05T12:25:34.697Z"
      },
      {
        "duration": 721,
        "start_time": "2022-08-05T12:25:34.718Z"
      },
      {
        "duration": 112,
        "start_time": "2022-08-05T12:25:35.441Z"
      },
      {
        "duration": 404,
        "start_time": "2022-08-05T12:25:35.554Z"
      },
      {
        "duration": 811,
        "start_time": "2022-08-05T12:25:35.959Z"
      },
      {
        "duration": 89,
        "start_time": "2022-08-05T12:25:36.772Z"
      },
      {
        "duration": 38,
        "start_time": "2022-08-05T12:25:36.863Z"
      },
      {
        "duration": 19,
        "start_time": "2022-08-05T12:25:36.902Z"
      },
      {
        "duration": 42,
        "start_time": "2022-08-05T12:25:36.922Z"
      },
      {
        "duration": 76,
        "start_time": "2022-08-05T12:25:36.966Z"
      },
      {
        "duration": 221,
        "start_time": "2022-08-05T12:25:37.043Z"
      },
      {
        "duration": 69,
        "start_time": "2022-08-05T12:25:37.265Z"
      },
      {
        "duration": 75,
        "start_time": "2022-08-05T12:25:37.335Z"
      },
      {
        "duration": 28,
        "start_time": "2022-08-05T12:25:37.411Z"
      },
      {
        "duration": 20,
        "start_time": "2022-08-05T12:25:37.441Z"
      },
      {
        "duration": 65,
        "start_time": "2022-08-05T12:25:37.462Z"
      },
      {
        "duration": 17,
        "start_time": "2022-08-05T12:25:37.528Z"
      },
      {
        "duration": 69,
        "start_time": "2022-08-05T12:25:37.546Z"
      },
      {
        "duration": 20,
        "start_time": "2022-08-05T12:25:37.616Z"
      },
      {
        "duration": 14,
        "start_time": "2022-08-05T12:25:37.638Z"
      },
      {
        "duration": 94,
        "start_time": "2022-08-05T12:25:37.654Z"
      },
      {
        "duration": 9,
        "start_time": "2022-08-05T12:25:37.750Z"
      },
      {
        "duration": 21,
        "start_time": "2022-08-05T12:25:37.760Z"
      },
      {
        "duration": 30,
        "start_time": "2022-08-05T12:25:37.782Z"
      },
      {
        "duration": 445,
        "start_time": "2022-08-05T12:25:53.245Z"
      },
      {
        "duration": 555,
        "start_time": "2022-08-05T12:26:59.790Z"
      },
      {
        "duration": 3,
        "start_time": "2022-08-05T12:27:36.375Z"
      },
      {
        "duration": 6,
        "start_time": "2022-08-05T12:27:36.379Z"
      },
      {
        "duration": 708,
        "start_time": "2022-08-05T12:27:36.387Z"
      },
      {
        "duration": 103,
        "start_time": "2022-08-05T12:27:37.097Z"
      },
      {
        "duration": 382,
        "start_time": "2022-08-05T12:27:37.202Z"
      },
      {
        "duration": 810,
        "start_time": "2022-08-05T12:27:37.586Z"
      },
      {
        "duration": 100,
        "start_time": "2022-08-05T12:27:38.400Z"
      },
      {
        "duration": 24,
        "start_time": "2022-08-05T12:27:38.502Z"
      },
      {
        "duration": 19,
        "start_time": "2022-08-05T12:27:38.528Z"
      },
      {
        "duration": 62,
        "start_time": "2022-08-05T12:27:38.549Z"
      },
      {
        "duration": 66,
        "start_time": "2022-08-05T12:27:38.613Z"
      },
      {
        "duration": 240,
        "start_time": "2022-08-05T12:27:38.681Z"
      },
      {
        "duration": 79,
        "start_time": "2022-08-05T12:27:38.923Z"
      },
      {
        "duration": 71,
        "start_time": "2022-08-05T12:27:39.003Z"
      },
      {
        "duration": 39,
        "start_time": "2022-08-05T12:27:39.075Z"
      },
      {
        "duration": 19,
        "start_time": "2022-08-05T12:27:39.115Z"
      },
      {
        "duration": 43,
        "start_time": "2022-08-05T12:27:39.136Z"
      },
      {
        "duration": 27,
        "start_time": "2022-08-05T12:27:39.180Z"
      },
      {
        "duration": 61,
        "start_time": "2022-08-05T12:27:39.209Z"
      },
      {
        "duration": 39,
        "start_time": "2022-08-05T12:27:39.272Z"
      },
      {
        "duration": 16,
        "start_time": "2022-08-05T12:27:39.313Z"
      },
      {
        "duration": 79,
        "start_time": "2022-08-05T12:27:39.331Z"
      },
      {
        "duration": 7,
        "start_time": "2022-08-05T12:27:39.412Z"
      },
      {
        "duration": 21,
        "start_time": "2022-08-05T12:27:39.420Z"
      },
      {
        "duration": 21,
        "start_time": "2022-08-05T12:27:39.442Z"
      },
      {
        "duration": 515,
        "start_time": "2022-08-05T12:29:37.181Z"
      },
      {
        "duration": 71,
        "start_time": "2022-08-05T12:40:03.993Z"
      },
      {
        "duration": 38,
        "start_time": "2022-08-05T12:40:27.258Z"
      },
      {
        "duration": 4,
        "start_time": "2022-08-05T12:45:29.519Z"
      },
      {
        "duration": 24,
        "start_time": "2022-08-05T12:45:34.195Z"
      },
      {
        "duration": 50,
        "start_time": "2022-08-05T12:45:56.175Z"
      },
      {
        "duration": 71,
        "start_time": "2022-08-05T12:48:56.023Z"
      },
      {
        "duration": 26,
        "start_time": "2022-08-05T12:49:06.745Z"
      },
      {
        "duration": 22,
        "start_time": "2022-08-05T12:56:54.791Z"
      },
      {
        "duration": 17,
        "start_time": "2022-08-05T12:57:23.020Z"
      },
      {
        "duration": 3,
        "start_time": "2022-08-05T12:58:29.330Z"
      },
      {
        "duration": 5,
        "start_time": "2022-08-05T12:58:29.338Z"
      },
      {
        "duration": 871,
        "start_time": "2022-08-05T12:58:29.352Z"
      },
      {
        "duration": 108,
        "start_time": "2022-08-05T12:58:30.225Z"
      },
      {
        "duration": 476,
        "start_time": "2022-08-05T12:58:30.335Z"
      },
      {
        "duration": 1009,
        "start_time": "2022-08-05T12:58:30.813Z"
      },
      {
        "duration": 104,
        "start_time": "2022-08-05T12:58:31.824Z"
      },
      {
        "duration": 26,
        "start_time": "2022-08-05T12:58:31.930Z"
      },
      {
        "duration": 51,
        "start_time": "2022-08-05T12:58:31.958Z"
      },
      {
        "duration": 49,
        "start_time": "2022-08-05T12:58:32.011Z"
      },
      {
        "duration": 96,
        "start_time": "2022-08-05T12:58:32.062Z"
      },
      {
        "duration": 242,
        "start_time": "2022-08-05T12:58:32.162Z"
      },
      {
        "duration": 70,
        "start_time": "2022-08-05T12:58:32.405Z"
      },
      {
        "duration": 74,
        "start_time": "2022-08-05T12:58:32.477Z"
      },
      {
        "duration": 36,
        "start_time": "2022-08-05T12:58:32.553Z"
      },
      {
        "duration": 23,
        "start_time": "2022-08-05T12:58:32.599Z"
      },
      {
        "duration": 54,
        "start_time": "2022-08-05T12:58:32.624Z"
      },
      {
        "duration": 22,
        "start_time": "2022-08-05T12:58:32.680Z"
      },
      {
        "duration": 65,
        "start_time": "2022-08-05T12:58:32.704Z"
      },
      {
        "duration": 34,
        "start_time": "2022-08-05T12:58:32.771Z"
      },
      {
        "duration": 16,
        "start_time": "2022-08-05T12:58:32.807Z"
      },
      {
        "duration": 94,
        "start_time": "2022-08-05T12:58:32.825Z"
      },
      {
        "duration": 9,
        "start_time": "2022-08-05T12:58:32.921Z"
      },
      {
        "duration": 35,
        "start_time": "2022-08-05T12:58:32.932Z"
      },
      {
        "duration": 33,
        "start_time": "2022-08-05T12:58:32.969Z"
      },
      {
        "duration": 639,
        "start_time": "2022-08-05T12:58:36.478Z"
      },
      {
        "duration": 468,
        "start_time": "2022-08-05T13:02:20.612Z"
      },
      {
        "duration": 575,
        "start_time": "2022-08-05T13:58:10.918Z"
      },
      {
        "duration": 2,
        "start_time": "2022-08-05T14:01:41.319Z"
      },
      {
        "duration": 4,
        "start_time": "2022-08-05T14:01:41.323Z"
      },
      {
        "duration": 738,
        "start_time": "2022-08-05T14:01:41.329Z"
      },
      {
        "duration": 99,
        "start_time": "2022-08-05T14:01:42.069Z"
      },
      {
        "duration": 388,
        "start_time": "2022-08-05T14:01:42.170Z"
      },
      {
        "duration": 822,
        "start_time": "2022-08-05T14:01:42.560Z"
      },
      {
        "duration": 89,
        "start_time": "2022-08-05T14:01:43.383Z"
      },
      {
        "duration": 37,
        "start_time": "2022-08-05T14:01:43.474Z"
      },
      {
        "duration": 18,
        "start_time": "2022-08-05T14:01:43.513Z"
      },
      {
        "duration": 45,
        "start_time": "2022-08-05T14:01:43.533Z"
      },
      {
        "duration": 73,
        "start_time": "2022-08-05T14:01:43.580Z"
      },
      {
        "duration": 225,
        "start_time": "2022-08-05T14:01:43.654Z"
      },
      {
        "duration": 90,
        "start_time": "2022-08-05T14:01:43.881Z"
      },
      {
        "duration": 89,
        "start_time": "2022-08-05T14:01:43.972Z"
      },
      {
        "duration": 38,
        "start_time": "2022-08-05T14:01:44.063Z"
      },
      {
        "duration": 20,
        "start_time": "2022-08-05T14:01:44.102Z"
      },
      {
        "duration": 43,
        "start_time": "2022-08-05T14:01:44.124Z"
      },
      {
        "duration": 16,
        "start_time": "2022-08-05T14:01:44.169Z"
      },
      {
        "duration": 60,
        "start_time": "2022-08-05T14:01:44.200Z"
      },
      {
        "duration": 20,
        "start_time": "2022-08-05T14:01:44.262Z"
      },
      {
        "duration": 28,
        "start_time": "2022-08-05T14:01:44.284Z"
      },
      {
        "duration": 64,
        "start_time": "2022-08-05T14:01:44.314Z"
      },
      {
        "duration": 20,
        "start_time": "2022-08-05T14:01:44.380Z"
      },
      {
        "duration": 19,
        "start_time": "2022-08-05T14:01:44.402Z"
      },
      {
        "duration": 18,
        "start_time": "2022-08-05T14:01:44.423Z"
      },
      {
        "duration": 538,
        "start_time": "2022-08-05T14:03:27.991Z"
      },
      {
        "duration": 4,
        "start_time": "2022-08-05T14:03:43.969Z"
      },
      {
        "duration": 1220,
        "start_time": "2022-08-05T14:03:43.976Z"
      },
      {
        "duration": 783,
        "start_time": "2022-08-05T14:03:45.198Z"
      },
      {
        "duration": 117,
        "start_time": "2022-08-05T14:03:45.983Z"
      },
      {
        "duration": 451,
        "start_time": "2022-08-05T14:03:46.102Z"
      },
      {
        "duration": 967,
        "start_time": "2022-08-05T14:03:46.554Z"
      },
      {
        "duration": 99,
        "start_time": "2022-08-05T14:03:47.523Z"
      },
      {
        "duration": 24,
        "start_time": "2022-08-05T14:03:47.623Z"
      },
      {
        "duration": 19,
        "start_time": "2022-08-05T14:03:47.648Z"
      },
      {
        "duration": 64,
        "start_time": "2022-08-05T14:03:47.668Z"
      },
      {
        "duration": 72,
        "start_time": "2022-08-05T14:03:47.734Z"
      },
      {
        "duration": 216,
        "start_time": "2022-08-05T14:03:47.808Z"
      },
      {
        "duration": 78,
        "start_time": "2022-08-05T14:03:48.026Z"
      },
      {
        "duration": 65,
        "start_time": "2022-08-05T14:03:48.106Z"
      },
      {
        "duration": 44,
        "start_time": "2022-08-05T14:03:48.172Z"
      },
      {
        "duration": 17,
        "start_time": "2022-08-05T14:03:48.218Z"
      },
      {
        "duration": 45,
        "start_time": "2022-08-05T14:03:48.237Z"
      },
      {
        "duration": 32,
        "start_time": "2022-08-05T14:03:48.283Z"
      },
      {
        "duration": 61,
        "start_time": "2022-08-05T14:03:48.317Z"
      },
      {
        "duration": 38,
        "start_time": "2022-08-05T14:03:48.380Z"
      },
      {
        "duration": 15,
        "start_time": "2022-08-05T14:03:48.420Z"
      },
      {
        "duration": 87,
        "start_time": "2022-08-05T14:03:48.437Z"
      },
      {
        "duration": 8,
        "start_time": "2022-08-05T14:03:48.526Z"
      },
      {
        "duration": 23,
        "start_time": "2022-08-05T14:03:48.535Z"
      },
      {
        "duration": 41,
        "start_time": "2022-08-05T14:03:48.560Z"
      },
      {
        "duration": 565,
        "start_time": "2022-08-05T14:03:48.603Z"
      },
      {
        "duration": 58,
        "start_time": "2022-08-05T14:03:49.170Z"
      },
      {
        "duration": 128,
        "start_time": "2022-08-05T14:03:49.229Z"
      },
      {
        "duration": 40,
        "start_time": "2022-08-05T14:03:49.360Z"
      },
      {
        "duration": 424,
        "start_time": "2022-08-05T14:03:49.402Z"
      },
      {
        "duration": 2,
        "start_time": "2022-08-05T14:03:49.828Z"
      },
      {
        "duration": 220,
        "start_time": "2022-08-05T14:03:49.831Z"
      },
      {
        "duration": 31093,
        "start_time": "2022-08-05T14:03:50.053Z"
      },
      {
        "duration": 0,
        "start_time": "2022-08-05T14:04:21.147Z"
      },
      {
        "duration": 0,
        "start_time": "2022-08-05T14:04:21.148Z"
      },
      {
        "duration": 0,
        "start_time": "2022-08-05T14:04:21.150Z"
      },
      {
        "duration": 0,
        "start_time": "2022-08-05T14:04:21.150Z"
      },
      {
        "duration": 0,
        "start_time": "2022-08-05T14:04:21.151Z"
      },
      {
        "duration": 0,
        "start_time": "2022-08-05T14:04:21.153Z"
      },
      {
        "duration": 0,
        "start_time": "2022-08-05T14:04:21.154Z"
      },
      {
        "duration": 3,
        "start_time": "2022-08-05T14:04:58.791Z"
      },
      {
        "duration": 11,
        "start_time": "2022-08-05T14:04:58.797Z"
      },
      {
        "duration": 808,
        "start_time": "2022-08-05T14:04:58.810Z"
      },
      {
        "duration": 116,
        "start_time": "2022-08-05T14:04:59.620Z"
      },
      {
        "duration": 434,
        "start_time": "2022-08-05T14:04:59.738Z"
      },
      {
        "duration": 920,
        "start_time": "2022-08-05T14:05:00.174Z"
      },
      {
        "duration": 109,
        "start_time": "2022-08-05T14:05:01.096Z"
      },
      {
        "duration": 26,
        "start_time": "2022-08-05T14:05:01.207Z"
      },
      {
        "duration": 22,
        "start_time": "2022-08-05T14:05:01.234Z"
      },
      {
        "duration": 71,
        "start_time": "2022-08-05T14:05:01.257Z"
      },
      {
        "duration": 75,
        "start_time": "2022-08-05T14:05:01.330Z"
      },
      {
        "duration": 265,
        "start_time": "2022-08-05T14:05:01.407Z"
      },
      {
        "duration": 82,
        "start_time": "2022-08-05T14:05:01.674Z"
      },
      {
        "duration": 80,
        "start_time": "2022-08-05T14:05:01.758Z"
      },
      {
        "duration": 57,
        "start_time": "2022-08-05T14:05:01.840Z"
      },
      {
        "duration": 49,
        "start_time": "2022-08-05T14:05:01.900Z"
      },
      {
        "duration": 148,
        "start_time": "2022-08-05T14:05:01.951Z"
      },
      {
        "duration": 43,
        "start_time": "2022-08-05T14:05:02.101Z"
      },
      {
        "duration": 88,
        "start_time": "2022-08-05T14:05:02.146Z"
      },
      {
        "duration": 36,
        "start_time": "2022-08-05T14:05:02.236Z"
      },
      {
        "duration": 14,
        "start_time": "2022-08-05T14:05:02.274Z"
      },
      {
        "duration": 73,
        "start_time": "2022-08-05T14:05:02.289Z"
      },
      {
        "duration": 9,
        "start_time": "2022-08-05T14:05:02.363Z"
      },
      {
        "duration": 65,
        "start_time": "2022-08-05T14:05:02.374Z"
      },
      {
        "duration": 102,
        "start_time": "2022-08-05T14:05:02.441Z"
      },
      {
        "duration": 776,
        "start_time": "2022-08-05T14:05:02.545Z"
      },
      {
        "duration": 79,
        "start_time": "2022-08-05T14:05:03.323Z"
      },
      {
        "duration": 170,
        "start_time": "2022-08-05T14:05:03.404Z"
      },
      {
        "duration": 27,
        "start_time": "2022-08-05T14:05:03.576Z"
      },
      {
        "duration": 472,
        "start_time": "2022-08-05T14:05:03.606Z"
      },
      {
        "duration": 46,
        "start_time": "2022-08-05T14:05:27.457Z"
      },
      {
        "duration": 45,
        "start_time": "2022-08-05T14:05:36.408Z"
      },
      {
        "duration": 50,
        "start_time": "2022-08-05T14:05:54.574Z"
      },
      {
        "duration": 3,
        "start_time": "2022-08-05T14:06:52.054Z"
      },
      {
        "duration": 716,
        "start_time": "2022-08-05T14:07:04.431Z"
      },
      {
        "duration": 136,
        "start_time": "2022-08-05T14:07:12.916Z"
      },
      {
        "duration": 421,
        "start_time": "2022-08-05T14:07:16.138Z"
      },
      {
        "duration": 859,
        "start_time": "2022-08-05T14:07:18.039Z"
      },
      {
        "duration": 114,
        "start_time": "2022-08-05T14:07:21.043Z"
      },
      {
        "duration": 35,
        "start_time": "2022-08-05T14:07:26.439Z"
      },
      {
        "duration": 30,
        "start_time": "2022-08-05T14:07:32.943Z"
      },
      {
        "duration": 42,
        "start_time": "2022-08-05T14:07:45.197Z"
      },
      {
        "duration": 62,
        "start_time": "2022-08-05T14:07:48.610Z"
      },
      {
        "duration": 249,
        "start_time": "2022-08-05T14:07:52.112Z"
      },
      {
        "duration": 79,
        "start_time": "2022-08-05T14:07:54.668Z"
      },
      {
        "duration": 112,
        "start_time": "2022-08-05T14:07:58.355Z"
      },
      {
        "duration": 28,
        "start_time": "2022-08-05T14:08:02.270Z"
      },
      {
        "duration": 18,
        "start_time": "2022-08-05T14:08:03.984Z"
      },
      {
        "duration": 71,
        "start_time": "2022-08-05T14:08:05.465Z"
      },
      {
        "duration": 26,
        "start_time": "2022-08-05T14:08:07.094Z"
      },
      {
        "duration": 68,
        "start_time": "2022-08-05T14:08:08.939Z"
      },
      {
        "duration": 21,
        "start_time": "2022-08-05T14:08:14.435Z"
      },
      {
        "duration": 25,
        "start_time": "2022-08-05T14:08:17.595Z"
      },
      {
        "duration": 78,
        "start_time": "2022-08-05T14:08:18.859Z"
      },
      {
        "duration": 8,
        "start_time": "2022-08-05T14:08:22.038Z"
      },
      {
        "duration": 21,
        "start_time": "2022-08-05T14:08:24.410Z"
      },
      {
        "duration": 24,
        "start_time": "2022-08-05T14:08:27.580Z"
      },
      {
        "duration": 28,
        "start_time": "2022-08-05T14:08:38.294Z"
      },
      {
        "duration": 61,
        "start_time": "2022-08-05T14:08:53.134Z"
      },
      {
        "duration": 613,
        "start_time": "2022-08-05T14:09:04.253Z"
      },
      {
        "duration": 89,
        "start_time": "2022-08-05T14:09:59.043Z"
      },
      {
        "duration": 42,
        "start_time": "2022-08-05T14:10:02.830Z"
      },
      {
        "duration": 3,
        "start_time": "2022-08-05T14:10:43.516Z"
      },
      {
        "duration": 1294,
        "start_time": "2022-08-05T14:10:43.522Z"
      },
      {
        "duration": 780,
        "start_time": "2022-08-05T14:10:44.818Z"
      },
      {
        "duration": 112,
        "start_time": "2022-08-05T14:10:45.599Z"
      },
      {
        "duration": 475,
        "start_time": "2022-08-05T14:10:45.715Z"
      },
      {
        "duration": 957,
        "start_time": "2022-08-05T14:10:46.192Z"
      },
      {
        "duration": 125,
        "start_time": "2022-08-05T14:10:47.151Z"
      },
      {
        "duration": 42,
        "start_time": "2022-08-05T14:10:47.277Z"
      },
      {
        "duration": 54,
        "start_time": "2022-08-05T14:10:47.321Z"
      },
      {
        "duration": 80,
        "start_time": "2022-08-05T14:10:47.376Z"
      },
      {
        "duration": 689,
        "start_time": "2022-08-05T14:10:47.458Z"
      },
      {
        "duration": 198,
        "start_time": "2022-08-05T14:10:48.203Z"
      },
      {
        "duration": 143,
        "start_time": "2022-08-05T14:10:48.404Z"
      },
      {
        "duration": 36,
        "start_time": "2022-08-05T14:10:48.601Z"
      },
      {
        "duration": 69,
        "start_time": "2022-08-05T14:10:48.639Z"
      },
      {
        "duration": 102,
        "start_time": "2022-08-05T14:10:48.709Z"
      },
      {
        "duration": 20,
        "start_time": "2022-08-05T14:10:48.812Z"
      },
      {
        "duration": 192,
        "start_time": "2022-08-05T14:10:48.833Z"
      },
      {
        "duration": 87,
        "start_time": "2022-08-05T14:10:49.027Z"
      },
      {
        "duration": 21,
        "start_time": "2022-08-05T14:10:49.116Z"
      },
      {
        "duration": 175,
        "start_time": "2022-08-05T14:10:49.139Z"
      },
      {
        "duration": 9,
        "start_time": "2022-08-05T14:10:49.316Z"
      },
      {
        "duration": 24,
        "start_time": "2022-08-05T14:10:49.327Z"
      },
      {
        "duration": 27,
        "start_time": "2022-08-05T14:10:49.402Z"
      },
      {
        "duration": 126,
        "start_time": "2022-08-05T14:10:49.431Z"
      },
      {
        "duration": 669,
        "start_time": "2022-08-05T14:10:49.558Z"
      },
      {
        "duration": 53,
        "start_time": "2022-08-05T14:10:50.228Z"
      },
      {
        "duration": 144,
        "start_time": "2022-08-05T14:10:50.283Z"
      },
      {
        "duration": 32,
        "start_time": "2022-08-05T14:10:50.430Z"
      },
      {
        "duration": 492,
        "start_time": "2022-08-05T14:10:50.464Z"
      },
      {
        "duration": 3,
        "start_time": "2022-08-05T14:10:50.957Z"
      },
      {
        "duration": 191,
        "start_time": "2022-08-05T14:10:50.961Z"
      },
      {
        "duration": 32569,
        "start_time": "2022-08-05T14:10:51.154Z"
      },
      {
        "duration": 0,
        "start_time": "2022-08-05T14:11:23.725Z"
      },
      {
        "duration": 0,
        "start_time": "2022-08-05T14:11:23.726Z"
      },
      {
        "duration": 0,
        "start_time": "2022-08-05T14:11:23.727Z"
      },
      {
        "duration": 0,
        "start_time": "2022-08-05T14:11:23.728Z"
      },
      {
        "duration": 0,
        "start_time": "2022-08-05T14:11:23.729Z"
      },
      {
        "duration": 0,
        "start_time": "2022-08-05T14:11:23.731Z"
      },
      {
        "duration": 0,
        "start_time": "2022-08-05T14:11:23.732Z"
      },
      {
        "duration": 44,
        "start_time": "2022-08-05T14:11:24.416Z"
      },
      {
        "duration": 44,
        "start_time": "2022-08-05T14:15:56.323Z"
      },
      {
        "duration": 5,
        "start_time": "2022-08-05T15:17:45.661Z"
      },
      {
        "duration": 790,
        "start_time": "2022-08-05T15:18:11.098Z"
      },
      {
        "duration": 117,
        "start_time": "2022-08-05T15:18:31.023Z"
      },
      {
        "duration": 418,
        "start_time": "2022-08-05T15:18:36.939Z"
      },
      {
        "duration": 907,
        "start_time": "2022-08-05T15:18:38.524Z"
      },
      {
        "duration": 92,
        "start_time": "2022-08-05T15:18:42.023Z"
      },
      {
        "duration": 24,
        "start_time": "2022-08-05T15:18:47.396Z"
      },
      {
        "duration": 24,
        "start_time": "2022-08-05T15:19:07.476Z"
      },
      {
        "duration": 38,
        "start_time": "2022-08-05T15:19:10.615Z"
      },
      {
        "duration": 65,
        "start_time": "2022-08-05T15:19:15.381Z"
      },
      {
        "duration": 249,
        "start_time": "2022-08-05T15:19:18.714Z"
      },
      {
        "duration": 72,
        "start_time": "2022-08-05T15:19:21.939Z"
      },
      {
        "duration": 63,
        "start_time": "2022-08-05T15:19:25.546Z"
      },
      {
        "duration": 28,
        "start_time": "2022-08-05T15:19:29.136Z"
      },
      {
        "duration": 16,
        "start_time": "2022-08-05T15:19:32.852Z"
      },
      {
        "duration": 56,
        "start_time": "2022-08-05T15:19:35.839Z"
      },
      {
        "duration": 18,
        "start_time": "2022-08-05T15:19:37.306Z"
      },
      {
        "duration": 61,
        "start_time": "2022-08-05T15:19:38.259Z"
      },
      {
        "duration": 22,
        "start_time": "2022-08-05T15:19:59.347Z"
      },
      {
        "duration": 19,
        "start_time": "2022-08-05T15:20:12.607Z"
      },
      {
        "duration": 80,
        "start_time": "2022-08-05T15:20:14.047Z"
      },
      {
        "duration": 9,
        "start_time": "2022-08-05T15:20:16.374Z"
      },
      {
        "duration": 30,
        "start_time": "2022-08-05T15:20:21.436Z"
      },
      {
        "duration": 28,
        "start_time": "2022-08-05T15:20:27.042Z"
      },
      {
        "duration": 70,
        "start_time": "2022-08-05T15:20:30.034Z"
      },
      {
        "duration": 559,
        "start_time": "2022-08-05T15:20:35.501Z"
      },
      {
        "duration": 49,
        "start_time": "2022-08-05T15:25:08.746Z"
      },
      {
        "duration": 34,
        "start_time": "2022-08-05T15:25:22.151Z"
      },
      {
        "duration": 34,
        "start_time": "2022-08-05T15:25:38.260Z"
      },
      {
        "duration": 18,
        "start_time": "2022-08-05T15:26:11.540Z"
      },
      {
        "duration": 69,
        "start_time": "2022-08-05T15:27:10.226Z"
      },
      {
        "duration": 2,
        "start_time": "2022-08-05T15:28:06.036Z"
      },
      {
        "duration": 4,
        "start_time": "2022-08-05T15:28:06.045Z"
      },
      {
        "duration": 734,
        "start_time": "2022-08-05T15:28:06.050Z"
      },
      {
        "duration": 110,
        "start_time": "2022-08-05T15:28:06.786Z"
      },
      {
        "duration": 390,
        "start_time": "2022-08-05T15:28:06.900Z"
      },
      {
        "duration": 854,
        "start_time": "2022-08-05T15:28:07.292Z"
      },
      {
        "duration": 100,
        "start_time": "2022-08-05T15:28:08.147Z"
      },
      {
        "duration": 26,
        "start_time": "2022-08-05T15:28:08.248Z"
      },
      {
        "duration": 51,
        "start_time": "2022-08-05T15:28:08.275Z"
      },
      {
        "duration": 77,
        "start_time": "2022-08-05T15:28:08.327Z"
      },
      {
        "duration": 225,
        "start_time": "2022-08-05T15:28:08.406Z"
      },
      {
        "duration": 76,
        "start_time": "2022-08-05T15:28:08.634Z"
      },
      {
        "duration": 65,
        "start_time": "2022-08-05T15:28:08.712Z"
      },
      {
        "duration": 39,
        "start_time": "2022-08-05T15:28:08.778Z"
      },
      {
        "duration": 34,
        "start_time": "2022-08-05T15:28:08.818Z"
      },
      {
        "duration": 59,
        "start_time": "2022-08-05T15:28:08.854Z"
      },
      {
        "duration": 18,
        "start_time": "2022-08-05T15:28:08.914Z"
      },
      {
        "duration": 95,
        "start_time": "2022-08-05T15:28:08.934Z"
      },
      {
        "duration": 32,
        "start_time": "2022-08-05T15:28:09.031Z"
      },
      {
        "duration": 28,
        "start_time": "2022-08-05T15:28:09.064Z"
      },
      {
        "duration": 73,
        "start_time": "2022-08-05T15:28:09.094Z"
      },
      {
        "duration": 7,
        "start_time": "2022-08-05T15:28:09.168Z"
      },
      {
        "duration": 41,
        "start_time": "2022-08-05T15:28:09.177Z"
      },
      {
        "duration": 32,
        "start_time": "2022-08-05T15:28:09.220Z"
      },
      {
        "duration": 64,
        "start_time": "2022-08-05T15:28:09.254Z"
      },
      {
        "duration": 562,
        "start_time": "2022-08-05T15:28:12.929Z"
      },
      {
        "duration": 16,
        "start_time": "2022-08-05T15:29:43.849Z"
      },
      {
        "duration": 2,
        "start_time": "2022-08-05T15:29:49.066Z"
      },
      {
        "duration": 4,
        "start_time": "2022-08-05T15:29:49.078Z"
      },
      {
        "duration": 726,
        "start_time": "2022-08-05T15:29:49.088Z"
      },
      {
        "duration": 105,
        "start_time": "2022-08-05T15:29:49.816Z"
      },
      {
        "duration": 442,
        "start_time": "2022-08-05T15:29:49.923Z"
      },
      {
        "duration": 869,
        "start_time": "2022-08-05T15:29:50.367Z"
      },
      {
        "duration": 94,
        "start_time": "2022-08-05T15:29:51.238Z"
      },
      {
        "duration": 25,
        "start_time": "2022-08-05T15:29:51.333Z"
      },
      {
        "duration": 58,
        "start_time": "2022-08-05T15:29:51.360Z"
      },
      {
        "duration": 89,
        "start_time": "2022-08-05T15:29:51.420Z"
      },
      {
        "duration": 258,
        "start_time": "2022-08-05T15:29:51.513Z"
      },
      {
        "duration": 73,
        "start_time": "2022-08-05T15:29:51.773Z"
      },
      {
        "duration": 79,
        "start_time": "2022-08-05T15:29:51.847Z"
      },
      {
        "duration": 34,
        "start_time": "2022-08-05T15:29:51.927Z"
      },
      {
        "duration": 18,
        "start_time": "2022-08-05T15:29:51.963Z"
      },
      {
        "duration": 58,
        "start_time": "2022-08-05T15:29:51.983Z"
      },
      {
        "duration": 16,
        "start_time": "2022-08-05T15:29:52.043Z"
      },
      {
        "duration": 84,
        "start_time": "2022-08-05T15:29:52.062Z"
      },
      {
        "duration": 27,
        "start_time": "2022-08-05T15:29:52.148Z"
      },
      {
        "duration": 34,
        "start_time": "2022-08-05T15:29:52.177Z"
      },
      {
        "duration": 73,
        "start_time": "2022-08-05T15:29:52.213Z"
      },
      {
        "duration": 18,
        "start_time": "2022-08-05T15:29:52.287Z"
      },
      {
        "duration": 23,
        "start_time": "2022-08-05T15:29:52.307Z"
      },
      {
        "duration": 23,
        "start_time": "2022-08-05T15:29:52.332Z"
      },
      {
        "duration": 85,
        "start_time": "2022-08-05T15:29:52.357Z"
      },
      {
        "duration": 764,
        "start_time": "2022-08-05T15:29:52.444Z"
      },
      {
        "duration": 592,
        "start_time": "2022-08-05T15:29:53.210Z"
      },
      {
        "duration": 17,
        "start_time": "2022-08-05T15:29:53.803Z"
      },
      {
        "duration": 25,
        "start_time": "2022-08-05T15:29:53.821Z"
      },
      {
        "duration": 256,
        "start_time": "2022-08-05T15:29:53.850Z"
      },
      {
        "duration": 27,
        "start_time": "2022-08-05T15:29:54.108Z"
      },
      {
        "duration": 0,
        "start_time": "2022-08-05T15:29:54.137Z"
      },
      {
        "duration": 0,
        "start_time": "2022-08-05T15:29:54.138Z"
      },
      {
        "duration": 0,
        "start_time": "2022-08-05T15:29:54.139Z"
      },
      {
        "duration": 0,
        "start_time": "2022-08-05T15:29:54.140Z"
      },
      {
        "duration": 0,
        "start_time": "2022-08-05T15:29:54.140Z"
      },
      {
        "duration": 0,
        "start_time": "2022-08-05T15:29:54.201Z"
      },
      {
        "duration": 0,
        "start_time": "2022-08-05T15:29:54.202Z"
      },
      {
        "duration": 0,
        "start_time": "2022-08-05T15:29:54.203Z"
      },
      {
        "duration": 0,
        "start_time": "2022-08-05T15:29:54.204Z"
      },
      {
        "duration": 0,
        "start_time": "2022-08-05T15:29:54.205Z"
      },
      {
        "duration": 0,
        "start_time": "2022-08-05T15:29:54.206Z"
      },
      {
        "duration": 14,
        "start_time": "2022-08-05T15:30:07.839Z"
      },
      {
        "duration": 3,
        "start_time": "2022-08-05T15:30:15.771Z"
      },
      {
        "duration": 9,
        "start_time": "2022-08-05T15:30:15.776Z"
      },
      {
        "duration": 841,
        "start_time": "2022-08-05T15:30:15.787Z"
      },
      {
        "duration": 104,
        "start_time": "2022-08-05T15:30:16.629Z"
      },
      {
        "duration": 413,
        "start_time": "2022-08-05T15:30:16.736Z"
      },
      {
        "duration": 798,
        "start_time": "2022-08-05T15:30:17.151Z"
      },
      {
        "duration": 94,
        "start_time": "2022-08-05T15:30:17.951Z"
      },
      {
        "duration": 24,
        "start_time": "2022-08-05T15:30:18.047Z"
      },
      {
        "duration": 52,
        "start_time": "2022-08-05T15:30:18.073Z"
      },
      {
        "duration": 81,
        "start_time": "2022-08-05T15:30:18.129Z"
      },
      {
        "duration": 232,
        "start_time": "2022-08-05T15:30:18.212Z"
      },
      {
        "duration": 84,
        "start_time": "2022-08-05T15:30:18.446Z"
      },
      {
        "duration": 85,
        "start_time": "2022-08-05T15:30:18.532Z"
      },
      {
        "duration": 42,
        "start_time": "2022-08-05T15:30:18.619Z"
      },
      {
        "duration": 22,
        "start_time": "2022-08-05T15:30:18.663Z"
      },
      {
        "duration": 56,
        "start_time": "2022-08-05T15:30:18.686Z"
      },
      {
        "duration": 17,
        "start_time": "2022-08-05T15:30:18.743Z"
      },
      {
        "duration": 110,
        "start_time": "2022-08-05T15:30:18.761Z"
      },
      {
        "duration": 32,
        "start_time": "2022-08-05T15:30:18.872Z"
      },
      {
        "duration": 15,
        "start_time": "2022-08-05T15:30:18.906Z"
      },
      {
        "duration": 93,
        "start_time": "2022-08-05T15:30:18.923Z"
      },
      {
        "duration": 16,
        "start_time": "2022-08-05T15:30:19.018Z"
      },
      {
        "duration": 43,
        "start_time": "2022-08-05T15:30:19.036Z"
      },
      {
        "duration": 23,
        "start_time": "2022-08-05T15:30:19.081Z"
      },
      {
        "duration": 60,
        "start_time": "2022-08-05T15:30:19.106Z"
      },
      {
        "duration": 649,
        "start_time": "2022-08-05T15:30:19.168Z"
      },
      {
        "duration": 1277,
        "start_time": "2022-08-05T15:31:46.752Z"
      },
      {
        "duration": 509,
        "start_time": "2022-08-05T15:33:02.820Z"
      },
      {
        "duration": 151,
        "start_time": "2022-08-05T15:33:10.496Z"
      },
      {
        "duration": 321,
        "start_time": "2022-08-05T15:33:13.826Z"
      },
      {
        "duration": 3,
        "start_time": "2022-08-05T15:33:20.164Z"
      },
      {
        "duration": 160056,
        "start_time": "2022-08-05T15:33:22.558Z"
      },
      {
        "duration": 152315,
        "start_time": "2022-08-05T15:37:27.979Z"
      },
      {
        "duration": 2118,
        "start_time": "2022-08-05T15:42:38.158Z"
      },
      {
        "duration": 0,
        "start_time": "2022-08-05T20:27:46.747Z"
      },
      {
        "duration": 0,
        "start_time": "2022-08-05T20:27:46.748Z"
      },
      {
        "duration": 0,
        "start_time": "2022-08-05T20:27:46.749Z"
      },
      {
        "duration": 0,
        "start_time": "2022-08-05T20:27:46.750Z"
      },
      {
        "duration": 2464,
        "start_time": "2022-08-06T15:34:50.111Z"
      },
      {
        "duration": 1340,
        "start_time": "2022-08-06T15:34:52.578Z"
      },
      {
        "duration": 1165,
        "start_time": "2022-08-06T15:34:53.919Z"
      },
      {
        "duration": 134,
        "start_time": "2022-08-06T15:34:55.086Z"
      },
      {
        "duration": 498,
        "start_time": "2022-08-06T15:34:55.222Z"
      },
      {
        "duration": 1035,
        "start_time": "2022-08-06T15:34:55.722Z"
      },
      {
        "duration": 121,
        "start_time": "2022-08-06T15:34:56.759Z"
      },
      {
        "duration": 47,
        "start_time": "2022-08-06T15:34:56.882Z"
      },
      {
        "duration": 56,
        "start_time": "2022-08-06T15:34:56.931Z"
      },
      {
        "duration": 107,
        "start_time": "2022-08-06T15:34:56.989Z"
      },
      {
        "duration": 359,
        "start_time": "2022-08-06T15:34:57.097Z"
      },
      {
        "duration": 95,
        "start_time": "2022-08-06T15:34:57.459Z"
      },
      {
        "duration": 89,
        "start_time": "2022-08-06T15:34:57.556Z"
      },
      {
        "duration": 36,
        "start_time": "2022-08-06T15:34:57.647Z"
      },
      {
        "duration": 41,
        "start_time": "2022-08-06T15:34:57.685Z"
      },
      {
        "duration": 54,
        "start_time": "2022-08-06T15:34:57.728Z"
      },
      {
        "duration": 32,
        "start_time": "2022-08-06T15:34:57.784Z"
      },
      {
        "duration": 92,
        "start_time": "2022-08-06T15:34:57.818Z"
      },
      {
        "duration": 22,
        "start_time": "2022-08-06T15:34:57.912Z"
      },
      {
        "duration": 15,
        "start_time": "2022-08-06T15:34:57.935Z"
      },
      {
        "duration": 102,
        "start_time": "2022-08-06T15:34:57.952Z"
      },
      {
        "duration": 8,
        "start_time": "2022-08-06T15:34:58.056Z"
      },
      {
        "duration": 23,
        "start_time": "2022-08-06T15:34:58.065Z"
      },
      {
        "duration": 25,
        "start_time": "2022-08-06T15:34:58.110Z"
      },
      {
        "duration": 104,
        "start_time": "2022-08-06T15:34:58.138Z"
      },
      {
        "duration": 22,
        "start_time": "2022-08-06T15:35:29.589Z"
      },
      {
        "duration": 118,
        "start_time": "2022-08-06T15:37:12.741Z"
      },
      {
        "duration": 14,
        "start_time": "2022-08-06T15:37:26.533Z"
      },
      {
        "duration": 36,
        "start_time": "2022-08-06T15:41:49.365Z"
      },
      {
        "duration": 701,
        "start_time": "2022-08-06T15:46:34.042Z"
      },
      {
        "duration": 2148,
        "start_time": "2022-08-06T15:46:49.611Z"
      },
      {
        "duration": 6,
        "start_time": "2022-08-06T15:46:51.762Z"
      },
      {
        "duration": 841,
        "start_time": "2022-08-06T15:46:51.770Z"
      },
      {
        "duration": 131,
        "start_time": "2022-08-06T15:46:52.613Z"
      },
      {
        "duration": 435,
        "start_time": "2022-08-06T15:46:52.747Z"
      },
      {
        "duration": 888,
        "start_time": "2022-08-06T15:46:53.184Z"
      },
      {
        "duration": 116,
        "start_time": "2022-08-06T15:46:54.074Z"
      },
      {
        "duration": 35,
        "start_time": "2022-08-06T15:46:54.191Z"
      },
      {
        "duration": 34,
        "start_time": "2022-08-06T15:46:54.228Z"
      },
      {
        "duration": 97,
        "start_time": "2022-08-06T15:46:54.264Z"
      },
      {
        "duration": 292,
        "start_time": "2022-08-06T15:46:54.363Z"
      },
      {
        "duration": 95,
        "start_time": "2022-08-06T15:46:54.656Z"
      },
      {
        "duration": 99,
        "start_time": "2022-08-06T15:46:54.752Z"
      },
      {
        "duration": 37,
        "start_time": "2022-08-06T15:46:54.855Z"
      },
      {
        "duration": 37,
        "start_time": "2022-08-06T15:46:54.910Z"
      },
      {
        "duration": 100,
        "start_time": "2022-08-06T15:46:54.950Z"
      },
      {
        "duration": 20,
        "start_time": "2022-08-06T15:46:55.052Z"
      },
      {
        "duration": 106,
        "start_time": "2022-08-06T15:46:55.074Z"
      },
      {
        "duration": 34,
        "start_time": "2022-08-06T15:46:55.182Z"
      },
      {
        "duration": 20,
        "start_time": "2022-08-06T15:46:55.218Z"
      },
      {
        "duration": 125,
        "start_time": "2022-08-06T15:46:55.240Z"
      },
      {
        "duration": 11,
        "start_time": "2022-08-06T15:46:55.367Z"
      },
      {
        "duration": 49,
        "start_time": "2022-08-06T15:46:55.381Z"
      },
      {
        "duration": 31,
        "start_time": "2022-08-06T15:46:55.432Z"
      },
      {
        "duration": 128,
        "start_time": "2022-08-06T15:46:55.465Z"
      },
      {
        "duration": 55,
        "start_time": "2022-08-06T15:46:55.595Z"
      },
      {
        "duration": 3,
        "start_time": "2022-08-06T15:46:55.653Z"
      },
      {
        "duration": 10,
        "start_time": "2022-08-06T15:46:55.658Z"
      },
      {
        "duration": 942,
        "start_time": "2022-08-06T15:47:39.955Z"
      },
      {
        "duration": 1167,
        "start_time": "2022-08-06T15:47:47.012Z"
      },
      {
        "duration": 490,
        "start_time": "2022-08-06T15:48:21.187Z"
      },
      {
        "duration": 137,
        "start_time": "2022-08-06T15:48:23.295Z"
      },
      {
        "duration": 423,
        "start_time": "2022-08-06T15:48:29.163Z"
      },
      {
        "duration": 2,
        "start_time": "2022-08-06T15:48:34.455Z"
      },
      {
        "duration": 171811,
        "start_time": "2022-08-06T15:48:38.312Z"
      },
      {
        "duration": 679,
        "start_time": "2022-08-06T16:01:28.082Z"
      },
      {
        "duration": 639,
        "start_time": "2022-08-06T16:01:34.760Z"
      },
      {
        "duration": 566,
        "start_time": "2022-08-06T16:05:24.126Z"
      },
      {
        "duration": 1005,
        "start_time": "2022-08-06T16:05:40.930Z"
      },
      {
        "duration": 643,
        "start_time": "2022-08-06T16:06:39.506Z"
      },
      {
        "duration": 113,
        "start_time": "2022-08-06T16:08:53.230Z"
      },
      {
        "duration": 439,
        "start_time": "2022-08-06T16:13:27.290Z"
      },
      {
        "duration": 95508,
        "start_time": "2022-08-06T16:13:46.106Z"
      },
      {
        "duration": 56,
        "start_time": "2022-08-06T16:19:36.467Z"
      },
      {
        "duration": 2162,
        "start_time": "2022-08-06T16:20:24.601Z"
      },
      {
        "duration": 4,
        "start_time": "2022-08-06T16:20:26.766Z"
      },
      {
        "duration": 769,
        "start_time": "2022-08-06T16:20:26.771Z"
      },
      {
        "duration": 127,
        "start_time": "2022-08-06T16:20:27.541Z"
      },
      {
        "duration": 414,
        "start_time": "2022-08-06T16:20:27.670Z"
      },
      {
        "duration": 800,
        "start_time": "2022-08-06T16:20:28.086Z"
      },
      {
        "duration": 107,
        "start_time": "2022-08-06T16:20:28.888Z"
      },
      {
        "duration": 37,
        "start_time": "2022-08-06T16:20:28.996Z"
      },
      {
        "duration": 33,
        "start_time": "2022-08-06T16:20:29.034Z"
      },
      {
        "duration": 89,
        "start_time": "2022-08-06T16:20:29.070Z"
      },
      {
        "duration": 267,
        "start_time": "2022-08-06T16:20:29.161Z"
      },
      {
        "duration": 90,
        "start_time": "2022-08-06T16:20:29.430Z"
      },
      {
        "duration": 89,
        "start_time": "2022-08-06T16:20:29.522Z"
      },
      {
        "duration": 32,
        "start_time": "2022-08-06T16:20:29.613Z"
      },
      {
        "duration": 23,
        "start_time": "2022-08-06T16:20:29.646Z"
      },
      {
        "duration": 72,
        "start_time": "2022-08-06T16:20:29.671Z"
      },
      {
        "duration": 18,
        "start_time": "2022-08-06T16:20:29.745Z"
      },
      {
        "duration": 85,
        "start_time": "2022-08-06T16:20:29.765Z"
      },
      {
        "duration": 21,
        "start_time": "2022-08-06T16:20:29.851Z"
      },
      {
        "duration": 12,
        "start_time": "2022-08-06T16:20:29.874Z"
      },
      {
        "duration": 84,
        "start_time": "2022-08-06T16:20:29.888Z"
      },
      {
        "duration": 7,
        "start_time": "2022-08-06T16:20:29.974Z"
      },
      {
        "duration": 32,
        "start_time": "2022-08-06T16:20:29.982Z"
      },
      {
        "duration": 22,
        "start_time": "2022-08-06T16:20:30.016Z"
      },
      {
        "duration": 93,
        "start_time": "2022-08-06T16:20:30.039Z"
      },
      {
        "duration": 27,
        "start_time": "2022-08-06T16:20:30.134Z"
      },
      {
        "duration": 3,
        "start_time": "2022-08-06T16:20:30.163Z"
      },
      {
        "duration": 8,
        "start_time": "2022-08-06T16:20:30.169Z"
      },
      {
        "duration": 1040,
        "start_time": "2022-08-06T16:20:30.179Z"
      },
      {
        "duration": 823,
        "start_time": "2022-08-06T16:20:31.221Z"
      },
      {
        "duration": 739,
        "start_time": "2022-08-06T16:20:32.046Z"
      },
      {
        "duration": 123,
        "start_time": "2022-08-06T16:20:32.786Z"
      },
      {
        "duration": 422,
        "start_time": "2022-08-06T16:20:32.910Z"
      },
      {
        "duration": 3,
        "start_time": "2022-08-06T16:20:33.334Z"
      },
      {
        "duration": 60,
        "start_time": "2022-08-06T16:20:36.921Z"
      },
      {
        "duration": 23061,
        "start_time": "2022-08-06T16:20:46.356Z"
      },
      {
        "duration": 23361,
        "start_time": "2022-08-06T16:21:30.650Z"
      },
      {
        "duration": 64,
        "start_time": "2022-08-06T16:21:54.013Z"
      },
      {
        "duration": 168,
        "start_time": "2022-08-06T16:22:35.243Z"
      },
      {
        "duration": 110788,
        "start_time": "2022-08-06T16:24:02.743Z"
      },
      {
        "duration": 196,
        "start_time": "2022-08-06T16:54:28.174Z"
      },
      {
        "duration": 14,
        "start_time": "2022-08-06T16:55:42.838Z"
      },
      {
        "duration": 2104,
        "start_time": "2022-08-06T17:08:42.990Z"
      },
      {
        "duration": 1263,
        "start_time": "2022-08-06T17:08:45.096Z"
      },
      {
        "duration": 809,
        "start_time": "2022-08-06T17:08:46.361Z"
      },
      {
        "duration": 200,
        "start_time": "2022-08-06T17:08:47.173Z"
      },
      {
        "duration": 504,
        "start_time": "2022-08-06T17:08:47.375Z"
      },
      {
        "duration": 969,
        "start_time": "2022-08-06T17:08:47.881Z"
      },
      {
        "duration": 120,
        "start_time": "2022-08-06T17:08:48.852Z"
      },
      {
        "duration": 43,
        "start_time": "2022-08-06T17:08:48.973Z"
      },
      {
        "duration": 46,
        "start_time": "2022-08-06T17:08:49.018Z"
      },
      {
        "duration": 81,
        "start_time": "2022-08-06T17:08:49.066Z"
      },
      {
        "duration": 468,
        "start_time": "2022-08-06T17:08:49.148Z"
      },
      {
        "duration": 99,
        "start_time": "2022-08-06T17:08:49.618Z"
      },
      {
        "duration": 92,
        "start_time": "2022-08-06T17:08:49.719Z"
      },
      {
        "duration": 33,
        "start_time": "2022-08-06T17:08:49.813Z"
      },
      {
        "duration": 20,
        "start_time": "2022-08-06T17:08:49.847Z"
      },
      {
        "duration": 72,
        "start_time": "2022-08-06T17:08:49.872Z"
      },
      {
        "duration": 20,
        "start_time": "2022-08-06T17:08:49.946Z"
      },
      {
        "duration": 91,
        "start_time": "2022-08-06T17:08:49.968Z"
      },
      {
        "duration": 22,
        "start_time": "2022-08-06T17:08:50.061Z"
      },
      {
        "duration": 38,
        "start_time": "2022-08-06T17:08:50.085Z"
      },
      {
        "duration": 89,
        "start_time": "2022-08-06T17:08:50.125Z"
      },
      {
        "duration": 10,
        "start_time": "2022-08-06T17:08:50.216Z"
      },
      {
        "duration": 24,
        "start_time": "2022-08-06T17:08:50.228Z"
      },
      {
        "duration": 20,
        "start_time": "2022-08-06T17:08:50.254Z"
      },
      {
        "duration": 104,
        "start_time": "2022-08-06T17:08:50.276Z"
      },
      {
        "duration": 43,
        "start_time": "2022-08-06T17:08:50.382Z"
      },
      {
        "duration": 2,
        "start_time": "2022-08-06T17:08:50.426Z"
      },
      {
        "duration": 5,
        "start_time": "2022-08-06T17:08:50.431Z"
      },
      {
        "duration": 1056,
        "start_time": "2022-08-06T17:08:50.437Z"
      },
      {
        "duration": 810,
        "start_time": "2022-08-06T17:08:51.495Z"
      },
      {
        "duration": 751,
        "start_time": "2022-08-06T17:08:52.309Z"
      },
      {
        "duration": 141,
        "start_time": "2022-08-06T17:08:53.061Z"
      },
      {
        "duration": 429,
        "start_time": "2022-08-06T17:08:53.204Z"
      },
      {
        "duration": 3,
        "start_time": "2022-08-06T17:08:53.635Z"
      },
      {
        "duration": 23272,
        "start_time": "2022-08-06T17:08:53.639Z"
      },
      {
        "duration": 214,
        "start_time": "2022-08-06T17:09:16.914Z"
      },
      {
        "duration": 111615,
        "start_time": "2022-08-06T17:09:17.213Z"
      },
      {
        "duration": 197,
        "start_time": "2022-08-06T17:11:08.830Z"
      },
      {
        "duration": 14,
        "start_time": "2022-08-06T17:11:09.029Z"
      },
      {
        "duration": 1236545,
        "start_time": "2022-08-06T17:11:09.044Z"
      },
      {
        "duration": 0,
        "start_time": "2022-08-06T17:31:45.591Z"
      },
      {
        "duration": 0,
        "start_time": "2022-08-06T17:31:45.592Z"
      },
      {
        "duration": 0,
        "start_time": "2022-08-06T17:31:45.593Z"
      },
      {
        "duration": 0,
        "start_time": "2022-08-06T17:31:45.594Z"
      },
      {
        "duration": 0,
        "start_time": "2022-08-06T17:31:45.595Z"
      },
      {
        "duration": 0,
        "start_time": "2022-08-06T17:31:45.596Z"
      },
      {
        "duration": 0,
        "start_time": "2022-08-06T17:31:45.597Z"
      },
      {
        "duration": 1099,
        "start_time": "2022-08-06T17:32:13.388Z"
      },
      {
        "duration": 25,
        "start_time": "2022-08-06T17:32:17.458Z"
      },
      {
        "duration": 2114,
        "start_time": "2022-08-06T17:32:50.239Z"
      },
      {
        "duration": 44,
        "start_time": "2022-08-06T17:32:55.856Z"
      },
      {
        "duration": 2561,
        "start_time": "2022-08-06T17:33:17.344Z"
      },
      {
        "duration": 56,
        "start_time": "2022-08-06T17:33:26.234Z"
      },
      {
        "duration": 3223,
        "start_time": "2022-08-06T17:34:11.867Z"
      },
      {
        "duration": 81,
        "start_time": "2022-08-06T17:34:17.464Z"
      },
      {
        "duration": 3480,
        "start_time": "2022-08-06T17:34:46.667Z"
      },
      {
        "duration": 80,
        "start_time": "2022-08-06T17:34:52.449Z"
      },
      {
        "duration": 3607,
        "start_time": "2022-08-06T17:35:04.257Z"
      },
      {
        "duration": 84,
        "start_time": "2022-08-06T17:35:10.990Z"
      },
      {
        "duration": 3533,
        "start_time": "2022-08-06T17:35:20.510Z"
      },
      {
        "duration": 81,
        "start_time": "2022-08-06T17:35:25.595Z"
      },
      {
        "duration": 3612,
        "start_time": "2022-08-06T17:35:30.353Z"
      },
      {
        "duration": 90,
        "start_time": "2022-08-06T17:35:35.368Z"
      },
      {
        "duration": 4306,
        "start_time": "2022-08-06T17:35:44.794Z"
      },
      {
        "duration": 104,
        "start_time": "2022-08-06T17:35:51.229Z"
      },
      {
        "duration": 4051,
        "start_time": "2022-08-06T17:36:00.261Z"
      },
      {
        "duration": 98,
        "start_time": "2022-08-06T17:36:05.791Z"
      },
      {
        "duration": 4198,
        "start_time": "2022-08-06T17:36:11.141Z"
      },
      {
        "duration": 110,
        "start_time": "2022-08-06T17:36:17.365Z"
      },
      {
        "duration": 4621,
        "start_time": "2022-08-06T17:36:23.202Z"
      },
      {
        "duration": 112,
        "start_time": "2022-08-06T17:36:30.120Z"
      },
      {
        "duration": 5787,
        "start_time": "2022-08-06T17:36:38.729Z"
      },
      {
        "duration": 144,
        "start_time": "2022-08-06T17:36:45.620Z"
      },
      {
        "duration": 7425,
        "start_time": "2022-08-06T17:36:52.603Z"
      },
      {
        "duration": 236,
        "start_time": "2022-08-06T17:37:01.710Z"
      },
      {
        "duration": 3473307,
        "start_time": "2022-08-06T17:37:49.437Z"
      },
      {
        "duration": 7349,
        "start_time": "2022-08-06T18:45:23.916Z"
      },
      {
        "duration": 213,
        "start_time": "2022-08-06T18:45:46.987Z"
      },
      {
        "duration": 3439496,
        "start_time": "2022-08-06T18:46:05.341Z"
      },
      {
        "duration": 7495,
        "start_time": "2023-02-02T14:13:08.971Z"
      },
      {
        "duration": 1260,
        "start_time": "2023-02-02T14:13:16.469Z"
      },
      {
        "duration": 3340,
        "start_time": "2023-02-02T14:13:17.730Z"
      },
      {
        "duration": 131,
        "start_time": "2023-02-02T14:13:21.072Z"
      },
      {
        "duration": 466,
        "start_time": "2023-02-02T14:13:21.205Z"
      },
      {
        "duration": 923,
        "start_time": "2023-02-02T14:13:21.672Z"
      },
      {
        "duration": 1548,
        "start_time": "2023-02-02T14:13:22.597Z"
      },
      {
        "duration": 0,
        "start_time": "2023-02-02T14:13:24.147Z"
      },
      {
        "duration": 0,
        "start_time": "2023-02-02T14:13:24.148Z"
      },
      {
        "duration": 0,
        "start_time": "2023-02-02T14:13:24.149Z"
      },
      {
        "duration": 0,
        "start_time": "2023-02-02T14:13:24.150Z"
      },
      {
        "duration": 0,
        "start_time": "2023-02-02T14:13:24.152Z"
      },
      {
        "duration": 0,
        "start_time": "2023-02-02T14:13:24.153Z"
      },
      {
        "duration": 0,
        "start_time": "2023-02-02T14:13:24.154Z"
      },
      {
        "duration": 0,
        "start_time": "2023-02-02T14:13:24.155Z"
      },
      {
        "duration": 0,
        "start_time": "2023-02-02T14:13:24.156Z"
      },
      {
        "duration": 0,
        "start_time": "2023-02-02T14:13:24.157Z"
      },
      {
        "duration": 0,
        "start_time": "2023-02-02T14:13:24.158Z"
      },
      {
        "duration": 0,
        "start_time": "2023-02-02T14:13:24.159Z"
      },
      {
        "duration": 0,
        "start_time": "2023-02-02T14:13:24.160Z"
      },
      {
        "duration": 0,
        "start_time": "2023-02-02T14:13:24.161Z"
      },
      {
        "duration": 0,
        "start_time": "2023-02-02T14:13:24.162Z"
      },
      {
        "duration": 0,
        "start_time": "2023-02-02T14:13:24.163Z"
      },
      {
        "duration": 0,
        "start_time": "2023-02-02T14:13:24.164Z"
      },
      {
        "duration": 0,
        "start_time": "2023-02-02T14:13:24.165Z"
      },
      {
        "duration": 0,
        "start_time": "2023-02-02T14:13:24.166Z"
      },
      {
        "duration": 0,
        "start_time": "2023-02-02T14:13:24.167Z"
      },
      {
        "duration": 0,
        "start_time": "2023-02-02T14:13:24.168Z"
      },
      {
        "duration": 0,
        "start_time": "2023-02-02T14:13:24.171Z"
      },
      {
        "duration": 0,
        "start_time": "2023-02-02T14:13:24.172Z"
      },
      {
        "duration": 0,
        "start_time": "2023-02-02T14:13:24.173Z"
      },
      {
        "duration": 111,
        "start_time": "2023-02-02T14:14:25.716Z"
      },
      {
        "duration": 26,
        "start_time": "2023-02-02T14:14:34.013Z"
      },
      {
        "duration": 34,
        "start_time": "2023-02-02T14:14:37.564Z"
      },
      {
        "duration": 69,
        "start_time": "2023-02-02T14:14:42.013Z"
      },
      {
        "duration": 292,
        "start_time": "2023-02-02T14:14:46.007Z"
      },
      {
        "duration": 101,
        "start_time": "2023-02-02T14:14:49.809Z"
      },
      {
        "duration": 84,
        "start_time": "2023-02-02T14:14:54.566Z"
      },
      {
        "duration": 35,
        "start_time": "2023-02-02T14:15:00.781Z"
      },
      {
        "duration": 30,
        "start_time": "2023-02-02T14:15:03.457Z"
      },
      {
        "duration": 2016,
        "start_time": "2023-02-02T14:15:05.419Z"
      },
      {
        "duration": 53,
        "start_time": "2023-02-02T14:15:21.546Z"
      },
      {
        "duration": 35,
        "start_time": "2023-02-02T14:15:25.974Z"
      },
      {
        "duration": 97,
        "start_time": "2023-02-02T14:15:28.037Z"
      },
      {
        "duration": 21,
        "start_time": "2023-02-02T14:15:38.547Z"
      },
      {
        "duration": 15,
        "start_time": "2023-02-02T14:15:42.888Z"
      },
      {
        "duration": 80,
        "start_time": "2023-02-02T14:15:45.913Z"
      },
      {
        "duration": 9,
        "start_time": "2023-02-02T14:15:48.749Z"
      },
      {
        "duration": 20,
        "start_time": "2023-02-02T14:15:51.481Z"
      },
      {
        "duration": 21,
        "start_time": "2023-02-02T14:15:55.297Z"
      },
      {
        "duration": 86,
        "start_time": "2023-02-02T14:15:57.065Z"
      },
      {
        "duration": 34,
        "start_time": "2023-02-02T14:16:04.795Z"
      },
      {
        "duration": 1026,
        "start_time": "2023-02-02T14:16:12.222Z"
      },
      {
        "duration": 731,
        "start_time": "2023-02-02T14:17:12.669Z"
      },
      {
        "duration": 58,
        "start_time": "2023-02-02T14:17:17.777Z"
      },
      {
        "duration": 56,
        "start_time": "2023-02-02T14:24:39.282Z"
      },
      {
        "duration": 730,
        "start_time": "2023-02-02T14:24:54.760Z"
      },
      {
        "duration": 133,
        "start_time": "2023-02-02T14:25:01.081Z"
      },
      {
        "duration": 421,
        "start_time": "2023-02-02T14:25:05.271Z"
      },
      {
        "duration": 3,
        "start_time": "2023-02-02T14:25:09.292Z"
      },
      {
        "duration": 17268,
        "start_time": "2023-02-02T14:25:12.082Z"
      },
      {
        "duration": 197,
        "start_time": "2023-02-02T14:25:29.352Z"
      },
      {
        "duration": 2157,
        "start_time": "2023-02-02T18:20:45.056Z"
      },
      {
        "duration": 1239,
        "start_time": "2023-02-02T18:20:47.215Z"
      },
      {
        "duration": 950,
        "start_time": "2023-02-02T18:20:48.456Z"
      },
      {
        "duration": 102,
        "start_time": "2023-02-02T18:20:49.408Z"
      },
      {
        "duration": 419,
        "start_time": "2023-02-02T18:20:49.512Z"
      },
      {
        "duration": 844,
        "start_time": "2023-02-02T18:20:49.933Z"
      },
      {
        "duration": 97,
        "start_time": "2023-02-02T18:20:50.778Z"
      },
      {
        "duration": 23,
        "start_time": "2023-02-02T18:20:50.877Z"
      },
      {
        "duration": 61,
        "start_time": "2023-02-02T18:20:50.901Z"
      },
      {
        "duration": 74,
        "start_time": "2023-02-02T18:20:50.964Z"
      },
      {
        "duration": 221,
        "start_time": "2023-02-02T18:20:51.039Z"
      },
      {
        "duration": 75,
        "start_time": "2023-02-02T18:20:51.262Z"
      },
      {
        "duration": 63,
        "start_time": "2023-02-02T18:20:51.338Z"
      },
      {
        "duration": 38,
        "start_time": "2023-02-02T18:20:51.402Z"
      },
      {
        "duration": 20,
        "start_time": "2023-02-02T18:20:51.441Z"
      },
      {
        "duration": 44,
        "start_time": "2023-02-02T18:20:51.462Z"
      },
      {
        "duration": 30,
        "start_time": "2023-02-02T18:20:51.508Z"
      },
      {
        "duration": 59,
        "start_time": "2023-02-02T18:20:51.540Z"
      },
      {
        "duration": 37,
        "start_time": "2023-02-02T18:20:51.601Z"
      },
      {
        "duration": 14,
        "start_time": "2023-02-02T18:20:51.640Z"
      },
      {
        "duration": 83,
        "start_time": "2023-02-02T18:20:51.655Z"
      },
      {
        "duration": 7,
        "start_time": "2023-02-02T18:20:51.739Z"
      },
      {
        "duration": 20,
        "start_time": "2023-02-02T18:20:51.748Z"
      },
      {
        "duration": 19,
        "start_time": "2023-02-02T18:20:51.769Z"
      },
      {
        "duration": 83,
        "start_time": "2023-02-02T18:20:51.790Z"
      },
      {
        "duration": 38,
        "start_time": "2023-02-02T18:20:51.874Z"
      },
      {
        "duration": 1030,
        "start_time": "2023-02-02T18:20:51.914Z"
      },
      {
        "duration": 956,
        "start_time": "2023-02-02T18:20:52.948Z"
      },
      {
        "duration": 844,
        "start_time": "2023-02-02T18:20:53.905Z"
      },
      {
        "duration": 132,
        "start_time": "2023-02-02T18:20:54.751Z"
      },
      {
        "duration": 446,
        "start_time": "2023-02-02T18:20:54.885Z"
      },
      {
        "duration": 5,
        "start_time": "2023-02-02T18:20:55.333Z"
      },
      {
        "duration": 16797,
        "start_time": "2023-02-02T18:20:55.340Z"
      },
      {
        "duration": 198,
        "start_time": "2023-02-02T18:21:12.139Z"
      },
      {
        "duration": 3159337,
        "start_time": "2023-02-02T18:21:12.339Z"
      },
      {
        "duration": 6424,
        "start_time": "2023-02-02T20:48:35.694Z"
      },
      {
        "duration": 191,
        "start_time": "2023-02-02T20:48:42.119Z"
      },
      {
        "duration": 3870387,
        "start_time": "2023-02-02T20:48:49.755Z"
      },
      {
        "duration": 1010,
        "start_time": "2023-02-02T22:07:48.532Z"
      },
      {
        "duration": 20,
        "start_time": "2023-02-02T22:07:58.623Z"
      },
      {
        "duration": 208055,
        "start_time": "2023-02-02T22:08:07.332Z"
      },
      {
        "duration": 2440,
        "start_time": "2023-02-03T11:45:45.014Z"
      },
      {
        "duration": 1417,
        "start_time": "2023-02-03T11:45:47.456Z"
      },
      {
        "duration": 3058,
        "start_time": "2023-02-03T11:45:48.875Z"
      },
      {
        "duration": 118,
        "start_time": "2023-02-03T11:45:51.935Z"
      },
      {
        "duration": 449,
        "start_time": "2023-02-03T11:45:52.055Z"
      },
      {
        "duration": 948,
        "start_time": "2023-02-03T11:45:52.506Z"
      },
      {
        "duration": 106,
        "start_time": "2023-02-03T11:45:53.456Z"
      },
      {
        "duration": 24,
        "start_time": "2023-02-03T11:45:53.564Z"
      },
      {
        "duration": 61,
        "start_time": "2023-02-03T11:45:53.590Z"
      },
      {
        "duration": 89,
        "start_time": "2023-02-03T11:45:53.655Z"
      },
      {
        "duration": 238,
        "start_time": "2023-02-03T11:45:53.746Z"
      },
      {
        "duration": 86,
        "start_time": "2023-02-03T11:45:53.986Z"
      },
      {
        "duration": 102,
        "start_time": "2023-02-03T11:45:54.074Z"
      },
      {
        "duration": 28,
        "start_time": "2023-02-03T11:45:54.177Z"
      },
      {
        "duration": 38,
        "start_time": "2023-02-03T11:45:54.207Z"
      },
      {
        "duration": 51,
        "start_time": "2023-02-03T11:45:54.247Z"
      },
      {
        "duration": 34,
        "start_time": "2023-02-03T11:45:54.299Z"
      },
      {
        "duration": 98,
        "start_time": "2023-02-03T11:45:54.339Z"
      },
      {
        "duration": 35,
        "start_time": "2023-02-03T11:45:54.438Z"
      },
      {
        "duration": 14,
        "start_time": "2023-02-03T11:45:54.475Z"
      },
      {
        "duration": 77,
        "start_time": "2023-02-03T11:45:54.491Z"
      },
      {
        "duration": 10,
        "start_time": "2023-02-03T11:45:54.570Z"
      },
      {
        "duration": 24,
        "start_time": "2023-02-03T11:45:54.582Z"
      },
      {
        "duration": 38,
        "start_time": "2023-02-03T11:45:54.627Z"
      },
      {
        "duration": 80,
        "start_time": "2023-02-03T11:45:54.667Z"
      },
      {
        "duration": 36,
        "start_time": "2023-02-03T11:45:54.748Z"
      },
      {
        "duration": 1129,
        "start_time": "2023-02-03T11:45:54.786Z"
      },
      {
        "duration": 867,
        "start_time": "2023-02-03T11:45:55.919Z"
      },
      {
        "duration": 825,
        "start_time": "2023-02-03T11:45:56.787Z"
      },
      {
        "duration": 139,
        "start_time": "2023-02-03T11:45:57.614Z"
      },
      {
        "duration": 419,
        "start_time": "2023-02-03T11:45:57.755Z"
      },
      {
        "duration": 3,
        "start_time": "2023-02-03T11:45:58.176Z"
      },
      {
        "duration": 40068,
        "start_time": "2023-02-03T11:45:58.180Z"
      },
      {
        "duration": 200,
        "start_time": "2023-02-03T11:46:38.250Z"
      },
      {
        "duration": 3541,
        "start_time": "2023-02-07T13:17:37.814Z"
      },
      {
        "duration": 4761,
        "start_time": "2023-02-07T13:17:41.358Z"
      },
      {
        "duration": 4586,
        "start_time": "2023-02-07T13:17:46.121Z"
      },
      {
        "duration": 169,
        "start_time": "2023-02-07T13:17:50.710Z"
      },
      {
        "duration": 717,
        "start_time": "2023-02-07T13:17:50.881Z"
      },
      {
        "duration": 1292,
        "start_time": "2023-02-07T13:17:51.600Z"
      },
      {
        "duration": 137,
        "start_time": "2023-02-07T13:17:52.895Z"
      },
      {
        "duration": 67,
        "start_time": "2023-02-07T13:17:53.034Z"
      },
      {
        "duration": 61,
        "start_time": "2023-02-07T13:17:53.103Z"
      },
      {
        "duration": 115,
        "start_time": "2023-02-07T13:17:53.168Z"
      },
      {
        "duration": 376,
        "start_time": "2023-02-07T13:17:53.284Z"
      },
      {
        "duration": 101,
        "start_time": "2023-02-07T13:17:53.664Z"
      },
      {
        "duration": 136,
        "start_time": "2023-02-07T13:17:53.768Z"
      },
      {
        "duration": 53,
        "start_time": "2023-02-07T13:17:53.906Z"
      },
      {
        "duration": 63,
        "start_time": "2023-02-07T13:17:53.960Z"
      },
      {
        "duration": 81,
        "start_time": "2023-02-07T13:17:54.025Z"
      },
      {
        "duration": 18,
        "start_time": "2023-02-07T13:17:54.108Z"
      },
      {
        "duration": 103,
        "start_time": "2023-02-07T13:17:54.127Z"
      },
      {
        "duration": 32,
        "start_time": "2023-02-07T13:17:54.240Z"
      },
      {
        "duration": 34,
        "start_time": "2023-02-07T13:17:54.275Z"
      },
      {
        "duration": 115,
        "start_time": "2023-02-07T13:17:54.311Z"
      },
      {
        "duration": 15,
        "start_time": "2023-02-07T13:17:54.428Z"
      },
      {
        "duration": 73,
        "start_time": "2023-02-07T13:17:54.447Z"
      },
      {
        "duration": 28,
        "start_time": "2023-02-07T13:17:54.521Z"
      },
      {
        "duration": 94,
        "start_time": "2023-02-07T13:17:54.550Z"
      },
      {
        "duration": 80,
        "start_time": "2023-02-07T13:17:54.648Z"
      },
      {
        "duration": 1466,
        "start_time": "2023-02-07T13:17:54.730Z"
      },
      {
        "duration": 1421,
        "start_time": "2023-02-07T13:17:56.200Z"
      },
      {
        "duration": 1381,
        "start_time": "2023-02-07T13:17:57.623Z"
      },
      {
        "duration": 340,
        "start_time": "2023-02-07T13:17:59.007Z"
      },
      {
        "duration": 597,
        "start_time": "2023-02-07T13:17:59.349Z"
      },
      {
        "duration": 6,
        "start_time": "2023-02-07T13:17:59.948Z"
      },
      {
        "duration": 60155,
        "start_time": "2023-02-07T13:17:59.956Z"
      },
      {
        "duration": 168,
        "start_time": "2023-02-07T13:19:00.112Z"
      },
      {
        "duration": 5439700,
        "start_time": "2023-02-07T13:24:18.697Z"
      },
      {
        "duration": 12545,
        "start_time": "2023-02-07T15:00:27.393Z"
      },
      {
        "duration": 220,
        "start_time": "2023-02-07T17:45:42.063Z"
      },
      {
        "duration": 3785309,
        "start_time": "2023-02-07T17:46:08.238Z"
      },
      {
        "duration": 1927,
        "start_time": "2023-02-07T19:25:01.221Z"
      },
      {
        "duration": 100,
        "start_time": "2023-02-07T19:25:04.746Z"
      },
      {
        "duration": 247658,
        "start_time": "2023-02-07T19:25:20.695Z"
      },
      {
        "duration": 4513,
        "start_time": "2023-02-07T19:36:31.418Z"
      },
      {
        "duration": 21,
        "start_time": "2023-02-07T20:00:49.141Z"
      },
      {
        "duration": 14,
        "start_time": "2023-02-07T20:00:53.371Z"
      },
      {
        "duration": 483898,
        "start_time": "2023-02-07T20:01:02.259Z"
      }
    ],
    "colab": {
      "provenance": [],
      "toc_visible": true
    },
    "kernelspec": {
      "display_name": "Python 3 (ipykernel)",
      "language": "python",
      "name": "python3"
    },
    "language_info": {
      "codemirror_mode": {
        "name": "ipython",
        "version": 3
      },
      "file_extension": ".py",
      "mimetype": "text/x-python",
      "name": "python",
      "nbconvert_exporter": "python",
      "pygments_lexer": "ipython3",
      "version": "3.9.5"
    },
    "toc": {
      "base_numbering": 1,
      "nav_menu": {},
      "number_sections": false,
      "sideBar": true,
      "skip_h1_title": true,
      "title_cell": "Table of Contents",
      "title_sidebar": "Contents",
      "toc_cell": false,
      "toc_position": {
        "height": "calc(100% - 180px)",
        "left": "10px",
        "top": "150px",
        "width": "165px"
      },
      "toc_section_display": true,
      "toc_window_display": true
    }
  },
  "nbformat": 4,
  "nbformat_minor": 0
}