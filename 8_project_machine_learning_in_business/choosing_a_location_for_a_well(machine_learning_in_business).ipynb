{
  "cells": [
    {
      "cell_type": "markdown",
      "metadata": {
        "id": "XCPVzHM8p8g6"
      },
      "source": [
        "# Выбор локации для скважины"
      ]
    },
    {
      "cell_type": "markdown",
      "metadata": {
        "id": "tBuMnfYLp8g7"
      },
      "source": [
        "Допустим, вы работаете в добывающей компании «ГлавРосГосНефть». Нужно решить, где бурить новую скважину.\n",
        "\n",
        "Вам предоставлены пробы нефти в трёх регионах: в каждом 10 000 месторождений, где измерили качество нефти и объём её запасов. Постройте модель машинного обучения, которая поможет определить регион, где добыча принесёт наибольшую прибыль. Проанализируйте возможную прибыль и риски техникой *Bootstrap.*\n",
        "\n",
        "Шаги для выбора локации:\n",
        "\n",
        "- В избранном регионе ищут месторождения, для каждого определяют значения признаков;\n",
        "- Строят модель и оценивают объём запасов;\n",
        "- Выбирают месторождения с самым высокими оценками значений. Количество месторождений зависит от бюджета компании и стоимости разработки одной скважины;\n",
        "- Прибыль равна суммарной прибыли отобранных месторождений."
      ]
    },
    {
      "cell_type": "markdown",
      "metadata": {
        "id": "LAsLKKOfp8g8"
      },
      "source": [
        "## Условия задачи:\n",
        "- Для обучения модели подходит только линейная регрессия (остальные — недостаточно предсказуемые).\n",
        "- При разведке региона исследуют 500 точек, из которых с помощью машинного обучения выбирают 200 лучших для разработки.\n",
        "- Бюджет на разработку скважин в регионе — 10 млрд рублей.\n",
        "- При нынешних ценах один баррель сырья приносит 450 рублей дохода. Доход с каждой единицы продукта составляет 450 тыс. рублей, поскольку объём указан в тысячах баррелей.\n",
        "- После оценки рисков нужно оставить лишь те регионы, в которых вероятность убытков меньше 2.5%. Среди них выбирают регион с наибольшей средней прибылью.\n",
        "- Данные синтетические: детали контрактов и характеристики месторождений не разглашаются."
      ]
    },
    {
      "cell_type": "markdown",
      "metadata": {
        "id": "rTkTIBqYp8g-"
      },
      "source": [
        "## Загрузка и подготовка данных"
      ]
    },
    {
      "cell_type": "code",
      "execution_count": null,
      "metadata": {
        "id": "1CGUwxAop8g_"
      },
      "outputs": [],
      "source": [
        "import pandas as pd\n",
        "import numpy as np\n",
        "import matplotlib.pyplot as plt\n",
        "\n",
        "from sklearn.model_selection import train_test_split\n",
        "from sklearn.utils import shuffle\n",
        "from sklearn.metrics import r2_score, mean_squared_error\n",
        "from sklearn.linear_model import LinearRegression\n",
        "\n",
        "from scipy import stats"
      ]
    },
    {
      "cell_type": "markdown",
      "metadata": {
        "id": "a5mRTM6zp8hD"
      },
      "source": [
        "Прочитаем все необходимые файлы и выведем на экран первые 5 строк."
      ]
    },
    {
      "cell_type": "code",
      "execution_count": null,
      "metadata": {
        "id": "VmX3HSeFp8hE",
        "outputId": "3d4ce487-7e63-4bd3-d95f-8942875c7aa5"
      },
      "outputs": [
        {
          "data": {
            "text/html": [
              "<div>\n",
              "<style scoped>\n",
              "    .dataframe tbody tr th:only-of-type {\n",
              "        vertical-align: middle;\n",
              "    }\n",
              "\n",
              "    .dataframe tbody tr th {\n",
              "        vertical-align: top;\n",
              "    }\n",
              "\n",
              "    .dataframe thead th {\n",
              "        text-align: right;\n",
              "    }\n",
              "</style>\n",
              "<table border=\"1\" class=\"dataframe\">\n",
              "  <thead>\n",
              "    <tr style=\"text-align: right;\">\n",
              "      <th></th>\n",
              "      <th>id</th>\n",
              "      <th>f0</th>\n",
              "      <th>f1</th>\n",
              "      <th>f2</th>\n",
              "      <th>product</th>\n",
              "    </tr>\n",
              "  </thead>\n",
              "  <tbody>\n",
              "    <tr>\n",
              "      <th>0</th>\n",
              "      <td>txEyH</td>\n",
              "      <td>0.705745</td>\n",
              "      <td>-0.497823</td>\n",
              "      <td>1.221170</td>\n",
              "      <td>105.280062</td>\n",
              "    </tr>\n",
              "    <tr>\n",
              "      <th>1</th>\n",
              "      <td>2acmU</td>\n",
              "      <td>1.334711</td>\n",
              "      <td>-0.340164</td>\n",
              "      <td>4.365080</td>\n",
              "      <td>73.037750</td>\n",
              "    </tr>\n",
              "    <tr>\n",
              "      <th>2</th>\n",
              "      <td>409Wp</td>\n",
              "      <td>1.022732</td>\n",
              "      <td>0.151990</td>\n",
              "      <td>1.419926</td>\n",
              "      <td>85.265647</td>\n",
              "    </tr>\n",
              "    <tr>\n",
              "      <th>3</th>\n",
              "      <td>iJLyR</td>\n",
              "      <td>-0.032172</td>\n",
              "      <td>0.139033</td>\n",
              "      <td>2.978566</td>\n",
              "      <td>168.620776</td>\n",
              "    </tr>\n",
              "    <tr>\n",
              "      <th>4</th>\n",
              "      <td>Xdl7t</td>\n",
              "      <td>1.988431</td>\n",
              "      <td>0.155413</td>\n",
              "      <td>4.751769</td>\n",
              "      <td>154.036647</td>\n",
              "    </tr>\n",
              "  </tbody>\n",
              "</table>\n",
              "</div>"
            ],
            "text/plain": [
              "      id        f0        f1        f2     product\n",
              "0  txEyH  0.705745 -0.497823  1.221170  105.280062\n",
              "1  2acmU  1.334711 -0.340164  4.365080   73.037750\n",
              "2  409Wp  1.022732  0.151990  1.419926   85.265647\n",
              "3  iJLyR -0.032172  0.139033  2.978566  168.620776\n",
              "4  Xdl7t  1.988431  0.155413  4.751769  154.036647"
            ]
          },
          "execution_count": 2,
          "metadata": {},
          "output_type": "execute_result"
        }
      ],
      "source": [
        "data_0 = pd.read_csv('/datasets/geo_data_0.csv')\n",
        "data_0.head()"
      ]
    },
    {
      "cell_type": "code",
      "execution_count": null,
      "metadata": {
        "id": "0q_Tv038p8hH",
        "outputId": "5db0373f-6437-4245-dae8-d598e70ec1c8"
      },
      "outputs": [
        {
          "data": {
            "text/html": [
              "<div>\n",
              "<style scoped>\n",
              "    .dataframe tbody tr th:only-of-type {\n",
              "        vertical-align: middle;\n",
              "    }\n",
              "\n",
              "    .dataframe tbody tr th {\n",
              "        vertical-align: top;\n",
              "    }\n",
              "\n",
              "    .dataframe thead th {\n",
              "        text-align: right;\n",
              "    }\n",
              "</style>\n",
              "<table border=\"1\" class=\"dataframe\">\n",
              "  <thead>\n",
              "    <tr style=\"text-align: right;\">\n",
              "      <th></th>\n",
              "      <th>id</th>\n",
              "      <th>f0</th>\n",
              "      <th>f1</th>\n",
              "      <th>f2</th>\n",
              "      <th>product</th>\n",
              "    </tr>\n",
              "  </thead>\n",
              "  <tbody>\n",
              "    <tr>\n",
              "      <th>0</th>\n",
              "      <td>kBEdx</td>\n",
              "      <td>-15.001348</td>\n",
              "      <td>-8.276000</td>\n",
              "      <td>-0.005876</td>\n",
              "      <td>3.179103</td>\n",
              "    </tr>\n",
              "    <tr>\n",
              "      <th>1</th>\n",
              "      <td>62mP7</td>\n",
              "      <td>14.272088</td>\n",
              "      <td>-3.475083</td>\n",
              "      <td>0.999183</td>\n",
              "      <td>26.953261</td>\n",
              "    </tr>\n",
              "    <tr>\n",
              "      <th>2</th>\n",
              "      <td>vyE1P</td>\n",
              "      <td>6.263187</td>\n",
              "      <td>-5.948386</td>\n",
              "      <td>5.001160</td>\n",
              "      <td>134.766305</td>\n",
              "    </tr>\n",
              "    <tr>\n",
              "      <th>3</th>\n",
              "      <td>KcrkZ</td>\n",
              "      <td>-13.081196</td>\n",
              "      <td>-11.506057</td>\n",
              "      <td>4.999415</td>\n",
              "      <td>137.945408</td>\n",
              "    </tr>\n",
              "    <tr>\n",
              "      <th>4</th>\n",
              "      <td>AHL4O</td>\n",
              "      <td>12.702195</td>\n",
              "      <td>-8.147433</td>\n",
              "      <td>5.004363</td>\n",
              "      <td>134.766305</td>\n",
              "    </tr>\n",
              "  </tbody>\n",
              "</table>\n",
              "</div>"
            ],
            "text/plain": [
              "      id         f0         f1        f2     product\n",
              "0  kBEdx -15.001348  -8.276000 -0.005876    3.179103\n",
              "1  62mP7  14.272088  -3.475083  0.999183   26.953261\n",
              "2  vyE1P   6.263187  -5.948386  5.001160  134.766305\n",
              "3  KcrkZ -13.081196 -11.506057  4.999415  137.945408\n",
              "4  AHL4O  12.702195  -8.147433  5.004363  134.766305"
            ]
          },
          "execution_count": 3,
          "metadata": {},
          "output_type": "execute_result"
        }
      ],
      "source": [
        "data_1 = pd.read_csv('/datasets/geo_data_1.csv')\n",
        "data_1.head()"
      ]
    },
    {
      "cell_type": "code",
      "execution_count": null,
      "metadata": {
        "id": "rUqG1trJp8hI",
        "outputId": "e3e65526-0e2e-4151-9d44-d36921ecf4f1"
      },
      "outputs": [
        {
          "data": {
            "text/html": [
              "<div>\n",
              "<style scoped>\n",
              "    .dataframe tbody tr th:only-of-type {\n",
              "        vertical-align: middle;\n",
              "    }\n",
              "\n",
              "    .dataframe tbody tr th {\n",
              "        vertical-align: top;\n",
              "    }\n",
              "\n",
              "    .dataframe thead th {\n",
              "        text-align: right;\n",
              "    }\n",
              "</style>\n",
              "<table border=\"1\" class=\"dataframe\">\n",
              "  <thead>\n",
              "    <tr style=\"text-align: right;\">\n",
              "      <th></th>\n",
              "      <th>id</th>\n",
              "      <th>f0</th>\n",
              "      <th>f1</th>\n",
              "      <th>f2</th>\n",
              "      <th>product</th>\n",
              "    </tr>\n",
              "  </thead>\n",
              "  <tbody>\n",
              "    <tr>\n",
              "      <th>0</th>\n",
              "      <td>fwXo0</td>\n",
              "      <td>-1.146987</td>\n",
              "      <td>0.963328</td>\n",
              "      <td>-0.828965</td>\n",
              "      <td>27.758673</td>\n",
              "    </tr>\n",
              "    <tr>\n",
              "      <th>1</th>\n",
              "      <td>WJtFt</td>\n",
              "      <td>0.262778</td>\n",
              "      <td>0.269839</td>\n",
              "      <td>-2.530187</td>\n",
              "      <td>56.069697</td>\n",
              "    </tr>\n",
              "    <tr>\n",
              "      <th>2</th>\n",
              "      <td>ovLUW</td>\n",
              "      <td>0.194587</td>\n",
              "      <td>0.289035</td>\n",
              "      <td>-5.586433</td>\n",
              "      <td>62.871910</td>\n",
              "    </tr>\n",
              "    <tr>\n",
              "      <th>3</th>\n",
              "      <td>q6cA6</td>\n",
              "      <td>2.236060</td>\n",
              "      <td>-0.553760</td>\n",
              "      <td>0.930038</td>\n",
              "      <td>114.572842</td>\n",
              "    </tr>\n",
              "    <tr>\n",
              "      <th>4</th>\n",
              "      <td>WPMUX</td>\n",
              "      <td>-0.515993</td>\n",
              "      <td>1.716266</td>\n",
              "      <td>5.899011</td>\n",
              "      <td>149.600746</td>\n",
              "    </tr>\n",
              "  </tbody>\n",
              "</table>\n",
              "</div>"
            ],
            "text/plain": [
              "      id        f0        f1        f2     product\n",
              "0  fwXo0 -1.146987  0.963328 -0.828965   27.758673\n",
              "1  WJtFt  0.262778  0.269839 -2.530187   56.069697\n",
              "2  ovLUW  0.194587  0.289035 -5.586433   62.871910\n",
              "3  q6cA6  2.236060 -0.553760  0.930038  114.572842\n",
              "4  WPMUX -0.515993  1.716266  5.899011  149.600746"
            ]
          },
          "execution_count": 4,
          "metadata": {},
          "output_type": "execute_result"
        }
      ],
      "source": [
        "data_2 = pd.read_csv('/datasets/geo_data_2.csv')\n",
        "data_2.head()"
      ]
    },
    {
      "cell_type": "markdown",
      "metadata": {
        "id": "dD5vewpyp8hJ"
      },
      "source": [
        "Посмотрим общую информацию о датафреймах, а также аналитическую информацию и распределение целевого признака."
      ]
    },
    {
      "cell_type": "code",
      "execution_count": null,
      "metadata": {
        "id": "5xsI6XZAp8hK",
        "outputId": "b2070276-4c43-4d14-9d97-56c0f3b9dfbd"
      },
      "outputs": [
        {
          "name": "stdout",
          "output_type": "stream",
          "text": [
            "<class 'pandas.core.frame.DataFrame'>\n",
            "RangeIndex: 100000 entries, 0 to 99999\n",
            "Data columns (total 5 columns):\n",
            " #   Column   Non-Null Count   Dtype  \n",
            "---  ------   --------------   -----  \n",
            " 0   id       100000 non-null  object \n",
            " 1   f0       100000 non-null  float64\n",
            " 2   f1       100000 non-null  float64\n",
            " 3   f2       100000 non-null  float64\n",
            " 4   product  100000 non-null  float64\n",
            "dtypes: float64(4), object(1)\n",
            "memory usage: 3.8+ MB\n",
            "None\n",
            "                  f0             f1             f2        product\n",
            "count  100000.000000  100000.000000  100000.000000  100000.000000\n",
            "mean        0.500419       0.250143       2.502647      92.500000\n",
            "std         0.871832       0.504433       3.248248      44.288691\n",
            "min        -1.408605      -0.848218     -12.088328       0.000000\n",
            "25%        -0.072580      -0.200881       0.287748      56.497507\n",
            "50%         0.502360       0.250252       2.515969      91.849972\n",
            "75%         1.073581       0.700646       4.715088     128.564089\n",
            "max         2.362331       1.343769      16.003790     185.364347\n"
          ]
        },
        {
          "data": {
            "image/png": "[encoded data removed]",
            "text/plain": [
              "<Figure size 432x288 with 1 Axes>"
            ]
          },
          "metadata": {
            "needs_background": "light"
          },
          "output_type": "display_data"
        }
      ],
      "source": [
        "print(data_0.info())\n",
        "print(data_0.describe())\n",
        "data_0['product'].hist();"
      ]
    },
    {
      "cell_type": "code",
      "execution_count": null,
      "metadata": {
        "id": "YuIWN1mSp8hL",
        "outputId": "31651c56-ba01-44da-a33f-5e1ad8dc8a51"
      },
      "outputs": [
        {
          "data": {
            "text/plain": [
              "0"
            ]
          },
          "execution_count": 6,
          "metadata": {},
          "output_type": "execute_result"
        }
      ],
      "source": [
        "data_0.duplicated().sum() # проверим есть ли дубликаты в 1-ой таблице."
      ]
    },
    {
      "cell_type": "code",
      "execution_count": null,
      "metadata": {
        "id": "fwz8boubp8hM",
        "outputId": "dffb40c8-0b20-4292-8184-6e2531a2298c"
      },
      "outputs": [
        {
          "name": "stdout",
          "output_type": "stream",
          "text": [
            "<class 'pandas.core.frame.DataFrame'>\n",
            "RangeIndex: 100000 entries, 0 to 99999\n",
            "Data columns (total 5 columns):\n",
            " #   Column   Non-Null Count   Dtype  \n",
            "---  ------   --------------   -----  \n",
            " 0   id       100000 non-null  object \n",
            " 1   f0       100000 non-null  float64\n",
            " 2   f1       100000 non-null  float64\n",
            " 3   f2       100000 non-null  float64\n",
            " 4   product  100000 non-null  float64\n",
            "dtypes: float64(4), object(1)\n",
            "memory usage: 3.8+ MB\n",
            "None\n",
            "                  f0             f1             f2        product\n",
            "count  100000.000000  100000.000000  100000.000000  100000.000000\n",
            "mean        1.141296      -4.796579       2.494541      68.825000\n",
            "std         8.965932       5.119872       1.703572      45.944423\n",
            "min       -31.609576     -26.358598      -0.018144       0.000000\n",
            "25%        -6.298551      -8.267985       1.000021      26.953261\n",
            "50%         1.153055      -4.813172       2.011479      57.085625\n",
            "75%         8.621015      -1.332816       3.999904     107.813044\n",
            "max        29.421755      18.734063       5.019721     137.945408\n"
          ]
        },
        {
          "data": {
            "image/png": "[encoded data removed]",
            "text/plain": [
              "<Figure size 432x288 with 1 Axes>"
            ]
          },
          "metadata": {
            "needs_background": "light"
          },
          "output_type": "display_data"
        }
      ],
      "source": [
        "print(data_1.info())\n",
        "print(data_1.describe())\n",
        "data_1['product'].hist();"
      ]
    },
    {
      "cell_type": "code",
      "execution_count": null,
      "metadata": {
        "id": "z7fXFQrgp8hN",
        "outputId": "ebc0f15e-0c68-4cd9-cb48-0eaf5496d84a"
      },
      "outputs": [
        {
          "data": {
            "text/plain": [
              "0"
            ]
          },
          "execution_count": 8,
          "metadata": {},
          "output_type": "execute_result"
        }
      ],
      "source": [
        "data_1.duplicated().sum() # проверим есть ли дубликаты в 2-ой таблице."
      ]
    },
    {
      "cell_type": "code",
      "execution_count": null,
      "metadata": {
        "id": "odA70r9up8hO",
        "outputId": "ce292ee3-1494-495d-8bd0-91dac2d242b2"
      },
      "outputs": [
        {
          "name": "stdout",
          "output_type": "stream",
          "text": [
            "<class 'pandas.core.frame.DataFrame'>\n",
            "RangeIndex: 100000 entries, 0 to 99999\n",
            "Data columns (total 5 columns):\n",
            " #   Column   Non-Null Count   Dtype  \n",
            "---  ------   --------------   -----  \n",
            " 0   id       100000 non-null  object \n",
            " 1   f0       100000 non-null  float64\n",
            " 2   f1       100000 non-null  float64\n",
            " 3   f2       100000 non-null  float64\n",
            " 4   product  100000 non-null  float64\n",
            "dtypes: float64(4), object(1)\n",
            "memory usage: 3.8+ MB\n",
            "None\n",
            "                  f0             f1             f2        product\n",
            "count  100000.000000  100000.000000  100000.000000  100000.000000\n",
            "mean        0.002023      -0.002081       2.495128      95.000000\n",
            "std         1.732045       1.730417       3.473445      44.749921\n",
            "min        -8.760004      -7.084020     -11.970335       0.000000\n",
            "25%        -1.162288      -1.174820       0.130359      59.450441\n",
            "50%         0.009424      -0.009482       2.484236      94.925613\n",
            "75%         1.158535       1.163678       4.858794     130.595027\n",
            "max         7.238262       7.844801      16.739402     190.029838\n"
          ]
        },
        {
          "data": {
            "image/png": "[encoded data removed]",
            "text/plain": [
              "<Figure size 432x288 with 1 Axes>"
            ]
          },
          "metadata": {
            "needs_background": "light"
          },
          "output_type": "display_data"
        }
      ],
      "source": [
        "print(data_2.info())\n",
        "print(data_2.describe())\n",
        "data_2['product'].hist();"
      ]
    },
    {
      "cell_type": "code",
      "execution_count": null,
      "metadata": {
        "id": "yT56DN6Op8hP",
        "outputId": "58a789f0-7ffc-4e20-d34b-5cfb105fd8ef"
      },
      "outputs": [
        {
          "data": {
            "text/plain": [
              "0"
            ]
          },
          "execution_count": 10,
          "metadata": {},
          "output_type": "execute_result"
        }
      ],
      "source": [
        "data_2.duplicated().sum() # проверим есть ли дубликаты в 3-ей таблице."
      ]
    },
    {
      "cell_type": "markdown",
      "metadata": {
        "id": "BUlkSkjqp8hR"
      },
      "source": [
        "<b>Выводы:</b>\n",
        "\n",
        "- Каждый из трех датасета содержат 5 столбцов и 10000 строк. \n",
        "- В данных нет явных выбросов, дубликатов и пропусков.\n",
        "- Мы видим значительные отличия 2-го датасета от 1-го и 3-го, распределение объемов запасов в скважине не нормальное."
      ]
    },
    {
      "cell_type": "markdown",
      "metadata": {
        "id": "kVhzZWf2p8hS"
      },
      "source": [
        "<b>Подготовка данных к обучению. </b>\n",
        "\n",
        "- У нас нет категориальных признаков, поэтому применение кодировки не требуется. \n",
        "- Количественные признаки уже в одном формате, поэтому приводить данные к формату тоже не требуется.\n",
        "- Поделим данные на тренировочную и валидационную выборки для каждого датафрейма по отдельности."
      ]
    },
    {
      "cell_type": "markdown",
      "metadata": {
        "id": "DK5PDn5Xp8hT"
      },
      "source": [
        "Для модели 1. "
      ]
    },
    {
      "cell_type": "code",
      "execution_count": null,
      "metadata": {
        "id": "EgZhfZZ2p8hU"
      },
      "outputs": [],
      "source": [
        "target = data_0['product']\n",
        "features = data_0.drop(['id','product'], axis=1)\n",
        "features_train_0, features_valid_0, target_train_0, target_valid_0 = train_test_split(\n",
        "    features, target, test_size=0.25, random_state=12345)"
      ]
    },
    {
      "cell_type": "markdown",
      "metadata": {
        "id": "HxwFijolp8hV"
      },
      "source": [
        "Для модели 2. "
      ]
    },
    {
      "cell_type": "code",
      "execution_count": null,
      "metadata": {
        "id": "WjkPgOSep8hV"
      },
      "outputs": [],
      "source": [
        "target = data_1['product']\n",
        "features = data_1.drop(['id','product'], axis=1)\n",
        "features_train_1, features_valid_1, target_train_1, target_valid_1 = train_test_split(\n",
        "    features, target, test_size=0.25, random_state=12345)"
      ]
    },
    {
      "cell_type": "markdown",
      "metadata": {
        "id": "k7B8ICc0p8hW"
      },
      "source": [
        "Для модели 3."
      ]
    },
    {
      "cell_type": "code",
      "execution_count": null,
      "metadata": {
        "id": "O5ZKptbyp8hX"
      },
      "outputs": [],
      "source": [
        "target = data_2['product']\n",
        "features = data_2.drop(['id','product'], axis=1)\n",
        "features_train_2, features_valid_2, target_train_2, target_valid_2 = train_test_split(\n",
        "    features, target, test_size=0.25, random_state=12345)"
      ]
    },
    {
      "cell_type": "markdown",
      "metadata": {
        "id": "fBvQeEa_p8hX"
      },
      "source": [
        "### общие выводы раздела:\n",
        "Мы имеем 3 датасета с общими признаками:\n",
        "\n",
        "id — уникальный идентификатор скважины; <br/>\n",
        "f0, f1, f2 — три признака точек;\n",
        "\n",
        "И целевыми признаками:\n",
        "\n",
        "product — объём запасов в скважине (тыс. баррелей).<br/>\n",
        "Как говорилось выше, во 2-ом датасете распределение объемов запасов в скважине не нормальное.\n",
        "\n",
        "<i>На этапе обработки:</i>\n",
        "\n",
        "- Мы убрали из данных не информативные для нас столбцы с номером id,\n",
        "- Поделили данные на тренировочную и валидационную выборки,\n",
        "- Данные предобработаны и поделены на выборки. Теперь можно обучать модели и исследовать задачу."
      ]
    },
    {
      "cell_type": "markdown",
      "metadata": {
        "id": "ds32iQPgp8hZ"
      },
      "source": [
        "## Обучение и проверка модели"
      ]
    },
    {
      "cell_type": "markdown",
      "metadata": {
        "id": "6j68dacVp8ha"
      },
      "source": [
        "Постольку наш целевой признак, который мы будем предсказывать количественный, то будем использовать модель регрессии. По условию задачи используем модель линейной регрессии. "
      ]
    },
    {
      "cell_type": "markdown",
      "metadata": {
        "id": "t-sglBWUp8ha"
      },
      "source": [
        "### Обучение первой модели."
      ]
    },
    {
      "cell_type": "code",
      "execution_count": null,
      "metadata": {
        "id": "h9qDEwO-p8hb",
        "outputId": "2e9f89f6-b141-45dd-f938-31feb3faba56"
      },
      "outputs": [
        {
          "name": "stdout",
          "output_type": "stream",
          "text": [
            "R2 на валидационной выборке:  0.27994321524487786\n",
            "RMSE на валидационной выборке:  37.5794217150813\n",
            "Средний запас сырья:  92.07859674082927\n",
            "Средний запас предсказанного сырья:  92.59256778438035\n"
          ]
        }
      ],
      "source": [
        "model = LinearRegression() # используем модель линейной регрессии\n",
        "model.fit(features_train_0, target_train_0) # обучим модель на тренировочной выборке\n",
        "predicted_valid_0 = model.predict(features_valid_0) #сделаем предсказание на валидационной выборке\n",
        "\n",
        "r2_0 = model.score(features_valid_0, target_valid_0) # оценим качество модели\n",
        "rmse_0 = mean_squared_error(target_valid_0, predicted_valid_0)**0.5\n",
        "\n",
        "# расчитаем средний запас сырья и предсказанный средний запас сырья\n",
        "target_mean_0 = target_valid_0.mean()\n",
        "predicted_mean_0 = predicted_valid_0.mean()\n",
        "\n",
        "print('R2 на валидационной выборке: ', r2_0) \n",
        "print('RMSE на валидационной выборке: ', rmse_0)\n",
        "print('Средний запас сырья: ', target_mean_0)\n",
        "print('Средний запас предсказанного сырья: ', predicted_mean_0)"
      ]
    },
    {
      "cell_type": "markdown",
      "metadata": {
        "id": "jBxSp8xqp8hc"
      },
      "source": [
        "### Обучение второй модели."
      ]
    },
    {
      "cell_type": "code",
      "execution_count": null,
      "metadata": {
        "id": "rKF4UgStp8hc",
        "outputId": "f2d9e1ea-6861-42bd-d11f-ff6cac0b91bb"
      },
      "outputs": [
        {
          "name": "stdout",
          "output_type": "stream",
          "text": [
            "R2 на валидационной выборке:  0.9996233978805127\n",
            "RMSE на валидационной выборке:  0.893099286775617\n",
            "Средний запас сырья:  68.72313602435997\n",
            "Средний запас предсказанного сырья:  68.728546895446\n"
          ]
        }
      ],
      "source": [
        "# Повторяем те же самые действия, что и с первой моделью.\n",
        "model = LinearRegression()\n",
        "model.fit(features_train_1, target_train_1)\n",
        "predicted_valid_1 = model.predict(features_valid_1)\n",
        "\n",
        "r2_1 = model.score(features_valid_1, target_valid_1)\n",
        "rmse_1 = mean_squared_error(target_valid_1, predicted_valid_1)**0.5\n",
        "\n",
        "target_mean_1 = target_valid_1.mean()\n",
        "predicted_mean_1 = predicted_valid_1.mean()\n",
        "\n",
        "print('R2 на валидационной выборке: ', r2_1) \n",
        "print('RMSE на валидационной выборке: ', rmse_1)\n",
        "print('Средний запас сырья: ', target_mean_1)\n",
        "print('Средний запас предсказанного сырья: ', predicted_mean_1)"
      ]
    },
    {
      "cell_type": "markdown",
      "metadata": {
        "id": "L_R3EBTLp8hd"
      },
      "source": [
        "### Обучение третьей модели."
      ]
    },
    {
      "cell_type": "code",
      "execution_count": null,
      "metadata": {
        "scrolled": true,
        "id": "HMX0EvG-p8he",
        "outputId": "b6f90e49-fdcf-48a1-9168-2f4cabf1fc23"
      },
      "outputs": [
        {
          "name": "stdout",
          "output_type": "stream",
          "text": [
            "R2 на валидационной выборке:  0.20524758386040443\n",
            "RMSE на валидационной выборке:  40.02970873393434\n",
            "Средний запас сырья:  94.88423280885438\n",
            "Средний запас предсказанного сырья:  94.96504596800489\n"
          ]
        }
      ],
      "source": [
        "# Повторяем те же самые действия, что и с первой моделью.\n",
        "model = LinearRegression()\n",
        "model.fit(features_train_2, target_train_2)\n",
        "predicted_valid_2 = model.predict(features_valid_2)\n",
        "\n",
        "r2_2 = model.score(features_valid_2, target_valid_2)\n",
        "rmse_2 = mean_squared_error(target_valid_2, predicted_valid_2)**0.5\n",
        "\n",
        "target_mean_2 = target_valid_2.mean()\n",
        "predicted_mean_2 = predicted_valid_2.mean()\n",
        "\n",
        "print('R2 на валидационной выборке: ', r2_2) \n",
        "print('RMSE на валидационной выборке: ', rmse_2)\n",
        "print('Средний запас сырья: ', target_mean_2)\n",
        "print('Средний запас предсказанного сырья: ', predicted_mean_2)"
      ]
    },
    {
      "cell_type": "markdown",
      "metadata": {
        "id": "o0otLVeWp8hf"
      },
      "source": [
        "### Выводы:"
      ]
    },
    {
      "cell_type": "markdown",
      "metadata": {
        "id": "TTByLEuep8hf"
      },
      "source": [
        "Выведем все наши результаты качества обученных моделей и предсказанный запас сырья в виде таблицы."
      ]
    },
    {
      "cell_type": "code",
      "execution_count": null,
      "metadata": {
        "scrolled": true,
        "id": "c-F1ZbHjp8hg",
        "outputId": "6d88aa44-2231-4877-dec1-5d67e9b7b853"
      },
      "outputs": [
        {
          "name": "stdout",
          "output_type": "stream",
          "text": [
            "Датасет |  rmse  |   r2   | Средний запас предсказанного сырья | Средний запас сырья\n",
            "------------------------------------------------------------------------------------\n",
            "data_0   0.280    37.579                  92.59                          92.08\n",
            "data_1   1.000    0.893                   68.73                          68.72\n",
            "data_2   0.205    40.030                  94.97                          94.88\n"
          ]
        }
      ],
      "source": [
        "print('Датасет |  rmse  |   r2   | Средний запас предсказанного сырья | Средний запас сырья')\n",
        "print('------------------------------------------------------------------------------------')\n",
        "print('data_0   {: <8.3f} {: <8.3f} {: 20.2f} {: 30.2f}'.format(r2_0, rmse_0, predicted_mean_0, target_mean_0))\n",
        "print('data_1   {: <8.3f} {: <8.3f} {: 20.2f} {: 30.2f}'.format(r2_1, rmse_1, predicted_mean_1, target_mean_1))\n",
        "print('data_2   {: <8.3f} {: <8.3f} {: 20.2f} {: 30.2f}'.format(r2_2, rmse_2, predicted_mean_2, target_mean_2))"
      ]
    },
    {
      "cell_type": "markdown",
      "metadata": {
        "id": "QQxD9fyGp8hh"
      },
      "source": [
        "Лучше всего модель обучилась по 2-му датасету и там самое низкое отклонение, но там меньше всего средняя по предсказанному запасу сырья и распределение не нормальное. Посмотрим ниже результаты расчета прибыли и рисков."
      ]
    },
    {
      "cell_type": "markdown",
      "metadata": {
        "id": "hBYFV1pHp8hh"
      },
      "source": [
        "<div class=\"alert alert-block alert-success\">\n",
        "<b>Успех:</b> Шаг проделан хорошо, все нужные метрики посчитаны корректно. \n",
        "</div>\n",
        "<div class=\"alert alert-block alert-info\">\n",
        "<b>Совет:</b> Можно было бы использовать функции/циклы и избежать дублирования кода. \n",
        "</div>\n"
      ]
    },
    {
      "cell_type": "markdown",
      "metadata": {
        "id": "wN7MOTPVp8hi"
      },
      "source": [
        "<div class=\"alert alert-block alert-warning\">\n",
        "<b>Комментарий студента:</b> На практике используют цикл. Я почему-то даже не подумала об этом. Учту.\n",
        "</div>"
      ]
    },
    {
      "cell_type": "markdown",
      "metadata": {
        "id": "akpEzu4yp8hj"
      },
      "source": [
        "## Подготовка к расчёту прибыли"
      ]
    },
    {
      "cell_type": "markdown",
      "metadata": {
        "id": "AV3bS6zip8hk"
      },
      "source": [
        "Создадим переменные для расчетов, которые указаны в условиях задачи."
      ]
    },
    {
      "cell_type": "code",
      "execution_count": null,
      "metadata": {
        "id": "5v7b861Yp8hl"
      },
      "outputs": [],
      "source": [
        "sample_borehole = 500 # объем исследуемых точек при разведке региона.\n",
        "sample_development = 200 # объем выбранных лучших точек.\n",
        "barrel_price = 450000 # стоимость барреля нефти\n",
        "budget = 10000000000 # бюджет на разработку скважин в каждом регионе."
      ]
    },
    {
      "cell_type": "markdown",
      "metadata": {
        "id": "J4MM5uM_p8ho"
      },
      "source": [
        "Расчитаем минимальное количество барелей нефти в каждой скважине для безубыточной разработки."
      ]
    },
    {
      "cell_type": "code",
      "execution_count": null,
      "metadata": {
        "id": "Lhc7_ZS1p8ho",
        "outputId": "08c13881-1716-466e-e47c-cc89562d39c2"
      },
      "outputs": [
        {
          "data": {
            "text/plain": [
              "111.11111111111111"
            ]
          },
          "execution_count": 19,
          "metadata": {},
          "output_type": "execute_result"
        }
      ],
      "source": [
        "min_volume = budget / (barrel_price * sample_development)\n",
        "min_volume"
      ]
    },
    {
      "cell_type": "markdown",
      "metadata": {
        "id": "hiIICy4cp8hp"
      },
      "source": [
        "Минимальный объем нефти - 111,1 тыс. барелей в каждой скважине нужно для безубыточной добычи."
      ]
    },
    {
      "cell_type": "markdown",
      "metadata": {
        "id": "_p8Tto-ep8hq"
      },
      "source": [
        "## Расчёт прибыли и рисков "
      ]
    },
    {
      "cell_type": "markdown",
      "metadata": {
        "id": "eQI00Ui2p8hr"
      },
      "source": [
        "Создадим функцию для расчета прибыли."
      ]
    },
    {
      "cell_type": "code",
      "execution_count": null,
      "metadata": {
        "id": "xc30k-KBp8hr"
      },
      "outputs": [],
      "source": [
        "def profit(target, predicted, count):\n",
        "    profit = 0\n",
        "    probs_sorted = predicted.sort_values(ascending=False).head(200)\n",
        "    selected = target[probs_sorted.index][:count] \n",
        "    for top in selected:\n",
        "        profit += (top - min_volume) * 450000\n",
        "    return profit"
      ]
    },
    {
      "cell_type": "markdown",
      "metadata": {
        "id": "EQhPCvqPp8ht"
      },
      "source": [
        "Расчитаем прибыльность первого месторождения."
      ]
    },
    {
      "cell_type": "code",
      "execution_count": null,
      "metadata": {
        "id": "x8s0y6vYp8hv",
        "outputId": "ba45a6b1-86dd-4256-e193-5c8e8140f572"
      },
      "outputs": [
        {
          "name": "stdout",
          "output_type": "stream",
          "text": [
            "Прибыльность 200 топовых скважин валидационной выборки 3321 млн.\n"
          ]
        }
      ],
      "source": [
        "features_valid_0['product_valid'] = predicted_valid_0\n",
        "\n",
        "profit_0 = profit(target_valid_0, features_valid_0['product_valid'], 200)\n",
        "print(\"Прибыльность 200 топовых скважин валидационной выборки\", round(profit_0/1000000), \"млн.\")"
      ]
    },
    {
      "cell_type": "markdown",
      "metadata": {
        "id": "ACrAEfSPp8hx"
      },
      "source": [
        "Расчитаем прибыльность второго месторождения."
      ]
    },
    {
      "cell_type": "code",
      "execution_count": null,
      "metadata": {
        "scrolled": true,
        "id": "ZRkz2bLip8h0",
        "outputId": "3543a765-1558-4469-9af1-7f20017b3642"
      },
      "outputs": [
        {
          "name": "stdout",
          "output_type": "stream",
          "text": [
            "Прибыльность 200 топовых скважин валидационной выборки 2415 млн.\n"
          ]
        }
      ],
      "source": [
        "features_valid_1['product_valid'] = predicted_valid_1\n",
        "\n",
        "profit_1 = profit(target_valid_1, features_valid_1['product_valid'], 200)\n",
        "print(\"Прибыльность 200 топовых скважин валидационной выборки\", round(profit_1/1000000), \"млн.\")"
      ]
    },
    {
      "cell_type": "markdown",
      "metadata": {
        "id": "LFaQmYUup8h1"
      },
      "source": [
        "Расчитаем прибыльность третьего месторождения."
      ]
    },
    {
      "cell_type": "code",
      "execution_count": null,
      "metadata": {
        "id": "FpUalkUAp8h2",
        "outputId": "8e96a4ee-48af-484a-a3fa-b8d4e8c6a89d"
      },
      "outputs": [
        {
          "name": "stdout",
          "output_type": "stream",
          "text": [
            "Прибыльность 200 топовых скважин валидационной выборки 2710 млн.\n"
          ]
        },
        {
          "name": "stderr",
          "output_type": "stream",
          "text": [
            "/tmp/ipykernel_100/219430070.py:1: SettingWithCopyWarning: \n",
            "A value is trying to be set on a copy of a slice from a DataFrame.\n",
            "Try using .loc[row_indexer,col_indexer] = value instead\n",
            "\n",
            "See the caveats in the documentation: https://pandas.pydata.org/pandas-docs/stable/user_guide/indexing.html#returning-a-view-versus-a-copy\n",
            "  features_valid_2['product_valid'] = predicted_valid_2\n"
          ]
        }
      ],
      "source": [
        "features_valid_2['product_valid'] = predicted_valid_2\n",
        "\n",
        "profit_2 = profit(target_valid_2, features_valid_2['product_valid'], 200)\n",
        "print(\"Прибыльность 200 топовых скважин валидационной выборки\", round(profit_2/1000000), \"млн.\")"
      ]
    },
    {
      "cell_type": "markdown",
      "metadata": {
        "id": "1rwQXrigp8h3"
      },
      "source": [
        "Для расчета доверительного интервала и вероятности убытков создадим функцию бутстрепа."
      ]
    },
    {
      "cell_type": "code",
      "execution_count": null,
      "metadata": {
        "id": "R1CBzes-p8h3",
        "outputId": "083361a4-c030-44aa-c11d-7e2d894612e8"
      },
      "outputs": [
        {
          "name": "stdout",
          "output_type": "stream",
          "text": [
            "Для первого месторождения\n",
            "\n",
            "RMSE 37.5794217150813\n",
            "R2 0.27994321524487786\n",
            "Предсказанный средний запас сырья 92.59256778438035\n",
            "Вероятность убытков 7.6 %\n",
            "Средняя выручка 403.535244261165 млн.\n",
            "Верхняя граница доверительного интервала 931574367.5508461\n",
            "Нижняя граница доверительного интервала -118327362.12311177\n",
            "\n",
            "\n",
            "Для второго месторождения\n",
            "\n",
            "RMSE 0.893099286775617\n",
            "R2 0.9996233978805127\n",
            "Предсказанный средний запас сырья 68.728546895446\n",
            "Вероятность убытков 1.7 %\n",
            "Средняя выручка 465.04105822107704 млн.\n",
            "Верхняя граница доверительного интервала 864388463.3254703\n",
            "Нижняя граница доверительного интервала 32036742.850023583\n",
            "\n",
            "\n",
            "Для третьего месторождения\n",
            "\n",
            "RMSE 40.02970873393434\n",
            "R2 0.20524758386040443\n",
            "Предсказанный средний запас сырья 94.96504596800489\n",
            "Вероятность убытков 7.9 %\n",
            "Средняя выручка 414.20972284096746 млн.\n",
            "Верхняя граница доверительного интервала 972339167.9202834\n",
            "Нижняя граница доверительного интервала -148373898.68249217\n",
            "\n"
          ]
        }
      ],
      "source": [
        "def boots (target, predicted):\n",
        "    state = np.random.RandomState(12345)\n",
        "    values = []\n",
        "    counter=0\n",
        "    for i in range(1000):\n",
        "        target_subsample = target.sample(n=500, replace=True, random_state=state)\n",
        "        preds_subsample = predicted[target_subsample.index]\n",
        "        \n",
        "        values.append(profit(target_subsample, preds_subsample, 500))\n",
        "        \n",
        "    values = pd.Series(values)\n",
        "    lower = values.quantile(0.025)\n",
        "    higher = values.quantile(0.975)\n",
        "    \n",
        "    print('Вероятность убытков', stats.percentileofscore(values, 0),'%')\n",
        "    print('Средняя выручка', (values.mean())/1000000, \"млн.\")\n",
        "    print('Верхняя граница доверительного интервала', higher)\n",
        "    print('Нижняя граница доверительного интервала', lower)\n",
        "    print()\n",
        "    \n",
        "# выведем расчеты для каждого месторождения.    \n",
        "print('Для первого месторождения')\n",
        "print()\n",
        "print('RMSE', rmse_0)\n",
        "print('R2', r2_0)\n",
        "print('Предсказанный средний запас сырья', predicted_mean_0)\n",
        "boots(target_valid_0, features_valid_0['product_valid'])\n",
        "print()\n",
        "print('Для второго месторождения')\n",
        "print()\n",
        "print('RMSE', rmse_1)\n",
        "print('R2', r2_1)\n",
        "print('Предсказанный средний запас сырья', predicted_mean_1)\n",
        "boots(target_valid_1, features_valid_1['product_valid'])\n",
        "print()\n",
        "print('Для третьего месторождения')\n",
        "print()\n",
        "print('RMSE', rmse_2)\n",
        "print('R2', r2_2)\n",
        "print('Предсказанный средний запас сырья', predicted_mean_2)\n",
        "boots(target_valid_2, features_valid_2['product_valid'])\n",
        "    \n"
      ]
    },
    {
      "cell_type": "markdown",
      "metadata": {
        "id": "PfuMsYvRp8h6"
      },
      "source": [
        "## Выводы."
      ]
    },
    {
      "cell_type": "markdown",
      "metadata": {
        "id": "sRiOIcMkp8h7"
      },
      "source": [
        "Проанализировав результаты можем сделать следующие выводы:\n",
        "\n",
        "- Самая хорошая модель получилась по датасету 2-го региона, r2=0.89 и rmse = 0.99.\n",
        "- У 2-го региона целевой признак имеет не нормальное распределение, что выделяется среди остальных регионов.\n",
        "- Средняя выручка самая высокая во 2-м регионе.\n",
        "- Вероятность убытков самая низкая во 2-м регионе, он единственный имеет положительную нижнюю границу доверительного интервала, что соответствует условиям задачи. </br>\n",
        "\n",
        "Исходя из наших выводов очевидно - самый выгодный 2 регион, рекомендуем его к разработке."
      ]
    }
  ],
  "metadata": {
    "ExecuteTimeLog": [
      {
        "duration": 372,
        "start_time": "2022-06-20T10:37:26.287Z"
      },
      {
        "duration": 404,
        "start_time": "2022-06-20T10:39:00.083Z"
      },
      {
        "duration": 560,
        "start_time": "2022-06-20T10:49:00.519Z"
      },
      {
        "duration": 14,
        "start_time": "2022-06-20T10:49:05.460Z"
      },
      {
        "duration": 15,
        "start_time": "2022-06-20T10:50:39.715Z"
      },
      {
        "duration": 41,
        "start_time": "2022-06-20T10:51:00.920Z"
      },
      {
        "duration": 541,
        "start_time": "2022-06-20T10:51:35.154Z"
      },
      {
        "duration": 129,
        "start_time": "2022-06-20T10:51:47.109Z"
      },
      {
        "duration": 20,
        "start_time": "2022-06-20T11:13:23.543Z"
      },
      {
        "duration": 55,
        "start_time": "2022-06-20T11:13:30.808Z"
      },
      {
        "duration": 188,
        "start_time": "2022-06-20T11:13:58.204Z"
      },
      {
        "duration": 10,
        "start_time": "2022-06-20T11:14:44.506Z"
      },
      {
        "duration": 187,
        "start_time": "2022-06-20T11:15:07.689Z"
      },
      {
        "duration": 11,
        "start_time": "2022-06-20T11:18:29.606Z"
      },
      {
        "duration": 266,
        "start_time": "2022-06-20T11:19:21.438Z"
      },
      {
        "duration": 146,
        "start_time": "2022-06-20T11:22:01.808Z"
      },
      {
        "duration": 147,
        "start_time": "2022-06-20T11:22:18.284Z"
      },
      {
        "duration": 136,
        "start_time": "2022-06-20T11:22:30.900Z"
      },
      {
        "duration": 183,
        "start_time": "2022-06-20T11:22:38.246Z"
      },
      {
        "duration": 81,
        "start_time": "2022-06-20T12:20:58.417Z"
      },
      {
        "duration": 48,
        "start_time": "2022-06-20T12:21:08.207Z"
      },
      {
        "duration": 45,
        "start_time": "2022-06-20T12:22:17.250Z"
      },
      {
        "duration": 48,
        "start_time": "2022-06-20T12:22:40.640Z"
      },
      {
        "duration": 419,
        "start_time": "2022-06-21T10:24:42.433Z"
      },
      {
        "duration": 440,
        "start_time": "2022-06-21T10:24:44.208Z"
      },
      {
        "duration": 215,
        "start_time": "2022-06-21T10:24:47.641Z"
      },
      {
        "duration": 215,
        "start_time": "2022-06-21T10:24:50.780Z"
      },
      {
        "duration": 564,
        "start_time": "2022-06-21T10:32:49.009Z"
      },
      {
        "duration": 53,
        "start_time": "2022-06-21T10:33:34.890Z"
      },
      {
        "duration": 52,
        "start_time": "2022-06-21T10:34:02.128Z"
      },
      {
        "duration": 50,
        "start_time": "2022-06-21T10:34:59.084Z"
      },
      {
        "duration": 51,
        "start_time": "2022-06-21T10:35:06.265Z"
      },
      {
        "duration": 195,
        "start_time": "2022-06-21T10:35:13.855Z"
      },
      {
        "duration": 47,
        "start_time": "2022-06-21T10:35:35.341Z"
      },
      {
        "duration": 71,
        "start_time": "2022-06-21T10:46:48.457Z"
      },
      {
        "duration": 749,
        "start_time": "2022-06-21T10:47:17.852Z"
      },
      {
        "duration": 16,
        "start_time": "2022-06-21T10:47:26.473Z"
      },
      {
        "duration": 15,
        "start_time": "2022-06-21T10:51:20.216Z"
      },
      {
        "duration": 16,
        "start_time": "2022-06-21T10:51:49.882Z"
      },
      {
        "duration": 3,
        "start_time": "2022-06-21T11:35:45.710Z"
      },
      {
        "duration": 146,
        "start_time": "2022-06-21T11:35:45.716Z"
      },
      {
        "duration": 132,
        "start_time": "2022-06-21T11:35:45.864Z"
      },
      {
        "duration": 130,
        "start_time": "2022-06-21T11:35:45.998Z"
      },
      {
        "duration": 187,
        "start_time": "2022-06-21T11:35:46.130Z"
      },
      {
        "duration": 46,
        "start_time": "2022-06-21T11:35:46.319Z"
      },
      {
        "duration": 201,
        "start_time": "2022-06-21T11:35:46.367Z"
      },
      {
        "duration": 59,
        "start_time": "2022-06-21T11:35:46.570Z"
      },
      {
        "duration": 186,
        "start_time": "2022-06-21T11:35:46.631Z"
      },
      {
        "duration": 50,
        "start_time": "2022-06-21T11:35:46.819Z"
      },
      {
        "duration": 13,
        "start_time": "2022-06-21T11:35:46.872Z"
      },
      {
        "duration": 20,
        "start_time": "2022-06-21T11:35:46.887Z"
      },
      {
        "duration": 14,
        "start_time": "2022-06-21T11:35:51.034Z"
      },
      {
        "duration": 24,
        "start_time": "2022-06-21T11:53:06.298Z"
      },
      {
        "duration": 20,
        "start_time": "2022-06-21T11:53:25.438Z"
      },
      {
        "duration": 122,
        "start_time": "2022-06-21T11:53:34.411Z"
      },
      {
        "duration": 173,
        "start_time": "2022-06-21T12:01:32.552Z"
      },
      {
        "duration": 31,
        "start_time": "2022-06-21T12:02:34.610Z"
      },
      {
        "duration": 21,
        "start_time": "2022-06-21T12:04:31.077Z"
      },
      {
        "duration": 5,
        "start_time": "2022-06-21T12:36:07.635Z"
      },
      {
        "duration": 5,
        "start_time": "2022-06-21T12:37:00.822Z"
      },
      {
        "duration": 5,
        "start_time": "2022-06-21T12:37:16.611Z"
      },
      {
        "duration": 4,
        "start_time": "2022-06-21T12:37:27.980Z"
      },
      {
        "duration": 5,
        "start_time": "2022-06-21T12:41:38.457Z"
      },
      {
        "duration": 5,
        "start_time": "2022-06-21T12:41:57.819Z"
      },
      {
        "duration": 4,
        "start_time": "2022-06-21T12:42:15.666Z"
      },
      {
        "duration": 4,
        "start_time": "2022-06-21T13:02:36.990Z"
      },
      {
        "duration": 4,
        "start_time": "2022-06-21T13:02:45.263Z"
      },
      {
        "duration": 6,
        "start_time": "2022-06-21T13:02:53.166Z"
      },
      {
        "duration": 5,
        "start_time": "2022-06-21T13:07:42.615Z"
      },
      {
        "duration": 4,
        "start_time": "2022-06-21T13:08:02.094Z"
      },
      {
        "duration": 20,
        "start_time": "2022-06-21T13:08:13.438Z"
      },
      {
        "duration": 21,
        "start_time": "2022-06-21T13:08:17.242Z"
      },
      {
        "duration": 20,
        "start_time": "2022-06-21T13:08:19.891Z"
      },
      {
        "duration": 4,
        "start_time": "2022-06-21T13:08:23.792Z"
      },
      {
        "duration": 1501,
        "start_time": "2022-06-22T11:17:41.474Z"
      },
      {
        "duration": 498,
        "start_time": "2022-06-22T11:17:42.977Z"
      },
      {
        "duration": 537,
        "start_time": "2022-06-22T11:17:43.476Z"
      },
      {
        "duration": 530,
        "start_time": "2022-06-22T11:17:44.015Z"
      },
      {
        "duration": 199,
        "start_time": "2022-06-22T11:17:44.548Z"
      },
      {
        "duration": 52,
        "start_time": "2022-06-22T11:17:44.749Z"
      },
      {
        "duration": 207,
        "start_time": "2022-06-22T11:17:44.803Z"
      },
      {
        "duration": 61,
        "start_time": "2022-06-22T11:17:45.012Z"
      },
      {
        "duration": 188,
        "start_time": "2022-06-22T11:17:45.074Z"
      },
      {
        "duration": 47,
        "start_time": "2022-06-22T11:17:45.264Z"
      },
      {
        "duration": 35,
        "start_time": "2022-06-22T11:17:45.313Z"
      },
      {
        "duration": 14,
        "start_time": "2022-06-22T11:17:45.350Z"
      },
      {
        "duration": 15,
        "start_time": "2022-06-22T11:17:45.365Z"
      },
      {
        "duration": 69,
        "start_time": "2022-06-22T11:17:45.382Z"
      },
      {
        "duration": 197,
        "start_time": "2022-06-22T11:17:45.452Z"
      },
      {
        "duration": 212,
        "start_time": "2022-06-22T11:17:45.651Z"
      },
      {
        "duration": 5,
        "start_time": "2022-06-22T11:17:52.629Z"
      },
      {
        "duration": 3,
        "start_time": "2022-06-22T11:28:57.648Z"
      },
      {
        "duration": 5,
        "start_time": "2022-06-22T11:40:37.422Z"
      },
      {
        "duration": 102,
        "start_time": "2022-06-22T11:57:13.724Z"
      },
      {
        "duration": 4,
        "start_time": "2022-06-22T11:58:07.175Z"
      },
      {
        "duration": 101,
        "start_time": "2022-06-22T11:58:16.668Z"
      },
      {
        "duration": 5,
        "start_time": "2022-06-22T11:58:20.227Z"
      },
      {
        "duration": 146,
        "start_time": "2022-06-22T12:14:47.973Z"
      },
      {
        "duration": 11,
        "start_time": "2022-06-22T12:14:58.875Z"
      },
      {
        "duration": 8,
        "start_time": "2022-06-22T12:16:30.373Z"
      },
      {
        "duration": 8,
        "start_time": "2022-06-22T12:16:36.475Z"
      },
      {
        "duration": 9,
        "start_time": "2022-06-22T12:17:29.473Z"
      },
      {
        "duration": 10,
        "start_time": "2022-06-22T12:17:31.380Z"
      },
      {
        "duration": 9,
        "start_time": "2022-06-22T12:18:36.485Z"
      },
      {
        "duration": 9,
        "start_time": "2022-06-22T12:18:42.096Z"
      },
      {
        "duration": 8,
        "start_time": "2022-06-22T12:19:36.627Z"
      },
      {
        "duration": 11,
        "start_time": "2022-06-22T12:19:39.645Z"
      },
      {
        "duration": 9,
        "start_time": "2022-06-22T12:21:30.298Z"
      },
      {
        "duration": 134,
        "start_time": "2022-06-22T12:40:02.885Z"
      },
      {
        "duration": 89,
        "start_time": "2022-06-22T12:46:13.808Z"
      },
      {
        "duration": 76,
        "start_time": "2022-06-22T12:47:23.060Z"
      },
      {
        "duration": 95,
        "start_time": "2022-06-22T12:47:32.806Z"
      },
      {
        "duration": 12,
        "start_time": "2022-06-22T12:50:05.787Z"
      },
      {
        "duration": 1168,
        "start_time": "2022-06-22T12:51:21.305Z"
      },
      {
        "duration": 1145,
        "start_time": "2022-06-22T12:51:44.360Z"
      },
      {
        "duration": 4,
        "start_time": "2022-06-22T12:52:31.702Z"
      },
      {
        "duration": 3681,
        "start_time": "2022-06-22T12:52:41.911Z"
      },
      {
        "duration": 1504,
        "start_time": "2022-06-23T06:54:09.325Z"
      },
      {
        "duration": 378,
        "start_time": "2022-06-23T06:54:10.831Z"
      },
      {
        "duration": 217,
        "start_time": "2022-06-23T06:54:11.211Z"
      },
      {
        "duration": 209,
        "start_time": "2022-06-23T06:54:11.430Z"
      },
      {
        "duration": 187,
        "start_time": "2022-06-23T06:54:11.640Z"
      },
      {
        "duration": 55,
        "start_time": "2022-06-23T06:54:11.828Z"
      },
      {
        "duration": 208,
        "start_time": "2022-06-23T06:54:11.885Z"
      },
      {
        "duration": 51,
        "start_time": "2022-06-23T06:54:12.095Z"
      },
      {
        "duration": 205,
        "start_time": "2022-06-23T06:54:12.148Z"
      },
      {
        "duration": 51,
        "start_time": "2022-06-23T06:54:12.357Z"
      },
      {
        "duration": 28,
        "start_time": "2022-06-23T06:54:12.409Z"
      },
      {
        "duration": 23,
        "start_time": "2022-06-23T06:54:12.439Z"
      },
      {
        "duration": 14,
        "start_time": "2022-06-23T06:54:12.464Z"
      },
      {
        "duration": 55,
        "start_time": "2022-06-23T06:54:12.480Z"
      },
      {
        "duration": 115,
        "start_time": "2022-06-23T06:54:12.628Z"
      },
      {
        "duration": 182,
        "start_time": "2022-06-23T06:54:12.745Z"
      },
      {
        "duration": 99,
        "start_time": "2022-06-23T06:54:12.929Z"
      },
      {
        "duration": 7,
        "start_time": "2022-06-23T06:54:13.030Z"
      },
      {
        "duration": 8,
        "start_time": "2022-06-23T06:54:13.038Z"
      },
      {
        "duration": 10,
        "start_time": "2022-06-23T06:54:13.047Z"
      },
      {
        "duration": 14,
        "start_time": "2022-06-23T06:54:13.059Z"
      },
      {
        "duration": 9,
        "start_time": "2022-06-23T06:54:13.074Z"
      },
      {
        "duration": 13,
        "start_time": "2022-06-23T06:54:13.084Z"
      },
      {
        "duration": 3348,
        "start_time": "2022-06-23T07:09:31.481Z"
      },
      {
        "duration": 1207,
        "start_time": "2022-06-23T07:18:09.663Z"
      },
      {
        "duration": 3392,
        "start_time": "2022-06-23T07:18:47.986Z"
      },
      {
        "duration": 3397,
        "start_time": "2022-06-23T07:19:24.083Z"
      },
      {
        "duration": 3,
        "start_time": "2022-06-23T10:34:19.256Z"
      },
      {
        "duration": 1344,
        "start_time": "2022-06-23T10:34:31.964Z"
      },
      {
        "duration": 160,
        "start_time": "2022-06-23T10:34:33.310Z"
      },
      {
        "duration": 139,
        "start_time": "2022-06-23T10:34:33.472Z"
      },
      {
        "duration": 147,
        "start_time": "2022-06-23T10:34:33.613Z"
      },
      {
        "duration": 212,
        "start_time": "2022-06-23T10:34:33.762Z"
      },
      {
        "duration": 61,
        "start_time": "2022-06-23T10:34:33.976Z"
      },
      {
        "duration": 198,
        "start_time": "2022-06-23T10:34:34.038Z"
      },
      {
        "duration": 48,
        "start_time": "2022-06-23T10:34:34.238Z"
      },
      {
        "duration": 257,
        "start_time": "2022-06-23T10:34:34.288Z"
      },
      {
        "duration": 78,
        "start_time": "2022-06-23T10:34:34.548Z"
      },
      {
        "duration": 20,
        "start_time": "2022-06-23T10:34:34.628Z"
      },
      {
        "duration": 20,
        "start_time": "2022-06-23T10:34:34.650Z"
      },
      {
        "duration": 27,
        "start_time": "2022-06-23T10:34:34.672Z"
      },
      {
        "duration": 126,
        "start_time": "2022-06-23T10:34:34.701Z"
      },
      {
        "duration": 200,
        "start_time": "2022-06-23T10:34:34.830Z"
      },
      {
        "duration": 196,
        "start_time": "2022-06-23T10:34:35.033Z"
      },
      {
        "duration": 111,
        "start_time": "2022-06-23T10:34:35.232Z"
      },
      {
        "duration": 12,
        "start_time": "2022-06-23T10:34:35.345Z"
      },
      {
        "duration": 23,
        "start_time": "2022-06-23T10:34:35.359Z"
      },
      {
        "duration": 19,
        "start_time": "2022-06-23T10:34:35.384Z"
      },
      {
        "duration": 27,
        "start_time": "2022-06-23T10:34:35.405Z"
      },
      {
        "duration": 33,
        "start_time": "2022-06-23T10:34:35.434Z"
      },
      {
        "duration": 24,
        "start_time": "2022-06-23T10:34:35.469Z"
      },
      {
        "duration": 1185,
        "start_time": "2022-06-23T10:34:35.495Z"
      },
      {
        "duration": 60,
        "start_time": "2022-06-23T10:51:35.608Z"
      },
      {
        "duration": 4,
        "start_time": "2022-06-23T11:15:08.718Z"
      },
      {
        "duration": 4,
        "start_time": "2022-06-23T11:15:26.903Z"
      },
      {
        "duration": 4,
        "start_time": "2022-06-23T11:15:41.233Z"
      },
      {
        "duration": 5,
        "start_time": "2022-06-23T11:16:01.390Z"
      },
      {
        "duration": 6,
        "start_time": "2022-06-23T11:16:10.948Z"
      },
      {
        "duration": 4,
        "start_time": "2022-06-23T11:16:18.674Z"
      },
      {
        "duration": 5,
        "start_time": "2022-06-23T11:16:28.807Z"
      },
      {
        "duration": 6,
        "start_time": "2022-06-23T11:16:36.691Z"
      },
      {
        "duration": 2,
        "start_time": "2022-06-23T11:23:00.204Z"
      },
      {
        "duration": 8,
        "start_time": "2022-06-23T11:26:47.191Z"
      },
      {
        "duration": 11,
        "start_time": "2022-06-23T11:27:34.545Z"
      },
      {
        "duration": 55,
        "start_time": "2022-06-23T11:27:50.479Z"
      },
      {
        "duration": 8,
        "start_time": "2022-06-23T11:27:52.372Z"
      },
      {
        "duration": 8,
        "start_time": "2022-06-23T11:28:27.684Z"
      },
      {
        "duration": 9,
        "start_time": "2022-06-23T11:28:36.589Z"
      },
      {
        "duration": 8,
        "start_time": "2022-06-23T11:31:28.209Z"
      },
      {
        "duration": 11,
        "start_time": "2022-06-23T11:31:32.388Z"
      },
      {
        "duration": 4,
        "start_time": "2022-06-23T11:33:23.621Z"
      },
      {
        "duration": 3497,
        "start_time": "2022-06-23T11:33:29.929Z"
      },
      {
        "duration": 1362,
        "start_time": "2022-06-23T11:45:44.801Z"
      },
      {
        "duration": 147,
        "start_time": "2022-06-23T11:45:46.165Z"
      },
      {
        "duration": 123,
        "start_time": "2022-06-23T11:45:46.313Z"
      },
      {
        "duration": 127,
        "start_time": "2022-06-23T11:45:46.437Z"
      },
      {
        "duration": 191,
        "start_time": "2022-06-23T11:45:46.565Z"
      },
      {
        "duration": 51,
        "start_time": "2022-06-23T11:45:46.757Z"
      },
      {
        "duration": 200,
        "start_time": "2022-06-23T11:45:46.810Z"
      },
      {
        "duration": 51,
        "start_time": "2022-06-23T11:45:47.012Z"
      },
      {
        "duration": 197,
        "start_time": "2022-06-23T11:45:47.065Z"
      },
      {
        "duration": 49,
        "start_time": "2022-06-23T11:45:47.264Z"
      },
      {
        "duration": 25,
        "start_time": "2022-06-23T11:45:47.314Z"
      },
      {
        "duration": 15,
        "start_time": "2022-06-23T11:45:47.341Z"
      },
      {
        "duration": 25,
        "start_time": "2022-06-23T11:45:47.357Z"
      },
      {
        "duration": 52,
        "start_time": "2022-06-23T11:45:47.384Z"
      },
      {
        "duration": 197,
        "start_time": "2022-06-23T11:45:47.438Z"
      },
      {
        "duration": 206,
        "start_time": "2022-06-23T11:45:47.637Z"
      },
      {
        "duration": 86,
        "start_time": "2022-06-23T11:45:47.845Z"
      },
      {
        "duration": 101,
        "start_time": "2022-06-23T11:45:47.933Z"
      },
      {
        "duration": 28,
        "start_time": "2022-06-23T11:45:48.036Z"
      },
      {
        "duration": 13,
        "start_time": "2022-06-23T11:45:48.065Z"
      },
      {
        "duration": 14,
        "start_time": "2022-06-23T11:45:48.079Z"
      },
      {
        "duration": 15,
        "start_time": "2022-06-23T11:45:48.095Z"
      },
      {
        "duration": 11,
        "start_time": "2022-06-23T11:45:48.111Z"
      },
      {
        "duration": 3275,
        "start_time": "2022-06-23T11:45:48.124Z"
      }
    ],
    "kernelspec": {
      "display_name": "Python 3 (ipykernel)",
      "language": "python",
      "name": "python3"
    },
    "language_info": {
      "codemirror_mode": {
        "name": "ipython",
        "version": 3
      },
      "file_extension": ".py",
      "mimetype": "text/x-python",
      "name": "python",
      "nbconvert_exporter": "python",
      "pygments_lexer": "ipython3",
      "version": "3.9.5"
    },
    "toc": {
      "base_numbering": "",
      "nav_menu": {},
      "number_sections": false,
      "sideBar": true,
      "skip_h1_title": false,
      "title_cell": "Table of Contents",
      "title_sidebar": "Contents",
      "toc_cell": false,
      "toc_position": {},
      "toc_section_display": true,
      "toc_window_display": true
    },
    "colab": {
      "provenance": []
    }
  },
  "nbformat": 4,
  "nbformat_minor": 0
}