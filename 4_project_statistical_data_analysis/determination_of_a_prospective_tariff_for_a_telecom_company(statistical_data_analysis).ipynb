{
  "cells": [
    {
      "cell_type": "markdown",
      "id": "743170ab",
      "metadata": {
        "id": "743170ab"
      },
      "source": [
        "# Описание проекта\n",
        "Вы аналитик компании «Мегалайн» — федерального оператора сотовой связи. Клиентам предлагают два тарифных плана: «Смарт» и «Ультра». Чтобы скорректировать рекламный бюджет, коммерческий департамент хочет понять, какой тариф приносит больше денег.\n",
        "Вам предстоит сделать предварительный анализ тарифов на небольшой выборке клиентов. В вашем распоряжении данные 500 пользователей «Мегалайна»: кто они, откуда, каким тарифом пользуются, сколько звонков и сообщений каждый отправил за 2018 год. Нужно проанализировать поведение клиентов и сделать вывод — какой тариф лучше.\n",
        "\n",
        "# Описание тарифов\n",
        "## Тариф «Смарт»\n",
        "Ежемесячная плата: 550 рублей\n",
        "Включено 500 минут разговора, 50 сообщений и 15 Гб интернет-трафика\n",
        "Стоимость услуг сверх тарифного пакета:\n",
        "минута разговора: 3 рубля\n",
        "сообщение: 3 рубля\n",
        "1 Гб интернет-трафика: 200 рублей\n",
        "## Тариф «Ультра»\n",
        "Ежемесячная плата: 1950 рублей\n",
        "Включено 3000 минут разговора, 1000 сообщений и 30 Гб интернет-трафика\n",
        "Стоимость услуг сверх тарифного пакета:\n",
        "минута разговора: 1 рубль\n",
        "сообщение: 1 рубль\n",
        "1 Гб интернет-трафика: 150 рублей\n",
        "\n",
        "## Примечание:\n",
        "«Мегалайн» всегда округляет секунды до минут, а мегабайты — до гигабайт. Каждый звонок округляется отдельно: даже если он длился всего 1 секунду, будет засчитан как 1 минута.\n",
        "Для веб-трафика отдельные сессии не считаются. Вместо этого общая сумма за месяц округляется в бо́льшую сторону. Если абонент использует 1025 мегабайт в этом месяце, с него возьмут плату за 2 гигабайта."
      ]
    },
    {
      "cell_type": "markdown",
      "id": "0ff40092",
      "metadata": {
        "id": "0ff40092"
      },
      "source": [
        "# Обзор данных"
      ]
    },
    {
      "cell_type": "markdown",
      "id": "59dc2641",
      "metadata": {
        "id": "59dc2641"
      },
      "source": [
        "У нас 5 таблиц для анализа данных. Прочитаем каждую таблицу и изучим данные."
      ]
    },
    {
      "cell_type": "markdown",
      "id": "8975fd63",
      "metadata": {
        "id": "8975fd63"
      },
      "source": [
        "## Таблица с информацей о звонках"
      ]
    },
    {
      "cell_type": "code",
      "execution_count": null,
      "id": "2cf911e0",
      "metadata": {
        "id": "2cf911e0",
        "outputId": "1a791d2e-e851-4e95-ccb6-53397086d974"
      },
      "outputs": [
        {
          "data": {
            "text/html": [
              "<div>\n",
              "<style scoped>\n",
              "    .dataframe tbody tr th:only-of-type {\n",
              "        vertical-align: middle;\n",
              "    }\n",
              "\n",
              "    .dataframe tbody tr th {\n",
              "        vertical-align: top;\n",
              "    }\n",
              "\n",
              "    .dataframe thead th {\n",
              "        text-align: right;\n",
              "    }\n",
              "</style>\n",
              "<table border=\"1\" class=\"dataframe\">\n",
              "  <thead>\n",
              "    <tr style=\"text-align: right;\">\n",
              "      <th></th>\n",
              "      <th>id</th>\n",
              "      <th>call_date</th>\n",
              "      <th>duration</th>\n",
              "      <th>user_id</th>\n",
              "    </tr>\n",
              "  </thead>\n",
              "  <tbody>\n",
              "    <tr>\n",
              "      <th>0</th>\n",
              "      <td>1000_0</td>\n",
              "      <td>2018-07-25</td>\n",
              "      <td>0.00</td>\n",
              "      <td>1000</td>\n",
              "    </tr>\n",
              "    <tr>\n",
              "      <th>1</th>\n",
              "      <td>1000_1</td>\n",
              "      <td>2018-08-17</td>\n",
              "      <td>0.00</td>\n",
              "      <td>1000</td>\n",
              "    </tr>\n",
              "    <tr>\n",
              "      <th>2</th>\n",
              "      <td>1000_2</td>\n",
              "      <td>2018-06-11</td>\n",
              "      <td>2.85</td>\n",
              "      <td>1000</td>\n",
              "    </tr>\n",
              "    <tr>\n",
              "      <th>3</th>\n",
              "      <td>1000_3</td>\n",
              "      <td>2018-09-21</td>\n",
              "      <td>13.80</td>\n",
              "      <td>1000</td>\n",
              "    </tr>\n",
              "    <tr>\n",
              "      <th>4</th>\n",
              "      <td>1000_4</td>\n",
              "      <td>2018-12-15</td>\n",
              "      <td>5.18</td>\n",
              "      <td>1000</td>\n",
              "    </tr>\n",
              "    <tr>\n",
              "      <th>5</th>\n",
              "      <td>1000_5</td>\n",
              "      <td>2018-11-02</td>\n",
              "      <td>0.00</td>\n",
              "      <td>1000</td>\n",
              "    </tr>\n",
              "    <tr>\n",
              "      <th>6</th>\n",
              "      <td>1000_6</td>\n",
              "      <td>2018-10-18</td>\n",
              "      <td>0.00</td>\n",
              "      <td>1000</td>\n",
              "    </tr>\n",
              "    <tr>\n",
              "      <th>7</th>\n",
              "      <td>1000_7</td>\n",
              "      <td>2018-08-22</td>\n",
              "      <td>18.31</td>\n",
              "      <td>1000</td>\n",
              "    </tr>\n",
              "    <tr>\n",
              "      <th>8</th>\n",
              "      <td>1000_8</td>\n",
              "      <td>2018-09-15</td>\n",
              "      <td>18.44</td>\n",
              "      <td>1000</td>\n",
              "    </tr>\n",
              "    <tr>\n",
              "      <th>9</th>\n",
              "      <td>1000_9</td>\n",
              "      <td>2018-08-15</td>\n",
              "      <td>0.00</td>\n",
              "      <td>1000</td>\n",
              "    </tr>\n",
              "  </tbody>\n",
              "</table>\n",
              "</div>"
            ],
            "text/plain": [
              "       id   call_date  duration  user_id\n",
              "0  1000_0  2018-07-25      0.00     1000\n",
              "1  1000_1  2018-08-17      0.00     1000\n",
              "2  1000_2  2018-06-11      2.85     1000\n",
              "3  1000_3  2018-09-21     13.80     1000\n",
              "4  1000_4  2018-12-15      5.18     1000\n",
              "5  1000_5  2018-11-02      0.00     1000\n",
              "6  1000_6  2018-10-18      0.00     1000\n",
              "7  1000_7  2018-08-22     18.31     1000\n",
              "8  1000_8  2018-09-15     18.44     1000\n",
              "9  1000_9  2018-08-15      0.00     1000"
            ]
          },
          "metadata": {},
          "output_type": "display_data"
        },
        {
          "name": "stdout",
          "output_type": "stream",
          "text": [
            "<class 'pandas.core.frame.DataFrame'>\n",
            "RangeIndex: 202607 entries, 0 to 202606\n",
            "Data columns (total 4 columns):\n",
            " #   Column     Non-Null Count   Dtype  \n",
            "---  ------     --------------   -----  \n",
            " 0   id         202607 non-null  object \n",
            " 1   call_date  202607 non-null  object \n",
            " 2   duration   202607 non-null  float64\n",
            " 3   user_id    202607 non-null  int64  \n",
            "dtypes: float64(1), int64(1), object(2)\n",
            "memory usage: 6.2+ MB\n"
          ]
        },
        {
          "data": {
            "text/html": [
              "<div>\n",
              "<style scoped>\n",
              "    .dataframe tbody tr th:only-of-type {\n",
              "        vertical-align: middle;\n",
              "    }\n",
              "\n",
              "    .dataframe tbody tr th {\n",
              "        vertical-align: top;\n",
              "    }\n",
              "\n",
              "    .dataframe thead th {\n",
              "        text-align: right;\n",
              "    }\n",
              "</style>\n",
              "<table border=\"1\" class=\"dataframe\">\n",
              "  <thead>\n",
              "    <tr style=\"text-align: right;\">\n",
              "      <th></th>\n",
              "      <th>duration</th>\n",
              "      <th>user_id</th>\n",
              "    </tr>\n",
              "  </thead>\n",
              "  <tbody>\n",
              "    <tr>\n",
              "      <th>count</th>\n",
              "      <td>202607.000000</td>\n",
              "      <td>202607.000000</td>\n",
              "    </tr>\n",
              "    <tr>\n",
              "      <th>mean</th>\n",
              "      <td>6.755887</td>\n",
              "      <td>1253.940619</td>\n",
              "    </tr>\n",
              "    <tr>\n",
              "      <th>std</th>\n",
              "      <td>5.843365</td>\n",
              "      <td>144.722751</td>\n",
              "    </tr>\n",
              "    <tr>\n",
              "      <th>min</th>\n",
              "      <td>0.000000</td>\n",
              "      <td>1000.000000</td>\n",
              "    </tr>\n",
              "    <tr>\n",
              "      <th>25%</th>\n",
              "      <td>1.300000</td>\n",
              "      <td>1126.000000</td>\n",
              "    </tr>\n",
              "    <tr>\n",
              "      <th>50%</th>\n",
              "      <td>6.000000</td>\n",
              "      <td>1260.000000</td>\n",
              "    </tr>\n",
              "    <tr>\n",
              "      <th>75%</th>\n",
              "      <td>10.700000</td>\n",
              "      <td>1379.000000</td>\n",
              "    </tr>\n",
              "    <tr>\n",
              "      <th>max</th>\n",
              "      <td>38.000000</td>\n",
              "      <td>1499.000000</td>\n",
              "    </tr>\n",
              "  </tbody>\n",
              "</table>\n",
              "</div>"
            ],
            "text/plain": [
              "            duration        user_id\n",
              "count  202607.000000  202607.000000\n",
              "mean        6.755887    1253.940619\n",
              "std         5.843365     144.722751\n",
              "min         0.000000    1000.000000\n",
              "25%         1.300000    1126.000000\n",
              "50%         6.000000    1260.000000\n",
              "75%        10.700000    1379.000000\n",
              "max        38.000000    1499.000000"
            ]
          },
          "execution_count": 1,
          "metadata": {},
          "output_type": "execute_result"
        }
      ],
      "source": [
        "import pandas as pd\n",
        "import numpy as np\n",
        "import matplotlib.pyplot as plt\n",
        "from scipy import stats as st\n",
        "\n",
        "df_calls = pd.read_csv('/datasets/calls.csv')\n",
        "display(df_calls.head(10))\n",
        "df_calls.info()\n",
        "df_calls.describe()"
      ]
    },
    {
      "cell_type": "markdown",
      "id": "68e29f4e",
      "metadata": {
        "id": "68e29f4e"
      },
      "source": [
        "Переименуем столбец id в id_call. Переведем столбец call_date в формат даты, a user_id в целочисленный формат."
      ]
    },
    {
      "cell_type": "code",
      "execution_count": null,
      "id": "c0474894",
      "metadata": {
        "id": "c0474894",
        "outputId": "baf43fda-1acc-4944-e328-32275d164750"
      },
      "outputs": [
        {
          "name": "stdout",
          "output_type": "stream",
          "text": [
            "<class 'pandas.core.frame.DataFrame'>\n",
            "RangeIndex: 202607 entries, 0 to 202606\n",
            "Data columns (total 4 columns):\n",
            " #   Column     Non-Null Count   Dtype         \n",
            "---  ------     --------------   -----         \n",
            " 0   id_call    202607 non-null  object        \n",
            " 1   call_date  202607 non-null  datetime64[ns]\n",
            " 2   duration   202607 non-null  float64       \n",
            " 3   user_id    202607 non-null  int64         \n",
            "dtypes: datetime64[ns](1), float64(1), int64(1), object(1)\n",
            "memory usage: 6.2+ MB\n"
          ]
        }
      ],
      "source": [
        "df_calls = df_calls.rename(\n",
        "    columns={'id': 'id_call'})\n",
        "\n",
        "df_calls['user_id'] = df_calls['user_id'].astype(int)\n",
        "df_calls['call_date'] = pd.to_datetime(df_calls['call_date'], format='%Y-%m-%d')\n",
        "df_calls.info()"
      ]
    },
    {
      "cell_type": "markdown",
      "id": "f2fedeeb",
      "metadata": {
        "id": "f2fedeeb"
      },
      "source": [
        "Так как каждый звонок оператор округляет вверх до минуты, то округлим сразу все звонки до целых значений вверх и установим целочисленный формат данных."
      ]
    },
    {
      "cell_type": "code",
      "execution_count": null,
      "id": "24bd7f89",
      "metadata": {
        "id": "24bd7f89",
        "outputId": "dbe86f92-0563-4dd2-8e50-db1c746a3364"
      },
      "outputs": [
        {
          "data": {
            "text/html": [
              "<div>\n",
              "<style scoped>\n",
              "    .dataframe tbody tr th:only-of-type {\n",
              "        vertical-align: middle;\n",
              "    }\n",
              "\n",
              "    .dataframe tbody tr th {\n",
              "        vertical-align: top;\n",
              "    }\n",
              "\n",
              "    .dataframe thead th {\n",
              "        text-align: right;\n",
              "    }\n",
              "</style>\n",
              "<table border=\"1\" class=\"dataframe\">\n",
              "  <thead>\n",
              "    <tr style=\"text-align: right;\">\n",
              "      <th></th>\n",
              "      <th>id_call</th>\n",
              "      <th>call_date</th>\n",
              "      <th>duration</th>\n",
              "      <th>user_id</th>\n",
              "    </tr>\n",
              "  </thead>\n",
              "  <tbody>\n",
              "    <tr>\n",
              "      <th>0</th>\n",
              "      <td>1000_0</td>\n",
              "      <td>2018-07-25</td>\n",
              "      <td>0</td>\n",
              "      <td>1000</td>\n",
              "    </tr>\n",
              "    <tr>\n",
              "      <th>1</th>\n",
              "      <td>1000_1</td>\n",
              "      <td>2018-08-17</td>\n",
              "      <td>0</td>\n",
              "      <td>1000</td>\n",
              "    </tr>\n",
              "    <tr>\n",
              "      <th>2</th>\n",
              "      <td>1000_2</td>\n",
              "      <td>2018-06-11</td>\n",
              "      <td>3</td>\n",
              "      <td>1000</td>\n",
              "    </tr>\n",
              "    <tr>\n",
              "      <th>3</th>\n",
              "      <td>1000_3</td>\n",
              "      <td>2018-09-21</td>\n",
              "      <td>14</td>\n",
              "      <td>1000</td>\n",
              "    </tr>\n",
              "    <tr>\n",
              "      <th>4</th>\n",
              "      <td>1000_4</td>\n",
              "      <td>2018-12-15</td>\n",
              "      <td>6</td>\n",
              "      <td>1000</td>\n",
              "    </tr>\n",
              "  </tbody>\n",
              "</table>\n",
              "</div>"
            ],
            "text/plain": [
              "  id_call  call_date  duration  user_id\n",
              "0  1000_0 2018-07-25         0     1000\n",
              "1  1000_1 2018-08-17         0     1000\n",
              "2  1000_2 2018-06-11         3     1000\n",
              "3  1000_3 2018-09-21        14     1000\n",
              "4  1000_4 2018-12-15         6     1000"
            ]
          },
          "execution_count": 3,
          "metadata": {},
          "output_type": "execute_result"
        }
      ],
      "source": [
        "df_calls['duration'] = np.ceil(df_calls['duration']).astype(int)\n",
        "df_calls.head()"
      ]
    },
    {
      "cell_type": "markdown",
      "id": "ff0746bf",
      "metadata": {
        "id": "ff0746bf"
      },
      "source": [
        "Проверим есть ли дуликаты"
      ]
    },
    {
      "cell_type": "code",
      "execution_count": null,
      "id": "3e96b3a4",
      "metadata": {
        "id": "3e96b3a4",
        "outputId": "cbf0e5dd-2dba-4835-c149-9d22a41294b9"
      },
      "outputs": [
        {
          "data": {
            "text/plain": [
              "0"
            ]
          },
          "execution_count": 4,
          "metadata": {},
          "output_type": "execute_result"
        }
      ],
      "source": [
        "df_calls.duplicated().sum()"
      ]
    },
    {
      "cell_type": "markdown",
      "id": "c100f7b7",
      "metadata": {
        "id": "c100f7b7"
      },
      "source": [
        "## Таблица с данными об интернет-сессиях"
      ]
    },
    {
      "cell_type": "code",
      "execution_count": null,
      "id": "b3ba0c4c",
      "metadata": {
        "id": "b3ba0c4c",
        "outputId": "04c0e612-3e42-4f98-e815-efbe462823f9"
      },
      "outputs": [
        {
          "data": {
            "text/html": [
              "<div>\n",
              "<style scoped>\n",
              "    .dataframe tbody tr th:only-of-type {\n",
              "        vertical-align: middle;\n",
              "    }\n",
              "\n",
              "    .dataframe tbody tr th {\n",
              "        vertical-align: top;\n",
              "    }\n",
              "\n",
              "    .dataframe thead th {\n",
              "        text-align: right;\n",
              "    }\n",
              "</style>\n",
              "<table border=\"1\" class=\"dataframe\">\n",
              "  <thead>\n",
              "    <tr style=\"text-align: right;\">\n",
              "      <th></th>\n",
              "      <th>Unnamed: 0</th>\n",
              "      <th>id</th>\n",
              "      <th>mb_used</th>\n",
              "      <th>session_date</th>\n",
              "      <th>user_id</th>\n",
              "    </tr>\n",
              "  </thead>\n",
              "  <tbody>\n",
              "    <tr>\n",
              "      <th>0</th>\n",
              "      <td>0</td>\n",
              "      <td>1000_0</td>\n",
              "      <td>112.95</td>\n",
              "      <td>2018-11-25</td>\n",
              "      <td>1000</td>\n",
              "    </tr>\n",
              "    <tr>\n",
              "      <th>1</th>\n",
              "      <td>1</td>\n",
              "      <td>1000_1</td>\n",
              "      <td>1052.81</td>\n",
              "      <td>2018-09-07</td>\n",
              "      <td>1000</td>\n",
              "    </tr>\n",
              "    <tr>\n",
              "      <th>2</th>\n",
              "      <td>2</td>\n",
              "      <td>1000_2</td>\n",
              "      <td>1197.26</td>\n",
              "      <td>2018-06-25</td>\n",
              "      <td>1000</td>\n",
              "    </tr>\n",
              "    <tr>\n",
              "      <th>3</th>\n",
              "      <td>3</td>\n",
              "      <td>1000_3</td>\n",
              "      <td>550.27</td>\n",
              "      <td>2018-08-22</td>\n",
              "      <td>1000</td>\n",
              "    </tr>\n",
              "    <tr>\n",
              "      <th>4</th>\n",
              "      <td>4</td>\n",
              "      <td>1000_4</td>\n",
              "      <td>302.56</td>\n",
              "      <td>2018-09-24</td>\n",
              "      <td>1000</td>\n",
              "    </tr>\n",
              "    <tr>\n",
              "      <th>5</th>\n",
              "      <td>5</td>\n",
              "      <td>1000_5</td>\n",
              "      <td>399.97</td>\n",
              "      <td>2018-10-02</td>\n",
              "      <td>1000</td>\n",
              "    </tr>\n",
              "    <tr>\n",
              "      <th>6</th>\n",
              "      <td>6</td>\n",
              "      <td>1000_6</td>\n",
              "      <td>540.08</td>\n",
              "      <td>2018-09-07</td>\n",
              "      <td>1000</td>\n",
              "    </tr>\n",
              "    <tr>\n",
              "      <th>7</th>\n",
              "      <td>7</td>\n",
              "      <td>1000_7</td>\n",
              "      <td>415.70</td>\n",
              "      <td>2018-07-11</td>\n",
              "      <td>1000</td>\n",
              "    </tr>\n",
              "    <tr>\n",
              "      <th>8</th>\n",
              "      <td>8</td>\n",
              "      <td>1000_8</td>\n",
              "      <td>505.40</td>\n",
              "      <td>2018-10-08</td>\n",
              "      <td>1000</td>\n",
              "    </tr>\n",
              "    <tr>\n",
              "      <th>9</th>\n",
              "      <td>9</td>\n",
              "      <td>1000_9</td>\n",
              "      <td>345.54</td>\n",
              "      <td>2018-09-03</td>\n",
              "      <td>1000</td>\n",
              "    </tr>\n",
              "  </tbody>\n",
              "</table>\n",
              "</div>"
            ],
            "text/plain": [
              "   Unnamed: 0      id  mb_used session_date  user_id\n",
              "0           0  1000_0   112.95   2018-11-25     1000\n",
              "1           1  1000_1  1052.81   2018-09-07     1000\n",
              "2           2  1000_2  1197.26   2018-06-25     1000\n",
              "3           3  1000_3   550.27   2018-08-22     1000\n",
              "4           4  1000_4   302.56   2018-09-24     1000\n",
              "5           5  1000_5   399.97   2018-10-02     1000\n",
              "6           6  1000_6   540.08   2018-09-07     1000\n",
              "7           7  1000_7   415.70   2018-07-11     1000\n",
              "8           8  1000_8   505.40   2018-10-08     1000\n",
              "9           9  1000_9   345.54   2018-09-03     1000"
            ]
          },
          "metadata": {},
          "output_type": "display_data"
        },
        {
          "name": "stdout",
          "output_type": "stream",
          "text": [
            "<class 'pandas.core.frame.DataFrame'>\n",
            "RangeIndex: 149396 entries, 0 to 149395\n",
            "Data columns (total 5 columns):\n",
            " #   Column        Non-Null Count   Dtype  \n",
            "---  ------        --------------   -----  \n",
            " 0   Unnamed: 0    149396 non-null  int64  \n",
            " 1   id            149396 non-null  object \n",
            " 2   mb_used       149396 non-null  float64\n",
            " 3   session_date  149396 non-null  object \n",
            " 4   user_id       149396 non-null  int64  \n",
            "dtypes: float64(1), int64(2), object(2)\n",
            "memory usage: 5.7+ MB\n"
          ]
        },
        {
          "data": {
            "text/html": [
              "<div>\n",
              "<style scoped>\n",
              "    .dataframe tbody tr th:only-of-type {\n",
              "        vertical-align: middle;\n",
              "    }\n",
              "\n",
              "    .dataframe tbody tr th {\n",
              "        vertical-align: top;\n",
              "    }\n",
              "\n",
              "    .dataframe thead th {\n",
              "        text-align: right;\n",
              "    }\n",
              "</style>\n",
              "<table border=\"1\" class=\"dataframe\">\n",
              "  <thead>\n",
              "    <tr style=\"text-align: right;\">\n",
              "      <th></th>\n",
              "      <th>Unnamed: 0</th>\n",
              "      <th>mb_used</th>\n",
              "      <th>user_id</th>\n",
              "    </tr>\n",
              "  </thead>\n",
              "  <tbody>\n",
              "    <tr>\n",
              "      <th>count</th>\n",
              "      <td>149396.000000</td>\n",
              "      <td>149396.000000</td>\n",
              "      <td>149396.000000</td>\n",
              "    </tr>\n",
              "    <tr>\n",
              "      <th>mean</th>\n",
              "      <td>74697.500000</td>\n",
              "      <td>370.192426</td>\n",
              "      <td>1252.099842</td>\n",
              "    </tr>\n",
              "    <tr>\n",
              "      <th>std</th>\n",
              "      <td>43127.054745</td>\n",
              "      <td>278.300951</td>\n",
              "      <td>144.050823</td>\n",
              "    </tr>\n",
              "    <tr>\n",
              "      <th>min</th>\n",
              "      <td>0.000000</td>\n",
              "      <td>0.000000</td>\n",
              "      <td>1000.000000</td>\n",
              "    </tr>\n",
              "    <tr>\n",
              "      <th>25%</th>\n",
              "      <td>37348.750000</td>\n",
              "      <td>138.187500</td>\n",
              "      <td>1130.000000</td>\n",
              "    </tr>\n",
              "    <tr>\n",
              "      <th>50%</th>\n",
              "      <td>74697.500000</td>\n",
              "      <td>348.015000</td>\n",
              "      <td>1251.000000</td>\n",
              "    </tr>\n",
              "    <tr>\n",
              "      <th>75%</th>\n",
              "      <td>112046.250000</td>\n",
              "      <td>559.552500</td>\n",
              "      <td>1380.000000</td>\n",
              "    </tr>\n",
              "    <tr>\n",
              "      <th>max</th>\n",
              "      <td>149395.000000</td>\n",
              "      <td>1724.830000</td>\n",
              "      <td>1499.000000</td>\n",
              "    </tr>\n",
              "  </tbody>\n",
              "</table>\n",
              "</div>"
            ],
            "text/plain": [
              "          Unnamed: 0        mb_used        user_id\n",
              "count  149396.000000  149396.000000  149396.000000\n",
              "mean    74697.500000     370.192426    1252.099842\n",
              "std     43127.054745     278.300951     144.050823\n",
              "min         0.000000       0.000000    1000.000000\n",
              "25%     37348.750000     138.187500    1130.000000\n",
              "50%     74697.500000     348.015000    1251.000000\n",
              "75%    112046.250000     559.552500    1380.000000\n",
              "max    149395.000000    1724.830000    1499.000000"
            ]
          },
          "execution_count": 5,
          "metadata": {},
          "output_type": "execute_result"
        }
      ],
      "source": [
        "df_internet = pd.read_csv('/datasets/internet.csv')\n",
        "display(df_internet.head(10))\n",
        "df_internet.info()\n",
        "df_internet.describe()"
      ]
    },
    {
      "cell_type": "markdown",
      "id": "97f28940",
      "metadata": {
        "id": "97f28940"
      },
      "source": [
        "По столбцу id сложно понять о чем идет речь. Перееменуем его в id_session. \n",
        "Столбец Unnamed: 0 судя по всему это индекс строк. Не знаю понадобится ли он нам, поэтому пока сохраним его и переименуем в index.\n",
        "Столбец session_date переведем в формат даты."
      ]
    },
    {
      "cell_type": "code",
      "execution_count": null,
      "id": "06133d2e",
      "metadata": {
        "id": "06133d2e",
        "outputId": "fd074913-5485-44a1-ecf2-13b6faf43dfe"
      },
      "outputs": [
        {
          "data": {
            "text/html": [
              "<div>\n",
              "<style scoped>\n",
              "    .dataframe tbody tr th:only-of-type {\n",
              "        vertical-align: middle;\n",
              "    }\n",
              "\n",
              "    .dataframe tbody tr th {\n",
              "        vertical-align: top;\n",
              "    }\n",
              "\n",
              "    .dataframe thead th {\n",
              "        text-align: right;\n",
              "    }\n",
              "</style>\n",
              "<table border=\"1\" class=\"dataframe\">\n",
              "  <thead>\n",
              "    <tr style=\"text-align: right;\">\n",
              "      <th></th>\n",
              "      <th>index</th>\n",
              "      <th>id_session</th>\n",
              "      <th>mb_used</th>\n",
              "      <th>session_date</th>\n",
              "      <th>user_id</th>\n",
              "    </tr>\n",
              "  </thead>\n",
              "  <tbody>\n",
              "    <tr>\n",
              "      <th>0</th>\n",
              "      <td>0</td>\n",
              "      <td>1000_0</td>\n",
              "      <td>112.95</td>\n",
              "      <td>2018-11-25</td>\n",
              "      <td>1000</td>\n",
              "    </tr>\n",
              "    <tr>\n",
              "      <th>1</th>\n",
              "      <td>1</td>\n",
              "      <td>1000_1</td>\n",
              "      <td>1052.81</td>\n",
              "      <td>2018-09-07</td>\n",
              "      <td>1000</td>\n",
              "    </tr>\n",
              "    <tr>\n",
              "      <th>2</th>\n",
              "      <td>2</td>\n",
              "      <td>1000_2</td>\n",
              "      <td>1197.26</td>\n",
              "      <td>2018-06-25</td>\n",
              "      <td>1000</td>\n",
              "    </tr>\n",
              "    <tr>\n",
              "      <th>3</th>\n",
              "      <td>3</td>\n",
              "      <td>1000_3</td>\n",
              "      <td>550.27</td>\n",
              "      <td>2018-08-22</td>\n",
              "      <td>1000</td>\n",
              "    </tr>\n",
              "    <tr>\n",
              "      <th>4</th>\n",
              "      <td>4</td>\n",
              "      <td>1000_4</td>\n",
              "      <td>302.56</td>\n",
              "      <td>2018-09-24</td>\n",
              "      <td>1000</td>\n",
              "    </tr>\n",
              "  </tbody>\n",
              "</table>\n",
              "</div>"
            ],
            "text/plain": [
              "   index id_session  mb_used session_date  user_id\n",
              "0      0     1000_0   112.95   2018-11-25     1000\n",
              "1      1     1000_1  1052.81   2018-09-07     1000\n",
              "2      2     1000_2  1197.26   2018-06-25     1000\n",
              "3      3     1000_3   550.27   2018-08-22     1000\n",
              "4      4     1000_4   302.56   2018-09-24     1000"
            ]
          },
          "execution_count": 6,
          "metadata": {},
          "output_type": "execute_result"
        }
      ],
      "source": [
        "df_internet = df_internet.rename(\n",
        "columns={\n",
        "    'id': 'id_session',\n",
        "    'Unnamed: 0': 'index',\n",
        "})\n",
        "df_internet['session_date'] = pd.to_datetime(df_internet['session_date'], format='%Y-%m-%d')\n",
        "df_internet.head()"
      ]
    },
    {
      "cell_type": "markdown",
      "id": "77e884da",
      "metadata": {
        "id": "77e884da"
      },
      "source": [
        "Проверяем есть ли в данных дубликаты."
      ]
    },
    {
      "cell_type": "code",
      "execution_count": null,
      "id": "4164d779",
      "metadata": {
        "id": "4164d779",
        "outputId": "4a4b529d-0637-42b5-f325-1a2a9ccd2bfd"
      },
      "outputs": [
        {
          "data": {
            "text/plain": [
              "0"
            ]
          },
          "execution_count": 7,
          "metadata": {},
          "output_type": "execute_result"
        }
      ],
      "source": [
        "df_internet.duplicated().sum()"
      ]
    },
    {
      "cell_type": "markdown",
      "id": "ab45aaac",
      "metadata": {
        "id": "ab45aaac"
      },
      "source": [
        "## Таблица с информацей о сообщениях"
      ]
    },
    {
      "cell_type": "code",
      "execution_count": null,
      "id": "d0d16a19",
      "metadata": {
        "id": "d0d16a19",
        "outputId": "df093908-72e4-44f7-9cf8-c2f6c9d86716"
      },
      "outputs": [
        {
          "data": {
            "text/html": [
              "<div>\n",
              "<style scoped>\n",
              "    .dataframe tbody tr th:only-of-type {\n",
              "        vertical-align: middle;\n",
              "    }\n",
              "\n",
              "    .dataframe tbody tr th {\n",
              "        vertical-align: top;\n",
              "    }\n",
              "\n",
              "    .dataframe thead th {\n",
              "        text-align: right;\n",
              "    }\n",
              "</style>\n",
              "<table border=\"1\" class=\"dataframe\">\n",
              "  <thead>\n",
              "    <tr style=\"text-align: right;\">\n",
              "      <th></th>\n",
              "      <th>id</th>\n",
              "      <th>message_date</th>\n",
              "      <th>user_id</th>\n",
              "    </tr>\n",
              "  </thead>\n",
              "  <tbody>\n",
              "    <tr>\n",
              "      <th>0</th>\n",
              "      <td>1000_0</td>\n",
              "      <td>2018-06-27</td>\n",
              "      <td>1000</td>\n",
              "    </tr>\n",
              "    <tr>\n",
              "      <th>1</th>\n",
              "      <td>1000_1</td>\n",
              "      <td>2018-10-08</td>\n",
              "      <td>1000</td>\n",
              "    </tr>\n",
              "    <tr>\n",
              "      <th>2</th>\n",
              "      <td>1000_2</td>\n",
              "      <td>2018-08-04</td>\n",
              "      <td>1000</td>\n",
              "    </tr>\n",
              "    <tr>\n",
              "      <th>3</th>\n",
              "      <td>1000_3</td>\n",
              "      <td>2018-06-16</td>\n",
              "      <td>1000</td>\n",
              "    </tr>\n",
              "    <tr>\n",
              "      <th>4</th>\n",
              "      <td>1000_4</td>\n",
              "      <td>2018-12-05</td>\n",
              "      <td>1000</td>\n",
              "    </tr>\n",
              "    <tr>\n",
              "      <th>5</th>\n",
              "      <td>1000_5</td>\n",
              "      <td>2018-06-20</td>\n",
              "      <td>1000</td>\n",
              "    </tr>\n",
              "    <tr>\n",
              "      <th>6</th>\n",
              "      <td>1000_6</td>\n",
              "      <td>2018-11-19</td>\n",
              "      <td>1000</td>\n",
              "    </tr>\n",
              "    <tr>\n",
              "      <th>7</th>\n",
              "      <td>1000_7</td>\n",
              "      <td>2018-10-29</td>\n",
              "      <td>1000</td>\n",
              "    </tr>\n",
              "    <tr>\n",
              "      <th>8</th>\n",
              "      <td>1000_8</td>\n",
              "      <td>2018-06-25</td>\n",
              "      <td>1000</td>\n",
              "    </tr>\n",
              "    <tr>\n",
              "      <th>9</th>\n",
              "      <td>1000_9</td>\n",
              "      <td>2018-12-18</td>\n",
              "      <td>1000</td>\n",
              "    </tr>\n",
              "  </tbody>\n",
              "</table>\n",
              "</div>"
            ],
            "text/plain": [
              "       id message_date  user_id\n",
              "0  1000_0   2018-06-27     1000\n",
              "1  1000_1   2018-10-08     1000\n",
              "2  1000_2   2018-08-04     1000\n",
              "3  1000_3   2018-06-16     1000\n",
              "4  1000_4   2018-12-05     1000\n",
              "5  1000_5   2018-06-20     1000\n",
              "6  1000_6   2018-11-19     1000\n",
              "7  1000_7   2018-10-29     1000\n",
              "8  1000_8   2018-06-25     1000\n",
              "9  1000_9   2018-12-18     1000"
            ]
          },
          "metadata": {},
          "output_type": "display_data"
        },
        {
          "name": "stdout",
          "output_type": "stream",
          "text": [
            "<class 'pandas.core.frame.DataFrame'>\n",
            "RangeIndex: 123036 entries, 0 to 123035\n",
            "Data columns (total 3 columns):\n",
            " #   Column        Non-Null Count   Dtype \n",
            "---  ------        --------------   ----- \n",
            " 0   id            123036 non-null  object\n",
            " 1   message_date  123036 non-null  object\n",
            " 2   user_id       123036 non-null  int64 \n",
            "dtypes: int64(1), object(2)\n",
            "memory usage: 2.8+ MB\n"
          ]
        },
        {
          "data": {
            "text/html": [
              "<div>\n",
              "<style scoped>\n",
              "    .dataframe tbody tr th:only-of-type {\n",
              "        vertical-align: middle;\n",
              "    }\n",
              "\n",
              "    .dataframe tbody tr th {\n",
              "        vertical-align: top;\n",
              "    }\n",
              "\n",
              "    .dataframe thead th {\n",
              "        text-align: right;\n",
              "    }\n",
              "</style>\n",
              "<table border=\"1\" class=\"dataframe\">\n",
              "  <thead>\n",
              "    <tr style=\"text-align: right;\">\n",
              "      <th></th>\n",
              "      <th>user_id</th>\n",
              "    </tr>\n",
              "  </thead>\n",
              "  <tbody>\n",
              "    <tr>\n",
              "      <th>count</th>\n",
              "      <td>123036.000000</td>\n",
              "    </tr>\n",
              "    <tr>\n",
              "      <th>mean</th>\n",
              "      <td>1256.989410</td>\n",
              "    </tr>\n",
              "    <tr>\n",
              "      <th>std</th>\n",
              "      <td>143.523967</td>\n",
              "    </tr>\n",
              "    <tr>\n",
              "      <th>min</th>\n",
              "      <td>1000.000000</td>\n",
              "    </tr>\n",
              "    <tr>\n",
              "      <th>25%</th>\n",
              "      <td>1134.000000</td>\n",
              "    </tr>\n",
              "    <tr>\n",
              "      <th>50%</th>\n",
              "      <td>1271.000000</td>\n",
              "    </tr>\n",
              "    <tr>\n",
              "      <th>75%</th>\n",
              "      <td>1381.000000</td>\n",
              "    </tr>\n",
              "    <tr>\n",
              "      <th>max</th>\n",
              "      <td>1499.000000</td>\n",
              "    </tr>\n",
              "  </tbody>\n",
              "</table>\n",
              "</div>"
            ],
            "text/plain": [
              "             user_id\n",
              "count  123036.000000\n",
              "mean     1256.989410\n",
              "std       143.523967\n",
              "min      1000.000000\n",
              "25%      1134.000000\n",
              "50%      1271.000000\n",
              "75%      1381.000000\n",
              "max      1499.000000"
            ]
          },
          "execution_count": 8,
          "metadata": {},
          "output_type": "execute_result"
        }
      ],
      "source": [
        "df_messages = pd.read_csv('/datasets/messages.csv')\n",
        "\n",
        "display(df_messages.head(10))\n",
        "df_messages.info()\n",
        "df_messages.describe()"
      ]
    },
    {
      "cell_type": "markdown",
      "id": "19101ab0",
      "metadata": {
        "id": "19101ab0"
      },
      "source": [
        "По столбцу id сложно понять о чем идет речь. Перееменуем его в id_messege. Столбец message_date переведем в формат даты."
      ]
    },
    {
      "cell_type": "code",
      "execution_count": null,
      "id": "5c6b9cce",
      "metadata": {
        "id": "5c6b9cce",
        "outputId": "83930b81-9ed9-4c1a-d95e-c4fa97b0c958"
      },
      "outputs": [
        {
          "data": {
            "text/html": [
              "<div>\n",
              "<style scoped>\n",
              "    .dataframe tbody tr th:only-of-type {\n",
              "        vertical-align: middle;\n",
              "    }\n",
              "\n",
              "    .dataframe tbody tr th {\n",
              "        vertical-align: top;\n",
              "    }\n",
              "\n",
              "    .dataframe thead th {\n",
              "        text-align: right;\n",
              "    }\n",
              "</style>\n",
              "<table border=\"1\" class=\"dataframe\">\n",
              "  <thead>\n",
              "    <tr style=\"text-align: right;\">\n",
              "      <th></th>\n",
              "      <th>id_message</th>\n",
              "      <th>message_date</th>\n",
              "      <th>user_id</th>\n",
              "    </tr>\n",
              "  </thead>\n",
              "  <tbody>\n",
              "    <tr>\n",
              "      <th>0</th>\n",
              "      <td>1000_0</td>\n",
              "      <td>2018-06-27</td>\n",
              "      <td>1000</td>\n",
              "    </tr>\n",
              "    <tr>\n",
              "      <th>1</th>\n",
              "      <td>1000_1</td>\n",
              "      <td>2018-10-08</td>\n",
              "      <td>1000</td>\n",
              "    </tr>\n",
              "    <tr>\n",
              "      <th>2</th>\n",
              "      <td>1000_2</td>\n",
              "      <td>2018-08-04</td>\n",
              "      <td>1000</td>\n",
              "    </tr>\n",
              "    <tr>\n",
              "      <th>3</th>\n",
              "      <td>1000_3</td>\n",
              "      <td>2018-06-16</td>\n",
              "      <td>1000</td>\n",
              "    </tr>\n",
              "    <tr>\n",
              "      <th>4</th>\n",
              "      <td>1000_4</td>\n",
              "      <td>2018-12-05</td>\n",
              "      <td>1000</td>\n",
              "    </tr>\n",
              "  </tbody>\n",
              "</table>\n",
              "</div>"
            ],
            "text/plain": [
              "  id_message message_date  user_id\n",
              "0     1000_0   2018-06-27     1000\n",
              "1     1000_1   2018-10-08     1000\n",
              "2     1000_2   2018-08-04     1000\n",
              "3     1000_3   2018-06-16     1000\n",
              "4     1000_4   2018-12-05     1000"
            ]
          },
          "execution_count": 9,
          "metadata": {},
          "output_type": "execute_result"
        }
      ],
      "source": [
        "df_messages = df_messages.rename(\n",
        "columns={'id': 'id_message'})\n",
        "\n",
        "df_messages['message_date'] = pd.to_datetime(df_messages['message_date'], format='%Y-%m-%d')\n",
        "df_messages.head()"
      ]
    },
    {
      "cell_type": "markdown",
      "id": "8be8759c",
      "metadata": {
        "id": "8be8759c"
      },
      "source": [
        "Проверяем на дубли."
      ]
    },
    {
      "cell_type": "code",
      "execution_count": null,
      "id": "8b5f077d",
      "metadata": {
        "id": "8b5f077d",
        "outputId": "7c6f7b8b-82bf-476a-d75a-c8d94ade8d7d"
      },
      "outputs": [
        {
          "data": {
            "text/plain": [
              "0"
            ]
          },
          "execution_count": 10,
          "metadata": {},
          "output_type": "execute_result"
        }
      ],
      "source": [
        "df_messages.duplicated().sum()"
      ]
    },
    {
      "cell_type": "markdown",
      "id": "66edc977",
      "metadata": {
        "id": "66edc977"
      },
      "source": [
        "## Таблица с тарифами"
      ]
    },
    {
      "cell_type": "code",
      "execution_count": null,
      "id": "dd59fa9f",
      "metadata": {
        "scrolled": true,
        "id": "dd59fa9f",
        "outputId": "34b107ec-4eee-4f1a-d3cc-4693560efa6c"
      },
      "outputs": [
        {
          "data": {
            "text/html": [
              "<div>\n",
              "<style scoped>\n",
              "    .dataframe tbody tr th:only-of-type {\n",
              "        vertical-align: middle;\n",
              "    }\n",
              "\n",
              "    .dataframe tbody tr th {\n",
              "        vertical-align: top;\n",
              "    }\n",
              "\n",
              "    .dataframe thead th {\n",
              "        text-align: right;\n",
              "    }\n",
              "</style>\n",
              "<table border=\"1\" class=\"dataframe\">\n",
              "  <thead>\n",
              "    <tr style=\"text-align: right;\">\n",
              "      <th></th>\n",
              "      <th>messages_included</th>\n",
              "      <th>mb_per_month_included</th>\n",
              "      <th>minutes_included</th>\n",
              "      <th>rub_monthly_fee</th>\n",
              "      <th>rub_per_gb</th>\n",
              "      <th>rub_per_message</th>\n",
              "      <th>rub_per_minute</th>\n",
              "      <th>tariff_name</th>\n",
              "    </tr>\n",
              "  </thead>\n",
              "  <tbody>\n",
              "    <tr>\n",
              "      <th>0</th>\n",
              "      <td>50</td>\n",
              "      <td>15360</td>\n",
              "      <td>500</td>\n",
              "      <td>550</td>\n",
              "      <td>200</td>\n",
              "      <td>3</td>\n",
              "      <td>3</td>\n",
              "      <td>smart</td>\n",
              "    </tr>\n",
              "    <tr>\n",
              "      <th>1</th>\n",
              "      <td>1000</td>\n",
              "      <td>30720</td>\n",
              "      <td>3000</td>\n",
              "      <td>1950</td>\n",
              "      <td>150</td>\n",
              "      <td>1</td>\n",
              "      <td>1</td>\n",
              "      <td>ultra</td>\n",
              "    </tr>\n",
              "  </tbody>\n",
              "</table>\n",
              "</div>"
            ],
            "text/plain": [
              "   messages_included  mb_per_month_included  minutes_included  \\\n",
              "0                 50                  15360               500   \n",
              "1               1000                  30720              3000   \n",
              "\n",
              "   rub_monthly_fee  rub_per_gb  rub_per_message  rub_per_minute tariff_name  \n",
              "0              550         200                3               3       smart  \n",
              "1             1950         150                1               1       ultra  "
            ]
          },
          "execution_count": 11,
          "metadata": {},
          "output_type": "execute_result"
        }
      ],
      "source": [
        "df_tariffs = pd.read_csv('/datasets/tariffs.csv')\n",
        "df_tariffs"
      ]
    },
    {
      "cell_type": "markdown",
      "id": "b41efd08",
      "metadata": {
        "id": "b41efd08"
      },
      "source": [
        "## Таблица с информацией о пользователях"
      ]
    },
    {
      "cell_type": "code",
      "execution_count": null,
      "id": "a544643f",
      "metadata": {
        "id": "a544643f",
        "outputId": "b21494ed-ffbb-4cf1-8fcc-4a6af4990acd"
      },
      "outputs": [
        {
          "data": {
            "text/html": [
              "<div>\n",
              "<style scoped>\n",
              "    .dataframe tbody tr th:only-of-type {\n",
              "        vertical-align: middle;\n",
              "    }\n",
              "\n",
              "    .dataframe tbody tr th {\n",
              "        vertical-align: top;\n",
              "    }\n",
              "\n",
              "    .dataframe thead th {\n",
              "        text-align: right;\n",
              "    }\n",
              "</style>\n",
              "<table border=\"1\" class=\"dataframe\">\n",
              "  <thead>\n",
              "    <tr style=\"text-align: right;\">\n",
              "      <th></th>\n",
              "      <th>user_id</th>\n",
              "      <th>age</th>\n",
              "      <th>churn_date</th>\n",
              "      <th>city</th>\n",
              "      <th>first_name</th>\n",
              "      <th>last_name</th>\n",
              "      <th>reg_date</th>\n",
              "      <th>tariff</th>\n",
              "    </tr>\n",
              "  </thead>\n",
              "  <tbody>\n",
              "    <tr>\n",
              "      <th>0</th>\n",
              "      <td>1000</td>\n",
              "      <td>52</td>\n",
              "      <td>NaN</td>\n",
              "      <td>Краснодар</td>\n",
              "      <td>Рафаил</td>\n",
              "      <td>Верещагин</td>\n",
              "      <td>2018-05-25</td>\n",
              "      <td>ultra</td>\n",
              "    </tr>\n",
              "    <tr>\n",
              "      <th>1</th>\n",
              "      <td>1001</td>\n",
              "      <td>41</td>\n",
              "      <td>NaN</td>\n",
              "      <td>Москва</td>\n",
              "      <td>Иван</td>\n",
              "      <td>Ежов</td>\n",
              "      <td>2018-11-01</td>\n",
              "      <td>smart</td>\n",
              "    </tr>\n",
              "    <tr>\n",
              "      <th>2</th>\n",
              "      <td>1002</td>\n",
              "      <td>59</td>\n",
              "      <td>NaN</td>\n",
              "      <td>Стерлитамак</td>\n",
              "      <td>Евгений</td>\n",
              "      <td>Абрамович</td>\n",
              "      <td>2018-06-17</td>\n",
              "      <td>smart</td>\n",
              "    </tr>\n",
              "    <tr>\n",
              "      <th>3</th>\n",
              "      <td>1003</td>\n",
              "      <td>23</td>\n",
              "      <td>NaN</td>\n",
              "      <td>Москва</td>\n",
              "      <td>Белла</td>\n",
              "      <td>Белякова</td>\n",
              "      <td>2018-08-17</td>\n",
              "      <td>ultra</td>\n",
              "    </tr>\n",
              "    <tr>\n",
              "      <th>4</th>\n",
              "      <td>1004</td>\n",
              "      <td>68</td>\n",
              "      <td>NaN</td>\n",
              "      <td>Новокузнецк</td>\n",
              "      <td>Татьяна</td>\n",
              "      <td>Авдеенко</td>\n",
              "      <td>2018-05-14</td>\n",
              "      <td>ultra</td>\n",
              "    </tr>\n",
              "    <tr>\n",
              "      <th>5</th>\n",
              "      <td>1005</td>\n",
              "      <td>67</td>\n",
              "      <td>NaN</td>\n",
              "      <td>Набережные Челны</td>\n",
              "      <td>Афанасий</td>\n",
              "      <td>Горлов</td>\n",
              "      <td>2018-01-25</td>\n",
              "      <td>smart</td>\n",
              "    </tr>\n",
              "    <tr>\n",
              "      <th>6</th>\n",
              "      <td>1006</td>\n",
              "      <td>21</td>\n",
              "      <td>NaN</td>\n",
              "      <td>Ульяновск</td>\n",
              "      <td>Леонид</td>\n",
              "      <td>Ермолаев</td>\n",
              "      <td>2018-02-26</td>\n",
              "      <td>smart</td>\n",
              "    </tr>\n",
              "    <tr>\n",
              "      <th>7</th>\n",
              "      <td>1007</td>\n",
              "      <td>65</td>\n",
              "      <td>NaN</td>\n",
              "      <td>Москва</td>\n",
              "      <td>Юна</td>\n",
              "      <td>Березина</td>\n",
              "      <td>2018-04-19</td>\n",
              "      <td>smart</td>\n",
              "    </tr>\n",
              "    <tr>\n",
              "      <th>8</th>\n",
              "      <td>1008</td>\n",
              "      <td>63</td>\n",
              "      <td>NaN</td>\n",
              "      <td>Челябинск</td>\n",
              "      <td>Рустэм</td>\n",
              "      <td>Пономарёв</td>\n",
              "      <td>2018-12-19</td>\n",
              "      <td>smart</td>\n",
              "    </tr>\n",
              "    <tr>\n",
              "      <th>9</th>\n",
              "      <td>1009</td>\n",
              "      <td>24</td>\n",
              "      <td>NaN</td>\n",
              "      <td>Пермь</td>\n",
              "      <td>Василиса</td>\n",
              "      <td>Блинова</td>\n",
              "      <td>2018-03-22</td>\n",
              "      <td>smart</td>\n",
              "    </tr>\n",
              "  </tbody>\n",
              "</table>\n",
              "</div>"
            ],
            "text/plain": [
              "   user_id  age churn_date              city first_name  last_name  \\\n",
              "0     1000   52        NaN         Краснодар     Рафаил  Верещагин   \n",
              "1     1001   41        NaN            Москва       Иван       Ежов   \n",
              "2     1002   59        NaN       Стерлитамак    Евгений  Абрамович   \n",
              "3     1003   23        NaN            Москва      Белла   Белякова   \n",
              "4     1004   68        NaN       Новокузнецк    Татьяна   Авдеенко   \n",
              "5     1005   67        NaN  Набережные Челны   Афанасий     Горлов   \n",
              "6     1006   21        NaN         Ульяновск     Леонид   Ермолаев   \n",
              "7     1007   65        NaN            Москва        Юна   Березина   \n",
              "8     1008   63        NaN         Челябинск     Рустэм  Пономарёв   \n",
              "9     1009   24        NaN             Пермь   Василиса    Блинова   \n",
              "\n",
              "     reg_date tariff  \n",
              "0  2018-05-25  ultra  \n",
              "1  2018-11-01  smart  \n",
              "2  2018-06-17  smart  \n",
              "3  2018-08-17  ultra  \n",
              "4  2018-05-14  ultra  \n",
              "5  2018-01-25  smart  \n",
              "6  2018-02-26  smart  \n",
              "7  2018-04-19  smart  \n",
              "8  2018-12-19  smart  \n",
              "9  2018-03-22  smart  "
            ]
          },
          "metadata": {},
          "output_type": "display_data"
        },
        {
          "name": "stdout",
          "output_type": "stream",
          "text": [
            "<class 'pandas.core.frame.DataFrame'>\n",
            "RangeIndex: 500 entries, 0 to 499\n",
            "Data columns (total 8 columns):\n",
            " #   Column      Non-Null Count  Dtype \n",
            "---  ------      --------------  ----- \n",
            " 0   user_id     500 non-null    int64 \n",
            " 1   age         500 non-null    int64 \n",
            " 2   churn_date  38 non-null     object\n",
            " 3   city        500 non-null    object\n",
            " 4   first_name  500 non-null    object\n",
            " 5   last_name   500 non-null    object\n",
            " 6   reg_date    500 non-null    object\n",
            " 7   tariff      500 non-null    object\n",
            "dtypes: int64(2), object(6)\n",
            "memory usage: 31.4+ KB\n"
          ]
        }
      ],
      "source": [
        "df_users = pd.read_csv('/datasets/users.csv')\n",
        "display(df_users.head(10))\n",
        "df_users.info()"
      ]
    },
    {
      "cell_type": "markdown",
      "id": "6df7ddbf",
      "metadata": {
        "id": "6df7ddbf"
      },
      "source": [
        "Столбец reg_date и chutn_date переведем в формат даты."
      ]
    },
    {
      "cell_type": "code",
      "execution_count": null,
      "id": "4c7e22e0",
      "metadata": {
        "id": "4c7e22e0",
        "outputId": "375c177a-2c46-47d4-8a57-c2fbbc12fc86"
      },
      "outputs": [
        {
          "name": "stdout",
          "output_type": "stream",
          "text": [
            "<class 'pandas.core.frame.DataFrame'>\n",
            "RangeIndex: 500 entries, 0 to 499\n",
            "Data columns (total 8 columns):\n",
            " #   Column      Non-Null Count  Dtype         \n",
            "---  ------      --------------  -----         \n",
            " 0   user_id     500 non-null    int64         \n",
            " 1   age         500 non-null    int64         \n",
            " 2   churn_date  38 non-null     datetime64[ns]\n",
            " 3   city        500 non-null    object        \n",
            " 4   first_name  500 non-null    object        \n",
            " 5   last_name   500 non-null    object        \n",
            " 6   reg_date    500 non-null    datetime64[ns]\n",
            " 7   tariff      500 non-null    object        \n",
            "dtypes: datetime64[ns](2), int64(2), object(4)\n",
            "memory usage: 31.4+ KB\n"
          ]
        }
      ],
      "source": [
        "df_users['reg_date'] = pd.to_datetime(df_users['reg_date'], format='%Y-%m-%d')\n",
        "df_users['churn_date'] = pd.to_datetime(df_users['churn_date'], format='%Y-%m-%d')\n",
        "df_users.info()"
      ]
    },
    {
      "cell_type": "code",
      "execution_count": null,
      "id": "933e3c81",
      "metadata": {
        "id": "933e3c81",
        "outputId": "706eba16-d666-4cc0-b862-245dcd584a7a"
      },
      "outputs": [
        {
          "data": {
            "text/plain": [
              "0"
            ]
          },
          "execution_count": 14,
          "metadata": {},
          "output_type": "execute_result"
        }
      ],
      "source": [
        "df_users.duplicated().sum()"
      ]
    },
    {
      "cell_type": "markdown",
      "id": "977ab4c7",
      "metadata": {
        "id": "977ab4c7"
      },
      "source": [
        "## Выводы:\n",
        "В результате предобработки мы изучили 5 таблиц с данными по использованию тарифов Мегалайн (звонки, SMS, интернет-сессии, описание тарифов, данные пользователей). Изучили основные статистические характеристики данных, проверили данные на дубликаты, исправили название некоторых столбцов, перевели данные в удобный для анализа формат, округлили продолжительность звонков до минут."
      ]
    },
    {
      "cell_type": "markdown",
      "id": "185a2f05",
      "metadata": {
        "id": "185a2f05"
      },
      "source": [
        "# Расчеты"
      ]
    },
    {
      "cell_type": "markdown",
      "id": "ee2b5129",
      "metadata": {
        "id": "ee2b5129"
      },
      "source": [
        "## Количество сделанных звонков и израсходованных минут разговора по месяцам"
      ]
    },
    {
      "cell_type": "code",
      "execution_count": null,
      "id": "fa539354",
      "metadata": {
        "id": "fa539354",
        "outputId": "631cf0c4-74ab-4456-de31-70869f16970b"
      },
      "outputs": [
        {
          "data": {
            "text/html": [
              "<div>\n",
              "<style scoped>\n",
              "    .dataframe tbody tr th:only-of-type {\n",
              "        vertical-align: middle;\n",
              "    }\n",
              "\n",
              "    .dataframe tbody tr th {\n",
              "        vertical-align: top;\n",
              "    }\n",
              "\n",
              "    .dataframe thead tr th {\n",
              "        text-align: left;\n",
              "    }\n",
              "\n",
              "    .dataframe thead tr:last-of-type th {\n",
              "        text-align: right;\n",
              "    }\n",
              "</style>\n",
              "<table border=\"1\" class=\"dataframe\">\n",
              "  <thead>\n",
              "    <tr>\n",
              "      <th></th>\n",
              "      <th></th>\n",
              "      <th>count</th>\n",
              "      <th>sum</th>\n",
              "    </tr>\n",
              "    <tr>\n",
              "      <th></th>\n",
              "      <th></th>\n",
              "      <th>duration</th>\n",
              "      <th>duration</th>\n",
              "    </tr>\n",
              "    <tr>\n",
              "      <th>user_id</th>\n",
              "      <th>month</th>\n",
              "      <th></th>\n",
              "      <th></th>\n",
              "    </tr>\n",
              "  </thead>\n",
              "  <tbody>\n",
              "    <tr>\n",
              "      <th rowspan=\"5\" valign=\"top\">1000</th>\n",
              "      <th>5</th>\n",
              "      <td>22</td>\n",
              "      <td>159</td>\n",
              "    </tr>\n",
              "    <tr>\n",
              "      <th>6</th>\n",
              "      <td>43</td>\n",
              "      <td>172</td>\n",
              "    </tr>\n",
              "    <tr>\n",
              "      <th>7</th>\n",
              "      <td>47</td>\n",
              "      <td>340</td>\n",
              "    </tr>\n",
              "    <tr>\n",
              "      <th>8</th>\n",
              "      <td>52</td>\n",
              "      <td>408</td>\n",
              "    </tr>\n",
              "    <tr>\n",
              "      <th>9</th>\n",
              "      <td>58</td>\n",
              "      <td>466</td>\n",
              "    </tr>\n",
              "  </tbody>\n",
              "</table>\n",
              "</div>"
            ],
            "text/plain": [
              "                 count      sum\n",
              "              duration duration\n",
              "user_id month                  \n",
              "1000    5           22      159\n",
              "        6           43      172\n",
              "        7           47      340\n",
              "        8           52      408\n",
              "        9           58      466"
            ]
          },
          "execution_count": 15,
          "metadata": {},
          "output_type": "execute_result"
        }
      ],
      "source": [
        "df_calls['month'] = pd.DatetimeIndex(df_calls['call_date']).month\n",
        "calls_agg = df_calls.pivot_table(index=['user_id', 'month'], values='duration', aggfunc=['count', 'sum'])\n",
        "calls_agg.head()"
      ]
    },
    {
      "cell_type": "markdown",
      "id": "2376f4ac",
      "metadata": {
        "id": "2376f4ac"
      },
      "source": [
        "## Количество отправленных сообщений по месяцам"
      ]
    },
    {
      "cell_type": "code",
      "execution_count": null,
      "id": "4d6f5d3f",
      "metadata": {
        "id": "4d6f5d3f",
        "outputId": "fc384edc-3037-4d96-aba9-8a240a97b6cd"
      },
      "outputs": [
        {
          "data": {
            "text/html": [
              "<div>\n",
              "<style scoped>\n",
              "    .dataframe tbody tr th:only-of-type {\n",
              "        vertical-align: middle;\n",
              "    }\n",
              "\n",
              "    .dataframe tbody tr th {\n",
              "        vertical-align: top;\n",
              "    }\n",
              "\n",
              "    .dataframe thead th {\n",
              "        text-align: right;\n",
              "    }\n",
              "</style>\n",
              "<table border=\"1\" class=\"dataframe\">\n",
              "  <thead>\n",
              "    <tr style=\"text-align: right;\">\n",
              "      <th></th>\n",
              "      <th></th>\n",
              "      <th>message_count</th>\n",
              "    </tr>\n",
              "    <tr>\n",
              "      <th>user_id</th>\n",
              "      <th>month</th>\n",
              "      <th></th>\n",
              "    </tr>\n",
              "  </thead>\n",
              "  <tbody>\n",
              "    <tr>\n",
              "      <th rowspan=\"5\" valign=\"top\">1000</th>\n",
              "      <th>5</th>\n",
              "      <td>22</td>\n",
              "    </tr>\n",
              "    <tr>\n",
              "      <th>6</th>\n",
              "      <td>60</td>\n",
              "    </tr>\n",
              "    <tr>\n",
              "      <th>7</th>\n",
              "      <td>75</td>\n",
              "    </tr>\n",
              "    <tr>\n",
              "      <th>8</th>\n",
              "      <td>81</td>\n",
              "    </tr>\n",
              "    <tr>\n",
              "      <th>9</th>\n",
              "      <td>57</td>\n",
              "    </tr>\n",
              "  </tbody>\n",
              "</table>\n",
              "</div>"
            ],
            "text/plain": [
              "               message_count\n",
              "user_id month               \n",
              "1000    5                 22\n",
              "        6                 60\n",
              "        7                 75\n",
              "        8                 81\n",
              "        9                 57"
            ]
          },
          "execution_count": 16,
          "metadata": {},
          "output_type": "execute_result"
        }
      ],
      "source": [
        "df_messages['month'] = pd.DatetimeIndex(df_messages['message_date']).month\n",
        "messages_agg = df_messages.pivot_table(index=['user_id', 'month'], values='message_date', aggfunc='count')\n",
        "messages_agg.columns = ['message_count']\n",
        "messages_agg.head()"
      ]
    },
    {
      "cell_type": "markdown",
      "id": "1568d83a",
      "metadata": {
        "id": "1568d83a"
      },
      "source": [
        "## Объем израсходованного интернет-трафика по месяцам"
      ]
    },
    {
      "cell_type": "code",
      "execution_count": null,
      "id": "98462c09",
      "metadata": {
        "id": "98462c09",
        "outputId": "c9bdfda4-1f85-4820-91db-e4461497f879"
      },
      "outputs": [
        {
          "data": {
            "text/html": [
              "<div>\n",
              "<style scoped>\n",
              "    .dataframe tbody tr th:only-of-type {\n",
              "        vertical-align: middle;\n",
              "    }\n",
              "\n",
              "    .dataframe tbody tr th {\n",
              "        vertical-align: top;\n",
              "    }\n",
              "\n",
              "    .dataframe thead th {\n",
              "        text-align: right;\n",
              "    }\n",
              "</style>\n",
              "<table border=\"1\" class=\"dataframe\">\n",
              "  <thead>\n",
              "    <tr style=\"text-align: right;\">\n",
              "      <th></th>\n",
              "      <th></th>\n",
              "      <th>mb_used</th>\n",
              "    </tr>\n",
              "    <tr>\n",
              "      <th>user_id</th>\n",
              "      <th>month</th>\n",
              "      <th></th>\n",
              "    </tr>\n",
              "  </thead>\n",
              "  <tbody>\n",
              "    <tr>\n",
              "      <th rowspan=\"5\" valign=\"top\">1000</th>\n",
              "      <th>5</th>\n",
              "      <td>2253.49</td>\n",
              "    </tr>\n",
              "    <tr>\n",
              "      <th>6</th>\n",
              "      <td>23233.77</td>\n",
              "    </tr>\n",
              "    <tr>\n",
              "      <th>7</th>\n",
              "      <td>14003.64</td>\n",
              "    </tr>\n",
              "    <tr>\n",
              "      <th>8</th>\n",
              "      <td>14055.93</td>\n",
              "    </tr>\n",
              "    <tr>\n",
              "      <th>9</th>\n",
              "      <td>14568.91</td>\n",
              "    </tr>\n",
              "  </tbody>\n",
              "</table>\n",
              "</div>"
            ],
            "text/plain": [
              "                mb_used\n",
              "user_id month          \n",
              "1000    5       2253.49\n",
              "        6      23233.77\n",
              "        7      14003.64\n",
              "        8      14055.93\n",
              "        9      14568.91"
            ]
          },
          "execution_count": 17,
          "metadata": {},
          "output_type": "execute_result"
        }
      ],
      "source": [
        "df_internet['month'] = pd.DatetimeIndex(df_internet['session_date']).month\n",
        "internet_agg = df_internet.pivot_table(index=['user_id', 'month'], values='mb_used', aggfunc=['sum'])\n",
        "internet_agg.columns = ['mb_used']\n",
        "internet_agg.head()"
      ]
    },
    {
      "cell_type": "markdown",
      "id": "a2f184b9",
      "metadata": {
        "id": "a2f184b9"
      },
      "source": [
        "## Помесячная выручка с каждого пользователя"
      ]
    },
    {
      "cell_type": "markdown",
      "id": "d9880289",
      "metadata": {
        "id": "d9880289"
      },
      "source": [
        "Для того, чтобы посчитать итоговую прибыль компании с каждого пользователя нам нужно собрать все данные для вычислений в единую таблицу."
      ]
    },
    {
      "cell_type": "code",
      "execution_count": null,
      "id": "fe1697ef",
      "metadata": {
        "scrolled": false,
        "id": "fe1697ef",
        "outputId": "15c9ddeb-0cad-4c96-c4d7-58fce69733d3"
      },
      "outputs": [
        {
          "data": {
            "text/html": [
              "<div>\n",
              "<style scoped>\n",
              "    .dataframe tbody tr th:only-of-type {\n",
              "        vertical-align: middle;\n",
              "    }\n",
              "\n",
              "    .dataframe tbody tr th {\n",
              "        vertical-align: top;\n",
              "    }\n",
              "\n",
              "    .dataframe thead th {\n",
              "        text-align: right;\n",
              "    }\n",
              "</style>\n",
              "<table border=\"1\" class=\"dataframe\">\n",
              "  <thead>\n",
              "    <tr style=\"text-align: right;\">\n",
              "      <th></th>\n",
              "      <th>month</th>\n",
              "      <th>mb_used</th>\n",
              "      <th>count_duration</th>\n",
              "      <th>sum_duration</th>\n",
              "      <th>count_message</th>\n",
              "    </tr>\n",
              "    <tr>\n",
              "      <th>user_id</th>\n",
              "      <th></th>\n",
              "      <th></th>\n",
              "      <th></th>\n",
              "      <th></th>\n",
              "      <th></th>\n",
              "    </tr>\n",
              "  </thead>\n",
              "  <tbody>\n",
              "    <tr>\n",
              "      <th>1000</th>\n",
              "      <td>5</td>\n",
              "      <td>2253.49</td>\n",
              "      <td>22.0</td>\n",
              "      <td>159.0</td>\n",
              "      <td>22.0</td>\n",
              "    </tr>\n",
              "    <tr>\n",
              "      <th>1000</th>\n",
              "      <td>6</td>\n",
              "      <td>23233.77</td>\n",
              "      <td>43.0</td>\n",
              "      <td>172.0</td>\n",
              "      <td>60.0</td>\n",
              "    </tr>\n",
              "    <tr>\n",
              "      <th>1000</th>\n",
              "      <td>7</td>\n",
              "      <td>14003.64</td>\n",
              "      <td>47.0</td>\n",
              "      <td>340.0</td>\n",
              "      <td>75.0</td>\n",
              "    </tr>\n",
              "    <tr>\n",
              "      <th>1000</th>\n",
              "      <td>8</td>\n",
              "      <td>14055.93</td>\n",
              "      <td>52.0</td>\n",
              "      <td>408.0</td>\n",
              "      <td>81.0</td>\n",
              "    </tr>\n",
              "    <tr>\n",
              "      <th>1000</th>\n",
              "      <td>9</td>\n",
              "      <td>14568.91</td>\n",
              "      <td>58.0</td>\n",
              "      <td>466.0</td>\n",
              "      <td>57.0</td>\n",
              "    </tr>\n",
              "  </tbody>\n",
              "</table>\n",
              "</div>"
            ],
            "text/plain": [
              "         month   mb_used  count_duration  sum_duration  count_message\n",
              "user_id                                                              \n",
              "1000         5   2253.49            22.0         159.0           22.0\n",
              "1000         6  23233.77            43.0         172.0           60.0\n",
              "1000         7  14003.64            47.0         340.0           75.0\n",
              "1000         8  14055.93            52.0         408.0           81.0\n",
              "1000         9  14568.91            58.0         466.0           57.0"
            ]
          },
          "execution_count": 18,
          "metadata": {},
          "output_type": "execute_result"
        }
      ],
      "source": [
        "all_pivot_table = internet_agg.join([calls_agg, messages_agg],  how='outer').reset_index(level='month')\n",
        "all_pivot_table.columns = ['month', 'mb_used', 'count_duration', 'sum_duration', 'count_message']\n",
        "all_pivot_table.head()"
      ]
    },
    {
      "cell_type": "code",
      "execution_count": null,
      "id": "a567dceb",
      "metadata": {
        "id": "a567dceb",
        "outputId": "cdb47ce3-ff07-4079-ccdf-e9a761d386be"
      },
      "outputs": [
        {
          "name": "stdout",
          "output_type": "stream",
          "text": [
            "<class 'pandas.core.frame.DataFrame'>\n",
            "Int64Index: 3214 entries, 1000 to 1499\n",
            "Data columns (total 5 columns):\n",
            " #   Column          Non-Null Count  Dtype  \n",
            "---  ------          --------------  -----  \n",
            " 0   month           3214 non-null   int64  \n",
            " 1   mb_used         3203 non-null   float64\n",
            " 2   count_duration  3174 non-null   float64\n",
            " 3   sum_duration    3174 non-null   float64\n",
            " 4   count_message   2717 non-null   float64\n",
            "dtypes: float64(4), int64(1)\n",
            "memory usage: 150.7 KB\n"
          ]
        }
      ],
      "source": [
        "all_pivot_table.info()"
      ]
    },
    {
      "cell_type": "markdown",
      "id": "0f0d6307",
      "metadata": {
        "id": "0f0d6307"
      },
      "source": [
        "Объединяем df_users и единую сводную таблицу"
      ]
    },
    {
      "cell_type": "code",
      "execution_count": null,
      "id": "9ccdc7d1",
      "metadata": {
        "scrolled": true,
        "id": "9ccdc7d1",
        "outputId": "2e1403b4-05ea-4bc1-a36f-3ac462c53d9c"
      },
      "outputs": [
        {
          "data": {
            "text/html": [
              "<div>\n",
              "<style scoped>\n",
              "    .dataframe tbody tr th:only-of-type {\n",
              "        vertical-align: middle;\n",
              "    }\n",
              "\n",
              "    .dataframe tbody tr th {\n",
              "        vertical-align: top;\n",
              "    }\n",
              "\n",
              "    .dataframe thead th {\n",
              "        text-align: right;\n",
              "    }\n",
              "</style>\n",
              "<table border=\"1\" class=\"dataframe\">\n",
              "  <thead>\n",
              "    <tr style=\"text-align: right;\">\n",
              "      <th></th>\n",
              "      <th>user_id</th>\n",
              "      <th>age</th>\n",
              "      <th>churn_date</th>\n",
              "      <th>city</th>\n",
              "      <th>first_name</th>\n",
              "      <th>last_name</th>\n",
              "      <th>reg_date</th>\n",
              "      <th>tariff</th>\n",
              "      <th>month</th>\n",
              "      <th>mb_used</th>\n",
              "      <th>count_duration</th>\n",
              "      <th>sum_duration</th>\n",
              "      <th>count_message</th>\n",
              "    </tr>\n",
              "  </thead>\n",
              "  <tbody>\n",
              "    <tr>\n",
              "      <th>0</th>\n",
              "      <td>1000</td>\n",
              "      <td>52</td>\n",
              "      <td>NaT</td>\n",
              "      <td>Краснодар</td>\n",
              "      <td>Рафаил</td>\n",
              "      <td>Верещагин</td>\n",
              "      <td>2018-05-25</td>\n",
              "      <td>ultra</td>\n",
              "      <td>5</td>\n",
              "      <td>2253.49</td>\n",
              "      <td>22.0</td>\n",
              "      <td>159.0</td>\n",
              "      <td>22.0</td>\n",
              "    </tr>\n",
              "    <tr>\n",
              "      <th>0</th>\n",
              "      <td>1000</td>\n",
              "      <td>52</td>\n",
              "      <td>NaT</td>\n",
              "      <td>Краснодар</td>\n",
              "      <td>Рафаил</td>\n",
              "      <td>Верещагин</td>\n",
              "      <td>2018-05-25</td>\n",
              "      <td>ultra</td>\n",
              "      <td>6</td>\n",
              "      <td>23233.77</td>\n",
              "      <td>43.0</td>\n",
              "      <td>172.0</td>\n",
              "      <td>60.0</td>\n",
              "    </tr>\n",
              "    <tr>\n",
              "      <th>0</th>\n",
              "      <td>1000</td>\n",
              "      <td>52</td>\n",
              "      <td>NaT</td>\n",
              "      <td>Краснодар</td>\n",
              "      <td>Рафаил</td>\n",
              "      <td>Верещагин</td>\n",
              "      <td>2018-05-25</td>\n",
              "      <td>ultra</td>\n",
              "      <td>7</td>\n",
              "      <td>14003.64</td>\n",
              "      <td>47.0</td>\n",
              "      <td>340.0</td>\n",
              "      <td>75.0</td>\n",
              "    </tr>\n",
              "    <tr>\n",
              "      <th>0</th>\n",
              "      <td>1000</td>\n",
              "      <td>52</td>\n",
              "      <td>NaT</td>\n",
              "      <td>Краснодар</td>\n",
              "      <td>Рафаил</td>\n",
              "      <td>Верещагин</td>\n",
              "      <td>2018-05-25</td>\n",
              "      <td>ultra</td>\n",
              "      <td>8</td>\n",
              "      <td>14055.93</td>\n",
              "      <td>52.0</td>\n",
              "      <td>408.0</td>\n",
              "      <td>81.0</td>\n",
              "    </tr>\n",
              "    <tr>\n",
              "      <th>0</th>\n",
              "      <td>1000</td>\n",
              "      <td>52</td>\n",
              "      <td>NaT</td>\n",
              "      <td>Краснодар</td>\n",
              "      <td>Рафаил</td>\n",
              "      <td>Верещагин</td>\n",
              "      <td>2018-05-25</td>\n",
              "      <td>ultra</td>\n",
              "      <td>9</td>\n",
              "      <td>14568.91</td>\n",
              "      <td>58.0</td>\n",
              "      <td>466.0</td>\n",
              "      <td>57.0</td>\n",
              "    </tr>\n",
              "  </tbody>\n",
              "</table>\n",
              "</div>"
            ],
            "text/plain": [
              "   user_id  age churn_date       city first_name  last_name   reg_date tariff  \\\n",
              "0     1000   52        NaT  Краснодар     Рафаил  Верещагин 2018-05-25  ultra   \n",
              "0     1000   52        NaT  Краснодар     Рафаил  Верещагин 2018-05-25  ultra   \n",
              "0     1000   52        NaT  Краснодар     Рафаил  Верещагин 2018-05-25  ultra   \n",
              "0     1000   52        NaT  Краснодар     Рафаил  Верещагин 2018-05-25  ultra   \n",
              "0     1000   52        NaT  Краснодар     Рафаил  Верещагин 2018-05-25  ultra   \n",
              "\n",
              "   month   mb_used  count_duration  sum_duration  count_message  \n",
              "0      5   2253.49            22.0         159.0           22.0  \n",
              "0      6  23233.77            43.0         172.0           60.0  \n",
              "0      7  14003.64            47.0         340.0           75.0  \n",
              "0      8  14055.93            52.0         408.0           81.0  \n",
              "0      9  14568.91            58.0         466.0           57.0  "
            ]
          },
          "execution_count": 20,
          "metadata": {},
          "output_type": "execute_result"
        }
      ],
      "source": [
        "total_data = df_users.join(all_pivot_table, on='user_id', how='inner')\n",
        "total_data.head()"
      ]
    },
    {
      "cell_type": "markdown",
      "id": "931b3e11",
      "metadata": {
        "id": "931b3e11"
      },
      "source": [
        "Удалим столбцы, которые нам не пригодятся чтобы легче было ориентироваться в таблице."
      ]
    },
    {
      "cell_type": "code",
      "execution_count": null,
      "id": "c7c8b98f",
      "metadata": {
        "id": "c7c8b98f",
        "outputId": "239b6b3a-4963-4563-8a9f-75df44e2a747"
      },
      "outputs": [
        {
          "data": {
            "text/html": [
              "<div>\n",
              "<style scoped>\n",
              "    .dataframe tbody tr th:only-of-type {\n",
              "        vertical-align: middle;\n",
              "    }\n",
              "\n",
              "    .dataframe tbody tr th {\n",
              "        vertical-align: top;\n",
              "    }\n",
              "\n",
              "    .dataframe thead th {\n",
              "        text-align: right;\n",
              "    }\n",
              "</style>\n",
              "<table border=\"1\" class=\"dataframe\">\n",
              "  <thead>\n",
              "    <tr style=\"text-align: right;\">\n",
              "      <th></th>\n",
              "      <th>user_id</th>\n",
              "      <th>age</th>\n",
              "      <th>city</th>\n",
              "      <th>tariff</th>\n",
              "      <th>month</th>\n",
              "      <th>mb_used</th>\n",
              "      <th>count_duration</th>\n",
              "      <th>sum_duration</th>\n",
              "      <th>count_message</th>\n",
              "    </tr>\n",
              "  </thead>\n",
              "  <tbody>\n",
              "    <tr>\n",
              "      <th>0</th>\n",
              "      <td>1000</td>\n",
              "      <td>52</td>\n",
              "      <td>Краснодар</td>\n",
              "      <td>ultra</td>\n",
              "      <td>5</td>\n",
              "      <td>2253.49</td>\n",
              "      <td>22.0</td>\n",
              "      <td>159.0</td>\n",
              "      <td>22.0</td>\n",
              "    </tr>\n",
              "    <tr>\n",
              "      <th>0</th>\n",
              "      <td>1000</td>\n",
              "      <td>52</td>\n",
              "      <td>Краснодар</td>\n",
              "      <td>ultra</td>\n",
              "      <td>6</td>\n",
              "      <td>23233.77</td>\n",
              "      <td>43.0</td>\n",
              "      <td>172.0</td>\n",
              "      <td>60.0</td>\n",
              "    </tr>\n",
              "    <tr>\n",
              "      <th>0</th>\n",
              "      <td>1000</td>\n",
              "      <td>52</td>\n",
              "      <td>Краснодар</td>\n",
              "      <td>ultra</td>\n",
              "      <td>7</td>\n",
              "      <td>14003.64</td>\n",
              "      <td>47.0</td>\n",
              "      <td>340.0</td>\n",
              "      <td>75.0</td>\n",
              "    </tr>\n",
              "    <tr>\n",
              "      <th>0</th>\n",
              "      <td>1000</td>\n",
              "      <td>52</td>\n",
              "      <td>Краснодар</td>\n",
              "      <td>ultra</td>\n",
              "      <td>8</td>\n",
              "      <td>14055.93</td>\n",
              "      <td>52.0</td>\n",
              "      <td>408.0</td>\n",
              "      <td>81.0</td>\n",
              "    </tr>\n",
              "    <tr>\n",
              "      <th>0</th>\n",
              "      <td>1000</td>\n",
              "      <td>52</td>\n",
              "      <td>Краснодар</td>\n",
              "      <td>ultra</td>\n",
              "      <td>9</td>\n",
              "      <td>14568.91</td>\n",
              "      <td>58.0</td>\n",
              "      <td>466.0</td>\n",
              "      <td>57.0</td>\n",
              "    </tr>\n",
              "  </tbody>\n",
              "</table>\n",
              "</div>"
            ],
            "text/plain": [
              "   user_id  age       city tariff  month   mb_used  count_duration  \\\n",
              "0     1000   52  Краснодар  ultra      5   2253.49            22.0   \n",
              "0     1000   52  Краснодар  ultra      6  23233.77            43.0   \n",
              "0     1000   52  Краснодар  ultra      7  14003.64            47.0   \n",
              "0     1000   52  Краснодар  ultra      8  14055.93            52.0   \n",
              "0     1000   52  Краснодар  ultra      9  14568.91            58.0   \n",
              "\n",
              "   sum_duration  count_message  \n",
              "0         159.0           22.0  \n",
              "0         172.0           60.0  \n",
              "0         340.0           75.0  \n",
              "0         408.0           81.0  \n",
              "0         466.0           57.0  "
            ]
          },
          "execution_count": 21,
          "metadata": {},
          "output_type": "execute_result"
        }
      ],
      "source": [
        "total_data = total_data.drop(['churn_date', 'first_name', 'last_name', 'reg_date'], axis='columns')\n",
        "total_data.head()"
      ]
    },
    {
      "cell_type": "markdown",
      "id": "57266132",
      "metadata": {
        "id": "57266132"
      },
      "source": [
        "Добавим к нашей таблице информацию о тарифах из таблицы df_tariffs. \n",
        "\n",
        "Объединим таблицы по колонке с названиями тарифов. Для этого сначала в df_tariffs поменяем название нужного столбца на tariff."
      ]
    },
    {
      "cell_type": "code",
      "execution_count": null,
      "id": "40de0b19",
      "metadata": {
        "id": "40de0b19",
        "outputId": "07a1a905-8631-4a6b-a335-5021fd852111"
      },
      "outputs": [
        {
          "data": {
            "text/html": [
              "<div>\n",
              "<style scoped>\n",
              "    .dataframe tbody tr th:only-of-type {\n",
              "        vertical-align: middle;\n",
              "    }\n",
              "\n",
              "    .dataframe tbody tr th {\n",
              "        vertical-align: top;\n",
              "    }\n",
              "\n",
              "    .dataframe thead th {\n",
              "        text-align: right;\n",
              "    }\n",
              "</style>\n",
              "<table border=\"1\" class=\"dataframe\">\n",
              "  <thead>\n",
              "    <tr style=\"text-align: right;\">\n",
              "      <th></th>\n",
              "      <th>messages_included</th>\n",
              "      <th>mb_per_month_included</th>\n",
              "      <th>minutes_included</th>\n",
              "      <th>rub_monthly_fee</th>\n",
              "      <th>rub_per_gb</th>\n",
              "      <th>rub_per_message</th>\n",
              "      <th>rub_per_minute</th>\n",
              "      <th>tariff</th>\n",
              "    </tr>\n",
              "  </thead>\n",
              "  <tbody>\n",
              "    <tr>\n",
              "      <th>0</th>\n",
              "      <td>50</td>\n",
              "      <td>15360</td>\n",
              "      <td>500</td>\n",
              "      <td>550</td>\n",
              "      <td>200</td>\n",
              "      <td>3</td>\n",
              "      <td>3</td>\n",
              "      <td>smart</td>\n",
              "    </tr>\n",
              "    <tr>\n",
              "      <th>1</th>\n",
              "      <td>1000</td>\n",
              "      <td>30720</td>\n",
              "      <td>3000</td>\n",
              "      <td>1950</td>\n",
              "      <td>150</td>\n",
              "      <td>1</td>\n",
              "      <td>1</td>\n",
              "      <td>ultra</td>\n",
              "    </tr>\n",
              "  </tbody>\n",
              "</table>\n",
              "</div>"
            ],
            "text/plain": [
              "   messages_included  mb_per_month_included  minutes_included  \\\n",
              "0                 50                  15360               500   \n",
              "1               1000                  30720              3000   \n",
              "\n",
              "   rub_monthly_fee  rub_per_gb  rub_per_message  rub_per_minute tariff  \n",
              "0              550         200                3               3  smart  \n",
              "1             1950         150                1               1  ultra  "
            ]
          },
          "execution_count": 22,
          "metadata": {},
          "output_type": "execute_result"
        }
      ],
      "source": [
        "df_tariffs = df_tariffs.rename(\n",
        "columns={'tariff_name': 'tariff'})\n",
        "df_tariffs"
      ]
    },
    {
      "cell_type": "markdown",
      "id": "d45e478b",
      "metadata": {
        "id": "d45e478b"
      },
      "source": [
        "Объеденим данные."
      ]
    },
    {
      "cell_type": "code",
      "execution_count": null,
      "id": "045b8cac",
      "metadata": {
        "id": "045b8cac",
        "outputId": "77838bac-01fb-4cfd-a382-aed4bd09584a"
      },
      "outputs": [
        {
          "data": {
            "text/html": [
              "<div>\n",
              "<style scoped>\n",
              "    .dataframe tbody tr th:only-of-type {\n",
              "        vertical-align: middle;\n",
              "    }\n",
              "\n",
              "    .dataframe tbody tr th {\n",
              "        vertical-align: top;\n",
              "    }\n",
              "\n",
              "    .dataframe thead th {\n",
              "        text-align: right;\n",
              "    }\n",
              "</style>\n",
              "<table border=\"1\" class=\"dataframe\">\n",
              "  <thead>\n",
              "    <tr style=\"text-align: right;\">\n",
              "      <th></th>\n",
              "      <th>user_id</th>\n",
              "      <th>age</th>\n",
              "      <th>city</th>\n",
              "      <th>tariff</th>\n",
              "      <th>month</th>\n",
              "      <th>mb_used</th>\n",
              "      <th>count_duration</th>\n",
              "      <th>sum_duration</th>\n",
              "      <th>count_message</th>\n",
              "      <th>messages_included</th>\n",
              "      <th>mb_per_month_included</th>\n",
              "      <th>minutes_included</th>\n",
              "      <th>rub_monthly_fee</th>\n",
              "      <th>rub_per_gb</th>\n",
              "      <th>rub_per_message</th>\n",
              "      <th>rub_per_minute</th>\n",
              "    </tr>\n",
              "  </thead>\n",
              "  <tbody>\n",
              "    <tr>\n",
              "      <th>0</th>\n",
              "      <td>1000</td>\n",
              "      <td>52</td>\n",
              "      <td>Краснодар</td>\n",
              "      <td>ultra</td>\n",
              "      <td>5</td>\n",
              "      <td>2253.49</td>\n",
              "      <td>22.0</td>\n",
              "      <td>159.0</td>\n",
              "      <td>22.0</td>\n",
              "      <td>1000</td>\n",
              "      <td>30720</td>\n",
              "      <td>3000</td>\n",
              "      <td>1950</td>\n",
              "      <td>150</td>\n",
              "      <td>1</td>\n",
              "      <td>1</td>\n",
              "    </tr>\n",
              "    <tr>\n",
              "      <th>1</th>\n",
              "      <td>1000</td>\n",
              "      <td>52</td>\n",
              "      <td>Краснодар</td>\n",
              "      <td>ultra</td>\n",
              "      <td>6</td>\n",
              "      <td>23233.77</td>\n",
              "      <td>43.0</td>\n",
              "      <td>172.0</td>\n",
              "      <td>60.0</td>\n",
              "      <td>1000</td>\n",
              "      <td>30720</td>\n",
              "      <td>3000</td>\n",
              "      <td>1950</td>\n",
              "      <td>150</td>\n",
              "      <td>1</td>\n",
              "      <td>1</td>\n",
              "    </tr>\n",
              "    <tr>\n",
              "      <th>2</th>\n",
              "      <td>1000</td>\n",
              "      <td>52</td>\n",
              "      <td>Краснодар</td>\n",
              "      <td>ultra</td>\n",
              "      <td>7</td>\n",
              "      <td>14003.64</td>\n",
              "      <td>47.0</td>\n",
              "      <td>340.0</td>\n",
              "      <td>75.0</td>\n",
              "      <td>1000</td>\n",
              "      <td>30720</td>\n",
              "      <td>3000</td>\n",
              "      <td>1950</td>\n",
              "      <td>150</td>\n",
              "      <td>1</td>\n",
              "      <td>1</td>\n",
              "    </tr>\n",
              "    <tr>\n",
              "      <th>3</th>\n",
              "      <td>1000</td>\n",
              "      <td>52</td>\n",
              "      <td>Краснодар</td>\n",
              "      <td>ultra</td>\n",
              "      <td>8</td>\n",
              "      <td>14055.93</td>\n",
              "      <td>52.0</td>\n",
              "      <td>408.0</td>\n",
              "      <td>81.0</td>\n",
              "      <td>1000</td>\n",
              "      <td>30720</td>\n",
              "      <td>3000</td>\n",
              "      <td>1950</td>\n",
              "      <td>150</td>\n",
              "      <td>1</td>\n",
              "      <td>1</td>\n",
              "    </tr>\n",
              "    <tr>\n",
              "      <th>4</th>\n",
              "      <td>1000</td>\n",
              "      <td>52</td>\n",
              "      <td>Краснодар</td>\n",
              "      <td>ultra</td>\n",
              "      <td>9</td>\n",
              "      <td>14568.91</td>\n",
              "      <td>58.0</td>\n",
              "      <td>466.0</td>\n",
              "      <td>57.0</td>\n",
              "      <td>1000</td>\n",
              "      <td>30720</td>\n",
              "      <td>3000</td>\n",
              "      <td>1950</td>\n",
              "      <td>150</td>\n",
              "      <td>1</td>\n",
              "      <td>1</td>\n",
              "    </tr>\n",
              "  </tbody>\n",
              "</table>\n",
              "</div>"
            ],
            "text/plain": [
              "   user_id  age       city tariff  month   mb_used  count_duration  \\\n",
              "0     1000   52  Краснодар  ultra      5   2253.49            22.0   \n",
              "1     1000   52  Краснодар  ultra      6  23233.77            43.0   \n",
              "2     1000   52  Краснодар  ultra      7  14003.64            47.0   \n",
              "3     1000   52  Краснодар  ultra      8  14055.93            52.0   \n",
              "4     1000   52  Краснодар  ultra      9  14568.91            58.0   \n",
              "\n",
              "   sum_duration  count_message  messages_included  mb_per_month_included  \\\n",
              "0         159.0           22.0               1000                  30720   \n",
              "1         172.0           60.0               1000                  30720   \n",
              "2         340.0           75.0               1000                  30720   \n",
              "3         408.0           81.0               1000                  30720   \n",
              "4         466.0           57.0               1000                  30720   \n",
              "\n",
              "   minutes_included  rub_monthly_fee  rub_per_gb  rub_per_message  \\\n",
              "0              3000             1950         150                1   \n",
              "1              3000             1950         150                1   \n",
              "2              3000             1950         150                1   \n",
              "3              3000             1950         150                1   \n",
              "4              3000             1950         150                1   \n",
              "\n",
              "   rub_per_minute  \n",
              "0               1  \n",
              "1               1  \n",
              "2               1  \n",
              "3               1  \n",
              "4               1  "
            ]
          },
          "execution_count": 23,
          "metadata": {},
          "output_type": "execute_result"
        }
      ],
      "source": [
        "total_data = total_data.merge(df_tariffs, on='tariff')\n",
        "total_data.head()"
      ]
    },
    {
      "cell_type": "code",
      "execution_count": null,
      "id": "e711499a",
      "metadata": {
        "id": "e711499a",
        "outputId": "bc32fc4e-2d39-47c9-c31e-737ea2739ee4"
      },
      "outputs": [
        {
          "data": {
            "text/plain": [
              "1450301"
            ]
          },
          "execution_count": 24,
          "metadata": {},
          "output_type": "execute_result"
        }
      ],
      "source": [
        "df_calls['duration'].sum()"
      ]
    },
    {
      "cell_type": "code",
      "execution_count": null,
      "id": "ea51db3a",
      "metadata": {
        "id": "ea51db3a",
        "outputId": "630f1596-9d05-4671-b180-624e9d724072"
      },
      "outputs": [
        {
          "data": {
            "text/plain": [
              "1450301.0"
            ]
          },
          "execution_count": 25,
          "metadata": {},
          "output_type": "execute_result"
        }
      ],
      "source": [
        "total_data['sum_duration'].sum() "
      ]
    },
    {
      "cell_type": "markdown",
      "id": "966ca43b",
      "metadata": {
        "id": "966ca43b"
      },
      "source": [
        "Проверим данные на пропуски, появившиеся при объединении."
      ]
    },
    {
      "cell_type": "code",
      "execution_count": null,
      "id": "50baf617",
      "metadata": {
        "id": "50baf617",
        "outputId": "d8661a81-6f67-420f-d451-1820b370f7bb"
      },
      "outputs": [
        {
          "data": {
            "text/plain": [
              "user_id                    0\n",
              "age                        0\n",
              "city                       0\n",
              "tariff                     0\n",
              "month                      0\n",
              "mb_used                   11\n",
              "count_duration            40\n",
              "sum_duration              40\n",
              "count_message            497\n",
              "messages_included          0\n",
              "mb_per_month_included      0\n",
              "minutes_included           0\n",
              "rub_monthly_fee            0\n",
              "rub_per_gb                 0\n",
              "rub_per_message            0\n",
              "rub_per_minute             0\n",
              "dtype: int64"
            ]
          },
          "execution_count": 26,
          "metadata": {},
          "output_type": "execute_result"
        }
      ],
      "source": [
        "total_data.isna().sum()"
      ]
    },
    {
      "cell_type": "markdown",
      "id": "6ee7c25e",
      "metadata": {
        "id": "6ee7c25e"
      },
      "source": [
        "По какой-то причине в нашей итоговой таблице образовались пропуски, возможно клиент просто в эти периоды не отправлял сообщения, не звонил или не выходил в интернет. Заменим пропуски нулями."
      ]
    },
    {
      "cell_type": "code",
      "execution_count": null,
      "id": "725fe602",
      "metadata": {
        "id": "725fe602",
        "outputId": "9898523e-64a3-4da9-9257-1d76bd6f5a09"
      },
      "outputs": [
        {
          "data": {
            "text/plain": [
              "user_id                  0\n",
              "age                      0\n",
              "city                     0\n",
              "tariff                   0\n",
              "month                    0\n",
              "mb_used                  0\n",
              "count_duration           0\n",
              "sum_duration             0\n",
              "count_message            0\n",
              "messages_included        0\n",
              "mb_per_month_included    0\n",
              "minutes_included         0\n",
              "rub_monthly_fee          0\n",
              "rub_per_gb               0\n",
              "rub_per_message          0\n",
              "rub_per_minute           0\n",
              "dtype: int64"
            ]
          },
          "execution_count": 27,
          "metadata": {},
          "output_type": "execute_result"
        }
      ],
      "source": [
        "total_data = total_data.fillna(0)\n",
        "total_data.isna().sum()"
      ]
    },
    {
      "cell_type": "markdown",
      "id": "270ec5ed",
      "metadata": {
        "id": "270ec5ed"
      },
      "source": [
        "Создадим функцию для расчет помесячной выручки с каждого пользователя."
      ]
    },
    {
      "cell_type": "code",
      "execution_count": null,
      "id": "6550ce6e",
      "metadata": {
        "id": "6550ce6e",
        "outputId": "21c5a3ef-aee6-4ddb-bdc0-1e565598492b"
      },
      "outputs": [
        {
          "data": {
            "text/html": [
              "<div>\n",
              "<style scoped>\n",
              "    .dataframe tbody tr th:only-of-type {\n",
              "        vertical-align: middle;\n",
              "    }\n",
              "\n",
              "    .dataframe tbody tr th {\n",
              "        vertical-align: top;\n",
              "    }\n",
              "\n",
              "    .dataframe thead th {\n",
              "        text-align: right;\n",
              "    }\n",
              "</style>\n",
              "<table border=\"1\" class=\"dataframe\">\n",
              "  <thead>\n",
              "    <tr style=\"text-align: right;\">\n",
              "      <th></th>\n",
              "      <th>user_id</th>\n",
              "      <th>age</th>\n",
              "      <th>city</th>\n",
              "      <th>tariff</th>\n",
              "      <th>month</th>\n",
              "      <th>mb_used</th>\n",
              "      <th>count_duration</th>\n",
              "      <th>sum_duration</th>\n",
              "      <th>count_message</th>\n",
              "      <th>messages_included</th>\n",
              "      <th>mb_per_month_included</th>\n",
              "      <th>minutes_included</th>\n",
              "      <th>rub_monthly_fee</th>\n",
              "      <th>rub_per_gb</th>\n",
              "      <th>rub_per_message</th>\n",
              "      <th>rub_per_minute</th>\n",
              "      <th>total_bill</th>\n",
              "    </tr>\n",
              "  </thead>\n",
              "  <tbody>\n",
              "    <tr>\n",
              "      <th>0</th>\n",
              "      <td>1000</td>\n",
              "      <td>52</td>\n",
              "      <td>Краснодар</td>\n",
              "      <td>ultra</td>\n",
              "      <td>5</td>\n",
              "      <td>2253.49</td>\n",
              "      <td>22.0</td>\n",
              "      <td>159.0</td>\n",
              "      <td>22.0</td>\n",
              "      <td>1000</td>\n",
              "      <td>30720</td>\n",
              "      <td>3000</td>\n",
              "      <td>1950</td>\n",
              "      <td>150</td>\n",
              "      <td>1</td>\n",
              "      <td>1</td>\n",
              "      <td>1950.0</td>\n",
              "    </tr>\n",
              "    <tr>\n",
              "      <th>1</th>\n",
              "      <td>1000</td>\n",
              "      <td>52</td>\n",
              "      <td>Краснодар</td>\n",
              "      <td>ultra</td>\n",
              "      <td>6</td>\n",
              "      <td>23233.77</td>\n",
              "      <td>43.0</td>\n",
              "      <td>172.0</td>\n",
              "      <td>60.0</td>\n",
              "      <td>1000</td>\n",
              "      <td>30720</td>\n",
              "      <td>3000</td>\n",
              "      <td>1950</td>\n",
              "      <td>150</td>\n",
              "      <td>1</td>\n",
              "      <td>1</td>\n",
              "      <td>1950.0</td>\n",
              "    </tr>\n",
              "    <tr>\n",
              "      <th>2</th>\n",
              "      <td>1000</td>\n",
              "      <td>52</td>\n",
              "      <td>Краснодар</td>\n",
              "      <td>ultra</td>\n",
              "      <td>7</td>\n",
              "      <td>14003.64</td>\n",
              "      <td>47.0</td>\n",
              "      <td>340.0</td>\n",
              "      <td>75.0</td>\n",
              "      <td>1000</td>\n",
              "      <td>30720</td>\n",
              "      <td>3000</td>\n",
              "      <td>1950</td>\n",
              "      <td>150</td>\n",
              "      <td>1</td>\n",
              "      <td>1</td>\n",
              "      <td>1950.0</td>\n",
              "    </tr>\n",
              "    <tr>\n",
              "      <th>3</th>\n",
              "      <td>1000</td>\n",
              "      <td>52</td>\n",
              "      <td>Краснодар</td>\n",
              "      <td>ultra</td>\n",
              "      <td>8</td>\n",
              "      <td>14055.93</td>\n",
              "      <td>52.0</td>\n",
              "      <td>408.0</td>\n",
              "      <td>81.0</td>\n",
              "      <td>1000</td>\n",
              "      <td>30720</td>\n",
              "      <td>3000</td>\n",
              "      <td>1950</td>\n",
              "      <td>150</td>\n",
              "      <td>1</td>\n",
              "      <td>1</td>\n",
              "      <td>1950.0</td>\n",
              "    </tr>\n",
              "    <tr>\n",
              "      <th>4</th>\n",
              "      <td>1000</td>\n",
              "      <td>52</td>\n",
              "      <td>Краснодар</td>\n",
              "      <td>ultra</td>\n",
              "      <td>9</td>\n",
              "      <td>14568.91</td>\n",
              "      <td>58.0</td>\n",
              "      <td>466.0</td>\n",
              "      <td>57.0</td>\n",
              "      <td>1000</td>\n",
              "      <td>30720</td>\n",
              "      <td>3000</td>\n",
              "      <td>1950</td>\n",
              "      <td>150</td>\n",
              "      <td>1</td>\n",
              "      <td>1</td>\n",
              "      <td>1950.0</td>\n",
              "    </tr>\n",
              "  </tbody>\n",
              "</table>\n",
              "</div>"
            ],
            "text/plain": [
              "   user_id  age       city tariff  month   mb_used  count_duration  \\\n",
              "0     1000   52  Краснодар  ultra      5   2253.49            22.0   \n",
              "1     1000   52  Краснодар  ultra      6  23233.77            43.0   \n",
              "2     1000   52  Краснодар  ultra      7  14003.64            47.0   \n",
              "3     1000   52  Краснодар  ultra      8  14055.93            52.0   \n",
              "4     1000   52  Краснодар  ultra      9  14568.91            58.0   \n",
              "\n",
              "   sum_duration  count_message  messages_included  mb_per_month_included  \\\n",
              "0         159.0           22.0               1000                  30720   \n",
              "1         172.0           60.0               1000                  30720   \n",
              "2         340.0           75.0               1000                  30720   \n",
              "3         408.0           81.0               1000                  30720   \n",
              "4         466.0           57.0               1000                  30720   \n",
              "\n",
              "   minutes_included  rub_monthly_fee  rub_per_gb  rub_per_message  \\\n",
              "0              3000             1950         150                1   \n",
              "1              3000             1950         150                1   \n",
              "2              3000             1950         150                1   \n",
              "3              3000             1950         150                1   \n",
              "4              3000             1950         150                1   \n",
              "\n",
              "   rub_per_minute  total_bill  \n",
              "0               1      1950.0  \n",
              "1               1      1950.0  \n",
              "2               1      1950.0  \n",
              "3               1      1950.0  \n",
              "4               1      1950.0  "
            ]
          },
          "execution_count": 28,
          "metadata": {},
          "output_type": "execute_result"
        }
      ],
      "source": [
        "def total_bill_monthly(row):\n",
        "    \n",
        "    bill_call = 0\n",
        "    bill_message = 0\n",
        "    bill_internet = 0\n",
        "    calls = row['sum_duration']\n",
        "    message = row['count_message']\n",
        "    internet = row['mb_used']\n",
        "    tariff = row['tariff']\n",
        "    minutes_limit = row['minutes_included']\n",
        "    message_limit = row['messages_included']\n",
        "    internet_limit = row['mb_per_month_included']\n",
        "    monthly_fee = row['rub_monthly_fee']\n",
        "    rub_per_gb = row['rub_per_gb']\n",
        "    rub_per_message = row['rub_per_message']\n",
        "    rub_per_minute = row['rub_per_minute']\n",
        "    \n",
        "    if calls > minutes_limit:\n",
        "        bill_call += (calls- minutes_limit) * rub_per_minute\n",
        "    else:\n",
        "        bill_minutes = 0\n",
        "    if message > message_limit:\n",
        "        bill_message += (message - message_limit) * rub_per_message\n",
        "    else:\n",
        "        bill_message = 0\n",
        "    if internet > internet_limit:\n",
        "        bill_internet += (np.ceil((internet - internet_limit) / 1024)) * rub_per_gb\n",
        "    else:\n",
        "        bill_internet = 0\n",
        "        \n",
        "    return bill_call + bill_message + bill_internet + monthly_fee\n",
        "\n",
        "total_data['total_bill'] = total_data.apply(total_bill_monthly, axis=1)\n",
        "total_data.head()"
      ]
    },
    {
      "cell_type": "markdown",
      "id": "a50e348e",
      "metadata": {
        "id": "a50e348e"
      },
      "source": [
        "# Анализ данных"
      ]
    },
    {
      "cell_type": "markdown",
      "id": "89e46c6f",
      "metadata": {
        "id": "89e46c6f"
      },
      "source": [
        "Посмотрим распределение средних количеств сообщений, интернет-трафика и звонков по месяцам и по тарифам. "
      ]
    },
    {
      "cell_type": "code",
      "execution_count": null,
      "id": "9ec5f8de",
      "metadata": {
        "id": "9ec5f8de",
        "outputId": "aac8b04c-0efb-4ba5-9c69-60d1ee4e6af7"
      },
      "outputs": [
        {
          "data": {
            "text/html": [
              "<div>\n",
              "<style scoped>\n",
              "    .dataframe tbody tr th:only-of-type {\n",
              "        vertical-align: middle;\n",
              "    }\n",
              "\n",
              "    .dataframe tbody tr th {\n",
              "        vertical-align: top;\n",
              "    }\n",
              "\n",
              "    .dataframe thead th {\n",
              "        text-align: right;\n",
              "    }\n",
              "</style>\n",
              "<table border=\"1\" class=\"dataframe\">\n",
              "  <thead>\n",
              "    <tr style=\"text-align: right;\">\n",
              "      <th></th>\n",
              "      <th>tariff</th>\n",
              "      <th>count_message</th>\n",
              "      <th>mb_used</th>\n",
              "      <th>sum_duration</th>\n",
              "      <th>total_bill</th>\n",
              "    </tr>\n",
              "    <tr>\n",
              "      <th>month</th>\n",
              "      <th></th>\n",
              "      <th></th>\n",
              "      <th></th>\n",
              "      <th></th>\n",
              "      <th></th>\n",
              "    </tr>\n",
              "  </thead>\n",
              "  <tbody>\n",
              "    <tr>\n",
              "      <th>1</th>\n",
              "      <td>smart</td>\n",
              "      <td>18.235294</td>\n",
              "      <td>8513.717647</td>\n",
              "      <td>203.852941</td>\n",
              "      <td>721.323529</td>\n",
              "    </tr>\n",
              "    <tr>\n",
              "      <th>2</th>\n",
              "      <td>smart</td>\n",
              "      <td>24.086207</td>\n",
              "      <td>11597.054310</td>\n",
              "      <td>298.689655</td>\n",
              "      <td>827.603448</td>\n",
              "    </tr>\n",
              "    <tr>\n",
              "      <th>3</th>\n",
              "      <td>smart</td>\n",
              "      <td>31.857143</td>\n",
              "      <td>15104.159091</td>\n",
              "      <td>390.051948</td>\n",
              "      <td>1164.623377</td>\n",
              "    </tr>\n",
              "    <tr>\n",
              "      <th>4</th>\n",
              "      <td>smart</td>\n",
              "      <td>30.741071</td>\n",
              "      <td>13462.180625</td>\n",
              "      <td>367.133929</td>\n",
              "      <td>963.089286</td>\n",
              "    </tr>\n",
              "    <tr>\n",
              "      <th>5</th>\n",
              "      <td>smart</td>\n",
              "      <td>33.773050</td>\n",
              "      <td>15805.184326</td>\n",
              "      <td>387.361702</td>\n",
              "      <td>1197.510638</td>\n",
              "    </tr>\n",
              "    <tr>\n",
              "      <th>6</th>\n",
              "      <td>smart</td>\n",
              "      <td>33.402439</td>\n",
              "      <td>15794.647988</td>\n",
              "      <td>395.640244</td>\n",
              "      <td>1204.018293</td>\n",
              "    </tr>\n",
              "    <tr>\n",
              "      <th>7</th>\n",
              "      <td>smart</td>\n",
              "      <td>33.751244</td>\n",
              "      <td>15743.150348</td>\n",
              "      <td>408.353234</td>\n",
              "      <td>1223.950249</td>\n",
              "    </tr>\n",
              "    <tr>\n",
              "      <th>8</th>\n",
              "      <td>smart</td>\n",
              "      <td>33.638298</td>\n",
              "      <td>16610.720085</td>\n",
              "      <td>421.468085</td>\n",
              "      <td>1320.595745</td>\n",
              "    </tr>\n",
              "    <tr>\n",
              "      <th>9</th>\n",
              "      <td>smart</td>\n",
              "      <td>33.638462</td>\n",
              "      <td>16303.578808</td>\n",
              "      <td>428.611538</td>\n",
              "      <td>1249.946154</td>\n",
              "    </tr>\n",
              "    <tr>\n",
              "      <th>10</th>\n",
              "      <td>smart</td>\n",
              "      <td>33.765306</td>\n",
              "      <td>16757.122891</td>\n",
              "      <td>426.136054</td>\n",
              "      <td>1364.853741</td>\n",
              "    </tr>\n",
              "    <tr>\n",
              "      <th>11</th>\n",
              "      <td>smart</td>\n",
              "      <td>34.075949</td>\n",
              "      <td>16895.696646</td>\n",
              "      <td>435.265823</td>\n",
              "      <td>1343.047468</td>\n",
              "    </tr>\n",
              "    <tr>\n",
              "      <th>12</th>\n",
              "      <td>smart</td>\n",
              "      <td>35.994065</td>\n",
              "      <td>18113.662047</td>\n",
              "      <td>478.560831</td>\n",
              "      <td>1578.531157</td>\n",
              "    </tr>\n",
              "    <tr>\n",
              "      <th>1</th>\n",
              "      <td>ultra</td>\n",
              "      <td>33.777778</td>\n",
              "      <td>13140.681111</td>\n",
              "      <td>428.111111</td>\n",
              "      <td>1950.000000</td>\n",
              "    </tr>\n",
              "    <tr>\n",
              "      <th>2</th>\n",
              "      <td>ultra</td>\n",
              "      <td>21.958333</td>\n",
              "      <td>11775.937500</td>\n",
              "      <td>297.125000</td>\n",
              "      <td>1975.000000</td>\n",
              "    </tr>\n",
              "    <tr>\n",
              "      <th>3</th>\n",
              "      <td>ultra</td>\n",
              "      <td>32.297297</td>\n",
              "      <td>17535.550270</td>\n",
              "      <td>489.648649</td>\n",
              "      <td>2014.864865</td>\n",
              "    </tr>\n",
              "    <tr>\n",
              "      <th>4</th>\n",
              "      <td>ultra</td>\n",
              "      <td>31.563636</td>\n",
              "      <td>16828.134364</td>\n",
              "      <td>458.018182</td>\n",
              "      <td>2001.818182</td>\n",
              "    </tr>\n",
              "    <tr>\n",
              "      <th>5</th>\n",
              "      <td>ultra</td>\n",
              "      <td>37.850746</td>\n",
              "      <td>19363.152985</td>\n",
              "      <td>510.328358</td>\n",
              "      <td>2059.701493</td>\n",
              "    </tr>\n",
              "    <tr>\n",
              "      <th>6</th>\n",
              "      <td>ultra</td>\n",
              "      <td>41.726190</td>\n",
              "      <td>18924.939286</td>\n",
              "      <td>479.702381</td>\n",
              "      <td>2039.285714</td>\n",
              "    </tr>\n",
              "    <tr>\n",
              "      <th>7</th>\n",
              "      <td>ultra</td>\n",
              "      <td>49.846154</td>\n",
              "      <td>20495.665165</td>\n",
              "      <td>545.791209</td>\n",
              "      <td>2118.131868</td>\n",
              "    </tr>\n",
              "    <tr>\n",
              "      <th>8</th>\n",
              "      <td>ultra</td>\n",
              "      <td>48.439252</td>\n",
              "      <td>19576.054673</td>\n",
              "      <td>510.775701</td>\n",
              "      <td>2083.177570</td>\n",
              "    </tr>\n",
              "    <tr>\n",
              "      <th>9</th>\n",
              "      <td>ultra</td>\n",
              "      <td>52.286957</td>\n",
              "      <td>19204.277130</td>\n",
              "      <td>539.443478</td>\n",
              "      <td>2024.347826</td>\n",
              "    </tr>\n",
              "    <tr>\n",
              "      <th>10</th>\n",
              "      <td>ultra</td>\n",
              "      <td>58.430894</td>\n",
              "      <td>20045.337317</td>\n",
              "      <td>558.081301</td>\n",
              "      <td>2065.853659</td>\n",
              "    </tr>\n",
              "    <tr>\n",
              "      <th>11</th>\n",
              "      <td>ultra</td>\n",
              "      <td>55.791045</td>\n",
              "      <td>19786.812463</td>\n",
              "      <td>541.380597</td>\n",
              "      <td>2092.164179</td>\n",
              "    </tr>\n",
              "    <tr>\n",
              "      <th>12</th>\n",
              "      <td>ultra</td>\n",
              "      <td>60.611511</td>\n",
              "      <td>21793.172590</td>\n",
              "      <td>592.805755</td>\n",
              "      <td>2138.848921</td>\n",
              "    </tr>\n",
              "  </tbody>\n",
              "</table>\n",
              "</div>"
            ],
            "text/plain": [
              "      tariff  count_message       mb_used  sum_duration   total_bill\n",
              "month                                                               \n",
              "1      smart      18.235294   8513.717647    203.852941   721.323529\n",
              "2      smart      24.086207  11597.054310    298.689655   827.603448\n",
              "3      smart      31.857143  15104.159091    390.051948  1164.623377\n",
              "4      smart      30.741071  13462.180625    367.133929   963.089286\n",
              "5      smart      33.773050  15805.184326    387.361702  1197.510638\n",
              "6      smart      33.402439  15794.647988    395.640244  1204.018293\n",
              "7      smart      33.751244  15743.150348    408.353234  1223.950249\n",
              "8      smart      33.638298  16610.720085    421.468085  1320.595745\n",
              "9      smart      33.638462  16303.578808    428.611538  1249.946154\n",
              "10     smart      33.765306  16757.122891    426.136054  1364.853741\n",
              "11     smart      34.075949  16895.696646    435.265823  1343.047468\n",
              "12     smart      35.994065  18113.662047    478.560831  1578.531157\n",
              "1      ultra      33.777778  13140.681111    428.111111  1950.000000\n",
              "2      ultra      21.958333  11775.937500    297.125000  1975.000000\n",
              "3      ultra      32.297297  17535.550270    489.648649  2014.864865\n",
              "4      ultra      31.563636  16828.134364    458.018182  2001.818182\n",
              "5      ultra      37.850746  19363.152985    510.328358  2059.701493\n",
              "6      ultra      41.726190  18924.939286    479.702381  2039.285714\n",
              "7      ultra      49.846154  20495.665165    545.791209  2118.131868\n",
              "8      ultra      48.439252  19576.054673    510.775701  2083.177570\n",
              "9      ultra      52.286957  19204.277130    539.443478  2024.347826\n",
              "10     ultra      58.430894  20045.337317    558.081301  2065.853659\n",
              "11     ultra      55.791045  19786.812463    541.380597  2092.164179\n",
              "12     ultra      60.611511  21793.172590    592.805755  2138.848921"
            ]
          },
          "metadata": {},
          "output_type": "display_data"
        }
      ],
      "source": [
        "clients_pivot = (total_data\n",
        "                 .pivot_table(index=['tariff', 'month'], \n",
        "                  values=['sum_duration', 'count_message', 'mb_used', 'total_bill'])\n",
        ")\n",
        "\n",
        "clients_pivot = clients_pivot.reset_index(level='tariff')\n",
        "display(clients_pivot)"
      ]
    },
    {
      "cell_type": "markdown",
      "id": "a1e3f0f2",
      "metadata": {
        "id": "a1e3f0f2"
      },
      "source": [
        "Если проанализировать значения по месяцам, то мы видим, что средние значения растут месяц к месяцу. С чем это может быть связано?"
      ]
    },
    {
      "cell_type": "markdown",
      "id": "dbfec385",
      "metadata": {
        "id": "dbfec385"
      },
      "source": [
        "Мое предположение, что количество пользователей каждый месяц увеличивается. Проверим это предположение."
      ]
    },
    {
      "cell_type": "code",
      "execution_count": null,
      "id": "b98bd78f",
      "metadata": {
        "id": "b98bd78f",
        "outputId": "620f0708-9317-454d-b944-b09246922562"
      },
      "outputs": [
        {
          "data": {
            "text/html": [
              "<div>\n",
              "<style scoped>\n",
              "    .dataframe tbody tr th:only-of-type {\n",
              "        vertical-align: middle;\n",
              "    }\n",
              "\n",
              "    .dataframe tbody tr th {\n",
              "        vertical-align: top;\n",
              "    }\n",
              "\n",
              "    .dataframe thead th {\n",
              "        text-align: right;\n",
              "    }\n",
              "</style>\n",
              "<table border=\"1\" class=\"dataframe\">\n",
              "  <thead>\n",
              "    <tr style=\"text-align: right;\">\n",
              "      <th></th>\n",
              "      <th></th>\n",
              "      <th>user_id</th>\n",
              "    </tr>\n",
              "    <tr>\n",
              "      <th>tariff</th>\n",
              "      <th>month</th>\n",
              "      <th></th>\n",
              "    </tr>\n",
              "  </thead>\n",
              "  <tbody>\n",
              "    <tr>\n",
              "      <th rowspan=\"12\" valign=\"top\">smart</th>\n",
              "      <th>1</th>\n",
              "      <td>34</td>\n",
              "    </tr>\n",
              "    <tr>\n",
              "      <th>2</th>\n",
              "      <td>58</td>\n",
              "    </tr>\n",
              "    <tr>\n",
              "      <th>3</th>\n",
              "      <td>77</td>\n",
              "    </tr>\n",
              "    <tr>\n",
              "      <th>4</th>\n",
              "      <td>112</td>\n",
              "    </tr>\n",
              "    <tr>\n",
              "      <th>5</th>\n",
              "      <td>141</td>\n",
              "    </tr>\n",
              "    <tr>\n",
              "      <th>6</th>\n",
              "      <td>164</td>\n",
              "    </tr>\n",
              "    <tr>\n",
              "      <th>7</th>\n",
              "      <td>201</td>\n",
              "    </tr>\n",
              "    <tr>\n",
              "      <th>8</th>\n",
              "      <td>235</td>\n",
              "    </tr>\n",
              "    <tr>\n",
              "      <th>9</th>\n",
              "      <td>260</td>\n",
              "    </tr>\n",
              "    <tr>\n",
              "      <th>10</th>\n",
              "      <td>294</td>\n",
              "    </tr>\n",
              "    <tr>\n",
              "      <th>11</th>\n",
              "      <td>316</td>\n",
              "    </tr>\n",
              "    <tr>\n",
              "      <th>12</th>\n",
              "      <td>337</td>\n",
              "    </tr>\n",
              "    <tr>\n",
              "      <th rowspan=\"12\" valign=\"top\">ultra</th>\n",
              "      <th>1</th>\n",
              "      <td>9</td>\n",
              "    </tr>\n",
              "    <tr>\n",
              "      <th>2</th>\n",
              "      <td>24</td>\n",
              "    </tr>\n",
              "    <tr>\n",
              "      <th>3</th>\n",
              "      <td>37</td>\n",
              "    </tr>\n",
              "    <tr>\n",
              "      <th>4</th>\n",
              "      <td>55</td>\n",
              "    </tr>\n",
              "    <tr>\n",
              "      <th>5</th>\n",
              "      <td>67</td>\n",
              "    </tr>\n",
              "    <tr>\n",
              "      <th>6</th>\n",
              "      <td>84</td>\n",
              "    </tr>\n",
              "    <tr>\n",
              "      <th>7</th>\n",
              "      <td>91</td>\n",
              "    </tr>\n",
              "    <tr>\n",
              "      <th>8</th>\n",
              "      <td>107</td>\n",
              "    </tr>\n",
              "    <tr>\n",
              "      <th>9</th>\n",
              "      <td>115</td>\n",
              "    </tr>\n",
              "    <tr>\n",
              "      <th>10</th>\n",
              "      <td>123</td>\n",
              "    </tr>\n",
              "    <tr>\n",
              "      <th>11</th>\n",
              "      <td>134</td>\n",
              "    </tr>\n",
              "    <tr>\n",
              "      <th>12</th>\n",
              "      <td>139</td>\n",
              "    </tr>\n",
              "  </tbody>\n",
              "</table>\n",
              "</div>"
            ],
            "text/plain": [
              "              user_id\n",
              "tariff month         \n",
              "smart  1           34\n",
              "       2           58\n",
              "       3           77\n",
              "       4          112\n",
              "       5          141\n",
              "       6          164\n",
              "       7          201\n",
              "       8          235\n",
              "       9          260\n",
              "       10         294\n",
              "       11         316\n",
              "       12         337\n",
              "ultra  1            9\n",
              "       2           24\n",
              "       3           37\n",
              "       4           55\n",
              "       5           67\n",
              "       6           84\n",
              "       7           91\n",
              "       8          107\n",
              "       9          115\n",
              "       10         123\n",
              "       11         134\n",
              "       12         139"
            ]
          },
          "execution_count": 30,
          "metadata": {},
          "output_type": "execute_result"
        }
      ],
      "source": [
        "clients_count_per_month = total_data.pivot_table(index=['tariff', 'month'], values=['user_id'], aggfunc='count')\n",
        "clients_count_per_month"
      ]
    },
    {
      "cell_type": "markdown",
      "id": "aeba93ed",
      "metadata": {
        "id": "aeba93ed"
      },
      "source": [
        "Действительно, количество пользователей растет каждый месяц. Хотя, это и логично. Было бы странно, если бы количество клиентов не росло. В идеале можно посчитать скорость прироста клиентов каждый месяц в каждом тарифе. Или если бы у нас были данных по рекламным кампания, то мы могли бы проанализировать во сколько обходится клиент на каждом тарифе."
      ]
    },
    {
      "cell_type": "markdown",
      "id": "4325056c",
      "metadata": {
        "id": "4325056c"
      },
      "source": [
        "Посчитаем среднее, дисперсию и стандартное отклонение по количеству звонков, SMS, интернет-трафику и выручке по каждому тарифу за весь анализируемый период."
      ]
    },
    {
      "cell_type": "code",
      "execution_count": null,
      "id": "d44e80ad",
      "metadata": {
        "id": "d44e80ad",
        "outputId": "38e134a9-0207-47b9-b9cc-d05717297bd4"
      },
      "outputs": [
        {
          "data": {
            "text/html": [
              "<div>\n",
              "<style scoped>\n",
              "    .dataframe tbody tr th:only-of-type {\n",
              "        vertical-align: middle;\n",
              "    }\n",
              "\n",
              "    .dataframe tbody tr th {\n",
              "        vertical-align: top;\n",
              "    }\n",
              "\n",
              "    .dataframe thead tr th {\n",
              "        text-align: left;\n",
              "    }\n",
              "\n",
              "    .dataframe thead tr:last-of-type th {\n",
              "        text-align: right;\n",
              "    }\n",
              "</style>\n",
              "<table border=\"1\" class=\"dataframe\">\n",
              "  <thead>\n",
              "    <tr>\n",
              "      <th></th>\n",
              "      <th>mean</th>\n",
              "      <th>var</th>\n",
              "      <th>std</th>\n",
              "    </tr>\n",
              "    <tr>\n",
              "      <th></th>\n",
              "      <th>sum_duration</th>\n",
              "      <th>sum_duration</th>\n",
              "      <th>sum_duration</th>\n",
              "    </tr>\n",
              "    <tr>\n",
              "      <th>tariff</th>\n",
              "      <th></th>\n",
              "      <th></th>\n",
              "      <th></th>\n",
              "    </tr>\n",
              "  </thead>\n",
              "  <tbody>\n",
              "    <tr>\n",
              "      <th>smart</th>\n",
              "      <td>417.934948</td>\n",
              "      <td>36219.315784</td>\n",
              "      <td>190.313730</td>\n",
              "    </tr>\n",
              "    <tr>\n",
              "      <th>ultra</th>\n",
              "      <td>526.623350</td>\n",
              "      <td>100873.633397</td>\n",
              "      <td>317.606098</td>\n",
              "    </tr>\n",
              "  </tbody>\n",
              "</table>\n",
              "</div>"
            ],
            "text/plain": [
              "               mean            var          std\n",
              "       sum_duration   sum_duration sum_duration\n",
              "tariff                                         \n",
              "smart    417.934948   36219.315784   190.313730\n",
              "ultra    526.623350  100873.633397   317.606098"
            ]
          },
          "metadata": {},
          "output_type": "display_data"
        },
        {
          "data": {
            "text/html": [
              "<div>\n",
              "<style scoped>\n",
              "    .dataframe tbody tr th:only-of-type {\n",
              "        vertical-align: middle;\n",
              "    }\n",
              "\n",
              "    .dataframe tbody tr th {\n",
              "        vertical-align: top;\n",
              "    }\n",
              "\n",
              "    .dataframe thead tr th {\n",
              "        text-align: left;\n",
              "    }\n",
              "\n",
              "    .dataframe thead tr:last-of-type th {\n",
              "        text-align: right;\n",
              "    }\n",
              "</style>\n",
              "<table border=\"1\" class=\"dataframe\">\n",
              "  <thead>\n",
              "    <tr>\n",
              "      <th></th>\n",
              "      <th>mean</th>\n",
              "      <th>var</th>\n",
              "      <th>std</th>\n",
              "    </tr>\n",
              "    <tr>\n",
              "      <th></th>\n",
              "      <th>count_message</th>\n",
              "      <th>count_message</th>\n",
              "      <th>count_message</th>\n",
              "    </tr>\n",
              "    <tr>\n",
              "      <th>tariff</th>\n",
              "      <th></th>\n",
              "      <th></th>\n",
              "      <th></th>\n",
              "    </tr>\n",
              "  </thead>\n",
              "  <tbody>\n",
              "    <tr>\n",
              "      <th>smart</th>\n",
              "      <td>33.384029</td>\n",
              "      <td>796.812958</td>\n",
              "      <td>28.227876</td>\n",
              "    </tr>\n",
              "    <tr>\n",
              "      <th>ultra</th>\n",
              "      <td>49.363452</td>\n",
              "      <td>2285.266143</td>\n",
              "      <td>47.804457</td>\n",
              "    </tr>\n",
              "  </tbody>\n",
              "</table>\n",
              "</div>"
            ],
            "text/plain": [
              "                mean           var           std\n",
              "       count_message count_message count_message\n",
              "tariff                                          \n",
              "smart      33.384029    796.812958     28.227876\n",
              "ultra      49.363452   2285.266143     47.804457"
            ]
          },
          "metadata": {},
          "output_type": "display_data"
        },
        {
          "data": {
            "text/html": [
              "<div>\n",
              "<style scoped>\n",
              "    .dataframe tbody tr th:only-of-type {\n",
              "        vertical-align: middle;\n",
              "    }\n",
              "\n",
              "    .dataframe tbody tr th {\n",
              "        vertical-align: top;\n",
              "    }\n",
              "\n",
              "    .dataframe thead tr th {\n",
              "        text-align: left;\n",
              "    }\n",
              "\n",
              "    .dataframe thead tr:last-of-type th {\n",
              "        text-align: right;\n",
              "    }\n",
              "</style>\n",
              "<table border=\"1\" class=\"dataframe\">\n",
              "  <thead>\n",
              "    <tr>\n",
              "      <th></th>\n",
              "      <th>mean</th>\n",
              "      <th>var</th>\n",
              "      <th>std</th>\n",
              "    </tr>\n",
              "    <tr>\n",
              "      <th></th>\n",
              "      <th>mb_used</th>\n",
              "      <th>mb_used</th>\n",
              "      <th>mb_used</th>\n",
              "    </tr>\n",
              "    <tr>\n",
              "      <th>tariff</th>\n",
              "      <th></th>\n",
              "      <th></th>\n",
              "      <th></th>\n",
              "    </tr>\n",
              "  </thead>\n",
              "  <tbody>\n",
              "    <tr>\n",
              "      <th>smart</th>\n",
              "      <td>16208.386990</td>\n",
              "      <td>3.446250e+07</td>\n",
              "      <td>5870.476681</td>\n",
              "    </tr>\n",
              "    <tr>\n",
              "      <th>ultra</th>\n",
              "      <td>19468.805208</td>\n",
              "      <td>1.017510e+08</td>\n",
              "      <td>10087.170752</td>\n",
              "    </tr>\n",
              "  </tbody>\n",
              "</table>\n",
              "</div>"
            ],
            "text/plain": [
              "                mean           var           std\n",
              "             mb_used       mb_used       mb_used\n",
              "tariff                                          \n",
              "smart   16208.386990  3.446250e+07   5870.476681\n",
              "ultra   19468.805208  1.017510e+08  10087.170752"
            ]
          },
          "metadata": {},
          "output_type": "display_data"
        },
        {
          "data": {
            "text/html": [
              "<div>\n",
              "<style scoped>\n",
              "    .dataframe tbody tr th:only-of-type {\n",
              "        vertical-align: middle;\n",
              "    }\n",
              "\n",
              "    .dataframe tbody tr th {\n",
              "        vertical-align: top;\n",
              "    }\n",
              "\n",
              "    .dataframe thead tr th {\n",
              "        text-align: left;\n",
              "    }\n",
              "\n",
              "    .dataframe thead tr:last-of-type th {\n",
              "        text-align: right;\n",
              "    }\n",
              "</style>\n",
              "<table border=\"1\" class=\"dataframe\">\n",
              "  <thead>\n",
              "    <tr>\n",
              "      <th></th>\n",
              "      <th>mean</th>\n",
              "      <th>var</th>\n",
              "      <th>std</th>\n",
              "    </tr>\n",
              "    <tr>\n",
              "      <th></th>\n",
              "      <th>total_bill</th>\n",
              "      <th>total_bill</th>\n",
              "      <th>total_bill</th>\n",
              "    </tr>\n",
              "    <tr>\n",
              "      <th>tariff</th>\n",
              "      <th></th>\n",
              "      <th></th>\n",
              "      <th></th>\n",
              "    </tr>\n",
              "  </thead>\n",
              "  <tbody>\n",
              "    <tr>\n",
              "      <th>smart</th>\n",
              "      <td>1289.973531</td>\n",
              "      <td>669785.708006</td>\n",
              "      <td>818.404367</td>\n",
              "    </tr>\n",
              "    <tr>\n",
              "      <th>ultra</th>\n",
              "      <td>2070.152284</td>\n",
              "      <td>141516.745079</td>\n",
              "      <td>376.187114</td>\n",
              "    </tr>\n",
              "  </tbody>\n",
              "</table>\n",
              "</div>"
            ],
            "text/plain": [
              "               mean            var         std\n",
              "         total_bill     total_bill  total_bill\n",
              "tariff                                        \n",
              "smart   1289.973531  669785.708006  818.404367\n",
              "ultra   2070.152284  141516.745079  376.187114"
            ]
          },
          "metadata": {},
          "output_type": "display_data"
        }
      ],
      "source": [
        "#среднее, дисперсия и стандартное отклонение по звонкам в тарифах \"Смарт\" и \"Ультра\"\n",
        "display(total_data\n",
        "        .pivot_table(index=['tariff'], \n",
        "         values='sum_duration',\n",
        "         aggfunc=['mean', 'var', 'std'])\n",
        ")\n",
        "\n",
        "#среднее, дисперсия и стандартное отклонение по SMS в тарифах \"Смарт\" и \"Ультра\"\n",
        "display(total_data\n",
        "        .pivot_table(index=['tariff'], \n",
        "         values='count_message',\n",
        "         aggfunc=['mean', 'var', 'std'])\n",
        ")\n",
        "\n",
        "#среднее, дисперсия и стандартное отклонение по интернет трафику в тарифах \"Смарт\" и \"Ультра\"\n",
        "display(total_data\n",
        "        .pivot_table(index=['tariff'], \n",
        "         values='mb_used',\n",
        "         aggfunc=['mean', 'var', 'std'])\n",
        ")\n",
        "\n",
        "#среднее, дисперсия и стандартное отклонение по прибыли за месяц в тарифах \"Смарт\" и \"Ультра\"\n",
        "display(total_data\n",
        "        .pivot_table(index=['tariff'], \n",
        "         values='total_bill',\n",
        "         aggfunc=['mean', 'var', 'std'])\n",
        ")"
      ]
    },
    {
      "cell_type": "markdown",
      "id": "41a0fb58",
      "metadata": {
        "id": "41a0fb58"
      },
      "source": [
        "По данным мы видим, что пользователи тарифа \"Ультра\" в среднем больше приносят прибыли, а также большем объеме используют все услуги компании. Т.е. в перерасчете на 1 пользователя тариф \"Ультра\" выгоднее, но стоит проанализировать общий объем пользователей в каждом тарифе и их суммарную прибыль. Этим мы займемся позже."
      ]
    },
    {
      "cell_type": "markdown",
      "id": "80940178",
      "metadata": {
        "id": "80940178"
      },
      "source": [
        "Из данных мы видим, что стандартное отклонение и дисперсия в тарифе \"Ультра\" больше, чем в \"Смарт\" во всех случаях, кроме выручки от каждого пользователя. Это говорит нам о том, что значения в тарифе \"Ультра\" распределены в более широком диапазоне. А вот в прибыли от пользователей ситуация противоположная, в тарифе \"Ультра\" разброс прибыли не такой значительный, как в \"Смарт\""
      ]
    },
    {
      "cell_type": "markdown",
      "id": "de8d8241",
      "metadata": {
        "id": "de8d8241"
      },
      "source": [
        "Посмотрим распределение данных об использовании услуг тарифных пакетов и выручки с каждого пользователя на графиках. "
      ]
    },
    {
      "cell_type": "code",
      "execution_count": null,
      "id": "2b987e5d",
      "metadata": {
        "id": "2b987e5d",
        "outputId": "802fec28-4fb7-45f7-c82b-316ce819bfa9"
      },
      "outputs": [
        {
          "data": {
            "image/png": "[encoded data removed]",
            "text/plain": [
              "<Figure size 720x360 with 2 Axes>"
            ]
          },
          "metadata": {
            "needs_background": "light"
          },
          "output_type": "display_data"
        },
        {
          "data": {
            "image/png": "[encoded data removed]",
            "text/plain": [
              "<Figure size 720x360 with 2 Axes>"
            ]
          },
          "metadata": {
            "needs_background": "light"
          },
          "output_type": "display_data"
        },
        {
          "data": {
            "image/png": "[encoded data removed]",
            "text/plain": [
              "<Figure size 720x360 with 2 Axes>"
            ]
          },
          "metadata": {
            "needs_background": "light"
          },
          "output_type": "display_data"
        },
        {
          "data": {
            "image/png": "[encoded data removed]",
            "text/plain": [
              "<Figure size 720x360 with 2 Axes>"
            ]
          },
          "metadata": {
            "needs_background": "light"
          },
          "output_type": "display_data"
        }
      ],
      "source": [
        "graph=['total_bill', 'sum_duration', 'count_message',  'mb_used']\n",
        "\n",
        "for y in graph:\n",
        "    fig, (ax1, ax2) = plt.subplots(1, 2, figsize=(10, 5))\n",
        "    total_data[['tariff', y]].boxplot(by='tariff', ax=ax1)\n",
        "    total_data.query('tariff == \"smart\"')[y].hist(bins=15, ax=ax2, alpha=.7, label='smart', density=1)\n",
        "    total_data.query('tariff == \"ultra\"')[y].hist(bins=15, ax=ax2, color='Red', alpha=.7, label='ultra', density=1)\n",
        "    ax2.legend(prop={'size': 10})\n",
        "    fig.suptitle(y)"
      ]
    },
    {
      "cell_type": "markdown",
      "id": "13f318b1",
      "metadata": {
        "id": "13f318b1"
      },
      "source": [
        "- Как и говорилось выше, разброс значений в тарифе \"Ультра\" намного шире, чем в \"Смарт\" (исключение составляет выручка от пользователя). Распределение данных в тарифе \"Смарт\" намного уже, возможно это связано просто с ограничениями самого тарифного пакета. <br/>\n",
        "\n",
        "- Графики по распределению объема отправленных клиентами SMS больше всего отличается от нормального распределения. Большинство клиентов в обоих тарифах отправляют небольшое количество сообщений. В мире мессенжеров это вполне предсказуемо.\n",
        "\n",
        "- График по выручке прекрасно иллюстрирует, что большинство клиентов тарифе \"Ультра\" платят только за стоимость пакета и практически не доплачивают за доп.услуги. В тарифе \"Смарт\" разброс выручки намного больше, многие клиенты доплачивают за доп.услуги."
      ]
    },
    {
      "cell_type": "markdown",
      "id": "1fb80623",
      "metadata": {
        "id": "1fb80623"
      },
      "source": [
        "На тарифе \"Ультра\" почти все пользователи платят только абонентскую плату. Единицы из них доходит до порога по минутам или СМС. Есть категория пользователей, которым нужно больше 30Гб в месяц.\n",
        "На тарифе \"Смарт\" только половине пользователей хватает пакета минут в месяц. Четверти не хватает пакета SMS. И больше половины пользователей докупает интернет."
      ]
    },
    {
      "cell_type": "markdown",
      "id": "f4e14505",
      "metadata": {
        "id": "f4e14505"
      },
      "source": [
        "# Проверка гипотез"
      ]
    },
    {
      "cell_type": "markdown",
      "id": "b288597b",
      "metadata": {
        "id": "b288597b"
      },
      "source": [
        "## Проверка первой гипотезы. "
      ]
    },
    {
      "cell_type": "markdown",
      "id": "5fa15363",
      "metadata": {
        "id": "5fa15363"
      },
      "source": [
        "В качестве нулевой гипотезы возьмем: <b>\"Cредняя выручка пользователей тарифов «Ультра» и «Смарт» равны\"</b>.<br/>\n",
        "В качестве альтернативной гипотезы возьмем: <b>\"Cредняя выручка пользователей тарифов «Ультра» и «Смарт» не равны\"</b>.\n",
        "\n",
        "Для этого воспользуемся методом проверки гипотезы о равенстве двух генеральных совокупностей по взятым из них выборкам. Если пороговое значение окажется меньше 0.05, будем считать что гипотеза подтвердилась."
      ]
    },
    {
      "cell_type": "markdown",
      "id": "10b1d64f",
      "metadata": {
        "id": "10b1d64f"
      },
      "source": [
        "Проверяем нашу гипотезу."
      ]
    },
    {
      "cell_type": "code",
      "execution_count": null,
      "id": "ab759e2c",
      "metadata": {
        "scrolled": true,
        "id": "ab759e2c",
        "outputId": "a66b6332-4ff1-4801-9852-41da1289326d"
      },
      "outputs": [
        {
          "name": "stdout",
          "output_type": "stream",
          "text": [
            "p-значение: 1.4229814360764067e-160\n",
            "Отвергаем нулевую гипотезу\n"
          ]
        }
      ],
      "source": [
        "alpha = .05\n",
        "results = st.ttest_ind(\n",
        "    total_data.query('tariff == \"smart\"')['total_bill'], \n",
        "    total_data.query('tariff == \"ultra\"')['total_bill'])\n",
        "\n",
        "print('p-значение:', results.pvalue)\n",
        "\n",
        "if (results.pvalue < alpha):\n",
        "    print(\"Отвергаем нулевую гипотезу\")\n",
        "else:\n",
        "    print(\"Не получилось отвергнуть нулевую гипотезу\")"
      ]
    },
    {
      "cell_type": "markdown",
      "id": "de493dce",
      "metadata": {
        "id": "de493dce"
      },
      "source": [
        "p-значение очень маленькое, мы отвергаем нашу гипотезу. Средняя выручка с тарифов отличается."
      ]
    },
    {
      "cell_type": "markdown",
      "id": "c9da4406",
      "metadata": {
        "id": "c9da4406"
      },
      "source": [
        "## Проверка второй гипотезы."
      ]
    },
    {
      "cell_type": "markdown",
      "id": "f3de4a3b",
      "metadata": {
        "id": "f3de4a3b"
      },
      "source": [
        "В качестве нулевой гипотезы возьмем: <b>\"Cредняя выручка пользователей из Москвы равна средней выручке из других регионов</b>.<br/>\n",
        "В качестве альтернативной гипотезы возьмем:<b>\"Cредняя выручка пользователей из Москвы не равна средней выручке из других регионов</b>.\n",
        "\n",
        "Проверим гипотезу по каждому тарифу отдельно."
      ]
    },
    {
      "cell_type": "code",
      "execution_count": null,
      "id": "e8c79205",
      "metadata": {
        "id": "e8c79205"
      },
      "outputs": [],
      "source": [
        "total_data['is_moscow'] = np.where(total_data['city'] == 'Москва', True, False)"
      ]
    },
    {
      "cell_type": "markdown",
      "id": "c8d8c5d5",
      "metadata": {
        "id": "c8d8c5d5"
      },
      "source": [
        "Проверяем тариф \"Смарт\"."
      ]
    },
    {
      "cell_type": "code",
      "execution_count": null,
      "id": "90bb3720",
      "metadata": {
        "id": "90bb3720",
        "outputId": "3188748e-b419-4adc-ef7e-3982e15dbb35"
      },
      "outputs": [
        {
          "name": "stdout",
          "output_type": "stream",
          "text": [
            "p-значение: 0.18150864159228705\n",
            "Не получилось отвергнуть нулевую гипотезу\n"
          ]
        }
      ],
      "source": [
        "alpha = .05\n",
        "results = st.ttest_ind(\n",
        "    total_data.query('tariff == \"smart\" and is_moscow == True')['total_bill'], \n",
        "    total_data.query('tariff == \"smart\" and is_moscow == False')['total_bill'])\n",
        "\n",
        "print('p-значение:', results.pvalue)\n",
        "\n",
        "if (results.pvalue < alpha):\n",
        "    print(\"Отвергаем нулевую гипотезу\")\n",
        "else:\n",
        "    print(\"Не получилось отвергнуть нулевую гипотезу\")"
      ]
    },
    {
      "cell_type": "markdown",
      "id": "6d5b90a2",
      "metadata": {
        "id": "6d5b90a2"
      },
      "source": [
        "Проверим тариф \"Ультра\""
      ]
    },
    {
      "cell_type": "code",
      "execution_count": null,
      "id": "19d5e406",
      "metadata": {
        "id": "19d5e406",
        "outputId": "e49f5b7d-1202-4071-ce95-7289b128a20a"
      },
      "outputs": [
        {
          "name": "stdout",
          "output_type": "stream",
          "text": [
            "p-значение: 0.8614477943640767\n",
            "Не получилось отвергнуть нулевую гипотезу\n"
          ]
        }
      ],
      "source": [
        "alpha = .05\n",
        "results = st.ttest_ind(\n",
        "    total_data.query('tariff == \"ultra\" and is_moscow == True')['total_bill'], \n",
        "    total_data.query('tariff == \"ultra\" and is_moscow == False')['total_bill'])\n",
        "\n",
        "print('p-значение:', results.pvalue)\n",
        "\n",
        "if (results.pvalue < alpha):\n",
        "    print(\"Отвергаем нулевую гипотезу\")\n",
        "else:\n",
        "    print(\"Не получилось отвергнуть нулевую гипотезу\")"
      ]
    },
    {
      "cell_type": "markdown",
      "id": "9220d05c",
      "metadata": {
        "id": "9220d05c"
      },
      "source": [
        "По обоим тарифам не получилось отвергнуть нулевую гипотезу. Значит выручка от пользователей из Москвы и регионов на одних и тех же тарифах практически не отличается.\n",
        "Проверим также нашу гипотезу на всей выборке, без деления на тарифы."
      ]
    },
    {
      "cell_type": "code",
      "execution_count": null,
      "id": "e7555ed4",
      "metadata": {
        "id": "e7555ed4",
        "outputId": "e6d6785b-b121-40b6-d877-8f171173d573"
      },
      "outputs": [
        {
          "name": "stdout",
          "output_type": "stream",
          "text": [
            "p-значение: 0.5440152911670224\n",
            "Не получилось отвергнуть нулевую гипотезу\n"
          ]
        }
      ],
      "source": [
        "alpha = .05\n",
        "results = st.ttest_ind(\n",
        "    total_data.query('is_moscow == True')['total_bill'], \n",
        "    total_data.query('is_moscow == False')['total_bill'])\n",
        "\n",
        "print('p-значение:', results.pvalue)\n",
        "\n",
        "if (results.pvalue < alpha):\n",
        "    print(\"Отвергаем нулевую гипотезу\")\n",
        "else:\n",
        "    print(\"Не получилось отвергнуть нулевую гипотезу\")"
      ]
    },
    {
      "cell_type": "markdown",
      "id": "edc18516",
      "metadata": {
        "id": "edc18516"
      },
      "source": [
        "Даже если мы не делим Москву и регионы по тарифу, все равно прибыль от пользователей отличается незначительно."
      ]
    },
    {
      "cell_type": "markdown",
      "id": "3c91ae4d",
      "metadata": {
        "id": "3c91ae4d"
      },
      "source": [
        "# Расчеты для выводов:"
      ]
    },
    {
      "cell_type": "markdown",
      "id": "de5aafbd",
      "metadata": {
        "id": "de5aafbd"
      },
      "source": [
        "Перед тем как делать окончательные выводы и оформлять рекомендации, нам нужно вернуться к вопросу вклада общего количества пользователей в каждый тариф, а следовательно и в выручку от всего тарифа. <br/>\n",
        "Будем считать, что выборка, которую мы анализируем является репрезентативной и соотношение пользователей двух тарифов такая же как и во всей базе. "
      ]
    },
    {
      "cell_type": "code",
      "execution_count": null,
      "id": "247b4503",
      "metadata": {
        "id": "247b4503",
        "outputId": "d420d045-5a4e-40ed-826a-b360661bc1b7"
      },
      "outputs": [
        {
          "data": {
            "text/plain": [
              "smart    351\n",
              "ultra    149\n",
              "Name: tariff, dtype: int64"
            ]
          },
          "execution_count": 38,
          "metadata": {},
          "output_type": "execute_result"
        }
      ],
      "source": [
        "df_users['tariff'].value_counts()"
      ]
    },
    {
      "cell_type": "code",
      "execution_count": null,
      "id": "95d0867c",
      "metadata": {
        "id": "95d0867c",
        "outputId": "0533b101-c1d6-466f-cf7e-12c6d81f303d"
      },
      "outputs": [
        {
          "data": {
            "text/plain": [
              "count    2229.000000\n",
              "mean     1289.973531\n",
              "std       818.404367\n",
              "min       550.000000\n",
              "25%       550.000000\n",
              "50%      1023.000000\n",
              "75%      1750.000000\n",
              "max      6770.000000\n",
              "Name: total_bill, dtype: float64"
            ]
          },
          "execution_count": 39,
          "metadata": {},
          "output_type": "execute_result"
        }
      ],
      "source": [
        "total_data.query('tariff == \"smart\"')['total_bill'].describe()"
      ]
    },
    {
      "cell_type": "code",
      "execution_count": null,
      "id": "bca14b2e",
      "metadata": {
        "id": "bca14b2e",
        "outputId": "d01f77dd-0779-4966-a1f7-3644381efcad"
      },
      "outputs": [
        {
          "data": {
            "text/plain": [
              "count     985.000000\n",
              "mean     2070.152284\n",
              "std       376.187114\n",
              "min      1950.000000\n",
              "25%      1950.000000\n",
              "50%      1950.000000\n",
              "75%      1950.000000\n",
              "max      4800.000000\n",
              "Name: total_bill, dtype: float64"
            ]
          },
          "execution_count": 40,
          "metadata": {},
          "output_type": "execute_result"
        }
      ],
      "source": [
        "total_data.query('tariff == \"ultra\"')['total_bill'].describe()"
      ]
    },
    {
      "cell_type": "markdown",
      "id": "31a39f3a",
      "metadata": {
        "id": "31a39f3a"
      },
      "source": [
        "Мы видим, что общее количество пользователей в тарифе \"Смарт\" в 2 раза больше, чем в \"Ультра\". И не смотря на то, что средняя выручка от каждого пользователя в \"Ультра\" больше, суммарная выручка от всего тарифа больше в \"Смарт\"."
      ]
    },
    {
      "cell_type": "code",
      "execution_count": null,
      "id": "a91e59a4",
      "metadata": {
        "id": "a91e59a4",
        "outputId": "5d8b26cd-5f6c-497e-deab-ba961cf5a48f"
      },
      "outputs": [
        {
          "data": {
            "text/html": [
              "<div>\n",
              "<style scoped>\n",
              "    .dataframe tbody tr th:only-of-type {\n",
              "        vertical-align: middle;\n",
              "    }\n",
              "\n",
              "    .dataframe tbody tr th {\n",
              "        vertical-align: top;\n",
              "    }\n",
              "\n",
              "    .dataframe thead th {\n",
              "        text-align: right;\n",
              "    }\n",
              "</style>\n",
              "<table border=\"1\" class=\"dataframe\">\n",
              "  <thead>\n",
              "    <tr style=\"text-align: right;\">\n",
              "      <th></th>\n",
              "      <th>tariff</th>\n",
              "      <th>month</th>\n",
              "      <th>total_bill</th>\n",
              "    </tr>\n",
              "  </thead>\n",
              "  <tbody>\n",
              "    <tr>\n",
              "      <th>0</th>\n",
              "      <td>smart</td>\n",
              "      <td>1</td>\n",
              "      <td>24525.0</td>\n",
              "    </tr>\n",
              "    <tr>\n",
              "      <th>1</th>\n",
              "      <td>smart</td>\n",
              "      <td>2</td>\n",
              "      <td>48001.0</td>\n",
              "    </tr>\n",
              "    <tr>\n",
              "      <th>2</th>\n",
              "      <td>smart</td>\n",
              "      <td>3</td>\n",
              "      <td>89676.0</td>\n",
              "    </tr>\n",
              "    <tr>\n",
              "      <th>3</th>\n",
              "      <td>smart</td>\n",
              "      <td>4</td>\n",
              "      <td>107866.0</td>\n",
              "    </tr>\n",
              "    <tr>\n",
              "      <th>4</th>\n",
              "      <td>smart</td>\n",
              "      <td>5</td>\n",
              "      <td>168849.0</td>\n",
              "    </tr>\n",
              "    <tr>\n",
              "      <th>5</th>\n",
              "      <td>smart</td>\n",
              "      <td>6</td>\n",
              "      <td>197459.0</td>\n",
              "    </tr>\n",
              "    <tr>\n",
              "      <th>6</th>\n",
              "      <td>smart</td>\n",
              "      <td>7</td>\n",
              "      <td>246014.0</td>\n",
              "    </tr>\n",
              "    <tr>\n",
              "      <th>7</th>\n",
              "      <td>smart</td>\n",
              "      <td>8</td>\n",
              "      <td>310340.0</td>\n",
              "    </tr>\n",
              "    <tr>\n",
              "      <th>8</th>\n",
              "      <td>smart</td>\n",
              "      <td>9</td>\n",
              "      <td>324986.0</td>\n",
              "    </tr>\n",
              "    <tr>\n",
              "      <th>9</th>\n",
              "      <td>smart</td>\n",
              "      <td>10</td>\n",
              "      <td>401267.0</td>\n",
              "    </tr>\n",
              "    <tr>\n",
              "      <th>10</th>\n",
              "      <td>smart</td>\n",
              "      <td>11</td>\n",
              "      <td>424403.0</td>\n",
              "    </tr>\n",
              "    <tr>\n",
              "      <th>11</th>\n",
              "      <td>smart</td>\n",
              "      <td>12</td>\n",
              "      <td>531965.0</td>\n",
              "    </tr>\n",
              "    <tr>\n",
              "      <th>12</th>\n",
              "      <td>ultra</td>\n",
              "      <td>1</td>\n",
              "      <td>17550.0</td>\n",
              "    </tr>\n",
              "    <tr>\n",
              "      <th>13</th>\n",
              "      <td>ultra</td>\n",
              "      <td>2</td>\n",
              "      <td>47400.0</td>\n",
              "    </tr>\n",
              "    <tr>\n",
              "      <th>14</th>\n",
              "      <td>ultra</td>\n",
              "      <td>3</td>\n",
              "      <td>74550.0</td>\n",
              "    </tr>\n",
              "    <tr>\n",
              "      <th>15</th>\n",
              "      <td>ultra</td>\n",
              "      <td>4</td>\n",
              "      <td>110100.0</td>\n",
              "    </tr>\n",
              "    <tr>\n",
              "      <th>16</th>\n",
              "      <td>ultra</td>\n",
              "      <td>5</td>\n",
              "      <td>138000.0</td>\n",
              "    </tr>\n",
              "    <tr>\n",
              "      <th>17</th>\n",
              "      <td>ultra</td>\n",
              "      <td>6</td>\n",
              "      <td>171300.0</td>\n",
              "    </tr>\n",
              "    <tr>\n",
              "      <th>18</th>\n",
              "      <td>ultra</td>\n",
              "      <td>7</td>\n",
              "      <td>192750.0</td>\n",
              "    </tr>\n",
              "    <tr>\n",
              "      <th>19</th>\n",
              "      <td>ultra</td>\n",
              "      <td>8</td>\n",
              "      <td>222900.0</td>\n",
              "    </tr>\n",
              "    <tr>\n",
              "      <th>20</th>\n",
              "      <td>ultra</td>\n",
              "      <td>9</td>\n",
              "      <td>232800.0</td>\n",
              "    </tr>\n",
              "    <tr>\n",
              "      <th>21</th>\n",
              "      <td>ultra</td>\n",
              "      <td>10</td>\n",
              "      <td>254100.0</td>\n",
              "    </tr>\n",
              "    <tr>\n",
              "      <th>22</th>\n",
              "      <td>ultra</td>\n",
              "      <td>11</td>\n",
              "      <td>280350.0</td>\n",
              "    </tr>\n",
              "    <tr>\n",
              "      <th>23</th>\n",
              "      <td>ultra</td>\n",
              "      <td>12</td>\n",
              "      <td>297300.0</td>\n",
              "    </tr>\n",
              "  </tbody>\n",
              "</table>\n",
              "</div>"
            ],
            "text/plain": [
              "   tariff  month  total_bill\n",
              "0   smart      1     24525.0\n",
              "1   smart      2     48001.0\n",
              "2   smart      3     89676.0\n",
              "3   smart      4    107866.0\n",
              "4   smart      5    168849.0\n",
              "5   smart      6    197459.0\n",
              "6   smart      7    246014.0\n",
              "7   smart      8    310340.0\n",
              "8   smart      9    324986.0\n",
              "9   smart     10    401267.0\n",
              "10  smart     11    424403.0\n",
              "11  smart     12    531965.0\n",
              "12  ultra      1     17550.0\n",
              "13  ultra      2     47400.0\n",
              "14  ultra      3     74550.0\n",
              "15  ultra      4    110100.0\n",
              "16  ultra      5    138000.0\n",
              "17  ultra      6    171300.0\n",
              "18  ultra      7    192750.0\n",
              "19  ultra      8    222900.0\n",
              "20  ultra      9    232800.0\n",
              "21  ultra     10    254100.0\n",
              "22  ultra     11    280350.0\n",
              "23  ultra     12    297300.0"
            ]
          },
          "metadata": {},
          "output_type": "display_data"
        },
        {
          "data": {
            "image/png": "[encoded data removed]",
            "text/plain": [
              "<Figure size 720x360 with 1 Axes>"
            ]
          },
          "metadata": {
            "needs_background": "light"
          },
          "output_type": "display_data"
        }
      ],
      "source": [
        "clients_bill = total_data.pivot_table(index=['tariff', 'month'], values='total_bill', aggfunc='sum').reset_index()\n",
        "display(clients_bill)\n",
        "\n",
        "ax = clients_bill.query('tariff == \"smart\"').plot(x='month', y='total_bill', grid=True, figsize=(10, 5), legend='Смарт')\n",
        "clients_bill.query('tariff == \"ultra\"').plot(x='month', y='total_bill', grid=True, color='Red', figsize=(10, 5), ax=ax)\n",
        "\n",
        "plt.xlabel('Месяцы')\n",
        "plt.ylabel('Объем продаж')\n",
        "ax.legend(['Тариф Смарт', 'Тариф Ультра'])\n",
        "plt.show()"
      ]
    },
    {
      "cell_type": "markdown",
      "id": "d08ee29b",
      "metadata": {
        "id": "d08ee29b"
      },
      "source": [
        "Если исходить из того, что у нас репрезентативная выборка, то пользователей тарифа Смарт в 2 раза больше, чем пользователей Ультра. "
      ]
    },
    {
      "cell_type": "code",
      "execution_count": null,
      "id": "6f206125",
      "metadata": {
        "id": "6f206125",
        "outputId": "89d081ff-be3b-4d1c-ec9a-2b9effcdadeb"
      },
      "outputs": [
        {
          "data": {
            "image/png": "[encoded data removed]",
            "text/plain": [
              "<Figure size 720x360 with 1 Axes>"
            ]
          },
          "metadata": {
            "needs_background": "light"
          },
          "output_type": "display_data"
        }
      ],
      "source": [
        "# код ревьюера\n",
        "\n",
        "fig, ax = plt.subplots(figsize=(10, 5))\n",
        "\n",
        "x = clients_bill.query('tariff == \"smart\"')['month']\n",
        "y1 = clients_bill.query('tariff == \"smart\"')['total_bill']\n",
        "y2 = clients_bill.query('tariff == \"ultra\"')['total_bill']\n",
        "\n",
        "ax.plot(x, y1, label = 'Smart')\n",
        "ax.plot(x, y2 , label = 'Ultra')\n",
        "\n",
        "fig.suptitle('Объем продаж по тарифам')\n",
        "plt.xlabel('Месяцы')\n",
        "plt.ylabel('Объем продаж')\n",
        "\n",
        "ax.grid()\n",
        "ax.legend()\n",
        "plt.show()"
      ]
    },
    {
      "cell_type": "markdown",
      "id": "c68d256a",
      "metadata": {
        "id": "c68d256a"
      },
      "source": [
        "## Выводы:\n",
        " - В пересчёте на одного пользователя тариф \"Ультра\" значительно выгоднее для Мегалайна. Но суммарно по пользователям тариф \"Смарт\" приносит практически в 2 раза больше выручки в месяц.\n",
        "\n",
        " - По представленной выборке мы можем сделать вывод, что зависимости средней выручки от региона нет.\n",
        "\n",
        "Если рост пользователей будет оставаться таким же, то рекламный упор стоит сделать на тариф \"Смарт\"."
      ]
    }
  ],
  "metadata": {
    "ExecuteTimeLog": [
      {
        "duration": 1115,
        "start_time": "2022-04-25T10:58:16.629Z"
      },
      {
        "duration": 2565,
        "start_time": "2022-04-25T11:25:41.744Z"
      },
      {
        "duration": 47,
        "start_time": "2022-04-25T11:26:18.374Z"
      },
      {
        "duration": 144,
        "start_time": "2022-04-25T11:27:43.291Z"
      },
      {
        "duration": 51,
        "start_time": "2022-04-25T11:27:54.680Z"
      },
      {
        "duration": 74,
        "start_time": "2022-04-25T11:28:48.860Z"
      },
      {
        "duration": 23,
        "start_time": "2022-04-25T11:33:06.491Z"
      },
      {
        "duration": 44,
        "start_time": "2022-04-25T11:36:00.580Z"
      },
      {
        "duration": 173,
        "start_time": "2022-04-25T11:45:57.118Z"
      },
      {
        "duration": 167,
        "start_time": "2022-04-25T11:46:17.025Z"
      },
      {
        "duration": 12,
        "start_time": "2022-04-25T11:46:30.197Z"
      },
      {
        "duration": 8,
        "start_time": "2022-04-25T11:46:43.701Z"
      },
      {
        "duration": 9,
        "start_time": "2022-04-25T11:47:12.402Z"
      },
      {
        "duration": 9,
        "start_time": "2022-04-25T11:47:16.304Z"
      },
      {
        "duration": 8,
        "start_time": "2022-04-25T11:47:21.323Z"
      },
      {
        "duration": 825,
        "start_time": "2022-04-25T11:47:31.561Z"
      },
      {
        "duration": 51,
        "start_time": "2022-04-25T11:47:32.388Z"
      },
      {
        "duration": 43,
        "start_time": "2022-04-25T11:47:32.442Z"
      },
      {
        "duration": 37,
        "start_time": "2022-04-25T11:47:32.487Z"
      },
      {
        "duration": 208,
        "start_time": "2022-04-25T11:48:39.354Z"
      },
      {
        "duration": 34,
        "start_time": "2022-04-25T11:55:39.420Z"
      },
      {
        "duration": 50,
        "start_time": "2022-04-25T11:55:59.451Z"
      },
      {
        "duration": 39,
        "start_time": "2022-04-25T11:56:32.796Z"
      },
      {
        "duration": 3734,
        "start_time": "2022-04-25T11:56:57.029Z"
      },
      {
        "duration": 313,
        "start_time": "2022-04-25T11:58:17.515Z"
      },
      {
        "duration": 180,
        "start_time": "2022-04-25T11:58:40.791Z"
      },
      {
        "duration": 38,
        "start_time": "2022-04-25T11:59:12.720Z"
      },
      {
        "duration": 21,
        "start_time": "2022-04-25T11:59:23.548Z"
      },
      {
        "duration": 50,
        "start_time": "2022-04-25T12:03:55.422Z"
      },
      {
        "duration": 49,
        "start_time": "2022-04-25T12:04:08.209Z"
      },
      {
        "duration": 38,
        "start_time": "2022-04-25T12:04:16.395Z"
      },
      {
        "duration": 22,
        "start_time": "2022-04-25T12:04:30.175Z"
      },
      {
        "duration": 606,
        "start_time": "2022-04-25T12:04:31.683Z"
      },
      {
        "duration": 1321,
        "start_time": "2022-04-25T12:04:40.074Z"
      },
      {
        "duration": 57,
        "start_time": "2022-04-25T12:04:41.398Z"
      },
      {
        "duration": 196,
        "start_time": "2022-04-25T12:04:41.456Z"
      },
      {
        "duration": 33,
        "start_time": "2022-04-25T12:04:41.654Z"
      },
      {
        "duration": 172,
        "start_time": "2022-04-25T12:04:41.688Z"
      },
      {
        "duration": 76,
        "start_time": "2022-04-25T12:05:11.375Z"
      },
      {
        "duration": 23,
        "start_time": "2022-04-25T12:09:01.355Z"
      },
      {
        "duration": 48,
        "start_time": "2022-04-26T10:44:12.411Z"
      },
      {
        "duration": 644,
        "start_time": "2022-04-26T10:45:48.070Z"
      },
      {
        "duration": 42,
        "start_time": "2022-04-26T10:45:48.716Z"
      },
      {
        "duration": 198,
        "start_time": "2022-04-26T10:45:48.760Z"
      },
      {
        "duration": 47,
        "start_time": "2022-04-26T10:45:48.960Z"
      },
      {
        "duration": 118,
        "start_time": "2022-04-26T10:45:49.009Z"
      },
      {
        "duration": 103,
        "start_time": "2022-04-26T10:45:49.128Z"
      },
      {
        "duration": 31,
        "start_time": "2022-04-26T10:51:08.774Z"
      },
      {
        "duration": 36,
        "start_time": "2022-04-26T10:54:38.513Z"
      },
      {
        "duration": 19,
        "start_time": "2022-04-26T10:55:13.103Z"
      },
      {
        "duration": 35,
        "start_time": "2022-04-26T10:55:24.070Z"
      },
      {
        "duration": 26,
        "start_time": "2022-04-26T10:55:35.681Z"
      },
      {
        "duration": 64,
        "start_time": "2022-04-26T10:57:53.086Z"
      },
      {
        "duration": 34,
        "start_time": "2022-04-26T10:59:51.020Z"
      },
      {
        "duration": 31,
        "start_time": "2022-04-26T11:02:00.753Z"
      },
      {
        "duration": 2594,
        "start_time": "2022-04-26T11:07:44.761Z"
      },
      {
        "duration": 2283,
        "start_time": "2022-04-26T11:08:32.007Z"
      },
      {
        "duration": 14,
        "start_time": "2022-04-26T11:09:08.055Z"
      },
      {
        "duration": 56,
        "start_time": "2022-04-26T11:10:35.316Z"
      },
      {
        "duration": 9,
        "start_time": "2022-04-26T11:19:32.517Z"
      },
      {
        "duration": 12,
        "start_time": "2022-04-26T11:19:36.022Z"
      },
      {
        "duration": 10,
        "start_time": "2022-04-26T11:47:56.217Z"
      },
      {
        "duration": 7,
        "start_time": "2022-04-26T11:48:06.944Z"
      },
      {
        "duration": 39,
        "start_time": "2022-04-26T11:48:16.529Z"
      },
      {
        "duration": 33,
        "start_time": "2022-04-26T11:49:11.529Z"
      },
      {
        "duration": 17,
        "start_time": "2022-04-26T11:50:04.691Z"
      },
      {
        "duration": 35,
        "start_time": "2022-04-26T11:50:23.453Z"
      },
      {
        "duration": 59,
        "start_time": "2022-04-26T11:51:01.143Z"
      },
      {
        "duration": 59,
        "start_time": "2022-04-26T11:51:05.178Z"
      },
      {
        "duration": 95,
        "start_time": "2022-04-26T11:52:42.139Z"
      },
      {
        "duration": 106,
        "start_time": "2022-04-26T11:53:04.477Z"
      },
      {
        "duration": 101,
        "start_time": "2022-04-26T11:55:13.926Z"
      },
      {
        "duration": 126,
        "start_time": "2022-04-26T11:55:19.426Z"
      },
      {
        "duration": 106,
        "start_time": "2022-04-26T12:03:57.908Z"
      },
      {
        "duration": 9,
        "start_time": "2022-04-26T12:17:12.915Z"
      },
      {
        "duration": 725,
        "start_time": "2022-04-26T12:17:25.575Z"
      },
      {
        "duration": 71,
        "start_time": "2022-04-26T12:17:26.302Z"
      },
      {
        "duration": 21,
        "start_time": "2022-04-26T12:17:26.392Z"
      },
      {
        "duration": 223,
        "start_time": "2022-04-26T12:17:26.415Z"
      },
      {
        "duration": 78,
        "start_time": "2022-04-26T12:17:26.639Z"
      },
      {
        "duration": 138,
        "start_time": "2022-04-26T12:17:26.719Z"
      },
      {
        "duration": 55,
        "start_time": "2022-04-26T12:17:26.859Z"
      },
      {
        "duration": 44,
        "start_time": "2022-04-26T12:17:26.916Z"
      },
      {
        "duration": 52,
        "start_time": "2022-04-26T12:17:26.962Z"
      },
      {
        "duration": 40,
        "start_time": "2022-04-26T12:17:27.017Z"
      },
      {
        "duration": 57,
        "start_time": "2022-04-26T12:17:27.060Z"
      },
      {
        "duration": 30,
        "start_time": "2022-04-26T12:17:27.119Z"
      },
      {
        "duration": 119,
        "start_time": "2022-04-26T12:17:27.151Z"
      },
      {
        "duration": 14,
        "start_time": "2022-04-26T12:18:07.732Z"
      },
      {
        "duration": 15,
        "start_time": "2022-04-26T12:18:47.361Z"
      },
      {
        "duration": 87,
        "start_time": "2022-04-26T12:18:56.063Z"
      },
      {
        "duration": 128,
        "start_time": "2022-04-26T12:19:24.114Z"
      },
      {
        "duration": 73,
        "start_time": "2022-04-26T12:23:28.917Z"
      },
      {
        "duration": 9,
        "start_time": "2022-04-26T12:23:33.624Z"
      },
      {
        "duration": 2061,
        "start_time": "2022-04-26T12:24:49.721Z"
      },
      {
        "duration": 2027,
        "start_time": "2022-04-26T12:25:32.232Z"
      },
      {
        "duration": 76,
        "start_time": "2022-04-26T12:25:49.412Z"
      },
      {
        "duration": 53,
        "start_time": "2022-04-26T12:26:39.745Z"
      },
      {
        "duration": 13,
        "start_time": "2022-04-26T12:28:18.191Z"
      },
      {
        "duration": 50,
        "start_time": "2022-04-26T12:34:33.718Z"
      },
      {
        "duration": 47,
        "start_time": "2022-04-26T12:36:01.126Z"
      },
      {
        "duration": 47,
        "start_time": "2022-04-26T12:37:39.351Z"
      },
      {
        "duration": 48,
        "start_time": "2022-04-26T12:37:50.458Z"
      },
      {
        "duration": 59,
        "start_time": "2022-04-26T12:38:00.072Z"
      },
      {
        "duration": 45,
        "start_time": "2022-04-26T12:49:54.246Z"
      },
      {
        "duration": 1949,
        "start_time": "2022-04-26T12:50:18.971Z"
      },
      {
        "duration": 64,
        "start_time": "2022-04-26T12:50:33.345Z"
      },
      {
        "duration": 63,
        "start_time": "2022-04-26T12:51:09.311Z"
      },
      {
        "duration": 63,
        "start_time": "2022-04-26T12:51:59.015Z"
      },
      {
        "duration": 6,
        "start_time": "2022-04-26T12:52:15.029Z"
      },
      {
        "duration": 53,
        "start_time": "2022-04-26T12:52:23.235Z"
      },
      {
        "duration": 48,
        "start_time": "2022-04-26T12:52:35.410Z"
      },
      {
        "duration": 64,
        "start_time": "2022-04-26T12:52:40.964Z"
      },
      {
        "duration": 63,
        "start_time": "2022-04-26T12:53:00.491Z"
      },
      {
        "duration": 871,
        "start_time": "2022-04-27T10:21:29.945Z"
      },
      {
        "duration": 119,
        "start_time": "2022-04-27T10:21:30.819Z"
      },
      {
        "duration": 15,
        "start_time": "2022-04-27T10:21:30.941Z"
      },
      {
        "duration": 320,
        "start_time": "2022-04-27T10:21:30.959Z"
      },
      {
        "duration": 68,
        "start_time": "2022-04-27T10:21:31.338Z"
      },
      {
        "duration": 172,
        "start_time": "2022-04-27T10:21:31.409Z"
      },
      {
        "duration": 51,
        "start_time": "2022-04-27T10:21:31.593Z"
      },
      {
        "duration": 49,
        "start_time": "2022-04-27T10:21:31.648Z"
      },
      {
        "duration": 76,
        "start_time": "2022-04-27T10:21:31.699Z"
      },
      {
        "duration": 22,
        "start_time": "2022-04-27T10:21:31.777Z"
      },
      {
        "duration": 29,
        "start_time": "2022-04-27T10:21:31.802Z"
      },
      {
        "duration": 13,
        "start_time": "2022-04-27T10:21:31.834Z"
      },
      {
        "duration": 124,
        "start_time": "2022-04-27T10:21:31.849Z"
      },
      {
        "duration": 10,
        "start_time": "2022-04-27T10:21:31.976Z"
      },
      {
        "duration": 92,
        "start_time": "2022-04-27T10:21:31.992Z"
      },
      {
        "duration": 26,
        "start_time": "2022-04-27T10:21:32.086Z"
      },
      {
        "duration": 78,
        "start_time": "2022-04-27T10:21:32.114Z"
      },
      {
        "duration": 11,
        "start_time": "2022-04-27T10:22:29.573Z"
      },
      {
        "duration": 16,
        "start_time": "2022-04-27T10:22:56.518Z"
      },
      {
        "duration": 70,
        "start_time": "2022-04-27T11:20:35.801Z"
      },
      {
        "duration": 75,
        "start_time": "2022-04-27T11:21:17.859Z"
      },
      {
        "duration": 858,
        "start_time": "2022-04-27T11:22:04.041Z"
      },
      {
        "duration": 91,
        "start_time": "2022-04-27T11:22:04.902Z"
      },
      {
        "duration": 13,
        "start_time": "2022-04-27T11:22:04.995Z"
      },
      {
        "duration": 238,
        "start_time": "2022-04-27T11:22:05.012Z"
      },
      {
        "duration": 70,
        "start_time": "2022-04-27T11:22:05.252Z"
      },
      {
        "duration": 158,
        "start_time": "2022-04-27T11:22:05.325Z"
      },
      {
        "duration": 43,
        "start_time": "2022-04-27T11:22:05.493Z"
      },
      {
        "duration": 36,
        "start_time": "2022-04-27T11:22:05.538Z"
      },
      {
        "duration": 53,
        "start_time": "2022-04-27T11:22:05.576Z"
      },
      {
        "duration": 21,
        "start_time": "2022-04-27T11:22:05.635Z"
      },
      {
        "duration": 41,
        "start_time": "2022-04-27T11:22:05.659Z"
      },
      {
        "duration": 11,
        "start_time": "2022-04-27T11:22:05.703Z"
      },
      {
        "duration": 137,
        "start_time": "2022-04-27T11:22:05.716Z"
      },
      {
        "duration": 10,
        "start_time": "2022-04-27T11:22:05.856Z"
      },
      {
        "duration": 76,
        "start_time": "2022-04-27T11:22:05.867Z"
      },
      {
        "duration": 11,
        "start_time": "2022-04-27T11:22:05.945Z"
      },
      {
        "duration": 85,
        "start_time": "2022-04-27T11:22:05.958Z"
      },
      {
        "duration": 11,
        "start_time": "2022-04-27T11:22:06.045Z"
      },
      {
        "duration": 41,
        "start_time": "2022-04-27T11:22:06.058Z"
      },
      {
        "duration": 97,
        "start_time": "2022-04-27T11:22:06.101Z"
      },
      {
        "duration": 576,
        "start_time": "2022-04-27T11:22:55.582Z"
      },
      {
        "duration": 52,
        "start_time": "2022-04-27T11:23:21.835Z"
      },
      {
        "duration": 53,
        "start_time": "2022-04-27T11:23:41.184Z"
      },
      {
        "duration": 55,
        "start_time": "2022-04-27T11:25:09.148Z"
      },
      {
        "duration": 50,
        "start_time": "2022-04-27T11:25:25.189Z"
      },
      {
        "duration": 723,
        "start_time": "2022-04-27T11:26:17.727Z"
      },
      {
        "duration": 51,
        "start_time": "2022-04-27T11:26:54.552Z"
      },
      {
        "duration": 10,
        "start_time": "2022-04-27T11:33:33.873Z"
      },
      {
        "duration": 10,
        "start_time": "2022-04-27T11:33:38.878Z"
      },
      {
        "duration": 90,
        "start_time": "2022-04-27T11:34:55.430Z"
      },
      {
        "duration": 50,
        "start_time": "2022-04-27T11:35:27.982Z"
      },
      {
        "duration": 237,
        "start_time": "2022-04-27T11:37:31.201Z"
      },
      {
        "duration": 41,
        "start_time": "2022-04-27T11:37:39.282Z"
      },
      {
        "duration": 25,
        "start_time": "2022-04-27T11:43:38.055Z"
      },
      {
        "duration": 149,
        "start_time": "2022-04-27T11:47:12.459Z"
      },
      {
        "duration": 2799,
        "start_time": "2022-04-27T11:47:21.284Z"
      },
      {
        "duration": 2900,
        "start_time": "2022-04-27T11:47:59.194Z"
      },
      {
        "duration": 749,
        "start_time": "2022-04-27T11:48:19.631Z"
      },
      {
        "duration": 2905,
        "start_time": "2022-04-27T11:48:20.394Z"
      },
      {
        "duration": 0,
        "start_time": "2022-04-27T11:48:23.302Z"
      },
      {
        "duration": 0,
        "start_time": "2022-04-27T11:48:23.303Z"
      },
      {
        "duration": 0,
        "start_time": "2022-04-27T11:48:23.305Z"
      },
      {
        "duration": 0,
        "start_time": "2022-04-27T11:48:23.306Z"
      },
      {
        "duration": 0,
        "start_time": "2022-04-27T11:48:23.308Z"
      },
      {
        "duration": 0,
        "start_time": "2022-04-27T11:48:23.309Z"
      },
      {
        "duration": 0,
        "start_time": "2022-04-27T11:48:23.311Z"
      },
      {
        "duration": 0,
        "start_time": "2022-04-27T11:48:23.314Z"
      },
      {
        "duration": 0,
        "start_time": "2022-04-27T11:48:23.315Z"
      },
      {
        "duration": 0,
        "start_time": "2022-04-27T11:48:23.316Z"
      },
      {
        "duration": 0,
        "start_time": "2022-04-27T11:48:23.318Z"
      },
      {
        "duration": 0,
        "start_time": "2022-04-27T11:48:23.319Z"
      },
      {
        "duration": 0,
        "start_time": "2022-04-27T11:48:23.321Z"
      },
      {
        "duration": 0,
        "start_time": "2022-04-27T11:48:23.323Z"
      },
      {
        "duration": 0,
        "start_time": "2022-04-27T11:48:23.324Z"
      },
      {
        "duration": 0,
        "start_time": "2022-04-27T11:48:23.326Z"
      },
      {
        "duration": 0,
        "start_time": "2022-04-27T11:48:23.327Z"
      },
      {
        "duration": 0,
        "start_time": "2022-04-27T11:48:23.329Z"
      },
      {
        "duration": 0,
        "start_time": "2022-04-27T11:48:23.330Z"
      },
      {
        "duration": 2878,
        "start_time": "2022-04-27T11:48:53.637Z"
      },
      {
        "duration": 2903,
        "start_time": "2022-04-27T11:49:44.948Z"
      },
      {
        "duration": 82,
        "start_time": "2022-04-27T11:50:18.183Z"
      },
      {
        "duration": 154,
        "start_time": "2022-04-27T11:51:10.403Z"
      },
      {
        "duration": 271,
        "start_time": "2022-04-27T11:53:02.153Z"
      },
      {
        "duration": 1702,
        "start_time": "2022-04-27T11:53:18.058Z"
      },
      {
        "duration": 14,
        "start_time": "2022-04-27T11:53:54.131Z"
      },
      {
        "duration": 47,
        "start_time": "2022-04-27T11:56:12.058Z"
      },
      {
        "duration": 180,
        "start_time": "2022-04-27T11:57:26.929Z"
      },
      {
        "duration": 163,
        "start_time": "2022-04-27T11:57:36.771Z"
      },
      {
        "duration": 192,
        "start_time": "2022-04-27T11:57:54.341Z"
      },
      {
        "duration": 43,
        "start_time": "2022-04-27T11:59:12.078Z"
      },
      {
        "duration": 10,
        "start_time": "2022-04-27T11:59:26.853Z"
      },
      {
        "duration": 263,
        "start_time": "2022-04-27T11:59:40.435Z"
      },
      {
        "duration": 95,
        "start_time": "2022-04-27T11:59:40.700Z"
      },
      {
        "duration": 14,
        "start_time": "2022-04-27T11:59:40.797Z"
      },
      {
        "duration": 240,
        "start_time": "2022-04-27T11:59:40.814Z"
      },
      {
        "duration": 70,
        "start_time": "2022-04-27T11:59:41.056Z"
      },
      {
        "duration": 151,
        "start_time": "2022-04-27T11:59:41.128Z"
      },
      {
        "duration": 49,
        "start_time": "2022-04-27T11:59:41.281Z"
      },
      {
        "duration": 36,
        "start_time": "2022-04-27T11:59:41.332Z"
      },
      {
        "duration": 63,
        "start_time": "2022-04-27T11:59:41.371Z"
      },
      {
        "duration": 19,
        "start_time": "2022-04-27T11:59:41.440Z"
      },
      {
        "duration": 36,
        "start_time": "2022-04-27T11:59:41.462Z"
      },
      {
        "duration": 7,
        "start_time": "2022-04-27T11:59:41.501Z"
      },
      {
        "duration": 3014,
        "start_time": "2022-04-27T11:59:41.510Z"
      },
      {
        "duration": 0,
        "start_time": "2022-04-27T11:59:44.526Z"
      },
      {
        "duration": 0,
        "start_time": "2022-04-27T11:59:44.528Z"
      },
      {
        "duration": 0,
        "start_time": "2022-04-27T11:59:44.530Z"
      },
      {
        "duration": 0,
        "start_time": "2022-04-27T11:59:44.531Z"
      },
      {
        "duration": 0,
        "start_time": "2022-04-27T11:59:44.532Z"
      },
      {
        "duration": 0,
        "start_time": "2022-04-27T11:59:44.533Z"
      },
      {
        "duration": 0,
        "start_time": "2022-04-27T11:59:44.534Z"
      },
      {
        "duration": 0,
        "start_time": "2022-04-27T11:59:44.535Z"
      },
      {
        "duration": 35,
        "start_time": "2022-04-27T12:00:11.349Z"
      },
      {
        "duration": 66,
        "start_time": "2022-04-27T12:01:02.141Z"
      },
      {
        "duration": 159,
        "start_time": "2022-04-27T12:01:50.343Z"
      },
      {
        "duration": 3012,
        "start_time": "2022-04-27T12:01:55.641Z"
      },
      {
        "duration": 57,
        "start_time": "2022-04-27T12:01:59.466Z"
      },
      {
        "duration": 57,
        "start_time": "2022-04-27T12:02:09.328Z"
      },
      {
        "duration": 84,
        "start_time": "2022-04-27T12:02:17.691Z"
      },
      {
        "duration": 29,
        "start_time": "2022-04-27T12:02:24.425Z"
      },
      {
        "duration": 19,
        "start_time": "2022-04-27T12:04:59.456Z"
      },
      {
        "duration": 13,
        "start_time": "2022-04-27T12:09:26.236Z"
      },
      {
        "duration": 19,
        "start_time": "2022-04-27T12:09:41.545Z"
      },
      {
        "duration": 270,
        "start_time": "2022-04-27T12:09:50.040Z"
      },
      {
        "duration": 87,
        "start_time": "2022-04-27T12:09:50.313Z"
      },
      {
        "duration": 14,
        "start_time": "2022-04-27T12:09:50.402Z"
      },
      {
        "duration": 232,
        "start_time": "2022-04-27T12:09:50.418Z"
      },
      {
        "duration": 65,
        "start_time": "2022-04-27T12:09:50.652Z"
      },
      {
        "duration": 254,
        "start_time": "2022-04-27T12:09:50.719Z"
      },
      {
        "duration": 54,
        "start_time": "2022-04-27T12:09:50.975Z"
      },
      {
        "duration": 35,
        "start_time": "2022-04-27T12:09:51.031Z"
      },
      {
        "duration": 85,
        "start_time": "2022-04-27T12:09:51.068Z"
      },
      {
        "duration": 20,
        "start_time": "2022-04-27T12:09:51.157Z"
      },
      {
        "duration": 22,
        "start_time": "2022-04-27T12:09:51.179Z"
      },
      {
        "duration": 9,
        "start_time": "2022-04-27T12:09:51.203Z"
      },
      {
        "duration": 112,
        "start_time": "2022-04-27T12:09:51.214Z"
      },
      {
        "duration": 11,
        "start_time": "2022-04-27T12:09:51.328Z"
      },
      {
        "duration": 79,
        "start_time": "2022-04-27T12:09:51.341Z"
      },
      {
        "duration": 11,
        "start_time": "2022-04-27T12:09:51.422Z"
      },
      {
        "duration": 76,
        "start_time": "2022-04-27T12:09:51.435Z"
      },
      {
        "duration": 43,
        "start_time": "2022-04-27T12:09:51.513Z"
      },
      {
        "duration": 46,
        "start_time": "2022-04-27T12:09:51.558Z"
      },
      {
        "duration": 19,
        "start_time": "2022-04-27T12:09:51.606Z"
      },
      {
        "duration": 20,
        "start_time": "2022-04-27T12:09:51.628Z"
      },
      {
        "duration": 8,
        "start_time": "2022-04-27T12:16:15.396Z"
      },
      {
        "duration": 15,
        "start_time": "2022-04-27T12:18:01.156Z"
      },
      {
        "duration": 41,
        "start_time": "2022-04-27T12:18:18.201Z"
      },
      {
        "duration": 25,
        "start_time": "2022-04-27T12:22:02.120Z"
      },
      {
        "duration": 15,
        "start_time": "2022-04-27T12:23:09.006Z"
      },
      {
        "duration": 319,
        "start_time": "2022-04-27T12:23:15.856Z"
      },
      {
        "duration": 98,
        "start_time": "2022-04-27T12:23:16.178Z"
      },
      {
        "duration": 28,
        "start_time": "2022-04-27T12:23:16.279Z"
      },
      {
        "duration": 287,
        "start_time": "2022-04-27T12:23:16.311Z"
      },
      {
        "duration": 55,
        "start_time": "2022-04-27T12:23:16.600Z"
      },
      {
        "duration": 191,
        "start_time": "2022-04-27T12:23:16.658Z"
      },
      {
        "duration": 64,
        "start_time": "2022-04-27T12:23:16.852Z"
      },
      {
        "duration": 37,
        "start_time": "2022-04-27T12:23:16.918Z"
      },
      {
        "duration": 73,
        "start_time": "2022-04-27T12:23:16.957Z"
      },
      {
        "duration": 20,
        "start_time": "2022-04-27T12:23:17.035Z"
      },
      {
        "duration": 45,
        "start_time": "2022-04-27T12:23:17.058Z"
      },
      {
        "duration": 18,
        "start_time": "2022-04-27T12:23:17.105Z"
      },
      {
        "duration": 118,
        "start_time": "2022-04-27T12:23:17.126Z"
      },
      {
        "duration": 11,
        "start_time": "2022-04-27T12:23:17.246Z"
      },
      {
        "duration": 84,
        "start_time": "2022-04-27T12:23:17.259Z"
      },
      {
        "duration": 16,
        "start_time": "2022-04-27T12:23:17.346Z"
      },
      {
        "duration": 86,
        "start_time": "2022-04-27T12:23:17.364Z"
      },
      {
        "duration": 95,
        "start_time": "2022-04-27T12:23:17.453Z"
      },
      {
        "duration": 42,
        "start_time": "2022-04-27T12:23:17.551Z"
      },
      {
        "duration": 24,
        "start_time": "2022-04-27T12:23:17.595Z"
      },
      {
        "duration": 13,
        "start_time": "2022-04-27T12:23:17.621Z"
      },
      {
        "duration": 15,
        "start_time": "2022-04-27T12:23:17.636Z"
      },
      {
        "duration": 60,
        "start_time": "2022-04-27T12:23:17.653Z"
      },
      {
        "duration": 16,
        "start_time": "2022-04-27T12:23:17.716Z"
      },
      {
        "duration": 218,
        "start_time": "2022-04-27T12:23:17.735Z"
      },
      {
        "duration": 31,
        "start_time": "2022-04-27T12:29:52.966Z"
      },
      {
        "duration": 4,
        "start_time": "2022-04-27T12:34:31.005Z"
      },
      {
        "duration": 17,
        "start_time": "2022-04-27T12:34:45.644Z"
      },
      {
        "duration": 36,
        "start_time": "2022-04-27T12:36:19.474Z"
      },
      {
        "duration": 25,
        "start_time": "2022-04-27T12:36:34.774Z"
      },
      {
        "duration": 35,
        "start_time": "2022-04-27T12:36:39.483Z"
      },
      {
        "duration": 10,
        "start_time": "2022-04-27T12:36:52.210Z"
      },
      {
        "duration": 789,
        "start_time": "2022-04-27T12:38:33.319Z"
      },
      {
        "duration": 93,
        "start_time": "2022-04-27T12:38:34.110Z"
      },
      {
        "duration": 14,
        "start_time": "2022-04-27T12:38:34.205Z"
      },
      {
        "duration": 248,
        "start_time": "2022-04-27T12:38:34.223Z"
      },
      {
        "duration": 65,
        "start_time": "2022-04-27T12:38:34.473Z"
      },
      {
        "duration": 165,
        "start_time": "2022-04-27T12:38:34.540Z"
      },
      {
        "duration": 41,
        "start_time": "2022-04-27T12:38:34.707Z"
      },
      {
        "duration": 48,
        "start_time": "2022-04-27T12:38:34.751Z"
      },
      {
        "duration": 65,
        "start_time": "2022-04-27T12:38:34.801Z"
      },
      {
        "duration": 20,
        "start_time": "2022-04-27T12:38:34.871Z"
      },
      {
        "duration": 16,
        "start_time": "2022-04-27T12:38:34.893Z"
      },
      {
        "duration": 5,
        "start_time": "2022-04-27T12:38:34.911Z"
      },
      {
        "duration": 142,
        "start_time": "2022-04-27T12:38:34.919Z"
      },
      {
        "duration": 11,
        "start_time": "2022-04-27T12:38:35.063Z"
      },
      {
        "duration": 73,
        "start_time": "2022-04-27T12:38:35.076Z"
      },
      {
        "duration": 12,
        "start_time": "2022-04-27T12:38:35.152Z"
      },
      {
        "duration": 81,
        "start_time": "2022-04-27T12:38:35.167Z"
      },
      {
        "duration": 95,
        "start_time": "2022-04-27T12:38:35.250Z"
      },
      {
        "duration": 31,
        "start_time": "2022-04-27T12:38:35.348Z"
      },
      {
        "duration": 25,
        "start_time": "2022-04-27T12:38:35.394Z"
      },
      {
        "duration": 14,
        "start_time": "2022-04-27T12:38:35.422Z"
      },
      {
        "duration": 63,
        "start_time": "2022-04-27T12:38:35.439Z"
      },
      {
        "duration": 10,
        "start_time": "2022-04-27T12:38:35.504Z"
      },
      {
        "duration": 19,
        "start_time": "2022-04-27T12:38:35.517Z"
      },
      {
        "duration": 18,
        "start_time": "2022-04-27T12:38:35.538Z"
      },
      {
        "duration": 135,
        "start_time": "2022-04-27T12:38:35.559Z"
      },
      {
        "duration": 28,
        "start_time": "2022-04-27T12:47:28.065Z"
      },
      {
        "duration": 219,
        "start_time": "2022-04-27T12:48:03.822Z"
      },
      {
        "duration": 228,
        "start_time": "2022-04-27T12:48:24.093Z"
      },
      {
        "duration": 204,
        "start_time": "2022-04-27T12:48:35.482Z"
      },
      {
        "duration": 218,
        "start_time": "2022-04-27T12:49:11.103Z"
      },
      {
        "duration": 22,
        "start_time": "2022-04-27T15:08:59.205Z"
      },
      {
        "duration": 21,
        "start_time": "2022-04-27T15:09:05.103Z"
      },
      {
        "duration": 40,
        "start_time": "2022-04-27T15:09:21.210Z"
      },
      {
        "duration": 17,
        "start_time": "2022-04-27T15:09:49.580Z"
      },
      {
        "duration": 56,
        "start_time": "2022-04-27T15:11:49.192Z"
      },
      {
        "duration": 29,
        "start_time": "2022-04-27T15:11:59.588Z"
      },
      {
        "duration": 17,
        "start_time": "2022-04-27T15:12:09.440Z"
      },
      {
        "duration": 30,
        "start_time": "2022-04-27T15:12:13.607Z"
      },
      {
        "duration": 944,
        "start_time": "2022-04-27T15:14:27.439Z"
      },
      {
        "duration": 89,
        "start_time": "2022-04-27T15:14:28.393Z"
      },
      {
        "duration": 27,
        "start_time": "2022-04-27T15:14:28.484Z"
      },
      {
        "duration": 288,
        "start_time": "2022-04-27T15:14:28.517Z"
      },
      {
        "duration": 54,
        "start_time": "2022-04-27T15:14:28.809Z"
      },
      {
        "duration": 222,
        "start_time": "2022-04-27T15:14:28.866Z"
      },
      {
        "duration": 55,
        "start_time": "2022-04-27T15:14:29.094Z"
      },
      {
        "duration": 62,
        "start_time": "2022-04-27T15:14:29.151Z"
      },
      {
        "duration": 71,
        "start_time": "2022-04-27T15:14:29.216Z"
      },
      {
        "duration": 31,
        "start_time": "2022-04-27T15:14:29.290Z"
      },
      {
        "duration": 13,
        "start_time": "2022-04-27T15:14:29.323Z"
      },
      {
        "duration": 9,
        "start_time": "2022-04-27T15:14:29.339Z"
      },
      {
        "duration": 172,
        "start_time": "2022-04-27T15:14:29.350Z"
      },
      {
        "duration": 11,
        "start_time": "2022-04-27T15:14:29.525Z"
      },
      {
        "duration": 115,
        "start_time": "2022-04-27T15:14:29.540Z"
      },
      {
        "duration": 16,
        "start_time": "2022-04-27T15:14:29.658Z"
      },
      {
        "duration": 93,
        "start_time": "2022-04-27T15:14:29.678Z"
      },
      {
        "duration": 148,
        "start_time": "2022-04-27T15:14:29.774Z"
      },
      {
        "duration": 42,
        "start_time": "2022-04-27T15:14:29.924Z"
      },
      {
        "duration": 50,
        "start_time": "2022-04-27T15:14:29.970Z"
      },
      {
        "duration": 19,
        "start_time": "2022-04-27T15:14:30.023Z"
      },
      {
        "duration": 79,
        "start_time": "2022-04-27T15:14:30.045Z"
      },
      {
        "duration": 19,
        "start_time": "2022-04-27T15:14:30.128Z"
      },
      {
        "duration": 23,
        "start_time": "2022-04-27T15:14:30.149Z"
      },
      {
        "duration": 53,
        "start_time": "2022-04-27T15:14:30.174Z"
      },
      {
        "duration": 298,
        "start_time": "2022-04-27T15:14:30.232Z"
      },
      {
        "duration": 31,
        "start_time": "2022-04-27T15:14:30.532Z"
      },
      {
        "duration": 28,
        "start_time": "2022-04-27T15:15:15.368Z"
      },
      {
        "duration": 187,
        "start_time": "2022-04-27T15:20:15.607Z"
      },
      {
        "duration": 186,
        "start_time": "2022-04-27T15:21:05.661Z"
      },
      {
        "duration": 128,
        "start_time": "2022-04-27T15:21:51.544Z"
      },
      {
        "duration": 108,
        "start_time": "2022-04-27T15:22:48.503Z"
      },
      {
        "duration": 5,
        "start_time": "2022-04-27T15:26:22.895Z"
      },
      {
        "duration": 33,
        "start_time": "2022-04-27T15:26:28.261Z"
      },
      {
        "duration": 42,
        "start_time": "2022-04-27T15:26:40.789Z"
      },
      {
        "duration": 103,
        "start_time": "2022-04-27T15:28:26.033Z"
      },
      {
        "duration": 26,
        "start_time": "2022-04-27T15:29:17.633Z"
      },
      {
        "duration": 59,
        "start_time": "2022-04-27T15:30:21.180Z"
      },
      {
        "duration": 22,
        "start_time": "2022-04-27T15:30:59.500Z"
      },
      {
        "duration": 9,
        "start_time": "2022-04-27T15:32:04.524Z"
      },
      {
        "duration": 34,
        "start_time": "2022-04-27T15:36:09.400Z"
      },
      {
        "duration": 1553,
        "start_time": "2022-04-27T15:36:33.813Z"
      },
      {
        "duration": 177,
        "start_time": "2022-04-27T15:42:59.678Z"
      },
      {
        "duration": 175,
        "start_time": "2022-04-27T15:43:18.767Z"
      },
      {
        "duration": 482,
        "start_time": "2022-04-27T17:07:10.914Z"
      },
      {
        "duration": 584,
        "start_time": "2022-04-27T17:07:30.146Z"
      },
      {
        "duration": 39,
        "start_time": "2022-04-27T17:09:41.605Z"
      },
      {
        "duration": 1258,
        "start_time": "2022-04-27T17:09:54.272Z"
      },
      {
        "duration": 95,
        "start_time": "2022-04-27T17:09:55.533Z"
      },
      {
        "duration": 13,
        "start_time": "2022-04-27T17:09:55.630Z"
      },
      {
        "duration": 177,
        "start_time": "2022-04-27T17:09:55.647Z"
      },
      {
        "duration": 232,
        "start_time": "2022-04-27T17:09:55.827Z"
      },
      {
        "duration": 70,
        "start_time": "2022-04-27T17:09:56.061Z"
      },
      {
        "duration": 115,
        "start_time": "2022-04-27T17:09:56.134Z"
      },
      {
        "duration": 265,
        "start_time": "2022-04-27T17:09:56.251Z"
      },
      {
        "duration": 42,
        "start_time": "2022-04-27T17:09:56.518Z"
      },
      {
        "duration": 86,
        "start_time": "2022-04-27T17:09:56.564Z"
      },
      {
        "duration": 25,
        "start_time": "2022-04-27T17:09:56.652Z"
      },
      {
        "duration": 58,
        "start_time": "2022-04-27T17:09:56.680Z"
      },
      {
        "duration": 20,
        "start_time": "2022-04-27T17:09:56.740Z"
      },
      {
        "duration": 12,
        "start_time": "2022-04-27T17:09:56.762Z"
      },
      {
        "duration": 22,
        "start_time": "2022-04-27T17:09:56.775Z"
      },
      {
        "duration": 7,
        "start_time": "2022-04-27T17:09:56.799Z"
      },
      {
        "duration": 121,
        "start_time": "2022-04-27T17:09:56.808Z"
      },
      {
        "duration": 11,
        "start_time": "2022-04-27T17:09:56.932Z"
      },
      {
        "duration": 87,
        "start_time": "2022-04-27T17:09:56.946Z"
      },
      {
        "duration": 14,
        "start_time": "2022-04-27T17:09:57.036Z"
      },
      {
        "duration": 81,
        "start_time": "2022-04-27T17:09:57.053Z"
      },
      {
        "duration": 60,
        "start_time": "2022-04-27T17:09:57.137Z"
      },
      {
        "duration": 26,
        "start_time": "2022-04-27T17:09:57.200Z"
      },
      {
        "duration": 21,
        "start_time": "2022-04-27T17:09:57.228Z"
      },
      {
        "duration": 43,
        "start_time": "2022-04-27T17:09:57.251Z"
      },
      {
        "duration": 38,
        "start_time": "2022-04-27T17:09:57.297Z"
      },
      {
        "duration": 11,
        "start_time": "2022-04-27T17:09:57.337Z"
      },
      {
        "duration": 14,
        "start_time": "2022-04-27T17:09:57.354Z"
      },
      {
        "duration": 29,
        "start_time": "2022-04-27T17:09:57.393Z"
      },
      {
        "duration": 229,
        "start_time": "2022-04-27T17:09:57.424Z"
      },
      {
        "duration": 456,
        "start_time": "2022-04-27T17:09:57.655Z"
      },
      {
        "duration": 376,
        "start_time": "2022-04-27T17:10:36.161Z"
      },
      {
        "duration": 128,
        "start_time": "2022-04-27T17:16:28.460Z"
      },
      {
        "duration": 20,
        "start_time": "2022-04-27T17:16:47.826Z"
      },
      {
        "duration": 3012,
        "start_time": "2022-04-27T17:17:23.238Z"
      },
      {
        "duration": 2872,
        "start_time": "2022-04-27T17:17:53.444Z"
      },
      {
        "duration": 340,
        "start_time": "2022-04-27T17:19:02.935Z"
      },
      {
        "duration": 2706,
        "start_time": "2022-04-27T17:19:22.822Z"
      },
      {
        "duration": 384,
        "start_time": "2022-04-27T17:19:32.823Z"
      },
      {
        "duration": 68,
        "start_time": "2022-04-27T17:21:44.645Z"
      },
      {
        "duration": 39,
        "start_time": "2022-04-27T17:22:16.206Z"
      },
      {
        "duration": 44,
        "start_time": "2022-04-27T17:22:40.591Z"
      },
      {
        "duration": 2888,
        "start_time": "2022-04-27T17:22:56.766Z"
      },
      {
        "duration": 2835,
        "start_time": "2022-04-27T17:23:17.320Z"
      },
      {
        "duration": 253,
        "start_time": "2022-04-27T17:32:22.770Z"
      },
      {
        "duration": 247,
        "start_time": "2022-04-27T17:32:59.292Z"
      },
      {
        "duration": 3702,
        "start_time": "2022-04-27T17:36:53.550Z"
      },
      {
        "duration": 29,
        "start_time": "2022-04-27T17:37:31.894Z"
      },
      {
        "duration": 2883,
        "start_time": "2022-04-27T17:38:46.397Z"
      },
      {
        "duration": 22,
        "start_time": "2022-04-27T17:39:27.777Z"
      },
      {
        "duration": 32,
        "start_time": "2022-04-27T17:43:19.849Z"
      },
      {
        "duration": 34,
        "start_time": "2022-04-27T17:46:23.763Z"
      },
      {
        "duration": 38,
        "start_time": "2022-04-27T17:48:00.389Z"
      },
      {
        "duration": 36,
        "start_time": "2022-04-27T17:48:09.491Z"
      },
      {
        "duration": 46,
        "start_time": "2022-04-27T17:48:51.955Z"
      },
      {
        "duration": 1143,
        "start_time": "2022-04-27T17:52:04.326Z"
      },
      {
        "duration": 32,
        "start_time": "2022-04-27T17:52:48.101Z"
      },
      {
        "duration": 32,
        "start_time": "2022-04-27T17:53:01.164Z"
      },
      {
        "duration": 348,
        "start_time": "2022-04-27T17:55:52.868Z"
      },
      {
        "duration": 495,
        "start_time": "2022-04-27T17:57:07.215Z"
      },
      {
        "duration": 74,
        "start_time": "2022-04-27T18:02:24.483Z"
      },
      {
        "duration": 32,
        "start_time": "2022-04-27T18:03:00.764Z"
      },
      {
        "duration": 27,
        "start_time": "2022-04-27T18:03:08.511Z"
      },
      {
        "duration": 26,
        "start_time": "2022-04-27T18:12:26.694Z"
      },
      {
        "duration": 27,
        "start_time": "2022-04-27T18:12:29.609Z"
      },
      {
        "duration": 28,
        "start_time": "2022-04-27T18:12:53.881Z"
      },
      {
        "duration": 28,
        "start_time": "2022-04-27T18:13:33.247Z"
      },
      {
        "duration": 102,
        "start_time": "2022-04-27T18:14:27.018Z"
      },
      {
        "duration": 2882,
        "start_time": "2022-04-27T18:14:45.680Z"
      },
      {
        "duration": 2992,
        "start_time": "2022-04-27T18:14:49.378Z"
      },
      {
        "duration": 31,
        "start_time": "2022-04-27T18:15:39.452Z"
      },
      {
        "duration": 47,
        "start_time": "2022-04-27T18:15:55.085Z"
      },
      {
        "duration": 38,
        "start_time": "2022-04-27T18:28:33.155Z"
      },
      {
        "duration": 55,
        "start_time": "2022-04-27T18:29:00.985Z"
      },
      {
        "duration": 8,
        "start_time": "2022-04-27T18:42:18.590Z"
      },
      {
        "duration": 1183,
        "start_time": "2022-04-27T18:42:26.330Z"
      },
      {
        "duration": 8,
        "start_time": "2022-04-27T18:42:27.516Z"
      },
      {
        "duration": 102,
        "start_time": "2022-04-27T18:42:27.527Z"
      },
      {
        "duration": 13,
        "start_time": "2022-04-27T18:42:27.632Z"
      },
      {
        "duration": 147,
        "start_time": "2022-04-27T18:42:27.647Z"
      },
      {
        "duration": 237,
        "start_time": "2022-04-27T18:42:27.796Z"
      },
      {
        "duration": 63,
        "start_time": "2022-04-27T18:42:28.036Z"
      },
      {
        "duration": 115,
        "start_time": "2022-04-27T18:42:28.102Z"
      },
      {
        "duration": 166,
        "start_time": "2022-04-27T18:42:28.219Z"
      },
      {
        "duration": 43,
        "start_time": "2022-04-27T18:42:28.395Z"
      },
      {
        "duration": 87,
        "start_time": "2022-04-27T18:42:28.440Z"
      },
      {
        "duration": 25,
        "start_time": "2022-04-27T18:42:28.529Z"
      },
      {
        "duration": 84,
        "start_time": "2022-04-27T18:42:28.557Z"
      },
      {
        "duration": 23,
        "start_time": "2022-04-27T18:42:28.643Z"
      },
      {
        "duration": 9,
        "start_time": "2022-04-27T18:42:28.668Z"
      },
      {
        "duration": 23,
        "start_time": "2022-04-27T18:42:28.679Z"
      },
      {
        "duration": 7,
        "start_time": "2022-04-27T18:42:28.704Z"
      },
      {
        "duration": 125,
        "start_time": "2022-04-27T18:42:28.713Z"
      },
      {
        "duration": 14,
        "start_time": "2022-04-27T18:42:28.841Z"
      },
      {
        "duration": 103,
        "start_time": "2022-04-27T18:42:28.858Z"
      },
      {
        "duration": 16,
        "start_time": "2022-04-27T18:42:28.963Z"
      },
      {
        "duration": 78,
        "start_time": "2022-04-27T18:42:28.994Z"
      },
      {
        "duration": 82,
        "start_time": "2022-04-27T18:42:29.074Z"
      },
      {
        "duration": 53,
        "start_time": "2022-04-27T18:42:29.159Z"
      },
      {
        "duration": 19,
        "start_time": "2022-04-27T18:42:29.214Z"
      },
      {
        "duration": 13,
        "start_time": "2022-04-27T18:42:29.235Z"
      },
      {
        "duration": 56,
        "start_time": "2022-04-27T18:42:29.250Z"
      },
      {
        "duration": 9,
        "start_time": "2022-04-27T18:42:29.313Z"
      },
      {
        "duration": 17,
        "start_time": "2022-04-27T18:42:29.324Z"
      },
      {
        "duration": 60,
        "start_time": "2022-04-27T18:42:29.343Z"
      },
      {
        "duration": 229,
        "start_time": "2022-04-27T18:42:29.405Z"
      },
      {
        "duration": 35,
        "start_time": "2022-04-27T18:42:29.638Z"
      },
      {
        "duration": 53,
        "start_time": "2022-04-27T18:42:29.694Z"
      },
      {
        "duration": 28,
        "start_time": "2022-04-27T19:57:03.554Z"
      },
      {
        "duration": 134,
        "start_time": "2022-04-27T19:57:30.371Z"
      },
      {
        "duration": 103,
        "start_time": "2022-04-27T19:59:22.843Z"
      },
      {
        "duration": 1096,
        "start_time": "2022-04-27T19:59:37.588Z"
      },
      {
        "duration": 77,
        "start_time": "2022-04-27T19:59:38.694Z"
      },
      {
        "duration": 25,
        "start_time": "2022-04-27T19:59:38.773Z"
      },
      {
        "duration": 142,
        "start_time": "2022-04-27T19:59:38.801Z"
      },
      {
        "duration": 217,
        "start_time": "2022-04-27T19:59:38.945Z"
      },
      {
        "duration": 63,
        "start_time": "2022-04-27T19:59:39.164Z"
      },
      {
        "duration": 102,
        "start_time": "2022-04-27T19:59:39.229Z"
      },
      {
        "duration": 154,
        "start_time": "2022-04-27T19:59:39.333Z"
      },
      {
        "duration": 40,
        "start_time": "2022-04-27T19:59:39.492Z"
      },
      {
        "duration": 74,
        "start_time": "2022-04-27T19:59:39.536Z"
      },
      {
        "duration": 24,
        "start_time": "2022-04-27T19:59:39.612Z"
      },
      {
        "duration": 52,
        "start_time": "2022-04-27T19:59:39.639Z"
      },
      {
        "duration": 20,
        "start_time": "2022-04-27T19:59:39.693Z"
      },
      {
        "duration": 12,
        "start_time": "2022-04-27T19:59:39.716Z"
      },
      {
        "duration": 4,
        "start_time": "2022-04-27T19:59:39.731Z"
      },
      {
        "duration": 153,
        "start_time": "2022-04-27T19:59:39.738Z"
      },
      {
        "duration": 59,
        "start_time": "2022-04-27T19:59:39.894Z"
      },
      {
        "duration": 79,
        "start_time": "2022-04-27T19:59:39.956Z"
      },
      {
        "duration": 56,
        "start_time": "2022-04-27T19:59:40.038Z"
      },
      {
        "duration": 26,
        "start_time": "2022-04-27T19:59:40.097Z"
      },
      {
        "duration": 19,
        "start_time": "2022-04-27T19:59:40.126Z"
      },
      {
        "duration": 12,
        "start_time": "2022-04-27T19:59:40.147Z"
      },
      {
        "duration": 24,
        "start_time": "2022-04-27T19:59:40.192Z"
      },
      {
        "duration": 9,
        "start_time": "2022-04-27T19:59:40.218Z"
      },
      {
        "duration": 12,
        "start_time": "2022-04-27T19:59:40.228Z"
      },
      {
        "duration": 60,
        "start_time": "2022-04-27T19:59:40.242Z"
      },
      {
        "duration": 219,
        "start_time": "2022-04-27T19:59:40.304Z"
      },
      {
        "duration": 32,
        "start_time": "2022-04-27T19:59:40.527Z"
      },
      {
        "duration": 69,
        "start_time": "2022-04-27T19:59:40.561Z"
      },
      {
        "duration": 119,
        "start_time": "2022-04-27T19:59:40.632Z"
      },
      {
        "duration": 21,
        "start_time": "2022-04-27T20:01:52.447Z"
      },
      {
        "duration": 14,
        "start_time": "2022-04-27T20:04:16.569Z"
      },
      {
        "duration": 14,
        "start_time": "2022-04-27T20:05:20.017Z"
      },
      {
        "duration": 2030,
        "start_time": "2022-04-27T20:06:59.286Z"
      },
      {
        "duration": 2123,
        "start_time": "2022-04-27T20:09:58.582Z"
      },
      {
        "duration": 54,
        "start_time": "2022-04-27T20:14:31.314Z"
      },
      {
        "duration": 37,
        "start_time": "2022-04-27T20:15:07.639Z"
      },
      {
        "duration": 17,
        "start_time": "2022-04-27T20:17:34.175Z"
      },
      {
        "duration": 39,
        "start_time": "2022-04-27T20:17:40.081Z"
      },
      {
        "duration": 75,
        "start_time": "2022-04-27T20:18:55.148Z"
      },
      {
        "duration": 208,
        "start_time": "2022-04-27T20:19:53.068Z"
      },
      {
        "duration": 184,
        "start_time": "2022-04-27T20:21:09.152Z"
      },
      {
        "duration": 1205,
        "start_time": "2022-04-27T20:33:27.451Z"
      },
      {
        "duration": 96,
        "start_time": "2022-04-27T20:33:28.659Z"
      },
      {
        "duration": 15,
        "start_time": "2022-04-27T20:33:28.758Z"
      },
      {
        "duration": 155,
        "start_time": "2022-04-27T20:33:28.796Z"
      },
      {
        "duration": 248,
        "start_time": "2022-04-27T20:33:28.953Z"
      },
      {
        "duration": 52,
        "start_time": "2022-04-27T20:33:29.203Z"
      },
      {
        "duration": 137,
        "start_time": "2022-04-27T20:33:29.257Z"
      },
      {
        "duration": 245,
        "start_time": "2022-04-27T20:33:29.397Z"
      },
      {
        "duration": 80,
        "start_time": "2022-04-27T20:33:29.645Z"
      },
      {
        "duration": 96,
        "start_time": "2022-04-27T20:33:29.731Z"
      },
      {
        "duration": 31,
        "start_time": "2022-04-27T20:33:29.830Z"
      },
      {
        "duration": 54,
        "start_time": "2022-04-27T20:33:29.864Z"
      },
      {
        "duration": 21,
        "start_time": "2022-04-27T20:33:29.920Z"
      },
      {
        "duration": 14,
        "start_time": "2022-04-27T20:33:29.943Z"
      },
      {
        "duration": 34,
        "start_time": "2022-04-27T20:33:29.960Z"
      },
      {
        "duration": 127,
        "start_time": "2022-04-27T20:33:29.997Z"
      },
      {
        "duration": 96,
        "start_time": "2022-04-27T20:33:30.127Z"
      },
      {
        "duration": 92,
        "start_time": "2022-04-27T20:33:30.226Z"
      },
      {
        "duration": 48,
        "start_time": "2022-04-27T20:33:30.320Z"
      },
      {
        "duration": 49,
        "start_time": "2022-04-27T20:33:30.370Z"
      },
      {
        "duration": 26,
        "start_time": "2022-04-27T20:33:30.422Z"
      },
      {
        "duration": 45,
        "start_time": "2022-04-27T20:33:30.451Z"
      },
      {
        "duration": 45,
        "start_time": "2022-04-27T20:33:30.498Z"
      },
      {
        "duration": 13,
        "start_time": "2022-04-27T20:33:30.546Z"
      },
      {
        "duration": 42,
        "start_time": "2022-04-27T20:33:30.562Z"
      },
      {
        "duration": 45,
        "start_time": "2022-04-27T20:33:30.607Z"
      },
      {
        "duration": 371,
        "start_time": "2022-04-27T20:33:30.655Z"
      },
      {
        "duration": 48,
        "start_time": "2022-04-27T20:33:31.032Z"
      },
      {
        "duration": 216,
        "start_time": "2022-04-27T20:33:31.083Z"
      },
      {
        "duration": 2996,
        "start_time": "2022-04-27T20:33:31.302Z"
      },
      {
        "duration": 50,
        "start_time": "2022-04-28T08:27:07.514Z"
      },
      {
        "duration": 972,
        "start_time": "2022-04-28T08:27:16.699Z"
      },
      {
        "duration": 58,
        "start_time": "2022-04-28T08:27:17.673Z"
      },
      {
        "duration": 30,
        "start_time": "2022-04-28T08:27:17.732Z"
      },
      {
        "duration": 130,
        "start_time": "2022-04-28T08:27:17.765Z"
      },
      {
        "duration": 173,
        "start_time": "2022-04-28T08:27:17.897Z"
      },
      {
        "duration": 36,
        "start_time": "2022-04-28T08:27:18.072Z"
      },
      {
        "duration": 81,
        "start_time": "2022-04-28T08:27:18.110Z"
      },
      {
        "duration": 118,
        "start_time": "2022-04-28T08:27:18.193Z"
      },
      {
        "duration": 42,
        "start_time": "2022-04-28T08:27:18.313Z"
      },
      {
        "duration": 41,
        "start_time": "2022-04-28T08:27:18.359Z"
      },
      {
        "duration": 18,
        "start_time": "2022-04-28T08:27:18.402Z"
      },
      {
        "duration": 39,
        "start_time": "2022-04-28T08:27:18.422Z"
      },
      {
        "duration": 12,
        "start_time": "2022-04-28T08:27:18.462Z"
      },
      {
        "duration": 13,
        "start_time": "2022-04-28T08:27:18.476Z"
      },
      {
        "duration": 3,
        "start_time": "2022-04-28T08:27:18.491Z"
      },
      {
        "duration": 97,
        "start_time": "2022-04-28T08:27:18.496Z"
      },
      {
        "duration": 41,
        "start_time": "2022-04-28T08:27:18.594Z"
      },
      {
        "duration": 52,
        "start_time": "2022-04-28T08:27:18.637Z"
      },
      {
        "duration": 29,
        "start_time": "2022-04-28T08:27:18.691Z"
      },
      {
        "duration": 35,
        "start_time": "2022-04-28T08:27:18.721Z"
      },
      {
        "duration": 8,
        "start_time": "2022-04-28T08:27:18.757Z"
      },
      {
        "duration": 15,
        "start_time": "2022-04-28T08:27:18.767Z"
      },
      {
        "duration": 8,
        "start_time": "2022-04-28T08:27:18.784Z"
      },
      {
        "duration": 19,
        "start_time": "2022-04-28T08:27:18.793Z"
      },
      {
        "duration": 6,
        "start_time": "2022-04-28T08:27:18.814Z"
      },
      {
        "duration": 40,
        "start_time": "2022-04-28T08:27:18.821Z"
      },
      {
        "duration": 25,
        "start_time": "2022-04-28T08:27:18.863Z"
      },
      {
        "duration": 189,
        "start_time": "2022-04-28T08:27:18.893Z"
      },
      {
        "duration": 21,
        "start_time": "2022-04-28T08:27:19.083Z"
      },
      {
        "duration": 121,
        "start_time": "2022-04-28T08:27:19.106Z"
      },
      {
        "duration": 1141,
        "start_time": "2022-04-28T08:27:19.229Z"
      },
      {
        "duration": 8,
        "start_time": "2022-04-28T09:17:47.124Z"
      },
      {
        "duration": 6,
        "start_time": "2022-04-28T09:18:12.893Z"
      },
      {
        "duration": 9,
        "start_time": "2022-04-28T09:18:45.228Z"
      },
      {
        "duration": 90,
        "start_time": "2022-04-28T09:20:03.830Z"
      },
      {
        "duration": 11,
        "start_time": "2022-04-28T09:20:10.716Z"
      },
      {
        "duration": 7,
        "start_time": "2022-04-28T09:21:08.937Z"
      },
      {
        "duration": 871,
        "start_time": "2022-04-28T09:21:20.438Z"
      },
      {
        "duration": 62,
        "start_time": "2022-04-28T09:21:21.311Z"
      },
      {
        "duration": 9,
        "start_time": "2022-04-28T09:21:21.375Z"
      },
      {
        "duration": 110,
        "start_time": "2022-04-28T09:21:21.386Z"
      },
      {
        "duration": 173,
        "start_time": "2022-04-28T09:21:21.498Z"
      },
      {
        "duration": 34,
        "start_time": "2022-04-28T09:21:21.673Z"
      },
      {
        "duration": 76,
        "start_time": "2022-04-28T09:21:21.709Z"
      },
      {
        "duration": 115,
        "start_time": "2022-04-28T09:21:21.787Z"
      },
      {
        "duration": 28,
        "start_time": "2022-04-28T09:21:21.903Z"
      },
      {
        "duration": 56,
        "start_time": "2022-04-28T09:21:21.935Z"
      },
      {
        "duration": 15,
        "start_time": "2022-04-28T09:21:21.993Z"
      },
      {
        "duration": 29,
        "start_time": "2022-04-28T09:21:22.010Z"
      },
      {
        "duration": 22,
        "start_time": "2022-04-28T09:21:22.041Z"
      },
      {
        "duration": 12,
        "start_time": "2022-04-28T09:21:22.065Z"
      },
      {
        "duration": 11,
        "start_time": "2022-04-28T09:21:22.079Z"
      },
      {
        "duration": 84,
        "start_time": "2022-04-28T09:21:22.091Z"
      },
      {
        "duration": 41,
        "start_time": "2022-04-28T09:21:22.177Z"
      },
      {
        "duration": 56,
        "start_time": "2022-04-28T09:21:22.220Z"
      },
      {
        "duration": 31,
        "start_time": "2022-04-28T09:21:22.278Z"
      },
      {
        "duration": 18,
        "start_time": "2022-04-28T09:21:22.311Z"
      },
      {
        "duration": 15,
        "start_time": "2022-04-28T09:21:22.354Z"
      },
      {
        "duration": 20,
        "start_time": "2022-04-28T09:21:22.370Z"
      },
      {
        "duration": 16,
        "start_time": "2022-04-28T09:21:22.392Z"
      },
      {
        "duration": 26,
        "start_time": "2022-04-28T09:21:22.410Z"
      },
      {
        "duration": 7,
        "start_time": "2022-04-28T09:21:22.438Z"
      },
      {
        "duration": 8,
        "start_time": "2022-04-28T09:21:22.454Z"
      },
      {
        "duration": 29,
        "start_time": "2022-04-28T09:21:22.463Z"
      },
      {
        "duration": 131,
        "start_time": "2022-04-28T09:21:22.496Z"
      },
      {
        "duration": 29,
        "start_time": "2022-04-28T09:21:22.628Z"
      },
      {
        "duration": 78,
        "start_time": "2022-04-28T09:21:22.659Z"
      },
      {
        "duration": 1134,
        "start_time": "2022-04-28T09:21:22.755Z"
      },
      {
        "duration": 9,
        "start_time": "2022-04-28T09:25:34.388Z"
      },
      {
        "duration": 8,
        "start_time": "2022-04-28T09:25:49.730Z"
      },
      {
        "duration": 826,
        "start_time": "2022-04-28T09:25:57.559Z"
      },
      {
        "duration": 66,
        "start_time": "2022-04-28T09:25:58.388Z"
      },
      {
        "duration": 10,
        "start_time": "2022-04-28T09:25:58.456Z"
      },
      {
        "duration": 106,
        "start_time": "2022-04-28T09:25:58.468Z"
      },
      {
        "duration": 164,
        "start_time": "2022-04-28T09:25:58.575Z"
      },
      {
        "duration": 40,
        "start_time": "2022-04-28T09:25:58.740Z"
      },
      {
        "duration": 54,
        "start_time": "2022-04-28T09:25:58.782Z"
      },
      {
        "duration": 118,
        "start_time": "2022-04-28T09:25:58.837Z"
      },
      {
        "duration": 27,
        "start_time": "2022-04-28T09:25:58.957Z"
      },
      {
        "duration": 39,
        "start_time": "2022-04-28T09:25:58.986Z"
      },
      {
        "duration": 33,
        "start_time": "2022-04-28T09:25:59.027Z"
      },
      {
        "duration": 28,
        "start_time": "2022-04-28T09:25:59.061Z"
      },
      {
        "duration": 12,
        "start_time": "2022-04-28T09:25:59.091Z"
      },
      {
        "duration": 21,
        "start_time": "2022-04-28T09:25:59.104Z"
      },
      {
        "duration": 24,
        "start_time": "2022-04-28T09:25:59.126Z"
      },
      {
        "duration": 98,
        "start_time": "2022-04-28T09:25:59.152Z"
      },
      {
        "duration": 41,
        "start_time": "2022-04-28T09:25:59.252Z"
      },
      {
        "duration": 37,
        "start_time": "2022-04-28T09:25:59.295Z"
      },
      {
        "duration": 36,
        "start_time": "2022-04-28T09:25:59.334Z"
      },
      {
        "duration": 15,
        "start_time": "2022-04-28T09:25:59.372Z"
      },
      {
        "duration": 22,
        "start_time": "2022-04-28T09:25:59.388Z"
      },
      {
        "duration": 22,
        "start_time": "2022-04-28T09:25:59.412Z"
      },
      {
        "duration": 22,
        "start_time": "2022-04-28T09:25:59.435Z"
      },
      {
        "duration": 36,
        "start_time": "2022-04-28T09:25:59.459Z"
      },
      {
        "duration": 24,
        "start_time": "2022-04-28T09:25:59.497Z"
      },
      {
        "duration": 25,
        "start_time": "2022-04-28T09:25:59.523Z"
      },
      {
        "duration": 33,
        "start_time": "2022-04-28T09:25:59.549Z"
      },
      {
        "duration": 41,
        "start_time": "2022-04-28T09:25:59.585Z"
      },
      {
        "duration": 123,
        "start_time": "2022-04-28T09:25:59.627Z"
      },
      {
        "duration": 18,
        "start_time": "2022-04-28T09:25:59.752Z"
      },
      {
        "duration": 87,
        "start_time": "2022-04-28T09:25:59.772Z"
      },
      {
        "duration": 1115,
        "start_time": "2022-04-28T09:25:59.860Z"
      },
      {
        "duration": 9,
        "start_time": "2022-04-28T09:42:54.984Z"
      },
      {
        "duration": 214,
        "start_time": "2022-04-28T09:43:02.450Z"
      },
      {
        "duration": 55,
        "start_time": "2022-04-28T09:43:02.666Z"
      },
      {
        "duration": 9,
        "start_time": "2022-04-28T09:43:02.723Z"
      },
      {
        "duration": 102,
        "start_time": "2022-04-28T09:43:02.754Z"
      },
      {
        "duration": 170,
        "start_time": "2022-04-28T09:43:02.858Z"
      },
      {
        "duration": 43,
        "start_time": "2022-04-28T09:43:03.030Z"
      },
      {
        "duration": 67,
        "start_time": "2022-04-28T09:43:03.075Z"
      },
      {
        "duration": 128,
        "start_time": "2022-04-28T09:43:03.143Z"
      },
      {
        "duration": 29,
        "start_time": "2022-04-28T09:43:03.273Z"
      },
      {
        "duration": 59,
        "start_time": "2022-04-28T09:43:03.305Z"
      },
      {
        "duration": 14,
        "start_time": "2022-04-28T09:43:03.366Z"
      },
      {
        "duration": 40,
        "start_time": "2022-04-28T09:43:03.381Z"
      },
      {
        "duration": 13,
        "start_time": "2022-04-28T09:43:03.423Z"
      },
      {
        "duration": 31,
        "start_time": "2022-04-28T09:43:03.438Z"
      },
      {
        "duration": 22,
        "start_time": "2022-04-28T09:43:03.470Z"
      },
      {
        "duration": 93,
        "start_time": "2022-04-28T09:43:03.494Z"
      },
      {
        "duration": 44,
        "start_time": "2022-04-28T09:43:03.588Z"
      },
      {
        "duration": 54,
        "start_time": "2022-04-28T09:43:03.633Z"
      },
      {
        "duration": 29,
        "start_time": "2022-04-28T09:43:03.688Z"
      },
      {
        "duration": 16,
        "start_time": "2022-04-28T09:43:03.718Z"
      },
      {
        "duration": 29,
        "start_time": "2022-04-28T09:43:03.735Z"
      },
      {
        "duration": 11,
        "start_time": "2022-04-28T09:43:03.765Z"
      },
      {
        "duration": 31,
        "start_time": "2022-04-28T09:43:03.778Z"
      },
      {
        "duration": 45,
        "start_time": "2022-04-28T09:43:03.811Z"
      },
      {
        "duration": 190,
        "start_time": "2022-04-28T09:43:13.147Z"
      },
      {
        "duration": 53,
        "start_time": "2022-04-28T09:43:13.354Z"
      },
      {
        "duration": 10,
        "start_time": "2022-04-28T09:43:13.408Z"
      },
      {
        "duration": 114,
        "start_time": "2022-04-28T09:43:13.420Z"
      },
      {
        "duration": 169,
        "start_time": "2022-04-28T09:43:13.535Z"
      },
      {
        "duration": 54,
        "start_time": "2022-04-28T09:43:13.706Z"
      },
      {
        "duration": 54,
        "start_time": "2022-04-28T09:43:13.762Z"
      },
      {
        "duration": 112,
        "start_time": "2022-04-28T09:43:13.818Z"
      },
      {
        "duration": 40,
        "start_time": "2022-04-28T09:43:13.931Z"
      },
      {
        "duration": 40,
        "start_time": "2022-04-28T09:43:13.974Z"
      },
      {
        "duration": 13,
        "start_time": "2022-04-28T09:43:14.015Z"
      },
      {
        "duration": 38,
        "start_time": "2022-04-28T09:43:14.030Z"
      },
      {
        "duration": 12,
        "start_time": "2022-04-28T09:43:14.069Z"
      },
      {
        "duration": 8,
        "start_time": "2022-04-28T09:43:14.082Z"
      },
      {
        "duration": 4,
        "start_time": "2022-04-28T09:43:14.092Z"
      },
      {
        "duration": 84,
        "start_time": "2022-04-28T09:43:14.097Z"
      },
      {
        "duration": 39,
        "start_time": "2022-04-28T09:43:14.182Z"
      },
      {
        "duration": 54,
        "start_time": "2022-04-28T09:43:14.223Z"
      },
      {
        "duration": 106,
        "start_time": "2022-04-28T09:43:14.278Z"
      },
      {
        "duration": 17,
        "start_time": "2022-04-28T09:43:14.386Z"
      },
      {
        "duration": 13,
        "start_time": "2022-04-28T09:43:14.404Z"
      },
      {
        "duration": 6,
        "start_time": "2022-04-28T09:43:14.419Z"
      },
      {
        "duration": 30,
        "start_time": "2022-04-28T09:43:14.427Z"
      },
      {
        "duration": 20,
        "start_time": "2022-04-28T09:43:14.459Z"
      },
      {
        "duration": 13,
        "start_time": "2022-04-28T09:43:14.480Z"
      },
      {
        "duration": 18,
        "start_time": "2022-04-28T09:43:14.494Z"
      },
      {
        "duration": 10,
        "start_time": "2022-04-28T09:43:14.514Z"
      },
      {
        "duration": 18,
        "start_time": "2022-04-28T09:43:14.554Z"
      },
      {
        "duration": 129,
        "start_time": "2022-04-28T09:43:14.574Z"
      },
      {
        "duration": 20,
        "start_time": "2022-04-28T09:43:14.704Z"
      },
      {
        "duration": 86,
        "start_time": "2022-04-28T09:43:14.725Z"
      },
      {
        "duration": 1168,
        "start_time": "2022-04-28T09:43:14.813Z"
      },
      {
        "duration": 8,
        "start_time": "2022-04-28T09:45:36.313Z"
      },
      {
        "duration": 211,
        "start_time": "2022-04-28T10:49:39.346Z"
      },
      {
        "duration": 54,
        "start_time": "2022-04-28T10:49:39.559Z"
      },
      {
        "duration": 9,
        "start_time": "2022-04-28T10:49:39.614Z"
      },
      {
        "duration": 122,
        "start_time": "2022-04-28T10:49:39.626Z"
      },
      {
        "duration": 255,
        "start_time": "2022-04-28T10:49:39.754Z"
      },
      {
        "duration": 69,
        "start_time": "2022-04-28T10:49:40.011Z"
      },
      {
        "duration": 98,
        "start_time": "2022-04-28T10:49:40.082Z"
      },
      {
        "duration": 180,
        "start_time": "2022-04-28T10:49:40.182Z"
      },
      {
        "duration": 45,
        "start_time": "2022-04-28T10:49:40.364Z"
      },
      {
        "duration": 85,
        "start_time": "2022-04-28T10:49:40.412Z"
      },
      {
        "duration": 17,
        "start_time": "2022-04-28T10:49:40.499Z"
      },
      {
        "duration": 38,
        "start_time": "2022-04-28T10:49:40.517Z"
      },
      {
        "duration": 11,
        "start_time": "2022-04-28T10:49:40.557Z"
      },
      {
        "duration": 8,
        "start_time": "2022-04-28T10:49:40.570Z"
      },
      {
        "duration": 2,
        "start_time": "2022-04-28T10:49:40.579Z"
      },
      {
        "duration": 94,
        "start_time": "2022-04-28T10:49:40.583Z"
      },
      {
        "duration": 43,
        "start_time": "2022-04-28T10:49:40.679Z"
      },
      {
        "duration": 51,
        "start_time": "2022-04-28T10:49:40.724Z"
      },
      {
        "duration": 27,
        "start_time": "2022-04-28T10:49:40.776Z"
      },
      {
        "duration": 15,
        "start_time": "2022-04-28T10:49:40.805Z"
      },
      {
        "duration": 33,
        "start_time": "2022-04-28T10:49:40.822Z"
      },
      {
        "duration": 6,
        "start_time": "2022-04-28T10:49:40.857Z"
      },
      {
        "duration": 10,
        "start_time": "2022-04-28T10:49:40.864Z"
      },
      {
        "duration": 17,
        "start_time": "2022-04-28T10:49:40.875Z"
      },
      {
        "duration": 852,
        "start_time": "2022-04-28T10:49:49.612Z"
      },
      {
        "duration": 58,
        "start_time": "2022-04-28T10:49:50.467Z"
      },
      {
        "duration": 31,
        "start_time": "2022-04-28T10:49:50.528Z"
      },
      {
        "duration": 120,
        "start_time": "2022-04-28T10:49:50.562Z"
      },
      {
        "duration": 175,
        "start_time": "2022-04-28T10:49:50.684Z"
      },
      {
        "duration": 35,
        "start_time": "2022-04-28T10:49:50.860Z"
      },
      {
        "duration": 72,
        "start_time": "2022-04-28T10:49:50.896Z"
      },
      {
        "duration": 121,
        "start_time": "2022-04-28T10:49:50.969Z"
      },
      {
        "duration": 29,
        "start_time": "2022-04-28T10:49:51.091Z"
      },
      {
        "duration": 70,
        "start_time": "2022-04-28T10:49:51.121Z"
      },
      {
        "duration": 17,
        "start_time": "2022-04-28T10:49:51.193Z"
      },
      {
        "duration": 36,
        "start_time": "2022-04-28T10:49:51.212Z"
      },
      {
        "duration": 19,
        "start_time": "2022-04-28T10:49:51.249Z"
      },
      {
        "duration": 20,
        "start_time": "2022-04-28T10:49:51.271Z"
      },
      {
        "duration": 3,
        "start_time": "2022-04-28T10:49:51.293Z"
      },
      {
        "duration": 116,
        "start_time": "2022-04-28T10:49:51.298Z"
      },
      {
        "duration": 52,
        "start_time": "2022-04-28T10:49:51.415Z"
      },
      {
        "duration": 40,
        "start_time": "2022-04-28T10:49:51.469Z"
      },
      {
        "duration": 49,
        "start_time": "2022-04-28T10:49:51.512Z"
      },
      {
        "duration": 17,
        "start_time": "2022-04-28T10:49:51.563Z"
      },
      {
        "duration": 13,
        "start_time": "2022-04-28T10:49:51.581Z"
      },
      {
        "duration": 17,
        "start_time": "2022-04-28T10:49:51.596Z"
      },
      {
        "duration": 10,
        "start_time": "2022-04-28T10:49:51.615Z"
      },
      {
        "duration": 38,
        "start_time": "2022-04-28T10:49:51.627Z"
      },
      {
        "duration": 8,
        "start_time": "2022-04-28T10:49:51.666Z"
      },
      {
        "duration": 11,
        "start_time": "2022-04-28T10:49:51.676Z"
      },
      {
        "duration": 24,
        "start_time": "2022-04-28T10:49:51.688Z"
      },
      {
        "duration": 146,
        "start_time": "2022-04-28T10:49:51.714Z"
      },
      {
        "duration": 20,
        "start_time": "2022-04-28T10:49:51.862Z"
      },
      {
        "duration": 103,
        "start_time": "2022-04-28T10:49:51.883Z"
      },
      {
        "duration": 1251,
        "start_time": "2022-04-28T10:49:51.988Z"
      },
      {
        "duration": 10,
        "start_time": "2022-04-28T10:51:25.385Z"
      },
      {
        "duration": 18,
        "start_time": "2022-04-28T10:51:30.019Z"
      },
      {
        "duration": 859,
        "start_time": "2022-04-28T10:51:56.342Z"
      },
      {
        "duration": 63,
        "start_time": "2022-04-28T10:51:57.203Z"
      },
      {
        "duration": 10,
        "start_time": "2022-04-28T10:51:57.268Z"
      },
      {
        "duration": 119,
        "start_time": "2022-04-28T10:51:57.280Z"
      },
      {
        "duration": 174,
        "start_time": "2022-04-28T10:51:57.401Z"
      },
      {
        "duration": 35,
        "start_time": "2022-04-28T10:51:57.576Z"
      },
      {
        "duration": 78,
        "start_time": "2022-04-28T10:51:57.612Z"
      },
      {
        "duration": 119,
        "start_time": "2022-04-28T10:51:57.692Z"
      },
      {
        "duration": 28,
        "start_time": "2022-04-28T10:51:57.813Z"
      },
      {
        "duration": 42,
        "start_time": "2022-04-28T10:51:57.854Z"
      },
      {
        "duration": 14,
        "start_time": "2022-04-28T10:51:57.898Z"
      },
      {
        "duration": 29,
        "start_time": "2022-04-28T10:51:57.913Z"
      },
      {
        "duration": 20,
        "start_time": "2022-04-28T10:51:57.944Z"
      },
      {
        "duration": 7,
        "start_time": "2022-04-28T10:51:57.966Z"
      },
      {
        "duration": 3,
        "start_time": "2022-04-28T10:51:57.974Z"
      },
      {
        "duration": 101,
        "start_time": "2022-04-28T10:51:57.978Z"
      },
      {
        "duration": 41,
        "start_time": "2022-04-28T10:51:58.081Z"
      },
      {
        "duration": 54,
        "start_time": "2022-04-28T10:51:58.124Z"
      },
      {
        "duration": 28,
        "start_time": "2022-04-28T10:51:58.180Z"
      },
      {
        "duration": 15,
        "start_time": "2022-04-28T10:51:58.210Z"
      },
      {
        "duration": 34,
        "start_time": "2022-04-28T10:51:58.227Z"
      },
      {
        "duration": 8,
        "start_time": "2022-04-28T10:51:58.262Z"
      },
      {
        "duration": 17,
        "start_time": "2022-04-28T10:51:58.272Z"
      },
      {
        "duration": 7,
        "start_time": "2022-04-28T10:51:58.290Z"
      },
      {
        "duration": 10,
        "start_time": "2022-04-28T10:51:58.299Z"
      },
      {
        "duration": 11,
        "start_time": "2022-04-28T10:51:58.310Z"
      },
      {
        "duration": 153,
        "start_time": "2022-04-28T10:51:58.323Z"
      },
      {
        "duration": 20,
        "start_time": "2022-04-28T10:51:58.479Z"
      },
      {
        "duration": 96,
        "start_time": "2022-04-28T10:51:58.501Z"
      },
      {
        "duration": 1217,
        "start_time": "2022-04-28T10:51:58.599Z"
      },
      {
        "duration": 1155,
        "start_time": "2022-04-28T10:54:02.661Z"
      },
      {
        "duration": 9,
        "start_time": "2022-04-28T10:59:44.592Z"
      },
      {
        "duration": 68,
        "start_time": "2022-04-28T10:59:58.645Z"
      },
      {
        "duration": 10,
        "start_time": "2022-04-28T11:00:03.210Z"
      },
      {
        "duration": 9,
        "start_time": "2022-04-28T11:00:25.341Z"
      },
      {
        "duration": 9,
        "start_time": "2022-04-28T11:00:38.644Z"
      },
      {
        "duration": 9,
        "start_time": "2022-04-28T11:01:00.536Z"
      },
      {
        "duration": 9,
        "start_time": "2022-04-28T11:01:06.558Z"
      },
      {
        "duration": 23,
        "start_time": "2022-04-28T11:02:18.021Z"
      },
      {
        "duration": 20,
        "start_time": "2022-04-28T11:04:06.423Z"
      },
      {
        "duration": 864,
        "start_time": "2022-04-28T11:21:22.878Z"
      },
      {
        "duration": 8,
        "start_time": "2022-04-28T11:23:29.582Z"
      },
      {
        "duration": 25,
        "start_time": "2022-04-28T11:24:40.979Z"
      },
      {
        "duration": 8,
        "start_time": "2022-04-28T11:24:52.205Z"
      },
      {
        "duration": 167,
        "start_time": "2022-04-28T11:27:59.865Z"
      },
      {
        "duration": 12,
        "start_time": "2022-04-28T11:29:18.358Z"
      },
      {
        "duration": 29,
        "start_time": "2022-04-28T11:29:41.788Z"
      },
      {
        "duration": 8,
        "start_time": "2022-04-28T11:29:49.714Z"
      },
      {
        "duration": 5,
        "start_time": "2022-04-28T11:29:57.209Z"
      },
      {
        "duration": 20,
        "start_time": "2022-04-28T11:37:54.845Z"
      },
      {
        "duration": 18,
        "start_time": "2022-04-28T11:38:11.974Z"
      },
      {
        "duration": 17,
        "start_time": "2022-04-28T11:38:23.332Z"
      },
      {
        "duration": 12,
        "start_time": "2022-04-28T11:41:12.676Z"
      },
      {
        "duration": 12,
        "start_time": "2022-04-28T12:15:30.936Z"
      },
      {
        "duration": 9,
        "start_time": "2022-04-28T12:15:52.624Z"
      },
      {
        "duration": 19,
        "start_time": "2022-04-28T12:21:27.568Z"
      },
      {
        "duration": 19,
        "start_time": "2022-04-28T12:21:44.371Z"
      },
      {
        "duration": 12,
        "start_time": "2022-04-28T12:23:29.363Z"
      },
      {
        "duration": 971,
        "start_time": "2022-04-28T12:27:25.683Z"
      },
      {
        "duration": 1061,
        "start_time": "2022-04-28T12:28:10.351Z"
      },
      {
        "duration": 971,
        "start_time": "2022-04-28T12:28:31.408Z"
      },
      {
        "duration": 1038,
        "start_time": "2022-04-28T12:29:00.387Z"
      },
      {
        "duration": 1036,
        "start_time": "2022-04-28T12:29:46.644Z"
      },
      {
        "duration": 129,
        "start_time": "2022-04-28T12:36:11.471Z"
      },
      {
        "duration": 149,
        "start_time": "2022-04-28T12:36:28.202Z"
      },
      {
        "duration": 116,
        "start_time": "2022-04-28T12:37:49.969Z"
      },
      {
        "duration": 13,
        "start_time": "2022-04-28T12:40:21.877Z"
      },
      {
        "duration": 21,
        "start_time": "2022-04-28T13:06:29.587Z"
      },
      {
        "duration": 9,
        "start_time": "2022-04-28T13:08:04.202Z"
      },
      {
        "duration": 130,
        "start_time": "2022-04-28T13:09:06.566Z"
      },
      {
        "duration": 11,
        "start_time": "2022-04-28T13:11:30.570Z"
      },
      {
        "duration": 236,
        "start_time": "2022-04-28T13:13:10.883Z"
      },
      {
        "duration": 211,
        "start_time": "2022-04-28T13:13:16.678Z"
      },
      {
        "duration": 215,
        "start_time": "2022-04-28T13:13:22.609Z"
      },
      {
        "duration": 2036,
        "start_time": "2022-04-28T13:44:15.956Z"
      },
      {
        "duration": 200,
        "start_time": "2022-04-28T13:45:16.755Z"
      },
      {
        "duration": 86,
        "start_time": "2022-04-28T13:45:16.957Z"
      },
      {
        "duration": 17,
        "start_time": "2022-04-28T13:45:17.054Z"
      },
      {
        "duration": 97,
        "start_time": "2022-04-28T13:45:17.074Z"
      },
      {
        "duration": 171,
        "start_time": "2022-04-28T13:45:17.173Z"
      },
      {
        "duration": 49,
        "start_time": "2022-04-28T13:45:17.345Z"
      },
      {
        "duration": 76,
        "start_time": "2022-04-28T13:45:17.396Z"
      },
      {
        "duration": 122,
        "start_time": "2022-04-28T13:45:17.474Z"
      },
      {
        "duration": 27,
        "start_time": "2022-04-28T13:45:17.598Z"
      },
      {
        "duration": 58,
        "start_time": "2022-04-28T13:45:17.628Z"
      },
      {
        "duration": 14,
        "start_time": "2022-04-28T13:45:17.688Z"
      },
      {
        "duration": 29,
        "start_time": "2022-04-28T13:45:17.704Z"
      },
      {
        "duration": 25,
        "start_time": "2022-04-28T13:45:17.735Z"
      },
      {
        "duration": 17,
        "start_time": "2022-04-28T13:45:17.762Z"
      },
      {
        "duration": 620,
        "start_time": "2022-04-28T13:45:23.776Z"
      },
      {
        "duration": 73,
        "start_time": "2022-04-28T13:45:35.080Z"
      },
      {
        "duration": 554,
        "start_time": "2022-04-28T13:46:46.663Z"
      },
      {
        "duration": 577,
        "start_time": "2022-04-28T13:47:32.004Z"
      },
      {
        "duration": 151,
        "start_time": "2022-04-28T13:49:30.773Z"
      },
      {
        "duration": 10,
        "start_time": "2022-04-28T13:49:56.405Z"
      },
      {
        "duration": 13,
        "start_time": "2022-04-28T13:50:09.654Z"
      },
      {
        "duration": 1967,
        "start_time": "2022-04-28T13:50:15.868Z"
      },
      {
        "duration": 1435,
        "start_time": "2022-04-28T13:50:33.955Z"
      },
      {
        "duration": 2196,
        "start_time": "2022-04-28T13:50:35.393Z"
      },
      {
        "duration": 0,
        "start_time": "2022-04-28T13:50:37.593Z"
      },
      {
        "duration": 0,
        "start_time": "2022-04-28T13:50:37.595Z"
      },
      {
        "duration": 0,
        "start_time": "2022-04-28T13:50:37.596Z"
      },
      {
        "duration": 0,
        "start_time": "2022-04-28T13:50:37.597Z"
      },
      {
        "duration": 0,
        "start_time": "2022-04-28T13:50:37.599Z"
      },
      {
        "duration": 0,
        "start_time": "2022-04-28T13:50:37.600Z"
      },
      {
        "duration": 0,
        "start_time": "2022-04-28T13:50:37.601Z"
      },
      {
        "duration": 0,
        "start_time": "2022-04-28T13:50:37.602Z"
      },
      {
        "duration": 0,
        "start_time": "2022-04-28T13:50:37.603Z"
      },
      {
        "duration": 0,
        "start_time": "2022-04-28T13:50:37.604Z"
      },
      {
        "duration": 0,
        "start_time": "2022-04-28T13:50:37.605Z"
      },
      {
        "duration": 0,
        "start_time": "2022-04-28T13:50:37.606Z"
      },
      {
        "duration": 0,
        "start_time": "2022-04-28T13:50:37.607Z"
      },
      {
        "duration": 0,
        "start_time": "2022-04-28T13:50:37.608Z"
      },
      {
        "duration": 0,
        "start_time": "2022-04-28T13:50:37.609Z"
      },
      {
        "duration": 0,
        "start_time": "2022-04-28T13:50:37.610Z"
      },
      {
        "duration": 0,
        "start_time": "2022-04-28T13:50:37.610Z"
      },
      {
        "duration": 0,
        "start_time": "2022-04-28T13:50:37.611Z"
      },
      {
        "duration": 0,
        "start_time": "2022-04-28T13:50:37.614Z"
      },
      {
        "duration": 0,
        "start_time": "2022-04-28T13:50:37.615Z"
      },
      {
        "duration": 0,
        "start_time": "2022-04-28T13:50:37.616Z"
      },
      {
        "duration": 0,
        "start_time": "2022-04-28T13:50:37.617Z"
      },
      {
        "duration": 0,
        "start_time": "2022-04-28T13:50:37.618Z"
      },
      {
        "duration": 0,
        "start_time": "2022-04-28T13:50:37.619Z"
      },
      {
        "duration": 0,
        "start_time": "2022-04-28T13:50:37.620Z"
      },
      {
        "duration": 0,
        "start_time": "2022-04-28T13:50:37.621Z"
      },
      {
        "duration": 0,
        "start_time": "2022-04-28T13:50:37.622Z"
      },
      {
        "duration": 0,
        "start_time": "2022-04-28T13:50:37.623Z"
      },
      {
        "duration": 0,
        "start_time": "2022-04-28T13:50:37.625Z"
      },
      {
        "duration": 0,
        "start_time": "2022-04-28T13:50:37.626Z"
      },
      {
        "duration": 0,
        "start_time": "2022-04-28T13:50:37.627Z"
      },
      {
        "duration": 0,
        "start_time": "2022-04-28T13:50:37.627Z"
      },
      {
        "duration": 0,
        "start_time": "2022-04-28T13:50:37.628Z"
      },
      {
        "duration": 0,
        "start_time": "2022-04-28T13:50:37.629Z"
      },
      {
        "duration": 0,
        "start_time": "2022-04-28T13:50:37.630Z"
      },
      {
        "duration": 588,
        "start_time": "2022-04-28T13:50:47.890Z"
      },
      {
        "duration": 134,
        "start_time": "2022-04-28T13:51:00.880Z"
      },
      {
        "duration": 110,
        "start_time": "2022-04-28T13:53:30.172Z"
      },
      {
        "duration": 10,
        "start_time": "2022-04-28T14:51:43.941Z"
      },
      {
        "duration": 117,
        "start_time": "2022-04-28T14:52:06.084Z"
      },
      {
        "duration": 2152,
        "start_time": "2022-04-28T14:52:12.168Z"
      },
      {
        "duration": 56,
        "start_time": "2022-04-28T14:52:50.980Z"
      },
      {
        "duration": 103,
        "start_time": "2022-04-28T14:52:56.779Z"
      },
      {
        "duration": 102,
        "start_time": "2022-04-28T14:53:20.023Z"
      },
      {
        "duration": 168,
        "start_time": "2022-04-28T17:29:26.883Z"
      },
      {
        "duration": 35,
        "start_time": "2022-04-28T17:29:50.021Z"
      },
      {
        "duration": 65,
        "start_time": "2022-04-28T17:29:57.100Z"
      },
      {
        "duration": 48,
        "start_time": "2022-04-28T17:30:23.163Z"
      },
      {
        "duration": 43,
        "start_time": "2022-04-28T17:30:55.848Z"
      },
      {
        "duration": 535,
        "start_time": "2022-04-28T17:31:04.465Z"
      },
      {
        "duration": 46,
        "start_time": "2022-04-28T17:31:48.482Z"
      },
      {
        "duration": 45,
        "start_time": "2022-04-28T17:32:59.647Z"
      },
      {
        "duration": 17,
        "start_time": "2022-04-28T17:36:30.738Z"
      },
      {
        "duration": 18,
        "start_time": "2022-04-28T17:36:50.433Z"
      },
      {
        "duration": 1351,
        "start_time": "2022-04-28T17:37:02.550Z"
      },
      {
        "duration": 2087,
        "start_time": "2022-04-28T17:37:03.903Z"
      },
      {
        "duration": 0,
        "start_time": "2022-04-28T17:37:05.995Z"
      },
      {
        "duration": 0,
        "start_time": "2022-04-28T17:37:05.996Z"
      },
      {
        "duration": 0,
        "start_time": "2022-04-28T17:37:05.997Z"
      },
      {
        "duration": 0,
        "start_time": "2022-04-28T17:37:05.998Z"
      },
      {
        "duration": 0,
        "start_time": "2022-04-28T17:37:05.999Z"
      },
      {
        "duration": 0,
        "start_time": "2022-04-28T17:37:05.999Z"
      },
      {
        "duration": 0,
        "start_time": "2022-04-28T17:37:06.000Z"
      },
      {
        "duration": 0,
        "start_time": "2022-04-28T17:37:06.001Z"
      },
      {
        "duration": 0,
        "start_time": "2022-04-28T17:37:06.002Z"
      },
      {
        "duration": 0,
        "start_time": "2022-04-28T17:37:06.003Z"
      },
      {
        "duration": 0,
        "start_time": "2022-04-28T17:37:06.003Z"
      },
      {
        "duration": 0,
        "start_time": "2022-04-28T17:37:06.004Z"
      },
      {
        "duration": 0,
        "start_time": "2022-04-28T17:37:06.005Z"
      },
      {
        "duration": 0,
        "start_time": "2022-04-28T17:37:06.006Z"
      },
      {
        "duration": 0,
        "start_time": "2022-04-28T17:37:06.007Z"
      },
      {
        "duration": 0,
        "start_time": "2022-04-28T17:37:06.008Z"
      },
      {
        "duration": 0,
        "start_time": "2022-04-28T17:37:06.008Z"
      },
      {
        "duration": 0,
        "start_time": "2022-04-28T17:37:06.011Z"
      },
      {
        "duration": 0,
        "start_time": "2022-04-28T17:37:06.013Z"
      },
      {
        "duration": 0,
        "start_time": "2022-04-28T17:37:06.013Z"
      },
      {
        "duration": 0,
        "start_time": "2022-04-28T17:37:06.014Z"
      },
      {
        "duration": 0,
        "start_time": "2022-04-28T17:37:06.016Z"
      },
      {
        "duration": 0,
        "start_time": "2022-04-28T17:37:06.016Z"
      },
      {
        "duration": 0,
        "start_time": "2022-04-28T17:37:06.017Z"
      },
      {
        "duration": 0,
        "start_time": "2022-04-28T17:37:06.018Z"
      },
      {
        "duration": 0,
        "start_time": "2022-04-28T17:37:06.019Z"
      },
      {
        "duration": 0,
        "start_time": "2022-04-28T17:37:06.020Z"
      },
      {
        "duration": 0,
        "start_time": "2022-04-28T17:37:06.021Z"
      },
      {
        "duration": 0,
        "start_time": "2022-04-28T17:37:06.022Z"
      },
      {
        "duration": 0,
        "start_time": "2022-04-28T17:37:06.023Z"
      },
      {
        "duration": 0,
        "start_time": "2022-04-28T17:37:06.024Z"
      },
      {
        "duration": 0,
        "start_time": "2022-04-28T17:37:06.025Z"
      },
      {
        "duration": 0,
        "start_time": "2022-04-28T17:37:06.026Z"
      },
      {
        "duration": 0,
        "start_time": "2022-04-28T17:37:06.027Z"
      },
      {
        "duration": 0,
        "start_time": "2022-04-28T17:37:06.028Z"
      },
      {
        "duration": 9,
        "start_time": "2022-04-28T17:39:05.094Z"
      },
      {
        "duration": 210,
        "start_time": "2022-04-28T17:39:20.618Z"
      },
      {
        "duration": 1729,
        "start_time": "2022-04-28T17:39:20.830Z"
      },
      {
        "duration": 0,
        "start_time": "2022-04-28T17:39:22.561Z"
      },
      {
        "duration": 0,
        "start_time": "2022-04-28T17:39:22.563Z"
      },
      {
        "duration": 0,
        "start_time": "2022-04-28T17:39:22.563Z"
      },
      {
        "duration": 0,
        "start_time": "2022-04-28T17:39:22.564Z"
      },
      {
        "duration": 0,
        "start_time": "2022-04-28T17:39:22.565Z"
      },
      {
        "duration": 0,
        "start_time": "2022-04-28T17:39:22.566Z"
      },
      {
        "duration": 0,
        "start_time": "2022-04-28T17:39:22.567Z"
      },
      {
        "duration": 0,
        "start_time": "2022-04-28T17:39:22.568Z"
      },
      {
        "duration": 0,
        "start_time": "2022-04-28T17:39:22.569Z"
      },
      {
        "duration": 0,
        "start_time": "2022-04-28T17:39:22.570Z"
      },
      {
        "duration": 0,
        "start_time": "2022-04-28T17:39:22.571Z"
      },
      {
        "duration": 0,
        "start_time": "2022-04-28T17:39:22.572Z"
      },
      {
        "duration": 0,
        "start_time": "2022-04-28T17:39:22.573Z"
      },
      {
        "duration": 0,
        "start_time": "2022-04-28T17:39:22.574Z"
      },
      {
        "duration": 0,
        "start_time": "2022-04-28T17:39:22.574Z"
      },
      {
        "duration": 0,
        "start_time": "2022-04-28T17:39:22.575Z"
      },
      {
        "duration": 0,
        "start_time": "2022-04-28T17:39:22.576Z"
      },
      {
        "duration": 0,
        "start_time": "2022-04-28T17:39:22.577Z"
      },
      {
        "duration": 0,
        "start_time": "2022-04-28T17:39:22.578Z"
      },
      {
        "duration": 0,
        "start_time": "2022-04-28T17:39:22.579Z"
      },
      {
        "duration": 0,
        "start_time": "2022-04-28T17:39:22.580Z"
      },
      {
        "duration": 0,
        "start_time": "2022-04-28T17:39:22.581Z"
      },
      {
        "duration": 0,
        "start_time": "2022-04-28T17:39:22.582Z"
      },
      {
        "duration": 0,
        "start_time": "2022-04-28T17:39:22.583Z"
      },
      {
        "duration": 0,
        "start_time": "2022-04-28T17:39:22.583Z"
      },
      {
        "duration": 0,
        "start_time": "2022-04-28T17:39:22.584Z"
      },
      {
        "duration": 0,
        "start_time": "2022-04-28T17:39:22.585Z"
      },
      {
        "duration": 0,
        "start_time": "2022-04-28T17:39:22.586Z"
      },
      {
        "duration": 0,
        "start_time": "2022-04-28T17:39:22.587Z"
      },
      {
        "duration": 0,
        "start_time": "2022-04-28T17:39:22.588Z"
      },
      {
        "duration": 0,
        "start_time": "2022-04-28T17:39:22.589Z"
      },
      {
        "duration": 0,
        "start_time": "2022-04-28T17:39:22.590Z"
      },
      {
        "duration": 0,
        "start_time": "2022-04-28T17:39:22.591Z"
      },
      {
        "duration": 0,
        "start_time": "2022-04-28T17:39:22.592Z"
      },
      {
        "duration": 0,
        "start_time": "2022-04-28T17:39:22.593Z"
      },
      {
        "duration": 203,
        "start_time": "2022-04-28T17:39:45.599Z"
      },
      {
        "duration": 1795,
        "start_time": "2022-04-28T17:39:45.804Z"
      },
      {
        "duration": 0,
        "start_time": "2022-04-28T17:39:47.601Z"
      },
      {
        "duration": 0,
        "start_time": "2022-04-28T17:39:47.602Z"
      },
      {
        "duration": 0,
        "start_time": "2022-04-28T17:39:47.603Z"
      },
      {
        "duration": 0,
        "start_time": "2022-04-28T17:39:47.604Z"
      },
      {
        "duration": 0,
        "start_time": "2022-04-28T17:39:47.605Z"
      },
      {
        "duration": 0,
        "start_time": "2022-04-28T17:39:47.607Z"
      },
      {
        "duration": 0,
        "start_time": "2022-04-28T17:39:47.608Z"
      },
      {
        "duration": 0,
        "start_time": "2022-04-28T17:39:47.609Z"
      },
      {
        "duration": 0,
        "start_time": "2022-04-28T17:39:47.610Z"
      },
      {
        "duration": 0,
        "start_time": "2022-04-28T17:39:47.611Z"
      },
      {
        "duration": 0,
        "start_time": "2022-04-28T17:39:47.612Z"
      },
      {
        "duration": 0,
        "start_time": "2022-04-28T17:39:47.613Z"
      },
      {
        "duration": 0,
        "start_time": "2022-04-28T17:39:47.614Z"
      },
      {
        "duration": 0,
        "start_time": "2022-04-28T17:39:47.615Z"
      },
      {
        "duration": 0,
        "start_time": "2022-04-28T17:39:47.616Z"
      },
      {
        "duration": 9,
        "start_time": "2022-04-28T17:39:58.222Z"
      },
      {
        "duration": 9,
        "start_time": "2022-04-28T17:40:19.240Z"
      },
      {
        "duration": 184,
        "start_time": "2022-04-28T17:40:28.605Z"
      },
      {
        "duration": 2090,
        "start_time": "2022-04-28T17:40:32.556Z"
      },
      {
        "duration": 56,
        "start_time": "2022-04-28T17:41:04.613Z"
      },
      {
        "duration": 11,
        "start_time": "2022-04-28T17:41:21.946Z"
      },
      {
        "duration": 93,
        "start_time": "2022-04-28T17:41:24.605Z"
      },
      {
        "duration": 178,
        "start_time": "2022-04-28T17:41:27.120Z"
      },
      {
        "duration": 34,
        "start_time": "2022-04-28T17:41:33.166Z"
      },
      {
        "duration": 60,
        "start_time": "2022-04-28T17:41:35.988Z"
      },
      {
        "duration": 116,
        "start_time": "2022-04-28T17:41:38.799Z"
      },
      {
        "duration": 1869,
        "start_time": "2022-04-28T17:41:42.891Z"
      },
      {
        "duration": 42,
        "start_time": "2022-04-28T17:42:16.962Z"
      },
      {
        "duration": 43,
        "start_time": "2022-04-28T17:42:26.644Z"
      },
      {
        "duration": 15,
        "start_time": "2022-04-28T17:42:30.675Z"
      },
      {
        "duration": 30,
        "start_time": "2022-04-28T17:42:33.646Z"
      },
      {
        "duration": 16,
        "start_time": "2022-04-28T17:42:40.489Z"
      },
      {
        "duration": 7,
        "start_time": "2022-04-28T17:42:43.753Z"
      },
      {
        "duration": 75,
        "start_time": "2022-04-28T17:42:46.239Z"
      },
      {
        "duration": 38,
        "start_time": "2022-04-28T17:42:52.661Z"
      },
      {
        "duration": 47,
        "start_time": "2022-04-28T17:42:55.500Z"
      },
      {
        "duration": 17,
        "start_time": "2022-04-28T17:42:58.873Z"
      },
      {
        "duration": 17,
        "start_time": "2022-04-28T17:44:07.563Z"
      },
      {
        "duration": 17,
        "start_time": "2022-04-28T17:45:11.625Z"
      },
      {
        "duration": 9,
        "start_time": "2022-04-28T17:45:22.730Z"
      },
      {
        "duration": 17,
        "start_time": "2022-04-28T17:50:21.522Z"
      },
      {
        "duration": 13,
        "start_time": "2022-04-28T17:50:49.239Z"
      },
      {
        "duration": 36,
        "start_time": "2022-04-28T17:52:21.228Z"
      },
      {
        "duration": 32,
        "start_time": "2022-04-28T17:52:39.826Z"
      },
      {
        "duration": 43,
        "start_time": "2022-04-28T17:53:32.458Z"
      },
      {
        "duration": 15,
        "start_time": "2022-04-28T17:53:39.970Z"
      },
      {
        "duration": 11,
        "start_time": "2022-04-28T17:56:40.393Z"
      },
      {
        "duration": 16,
        "start_time": "2022-04-28T17:57:06.812Z"
      },
      {
        "duration": 590,
        "start_time": "2022-04-28T18:07:05.092Z"
      },
      {
        "duration": 70,
        "start_time": "2022-04-28T18:07:48.898Z"
      },
      {
        "duration": 580,
        "start_time": "2022-04-28T18:08:05.559Z"
      },
      {
        "duration": 67,
        "start_time": "2022-04-28T18:08:28.322Z"
      },
      {
        "duration": 64,
        "start_time": "2022-04-28T18:16:56.962Z"
      },
      {
        "duration": 32,
        "start_time": "2022-04-28T18:17:30.785Z"
      },
      {
        "duration": 488,
        "start_time": "2022-04-28T18:17:58.631Z"
      },
      {
        "duration": 44,
        "start_time": "2022-04-28T18:18:04.379Z"
      },
      {
        "duration": 37,
        "start_time": "2022-04-28T18:18:24.602Z"
      },
      {
        "duration": 27,
        "start_time": "2022-04-28T18:18:35.931Z"
      },
      {
        "duration": 28,
        "start_time": "2022-04-28T18:18:40.057Z"
      },
      {
        "duration": 15,
        "start_time": "2022-04-28T18:19:00.593Z"
      },
      {
        "duration": 15,
        "start_time": "2022-04-28T18:21:16.516Z"
      },
      {
        "duration": 27,
        "start_time": "2022-04-28T18:23:52.479Z"
      },
      {
        "duration": 16,
        "start_time": "2022-04-28T18:24:11.147Z"
      },
      {
        "duration": 24,
        "start_time": "2022-04-28T18:30:07.872Z"
      },
      {
        "duration": 713,
        "start_time": "2022-04-28T18:31:29.838Z"
      },
      {
        "duration": 36,
        "start_time": "2022-04-28T18:32:38.189Z"
      },
      {
        "duration": 27,
        "start_time": "2022-04-28T18:33:37.566Z"
      },
      {
        "duration": 15,
        "start_time": "2022-04-28T18:33:53.026Z"
      },
      {
        "duration": 116,
        "start_time": "2022-04-28T18:34:25.061Z"
      },
      {
        "duration": 17,
        "start_time": "2022-04-28T18:34:27.628Z"
      },
      {
        "duration": 32,
        "start_time": "2022-04-28T18:34:40.347Z"
      },
      {
        "duration": 20,
        "start_time": "2022-04-28T18:36:15.957Z"
      },
      {
        "duration": 19,
        "start_time": "2022-04-28T18:36:36.766Z"
      },
      {
        "duration": 36,
        "start_time": "2022-04-28T18:36:54.741Z"
      },
      {
        "duration": 9,
        "start_time": "2022-04-28T18:39:26.900Z"
      },
      {
        "duration": 9,
        "start_time": "2022-04-28T18:41:16.151Z"
      },
      {
        "duration": 39,
        "start_time": "2022-04-28T18:41:32.679Z"
      },
      {
        "duration": 11,
        "start_time": "2022-04-28T18:45:22.459Z"
      },
      {
        "duration": 48,
        "start_time": "2022-04-28T18:45:32.702Z"
      },
      {
        "duration": 35,
        "start_time": "2022-04-28T18:45:37.425Z"
      },
      {
        "duration": 40,
        "start_time": "2022-04-28T18:45:53.002Z"
      },
      {
        "duration": 450,
        "start_time": "2022-04-28T18:51:36.252Z"
      },
      {
        "duration": 29,
        "start_time": "2022-04-28T18:51:46.148Z"
      },
      {
        "duration": 42,
        "start_time": "2022-04-28T18:53:10.319Z"
      },
      {
        "duration": 21,
        "start_time": "2022-04-28T19:06:58.098Z"
      },
      {
        "duration": 19,
        "start_time": "2022-04-28T19:08:44.539Z"
      },
      {
        "duration": 11,
        "start_time": "2022-04-28T19:09:58.046Z"
      },
      {
        "duration": 9,
        "start_time": "2022-04-28T19:10:02.892Z"
      },
      {
        "duration": 9,
        "start_time": "2022-04-28T19:10:21.075Z"
      },
      {
        "duration": 23,
        "start_time": "2022-04-28T19:10:26.646Z"
      },
      {
        "duration": 8,
        "start_time": "2022-04-28T19:11:52.321Z"
      },
      {
        "duration": 11,
        "start_time": "2022-04-28T19:12:15.860Z"
      },
      {
        "duration": 10,
        "start_time": "2022-04-28T19:13:32.166Z"
      },
      {
        "duration": 32,
        "start_time": "2022-04-28T19:13:50.231Z"
      },
      {
        "duration": 11,
        "start_time": "2022-04-28T19:14:01.780Z"
      },
      {
        "duration": 31,
        "start_time": "2022-04-28T19:36:30.798Z"
      },
      {
        "duration": 35,
        "start_time": "2022-04-28T19:36:42.270Z"
      },
      {
        "duration": 38,
        "start_time": "2022-04-28T19:37:24.151Z"
      },
      {
        "duration": 29,
        "start_time": "2022-04-28T19:37:32.558Z"
      },
      {
        "duration": 96,
        "start_time": "2022-04-28T19:37:58.823Z"
      },
      {
        "duration": 28,
        "start_time": "2022-04-28T19:38:15.534Z"
      },
      {
        "duration": 41,
        "start_time": "2022-04-28T19:38:29.562Z"
      },
      {
        "duration": 41,
        "start_time": "2022-04-28T19:38:39.497Z"
      },
      {
        "duration": 19,
        "start_time": "2022-04-28T19:38:45.596Z"
      },
      {
        "duration": 18,
        "start_time": "2022-04-28T19:38:50.750Z"
      },
      {
        "duration": 11,
        "start_time": "2022-04-28T19:38:55.759Z"
      },
      {
        "duration": 17,
        "start_time": "2022-04-28T19:38:59.878Z"
      },
      {
        "duration": 8,
        "start_time": "2022-04-28T19:39:03.090Z"
      },
      {
        "duration": 10,
        "start_time": "2022-04-28T19:39:06.552Z"
      },
      {
        "duration": 18,
        "start_time": "2022-04-28T19:39:10.160Z"
      },
      {
        "duration": 135,
        "start_time": "2022-04-28T19:40:59.419Z"
      },
      {
        "duration": 1906,
        "start_time": "2022-04-29T10:51:58.007Z"
      },
      {
        "duration": 88,
        "start_time": "2022-04-29T10:51:59.916Z"
      },
      {
        "duration": 14,
        "start_time": "2022-04-29T10:52:00.005Z"
      },
      {
        "duration": 153,
        "start_time": "2022-04-29T10:52:00.022Z"
      },
      {
        "duration": 255,
        "start_time": "2022-04-29T10:52:00.178Z"
      },
      {
        "duration": 67,
        "start_time": "2022-04-29T10:52:00.435Z"
      },
      {
        "duration": 108,
        "start_time": "2022-04-29T10:52:00.504Z"
      },
      {
        "duration": 157,
        "start_time": "2022-04-29T10:52:00.615Z"
      },
      {
        "duration": 66,
        "start_time": "2022-04-29T10:52:00.774Z"
      },
      {
        "duration": 79,
        "start_time": "2022-04-29T10:52:00.844Z"
      },
      {
        "duration": 27,
        "start_time": "2022-04-29T10:52:00.926Z"
      },
      {
        "duration": 62,
        "start_time": "2022-04-29T10:52:00.955Z"
      },
      {
        "duration": 21,
        "start_time": "2022-04-29T10:52:01.019Z"
      },
      {
        "duration": 16,
        "start_time": "2022-04-29T10:52:01.042Z"
      },
      {
        "duration": 131,
        "start_time": "2022-04-29T10:52:01.060Z"
      },
      {
        "duration": 52,
        "start_time": "2022-04-29T10:52:01.194Z"
      },
      {
        "duration": 87,
        "start_time": "2022-04-29T10:52:01.248Z"
      },
      {
        "duration": 59,
        "start_time": "2022-04-29T10:52:01.337Z"
      },
      {
        "duration": 27,
        "start_time": "2022-04-29T10:52:01.399Z"
      },
      {
        "duration": 20,
        "start_time": "2022-04-29T10:52:01.428Z"
      },
      {
        "duration": 45,
        "start_time": "2022-04-29T10:52:01.450Z"
      },
      {
        "duration": 53,
        "start_time": "2022-04-29T10:52:01.505Z"
      },
      {
        "duration": 9,
        "start_time": "2022-04-29T10:52:01.560Z"
      },
      {
        "duration": 52,
        "start_time": "2022-04-29T10:52:01.571Z"
      },
      {
        "duration": 16,
        "start_time": "2022-04-29T10:52:01.625Z"
      },
      {
        "duration": 226,
        "start_time": "2022-04-29T10:52:01.643Z"
      },
      {
        "duration": 163,
        "start_time": "2022-04-29T10:52:01.871Z"
      },
      {
        "duration": 1,
        "start_time": "2022-04-29T10:52:02.037Z"
      },
      {
        "duration": 0,
        "start_time": "2022-04-29T10:52:02.040Z"
      },
      {
        "duration": 1,
        "start_time": "2022-04-29T10:52:02.042Z"
      },
      {
        "duration": 0,
        "start_time": "2022-04-29T10:52:02.044Z"
      },
      {
        "duration": 0,
        "start_time": "2022-04-29T10:52:02.047Z"
      },
      {
        "duration": 0,
        "start_time": "2022-04-29T10:52:02.048Z"
      },
      {
        "duration": 0,
        "start_time": "2022-04-29T10:52:02.051Z"
      },
      {
        "duration": 0,
        "start_time": "2022-04-29T10:52:02.052Z"
      },
      {
        "duration": 0,
        "start_time": "2022-04-29T10:52:02.054Z"
      },
      {
        "duration": 0,
        "start_time": "2022-04-29T10:52:02.057Z"
      },
      {
        "duration": 41,
        "start_time": "2022-04-29T10:52:12.514Z"
      },
      {
        "duration": 29,
        "start_time": "2022-04-29T10:52:20.193Z"
      },
      {
        "duration": 20,
        "start_time": "2022-04-29T10:52:29.536Z"
      },
      {
        "duration": 12,
        "start_time": "2022-04-29T10:52:34.531Z"
      },
      {
        "duration": 37,
        "start_time": "2022-04-29T10:52:38.592Z"
      },
      {
        "duration": 10,
        "start_time": "2022-04-29T10:52:41.818Z"
      },
      {
        "duration": 14,
        "start_time": "2022-04-29T10:53:46.692Z"
      },
      {
        "duration": 16,
        "start_time": "2022-04-29T10:53:49.010Z"
      },
      {
        "duration": 201,
        "start_time": "2022-04-29T10:56:10.680Z"
      },
      {
        "duration": 14,
        "start_time": "2022-04-29T10:57:24.677Z"
      },
      {
        "duration": 27,
        "start_time": "2022-04-29T10:57:33.157Z"
      },
      {
        "duration": 28,
        "start_time": "2022-04-29T10:58:05.012Z"
      },
      {
        "duration": 24,
        "start_time": "2022-04-29T10:59:11.661Z"
      },
      {
        "duration": 24,
        "start_time": "2022-04-29T10:59:17.875Z"
      },
      {
        "duration": 11,
        "start_time": "2022-04-29T10:59:48.897Z"
      },
      {
        "duration": 58,
        "start_time": "2022-04-29T11:06:49.487Z"
      },
      {
        "duration": 57,
        "start_time": "2022-04-29T11:07:03.796Z"
      },
      {
        "duration": 41,
        "start_time": "2022-04-29T11:07:11.713Z"
      },
      {
        "duration": 39,
        "start_time": "2022-04-29T11:07:14.862Z"
      },
      {
        "duration": 25,
        "start_time": "2022-04-29T11:09:12.491Z"
      },
      {
        "duration": 21,
        "start_time": "2022-04-29T11:09:21.286Z"
      },
      {
        "duration": 13,
        "start_time": "2022-04-29T11:09:24.366Z"
      },
      {
        "duration": 27,
        "start_time": "2022-04-29T11:09:27.395Z"
      },
      {
        "duration": 10,
        "start_time": "2022-04-29T11:09:30.084Z"
      },
      {
        "duration": 13,
        "start_time": "2022-04-29T11:09:32.994Z"
      },
      {
        "duration": 16,
        "start_time": "2022-04-29T11:09:36.831Z"
      },
      {
        "duration": 3184,
        "start_time": "2022-04-29T11:14:00.280Z"
      },
      {
        "duration": 297,
        "start_time": "2022-04-29T11:14:53.837Z"
      },
      {
        "duration": 85,
        "start_time": "2022-04-29T11:14:54.137Z"
      },
      {
        "duration": 13,
        "start_time": "2022-04-29T11:14:54.224Z"
      },
      {
        "duration": 147,
        "start_time": "2022-04-29T11:14:54.240Z"
      },
      {
        "duration": 230,
        "start_time": "2022-04-29T11:14:54.390Z"
      },
      {
        "duration": 71,
        "start_time": "2022-04-29T11:14:54.623Z"
      },
      {
        "duration": 107,
        "start_time": "2022-04-29T11:14:54.697Z"
      },
      {
        "duration": 152,
        "start_time": "2022-04-29T11:14:54.806Z"
      },
      {
        "duration": 59,
        "start_time": "2022-04-29T11:14:54.961Z"
      },
      {
        "duration": 80,
        "start_time": "2022-04-29T11:14:55.025Z"
      },
      {
        "duration": 26,
        "start_time": "2022-04-29T11:14:55.107Z"
      },
      {
        "duration": 52,
        "start_time": "2022-04-29T11:14:55.135Z"
      },
      {
        "duration": 20,
        "start_time": "2022-04-29T11:14:55.190Z"
      },
      {
        "duration": 11,
        "start_time": "2022-04-29T11:14:55.213Z"
      },
      {
        "duration": 130,
        "start_time": "2022-04-29T11:14:55.226Z"
      },
      {
        "duration": 61,
        "start_time": "2022-04-29T11:14:55.358Z"
      },
      {
        "duration": 73,
        "start_time": "2022-04-29T11:14:55.421Z"
      },
      {
        "duration": 42,
        "start_time": "2022-04-29T11:14:55.496Z"
      },
      {
        "duration": 26,
        "start_time": "2022-04-29T11:14:55.541Z"
      },
      {
        "duration": 21,
        "start_time": "2022-04-29T11:14:55.593Z"
      },
      {
        "duration": 11,
        "start_time": "2022-04-29T11:14:55.617Z"
      },
      {
        "duration": 29,
        "start_time": "2022-04-29T11:14:55.631Z"
      },
      {
        "duration": 38,
        "start_time": "2022-04-29T11:14:55.662Z"
      },
      {
        "duration": 18,
        "start_time": "2022-04-29T11:14:55.702Z"
      },
      {
        "duration": 16,
        "start_time": "2022-04-29T11:14:55.722Z"
      },
      {
        "duration": 3270,
        "start_time": "2022-04-29T11:14:55.740Z"
      },
      {
        "duration": 0,
        "start_time": "2022-04-29T11:14:59.013Z"
      },
      {
        "duration": 0,
        "start_time": "2022-04-29T11:14:59.015Z"
      },
      {
        "duration": 0,
        "start_time": "2022-04-29T11:14:59.016Z"
      },
      {
        "duration": 0,
        "start_time": "2022-04-29T11:14:59.017Z"
      },
      {
        "duration": 0,
        "start_time": "2022-04-29T11:14:59.019Z"
      },
      {
        "duration": 0,
        "start_time": "2022-04-29T11:14:59.020Z"
      },
      {
        "duration": 0,
        "start_time": "2022-04-29T11:14:59.022Z"
      },
      {
        "duration": 0,
        "start_time": "2022-04-29T11:14:59.023Z"
      },
      {
        "duration": 0,
        "start_time": "2022-04-29T11:14:59.024Z"
      },
      {
        "duration": 0,
        "start_time": "2022-04-29T11:14:59.026Z"
      },
      {
        "duration": 0,
        "start_time": "2022-04-29T11:14:59.028Z"
      },
      {
        "duration": 0,
        "start_time": "2022-04-29T11:14:59.029Z"
      },
      {
        "duration": 212,
        "start_time": "2022-04-29T11:15:28.982Z"
      },
      {
        "duration": 12,
        "start_time": "2022-04-29T11:15:40.947Z"
      },
      {
        "duration": 217,
        "start_time": "2022-04-29T11:15:48.487Z"
      },
      {
        "duration": 13,
        "start_time": "2022-04-29T11:15:56.691Z"
      },
      {
        "duration": 11,
        "start_time": "2022-04-29T11:16:02.201Z"
      },
      {
        "duration": 14,
        "start_time": "2022-04-29T11:16:14.787Z"
      },
      {
        "duration": 13,
        "start_time": "2022-04-29T11:16:53.020Z"
      },
      {
        "duration": 92,
        "start_time": "2022-04-29T11:18:15.590Z"
      },
      {
        "duration": 27,
        "start_time": "2022-04-29T11:18:23.261Z"
      },
      {
        "duration": 20,
        "start_time": "2022-04-29T11:18:27.426Z"
      },
      {
        "duration": 12,
        "start_time": "2022-04-29T11:18:33.114Z"
      },
      {
        "duration": 27,
        "start_time": "2022-04-29T11:18:36.943Z"
      },
      {
        "duration": 9,
        "start_time": "2022-04-29T11:18:40.662Z"
      },
      {
        "duration": 15,
        "start_time": "2022-04-29T11:18:43.951Z"
      },
      {
        "duration": 15,
        "start_time": "2022-04-29T11:18:46.975Z"
      },
      {
        "duration": 208,
        "start_time": "2022-04-29T11:18:55.236Z"
      },
      {
        "duration": 32,
        "start_time": "2022-04-29T11:19:00.038Z"
      },
      {
        "duration": 14,
        "start_time": "2022-04-29T11:19:53.613Z"
      },
      {
        "duration": 84,
        "start_time": "2022-04-29T11:20:18.238Z"
      },
      {
        "duration": 129,
        "start_time": "2022-04-29T11:20:32.632Z"
      },
      {
        "duration": 12,
        "start_time": "2022-04-29T11:20:48.297Z"
      },
      {
        "duration": 1792,
        "start_time": "2022-04-29T11:21:42.835Z"
      },
      {
        "duration": 14,
        "start_time": "2022-04-29T11:28:07.623Z"
      },
      {
        "duration": 26,
        "start_time": "2022-04-29T11:28:34.154Z"
      },
      {
        "duration": 13,
        "start_time": "2022-04-29T11:28:50.196Z"
      },
      {
        "duration": 11,
        "start_time": "2022-04-29T11:35:45.271Z"
      },
      {
        "duration": 12,
        "start_time": "2022-04-29T11:36:02.745Z"
      },
      {
        "duration": 31,
        "start_time": "2022-04-29T11:36:18.094Z"
      },
      {
        "duration": 26,
        "start_time": "2022-04-29T11:36:39.688Z"
      },
      {
        "duration": 28,
        "start_time": "2022-04-29T11:39:01.550Z"
      },
      {
        "duration": 27,
        "start_time": "2022-04-29T11:40:27.177Z"
      },
      {
        "duration": 48,
        "start_time": "2022-04-29T11:41:10.585Z"
      },
      {
        "duration": 3662,
        "start_time": "2022-04-29T11:41:17.181Z"
      },
      {
        "duration": 14,
        "start_time": "2022-04-29T11:41:35.324Z"
      },
      {
        "duration": 13,
        "start_time": "2022-04-29T11:43:58.159Z"
      },
      {
        "duration": 14,
        "start_time": "2022-04-29T11:50:29.812Z"
      },
      {
        "duration": 1840,
        "start_time": "2022-04-29T11:53:20.696Z"
      },
      {
        "duration": 140,
        "start_time": "2022-04-29T11:53:22.540Z"
      },
      {
        "duration": 22,
        "start_time": "2022-04-29T11:53:22.683Z"
      },
      {
        "duration": 147,
        "start_time": "2022-04-29T11:53:22.709Z"
      },
      {
        "duration": 235,
        "start_time": "2022-04-29T11:53:22.859Z"
      },
      {
        "duration": 51,
        "start_time": "2022-04-29T11:53:23.096Z"
      },
      {
        "duration": 117,
        "start_time": "2022-04-29T11:53:23.149Z"
      },
      {
        "duration": 158,
        "start_time": "2022-04-29T11:53:23.269Z"
      },
      {
        "duration": 44,
        "start_time": "2022-04-29T11:53:23.430Z"
      },
      {
        "duration": 63,
        "start_time": "2022-04-29T11:53:23.495Z"
      },
      {
        "duration": 47,
        "start_time": "2022-04-29T11:53:23.561Z"
      },
      {
        "duration": 76,
        "start_time": "2022-04-29T11:53:23.611Z"
      },
      {
        "duration": 19,
        "start_time": "2022-04-29T11:53:23.689Z"
      },
      {
        "duration": 16,
        "start_time": "2022-04-29T11:53:23.711Z"
      },
      {
        "duration": 124,
        "start_time": "2022-04-29T11:53:23.730Z"
      },
      {
        "duration": 48,
        "start_time": "2022-04-29T11:53:23.857Z"
      },
      {
        "duration": 57,
        "start_time": "2022-04-29T11:53:23.907Z"
      },
      {
        "duration": 66,
        "start_time": "2022-04-29T11:53:23.967Z"
      },
      {
        "duration": 25,
        "start_time": "2022-04-29T11:53:24.035Z"
      },
      {
        "duration": 49,
        "start_time": "2022-04-29T11:53:24.063Z"
      },
      {
        "duration": 13,
        "start_time": "2022-04-29T11:53:24.114Z"
      },
      {
        "duration": 27,
        "start_time": "2022-04-29T11:53:24.129Z"
      },
      {
        "duration": 39,
        "start_time": "2022-04-29T11:53:24.158Z"
      },
      {
        "duration": 15,
        "start_time": "2022-04-29T11:53:24.199Z"
      },
      {
        "duration": 21,
        "start_time": "2022-04-29T11:53:24.217Z"
      },
      {
        "duration": 424,
        "start_time": "2022-04-29T11:53:24.240Z"
      },
      {
        "duration": 43,
        "start_time": "2022-04-29T11:53:24.667Z"
      },
      {
        "duration": 159,
        "start_time": "2022-04-29T11:53:24.715Z"
      },
      {
        "duration": 2443,
        "start_time": "2022-04-29T11:53:24.876Z"
      },
      {
        "duration": 36,
        "start_time": "2022-04-29T11:53:27.321Z"
      },
      {
        "duration": 33,
        "start_time": "2022-04-29T11:53:27.360Z"
      },
      {
        "duration": 34,
        "start_time": "2022-04-29T11:53:27.396Z"
      },
      {
        "duration": 125,
        "start_time": "2022-04-29T11:53:27.432Z"
      },
      {
        "duration": 36,
        "start_time": "2022-04-29T11:53:27.561Z"
      },
      {
        "duration": 31,
        "start_time": "2022-04-29T11:53:27.599Z"
      },
      {
        "duration": 17,
        "start_time": "2022-04-29T11:53:27.633Z"
      },
      {
        "duration": 134,
        "start_time": "2022-04-29T17:30:40.248Z"
      },
      {
        "duration": 2200,
        "start_time": "2022-04-29T17:30:56.213Z"
      },
      {
        "duration": 101,
        "start_time": "2022-04-29T17:30:58.416Z"
      },
      {
        "duration": 14,
        "start_time": "2022-04-29T17:30:58.519Z"
      },
      {
        "duration": 171,
        "start_time": "2022-04-29T17:30:58.536Z"
      },
      {
        "duration": 258,
        "start_time": "2022-04-29T17:30:58.709Z"
      },
      {
        "duration": 67,
        "start_time": "2022-04-29T17:30:58.969Z"
      },
      {
        "duration": 141,
        "start_time": "2022-04-29T17:30:59.038Z"
      },
      {
        "duration": 175,
        "start_time": "2022-04-29T17:30:59.182Z"
      },
      {
        "duration": 67,
        "start_time": "2022-04-29T17:30:59.359Z"
      },
      {
        "duration": 92,
        "start_time": "2022-04-29T17:30:59.431Z"
      },
      {
        "duration": 22,
        "start_time": "2022-04-29T17:30:59.526Z"
      },
      {
        "duration": 62,
        "start_time": "2022-04-29T17:30:59.550Z"
      },
      {
        "duration": 30,
        "start_time": "2022-04-29T17:30:59.615Z"
      },
      {
        "duration": 35,
        "start_time": "2022-04-29T17:30:59.648Z"
      },
      {
        "duration": 163,
        "start_time": "2022-04-29T17:30:59.686Z"
      },
      {
        "duration": 83,
        "start_time": "2022-04-29T17:30:59.852Z"
      },
      {
        "duration": 82,
        "start_time": "2022-04-29T17:30:59.938Z"
      },
      {
        "duration": 42,
        "start_time": "2022-04-29T17:31:00.023Z"
      },
      {
        "duration": 45,
        "start_time": "2022-04-29T17:31:00.068Z"
      },
      {
        "duration": 21,
        "start_time": "2022-04-29T17:31:00.115Z"
      },
      {
        "duration": 53,
        "start_time": "2022-04-29T17:31:00.138Z"
      },
      {
        "duration": 68,
        "start_time": "2022-04-29T17:31:00.194Z"
      },
      {
        "duration": 8,
        "start_time": "2022-04-29T17:31:00.264Z"
      },
      {
        "duration": 37,
        "start_time": "2022-04-29T17:31:00.274Z"
      },
      {
        "duration": 21,
        "start_time": "2022-04-29T17:31:00.313Z"
      },
      {
        "duration": 24,
        "start_time": "2022-04-29T17:31:00.337Z"
      },
      {
        "duration": 243,
        "start_time": "2022-04-29T17:31:00.364Z"
      },
      {
        "duration": 31,
        "start_time": "2022-04-29T17:31:00.612Z"
      },
      {
        "duration": 185,
        "start_time": "2022-04-29T17:31:00.646Z"
      },
      {
        "duration": 2086,
        "start_time": "2022-04-29T17:31:00.833Z"
      },
      {
        "duration": 28,
        "start_time": "2022-04-29T17:31:02.922Z"
      },
      {
        "duration": 38,
        "start_time": "2022-04-29T17:31:02.952Z"
      },
      {
        "duration": 36,
        "start_time": "2022-04-29T17:31:02.993Z"
      },
      {
        "duration": 15,
        "start_time": "2022-04-29T17:31:03.031Z"
      },
      {
        "duration": 138,
        "start_time": "2022-04-29T17:31:03.048Z"
      },
      {
        "duration": 29,
        "start_time": "2022-04-29T17:31:03.189Z"
      },
      {
        "duration": 12,
        "start_time": "2022-04-29T17:31:03.220Z"
      },
      {
        "duration": 297,
        "start_time": "2022-04-29T17:33:11.990Z"
      },
      {
        "duration": 96,
        "start_time": "2022-04-29T17:33:12.291Z"
      },
      {
        "duration": 17,
        "start_time": "2022-04-29T17:33:12.389Z"
      },
      {
        "duration": 159,
        "start_time": "2022-04-29T17:33:12.408Z"
      },
      {
        "duration": 340,
        "start_time": "2022-04-29T17:33:12.571Z"
      },
      {
        "duration": 71,
        "start_time": "2022-04-29T17:33:12.914Z"
      },
      {
        "duration": 114,
        "start_time": "2022-04-29T17:33:12.987Z"
      },
      {
        "duration": 157,
        "start_time": "2022-04-29T17:33:13.103Z"
      },
      {
        "duration": 56,
        "start_time": "2022-04-29T17:33:13.262Z"
      },
      {
        "duration": 99,
        "start_time": "2022-04-29T17:33:13.321Z"
      },
      {
        "duration": 27,
        "start_time": "2022-04-29T17:33:13.423Z"
      },
      {
        "duration": 52,
        "start_time": "2022-04-29T17:33:13.452Z"
      },
      {
        "duration": 22,
        "start_time": "2022-04-29T17:33:13.506Z"
      },
      {
        "duration": 9,
        "start_time": "2022-04-29T17:33:13.533Z"
      },
      {
        "duration": 144,
        "start_time": "2022-04-29T17:33:13.544Z"
      },
      {
        "duration": 46,
        "start_time": "2022-04-29T17:33:13.691Z"
      },
      {
        "duration": 83,
        "start_time": "2022-04-29T17:33:13.740Z"
      },
      {
        "duration": 59,
        "start_time": "2022-04-29T17:33:13.826Z"
      },
      {
        "duration": 33,
        "start_time": "2022-04-29T17:33:13.887Z"
      },
      {
        "duration": 22,
        "start_time": "2022-04-29T17:33:13.923Z"
      },
      {
        "duration": 45,
        "start_time": "2022-04-29T17:33:13.947Z"
      },
      {
        "duration": 9,
        "start_time": "2022-04-29T17:33:13.994Z"
      },
      {
        "duration": 27,
        "start_time": "2022-04-29T17:33:14.005Z"
      },
      {
        "duration": 9,
        "start_time": "2022-04-29T17:33:14.034Z"
      },
      {
        "duration": 15,
        "start_time": "2022-04-29T17:33:14.082Z"
      },
      {
        "duration": 17,
        "start_time": "2022-04-29T17:33:14.099Z"
      },
      {
        "duration": 243,
        "start_time": "2022-04-29T17:33:14.118Z"
      },
      {
        "duration": 57,
        "start_time": "2022-04-29T17:33:14.364Z"
      },
      {
        "duration": 206,
        "start_time": "2022-04-29T17:33:14.424Z"
      },
      {
        "duration": 1881,
        "start_time": "2022-04-29T17:33:14.633Z"
      },
      {
        "duration": 28,
        "start_time": "2022-04-29T17:33:16.516Z"
      },
      {
        "duration": 44,
        "start_time": "2022-04-29T17:33:16.546Z"
      },
      {
        "duration": 43,
        "start_time": "2022-04-29T17:33:16.592Z"
      },
      {
        "duration": 15,
        "start_time": "2022-04-29T17:33:16.637Z"
      },
      {
        "duration": 36,
        "start_time": "2022-04-29T17:33:16.654Z"
      },
      {
        "duration": 24,
        "start_time": "2022-04-29T17:33:16.692Z"
      },
      {
        "duration": 16,
        "start_time": "2022-04-29T17:33:16.719Z"
      },
      {
        "duration": 1754,
        "start_time": "2022-04-29T17:34:59.260Z"
      },
      {
        "duration": 92,
        "start_time": "2022-04-29T17:35:01.016Z"
      },
      {
        "duration": 106,
        "start_time": "2022-04-29T17:35:01.110Z"
      },
      {
        "duration": 205,
        "start_time": "2022-04-29T17:35:01.218Z"
      },
      {
        "duration": 245,
        "start_time": "2022-04-29T17:35:01.427Z"
      },
      {
        "duration": 56,
        "start_time": "2022-04-29T17:35:01.674Z"
      },
      {
        "duration": 130,
        "start_time": "2022-04-29T17:35:01.733Z"
      },
      {
        "duration": 159,
        "start_time": "2022-04-29T17:35:01.866Z"
      },
      {
        "duration": 59,
        "start_time": "2022-04-29T17:35:02.027Z"
      },
      {
        "duration": 62,
        "start_time": "2022-04-29T17:35:02.088Z"
      },
      {
        "duration": 38,
        "start_time": "2022-04-29T17:35:02.152Z"
      },
      {
        "duration": 46,
        "start_time": "2022-04-29T17:35:02.193Z"
      },
      {
        "duration": 19,
        "start_time": "2022-04-29T17:35:02.241Z"
      },
      {
        "duration": 29,
        "start_time": "2022-04-29T17:35:02.281Z"
      },
      {
        "duration": 122,
        "start_time": "2022-04-29T17:35:02.312Z"
      },
      {
        "duration": 52,
        "start_time": "2022-04-29T17:35:02.436Z"
      },
      {
        "duration": 62,
        "start_time": "2022-04-29T17:35:02.490Z"
      },
      {
        "duration": 66,
        "start_time": "2022-04-29T17:35:02.554Z"
      },
      {
        "duration": 26,
        "start_time": "2022-04-29T17:35:02.622Z"
      },
      {
        "duration": 40,
        "start_time": "2022-04-29T17:35:02.651Z"
      },
      {
        "duration": 13,
        "start_time": "2022-04-29T17:35:02.693Z"
      },
      {
        "duration": 36,
        "start_time": "2022-04-29T17:35:02.708Z"
      },
      {
        "duration": 9,
        "start_time": "2022-04-29T17:35:02.746Z"
      },
      {
        "duration": 39,
        "start_time": "2022-04-29T17:35:02.757Z"
      },
      {
        "duration": 16,
        "start_time": "2022-04-29T17:35:02.799Z"
      },
      {
        "duration": 241,
        "start_time": "2022-04-29T17:35:02.817Z"
      },
      {
        "duration": 40,
        "start_time": "2022-04-29T17:35:03.061Z"
      },
      {
        "duration": 152,
        "start_time": "2022-04-29T17:35:03.103Z"
      },
      {
        "duration": 1937,
        "start_time": "2022-04-29T17:35:03.257Z"
      },
      {
        "duration": 25,
        "start_time": "2022-04-29T17:35:05.197Z"
      },
      {
        "duration": 13,
        "start_time": "2022-04-29T17:35:05.224Z"
      },
      {
        "duration": 61,
        "start_time": "2022-04-29T17:35:05.239Z"
      },
      {
        "duration": 105,
        "start_time": "2022-04-29T17:35:05.302Z"
      },
      {
        "duration": 13,
        "start_time": "2022-04-29T17:35:05.409Z"
      },
      {
        "duration": 25,
        "start_time": "2022-04-29T17:35:05.424Z"
      },
      {
        "duration": 36,
        "start_time": "2022-04-29T17:35:05.452Z"
      },
      {
        "duration": 252,
        "start_time": "2022-04-29T20:43:00.239Z"
      },
      {
        "duration": 102,
        "start_time": "2022-04-29T20:46:33.124Z"
      },
      {
        "duration": 39,
        "start_time": "2022-04-29T20:46:52.273Z"
      },
      {
        "duration": 1421,
        "start_time": "2022-04-29T20:54:53.669Z"
      },
      {
        "duration": 61,
        "start_time": "2022-04-29T20:54:55.092Z"
      },
      {
        "duration": 9,
        "start_time": "2022-04-29T20:54:55.155Z"
      },
      {
        "duration": 107,
        "start_time": "2022-04-29T20:54:55.165Z"
      },
      {
        "duration": 163,
        "start_time": "2022-04-29T20:54:55.273Z"
      },
      {
        "duration": 36,
        "start_time": "2022-04-29T20:54:55.438Z"
      },
      {
        "duration": 53,
        "start_time": "2022-04-29T20:54:55.476Z"
      },
      {
        "duration": 114,
        "start_time": "2022-04-29T20:54:55.547Z"
      },
      {
        "duration": 27,
        "start_time": "2022-04-29T20:54:55.662Z"
      },
      {
        "duration": 56,
        "start_time": "2022-04-29T20:54:55.691Z"
      },
      {
        "duration": 15,
        "start_time": "2022-04-29T20:54:55.749Z"
      },
      {
        "duration": 31,
        "start_time": "2022-04-29T20:54:55.766Z"
      },
      {
        "duration": 11,
        "start_time": "2022-04-29T20:54:55.799Z"
      },
      {
        "duration": 9,
        "start_time": "2022-04-29T20:54:55.811Z"
      },
      {
        "duration": 80,
        "start_time": "2022-04-29T20:54:55.821Z"
      },
      {
        "duration": 31,
        "start_time": "2022-04-29T20:54:55.903Z"
      },
      {
        "duration": 48,
        "start_time": "2022-04-29T20:54:55.936Z"
      },
      {
        "duration": 27,
        "start_time": "2022-04-29T20:54:55.986Z"
      },
      {
        "duration": 8,
        "start_time": "2022-04-29T20:54:56.014Z"
      },
      {
        "duration": 39,
        "start_time": "2022-04-29T20:54:56.023Z"
      },
      {
        "duration": 11,
        "start_time": "2022-04-29T20:54:56.064Z"
      },
      {
        "duration": 7,
        "start_time": "2022-04-29T20:54:56.077Z"
      },
      {
        "duration": 18,
        "start_time": "2022-04-29T20:54:56.086Z"
      },
      {
        "duration": 6,
        "start_time": "2022-04-29T20:54:56.105Z"
      },
      {
        "duration": 41,
        "start_time": "2022-04-29T20:54:56.112Z"
      },
      {
        "duration": 10,
        "start_time": "2022-04-29T20:54:56.155Z"
      },
      {
        "duration": 130,
        "start_time": "2022-04-29T20:54:56.167Z"
      },
      {
        "duration": 18,
        "start_time": "2022-04-29T20:54:56.300Z"
      },
      {
        "duration": 87,
        "start_time": "2022-04-29T20:54:56.319Z"
      },
      {
        "duration": 1024,
        "start_time": "2022-04-29T20:54:56.408Z"
      },
      {
        "duration": 21,
        "start_time": "2022-04-29T20:54:57.433Z"
      },
      {
        "duration": 8,
        "start_time": "2022-04-29T20:54:57.455Z"
      },
      {
        "duration": 19,
        "start_time": "2022-04-29T20:54:57.465Z"
      },
      {
        "duration": 98,
        "start_time": "2022-04-29T20:54:57.485Z"
      },
      {
        "duration": 8,
        "start_time": "2022-04-29T20:54:57.585Z"
      },
      {
        "duration": 16,
        "start_time": "2022-04-29T20:54:57.594Z"
      },
      {
        "duration": 7,
        "start_time": "2022-04-29T20:54:57.612Z"
      },
      {
        "duration": 46,
        "start_time": "2022-05-01T19:49:07.707Z"
      },
      {
        "duration": 1673,
        "start_time": "2022-05-01T19:49:23.624Z"
      },
      {
        "duration": 70,
        "start_time": "2022-05-01T19:49:25.299Z"
      },
      {
        "duration": 55,
        "start_time": "2022-05-01T19:49:29.771Z"
      },
      {
        "duration": 10,
        "start_time": "2022-05-01T19:49:43.992Z"
      },
      {
        "duration": 11,
        "start_time": "2022-05-01T19:55:44.951Z"
      },
      {
        "duration": 7,
        "start_time": "2022-05-01T20:16:40.946Z"
      },
      {
        "duration": 178,
        "start_time": "2022-05-01T20:16:47.065Z"
      },
      {
        "duration": 87,
        "start_time": "2022-05-01T20:16:47.245Z"
      },
      {
        "duration": 9,
        "start_time": "2022-05-01T20:16:47.334Z"
      },
      {
        "duration": 97,
        "start_time": "2022-05-01T20:16:47.345Z"
      },
      {
        "duration": 154,
        "start_time": "2022-05-01T20:16:47.444Z"
      },
      {
        "duration": 44,
        "start_time": "2022-05-01T20:16:47.600Z"
      },
      {
        "duration": 54,
        "start_time": "2022-05-01T20:16:47.646Z"
      },
      {
        "duration": 111,
        "start_time": "2022-05-01T20:16:47.702Z"
      },
      {
        "duration": 26,
        "start_time": "2022-05-01T20:16:47.823Z"
      },
      {
        "duration": 37,
        "start_time": "2022-05-01T20:16:47.852Z"
      },
      {
        "duration": 34,
        "start_time": "2022-05-01T20:16:47.890Z"
      },
      {
        "duration": 28,
        "start_time": "2022-05-01T20:16:47.925Z"
      },
      {
        "duration": 14,
        "start_time": "2022-05-01T20:16:47.955Z"
      },
      {
        "duration": 9,
        "start_time": "2022-05-01T20:16:47.971Z"
      },
      {
        "duration": 94,
        "start_time": "2022-05-01T20:16:47.982Z"
      },
      {
        "duration": 34,
        "start_time": "2022-05-01T20:16:48.078Z"
      },
      {
        "duration": 48,
        "start_time": "2022-05-01T20:16:48.114Z"
      },
      {
        "duration": 15,
        "start_time": "2022-05-01T20:16:52.308Z"
      },
      {
        "duration": 28,
        "start_time": "2022-05-01T20:17:53.888Z"
      },
      {
        "duration": 20,
        "start_time": "2022-05-01T20:18:13.517Z"
      },
      {
        "duration": 13,
        "start_time": "2022-05-01T20:18:18.693Z"
      },
      {
        "duration": 8,
        "start_time": "2022-05-01T20:20:50.427Z"
      },
      {
        "duration": 5,
        "start_time": "2022-05-01T20:21:59.361Z"
      },
      {
        "duration": 5,
        "start_time": "2022-05-01T20:22:06.362Z"
      },
      {
        "duration": 17,
        "start_time": "2022-05-01T20:22:16.039Z"
      },
      {
        "duration": 27,
        "start_time": "2022-05-01T20:24:34.297Z"
      },
      {
        "duration": 21,
        "start_time": "2022-05-01T20:24:37.460Z"
      },
      {
        "duration": 18,
        "start_time": "2022-05-01T20:24:42.089Z"
      },
      {
        "duration": 8,
        "start_time": "2022-05-01T20:24:46.073Z"
      },
      {
        "duration": 18,
        "start_time": "2022-05-01T20:24:49.273Z"
      },
      {
        "duration": 5,
        "start_time": "2022-05-01T20:24:52.274Z"
      },
      {
        "duration": 5,
        "start_time": "2022-05-01T20:24:54.105Z"
      },
      {
        "duration": 24,
        "start_time": "2022-05-01T20:25:05.870Z"
      },
      {
        "duration": 178,
        "start_time": "2022-05-01T20:25:18.171Z"
      },
      {
        "duration": 88,
        "start_time": "2022-05-01T20:25:18.350Z"
      },
      {
        "duration": 11,
        "start_time": "2022-05-01T20:25:18.440Z"
      },
      {
        "duration": 125,
        "start_time": "2022-05-01T20:25:18.453Z"
      },
      {
        "duration": 214,
        "start_time": "2022-05-01T20:25:18.580Z"
      },
      {
        "duration": 63,
        "start_time": "2022-05-01T20:25:18.796Z"
      },
      {
        "duration": 81,
        "start_time": "2022-05-01T20:25:18.861Z"
      },
      {
        "duration": 141,
        "start_time": "2022-05-01T20:25:18.944Z"
      },
      {
        "duration": 50,
        "start_time": "2022-05-01T20:25:19.087Z"
      },
      {
        "duration": 46,
        "start_time": "2022-05-01T20:25:19.140Z"
      },
      {
        "duration": 14,
        "start_time": "2022-05-01T20:25:19.188Z"
      },
      {
        "duration": 33,
        "start_time": "2022-05-01T20:25:19.203Z"
      },
      {
        "duration": 12,
        "start_time": "2022-05-01T20:25:19.237Z"
      },
      {
        "duration": 9,
        "start_time": "2022-05-01T20:25:19.250Z"
      },
      {
        "duration": 79,
        "start_time": "2022-05-01T20:25:19.261Z"
      },
      {
        "duration": 30,
        "start_time": "2022-05-01T20:25:19.342Z"
      },
      {
        "duration": 55,
        "start_time": "2022-05-01T20:25:19.374Z"
      },
      {
        "duration": 28,
        "start_time": "2022-05-01T20:25:19.431Z"
      },
      {
        "duration": 18,
        "start_time": "2022-05-01T20:25:19.460Z"
      },
      {
        "duration": 13,
        "start_time": "2022-05-01T20:25:19.480Z"
      },
      {
        "duration": 9,
        "start_time": "2022-05-01T20:25:19.525Z"
      },
      {
        "duration": 18,
        "start_time": "2022-05-01T20:25:19.536Z"
      },
      {
        "duration": 5,
        "start_time": "2022-05-01T20:25:19.556Z"
      },
      {
        "duration": 5,
        "start_time": "2022-05-01T20:25:23.836Z"
      },
      {
        "duration": 5,
        "start_time": "2022-05-01T20:25:25.245Z"
      },
      {
        "duration": 7,
        "start_time": "2022-05-01T20:25:30.367Z"
      },
      {
        "duration": 7,
        "start_time": "2022-05-01T20:26:46.586Z"
      },
      {
        "duration": 265,
        "start_time": "2022-05-01T20:28:24.693Z"
      },
      {
        "duration": 86,
        "start_time": "2022-05-01T20:28:24.960Z"
      },
      {
        "duration": 11,
        "start_time": "2022-05-01T20:28:25.048Z"
      },
      {
        "duration": 116,
        "start_time": "2022-05-01T20:28:25.061Z"
      },
      {
        "duration": 215,
        "start_time": "2022-05-01T20:28:25.179Z"
      },
      {
        "duration": 61,
        "start_time": "2022-05-01T20:28:25.396Z"
      },
      {
        "duration": 82,
        "start_time": "2022-05-01T20:28:25.459Z"
      },
      {
        "duration": 150,
        "start_time": "2022-05-01T20:28:25.543Z"
      },
      {
        "duration": 47,
        "start_time": "2022-05-01T20:28:25.695Z"
      },
      {
        "duration": 46,
        "start_time": "2022-05-01T20:28:25.745Z"
      },
      {
        "duration": 17,
        "start_time": "2022-05-01T20:28:25.793Z"
      },
      {
        "duration": 30,
        "start_time": "2022-05-01T20:28:25.823Z"
      },
      {
        "duration": 11,
        "start_time": "2022-05-01T20:28:25.854Z"
      },
      {
        "duration": 19,
        "start_time": "2022-05-01T20:28:25.867Z"
      },
      {
        "duration": 65,
        "start_time": "2022-05-01T20:28:25.888Z"
      },
      {
        "duration": 29,
        "start_time": "2022-05-01T20:28:25.955Z"
      },
      {
        "duration": 49,
        "start_time": "2022-05-01T20:28:25.986Z"
      },
      {
        "duration": 26,
        "start_time": "2022-05-01T20:28:26.037Z"
      },
      {
        "duration": 17,
        "start_time": "2022-05-01T20:28:26.064Z"
      },
      {
        "duration": 13,
        "start_time": "2022-05-01T20:28:26.082Z"
      },
      {
        "duration": 28,
        "start_time": "2022-05-01T20:28:26.096Z"
      },
      {
        "duration": 16,
        "start_time": "2022-05-01T20:28:26.125Z"
      },
      {
        "duration": 4,
        "start_time": "2022-05-01T20:28:26.142Z"
      },
      {
        "duration": 13,
        "start_time": "2022-05-01T20:28:26.147Z"
      },
      {
        "duration": 18,
        "start_time": "2022-05-01T20:28:26.161Z"
      },
      {
        "duration": 16,
        "start_time": "2022-05-01T20:28:26.180Z"
      },
      {
        "duration": 26,
        "start_time": "2022-05-01T20:28:26.197Z"
      },
      {
        "duration": 127,
        "start_time": "2022-05-01T20:28:26.226Z"
      },
      {
        "duration": 20,
        "start_time": "2022-05-01T20:28:26.354Z"
      },
      {
        "duration": 95,
        "start_time": "2022-05-01T20:28:26.376Z"
      },
      {
        "duration": 1152,
        "start_time": "2022-05-01T20:28:26.473Z"
      },
      {
        "duration": 19,
        "start_time": "2022-05-01T20:28:27.627Z"
      },
      {
        "duration": 9,
        "start_time": "2022-05-01T20:28:27.647Z"
      },
      {
        "duration": 26,
        "start_time": "2022-05-01T20:28:27.657Z"
      },
      {
        "duration": 11,
        "start_time": "2022-05-01T20:28:27.684Z"
      },
      {
        "duration": 35,
        "start_time": "2022-05-01T20:28:27.696Z"
      },
      {
        "duration": 24,
        "start_time": "2022-05-01T20:28:27.733Z"
      },
      {
        "duration": 9,
        "start_time": "2022-05-01T20:28:27.759Z"
      },
      {
        "duration": 184,
        "start_time": "2022-05-01T20:28:36.517Z"
      },
      {
        "duration": 12,
        "start_time": "2022-05-01T20:30:17.912Z"
      },
      {
        "duration": 20,
        "start_time": "2022-05-01T20:30:26.362Z"
      },
      {
        "duration": 10,
        "start_time": "2022-05-01T20:37:19.919Z"
      },
      {
        "duration": 2,
        "start_time": "2022-05-01T20:37:27.739Z"
      },
      {
        "duration": 11,
        "start_time": "2022-05-01T20:38:10.359Z"
      },
      {
        "duration": 11,
        "start_time": "2022-05-01T20:38:48.283Z"
      },
      {
        "duration": 4,
        "start_time": "2022-05-01T20:41:45.411Z"
      },
      {
        "duration": 10,
        "start_time": "2022-05-01T20:42:51.279Z"
      },
      {
        "duration": 4,
        "start_time": "2022-05-01T20:43:05.902Z"
      },
      {
        "duration": 10,
        "start_time": "2022-05-01T20:43:08.352Z"
      },
      {
        "duration": 10,
        "start_time": "2022-05-01T20:43:28.614Z"
      },
      {
        "duration": 9,
        "start_time": "2022-05-01T20:44:02.591Z"
      },
      {
        "duration": 1264,
        "start_time": "2022-05-01T20:47:37.767Z"
      },
      {
        "duration": 48,
        "start_time": "2022-05-01T20:47:39.033Z"
      },
      {
        "duration": 10,
        "start_time": "2022-05-01T20:47:39.083Z"
      },
      {
        "duration": 108,
        "start_time": "2022-05-01T20:47:39.095Z"
      },
      {
        "duration": 157,
        "start_time": "2022-05-01T20:47:39.205Z"
      },
      {
        "duration": 31,
        "start_time": "2022-05-01T20:47:39.363Z"
      },
      {
        "duration": 67,
        "start_time": "2022-05-01T20:47:39.397Z"
      },
      {
        "duration": 95,
        "start_time": "2022-05-01T20:47:39.466Z"
      },
      {
        "duration": 26,
        "start_time": "2022-05-01T20:47:39.562Z"
      },
      {
        "duration": 66,
        "start_time": "2022-05-01T20:47:39.591Z"
      },
      {
        "duration": 15,
        "start_time": "2022-05-01T20:47:39.659Z"
      },
      {
        "duration": 27,
        "start_time": "2022-05-01T20:47:39.676Z"
      },
      {
        "duration": 19,
        "start_time": "2022-05-01T20:47:39.705Z"
      },
      {
        "duration": 5,
        "start_time": "2022-05-01T20:47:39.726Z"
      },
      {
        "duration": 74,
        "start_time": "2022-05-01T20:47:39.732Z"
      },
      {
        "duration": 44,
        "start_time": "2022-05-01T20:47:39.807Z"
      },
      {
        "duration": 42,
        "start_time": "2022-05-01T20:47:39.853Z"
      },
      {
        "duration": 47,
        "start_time": "2022-05-01T20:47:39.896Z"
      },
      {
        "duration": 16,
        "start_time": "2022-05-01T20:47:39.945Z"
      },
      {
        "duration": 12,
        "start_time": "2022-05-01T20:47:39.963Z"
      },
      {
        "duration": 7,
        "start_time": "2022-05-01T20:47:39.977Z"
      },
      {
        "duration": 42,
        "start_time": "2022-05-01T20:47:39.986Z"
      },
      {
        "duration": 4,
        "start_time": "2022-05-01T20:47:40.029Z"
      },
      {
        "duration": 9,
        "start_time": "2022-05-01T20:47:40.035Z"
      },
      {
        "duration": 7,
        "start_time": "2022-05-01T20:47:40.045Z"
      },
      {
        "duration": 8,
        "start_time": "2022-05-01T20:47:40.054Z"
      },
      {
        "duration": 10,
        "start_time": "2022-05-01T20:47:40.063Z"
      },
      {
        "duration": 142,
        "start_time": "2022-05-01T20:47:40.077Z"
      },
      {
        "duration": 20,
        "start_time": "2022-05-01T20:47:40.223Z"
      },
      {
        "duration": 92,
        "start_time": "2022-05-01T20:47:40.244Z"
      },
      {
        "duration": 1048,
        "start_time": "2022-05-01T20:47:40.338Z"
      },
      {
        "duration": 2,
        "start_time": "2022-05-01T20:47:41.387Z"
      },
      {
        "duration": 11,
        "start_time": "2022-05-01T20:47:41.391Z"
      },
      {
        "duration": 19,
        "start_time": "2022-05-01T20:47:41.404Z"
      },
      {
        "duration": 10,
        "start_time": "2022-05-01T20:47:41.425Z"
      },
      {
        "duration": 10,
        "start_time": "2022-05-01T20:47:41.437Z"
      },
      {
        "duration": 9,
        "start_time": "2022-05-01T20:47:41.448Z"
      },
      {
        "duration": 11,
        "start_time": "2022-05-01T20:48:51.710Z"
      },
      {
        "duration": 5,
        "start_time": "2022-05-01T20:50:00.336Z"
      },
      {
        "duration": 17,
        "start_time": "2022-05-01T20:50:25.088Z"
      },
      {
        "duration": 14,
        "start_time": "2022-05-01T20:52:16.192Z"
      },
      {
        "duration": 10,
        "start_time": "2022-05-01T20:52:44.518Z"
      },
      {
        "duration": 16,
        "start_time": "2022-05-01T20:54:09.430Z"
      },
      {
        "duration": 19,
        "start_time": "2022-05-01T20:54:47.605Z"
      },
      {
        "duration": 15,
        "start_time": "2022-05-01T20:54:51.398Z"
      },
      {
        "duration": 11,
        "start_time": "2022-05-01T20:54:53.966Z"
      },
      {
        "duration": 11,
        "start_time": "2022-05-01T20:54:59.201Z"
      },
      {
        "duration": 100,
        "start_time": "2022-05-01T20:55:22.874Z"
      },
      {
        "duration": 18,
        "start_time": "2022-05-01T20:56:00.452Z"
      },
      {
        "duration": 14,
        "start_time": "2022-05-01T20:56:04.588Z"
      },
      {
        "duration": 11,
        "start_time": "2022-05-01T20:56:07.522Z"
      },
      {
        "duration": 73,
        "start_time": "2022-05-01T20:56:23.063Z"
      },
      {
        "duration": 9,
        "start_time": "2022-05-01T20:56:41.421Z"
      },
      {
        "duration": 9,
        "start_time": "2022-05-01T20:56:43.135Z"
      },
      {
        "duration": 18,
        "start_time": "2022-05-01T20:56:44.846Z"
      },
      {
        "duration": 20,
        "start_time": "2022-05-01T20:56:48.140Z"
      },
      {
        "duration": 4,
        "start_time": "2022-05-01T20:56:51.348Z"
      },
      {
        "duration": 5,
        "start_time": "2022-05-01T20:56:52.857Z"
      },
      {
        "duration": 7,
        "start_time": "2022-05-01T20:56:58.369Z"
      },
      {
        "duration": 1633,
        "start_time": "2022-05-01T20:59:54.520Z"
      },
      {
        "duration": 1808,
        "start_time": "2022-05-01T21:00:06.358Z"
      },
      {
        "duration": 18,
        "start_time": "2022-05-01T21:01:41.769Z"
      },
      {
        "duration": 8,
        "start_time": "2022-05-01T21:01:58.972Z"
      },
      {
        "duration": 16,
        "start_time": "2022-05-01T21:02:11.930Z"
      },
      {
        "duration": 14,
        "start_time": "2022-05-01T21:02:23.098Z"
      },
      {
        "duration": 11,
        "start_time": "2022-05-01T21:02:40.944Z"
      },
      {
        "duration": 16,
        "start_time": "2022-05-01T21:03:02.519Z"
      },
      {
        "duration": 4,
        "start_time": "2022-05-01T21:03:06.441Z"
      },
      {
        "duration": 4,
        "start_time": "2022-05-01T21:03:09.612Z"
      },
      {
        "duration": 6,
        "start_time": "2022-05-01T21:03:12.963Z"
      },
      {
        "duration": 124,
        "start_time": "2022-05-01T21:03:15.488Z"
      },
      {
        "duration": 20,
        "start_time": "2022-05-01T21:03:21.742Z"
      },
      {
        "duration": 1077,
        "start_time": "2022-05-01T21:03:29.294Z"
      },
      {
        "duration": 10,
        "start_time": "2022-05-01T21:03:56.697Z"
      },
      {
        "duration": 31,
        "start_time": "2022-05-01T21:04:01.887Z"
      },
      {
        "duration": 32,
        "start_time": "2022-05-01T21:04:04.142Z"
      },
      {
        "duration": 4,
        "start_time": "2022-05-01T21:04:25.190Z"
      },
      {
        "duration": 11,
        "start_time": "2022-05-01T21:04:27.716Z"
      },
      {
        "duration": 10,
        "start_time": "2022-05-01T21:04:30.804Z"
      },
      {
        "duration": 9,
        "start_time": "2022-05-01T21:04:32.283Z"
      },
      {
        "duration": 262,
        "start_time": "2022-05-01T21:05:48.052Z"
      },
      {
        "duration": 8,
        "start_time": "2022-05-01T21:05:53.035Z"
      },
      {
        "duration": 4,
        "start_time": "2022-05-01T21:07:40.830Z"
      },
      {
        "duration": 9,
        "start_time": "2022-05-01T21:07:48.463Z"
      },
      {
        "duration": 5,
        "start_time": "2022-05-01T21:08:35.371Z"
      },
      {
        "duration": 5,
        "start_time": "2022-05-01T21:09:17.895Z"
      },
      {
        "duration": 1735,
        "start_time": "2022-05-01T21:11:57.443Z"
      },
      {
        "duration": 7,
        "start_time": "2022-05-01T21:12:13.956Z"
      },
      {
        "duration": 7,
        "start_time": "2022-05-01T21:12:33.507Z"
      },
      {
        "duration": 10,
        "start_time": "2022-05-01T21:13:45.998Z"
      },
      {
        "duration": 9,
        "start_time": "2022-05-01T21:13:59.529Z"
      },
      {
        "duration": 108,
        "start_time": "2022-05-01T21:26:38.353Z"
      },
      {
        "duration": 109,
        "start_time": "2022-05-01T21:26:53.882Z"
      },
      {
        "duration": 1423,
        "start_time": "2022-05-02T06:22:56.668Z"
      },
      {
        "duration": 63,
        "start_time": "2022-05-02T06:22:58.093Z"
      },
      {
        "duration": 10,
        "start_time": "2022-05-02T06:22:58.158Z"
      },
      {
        "duration": 105,
        "start_time": "2022-05-02T06:22:58.170Z"
      },
      {
        "duration": 170,
        "start_time": "2022-05-02T06:22:58.277Z"
      },
      {
        "duration": 34,
        "start_time": "2022-05-02T06:22:58.448Z"
      },
      {
        "duration": 76,
        "start_time": "2022-05-02T06:22:58.483Z"
      },
      {
        "duration": 108,
        "start_time": "2022-05-02T06:22:58.560Z"
      },
      {
        "duration": 28,
        "start_time": "2022-05-02T06:22:58.670Z"
      },
      {
        "duration": 61,
        "start_time": "2022-05-02T06:22:58.701Z"
      },
      {
        "duration": 16,
        "start_time": "2022-05-02T06:22:58.763Z"
      },
      {
        "duration": 29,
        "start_time": "2022-05-02T06:22:58.781Z"
      },
      {
        "duration": 13,
        "start_time": "2022-05-02T06:22:58.823Z"
      },
      {
        "duration": 10,
        "start_time": "2022-05-02T06:22:58.838Z"
      },
      {
        "duration": 92,
        "start_time": "2022-05-02T06:22:58.850Z"
      },
      {
        "duration": 33,
        "start_time": "2022-05-02T06:22:58.944Z"
      },
      {
        "duration": 56,
        "start_time": "2022-05-02T06:22:58.979Z"
      },
      {
        "duration": 28,
        "start_time": "2022-05-02T06:22:59.038Z"
      },
      {
        "duration": 10,
        "start_time": "2022-05-02T06:22:59.068Z"
      },
      {
        "duration": 20,
        "start_time": "2022-05-02T06:22:59.080Z"
      },
      {
        "duration": 14,
        "start_time": "2022-05-02T06:22:59.124Z"
      },
      {
        "duration": 9,
        "start_time": "2022-05-02T06:22:59.140Z"
      },
      {
        "duration": 21,
        "start_time": "2022-05-02T06:22:59.150Z"
      },
      {
        "duration": 5,
        "start_time": "2022-05-02T06:22:59.173Z"
      },
      {
        "duration": 6,
        "start_time": "2022-05-02T06:22:59.179Z"
      },
      {
        "duration": 39,
        "start_time": "2022-05-02T06:22:59.186Z"
      },
      {
        "duration": 138,
        "start_time": "2022-05-02T06:22:59.227Z"
      },
      {
        "duration": 20,
        "start_time": "2022-05-02T06:22:59.370Z"
      },
      {
        "duration": 106,
        "start_time": "2022-05-02T06:22:59.392Z"
      },
      {
        "duration": 1133,
        "start_time": "2022-05-02T06:22:59.500Z"
      },
      {
        "duration": 10,
        "start_time": "2022-05-02T06:23:00.634Z"
      },
      {
        "duration": 5,
        "start_time": "2022-05-02T06:23:00.646Z"
      },
      {
        "duration": 25,
        "start_time": "2022-05-02T06:23:00.652Z"
      },
      {
        "duration": 13,
        "start_time": "2022-05-02T06:23:00.679Z"
      },
      {
        "duration": 16,
        "start_time": "2022-05-02T06:23:00.694Z"
      },
      {
        "duration": 6,
        "start_time": "2022-05-02T06:23:00.723Z"
      },
      {
        "duration": 21,
        "start_time": "2022-05-02T06:23:00.730Z"
      },
      {
        "duration": 14,
        "start_time": "2022-05-02T06:23:00.753Z"
      },
      {
        "duration": 199,
        "start_time": "2022-05-02T06:23:00.769Z"
      },
      {
        "duration": 149,
        "start_time": "2022-05-02T06:23:18.812Z"
      },
      {
        "duration": 2263,
        "start_time": "2022-05-02T06:24:06.545Z"
      },
      {
        "duration": 227,
        "start_time": "2022-05-02T06:50:30.670Z"
      },
      {
        "duration": 206,
        "start_time": "2022-05-02T06:53:06.378Z"
      },
      {
        "duration": 1781,
        "start_time": "2022-05-02T06:55:20.601Z"
      },
      {
        "duration": 15831,
        "start_time": "2022-05-02T06:55:53.653Z"
      },
      {
        "duration": 162,
        "start_time": "2022-05-02T06:57:17.794Z"
      },
      {
        "duration": 4,
        "start_time": "2022-05-02T06:57:59.471Z"
      },
      {
        "duration": 5,
        "start_time": "2022-05-02T07:06:50.303Z"
      },
      {
        "duration": 4,
        "start_time": "2022-05-02T07:10:06.313Z"
      },
      {
        "duration": 19,
        "start_time": "2022-05-02T07:10:14.902Z"
      },
      {
        "duration": 267,
        "start_time": "2022-05-02T07:32:58.565Z"
      },
      {
        "duration": 136,
        "start_time": "2022-05-02T07:33:10.318Z"
      },
      {
        "duration": 22,
        "start_time": "2022-05-02T07:33:51.104Z"
      },
      {
        "duration": 128,
        "start_time": "2022-05-02T07:34:02.245Z"
      },
      {
        "duration": 22,
        "start_time": "2022-05-02T07:39:30.340Z"
      },
      {
        "duration": 105,
        "start_time": "2022-05-02T07:42:10.436Z"
      },
      {
        "duration": 178,
        "start_time": "2022-05-02T07:42:27.311Z"
      },
      {
        "duration": 161,
        "start_time": "2022-05-02T07:42:44.670Z"
      },
      {
        "duration": 112,
        "start_time": "2022-05-02T07:45:11.173Z"
      },
      {
        "duration": 134,
        "start_time": "2022-05-02T07:45:22.871Z"
      },
      {
        "duration": 31,
        "start_time": "2022-05-02T07:46:31.544Z"
      },
      {
        "duration": 30,
        "start_time": "2022-05-02T07:46:44.990Z"
      },
      {
        "duration": 33,
        "start_time": "2022-05-02T07:46:51.355Z"
      },
      {
        "duration": 33,
        "start_time": "2022-05-02T07:47:25.843Z"
      },
      {
        "duration": 117,
        "start_time": "2022-05-02T07:50:13.601Z"
      },
      {
        "duration": 167,
        "start_time": "2022-05-02T07:51:40.512Z"
      },
      {
        "duration": 29,
        "start_time": "2022-05-02T07:57:11.908Z"
      },
      {
        "duration": 29,
        "start_time": "2022-05-02T07:57:23.283Z"
      },
      {
        "duration": 17,
        "start_time": "2022-05-02T07:59:00.956Z"
      },
      {
        "duration": 1670,
        "start_time": "2022-05-02T08:00:11.817Z"
      },
      {
        "duration": 1981,
        "start_time": "2022-05-02T08:01:18.836Z"
      },
      {
        "duration": 1807,
        "start_time": "2022-05-02T08:01:24.091Z"
      },
      {
        "duration": 133,
        "start_time": "2022-05-02T08:03:51.685Z"
      },
      {
        "duration": 129,
        "start_time": "2022-05-02T08:04:44.337Z"
      },
      {
        "duration": 134,
        "start_time": "2022-05-02T08:05:07.284Z"
      },
      {
        "duration": 2153,
        "start_time": "2022-05-02T08:05:33.355Z"
      },
      {
        "duration": 2105,
        "start_time": "2022-05-02T08:05:56.566Z"
      },
      {
        "duration": 23,
        "start_time": "2022-05-02T08:06:24.473Z"
      },
      {
        "duration": 191,
        "start_time": "2022-05-02T08:07:34.732Z"
      },
      {
        "duration": 184,
        "start_time": "2022-05-02T08:07:42.900Z"
      },
      {
        "duration": 129,
        "start_time": "2022-05-02T08:08:16.864Z"
      },
      {
        "duration": 131,
        "start_time": "2022-05-02T08:08:34.617Z"
      },
      {
        "duration": 134,
        "start_time": "2022-05-02T08:21:23.837Z"
      },
      {
        "duration": 189,
        "start_time": "2022-05-02T08:21:29.283Z"
      },
      {
        "duration": 150,
        "start_time": "2022-05-02T08:21:53.011Z"
      },
      {
        "duration": 138,
        "start_time": "2022-05-02T08:22:51.536Z"
      },
      {
        "duration": 35,
        "start_time": "2022-05-02T08:23:53.144Z"
      },
      {
        "duration": 191,
        "start_time": "2022-05-02T08:26:17.177Z"
      },
      {
        "duration": 284,
        "start_time": "2022-05-02T08:26:23.840Z"
      },
      {
        "duration": 19,
        "start_time": "2022-05-02T08:32:16.715Z"
      },
      {
        "duration": 22,
        "start_time": "2022-05-02T08:32:32.471Z"
      },
      {
        "duration": 146,
        "start_time": "2022-05-02T08:33:25.101Z"
      },
      {
        "duration": 178,
        "start_time": "2022-05-02T08:33:39.172Z"
      },
      {
        "duration": 24,
        "start_time": "2022-05-02T08:33:50.033Z"
      },
      {
        "duration": 180,
        "start_time": "2022-05-02T08:33:59.924Z"
      },
      {
        "duration": 127,
        "start_time": "2022-05-02T08:34:10.707Z"
      },
      {
        "duration": 121,
        "start_time": "2022-05-02T08:34:23.691Z"
      },
      {
        "duration": 130,
        "start_time": "2022-05-02T08:34:42.194Z"
      },
      {
        "duration": 123,
        "start_time": "2022-05-02T08:34:53.471Z"
      },
      {
        "duration": 188,
        "start_time": "2022-05-02T08:35:46.802Z"
      },
      {
        "duration": 69,
        "start_time": "2022-05-02T08:35:46.992Z"
      },
      {
        "duration": 8,
        "start_time": "2022-05-02T08:35:47.063Z"
      },
      {
        "duration": 113,
        "start_time": "2022-05-02T08:35:47.073Z"
      },
      {
        "duration": 171,
        "start_time": "2022-05-02T08:35:47.188Z"
      },
      {
        "duration": 49,
        "start_time": "2022-05-02T08:35:47.361Z"
      },
      {
        "duration": 66,
        "start_time": "2022-05-02T08:35:47.423Z"
      },
      {
        "duration": 153,
        "start_time": "2022-05-02T08:35:47.491Z"
      },
      {
        "duration": 37,
        "start_time": "2022-05-02T08:35:47.646Z"
      },
      {
        "duration": 74,
        "start_time": "2022-05-02T08:35:47.687Z"
      },
      {
        "duration": 16,
        "start_time": "2022-05-02T08:35:47.763Z"
      },
      {
        "duration": 36,
        "start_time": "2022-05-02T08:35:47.783Z"
      },
      {
        "duration": 15,
        "start_time": "2022-05-02T08:35:47.821Z"
      },
      {
        "duration": 11,
        "start_time": "2022-05-02T08:35:47.838Z"
      },
      {
        "duration": 106,
        "start_time": "2022-05-02T08:35:47.851Z"
      },
      {
        "duration": 42,
        "start_time": "2022-05-02T08:35:47.961Z"
      },
      {
        "duration": 56,
        "start_time": "2022-05-02T08:35:48.005Z"
      },
      {
        "duration": 40,
        "start_time": "2022-05-02T08:35:48.063Z"
      },
      {
        "duration": 12,
        "start_time": "2022-05-02T08:35:48.123Z"
      },
      {
        "duration": 20,
        "start_time": "2022-05-02T08:35:48.139Z"
      },
      {
        "duration": 15,
        "start_time": "2022-05-02T08:35:48.162Z"
      },
      {
        "duration": 9,
        "start_time": "2022-05-02T08:35:48.179Z"
      },
      {
        "duration": 50,
        "start_time": "2022-05-02T08:35:48.190Z"
      },
      {
        "duration": 5,
        "start_time": "2022-05-02T08:35:48.242Z"
      },
      {
        "duration": 9,
        "start_time": "2022-05-02T08:35:48.249Z"
      },
      {
        "duration": 12,
        "start_time": "2022-05-02T08:35:48.260Z"
      },
      {
        "duration": 219,
        "start_time": "2022-05-02T08:35:48.274Z"
      },
      {
        "duration": 29,
        "start_time": "2022-05-02T08:35:48.497Z"
      },
      {
        "duration": 100,
        "start_time": "2022-05-02T08:35:48.528Z"
      },
      {
        "duration": 1183,
        "start_time": "2022-05-02T08:35:48.630Z"
      },
      {
        "duration": 17,
        "start_time": "2022-05-02T08:35:49.814Z"
      },
      {
        "duration": 12,
        "start_time": "2022-05-02T08:35:49.833Z"
      },
      {
        "duration": 19,
        "start_time": "2022-05-02T08:35:49.846Z"
      },
      {
        "duration": 13,
        "start_time": "2022-05-02T08:35:49.867Z"
      },
      {
        "duration": 11,
        "start_time": "2022-05-02T08:35:49.881Z"
      },
      {
        "duration": 33,
        "start_time": "2022-05-02T08:35:49.893Z"
      },
      {
        "duration": 16,
        "start_time": "2022-05-02T08:35:49.928Z"
      },
      {
        "duration": 12,
        "start_time": "2022-05-02T08:35:49.946Z"
      },
      {
        "duration": 202,
        "start_time": "2022-05-02T08:35:49.960Z"
      },
      {
        "duration": 1957,
        "start_time": "2022-05-02T08:38:04.693Z"
      },
      {
        "duration": 2313,
        "start_time": "2022-05-02T08:38:16.320Z"
      },
      {
        "duration": 1873,
        "start_time": "2022-05-02T08:38:27.223Z"
      },
      {
        "duration": 1650,
        "start_time": "2022-05-02T08:38:31.670Z"
      },
      {
        "duration": 1841,
        "start_time": "2022-05-02T08:38:58.980Z"
      },
      {
        "duration": 176,
        "start_time": "2022-05-02T08:39:10.469Z"
      },
      {
        "duration": 3152,
        "start_time": "2022-05-02T08:39:38.884Z"
      },
      {
        "duration": 124,
        "start_time": "2022-05-02T08:39:58.803Z"
      },
      {
        "duration": 1635,
        "start_time": "2022-05-02T08:40:11.063Z"
      },
      {
        "duration": 2114,
        "start_time": "2022-05-02T08:40:34.925Z"
      },
      {
        "duration": 112,
        "start_time": "2022-05-02T08:42:33.002Z"
      },
      {
        "duration": 1641,
        "start_time": "2022-05-02T08:42:39.149Z"
      },
      {
        "duration": 29,
        "start_time": "2022-05-02T08:43:16.484Z"
      },
      {
        "duration": 22,
        "start_time": "2022-05-02T08:43:30.548Z"
      },
      {
        "duration": 23,
        "start_time": "2022-05-02T08:44:41.109Z"
      },
      {
        "duration": 2105,
        "start_time": "2022-05-02T08:46:25.560Z"
      },
      {
        "duration": 21,
        "start_time": "2022-05-02T08:47:09.978Z"
      },
      {
        "duration": 20,
        "start_time": "2022-05-02T08:50:34.548Z"
      },
      {
        "duration": 18,
        "start_time": "2022-05-02T08:50:58.894Z"
      },
      {
        "duration": 23,
        "start_time": "2022-05-02T08:51:08.187Z"
      },
      {
        "duration": 24,
        "start_time": "2022-05-02T08:51:46.622Z"
      },
      {
        "duration": 349,
        "start_time": "2022-05-02T08:52:16.107Z"
      },
      {
        "duration": 124,
        "start_time": "2022-05-02T08:55:25.049Z"
      },
      {
        "duration": 189,
        "start_time": "2022-05-02T08:55:35.951Z"
      },
      {
        "duration": 345,
        "start_time": "2022-05-02T08:55:44.719Z"
      },
      {
        "duration": 479,
        "start_time": "2022-05-02T08:56:50.397Z"
      },
      {
        "duration": 53,
        "start_time": "2022-05-02T08:59:55.858Z"
      },
      {
        "duration": 404,
        "start_time": "2022-05-02T09:00:13.985Z"
      },
      {
        "duration": 412,
        "start_time": "2022-05-02T09:02:07.507Z"
      },
      {
        "duration": 335,
        "start_time": "2022-05-02T09:02:16.097Z"
      },
      {
        "duration": 379,
        "start_time": "2022-05-02T09:02:59.010Z"
      },
      {
        "duration": 390,
        "start_time": "2022-05-02T09:03:25.919Z"
      },
      {
        "duration": 16,
        "start_time": "2022-05-02T09:09:49.311Z"
      },
      {
        "duration": 421,
        "start_time": "2022-05-02T10:31:02.402Z"
      },
      {
        "duration": 456,
        "start_time": "2022-05-02T10:41:26.158Z"
      },
      {
        "duration": 1520,
        "start_time": "2022-05-02T10:41:43.073Z"
      },
      {
        "duration": 83,
        "start_time": "2022-05-02T10:41:44.595Z"
      },
      {
        "duration": 11,
        "start_time": "2022-05-02T10:41:44.680Z"
      },
      {
        "duration": 135,
        "start_time": "2022-05-02T10:41:44.693Z"
      },
      {
        "duration": 232,
        "start_time": "2022-05-02T10:41:44.830Z"
      },
      {
        "duration": 47,
        "start_time": "2022-05-02T10:41:45.064Z"
      },
      {
        "duration": 75,
        "start_time": "2022-05-02T10:41:45.124Z"
      },
      {
        "duration": 152,
        "start_time": "2022-05-02T10:41:45.201Z"
      },
      {
        "duration": 39,
        "start_time": "2022-05-02T10:41:45.355Z"
      },
      {
        "duration": 67,
        "start_time": "2022-05-02T10:41:45.398Z"
      },
      {
        "duration": 19,
        "start_time": "2022-05-02T10:41:45.467Z"
      },
      {
        "duration": 38,
        "start_time": "2022-05-02T10:41:45.488Z"
      },
      {
        "duration": 17,
        "start_time": "2022-05-02T10:41:45.528Z"
      },
      {
        "duration": 11,
        "start_time": "2022-05-02T10:41:45.547Z"
      },
      {
        "duration": 115,
        "start_time": "2022-05-02T10:41:45.559Z"
      },
      {
        "duration": 51,
        "start_time": "2022-05-02T10:41:45.676Z"
      },
      {
        "duration": 54,
        "start_time": "2022-05-02T10:41:45.730Z"
      },
      {
        "duration": 55,
        "start_time": "2022-05-02T10:41:45.786Z"
      },
      {
        "duration": 14,
        "start_time": "2022-05-02T10:41:45.843Z"
      },
      {
        "duration": 27,
        "start_time": "2022-05-02T10:41:45.858Z"
      },
      {
        "duration": 15,
        "start_time": "2022-05-02T10:41:45.887Z"
      },
      {
        "duration": 29,
        "start_time": "2022-05-02T10:41:45.903Z"
      },
      {
        "duration": 34,
        "start_time": "2022-05-02T10:41:45.933Z"
      },
      {
        "duration": 4,
        "start_time": "2022-05-02T10:41:45.969Z"
      },
      {
        "duration": 19,
        "start_time": "2022-05-02T10:41:45.974Z"
      },
      {
        "duration": 15,
        "start_time": "2022-05-02T10:41:45.994Z"
      },
      {
        "duration": 218,
        "start_time": "2022-05-02T10:41:46.012Z"
      },
      {
        "duration": 21,
        "start_time": "2022-05-02T10:41:46.234Z"
      },
      {
        "duration": 14,
        "start_time": "2022-05-02T10:41:46.257Z"
      },
      {
        "duration": 116,
        "start_time": "2022-05-02T10:41:46.273Z"
      },
      {
        "duration": 1152,
        "start_time": "2022-05-02T10:41:46.391Z"
      },
      {
        "duration": 10,
        "start_time": "2022-05-02T10:41:47.544Z"
      },
      {
        "duration": 19,
        "start_time": "2022-05-02T10:41:47.555Z"
      },
      {
        "duration": 18,
        "start_time": "2022-05-02T10:41:47.575Z"
      },
      {
        "duration": 21,
        "start_time": "2022-05-02T10:41:47.594Z"
      },
      {
        "duration": 14,
        "start_time": "2022-05-02T10:41:47.617Z"
      },
      {
        "duration": 9,
        "start_time": "2022-05-02T10:41:47.633Z"
      },
      {
        "duration": 15,
        "start_time": "2022-05-02T10:41:47.644Z"
      },
      {
        "duration": 13,
        "start_time": "2022-05-02T10:41:47.661Z"
      },
      {
        "duration": 366,
        "start_time": "2022-05-02T10:41:47.676Z"
      },
      {
        "duration": 217,
        "start_time": "2022-05-02T20:17:25.442Z"
      },
      {
        "duration": 52,
        "start_time": "2022-05-02T20:18:58.572Z"
      },
      {
        "duration": 162,
        "start_time": "2022-05-02T20:20:07.005Z"
      },
      {
        "duration": 1600,
        "start_time": "2022-05-02T20:22:00.080Z"
      },
      {
        "duration": 68,
        "start_time": "2022-05-02T20:22:01.682Z"
      },
      {
        "duration": 10,
        "start_time": "2022-05-02T20:22:01.752Z"
      },
      {
        "duration": 119,
        "start_time": "2022-05-02T20:22:01.764Z"
      },
      {
        "duration": 175,
        "start_time": "2022-05-02T20:22:01.892Z"
      },
      {
        "duration": 53,
        "start_time": "2022-05-02T20:22:02.069Z"
      },
      {
        "duration": 53,
        "start_time": "2022-05-02T20:22:02.124Z"
      },
      {
        "duration": 120,
        "start_time": "2022-05-02T20:22:02.194Z"
      },
      {
        "duration": 29,
        "start_time": "2022-05-02T20:22:02.316Z"
      },
      {
        "duration": 74,
        "start_time": "2022-05-02T20:22:02.348Z"
      },
      {
        "duration": 16,
        "start_time": "2022-05-02T20:22:02.424Z"
      },
      {
        "duration": 31,
        "start_time": "2022-05-02T20:22:02.441Z"
      },
      {
        "duration": 23,
        "start_time": "2022-05-02T20:22:02.474Z"
      },
      {
        "duration": 13,
        "start_time": "2022-05-02T20:22:02.501Z"
      },
      {
        "duration": 92,
        "start_time": "2022-05-02T20:22:02.516Z"
      },
      {
        "duration": 32,
        "start_time": "2022-05-02T20:22:02.609Z"
      },
      {
        "duration": 66,
        "start_time": "2022-05-02T20:22:02.642Z"
      },
      {
        "duration": 28,
        "start_time": "2022-05-02T20:22:02.710Z"
      },
      {
        "duration": 11,
        "start_time": "2022-05-02T20:22:02.740Z"
      },
      {
        "duration": 32,
        "start_time": "2022-05-02T20:22:02.753Z"
      },
      {
        "duration": 27,
        "start_time": "2022-05-02T20:22:02.792Z"
      },
      {
        "duration": 10,
        "start_time": "2022-05-02T20:22:02.821Z"
      },
      {
        "duration": 20,
        "start_time": "2022-05-02T20:22:02.832Z"
      },
      {
        "duration": 4,
        "start_time": "2022-05-02T20:22:02.854Z"
      },
      {
        "duration": 5,
        "start_time": "2022-05-02T20:22:02.860Z"
      },
      {
        "duration": 39,
        "start_time": "2022-05-02T20:22:02.866Z"
      },
      {
        "duration": 139,
        "start_time": "2022-05-02T20:22:02.907Z"
      },
      {
        "duration": 20,
        "start_time": "2022-05-02T20:22:03.048Z"
      },
      {
        "duration": 37,
        "start_time": "2022-05-02T20:22:03.070Z"
      },
      {
        "duration": 96,
        "start_time": "2022-05-02T20:22:03.109Z"
      },
      {
        "duration": 1319,
        "start_time": "2022-05-02T20:22:03.208Z"
      },
      {
        "duration": 12,
        "start_time": "2022-05-02T20:22:04.529Z"
      },
      {
        "duration": 5,
        "start_time": "2022-05-02T20:22:04.543Z"
      },
      {
        "duration": 15,
        "start_time": "2022-05-02T20:22:04.550Z"
      },
      {
        "duration": 43,
        "start_time": "2022-05-02T20:22:04.567Z"
      },
      {
        "duration": 10,
        "start_time": "2022-05-02T20:22:04.612Z"
      },
      {
        "duration": 5,
        "start_time": "2022-05-02T20:22:04.624Z"
      },
      {
        "duration": 11,
        "start_time": "2022-05-02T20:22:04.631Z"
      },
      {
        "duration": 50,
        "start_time": "2022-05-02T20:22:04.644Z"
      },
      {
        "duration": 337,
        "start_time": "2022-05-02T20:22:04.696Z"
      },
      {
        "duration": 191,
        "start_time": "2022-05-02T20:22:05.037Z"
      },
      {
        "duration": 41,
        "start_time": "2022-05-03T10:07:34.329Z"
      },
      {
        "duration": 1575,
        "start_time": "2022-05-03T10:07:40.430Z"
      },
      {
        "duration": 48,
        "start_time": "2022-05-03T10:07:42.007Z"
      },
      {
        "duration": 8,
        "start_time": "2022-05-03T10:07:42.056Z"
      },
      {
        "duration": 93,
        "start_time": "2022-05-03T10:07:42.066Z"
      },
      {
        "duration": 162,
        "start_time": "2022-05-03T10:07:42.161Z"
      },
      {
        "duration": 29,
        "start_time": "2022-05-03T10:07:42.324Z"
      },
      {
        "duration": 61,
        "start_time": "2022-05-03T10:07:42.354Z"
      },
      {
        "duration": 107,
        "start_time": "2022-05-03T10:07:42.416Z"
      },
      {
        "duration": 24,
        "start_time": "2022-05-03T10:07:42.524Z"
      },
      {
        "duration": 33,
        "start_time": "2022-05-03T10:07:42.550Z"
      },
      {
        "duration": 22,
        "start_time": "2022-05-03T10:07:42.584Z"
      },
      {
        "duration": 50,
        "start_time": "2022-05-03T10:07:42.608Z"
      },
      {
        "duration": 12,
        "start_time": "2022-05-03T10:07:42.660Z"
      },
      {
        "duration": 8,
        "start_time": "2022-05-03T10:07:42.674Z"
      },
      {
        "duration": 73,
        "start_time": "2022-05-03T10:07:42.683Z"
      },
      {
        "duration": 32,
        "start_time": "2022-05-03T10:07:42.757Z"
      },
      {
        "duration": 47,
        "start_time": "2022-05-03T10:07:42.791Z"
      },
      {
        "duration": 27,
        "start_time": "2022-05-03T10:07:42.840Z"
      },
      {
        "duration": 9,
        "start_time": "2022-05-03T10:07:42.868Z"
      },
      {
        "duration": 39,
        "start_time": "2022-05-03T10:07:42.878Z"
      },
      {
        "duration": 11,
        "start_time": "2022-05-03T10:07:42.918Z"
      },
      {
        "duration": 6,
        "start_time": "2022-05-03T10:07:42.931Z"
      },
      {
        "duration": 16,
        "start_time": "2022-05-03T10:07:42.939Z"
      },
      {
        "duration": 3,
        "start_time": "2022-05-03T10:07:42.956Z"
      },
      {
        "duration": 40,
        "start_time": "2022-05-03T10:07:42.960Z"
      },
      {
        "duration": 6,
        "start_time": "2022-05-03T10:07:43.001Z"
      },
      {
        "duration": 55,
        "start_time": "2022-05-03T10:07:43.009Z"
      },
      {
        "duration": 8,
        "start_time": "2022-05-03T10:07:46.619Z"
      },
      {
        "duration": 8,
        "start_time": "2022-05-03T10:07:52.345Z"
      },
      {
        "duration": 4,
        "start_time": "2022-05-03T10:25:50.181Z"
      },
      {
        "duration": 7,
        "start_time": "2022-05-03T10:26:10.458Z"
      },
      {
        "duration": 12,
        "start_time": "2022-05-03T10:28:31.363Z"
      },
      {
        "duration": 11,
        "start_time": "2022-05-03T10:28:44.736Z"
      },
      {
        "duration": 185,
        "start_time": "2022-05-03T10:28:51.088Z"
      },
      {
        "duration": 66,
        "start_time": "2022-05-03T10:28:51.275Z"
      },
      {
        "duration": 9,
        "start_time": "2022-05-03T10:28:51.342Z"
      },
      {
        "duration": 101,
        "start_time": "2022-05-03T10:28:51.353Z"
      },
      {
        "duration": 169,
        "start_time": "2022-05-03T10:28:51.456Z"
      },
      {
        "duration": 31,
        "start_time": "2022-05-03T10:28:51.626Z"
      },
      {
        "duration": 63,
        "start_time": "2022-05-03T10:28:51.658Z"
      },
      {
        "duration": 104,
        "start_time": "2022-05-03T10:28:51.723Z"
      },
      {
        "duration": 26,
        "start_time": "2022-05-03T10:28:51.829Z"
      },
      {
        "duration": 51,
        "start_time": "2022-05-03T10:28:51.857Z"
      },
      {
        "duration": 20,
        "start_time": "2022-05-03T10:28:51.910Z"
      },
      {
        "duration": 39,
        "start_time": "2022-05-03T10:28:51.932Z"
      },
      {
        "duration": 11,
        "start_time": "2022-05-03T10:28:51.972Z"
      },
      {
        "duration": 10,
        "start_time": "2022-05-03T10:28:51.985Z"
      },
      {
        "duration": 56,
        "start_time": "2022-05-03T10:28:51.997Z"
      },
      {
        "duration": 27,
        "start_time": "2022-05-03T10:28:52.055Z"
      },
      {
        "duration": 38,
        "start_time": "2022-05-03T10:28:52.083Z"
      },
      {
        "duration": 25,
        "start_time": "2022-05-03T10:28:52.122Z"
      },
      {
        "duration": 9,
        "start_time": "2022-05-03T10:28:52.148Z"
      },
      {
        "duration": 17,
        "start_time": "2022-05-03T10:28:52.158Z"
      },
      {
        "duration": 32,
        "start_time": "2022-05-03T10:28:52.176Z"
      },
      {
        "duration": 7,
        "start_time": "2022-05-03T10:28:52.209Z"
      },
      {
        "duration": 16,
        "start_time": "2022-05-03T10:28:52.217Z"
      },
      {
        "duration": 3,
        "start_time": "2022-05-03T10:28:52.234Z"
      },
      {
        "duration": 6,
        "start_time": "2022-05-03T10:28:52.239Z"
      },
      {
        "duration": 7,
        "start_time": "2022-05-03T10:28:52.246Z"
      },
      {
        "duration": 6,
        "start_time": "2022-05-03T10:28:52.255Z"
      },
      {
        "duration": 145,
        "start_time": "2022-05-03T10:28:52.264Z"
      },
      {
        "duration": 18,
        "start_time": "2022-05-03T10:28:52.410Z"
      },
      {
        "duration": 13,
        "start_time": "2022-05-03T10:28:52.429Z"
      },
      {
        "duration": 102,
        "start_time": "2022-05-03T10:28:52.443Z"
      },
      {
        "duration": 1063,
        "start_time": "2022-05-03T10:28:52.546Z"
      },
      {
        "duration": 9,
        "start_time": "2022-05-03T10:28:53.610Z"
      },
      {
        "duration": 6,
        "start_time": "2022-05-03T10:28:53.620Z"
      },
      {
        "duration": 15,
        "start_time": "2022-05-03T10:28:53.628Z"
      },
      {
        "duration": 13,
        "start_time": "2022-05-03T10:28:53.646Z"
      },
      {
        "duration": 12,
        "start_time": "2022-05-03T10:28:53.661Z"
      },
      {
        "duration": 30,
        "start_time": "2022-05-03T10:28:53.674Z"
      },
      {
        "duration": 14,
        "start_time": "2022-05-03T10:28:53.706Z"
      },
      {
        "duration": 10,
        "start_time": "2022-05-03T10:28:53.721Z"
      },
      {
        "duration": 162,
        "start_time": "2022-05-03T10:28:53.732Z"
      },
      {
        "duration": 155,
        "start_time": "2022-05-03T10:30:49.603Z"
      },
      {
        "duration": 146,
        "start_time": "2022-05-03T10:31:43.767Z"
      },
      {
        "duration": 142,
        "start_time": "2022-05-03T10:33:02.580Z"
      },
      {
        "duration": 147,
        "start_time": "2022-05-03T10:33:09.879Z"
      },
      {
        "duration": 150,
        "start_time": "2022-05-03T10:34:39.685Z"
      },
      {
        "duration": 154,
        "start_time": "2022-05-03T10:41:02.778Z"
      },
      {
        "duration": 155,
        "start_time": "2022-05-03T10:41:22.079Z"
      },
      {
        "duration": 1712,
        "start_time": "2022-05-03T16:23:25.421Z"
      },
      {
        "duration": 69,
        "start_time": "2022-05-03T16:23:27.137Z"
      },
      {
        "duration": 9,
        "start_time": "2022-05-03T16:23:27.207Z"
      },
      {
        "duration": 120,
        "start_time": "2022-05-03T16:23:27.219Z"
      },
      {
        "duration": 181,
        "start_time": "2022-05-03T16:23:27.340Z"
      },
      {
        "duration": 46,
        "start_time": "2022-05-03T16:23:27.522Z"
      },
      {
        "duration": 64,
        "start_time": "2022-05-03T16:23:27.570Z"
      },
      {
        "duration": 128,
        "start_time": "2022-05-03T16:23:27.636Z"
      },
      {
        "duration": 45,
        "start_time": "2022-05-03T16:23:27.765Z"
      },
      {
        "duration": 82,
        "start_time": "2022-05-03T16:23:27.814Z"
      },
      {
        "duration": 16,
        "start_time": "2022-05-03T16:23:27.898Z"
      },
      {
        "duration": 30,
        "start_time": "2022-05-03T16:23:27.916Z"
      },
      {
        "duration": 14,
        "start_time": "2022-05-03T16:23:27.954Z"
      },
      {
        "duration": 13,
        "start_time": "2022-05-03T16:23:27.970Z"
      },
      {
        "duration": 89,
        "start_time": "2022-05-03T16:23:27.984Z"
      },
      {
        "duration": 31,
        "start_time": "2022-05-03T16:23:28.075Z"
      },
      {
        "duration": 58,
        "start_time": "2022-05-03T16:23:28.108Z"
      },
      {
        "duration": 32,
        "start_time": "2022-05-03T16:23:28.168Z"
      },
      {
        "duration": 11,
        "start_time": "2022-05-03T16:23:28.202Z"
      },
      {
        "duration": 40,
        "start_time": "2022-05-03T16:23:28.215Z"
      },
      {
        "duration": 15,
        "start_time": "2022-05-03T16:23:28.256Z"
      },
      {
        "duration": 13,
        "start_time": "2022-05-03T16:23:28.273Z"
      },
      {
        "duration": 28,
        "start_time": "2022-05-03T16:23:28.288Z"
      },
      {
        "duration": 6,
        "start_time": "2022-05-03T16:23:28.318Z"
      },
      {
        "duration": 7,
        "start_time": "2022-05-03T16:23:28.354Z"
      },
      {
        "duration": 10,
        "start_time": "2022-05-03T16:23:28.363Z"
      },
      {
        "duration": 10,
        "start_time": "2022-05-03T16:23:28.375Z"
      },
      {
        "duration": 219,
        "start_time": "2022-05-03T16:23:28.390Z"
      },
      {
        "duration": 20,
        "start_time": "2022-05-03T16:23:28.611Z"
      },
      {
        "duration": 34,
        "start_time": "2022-05-03T16:23:28.633Z"
      },
      {
        "duration": 109,
        "start_time": "2022-05-03T16:23:28.668Z"
      },
      {
        "duration": 1134,
        "start_time": "2022-05-03T16:23:28.779Z"
      },
      {
        "duration": 11,
        "start_time": "2022-05-03T16:23:29.915Z"
      },
      {
        "duration": 27,
        "start_time": "2022-05-03T16:23:29.927Z"
      },
      {
        "duration": 28,
        "start_time": "2022-05-03T16:23:29.956Z"
      },
      {
        "duration": 17,
        "start_time": "2022-05-03T16:23:29.987Z"
      },
      {
        "duration": 27,
        "start_time": "2022-05-03T16:23:30.007Z"
      },
      {
        "duration": 9,
        "start_time": "2022-05-03T16:23:30.037Z"
      },
      {
        "duration": 22,
        "start_time": "2022-05-03T16:23:30.048Z"
      },
      {
        "duration": 13,
        "start_time": "2022-05-03T16:23:30.072Z"
      },
      {
        "duration": 286,
        "start_time": "2022-05-03T16:23:30.087Z"
      },
      {
        "duration": 174,
        "start_time": "2022-05-03T16:23:30.375Z"
      }
    ],
    "celltoolbar": "Необработанный формат ячейки",
    "kernelspec": {
      "display_name": "Python 3 (ipykernel)",
      "language": "python",
      "name": "python3"
    },
    "language_info": {
      "codemirror_mode": {
        "name": "ipython",
        "version": 3
      },
      "file_extension": ".py",
      "mimetype": "text/x-python",
      "name": "python",
      "nbconvert_exporter": "python",
      "pygments_lexer": "ipython3",
      "version": "3.9.7"
    },
    "toc": {
      "base_numbering": 1,
      "nav_menu": {},
      "number_sections": false,
      "sideBar": true,
      "skip_h1_title": false,
      "title_cell": "Table of Contents",
      "title_sidebar": "Contents",
      "toc_cell": false,
      "toc_position": {
        "height": "542.4px",
        "left": "177px",
        "top": "259.125px",
        "width": "307.2px"
      },
      "toc_section_display": true,
      "toc_window_display": true
    },
    "colab": {
      "provenance": []
    }
  },
  "nbformat": 4,
  "nbformat_minor": 5
}