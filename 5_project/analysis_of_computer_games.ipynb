{
  "cells": [
    {
      "cell_type": "markdown",
      "metadata": {
        "id": "H53uAFVmehl-"
      },
      "source": [
        "# Описание проекта"
      ]
    },
    {
      "cell_type": "markdown",
      "metadata": {
        "id": "aprp-xGoehmA"
      },
      "source": [
        "Вы работаете в интернет-магазине «Стримчик», который продаёт по всему миру компьютерные игры. Из открытых источников доступны исторические данные о продажах игр, оценки пользователей и экспертов, жанры и платформы (например, Xbox или PlayStation). <br/>\n",
        "Перед вами данные до 2016 года. Представим, что сейчас декабрь 2016 г., и вы планируете кампанию на 2017-й. Нужно отработать принцип работы с данными. Неважно, прогнозируете ли вы продажи на 2017 год по данным 2016-го или же 2027-й — по данным 2026 года.<br/>\n",
        "В наборе данных попадается аббревиатура ESRB (Entertainment Software Rating Board) — это ассоциация, определяющая возрастной рейтинг компьютерных игр. ESRB оценивает игровой контент и присваивает ему подходящую возрастную категорию, например, «Для взрослых», «Для детей младшего возраста» или «Для подростков».\n"
      ]
    },
    {
      "cell_type": "markdown",
      "metadata": {
        "id": "QQGIPh_5ehmD"
      },
      "source": [
        "## Описание столбцов\n",
        "\n",
        "<b>Name</b> — название игры\n",
        "\n",
        "<b>Platform</b> — платформа\n",
        "\n",
        "<b>Year_of_Release</b> — год выпуска\n",
        "\n",
        "<b>Genre</b> — жанр игры\n",
        "\n",
        "<b>NA_sales</b> — продажи в Северной Америке (миллионы долларов)\n",
        "\n",
        "<b>EU_sales</b> — продажи в Европе (миллионы долларов)\n",
        "\n",
        "<b>JP_sales</b> — продажи в Японии (миллионы долларов)\n",
        "\n",
        "<b>Other_sales</b> — продажи в других странах (миллионы долларов)\n",
        "\n",
        "<b>Critic_Score</b> — оценка критиков (от 0 до 100)\n",
        "\n",
        "<b>User_Score</b> — оценка пользователей (от 0 до 10)\n",
        "\n",
        "<b>Rating</b> — рейтинг от организации ESRB (англ. Entertainment Software Rating Board). Эта ассоциация определяет рейтинг компьютерных игр и присваивает им подходящую возрастную категорию."
      ]
    },
    {
      "cell_type": "markdown",
      "metadata": {
        "id": "Tf-4kUp9ehmG"
      },
      "source": [
        "## Цель\n",
        "Выявить определяющие успешность игры закономерности. Это позволит сделать ставку на потенциально популярный продукт и спланировать рекламные кампании."
      ]
    },
    {
      "cell_type": "markdown",
      "metadata": {
        "id": "fJRsCMyZehmM"
      },
      "source": [
        "# Знакомство с данными"
      ]
    },
    {
      "cell_type": "code",
      "execution_count": null,
      "metadata": {
        "id": "p8nvjpvOehmP"
      },
      "outputs": [],
      "source": [
        "import pandas as pd\n",
        "import numpy as np\n",
        "import matplotlib.pyplot as plt\n",
        "import seaborn as sns\n",
        "import scipy\n",
        "from scipy.stats import levene\n",
        "from scipy import stats as st"
      ]
    },
    {
      "cell_type": "code",
      "execution_count": null,
      "metadata": {
        "id": "0TDD2MvlehmX",
        "outputId": "bfbc06d0-9907-46ac-80ed-082316edf38d"
      },
      "outputs": [
        {
          "data": {
            "text/html": [
              "<div>\n",
              "<style scoped>\n",
              "    .dataframe tbody tr th:only-of-type {\n",
              "        vertical-align: middle;\n",
              "    }\n",
              "\n",
              "    .dataframe tbody tr th {\n",
              "        vertical-align: top;\n",
              "    }\n",
              "\n",
              "    .dataframe thead th {\n",
              "        text-align: right;\n",
              "    }\n",
              "</style>\n",
              "<table border=\"1\" class=\"dataframe\">\n",
              "  <thead>\n",
              "    <tr style=\"text-align: right;\">\n",
              "      <th></th>\n",
              "      <th>Name</th>\n",
              "      <th>Platform</th>\n",
              "      <th>Year_of_Release</th>\n",
              "      <th>Genre</th>\n",
              "      <th>NA_sales</th>\n",
              "      <th>EU_sales</th>\n",
              "      <th>JP_sales</th>\n",
              "      <th>Other_sales</th>\n",
              "      <th>Critic_Score</th>\n",
              "      <th>User_Score</th>\n",
              "      <th>Rating</th>\n",
              "    </tr>\n",
              "  </thead>\n",
              "  <tbody>\n",
              "    <tr>\n",
              "      <th>0</th>\n",
              "      <td>Wii Sports</td>\n",
              "      <td>Wii</td>\n",
              "      <td>2006.0</td>\n",
              "      <td>Sports</td>\n",
              "      <td>41.36</td>\n",
              "      <td>28.96</td>\n",
              "      <td>3.77</td>\n",
              "      <td>8.45</td>\n",
              "      <td>76.0</td>\n",
              "      <td>8</td>\n",
              "      <td>E</td>\n",
              "    </tr>\n",
              "    <tr>\n",
              "      <th>1</th>\n",
              "      <td>Super Mario Bros.</td>\n",
              "      <td>NES</td>\n",
              "      <td>1985.0</td>\n",
              "      <td>Platform</td>\n",
              "      <td>29.08</td>\n",
              "      <td>3.58</td>\n",
              "      <td>6.81</td>\n",
              "      <td>0.77</td>\n",
              "      <td>NaN</td>\n",
              "      <td>NaN</td>\n",
              "      <td>NaN</td>\n",
              "    </tr>\n",
              "    <tr>\n",
              "      <th>2</th>\n",
              "      <td>Mario Kart Wii</td>\n",
              "      <td>Wii</td>\n",
              "      <td>2008.0</td>\n",
              "      <td>Racing</td>\n",
              "      <td>15.68</td>\n",
              "      <td>12.76</td>\n",
              "      <td>3.79</td>\n",
              "      <td>3.29</td>\n",
              "      <td>82.0</td>\n",
              "      <td>8.3</td>\n",
              "      <td>E</td>\n",
              "    </tr>\n",
              "    <tr>\n",
              "      <th>3</th>\n",
              "      <td>Wii Sports Resort</td>\n",
              "      <td>Wii</td>\n",
              "      <td>2009.0</td>\n",
              "      <td>Sports</td>\n",
              "      <td>15.61</td>\n",
              "      <td>10.93</td>\n",
              "      <td>3.28</td>\n",
              "      <td>2.95</td>\n",
              "      <td>80.0</td>\n",
              "      <td>8</td>\n",
              "      <td>E</td>\n",
              "    </tr>\n",
              "    <tr>\n",
              "      <th>4</th>\n",
              "      <td>Pokemon Red/Pokemon Blue</td>\n",
              "      <td>GB</td>\n",
              "      <td>1996.0</td>\n",
              "      <td>Role-Playing</td>\n",
              "      <td>11.27</td>\n",
              "      <td>8.89</td>\n",
              "      <td>10.22</td>\n",
              "      <td>1.00</td>\n",
              "      <td>NaN</td>\n",
              "      <td>NaN</td>\n",
              "      <td>NaN</td>\n",
              "    </tr>\n",
              "  </tbody>\n",
              "</table>\n",
              "</div>"
            ],
            "text/plain": [
              "                       Name Platform  Year_of_Release         Genre  NA_sales  \\\n",
              "0                Wii Sports      Wii           2006.0        Sports     41.36   \n",
              "1         Super Mario Bros.      NES           1985.0      Platform     29.08   \n",
              "2            Mario Kart Wii      Wii           2008.0        Racing     15.68   \n",
              "3         Wii Sports Resort      Wii           2009.0        Sports     15.61   \n",
              "4  Pokemon Red/Pokemon Blue       GB           1996.0  Role-Playing     11.27   \n",
              "\n",
              "   EU_sales  JP_sales  Other_sales  Critic_Score User_Score Rating  \n",
              "0     28.96      3.77         8.45          76.0          8      E  \n",
              "1      3.58      6.81         0.77           NaN        NaN    NaN  \n",
              "2     12.76      3.79         3.29          82.0        8.3      E  \n",
              "3     10.93      3.28         2.95          80.0          8      E  \n",
              "4      8.89     10.22         1.00           NaN        NaN    NaN  "
            ]
          },
          "execution_count": 2,
          "metadata": {},
          "output_type": "execute_result"
        }
      ],
      "source": [
        "df = pd.read_csv('/datasets/games.csv')\n",
        "df.head()"
      ]
    },
    {
      "cell_type": "code",
      "execution_count": null,
      "metadata": {
        "id": "yWQ_-8hvehmb",
        "outputId": "d5675952-b97f-4fd1-909b-ee6be03cc2ad"
      },
      "outputs": [
        {
          "name": "stdout",
          "output_type": "stream",
          "text": [
            "<class 'pandas.core.frame.DataFrame'>\n",
            "RangeIndex: 16715 entries, 0 to 16714\n",
            "Data columns (total 11 columns):\n",
            " #   Column           Non-Null Count  Dtype  \n",
            "---  ------           --------------  -----  \n",
            " 0   Name             16713 non-null  object \n",
            " 1   Platform         16715 non-null  object \n",
            " 2   Year_of_Release  16446 non-null  float64\n",
            " 3   Genre            16713 non-null  object \n",
            " 4   NA_sales         16715 non-null  float64\n",
            " 5   EU_sales         16715 non-null  float64\n",
            " 6   JP_sales         16715 non-null  float64\n",
            " 7   Other_sales      16715 non-null  float64\n",
            " 8   Critic_Score     8137 non-null   float64\n",
            " 9   User_Score       10014 non-null  object \n",
            " 10  Rating           9949 non-null   object \n",
            "dtypes: float64(6), object(5)\n",
            "memory usage: 1.4+ MB\n"
          ]
        }
      ],
      "source": [
        "df.info()"
      ]
    },
    {
      "cell_type": "markdown",
      "metadata": {
        "id": "r15s9jecehmc"
      },
      "source": [
        "Датафрейм состоит из 16715 строк, и 11 столбцов. <br/>\n",
        "Мы видим, что только 5 из 11 столбцов имеют все данный, в остальных столбцах есть пропуски. \n",
        "Больше всего пропусков в столбах \"Оценка критиков\" и \"Оценка пользователей\", а также \"Возрастной категории\".\n",
        "Такое большое количество пропусков может объясняться тем, что рейтинги ведут недавно. Также, возможно, непопулярные игры вообще не оценивались."
      ]
    },
    {
      "cell_type": "markdown",
      "metadata": {
        "id": "TjlGj9xlehmd"
      },
      "source": [
        "Проверим данные на дубликаты."
      ]
    },
    {
      "cell_type": "code",
      "execution_count": null,
      "metadata": {
        "id": "5qRGrF4vehmf",
        "outputId": "b307e7c7-0f77-4deb-c111-0a27a5d2d677"
      },
      "outputs": [
        {
          "data": {
            "text/plain": [
              "0"
            ]
          },
          "execution_count": 4,
          "metadata": {},
          "output_type": "execute_result"
        }
      ],
      "source": [
        "df.duplicated().sum()"
      ]
    },
    {
      "cell_type": "markdown",
      "metadata": {
        "id": "4WEIBsGZehml"
      },
      "source": [
        "Приведем название столбцов к нижнему регистру."
      ]
    },
    {
      "cell_type": "code",
      "execution_count": null,
      "metadata": {
        "id": "giHEVvaCehmm",
        "outputId": "e4438ba3-1a70-431c-baa6-73e2c49c3379"
      },
      "outputs": [
        {
          "data": {
            "text/plain": [
              "Index(['name', 'platform', 'year_of_release', 'genre', 'na_sales', 'eu_sales',\n",
              "       'jp_sales', 'other_sales', 'critic_score', 'user_score', 'rating'],\n",
              "      dtype='object')"
            ]
          },
          "execution_count": 5,
          "metadata": {},
          "output_type": "execute_result"
        }
      ],
      "source": [
        "df.columns = df.columns.str.lower()\n",
        "df.columns"
      ]
    },
    {
      "cell_type": "markdown",
      "metadata": {
        "id": "9Jo8MMqEehmo"
      },
      "source": [
        "## Выводы:\n",
        "- Очень много пропусков и проблемы с типами данных. Поработаем над этим дальше. \n",
        "- В датафрейме нет дубликатов.\n",
        "- Привели все названия столбцов к нижнему регистру.\n",
        "- Для дальнейшего анализа не хватает итоговой суммы продаж, добавим этот столец позже."
      ]
    },
    {
      "cell_type": "markdown",
      "metadata": {
        "id": "v6rd43peehmp"
      },
      "source": [
        "# Предобработка данных"
      ]
    },
    {
      "cell_type": "markdown",
      "metadata": {
        "id": "MYbX3Mloehmq"
      },
      "source": [
        "Проверяем данные на количество пропусков."
      ]
    },
    {
      "cell_type": "code",
      "execution_count": null,
      "metadata": {
        "id": "cplbskwyehmq",
        "outputId": "0260c3f2-7a91-4070-8160-0c48f4496b7c"
      },
      "outputs": [
        {
          "data": {
            "text/plain": [
              "name                  2\n",
              "platform              0\n",
              "year_of_release     269\n",
              "genre                 2\n",
              "na_sales              0\n",
              "eu_sales              0\n",
              "jp_sales              0\n",
              "other_sales           0\n",
              "critic_score       8578\n",
              "user_score         6701\n",
              "rating             6766\n",
              "dtype: int64"
            ]
          },
          "execution_count": 6,
          "metadata": {},
          "output_type": "execute_result"
        }
      ],
      "source": [
        "df.isna().sum()"
      ]
    },
    {
      "cell_type": "markdown",
      "metadata": {
        "id": "Chbldofzehmr"
      },
      "source": [
        "Заполним те пропуски, которые сможем заполнить."
      ]
    },
    {
      "cell_type": "markdown",
      "metadata": {
        "id": "5vwj4TV5ehms"
      },
      "source": [
        "<b>Столбцы name и genre"
      ]
    },
    {
      "cell_type": "code",
      "execution_count": null,
      "metadata": {
        "id": "WG_QcZROehmt",
        "outputId": "8596e24d-9f8f-4b51-a821-3e3ed45fef93"
      },
      "outputs": [
        {
          "data": {
            "text/html": [
              "<div>\n",
              "<style scoped>\n",
              "    .dataframe tbody tr th:only-of-type {\n",
              "        vertical-align: middle;\n",
              "    }\n",
              "\n",
              "    .dataframe tbody tr th {\n",
              "        vertical-align: top;\n",
              "    }\n",
              "\n",
              "    .dataframe thead th {\n",
              "        text-align: right;\n",
              "    }\n",
              "</style>\n",
              "<table border=\"1\" class=\"dataframe\">\n",
              "  <thead>\n",
              "    <tr style=\"text-align: right;\">\n",
              "      <th></th>\n",
              "      <th>name</th>\n",
              "      <th>platform</th>\n",
              "      <th>year_of_release</th>\n",
              "      <th>genre</th>\n",
              "      <th>na_sales</th>\n",
              "      <th>eu_sales</th>\n",
              "      <th>jp_sales</th>\n",
              "      <th>other_sales</th>\n",
              "      <th>critic_score</th>\n",
              "      <th>user_score</th>\n",
              "      <th>rating</th>\n",
              "    </tr>\n",
              "  </thead>\n",
              "  <tbody>\n",
              "    <tr>\n",
              "      <th>659</th>\n",
              "      <td>NaN</td>\n",
              "      <td>GEN</td>\n",
              "      <td>1993.0</td>\n",
              "      <td>NaN</td>\n",
              "      <td>1.78</td>\n",
              "      <td>0.53</td>\n",
              "      <td>0.00</td>\n",
              "      <td>0.08</td>\n",
              "      <td>NaN</td>\n",
              "      <td>NaN</td>\n",
              "      <td>NaN</td>\n",
              "    </tr>\n",
              "    <tr>\n",
              "      <th>14244</th>\n",
              "      <td>NaN</td>\n",
              "      <td>GEN</td>\n",
              "      <td>1993.0</td>\n",
              "      <td>NaN</td>\n",
              "      <td>0.00</td>\n",
              "      <td>0.00</td>\n",
              "      <td>0.03</td>\n",
              "      <td>0.00</td>\n",
              "      <td>NaN</td>\n",
              "      <td>NaN</td>\n",
              "      <td>NaN</td>\n",
              "    </tr>\n",
              "  </tbody>\n",
              "</table>\n",
              "</div>"
            ],
            "text/plain": [
              "      name platform  year_of_release genre  na_sales  eu_sales  jp_sales  \\\n",
              "659    NaN      GEN           1993.0   NaN      1.78      0.53      0.00   \n",
              "14244  NaN      GEN           1993.0   NaN      0.00      0.00      0.03   \n",
              "\n",
              "       other_sales  critic_score user_score rating  \n",
              "659           0.08           NaN        NaN    NaN  \n",
              "14244         0.00           NaN        NaN    NaN  "
            ]
          },
          "execution_count": 7,
          "metadata": {},
          "output_type": "execute_result"
        }
      ],
      "source": [
        "df[df['name'].isna()]"
      ]
    },
    {
      "cell_type": "markdown",
      "metadata": {
        "id": "oZKh2i7Wehmu"
      },
      "source": [
        "В name и genre всего по два пропуска и они находятся в одних и тех же строчках. Данные строки не информативны, поэтому удалим их."
      ]
    },
    {
      "cell_type": "code",
      "execution_count": null,
      "metadata": {
        "id": "VQOvExUAehmw",
        "outputId": "4401fd06-3bc9-4885-9364-ee532937158a"
      },
      "outputs": [
        {
          "data": {
            "text/plain": [
              "0"
            ]
          },
          "execution_count": 8,
          "metadata": {},
          "output_type": "execute_result"
        }
      ],
      "source": [
        "df = df.dropna(subset=['name']).reset_index(drop=True)\n",
        "df['name'].isna().sum()"
      ]
    },
    {
      "cell_type": "markdown",
      "metadata": {
        "id": "lHS-ajL2ehmy"
      },
      "source": [
        "<b>Столбец year_of_release"
      ]
    },
    {
      "cell_type": "code",
      "execution_count": null,
      "metadata": {
        "id": "Dg2i_uW9ehmz",
        "outputId": "18677ed9-2173-4fa9-f2d4-9ae09019f730"
      },
      "outputs": [
        {
          "data": {
            "text/plain": [
              "269"
            ]
          },
          "execution_count": 9,
          "metadata": {},
          "output_type": "execute_result"
        }
      ],
      "source": [
        "df['year_of_release'].isna().sum()"
      ]
    },
    {
      "cell_type": "code",
      "execution_count": null,
      "metadata": {
        "id": "vPZyOroJehm0",
        "outputId": "1e5c80e3-20a7-4919-f811-32f5a3736179"
      },
      "outputs": [
        {
          "data": {
            "text/html": [
              "<div>\n",
              "<style scoped>\n",
              "    .dataframe tbody tr th:only-of-type {\n",
              "        vertical-align: middle;\n",
              "    }\n",
              "\n",
              "    .dataframe tbody tr th {\n",
              "        vertical-align: top;\n",
              "    }\n",
              "\n",
              "    .dataframe thead th {\n",
              "        text-align: right;\n",
              "    }\n",
              "</style>\n",
              "<table border=\"1\" class=\"dataframe\">\n",
              "  <thead>\n",
              "    <tr style=\"text-align: right;\">\n",
              "      <th></th>\n",
              "      <th>name</th>\n",
              "      <th>platform</th>\n",
              "      <th>year_of_release</th>\n",
              "      <th>genre</th>\n",
              "      <th>na_sales</th>\n",
              "      <th>eu_sales</th>\n",
              "      <th>jp_sales</th>\n",
              "      <th>other_sales</th>\n",
              "      <th>critic_score</th>\n",
              "      <th>user_score</th>\n",
              "      <th>rating</th>\n",
              "    </tr>\n",
              "  </thead>\n",
              "  <tbody>\n",
              "    <tr>\n",
              "      <th>14981</th>\n",
              "      <td>Beyblade Burst</td>\n",
              "      <td>3DS</td>\n",
              "      <td>2016.0</td>\n",
              "      <td>Role-Playing</td>\n",
              "      <td>0.00</td>\n",
              "      <td>0.00</td>\n",
              "      <td>0.03</td>\n",
              "      <td>0.00</td>\n",
              "      <td>NaN</td>\n",
              "      <td>NaN</td>\n",
              "      <td>NaN</td>\n",
              "    </tr>\n",
              "    <tr>\n",
              "      <th>1078</th>\n",
              "      <td>Fire Emblem Fates</td>\n",
              "      <td>3DS</td>\n",
              "      <td>2015.0</td>\n",
              "      <td>Role-Playing</td>\n",
              "      <td>0.81</td>\n",
              "      <td>0.23</td>\n",
              "      <td>0.52</td>\n",
              "      <td>0.11</td>\n",
              "      <td>NaN</td>\n",
              "      <td>NaN</td>\n",
              "      <td>NaN</td>\n",
              "    </tr>\n",
              "    <tr>\n",
              "      <th>3357</th>\n",
              "      <td>Frozen: Olaf's Quest</td>\n",
              "      <td>3DS</td>\n",
              "      <td>2013.0</td>\n",
              "      <td>Platform</td>\n",
              "      <td>0.27</td>\n",
              "      <td>0.27</td>\n",
              "      <td>0.00</td>\n",
              "      <td>0.05</td>\n",
              "      <td>NaN</td>\n",
              "      <td>NaN</td>\n",
              "      <td>NaN</td>\n",
              "    </tr>\n",
              "    <tr>\n",
              "      <th>3861</th>\n",
              "      <td>Frozen: Olaf's Quest</td>\n",
              "      <td>DS</td>\n",
              "      <td>2013.0</td>\n",
              "      <td>Platform</td>\n",
              "      <td>0.21</td>\n",
              "      <td>0.26</td>\n",
              "      <td>0.00</td>\n",
              "      <td>0.04</td>\n",
              "      <td>NaN</td>\n",
              "      <td>NaN</td>\n",
              "      <td>NaN</td>\n",
              "    </tr>\n",
              "    <tr>\n",
              "      <th>13793</th>\n",
              "      <td>Haikyu!! Cross Team Match!</td>\n",
              "      <td>3DS</td>\n",
              "      <td>2016.0</td>\n",
              "      <td>Adventure</td>\n",
              "      <td>0.00</td>\n",
              "      <td>0.00</td>\n",
              "      <td>0.04</td>\n",
              "      <td>0.00</td>\n",
              "      <td>NaN</td>\n",
              "      <td>NaN</td>\n",
              "      <td>NaN</td>\n",
              "    </tr>\n",
              "    <tr>\n",
              "      <th>...</th>\n",
              "      <td>...</td>\n",
              "      <td>...</td>\n",
              "      <td>...</td>\n",
              "      <td>...</td>\n",
              "      <td>...</td>\n",
              "      <td>...</td>\n",
              "      <td>...</td>\n",
              "      <td>...</td>\n",
              "      <td>...</td>\n",
              "      <td>...</td>\n",
              "      <td>...</td>\n",
              "    </tr>\n",
              "    <tr>\n",
              "      <th>645</th>\n",
              "      <td>uDraw Studio</td>\n",
              "      <td>Wii</td>\n",
              "      <td>2010.0</td>\n",
              "      <td>Misc</td>\n",
              "      <td>1.65</td>\n",
              "      <td>0.57</td>\n",
              "      <td>0.00</td>\n",
              "      <td>0.20</td>\n",
              "      <td>71.0</td>\n",
              "      <td>tbd</td>\n",
              "      <td>E</td>\n",
              "    </tr>\n",
              "    <tr>\n",
              "      <th>15610</th>\n",
              "      <td>uDraw Studio: Instant Artist</td>\n",
              "      <td>X360</td>\n",
              "      <td>2011.0</td>\n",
              "      <td>Misc</td>\n",
              "      <td>0.01</td>\n",
              "      <td>0.01</td>\n",
              "      <td>0.00</td>\n",
              "      <td>0.00</td>\n",
              "      <td>54.0</td>\n",
              "      <td>5.7</td>\n",
              "      <td>E</td>\n",
              "    </tr>\n",
              "    <tr>\n",
              "      <th>8279</th>\n",
              "      <td>uDraw Studio: Instant Artist</td>\n",
              "      <td>Wii</td>\n",
              "      <td>2011.0</td>\n",
              "      <td>Misc</td>\n",
              "      <td>0.06</td>\n",
              "      <td>0.09</td>\n",
              "      <td>0.00</td>\n",
              "      <td>0.02</td>\n",
              "      <td>NaN</td>\n",
              "      <td>tbd</td>\n",
              "      <td>E</td>\n",
              "    </tr>\n",
              "    <tr>\n",
              "      <th>475</th>\n",
              "      <td>wwe Smackdown vs. Raw 2006</td>\n",
              "      <td>PS2</td>\n",
              "      <td>NaN</td>\n",
              "      <td>Fighting</td>\n",
              "      <td>1.57</td>\n",
              "      <td>1.02</td>\n",
              "      <td>0.00</td>\n",
              "      <td>0.41</td>\n",
              "      <td>NaN</td>\n",
              "      <td>NaN</td>\n",
              "      <td>NaN</td>\n",
              "    </tr>\n",
              "    <tr>\n",
              "      <th>9133</th>\n",
              "      <td>¡Shin Chan Flipa en colores!</td>\n",
              "      <td>DS</td>\n",
              "      <td>2007.0</td>\n",
              "      <td>Platform</td>\n",
              "      <td>0.00</td>\n",
              "      <td>0.00</td>\n",
              "      <td>0.14</td>\n",
              "      <td>0.00</td>\n",
              "      <td>NaN</td>\n",
              "      <td>NaN</td>\n",
              "      <td>NaN</td>\n",
              "    </tr>\n",
              "  </tbody>\n",
              "</table>\n",
              "<p>16713 rows × 11 columns</p>\n",
              "</div>"
            ],
            "text/plain": [
              "                               name platform  year_of_release         genre  \\\n",
              "14981                Beyblade Burst      3DS           2016.0  Role-Playing   \n",
              "1078              Fire Emblem Fates      3DS           2015.0  Role-Playing   \n",
              "3357           Frozen: Olaf's Quest      3DS           2013.0      Platform   \n",
              "3861           Frozen: Olaf's Quest       DS           2013.0      Platform   \n",
              "13793    Haikyu!! Cross Team Match!      3DS           2016.0     Adventure   \n",
              "...                             ...      ...              ...           ...   \n",
              "645                    uDraw Studio      Wii           2010.0          Misc   \n",
              "15610  uDraw Studio: Instant Artist     X360           2011.0          Misc   \n",
              "8279   uDraw Studio: Instant Artist      Wii           2011.0          Misc   \n",
              "475      wwe Smackdown vs. Raw 2006      PS2              NaN      Fighting   \n",
              "9133   ¡Shin Chan Flipa en colores!       DS           2007.0      Platform   \n",
              "\n",
              "       na_sales  eu_sales  jp_sales  other_sales  critic_score user_score  \\\n",
              "14981      0.00      0.00      0.03         0.00           NaN        NaN   \n",
              "1078       0.81      0.23      0.52         0.11           NaN        NaN   \n",
              "3357       0.27      0.27      0.00         0.05           NaN        NaN   \n",
              "3861       0.21      0.26      0.00         0.04           NaN        NaN   \n",
              "13793      0.00      0.00      0.04         0.00           NaN        NaN   \n",
              "...         ...       ...       ...          ...           ...        ...   \n",
              "645        1.65      0.57      0.00         0.20          71.0        tbd   \n",
              "15610      0.01      0.01      0.00         0.00          54.0        5.7   \n",
              "8279       0.06      0.09      0.00         0.02           NaN        tbd   \n",
              "475        1.57      1.02      0.00         0.41           NaN        NaN   \n",
              "9133       0.00      0.00      0.14         0.00           NaN        NaN   \n",
              "\n",
              "      rating  \n",
              "14981    NaN  \n",
              "1078     NaN  \n",
              "3357     NaN  \n",
              "3861     NaN  \n",
              "13793    NaN  \n",
              "...      ...  \n",
              "645        E  \n",
              "15610      E  \n",
              "8279       E  \n",
              "475      NaN  \n",
              "9133     NaN  \n",
              "\n",
              "[16713 rows x 11 columns]"
            ]
          },
          "execution_count": 10,
          "metadata": {},
          "output_type": "execute_result"
        }
      ],
      "source": [
        "df.sort_values('name')"
      ]
    },
    {
      "cell_type": "markdown",
      "metadata": {
        "id": "5_YIqe0tehm1"
      },
      "source": [
        "Некоторые игры выходили в один год сразу на разных платформах. Используем это для заполнения пропусков."
      ]
    },
    {
      "cell_type": "code",
      "execution_count": null,
      "metadata": {
        "id": "5boPUOzxehm2",
        "outputId": "3b61b6ae-7ddc-49e8-a64e-8af23d2fbece"
      },
      "outputs": [
        {
          "data": {
            "text/plain": [
              "173"
            ]
          },
          "execution_count": 11,
          "metadata": {},
          "output_type": "execute_result"
        }
      ],
      "source": [
        "df.year_of_release = df.groupby('name')['year_of_release'].transform(lambda x:  x.fillna(scipy.stats.mode(x).mode[0]))\n",
        "df['year_of_release'].isna().sum()"
      ]
    },
    {
      "cell_type": "markdown",
      "metadata": {
        "id": "nBrl3AmDehm6"
      },
      "source": [
        "Удалось заменить почти 100 пропущенных значения. Остальные значения заполнить нельзя, поэтому удалим их."
      ]
    },
    {
      "cell_type": "code",
      "execution_count": null,
      "metadata": {
        "id": "tjefwZuiehm6",
        "outputId": "28ab870d-51bf-4b1a-df82-25473e6a908c"
      },
      "outputs": [
        {
          "data": {
            "text/plain": [
              "0"
            ]
          },
          "execution_count": 12,
          "metadata": {},
          "output_type": "execute_result"
        }
      ],
      "source": [
        "df = df.dropna(subset=['year_of_release']).reset_index(drop=True)\n",
        "df['year_of_release'].isna().sum()"
      ]
    },
    {
      "cell_type": "markdown",
      "metadata": {
        "id": "oVHaauUXehm9"
      },
      "source": [
        "Переводим столбец в формат int"
      ]
    },
    {
      "cell_type": "code",
      "execution_count": null,
      "metadata": {
        "id": "0B6lj-2rehm9",
        "outputId": "1ff561f9-390e-4de0-9285-d8a4ff7a3855"
      },
      "outputs": [
        {
          "data": {
            "text/plain": [
              "dtype('int64')"
            ]
          },
          "execution_count": 13,
          "metadata": {},
          "output_type": "execute_result"
        }
      ],
      "source": [
        "df['year_of_release'] = df['year_of_release'].astype('int')\n",
        "df['year_of_release'].dtype"
      ]
    },
    {
      "cell_type": "markdown",
      "metadata": {
        "id": "-ns1knRyehm-"
      },
      "source": [
        "<b>Столбцы critic_score и user_score"
      ]
    },
    {
      "cell_type": "code",
      "execution_count": null,
      "metadata": {
        "id": "oIk28Ieeehm_",
        "outputId": "db4ecf36-f5b8-4331-da6c-896a2574e3e2"
      },
      "outputs": [
        {
          "data": {
            "text/plain": [
              "8485"
            ]
          },
          "execution_count": 14,
          "metadata": {},
          "output_type": "execute_result"
        }
      ],
      "source": [
        "df['critic_score'].isna().sum()"
      ]
    },
    {
      "cell_type": "code",
      "execution_count": null,
      "metadata": {
        "id": "CckuMnQiehnB",
        "outputId": "8d507d3e-5827-4be6-da2e-bec803178629"
      },
      "outputs": [
        {
          "data": {
            "text/plain": [
              "6627"
            ]
          },
          "execution_count": 15,
          "metadata": {},
          "output_type": "execute_result"
        }
      ],
      "source": [
        "df['user_score'].isna().sum()"
      ]
    },
    {
      "cell_type": "markdown",
      "metadata": {
        "id": "IRTmQEElehnC"
      },
      "source": [
        "Пропусков в столбцах очень много и заполнить их не представляется возможным, как и удалить, потому что в этих строках нужные для анализа данные"
      ]
    },
    {
      "cell_type": "code",
      "execution_count": null,
      "metadata": {
        "id": "4SZp0AiMehnD",
        "outputId": "10a425da-4d69-4a89-daac-7868e0a7a74a"
      },
      "outputs": [
        {
          "data": {
            "text/plain": [
              "array(['8', nan, '8.3', '8.5', '6.6', '8.4', '8.6', '7.7', '6.3', '7.4',\n",
              "       '8.2', '9', '7.9', '8.1', '8.7', '7.1', '3.4', '5.3', '4.8', '3.2',\n",
              "       '8.9', '6.4', '7.8', '7.5', '2.6', '7.2', '9.2', '7', '7.3', '4.3',\n",
              "       '7.6', '5.7', '5', '9.1', '6.5', 'tbd', '8.8', '6.9', '9.4', '6.8',\n",
              "       '6.1', '6.7', '5.4', '4', '4.9', '4.5', '9.3', '6.2', '4.2', '6',\n",
              "       '3.7', '4.1', '5.8', '5.6', '5.5', '4.4', '4.6', '5.9', '3.9',\n",
              "       '3.1', '2.9', '5.2', '3.3', '4.7', '5.1', '3.5', '2.5', '1.9', '3',\n",
              "       '2.7', '2.2', '2', '9.5', '2.1', '3.6', '2.8', '1.8', '3.8', '0',\n",
              "       '1.6', '9.6', '2.4', '1.7', '1.1', '0.3', '1.5', '0.7', '1.2',\n",
              "       '2.3', '0.5', '1.3', '0.2', '0.6', '1.4', '0.9', '1', '9.7'],\n",
              "      dtype=object)"
            ]
          },
          "execution_count": 16,
          "metadata": {},
          "output_type": "execute_result"
        }
      ],
      "source": [
        "df['user_score'].unique()"
      ]
    },
    {
      "cell_type": "markdown",
      "metadata": {
        "id": "Xgv7wwkGehnW"
      },
      "source": [
        "Обратим внимание на аббревиатуру tbd в столбце user_score. Аббревиатура tbd значит to be done. Игру еще не оценили. Т.к. мы не можем получить эти оценки, то заменим tbd на Nan."
      ]
    },
    {
      "cell_type": "code",
      "execution_count": null,
      "metadata": {
        "id": "nQzLfI6vehnX",
        "outputId": "d5137cc7-fb1e-4e49-e893-9f063c15face"
      },
      "outputs": [
        {
          "data": {
            "text/plain": [
              "dtype('float64')"
            ]
          },
          "execution_count": 17,
          "metadata": {},
          "output_type": "execute_result"
        }
      ],
      "source": [
        "df['user_score'] = df['user_score'].replace('tbd', np.nan, regex=True)\n",
        "\n",
        "df['user_score'] = df['user_score'].astype(float)\n",
        "df['user_score'].dtype"
      ]
    },
    {
      "cell_type": "markdown",
      "metadata": {
        "id": "bE9c-msgehnb"
      },
      "source": [
        "<b>Столбец rating"
      ]
    },
    {
      "cell_type": "markdown",
      "metadata": {
        "id": "dcU6zSoqehnb"
      },
      "source": [
        "Как и в предыдущих столбцах, заполнить данные значениями мы не можем. Заполним пропуски \"unknown\"."
      ]
    },
    {
      "cell_type": "code",
      "execution_count": null,
      "metadata": {
        "id": "yOgc7E4mehnc"
      },
      "outputs": [],
      "source": [
        "df['rating'] = df['rating'].fillna('unknown')"
      ]
    },
    {
      "cell_type": "markdown",
      "metadata": {
        "id": "nN3wACafehng"
      },
      "source": [
        "<b>Столбец total_sales"
      ]
    },
    {
      "cell_type": "markdown",
      "metadata": {
        "id": "EXUTnjiQehng"
      },
      "source": [
        "Создадим столбец с суммарными значениями продаж по всем регионам."
      ]
    },
    {
      "cell_type": "code",
      "execution_count": null,
      "metadata": {
        "id": "mvGNhaR1ehni",
        "outputId": "281ebfc1-f4ba-4d75-d632-6fdcb8e42c6f"
      },
      "outputs": [
        {
          "data": {
            "text/html": [
              "<div>\n",
              "<style scoped>\n",
              "    .dataframe tbody tr th:only-of-type {\n",
              "        vertical-align: middle;\n",
              "    }\n",
              "\n",
              "    .dataframe tbody tr th {\n",
              "        vertical-align: top;\n",
              "    }\n",
              "\n",
              "    .dataframe thead th {\n",
              "        text-align: right;\n",
              "    }\n",
              "</style>\n",
              "<table border=\"1\" class=\"dataframe\">\n",
              "  <thead>\n",
              "    <tr style=\"text-align: right;\">\n",
              "      <th></th>\n",
              "      <th>name</th>\n",
              "      <th>platform</th>\n",
              "      <th>year_of_release</th>\n",
              "      <th>genre</th>\n",
              "      <th>na_sales</th>\n",
              "      <th>eu_sales</th>\n",
              "      <th>jp_sales</th>\n",
              "      <th>other_sales</th>\n",
              "      <th>critic_score</th>\n",
              "      <th>user_score</th>\n",
              "      <th>rating</th>\n",
              "      <th>total_sales</th>\n",
              "    </tr>\n",
              "  </thead>\n",
              "  <tbody>\n",
              "    <tr>\n",
              "      <th>0</th>\n",
              "      <td>Wii Sports</td>\n",
              "      <td>Wii</td>\n",
              "      <td>2006</td>\n",
              "      <td>Sports</td>\n",
              "      <td>41.36</td>\n",
              "      <td>28.96</td>\n",
              "      <td>3.77</td>\n",
              "      <td>8.45</td>\n",
              "      <td>76.0</td>\n",
              "      <td>8.0</td>\n",
              "      <td>E</td>\n",
              "      <td>82.54</td>\n",
              "    </tr>\n",
              "    <tr>\n",
              "      <th>1</th>\n",
              "      <td>Super Mario Bros.</td>\n",
              "      <td>NES</td>\n",
              "      <td>1985</td>\n",
              "      <td>Platform</td>\n",
              "      <td>29.08</td>\n",
              "      <td>3.58</td>\n",
              "      <td>6.81</td>\n",
              "      <td>0.77</td>\n",
              "      <td>NaN</td>\n",
              "      <td>NaN</td>\n",
              "      <td>unknown</td>\n",
              "      <td>40.24</td>\n",
              "    </tr>\n",
              "    <tr>\n",
              "      <th>2</th>\n",
              "      <td>Mario Kart Wii</td>\n",
              "      <td>Wii</td>\n",
              "      <td>2008</td>\n",
              "      <td>Racing</td>\n",
              "      <td>15.68</td>\n",
              "      <td>12.76</td>\n",
              "      <td>3.79</td>\n",
              "      <td>3.29</td>\n",
              "      <td>82.0</td>\n",
              "      <td>8.3</td>\n",
              "      <td>E</td>\n",
              "      <td>35.52</td>\n",
              "    </tr>\n",
              "    <tr>\n",
              "      <th>3</th>\n",
              "      <td>Wii Sports Resort</td>\n",
              "      <td>Wii</td>\n",
              "      <td>2009</td>\n",
              "      <td>Sports</td>\n",
              "      <td>15.61</td>\n",
              "      <td>10.93</td>\n",
              "      <td>3.28</td>\n",
              "      <td>2.95</td>\n",
              "      <td>80.0</td>\n",
              "      <td>8.0</td>\n",
              "      <td>E</td>\n",
              "      <td>32.77</td>\n",
              "    </tr>\n",
              "    <tr>\n",
              "      <th>4</th>\n",
              "      <td>Pokemon Red/Pokemon Blue</td>\n",
              "      <td>GB</td>\n",
              "      <td>1996</td>\n",
              "      <td>Role-Playing</td>\n",
              "      <td>11.27</td>\n",
              "      <td>8.89</td>\n",
              "      <td>10.22</td>\n",
              "      <td>1.00</td>\n",
              "      <td>NaN</td>\n",
              "      <td>NaN</td>\n",
              "      <td>unknown</td>\n",
              "      <td>31.38</td>\n",
              "    </tr>\n",
              "  </tbody>\n",
              "</table>\n",
              "</div>"
            ],
            "text/plain": [
              "                       name platform  year_of_release         genre  na_sales  \\\n",
              "0                Wii Sports      Wii             2006        Sports     41.36   \n",
              "1         Super Mario Bros.      NES             1985      Platform     29.08   \n",
              "2            Mario Kart Wii      Wii             2008        Racing     15.68   \n",
              "3         Wii Sports Resort      Wii             2009        Sports     15.61   \n",
              "4  Pokemon Red/Pokemon Blue       GB             1996  Role-Playing     11.27   \n",
              "\n",
              "   eu_sales  jp_sales  other_sales  critic_score  user_score   rating  \\\n",
              "0     28.96      3.77         8.45          76.0         8.0        E   \n",
              "1      3.58      6.81         0.77           NaN         NaN  unknown   \n",
              "2     12.76      3.79         3.29          82.0         8.3        E   \n",
              "3     10.93      3.28         2.95          80.0         8.0        E   \n",
              "4      8.89     10.22         1.00           NaN         NaN  unknown   \n",
              "\n",
              "   total_sales  \n",
              "0        82.54  \n",
              "1        40.24  \n",
              "2        35.52  \n",
              "3        32.77  \n",
              "4        31.38  "
            ]
          },
          "execution_count": 19,
          "metadata": {},
          "output_type": "execute_result"
        }
      ],
      "source": [
        "df['total_sales'] = df[['na_sales', 'eu_sales', 'jp_sales', 'other_sales']].sum(axis = 1)\n",
        "df.head()"
      ]
    },
    {
      "cell_type": "markdown",
      "metadata": {
        "id": "vMW_nbY4ehno"
      },
      "source": [
        "## Выводы:\n",
        "- Некоторые пропущенные значения в столбце года выпуска игры удалось заполнить. Остальные пропуски заполнить невозможно, будем работать с данными в таком виде.\n",
        "- Перевели данные в стобцах \"year_of_release\", \"critic_score\", \"user_score\" в нужный формат для экономии памяти и проведения расчетов.\n",
        "- Для будущего анализа добавили стобец с сумарными значениями по всем регионам."
      ]
    },
    {
      "cell_type": "markdown",
      "metadata": {
        "id": "wa-Zb-SNehnq"
      },
      "source": [
        "# Исследовательский анализ"
      ]
    },
    {
      "cell_type": "markdown",
      "metadata": {
        "id": "aiPsgb6Dehnq"
      },
      "source": [
        "Посмотрим сколько игр выпускалось в разные года."
      ]
    },
    {
      "cell_type": "code",
      "execution_count": null,
      "metadata": {
        "id": "s0pzL-ZAehnr",
        "outputId": "dbcb1685-d20f-450f-b029-edc356a41362"
      },
      "outputs": [
        {
          "data": {
            "text/plain": [
              "year_of_release\n",
              "1980       9\n",
              "1981      46\n",
              "1982      36\n",
              "1983      17\n",
              "1984      14\n",
              "1985      14\n",
              "1986      21\n",
              "1987      16\n",
              "1988      15\n",
              "1989      17\n",
              "1990      16\n",
              "1991      41\n",
              "1992      43\n",
              "1993      60\n",
              "1994     122\n",
              "1995     219\n",
              "1996     263\n",
              "1997     289\n",
              "1998     379\n",
              "1999     339\n",
              "2000     351\n",
              "2001     486\n",
              "2002     843\n",
              "2003     783\n",
              "2004     764\n",
              "2005     945\n",
              "2006    1019\n",
              "2007    1202\n",
              "2008    1439\n",
              "2009    1430\n",
              "2010    1265\n",
              "2011    1145\n",
              "2012     655\n",
              "2013     548\n",
              "2014     581\n",
              "2015     606\n",
              "2016     502\n",
              "Name: name, dtype: int64"
            ]
          },
          "execution_count": 20,
          "metadata": {},
          "output_type": "execute_result"
        }
      ],
      "source": [
        "df.groupby('year_of_release')['name'].count()"
      ]
    },
    {
      "cell_type": "markdown",
      "metadata": {
        "id": "PxHCyUODehns"
      },
      "source": [
        "Для удобства проиллюстрируем информацию на графике."
      ]
    },
    {
      "cell_type": "code",
      "execution_count": null,
      "metadata": {
        "id": "rlFK5F16ehnt",
        "outputId": "98fcb7a6-6d59-408e-b269-53f70666b681"
      },
      "outputs": [
        {
          "data": {
            "image/png": "[encoded data removed]",
            "text/plain": [
              "<Figure size 432x288 with 1 Axes>"
            ]
          },
          "metadata": {
            "needs_background": "light"
          },
          "output_type": "display_data"
        }
      ],
      "source": [
        "df.groupby('year_of_release')['name'].count().plot()\n",
        "plt.title('Количество игр по годам.');"
      ]
    },
    {
      "cell_type": "markdown",
      "metadata": {
        "id": "zWS9l6oBehnv"
      },
      "source": [
        "Предсказуемо, что с 1980 года был постоянный рост количества новых игры, выходящих каждый год. Видим что произошел скачок в разработке игр после 1994 года, так продолжалось до 2009 года, после чего пошел спад и резкое падение в разработке в 2012 году. Как вариант это можно объяснить тем, что в данных отражены только продажи физических копий игр, а цифровые копии не учтены. Возможно, с 2012 года начинается рост продажи цифровых копий."
      ]
    },
    {
      "cell_type": "markdown",
      "metadata": {
        "id": "NNFxksmCehnv"
      },
      "source": [
        "Посмотрим распределение продаж по платформам."
      ]
    },
    {
      "cell_type": "code",
      "execution_count": null,
      "metadata": {
        "id": "HS9IC-ddehnw",
        "outputId": "40f298c7-9ba1-4011-ff1a-a27e1de44c8d"
      },
      "outputs": [
        {
          "data": {
            "text/html": [
              "<div>\n",
              "<style scoped>\n",
              "    .dataframe tbody tr th:only-of-type {\n",
              "        vertical-align: middle;\n",
              "    }\n",
              "\n",
              "    .dataframe tbody tr th {\n",
              "        vertical-align: top;\n",
              "    }\n",
              "\n",
              "    .dataframe thead th {\n",
              "        text-align: right;\n",
              "    }\n",
              "</style>\n",
              "<table border=\"1\" class=\"dataframe\">\n",
              "  <thead>\n",
              "    <tr style=\"text-align: right;\">\n",
              "      <th></th>\n",
              "      <th>total_sales</th>\n",
              "    </tr>\n",
              "    <tr>\n",
              "      <th>platform</th>\n",
              "      <th></th>\n",
              "    </tr>\n",
              "  </thead>\n",
              "  <tbody>\n",
              "    <tr>\n",
              "      <th>PS2</th>\n",
              "      <td>1247.16</td>\n",
              "    </tr>\n",
              "    <tr>\n",
              "      <th>X360</th>\n",
              "      <td>964.13</td>\n",
              "    </tr>\n",
              "    <tr>\n",
              "      <th>PS3</th>\n",
              "      <td>932.73</td>\n",
              "    </tr>\n",
              "    <tr>\n",
              "      <th>Wii</th>\n",
              "      <td>902.00</td>\n",
              "    </tr>\n",
              "    <tr>\n",
              "      <th>DS</th>\n",
              "      <td>803.18</td>\n",
              "    </tr>\n",
              "    <tr>\n",
              "      <th>PS</th>\n",
              "      <td>727.58</td>\n",
              "    </tr>\n",
              "    <tr>\n",
              "      <th>PS4</th>\n",
              "      <td>314.14</td>\n",
              "    </tr>\n",
              "    <tr>\n",
              "      <th>GBA</th>\n",
              "      <td>313.73</td>\n",
              "    </tr>\n",
              "    <tr>\n",
              "      <th>PSP</th>\n",
              "      <td>293.30</td>\n",
              "    </tr>\n",
              "    <tr>\n",
              "      <th>PC</th>\n",
              "      <td>258.61</td>\n",
              "    </tr>\n",
              "    <tr>\n",
              "      <th>3DS</th>\n",
              "      <td>258.13</td>\n",
              "    </tr>\n",
              "    <tr>\n",
              "      <th>XB</th>\n",
              "      <td>256.33</td>\n",
              "    </tr>\n",
              "    <tr>\n",
              "      <th>GB</th>\n",
              "      <td>254.43</td>\n",
              "    </tr>\n",
              "    <tr>\n",
              "      <th>NES</th>\n",
              "      <td>251.05</td>\n",
              "    </tr>\n",
              "    <tr>\n",
              "      <th>N64</th>\n",
              "      <td>218.48</td>\n",
              "    </tr>\n",
              "    <tr>\n",
              "      <th>SNES</th>\n",
              "      <td>200.04</td>\n",
              "    </tr>\n",
              "    <tr>\n",
              "      <th>GC</th>\n",
              "      <td>198.36</td>\n",
              "    </tr>\n",
              "    <tr>\n",
              "      <th>XOne</th>\n",
              "      <td>159.32</td>\n",
              "    </tr>\n",
              "    <tr>\n",
              "      <th>2600</th>\n",
              "      <td>89.01</td>\n",
              "    </tr>\n",
              "    <tr>\n",
              "      <th>WiiU</th>\n",
              "      <td>82.19</td>\n",
              "    </tr>\n",
              "    <tr>\n",
              "      <th>PSV</th>\n",
              "      <td>53.81</td>\n",
              "    </tr>\n",
              "    <tr>\n",
              "      <th>SAT</th>\n",
              "      <td>33.59</td>\n",
              "    </tr>\n",
              "    <tr>\n",
              "      <th>GEN</th>\n",
              "      <td>28.35</td>\n",
              "    </tr>\n",
              "    <tr>\n",
              "      <th>DC</th>\n",
              "      <td>15.95</td>\n",
              "    </tr>\n",
              "    <tr>\n",
              "      <th>SCD</th>\n",
              "      <td>1.86</td>\n",
              "    </tr>\n",
              "    <tr>\n",
              "      <th>NG</th>\n",
              "      <td>1.44</td>\n",
              "    </tr>\n",
              "    <tr>\n",
              "      <th>WS</th>\n",
              "      <td>1.42</td>\n",
              "    </tr>\n",
              "    <tr>\n",
              "      <th>TG16</th>\n",
              "      <td>0.16</td>\n",
              "    </tr>\n",
              "    <tr>\n",
              "      <th>3DO</th>\n",
              "      <td>0.10</td>\n",
              "    </tr>\n",
              "    <tr>\n",
              "      <th>GG</th>\n",
              "      <td>0.04</td>\n",
              "    </tr>\n",
              "    <tr>\n",
              "      <th>PCFX</th>\n",
              "      <td>0.03</td>\n",
              "    </tr>\n",
              "  </tbody>\n",
              "</table>\n",
              "</div>"
            ],
            "text/plain": [
              "          total_sales\n",
              "platform             \n",
              "PS2           1247.16\n",
              "X360           964.13\n",
              "PS3            932.73\n",
              "Wii            902.00\n",
              "DS             803.18\n",
              "PS             727.58\n",
              "PS4            314.14\n",
              "GBA            313.73\n",
              "PSP            293.30\n",
              "PC             258.61\n",
              "3DS            258.13\n",
              "XB             256.33\n",
              "GB             254.43\n",
              "NES            251.05\n",
              "N64            218.48\n",
              "SNES           200.04\n",
              "GC             198.36\n",
              "XOne           159.32\n",
              "2600            89.01\n",
              "WiiU            82.19\n",
              "PSV             53.81\n",
              "SAT             33.59\n",
              "GEN             28.35\n",
              "DC              15.95\n",
              "SCD              1.86\n",
              "NG               1.44\n",
              "WS               1.42\n",
              "TG16             0.16\n",
              "3DO              0.10\n",
              "GG               0.04\n",
              "PCFX             0.03"
            ]
          },
          "execution_count": 22,
          "metadata": {},
          "output_type": "execute_result"
        }
      ],
      "source": [
        "top_platform = (df.pivot_table(index='platform', values='total_sales', aggfunc='sum')\n",
        ".sort_values(by='total_sales', ascending=False))\n",
        "top_platform"
      ]
    },
    {
      "cell_type": "markdown",
      "metadata": {
        "id": "MowJmtX8ehnw"
      },
      "source": [
        "Из таблицы видно, что самые большие продажи были у платформа PS2, X360, PS3, Wii, DS, PS.\n",
        "Посмотрим распределение продаж по этим платформам по годам."
      ]
    },
    {
      "cell_type": "code",
      "execution_count": null,
      "metadata": {
        "scrolled": true,
        "id": "0Zm0b4rCehnx",
        "outputId": "ca6d3551-29cc-4e52-e594-0567273eefdc"
      },
      "outputs": [
        {
          "data": {
            "text/html": [
              "<div>\n",
              "<style scoped>\n",
              "    .dataframe tbody tr th:only-of-type {\n",
              "        vertical-align: middle;\n",
              "    }\n",
              "\n",
              "    .dataframe tbody tr th {\n",
              "        vertical-align: top;\n",
              "    }\n",
              "\n",
              "    .dataframe thead th {\n",
              "        text-align: right;\n",
              "    }\n",
              "</style>\n",
              "<table border=\"1\" class=\"dataframe\">\n",
              "  <thead>\n",
              "    <tr style=\"text-align: right;\">\n",
              "      <th></th>\n",
              "      <th>name</th>\n",
              "      <th>platform</th>\n",
              "      <th>year_of_release</th>\n",
              "      <th>genre</th>\n",
              "      <th>na_sales</th>\n",
              "      <th>eu_sales</th>\n",
              "      <th>jp_sales</th>\n",
              "      <th>other_sales</th>\n",
              "      <th>critic_score</th>\n",
              "      <th>user_score</th>\n",
              "      <th>rating</th>\n",
              "      <th>total_sales</th>\n",
              "    </tr>\n",
              "  </thead>\n",
              "  <tbody>\n",
              "    <tr>\n",
              "      <th>0</th>\n",
              "      <td>Wii Sports</td>\n",
              "      <td>Wii</td>\n",
              "      <td>2006</td>\n",
              "      <td>Sports</td>\n",
              "      <td>41.36</td>\n",
              "      <td>28.96</td>\n",
              "      <td>3.77</td>\n",
              "      <td>8.45</td>\n",
              "      <td>76.0</td>\n",
              "      <td>8.0</td>\n",
              "      <td>E</td>\n",
              "      <td>82.54</td>\n",
              "    </tr>\n",
              "    <tr>\n",
              "      <th>2</th>\n",
              "      <td>Mario Kart Wii</td>\n",
              "      <td>Wii</td>\n",
              "      <td>2008</td>\n",
              "      <td>Racing</td>\n",
              "      <td>15.68</td>\n",
              "      <td>12.76</td>\n",
              "      <td>3.79</td>\n",
              "      <td>3.29</td>\n",
              "      <td>82.0</td>\n",
              "      <td>8.3</td>\n",
              "      <td>E</td>\n",
              "      <td>35.52</td>\n",
              "    </tr>\n",
              "    <tr>\n",
              "      <th>3</th>\n",
              "      <td>Wii Sports Resort</td>\n",
              "      <td>Wii</td>\n",
              "      <td>2009</td>\n",
              "      <td>Sports</td>\n",
              "      <td>15.61</td>\n",
              "      <td>10.93</td>\n",
              "      <td>3.28</td>\n",
              "      <td>2.95</td>\n",
              "      <td>80.0</td>\n",
              "      <td>8.0</td>\n",
              "      <td>E</td>\n",
              "      <td>32.77</td>\n",
              "    </tr>\n",
              "    <tr>\n",
              "      <th>6</th>\n",
              "      <td>New Super Mario Bros.</td>\n",
              "      <td>DS</td>\n",
              "      <td>2006</td>\n",
              "      <td>Platform</td>\n",
              "      <td>11.28</td>\n",
              "      <td>9.14</td>\n",
              "      <td>6.50</td>\n",
              "      <td>2.88</td>\n",
              "      <td>89.0</td>\n",
              "      <td>8.5</td>\n",
              "      <td>E</td>\n",
              "      <td>29.80</td>\n",
              "    </tr>\n",
              "    <tr>\n",
              "      <th>7</th>\n",
              "      <td>Wii Play</td>\n",
              "      <td>Wii</td>\n",
              "      <td>2006</td>\n",
              "      <td>Misc</td>\n",
              "      <td>13.96</td>\n",
              "      <td>9.18</td>\n",
              "      <td>2.93</td>\n",
              "      <td>2.84</td>\n",
              "      <td>58.0</td>\n",
              "      <td>6.6</td>\n",
              "      <td>E</td>\n",
              "      <td>28.91</td>\n",
              "    </tr>\n",
              "  </tbody>\n",
              "</table>\n",
              "</div>"
            ],
            "text/plain": [
              "                    name platform  year_of_release     genre  na_sales  \\\n",
              "0             Wii Sports      Wii             2006    Sports     41.36   \n",
              "2         Mario Kart Wii      Wii             2008    Racing     15.68   \n",
              "3      Wii Sports Resort      Wii             2009    Sports     15.61   \n",
              "6  New Super Mario Bros.       DS             2006  Platform     11.28   \n",
              "7               Wii Play      Wii             2006      Misc     13.96   \n",
              "\n",
              "   eu_sales  jp_sales  other_sales  critic_score  user_score rating  \\\n",
              "0     28.96      3.77         8.45          76.0         8.0      E   \n",
              "2     12.76      3.79         3.29          82.0         8.3      E   \n",
              "3     10.93      3.28         2.95          80.0         8.0      E   \n",
              "6      9.14      6.50         2.88          89.0         8.5      E   \n",
              "7      9.18      2.93         2.84          58.0         6.6      E   \n",
              "\n",
              "   total_sales  \n",
              "0        82.54  \n",
              "2        35.52  \n",
              "3        32.77  \n",
              "6        29.80  \n",
              "7        28.91  "
            ]
          },
          "execution_count": 23,
          "metadata": {},
          "output_type": "execute_result"
        }
      ],
      "source": [
        "top_10_platform_years = df.query('platform in @top_platform.head(10).index')\n",
        "top_10_platform_years.head()"
      ]
    },
    {
      "cell_type": "code",
      "execution_count": null,
      "metadata": {
        "id": "-7g6T_bbehnz",
        "outputId": "48e59248-97e2-4735-e471-50824092822b"
      },
      "outputs": [
        {
          "data": {
            "text/html": [
              "<div>\n",
              "<style scoped>\n",
              "    .dataframe tbody tr th:only-of-type {\n",
              "        vertical-align: middle;\n",
              "    }\n",
              "\n",
              "    .dataframe tbody tr th {\n",
              "        vertical-align: top;\n",
              "    }\n",
              "\n",
              "    .dataframe thead th {\n",
              "        text-align: right;\n",
              "    }\n",
              "</style>\n",
              "<table border=\"1\" class=\"dataframe\">\n",
              "  <thead>\n",
              "    <tr style=\"text-align: right;\">\n",
              "      <th></th>\n",
              "      <th></th>\n",
              "      <th>total_sales</th>\n",
              "    </tr>\n",
              "    <tr>\n",
              "      <th>platform</th>\n",
              "      <th>year_of_release</th>\n",
              "      <th></th>\n",
              "    </tr>\n",
              "  </thead>\n",
              "  <tbody>\n",
              "    <tr>\n",
              "      <th rowspan=\"5\" valign=\"top\">DS</th>\n",
              "      <th>1985</th>\n",
              "      <td>1</td>\n",
              "    </tr>\n",
              "    <tr>\n",
              "      <th>2004</th>\n",
              "      <td>23</td>\n",
              "    </tr>\n",
              "    <tr>\n",
              "      <th>2005</th>\n",
              "      <td>118</td>\n",
              "    </tr>\n",
              "    <tr>\n",
              "      <th>2006</th>\n",
              "      <td>201</td>\n",
              "    </tr>\n",
              "    <tr>\n",
              "      <th>2007</th>\n",
              "      <td>377</td>\n",
              "    </tr>\n",
              "    <tr>\n",
              "      <th>...</th>\n",
              "      <th>...</th>\n",
              "      <td>...</td>\n",
              "    </tr>\n",
              "    <tr>\n",
              "      <th rowspan=\"5\" valign=\"top\">X360</th>\n",
              "      <th>2012</th>\n",
              "      <td>107</td>\n",
              "    </tr>\n",
              "    <tr>\n",
              "      <th>2013</th>\n",
              "      <td>75</td>\n",
              "    </tr>\n",
              "    <tr>\n",
              "      <th>2014</th>\n",
              "      <td>63</td>\n",
              "    </tr>\n",
              "    <tr>\n",
              "      <th>2015</th>\n",
              "      <td>35</td>\n",
              "    </tr>\n",
              "    <tr>\n",
              "      <th>2016</th>\n",
              "      <td>13</td>\n",
              "    </tr>\n",
              "  </tbody>\n",
              "</table>\n",
              "<p>117 rows × 1 columns</p>\n",
              "</div>"
            ],
            "text/plain": [
              "                          total_sales\n",
              "platform year_of_release             \n",
              "DS       1985                       1\n",
              "         2004                      23\n",
              "         2005                     118\n",
              "         2006                     201\n",
              "         2007                     377\n",
              "...                               ...\n",
              "X360     2012                     107\n",
              "         2013                      75\n",
              "         2014                      63\n",
              "         2015                      35\n",
              "         2016                      13\n",
              "\n",
              "[117 rows x 1 columns]"
            ]
          },
          "execution_count": 24,
          "metadata": {},
          "output_type": "execute_result"
        }
      ],
      "source": [
        "(top_10_platform_years\n",
        "                  .pivot_table(index=['platform', 'year_of_release'], \n",
        "                               values='total_sales', aggfunc='count'))"
      ]
    },
    {
      "cell_type": "markdown",
      "metadata": {
        "id": "cPMbKzhfehn0"
      },
      "source": [
        "Построим гистограммы распределения продаж по годам для каждой платформы."
      ]
    },
    {
      "cell_type": "code",
      "execution_count": null,
      "metadata": {
        "scrolled": false,
        "id": "yLHM6ilrehn1",
        "outputId": "dc62b008-6d52-434b-8cc4-e31c02e0774a"
      },
      "outputs": [
        {
          "data": {
            "image/png": "[encoded data removed]",
            "text/plain": [
              "<Figure size 432x288 with 1 Axes>"
            ]
          },
          "metadata": {
            "needs_background": "light"
          },
          "output_type": "display_data"
        },
        {
          "data": {
            "image/png": "[encoded data removed]",
            "text/plain": [
              "<Figure size 432x288 with 1 Axes>"
            ]
          },
          "metadata": {
            "needs_background": "light"
          },
          "output_type": "display_data"
        },
        {
          "data": {
            "image/png": "[encoded data removed]",
            "text/plain": [
              "<Figure size 432x288 with 1 Axes>"
            ]
          },
          "metadata": {
            "needs_background": "light"
          },
          "output_type": "display_data"
        },
        {
          "data": {
            "image/png": "[encoded data removed]",
            "text/plain": [
              "<Figure size 432x288 with 1 Axes>"
            ]
          },
          "metadata": {
            "needs_background": "light"
          },
          "output_type": "display_data"
        },
        {
          "data": {
            "image/png": "[encoded data removed]",
            "text/plain": [
              "<Figure size 432x288 with 1 Axes>"
            ]
          },
          "metadata": {
            "needs_background": "light"
          },
          "output_type": "display_data"
        },
        {
          "data": {
            "image/png": "[encoded data removed]",
            "text/plain": [
              "<Figure size 432x288 with 1 Axes>"
            ]
          },
          "metadata": {
            "needs_background": "light"
          },
          "output_type": "display_data"
        },
        {
          "data": {
            "image/png": "[encoded data removed]",
            "text/plain": [
              "<Figure size 432x288 with 1 Axes>"
            ]
          },
          "metadata": {
            "needs_background": "light"
          },
          "output_type": "display_data"
        },
        {
          "data": {
            "image/png": "[encoded data removed]",
            "text/plain": [
              "<Figure size 432x288 with 1 Axes>"
            ]
          },
          "metadata": {
            "needs_background": "light"
          },
          "output_type": "display_data"
        },
        {
          "data": {
            "image/png": "[encoded data removed]",
            "text/plain": [
              "<Figure size 432x288 with 1 Axes>"
            ]
          },
          "metadata": {
            "needs_background": "light"
          },
          "output_type": "display_data"
        },
        {
          "data": {
            "image/png": "[encoded data removed]",
            "text/plain": [
              "<Figure size 432x288 with 1 Axes>"
            ]
          },
          "metadata": {
            "needs_background": "light"
          },
          "output_type": "display_data"
        }
      ],
      "source": [
        "years_list = []\n",
        "for i in range(1990, 2016):\n",
        "    years_list.append(i)\n",
        "\n",
        "platform_list = top_10_platform_years['platform'].unique()\n",
        "\n",
        "for j in range(0, len(platform_list)):\n",
        "    top_10_platform_years[top_10_platform_years['platform']==platform_list[j]]\\\n",
        "    .plot(kind='hist', bins=years_list, legend=False, grid=True)\n",
        "    \n",
        "    plt.title(platform_list[j])\n",
        "    plt.xlabel(\"Год релиза игры\")\n",
        "    plt.ylabel(\"Частота\")"
      ]
    },
    {
      "cell_type": "markdown",
      "metadata": {
        "id": "kaMo3qhTehn3"
      },
      "source": [
        "Как мы видно из графиков распределение суммарных продаж по каждой платформе по годам стремится к нормальному. Т.е. при появлении новой платформы продажи сначала небольшие, потому они растут и достигают пика в середине срока жизни платформы, а далее начинается падени продаж и платформа перестает существовать.\n",
        "\n",
        "По графикам видно, что средняя продолжительность жизни каждой платформы составляет примерно 10 лет, выбивается только платформа PC. На протяжении 10 лет идет ее активный рост. "
      ]
    },
    {
      "cell_type": "markdown",
      "metadata": {
        "id": "X4LAaVkPehn4"
      },
      "source": [
        "Пропробуем расчитать продолжительность жизни платформ"
      ]
    },
    {
      "cell_type": "code",
      "execution_count": null,
      "metadata": {
        "id": "yKsBXWDzehn4",
        "outputId": "72eb19d1-77a2-41b3-9bc9-3850d8da5eb1"
      },
      "outputs": [
        {
          "data": {
            "text/plain": [
              "platform\n",
              "DS      11\n",
              "GBA      8\n",
              "PC      26\n",
              "PS      10\n",
              "PS2     12\n",
              "PS3     11\n",
              "PS4      4\n",
              "PSP     12\n",
              "Wii     11\n",
              "X360    12\n",
              "Name: year_of_release, dtype: int64"
            ]
          },
          "execution_count": 26,
          "metadata": {},
          "output_type": "execute_result"
        }
      ],
      "source": [
        "top_10_platform_years.groupby('platform')['year_of_release'].nunique()"
      ]
    },
    {
      "cell_type": "markdown",
      "metadata": {
        "id": "9QZje7w4ehn5"
      },
      "source": [
        "Получается, что время жизни платформы в среднем больше 10 лет, PS3 и X360 - еще на стадии угасания, поэтому они могу просуществовать еще несколько лет,  PS4 только начала свою жизнь и находится на стадии активного роста."
      ]
    },
    {
      "cell_type": "markdown",
      "metadata": {
        "id": "ptZGskLaehn6"
      },
      "source": [
        "## Потенциально прибыльные платформы"
      ]
    },
    {
      "cell_type": "markdown",
      "metadata": {
        "id": "y9HPWFI_ehn6"
      },
      "source": [
        "Для дальнейшего анализа выберем данные за последние несколько лет, т.к. они отражают последние тенденции и на их основании можно делать различные предположения на будущее.\n",
        "\n",
        "Актуальным периодом будем считать 2012 - 2015 года.\n",
        "\n",
        "Сделаем срез данных по этому периоду."
      ]
    },
    {
      "cell_type": "code",
      "execution_count": null,
      "metadata": {
        "id": "rU8nqpi2ehn7",
        "outputId": "c0d447bb-463f-4329-f01f-edb187f43f12"
      },
      "outputs": [
        {
          "data": {
            "text/html": [
              "<div>\n",
              "<style scoped>\n",
              "    .dataframe tbody tr th:only-of-type {\n",
              "        vertical-align: middle;\n",
              "    }\n",
              "\n",
              "    .dataframe tbody tr th {\n",
              "        vertical-align: top;\n",
              "    }\n",
              "\n",
              "    .dataframe thead th {\n",
              "        text-align: right;\n",
              "    }\n",
              "</style>\n",
              "<table border=\"1\" class=\"dataframe\">\n",
              "  <thead>\n",
              "    <tr style=\"text-align: right;\">\n",
              "      <th></th>\n",
              "      <th>name</th>\n",
              "      <th>platform</th>\n",
              "      <th>year_of_release</th>\n",
              "      <th>genre</th>\n",
              "      <th>na_sales</th>\n",
              "      <th>eu_sales</th>\n",
              "      <th>jp_sales</th>\n",
              "      <th>other_sales</th>\n",
              "      <th>critic_score</th>\n",
              "      <th>user_score</th>\n",
              "      <th>rating</th>\n",
              "      <th>total_sales</th>\n",
              "    </tr>\n",
              "  </thead>\n",
              "  <tbody>\n",
              "    <tr>\n",
              "      <th>16</th>\n",
              "      <td>Grand Theft Auto V</td>\n",
              "      <td>PS3</td>\n",
              "      <td>2013</td>\n",
              "      <td>Action</td>\n",
              "      <td>7.02</td>\n",
              "      <td>9.09</td>\n",
              "      <td>0.98</td>\n",
              "      <td>3.96</td>\n",
              "      <td>97.0</td>\n",
              "      <td>8.2</td>\n",
              "      <td>M</td>\n",
              "      <td>21.05</td>\n",
              "    </tr>\n",
              "    <tr>\n",
              "      <th>23</th>\n",
              "      <td>Grand Theft Auto V</td>\n",
              "      <td>X360</td>\n",
              "      <td>2013</td>\n",
              "      <td>Action</td>\n",
              "      <td>9.66</td>\n",
              "      <td>5.14</td>\n",
              "      <td>0.06</td>\n",
              "      <td>1.41</td>\n",
              "      <td>97.0</td>\n",
              "      <td>8.1</td>\n",
              "      <td>M</td>\n",
              "      <td>16.27</td>\n",
              "    </tr>\n",
              "    <tr>\n",
              "      <th>31</th>\n",
              "      <td>Call of Duty: Black Ops 3</td>\n",
              "      <td>PS4</td>\n",
              "      <td>2015</td>\n",
              "      <td>Shooter</td>\n",
              "      <td>6.03</td>\n",
              "      <td>5.86</td>\n",
              "      <td>0.36</td>\n",
              "      <td>2.38</td>\n",
              "      <td>NaN</td>\n",
              "      <td>NaN</td>\n",
              "      <td>unknown</td>\n",
              "      <td>14.63</td>\n",
              "    </tr>\n",
              "    <tr>\n",
              "      <th>33</th>\n",
              "      <td>Pokemon X/Pokemon Y</td>\n",
              "      <td>3DS</td>\n",
              "      <td>2013</td>\n",
              "      <td>Role-Playing</td>\n",
              "      <td>5.28</td>\n",
              "      <td>4.19</td>\n",
              "      <td>4.35</td>\n",
              "      <td>0.78</td>\n",
              "      <td>NaN</td>\n",
              "      <td>NaN</td>\n",
              "      <td>unknown</td>\n",
              "      <td>14.60</td>\n",
              "    </tr>\n",
              "    <tr>\n",
              "      <th>34</th>\n",
              "      <td>Call of Duty: Black Ops II</td>\n",
              "      <td>PS3</td>\n",
              "      <td>2012</td>\n",
              "      <td>Shooter</td>\n",
              "      <td>4.99</td>\n",
              "      <td>5.73</td>\n",
              "      <td>0.65</td>\n",
              "      <td>2.42</td>\n",
              "      <td>83.0</td>\n",
              "      <td>5.3</td>\n",
              "      <td>M</td>\n",
              "      <td>13.79</td>\n",
              "    </tr>\n",
              "    <tr>\n",
              "      <th>...</th>\n",
              "      <td>...</td>\n",
              "      <td>...</td>\n",
              "      <td>...</td>\n",
              "      <td>...</td>\n",
              "      <td>...</td>\n",
              "      <td>...</td>\n",
              "      <td>...</td>\n",
              "      <td>...</td>\n",
              "      <td>...</td>\n",
              "      <td>...</td>\n",
              "      <td>...</td>\n",
              "      <td>...</td>\n",
              "    </tr>\n",
              "    <tr>\n",
              "      <th>16499</th>\n",
              "      <td>Tsukigime Ranko's Longest Day</td>\n",
              "      <td>PS3</td>\n",
              "      <td>2014</td>\n",
              "      <td>Action</td>\n",
              "      <td>0.00</td>\n",
              "      <td>0.01</td>\n",
              "      <td>0.00</td>\n",
              "      <td>0.00</td>\n",
              "      <td>NaN</td>\n",
              "      <td>NaN</td>\n",
              "      <td>unknown</td>\n",
              "      <td>0.01</td>\n",
              "    </tr>\n",
              "    <tr>\n",
              "      <th>16503</th>\n",
              "      <td>End of Nations</td>\n",
              "      <td>PC</td>\n",
              "      <td>2012</td>\n",
              "      <td>Strategy</td>\n",
              "      <td>0.01</td>\n",
              "      <td>0.00</td>\n",
              "      <td>0.00</td>\n",
              "      <td>0.00</td>\n",
              "      <td>NaN</td>\n",
              "      <td>NaN</td>\n",
              "      <td>T</td>\n",
              "      <td>0.01</td>\n",
              "    </tr>\n",
              "    <tr>\n",
              "      <th>16507</th>\n",
              "      <td>Grisaia no Kajitsu: La Fruit de la Grisaia</td>\n",
              "      <td>PSP</td>\n",
              "      <td>2013</td>\n",
              "      <td>Adventure</td>\n",
              "      <td>0.00</td>\n",
              "      <td>0.00</td>\n",
              "      <td>0.01</td>\n",
              "      <td>0.00</td>\n",
              "      <td>NaN</td>\n",
              "      <td>NaN</td>\n",
              "      <td>unknown</td>\n",
              "      <td>0.01</td>\n",
              "    </tr>\n",
              "    <tr>\n",
              "      <th>16517</th>\n",
              "      <td>Metal Gear Solid V: Ground Zeroes</td>\n",
              "      <td>PC</td>\n",
              "      <td>2014</td>\n",
              "      <td>Action</td>\n",
              "      <td>0.00</td>\n",
              "      <td>0.01</td>\n",
              "      <td>0.00</td>\n",
              "      <td>0.00</td>\n",
              "      <td>80.0</td>\n",
              "      <td>7.6</td>\n",
              "      <td>M</td>\n",
              "      <td>0.01</td>\n",
              "    </tr>\n",
              "    <tr>\n",
              "      <th>16532</th>\n",
              "      <td>Aiyoku no Eustia</td>\n",
              "      <td>PSV</td>\n",
              "      <td>2014</td>\n",
              "      <td>Misc</td>\n",
              "      <td>0.00</td>\n",
              "      <td>0.00</td>\n",
              "      <td>0.01</td>\n",
              "      <td>0.00</td>\n",
              "      <td>NaN</td>\n",
              "      <td>NaN</td>\n",
              "      <td>unknown</td>\n",
              "      <td>0.01</td>\n",
              "    </tr>\n",
              "  </tbody>\n",
              "</table>\n",
              "<p>2390 rows × 12 columns</p>\n",
              "</div>"
            ],
            "text/plain": [
              "                                             name platform  year_of_release  \\\n",
              "16                             Grand Theft Auto V      PS3             2013   \n",
              "23                             Grand Theft Auto V     X360             2013   \n",
              "31                      Call of Duty: Black Ops 3      PS4             2015   \n",
              "33                            Pokemon X/Pokemon Y      3DS             2013   \n",
              "34                     Call of Duty: Black Ops II      PS3             2012   \n",
              "...                                           ...      ...              ...   \n",
              "16499               Tsukigime Ranko's Longest Day      PS3             2014   \n",
              "16503                              End of Nations       PC             2012   \n",
              "16507  Grisaia no Kajitsu: La Fruit de la Grisaia      PSP             2013   \n",
              "16517           Metal Gear Solid V: Ground Zeroes       PC             2014   \n",
              "16532                            Aiyoku no Eustia      PSV             2014   \n",
              "\n",
              "              genre  na_sales  eu_sales  jp_sales  other_sales  critic_score  \\\n",
              "16           Action      7.02      9.09      0.98         3.96          97.0   \n",
              "23           Action      9.66      5.14      0.06         1.41          97.0   \n",
              "31          Shooter      6.03      5.86      0.36         2.38           NaN   \n",
              "33     Role-Playing      5.28      4.19      4.35         0.78           NaN   \n",
              "34          Shooter      4.99      5.73      0.65         2.42          83.0   \n",
              "...             ...       ...       ...       ...          ...           ...   \n",
              "16499        Action      0.00      0.01      0.00         0.00           NaN   \n",
              "16503      Strategy      0.01      0.00      0.00         0.00           NaN   \n",
              "16507     Adventure      0.00      0.00      0.01         0.00           NaN   \n",
              "16517        Action      0.00      0.01      0.00         0.00          80.0   \n",
              "16532          Misc      0.00      0.00      0.01         0.00           NaN   \n",
              "\n",
              "       user_score   rating  total_sales  \n",
              "16            8.2        M        21.05  \n",
              "23            8.1        M        16.27  \n",
              "31            NaN  unknown        14.63  \n",
              "33            NaN  unknown        14.60  \n",
              "34            5.3        M        13.79  \n",
              "...           ...      ...          ...  \n",
              "16499         NaN  unknown         0.01  \n",
              "16503         NaN        T         0.01  \n",
              "16507         NaN  unknown         0.01  \n",
              "16517         7.6        M         0.01  \n",
              "16532         NaN  unknown         0.01  \n",
              "\n",
              "[2390 rows x 12 columns]"
            ]
          },
          "execution_count": 27,
          "metadata": {},
          "output_type": "execute_result"
        }
      ],
      "source": [
        "df_relevant = df.query('2011 < year_of_release < 2016')\n",
        "df_relevant"
      ]
    },
    {
      "cell_type": "markdown",
      "metadata": {
        "id": "4oCHGx2nehn8"
      },
      "source": [
        "Посмотрим какие платформы лидируют по суммарным продажам в этом периоде времени:"
      ]
    },
    {
      "cell_type": "code",
      "execution_count": null,
      "metadata": {
        "id": "yF_Bw_T_ehn9",
        "outputId": "33906885-9a13-4349-9a2e-730221ebb8f1"
      },
      "outputs": [
        {
          "data": {
            "text/html": [
              "<div>\n",
              "<style scoped>\n",
              "    .dataframe tbody tr th:only-of-type {\n",
              "        vertical-align: middle;\n",
              "    }\n",
              "\n",
              "    .dataframe tbody tr th {\n",
              "        vertical-align: top;\n",
              "    }\n",
              "\n",
              "    .dataframe thead th {\n",
              "        text-align: right;\n",
              "    }\n",
              "</style>\n",
              "<table border=\"1\" class=\"dataframe\">\n",
              "  <thead>\n",
              "    <tr style=\"text-align: right;\">\n",
              "      <th></th>\n",
              "      <th>total_sales</th>\n",
              "    </tr>\n",
              "    <tr>\n",
              "      <th>platform</th>\n",
              "      <th></th>\n",
              "    </tr>\n",
              "  </thead>\n",
              "  <tbody>\n",
              "    <tr>\n",
              "      <th>PS3</th>\n",
              "      <td>285.19</td>\n",
              "    </tr>\n",
              "    <tr>\n",
              "      <th>PS4</th>\n",
              "      <td>244.89</td>\n",
              "    </tr>\n",
              "    <tr>\n",
              "      <th>X360</th>\n",
              "      <td>235.03</td>\n",
              "    </tr>\n",
              "    <tr>\n",
              "      <th>3DS</th>\n",
              "      <td>179.47</td>\n",
              "    </tr>\n",
              "    <tr>\n",
              "      <th>XOne</th>\n",
              "      <td>133.17</td>\n",
              "    </tr>\n",
              "    <tr>\n",
              "      <th>WiiU</th>\n",
              "      <td>77.59</td>\n",
              "    </tr>\n",
              "    <tr>\n",
              "      <th>PC</th>\n",
              "      <td>58.04</td>\n",
              "    </tr>\n",
              "    <tr>\n",
              "      <th>PSV</th>\n",
              "      <td>44.93</td>\n",
              "    </tr>\n",
              "    <tr>\n",
              "      <th>Wii</th>\n",
              "      <td>35.19</td>\n",
              "    </tr>\n",
              "    <tr>\n",
              "      <th>DS</th>\n",
              "      <td>12.55</td>\n",
              "    </tr>\n",
              "    <tr>\n",
              "      <th>PSP</th>\n",
              "      <td>11.43</td>\n",
              "    </tr>\n",
              "  </tbody>\n",
              "</table>\n",
              "</div>"
            ],
            "text/plain": [
              "          total_sales\n",
              "platform             \n",
              "PS3            285.19\n",
              "PS4            244.89\n",
              "X360           235.03\n",
              "3DS            179.47\n",
              "XOne           133.17\n",
              "WiiU            77.59\n",
              "PC              58.04\n",
              "PSV             44.93\n",
              "Wii             35.19\n",
              "DS              12.55\n",
              "PSP             11.43"
            ]
          },
          "execution_count": 28,
          "metadata": {},
          "output_type": "execute_result"
        }
      ],
      "source": [
        "rel_platform_sales_sum = (df_relevant\n",
        "                          .pivot_table(index='platform', values='total_sales', aggfunc=sum)\n",
        "                          .sort_values(by='total_sales', ascending=False)\n",
        "                         )\n",
        "rel_platform_sales_sum"
      ]
    },
    {
      "cell_type": "markdown",
      "metadata": {
        "id": "srGOqzrsehn-"
      },
      "source": [
        "Первые 5 платформ лидируют по продажам - это PS4, PS3, X360, 3DS, XOne.\n",
        "Будем считать их потенциально прибыльными платформами. "
      ]
    },
    {
      "cell_type": "markdown",
      "metadata": {
        "id": "CwcoCcEFehn-"
      },
      "source": [
        "Посмотрим распределение продаж по всем платформам по годам за период 2012-2015. "
      ]
    },
    {
      "cell_type": "code",
      "execution_count": null,
      "metadata": {
        "id": "9zc5xWDkehoC",
        "outputId": "a6d917df-63a3-4930-9e46-b0e17024a1c8"
      },
      "outputs": [
        {
          "data": {
            "text/html": [
              "<div>\n",
              "<style scoped>\n",
              "    .dataframe tbody tr th:only-of-type {\n",
              "        vertical-align: middle;\n",
              "    }\n",
              "\n",
              "    .dataframe tbody tr th {\n",
              "        vertical-align: top;\n",
              "    }\n",
              "\n",
              "    .dataframe thead th {\n",
              "        text-align: right;\n",
              "    }\n",
              "</style>\n",
              "<table border=\"1\" class=\"dataframe\">\n",
              "  <thead>\n",
              "    <tr style=\"text-align: right;\">\n",
              "      <th></th>\n",
              "      <th></th>\n",
              "      <th>total_sales</th>\n",
              "    </tr>\n",
              "    <tr>\n",
              "      <th>platform</th>\n",
              "      <th>year_of_release</th>\n",
              "      <th></th>\n",
              "    </tr>\n",
              "  </thead>\n",
              "  <tbody>\n",
              "    <tr>\n",
              "      <th rowspan=\"4\" valign=\"top\">3DS</th>\n",
              "      <th>2012</th>\n",
              "      <td>51.36</td>\n",
              "    </tr>\n",
              "    <tr>\n",
              "      <th>2013</th>\n",
              "      <td>56.57</td>\n",
              "    </tr>\n",
              "    <tr>\n",
              "      <th>2014</th>\n",
              "      <td>43.76</td>\n",
              "    </tr>\n",
              "    <tr>\n",
              "      <th>2015</th>\n",
              "      <td>27.78</td>\n",
              "    </tr>\n",
              "    <tr>\n",
              "      <th rowspan=\"2\" valign=\"top\">DS</th>\n",
              "      <th>2012</th>\n",
              "      <td>11.01</td>\n",
              "    </tr>\n",
              "    <tr>\n",
              "      <th>2013</th>\n",
              "      <td>1.54</td>\n",
              "    </tr>\n",
              "    <tr>\n",
              "      <th rowspan=\"4\" valign=\"top\">PC</th>\n",
              "      <th>2012</th>\n",
              "      <td>23.23</td>\n",
              "    </tr>\n",
              "    <tr>\n",
              "      <th>2013</th>\n",
              "      <td>13.01</td>\n",
              "    </tr>\n",
              "    <tr>\n",
              "      <th>2014</th>\n",
              "      <td>13.28</td>\n",
              "    </tr>\n",
              "    <tr>\n",
              "      <th>2015</th>\n",
              "      <td>8.52</td>\n",
              "    </tr>\n",
              "    <tr>\n",
              "      <th rowspan=\"4\" valign=\"top\">PS3</th>\n",
              "      <th>2012</th>\n",
              "      <td>107.36</td>\n",
              "    </tr>\n",
              "    <tr>\n",
              "      <th>2013</th>\n",
              "      <td>113.25</td>\n",
              "    </tr>\n",
              "    <tr>\n",
              "      <th>2014</th>\n",
              "      <td>47.76</td>\n",
              "    </tr>\n",
              "    <tr>\n",
              "      <th>2015</th>\n",
              "      <td>16.82</td>\n",
              "    </tr>\n",
              "    <tr>\n",
              "      <th rowspan=\"3\" valign=\"top\">PS4</th>\n",
              "      <th>2013</th>\n",
              "      <td>25.99</td>\n",
              "    </tr>\n",
              "    <tr>\n",
              "      <th>2014</th>\n",
              "      <td>100.00</td>\n",
              "    </tr>\n",
              "    <tr>\n",
              "      <th>2015</th>\n",
              "      <td>118.90</td>\n",
              "    </tr>\n",
              "    <tr>\n",
              "      <th rowspan=\"4\" valign=\"top\">PSP</th>\n",
              "      <th>2012</th>\n",
              "      <td>7.69</td>\n",
              "    </tr>\n",
              "    <tr>\n",
              "      <th>2013</th>\n",
              "      <td>3.38</td>\n",
              "    </tr>\n",
              "    <tr>\n",
              "      <th>2014</th>\n",
              "      <td>0.24</td>\n",
              "    </tr>\n",
              "    <tr>\n",
              "      <th>2015</th>\n",
              "      <td>0.12</td>\n",
              "    </tr>\n",
              "    <tr>\n",
              "      <th rowspan=\"4\" valign=\"top\">PSV</th>\n",
              "      <th>2012</th>\n",
              "      <td>16.19</td>\n",
              "    </tr>\n",
              "    <tr>\n",
              "      <th>2013</th>\n",
              "      <td>10.59</td>\n",
              "    </tr>\n",
              "    <tr>\n",
              "      <th>2014</th>\n",
              "      <td>11.90</td>\n",
              "    </tr>\n",
              "    <tr>\n",
              "      <th>2015</th>\n",
              "      <td>6.25</td>\n",
              "    </tr>\n",
              "    <tr>\n",
              "      <th rowspan=\"4\" valign=\"top\">Wii</th>\n",
              "      <th>2012</th>\n",
              "      <td>21.71</td>\n",
              "    </tr>\n",
              "    <tr>\n",
              "      <th>2013</th>\n",
              "      <td>8.59</td>\n",
              "    </tr>\n",
              "    <tr>\n",
              "      <th>2014</th>\n",
              "      <td>3.75</td>\n",
              "    </tr>\n",
              "    <tr>\n",
              "      <th>2015</th>\n",
              "      <td>1.14</td>\n",
              "    </tr>\n",
              "    <tr>\n",
              "      <th rowspan=\"4\" valign=\"top\">WiiU</th>\n",
              "      <th>2012</th>\n",
              "      <td>17.56</td>\n",
              "    </tr>\n",
              "    <tr>\n",
              "      <th>2013</th>\n",
              "      <td>21.65</td>\n",
              "    </tr>\n",
              "    <tr>\n",
              "      <th>2014</th>\n",
              "      <td>22.03</td>\n",
              "    </tr>\n",
              "    <tr>\n",
              "      <th>2015</th>\n",
              "      <td>16.35</td>\n",
              "    </tr>\n",
              "    <tr>\n",
              "      <th rowspan=\"4\" valign=\"top\">X360</th>\n",
              "      <th>2012</th>\n",
              "      <td>99.75</td>\n",
              "    </tr>\n",
              "    <tr>\n",
              "      <th>2013</th>\n",
              "      <td>88.58</td>\n",
              "    </tr>\n",
              "    <tr>\n",
              "      <th>2014</th>\n",
              "      <td>34.74</td>\n",
              "    </tr>\n",
              "    <tr>\n",
              "      <th>2015</th>\n",
              "      <td>11.96</td>\n",
              "    </tr>\n",
              "    <tr>\n",
              "      <th rowspan=\"3\" valign=\"top\">XOne</th>\n",
              "      <th>2013</th>\n",
              "      <td>18.96</td>\n",
              "    </tr>\n",
              "    <tr>\n",
              "      <th>2014</th>\n",
              "      <td>54.07</td>\n",
              "    </tr>\n",
              "    <tr>\n",
              "      <th>2015</th>\n",
              "      <td>60.14</td>\n",
              "    </tr>\n",
              "  </tbody>\n",
              "</table>\n",
              "</div>"
            ],
            "text/plain": [
              "                          total_sales\n",
              "platform year_of_release             \n",
              "3DS      2012                   51.36\n",
              "         2013                   56.57\n",
              "         2014                   43.76\n",
              "         2015                   27.78\n",
              "DS       2012                   11.01\n",
              "         2013                    1.54\n",
              "PC       2012                   23.23\n",
              "         2013                   13.01\n",
              "         2014                   13.28\n",
              "         2015                    8.52\n",
              "PS3      2012                  107.36\n",
              "         2013                  113.25\n",
              "         2014                   47.76\n",
              "         2015                   16.82\n",
              "PS4      2013                   25.99\n",
              "         2014                  100.00\n",
              "         2015                  118.90\n",
              "PSP      2012                    7.69\n",
              "         2013                    3.38\n",
              "         2014                    0.24\n",
              "         2015                    0.12\n",
              "PSV      2012                   16.19\n",
              "         2013                   10.59\n",
              "         2014                   11.90\n",
              "         2015                    6.25\n",
              "Wii      2012                   21.71\n",
              "         2013                    8.59\n",
              "         2014                    3.75\n",
              "         2015                    1.14\n",
              "WiiU     2012                   17.56\n",
              "         2013                   21.65\n",
              "         2014                   22.03\n",
              "         2015                   16.35\n",
              "X360     2012                   99.75\n",
              "         2013                   88.58\n",
              "         2014                   34.74\n",
              "         2015                   11.96\n",
              "XOne     2013                   18.96\n",
              "         2014                   54.07\n",
              "         2015                   60.14"
            ]
          },
          "execution_count": 29,
          "metadata": {},
          "output_type": "execute_result"
        }
      ],
      "source": [
        "rel_platform_sales_sum = (df_relevant\n",
        "                          .pivot_table(index=['platform', 'year_of_release'], values='total_sales', aggfunc=sum)\n",
        "                         )\n",
        "rel_platform_sales_sum"
      ]
    },
    {
      "cell_type": "markdown",
      "metadata": {
        "id": "fh3XPWATehoD"
      },
      "source": [
        "По 3 годам сложно определить реальную картину, но у нас получается, что только платформы PS4 и XOne показывают рост в период 2012-2015, у остальных платформ спад в продажах год к году. "
      ]
    },
    {
      "cell_type": "markdown",
      "metadata": {
        "id": "Oqq9cCH1ehoF"
      },
      "source": [
        "## Диаграмма размаха по глобальным продажам игр в разбивке по платформам."
      ]
    },
    {
      "cell_type": "markdown",
      "metadata": {
        "id": "3kx1VXE3ehoI"
      },
      "source": [
        "Построим график распределения продаж игр по платформам."
      ]
    },
    {
      "cell_type": "code",
      "execution_count": null,
      "metadata": {
        "id": "zTsTS6_1ehoL",
        "outputId": "40dd98ca-c4f6-4425-f47d-29ca9a8691a6"
      },
      "outputs": [
        {
          "data": {
            "text/plain": [
              "(0.0, 2.5)"
            ]
          },
          "execution_count": 30,
          "metadata": {},
          "output_type": "execute_result"
        },
        {
          "data": {
            "image/png": "[encoded data removed]",
            "text/plain": [
              "<Figure size 1080x720 with 1 Axes>"
            ]
          },
          "metadata": {
            "needs_background": "light"
          },
          "output_type": "display_data"
        }
      ],
      "source": [
        "plt.figure(figsize=(15,10))\n",
        "sns.boxplot(data=df_relevant, x='total_sales', y='platform')\n",
        "\n",
        "plt.title(label='Диаграмма размаха по продаже игр в разбивке по платформам')\n",
        "plt.xlabel(\"Суммарные продажи\")\n",
        "plt.ylabel(\"Платформы\")\n",
        "plt.xlim(0, 2.5)"
      ]
    },
    {
      "cell_type": "markdown",
      "metadata": {
        "id": "kngv8mFmehoR"
      },
      "source": [
        "- Проанализировав графики, мы видим общую тенденцию для всех платформ. Во-первых, линия медианы находится не в центре ящика. Это означает, что данные расспределены ассиметрично. Во-вторых, медиана сдвинута ближе к первому квартилю. Это означает, что большая часть игр во всех платформах имеет низкие продажи. \n",
        "\n",
        "- У платформ DS, PSP, PSV, PC, 3DS небольшие ящики, это значит что диапазон значения продаж по играм маленький, т.е. 75% игр на этих платформах приносят примерно одинаковую и незначительную прибыль. У PSV, PC, 3DS есть игры которые принесли продаж больше, чем 75% других игр. \n",
        "- У остальных платформ очень широкая вариативность суммарных продаж от игры. Особенно выделяются платформы XOne и PS4, широкий диапазон boxplot говорит о том, что нет однородного распределения выручки по этим платформам. А длинные усы по некоторым платформам говорит нам о том, что есть высокий  расброс среднеквадратичного отклонения в сторону больших продаж. Т.е. достаточно большое количество игр на этих платформах были крайне популярными."
      ]
    },
    {
      "cell_type": "markdown",
      "metadata": {
        "id": "y_Xu8uSXehoV"
      },
      "source": [
        "## Влияние отзывов пользователей и критиков на продажи внутри платформ."
      ]
    },
    {
      "cell_type": "markdown",
      "metadata": {
        "id": "KopekbIgehoW"
      },
      "source": [
        "Влияние отзывов на продажи рассмотрим на примере 5 популярных игровых платформах: PS4, PS3, X360, 3DS, XOne.<br/>\n",
        "Для большей наглядности отобразим зависимость продаж от оценок на диаграмме размаха."
      ]
    },
    {
      "cell_type": "code",
      "execution_count": null,
      "metadata": {
        "id": "cs8Ha7jxehoX",
        "outputId": "46e92b42-77fb-4651-ebb5-4eae8f1b1d6c"
      },
      "outputs": [
        {
          "data": {
            "image/png": "[encoded data removed]",
            "text/plain": [
              "<Figure size 936x324 with 2 Axes>"
            ]
          },
          "metadata": {
            "needs_background": "light"
          },
          "output_type": "display_data"
        },
        {
          "data": {
            "image/png": "[encoded data removed]",
            "text/plain": [
              "<Figure size 936x324 with 2 Axes>"
            ]
          },
          "metadata": {
            "needs_background": "light"
          },
          "output_type": "display_data"
        },
        {
          "data": {
            "image/png": "[encoded data removed]",
            "text/plain": [
              "<Figure size 936x324 with 2 Axes>"
            ]
          },
          "metadata": {
            "needs_background": "light"
          },
          "output_type": "display_data"
        },
        {
          "data": {
            "image/png": "[encoded data removed]",
            "text/plain": [
              "<Figure size 936x324 with 2 Axes>"
            ]
          },
          "metadata": {
            "needs_background": "light"
          },
          "output_type": "display_data"
        },
        {
          "data": {
            "image/png": "[encoded data removed]",
            "text/plain": [
              "<Figure size 936x324 with 2 Axes>"
            ]
          },
          "metadata": {
            "needs_background": "light"
          },
          "output_type": "display_data"
        }
      ],
      "source": [
        "popular_platforms = ['PS4', 'PS3', 'X360', '3DS', 'XOne']\n",
        "\n",
        "for name_platform in popular_platforms:\n",
        "    x_critic = df_relevant[df_relevant['platform']==name_platform]['critic_score']\n",
        "    y_critic = df_relevant[df_relevant['platform']==name_platform]['total_sales']\n",
        "    \n",
        "    x_user = df_relevant[df_relevant['platform']==name_platform]['user_score']\n",
        "    y_user = df_relevant[df_relevant['platform']==name_platform]['total_sales']\n",
        "    \n",
        "    \n",
        "    fig = plt.figure(figsize=(13, 4.5))\n",
        "    \n",
        "    ax1 = fig.add_subplot(121)\n",
        "    ax1.scatter(x_critic, y_critic)\n",
        "    ax1.set_title('Зависимость продаж от оценок критиков\\n на платформе '+name_platform)\n",
        "    ax1.set_xlabel('Оценки критиков\\n')\n",
        "    ax1.set_ylabel('Продажи')\n",
        "    \n",
        "    ax2 = fig.add_subplot(122)\n",
        "    ax2.scatter(x_user, y_user)\n",
        "    ax2.set_title('Зависимость продаж от оценок пользователей\\n на платформе '+name_platform)\n",
        "    ax2.set_xlabel('Оценки пользователей\\n')\n",
        "    ax2.set_ylabel('Продажи')\n",
        "    \n",
        "    plt.tight_layout(w_pad=3)"
      ]
    },
    {
      "cell_type": "markdown",
      "metadata": {
        "id": "coBo-xEmehoZ"
      },
      "source": [
        "Проанализировав, графики рассеивания, можно отметить, что объем продаж игр возрастает при оценке критиков 55 и выше, и при оценке пользователей от 5 и выше. Яркой зависимости продаж от оценки нет."
      ]
    },
    {
      "cell_type": "markdown",
      "metadata": {
        "id": "w9rFUgqVehoZ"
      },
      "source": [
        "Расчитаем коэффициент корреляции для влияния оценки игры на ее продажи. "
      ]
    },
    {
      "cell_type": "code",
      "execution_count": null,
      "metadata": {
        "id": "c0cSHIddehob",
        "outputId": "0fffe2a8-8e20-425b-8c83-a046f841a833"
      },
      "outputs": [
        {
          "name": "stdout",
          "output_type": "stream",
          "text": [
            "продажи и оценки критиков     |продажи и оценки пользователей\n",
            "\n",
            "\n",
            "PS4\n",
            "\n",
            "0.43                          0.024                         \n",
            "\n",
            "PS3\n",
            "\n",
            "0.33                          -0.022                        \n",
            "\n",
            "X360\n",
            "\n",
            "0.36                          -0.0096                       \n",
            "\n",
            "3DS\n",
            "\n",
            "0.33                          0.21                          \n",
            "\n",
            "XOne\n",
            "\n",
            "0.46                          -0.039                        \n",
            "\n"
          ]
        }
      ],
      "source": [
        "print('{: <30}|{: <30}'.format('продажи и оценки критиков', 'продажи и оценки пользователей'))\n",
        "print()\n",
        "print()\n",
        "for name_platform in popular_platforms:\n",
        "    print(name_platform)\n",
        "    print()\n",
        "    print('{: <30.2}{: <30.2}'.format(df_relevant[df_relevant['platform']==name_platform]['total_sales']\\\n",
        "        .corr(df_relevant[df_relevant['platform']==name_platform]['critic_score'])\\\n",
        "                                   \n",
        "        , df_relevant[df_relevant['platform']==name_platform]['total_sales']\\\n",
        "        .corr(df_relevant[df_relevant['platform']==name_platform]['user_score'])))\n",
        "    print()"
      ]
    },
    {
      "cell_type": "markdown",
      "metadata": {
        "id": "uRzZROOwehod"
      },
      "source": [
        "зависимость продаж от оценки критиков больше, чем от оценки пользователей.  Коэффициент корреляции показывает <b>среднюю линейную связь</b> между оценкой игры критиками и продажей. Самая сильная связь для платформы PS4 и XOne. Связь между оценками пользователей и продажами значительно слабее, для платформ PS3, X360, XOne связь вообще практически нулевая, но при этом в уходит в отрицательную сторону.<br>\n",
        "Это очень странно! Возможно, слишком большое количество пропусков существенно исказили картину. Или пользователи ставили оценку игре только при негативном опыте. А при позитивном не оценивали игру. "
      ]
    },
    {
      "cell_type": "markdown",
      "metadata": {
        "id": "T3wi3kUqehof"
      },
      "source": [
        "## Распределение игр по жанрам"
      ]
    },
    {
      "cell_type": "markdown",
      "metadata": {
        "id": "JKNEp6Ybehog"
      },
      "source": [
        "Для начала рассмотрим как распределяются жанры игр в нашей таблице."
      ]
    },
    {
      "cell_type": "code",
      "execution_count": null,
      "metadata": {
        "id": "u699Dyl9ehog",
        "outputId": "177cc8fa-3e18-435f-c023-43a830c75f12"
      },
      "outputs": [
        {
          "data": {
            "text/plain": [
              "Action          856\n",
              "Role-Playing    316\n",
              "Adventure       246\n",
              "Sports          220\n",
              "Shooter         190\n",
              "Misc            161\n",
              "Fighting         93\n",
              "Racing           91\n",
              "Platform         70\n",
              "Simulation       62\n",
              "Strategy         58\n",
              "Puzzle           27\n",
              "Name: genre, dtype: int64"
            ]
          },
          "execution_count": 33,
          "metadata": {},
          "output_type": "execute_result"
        }
      ],
      "source": [
        "df_relevant['genre'].value_counts()"
      ]
    },
    {
      "cell_type": "markdown",
      "metadata": {
        "id": "eQ90jt3Zehoh"
      },
      "source": [
        "Жанр action самый популярный жанр, следующими идут Role-Playing, Adventure, Sports и Shooter . <br/>Самыми непопулярными играми являются Strategy и Puzzle ."
      ]
    },
    {
      "cell_type": "markdown",
      "metadata": {
        "id": "hZL57OCBehoi"
      },
      "source": [
        "Посмотрим как распределяются продажи в зависимости от жанра игры:"
      ]
    },
    {
      "cell_type": "code",
      "execution_count": null,
      "metadata": {
        "scrolled": true,
        "id": "6mDzpmEXehoi",
        "outputId": "08a58e9e-5e36-4601-c7e5-8c16ba5a4b6e"
      },
      "outputs": [
        {
          "data": {
            "text/html": [
              "<div>\n",
              "<style scoped>\n",
              "    .dataframe tbody tr th:only-of-type {\n",
              "        vertical-align: middle;\n",
              "    }\n",
              "\n",
              "    .dataframe tbody tr th {\n",
              "        vertical-align: top;\n",
              "    }\n",
              "\n",
              "    .dataframe thead th {\n",
              "        text-align: right;\n",
              "    }\n",
              "</style>\n",
              "<table border=\"1\" class=\"dataframe\">\n",
              "  <thead>\n",
              "    <tr style=\"text-align: right;\">\n",
              "      <th></th>\n",
              "      <th>total_sales</th>\n",
              "    </tr>\n",
              "    <tr>\n",
              "      <th>genre</th>\n",
              "      <th></th>\n",
              "    </tr>\n",
              "  </thead>\n",
              "  <tbody>\n",
              "    <tr>\n",
              "      <th>Action</th>\n",
              "      <td>411.64</td>\n",
              "    </tr>\n",
              "    <tr>\n",
              "      <th>Shooter</th>\n",
              "      <td>266.53</td>\n",
              "    </tr>\n",
              "    <tr>\n",
              "      <th>Role-Playing</th>\n",
              "      <td>174.62</td>\n",
              "    </tr>\n",
              "    <tr>\n",
              "      <th>Sports</th>\n",
              "      <td>157.58</td>\n",
              "    </tr>\n",
              "    <tr>\n",
              "      <th>Misc</th>\n",
              "      <td>82.68</td>\n",
              "    </tr>\n",
              "    <tr>\n",
              "      <th>Platform</th>\n",
              "      <td>57.77</td>\n",
              "    </tr>\n",
              "    <tr>\n",
              "      <th>Racing</th>\n",
              "      <td>50.71</td>\n",
              "    </tr>\n",
              "    <tr>\n",
              "      <th>Fighting</th>\n",
              "      <td>40.02</td>\n",
              "    </tr>\n",
              "    <tr>\n",
              "      <th>Simulation</th>\n",
              "      <td>33.23</td>\n",
              "    </tr>\n",
              "    <tr>\n",
              "      <th>Adventure</th>\n",
              "      <td>25.61</td>\n",
              "    </tr>\n",
              "    <tr>\n",
              "      <th>Strategy</th>\n",
              "      <td>12.21</td>\n",
              "    </tr>\n",
              "    <tr>\n",
              "      <th>Puzzle</th>\n",
              "      <td>4.88</td>\n",
              "    </tr>\n",
              "  </tbody>\n",
              "</table>\n",
              "</div>"
            ],
            "text/plain": [
              "              total_sales\n",
              "genre                    \n",
              "Action             411.64\n",
              "Shooter            266.53\n",
              "Role-Playing       174.62\n",
              "Sports             157.58\n",
              "Misc                82.68\n",
              "Platform            57.77\n",
              "Racing              50.71\n",
              "Fighting            40.02\n",
              "Simulation          33.23\n",
              "Adventure           25.61\n",
              "Strategy            12.21\n",
              "Puzzle               4.88"
            ]
          },
          "execution_count": 34,
          "metadata": {},
          "output_type": "execute_result"
        }
      ],
      "source": [
        "(df_relevant\n",
        " .pivot_table(index='genre', values='total_sales', aggfunc='sum')\n",
        " .sort_values(by='total_sales', ascending=False)\n",
        ")"
      ]
    },
    {
      "cell_type": "markdown",
      "metadata": {
        "id": "A_vIsNWJehoj"
      },
      "source": [
        "В продажах в лидерах остаются игры Action, а вот далее происходят изменения Shooter, Role-Playing и Sports.\n",
        "Т.е. лидеры те же, но меняются местами. Среди самых непопулярных по продажам Strategy и Puzzle.<br>\n",
        "Это кажется логичным, ведь большее количество игр нам принесет больший доход. Поэтому просто посмотреть просто на суммы продаж по жанрам недостаточно. <br>\n",
        "Посмотрим среднее значения в продажах по играм."
      ]
    },
    {
      "cell_type": "code",
      "execution_count": null,
      "metadata": {
        "id": "WKSty44zehok",
        "outputId": "2a901018-50ef-4a8b-af8b-6fd1d701ce8f"
      },
      "outputs": [
        {
          "data": {
            "text/html": [
              "<div>\n",
              "<style scoped>\n",
              "    .dataframe tbody tr th:only-of-type {\n",
              "        vertical-align: middle;\n",
              "    }\n",
              "\n",
              "    .dataframe tbody tr th {\n",
              "        vertical-align: top;\n",
              "    }\n",
              "\n",
              "    .dataframe thead th {\n",
              "        text-align: right;\n",
              "    }\n",
              "</style>\n",
              "<table border=\"1\" class=\"dataframe\">\n",
              "  <thead>\n",
              "    <tr style=\"text-align: right;\">\n",
              "      <th></th>\n",
              "      <th>total_sales</th>\n",
              "    </tr>\n",
              "    <tr>\n",
              "      <th>genre</th>\n",
              "      <th></th>\n",
              "    </tr>\n",
              "  </thead>\n",
              "  <tbody>\n",
              "    <tr>\n",
              "      <th>Shooter</th>\n",
              "      <td>1.402789</td>\n",
              "    </tr>\n",
              "    <tr>\n",
              "      <th>Platform</th>\n",
              "      <td>0.825286</td>\n",
              "    </tr>\n",
              "    <tr>\n",
              "      <th>Sports</th>\n",
              "      <td>0.716273</td>\n",
              "    </tr>\n",
              "    <tr>\n",
              "      <th>Racing</th>\n",
              "      <td>0.557253</td>\n",
              "    </tr>\n",
              "    <tr>\n",
              "      <th>Role-Playing</th>\n",
              "      <td>0.552595</td>\n",
              "    </tr>\n",
              "    <tr>\n",
              "      <th>Simulation</th>\n",
              "      <td>0.535968</td>\n",
              "    </tr>\n",
              "    <tr>\n",
              "      <th>Misc</th>\n",
              "      <td>0.513540</td>\n",
              "    </tr>\n",
              "    <tr>\n",
              "      <th>Action</th>\n",
              "      <td>0.480888</td>\n",
              "    </tr>\n",
              "    <tr>\n",
              "      <th>Fighting</th>\n",
              "      <td>0.430323</td>\n",
              "    </tr>\n",
              "    <tr>\n",
              "      <th>Strategy</th>\n",
              "      <td>0.210517</td>\n",
              "    </tr>\n",
              "    <tr>\n",
              "      <th>Puzzle</th>\n",
              "      <td>0.180741</td>\n",
              "    </tr>\n",
              "    <tr>\n",
              "      <th>Adventure</th>\n",
              "      <td>0.104106</td>\n",
              "    </tr>\n",
              "  </tbody>\n",
              "</table>\n",
              "</div>"
            ],
            "text/plain": [
              "              total_sales\n",
              "genre                    \n",
              "Shooter          1.402789\n",
              "Platform         0.825286\n",
              "Sports           0.716273\n",
              "Racing           0.557253\n",
              "Role-Playing     0.552595\n",
              "Simulation       0.535968\n",
              "Misc             0.513540\n",
              "Action           0.480888\n",
              "Fighting         0.430323\n",
              "Strategy         0.210517\n",
              "Puzzle           0.180741\n",
              "Adventure        0.104106"
            ]
          },
          "execution_count": 35,
          "metadata": {},
          "output_type": "execute_result"
        }
      ],
      "source": [
        "(df_relevant\n",
        " .pivot_table(index='genre', values='total_sales')\n",
        " .sort_values(by='total_sales', ascending=False)\n",
        ")"
      ]
    },
    {
      "cell_type": "markdown",
      "metadata": {
        "id": "N9cDuWCFehol"
      },
      "source": [
        "При средних значениях лидеры меняются местами. С большим отрывом лидируют Shooter, далее идут Platform, которые не попадали в лидеры ни по жанрам, ни по суммарным продажам. Третье место у Sports. "
      ]
    },
    {
      "cell_type": "markdown",
      "metadata": {
        "id": "dZKjM81jehol"
      },
      "source": [
        "Получается, что лидерство в суммарных продажах по жарнам игры получают за счет количества, а не стоимости каждой игры в отдельности. "
      ]
    },
    {
      "cell_type": "markdown",
      "metadata": {
        "id": "RP0wqZpvehon"
      },
      "source": [
        "# Портрет пользователя каждого региона"
      ]
    },
    {
      "cell_type": "markdown",
      "metadata": {
        "id": "BTWFO-ybehoo"
      },
      "source": [
        "Рассмотрим регионы продаж (NA, EA, JP) и пользователей этих регионов. "
      ]
    },
    {
      "cell_type": "markdown",
      "metadata": {
        "id": "MGPJ3cicehoo"
      },
      "source": [
        "## Топ 5 платформ по регионам. "
      ]
    },
    {
      "cell_type": "code",
      "execution_count": null,
      "metadata": {
        "id": "wxVuYBv5ehop",
        "outputId": "b07fddd1-ac99-403e-bf4f-7e2c3869806d"
      },
      "outputs": [
        {
          "data": {
            "text/html": [
              "<div>\n",
              "<style scoped>\n",
              "    .dataframe tbody tr th:only-of-type {\n",
              "        vertical-align: middle;\n",
              "    }\n",
              "\n",
              "    .dataframe tbody tr th {\n",
              "        vertical-align: top;\n",
              "    }\n",
              "\n",
              "    .dataframe thead th {\n",
              "        text-align: right;\n",
              "    }\n",
              "</style>\n",
              "<table border=\"1\" class=\"dataframe\">\n",
              "  <thead>\n",
              "    <tr style=\"text-align: right;\">\n",
              "      <th></th>\n",
              "      <th>eu_sales</th>\n",
              "      <th>jp_sales</th>\n",
              "      <th>na_sales</th>\n",
              "    </tr>\n",
              "    <tr>\n",
              "      <th>platform</th>\n",
              "      <th></th>\n",
              "      <th></th>\n",
              "      <th></th>\n",
              "    </tr>\n",
              "  </thead>\n",
              "  <tbody>\n",
              "    <tr>\n",
              "      <th>3DS</th>\n",
              "      <td>40.31</td>\n",
              "      <td>79.76</td>\n",
              "      <td>51.17</td>\n",
              "    </tr>\n",
              "    <tr>\n",
              "      <th>DS</th>\n",
              "      <td>3.53</td>\n",
              "      <td>3.72</td>\n",
              "      <td>4.59</td>\n",
              "    </tr>\n",
              "    <tr>\n",
              "      <th>PC</th>\n",
              "      <td>34.71</td>\n",
              "      <td>0.00</td>\n",
              "      <td>17.85</td>\n",
              "    </tr>\n",
              "    <tr>\n",
              "      <th>PS3</th>\n",
              "      <td>105.60</td>\n",
              "      <td>33.99</td>\n",
              "      <td>102.71</td>\n",
              "    </tr>\n",
              "    <tr>\n",
              "      <th>PS4</th>\n",
              "      <td>109.31</td>\n",
              "      <td>10.22</td>\n",
              "      <td>87.25</td>\n",
              "    </tr>\n",
              "    <tr>\n",
              "      <th>PSP</th>\n",
              "      <td>0.42</td>\n",
              "      <td>10.71</td>\n",
              "      <td>0.13</td>\n",
              "    </tr>\n",
              "    <tr>\n",
              "      <th>PSV</th>\n",
              "      <td>10.97</td>\n",
              "      <td>17.48</td>\n",
              "      <td>10.83</td>\n",
              "    </tr>\n",
              "    <tr>\n",
              "      <th>Wii</th>\n",
              "      <td>11.81</td>\n",
              "      <td>3.39</td>\n",
              "      <td>17.39</td>\n",
              "    </tr>\n",
              "    <tr>\n",
              "      <th>WiiU</th>\n",
              "      <td>23.65</td>\n",
              "      <td>12.34</td>\n",
              "      <td>36.00</td>\n",
              "    </tr>\n",
              "    <tr>\n",
              "      <th>X360</th>\n",
              "      <td>73.81</td>\n",
              "      <td>1.57</td>\n",
              "      <td>139.37</td>\n",
              "    </tr>\n",
              "    <tr>\n",
              "      <th>XOne</th>\n",
              "      <td>41.96</td>\n",
              "      <td>0.33</td>\n",
              "      <td>78.85</td>\n",
              "    </tr>\n",
              "  </tbody>\n",
              "</table>\n",
              "</div>"
            ],
            "text/plain": [
              "          eu_sales  jp_sales  na_sales\n",
              "platform                              \n",
              "3DS          40.31     79.76     51.17\n",
              "DS            3.53      3.72      4.59\n",
              "PC           34.71      0.00     17.85\n",
              "PS3         105.60     33.99    102.71\n",
              "PS4         109.31     10.22     87.25\n",
              "PSP           0.42     10.71      0.13\n",
              "PSV          10.97     17.48     10.83\n",
              "Wii          11.81      3.39     17.39\n",
              "WiiU         23.65     12.34     36.00\n",
              "X360         73.81      1.57    139.37\n",
              "XOne         41.96      0.33     78.85"
            ]
          },
          "execution_count": 36,
          "metadata": {},
          "output_type": "execute_result"
        }
      ],
      "source": [
        "top_5_platforms_per_region = (df_relevant\n",
        "        .pivot_table(index='platform', values= ['na_sales', 'eu_sales', 'jp_sales'], aggfunc='sum')\n",
        "        )   \n",
        "top_5_platforms_per_region"
      ]
    },
    {
      "cell_type": "markdown",
      "metadata": {
        "id": "1aLCuhFEehoq"
      },
      "source": [
        "Для большей наглядности построим график."
      ]
    },
    {
      "cell_type": "code",
      "execution_count": null,
      "metadata": {
        "scrolled": false,
        "id": "Js6ZzNDjehoq",
        "outputId": "1226b646-2db1-4a8d-9d98-449987fdc324"
      },
      "outputs": [
        {
          "data": {
            "image/png": "[encoded data removed]",
            "text/plain": [
              "<Figure size 1008x504 with 1 Axes>"
            ]
          },
          "metadata": {
            "needs_background": "light"
          },
          "output_type": "display_data"
        }
      ],
      "source": [
        "top_5_platforms_per_region.plot(kind='bar', figsize=(14,7), grid=True);"
      ]
    },
    {
      "cell_type": "markdown",
      "metadata": {
        "id": "MCvhymFtehor"
      },
      "source": [
        "Самые популярные платформы по продажам игр:<br/>\n",
        "в Америке - X360, PS3, PS4, XOne, 3DS. <br/>\n",
        "В Европе - PS4, PS3, X360, XOne, 3DS. <br/>\n",
        "В Японии - PS4, PS3, X360, XOne, 3DS. <br/>"
      ]
    },
    {
      "cell_type": "code",
      "execution_count": null,
      "metadata": {
        "id": "zvzD_ss5ehos",
        "outputId": "17480cf0-dda1-4ab9-c082-f938068898ec"
      },
      "outputs": [
        {
          "data": {
            "text/html": [
              "<div>\n",
              "<style scoped>\n",
              "    .dataframe tbody tr th:only-of-type {\n",
              "        vertical-align: middle;\n",
              "    }\n",
              "\n",
              "    .dataframe tbody tr th {\n",
              "        vertical-align: top;\n",
              "    }\n",
              "\n",
              "    .dataframe thead th {\n",
              "        text-align: right;\n",
              "    }\n",
              "</style>\n",
              "<table border=\"1\" class=\"dataframe\">\n",
              "  <thead>\n",
              "    <tr style=\"text-align: right;\">\n",
              "      <th></th>\n",
              "      <th>eu_sales</th>\n",
              "      <th>jp_sales</th>\n",
              "      <th>na_sales</th>\n",
              "    </tr>\n",
              "    <tr>\n",
              "      <th>platform</th>\n",
              "      <th></th>\n",
              "      <th></th>\n",
              "      <th></th>\n",
              "    </tr>\n",
              "  </thead>\n",
              "  <tbody>\n",
              "    <tr>\n",
              "      <th>3DS</th>\n",
              "      <td>40.31</td>\n",
              "      <td>79.76</td>\n",
              "      <td>51.17</td>\n",
              "    </tr>\n",
              "    <tr>\n",
              "      <th>PS3</th>\n",
              "      <td>105.60</td>\n",
              "      <td>33.99</td>\n",
              "      <td>102.71</td>\n",
              "    </tr>\n",
              "    <tr>\n",
              "      <th>PSV</th>\n",
              "      <td>10.97</td>\n",
              "      <td>17.48</td>\n",
              "      <td>10.83</td>\n",
              "    </tr>\n",
              "    <tr>\n",
              "      <th>WiiU</th>\n",
              "      <td>23.65</td>\n",
              "      <td>12.34</td>\n",
              "      <td>36.00</td>\n",
              "    </tr>\n",
              "    <tr>\n",
              "      <th>PSP</th>\n",
              "      <td>0.42</td>\n",
              "      <td>10.71</td>\n",
              "      <td>0.13</td>\n",
              "    </tr>\n",
              "  </tbody>\n",
              "</table>\n",
              "</div>"
            ],
            "text/plain": [
              "          eu_sales  jp_sales  na_sales\n",
              "platform                              \n",
              "3DS          40.31     79.76     51.17\n",
              "PS3         105.60     33.99    102.71\n",
              "PSV          10.97     17.48     10.83\n",
              "WiiU         23.65     12.34     36.00\n",
              "PSP           0.42     10.71      0.13"
            ]
          },
          "execution_count": 38,
          "metadata": {},
          "output_type": "execute_result"
        }
      ],
      "source": [
        "# Берем 5 наибольших по jp_sales\n",
        "top_5_platforms_per_region.nlargest(5, 'jp_sales')\n",
        "# или можно отсортировать по колонке и взять 5 верхних"
      ]
    },
    {
      "cell_type": "code",
      "execution_count": null,
      "metadata": {
        "id": "4XU_pdSJehot",
        "outputId": "e0b014b3-aaa0-4516-9982-1b3ecbf01cea"
      },
      "outputs": [
        {
          "data": {
            "image/png": "[encoded data removed]",
            "text/plain": [
              "<Figure size 1080x360 with 3 Axes>"
            ]
          },
          "metadata": {},
          "output_type": "display_data"
        }
      ],
      "source": [
        "# задаем список регионов\n",
        "countries = df_relevant.columns[4:7]\n",
        "# начертим круговую диаграмму для каждого региона\n",
        "fig, axs = plt.subplots(1, 3, figsize=(15, 5))\n",
        "\n",
        "fig.suptitle('ТОП-5 платформ в регионах')\n",
        "for i in range(3):\n",
        "  # выберем 5 самых продающих платформ\n",
        "  df_i = (df_relevant.groupby('platform')[countries[i]].sum().\n",
        "             reset_index().\n",
        "             sort_values(countries[i], ascending = False, ignore_index = True).\n",
        "             head(5))\n",
        "  # занесем все остальыне продажи в Other_platforms\n",
        "  df_i = df_i.append({'platform': 'Other_platforms', countries[i]: df_relevant[countries[i]].sum() - df_i[countries[i]].sum()}, ignore_index= True)\n",
        "  axs[i].pie(df_i[countries[i]], labels = df_i['platform'])\n",
        "\n",
        "  # Зададим название региона.\n",
        "  axs[i].set_title(df_i.columns[1].split('_')[0].upper())\n",
        "plt.show()"
      ]
    },
    {
      "cell_type": "markdown",
      "metadata": {
        "id": "d4VnQC80ehou"
      },
      "source": [
        "## Топ 5 жанров по регионам."
      ]
    },
    {
      "cell_type": "code",
      "execution_count": null,
      "metadata": {
        "id": "ajykQlZMehov",
        "outputId": "0bb60097-eab9-486f-899e-7535ca657f8b"
      },
      "outputs": [
        {
          "data": {
            "text/html": [
              "<div>\n",
              "<style scoped>\n",
              "    .dataframe tbody tr th:only-of-type {\n",
              "        vertical-align: middle;\n",
              "    }\n",
              "\n",
              "    .dataframe tbody tr th {\n",
              "        vertical-align: top;\n",
              "    }\n",
              "\n",
              "    .dataframe thead th {\n",
              "        text-align: right;\n",
              "    }\n",
              "</style>\n",
              "<table border=\"1\" class=\"dataframe\">\n",
              "  <thead>\n",
              "    <tr style=\"text-align: right;\">\n",
              "      <th></th>\n",
              "      <th>eu_sales</th>\n",
              "      <th>jp_sales</th>\n",
              "      <th>na_sales</th>\n",
              "    </tr>\n",
              "    <tr>\n",
              "      <th>genre</th>\n",
              "      <th></th>\n",
              "      <th></th>\n",
              "      <th></th>\n",
              "    </tr>\n",
              "  </thead>\n",
              "  <tbody>\n",
              "    <tr>\n",
              "      <th>Action</th>\n",
              "      <td>149.14</td>\n",
              "      <td>45.73</td>\n",
              "      <td>168.63</td>\n",
              "    </tr>\n",
              "    <tr>\n",
              "      <th>Adventure</th>\n",
              "      <td>8.14</td>\n",
              "      <td>7.06</td>\n",
              "      <td>7.97</td>\n",
              "    </tr>\n",
              "    <tr>\n",
              "      <th>Fighting</th>\n",
              "      <td>9.45</td>\n",
              "      <td>8.69</td>\n",
              "      <td>17.95</td>\n",
              "    </tr>\n",
              "    <tr>\n",
              "      <th>Misc</th>\n",
              "      <td>25.66</td>\n",
              "      <td>12.06</td>\n",
              "      <td>37.43</td>\n",
              "    </tr>\n",
              "    <tr>\n",
              "      <th>Platform</th>\n",
              "      <td>20.02</td>\n",
              "      <td>8.52</td>\n",
              "      <td>24.09</td>\n",
              "    </tr>\n",
              "    <tr>\n",
              "      <th>Puzzle</th>\n",
              "      <td>1.39</td>\n",
              "      <td>2.14</td>\n",
              "      <td>1.13</td>\n",
              "    </tr>\n",
              "    <tr>\n",
              "      <th>Racing</th>\n",
              "      <td>25.52</td>\n",
              "      <td>2.49</td>\n",
              "      <td>16.49</td>\n",
              "    </tr>\n",
              "    <tr>\n",
              "      <th>Role-Playing</th>\n",
              "      <td>44.25</td>\n",
              "      <td>58.83</td>\n",
              "      <td>58.11</td>\n",
              "    </tr>\n",
              "    <tr>\n",
              "      <th>Shooter</th>\n",
              "      <td>97.57</td>\n",
              "      <td>8.17</td>\n",
              "      <td>128.55</td>\n",
              "    </tr>\n",
              "    <tr>\n",
              "      <th>Simulation</th>\n",
              "      <td>13.28</td>\n",
              "      <td>10.08</td>\n",
              "      <td>7.81</td>\n",
              "    </tr>\n",
              "    <tr>\n",
              "      <th>Sports</th>\n",
              "      <td>57.08</td>\n",
              "      <td>7.09</td>\n",
              "      <td>73.99</td>\n",
              "    </tr>\n",
              "    <tr>\n",
              "      <th>Strategy</th>\n",
              "      <td>4.58</td>\n",
              "      <td>2.65</td>\n",
              "      <td>3.99</td>\n",
              "    </tr>\n",
              "  </tbody>\n",
              "</table>\n",
              "</div>"
            ],
            "text/plain": [
              "              eu_sales  jp_sales  na_sales\n",
              "genre                                     \n",
              "Action          149.14     45.73    168.63\n",
              "Adventure         8.14      7.06      7.97\n",
              "Fighting          9.45      8.69     17.95\n",
              "Misc             25.66     12.06     37.43\n",
              "Platform         20.02      8.52     24.09\n",
              "Puzzle            1.39      2.14      1.13\n",
              "Racing           25.52      2.49     16.49\n",
              "Role-Playing     44.25     58.83     58.11\n",
              "Shooter          97.57      8.17    128.55\n",
              "Simulation       13.28     10.08      7.81\n",
              "Sports           57.08      7.09     73.99\n",
              "Strategy          4.58      2.65      3.99"
            ]
          },
          "execution_count": 40,
          "metadata": {},
          "output_type": "execute_result"
        }
      ],
      "source": [
        "top_5_genre_per_region = (df_relevant\n",
        "        .pivot_table(index='genre', values= ['na_sales', 'eu_sales', 'jp_sales'], aggfunc='sum')\n",
        "        )   \n",
        "top_5_genre_per_region"
      ]
    },
    {
      "cell_type": "code",
      "execution_count": null,
      "metadata": {
        "id": "rLxhl1_3ehow",
        "outputId": "6cb5f97d-78d7-4b8c-f1f7-af578f6c8f26"
      },
      "outputs": [
        {
          "data": {
            "image/png": "[encoded data removed]",
            "text/plain": [
              "<Figure size 1008x504 with 1 Axes>"
            ]
          },
          "metadata": {
            "needs_background": "light"
          },
          "output_type": "display_data"
        }
      ],
      "source": [
        "top_5_genre_per_region.plot(kind='bar', figsize=(14,7), grid=True);"
      ]
    },
    {
      "cell_type": "markdown",
      "metadata": {
        "id": "mD4HBRXtehow"
      },
      "source": [
        "Самые популярные жанры по продажам игр:<br/>\n",
        "в Америке - Action, Shooter, Sports, Role-Playing, Misc.<br/>\n",
        "В Европе - Action, Shooter, Sports, Role-Playing, Misc/Racing.<br/>\n",
        "В Японии - Role-Playing, Action, Misc, Simulation, Fighting.<br/>"
      ]
    },
    {
      "cell_type": "markdown",
      "metadata": {
        "id": "uNriMjbdehox"
      },
      "source": [
        "## Влияние рейтинга ESRB на продажи в регионах."
      ]
    },
    {
      "cell_type": "markdown",
      "metadata": {
        "id": "1lXb9wCAehoy"
      },
      "source": [
        "Аналогично посмотрим как влияет рейтинг на продажи в каждом регионе."
      ]
    },
    {
      "cell_type": "code",
      "execution_count": null,
      "metadata": {
        "id": "krVX10_Vehoy",
        "outputId": "7e30da8f-e80b-4e20-f6f1-f7f49fdfd4b5"
      },
      "outputs": [
        {
          "data": {
            "text/html": [
              "<div>\n",
              "<style scoped>\n",
              "    .dataframe tbody tr th:only-of-type {\n",
              "        vertical-align: middle;\n",
              "    }\n",
              "\n",
              "    .dataframe tbody tr th {\n",
              "        vertical-align: top;\n",
              "    }\n",
              "\n",
              "    .dataframe thead th {\n",
              "        text-align: right;\n",
              "    }\n",
              "</style>\n",
              "<table border=\"1\" class=\"dataframe\">\n",
              "  <thead>\n",
              "    <tr style=\"text-align: right;\">\n",
              "      <th></th>\n",
              "      <th>eu_sales</th>\n",
              "      <th>jp_sales</th>\n",
              "      <th>na_sales</th>\n",
              "    </tr>\n",
              "    <tr>\n",
              "      <th>rating</th>\n",
              "      <th></th>\n",
              "      <th></th>\n",
              "      <th></th>\n",
              "    </tr>\n",
              "  </thead>\n",
              "  <tbody>\n",
              "    <tr>\n",
              "      <th>E</th>\n",
              "      <td>99.42</td>\n",
              "      <td>27.26</td>\n",
              "      <td>106.40</td>\n",
              "    </tr>\n",
              "    <tr>\n",
              "      <th>E10+</th>\n",
              "      <td>51.56</td>\n",
              "      <td>7.74</td>\n",
              "      <td>71.89</td>\n",
              "    </tr>\n",
              "    <tr>\n",
              "      <th>M</th>\n",
              "      <td>177.90</td>\n",
              "      <td>20.00</td>\n",
              "      <td>216.00</td>\n",
              "    </tr>\n",
              "    <tr>\n",
              "      <th>T</th>\n",
              "      <td>43.17</td>\n",
              "      <td>23.75</td>\n",
              "      <td>57.07</td>\n",
              "    </tr>\n",
              "    <tr>\n",
              "      <th>unknown</th>\n",
              "      <td>84.03</td>\n",
              "      <td>94.76</td>\n",
              "      <td>94.78</td>\n",
              "    </tr>\n",
              "  </tbody>\n",
              "</table>\n",
              "</div>"
            ],
            "text/plain": [
              "         eu_sales  jp_sales  na_sales\n",
              "rating                               \n",
              "E           99.42     27.26    106.40\n",
              "E10+        51.56      7.74     71.89\n",
              "M          177.90     20.00    216.00\n",
              "T           43.17     23.75     57.07\n",
              "unknown     84.03     94.76     94.78"
            ]
          },
          "execution_count": 42,
          "metadata": {},
          "output_type": "execute_result"
        }
      ],
      "source": [
        "rating_per_region = (df_relevant.pivot_table(index='rating', \n",
        "    values=['na_sales', 'eu_sales', 'jp_sales'], aggfunc='sum'))\n",
        "rating_per_region"
      ]
    },
    {
      "cell_type": "code",
      "execution_count": null,
      "metadata": {
        "id": "ocsgHIe5ehoz",
        "outputId": "938e5549-f1e2-4582-8697-81f9a7505906"
      },
      "outputs": [
        {
          "data": {
            "image/png": "[encoded data removed]",
            "text/plain": [
              "<Figure size 1008x504 with 1 Axes>"
            ]
          },
          "metadata": {
            "needs_background": "light"
          },
          "output_type": "display_data"
        }
      ],
      "source": [
        "rating_per_region.plot(kind='bar', figsize=(14,7), grid=True);"
      ]
    },
    {
      "cell_type": "markdown",
      "metadata": {
        "id": "D_CBZ5vYeho1"
      },
      "source": [
        "Самые популярные жанры по продажам игр: <br/>\n",
        "<b>В Америке и Европе</b> - M(«Для взрослых»), E(«Для всех»), Неизвестный рейтинг, E10+(«Для всех от 10 лет и старше»), T(«Подросткам»).<br/>\n",
        "<b>В Японии</b> - Неизвестный рейтинг, E(«Для всех»), T(«Подросткам»), M(«Для взрослых»), E10+(«Для всех от 10 лет и старше»)."
      ]
    },
    {
      "cell_type": "markdown",
      "metadata": {
        "id": "gHHOrY7Seho4"
      },
      "source": [
        "# Проверка гипотез."
      ]
    },
    {
      "cell_type": "markdown",
      "metadata": {
        "id": "s73TWwkSeho_"
      },
      "source": [
        "## Проверка средних пользовательских рейтингов платформ Xbox One и PC"
      ]
    },
    {
      "cell_type": "markdown",
      "metadata": {
        "id": "9hWfRJjKehpA"
      },
      "source": [
        "В качестве нулевой гипотезы возьмем: <b>Средние пользовательские рейтинги платформ Xbox One и PC равны</b>.<br/>\n",
        "В качестве альтернативной гипотезы возьмем: <b>Средние пользовательские рейтинги платформ Xbox One и PC не равны</b>.<br/>\n",
        "\n",
        "Для этого воспользуемся методом проверки гипотезы о равенстве двух генеральных совокупностей по взятым из них выборкам. Если пороговое значение окажется меньше 0.05, будем считать что гипотеза подтвердилась."
      ]
    },
    {
      "cell_type": "code",
      "execution_count": null,
      "metadata": {
        "id": "9IqbnWR3ehpA",
        "outputId": "e1ca909d-de4e-4adc-b5b7-c7db7ea34db6"
      },
      "outputs": [
        {
          "name": "stdout",
          "output_type": "stream",
          "text": [
            "p-значение: 0.981369790613591\n",
            "Не получилось отвергнуть нулевую гипотезу\n"
          ]
        }
      ],
      "source": [
        "alpha = .05\n",
        "results = st.ttest_ind(\n",
        "    df_relevant.query('platform == \"XOne\" and not user_score.isna()')['user_score'], \n",
        "    df_relevant.query('platform == \"PC\" and not user_score.isna()')['user_score'])\n",
        "\n",
        "print('p-значение:', results.pvalue)\n",
        "\n",
        "if (results.pvalue < alpha):\n",
        "    print(\"Отвергаем нулевую гипотезу\")\n",
        "else:\n",
        "    print(\"Не получилось отвергнуть нулевую гипотезу\")\n"
      ]
    },
    {
      "cell_type": "markdown",
      "metadata": {
        "id": "K_32vK3tehpB"
      },
      "source": [
        "p-значение высокое, отвергнуть нулевую гипотезу не получилось. Средние пользовательские рейтинги платформ Xbox One и PC равны."
      ]
    },
    {
      "cell_type": "markdown",
      "metadata": {
        "id": "Mr6ZxbG4ehpC"
      },
      "source": [
        "## Проверка средних пользовательских рейтингов жанров Action  и Sports"
      ]
    },
    {
      "cell_type": "markdown",
      "metadata": {
        "id": "8KENiM6XehpD"
      },
      "source": [
        "В качестве нулевой гипотезы возьмем: <b>Средние пользовательские рейтинги жанров Action и Sports равны</b>.<br/>\n",
        "\n",
        "В качестве альтернативной гипотезы возьмем: <b>Средние пользовательские рейтинги жанров Action и Sports не равны.\n"
      ]
    },
    {
      "cell_type": "code",
      "execution_count": null,
      "metadata": {
        "id": "h29TJn4pehpE",
        "outputId": "3e84c135-82bf-4c18-cfa3-55cc9a7c502d"
      },
      "outputs": [
        {
          "name": "stdout",
          "output_type": "stream",
          "text": [
            "p-значение: 1.1594043750544375e-23\n",
            "Отвергаем нулевую гипотезу\n"
          ]
        }
      ],
      "source": [
        "alpha = .05\n",
        "results = st.ttest_ind(\n",
        "    df_relevant.query('genre == \"Action\" and not user_score.isna()')['user_score'], \n",
        "    df_relevant.query('genre == \"Sports\" and not user_score.isna()')['user_score'])\n",
        "\n",
        "print('p-значение:', results.pvalue)\n",
        "\n",
        "if (results.pvalue < alpha):\n",
        "    print(\"Отвергаем нулевую гипотезу\")\n",
        "else:\n",
        "    print(\"Не получилось отвергнуть нулевую гипотезу\")"
      ]
    },
    {
      "cell_type": "markdown",
      "metadata": {
        "id": "5CjLQP8xehpF"
      },
      "source": [
        "p-value очень маленькое, поэтому отвергаем нашу нулевую гипотезу. Средние пользовательские рейтинги жанров Action и Sports не равны.\n"
      ]
    },
    {
      "cell_type": "markdown",
      "metadata": {
        "id": "CisV0tulehpH"
      },
      "source": [
        "# Общие выводы:"
      ]
    },
    {
      "cell_type": "markdown",
      "metadata": {
        "id": "zmtM6EI1ehpI"
      },
      "source": [
        "## Описание данных и работы с ними:"
      ]
    },
    {
      "cell_type": "markdown",
      "metadata": {
        "id": "k0cy7Zj6ehpI"
      },
      "source": [
        "Для анализа мы получили датасет, содержащий исторические данные о продажах компьютерных игр, оценке пользователей и критиков, жанрах и платформах.<br>\n",
        "Таблица содержит 16715 строк, и 11 столбцов.<br>\n",
        "Исходный датасет содержал большое количество пропусков и проблем с типами данных.\n",
        "В процессе предобработки данных мы привели все названия столбцов к нижнему регистру, заполнили пропуски там, где это было возможно, расчитали итоговую сумму продаж для каждой игры."
      ]
    },
    {
      "cell_type": "markdown",
      "metadata": {
        "id": "Wvg4DGKKehpI"
      },
      "source": [
        "## Результаты анализа:"
      ]
    },
    {
      "cell_type": "markdown",
      "metadata": {
        "id": "K3JQxs8dehpJ"
      },
      "source": [
        "Как говорилось выше, для анализа мы получили датасет с большим количеством пропусков в очень важных для нас столбцах. Поэтому все выводы стоит использовать учитывая риски, которые могли возникнуть из-за нехватки данных. \n",
        "Перед нами стояла задача выявить определяющие успешность игры закономерности. <br>\n",
        "\n",
        "1. Среди факторов, влияющих на успешность игры является популярность игровой платформы. К ним относятся X360, PS3, PS4, XOne, 3DS. Только платформы PS4 и XOne показывают рост продаж в период 2012-2015, у остальных платформ спад. Но они еще могут принести прибыль. Популярность платформ в разных регионах немного отличается.\n",
        "2. Наиболее популярные и перспективные игровыми жанрами являются Action, Shooter, Sports и Role-Playing, Misc. В Японии также довольно популярны Simulation, Fighting. Эти же жанры лидируют и в объеме продаж.   <br>\n",
        "Однако, при средних значениях продаж по жанрам лидеры меняются местами. С большим отрывом лидируют Shooter, далее идут Platform, третье место у Sports.\n",
        "3. Игры с рейтингом  M, E и Т по ESRB являются самыми популярными. Но к этим данным стоит относиться аккуратно, потому что в исходных данных у 40% игр не был проставлен рейтинг.\n",
        "4. Оценки критиков сильнее влияют на продажи игры, чем оценки пользователей. Оценка критиков свыше 55 баллов положительно влияет на продажи. Однако корреляция (прямая зависимость) между оценками и уровнем продаж не сильная. К этой информации тоже стоит относиться осторожно, потому что в исходном датасете около 50% игр без оценок. \n",
        "\n",
        "В целом предпочтения пользователей во всех регионах примерно одинаковые, в Японии существуют небольшие отличия, на которые нужно обратить внимание при разработке рекламных кампаний.\n"
      ]
    }
  ],
  "metadata": {
    "ExecuteTimeLog": [
      {
        "duration": 439,
        "start_time": "2022-05-03T17:54:37.794Z"
      },
      {
        "duration": 1049,
        "start_time": "2022-05-03T17:56:22.457Z"
      },
      {
        "duration": 77,
        "start_time": "2022-05-03T17:56:32.125Z"
      },
      {
        "duration": 23,
        "start_time": "2022-05-03T17:56:41.452Z"
      },
      {
        "duration": 22,
        "start_time": "2022-05-03T17:57:29.119Z"
      },
      {
        "duration": 126,
        "start_time": "2022-05-03T17:57:49.207Z"
      },
      {
        "duration": 6,
        "start_time": "2022-05-03T17:58:07.568Z"
      },
      {
        "duration": 12,
        "start_time": "2022-05-03T17:59:08.668Z"
      },
      {
        "duration": 20,
        "start_time": "2022-05-03T18:00:40.136Z"
      },
      {
        "duration": 18,
        "start_time": "2022-05-03T18:00:57.786Z"
      },
      {
        "duration": 6,
        "start_time": "2022-05-03T18:01:36.060Z"
      },
      {
        "duration": 47,
        "start_time": "2022-05-03T18:01:41.103Z"
      },
      {
        "duration": 6133,
        "start_time": "2022-05-03T18:02:28.346Z"
      },
      {
        "duration": 14,
        "start_time": "2022-05-03T18:03:00.923Z"
      },
      {
        "duration": 5,
        "start_time": "2022-05-03T18:03:20.774Z"
      },
      {
        "duration": 6,
        "start_time": "2022-05-03T18:04:50.672Z"
      },
      {
        "duration": 8,
        "start_time": "2022-05-03T18:05:00.924Z"
      },
      {
        "duration": 9,
        "start_time": "2022-05-03T18:05:32.276Z"
      },
      {
        "duration": 34,
        "start_time": "2022-05-03T18:06:12.594Z"
      },
      {
        "duration": 8,
        "start_time": "2022-05-03T18:06:41.178Z"
      },
      {
        "duration": 7,
        "start_time": "2022-05-03T18:07:08.329Z"
      },
      {
        "duration": 8,
        "start_time": "2022-05-03T18:07:45.306Z"
      },
      {
        "duration": 8,
        "start_time": "2022-05-03T18:09:01.188Z"
      },
      {
        "duration": 32,
        "start_time": "2022-05-03T18:09:37.024Z"
      },
      {
        "duration": 11,
        "start_time": "2022-05-03T18:10:38.028Z"
      },
      {
        "duration": 12,
        "start_time": "2022-05-03T18:10:42.562Z"
      },
      {
        "duration": 174,
        "start_time": "2022-05-03T18:13:32.933Z"
      },
      {
        "duration": 29,
        "start_time": "2022-05-03T18:13:45.043Z"
      },
      {
        "duration": 568,
        "start_time": "2022-05-03T18:20:19.982Z"
      },
      {
        "duration": 61,
        "start_time": "2022-05-03T18:20:51.859Z"
      },
      {
        "duration": 18,
        "start_time": "2022-05-03T18:23:47.500Z"
      },
      {
        "duration": 170,
        "start_time": "2022-05-03T18:23:56.424Z"
      },
      {
        "duration": 15,
        "start_time": "2022-05-03T18:24:06.784Z"
      },
      {
        "duration": 23,
        "start_time": "2022-05-03T18:27:15.318Z"
      },
      {
        "duration": 183,
        "start_time": "2022-05-03T18:29:31.632Z"
      },
      {
        "duration": 193,
        "start_time": "2022-05-03T18:29:39.614Z"
      },
      {
        "duration": 28,
        "start_time": "2022-05-03T18:29:47.962Z"
      },
      {
        "duration": 30,
        "start_time": "2022-05-03T18:32:25.477Z"
      },
      {
        "duration": 23,
        "start_time": "2022-05-03T18:32:47.599Z"
      },
      {
        "duration": 40,
        "start_time": "2022-05-03T18:33:13.283Z"
      },
      {
        "duration": 38,
        "start_time": "2022-05-03T18:34:13.860Z"
      },
      {
        "duration": 41,
        "start_time": "2022-05-03T18:34:37.140Z"
      },
      {
        "duration": 19,
        "start_time": "2022-05-03T18:36:59.724Z"
      },
      {
        "duration": 36,
        "start_time": "2022-05-03T18:37:17.794Z"
      },
      {
        "duration": 24,
        "start_time": "2022-05-03T18:38:17.504Z"
      },
      {
        "duration": 27,
        "start_time": "2022-05-03T18:38:36.190Z"
      },
      {
        "duration": 34,
        "start_time": "2022-05-03T18:38:45.560Z"
      },
      {
        "duration": 34,
        "start_time": "2022-05-03T18:39:43.879Z"
      },
      {
        "duration": 6095,
        "start_time": "2022-05-03T19:26:03.608Z"
      },
      {
        "duration": 2813,
        "start_time": "2022-05-03T19:26:32.761Z"
      },
      {
        "duration": 78,
        "start_time": "2022-05-03T19:27:58.012Z"
      },
      {
        "duration": 1724,
        "start_time": "2022-05-03T19:28:07.960Z"
      },
      {
        "duration": 5,
        "start_time": "2022-05-03T19:28:47.393Z"
      },
      {
        "duration": 3890,
        "start_time": "2022-05-03T19:29:01.581Z"
      },
      {
        "duration": 3347,
        "start_time": "2022-05-03T19:30:01.201Z"
      },
      {
        "duration": 2851,
        "start_time": "2022-05-03T19:30:59.445Z"
      },
      {
        "duration": 5148,
        "start_time": "2022-05-03T19:31:20.888Z"
      },
      {
        "duration": 28486,
        "start_time": "2022-05-03T19:33:37.622Z"
      },
      {
        "duration": 34,
        "start_time": "2022-05-03T19:35:25.776Z"
      },
      {
        "duration": 8,
        "start_time": "2022-05-03T19:37:11.044Z"
      },
      {
        "duration": 7,
        "start_time": "2022-05-03T19:37:28.255Z"
      },
      {
        "duration": 9,
        "start_time": "2022-05-03T19:37:54.650Z"
      },
      {
        "duration": 37,
        "start_time": "2022-05-03T19:40:38.027Z"
      },
      {
        "duration": 55,
        "start_time": "2022-05-03T19:41:35.925Z"
      },
      {
        "duration": 15,
        "start_time": "2022-05-03T19:42:03.086Z"
      },
      {
        "duration": 17,
        "start_time": "2022-05-03T19:42:10.027Z"
      },
      {
        "duration": 18,
        "start_time": "2022-05-03T19:42:22.570Z"
      },
      {
        "duration": 23,
        "start_time": "2022-05-03T19:42:37.106Z"
      },
      {
        "duration": 21,
        "start_time": "2022-05-03T19:42:40.464Z"
      },
      {
        "duration": 30,
        "start_time": "2022-05-03T19:42:58.871Z"
      },
      {
        "duration": 8862,
        "start_time": "2022-05-03T19:43:04.490Z"
      },
      {
        "duration": 82,
        "start_time": "2022-05-04T10:32:51.724Z"
      },
      {
        "duration": 1744,
        "start_time": "2022-05-04T10:33:07.695Z"
      },
      {
        "duration": 173,
        "start_time": "2022-05-04T10:33:09.444Z"
      },
      {
        "duration": 24,
        "start_time": "2022-05-04T10:33:09.619Z"
      },
      {
        "duration": 25,
        "start_time": "2022-05-04T10:33:09.646Z"
      },
      {
        "duration": 7,
        "start_time": "2022-05-04T10:33:09.673Z"
      },
      {
        "duration": 41,
        "start_time": "2022-05-04T10:33:09.682Z"
      },
      {
        "duration": 23,
        "start_time": "2022-05-04T10:33:09.725Z"
      },
      {
        "duration": 22,
        "start_time": "2022-05-04T10:33:09.751Z"
      },
      {
        "duration": 36,
        "start_time": "2022-05-04T10:33:09.776Z"
      },
      {
        "duration": 54,
        "start_time": "2022-05-04T10:33:09.815Z"
      },
      {
        "duration": 7393,
        "start_time": "2022-05-04T10:33:09.871Z"
      },
      {
        "duration": 19,
        "start_time": "2022-05-04T10:33:17.267Z"
      },
      {
        "duration": 21,
        "start_time": "2022-05-04T10:33:17.288Z"
      },
      {
        "duration": 7,
        "start_time": "2022-05-04T10:33:17.314Z"
      },
      {
        "duration": 13,
        "start_time": "2022-05-04T10:33:17.323Z"
      },
      {
        "duration": 9,
        "start_time": "2022-05-04T10:33:17.339Z"
      },
      {
        "duration": 65,
        "start_time": "2022-05-04T10:33:17.351Z"
      },
      {
        "duration": 8,
        "start_time": "2022-05-04T10:33:17.418Z"
      },
      {
        "duration": 8,
        "start_time": "2022-05-04T10:33:17.428Z"
      },
      {
        "duration": 7,
        "start_time": "2022-05-04T10:33:17.439Z"
      },
      {
        "duration": 23,
        "start_time": "2022-05-04T10:33:17.449Z"
      },
      {
        "duration": 42,
        "start_time": "2022-05-04T10:33:17.475Z"
      },
      {
        "duration": 27,
        "start_time": "2022-05-04T10:33:17.520Z"
      },
      {
        "duration": 59,
        "start_time": "2022-05-04T10:33:17.550Z"
      },
      {
        "duration": 8717,
        "start_time": "2022-05-04T10:33:17.611Z"
      },
      {
        "duration": 4,
        "start_time": "2022-05-04T10:33:26.331Z"
      },
      {
        "duration": 7,
        "start_time": "2022-05-04T10:33:26.338Z"
      },
      {
        "duration": 9,
        "start_time": "2022-05-04T10:34:16.888Z"
      },
      {
        "duration": 100,
        "start_time": "2022-05-04T10:36:49.923Z"
      },
      {
        "duration": 44,
        "start_time": "2022-05-04T10:36:59.454Z"
      },
      {
        "duration": 19,
        "start_time": "2022-05-04T10:38:36.566Z"
      },
      {
        "duration": 19,
        "start_time": "2022-05-04T10:38:48.322Z"
      },
      {
        "duration": 18,
        "start_time": "2022-05-04T10:39:53.365Z"
      },
      {
        "duration": 21,
        "start_time": "2022-05-04T10:40:08.104Z"
      },
      {
        "duration": 19,
        "start_time": "2022-05-04T10:40:17.840Z"
      },
      {
        "duration": 20,
        "start_time": "2022-05-04T10:41:28.524Z"
      },
      {
        "duration": 6,
        "start_time": "2022-05-04T10:42:55.073Z"
      },
      {
        "duration": 11,
        "start_time": "2022-05-04T10:43:11.491Z"
      },
      {
        "duration": 16,
        "start_time": "2022-05-04T10:43:20.876Z"
      },
      {
        "duration": 213,
        "start_time": "2022-05-04T10:54:19.417Z"
      },
      {
        "duration": 202,
        "start_time": "2022-05-04T10:54:26.018Z"
      },
      {
        "duration": 8,
        "start_time": "2022-05-04T11:03:47.434Z"
      },
      {
        "duration": 11,
        "start_time": "2022-05-04T11:04:03.499Z"
      },
      {
        "duration": 10,
        "start_time": "2022-05-04T11:04:19.427Z"
      },
      {
        "duration": 2,
        "start_time": "2022-05-04T11:06:40.182Z"
      },
      {
        "duration": 37,
        "start_time": "2022-05-04T11:14:21.452Z"
      },
      {
        "duration": 38,
        "start_time": "2022-05-04T11:16:42.253Z"
      },
      {
        "duration": 10,
        "start_time": "2022-05-04T11:17:39.196Z"
      },
      {
        "duration": 26,
        "start_time": "2022-05-04T11:18:18.562Z"
      },
      {
        "duration": 15,
        "start_time": "2022-05-04T11:18:20.915Z"
      },
      {
        "duration": 2397,
        "start_time": "2022-05-04T11:34:54.129Z"
      },
      {
        "duration": 3285,
        "start_time": "2022-05-04T11:35:49.820Z"
      },
      {
        "duration": 3384,
        "start_time": "2022-05-04T11:36:08.467Z"
      },
      {
        "duration": 3272,
        "start_time": "2022-05-04T11:36:20.232Z"
      },
      {
        "duration": 29,
        "start_time": "2022-05-04T11:42:33.484Z"
      },
      {
        "duration": 25,
        "start_time": "2022-05-04T11:43:41.906Z"
      },
      {
        "duration": 338,
        "start_time": "2022-05-04T11:46:44.091Z"
      },
      {
        "duration": 272,
        "start_time": "2022-05-04T11:47:04.805Z"
      },
      {
        "duration": 26,
        "start_time": "2022-05-04T11:49:38.415Z"
      },
      {
        "duration": 36,
        "start_time": "2022-05-04T11:50:06.535Z"
      },
      {
        "duration": 22,
        "start_time": "2022-05-04T11:50:10.507Z"
      },
      {
        "duration": 26,
        "start_time": "2022-05-04T11:50:14.302Z"
      },
      {
        "duration": 16,
        "start_time": "2022-05-04T12:10:17.691Z"
      },
      {
        "duration": 125,
        "start_time": "2022-05-04T12:10:33.738Z"
      },
      {
        "duration": 547,
        "start_time": "2022-05-04T12:11:43.004Z"
      },
      {
        "duration": 439,
        "start_time": "2022-05-04T12:11:52.606Z"
      },
      {
        "duration": 14,
        "start_time": "2022-05-04T12:12:31.946Z"
      },
      {
        "duration": 60,
        "start_time": "2022-05-04T12:13:02.719Z"
      },
      {
        "duration": 315,
        "start_time": "2022-05-04T12:13:09.228Z"
      },
      {
        "duration": 340,
        "start_time": "2022-05-04T12:14:04.708Z"
      },
      {
        "duration": 409,
        "start_time": "2022-05-04T12:14:13.377Z"
      },
      {
        "duration": 317,
        "start_time": "2022-05-04T12:14:23.315Z"
      },
      {
        "duration": 329,
        "start_time": "2022-05-04T12:14:46.102Z"
      },
      {
        "duration": 399,
        "start_time": "2022-05-04T12:15:35.737Z"
      },
      {
        "duration": 298,
        "start_time": "2022-05-04T12:15:44.840Z"
      },
      {
        "duration": 293,
        "start_time": "2022-05-04T12:19:07.134Z"
      },
      {
        "duration": 407,
        "start_time": "2022-05-04T12:19:16.971Z"
      },
      {
        "duration": 18,
        "start_time": "2022-05-04T12:35:16.977Z"
      },
      {
        "duration": 2260,
        "start_time": "2022-05-04T12:38:47.921Z"
      },
      {
        "duration": 17,
        "start_time": "2022-05-04T12:52:30.716Z"
      },
      {
        "duration": 40,
        "start_time": "2022-05-04T12:53:09.074Z"
      },
      {
        "duration": 43,
        "start_time": "2022-05-04T12:54:17.659Z"
      },
      {
        "duration": 29,
        "start_time": "2022-05-04T12:56:00.551Z"
      },
      {
        "duration": 607,
        "start_time": "2022-05-04T13:30:43.747Z"
      },
      {
        "duration": 11,
        "start_time": "2022-05-04T13:31:11.755Z"
      },
      {
        "duration": 6,
        "start_time": "2022-05-04T13:38:59.290Z"
      },
      {
        "duration": 16,
        "start_time": "2022-05-04T13:53:34.688Z"
      },
      {
        "duration": 11,
        "start_time": "2022-05-04T13:53:37.915Z"
      },
      {
        "duration": 18,
        "start_time": "2022-05-04T14:58:36.008Z"
      },
      {
        "duration": 15,
        "start_time": "2022-05-04T15:04:46.461Z"
      },
      {
        "duration": 29,
        "start_time": "2022-05-04T15:05:52.939Z"
      },
      {
        "duration": 70,
        "start_time": "2022-05-05T07:18:52.745Z"
      },
      {
        "duration": 2149,
        "start_time": "2022-05-05T07:19:00.871Z"
      },
      {
        "duration": 73,
        "start_time": "2022-05-05T07:19:03.023Z"
      },
      {
        "duration": 22,
        "start_time": "2022-05-05T07:19:03.098Z"
      },
      {
        "duration": 32,
        "start_time": "2022-05-05T07:19:03.123Z"
      },
      {
        "duration": 29,
        "start_time": "2022-05-05T07:19:03.157Z"
      },
      {
        "duration": 15,
        "start_time": "2022-05-05T07:19:03.189Z"
      },
      {
        "duration": 21,
        "start_time": "2022-05-05T07:19:03.206Z"
      },
      {
        "duration": 54,
        "start_time": "2022-05-05T07:19:03.229Z"
      },
      {
        "duration": 7,
        "start_time": "2022-05-05T07:19:03.285Z"
      },
      {
        "duration": 48,
        "start_time": "2022-05-05T07:19:03.295Z"
      },
      {
        "duration": 6658,
        "start_time": "2022-05-05T07:19:03.345Z"
      },
      {
        "duration": 14,
        "start_time": "2022-05-05T07:19:10.005Z"
      },
      {
        "duration": 7,
        "start_time": "2022-05-05T07:19:10.022Z"
      },
      {
        "duration": 11,
        "start_time": "2022-05-05T07:19:10.031Z"
      },
      {
        "duration": 41,
        "start_time": "2022-05-05T07:19:10.044Z"
      },
      {
        "duration": 7,
        "start_time": "2022-05-05T07:19:13.819Z"
      },
      {
        "duration": 7,
        "start_time": "2022-05-05T07:19:21.727Z"
      },
      {
        "duration": 94,
        "start_time": "2022-05-05T07:20:35.504Z"
      },
      {
        "duration": 4,
        "start_time": "2022-05-05T07:20:40.967Z"
      },
      {
        "duration": 294,
        "start_time": "2022-05-05T07:20:40.974Z"
      },
      {
        "duration": 21,
        "start_time": "2022-05-05T07:20:41.271Z"
      },
      {
        "duration": 25,
        "start_time": "2022-05-05T07:20:41.295Z"
      },
      {
        "duration": 6,
        "start_time": "2022-05-05T07:20:41.323Z"
      },
      {
        "duration": 14,
        "start_time": "2022-05-05T07:20:41.332Z"
      },
      {
        "duration": 53,
        "start_time": "2022-05-05T07:20:41.348Z"
      },
      {
        "duration": 29,
        "start_time": "2022-05-05T07:20:41.403Z"
      },
      {
        "duration": 6,
        "start_time": "2022-05-05T07:20:41.435Z"
      },
      {
        "duration": 95,
        "start_time": "2022-05-05T07:20:41.444Z"
      },
      {
        "duration": 6816,
        "start_time": "2022-05-05T07:20:41.543Z"
      },
      {
        "duration": 25,
        "start_time": "2022-05-05T07:20:48.362Z"
      },
      {
        "duration": 9,
        "start_time": "2022-05-05T07:20:48.390Z"
      },
      {
        "duration": 7,
        "start_time": "2022-05-05T07:20:48.402Z"
      },
      {
        "duration": 16,
        "start_time": "2022-05-05T07:20:48.412Z"
      },
      {
        "duration": 9,
        "start_time": "2022-05-05T07:20:48.430Z"
      },
      {
        "duration": 36,
        "start_time": "2022-05-05T07:20:48.483Z"
      },
      {
        "duration": 7,
        "start_time": "2022-05-05T07:20:48.521Z"
      },
      {
        "duration": 11,
        "start_time": "2022-05-05T07:20:48.531Z"
      },
      {
        "duration": 41,
        "start_time": "2022-05-05T07:20:48.544Z"
      },
      {
        "duration": 27,
        "start_time": "2022-05-05T07:20:48.588Z"
      },
      {
        "duration": 10,
        "start_time": "2022-05-05T07:20:48.617Z"
      },
      {
        "duration": 263,
        "start_time": "2022-05-05T07:20:48.629Z"
      },
      {
        "duration": 35,
        "start_time": "2022-05-05T07:20:48.895Z"
      },
      {
        "duration": 68,
        "start_time": "2022-05-05T07:20:48.934Z"
      },
      {
        "duration": 12191,
        "start_time": "2022-05-05T07:20:49.005Z"
      },
      {
        "duration": 3,
        "start_time": "2022-05-05T07:21:01.199Z"
      },
      {
        "duration": 26,
        "start_time": "2022-05-05T07:21:01.205Z"
      },
      {
        "duration": 49,
        "start_time": "2022-05-05T07:21:01.236Z"
      },
      {
        "duration": 21,
        "start_time": "2022-05-05T07:21:01.288Z"
      },
      {
        "duration": 27,
        "start_time": "2022-05-05T07:21:01.311Z"
      },
      {
        "duration": 522,
        "start_time": "2022-05-05T07:21:01.340Z"
      },
      {
        "duration": 3079,
        "start_time": "2022-05-05T07:21:01.864Z"
      },
      {
        "duration": 55,
        "start_time": "2022-05-05T07:21:04.945Z"
      },
      {
        "duration": 43,
        "start_time": "2022-05-05T07:21:25.285Z"
      },
      {
        "duration": 9,
        "start_time": "2022-05-05T07:22:43.715Z"
      },
      {
        "duration": 31,
        "start_time": "2022-05-05T07:22:46.538Z"
      },
      {
        "duration": 11,
        "start_time": "2022-05-05T07:28:09.589Z"
      },
      {
        "duration": 11,
        "start_time": "2022-05-05T07:29:57.445Z"
      },
      {
        "duration": 4,
        "start_time": "2022-05-05T07:54:25.599Z"
      },
      {
        "duration": 64,
        "start_time": "2022-05-05T07:54:25.608Z"
      },
      {
        "duration": 22,
        "start_time": "2022-05-05T07:54:25.676Z"
      },
      {
        "duration": 24,
        "start_time": "2022-05-05T07:54:25.701Z"
      },
      {
        "duration": 7,
        "start_time": "2022-05-05T07:54:25.729Z"
      },
      {
        "duration": 55,
        "start_time": "2022-05-05T07:54:25.738Z"
      },
      {
        "duration": 20,
        "start_time": "2022-05-05T07:54:25.796Z"
      },
      {
        "duration": 31,
        "start_time": "2022-05-05T07:54:25.819Z"
      },
      {
        "duration": 32,
        "start_time": "2022-05-05T07:54:25.852Z"
      },
      {
        "duration": 51,
        "start_time": "2022-05-05T07:54:25.887Z"
      },
      {
        "duration": 6782,
        "start_time": "2022-05-05T07:54:26.413Z"
      },
      {
        "duration": 16,
        "start_time": "2022-05-05T07:54:33.197Z"
      },
      {
        "duration": 9,
        "start_time": "2022-05-05T07:54:33.216Z"
      },
      {
        "duration": 16,
        "start_time": "2022-05-05T07:54:33.227Z"
      },
      {
        "duration": 39,
        "start_time": "2022-05-05T07:54:33.245Z"
      },
      {
        "duration": 8,
        "start_time": "2022-05-05T07:54:33.287Z"
      },
      {
        "duration": 56,
        "start_time": "2022-05-05T07:54:33.298Z"
      },
      {
        "duration": 23,
        "start_time": "2022-05-05T07:54:33.358Z"
      },
      {
        "duration": 9,
        "start_time": "2022-05-05T07:54:33.384Z"
      },
      {
        "duration": 12,
        "start_time": "2022-05-05T07:54:33.395Z"
      },
      {
        "duration": 26,
        "start_time": "2022-05-05T07:54:33.410Z"
      },
      {
        "duration": 10,
        "start_time": "2022-05-05T07:54:33.438Z"
      },
      {
        "duration": 227,
        "start_time": "2022-05-05T07:54:33.481Z"
      },
      {
        "duration": 25,
        "start_time": "2022-05-05T07:54:33.711Z"
      },
      {
        "duration": 58,
        "start_time": "2022-05-05T07:54:33.738Z"
      },
      {
        "duration": 10122,
        "start_time": "2022-05-05T07:54:33.799Z"
      },
      {
        "duration": 11,
        "start_time": "2022-05-05T07:54:43.923Z"
      },
      {
        "duration": 67,
        "start_time": "2022-05-05T07:54:43.937Z"
      },
      {
        "duration": 23,
        "start_time": "2022-05-05T07:54:44.010Z"
      },
      {
        "duration": 59,
        "start_time": "2022-05-05T07:54:44.035Z"
      },
      {
        "duration": 510,
        "start_time": "2022-05-05T07:54:44.096Z"
      },
      {
        "duration": 3307,
        "start_time": "2022-05-05T07:54:44.608Z"
      },
      {
        "duration": 39,
        "start_time": "2022-05-05T07:54:47.918Z"
      },
      {
        "duration": 29,
        "start_time": "2022-05-05T07:54:47.960Z"
      },
      {
        "duration": 26,
        "start_time": "2022-05-05T07:54:47.991Z"
      },
      {
        "duration": 28,
        "start_time": "2022-05-05T07:54:48.019Z"
      },
      {
        "duration": 115,
        "start_time": "2022-05-05T07:56:24.652Z"
      },
      {
        "duration": 269,
        "start_time": "2022-05-05T07:56:36.415Z"
      },
      {
        "duration": 127,
        "start_time": "2022-05-05T07:56:53.890Z"
      },
      {
        "duration": 163,
        "start_time": "2022-05-05T07:56:59.940Z"
      },
      {
        "duration": 24,
        "start_time": "2022-05-05T07:57:19.315Z"
      },
      {
        "duration": 34,
        "start_time": "2022-05-05T07:59:25.383Z"
      },
      {
        "duration": 5,
        "start_time": "2022-05-05T08:03:00.868Z"
      },
      {
        "duration": 483,
        "start_time": "2022-05-05T08:03:26.605Z"
      },
      {
        "duration": 171,
        "start_time": "2022-05-05T08:03:52.730Z"
      },
      {
        "duration": 135,
        "start_time": "2022-05-05T08:03:57.644Z"
      },
      {
        "duration": 459,
        "start_time": "2022-05-05T08:04:04.916Z"
      },
      {
        "duration": 379,
        "start_time": "2022-05-05T08:04:19.915Z"
      },
      {
        "duration": 1062,
        "start_time": "2022-05-05T08:04:30.036Z"
      },
      {
        "duration": 238,
        "start_time": "2022-05-05T08:08:38.571Z"
      },
      {
        "duration": 407,
        "start_time": "2022-05-05T08:09:14.935Z"
      },
      {
        "duration": 25,
        "start_time": "2022-05-05T08:24:10.928Z"
      },
      {
        "duration": 24,
        "start_time": "2022-05-05T08:24:29.919Z"
      },
      {
        "duration": 25,
        "start_time": "2022-05-05T08:25:23.091Z"
      },
      {
        "duration": 24,
        "start_time": "2022-05-05T08:25:44.854Z"
      },
      {
        "duration": 427,
        "start_time": "2022-05-05T08:26:45.133Z"
      },
      {
        "duration": 433,
        "start_time": "2022-05-05T08:27:26.921Z"
      },
      {
        "duration": 137,
        "start_time": "2022-05-05T10:15:03.309Z"
      },
      {
        "duration": 23,
        "start_time": "2022-05-05T10:15:13.207Z"
      },
      {
        "duration": 432,
        "start_time": "2022-05-05T10:31:54.758Z"
      },
      {
        "duration": 322,
        "start_time": "2022-05-05T10:32:15.142Z"
      },
      {
        "duration": 23,
        "start_time": "2022-05-05T11:00:50.474Z"
      },
      {
        "duration": 393,
        "start_time": "2022-05-05T11:00:57.245Z"
      },
      {
        "duration": 13,
        "start_time": "2022-05-05T11:03:22.737Z"
      },
      {
        "duration": 4,
        "start_time": "2022-05-05T11:04:07.929Z"
      },
      {
        "duration": 20,
        "start_time": "2022-05-05T11:04:14.296Z"
      },
      {
        "duration": 15,
        "start_time": "2022-05-05T11:08:07.260Z"
      },
      {
        "duration": 20,
        "start_time": "2022-05-05T11:08:17.493Z"
      },
      {
        "duration": 19,
        "start_time": "2022-05-05T11:11:43.323Z"
      },
      {
        "duration": 27,
        "start_time": "2022-05-05T11:19:20.340Z"
      },
      {
        "duration": 20,
        "start_time": "2022-05-05T11:19:50.516Z"
      },
      {
        "duration": 692,
        "start_time": "2022-05-05T11:20:02.331Z"
      },
      {
        "duration": 412,
        "start_time": "2022-05-05T11:20:18.292Z"
      },
      {
        "duration": 17,
        "start_time": "2022-05-05T11:25:36.757Z"
      },
      {
        "duration": 20,
        "start_time": "2022-05-05T11:28:11.015Z"
      },
      {
        "duration": 18,
        "start_time": "2022-05-05T11:28:21.653Z"
      },
      {
        "duration": 20,
        "start_time": "2022-05-05T11:29:39.200Z"
      },
      {
        "duration": 20,
        "start_time": "2022-05-05T11:29:44.331Z"
      },
      {
        "duration": 412,
        "start_time": "2022-05-05T11:30:03.055Z"
      },
      {
        "duration": 520,
        "start_time": "2022-05-05T11:30:13.882Z"
      },
      {
        "duration": 1693,
        "start_time": "2022-05-05T11:34:00.113Z"
      },
      {
        "duration": 82,
        "start_time": "2022-05-05T11:34:01.810Z"
      },
      {
        "duration": 28,
        "start_time": "2022-05-05T11:34:01.896Z"
      },
      {
        "duration": 23,
        "start_time": "2022-05-05T11:34:01.927Z"
      },
      {
        "duration": 41,
        "start_time": "2022-05-05T11:34:01.952Z"
      },
      {
        "duration": 30,
        "start_time": "2022-05-05T11:34:01.997Z"
      },
      {
        "duration": 24,
        "start_time": "2022-05-05T11:34:02.030Z"
      },
      {
        "duration": 41,
        "start_time": "2022-05-05T11:34:02.056Z"
      },
      {
        "duration": 8,
        "start_time": "2022-05-05T11:34:02.100Z"
      },
      {
        "duration": 86,
        "start_time": "2022-05-05T11:34:02.112Z"
      },
      {
        "duration": 7349,
        "start_time": "2022-05-05T11:34:02.201Z"
      },
      {
        "duration": 14,
        "start_time": "2022-05-05T11:34:09.553Z"
      },
      {
        "duration": 21,
        "start_time": "2022-05-05T11:34:09.570Z"
      },
      {
        "duration": 7,
        "start_time": "2022-05-05T11:34:09.599Z"
      },
      {
        "duration": 9,
        "start_time": "2022-05-05T11:34:09.609Z"
      },
      {
        "duration": 9,
        "start_time": "2022-05-05T11:34:09.620Z"
      },
      {
        "duration": 76,
        "start_time": "2022-05-05T11:34:09.631Z"
      },
      {
        "duration": 6,
        "start_time": "2022-05-05T11:34:09.709Z"
      },
      {
        "duration": 8,
        "start_time": "2022-05-05T11:34:09.717Z"
      },
      {
        "duration": 7,
        "start_time": "2022-05-05T11:34:09.728Z"
      },
      {
        "duration": 67,
        "start_time": "2022-05-05T11:34:09.738Z"
      },
      {
        "duration": 10,
        "start_time": "2022-05-05T11:34:09.807Z"
      },
      {
        "duration": 673,
        "start_time": "2022-05-05T11:34:09.819Z"
      },
      {
        "duration": 25,
        "start_time": "2022-05-05T11:34:10.496Z"
      },
      {
        "duration": 29,
        "start_time": "2022-05-05T11:34:10.522Z"
      },
      {
        "duration": 8798,
        "start_time": "2022-05-05T11:34:10.584Z"
      },
      {
        "duration": 16,
        "start_time": "2022-05-05T11:34:19.385Z"
      },
      {
        "duration": 62,
        "start_time": "2022-05-05T11:34:19.407Z"
      },
      {
        "duration": 33,
        "start_time": "2022-05-05T11:34:19.471Z"
      },
      {
        "duration": 39,
        "start_time": "2022-05-05T11:34:19.506Z"
      },
      {
        "duration": 582,
        "start_time": "2022-05-05T11:34:19.548Z"
      },
      {
        "duration": 3157,
        "start_time": "2022-05-05T11:34:20.133Z"
      },
      {
        "duration": 46,
        "start_time": "2022-05-05T11:34:23.293Z"
      },
      {
        "duration": 9,
        "start_time": "2022-05-05T11:34:23.341Z"
      },
      {
        "duration": 55,
        "start_time": "2022-05-05T11:34:23.352Z"
      },
      {
        "duration": 30,
        "start_time": "2022-05-05T11:34:23.411Z"
      },
      {
        "duration": 857,
        "start_time": "2022-05-05T11:34:23.443Z"
      },
      {
        "duration": 24,
        "start_time": "2022-05-05T11:34:24.304Z"
      },
      {
        "duration": 531,
        "start_time": "2022-05-05T11:34:24.330Z"
      },
      {
        "duration": 39,
        "start_time": "2022-05-05T11:34:24.864Z"
      },
      {
        "duration": 345,
        "start_time": "2022-05-05T11:34:24.905Z"
      },
      {
        "duration": 13,
        "start_time": "2022-05-05T11:34:25.253Z"
      },
      {
        "duration": 40,
        "start_time": "2022-05-05T11:34:25.268Z"
      },
      {
        "duration": 5,
        "start_time": "2022-05-05T11:34:50.728Z"
      },
      {
        "duration": 4,
        "start_time": "2022-05-05T11:34:58.796Z"
      },
      {
        "duration": 67,
        "start_time": "2022-05-05T11:34:58.803Z"
      },
      {
        "duration": 33,
        "start_time": "2022-05-05T11:34:58.872Z"
      },
      {
        "duration": 22,
        "start_time": "2022-05-05T11:34:58.908Z"
      },
      {
        "duration": 6,
        "start_time": "2022-05-05T11:34:58.933Z"
      },
      {
        "duration": 18,
        "start_time": "2022-05-05T11:34:58.985Z"
      },
      {
        "duration": 23,
        "start_time": "2022-05-05T11:34:59.006Z"
      },
      {
        "duration": 56,
        "start_time": "2022-05-05T11:34:59.031Z"
      },
      {
        "duration": 9,
        "start_time": "2022-05-05T11:34:59.090Z"
      },
      {
        "duration": 49,
        "start_time": "2022-05-05T11:34:59.101Z"
      },
      {
        "duration": 6945,
        "start_time": "2022-05-05T11:34:59.154Z"
      },
      {
        "duration": 16,
        "start_time": "2022-05-05T11:35:06.102Z"
      },
      {
        "duration": 9,
        "start_time": "2022-05-05T11:35:06.121Z"
      },
      {
        "duration": 14,
        "start_time": "2022-05-05T11:35:06.132Z"
      },
      {
        "duration": 12,
        "start_time": "2022-05-05T11:35:06.185Z"
      },
      {
        "duration": 19,
        "start_time": "2022-05-05T11:35:06.200Z"
      },
      {
        "duration": 40,
        "start_time": "2022-05-05T11:35:06.221Z"
      },
      {
        "duration": 26,
        "start_time": "2022-05-05T11:35:06.263Z"
      },
      {
        "duration": 20,
        "start_time": "2022-05-05T11:35:06.293Z"
      },
      {
        "duration": 7,
        "start_time": "2022-05-05T11:35:06.316Z"
      },
      {
        "duration": 27,
        "start_time": "2022-05-05T11:35:06.325Z"
      },
      {
        "duration": 36,
        "start_time": "2022-05-05T11:35:06.355Z"
      },
      {
        "duration": 245,
        "start_time": "2022-05-05T11:35:06.394Z"
      },
      {
        "duration": 25,
        "start_time": "2022-05-05T11:35:06.641Z"
      },
      {
        "duration": 49,
        "start_time": "2022-05-05T11:35:06.669Z"
      },
      {
        "duration": 8688,
        "start_time": "2022-05-05T11:35:06.721Z"
      },
      {
        "duration": 11,
        "start_time": "2022-05-05T11:35:15.411Z"
      },
      {
        "duration": 61,
        "start_time": "2022-05-05T11:35:15.424Z"
      },
      {
        "duration": 22,
        "start_time": "2022-05-05T11:35:15.493Z"
      },
      {
        "duration": 39,
        "start_time": "2022-05-05T11:35:15.517Z"
      },
      {
        "duration": 531,
        "start_time": "2022-05-05T11:35:15.558Z"
      },
      {
        "duration": 3028,
        "start_time": "2022-05-05T11:35:16.092Z"
      },
      {
        "duration": 38,
        "start_time": "2022-05-05T11:35:19.123Z"
      },
      {
        "duration": 9,
        "start_time": "2022-05-05T11:35:19.193Z"
      },
      {
        "duration": 21,
        "start_time": "2022-05-05T11:35:19.204Z"
      },
      {
        "duration": 23,
        "start_time": "2022-05-05T11:35:19.227Z"
      },
      {
        "duration": 852,
        "start_time": "2022-05-05T11:35:19.289Z"
      },
      {
        "duration": 39,
        "start_time": "2022-05-05T11:35:20.143Z"
      },
      {
        "duration": 504,
        "start_time": "2022-05-05T11:35:20.184Z"
      },
      {
        "duration": 36,
        "start_time": "2022-05-05T11:35:20.691Z"
      },
      {
        "duration": 343,
        "start_time": "2022-05-05T11:35:20.729Z"
      },
      {
        "duration": 24,
        "start_time": "2022-05-05T11:35:21.074Z"
      },
      {
        "duration": 18,
        "start_time": "2022-05-05T11:35:21.101Z"
      },
      {
        "duration": 38,
        "start_time": "2022-05-05T11:37:15.818Z"
      },
      {
        "duration": 5,
        "start_time": "2022-05-05T11:38:13.877Z"
      },
      {
        "duration": 77,
        "start_time": "2022-05-05T11:38:13.886Z"
      },
      {
        "duration": 40,
        "start_time": "2022-05-05T11:38:13.966Z"
      },
      {
        "duration": 25,
        "start_time": "2022-05-05T11:38:14.009Z"
      },
      {
        "duration": 7,
        "start_time": "2022-05-05T11:38:14.037Z"
      },
      {
        "duration": 61,
        "start_time": "2022-05-05T11:38:14.046Z"
      },
      {
        "duration": 20,
        "start_time": "2022-05-05T11:38:14.110Z"
      },
      {
        "duration": 20,
        "start_time": "2022-05-05T11:38:14.132Z"
      },
      {
        "duration": 37,
        "start_time": "2022-05-05T11:38:14.154Z"
      },
      {
        "duration": 58,
        "start_time": "2022-05-05T11:38:14.194Z"
      },
      {
        "duration": 7364,
        "start_time": "2022-05-05T11:38:14.256Z"
      },
      {
        "duration": 15,
        "start_time": "2022-05-05T11:38:21.623Z"
      },
      {
        "duration": 7,
        "start_time": "2022-05-05T11:38:21.641Z"
      },
      {
        "duration": 37,
        "start_time": "2022-05-05T11:38:21.650Z"
      },
      {
        "duration": 11,
        "start_time": "2022-05-05T11:38:21.690Z"
      },
      {
        "duration": 10,
        "start_time": "2022-05-05T11:38:21.703Z"
      },
      {
        "duration": 46,
        "start_time": "2022-05-05T11:38:21.715Z"
      },
      {
        "duration": 29,
        "start_time": "2022-05-05T11:38:21.764Z"
      },
      {
        "duration": 20,
        "start_time": "2022-05-05T11:38:21.796Z"
      },
      {
        "duration": 11,
        "start_time": "2022-05-05T11:38:21.819Z"
      },
      {
        "duration": 23,
        "start_time": "2022-05-05T11:38:21.832Z"
      },
      {
        "duration": 15,
        "start_time": "2022-05-05T11:38:21.886Z"
      },
      {
        "duration": 241,
        "start_time": "2022-05-05T11:38:21.903Z"
      },
      {
        "duration": 39,
        "start_time": "2022-05-05T11:38:22.146Z"
      },
      {
        "duration": 32,
        "start_time": "2022-05-05T11:38:22.189Z"
      },
      {
        "duration": 8552,
        "start_time": "2022-05-05T11:38:22.223Z"
      },
      {
        "duration": 15,
        "start_time": "2022-05-05T11:38:30.783Z"
      },
      {
        "duration": 70,
        "start_time": "2022-05-05T11:38:30.802Z"
      },
      {
        "duration": 31,
        "start_time": "2022-05-05T11:38:30.877Z"
      },
      {
        "duration": 44,
        "start_time": "2022-05-05T11:38:30.911Z"
      },
      {
        "duration": 514,
        "start_time": "2022-05-05T11:38:30.957Z"
      },
      {
        "duration": 3068,
        "start_time": "2022-05-05T11:38:31.474Z"
      },
      {
        "duration": 59,
        "start_time": "2022-05-05T11:38:34.544Z"
      },
      {
        "duration": 8,
        "start_time": "2022-05-05T11:38:34.605Z"
      },
      {
        "duration": 20,
        "start_time": "2022-05-05T11:38:34.615Z"
      },
      {
        "duration": 52,
        "start_time": "2022-05-05T11:38:34.637Z"
      },
      {
        "duration": 875,
        "start_time": "2022-05-05T11:38:34.691Z"
      },
      {
        "duration": 40,
        "start_time": "2022-05-05T11:38:35.568Z"
      },
      {
        "duration": 494,
        "start_time": "2022-05-05T11:38:35.611Z"
      },
      {
        "duration": 22,
        "start_time": "2022-05-05T11:38:36.107Z"
      },
      {
        "duration": 365,
        "start_time": "2022-05-05T11:38:36.131Z"
      },
      {
        "duration": 15,
        "start_time": "2022-05-05T11:38:36.498Z"
      },
      {
        "duration": 18,
        "start_time": "2022-05-05T11:38:36.516Z"
      },
      {
        "duration": 4,
        "start_time": "2022-05-05T11:40:09.676Z"
      },
      {
        "duration": 78,
        "start_time": "2022-05-05T11:40:09.686Z"
      },
      {
        "duration": 34,
        "start_time": "2022-05-05T11:40:09.768Z"
      },
      {
        "duration": 23,
        "start_time": "2022-05-05T11:40:09.805Z"
      },
      {
        "duration": 6,
        "start_time": "2022-05-05T11:40:09.831Z"
      },
      {
        "duration": 63,
        "start_time": "2022-05-05T11:40:09.839Z"
      },
      {
        "duration": 21,
        "start_time": "2022-05-05T11:40:09.905Z"
      },
      {
        "duration": 19,
        "start_time": "2022-05-05T11:40:09.928Z"
      },
      {
        "duration": 41,
        "start_time": "2022-05-05T11:40:09.950Z"
      },
      {
        "duration": 53,
        "start_time": "2022-05-05T11:40:09.994Z"
      },
      {
        "duration": 6926,
        "start_time": "2022-05-05T11:40:10.051Z"
      },
      {
        "duration": 17,
        "start_time": "2022-05-05T11:40:16.983Z"
      },
      {
        "duration": 7,
        "start_time": "2022-05-05T11:40:17.003Z"
      },
      {
        "duration": 9,
        "start_time": "2022-05-05T11:40:17.012Z"
      },
      {
        "duration": 8,
        "start_time": "2022-05-05T11:40:17.023Z"
      },
      {
        "duration": 8,
        "start_time": "2022-05-05T11:40:17.033Z"
      },
      {
        "duration": 40,
        "start_time": "2022-05-05T11:40:17.087Z"
      },
      {
        "duration": 6,
        "start_time": "2022-05-05T11:40:17.130Z"
      },
      {
        "duration": 10,
        "start_time": "2022-05-05T11:40:17.138Z"
      },
      {
        "duration": 8,
        "start_time": "2022-05-05T11:40:17.186Z"
      },
      {
        "duration": 25,
        "start_time": "2022-05-05T11:40:17.198Z"
      },
      {
        "duration": 10,
        "start_time": "2022-05-05T11:40:17.225Z"
      },
      {
        "duration": 254,
        "start_time": "2022-05-05T11:40:17.237Z"
      },
      {
        "duration": 26,
        "start_time": "2022-05-05T11:40:17.494Z"
      },
      {
        "duration": 28,
        "start_time": "2022-05-05T11:40:17.523Z"
      },
      {
        "duration": 8241,
        "start_time": "2022-05-05T11:40:17.553Z"
      },
      {
        "duration": 11,
        "start_time": "2022-05-05T11:40:25.797Z"
      },
      {
        "duration": 37,
        "start_time": "2022-05-05T11:40:25.810Z"
      },
      {
        "duration": 51,
        "start_time": "2022-05-05T11:40:25.852Z"
      },
      {
        "duration": 27,
        "start_time": "2022-05-05T11:40:25.905Z"
      },
      {
        "duration": 559,
        "start_time": "2022-05-05T11:40:25.934Z"
      },
      {
        "duration": 3006,
        "start_time": "2022-05-05T11:40:26.497Z"
      },
      {
        "duration": 42,
        "start_time": "2022-05-05T11:40:29.505Z"
      },
      {
        "duration": 42,
        "start_time": "2022-05-05T11:40:29.550Z"
      },
      {
        "duration": 23,
        "start_time": "2022-05-05T11:40:29.594Z"
      },
      {
        "duration": 30,
        "start_time": "2022-05-05T11:40:29.620Z"
      },
      {
        "duration": 896,
        "start_time": "2022-05-05T11:40:29.653Z"
      },
      {
        "duration": 40,
        "start_time": "2022-05-05T11:40:30.551Z"
      },
      {
        "duration": 453,
        "start_time": "2022-05-05T11:40:30.593Z"
      },
      {
        "duration": 39,
        "start_time": "2022-05-05T11:40:31.049Z"
      },
      {
        "duration": 338,
        "start_time": "2022-05-05T11:40:31.092Z"
      },
      {
        "duration": 15,
        "start_time": "2022-05-05T11:40:31.433Z"
      },
      {
        "duration": 53,
        "start_time": "2022-05-05T11:40:31.450Z"
      },
      {
        "duration": 4,
        "start_time": "2022-05-05T12:08:21.660Z"
      },
      {
        "duration": 1652,
        "start_time": "2022-05-05T12:08:38.802Z"
      },
      {
        "duration": 87,
        "start_time": "2022-05-05T12:08:40.457Z"
      },
      {
        "duration": 35,
        "start_time": "2022-05-05T12:08:40.547Z"
      },
      {
        "duration": 30,
        "start_time": "2022-05-05T12:08:40.586Z"
      },
      {
        "duration": 7,
        "start_time": "2022-05-05T12:08:40.620Z"
      },
      {
        "duration": 57,
        "start_time": "2022-05-05T12:08:40.629Z"
      },
      {
        "duration": 39,
        "start_time": "2022-05-05T12:08:40.689Z"
      },
      {
        "duration": 42,
        "start_time": "2022-05-05T12:08:40.731Z"
      },
      {
        "duration": 20,
        "start_time": "2022-05-05T12:08:40.775Z"
      },
      {
        "duration": 91,
        "start_time": "2022-05-05T12:08:40.798Z"
      },
      {
        "duration": 274,
        "start_time": "2022-05-05T12:08:40.892Z"
      },
      {
        "duration": 0,
        "start_time": "2022-05-05T12:08:41.171Z"
      },
      {
        "duration": 0,
        "start_time": "2022-05-05T12:08:41.173Z"
      },
      {
        "duration": 0,
        "start_time": "2022-05-05T12:08:41.186Z"
      },
      {
        "duration": 0,
        "start_time": "2022-05-05T12:08:41.188Z"
      },
      {
        "duration": 0,
        "start_time": "2022-05-05T12:08:41.191Z"
      },
      {
        "duration": 0,
        "start_time": "2022-05-05T12:08:41.193Z"
      },
      {
        "duration": 0,
        "start_time": "2022-05-05T12:08:41.194Z"
      },
      {
        "duration": 0,
        "start_time": "2022-05-05T12:08:41.197Z"
      },
      {
        "duration": 0,
        "start_time": "2022-05-05T12:08:41.199Z"
      },
      {
        "duration": 0,
        "start_time": "2022-05-05T12:08:41.201Z"
      },
      {
        "duration": 0,
        "start_time": "2022-05-05T12:08:41.203Z"
      },
      {
        "duration": 0,
        "start_time": "2022-05-05T12:08:41.205Z"
      },
      {
        "duration": 0,
        "start_time": "2022-05-05T12:08:41.207Z"
      },
      {
        "duration": 0,
        "start_time": "2022-05-05T12:08:41.209Z"
      },
      {
        "duration": 0,
        "start_time": "2022-05-05T12:08:41.211Z"
      },
      {
        "duration": 0,
        "start_time": "2022-05-05T12:08:41.213Z"
      },
      {
        "duration": 0,
        "start_time": "2022-05-05T12:08:41.215Z"
      },
      {
        "duration": 0,
        "start_time": "2022-05-05T12:08:41.216Z"
      },
      {
        "duration": 0,
        "start_time": "2022-05-05T12:08:41.218Z"
      },
      {
        "duration": 0,
        "start_time": "2022-05-05T12:08:41.220Z"
      },
      {
        "duration": 0,
        "start_time": "2022-05-05T12:08:41.221Z"
      },
      {
        "duration": 0,
        "start_time": "2022-05-05T12:08:41.222Z"
      },
      {
        "duration": 0,
        "start_time": "2022-05-05T12:08:41.224Z"
      },
      {
        "duration": 0,
        "start_time": "2022-05-05T12:08:41.225Z"
      },
      {
        "duration": 0,
        "start_time": "2022-05-05T12:08:41.226Z"
      },
      {
        "duration": 0,
        "start_time": "2022-05-05T12:08:41.228Z"
      },
      {
        "duration": 0,
        "start_time": "2022-05-05T12:08:41.287Z"
      },
      {
        "duration": 0,
        "start_time": "2022-05-05T12:08:41.289Z"
      },
      {
        "duration": 0,
        "start_time": "2022-05-05T12:08:41.291Z"
      },
      {
        "duration": 0,
        "start_time": "2022-05-05T12:08:41.293Z"
      },
      {
        "duration": 0,
        "start_time": "2022-05-05T12:08:41.297Z"
      },
      {
        "duration": 0,
        "start_time": "2022-05-05T12:08:41.299Z"
      },
      {
        "duration": 4,
        "start_time": "2022-05-05T12:09:14.927Z"
      },
      {
        "duration": 82,
        "start_time": "2022-05-05T12:09:14.936Z"
      },
      {
        "duration": 20,
        "start_time": "2022-05-05T12:09:15.020Z"
      },
      {
        "duration": 64,
        "start_time": "2022-05-05T12:09:15.043Z"
      },
      {
        "duration": 7,
        "start_time": "2022-05-05T12:09:15.110Z"
      },
      {
        "duration": 18,
        "start_time": "2022-05-05T12:09:15.119Z"
      },
      {
        "duration": 62,
        "start_time": "2022-05-05T12:09:15.139Z"
      },
      {
        "duration": 19,
        "start_time": "2022-05-05T12:09:15.204Z"
      },
      {
        "duration": 6,
        "start_time": "2022-05-05T12:09:15.226Z"
      },
      {
        "duration": 99,
        "start_time": "2022-05-05T12:09:15.235Z"
      },
      {
        "duration": 52,
        "start_time": "2022-05-05T12:09:15.338Z"
      },
      {
        "duration": 0,
        "start_time": "2022-05-05T12:09:15.394Z"
      },
      {
        "duration": 0,
        "start_time": "2022-05-05T12:09:15.396Z"
      },
      {
        "duration": 0,
        "start_time": "2022-05-05T12:09:15.397Z"
      },
      {
        "duration": 0,
        "start_time": "2022-05-05T12:09:15.399Z"
      },
      {
        "duration": 0,
        "start_time": "2022-05-05T12:09:15.400Z"
      },
      {
        "duration": 0,
        "start_time": "2022-05-05T12:09:15.401Z"
      },
      {
        "duration": 0,
        "start_time": "2022-05-05T12:09:15.402Z"
      },
      {
        "duration": 0,
        "start_time": "2022-05-05T12:09:15.404Z"
      },
      {
        "duration": 0,
        "start_time": "2022-05-05T12:09:15.406Z"
      },
      {
        "duration": 0,
        "start_time": "2022-05-05T12:09:15.407Z"
      },
      {
        "duration": 0,
        "start_time": "2022-05-05T12:09:15.408Z"
      },
      {
        "duration": 0,
        "start_time": "2022-05-05T12:09:15.410Z"
      },
      {
        "duration": 0,
        "start_time": "2022-05-05T12:09:15.411Z"
      },
      {
        "duration": 0,
        "start_time": "2022-05-05T12:09:15.413Z"
      },
      {
        "duration": 0,
        "start_time": "2022-05-05T12:09:15.414Z"
      },
      {
        "duration": 0,
        "start_time": "2022-05-05T12:09:15.415Z"
      },
      {
        "duration": 0,
        "start_time": "2022-05-05T12:09:15.416Z"
      },
      {
        "duration": 0,
        "start_time": "2022-05-05T12:09:15.418Z"
      },
      {
        "duration": 0,
        "start_time": "2022-05-05T12:09:15.419Z"
      },
      {
        "duration": 0,
        "start_time": "2022-05-05T12:09:15.420Z"
      },
      {
        "duration": 0,
        "start_time": "2022-05-05T12:09:15.422Z"
      },
      {
        "duration": 0,
        "start_time": "2022-05-05T12:09:15.424Z"
      },
      {
        "duration": 0,
        "start_time": "2022-05-05T12:09:15.426Z"
      },
      {
        "duration": 0,
        "start_time": "2022-05-05T12:09:15.428Z"
      },
      {
        "duration": 0,
        "start_time": "2022-05-05T12:09:15.430Z"
      },
      {
        "duration": 0,
        "start_time": "2022-05-05T12:09:15.432Z"
      },
      {
        "duration": 0,
        "start_time": "2022-05-05T12:09:15.487Z"
      },
      {
        "duration": 0,
        "start_time": "2022-05-05T12:09:15.489Z"
      },
      {
        "duration": 0,
        "start_time": "2022-05-05T12:09:15.492Z"
      },
      {
        "duration": 0,
        "start_time": "2022-05-05T12:09:15.498Z"
      },
      {
        "duration": 0,
        "start_time": "2022-05-05T12:09:15.499Z"
      },
      {
        "duration": 1,
        "start_time": "2022-05-05T12:09:15.500Z"
      },
      {
        "duration": 4,
        "start_time": "2022-05-05T12:10:18.807Z"
      },
      {
        "duration": 1724,
        "start_time": "2022-05-05T12:17:10.433Z"
      },
      {
        "duration": 78,
        "start_time": "2022-05-05T12:17:12.159Z"
      },
      {
        "duration": 19,
        "start_time": "2022-05-05T12:17:12.240Z"
      },
      {
        "duration": 31,
        "start_time": "2022-05-05T12:17:12.283Z"
      },
      {
        "duration": 7,
        "start_time": "2022-05-05T12:17:12.316Z"
      },
      {
        "duration": 28,
        "start_time": "2022-05-05T12:17:12.325Z"
      },
      {
        "duration": 34,
        "start_time": "2022-05-05T12:17:12.355Z"
      },
      {
        "duration": 35,
        "start_time": "2022-05-05T12:17:12.392Z"
      },
      {
        "duration": 7,
        "start_time": "2022-05-05T12:17:12.429Z"
      },
      {
        "duration": 75,
        "start_time": "2022-05-05T12:17:12.439Z"
      },
      {
        "duration": 190,
        "start_time": "2022-05-05T12:17:12.516Z"
      },
      {
        "duration": 0,
        "start_time": "2022-05-05T12:17:12.709Z"
      },
      {
        "duration": 0,
        "start_time": "2022-05-05T12:17:12.711Z"
      },
      {
        "duration": 0,
        "start_time": "2022-05-05T12:17:12.712Z"
      },
      {
        "duration": 0,
        "start_time": "2022-05-05T12:17:12.713Z"
      },
      {
        "duration": 0,
        "start_time": "2022-05-05T12:17:12.715Z"
      },
      {
        "duration": 0,
        "start_time": "2022-05-05T12:17:12.717Z"
      },
      {
        "duration": 0,
        "start_time": "2022-05-05T12:17:12.718Z"
      },
      {
        "duration": 0,
        "start_time": "2022-05-05T12:17:12.720Z"
      },
      {
        "duration": 0,
        "start_time": "2022-05-05T12:17:12.722Z"
      },
      {
        "duration": 0,
        "start_time": "2022-05-05T12:17:12.723Z"
      },
      {
        "duration": 0,
        "start_time": "2022-05-05T12:17:12.725Z"
      },
      {
        "duration": 0,
        "start_time": "2022-05-05T12:17:12.726Z"
      },
      {
        "duration": 0,
        "start_time": "2022-05-05T12:17:12.728Z"
      },
      {
        "duration": 0,
        "start_time": "2022-05-05T12:17:12.730Z"
      },
      {
        "duration": 0,
        "start_time": "2022-05-05T12:17:12.731Z"
      },
      {
        "duration": 0,
        "start_time": "2022-05-05T12:17:12.733Z"
      },
      {
        "duration": 0,
        "start_time": "2022-05-05T12:17:12.735Z"
      },
      {
        "duration": 0,
        "start_time": "2022-05-05T12:17:12.736Z"
      },
      {
        "duration": 0,
        "start_time": "2022-05-05T12:17:12.791Z"
      },
      {
        "duration": 0,
        "start_time": "2022-05-05T12:17:12.793Z"
      },
      {
        "duration": 0,
        "start_time": "2022-05-05T12:17:12.794Z"
      },
      {
        "duration": 0,
        "start_time": "2022-05-05T12:17:12.798Z"
      },
      {
        "duration": 0,
        "start_time": "2022-05-05T12:17:12.799Z"
      },
      {
        "duration": 0,
        "start_time": "2022-05-05T12:17:12.800Z"
      },
      {
        "duration": 0,
        "start_time": "2022-05-05T12:17:12.802Z"
      },
      {
        "duration": 0,
        "start_time": "2022-05-05T12:17:12.804Z"
      },
      {
        "duration": 0,
        "start_time": "2022-05-05T12:17:12.805Z"
      },
      {
        "duration": 0,
        "start_time": "2022-05-05T12:17:12.806Z"
      },
      {
        "duration": 0,
        "start_time": "2022-05-05T12:17:12.808Z"
      },
      {
        "duration": 0,
        "start_time": "2022-05-05T12:17:12.810Z"
      },
      {
        "duration": 0,
        "start_time": "2022-05-05T12:17:12.811Z"
      },
      {
        "duration": 0,
        "start_time": "2022-05-05T12:17:12.812Z"
      },
      {
        "duration": 5,
        "start_time": "2022-05-05T12:18:22.601Z"
      },
      {
        "duration": 1900,
        "start_time": "2022-05-05T12:18:31.337Z"
      },
      {
        "duration": 110,
        "start_time": "2022-05-05T12:18:33.241Z"
      },
      {
        "duration": 42,
        "start_time": "2022-05-05T12:18:33.354Z"
      },
      {
        "duration": 22,
        "start_time": "2022-05-05T12:18:33.400Z"
      },
      {
        "duration": 7,
        "start_time": "2022-05-05T12:18:33.424Z"
      },
      {
        "duration": 58,
        "start_time": "2022-05-05T12:18:33.433Z"
      },
      {
        "duration": 28,
        "start_time": "2022-05-05T12:18:33.494Z"
      },
      {
        "duration": 23,
        "start_time": "2022-05-05T12:18:33.525Z"
      },
      {
        "duration": 8,
        "start_time": "2022-05-05T12:18:33.551Z"
      },
      {
        "duration": 50,
        "start_time": "2022-05-05T12:18:33.592Z"
      },
      {
        "duration": 227,
        "start_time": "2022-05-05T12:18:33.645Z"
      },
      {
        "duration": 0,
        "start_time": "2022-05-05T12:18:33.875Z"
      },
      {
        "duration": 0,
        "start_time": "2022-05-05T12:18:33.877Z"
      },
      {
        "duration": 0,
        "start_time": "2022-05-05T12:18:33.882Z"
      },
      {
        "duration": 0,
        "start_time": "2022-05-05T12:18:33.887Z"
      },
      {
        "duration": 0,
        "start_time": "2022-05-05T12:18:33.888Z"
      },
      {
        "duration": 0,
        "start_time": "2022-05-05T12:18:33.890Z"
      },
      {
        "duration": 0,
        "start_time": "2022-05-05T12:18:33.892Z"
      },
      {
        "duration": 0,
        "start_time": "2022-05-05T12:18:33.897Z"
      },
      {
        "duration": 0,
        "start_time": "2022-05-05T12:18:33.900Z"
      },
      {
        "duration": 1,
        "start_time": "2022-05-05T12:18:33.902Z"
      },
      {
        "duration": 0,
        "start_time": "2022-05-05T12:18:33.907Z"
      },
      {
        "duration": 0,
        "start_time": "2022-05-05T12:18:33.909Z"
      },
      {
        "duration": 0,
        "start_time": "2022-05-05T12:18:33.911Z"
      },
      {
        "duration": 0,
        "start_time": "2022-05-05T12:18:33.912Z"
      },
      {
        "duration": 1,
        "start_time": "2022-05-05T12:18:33.913Z"
      },
      {
        "duration": 0,
        "start_time": "2022-05-05T12:18:33.916Z"
      },
      {
        "duration": 0,
        "start_time": "2022-05-05T12:18:33.917Z"
      },
      {
        "duration": 0,
        "start_time": "2022-05-05T12:18:33.919Z"
      },
      {
        "duration": 0,
        "start_time": "2022-05-05T12:18:33.920Z"
      },
      {
        "duration": 0,
        "start_time": "2022-05-05T12:18:33.921Z"
      },
      {
        "duration": 0,
        "start_time": "2022-05-05T12:18:33.922Z"
      },
      {
        "duration": 0,
        "start_time": "2022-05-05T12:18:33.924Z"
      },
      {
        "duration": 0,
        "start_time": "2022-05-05T12:18:33.925Z"
      },
      {
        "duration": 0,
        "start_time": "2022-05-05T12:18:33.988Z"
      },
      {
        "duration": 0,
        "start_time": "2022-05-05T12:18:33.994Z"
      },
      {
        "duration": 0,
        "start_time": "2022-05-05T12:18:33.999Z"
      },
      {
        "duration": 0,
        "start_time": "2022-05-05T12:18:34.001Z"
      },
      {
        "duration": 0,
        "start_time": "2022-05-05T12:18:34.011Z"
      },
      {
        "duration": 0,
        "start_time": "2022-05-05T12:18:34.013Z"
      },
      {
        "duration": 0,
        "start_time": "2022-05-05T12:18:34.015Z"
      },
      {
        "duration": 0,
        "start_time": "2022-05-05T12:18:34.017Z"
      },
      {
        "duration": 0,
        "start_time": "2022-05-05T12:18:34.019Z"
      },
      {
        "duration": 5,
        "start_time": "2022-05-05T12:19:02.195Z"
      },
      {
        "duration": 1625,
        "start_time": "2022-05-05T12:19:10.295Z"
      },
      {
        "duration": 74,
        "start_time": "2022-05-05T12:19:11.923Z"
      },
      {
        "duration": 21,
        "start_time": "2022-05-05T12:19:11.999Z"
      },
      {
        "duration": 23,
        "start_time": "2022-05-05T12:19:12.023Z"
      },
      {
        "duration": 36,
        "start_time": "2022-05-05T12:19:12.048Z"
      },
      {
        "duration": 17,
        "start_time": "2022-05-05T12:19:12.088Z"
      },
      {
        "duration": 28,
        "start_time": "2022-05-05T12:19:12.107Z"
      },
      {
        "duration": 49,
        "start_time": "2022-05-05T12:19:12.138Z"
      },
      {
        "duration": 6,
        "start_time": "2022-05-05T12:19:12.189Z"
      },
      {
        "duration": 55,
        "start_time": "2022-05-05T12:19:12.201Z"
      },
      {
        "duration": 191,
        "start_time": "2022-05-05T12:19:12.281Z"
      },
      {
        "duration": 0,
        "start_time": "2022-05-05T12:19:12.483Z"
      },
      {
        "duration": 0,
        "start_time": "2022-05-05T12:19:12.485Z"
      },
      {
        "duration": 0,
        "start_time": "2022-05-05T12:19:12.488Z"
      },
      {
        "duration": 0,
        "start_time": "2022-05-05T12:19:12.490Z"
      },
      {
        "duration": 0,
        "start_time": "2022-05-05T12:19:12.492Z"
      },
      {
        "duration": 0,
        "start_time": "2022-05-05T12:19:12.495Z"
      },
      {
        "duration": 0,
        "start_time": "2022-05-05T12:19:12.497Z"
      },
      {
        "duration": 0,
        "start_time": "2022-05-05T12:19:12.498Z"
      },
      {
        "duration": 0,
        "start_time": "2022-05-05T12:19:12.499Z"
      },
      {
        "duration": 0,
        "start_time": "2022-05-05T12:19:12.501Z"
      },
      {
        "duration": 0,
        "start_time": "2022-05-05T12:19:12.502Z"
      },
      {
        "duration": 0,
        "start_time": "2022-05-05T12:19:12.503Z"
      },
      {
        "duration": 0,
        "start_time": "2022-05-05T12:19:12.504Z"
      },
      {
        "duration": 0,
        "start_time": "2022-05-05T12:19:12.505Z"
      },
      {
        "duration": 0,
        "start_time": "2022-05-05T12:19:12.506Z"
      },
      {
        "duration": 0,
        "start_time": "2022-05-05T12:19:12.508Z"
      },
      {
        "duration": 0,
        "start_time": "2022-05-05T12:19:12.509Z"
      },
      {
        "duration": 0,
        "start_time": "2022-05-05T12:19:12.511Z"
      },
      {
        "duration": 0,
        "start_time": "2022-05-05T12:19:12.512Z"
      },
      {
        "duration": 0,
        "start_time": "2022-05-05T12:19:12.513Z"
      },
      {
        "duration": 0,
        "start_time": "2022-05-05T12:19:12.515Z"
      },
      {
        "duration": 0,
        "start_time": "2022-05-05T12:19:12.516Z"
      },
      {
        "duration": 1,
        "start_time": "2022-05-05T12:19:12.517Z"
      },
      {
        "duration": 0,
        "start_time": "2022-05-05T12:19:12.519Z"
      },
      {
        "duration": 0,
        "start_time": "2022-05-05T12:19:12.520Z"
      },
      {
        "duration": 0,
        "start_time": "2022-05-05T12:19:12.521Z"
      },
      {
        "duration": 0,
        "start_time": "2022-05-05T12:19:12.522Z"
      },
      {
        "duration": 0,
        "start_time": "2022-05-05T12:19:12.524Z"
      },
      {
        "duration": 0,
        "start_time": "2022-05-05T12:19:12.525Z"
      },
      {
        "duration": 0,
        "start_time": "2022-05-05T12:19:12.582Z"
      },
      {
        "duration": 0,
        "start_time": "2022-05-05T12:19:12.583Z"
      },
      {
        "duration": 0,
        "start_time": "2022-05-05T12:19:12.590Z"
      },
      {
        "duration": 39,
        "start_time": "2022-05-05T12:19:49.160Z"
      },
      {
        "duration": 5,
        "start_time": "2022-05-05T12:20:18.311Z"
      },
      {
        "duration": 1658,
        "start_time": "2022-05-05T12:20:28.346Z"
      },
      {
        "duration": 79,
        "start_time": "2022-05-05T12:20:30.007Z"
      },
      {
        "duration": 23,
        "start_time": "2022-05-05T12:20:30.091Z"
      },
      {
        "duration": 22,
        "start_time": "2022-05-05T12:20:30.118Z"
      },
      {
        "duration": 6,
        "start_time": "2022-05-05T12:20:30.142Z"
      },
      {
        "duration": 14,
        "start_time": "2022-05-05T12:20:30.191Z"
      },
      {
        "duration": 29,
        "start_time": "2022-05-05T12:20:30.207Z"
      },
      {
        "duration": 19,
        "start_time": "2022-05-05T12:20:30.238Z"
      },
      {
        "duration": 27,
        "start_time": "2022-05-05T12:20:30.260Z"
      },
      {
        "duration": 66,
        "start_time": "2022-05-05T12:20:30.294Z"
      },
      {
        "duration": 6961,
        "start_time": "2022-05-05T12:20:30.362Z"
      },
      {
        "duration": 15,
        "start_time": "2022-05-05T12:20:37.325Z"
      },
      {
        "duration": 7,
        "start_time": "2022-05-05T12:20:37.342Z"
      },
      {
        "duration": 37,
        "start_time": "2022-05-05T12:20:37.351Z"
      },
      {
        "duration": 11,
        "start_time": "2022-05-05T12:20:37.391Z"
      },
      {
        "duration": 10,
        "start_time": "2022-05-05T12:20:37.405Z"
      },
      {
        "duration": 183,
        "start_time": "2022-05-05T12:20:37.417Z"
      },
      {
        "duration": 0,
        "start_time": "2022-05-05T12:20:37.603Z"
      },
      {
        "duration": 0,
        "start_time": "2022-05-05T12:20:37.604Z"
      },
      {
        "duration": 0,
        "start_time": "2022-05-05T12:20:37.606Z"
      },
      {
        "duration": 0,
        "start_time": "2022-05-05T12:20:37.607Z"
      },
      {
        "duration": 0,
        "start_time": "2022-05-05T12:20:37.610Z"
      },
      {
        "duration": 0,
        "start_time": "2022-05-05T12:20:37.611Z"
      },
      {
        "duration": 0,
        "start_time": "2022-05-05T12:20:37.612Z"
      },
      {
        "duration": 0,
        "start_time": "2022-05-05T12:20:37.613Z"
      },
      {
        "duration": 0,
        "start_time": "2022-05-05T12:20:37.615Z"
      },
      {
        "duration": 0,
        "start_time": "2022-05-05T12:20:37.616Z"
      },
      {
        "duration": 0,
        "start_time": "2022-05-05T12:20:37.618Z"
      },
      {
        "duration": 0,
        "start_time": "2022-05-05T12:20:37.619Z"
      },
      {
        "duration": 0,
        "start_time": "2022-05-05T12:20:37.620Z"
      },
      {
        "duration": 0,
        "start_time": "2022-05-05T12:20:37.621Z"
      },
      {
        "duration": 0,
        "start_time": "2022-05-05T12:20:37.622Z"
      },
      {
        "duration": 0,
        "start_time": "2022-05-05T12:20:37.624Z"
      },
      {
        "duration": 0,
        "start_time": "2022-05-05T12:20:37.625Z"
      },
      {
        "duration": 0,
        "start_time": "2022-05-05T12:20:37.626Z"
      },
      {
        "duration": 0,
        "start_time": "2022-05-05T12:20:37.628Z"
      },
      {
        "duration": 0,
        "start_time": "2022-05-05T12:20:37.629Z"
      },
      {
        "duration": 0,
        "start_time": "2022-05-05T12:20:37.630Z"
      },
      {
        "duration": 1,
        "start_time": "2022-05-05T12:20:37.631Z"
      },
      {
        "duration": 0,
        "start_time": "2022-05-05T12:20:37.633Z"
      },
      {
        "duration": 0,
        "start_time": "2022-05-05T12:20:37.690Z"
      },
      {
        "duration": 0,
        "start_time": "2022-05-05T12:20:37.691Z"
      },
      {
        "duration": 0,
        "start_time": "2022-05-05T12:20:37.693Z"
      },
      {
        "duration": 5,
        "start_time": "2022-05-05T12:21:15.193Z"
      },
      {
        "duration": 4,
        "start_time": "2022-05-05T12:21:24.028Z"
      },
      {
        "duration": 71,
        "start_time": "2022-05-05T12:21:24.037Z"
      },
      {
        "duration": 20,
        "start_time": "2022-05-05T12:21:24.111Z"
      },
      {
        "duration": 57,
        "start_time": "2022-05-05T12:21:24.133Z"
      },
      {
        "duration": 6,
        "start_time": "2022-05-05T12:21:24.194Z"
      },
      {
        "duration": 17,
        "start_time": "2022-05-05T12:21:24.202Z"
      },
      {
        "duration": 62,
        "start_time": "2022-05-05T12:21:24.221Z"
      },
      {
        "duration": 17,
        "start_time": "2022-05-05T12:21:24.291Z"
      },
      {
        "duration": 5,
        "start_time": "2022-05-05T12:21:24.311Z"
      },
      {
        "duration": 78,
        "start_time": "2022-05-05T12:21:24.319Z"
      },
      {
        "duration": 6819,
        "start_time": "2022-05-05T12:21:24.401Z"
      },
      {
        "duration": 60,
        "start_time": "2022-05-05T12:21:31.222Z"
      },
      {
        "duration": 8,
        "start_time": "2022-05-05T12:21:31.286Z"
      },
      {
        "duration": 13,
        "start_time": "2022-05-05T12:21:31.298Z"
      },
      {
        "duration": 11,
        "start_time": "2022-05-05T12:21:31.313Z"
      },
      {
        "duration": 57,
        "start_time": "2022-05-05T12:21:31.326Z"
      },
      {
        "duration": 104,
        "start_time": "2022-05-05T12:21:31.392Z"
      },
      {
        "duration": 5,
        "start_time": "2022-05-05T12:21:31.499Z"
      },
      {
        "duration": 27,
        "start_time": "2022-05-05T12:21:31.507Z"
      },
      {
        "duration": 58,
        "start_time": "2022-05-05T12:21:31.537Z"
      },
      {
        "duration": 83,
        "start_time": "2022-05-05T12:21:31.598Z"
      },
      {
        "duration": 15,
        "start_time": "2022-05-05T12:21:31.685Z"
      },
      {
        "duration": 582,
        "start_time": "2022-05-05T12:21:31.703Z"
      },
      {
        "duration": 24,
        "start_time": "2022-05-05T12:21:32.295Z"
      },
      {
        "duration": 88,
        "start_time": "2022-05-05T12:21:32.322Z"
      },
      {
        "duration": 9851,
        "start_time": "2022-05-05T12:21:32.412Z"
      },
      {
        "duration": 21,
        "start_time": "2022-05-05T12:21:42.266Z"
      },
      {
        "duration": 42,
        "start_time": "2022-05-05T12:21:42.291Z"
      },
      {
        "duration": 48,
        "start_time": "2022-05-05T12:21:42.338Z"
      },
      {
        "duration": 25,
        "start_time": "2022-05-05T12:21:42.392Z"
      },
      {
        "duration": 529,
        "start_time": "2022-05-05T12:21:42.420Z"
      },
      {
        "duration": 3002,
        "start_time": "2022-05-05T12:21:42.951Z"
      },
      {
        "duration": 53,
        "start_time": "2022-05-05T12:21:45.955Z"
      },
      {
        "duration": 7,
        "start_time": "2022-05-05T12:21:46.011Z"
      },
      {
        "duration": 22,
        "start_time": "2022-05-05T12:21:46.020Z"
      },
      {
        "duration": 59,
        "start_time": "2022-05-05T12:21:46.044Z"
      },
      {
        "duration": 862,
        "start_time": "2022-05-05T12:21:46.105Z"
      },
      {
        "duration": 37,
        "start_time": "2022-05-05T12:21:46.969Z"
      },
      {
        "duration": 460,
        "start_time": "2022-05-05T12:21:47.008Z"
      },
      {
        "duration": 35,
        "start_time": "2022-05-05T12:21:47.471Z"
      },
      {
        "duration": 437,
        "start_time": "2022-05-05T12:21:47.509Z"
      },
      {
        "duration": 15,
        "start_time": "2022-05-05T12:21:47.948Z"
      },
      {
        "duration": 0,
        "start_time": "2022-05-05T12:21:47.965Z"
      },
      {
        "duration": 1539,
        "start_time": "2022-05-05T12:23:19.001Z"
      },
      {
        "duration": 89,
        "start_time": "2022-05-05T12:23:20.543Z"
      },
      {
        "duration": 22,
        "start_time": "2022-05-05T12:23:20.634Z"
      },
      {
        "duration": 45,
        "start_time": "2022-05-05T12:23:20.660Z"
      },
      {
        "duration": 7,
        "start_time": "2022-05-05T12:23:20.707Z"
      },
      {
        "duration": 15,
        "start_time": "2022-05-05T12:23:20.716Z"
      },
      {
        "duration": 20,
        "start_time": "2022-05-05T12:23:20.733Z"
      },
      {
        "duration": 48,
        "start_time": "2022-05-05T12:23:20.755Z"
      },
      {
        "duration": 7,
        "start_time": "2022-05-05T12:23:20.806Z"
      },
      {
        "duration": 85,
        "start_time": "2022-05-05T12:23:20.819Z"
      },
      {
        "duration": 6968,
        "start_time": "2022-05-05T12:23:20.906Z"
      },
      {
        "duration": 20,
        "start_time": "2022-05-05T12:23:27.881Z"
      },
      {
        "duration": 7,
        "start_time": "2022-05-05T12:23:27.904Z"
      },
      {
        "duration": 8,
        "start_time": "2022-05-05T12:23:27.913Z"
      },
      {
        "duration": 10,
        "start_time": "2022-05-05T12:23:27.923Z"
      },
      {
        "duration": 48,
        "start_time": "2022-05-05T12:23:27.935Z"
      },
      {
        "duration": 46,
        "start_time": "2022-05-05T12:23:27.986Z"
      },
      {
        "duration": 5,
        "start_time": "2022-05-05T12:23:28.034Z"
      },
      {
        "duration": 10,
        "start_time": "2022-05-05T12:23:28.041Z"
      },
      {
        "duration": 33,
        "start_time": "2022-05-05T12:23:28.053Z"
      },
      {
        "duration": 37,
        "start_time": "2022-05-05T12:23:28.088Z"
      },
      {
        "duration": 9,
        "start_time": "2022-05-05T12:23:28.127Z"
      },
      {
        "duration": 263,
        "start_time": "2022-05-05T12:23:28.138Z"
      },
      {
        "duration": 24,
        "start_time": "2022-05-05T12:23:28.403Z"
      },
      {
        "duration": 28,
        "start_time": "2022-05-05T12:23:28.429Z"
      },
      {
        "duration": 8428,
        "start_time": "2022-05-05T12:23:28.483Z"
      },
      {
        "duration": 10,
        "start_time": "2022-05-05T12:23:36.914Z"
      },
      {
        "duration": 59,
        "start_time": "2022-05-05T12:23:36.929Z"
      },
      {
        "duration": 27,
        "start_time": "2022-05-05T12:23:36.990Z"
      },
      {
        "duration": 29,
        "start_time": "2022-05-05T12:23:37.019Z"
      },
      {
        "duration": 537,
        "start_time": "2022-05-05T12:23:37.051Z"
      },
      {
        "duration": 3248,
        "start_time": "2022-05-05T12:23:37.596Z"
      },
      {
        "duration": 55,
        "start_time": "2022-05-05T12:23:40.847Z"
      },
      {
        "duration": 7,
        "start_time": "2022-05-05T12:23:40.904Z"
      },
      {
        "duration": 27,
        "start_time": "2022-05-05T12:23:40.913Z"
      },
      {
        "duration": 44,
        "start_time": "2022-05-05T12:23:40.942Z"
      },
      {
        "duration": 848,
        "start_time": "2022-05-05T12:23:40.989Z"
      },
      {
        "duration": 24,
        "start_time": "2022-05-05T12:23:41.840Z"
      },
      {
        "duration": 465,
        "start_time": "2022-05-05T12:23:41.882Z"
      },
      {
        "duration": 23,
        "start_time": "2022-05-05T12:23:42.349Z"
      },
      {
        "duration": 328,
        "start_time": "2022-05-05T12:23:42.385Z"
      },
      {
        "duration": 180,
        "start_time": "2022-05-05T12:23:42.716Z"
      },
      {
        "duration": 0,
        "start_time": "2022-05-05T12:23:42.899Z"
      },
      {
        "duration": 5,
        "start_time": "2022-05-05T12:24:33.743Z"
      },
      {
        "duration": 15,
        "start_time": "2022-05-05T12:24:40.442Z"
      },
      {
        "duration": 14,
        "start_time": "2022-05-05T12:24:42.942Z"
      },
      {
        "duration": 1581,
        "start_time": "2022-05-05T12:25:35.252Z"
      },
      {
        "duration": 77,
        "start_time": "2022-05-05T12:25:36.835Z"
      },
      {
        "duration": 21,
        "start_time": "2022-05-05T12:25:36.914Z"
      },
      {
        "duration": 47,
        "start_time": "2022-05-05T12:25:36.938Z"
      },
      {
        "duration": 9,
        "start_time": "2022-05-05T12:25:36.992Z"
      },
      {
        "duration": 15,
        "start_time": "2022-05-05T12:25:37.003Z"
      },
      {
        "duration": 20,
        "start_time": "2022-05-05T12:25:37.021Z"
      },
      {
        "duration": 59,
        "start_time": "2022-05-05T12:25:37.043Z"
      },
      {
        "duration": 7,
        "start_time": "2022-05-05T12:25:37.104Z"
      },
      {
        "duration": 77,
        "start_time": "2022-05-05T12:25:37.115Z"
      },
      {
        "duration": 7373,
        "start_time": "2022-05-05T12:25:37.194Z"
      },
      {
        "duration": 30,
        "start_time": "2022-05-05T12:25:44.569Z"
      },
      {
        "duration": 8,
        "start_time": "2022-05-05T12:25:44.602Z"
      },
      {
        "duration": 10,
        "start_time": "2022-05-05T12:25:44.612Z"
      },
      {
        "duration": 10,
        "start_time": "2022-05-05T12:25:44.624Z"
      },
      {
        "duration": 13,
        "start_time": "2022-05-05T12:25:44.636Z"
      },
      {
        "duration": 72,
        "start_time": "2022-05-05T12:25:44.651Z"
      },
      {
        "duration": 5,
        "start_time": "2022-05-05T12:25:44.725Z"
      },
      {
        "duration": 26,
        "start_time": "2022-05-05T12:25:44.732Z"
      },
      {
        "duration": 26,
        "start_time": "2022-05-05T12:25:44.760Z"
      },
      {
        "duration": 30,
        "start_time": "2022-05-05T12:25:44.789Z"
      },
      {
        "duration": 10,
        "start_time": "2022-05-05T12:25:44.821Z"
      },
      {
        "duration": 267,
        "start_time": "2022-05-05T12:25:44.833Z"
      },
      {
        "duration": 28,
        "start_time": "2022-05-05T12:25:45.102Z"
      },
      {
        "duration": 52,
        "start_time": "2022-05-05T12:25:45.133Z"
      },
      {
        "duration": 8523,
        "start_time": "2022-05-05T12:25:45.188Z"
      },
      {
        "duration": 11,
        "start_time": "2022-05-05T12:25:53.713Z"
      },
      {
        "duration": 67,
        "start_time": "2022-05-05T12:25:53.729Z"
      },
      {
        "duration": 21,
        "start_time": "2022-05-05T12:25:53.798Z"
      },
      {
        "duration": 32,
        "start_time": "2022-05-05T12:25:53.821Z"
      },
      {
        "duration": 530,
        "start_time": "2022-05-05T12:25:53.855Z"
      },
      {
        "duration": 3513,
        "start_time": "2022-05-05T12:25:54.388Z"
      },
      {
        "duration": 38,
        "start_time": "2022-05-05T12:25:57.903Z"
      },
      {
        "duration": 8,
        "start_time": "2022-05-05T12:25:57.943Z"
      },
      {
        "duration": 59,
        "start_time": "2022-05-05T12:25:57.954Z"
      },
      {
        "duration": 436,
        "start_time": "2022-05-05T12:25:58.016Z"
      },
      {
        "duration": 437,
        "start_time": "2022-05-05T12:25:58.455Z"
      },
      {
        "duration": 35,
        "start_time": "2022-05-05T12:25:58.896Z"
      },
      {
        "duration": 497,
        "start_time": "2022-05-05T12:25:58.934Z"
      },
      {
        "duration": 22,
        "start_time": "2022-05-05T12:25:59.433Z"
      },
      {
        "duration": 325,
        "start_time": "2022-05-05T12:25:59.457Z"
      },
      {
        "duration": 20,
        "start_time": "2022-05-05T12:25:59.785Z"
      },
      {
        "duration": 25,
        "start_time": "2022-05-05T12:25:59.807Z"
      },
      {
        "duration": 18,
        "start_time": "2022-05-05T12:33:00.983Z"
      },
      {
        "duration": 9,
        "start_time": "2022-05-05T12:36:59.539Z"
      },
      {
        "duration": 4,
        "start_time": "2022-05-05T12:38:19.901Z"
      },
      {
        "duration": 71,
        "start_time": "2022-05-05T12:38:19.909Z"
      },
      {
        "duration": 24,
        "start_time": "2022-05-05T12:38:19.987Z"
      },
      {
        "duration": 22,
        "start_time": "2022-05-05T12:38:20.013Z"
      },
      {
        "duration": 8,
        "start_time": "2022-05-05T12:38:20.037Z"
      },
      {
        "duration": 49,
        "start_time": "2022-05-05T12:38:20.047Z"
      },
      {
        "duration": 22,
        "start_time": "2022-05-05T12:38:20.099Z"
      },
      {
        "duration": 24,
        "start_time": "2022-05-05T12:38:20.124Z"
      },
      {
        "duration": 6,
        "start_time": "2022-05-05T12:38:20.150Z"
      },
      {
        "duration": 52,
        "start_time": "2022-05-05T12:38:20.187Z"
      },
      {
        "duration": 7897,
        "start_time": "2022-05-05T12:38:20.244Z"
      },
      {
        "duration": 13,
        "start_time": "2022-05-05T12:38:28.143Z"
      },
      {
        "duration": 10,
        "start_time": "2022-05-05T12:38:28.158Z"
      },
      {
        "duration": 13,
        "start_time": "2022-05-05T12:38:28.187Z"
      },
      {
        "duration": 7,
        "start_time": "2022-05-05T12:38:28.202Z"
      },
      {
        "duration": 9,
        "start_time": "2022-05-05T12:38:28.211Z"
      },
      {
        "duration": 65,
        "start_time": "2022-05-05T12:38:28.222Z"
      },
      {
        "duration": 3,
        "start_time": "2022-05-05T12:38:28.294Z"
      },
      {
        "duration": 174,
        "start_time": "2022-05-05T12:38:36.669Z"
      },
      {
        "duration": 4,
        "start_time": "2022-05-05T12:38:49.913Z"
      },
      {
        "duration": 7,
        "start_time": "2022-05-05T12:38:52.642Z"
      },
      {
        "duration": 24,
        "start_time": "2022-05-05T12:39:11.753Z"
      },
      {
        "duration": 10,
        "start_time": "2022-05-05T12:39:15.095Z"
      },
      {
        "duration": 233,
        "start_time": "2022-05-05T12:39:19.071Z"
      },
      {
        "duration": 235,
        "start_time": "2022-05-05T12:39:30.963Z"
      },
      {
        "duration": 24,
        "start_time": "2022-05-05T12:39:41.136Z"
      },
      {
        "duration": 41,
        "start_time": "2022-05-05T12:39:46.158Z"
      },
      {
        "duration": 16,
        "start_time": "2022-05-05T12:52:48.702Z"
      },
      {
        "duration": 28,
        "start_time": "2022-05-05T12:54:05.160Z"
      },
      {
        "duration": 153,
        "start_time": "2022-05-05T13:20:48.452Z"
      },
      {
        "duration": 151,
        "start_time": "2022-05-05T13:26:49.012Z"
      },
      {
        "duration": 27,
        "start_time": "2022-05-05T13:35:03.089Z"
      },
      {
        "duration": 175,
        "start_time": "2022-05-05T13:35:58.083Z"
      },
      {
        "duration": 129,
        "start_time": "2022-05-05T13:44:15.057Z"
      },
      {
        "duration": 2060,
        "start_time": "2022-05-05T18:25:12.086Z"
      },
      {
        "duration": 76,
        "start_time": "2022-05-05T18:25:14.149Z"
      },
      {
        "duration": 25,
        "start_time": "2022-05-05T18:25:14.228Z"
      },
      {
        "duration": 23,
        "start_time": "2022-05-05T18:25:14.256Z"
      },
      {
        "duration": 7,
        "start_time": "2022-05-05T18:25:14.282Z"
      },
      {
        "duration": 51,
        "start_time": "2022-05-05T18:25:14.291Z"
      },
      {
        "duration": 26,
        "start_time": "2022-05-05T18:25:14.344Z"
      },
      {
        "duration": 21,
        "start_time": "2022-05-05T18:25:14.372Z"
      },
      {
        "duration": 36,
        "start_time": "2022-05-05T18:25:14.395Z"
      },
      {
        "duration": 60,
        "start_time": "2022-05-05T18:25:14.435Z"
      },
      {
        "duration": 7578,
        "start_time": "2022-05-05T18:25:14.497Z"
      },
      {
        "duration": 15,
        "start_time": "2022-05-05T18:25:22.078Z"
      },
      {
        "duration": 31,
        "start_time": "2022-05-05T18:25:22.095Z"
      },
      {
        "duration": 10,
        "start_time": "2022-05-05T18:25:22.131Z"
      },
      {
        "duration": 12,
        "start_time": "2022-05-05T18:25:22.144Z"
      },
      {
        "duration": 9,
        "start_time": "2022-05-05T18:25:22.158Z"
      },
      {
        "duration": 69,
        "start_time": "2022-05-05T18:25:22.169Z"
      },
      {
        "duration": 4,
        "start_time": "2022-05-05T18:25:22.240Z"
      },
      {
        "duration": 6,
        "start_time": "2022-05-05T18:25:22.246Z"
      },
      {
        "duration": 9,
        "start_time": "2022-05-05T18:25:22.254Z"
      },
      {
        "duration": 26,
        "start_time": "2022-05-05T18:25:22.265Z"
      },
      {
        "duration": 13,
        "start_time": "2022-05-05T18:25:22.327Z"
      },
      {
        "duration": 251,
        "start_time": "2022-05-05T18:25:22.345Z"
      },
      {
        "duration": 37,
        "start_time": "2022-05-05T18:25:22.599Z"
      },
      {
        "duration": 31,
        "start_time": "2022-05-05T18:25:22.638Z"
      },
      {
        "duration": 57,
        "start_time": "2022-05-05T18:25:22.671Z"
      },
      {
        "duration": 165,
        "start_time": "2022-05-05T18:25:22.731Z"
      },
      {
        "duration": 0,
        "start_time": "2022-05-05T18:25:22.899Z"
      },
      {
        "duration": 0,
        "start_time": "2022-05-05T18:25:22.901Z"
      },
      {
        "duration": 0,
        "start_time": "2022-05-05T18:25:22.903Z"
      },
      {
        "duration": 0,
        "start_time": "2022-05-05T18:25:22.904Z"
      },
      {
        "duration": 0,
        "start_time": "2022-05-05T18:25:22.906Z"
      },
      {
        "duration": 0,
        "start_time": "2022-05-05T18:25:22.907Z"
      },
      {
        "duration": 0,
        "start_time": "2022-05-05T18:25:22.925Z"
      },
      {
        "duration": 0,
        "start_time": "2022-05-05T18:25:22.926Z"
      },
      {
        "duration": 0,
        "start_time": "2022-05-05T18:25:22.930Z"
      },
      {
        "duration": 0,
        "start_time": "2022-05-05T18:25:22.931Z"
      },
      {
        "duration": 0,
        "start_time": "2022-05-05T18:25:22.933Z"
      },
      {
        "duration": 0,
        "start_time": "2022-05-05T18:25:22.935Z"
      },
      {
        "duration": 0,
        "start_time": "2022-05-05T18:25:22.936Z"
      },
      {
        "duration": 0,
        "start_time": "2022-05-05T18:25:22.938Z"
      },
      {
        "duration": 0,
        "start_time": "2022-05-05T18:25:22.939Z"
      },
      {
        "duration": 0,
        "start_time": "2022-05-05T18:25:22.941Z"
      },
      {
        "duration": 0,
        "start_time": "2022-05-05T18:25:22.943Z"
      },
      {
        "duration": 0,
        "start_time": "2022-05-05T18:25:22.944Z"
      },
      {
        "duration": 0,
        "start_time": "2022-05-05T18:25:22.946Z"
      },
      {
        "duration": 2075,
        "start_time": "2022-05-05T18:26:38.454Z"
      },
      {
        "duration": 481,
        "start_time": "2022-05-05T18:27:21.185Z"
      },
      {
        "duration": 19,
        "start_time": "2022-05-05T18:28:01.844Z"
      },
      {
        "duration": 14,
        "start_time": "2022-05-05T18:28:14.842Z"
      },
      {
        "duration": 21,
        "start_time": "2022-05-05T18:28:36.038Z"
      },
      {
        "duration": 14,
        "start_time": "2022-05-05T18:28:39.438Z"
      },
      {
        "duration": 19,
        "start_time": "2022-05-05T18:29:00.967Z"
      },
      {
        "duration": 19,
        "start_time": "2022-05-05T18:29:13.238Z"
      },
      {
        "duration": 4,
        "start_time": "2022-05-05T18:29:31.357Z"
      },
      {
        "duration": 124,
        "start_time": "2022-05-05T18:29:31.364Z"
      },
      {
        "duration": 42,
        "start_time": "2022-05-05T18:29:31.490Z"
      },
      {
        "duration": 43,
        "start_time": "2022-05-05T18:29:31.536Z"
      },
      {
        "duration": 12,
        "start_time": "2022-05-05T18:29:31.583Z"
      },
      {
        "duration": 27,
        "start_time": "2022-05-05T18:29:31.597Z"
      },
      {
        "duration": 28,
        "start_time": "2022-05-05T18:29:31.627Z"
      },
      {
        "duration": 24,
        "start_time": "2022-05-05T18:29:31.660Z"
      },
      {
        "duration": 8,
        "start_time": "2022-05-05T18:29:31.686Z"
      },
      {
        "duration": 84,
        "start_time": "2022-05-05T18:29:31.698Z"
      },
      {
        "duration": 6961,
        "start_time": "2022-05-05T18:29:31.786Z"
      },
      {
        "duration": 14,
        "start_time": "2022-05-05T18:29:38.749Z"
      },
      {
        "duration": 7,
        "start_time": "2022-05-05T18:29:38.764Z"
      },
      {
        "duration": 37,
        "start_time": "2022-05-05T18:29:38.774Z"
      },
      {
        "duration": 15,
        "start_time": "2022-05-05T18:29:38.813Z"
      },
      {
        "duration": 30,
        "start_time": "2022-05-05T18:29:38.830Z"
      },
      {
        "duration": 35,
        "start_time": "2022-05-05T18:29:38.862Z"
      },
      {
        "duration": 3,
        "start_time": "2022-05-05T18:29:38.899Z"
      },
      {
        "duration": 6,
        "start_time": "2022-05-05T18:29:38.925Z"
      },
      {
        "duration": 16,
        "start_time": "2022-05-05T18:29:38.934Z"
      },
      {
        "duration": 28,
        "start_time": "2022-05-05T18:29:38.952Z"
      },
      {
        "duration": 12,
        "start_time": "2022-05-05T18:29:38.983Z"
      },
      {
        "duration": 327,
        "start_time": "2022-05-05T18:29:38.998Z"
      },
      {
        "duration": 34,
        "start_time": "2022-05-05T18:29:39.328Z"
      },
      {
        "duration": 28,
        "start_time": "2022-05-05T18:29:39.365Z"
      },
      {
        "duration": 39,
        "start_time": "2022-05-05T18:29:43.450Z"
      },
      {
        "duration": 17,
        "start_time": "2022-05-05T18:29:48.365Z"
      },
      {
        "duration": 374,
        "start_time": "2022-05-05T18:36:29.590Z"
      },
      {
        "duration": 428,
        "start_time": "2022-05-05T18:37:28.447Z"
      },
      {
        "duration": 526,
        "start_time": "2022-05-05T18:37:35.375Z"
      },
      {
        "duration": 966,
        "start_time": "2022-05-05T18:41:35.721Z"
      },
      {
        "duration": 424,
        "start_time": "2022-05-05T18:41:44.841Z"
      },
      {
        "duration": 357,
        "start_time": "2022-05-05T18:43:38.371Z"
      },
      {
        "duration": 11,
        "start_time": "2022-05-05T18:45:39.899Z"
      },
      {
        "duration": 16,
        "start_time": "2022-05-05T18:46:13.204Z"
      },
      {
        "duration": 14,
        "start_time": "2022-05-05T18:46:28.623Z"
      },
      {
        "duration": 14,
        "start_time": "2022-05-05T18:47:44.593Z"
      },
      {
        "duration": 13,
        "start_time": "2022-05-05T18:48:10.136Z"
      },
      {
        "duration": 4,
        "start_time": "2022-05-05T18:48:21.306Z"
      },
      {
        "duration": 67,
        "start_time": "2022-05-05T18:48:21.315Z"
      },
      {
        "duration": 41,
        "start_time": "2022-05-05T18:48:21.384Z"
      },
      {
        "duration": 22,
        "start_time": "2022-05-05T18:48:21.427Z"
      },
      {
        "duration": 7,
        "start_time": "2022-05-05T18:48:21.451Z"
      },
      {
        "duration": 14,
        "start_time": "2022-05-05T18:48:21.460Z"
      },
      {
        "duration": 61,
        "start_time": "2022-05-05T18:48:21.476Z"
      },
      {
        "duration": 21,
        "start_time": "2022-05-05T18:48:21.539Z"
      },
      {
        "duration": 6,
        "start_time": "2022-05-05T18:48:21.562Z"
      },
      {
        "duration": 70,
        "start_time": "2022-05-05T18:48:21.570Z"
      },
      {
        "duration": 6922,
        "start_time": "2022-05-05T18:48:21.643Z"
      },
      {
        "duration": 14,
        "start_time": "2022-05-05T18:48:28.567Z"
      },
      {
        "duration": 6,
        "start_time": "2022-05-05T18:48:28.583Z"
      },
      {
        "duration": 34,
        "start_time": "2022-05-05T18:48:28.591Z"
      },
      {
        "duration": 6,
        "start_time": "2022-05-05T18:48:28.628Z"
      },
      {
        "duration": 11,
        "start_time": "2022-05-05T18:48:28.636Z"
      },
      {
        "duration": 34,
        "start_time": "2022-05-05T18:48:28.650Z"
      },
      {
        "duration": 3,
        "start_time": "2022-05-05T18:48:28.686Z"
      },
      {
        "duration": 4,
        "start_time": "2022-05-05T18:48:28.725Z"
      },
      {
        "duration": 9,
        "start_time": "2022-05-05T18:48:28.731Z"
      },
      {
        "duration": 27,
        "start_time": "2022-05-05T18:48:28.742Z"
      },
      {
        "duration": 9,
        "start_time": "2022-05-05T18:48:28.771Z"
      },
      {
        "duration": 245,
        "start_time": "2022-05-05T18:48:28.782Z"
      },
      {
        "duration": 24,
        "start_time": "2022-05-05T18:48:29.029Z"
      },
      {
        "duration": 29,
        "start_time": "2022-05-05T18:48:29.056Z"
      },
      {
        "duration": 27,
        "start_time": "2022-05-05T18:48:31.878Z"
      },
      {
        "duration": 27,
        "start_time": "2022-05-05T18:49:00.677Z"
      },
      {
        "duration": 12,
        "start_time": "2022-05-05T18:52:56.342Z"
      },
      {
        "duration": 16,
        "start_time": "2022-05-05T18:53:13.092Z"
      },
      {
        "duration": 25,
        "start_time": "2022-05-05T18:53:20.299Z"
      },
      {
        "duration": 12780,
        "start_time": "2022-05-05T18:53:23.852Z"
      },
      {
        "duration": 23,
        "start_time": "2022-05-05T18:54:07.514Z"
      },
      {
        "duration": 16,
        "start_time": "2022-05-05T18:54:37.340Z"
      },
      {
        "duration": 27,
        "start_time": "2022-05-05T18:54:44.795Z"
      },
      {
        "duration": 469,
        "start_time": "2022-05-05T18:54:58.206Z"
      },
      {
        "duration": 946,
        "start_time": "2022-05-05T18:55:29.017Z"
      },
      {
        "duration": 477,
        "start_time": "2022-05-05T18:55:35.358Z"
      },
      {
        "duration": 28,
        "start_time": "2022-05-05T18:55:39.661Z"
      },
      {
        "duration": 12855,
        "start_time": "2022-05-05T18:55:42.506Z"
      },
      {
        "duration": 2843,
        "start_time": "2022-05-05T18:59:32.988Z"
      },
      {
        "duration": 574,
        "start_time": "2022-05-05T19:00:13.196Z"
      },
      {
        "duration": 608,
        "start_time": "2022-05-05T19:00:44.236Z"
      },
      {
        "duration": 26,
        "start_time": "2022-05-05T19:00:58.203Z"
      },
      {
        "duration": 12667,
        "start_time": "2022-05-05T19:01:01.513Z"
      },
      {
        "duration": 5,
        "start_time": "2022-05-05T19:43:29.951Z"
      },
      {
        "duration": 67,
        "start_time": "2022-05-05T19:43:29.959Z"
      },
      {
        "duration": 20,
        "start_time": "2022-05-05T19:43:30.028Z"
      },
      {
        "duration": 24,
        "start_time": "2022-05-05T19:43:30.051Z"
      },
      {
        "duration": 8,
        "start_time": "2022-05-05T19:43:30.078Z"
      },
      {
        "duration": 48,
        "start_time": "2022-05-05T19:43:30.088Z"
      },
      {
        "duration": 21,
        "start_time": "2022-05-05T19:43:30.139Z"
      },
      {
        "duration": 21,
        "start_time": "2022-05-05T19:43:30.162Z"
      },
      {
        "duration": 7,
        "start_time": "2022-05-05T19:43:30.224Z"
      },
      {
        "duration": 72,
        "start_time": "2022-05-05T19:43:30.234Z"
      },
      {
        "duration": 9321,
        "start_time": "2022-05-05T19:43:30.324Z"
      },
      {
        "duration": 15,
        "start_time": "2022-05-05T19:43:39.648Z"
      },
      {
        "duration": 8,
        "start_time": "2022-05-05T19:43:39.665Z"
      },
      {
        "duration": 8,
        "start_time": "2022-05-05T19:43:39.675Z"
      },
      {
        "duration": 41,
        "start_time": "2022-05-05T19:43:39.686Z"
      },
      {
        "duration": 11,
        "start_time": "2022-05-05T19:43:39.729Z"
      },
      {
        "duration": 50,
        "start_time": "2022-05-05T19:43:39.742Z"
      },
      {
        "duration": 34,
        "start_time": "2022-05-05T19:43:39.794Z"
      },
      {
        "duration": 8,
        "start_time": "2022-05-05T19:43:39.830Z"
      },
      {
        "duration": 9,
        "start_time": "2022-05-05T19:43:39.840Z"
      },
      {
        "duration": 34,
        "start_time": "2022-05-05T19:43:39.852Z"
      },
      {
        "duration": 40,
        "start_time": "2022-05-05T19:43:39.888Z"
      },
      {
        "duration": 211,
        "start_time": "2022-05-05T19:43:39.931Z"
      },
      {
        "duration": 24,
        "start_time": "2022-05-05T19:43:40.146Z"
      },
      {
        "duration": 53,
        "start_time": "2022-05-05T19:43:40.172Z"
      },
      {
        "duration": 28,
        "start_time": "2022-05-05T19:43:40.227Z"
      },
      {
        "duration": 12346,
        "start_time": "2022-05-05T19:43:56.873Z"
      },
      {
        "duration": 444,
        "start_time": "2022-05-05T19:44:23.303Z"
      },
      {
        "duration": 4086,
        "start_time": "2022-05-05T19:45:01.090Z"
      },
      {
        "duration": 24,
        "start_time": "2022-05-05T19:46:20.381Z"
      },
      {
        "duration": 490,
        "start_time": "2022-05-05T19:46:48.845Z"
      },
      {
        "duration": 1481,
        "start_time": "2022-05-06T10:47:23.060Z"
      },
      {
        "duration": 62,
        "start_time": "2022-05-06T10:47:24.548Z"
      },
      {
        "duration": 16,
        "start_time": "2022-05-06T10:47:24.612Z"
      },
      {
        "duration": 40,
        "start_time": "2022-05-06T10:47:24.630Z"
      },
      {
        "duration": 11,
        "start_time": "2022-05-06T10:47:24.673Z"
      },
      {
        "duration": 18,
        "start_time": "2022-05-06T10:47:24.685Z"
      },
      {
        "duration": 20,
        "start_time": "2022-05-06T10:47:24.705Z"
      },
      {
        "duration": 39,
        "start_time": "2022-05-06T10:47:24.727Z"
      },
      {
        "duration": 7,
        "start_time": "2022-05-06T10:47:24.768Z"
      },
      {
        "duration": 80,
        "start_time": "2022-05-06T10:47:24.778Z"
      },
      {
        "duration": 4793,
        "start_time": "2022-05-06T10:47:24.860Z"
      },
      {
        "duration": 10,
        "start_time": "2022-05-06T10:47:29.655Z"
      },
      {
        "duration": 5,
        "start_time": "2022-05-06T10:47:29.667Z"
      },
      {
        "duration": 8,
        "start_time": "2022-05-06T10:47:29.675Z"
      },
      {
        "duration": 13,
        "start_time": "2022-05-06T10:47:29.685Z"
      },
      {
        "duration": 40,
        "start_time": "2022-05-06T10:47:29.699Z"
      },
      {
        "duration": 49,
        "start_time": "2022-05-06T10:47:29.742Z"
      },
      {
        "duration": 2,
        "start_time": "2022-05-06T10:47:29.793Z"
      },
      {
        "duration": 11,
        "start_time": "2022-05-06T10:47:29.796Z"
      },
      {
        "duration": 9,
        "start_time": "2022-05-06T10:47:29.808Z"
      },
      {
        "duration": 32,
        "start_time": "2022-05-06T10:47:29.819Z"
      },
      {
        "duration": 8,
        "start_time": "2022-05-06T10:47:29.852Z"
      },
      {
        "duration": 195,
        "start_time": "2022-05-06T10:47:29.861Z"
      },
      {
        "duration": 17,
        "start_time": "2022-05-06T10:47:30.058Z"
      },
      {
        "duration": 23,
        "start_time": "2022-05-06T10:47:30.077Z"
      },
      {
        "duration": 543,
        "start_time": "2022-05-06T10:57:35.928Z"
      },
      {
        "duration": 117,
        "start_time": "2022-05-06T10:57:59.477Z"
      },
      {
        "duration": 13,
        "start_time": "2022-05-06T10:58:16.350Z"
      },
      {
        "duration": 14,
        "start_time": "2022-05-06T10:58:24.988Z"
      },
      {
        "duration": 1723,
        "start_time": "2022-05-06T10:58:26.099Z"
      },
      {
        "duration": 13,
        "start_time": "2022-05-06T10:58:34.929Z"
      },
      {
        "duration": 4,
        "start_time": "2022-05-06T10:58:58.277Z"
      },
      {
        "duration": 60,
        "start_time": "2022-05-06T10:58:58.283Z"
      },
      {
        "duration": 17,
        "start_time": "2022-05-06T10:58:58.345Z"
      },
      {
        "duration": 17,
        "start_time": "2022-05-06T10:58:58.364Z"
      },
      {
        "duration": 5,
        "start_time": "2022-05-06T10:58:58.383Z"
      },
      {
        "duration": 48,
        "start_time": "2022-05-06T10:58:58.391Z"
      },
      {
        "duration": 18,
        "start_time": "2022-05-06T10:58:58.441Z"
      },
      {
        "duration": 10,
        "start_time": "2022-05-06T10:58:58.461Z"
      },
      {
        "duration": 5,
        "start_time": "2022-05-06T10:58:58.473Z"
      },
      {
        "duration": 69,
        "start_time": "2022-05-06T10:58:58.479Z"
      },
      {
        "duration": 4697,
        "start_time": "2022-05-06T10:58:58.551Z"
      },
      {
        "duration": 11,
        "start_time": "2022-05-06T10:59:03.249Z"
      },
      {
        "duration": 8,
        "start_time": "2022-05-06T10:59:03.262Z"
      },
      {
        "duration": 5,
        "start_time": "2022-05-06T10:59:03.271Z"
      },
      {
        "duration": 8,
        "start_time": "2022-05-06T10:59:03.278Z"
      },
      {
        "duration": 13,
        "start_time": "2022-05-06T10:59:03.287Z"
      },
      {
        "duration": 48,
        "start_time": "2022-05-06T10:59:03.301Z"
      },
      {
        "duration": 3,
        "start_time": "2022-05-06T10:59:03.350Z"
      },
      {
        "duration": 8,
        "start_time": "2022-05-06T10:59:03.354Z"
      },
      {
        "duration": 9,
        "start_time": "2022-05-06T10:59:03.364Z"
      },
      {
        "duration": 21,
        "start_time": "2022-05-06T10:59:03.375Z"
      },
      {
        "duration": 7,
        "start_time": "2022-05-06T10:59:03.397Z"
      },
      {
        "duration": 178,
        "start_time": "2022-05-06T10:59:03.406Z"
      },
      {
        "duration": 24,
        "start_time": "2022-05-06T10:59:03.586Z"
      },
      {
        "duration": 40,
        "start_time": "2022-05-06T10:59:03.611Z"
      },
      {
        "duration": 152,
        "start_time": "2022-05-06T10:59:03.652Z"
      },
      {
        "duration": 521,
        "start_time": "2022-05-06T10:59:08.269Z"
      },
      {
        "duration": 3,
        "start_time": "2022-05-06T10:59:43.185Z"
      },
      {
        "duration": 59,
        "start_time": "2022-05-06T10:59:43.190Z"
      },
      {
        "duration": 15,
        "start_time": "2022-05-06T10:59:43.251Z"
      },
      {
        "duration": 17,
        "start_time": "2022-05-06T10:59:43.268Z"
      },
      {
        "duration": 5,
        "start_time": "2022-05-06T10:59:43.288Z"
      },
      {
        "duration": 44,
        "start_time": "2022-05-06T10:59:43.295Z"
      },
      {
        "duration": 18,
        "start_time": "2022-05-06T10:59:43.342Z"
      },
      {
        "duration": 12,
        "start_time": "2022-05-06T10:59:43.361Z"
      },
      {
        "duration": 4,
        "start_time": "2022-05-06T10:59:43.375Z"
      },
      {
        "duration": 69,
        "start_time": "2022-05-06T10:59:43.380Z"
      },
      {
        "duration": 4839,
        "start_time": "2022-05-06T10:59:43.451Z"
      },
      {
        "duration": 10,
        "start_time": "2022-05-06T10:59:48.291Z"
      },
      {
        "duration": 6,
        "start_time": "2022-05-06T10:59:48.303Z"
      },
      {
        "duration": 8,
        "start_time": "2022-05-06T10:59:48.312Z"
      },
      {
        "duration": 28,
        "start_time": "2022-05-06T10:59:48.321Z"
      },
      {
        "duration": 9,
        "start_time": "2022-05-06T10:59:48.351Z"
      },
      {
        "duration": 27,
        "start_time": "2022-05-06T10:59:48.361Z"
      },
      {
        "duration": 3,
        "start_time": "2022-05-06T10:59:48.390Z"
      },
      {
        "duration": 12,
        "start_time": "2022-05-06T10:59:48.394Z"
      },
      {
        "duration": 7,
        "start_time": "2022-05-06T10:59:48.408Z"
      },
      {
        "duration": 32,
        "start_time": "2022-05-06T10:59:48.417Z"
      },
      {
        "duration": 9,
        "start_time": "2022-05-06T10:59:48.450Z"
      },
      {
        "duration": 158,
        "start_time": "2022-05-06T10:59:48.461Z"
      },
      {
        "duration": 39,
        "start_time": "2022-05-06T10:59:48.621Z"
      },
      {
        "duration": 20,
        "start_time": "2022-05-06T10:59:48.662Z"
      },
      {
        "duration": 136,
        "start_time": "2022-05-06T10:59:48.684Z"
      },
      {
        "duration": 20,
        "start_time": "2022-05-06T11:00:05.723Z"
      },
      {
        "duration": 588,
        "start_time": "2022-05-06T11:00:17.542Z"
      },
      {
        "duration": 12,
        "start_time": "2022-05-06T11:00:36.357Z"
      },
      {
        "duration": 9,
        "start_time": "2022-05-06T11:07:08.801Z"
      },
      {
        "duration": 1665,
        "start_time": "2022-05-06T11:07:29.625Z"
      },
      {
        "duration": 3,
        "start_time": "2022-05-06T11:08:01.855Z"
      },
      {
        "duration": 76,
        "start_time": "2022-05-06T11:08:01.861Z"
      },
      {
        "duration": 16,
        "start_time": "2022-05-06T11:08:01.939Z"
      },
      {
        "duration": 58,
        "start_time": "2022-05-06T11:08:01.957Z"
      },
      {
        "duration": 21,
        "start_time": "2022-05-06T11:08:02.018Z"
      },
      {
        "duration": 42,
        "start_time": "2022-05-06T11:08:02.041Z"
      },
      {
        "duration": 37,
        "start_time": "2022-05-06T11:08:02.085Z"
      },
      {
        "duration": 29,
        "start_time": "2022-05-06T11:08:02.124Z"
      },
      {
        "duration": 26,
        "start_time": "2022-05-06T11:08:02.155Z"
      },
      {
        "duration": 61,
        "start_time": "2022-05-06T11:08:02.183Z"
      },
      {
        "duration": 4690,
        "start_time": "2022-05-06T11:08:02.247Z"
      },
      {
        "duration": 10,
        "start_time": "2022-05-06T11:08:06.938Z"
      },
      {
        "duration": 8,
        "start_time": "2022-05-06T11:08:06.949Z"
      },
      {
        "duration": 9,
        "start_time": "2022-05-06T11:08:06.959Z"
      },
      {
        "duration": 10,
        "start_time": "2022-05-06T11:08:06.970Z"
      },
      {
        "duration": 8,
        "start_time": "2022-05-06T11:08:06.982Z"
      },
      {
        "duration": 45,
        "start_time": "2022-05-06T11:08:06.992Z"
      },
      {
        "duration": 3,
        "start_time": "2022-05-06T11:08:07.038Z"
      },
      {
        "duration": 9,
        "start_time": "2022-05-06T11:08:07.042Z"
      },
      {
        "duration": 7,
        "start_time": "2022-05-06T11:08:07.053Z"
      },
      {
        "duration": 20,
        "start_time": "2022-05-06T11:08:07.061Z"
      },
      {
        "duration": 8,
        "start_time": "2022-05-06T11:08:07.082Z"
      },
      {
        "duration": 161,
        "start_time": "2022-05-06T11:08:07.091Z"
      },
      {
        "duration": 17,
        "start_time": "2022-05-06T11:08:07.254Z"
      },
      {
        "duration": 21,
        "start_time": "2022-05-06T11:08:07.272Z"
      },
      {
        "duration": 44,
        "start_time": "2022-05-06T11:08:07.294Z"
      },
      {
        "duration": 12,
        "start_time": "2022-05-06T11:08:18.757Z"
      },
      {
        "duration": 5488,
        "start_time": "2022-05-06T11:08:43.273Z"
      },
      {
        "duration": 3541,
        "start_time": "2022-05-06T11:09:01.103Z"
      },
      {
        "duration": 4357,
        "start_time": "2022-05-06T11:09:25.792Z"
      },
      {
        "duration": 4301,
        "start_time": "2022-05-06T11:11:12.942Z"
      },
      {
        "duration": 1250,
        "start_time": "2022-05-06T11:11:47.016Z"
      },
      {
        "duration": 69,
        "start_time": "2022-05-06T11:11:48.268Z"
      },
      {
        "duration": 15,
        "start_time": "2022-05-06T11:11:48.338Z"
      },
      {
        "duration": 17,
        "start_time": "2022-05-06T11:11:48.356Z"
      },
      {
        "duration": 5,
        "start_time": "2022-05-06T11:11:48.375Z"
      },
      {
        "duration": 15,
        "start_time": "2022-05-06T11:11:48.382Z"
      },
      {
        "duration": 37,
        "start_time": "2022-05-06T11:11:48.398Z"
      },
      {
        "duration": 17,
        "start_time": "2022-05-06T11:11:48.436Z"
      },
      {
        "duration": 5,
        "start_time": "2022-05-06T11:11:48.455Z"
      },
      {
        "duration": 37,
        "start_time": "2022-05-06T11:11:48.463Z"
      },
      {
        "duration": 4594,
        "start_time": "2022-05-06T11:11:48.502Z"
      },
      {
        "duration": 10,
        "start_time": "2022-05-06T11:11:53.098Z"
      },
      {
        "duration": 7,
        "start_time": "2022-05-06T11:11:53.110Z"
      },
      {
        "duration": 19,
        "start_time": "2022-05-06T11:11:53.118Z"
      },
      {
        "duration": 11,
        "start_time": "2022-05-06T11:11:53.139Z"
      },
      {
        "duration": 13,
        "start_time": "2022-05-06T11:11:53.152Z"
      },
      {
        "duration": 25,
        "start_time": "2022-05-06T11:11:53.167Z"
      },
      {
        "duration": 3,
        "start_time": "2022-05-06T11:11:53.193Z"
      },
      {
        "duration": 13,
        "start_time": "2022-05-06T11:11:53.197Z"
      },
      {
        "duration": 22,
        "start_time": "2022-05-06T11:11:53.212Z"
      },
      {
        "duration": 19,
        "start_time": "2022-05-06T11:11:53.236Z"
      },
      {
        "duration": 7,
        "start_time": "2022-05-06T11:11:53.257Z"
      },
      {
        "duration": 178,
        "start_time": "2022-05-06T11:11:53.266Z"
      },
      {
        "duration": 18,
        "start_time": "2022-05-06T11:11:53.446Z"
      },
      {
        "duration": 22,
        "start_time": "2022-05-06T11:11:53.465Z"
      },
      {
        "duration": 18,
        "start_time": "2022-05-06T11:11:53.488Z"
      },
      {
        "duration": 4115,
        "start_time": "2022-05-06T11:11:53.508Z"
      },
      {
        "duration": 9,
        "start_time": "2022-05-06T11:11:57.634Z"
      },
      {
        "duration": 27,
        "start_time": "2022-05-06T11:11:57.645Z"
      },
      {
        "duration": 15,
        "start_time": "2022-05-06T11:11:57.674Z"
      },
      {
        "duration": 44,
        "start_time": "2022-05-06T11:11:57.691Z"
      },
      {
        "duration": 315,
        "start_time": "2022-05-06T11:11:57.737Z"
      },
      {
        "duration": 2467,
        "start_time": "2022-05-06T11:11:58.054Z"
      },
      {
        "duration": 36,
        "start_time": "2022-05-06T11:12:00.523Z"
      },
      {
        "duration": 6,
        "start_time": "2022-05-06T11:12:00.560Z"
      },
      {
        "duration": 20,
        "start_time": "2022-05-06T11:12:00.568Z"
      },
      {
        "duration": 17,
        "start_time": "2022-05-06T11:12:00.590Z"
      },
      {
        "duration": 36,
        "start_time": "2022-05-06T11:12:00.609Z"
      },
      {
        "duration": 271,
        "start_time": "2022-05-06T11:12:00.647Z"
      },
      {
        "duration": 26,
        "start_time": "2022-05-06T11:12:00.920Z"
      },
      {
        "duration": 306,
        "start_time": "2022-05-06T11:12:00.948Z"
      },
      {
        "duration": 18,
        "start_time": "2022-05-06T11:12:01.256Z"
      },
      {
        "duration": 214,
        "start_time": "2022-05-06T11:12:01.275Z"
      },
      {
        "duration": 10,
        "start_time": "2022-05-06T11:12:01.491Z"
      },
      {
        "duration": 21,
        "start_time": "2022-05-06T11:12:01.503Z"
      },
      {
        "duration": 6,
        "start_time": "2022-05-06T11:37:46.371Z"
      },
      {
        "duration": 148,
        "start_time": "2022-05-06T11:41:17.942Z"
      },
      {
        "duration": 144,
        "start_time": "2022-05-06T11:41:27.755Z"
      },
      {
        "duration": 21,
        "start_time": "2022-05-06T11:46:28.736Z"
      },
      {
        "duration": 4226,
        "start_time": "2022-05-06T11:46:33.811Z"
      },
      {
        "duration": 9,
        "start_time": "2022-05-06T11:53:16.468Z"
      },
      {
        "duration": 7,
        "start_time": "2022-05-06T11:53:21.679Z"
      },
      {
        "duration": 310,
        "start_time": "2022-05-06T12:02:05.719Z"
      },
      {
        "duration": 2091,
        "start_time": "2022-05-06T12:07:12.208Z"
      },
      {
        "duration": 2610,
        "start_time": "2022-05-06T12:09:37.143Z"
      },
      {
        "duration": 2749,
        "start_time": "2022-05-06T12:09:48.924Z"
      },
      {
        "duration": 2477,
        "start_time": "2022-05-06T12:09:59.196Z"
      },
      {
        "duration": 2131,
        "start_time": "2022-05-06T12:11:47.081Z"
      },
      {
        "duration": 17,
        "start_time": "2022-05-06T12:29:48.585Z"
      },
      {
        "duration": 16,
        "start_time": "2022-05-06T12:30:03.495Z"
      },
      {
        "duration": 10,
        "start_time": "2022-05-06T12:30:54.436Z"
      },
      {
        "duration": 10,
        "start_time": "2022-05-06T12:33:55.989Z"
      },
      {
        "duration": 12,
        "start_time": "2022-05-06T12:34:02.381Z"
      },
      {
        "duration": 1216,
        "start_time": "2022-05-06T12:34:11.048Z"
      },
      {
        "duration": 61,
        "start_time": "2022-05-06T12:34:12.266Z"
      },
      {
        "duration": 16,
        "start_time": "2022-05-06T12:34:12.329Z"
      },
      {
        "duration": 19,
        "start_time": "2022-05-06T12:34:12.347Z"
      },
      {
        "duration": 5,
        "start_time": "2022-05-06T12:34:12.368Z"
      },
      {
        "duration": 12,
        "start_time": "2022-05-06T12:34:12.375Z"
      },
      {
        "duration": 16,
        "start_time": "2022-05-06T12:34:12.388Z"
      },
      {
        "duration": 42,
        "start_time": "2022-05-06T12:34:12.406Z"
      },
      {
        "duration": 10,
        "start_time": "2022-05-06T12:34:12.449Z"
      },
      {
        "duration": 35,
        "start_time": "2022-05-06T12:34:12.462Z"
      },
      {
        "duration": 4683,
        "start_time": "2022-05-06T12:34:12.499Z"
      },
      {
        "duration": 11,
        "start_time": "2022-05-06T12:34:17.184Z"
      },
      {
        "duration": 5,
        "start_time": "2022-05-06T12:34:17.196Z"
      },
      {
        "duration": 6,
        "start_time": "2022-05-06T12:34:17.203Z"
      },
      {
        "duration": 25,
        "start_time": "2022-05-06T12:34:17.211Z"
      },
      {
        "duration": 9,
        "start_time": "2022-05-06T12:34:17.237Z"
      },
      {
        "duration": 23,
        "start_time": "2022-05-06T12:34:17.247Z"
      },
      {
        "duration": 4,
        "start_time": "2022-05-06T12:34:17.272Z"
      },
      {
        "duration": 20,
        "start_time": "2022-05-06T12:34:17.278Z"
      },
      {
        "duration": 35,
        "start_time": "2022-05-06T12:34:17.300Z"
      },
      {
        "duration": 166,
        "start_time": "2022-05-06T12:34:17.337Z"
      },
      {
        "duration": 29,
        "start_time": "2022-05-06T12:34:17.505Z"
      },
      {
        "duration": 21,
        "start_time": "2022-05-06T12:34:17.536Z"
      },
      {
        "duration": 19,
        "start_time": "2022-05-06T12:34:17.559Z"
      },
      {
        "duration": 4124,
        "start_time": "2022-05-06T12:34:17.579Z"
      },
      {
        "duration": 9,
        "start_time": "2022-05-06T12:34:21.705Z"
      },
      {
        "duration": 44,
        "start_time": "2022-05-06T12:34:21.715Z"
      },
      {
        "duration": 16,
        "start_time": "2022-05-06T12:34:21.762Z"
      },
      {
        "duration": 20,
        "start_time": "2022-05-06T12:34:21.780Z"
      },
      {
        "duration": 336,
        "start_time": "2022-05-06T12:34:21.801Z"
      },
      {
        "duration": 2471,
        "start_time": "2022-05-06T12:34:22.138Z"
      },
      {
        "duration": 37,
        "start_time": "2022-05-06T12:34:24.611Z"
      },
      {
        "duration": 5,
        "start_time": "2022-05-06T12:34:24.650Z"
      },
      {
        "duration": 16,
        "start_time": "2022-05-06T12:34:24.657Z"
      },
      {
        "duration": 17,
        "start_time": "2022-05-06T12:34:24.675Z"
      },
      {
        "duration": 46,
        "start_time": "2022-05-06T12:34:24.693Z"
      },
      {
        "duration": 262,
        "start_time": "2022-05-06T12:34:24.741Z"
      },
      {
        "duration": 30,
        "start_time": "2022-05-06T12:34:25.005Z"
      },
      {
        "duration": 288,
        "start_time": "2022-05-06T12:34:25.037Z"
      },
      {
        "duration": 17,
        "start_time": "2022-05-06T12:34:25.327Z"
      },
      {
        "duration": 119,
        "start_time": "2022-05-06T12:34:25.346Z"
      },
      {
        "duration": 0,
        "start_time": "2022-05-06T12:34:25.466Z"
      },
      {
        "duration": 0,
        "start_time": "2022-05-06T12:34:25.468Z"
      },
      {
        "duration": 16,
        "start_time": "2022-05-06T12:35:04.633Z"
      },
      {
        "duration": 185,
        "start_time": "2022-05-06T12:35:06.765Z"
      },
      {
        "duration": 10,
        "start_time": "2022-05-06T12:35:54.405Z"
      },
      {
        "duration": 10,
        "start_time": "2022-05-06T12:35:57.266Z"
      },
      {
        "duration": 5,
        "start_time": "2022-05-06T12:37:25.685Z"
      },
      {
        "duration": 9,
        "start_time": "2022-05-06T12:37:31.342Z"
      },
      {
        "duration": 9,
        "start_time": "2022-05-06T12:37:33.144Z"
      },
      {
        "duration": 10,
        "start_time": "2022-05-06T12:37:37.362Z"
      },
      {
        "duration": 1241,
        "start_time": "2022-05-06T12:37:56.710Z"
      },
      {
        "duration": 65,
        "start_time": "2022-05-06T12:37:57.954Z"
      },
      {
        "duration": 16,
        "start_time": "2022-05-06T12:37:58.020Z"
      },
      {
        "duration": 16,
        "start_time": "2022-05-06T12:37:58.038Z"
      },
      {
        "duration": 15,
        "start_time": "2022-05-06T12:37:58.056Z"
      },
      {
        "duration": 23,
        "start_time": "2022-05-06T12:37:58.073Z"
      },
      {
        "duration": 19,
        "start_time": "2022-05-06T12:37:58.098Z"
      },
      {
        "duration": 23,
        "start_time": "2022-05-06T12:37:58.119Z"
      },
      {
        "duration": 11,
        "start_time": "2022-05-06T12:37:58.144Z"
      },
      {
        "duration": 48,
        "start_time": "2022-05-06T12:37:58.158Z"
      },
      {
        "duration": 4686,
        "start_time": "2022-05-06T12:37:58.207Z"
      },
      {
        "duration": 11,
        "start_time": "2022-05-06T12:38:02.895Z"
      },
      {
        "duration": 26,
        "start_time": "2022-05-06T12:38:02.908Z"
      },
      {
        "duration": 5,
        "start_time": "2022-05-06T12:38:02.936Z"
      },
      {
        "duration": 9,
        "start_time": "2022-05-06T12:38:02.943Z"
      },
      {
        "duration": 20,
        "start_time": "2022-05-06T12:38:02.954Z"
      },
      {
        "duration": 34,
        "start_time": "2022-05-06T12:38:02.976Z"
      },
      {
        "duration": 5,
        "start_time": "2022-05-06T12:38:03.012Z"
      },
      {
        "duration": 9,
        "start_time": "2022-05-06T12:38:03.018Z"
      },
      {
        "duration": 21,
        "start_time": "2022-05-06T12:38:03.029Z"
      },
      {
        "duration": 8,
        "start_time": "2022-05-06T12:38:03.051Z"
      },
      {
        "duration": 183,
        "start_time": "2022-05-06T12:38:03.061Z"
      },
      {
        "duration": 17,
        "start_time": "2022-05-06T12:38:03.246Z"
      },
      {
        "duration": 21,
        "start_time": "2022-05-06T12:38:03.265Z"
      },
      {
        "duration": 18,
        "start_time": "2022-05-06T12:38:03.288Z"
      },
      {
        "duration": 4307,
        "start_time": "2022-05-06T12:38:03.332Z"
      },
      {
        "duration": 8,
        "start_time": "2022-05-06T12:38:07.641Z"
      },
      {
        "duration": 26,
        "start_time": "2022-05-06T12:38:07.653Z"
      },
      {
        "duration": 16,
        "start_time": "2022-05-06T12:38:07.681Z"
      },
      {
        "duration": 49,
        "start_time": "2022-05-06T12:38:07.699Z"
      },
      {
        "duration": 329,
        "start_time": "2022-05-06T12:38:07.749Z"
      },
      {
        "duration": 2427,
        "start_time": "2022-05-06T12:38:08.080Z"
      },
      {
        "duration": 39,
        "start_time": "2022-05-06T12:38:10.509Z"
      },
      {
        "duration": 7,
        "start_time": "2022-05-06T12:38:10.550Z"
      },
      {
        "duration": 18,
        "start_time": "2022-05-06T12:38:10.559Z"
      },
      {
        "duration": 17,
        "start_time": "2022-05-06T12:38:10.579Z"
      },
      {
        "duration": 38,
        "start_time": "2022-05-06T12:38:10.598Z"
      },
      {
        "duration": 267,
        "start_time": "2022-05-06T12:38:10.638Z"
      },
      {
        "duration": 27,
        "start_time": "2022-05-06T12:38:10.906Z"
      },
      {
        "duration": 284,
        "start_time": "2022-05-06T12:38:10.935Z"
      },
      {
        "duration": 23,
        "start_time": "2022-05-06T12:38:11.220Z"
      },
      {
        "duration": 196,
        "start_time": "2022-05-06T12:38:11.245Z"
      },
      {
        "duration": 10,
        "start_time": "2022-05-06T12:38:11.443Z"
      },
      {
        "duration": 13,
        "start_time": "2022-05-06T12:38:11.454Z"
      },
      {
        "duration": 1259,
        "start_time": "2022-05-06T12:38:51.497Z"
      },
      {
        "duration": 59,
        "start_time": "2022-05-06T12:38:52.758Z"
      },
      {
        "duration": 17,
        "start_time": "2022-05-06T12:38:52.819Z"
      },
      {
        "duration": 16,
        "start_time": "2022-05-06T12:38:52.838Z"
      },
      {
        "duration": 5,
        "start_time": "2022-05-06T12:38:52.856Z"
      },
      {
        "duration": 12,
        "start_time": "2022-05-06T12:38:52.863Z"
      },
      {
        "duration": 17,
        "start_time": "2022-05-06T12:38:52.877Z"
      },
      {
        "duration": 43,
        "start_time": "2022-05-06T12:38:52.896Z"
      },
      {
        "duration": 5,
        "start_time": "2022-05-06T12:38:52.941Z"
      },
      {
        "duration": 40,
        "start_time": "2022-05-06T12:38:52.948Z"
      },
      {
        "duration": 4649,
        "start_time": "2022-05-06T12:38:52.990Z"
      },
      {
        "duration": 11,
        "start_time": "2022-05-06T12:38:57.640Z"
      },
      {
        "duration": 6,
        "start_time": "2022-05-06T12:38:57.652Z"
      },
      {
        "duration": 7,
        "start_time": "2022-05-06T12:38:57.659Z"
      },
      {
        "duration": 9,
        "start_time": "2022-05-06T12:38:57.668Z"
      },
      {
        "duration": 12,
        "start_time": "2022-05-06T12:38:57.678Z"
      },
      {
        "duration": 44,
        "start_time": "2022-05-06T12:38:57.691Z"
      },
      {
        "duration": 5,
        "start_time": "2022-05-06T12:38:57.737Z"
      },
      {
        "duration": 21,
        "start_time": "2022-05-06T12:38:57.743Z"
      },
      {
        "duration": 8,
        "start_time": "2022-05-06T12:38:57.765Z"
      },
      {
        "duration": 182,
        "start_time": "2022-05-06T12:38:57.774Z"
      },
      {
        "duration": 18,
        "start_time": "2022-05-06T12:38:57.958Z"
      },
      {
        "duration": 21,
        "start_time": "2022-05-06T12:38:57.977Z"
      },
      {
        "duration": 43,
        "start_time": "2022-05-06T12:38:58.000Z"
      },
      {
        "duration": 4198,
        "start_time": "2022-05-06T12:38:58.044Z"
      },
      {
        "duration": 8,
        "start_time": "2022-05-06T12:39:02.244Z"
      },
      {
        "duration": 28,
        "start_time": "2022-05-06T12:39:02.254Z"
      },
      {
        "duration": 15,
        "start_time": "2022-05-06T12:39:02.285Z"
      },
      {
        "duration": 44,
        "start_time": "2022-05-06T12:39:02.302Z"
      },
      {
        "duration": 325,
        "start_time": "2022-05-06T12:39:02.348Z"
      },
      {
        "duration": 2394,
        "start_time": "2022-05-06T12:39:02.675Z"
      },
      {
        "duration": 29,
        "start_time": "2022-05-06T12:39:05.071Z"
      },
      {
        "duration": 6,
        "start_time": "2022-05-06T12:39:05.102Z"
      },
      {
        "duration": 16,
        "start_time": "2022-05-06T12:39:05.134Z"
      },
      {
        "duration": 26,
        "start_time": "2022-05-06T12:39:05.151Z"
      },
      {
        "duration": 13,
        "start_time": "2022-05-06T12:39:05.179Z"
      },
      {
        "duration": 274,
        "start_time": "2022-05-06T12:39:05.194Z"
      },
      {
        "duration": 18,
        "start_time": "2022-05-06T12:39:05.470Z"
      },
      {
        "duration": 292,
        "start_time": "2022-05-06T12:39:05.490Z"
      },
      {
        "duration": 17,
        "start_time": "2022-05-06T12:39:05.784Z"
      },
      {
        "duration": 207,
        "start_time": "2022-05-06T12:39:05.802Z"
      },
      {
        "duration": 11,
        "start_time": "2022-05-06T12:39:06.011Z"
      },
      {
        "duration": 10,
        "start_time": "2022-05-06T12:39:06.034Z"
      },
      {
        "duration": 4,
        "start_time": "2022-05-06T12:40:59.243Z"
      },
      {
        "duration": 10,
        "start_time": "2022-05-06T12:41:09.386Z"
      },
      {
        "duration": 10,
        "start_time": "2022-05-06T12:41:12.844Z"
      },
      {
        "duration": 4,
        "start_time": "2022-05-06T12:41:21.765Z"
      },
      {
        "duration": 61,
        "start_time": "2022-05-06T12:41:21.770Z"
      },
      {
        "duration": 15,
        "start_time": "2022-05-06T12:41:21.833Z"
      },
      {
        "duration": 15,
        "start_time": "2022-05-06T12:41:21.850Z"
      },
      {
        "duration": 5,
        "start_time": "2022-05-06T12:41:21.868Z"
      },
      {
        "duration": 12,
        "start_time": "2022-05-06T12:41:21.874Z"
      },
      {
        "duration": 47,
        "start_time": "2022-05-06T12:41:21.888Z"
      },
      {
        "duration": 15,
        "start_time": "2022-05-06T12:41:21.937Z"
      },
      {
        "duration": 7,
        "start_time": "2022-05-06T12:41:21.954Z"
      },
      {
        "duration": 39,
        "start_time": "2022-05-06T12:41:21.963Z"
      },
      {
        "duration": 4554,
        "start_time": "2022-05-06T12:41:22.005Z"
      },
      {
        "duration": 9,
        "start_time": "2022-05-06T12:41:26.561Z"
      },
      {
        "duration": 5,
        "start_time": "2022-05-06T12:41:26.572Z"
      },
      {
        "duration": 7,
        "start_time": "2022-05-06T12:41:26.579Z"
      },
      {
        "duration": 10,
        "start_time": "2022-05-06T12:41:26.587Z"
      },
      {
        "duration": 6,
        "start_time": "2022-05-06T12:41:26.599Z"
      },
      {
        "duration": 47,
        "start_time": "2022-05-06T12:41:26.607Z"
      },
      {
        "duration": 5,
        "start_time": "2022-05-06T12:41:26.656Z"
      },
      {
        "duration": 6,
        "start_time": "2022-05-06T12:41:26.663Z"
      },
      {
        "duration": 23,
        "start_time": "2022-05-06T12:41:26.671Z"
      },
      {
        "duration": 7,
        "start_time": "2022-05-06T12:41:26.695Z"
      },
      {
        "duration": 171,
        "start_time": "2022-05-06T12:41:26.704Z"
      },
      {
        "duration": 18,
        "start_time": "2022-05-06T12:41:26.877Z"
      },
      {
        "duration": 42,
        "start_time": "2022-05-06T12:41:26.896Z"
      },
      {
        "duration": 19,
        "start_time": "2022-05-06T12:41:26.940Z"
      },
      {
        "duration": 4118,
        "start_time": "2022-05-06T12:41:26.961Z"
      },
      {
        "duration": 9,
        "start_time": "2022-05-06T12:41:31.080Z"
      },
      {
        "duration": 43,
        "start_time": "2022-05-06T12:41:31.091Z"
      },
      {
        "duration": 15,
        "start_time": "2022-05-06T12:41:31.138Z"
      },
      {
        "duration": 29,
        "start_time": "2022-05-06T12:41:31.155Z"
      },
      {
        "duration": 605,
        "start_time": "2022-05-06T12:41:31.186Z"
      },
      {
        "duration": 2047,
        "start_time": "2022-05-06T12:41:31.793Z"
      },
      {
        "duration": 30,
        "start_time": "2022-05-06T12:41:33.842Z"
      },
      {
        "duration": 7,
        "start_time": "2022-05-06T12:41:33.873Z"
      },
      {
        "duration": 17,
        "start_time": "2022-05-06T12:41:33.881Z"
      },
      {
        "duration": 48,
        "start_time": "2022-05-06T12:41:33.900Z"
      },
      {
        "duration": 14,
        "start_time": "2022-05-06T12:41:33.950Z"
      },
      {
        "duration": 270,
        "start_time": "2022-05-06T12:41:33.966Z"
      },
      {
        "duration": 20,
        "start_time": "2022-05-06T12:41:34.238Z"
      },
      {
        "duration": 293,
        "start_time": "2022-05-06T12:41:34.260Z"
      },
      {
        "duration": 17,
        "start_time": "2022-05-06T12:41:34.555Z"
      },
      {
        "duration": 207,
        "start_time": "2022-05-06T12:41:34.574Z"
      },
      {
        "duration": 10,
        "start_time": "2022-05-06T12:41:34.783Z"
      },
      {
        "duration": 24,
        "start_time": "2022-05-06T12:41:34.796Z"
      },
      {
        "duration": 6,
        "start_time": "2022-05-06T13:11:32.253Z"
      },
      {
        "duration": 1316,
        "start_time": "2022-05-06T13:11:40.446Z"
      },
      {
        "duration": 72,
        "start_time": "2022-05-06T13:11:41.764Z"
      },
      {
        "duration": 17,
        "start_time": "2022-05-06T13:11:41.838Z"
      },
      {
        "duration": 18,
        "start_time": "2022-05-06T13:11:41.857Z"
      },
      {
        "duration": 5,
        "start_time": "2022-05-06T13:11:41.876Z"
      },
      {
        "duration": 12,
        "start_time": "2022-05-06T13:11:41.883Z"
      },
      {
        "duration": 41,
        "start_time": "2022-05-06T13:11:41.897Z"
      },
      {
        "duration": 15,
        "start_time": "2022-05-06T13:11:41.940Z"
      },
      {
        "duration": 6,
        "start_time": "2022-05-06T13:11:41.957Z"
      },
      {
        "duration": 39,
        "start_time": "2022-05-06T13:11:41.966Z"
      },
      {
        "duration": 4804,
        "start_time": "2022-05-06T13:11:42.034Z"
      },
      {
        "duration": 12,
        "start_time": "2022-05-06T13:11:46.840Z"
      },
      {
        "duration": 5,
        "start_time": "2022-05-06T13:11:46.854Z"
      },
      {
        "duration": 8,
        "start_time": "2022-05-06T13:11:46.861Z"
      },
      {
        "duration": 6,
        "start_time": "2022-05-06T13:11:46.871Z"
      },
      {
        "duration": 56,
        "start_time": "2022-05-06T13:11:46.878Z"
      },
      {
        "duration": 24,
        "start_time": "2022-05-06T13:11:46.936Z"
      },
      {
        "duration": 8,
        "start_time": "2022-05-06T13:11:46.961Z"
      },
      {
        "duration": 6,
        "start_time": "2022-05-06T13:11:46.971Z"
      },
      {
        "duration": 21,
        "start_time": "2022-05-06T13:11:46.978Z"
      },
      {
        "duration": 38,
        "start_time": "2022-05-06T13:11:47.001Z"
      },
      {
        "duration": 180,
        "start_time": "2022-05-06T13:11:47.040Z"
      },
      {
        "duration": 27,
        "start_time": "2022-05-06T13:11:47.222Z"
      },
      {
        "duration": 23,
        "start_time": "2022-05-06T13:11:47.250Z"
      },
      {
        "duration": 19,
        "start_time": "2022-05-06T13:11:47.275Z"
      },
      {
        "duration": 4357,
        "start_time": "2022-05-06T13:11:47.296Z"
      },
      {
        "duration": 9,
        "start_time": "2022-05-06T13:11:51.654Z"
      },
      {
        "duration": 27,
        "start_time": "2022-05-06T13:11:51.666Z"
      },
      {
        "duration": 46,
        "start_time": "2022-05-06T13:11:51.694Z"
      },
      {
        "duration": 24,
        "start_time": "2022-05-06T13:11:51.742Z"
      },
      {
        "duration": 349,
        "start_time": "2022-05-06T13:11:51.767Z"
      },
      {
        "duration": 2532,
        "start_time": "2022-05-06T13:11:52.117Z"
      },
      {
        "duration": 28,
        "start_time": "2022-05-06T13:11:54.651Z"
      },
      {
        "duration": 6,
        "start_time": "2022-05-06T13:11:54.681Z"
      },
      {
        "duration": 46,
        "start_time": "2022-05-06T13:11:54.689Z"
      },
      {
        "duration": 19,
        "start_time": "2022-05-06T13:11:54.737Z"
      },
      {
        "duration": 275,
        "start_time": "2022-05-06T13:11:54.758Z"
      },
      {
        "duration": 20,
        "start_time": "2022-05-06T13:11:55.035Z"
      },
      {
        "duration": 304,
        "start_time": "2022-05-06T13:11:55.057Z"
      },
      {
        "duration": 17,
        "start_time": "2022-05-06T13:11:55.363Z"
      },
      {
        "duration": 215,
        "start_time": "2022-05-06T13:11:55.383Z"
      },
      {
        "duration": 11,
        "start_time": "2022-05-06T13:11:55.600Z"
      },
      {
        "duration": 24,
        "start_time": "2022-05-06T13:11:55.613Z"
      },
      {
        "duration": 146,
        "start_time": "2022-05-06T13:18:33.350Z"
      },
      {
        "duration": 12,
        "start_time": "2022-05-06T13:18:40.245Z"
      },
      {
        "duration": 5,
        "start_time": "2022-05-06T13:19:24.518Z"
      },
      {
        "duration": 1360,
        "start_time": "2022-05-06T13:19:32.356Z"
      },
      {
        "duration": 3251,
        "start_time": "2022-05-06T13:19:33.718Z"
      },
      {
        "duration": 17,
        "start_time": "2022-05-06T13:19:36.971Z"
      },
      {
        "duration": 37,
        "start_time": "2022-05-06T13:19:36.991Z"
      },
      {
        "duration": 31,
        "start_time": "2022-05-06T13:19:37.030Z"
      },
      {
        "duration": 30,
        "start_time": "2022-05-06T13:19:37.063Z"
      },
      {
        "duration": 34,
        "start_time": "2022-05-06T13:19:37.095Z"
      },
      {
        "duration": 57,
        "start_time": "2022-05-06T13:19:37.131Z"
      },
      {
        "duration": 15,
        "start_time": "2022-05-06T13:19:37.190Z"
      },
      {
        "duration": 60,
        "start_time": "2022-05-06T13:19:37.208Z"
      },
      {
        "duration": 5218,
        "start_time": "2022-05-06T13:19:37.270Z"
      },
      {
        "duration": 11,
        "start_time": "2022-05-06T13:19:42.490Z"
      },
      {
        "duration": 18,
        "start_time": "2022-05-06T13:19:42.503Z"
      },
      {
        "duration": 28,
        "start_time": "2022-05-06T13:19:42.523Z"
      },
      {
        "duration": 21,
        "start_time": "2022-05-06T13:19:42.553Z"
      },
      {
        "duration": 12,
        "start_time": "2022-05-06T13:19:42.576Z"
      },
      {
        "duration": 36,
        "start_time": "2022-05-06T13:19:42.590Z"
      },
      {
        "duration": 21,
        "start_time": "2022-05-06T13:19:42.627Z"
      },
      {
        "duration": 23,
        "start_time": "2022-05-06T13:19:42.650Z"
      },
      {
        "duration": 24,
        "start_time": "2022-05-06T13:19:42.675Z"
      },
      {
        "duration": 10,
        "start_time": "2022-05-06T13:19:42.701Z"
      },
      {
        "duration": 192,
        "start_time": "2022-05-06T13:19:42.713Z"
      },
      {
        "duration": 19,
        "start_time": "2022-05-06T13:19:42.907Z"
      },
      {
        "duration": 36,
        "start_time": "2022-05-06T13:19:42.928Z"
      },
      {
        "duration": 23,
        "start_time": "2022-05-06T13:19:42.965Z"
      },
      {
        "duration": 4722,
        "start_time": "2022-05-06T13:19:42.990Z"
      },
      {
        "duration": 9,
        "start_time": "2022-05-06T13:19:47.714Z"
      },
      {
        "duration": 32,
        "start_time": "2022-05-06T13:19:47.736Z"
      },
      {
        "duration": 15,
        "start_time": "2022-05-06T13:19:47.770Z"
      },
      {
        "duration": 25,
        "start_time": "2022-05-06T13:19:47.787Z"
      },
      {
        "duration": 385,
        "start_time": "2022-05-06T13:19:47.814Z"
      },
      {
        "duration": 2499,
        "start_time": "2022-05-06T13:19:48.201Z"
      },
      {
        "duration": 40,
        "start_time": "2022-05-06T13:19:50.702Z"
      },
      {
        "duration": 8,
        "start_time": "2022-05-06T13:19:50.747Z"
      },
      {
        "duration": 20,
        "start_time": "2022-05-06T13:19:50.758Z"
      },
      {
        "duration": 31,
        "start_time": "2022-05-06T13:19:50.780Z"
      },
      {
        "duration": 307,
        "start_time": "2022-05-06T13:19:50.813Z"
      },
      {
        "duration": 26,
        "start_time": "2022-05-06T13:19:51.122Z"
      },
      {
        "duration": 333,
        "start_time": "2022-05-06T13:19:51.150Z"
      },
      {
        "duration": 17,
        "start_time": "2022-05-06T13:19:51.485Z"
      },
      {
        "duration": 216,
        "start_time": "2022-05-06T13:19:51.504Z"
      },
      {
        "duration": 18,
        "start_time": "2022-05-06T13:19:51.722Z"
      },
      {
        "duration": 20,
        "start_time": "2022-05-06T13:19:51.743Z"
      },
      {
        "duration": 17,
        "start_time": "2022-05-06T13:21:31.295Z"
      },
      {
        "duration": 1296,
        "start_time": "2022-05-08T05:03:59.780Z"
      },
      {
        "duration": 53,
        "start_time": "2022-05-08T05:04:01.078Z"
      },
      {
        "duration": 13,
        "start_time": "2022-05-08T05:04:01.133Z"
      },
      {
        "duration": 17,
        "start_time": "2022-05-08T05:04:01.148Z"
      },
      {
        "duration": 4,
        "start_time": "2022-05-08T05:04:01.167Z"
      },
      {
        "duration": 31,
        "start_time": "2022-05-08T05:04:01.173Z"
      },
      {
        "duration": 30,
        "start_time": "2022-05-08T05:04:01.206Z"
      },
      {
        "duration": 24,
        "start_time": "2022-05-08T05:04:01.238Z"
      },
      {
        "duration": 15,
        "start_time": "2022-05-08T05:04:01.263Z"
      },
      {
        "duration": 33,
        "start_time": "2022-05-08T05:04:01.280Z"
      },
      {
        "duration": 3611,
        "start_time": "2022-05-08T05:04:01.315Z"
      },
      {
        "duration": 8,
        "start_time": "2022-05-08T05:04:04.927Z"
      },
      {
        "duration": 12,
        "start_time": "2022-05-08T05:04:04.937Z"
      },
      {
        "duration": 5,
        "start_time": "2022-05-08T05:04:04.950Z"
      },
      {
        "duration": 6,
        "start_time": "2022-05-08T05:04:04.956Z"
      },
      {
        "duration": 5,
        "start_time": "2022-05-08T05:04:04.964Z"
      },
      {
        "duration": 42,
        "start_time": "2022-05-08T05:04:04.971Z"
      },
      {
        "duration": 3,
        "start_time": "2022-05-08T05:04:05.015Z"
      },
      {
        "duration": 8,
        "start_time": "2022-05-08T05:04:05.019Z"
      },
      {
        "duration": 19,
        "start_time": "2022-05-08T05:04:05.028Z"
      },
      {
        "duration": 6,
        "start_time": "2022-05-08T05:04:05.048Z"
      },
      {
        "duration": 152,
        "start_time": "2022-05-08T05:04:05.055Z"
      },
      {
        "duration": 15,
        "start_time": "2022-05-08T05:04:05.208Z"
      },
      {
        "duration": 16,
        "start_time": "2022-05-08T05:04:05.224Z"
      },
      {
        "duration": 16,
        "start_time": "2022-05-08T05:04:05.241Z"
      },
      {
        "duration": 3173,
        "start_time": "2022-05-08T05:04:05.258Z"
      },
      {
        "duration": 8,
        "start_time": "2022-05-08T05:04:08.433Z"
      },
      {
        "duration": 22,
        "start_time": "2022-05-08T05:04:08.444Z"
      },
      {
        "duration": 38,
        "start_time": "2022-05-08T05:04:08.467Z"
      },
      {
        "duration": 17,
        "start_time": "2022-05-08T05:04:08.507Z"
      },
      {
        "duration": 255,
        "start_time": "2022-05-08T05:04:08.526Z"
      },
      {
        "duration": 1976,
        "start_time": "2022-05-08T05:04:08.783Z"
      },
      {
        "duration": 23,
        "start_time": "2022-05-08T05:04:10.761Z"
      },
      {
        "duration": 16,
        "start_time": "2022-05-08T05:04:10.785Z"
      },
      {
        "duration": 14,
        "start_time": "2022-05-08T05:04:10.802Z"
      },
      {
        "duration": 13,
        "start_time": "2022-05-08T05:04:10.818Z"
      },
      {
        "duration": 223,
        "start_time": "2022-05-08T05:04:10.832Z"
      },
      {
        "duration": 14,
        "start_time": "2022-05-08T05:04:11.057Z"
      },
      {
        "duration": 329,
        "start_time": "2022-05-08T05:04:11.072Z"
      },
      {
        "duration": 14,
        "start_time": "2022-05-08T05:04:11.403Z"
      },
      {
        "duration": 166,
        "start_time": "2022-05-08T05:04:11.418Z"
      },
      {
        "duration": 15,
        "start_time": "2022-05-08T05:04:11.585Z"
      },
      {
        "duration": 13,
        "start_time": "2022-05-08T05:04:11.601Z"
      },
      {
        "duration": 1353,
        "start_time": "2022-05-10T18:42:49.108Z"
      },
      {
        "duration": 59,
        "start_time": "2022-05-10T18:42:50.464Z"
      },
      {
        "duration": 17,
        "start_time": "2022-05-10T18:42:50.525Z"
      },
      {
        "duration": 17,
        "start_time": "2022-05-10T18:42:50.544Z"
      },
      {
        "duration": 6,
        "start_time": "2022-05-10T18:42:50.563Z"
      },
      {
        "duration": 40,
        "start_time": "2022-05-10T18:42:50.571Z"
      },
      {
        "duration": 14,
        "start_time": "2022-05-10T18:42:50.613Z"
      },
      {
        "duration": 13,
        "start_time": "2022-05-10T18:42:50.629Z"
      },
      {
        "duration": 5,
        "start_time": "2022-05-10T18:42:50.643Z"
      },
      {
        "duration": 72,
        "start_time": "2022-05-10T18:42:50.651Z"
      },
      {
        "duration": 4546,
        "start_time": "2022-05-10T18:42:50.724Z"
      },
      {
        "duration": 10,
        "start_time": "2022-05-10T18:42:55.272Z"
      },
      {
        "duration": 24,
        "start_time": "2022-05-10T18:42:55.284Z"
      },
      {
        "duration": 7,
        "start_time": "2022-05-10T18:42:55.310Z"
      },
      {
        "duration": 7,
        "start_time": "2022-05-10T18:42:55.319Z"
      },
      {
        "duration": 7,
        "start_time": "2022-05-10T18:42:55.328Z"
      },
      {
        "duration": 35,
        "start_time": "2022-05-10T18:42:55.338Z"
      },
      {
        "duration": 34,
        "start_time": "2022-05-10T18:42:55.375Z"
      },
      {
        "duration": 18,
        "start_time": "2022-05-10T18:42:55.411Z"
      },
      {
        "duration": 9,
        "start_time": "2022-05-10T18:42:55.431Z"
      },
      {
        "duration": 183,
        "start_time": "2022-05-10T18:42:55.443Z"
      },
      {
        "duration": 18,
        "start_time": "2022-05-10T18:42:55.629Z"
      },
      {
        "duration": 22,
        "start_time": "2022-05-10T18:42:55.649Z"
      },
      {
        "duration": 44,
        "start_time": "2022-05-10T18:42:55.673Z"
      },
      {
        "duration": 4139,
        "start_time": "2022-05-10T18:42:55.718Z"
      },
      {
        "duration": 8,
        "start_time": "2022-05-10T18:42:59.859Z"
      },
      {
        "duration": 55,
        "start_time": "2022-05-10T18:42:59.869Z"
      },
      {
        "duration": 18,
        "start_time": "2022-05-10T18:42:59.929Z"
      },
      {
        "duration": 21,
        "start_time": "2022-05-10T18:42:59.949Z"
      },
      {
        "duration": 331,
        "start_time": "2022-05-10T18:42:59.972Z"
      },
      {
        "duration": 2481,
        "start_time": "2022-05-10T18:43:00.307Z"
      },
      {
        "duration": 28,
        "start_time": "2022-05-10T18:43:15.276Z"
      },
      {
        "duration": 15,
        "start_time": "2022-05-10T18:58:01.422Z"
      },
      {
        "duration": 3,
        "start_time": "2022-05-10T18:58:07.297Z"
      },
      {
        "duration": 50,
        "start_time": "2022-05-10T18:58:07.305Z"
      },
      {
        "duration": 15,
        "start_time": "2022-05-10T18:58:07.358Z"
      },
      {
        "duration": 16,
        "start_time": "2022-05-10T18:58:07.374Z"
      },
      {
        "duration": 19,
        "start_time": "2022-05-10T18:58:07.392Z"
      },
      {
        "duration": 11,
        "start_time": "2022-05-10T18:58:07.413Z"
      },
      {
        "duration": 16,
        "start_time": "2022-05-10T18:58:07.427Z"
      },
      {
        "duration": 11,
        "start_time": "2022-05-10T18:58:07.444Z"
      },
      {
        "duration": 5,
        "start_time": "2022-05-10T18:58:07.457Z"
      },
      {
        "duration": 36,
        "start_time": "2022-05-10T18:58:07.508Z"
      },
      {
        "duration": 4567,
        "start_time": "2022-05-10T18:58:07.548Z"
      },
      {
        "duration": 9,
        "start_time": "2022-05-10T18:58:12.118Z"
      },
      {
        "duration": 6,
        "start_time": "2022-05-10T18:58:12.130Z"
      },
      {
        "duration": 5,
        "start_time": "2022-05-10T18:58:12.138Z"
      },
      {
        "duration": 6,
        "start_time": "2022-05-10T18:58:12.144Z"
      },
      {
        "duration": 6,
        "start_time": "2022-05-10T18:58:12.152Z"
      },
      {
        "duration": 63,
        "start_time": "2022-05-10T18:58:12.160Z"
      },
      {
        "duration": 5,
        "start_time": "2022-05-10T18:58:12.225Z"
      },
      {
        "duration": 21,
        "start_time": "2022-05-10T18:58:12.232Z"
      },
      {
        "duration": 8,
        "start_time": "2022-05-10T18:58:12.254Z"
      },
      {
        "duration": 172,
        "start_time": "2022-05-10T18:58:12.263Z"
      },
      {
        "duration": 18,
        "start_time": "2022-05-10T18:58:12.437Z"
      },
      {
        "duration": 21,
        "start_time": "2022-05-10T18:58:12.456Z"
      },
      {
        "duration": 44,
        "start_time": "2022-05-10T18:58:12.479Z"
      },
      {
        "duration": 4215,
        "start_time": "2022-05-10T18:58:12.524Z"
      },
      {
        "duration": 8,
        "start_time": "2022-05-10T18:58:16.741Z"
      },
      {
        "duration": 25,
        "start_time": "2022-05-10T18:58:16.751Z"
      },
      {
        "duration": 41,
        "start_time": "2022-05-10T18:58:16.778Z"
      },
      {
        "duration": 19,
        "start_time": "2022-05-10T18:58:16.822Z"
      },
      {
        "duration": 349,
        "start_time": "2022-05-10T18:58:16.843Z"
      },
      {
        "duration": 2419,
        "start_time": "2022-05-10T18:58:17.194Z"
      },
      {
        "duration": 38,
        "start_time": "2022-05-10T18:58:19.615Z"
      },
      {
        "duration": 6,
        "start_time": "2022-05-10T18:58:19.655Z"
      },
      {
        "duration": 16,
        "start_time": "2022-05-10T18:58:19.662Z"
      },
      {
        "duration": 16,
        "start_time": "2022-05-10T18:58:25.066Z"
      },
      {
        "duration": 13,
        "start_time": "2022-05-10T18:58:34.507Z"
      },
      {
        "duration": 121,
        "start_time": "2022-05-10T18:59:13.945Z"
      },
      {
        "duration": 17,
        "start_time": "2022-05-10T18:59:19.217Z"
      },
      {
        "duration": 15,
        "start_time": "2022-05-10T19:03:03.226Z"
      },
      {
        "duration": 25,
        "start_time": "2022-05-10T19:04:21.133Z"
      },
      {
        "duration": 14,
        "start_time": "2022-05-10T19:10:43.050Z"
      },
      {
        "duration": 15,
        "start_time": "2022-05-10T19:16:21.890Z"
      },
      {
        "duration": 288,
        "start_time": "2022-05-10T19:32:02.563Z"
      },
      {
        "duration": 16,
        "start_time": "2022-05-10T19:37:06.941Z"
      },
      {
        "duration": 13,
        "start_time": "2022-05-10T19:45:44.092Z"
      },
      {
        "duration": 13,
        "start_time": "2022-05-10T19:46:00.450Z"
      },
      {
        "duration": 25,
        "start_time": "2022-05-10T19:46:14.052Z"
      },
      {
        "duration": 32,
        "start_time": "2022-05-10T19:46:30.124Z"
      },
      {
        "duration": 27,
        "start_time": "2022-05-10T19:47:09.394Z"
      },
      {
        "duration": 7,
        "start_time": "2022-05-10T19:47:23.862Z"
      },
      {
        "duration": 10,
        "start_time": "2022-05-10T19:47:49.980Z"
      },
      {
        "duration": 9,
        "start_time": "2022-05-10T19:47:58.133Z"
      },
      {
        "duration": 12,
        "start_time": "2022-05-10T19:49:12.821Z"
      },
      {
        "duration": 13,
        "start_time": "2022-05-10T19:50:50.662Z"
      },
      {
        "duration": 13,
        "start_time": "2022-05-10T19:51:21.646Z"
      },
      {
        "duration": 100,
        "start_time": "2022-05-10T20:03:11.902Z"
      },
      {
        "duration": 1160,
        "start_time": "2022-05-10T20:03:37.960Z"
      },
      {
        "duration": 64,
        "start_time": "2022-05-10T20:03:39.122Z"
      },
      {
        "duration": 15,
        "start_time": "2022-05-10T20:03:39.187Z"
      },
      {
        "duration": 17,
        "start_time": "2022-05-10T20:03:39.204Z"
      },
      {
        "duration": 5,
        "start_time": "2022-05-10T20:03:39.222Z"
      },
      {
        "duration": 12,
        "start_time": "2022-05-10T20:03:39.228Z"
      },
      {
        "duration": 13,
        "start_time": "2022-05-10T20:03:39.242Z"
      },
      {
        "duration": 12,
        "start_time": "2022-05-10T20:03:39.257Z"
      },
      {
        "duration": 37,
        "start_time": "2022-05-10T20:03:39.270Z"
      },
      {
        "duration": 34,
        "start_time": "2022-05-10T20:03:39.310Z"
      },
      {
        "duration": 4224,
        "start_time": "2022-05-10T20:03:39.345Z"
      },
      {
        "duration": 10,
        "start_time": "2022-05-10T20:03:43.571Z"
      },
      {
        "duration": 4,
        "start_time": "2022-05-10T20:03:43.583Z"
      },
      {
        "duration": 22,
        "start_time": "2022-05-10T20:03:43.589Z"
      },
      {
        "duration": 5,
        "start_time": "2022-05-10T20:03:43.613Z"
      },
      {
        "duration": 6,
        "start_time": "2022-05-10T20:03:43.620Z"
      },
      {
        "duration": 22,
        "start_time": "2022-05-10T20:03:43.627Z"
      },
      {
        "duration": 5,
        "start_time": "2022-05-10T20:03:43.651Z"
      },
      {
        "duration": 52,
        "start_time": "2022-05-10T20:03:43.657Z"
      },
      {
        "duration": 7,
        "start_time": "2022-05-10T20:03:43.710Z"
      },
      {
        "duration": 166,
        "start_time": "2022-05-10T20:03:43.719Z"
      },
      {
        "duration": 26,
        "start_time": "2022-05-10T20:03:43.887Z"
      },
      {
        "duration": 21,
        "start_time": "2022-05-10T20:03:43.914Z"
      },
      {
        "duration": 27,
        "start_time": "2022-05-10T20:03:43.936Z"
      },
      {
        "duration": 3966,
        "start_time": "2022-05-10T20:03:43.965Z"
      },
      {
        "duration": 8,
        "start_time": "2022-05-10T20:03:47.933Z"
      },
      {
        "duration": 25,
        "start_time": "2022-05-10T20:03:47.943Z"
      },
      {
        "duration": 37,
        "start_time": "2022-05-10T20:03:47.971Z"
      },
      {
        "duration": 17,
        "start_time": "2022-05-10T20:03:48.010Z"
      },
      {
        "duration": 331,
        "start_time": "2022-05-10T20:03:48.029Z"
      },
      {
        "duration": 2399,
        "start_time": "2022-05-10T20:03:48.362Z"
      },
      {
        "duration": 44,
        "start_time": "2022-05-10T20:03:50.763Z"
      },
      {
        "duration": 6,
        "start_time": "2022-05-10T20:03:50.809Z"
      },
      {
        "duration": 20,
        "start_time": "2022-05-10T20:03:50.817Z"
      },
      {
        "duration": 25,
        "start_time": "2022-05-10T20:03:50.839Z"
      },
      {
        "duration": 43,
        "start_time": "2022-05-10T20:03:50.866Z"
      },
      {
        "duration": 18,
        "start_time": "2022-05-10T20:03:50.910Z"
      },
      {
        "duration": 282,
        "start_time": "2022-05-10T20:03:50.930Z"
      },
      {
        "duration": 18,
        "start_time": "2022-05-10T20:03:51.214Z"
      },
      {
        "duration": 377,
        "start_time": "2022-05-10T20:03:51.233Z"
      },
      {
        "duration": 17,
        "start_time": "2022-05-10T20:03:51.612Z"
      },
      {
        "duration": 252,
        "start_time": "2022-05-10T20:03:51.630Z"
      },
      {
        "duration": 35,
        "start_time": "2022-05-10T20:03:51.883Z"
      },
      {
        "duration": 12,
        "start_time": "2022-05-10T20:03:51.920Z"
      },
      {
        "duration": 83,
        "start_time": "2022-05-10T20:03:51.934Z"
      },
      {
        "duration": 89,
        "start_time": "2022-05-10T20:04:26.399Z"
      },
      {
        "duration": 10,
        "start_time": "2022-05-10T20:05:20.271Z"
      },
      {
        "duration": 7,
        "start_time": "2022-05-10T20:05:32.539Z"
      },
      {
        "duration": 6,
        "start_time": "2022-05-10T20:05:37.214Z"
      },
      {
        "duration": 6,
        "start_time": "2022-05-10T20:05:53.180Z"
      },
      {
        "duration": 1371,
        "start_time": "2022-05-11T10:37:22.690Z"
      },
      {
        "duration": 58,
        "start_time": "2022-05-11T10:37:24.065Z"
      },
      {
        "duration": 13,
        "start_time": "2022-05-11T10:37:24.125Z"
      },
      {
        "duration": 18,
        "start_time": "2022-05-11T10:37:24.140Z"
      },
      {
        "duration": 25,
        "start_time": "2022-05-11T10:37:24.160Z"
      },
      {
        "duration": 9,
        "start_time": "2022-05-11T10:37:24.187Z"
      },
      {
        "duration": 11,
        "start_time": "2022-05-11T10:37:24.197Z"
      },
      {
        "duration": 11,
        "start_time": "2022-05-11T10:37:24.210Z"
      },
      {
        "duration": 5,
        "start_time": "2022-05-11T10:37:24.222Z"
      },
      {
        "duration": 53,
        "start_time": "2022-05-11T10:37:24.230Z"
      },
      {
        "duration": 3775,
        "start_time": "2022-05-11T10:37:24.285Z"
      },
      {
        "duration": 12,
        "start_time": "2022-05-11T10:37:28.062Z"
      },
      {
        "duration": 14,
        "start_time": "2022-05-11T10:37:28.077Z"
      },
      {
        "duration": 5,
        "start_time": "2022-05-11T10:37:28.093Z"
      },
      {
        "duration": 6,
        "start_time": "2022-05-11T10:37:28.100Z"
      },
      {
        "duration": 8,
        "start_time": "2022-05-11T10:37:28.107Z"
      },
      {
        "duration": 24,
        "start_time": "2022-05-11T10:37:28.117Z"
      },
      {
        "duration": 5,
        "start_time": "2022-05-11T10:37:28.142Z"
      },
      {
        "duration": 39,
        "start_time": "2022-05-11T10:37:28.149Z"
      },
      {
        "duration": 6,
        "start_time": "2022-05-11T10:37:28.189Z"
      },
      {
        "duration": 140,
        "start_time": "2022-05-11T10:37:28.197Z"
      },
      {
        "duration": 24,
        "start_time": "2022-05-11T10:37:28.339Z"
      },
      {
        "duration": 22,
        "start_time": "2022-05-11T10:37:28.364Z"
      },
      {
        "duration": 16,
        "start_time": "2022-05-11T10:37:28.388Z"
      },
      {
        "duration": 4792,
        "start_time": "2022-05-11T10:37:28.406Z"
      },
      {
        "duration": 7,
        "start_time": "2022-05-11T10:37:33.200Z"
      },
      {
        "duration": 23,
        "start_time": "2022-05-11T10:37:33.209Z"
      },
      {
        "duration": 18,
        "start_time": "2022-05-11T10:37:33.252Z"
      },
      {
        "duration": 17,
        "start_time": "2022-05-11T10:37:33.271Z"
      },
      {
        "duration": 288,
        "start_time": "2022-05-11T10:37:33.290Z"
      },
      {
        "duration": 2500,
        "start_time": "2022-05-11T10:37:33.580Z"
      },
      {
        "duration": 34,
        "start_time": "2022-05-11T10:37:36.083Z"
      },
      {
        "duration": 7,
        "start_time": "2022-05-11T10:37:36.119Z"
      },
      {
        "duration": 41,
        "start_time": "2022-05-11T10:37:36.127Z"
      },
      {
        "duration": 18,
        "start_time": "2022-05-11T10:37:36.170Z"
      },
      {
        "duration": 16,
        "start_time": "2022-05-11T10:37:36.189Z"
      },
      {
        "duration": 267,
        "start_time": "2022-05-11T10:37:36.206Z"
      },
      {
        "duration": 24,
        "start_time": "2022-05-11T10:37:36.474Z"
      },
      {
        "duration": 352,
        "start_time": "2022-05-11T10:37:36.500Z"
      },
      {
        "duration": 20,
        "start_time": "2022-05-11T10:37:36.854Z"
      },
      {
        "duration": 199,
        "start_time": "2022-05-11T10:37:36.876Z"
      },
      {
        "duration": 15,
        "start_time": "2022-05-11T10:37:37.077Z"
      },
      {
        "duration": 13,
        "start_time": "2022-05-11T10:37:37.093Z"
      },
      {
        "duration": 179,
        "start_time": "2022-05-11T12:38:48.059Z"
      },
      {
        "duration": 1424,
        "start_time": "2022-05-11T12:45:38.844Z"
      },
      {
        "duration": 61,
        "start_time": "2022-05-11T12:45:40.270Z"
      },
      {
        "duration": 17,
        "start_time": "2022-05-11T12:45:40.334Z"
      },
      {
        "duration": 20,
        "start_time": "2022-05-11T12:45:40.354Z"
      },
      {
        "duration": 5,
        "start_time": "2022-05-11T12:45:40.376Z"
      },
      {
        "duration": 16,
        "start_time": "2022-05-11T12:45:40.383Z"
      },
      {
        "duration": 15,
        "start_time": "2022-05-11T12:45:40.435Z"
      },
      {
        "duration": 26,
        "start_time": "2022-05-11T12:45:40.452Z"
      },
      {
        "duration": 11,
        "start_time": "2022-05-11T12:45:40.481Z"
      },
      {
        "duration": 45,
        "start_time": "2022-05-11T12:45:40.495Z"
      },
      {
        "duration": 4578,
        "start_time": "2022-05-11T12:45:40.542Z"
      },
      {
        "duration": 12,
        "start_time": "2022-05-11T12:45:45.122Z"
      },
      {
        "duration": 11,
        "start_time": "2022-05-11T12:45:45.136Z"
      },
      {
        "duration": 12,
        "start_time": "2022-05-11T12:45:45.149Z"
      },
      {
        "duration": 16,
        "start_time": "2022-05-11T12:45:45.163Z"
      },
      {
        "duration": 14,
        "start_time": "2022-05-11T12:45:45.181Z"
      },
      {
        "duration": 37,
        "start_time": "2022-05-11T12:45:45.197Z"
      },
      {
        "duration": 7,
        "start_time": "2022-05-11T12:45:45.236Z"
      },
      {
        "duration": 32,
        "start_time": "2022-05-11T12:45:45.245Z"
      },
      {
        "duration": 7,
        "start_time": "2022-05-11T12:45:45.280Z"
      },
      {
        "duration": 171,
        "start_time": "2022-05-11T12:45:45.289Z"
      },
      {
        "duration": 17,
        "start_time": "2022-05-11T12:45:45.462Z"
      },
      {
        "duration": 21,
        "start_time": "2022-05-11T12:45:45.481Z"
      },
      {
        "duration": 44,
        "start_time": "2022-05-11T12:45:45.504Z"
      },
      {
        "duration": 4336,
        "start_time": "2022-05-11T12:45:45.550Z"
      },
      {
        "duration": 8,
        "start_time": "2022-05-11T12:45:49.888Z"
      },
      {
        "duration": 38,
        "start_time": "2022-05-11T12:45:49.898Z"
      },
      {
        "duration": 15,
        "start_time": "2022-05-11T12:45:49.940Z"
      },
      {
        "duration": 23,
        "start_time": "2022-05-11T12:45:49.956Z"
      },
      {
        "duration": 327,
        "start_time": "2022-05-11T12:45:49.981Z"
      },
      {
        "duration": 2514,
        "start_time": "2022-05-11T12:45:50.310Z"
      },
      {
        "duration": 33,
        "start_time": "2022-05-11T12:45:52.826Z"
      },
      {
        "duration": 6,
        "start_time": "2022-05-11T12:45:52.861Z"
      },
      {
        "duration": 19,
        "start_time": "2022-05-11T12:45:52.868Z"
      },
      {
        "duration": 16,
        "start_time": "2022-05-11T12:45:52.889Z"
      },
      {
        "duration": 42,
        "start_time": "2022-05-11T12:45:52.907Z"
      },
      {
        "duration": 275,
        "start_time": "2022-05-11T12:45:52.951Z"
      },
      {
        "duration": 19,
        "start_time": "2022-05-11T12:45:53.228Z"
      },
      {
        "duration": 299,
        "start_time": "2022-05-11T12:45:53.248Z"
      },
      {
        "duration": 17,
        "start_time": "2022-05-11T12:45:53.549Z"
      },
      {
        "duration": 212,
        "start_time": "2022-05-11T12:45:53.568Z"
      },
      {
        "duration": 14,
        "start_time": "2022-05-11T12:45:53.782Z"
      },
      {
        "duration": 16,
        "start_time": "2022-05-11T12:45:53.797Z"
      },
      {
        "duration": 376,
        "start_time": "2022-05-11T12:46:59.192Z"
      },
      {
        "duration": 304,
        "start_time": "2022-05-11T12:47:06.272Z"
      },
      {
        "duration": 11,
        "start_time": "2022-05-11T12:48:09.360Z"
      },
      {
        "duration": 11,
        "start_time": "2022-05-11T12:48:12.505Z"
      },
      {
        "duration": 11,
        "start_time": "2022-05-11T12:49:17.680Z"
      },
      {
        "duration": 11,
        "start_time": "2022-05-11T12:50:02.904Z"
      },
      {
        "duration": 281,
        "start_time": "2022-05-11T12:52:37.649Z"
      },
      {
        "duration": 352,
        "start_time": "2022-05-11T12:54:44.104Z"
      },
      {
        "duration": 268,
        "start_time": "2022-05-11T12:55:15.430Z"
      },
      {
        "duration": 1441,
        "start_time": "2022-05-11T13:00:02.616Z"
      },
      {
        "duration": 62,
        "start_time": "2022-05-11T13:00:04.059Z"
      },
      {
        "duration": 24,
        "start_time": "2022-05-11T13:00:04.123Z"
      },
      {
        "duration": 32,
        "start_time": "2022-05-11T13:00:04.150Z"
      },
      {
        "duration": 7,
        "start_time": "2022-05-11T13:00:04.184Z"
      },
      {
        "duration": 41,
        "start_time": "2022-05-11T13:00:04.193Z"
      },
      {
        "duration": 24,
        "start_time": "2022-05-11T13:00:04.236Z"
      },
      {
        "duration": 41,
        "start_time": "2022-05-11T13:00:04.262Z"
      },
      {
        "duration": 16,
        "start_time": "2022-05-11T13:00:04.305Z"
      },
      {
        "duration": 89,
        "start_time": "2022-05-11T13:00:04.325Z"
      },
      {
        "duration": 4741,
        "start_time": "2022-05-11T13:00:04.416Z"
      },
      {
        "duration": 10,
        "start_time": "2022-05-11T13:00:09.159Z"
      },
      {
        "duration": 26,
        "start_time": "2022-05-11T13:00:09.171Z"
      },
      {
        "duration": 14,
        "start_time": "2022-05-11T13:00:09.199Z"
      },
      {
        "duration": 24,
        "start_time": "2022-05-11T13:00:09.215Z"
      },
      {
        "duration": 35,
        "start_time": "2022-05-11T13:00:09.240Z"
      },
      {
        "duration": 27,
        "start_time": "2022-05-11T13:00:09.277Z"
      },
      {
        "duration": 20,
        "start_time": "2022-05-11T13:00:09.306Z"
      },
      {
        "duration": 34,
        "start_time": "2022-05-11T13:00:09.327Z"
      },
      {
        "duration": 21,
        "start_time": "2022-05-11T13:00:09.362Z"
      },
      {
        "duration": 184,
        "start_time": "2022-05-11T13:00:09.385Z"
      },
      {
        "duration": 21,
        "start_time": "2022-05-11T13:00:09.571Z"
      },
      {
        "duration": 26,
        "start_time": "2022-05-11T13:00:09.593Z"
      },
      {
        "duration": 20,
        "start_time": "2022-05-11T13:00:09.634Z"
      },
      {
        "duration": 4307,
        "start_time": "2022-05-11T13:00:09.655Z"
      },
      {
        "duration": 12,
        "start_time": "2022-05-11T13:00:13.964Z"
      },
      {
        "duration": 34,
        "start_time": "2022-05-11T13:00:13.978Z"
      },
      {
        "duration": 17,
        "start_time": "2022-05-11T13:00:14.037Z"
      },
      {
        "duration": 22,
        "start_time": "2022-05-11T13:00:14.056Z"
      },
      {
        "duration": 374,
        "start_time": "2022-05-11T13:00:14.080Z"
      },
      {
        "duration": 2482,
        "start_time": "2022-05-11T13:00:14.455Z"
      },
      {
        "duration": 30,
        "start_time": "2022-05-11T13:00:16.939Z"
      },
      {
        "duration": 6,
        "start_time": "2022-05-11T13:00:16.971Z"
      },
      {
        "duration": 22,
        "start_time": "2022-05-11T13:00:16.979Z"
      },
      {
        "duration": 42,
        "start_time": "2022-05-11T13:00:17.004Z"
      },
      {
        "duration": 19,
        "start_time": "2022-05-11T13:00:17.048Z"
      },
      {
        "duration": 283,
        "start_time": "2022-05-11T13:00:17.069Z"
      },
      {
        "duration": 11,
        "start_time": "2022-05-11T13:00:17.354Z"
      },
      {
        "duration": 289,
        "start_time": "2022-05-11T13:00:17.366Z"
      },
      {
        "duration": 17,
        "start_time": "2022-05-11T13:00:17.657Z"
      },
      {
        "duration": 296,
        "start_time": "2022-05-11T13:00:17.676Z"
      },
      {
        "duration": 21,
        "start_time": "2022-05-11T13:00:17.974Z"
      },
      {
        "duration": 213,
        "start_time": "2022-05-11T13:00:17.997Z"
      },
      {
        "duration": 25,
        "start_time": "2022-05-11T13:00:18.212Z"
      },
      {
        "duration": 16,
        "start_time": "2022-05-11T13:00:18.240Z"
      }
    ],
    "kernelspec": {
      "display_name": "Python 3 (ipykernel)",
      "language": "python",
      "name": "python3"
    },
    "language_info": {
      "codemirror_mode": {
        "name": "ipython",
        "version": 3
      },
      "file_extension": ".py",
      "mimetype": "text/x-python",
      "name": "python",
      "nbconvert_exporter": "python",
      "pygments_lexer": "ipython3",
      "version": "3.9.7"
    },
    "toc": {
      "base_numbering": "",
      "nav_menu": {},
      "number_sections": false,
      "sideBar": true,
      "skip_h1_title": false,
      "title_cell": "Table of Contents",
      "title_sidebar": "Contents",
      "toc_cell": false,
      "toc_position": {
        "height": "calc(100% - 180px)",
        "left": "10px",
        "top": "150px",
        "width": "289.597px"
      },
      "toc_section_display": true,
      "toc_window_display": true
    },
    "colab": {
      "provenance": []
    }
  },
  "nbformat": 4,
  "nbformat_minor": 0
}