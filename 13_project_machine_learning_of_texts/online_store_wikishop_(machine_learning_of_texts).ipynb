{
  "cells": [
    {
      "cell_type": "markdown",
      "metadata": {
        "id": "Js1PTj37XUem"
      },
      "source": [
        "# Проект для «Викишоп» c BERT"
      ]
    },
    {
      "cell_type": "markdown",
      "metadata": {
        "id": "Pnkbl8ZTXUen"
      },
      "source": [
        "Интернет-магазин «Викишоп» запускает новый сервис. Теперь пользователи могут редактировать и дополнять описания товаров, как в вики-сообществах. То есть клиенты предлагают свои правки и комментируют изменения других. Магазину нужен инструмент, который будет искать токсичные комментарии и отправлять их на модерацию. \n",
        "\n",
        "Обучите модель классифицировать комментарии на позитивные и негативные. В вашем распоряжении набор данных с разметкой о токсичности правок.\n",
        "\n",
        "Постройте модель со значением метрики качества *F1* не меньше 0.75. \n",
        "\n",
        "**Инструкция по выполнению проекта**\n",
        "\n",
        "1. Загрузите и подготовьте данные.\n",
        "2. Обучите разные модели. \n",
        "3. Сделайте выводы.\n",
        "\n",
        "Для выполнения проекта применять *BERT* необязательно, но вы можете попробовать."
      ]
    },
    {
      "cell_type": "markdown",
      "metadata": {
        "id": "ho_65K71XUep"
      },
      "source": [
        "## Подготовка"
      ]
    },
    {
      "cell_type": "markdown",
      "metadata": {
        "id": "o_nBY-wfuHQq"
      },
      "source": [
        "Загружаем нужные библиотеки"
      ]
    },
    {
      "cell_type": "code",
      "execution_count": 1,
      "metadata": {
        "colab": {
          "base_uri": "https://localhost:8080/"
        },
        "id": "tqrf2YRYaUYG",
        "outputId": "7a3452d9-fc30-462e-a716-0b08791ea69f"
      },
      "outputs": [
        {
          "output_type": "stream",
          "name": "stdout",
          "text": [
            "Looking in indexes: https://pypi.org/simple, https://us-python.pkg.dev/colab-wheels/public/simple/\n",
            "Collecting transformers\n",
            "  Downloading transformers-4.26.0-py3-none-any.whl (6.3 MB)\n",
            "\u001b[2K     \u001b[90m━━━━━━━━━━━━━━━━━━━━━━━━━━━━━━━━━━━━━━━━\u001b[0m \u001b[32m6.3/6.3 MB\u001b[0m \u001b[31m72.5 MB/s\u001b[0m eta \u001b[36m0:00:00\u001b[0m\n",
            "\u001b[?25hRequirement already satisfied: numpy>=1.17 in /usr/local/lib/python3.8/dist-packages (from transformers) (1.21.6)\n",
            "Requirement already satisfied: requests in /usr/local/lib/python3.8/dist-packages (from transformers) (2.25.1)\n",
            "Requirement already satisfied: pyyaml>=5.1 in /usr/local/lib/python3.8/dist-packages (from transformers) (6.0)\n",
            "Requirement already satisfied: packaging>=20.0 in /usr/local/lib/python3.8/dist-packages (from transformers) (23.0)\n",
            "Requirement already satisfied: regex!=2019.12.17 in /usr/local/lib/python3.8/dist-packages (from transformers) (2022.6.2)\n",
            "Collecting tokenizers!=0.11.3,<0.14,>=0.11.1\n",
            "  Downloading tokenizers-0.13.2-cp38-cp38-manylinux_2_17_x86_64.manylinux2014_x86_64.whl (7.6 MB)\n",
            "\u001b[2K     \u001b[90m━━━━━━━━━━━━━━━━━━━━━━━━━━━━━━━━━━━━━━━━\u001b[0m \u001b[32m7.6/7.6 MB\u001b[0m \u001b[31m76.9 MB/s\u001b[0m eta \u001b[36m0:00:00\u001b[0m\n",
            "\u001b[?25hRequirement already satisfied: tqdm>=4.27 in /usr/local/lib/python3.8/dist-packages (from transformers) (4.64.1)\n",
            "Collecting huggingface-hub<1.0,>=0.11.0\n",
            "  Downloading huggingface_hub-0.12.0-py3-none-any.whl (190 kB)\n",
            "\u001b[2K     \u001b[90m━━━━━━━━━━━━━━━━━━━━━━━━━━━━━━━━━━━━━━\u001b[0m \u001b[32m190.3/190.3 KB\u001b[0m \u001b[31m22.8 MB/s\u001b[0m eta \u001b[36m0:00:00\u001b[0m\n",
            "\u001b[?25hRequirement already satisfied: filelock in /usr/local/lib/python3.8/dist-packages (from transformers) (3.9.0)\n",
            "Requirement already satisfied: typing-extensions>=3.7.4.3 in /usr/local/lib/python3.8/dist-packages (from huggingface-hub<1.0,>=0.11.0->transformers) (4.4.0)\n",
            "Requirement already satisfied: chardet<5,>=3.0.2 in /usr/local/lib/python3.8/dist-packages (from requests->transformers) (4.0.0)\n",
            "Requirement already satisfied: urllib3<1.27,>=1.21.1 in /usr/local/lib/python3.8/dist-packages (from requests->transformers) (1.24.3)\n",
            "Requirement already satisfied: idna<3,>=2.5 in /usr/local/lib/python3.8/dist-packages (from requests->transformers) (2.10)\n",
            "Requirement already satisfied: certifi>=2017.4.17 in /usr/local/lib/python3.8/dist-packages (from requests->transformers) (2022.12.7)\n",
            "Installing collected packages: tokenizers, huggingface-hub, transformers\n",
            "Successfully installed huggingface-hub-0.12.0 tokenizers-0.13.2 transformers-4.26.0\n"
          ]
        }
      ],
      "source": [
        "!pip install transformers"
      ]
    },
    {
      "cell_type": "code",
      "execution_count": 2,
      "metadata": {
        "colab": {
          "base_uri": "https://localhost:8080/"
        },
        "id": "SdQ3gDpbW084",
        "outputId": "d1f357eb-97fd-42be-9cad-2db8a2f62ad7"
      },
      "outputs": [
        {
          "output_type": "stream",
          "name": "stdout",
          "text": [
            "Looking in indexes: https://pypi.org/simple, https://us-python.pkg.dev/colab-wheels/public/simple/\n",
            "Collecting detoxify\n",
            "  Downloading detoxify-0.5.1-py3-none-any.whl (12 kB)\n",
            "Collecting sentencepiece>=0.1.94\n",
            "  Downloading sentencepiece-0.1.97-cp38-cp38-manylinux_2_17_x86_64.manylinux2014_x86_64.whl (1.3 MB)\n",
            "\u001b[2K     \u001b[90m━━━━━━━━━━━━━━━━━━━━━━━━━━━━━━━━━━━━━━━━\u001b[0m \u001b[32m1.3/1.3 MB\u001b[0m \u001b[31m45.1 MB/s\u001b[0m eta \u001b[36m0:00:00\u001b[0m\n",
            "\u001b[?25hCollecting transformers==4.22.1\n",
            "  Downloading transformers-4.22.1-py3-none-any.whl (4.9 MB)\n",
            "\u001b[2K     \u001b[90m━━━━━━━━━━━━━━━━━━━━━━━━━━━━━━━━━━━━━━━━\u001b[0m \u001b[32m4.9/4.9 MB\u001b[0m \u001b[31m66.7 MB/s\u001b[0m eta \u001b[36m0:00:00\u001b[0m\n",
            "\u001b[?25hRequirement already satisfied: torch>=1.7.0 in /usr/local/lib/python3.8/dist-packages (from detoxify) (1.13.1+cu116)\n",
            "Requirement already satisfied: packaging>=20.0 in /usr/local/lib/python3.8/dist-packages (from transformers==4.22.1->detoxify) (23.0)\n",
            "Requirement already satisfied: huggingface-hub<1.0,>=0.9.0 in /usr/local/lib/python3.8/dist-packages (from transformers==4.22.1->detoxify) (0.12.0)\n",
            "Requirement already satisfied: tqdm>=4.27 in /usr/local/lib/python3.8/dist-packages (from transformers==4.22.1->detoxify) (4.64.1)\n",
            "Requirement already satisfied: pyyaml>=5.1 in /usr/local/lib/python3.8/dist-packages (from transformers==4.22.1->detoxify) (6.0)\n",
            "Requirement already satisfied: requests in /usr/local/lib/python3.8/dist-packages (from transformers==4.22.1->detoxify) (2.25.1)\n",
            "Collecting tokenizers!=0.11.3,<0.13,>=0.11.1\n",
            "  Downloading tokenizers-0.12.1-cp38-cp38-manylinux_2_12_x86_64.manylinux2010_x86_64.whl (6.6 MB)\n",
            "\u001b[2K     \u001b[90m━━━━━━━━━━━━━━━━━━━━━━━━━━━━━━━━━━━━━━━━\u001b[0m \u001b[32m6.6/6.6 MB\u001b[0m \u001b[31m101.2 MB/s\u001b[0m eta \u001b[36m0:00:00\u001b[0m\n",
            "\u001b[?25hRequirement already satisfied: filelock in /usr/local/lib/python3.8/dist-packages (from transformers==4.22.1->detoxify) (3.9.0)\n",
            "Requirement already satisfied: numpy>=1.17 in /usr/local/lib/python3.8/dist-packages (from transformers==4.22.1->detoxify) (1.21.6)\n",
            "Requirement already satisfied: regex!=2019.12.17 in /usr/local/lib/python3.8/dist-packages (from transformers==4.22.1->detoxify) (2022.6.2)\n",
            "Requirement already satisfied: typing-extensions in /usr/local/lib/python3.8/dist-packages (from torch>=1.7.0->detoxify) (4.4.0)\n",
            "Requirement already satisfied: chardet<5,>=3.0.2 in /usr/local/lib/python3.8/dist-packages (from requests->transformers==4.22.1->detoxify) (4.0.0)\n",
            "Requirement already satisfied: certifi>=2017.4.17 in /usr/local/lib/python3.8/dist-packages (from requests->transformers==4.22.1->detoxify) (2022.12.7)\n",
            "Requirement already satisfied: idna<3,>=2.5 in /usr/local/lib/python3.8/dist-packages (from requests->transformers==4.22.1->detoxify) (2.10)\n",
            "Requirement already satisfied: urllib3<1.27,>=1.21.1 in /usr/local/lib/python3.8/dist-packages (from requests->transformers==4.22.1->detoxify) (1.24.3)\n",
            "Installing collected packages: tokenizers, sentencepiece, transformers, detoxify\n",
            "  Attempting uninstall: tokenizers\n",
            "    Found existing installation: tokenizers 0.13.2\n",
            "    Uninstalling tokenizers-0.13.2:\n",
            "      Successfully uninstalled tokenizers-0.13.2\n",
            "  Attempting uninstall: transformers\n",
            "    Found existing installation: transformers 4.26.0\n",
            "    Uninstalling transformers-4.26.0:\n",
            "      Successfully uninstalled transformers-4.26.0\n",
            "Successfully installed detoxify-0.5.1 sentencepiece-0.1.97 tokenizers-0.12.1 transformers-4.22.1\n"
          ]
        }
      ],
      "source": [
        "!pip install detoxify"
      ]
    },
    {
      "cell_type": "code",
      "execution_count": 3,
      "metadata": {
        "id": "yV1-ttqKXUer",
        "colab": {
          "base_uri": "https://localhost:8080/",
          "height": 104,
          "referenced_widgets": [
            "f6b323d504744797a044a9b73e271e95",
            "4de28e684b48468ca8bb3529286d7963",
            "0004ec5ec3d043b6bac854576a4b5f0f",
            "3067e6c10a904848a803749bd733d8b7",
            "ada01ae087ed45a7a1e043d0cd6710d0",
            "4d201fcf13584bd1a6a91e4f89e0e14d",
            "4e9ee1a700e6454e9dfcd1d6f5a63d60",
            "c11cde799a1c4f02b01a3fdb2a69124f",
            "7802df33226344baa10134fbd697b651",
            "bc732cdd8cd64e0eadf7aaeaec3327f1",
            "edc71cb6e7714759940bb73794e14c67"
          ]
        },
        "outputId": "a54ab405-59d3-4dd6-999b-508b05602280"
      },
      "outputs": [
        {
          "output_type": "stream",
          "name": "stderr",
          "text": [
            "The cache for model files in Transformers v4.22.0 has been updated. Migrating your old cache. This is a one-time only operation. You can interrupt this and resume the migration later on by calling `transformers.utils.move_cache()`.\n"
          ]
        },
        {
          "output_type": "stream",
          "name": "stdout",
          "text": [
            "Moving 0 files to the new cache system\n"
          ]
        },
        {
          "output_type": "display_data",
          "data": {
            "text/plain": [
              "0it [00:00, ?it/s]"
            ],
            "application/vnd.jupyter.widget-view+json": {
              "version_major": 2,
              "version_minor": 0,
              "model_id": "f6b323d504744797a044a9b73e271e95"
            }
          },
          "metadata": {}
        }
      ],
      "source": [
        "import pandas as pd\n",
        "import numpy as np\n",
        "\n",
        "import re\n",
        "import nltk\n",
        "\n",
        "from nltk.corpus import stopwords\n",
        "from nltk.stem import WordNetLemmatizer\n",
        "from tqdm import tqdm\n",
        "from sklearn.feature_extraction.text import TfidfVectorizer\n",
        "from sklearn.model_selection import train_test_split, cross_val_score, GridSearchCV, RandomizedSearchCV, PredefinedSplit\n",
        "from sklearn.linear_model import LogisticRegression\n",
        "from sklearn.linear_model import SGDClassifier\n",
        "from sklearn.pipeline import Pipeline\n",
        "\n",
        "from sklearn.metrics import f1_score\n",
        "from sklearn.utils import shuffle\n",
        "\n",
        "import warnings\n",
        "warnings.filterwarnings('ignore')\n",
        "\n",
        "import torch\n",
        "import transformers as ppb\n",
        "from detoxify import Detoxify\n",
        "\n",
        "from lightgbm import LGBMClassifier\n",
        "import lightgbm as lgb\n",
        "from scipy import sparse"
      ]
    },
    {
      "cell_type": "markdown",
      "metadata": {
        "id": "pwjmRURwuPZr"
      },
      "source": [
        "Прочтем наш датасет и выведем на экран первые 5 строк."
      ]
    },
    {
      "cell_type": "code",
      "execution_count": 21,
      "metadata": {
        "colab": {
          "base_uri": "https://localhost:8080/",
          "height": 223
        },
        "id": "jtVx_uFzYiZI",
        "outputId": "3c8d3f93-7c14-4d0e-f68a-e846636073be"
      },
      "outputs": [
        {
          "output_type": "stream",
          "name": "stderr",
          "text": [
            "Skipping line 123440: unexpected end of data\n"
          ]
        },
        {
          "output_type": "execute_result",
          "data": {
            "text/plain": [
              "                                                text  toxic\n",
              "0  Explanation\\nWhy the edits made under my usern...      0\n",
              "1  D'aww! He matches this background colour I'm s...      0\n",
              "2  Hey man, I'm really not trying to edit war. It...      0\n",
              "3  \"\\nMore\\nI can't make any real suggestions on ...      0\n",
              "4  You, sir, are my hero. Any chance you remember...      0"
            ],
            "text/html": [
              "\n",
              "  <div id=\"df-32d45ecc-7883-4c3f-a38f-aaaa2c92f2af\">\n",
              "    <div class=\"colab-df-container\">\n",
              "      <div>\n",
              "<style scoped>\n",
              "    .dataframe tbody tr th:only-of-type {\n",
              "        vertical-align: middle;\n",
              "    }\n",
              "\n",
              "    .dataframe tbody tr th {\n",
              "        vertical-align: top;\n",
              "    }\n",
              "\n",
              "    .dataframe thead th {\n",
              "        text-align: right;\n",
              "    }\n",
              "</style>\n",
              "<table border=\"1\" class=\"dataframe\">\n",
              "  <thead>\n",
              "    <tr style=\"text-align: right;\">\n",
              "      <th></th>\n",
              "      <th>text</th>\n",
              "      <th>toxic</th>\n",
              "    </tr>\n",
              "  </thead>\n",
              "  <tbody>\n",
              "    <tr>\n",
              "      <th>0</th>\n",
              "      <td>Explanation\\nWhy the edits made under my usern...</td>\n",
              "      <td>0</td>\n",
              "    </tr>\n",
              "    <tr>\n",
              "      <th>1</th>\n",
              "      <td>D'aww! He matches this background colour I'm s...</td>\n",
              "      <td>0</td>\n",
              "    </tr>\n",
              "    <tr>\n",
              "      <th>2</th>\n",
              "      <td>Hey man, I'm really not trying to edit war. It...</td>\n",
              "      <td>0</td>\n",
              "    </tr>\n",
              "    <tr>\n",
              "      <th>3</th>\n",
              "      <td>\"\\nMore\\nI can't make any real suggestions on ...</td>\n",
              "      <td>0</td>\n",
              "    </tr>\n",
              "    <tr>\n",
              "      <th>4</th>\n",
              "      <td>You, sir, are my hero. Any chance you remember...</td>\n",
              "      <td>0</td>\n",
              "    </tr>\n",
              "  </tbody>\n",
              "</table>\n",
              "</div>\n",
              "      <button class=\"colab-df-convert\" onclick=\"convertToInteractive('df-32d45ecc-7883-4c3f-a38f-aaaa2c92f2af')\"\n",
              "              title=\"Convert this dataframe to an interactive table.\"\n",
              "              style=\"display:none;\">\n",
              "        \n",
              "  <svg xmlns=\"http://www.w3.org/2000/svg\" height=\"24px\"viewBox=\"0 0 24 24\"\n",
              "       width=\"24px\">\n",
              "    <path d=\"M0 0h24v24H0V0z\" fill=\"none\"/>\n",
              "    <path d=\"M18.56 5.44l.94 2.06.94-2.06 2.06-.94-2.06-.94-.94-2.06-.94 2.06-2.06.94zm-11 1L8.5 8.5l.94-2.06 2.06-.94-2.06-.94L8.5 2.5l-.94 2.06-2.06.94zm10 10l.94 2.06.94-2.06 2.06-.94-2.06-.94-.94-2.06-.94 2.06-2.06.94z\"/><path d=\"M17.41 7.96l-1.37-1.37c-.4-.4-.92-.59-1.43-.59-.52 0-1.04.2-1.43.59L10.3 9.45l-7.72 7.72c-.78.78-.78 2.05 0 2.83L4 21.41c.39.39.9.59 1.41.59.51 0 1.02-.2 1.41-.59l7.78-7.78 2.81-2.81c.8-.78.8-2.07 0-2.86zM5.41 20L4 18.59l7.72-7.72 1.47 1.35L5.41 20z\"/>\n",
              "  </svg>\n",
              "      </button>\n",
              "      \n",
              "  <style>\n",
              "    .colab-df-container {\n",
              "      display:flex;\n",
              "      flex-wrap:wrap;\n",
              "      gap: 12px;\n",
              "    }\n",
              "\n",
              "    .colab-df-convert {\n",
              "      background-color: #E8F0FE;\n",
              "      border: none;\n",
              "      border-radius: 50%;\n",
              "      cursor: pointer;\n",
              "      display: none;\n",
              "      fill: #1967D2;\n",
              "      height: 32px;\n",
              "      padding: 0 0 0 0;\n",
              "      width: 32px;\n",
              "    }\n",
              "\n",
              "    .colab-df-convert:hover {\n",
              "      background-color: #E2EBFA;\n",
              "      box-shadow: 0px 1px 2px rgba(60, 64, 67, 0.3), 0px 1px 3px 1px rgba(60, 64, 67, 0.15);\n",
              "      fill: #174EA6;\n",
              "    }\n",
              "\n",
              "    [theme=dark] .colab-df-convert {\n",
              "      background-color: #3B4455;\n",
              "      fill: #D2E3FC;\n",
              "    }\n",
              "\n",
              "    [theme=dark] .colab-df-convert:hover {\n",
              "      background-color: #434B5C;\n",
              "      box-shadow: 0px 1px 3px 1px rgba(0, 0, 0, 0.15);\n",
              "      filter: drop-shadow(0px 1px 2px rgba(0, 0, 0, 0.3));\n",
              "      fill: #FFFFFF;\n",
              "    }\n",
              "  </style>\n",
              "\n",
              "      <script>\n",
              "        const buttonEl =\n",
              "          document.querySelector('#df-32d45ecc-7883-4c3f-a38f-aaaa2c92f2af button.colab-df-convert');\n",
              "        buttonEl.style.display =\n",
              "          google.colab.kernel.accessAllowed ? 'block' : 'none';\n",
              "\n",
              "        async function convertToInteractive(key) {\n",
              "          const element = document.querySelector('#df-32d45ecc-7883-4c3f-a38f-aaaa2c92f2af');\n",
              "          const dataTable =\n",
              "            await google.colab.kernel.invokeFunction('convertToInteractive',\n",
              "                                                     [key], {});\n",
              "          if (!dataTable) return;\n",
              "\n",
              "          const docLinkHtml = 'Like what you see? Visit the ' +\n",
              "            '<a target=\"_blank\" href=https://colab.research.google.com/notebooks/data_table.ipynb>data table notebook</a>'\n",
              "            + ' to learn more about interactive tables.';\n",
              "          element.innerHTML = '';\n",
              "          dataTable['output_type'] = 'display_data';\n",
              "          await google.colab.output.renderOutput(dataTable, element);\n",
              "          const docLink = document.createElement('div');\n",
              "          docLink.innerHTML = docLinkHtml;\n",
              "          element.appendChild(docLink);\n",
              "        }\n",
              "      </script>\n",
              "    </div>\n",
              "  </div>\n",
              "  "
            ]
          },
          "metadata": {},
          "execution_count": 21
        }
      ],
      "source": [
        "try:\n",
        "    df = pd.read_csv('/content/toxic_comments.csv', error_bad_lines=False, engine='python', index_col=0)\n",
        "except FileNotFoundError:\n",
        "    df = pd.read_csv('/datasets/toxic_comments.csv', index_col=0)\n",
        "df.head()"
      ]
    },
    {
      "cell_type": "markdown",
      "metadata": {
        "id": "kkET29whu8VN"
      },
      "source": [
        "<div class=\"alert alert-success\">\n",
        "<b>Комментарий ревьюера ✔️:</b> Отлично, данные загружены:) </div>"
      ]
    },
    {
      "cell_type": "markdown",
      "metadata": {
        "id": "Q-Q5P6EfwLu1"
      },
      "source": [
        "Посмотрим общую информацию о датасете"
      ]
    },
    {
      "cell_type": "code",
      "execution_count": 22,
      "metadata": {
        "colab": {
          "base_uri": "https://localhost:8080/"
        },
        "id": "bFeGBv--pPUs",
        "outputId": "57727964-7864-407d-8a79-744ee6e9327a"
      },
      "outputs": [
        {
          "output_type": "stream",
          "name": "stdout",
          "text": [
            "<class 'pandas.core.frame.DataFrame'>\n",
            "Int64Index: 123438 entries, 0 to 123565\n",
            "Data columns (total 2 columns):\n",
            " #   Column  Non-Null Count   Dtype \n",
            "---  ------  --------------   ----- \n",
            " 0   text    123438 non-null  object\n",
            " 1   toxic   123438 non-null  int64 \n",
            "dtypes: int64(1), object(1)\n",
            "memory usage: 2.8+ MB\n"
          ]
        }
      ],
      "source": [
        "df.info()"
      ]
    },
    {
      "cell_type": "markdown",
      "metadata": {
        "id": "rLMyTNerpXv-"
      },
      "source": [
        "Датасет содержит 159451 строку и 2 столбца. \n",
        "В столбце toxic есть пропуски. А также этот столбец имеет формат object, нам нужно перевести его в целочисленный формат."
      ]
    },
    {
      "cell_type": "markdown",
      "metadata": {
        "id": "isofH-zW9jbn"
      },
      "source": [
        "Посмотрим есть ли в датасете дубликаты. Если есть, то удалим их."
      ]
    },
    {
      "cell_type": "code",
      "execution_count": 23,
      "metadata": {
        "colab": {
          "base_uri": "https://localhost:8080/"
        },
        "id": "o8yn_8iVzQAs",
        "outputId": "4ea284ba-e9a5-4086-d50a-622b2817b016"
      },
      "outputs": [
        {
          "output_type": "execute_result",
          "data": {
            "text/plain": [
              "0"
            ]
          },
          "metadata": {},
          "execution_count": 23
        }
      ],
      "source": [
        "df.duplicated().sum()"
      ]
    },
    {
      "cell_type": "markdown",
      "metadata": {
        "id": "8hl_BMX2w4aT"
      },
      "source": [
        "Посмотрим какие значения есть в столбце toxic"
      ]
    },
    {
      "cell_type": "code",
      "execution_count": 25,
      "metadata": {
        "colab": {
          "base_uri": "https://localhost:8080/"
        },
        "id": "2mM_yAt4oqKu",
        "outputId": "8878c4a9-e639-410f-cf9e-5a0a46b2fa82"
      },
      "outputs": [
        {
          "output_type": "execute_result",
          "data": {
            "text/plain": [
              "array([0, 1])"
            ]
          },
          "metadata": {},
          "execution_count": 25
        }
      ],
      "source": [
        "df['toxic'].unique()"
      ]
    },
    {
      "cell_type": "markdown",
      "metadata": {
        "id": "chpFveHcxc_K"
      },
      "source": [
        "Посмотрим какое соотношение негативных и позитивных комментариев в столбце toxic"
      ]
    },
    {
      "cell_type": "code",
      "execution_count": 26,
      "metadata": {
        "colab": {
          "base_uri": "https://localhost:8080/"
        },
        "id": "47QgI1bfqp7Y",
        "outputId": "f3939aab-2029-4559-d89b-ef9e8f2304b0"
      },
      "outputs": [
        {
          "output_type": "stream",
          "name": "stdout",
          "text": [
            "0    110880\n",
            "1     12558\n",
            "Name: toxic, dtype: int64\n",
            "Соотношение позитивных комментариев к негативным: 8.82943143812709\n"
          ]
        }
      ],
      "source": [
        "print(df['toxic'].value_counts())\n",
        "print('Соотношение позитивных комментариев к негативным:', df['toxic'].value_counts()[0] / df['toxic'].value_counts()[1])"
      ]
    },
    {
      "cell_type": "markdown",
      "metadata": {
        "id": "8rLN3jrx6skZ"
      },
      "source": [
        "Классы несбалансированы. Позитивных комментарием почти в 10 раз больше, чем негативных. В процессе обучения модели протестируем способы балансировки классов."
      ]
    },
    {
      "cell_type": "markdown",
      "metadata": {
        "id": "SaIj-P-G95y7"
      },
      "source": [
        "Сделаем копию подготовленного датасета для работы с алгоритмом BERT."
      ]
    },
    {
      "cell_type": "code",
      "execution_count": 27,
      "metadata": {
        "colab": {
          "base_uri": "https://localhost:8080/",
          "height": 206
        },
        "id": "0PIODqrS5PQc",
        "outputId": "ae65a8a2-29a0-4093-d689-0cdc7ee3d83c"
      },
      "outputs": [
        {
          "output_type": "execute_result",
          "data": {
            "text/plain": [
              "                                                text  toxic\n",
              "0  Explanation\\nWhy the edits made under my usern...      0\n",
              "1  D'aww! He matches this background colour I'm s...      0\n",
              "2  Hey man, I'm really not trying to edit war. It...      0\n",
              "3  \"\\nMore\\nI can't make any real suggestions on ...      0\n",
              "4  You, sir, are my hero. Any chance you remember...      0"
            ],
            "text/html": [
              "\n",
              "  <div id=\"df-65f0a78a-2b34-40ce-b0d5-bfdf5c9aef49\">\n",
              "    <div class=\"colab-df-container\">\n",
              "      <div>\n",
              "<style scoped>\n",
              "    .dataframe tbody tr th:only-of-type {\n",
              "        vertical-align: middle;\n",
              "    }\n",
              "\n",
              "    .dataframe tbody tr th {\n",
              "        vertical-align: top;\n",
              "    }\n",
              "\n",
              "    .dataframe thead th {\n",
              "        text-align: right;\n",
              "    }\n",
              "</style>\n",
              "<table border=\"1\" class=\"dataframe\">\n",
              "  <thead>\n",
              "    <tr style=\"text-align: right;\">\n",
              "      <th></th>\n",
              "      <th>text</th>\n",
              "      <th>toxic</th>\n",
              "    </tr>\n",
              "  </thead>\n",
              "  <tbody>\n",
              "    <tr>\n",
              "      <th>0</th>\n",
              "      <td>Explanation\\nWhy the edits made under my usern...</td>\n",
              "      <td>0</td>\n",
              "    </tr>\n",
              "    <tr>\n",
              "      <th>1</th>\n",
              "      <td>D'aww! He matches this background colour I'm s...</td>\n",
              "      <td>0</td>\n",
              "    </tr>\n",
              "    <tr>\n",
              "      <th>2</th>\n",
              "      <td>Hey man, I'm really not trying to edit war. It...</td>\n",
              "      <td>0</td>\n",
              "    </tr>\n",
              "    <tr>\n",
              "      <th>3</th>\n",
              "      <td>\"\\nMore\\nI can't make any real suggestions on ...</td>\n",
              "      <td>0</td>\n",
              "    </tr>\n",
              "    <tr>\n",
              "      <th>4</th>\n",
              "      <td>You, sir, are my hero. Any chance you remember...</td>\n",
              "      <td>0</td>\n",
              "    </tr>\n",
              "  </tbody>\n",
              "</table>\n",
              "</div>\n",
              "      <button class=\"colab-df-convert\" onclick=\"convertToInteractive('df-65f0a78a-2b34-40ce-b0d5-bfdf5c9aef49')\"\n",
              "              title=\"Convert this dataframe to an interactive table.\"\n",
              "              style=\"display:none;\">\n",
              "        \n",
              "  <svg xmlns=\"http://www.w3.org/2000/svg\" height=\"24px\"viewBox=\"0 0 24 24\"\n",
              "       width=\"24px\">\n",
              "    <path d=\"M0 0h24v24H0V0z\" fill=\"none\"/>\n",
              "    <path d=\"M18.56 5.44l.94 2.06.94-2.06 2.06-.94-2.06-.94-.94-2.06-.94 2.06-2.06.94zm-11 1L8.5 8.5l.94-2.06 2.06-.94-2.06-.94L8.5 2.5l-.94 2.06-2.06.94zm10 10l.94 2.06.94-2.06 2.06-.94-2.06-.94-.94-2.06-.94 2.06-2.06.94z\"/><path d=\"M17.41 7.96l-1.37-1.37c-.4-.4-.92-.59-1.43-.59-.52 0-1.04.2-1.43.59L10.3 9.45l-7.72 7.72c-.78.78-.78 2.05 0 2.83L4 21.41c.39.39.9.59 1.41.59.51 0 1.02-.2 1.41-.59l7.78-7.78 2.81-2.81c.8-.78.8-2.07 0-2.86zM5.41 20L4 18.59l7.72-7.72 1.47 1.35L5.41 20z\"/>\n",
              "  </svg>\n",
              "      </button>\n",
              "      \n",
              "  <style>\n",
              "    .colab-df-container {\n",
              "      display:flex;\n",
              "      flex-wrap:wrap;\n",
              "      gap: 12px;\n",
              "    }\n",
              "\n",
              "    .colab-df-convert {\n",
              "      background-color: #E8F0FE;\n",
              "      border: none;\n",
              "      border-radius: 50%;\n",
              "      cursor: pointer;\n",
              "      display: none;\n",
              "      fill: #1967D2;\n",
              "      height: 32px;\n",
              "      padding: 0 0 0 0;\n",
              "      width: 32px;\n",
              "    }\n",
              "\n",
              "    .colab-df-convert:hover {\n",
              "      background-color: #E2EBFA;\n",
              "      box-shadow: 0px 1px 2px rgba(60, 64, 67, 0.3), 0px 1px 3px 1px rgba(60, 64, 67, 0.15);\n",
              "      fill: #174EA6;\n",
              "    }\n",
              "\n",
              "    [theme=dark] .colab-df-convert {\n",
              "      background-color: #3B4455;\n",
              "      fill: #D2E3FC;\n",
              "    }\n",
              "\n",
              "    [theme=dark] .colab-df-convert:hover {\n",
              "      background-color: #434B5C;\n",
              "      box-shadow: 0px 1px 3px 1px rgba(0, 0, 0, 0.15);\n",
              "      filter: drop-shadow(0px 1px 2px rgba(0, 0, 0, 0.3));\n",
              "      fill: #FFFFFF;\n",
              "    }\n",
              "  </style>\n",
              "\n",
              "      <script>\n",
              "        const buttonEl =\n",
              "          document.querySelector('#df-65f0a78a-2b34-40ce-b0d5-bfdf5c9aef49 button.colab-df-convert');\n",
              "        buttonEl.style.display =\n",
              "          google.colab.kernel.accessAllowed ? 'block' : 'none';\n",
              "\n",
              "        async function convertToInteractive(key) {\n",
              "          const element = document.querySelector('#df-65f0a78a-2b34-40ce-b0d5-bfdf5c9aef49');\n",
              "          const dataTable =\n",
              "            await google.colab.kernel.invokeFunction('convertToInteractive',\n",
              "                                                     [key], {});\n",
              "          if (!dataTable) return;\n",
              "\n",
              "          const docLinkHtml = 'Like what you see? Visit the ' +\n",
              "            '<a target=\"_blank\" href=https://colab.research.google.com/notebooks/data_table.ipynb>data table notebook</a>'\n",
              "            + ' to learn more about interactive tables.';\n",
              "          element.innerHTML = '';\n",
              "          dataTable['output_type'] = 'display_data';\n",
              "          await google.colab.output.renderOutput(dataTable, element);\n",
              "          const docLink = document.createElement('div');\n",
              "          docLink.innerHTML = docLinkHtml;\n",
              "          element.appendChild(docLink);\n",
              "        }\n",
              "      </script>\n",
              "    </div>\n",
              "  </div>\n",
              "  "
            ]
          },
          "metadata": {},
          "execution_count": 27
        }
      ],
      "source": [
        "df_bert = df.copy()\n",
        "df_bert.head()"
      ]
    },
    {
      "cell_type": "markdown",
      "metadata": {
        "id": "N9jDbKNX-JyB"
      },
      "source": [
        "### Выводы:\n",
        "- Исходных датасет содержит 2 столбца (текстовый комментарий и оценку комментария);\n",
        "- В процессе подготовки датасета удалили дубликаты и пропуски из датасета. А также текстовые ячейки в столбце оценки. \n",
        "- Оценка комментариев содержит дисбаланс классов. В процессе обучения модели поработаем над этим. "
      ]
    },
    {
      "cell_type": "markdown",
      "metadata": {
        "id": "b7dPWp0MXUet"
      },
      "source": [
        "## Обучение"
      ]
    },
    {
      "cell_type": "markdown",
      "metadata": {
        "id": "JPXETE7L701C"
      },
      "source": [
        "### Подготовка признаков"
      ]
    },
    {
      "cell_type": "markdown",
      "metadata": {
        "id": "r4-ZV77l_ZWS"
      },
      "source": [
        "Проведем лемматизацию столбца text  и очистку  от регулярных выражений. "
      ]
    },
    {
      "cell_type": "code",
      "execution_count": 9,
      "metadata": {
        "colab": {
          "base_uri": "https://localhost:8080/"
        },
        "id": "6qOFSQq08JFx",
        "outputId": "3e04052f-ac0a-4b03-8828-d1c6488c16c2"
      },
      "outputs": [
        {
          "output_type": "stream",
          "name": "stderr",
          "text": [
            "[nltk_data] Downloading package wordnet to /root/nltk_data...\n",
            "[nltk_data] Downloading package omw-1.4 to /root/nltk_data...\n",
            "[nltk_data] Downloading package punkt to /root/nltk_data...\n",
            "[nltk_data]   Unzipping tokenizers/punkt.zip.\n"
          ]
        }
      ],
      "source": [
        "# Загрузим словари\n",
        "nltk.download('wordnet')\n",
        "nltk.download('omw-1.4')\n",
        "nltk.download('punkt')\n",
        "\n",
        "# Напишем функцию лемматизации и очистки.\n",
        "wnl = WordNetLemmatizer()\n",
        "\n",
        "def lemmatize_text(text):\n",
        "    text = text.lower()\n",
        "    word_list = nltk.word_tokenize(text)\n",
        "    lemm_word = ' '.join([wnl.lemmatize(w) for w in word_list])\n",
        "    #\"\".join(wnl.lemmatize(text))\n",
        "    cleared_text = re.sub(r'[^a-zA-Z]', ' ', lemm_word) \n",
        "    return \" \".join(cleared_text.split())"
      ]
    },
    {
      "cell_type": "code",
      "execution_count": null,
      "metadata": {
        "colab": {
          "background_save": true
        },
        "id": "5V8IZ3bE-_yA",
        "outputId": "6e83e2e3-d26b-4ba4-837c-dc9199a75a46"
      },
      "outputs": [
        {
          "name": "stderr",
          "output_type": "stream",
          "text": [
            "100%|██████████| 159292/159292 [02:42<00:00, 977.48it/s]\n"
          ]
        }
      ],
      "source": [
        "# Создадим столбец lemm_text с обработанным текстом\n",
        "df['lemm_text'] = df['text'].apply(lemmatize_text)\n",
        "\n",
        "# Отслеживаем выполнение фунции. \n",
        "tqdm.pandas()\n",
        "df['text'] = df['text'].progress_apply(lemmatize_text) "
      ]
    },
    {
      "cell_type": "code",
      "execution_count": null,
      "metadata": {
        "colab": {
          "background_save": true
        },
        "id": "3TOafAOMzoKw"
      },
      "outputs": [],
      "source": [
        "# удалим столбец text\n",
        "df = df.drop(['text'], axis=1)"
      ]
    },
    {
      "cell_type": "code",
      "execution_count": null,
      "metadata": {
        "colab": {
          "background_save": true
        },
        "id": "Igl_OXuCdM2i",
        "outputId": "20bb7d62-e087-4c1d-e51d-831cc6c6da3e"
      },
      "outputs": [
        {
          "data": {
            "text/html": [
              "\n",
              "  <div id=\"df-bf70fd45-dc7f-4360-b47f-6f24e34e40f5\">\n",
              "    <div class=\"colab-df-container\">\n",
              "      <div>\n",
              "<style scoped>\n",
              "    .dataframe tbody tr th:only-of-type {\n",
              "        vertical-align: middle;\n",
              "    }\n",
              "\n",
              "    .dataframe tbody tr th {\n",
              "        vertical-align: top;\n",
              "    }\n",
              "\n",
              "    .dataframe thead th {\n",
              "        text-align: right;\n",
              "    }\n",
              "</style>\n",
              "<table border=\"1\" class=\"dataframe\">\n",
              "  <thead>\n",
              "    <tr style=\"text-align: right;\">\n",
              "      <th></th>\n",
              "      <th>toxic</th>\n",
              "      <th>lemm_text</th>\n",
              "    </tr>\n",
              "  </thead>\n",
              "  <tbody>\n",
              "    <tr>\n",
              "      <th>0</th>\n",
              "      <td>0</td>\n",
              "      <td>explanation why the edits made under my userna...</td>\n",
              "    </tr>\n",
              "    <tr>\n",
              "      <th>1</th>\n",
              "      <td>0</td>\n",
              "      <td>d aww he match this background colour i m seem...</td>\n",
              "    </tr>\n",
              "    <tr>\n",
              "      <th>2</th>\n",
              "      <td>0</td>\n",
              "      <td>hey man i m really not trying to edit war it s...</td>\n",
              "    </tr>\n",
              "    <tr>\n",
              "      <th>3</th>\n",
              "      <td>0</td>\n",
              "      <td>more i ca n t make any real suggestion on impr...</td>\n",
              "    </tr>\n",
              "    <tr>\n",
              "      <th>4</th>\n",
              "      <td>0</td>\n",
              "      <td>you sir are my hero any chance you remember wh...</td>\n",
              "    </tr>\n",
              "  </tbody>\n",
              "</table>\n",
              "</div>\n",
              "      <button class=\"colab-df-convert\" onclick=\"convertToInteractive('df-bf70fd45-dc7f-4360-b47f-6f24e34e40f5')\"\n",
              "              title=\"Convert this dataframe to an interactive table.\"\n",
              "              style=\"display:none;\">\n",
              "        \n",
              "  <svg xmlns=\"http://www.w3.org/2000/svg\" height=\"24px\"viewBox=\"0 0 24 24\"\n",
              "       width=\"24px\">\n",
              "    <path d=\"M0 0h24v24H0V0z\" fill=\"none\"/>\n",
              "    <path d=\"M18.56 5.44l.94 2.06.94-2.06 2.06-.94-2.06-.94-.94-2.06-.94 2.06-2.06.94zm-11 1L8.5 8.5l.94-2.06 2.06-.94-2.06-.94L8.5 2.5l-.94 2.06-2.06.94zm10 10l.94 2.06.94-2.06 2.06-.94-2.06-.94-.94-2.06-.94 2.06-2.06.94z\"/><path d=\"M17.41 7.96l-1.37-1.37c-.4-.4-.92-.59-1.43-.59-.52 0-1.04.2-1.43.59L10.3 9.45l-7.72 7.72c-.78.78-.78 2.05 0 2.83L4 21.41c.39.39.9.59 1.41.59.51 0 1.02-.2 1.41-.59l7.78-7.78 2.81-2.81c.8-.78.8-2.07 0-2.86zM5.41 20L4 18.59l7.72-7.72 1.47 1.35L5.41 20z\"/>\n",
              "  </svg>\n",
              "      </button>\n",
              "      \n",
              "  <style>\n",
              "    .colab-df-container {\n",
              "      display:flex;\n",
              "      flex-wrap:wrap;\n",
              "      gap: 12px;\n",
              "    }\n",
              "\n",
              "    .colab-df-convert {\n",
              "      background-color: #E8F0FE;\n",
              "      border: none;\n",
              "      border-radius: 50%;\n",
              "      cursor: pointer;\n",
              "      display: none;\n",
              "      fill: #1967D2;\n",
              "      height: 32px;\n",
              "      padding: 0 0 0 0;\n",
              "      width: 32px;\n",
              "    }\n",
              "\n",
              "    .colab-df-convert:hover {\n",
              "      background-color: #E2EBFA;\n",
              "      box-shadow: 0px 1px 2px rgba(60, 64, 67, 0.3), 0px 1px 3px 1px rgba(60, 64, 67, 0.15);\n",
              "      fill: #174EA6;\n",
              "    }\n",
              "\n",
              "    [theme=dark] .colab-df-convert {\n",
              "      background-color: #3B4455;\n",
              "      fill: #D2E3FC;\n",
              "    }\n",
              "\n",
              "    [theme=dark] .colab-df-convert:hover {\n",
              "      background-color: #434B5C;\n",
              "      box-shadow: 0px 1px 3px 1px rgba(0, 0, 0, 0.15);\n",
              "      filter: drop-shadow(0px 1px 2px rgba(0, 0, 0, 0.3));\n",
              "      fill: #FFFFFF;\n",
              "    }\n",
              "  </style>\n",
              "\n",
              "      <script>\n",
              "        const buttonEl =\n",
              "          document.querySelector('#df-bf70fd45-dc7f-4360-b47f-6f24e34e40f5 button.colab-df-convert');\n",
              "        buttonEl.style.display =\n",
              "          google.colab.kernel.accessAllowed ? 'block' : 'none';\n",
              "\n",
              "        async function convertToInteractive(key) {\n",
              "          const element = document.querySelector('#df-bf70fd45-dc7f-4360-b47f-6f24e34e40f5');\n",
              "          const dataTable =\n",
              "            await google.colab.kernel.invokeFunction('convertToInteractive',\n",
              "                                                     [key], {});\n",
              "          if (!dataTable) return;\n",
              "\n",
              "          const docLinkHtml = 'Like what you see? Visit the ' +\n",
              "            '<a target=\"_blank\" href=https://colab.research.google.com/notebooks/data_table.ipynb>data table notebook</a>'\n",
              "            + ' to learn more about interactive tables.';\n",
              "          element.innerHTML = '';\n",
              "          dataTable['output_type'] = 'display_data';\n",
              "          await google.colab.output.renderOutput(dataTable, element);\n",
              "          const docLink = document.createElement('div');\n",
              "          docLink.innerHTML = docLinkHtml;\n",
              "          element.appendChild(docLink);\n",
              "        }\n",
              "      </script>\n",
              "    </div>\n",
              "  </div>\n",
              "  "
            ],
            "text/plain": [
              "   toxic                                          lemm_text\n",
              "0      0  explanation why the edits made under my userna...\n",
              "1      0  d aww he match this background colour i m seem...\n",
              "2      0  hey man i m really not trying to edit war it s...\n",
              "3      0  more i ca n t make any real suggestion on impr...\n",
              "4      0  you sir are my hero any chance you remember wh..."
            ]
          },
          "execution_count": 18,
          "metadata": {},
          "output_type": "execute_result"
        }
      ],
      "source": [
        "df.head()"
      ]
    },
    {
      "cell_type": "markdown",
      "metadata": {
        "id": "gsRwnQbjsLLu"
      },
      "source": [
        "Создадим переменные с признаками и целевым признаком, разделим их на тренировочную и тестовую выборки."
      ]
    },
    {
      "cell_type": "code",
      "execution_count": null,
      "metadata": {
        "colab": {
          "background_save": true
        },
        "id": "RP4uWru2Ac2P"
      },
      "outputs": [],
      "source": [
        "target = df['toxic']\n",
        "features = df['lemm_text']\n",
        "features_train, features_test, target_train, target_test = train_test_split(features, \n",
        "                                                                              target, \n",
        "                                                                              test_size=0.25, \n",
        "                                                                              random_state=12345)"
      ]
    },
    {
      "cell_type": "code",
      "execution_count": null,
      "metadata": {
        "colab": {
          "background_save": true
        },
        "id": "GxIN5OY5f11Z",
        "outputId": "6e248ebe-a190-4a88-fe62-beb5d338661d"
      },
      "outputs": [
        {
          "data": {
            "text/plain": [
              "(119469,)"
            ]
          },
          "execution_count": 20,
          "metadata": {},
          "output_type": "execute_result"
        }
      ],
      "source": [
        "features_train.shape"
      ]
    },
    {
      "cell_type": "code",
      "execution_count": null,
      "metadata": {
        "colab": {
          "background_save": true
        },
        "id": "F6UtI0a9cLUi",
        "outputId": "05928c56-55e7-47f5-c03e-981fa9e7a0d6"
      },
      "outputs": [
        {
          "data": {
            "text/plain": [
              "(119469,)"
            ]
          },
          "execution_count": 21,
          "metadata": {},
          "output_type": "execute_result"
        }
      ],
      "source": [
        "target_train.shape"
      ]
    },
    {
      "cell_type": "markdown",
      "metadata": {
        "id": "rWX8p-TrJ0sz"
      },
      "source": [
        "### Логистическая регрессия"
      ]
    },
    {
      "cell_type": "markdown",
      "metadata": {
        "id": "vjR_UWNFCAIO"
      },
      "source": [
        "Для работы с тестами при работе с классификацией лучшим образом подходит модель логистической регрессии. \n",
        "\n",
        "Т.к. у нас дисбаланс класов, то используем в параметрах balanced.  Определим наилучшие параметры."
      ]
    },
    {
      "cell_type": "code",
      "execution_count": null,
      "metadata": {
        "colab": {
          "base_uri": "https://localhost:8080/"
        },
        "id": "yPr6_PqQ-V7S",
        "outputId": "f4ac13f4-126f-4bfd-bd4e-95c966791707"
      },
      "outputs": [
        {
          "name": "stderr",
          "output_type": "stream",
          "text": [
            "[nltk_data] Downloading package stopwords to /root/nltk_data...\n",
            "[nltk_data]   Unzipping corpora/stopwords.zip.\n"
          ]
        }
      ],
      "source": [
        "nltk.download('stopwords')\n",
        "stopwords = set(stopwords.words('english'))"
      ]
    },
    {
      "cell_type": "code",
      "execution_count": null,
      "metadata": {
        "colab": {
          "base_uri": "https://localhost:8080/"
        },
        "id": "tJiY-FRHOoPh",
        "outputId": "373272de-6c1e-425e-ef39-584563abba35"
      },
      "outputs": [
        {
          "name": "stdout",
          "output_type": "stream",
          "text": [
            "Fitting 3 folds for each of 27 candidates, totalling 81 fits\n"
          ]
        },
        {
          "data": {
            "text/plain": [
              "{'logreg__C': 9, 'tfidf__ngram_range': (1, 1)}"
            ]
          },
          "execution_count": 23,
          "metadata": {},
          "output_type": "execute_result"
        }
      ],
      "source": [
        "pipeline = Pipeline([\n",
        "    ('tfidf', TfidfVectorizer(stop_words=stopwords)),\n",
        "    ('logreg', LogisticRegression(random_state=1234)),\n",
        "])\n",
        "\n",
        "parameters = {\n",
        "    'tfidf__ngram_range': [(1, 1), (1, 2), (1, 3)],\n",
        "    'logreg__C': range(1, 10)\n",
        "}\n",
        "\n",
        "grid_search_tune = GridSearchCV(pipeline, parameters, cv=3, n_jobs=-1, scoring='f1', verbose=3)\n",
        "grid_search_tune.fit(features_train, target_train)\n",
        "grid_search_tune.best_params_"
      ]
    },
    {
      "cell_type": "markdown",
      "metadata": {
        "id": "3UvFO9irpg_L"
      },
      "source": [
        "Обучим модель с наилучшими параметрами и определим качество модели."
      ]
    },
    {
      "cell_type": "code",
      "execution_count": null,
      "metadata": {
        "colab": {
          "base_uri": "https://localhost:8080/"
        },
        "id": "861XnU43VtS3",
        "outputId": "be358a10-6bfb-4258-b7a3-0a966328b958"
      },
      "outputs": [
        {
          "data": {
            "text/plain": [
              "0.7847154921777655"
            ]
          },
          "execution_count": 39,
          "metadata": {},
          "output_type": "execute_result"
        }
      ],
      "source": [
        "count_tf_idf = TfidfVectorizer(stop_words=stopwords)\n",
        "\n",
        "features_train_logreg = count_tf_idf.fit_transform(features_train)\n",
        "features_test_logreg = count_tf_idf.transform(features_test)\n",
        "\n",
        "model = LogisticRegression(random_state=1234, C=9)\n",
        "model.fit(features_train_logreg, target_train)\n",
        "predicted = model.predict(features_test_logreg)\n",
        "f1_scoring = f1_score(target_test, predicted)\n",
        "f1_scoring"
      ]
    },
    {
      "cell_type": "markdown",
      "metadata": {
        "id": "if0K7lBaD9Fh"
      },
      "source": [
        "#### Работа с дисбалансом."
      ]
    },
    {
      "cell_type": "markdown",
      "metadata": {
        "id": "1zeCURmPEOHT"
      },
      "source": [
        "Параметр class_weight = balansed мы уже протестировали. Попробуем ресемплирование с уменьшением класса."
      ]
    },
    {
      "cell_type": "markdown",
      "metadata": {
        "id": "3_Feke1fDgnl"
      },
      "source": [
        "F1 с балансом классов ниже, чем у модели без баланса. Попробуем ресемплировать классы."
      ]
    },
    {
      "cell_type": "markdown",
      "metadata": {
        "id": "49Ir85JaGSA8"
      },
      "source": [
        "**Ресемплирование с уменьшением класса 0.**"
      ]
    },
    {
      "cell_type": "markdown",
      "metadata": {
        "id": "FUuTExCSzGa2"
      },
      "source": [
        "Выделим из тренировочного датафрейма валидную и тренеровочную часть. Затем проведем балансировку тренировочного датасета."
      ]
    },
    {
      "cell_type": "code",
      "execution_count": null,
      "metadata": {
        "colab": {
          "base_uri": "https://localhost:8080/"
        },
        "id": "aJxbrCo6GRAg",
        "outputId": "2384a40d-1ebb-4651-ad13-a47400cc4004"
      },
      "outputs": [
        {
          "data": {
            "text/plain": [
              "(89601, 2)"
            ]
          },
          "execution_count": 32,
          "metadata": {},
          "output_type": "execute_result"
        }
      ],
      "source": [
        "# выделим тренировочный датафрейм из нашего датасета.\n",
        "df_train = df.loc[target_train.index]\n",
        "\n",
        "# разделим тренировочный датасет на обучающую и валидационную выборку. \n",
        "\n",
        "df_train, df_valid = train_test_split(df_train, test_size=0.25, random_state=12345)\n",
        "df_train.shape"
      ]
    },
    {
      "cell_type": "code",
      "execution_count": null,
      "metadata": {
        "id": "gdVHwqVf2fH2"
      },
      "outputs": [],
      "source": [
        "target_train_class_zero = df_train[df_train['toxic'] == 0]['toxic']\n",
        "target_train_class_one = df_train[df_train['toxic'] == 1]['toxic']"
      ]
    },
    {
      "cell_type": "code",
      "execution_count": null,
      "metadata": {
        "id": "lzgi95AFHG2h"
      },
      "outputs": [],
      "source": [
        "target_train_class_zero_downsample = target_train_class_zero.sample(target_train_class_one.shape[0],\n",
        "                                                                    random_state=1234)\n",
        "target_train_downsample = pd.concat([target_train_class_zero_downsample, target_train_class_one])\n",
        "\n",
        "features_train_downsample = df_train['lemm_text'].loc[target_train_downsample.index]\n",
        "features_train_downsample, target_train_downsample = shuffle(features_train_downsample,\n",
        "                                                             target_train_downsample,\n",
        "                                                             random_state=12345)\n",
        "# Вычислим TF-IDF для текстов.\n",
        "#features_train_downsample = count_tf_idf.transform(features_train_downsample['lemm_text']\n",
        "#                                                   .values.astype('U'))"
      ]
    },
    {
      "cell_type": "code",
      "execution_count": null,
      "metadata": {
        "id": "yIc-2OrqHEJs"
      },
      "outputs": [],
      "source": [
        "# создаем переменную с признаками и целевым признаком для валидационной выборки.\n",
        "valid_features = df_valid['lemm_text']\n",
        "valid_target = df_valid['toxic']"
      ]
    },
    {
      "cell_type": "code",
      "execution_count": null,
      "metadata": {
        "colab": {
          "base_uri": "https://localhost:8080/"
        },
        "id": "k57l54JSumzP",
        "outputId": "665ca15d-5b4c-4fab-e71f-195c868f26e2"
      },
      "outputs": [
        {
          "data": {
            "text/plain": [
              "(29868,)"
            ]
          },
          "execution_count": 30,
          "metadata": {},
          "output_type": "execute_result"
        }
      ],
      "source": [
        "valid_features.shape"
      ]
    },
    {
      "cell_type": "code",
      "execution_count": null,
      "metadata": {
        "colab": {
          "base_uri": "https://localhost:8080/"
        },
        "id": "BgfWPQifuu25",
        "outputId": "d9875590-270b-4a97-9165-1cc20c602c3b"
      },
      "outputs": [
        {
          "data": {
            "text/plain": [
              "(18190,)"
            ]
          },
          "execution_count": 40,
          "metadata": {},
          "output_type": "execute_result"
        }
      ],
      "source": [
        "features_train_downsample.shape"
      ]
    },
    {
      "cell_type": "markdown",
      "metadata": {
        "id": "Z1H0LJknSFXS"
      },
      "source": [
        "Обучим модель, используя новые данные."
      ]
    },
    {
      "cell_type": "code",
      "execution_count": null,
      "metadata": {
        "colab": {
          "base_uri": "https://localhost:8080/"
        },
        "id": "-wCRM-VUKzIf",
        "outputId": "cb7430e8-f1ac-436a-a69a-71d48b262488"
      },
      "outputs": [
        {
          "name": "stdout",
          "output_type": "stream",
          "text": [
            "Fitting 1 folds for each of 27 candidates, totalling 27 fits\n"
          ]
        },
        {
          "data": {
            "text/plain": [
              "{'logreg__C': 2, 'tfidf__ngram_range': (1, 1)}"
            ]
          },
          "execution_count": 32,
          "metadata": {},
          "output_type": "execute_result"
        }
      ],
      "source": [
        "X  = pd.concat([features_train_downsample, valid_features]) \n",
        "test_fold = [-1 for _ in range(valid_features.shape[0])] + [0 for _ in range(features_train_downsample.shape[0])]\n",
        "y = np.concatenate([target_train_downsample, valid_target])\n",
        "ps = PredefinedSplit(test_fold)\n",
        "\n",
        "pipeline = Pipeline([\n",
        "    ('tfidf', TfidfVectorizer(stop_words=stopwords)),\n",
        "    ('logreg', LogisticRegression(random_state=1234)),\n",
        "])\n",
        "\n",
        "parameters = {\n",
        "    'tfidf__ngram_range': [(1, 1), (1, 2), (1, 3)],\n",
        "    'logreg__C': range(1, 10)\n",
        "}\n",
        "\n",
        "grid_search_tune = GridSearchCV(pipeline, parameters, cv=ps, n_jobs=-1, scoring='f1', verbose=3)\n",
        "grid_search_tune.fit(X, y)\n",
        "grid_search_tune.best_params_"
      ]
    },
    {
      "cell_type": "code",
      "execution_count": null,
      "metadata": {
        "colab": {
          "base_uri": "https://localhost:8080/"
        },
        "id": "_Oegc1ESREAl",
        "outputId": "ad0f9a33-094e-41b9-c7a7-aaecae4dea89"
      },
      "outputs": [
        {
          "name": "stdout",
          "output_type": "stream",
          "text": [
            "F1 Логистической регрессии с уменьшением классов 0.6706163401815577\n"
          ]
        }
      ],
      "source": [
        "count_tf_idf = TfidfVectorizer(stop_words=stopwords)\n",
        "\n",
        "features_train_downsample = count_tf_idf.fit_transform(features_train_downsample)\n",
        "features_test_resemple = count_tf_idf.transform(features_test)\n",
        "\n",
        "model = LogisticRegression(random_state=1234, C=2)\n",
        "model.fit(features_train_downsample,target_train_downsample)\n",
        "predicted = model.predict(features_test_resemple)\n",
        "f1_scoring_resemple = f1_score(target_test, predicted)\n",
        "f1_scoring_resemple\n",
        "print('F1 Логистической регрессии с уменьшением классов', f1_scoring_resemple)"
      ]
    },
    {
      "cell_type": "markdown",
      "metadata": {
        "id": "sFM-R2O5S01_"
      },
      "source": [
        "Значение f1 при балансировании классов ниже, чем при встроенном параметре \"balansed\" логистической регрессии."
      ]
    },
    {
      "cell_type": "markdown",
      "metadata": {
        "id": "qjZGFr6tyVq2"
      },
      "source": [
        "## Стохастический градиентный спуск SGDCClassifier."
      ]
    },
    {
      "cell_type": "markdown",
      "metadata": {
        "id": "56jiS8KtDr3J"
      },
      "source": [
        "Протестируем модель."
      ]
    },
    {
      "cell_type": "code",
      "execution_count": null,
      "metadata": {
        "colab": {
          "base_uri": "https://localhost:8080/"
        },
        "id": "5ZjPg1-cyXWW",
        "outputId": "010f67bf-79c6-44c7-f580-211a8de6c0bb"
      },
      "outputs": [
        {
          "name": "stdout",
          "output_type": "stream",
          "text": [
            "Fitting 3 folds for each of 54 candidates, totalling 162 fits\n"
          ]
        },
        {
          "data": {
            "text/plain": [
              "{'SGDC__eta0': 0.01,\n",
              " 'SGDC__loss': 'modified_huber',\n",
              " 'tfidf__ngram_range': (1, 1)}"
            ]
          },
          "execution_count": 24,
          "metadata": {},
          "output_type": "execute_result"
        }
      ],
      "source": [
        "pipeline = Pipeline([\n",
        "    ('tfidf', TfidfVectorizer(stop_words=stopwords)),\n",
        "    ('SGDC', SGDClassifier(random_state=1234)),\n",
        "])\n",
        "\n",
        "parameters = {\n",
        "    'tfidf__ngram_range': [(1, 1), (1, 2), (1, 3)],\n",
        "    'SGDC__loss': ['hinge', 'log', 'modified_huber'],\n",
        "    'SGDC__eta0': [0.01, 0.05, 0.1, 0.2, 0.3, 0.5]\n",
        "}\n",
        "\n",
        "grid_search_tune = GridSearchCV(pipeline, parameters, cv=3, n_jobs=-1, scoring='f1', verbose=3)\n",
        "grid_search_tune.fit(features_train, target_train)\n",
        "grid_search_tune.best_params_"
      ]
    },
    {
      "cell_type": "code",
      "execution_count": null,
      "metadata": {
        "id": "zxfP2bDib8rC",
        "outputId": "aa7b6559-4f30-4623-b0ce-4e0741204845"
      },
      "outputs": [
        {
          "data": {
            "text/plain": [
              "dict_keys(['alpha', 'average', 'class_weight', 'early_stopping', 'epsilon', 'eta0', 'fit_intercept', 'l1_ratio', 'learning_rate', 'loss', 'max_iter', 'n_iter_no_change', 'n_jobs', 'penalty', 'power_t', 'random_state', 'shuffle', 'tol', 'validation_fraction', 'verbose', 'warm_start'])"
            ]
          },
          "execution_count": 71,
          "metadata": {},
          "output_type": "execute_result"
        }
      ],
      "source": [
        "SGDClassifier(random_state=1234).get_params().keys()"
      ]
    },
    {
      "cell_type": "code",
      "execution_count": null,
      "metadata": {
        "id": "3MB5_zHG77H1",
        "outputId": "412d4460-dad7-4214-d931-c8452c102419"
      },
      "outputs": [
        {
          "data": {
            "text/plain": [
              "dict_keys(['memory', 'steps', 'verbose', 'tfidf', 'SGDC', 'tfidf__analyzer', 'tfidf__binary', 'tfidf__decode_error', 'tfidf__dtype', 'tfidf__encoding', 'tfidf__input', 'tfidf__lowercase', 'tfidf__max_df', 'tfidf__max_features', 'tfidf__min_df', 'tfidf__ngram_range', 'tfidf__norm', 'tfidf__preprocessor', 'tfidf__smooth_idf', 'tfidf__stop_words', 'tfidf__strip_accents', 'tfidf__sublinear_tf', 'tfidf__token_pattern', 'tfidf__tokenizer', 'tfidf__use_idf', 'tfidf__vocabulary', 'SGDC__alpha', 'SGDC__average', 'SGDC__class_weight', 'SGDC__early_stopping', 'SGDC__epsilon', 'SGDC__eta0', 'SGDC__fit_intercept', 'SGDC__l1_ratio', 'SGDC__learning_rate', 'SGDC__loss', 'SGDC__max_iter', 'SGDC__n_iter_no_change', 'SGDC__n_jobs', 'SGDC__penalty', 'SGDC__power_t', 'SGDC__random_state', 'SGDC__shuffle', 'SGDC__tol', 'SGDC__validation_fraction', 'SGDC__verbose', 'SGDC__warm_start'])"
            ]
          },
          "execution_count": 72,
          "metadata": {},
          "output_type": "execute_result"
        }
      ],
      "source": [
        "pipeline.get_params().keys()"
      ]
    },
    {
      "cell_type": "markdown",
      "metadata": {
        "id": "XI2yNPhbD1Mc"
      },
      "source": [
        "Проверяем значение F1."
      ]
    },
    {
      "cell_type": "code",
      "execution_count": null,
      "metadata": {
        "colab": {
          "base_uri": "https://localhost:8080/"
        },
        "id": "nFZGa8WUD_tz",
        "outputId": "73ee8637-b4d3-4de8-bd9a-1f376445fff1"
      },
      "outputs": [
        {
          "name": "stdout",
          "output_type": "stream",
          "text": [
            "F1 SGDCClassifier 0.7366832654293044\n"
          ]
        }
      ],
      "source": [
        "count_tf_idf = TfidfVectorizer(stop_words=stopwords)\n",
        "\n",
        "features_train_sgdc = count_tf_idf.fit_transform(features_train)\n",
        "features_test_sgdc = count_tf_idf.transform(features_test)\n",
        "\n",
        "model = SGDClassifier(random_state=1234, eta0=0.01, loss='modified_huber')\n",
        "model.fit(features_train_sgdc,target_train)\n",
        "predicted = model.predict(features_test_sgdc)\n",
        "f1_scoring_sgdc = f1_score(target_test, predicted)\n",
        "f1_scoring_sgdc\n",
        "print('F1 SGDCClassifier', f1_scoring_sgdc)"
      ]
    },
    {
      "cell_type": "markdown",
      "metadata": {
        "id": "XWRWS_FUSUJ0"
      },
      "source": [
        "**Итоги**"
      ]
    },
    {
      "cell_type": "markdown",
      "metadata": {
        "id": "v7tWLsmxSc3Y"
      },
      "source": [
        "Сведем результаты обучений в одну таблицу."
      ]
    },
    {
      "cell_type": "markdown",
      "metadata": {
        "id": "b2HgECGtakh8"
      },
      "source": []
    },
    {
      "cell_type": "markdown",
      "metadata": {
        "id": "ZMXZRvslakIr"
      },
      "source": []
    },
    {
      "cell_type": "code",
      "execution_count": null,
      "metadata": {
        "colab": {
          "base_uri": "https://localhost:8080/",
          "height": 143
        },
        "id": "5qy4-HRVQZ4j",
        "outputId": "3acc3599-20f1-43dd-ecd3-1ed132583a23"
      },
      "outputs": [
        {
          "data": {
            "text/html": [
              "\n",
              "  <div id=\"df-12c65e84-e77c-40c5-b4d6-66c3b8784181\">\n",
              "    <div class=\"colab-df-container\">\n",
              "      <div>\n",
              "<style scoped>\n",
              "    .dataframe tbody tr th:only-of-type {\n",
              "        vertical-align: middle;\n",
              "    }\n",
              "\n",
              "    .dataframe tbody tr th {\n",
              "        vertical-align: top;\n",
              "    }\n",
              "\n",
              "    .dataframe thead th {\n",
              "        text-align: right;\n",
              "    }\n",
              "</style>\n",
              "<table border=\"1\" class=\"dataframe\">\n",
              "  <thead>\n",
              "    <tr style=\"text-align: right;\">\n",
              "      <th></th>\n",
              "      <th>Модель</th>\n",
              "      <th>F1</th>\n",
              "    </tr>\n",
              "  </thead>\n",
              "  <tbody>\n",
              "    <tr>\n",
              "      <th>0</th>\n",
              "      <td>Логистическая регрессия</td>\n",
              "      <td>0.784715</td>\n",
              "    </tr>\n",
              "    <tr>\n",
              "      <th>1</th>\n",
              "      <td>Логистическая регрессия с балансом классов</td>\n",
              "      <td>0.670616</td>\n",
              "    </tr>\n",
              "    <tr>\n",
              "      <th>2</th>\n",
              "      <td>Стохастический градиентный спуск SGDCClassifier</td>\n",
              "      <td>0.736683</td>\n",
              "    </tr>\n",
              "  </tbody>\n",
              "</table>\n",
              "</div>\n",
              "      <button class=\"colab-df-convert\" onclick=\"convertToInteractive('df-12c65e84-e77c-40c5-b4d6-66c3b8784181')\"\n",
              "              title=\"Convert this dataframe to an interactive table.\"\n",
              "              style=\"display:none;\">\n",
              "        \n",
              "  <svg xmlns=\"http://www.w3.org/2000/svg\" height=\"24px\"viewBox=\"0 0 24 24\"\n",
              "       width=\"24px\">\n",
              "    <path d=\"M0 0h24v24H0V0z\" fill=\"none\"/>\n",
              "    <path d=\"M18.56 5.44l.94 2.06.94-2.06 2.06-.94-2.06-.94-.94-2.06-.94 2.06-2.06.94zm-11 1L8.5 8.5l.94-2.06 2.06-.94-2.06-.94L8.5 2.5l-.94 2.06-2.06.94zm10 10l.94 2.06.94-2.06 2.06-.94-2.06-.94-.94-2.06-.94 2.06-2.06.94z\"/><path d=\"M17.41 7.96l-1.37-1.37c-.4-.4-.92-.59-1.43-.59-.52 0-1.04.2-1.43.59L10.3 9.45l-7.72 7.72c-.78.78-.78 2.05 0 2.83L4 21.41c.39.39.9.59 1.41.59.51 0 1.02-.2 1.41-.59l7.78-7.78 2.81-2.81c.8-.78.8-2.07 0-2.86zM5.41 20L4 18.59l7.72-7.72 1.47 1.35L5.41 20z\"/>\n",
              "  </svg>\n",
              "      </button>\n",
              "      \n",
              "  <style>\n",
              "    .colab-df-container {\n",
              "      display:flex;\n",
              "      flex-wrap:wrap;\n",
              "      gap: 12px;\n",
              "    }\n",
              "\n",
              "    .colab-df-convert {\n",
              "      background-color: #E8F0FE;\n",
              "      border: none;\n",
              "      border-radius: 50%;\n",
              "      cursor: pointer;\n",
              "      display: none;\n",
              "      fill: #1967D2;\n",
              "      height: 32px;\n",
              "      padding: 0 0 0 0;\n",
              "      width: 32px;\n",
              "    }\n",
              "\n",
              "    .colab-df-convert:hover {\n",
              "      background-color: #E2EBFA;\n",
              "      box-shadow: 0px 1px 2px rgba(60, 64, 67, 0.3), 0px 1px 3px 1px rgba(60, 64, 67, 0.15);\n",
              "      fill: #174EA6;\n",
              "    }\n",
              "\n",
              "    [theme=dark] .colab-df-convert {\n",
              "      background-color: #3B4455;\n",
              "      fill: #D2E3FC;\n",
              "    }\n",
              "\n",
              "    [theme=dark] .colab-df-convert:hover {\n",
              "      background-color: #434B5C;\n",
              "      box-shadow: 0px 1px 3px 1px rgba(0, 0, 0, 0.15);\n",
              "      filter: drop-shadow(0px 1px 2px rgba(0, 0, 0, 0.3));\n",
              "      fill: #FFFFFF;\n",
              "    }\n",
              "  </style>\n",
              "\n",
              "      <script>\n",
              "        const buttonEl =\n",
              "          document.querySelector('#df-12c65e84-e77c-40c5-b4d6-66c3b8784181 button.colab-df-convert');\n",
              "        buttonEl.style.display =\n",
              "          google.colab.kernel.accessAllowed ? 'block' : 'none';\n",
              "\n",
              "        async function convertToInteractive(key) {\n",
              "          const element = document.querySelector('#df-12c65e84-e77c-40c5-b4d6-66c3b8784181');\n",
              "          const dataTable =\n",
              "            await google.colab.kernel.invokeFunction('convertToInteractive',\n",
              "                                                     [key], {});\n",
              "          if (!dataTable) return;\n",
              "\n",
              "          const docLinkHtml = 'Like what you see? Visit the ' +\n",
              "            '<a target=\"_blank\" href=https://colab.research.google.com/notebooks/data_table.ipynb>data table notebook</a>'\n",
              "            + ' to learn more about interactive tables.';\n",
              "          element.innerHTML = '';\n",
              "          dataTable['output_type'] = 'display_data';\n",
              "          await google.colab.output.renderOutput(dataTable, element);\n",
              "          const docLink = document.createElement('div');\n",
              "          docLink.innerHTML = docLinkHtml;\n",
              "          element.appendChild(docLink);\n",
              "        }\n",
              "      </script>\n",
              "    </div>\n",
              "  </div>\n",
              "  "
            ],
            "text/plain": [
              "                                            Модель        F1\n",
              "0                          Логистическая регрессия  0.784715\n",
              "1       Логистическая регрессия с балансом классов  0.670616\n",
              "2  Стохастический градиентный спуск SGDCClassifier  0.736683"
            ]
          },
          "metadata": {},
          "output_type": "display_data"
        }
      ],
      "source": [
        "columns = ['Модель', 'F1']\n",
        "model_lr = ['Логистическая регрессия', f1_scoring]\n",
        "model_lr_balanced = ['Логистическая регрессия с балансом классов', f1_scoring_resemple]\n",
        "model_sgdc = ['Стохастический градиентный спуск SGDCClassifier', f1_scoring_sgdc]\n",
        "\n",
        "table = pd.DataFrame([model_lr, model_lr_balanced, model_sgdc], columns = columns)\n",
        "display(table)"
      ]
    },
    {
      "cell_type": "markdown",
      "metadata": {
        "id": "ON_Cw19JCppN"
      },
      "source": [
        "### Обучение через BERT"
      ]
    },
    {
      "cell_type": "markdown",
      "metadata": {
        "id": "ZWOwOI227f8X"
      },
      "source": [
        "Для работы сменим среду на GPU."
      ]
    },
    {
      "cell_type": "code",
      "execution_count": 28,
      "metadata": {
        "id": "g-hvOLAZpC4o"
      },
      "outputs": [],
      "source": [
        "dev = 'cuda:0'\n",
        "device = torch.device(dev)"
      ]
    },
    {
      "cell_type": "markdown",
      "metadata": {
        "id": "t5OwV_2K7yiN"
      },
      "source": [
        "Возьмем выборку из 60000 строк."
      ]
    },
    {
      "cell_type": "code",
      "execution_count": 29,
      "metadata": {
        "colab": {
          "base_uri": "https://localhost:8080/",
          "height": 206
        },
        "id": "2cmaI28V4h4r",
        "outputId": "c84f987e-69dc-431a-e226-44ba418a0670"
      },
      "outputs": [
        {
          "output_type": "execute_result",
          "data": {
            "text/plain": [
              "                                                text  toxic\n",
              "0  March 2008 (UTC)\\n___\\n[Image:Information.svg|...      0\n",
              "1                    (Again giving Sadasivan as Ref)      0\n",
              "2  I documented the change I made on Talk. The 'o...      0\n",
              "3  BUSH US EVIL, HE'S SELFISH AND VERY SHORT TEMP...      1\n",
              "4                in your sandbox dog gave out a shit      1"
            ],
            "text/html": [
              "\n",
              "  <div id=\"df-ff4a3b41-1452-4952-bb1f-bba8a206656a\">\n",
              "    <div class=\"colab-df-container\">\n",
              "      <div>\n",
              "<style scoped>\n",
              "    .dataframe tbody tr th:only-of-type {\n",
              "        vertical-align: middle;\n",
              "    }\n",
              "\n",
              "    .dataframe tbody tr th {\n",
              "        vertical-align: top;\n",
              "    }\n",
              "\n",
              "    .dataframe thead th {\n",
              "        text-align: right;\n",
              "    }\n",
              "</style>\n",
              "<table border=\"1\" class=\"dataframe\">\n",
              "  <thead>\n",
              "    <tr style=\"text-align: right;\">\n",
              "      <th></th>\n",
              "      <th>text</th>\n",
              "      <th>toxic</th>\n",
              "    </tr>\n",
              "  </thead>\n",
              "  <tbody>\n",
              "    <tr>\n",
              "      <th>0</th>\n",
              "      <td>March 2008 (UTC)\\n___\\n[Image:Information.svg|...</td>\n",
              "      <td>0</td>\n",
              "    </tr>\n",
              "    <tr>\n",
              "      <th>1</th>\n",
              "      <td>(Again giving Sadasivan as Ref)</td>\n",
              "      <td>0</td>\n",
              "    </tr>\n",
              "    <tr>\n",
              "      <th>2</th>\n",
              "      <td>I documented the change I made on Talk. The 'o...</td>\n",
              "      <td>0</td>\n",
              "    </tr>\n",
              "    <tr>\n",
              "      <th>3</th>\n",
              "      <td>BUSH US EVIL, HE'S SELFISH AND VERY SHORT TEMP...</td>\n",
              "      <td>1</td>\n",
              "    </tr>\n",
              "    <tr>\n",
              "      <th>4</th>\n",
              "      <td>in your sandbox dog gave out a shit</td>\n",
              "      <td>1</td>\n",
              "    </tr>\n",
              "  </tbody>\n",
              "</table>\n",
              "</div>\n",
              "      <button class=\"colab-df-convert\" onclick=\"convertToInteractive('df-ff4a3b41-1452-4952-bb1f-bba8a206656a')\"\n",
              "              title=\"Convert this dataframe to an interactive table.\"\n",
              "              style=\"display:none;\">\n",
              "        \n",
              "  <svg xmlns=\"http://www.w3.org/2000/svg\" height=\"24px\"viewBox=\"0 0 24 24\"\n",
              "       width=\"24px\">\n",
              "    <path d=\"M0 0h24v24H0V0z\" fill=\"none\"/>\n",
              "    <path d=\"M18.56 5.44l.94 2.06.94-2.06 2.06-.94-2.06-.94-.94-2.06-.94 2.06-2.06.94zm-11 1L8.5 8.5l.94-2.06 2.06-.94-2.06-.94L8.5 2.5l-.94 2.06-2.06.94zm10 10l.94 2.06.94-2.06 2.06-.94-2.06-.94-.94-2.06-.94 2.06-2.06.94z\"/><path d=\"M17.41 7.96l-1.37-1.37c-.4-.4-.92-.59-1.43-.59-.52 0-1.04.2-1.43.59L10.3 9.45l-7.72 7.72c-.78.78-.78 2.05 0 2.83L4 21.41c.39.39.9.59 1.41.59.51 0 1.02-.2 1.41-.59l7.78-7.78 2.81-2.81c.8-.78.8-2.07 0-2.86zM5.41 20L4 18.59l7.72-7.72 1.47 1.35L5.41 20z\"/>\n",
              "  </svg>\n",
              "      </button>\n",
              "      \n",
              "  <style>\n",
              "    .colab-df-container {\n",
              "      display:flex;\n",
              "      flex-wrap:wrap;\n",
              "      gap: 12px;\n",
              "    }\n",
              "\n",
              "    .colab-df-convert {\n",
              "      background-color: #E8F0FE;\n",
              "      border: none;\n",
              "      border-radius: 50%;\n",
              "      cursor: pointer;\n",
              "      display: none;\n",
              "      fill: #1967D2;\n",
              "      height: 32px;\n",
              "      padding: 0 0 0 0;\n",
              "      width: 32px;\n",
              "    }\n",
              "\n",
              "    .colab-df-convert:hover {\n",
              "      background-color: #E2EBFA;\n",
              "      box-shadow: 0px 1px 2px rgba(60, 64, 67, 0.3), 0px 1px 3px 1px rgba(60, 64, 67, 0.15);\n",
              "      fill: #174EA6;\n",
              "    }\n",
              "\n",
              "    [theme=dark] .colab-df-convert {\n",
              "      background-color: #3B4455;\n",
              "      fill: #D2E3FC;\n",
              "    }\n",
              "\n",
              "    [theme=dark] .colab-df-convert:hover {\n",
              "      background-color: #434B5C;\n",
              "      box-shadow: 0px 1px 3px 1px rgba(0, 0, 0, 0.15);\n",
              "      filter: drop-shadow(0px 1px 2px rgba(0, 0, 0, 0.3));\n",
              "      fill: #FFFFFF;\n",
              "    }\n",
              "  </style>\n",
              "\n",
              "      <script>\n",
              "        const buttonEl =\n",
              "          document.querySelector('#df-ff4a3b41-1452-4952-bb1f-bba8a206656a button.colab-df-convert');\n",
              "        buttonEl.style.display =\n",
              "          google.colab.kernel.accessAllowed ? 'block' : 'none';\n",
              "\n",
              "        async function convertToInteractive(key) {\n",
              "          const element = document.querySelector('#df-ff4a3b41-1452-4952-bb1f-bba8a206656a');\n",
              "          const dataTable =\n",
              "            await google.colab.kernel.invokeFunction('convertToInteractive',\n",
              "                                                     [key], {});\n",
              "          if (!dataTable) return;\n",
              "\n",
              "          const docLinkHtml = 'Like what you see? Visit the ' +\n",
              "            '<a target=\"_blank\" href=https://colab.research.google.com/notebooks/data_table.ipynb>data table notebook</a>'\n",
              "            + ' to learn more about interactive tables.';\n",
              "          element.innerHTML = '';\n",
              "          dataTable['output_type'] = 'display_data';\n",
              "          await google.colab.output.renderOutput(dataTable, element);\n",
              "          const docLink = document.createElement('div');\n",
              "          docLink.innerHTML = docLinkHtml;\n",
              "          element.appendChild(docLink);\n",
              "        }\n",
              "      </script>\n",
              "    </div>\n",
              "  </div>\n",
              "  "
            ]
          },
          "metadata": {},
          "execution_count": 29
        }
      ],
      "source": [
        "batch_1 = df_bert.sample(60000).reset_index(drop=True)\n",
        "batch_1.head()"
      ]
    },
    {
      "cell_type": "markdown",
      "metadata": {
        "id": "bFV8xb6175wK"
      },
      "source": [
        "Посмотрим соотношение позитивных и негативных оценок."
      ]
    },
    {
      "cell_type": "code",
      "execution_count": 30,
      "metadata": {
        "colab": {
          "base_uri": "https://localhost:8080/"
        },
        "id": "n2ZGKQEv47ou",
        "outputId": "dbcf9529-101d-43fe-b775-9dc6df83aa7b"
      },
      "outputs": [
        {
          "output_type": "stream",
          "name": "stdout",
          "text": [
            "0    53910\n",
            "1     6090\n",
            "Name: toxic, dtype: int64\n"
          ]
        },
        {
          "output_type": "execute_result",
          "data": {
            "text/plain": [
              "8.852216748768473"
            ]
          },
          "metadata": {},
          "execution_count": 30
        }
      ],
      "source": [
        "print(batch_1['toxic'].value_counts())\n",
        "batch_1['toxic'].value_counts()[0] / batch_1['toxic'].value_counts()[1]"
      ]
    },
    {
      "cell_type": "markdown",
      "metadata": {
        "id": "a9kuR9RnpGSQ"
      },
      "source": [
        "Импортируем токенизатор"
      ]
    },
    {
      "cell_type": "code",
      "execution_count": 31,
      "metadata": {
        "colab": {
          "base_uri": "https://localhost:8080/",
          "height": 217,
          "referenced_widgets": [
            "eefc928c2e0b42a2b17fd5799d330822",
            "5f9c4cadb2aa41aa9e9d7f54fcf0a57a",
            "de2f32a5ca454564bf1c7a6ab00535c6",
            "9127915ddb2b4f4da938fdf8fbcf1ffd",
            "35c92089a35949ccb086ceeadb661cd3",
            "2da58e159cda437888459879a1ac0506",
            "11b6391d29b54ef1b7cd8d11fc154a18",
            "2d118c68df7448ca8db1f94f75aed366",
            "9b1208a3cc594b8fba97133f56f06e6f",
            "d8a6018d6bde44b6a4a06c737faf25ae",
            "e72502cf4bc64db895e781f780681a62",
            "4e92e0f74e2d4a9ca0c2c326eb224e9c",
            "5ad98218d225417cb494a6f2f6bc5bcf",
            "dd66fe031a64405fb21d15b282f6ac15",
            "e92688e9449b47f99a0c5e8d18d7da98",
            "c072e2eb67f540a3a25c380220a76d22",
            "b9afef517c8a4eba9fc3810cd70e33bc",
            "ce0c7d6d84cc4b929fa0dfb6e120b1d0",
            "3c54af95f83c487a880296d78110a5b2",
            "00380d2d475e438ba2e534d5717dfbd4",
            "7bff39ddffbb4a9b90e17017f1a2593e",
            "ad0f02b1bc3144409a339493da2c6786",
            "30728c72c7d84ff38cbc1980990c4b0c",
            "21c75ad501444a21b516672ed444f431",
            "fee5c6b97d2747479e6cca8fc7c02a93",
            "83ae5af7317a4dbf87896250bbdea9cd",
            "86e212d9d2ff4ec588e9e052dfea8cfc",
            "1e2c7648d3904ea0a6b3e9433d221f7d",
            "e39bb0a5c2544f479f0366d2006b3a40",
            "ee5f4592e19941b5960d08f6cd989274",
            "79b5e0b125294df4abfa0adaa4bc4c9d",
            "8ad4247bf2944b27abd7b06c84d99052",
            "d46ba79df828428cb407f41df7fe8fd8",
            "f36ff0a2763844e2bc9ae8d978000155",
            "215da0e5b83e4732a4b9151b0cd0ab20",
            "3b067b88f5a94296ad7eec050deff5cd",
            "6e28ee7e2d98493688b93a807d61e66a",
            "dc3185eaad0d4b01aa049c183c599fc3",
            "6161c8ec57fd4255be283adaa30bec36",
            "c9edaa15ea0340ec874ff63be549284a",
            "5bcd7cb90a844474ba051f3c40dfca18",
            "66b8c555870d4c3faa90e5ad073e45e4",
            "e006d1403c344d18b5ed2ee71d12ba25",
            "c61e24cf4ec84e4e8cd10ba6b062495e"
          ]
        },
        "id": "Q_XLrpGt60Eh",
        "outputId": "4183da89-78bf-498e-cfd8-561f4a123a6f"
      },
      "outputs": [
        {
          "output_type": "display_data",
          "data": {
            "text/plain": [
              "Downloading (…)solve/main/vocab.txt:   0%|          | 0.00/232k [00:00<?, ?B/s]"
            ],
            "application/vnd.jupyter.widget-view+json": {
              "version_major": 2,
              "version_minor": 0,
              "model_id": "eefc928c2e0b42a2b17fd5799d330822"
            }
          },
          "metadata": {}
        },
        {
          "output_type": "display_data",
          "data": {
            "text/plain": [
              "Downloading (…)okenizer_config.json:   0%|          | 0.00/28.0 [00:00<?, ?B/s]"
            ],
            "application/vnd.jupyter.widget-view+json": {
              "version_major": 2,
              "version_minor": 0,
              "model_id": "4e92e0f74e2d4a9ca0c2c326eb224e9c"
            }
          },
          "metadata": {}
        },
        {
          "output_type": "display_data",
          "data": {
            "text/plain": [
              "Downloading (…)lve/main/config.json:   0%|          | 0.00/570 [00:00<?, ?B/s]"
            ],
            "application/vnd.jupyter.widget-view+json": {
              "version_major": 2,
              "version_minor": 0,
              "model_id": "30728c72c7d84ff38cbc1980990c4b0c"
            }
          },
          "metadata": {}
        },
        {
          "output_type": "display_data",
          "data": {
            "text/plain": [
              "Downloading (…)\"pytorch_model.bin\";:   0%|          | 0.00/440M [00:00<?, ?B/s]"
            ],
            "application/vnd.jupyter.widget-view+json": {
              "version_major": 2,
              "version_minor": 0,
              "model_id": "f36ff0a2763844e2bc9ae8d978000155"
            }
          },
          "metadata": {}
        },
        {
          "output_type": "stream",
          "name": "stderr",
          "text": [
            "Some weights of the model checkpoint at bert-base-uncased were not used when initializing BertModel: ['cls.predictions.bias', 'cls.predictions.transform.dense.weight', 'cls.predictions.transform.LayerNorm.weight', 'cls.seq_relationship.bias', 'cls.predictions.transform.LayerNorm.bias', 'cls.predictions.decoder.weight', 'cls.seq_relationship.weight', 'cls.predictions.transform.dense.bias']\n",
            "- This IS expected if you are initializing BertModel from the checkpoint of a model trained on another task or with another architecture (e.g. initializing a BertForSequenceClassification model from a BertForPreTraining model).\n",
            "- This IS NOT expected if you are initializing BertModel from the checkpoint of a model that you expect to be exactly identical (initializing a BertForSequenceClassification model from a BertForSequenceClassification model).\n"
          ]
        }
      ],
      "source": [
        "\n",
        "model_class, tokenizer_class, pretrained_weights = (ppb.BertModel, ppb.BertTokenizer, 'bert-base-uncased')\n",
        "\n",
        "tokenizer = tokenizer_class.from_pretrained(pretrained_weights)\n",
        "model = model_class.from_pretrained(pretrained_weights)\n",
        "model = model.to(device)"
      ]
    },
    {
      "cell_type": "markdown",
      "metadata": {
        "id": "LIn9AkSY74bE"
      },
      "source": [
        "Проводим токенизацию текста нашего датасета"
      ]
    },
    {
      "cell_type": "code",
      "execution_count": null,
      "metadata": {
        "id": "fAVtcsP16_UF"
      },
      "outputs": [],
      "source": [
        "tokenized = batch_1['text'].apply((lambda x: tokenizer.encode(x, add_special_tokens=True, max_length=512, truncation=True)))"
      ]
    },
    {
      "cell_type": "markdown",
      "metadata": {
        "id": "g3697q-y8t0Q"
      },
      "source": [
        "Приводим векторы к одному размеру.\n"
      ]
    },
    {
      "cell_type": "code",
      "execution_count": null,
      "metadata": {
        "id": "YusTC-Na8rci"
      },
      "outputs": [],
      "source": [
        "max_len = 0\n",
        "for i in tokenized.values:\n",
        "    if len(i) > max_len:\n",
        "        max_len = len(i)\n",
        "\n",
        "padded = np.array([i + [0]*(max_len-len(i)) for i in tokenized.values])\n",
        "np.array(padded).shape"
      ]
    },
    {
      "cell_type": "markdown",
      "metadata": {
        "id": "sQiHVYO--ZDZ"
      },
      "source": [
        "Создадим маску для значимых токенов."
      ]
    },
    {
      "cell_type": "code",
      "execution_count": null,
      "metadata": {
        "id": "EUDDJVVCXUet"
      },
      "outputs": [],
      "source": [
        "attention_mask = np.where(padded != 0, 1, 0)\n",
        "attention_mask.shape"
      ]
    },
    {
      "cell_type": "markdown",
      "metadata": {
        "id": "bjWMCNwY-7OB"
      },
      "source": [
        "Обработка в DistilBERT'е\n",
        "\n",
        "Теперь создадим входной вектор из матрицы токенов и передадим его в BERT."
      ]
    },
    {
      "cell_type": "code",
      "execution_count": null,
      "metadata": {
        "id": "CMShf2Rm_D1k"
      },
      "outputs": [],
      "source": [
        "input_ids = torch.tensor(padded)\n",
        "attention_mask = torch.tensor(attention_mask)\n",
        "#with torch.no_grad():\n",
        "#  last_hidden_states = model(input_ids, attention_mask=attention_mask)"
      ]
    },
    {
      "cell_type": "code",
      "execution_count": null,
      "metadata": {
        "id": "yOYZE7Epu8WL"
      },
      "outputs": [],
      "source": [
        "%%time\n",
        "from tqdm import notebook\n",
        "batch_size = 200 # для примера возьмем такой батч, где будет всего две строки датасета (возьми сколько влезет на GPU), чем больше батч, тем быстрее пройдет обработка\n",
        "embeddings = [] \n",
        "for i in notebook.tqdm(range(input_ids.shape[0] // batch_size)):\n",
        "        batch = torch.LongTensor(input_ids[batch_size*i:batch_size*(i+1)]).cuda() # закидываем тензор на GPU\n",
        "        attention_mask_batch = torch.LongTensor(attention_mask[batch_size*i:batch_size*(i+1)]).cuda()\n",
        "\n",
        "        with torch.no_grad():\n",
        "            model.cuda()\n",
        "            batch_embeddings = model(batch, attention_mask=attention_mask_batch)\n",
        "\n",
        "        embeddings.append(batch_embeddings[0][:,0,:].cpu().numpy()) # перевод обратно на проц, чтобы в нумпай кинуть\n",
        "        del batch\n",
        "        del attention_mask_batch\n",
        "        del batch_embeddings"
      ]
    },
    {
      "cell_type": "code",
      "execution_count": null,
      "metadata": {
        "id": "6P4DnElWCHVy"
      },
      "outputs": [],
      "source": [
        "features = np.concatenate(embeddings)\n",
        "target = batch_1['toxic']\n",
        "\n",
        "train_features, test_features, train_target, test_target = train_test_split(features, target, test_size=0.25, random_state=12345)"
      ]
    },
    {
      "cell_type": "markdown",
      "metadata": {
        "id": "-kEXQvsVC6rt"
      },
      "source": [
        "Обучаем Логистическую регрессию."
      ]
    },
    {
      "cell_type": "code",
      "execution_count": null,
      "metadata": {
        "colab": {
          "base_uri": "https://localhost:8080/"
        },
        "id": "Y3fk-eDQ4KzB",
        "outputId": "4165015b-a21a-4658-a950-7fb14a1b54f0"
      },
      "outputs": [
        {
          "name": "stdout",
          "output_type": "stream",
          "text": [
            "best parameters:  {'C': 6, 'class_weight': 'None'}\n",
            "best scrores:  0.708947599405685\n"
          ]
        }
      ],
      "source": [
        "parameters = {'C': range(1, 10),\n",
        "              'class_weight': ['None', 'balansed']\n",
        "              }\n",
        "grid_search = GridSearchCV(LogisticRegression(), parameters, scoring='f1', cv=3)\n",
        "grid_search.fit(train_features, train_target)\n",
        "\n",
        "print('best parameters: ', grid_search.best_params_)\n",
        "print('best scrores: ', grid_search.best_score_)"
      ]
    },
    {
      "cell_type": "code",
      "execution_count": null,
      "metadata": {
        "colab": {
          "base_uri": "https://localhost:8080/"
        },
        "id": "E0xvjfZN5_hG",
        "outputId": "ff0c2933-12f2-47fa-b133-26cd5e260401"
      },
      "outputs": [
        {
          "data": {
            "text/plain": [
              "0.7098143236074269"
            ]
          },
          "execution_count": 50,
          "metadata": {},
          "output_type": "execute_result"
        }
      ],
      "source": [
        "model = LogisticRegression(random_state=1234, C=6)\n",
        "model.fit(train_features, train_target)\n",
        "predict = model.predict(test_features)\n",
        "score = f1_score(test_target, predict)\n",
        "score"
      ]
    },
    {
      "cell_type": "markdown",
      "metadata": {
        "id": "gabffcb-V3GW"
      },
      "source": [
        "## Выводы:"
      ]
    },
    {
      "cell_type": "markdown",
      "metadata": {
        "id": "mg8shBSIXUeu"
      },
      "source": [
        "Заказчик магазин \"Викишоп\" запускает новый сервис, который позвозяет пользователями редактировать и дополнять описание товаров. Необходимо было подобрать эффективную модель машинного обучения, которая поможет классифицировать комментарии пользователей на позитивные и негативные.\n",
        "\n",
        "В ходе работы с датасетом было сделано:\n",
        "\n",
        "- Подготовленны данные исходного датасета.\n",
        "- Проведена работа над балансом классов.\n",
        "- Перед обучением проведена обработка теста (лемматизация, очистка, расчет TFIDF).\n",
        "- Выбрана лучшая модель.\n",
        "- Показаны параметры качества моделей.\n",
        "\n",
        "Наилучшие результаты показали работа с BERT. \n",
        "На тестовой выбоке метрика F1 - 0.7098"
      ]
    },
    {
      "cell_type": "code",
      "source": [],
      "metadata": {
        "id": "1d_OdychYtEK"
      },
      "execution_count": null,
      "outputs": []
    }
  ],
  "metadata": {
    "ExecuteTimeLog": [
      {
        "duration": 261,
        "start_time": "2022-08-28T13:40:10.325Z"
      },
      {
        "duration": 4,
        "start_time": "2022-08-29T07:05:56.085Z"
      },
      {
        "duration": 1957,
        "start_time": "2022-08-29T07:05:56.091Z"
      },
      {
        "duration": 140,
        "start_time": "2022-08-29T07:05:58.050Z"
      },
      {
        "duration": 0,
        "start_time": "2022-08-29T07:05:58.192Z"
      },
      {
        "duration": 0,
        "start_time": "2022-08-29T07:05:58.193Z"
      },
      {
        "duration": 0,
        "start_time": "2022-08-29T07:05:58.194Z"
      },
      {
        "duration": 0,
        "start_time": "2022-08-29T07:05:58.195Z"
      },
      {
        "duration": 0,
        "start_time": "2022-08-29T07:05:58.195Z"
      },
      {
        "duration": 0,
        "start_time": "2022-08-29T07:05:58.197Z"
      },
      {
        "duration": 0,
        "start_time": "2022-08-29T07:05:58.198Z"
      },
      {
        "duration": 0,
        "start_time": "2022-08-29T07:05:58.199Z"
      },
      {
        "duration": 0,
        "start_time": "2022-08-29T07:05:58.200Z"
      },
      {
        "duration": 0,
        "start_time": "2022-08-29T07:05:58.201Z"
      },
      {
        "duration": 10,
        "start_time": "2022-08-29T07:07:14.794Z"
      },
      {
        "duration": 97,
        "start_time": "2022-08-29T07:07:25.061Z"
      },
      {
        "duration": 57,
        "start_time": "2022-08-29T07:07:37.568Z"
      },
      {
        "duration": 2313,
        "start_time": "2022-08-29T07:07:47.003Z"
      },
      {
        "duration": 10,
        "start_time": "2022-08-29T07:10:44.843Z"
      },
      {
        "duration": 925,
        "start_time": "2022-08-29T07:11:56.180Z"
      },
      {
        "duration": 805,
        "start_time": "2022-08-29T07:12:59.295Z"
      },
      {
        "duration": 32,
        "start_time": "2022-08-29T07:13:10.890Z"
      },
      {
        "duration": 224,
        "start_time": "2022-08-29T07:13:13.608Z"
      },
      {
        "duration": 378,
        "start_time": "2022-08-29T07:13:15.057Z"
      },
      {
        "duration": 3,
        "start_time": "2022-08-29T07:13:32.845Z"
      },
      {
        "duration": 40,
        "start_time": "2022-08-29T07:13:32.853Z"
      },
      {
        "duration": 872,
        "start_time": "2022-08-29T07:13:32.896Z"
      },
      {
        "duration": 38,
        "start_time": "2022-08-29T07:13:33.769Z"
      },
      {
        "duration": 236,
        "start_time": "2022-08-29T07:13:33.809Z"
      },
      {
        "duration": 390,
        "start_time": "2022-08-29T07:13:34.047Z"
      },
      {
        "duration": 5,
        "start_time": "2022-08-29T07:13:34.439Z"
      },
      {
        "duration": 25,
        "start_time": "2022-08-29T07:13:34.445Z"
      },
      {
        "duration": 17,
        "start_time": "2022-08-29T07:13:34.472Z"
      },
      {
        "duration": 49,
        "start_time": "2022-08-29T07:13:34.491Z"
      },
      {
        "duration": 16,
        "start_time": "2022-08-29T07:13:34.542Z"
      },
      {
        "duration": 2297,
        "start_time": "2022-08-29T07:13:34.560Z"
      },
      {
        "duration": 0,
        "start_time": "2022-08-29T07:13:36.858Z"
      },
      {
        "duration": 4,
        "start_time": "2022-08-29T07:19:14.567Z"
      },
      {
        "duration": 866,
        "start_time": "2022-08-29T07:19:17.138Z"
      },
      {
        "duration": 55,
        "start_time": "2022-08-29T07:19:36.239Z"
      },
      {
        "duration": 824,
        "start_time": "2022-08-29T07:20:45.163Z"
      },
      {
        "duration": 33,
        "start_time": "2022-08-29T07:20:49.523Z"
      },
      {
        "duration": 959,
        "start_time": "2022-08-29T07:21:05.928Z"
      },
      {
        "duration": 35,
        "start_time": "2022-08-29T07:21:09.128Z"
      },
      {
        "duration": 232,
        "start_time": "2022-08-29T07:21:12.440Z"
      },
      {
        "duration": 398,
        "start_time": "2022-08-29T07:21:14.117Z"
      },
      {
        "duration": 17,
        "start_time": "2022-08-29T07:21:20.693Z"
      },
      {
        "duration": 20,
        "start_time": "2022-08-29T07:21:25.310Z"
      },
      {
        "duration": 8,
        "start_time": "2022-08-29T07:21:27.967Z"
      },
      {
        "duration": 7,
        "start_time": "2022-08-29T07:21:47.461Z"
      },
      {
        "duration": 933,
        "start_time": "2022-08-29T07:21:51.578Z"
      },
      {
        "duration": 12,
        "start_time": "2022-08-29T07:21:57.897Z"
      },
      {
        "duration": 2035,
        "start_time": "2022-08-29T07:22:20.239Z"
      },
      {
        "duration": 1004,
        "start_time": "2022-08-29T07:22:25.062Z"
      },
      {
        "duration": 32,
        "start_time": "2022-08-29T07:22:29.949Z"
      },
      {
        "duration": 249,
        "start_time": "2022-08-29T07:22:33.167Z"
      },
      {
        "duration": 408,
        "start_time": "2022-08-29T07:22:35.013Z"
      },
      {
        "duration": 5,
        "start_time": "2022-08-29T07:22:37.472Z"
      },
      {
        "duration": 23,
        "start_time": "2022-08-29T07:22:40.459Z"
      },
      {
        "duration": 5,
        "start_time": "2022-08-29T07:22:44.350Z"
      },
      {
        "duration": 53,
        "start_time": "2022-08-29T07:22:46.157Z"
      },
      {
        "duration": 20,
        "start_time": "2022-08-29T07:22:50.237Z"
      },
      {
        "duration": 1171,
        "start_time": "2022-08-29T07:22:56.406Z"
      },
      {
        "duration": 6,
        "start_time": "2022-08-29T07:23:23.952Z"
      },
      {
        "duration": 892,
        "start_time": "2022-08-29T07:43:57.396Z"
      },
      {
        "duration": 36,
        "start_time": "2022-08-29T07:44:00.480Z"
      },
      {
        "duration": 284,
        "start_time": "2022-08-29T07:44:03.732Z"
      },
      {
        "duration": 436,
        "start_time": "2022-08-29T07:44:05.649Z"
      },
      {
        "duration": 4,
        "start_time": "2022-08-29T07:44:07.731Z"
      },
      {
        "duration": 8,
        "start_time": "2022-08-29T07:44:14.894Z"
      },
      {
        "duration": 55,
        "start_time": "2022-08-29T07:44:21.660Z"
      },
      {
        "duration": 12,
        "start_time": "2022-08-29T07:45:00.050Z"
      },
      {
        "duration": 1698,
        "start_time": "2022-08-29T07:58:14.187Z"
      },
      {
        "duration": 371,
        "start_time": "2022-08-29T08:02:47.682Z"
      },
      {
        "duration": 54,
        "start_time": "2022-08-29T08:40:57.431Z"
      },
      {
        "duration": 132619,
        "start_time": "2022-08-29T08:41:00.979Z"
      },
      {
        "duration": 1246,
        "start_time": "2022-08-29T08:43:26.298Z"
      },
      {
        "duration": 12,
        "start_time": "2022-08-29T10:31:40.655Z"
      },
      {
        "duration": 4,
        "start_time": "2022-08-29T10:31:53.153Z"
      },
      {
        "duration": 5,
        "start_time": "2022-08-29T10:32:15.871Z"
      },
      {
        "duration": 4,
        "start_time": "2022-08-29T10:32:28.558Z"
      },
      {
        "duration": 219,
        "start_time": "2022-08-29T10:35:05.994Z"
      },
      {
        "duration": 1184,
        "start_time": "2022-08-29T10:35:09.875Z"
      },
      {
        "duration": 10,
        "start_time": "2022-08-29T10:36:05.283Z"
      },
      {
        "duration": 4,
        "start_time": "2022-08-29T10:36:15.665Z"
      },
      {
        "duration": 790,
        "start_time": "2022-08-29T10:36:20.607Z"
      },
      {
        "duration": 31,
        "start_time": "2022-08-29T10:36:25.057Z"
      },
      {
        "duration": 210,
        "start_time": "2022-08-29T10:36:28.625Z"
      },
      {
        "duration": 372,
        "start_time": "2022-08-29T10:36:30.379Z"
      },
      {
        "duration": 5,
        "start_time": "2022-08-29T10:36:32.123Z"
      },
      {
        "duration": 22,
        "start_time": "2022-08-29T10:36:36.063Z"
      },
      {
        "duration": 4,
        "start_time": "2022-08-29T10:36:37.949Z"
      },
      {
        "duration": 47,
        "start_time": "2022-08-29T10:36:44.643Z"
      },
      {
        "duration": 12,
        "start_time": "2022-08-29T10:36:53.777Z"
      },
      {
        "duration": 9,
        "start_time": "2022-08-29T10:36:58.525Z"
      },
      {
        "duration": 5,
        "start_time": "2022-08-29T10:37:05.781Z"
      },
      {
        "duration": 125984,
        "start_time": "2022-08-29T10:37:09.269Z"
      },
      {
        "duration": 4,
        "start_time": "2022-08-29T10:41:02.076Z"
      },
      {
        "duration": 809,
        "start_time": "2022-08-29T10:41:04.258Z"
      },
      {
        "duration": 30,
        "start_time": "2022-08-29T10:41:07.698Z"
      },
      {
        "duration": 10,
        "start_time": "2022-08-29T10:41:19.358Z"
      },
      {
        "duration": 5,
        "start_time": "2022-08-29T10:41:24.300Z"
      },
      {
        "duration": 258536,
        "start_time": "2022-08-29T10:41:29.399Z"
      },
      {
        "duration": 16,
        "start_time": "2022-08-29T10:47:44.877Z"
      },
      {
        "duration": 8,
        "start_time": "2022-08-29T10:50:09.654Z"
      },
      {
        "duration": 30,
        "start_time": "2022-08-29T10:50:13.174Z"
      },
      {
        "duration": 11101,
        "start_time": "2022-08-29T10:50:21.871Z"
      },
      {
        "duration": 5306536,
        "start_time": "2022-08-29T11:40:46.400Z"
      },
      {
        "duration": 0,
        "start_time": "2022-08-29T13:09:12.939Z"
      },
      {
        "duration": 0,
        "start_time": "2022-08-29T13:09:12.940Z"
      },
      {
        "duration": 1883,
        "start_time": "2022-09-02T06:03:46.577Z"
      },
      {
        "duration": 5133,
        "start_time": "2022-09-02T06:03:48.462Z"
      },
      {
        "duration": 142,
        "start_time": "2022-09-02T06:03:53.596Z"
      },
      {
        "duration": 0,
        "start_time": "2022-09-02T06:03:53.740Z"
      },
      {
        "duration": 0,
        "start_time": "2022-09-02T06:03:53.741Z"
      },
      {
        "duration": 0,
        "start_time": "2022-09-02T06:03:53.742Z"
      },
      {
        "duration": 0,
        "start_time": "2022-09-02T06:03:53.743Z"
      },
      {
        "duration": 0,
        "start_time": "2022-09-02T06:03:53.744Z"
      },
      {
        "duration": 0,
        "start_time": "2022-09-02T06:03:53.754Z"
      },
      {
        "duration": 0,
        "start_time": "2022-09-02T06:03:53.756Z"
      },
      {
        "duration": 1,
        "start_time": "2022-09-02T06:03:53.756Z"
      },
      {
        "duration": 0,
        "start_time": "2022-09-02T06:03:53.758Z"
      },
      {
        "duration": 0,
        "start_time": "2022-09-02T06:03:53.759Z"
      },
      {
        "duration": 0,
        "start_time": "2022-09-02T06:03:53.760Z"
      },
      {
        "duration": 0,
        "start_time": "2022-09-02T06:03:53.761Z"
      },
      {
        "duration": 0,
        "start_time": "2022-09-02T06:03:53.762Z"
      },
      {
        "duration": 0,
        "start_time": "2022-09-02T06:03:53.763Z"
      },
      {
        "duration": 0,
        "start_time": "2022-09-02T06:03:53.763Z"
      },
      {
        "duration": 0,
        "start_time": "2022-09-02T06:03:53.764Z"
      },
      {
        "duration": 0,
        "start_time": "2022-09-02T06:03:53.765Z"
      },
      {
        "duration": 0,
        "start_time": "2022-09-02T06:03:53.766Z"
      },
      {
        "duration": 0,
        "start_time": "2022-09-02T06:03:53.767Z"
      },
      {
        "duration": 0,
        "start_time": "2022-09-02T06:03:53.768Z"
      },
      {
        "duration": 0,
        "start_time": "2022-09-02T06:03:53.769Z"
      },
      {
        "duration": 0,
        "start_time": "2022-09-02T06:03:53.771Z"
      },
      {
        "duration": 0,
        "start_time": "2022-09-02T06:03:53.772Z"
      },
      {
        "duration": 0,
        "start_time": "2022-09-02T06:03:53.773Z"
      },
      {
        "duration": 0,
        "start_time": "2022-09-02T06:03:53.773Z"
      },
      {
        "duration": 0,
        "start_time": "2022-09-02T06:03:53.775Z"
      },
      {
        "duration": 82,
        "start_time": "2022-09-02T06:03:55.975Z"
      },
      {
        "duration": 10,
        "start_time": "2022-09-02T06:03:59.356Z"
      },
      {
        "duration": 3189,
        "start_time": "2022-09-02T06:04:28.582Z"
      },
      {
        "duration": 29,
        "start_time": "2022-09-02T06:04:36.780Z"
      },
      {
        "duration": 202,
        "start_time": "2022-09-02T06:04:37.773Z"
      },
      {
        "duration": 371,
        "start_time": "2022-09-02T06:04:37.976Z"
      },
      {
        "duration": 8,
        "start_time": "2022-09-02T06:04:38.349Z"
      },
      {
        "duration": 22,
        "start_time": "2022-09-02T06:04:38.571Z"
      },
      {
        "duration": 5,
        "start_time": "2022-09-02T06:04:38.913Z"
      },
      {
        "duration": 44,
        "start_time": "2022-09-02T06:04:39.237Z"
      },
      {
        "duration": 14,
        "start_time": "2022-09-02T06:04:39.566Z"
      },
      {
        "duration": 1646,
        "start_time": "2022-09-02T06:04:42.374Z"
      },
      {
        "duration": 2,
        "start_time": "2022-09-02T06:05:09.004Z"
      },
      {
        "duration": 703,
        "start_time": "2022-09-02T06:05:23.615Z"
      },
      {
        "duration": 29,
        "start_time": "2022-09-02T06:05:28.701Z"
      },
      {
        "duration": 205,
        "start_time": "2022-09-02T06:05:31.191Z"
      },
      {
        "duration": 361,
        "start_time": "2022-09-02T06:05:31.398Z"
      },
      {
        "duration": 4,
        "start_time": "2022-09-02T06:05:31.761Z"
      },
      {
        "duration": 21,
        "start_time": "2022-09-02T06:05:32.061Z"
      },
      {
        "duration": 10,
        "start_time": "2022-09-02T06:05:55.575Z"
      },
      {
        "duration": 2612,
        "start_time": "2022-09-02T06:05:57.802Z"
      },
      {
        "duration": 240842,
        "start_time": "2022-09-02T06:06:00.415Z"
      },
      {
        "duration": 47,
        "start_time": "2022-09-02T06:10:01.259Z"
      },
      {
        "duration": 8,
        "start_time": "2022-09-02T06:10:01.307Z"
      },
      {
        "duration": 47,
        "start_time": "2022-09-02T06:10:01.316Z"
      },
      {
        "duration": 4,
        "start_time": "2022-09-02T06:10:01.364Z"
      },
      {
        "duration": 8,
        "start_time": "2022-09-02T06:10:01.370Z"
      },
      {
        "duration": 15,
        "start_time": "2022-09-02T06:10:01.380Z"
      },
      {
        "duration": 342665,
        "start_time": "2022-09-02T06:10:01.397Z"
      },
      {
        "duration": 0,
        "start_time": "2022-09-02T06:15:44.063Z"
      },
      {
        "duration": 0,
        "start_time": "2022-09-02T06:15:44.064Z"
      },
      {
        "duration": 0,
        "start_time": "2022-09-02T06:15:44.065Z"
      },
      {
        "duration": 0,
        "start_time": "2022-09-02T06:15:44.066Z"
      },
      {
        "duration": 0,
        "start_time": "2022-09-02T06:15:44.067Z"
      },
      {
        "duration": 0,
        "start_time": "2022-09-02T06:15:44.068Z"
      },
      {
        "duration": 0,
        "start_time": "2022-09-02T06:15:44.069Z"
      },
      {
        "duration": 0,
        "start_time": "2022-09-02T06:15:44.070Z"
      },
      {
        "duration": 47,
        "start_time": "2022-09-02T06:15:57.267Z"
      },
      {
        "duration": 13,
        "start_time": "2022-09-02T06:15:58.653Z"
      },
      {
        "duration": 13,
        "start_time": "2022-09-02T06:15:59.121Z"
      },
      {
        "duration": 3,
        "start_time": "2022-09-02T06:16:00.180Z"
      },
      {
        "duration": 3,
        "start_time": "2022-09-02T06:16:00.721Z"
      },
      {
        "duration": 3,
        "start_time": "2022-09-02T06:16:02.489Z"
      },
      {
        "duration": 4,
        "start_time": "2022-09-02T06:16:06.963Z"
      },
      {
        "duration": 3,
        "start_time": "2022-09-02T06:16:24.302Z"
      },
      {
        "duration": 27,
        "start_time": "2022-09-02T06:16:46.938Z"
      },
      {
        "duration": 10,
        "start_time": "2022-09-02T06:16:58.357Z"
      },
      {
        "duration": 11,
        "start_time": "2022-09-02T06:17:06.116Z"
      },
      {
        "duration": 23,
        "start_time": "2022-09-02T06:17:07.909Z"
      },
      {
        "duration": 13,
        "start_time": "2022-09-02T06:17:09.630Z"
      },
      {
        "duration": 13,
        "start_time": "2022-09-02T06:17:15.439Z"
      },
      {
        "duration": 22,
        "start_time": "2022-09-02T06:17:28.212Z"
      },
      {
        "duration": 6,
        "start_time": "2022-09-02T06:18:02.705Z"
      },
      {
        "duration": 20,
        "start_time": "2022-09-02T06:19:42.429Z"
      },
      {
        "duration": 7,
        "start_time": "2022-09-02T06:19:44.588Z"
      },
      {
        "duration": 5,
        "start_time": "2022-09-02T06:19:54.068Z"
      },
      {
        "duration": 7,
        "start_time": "2022-09-02T06:20:05.590Z"
      },
      {
        "duration": 3,
        "start_time": "2022-09-02T06:20:12.616Z"
      },
      {
        "duration": 4,
        "start_time": "2022-09-02T06:20:19.255Z"
      },
      {
        "duration": 3,
        "start_time": "2022-09-02T06:20:23.680Z"
      },
      {
        "duration": 5326,
        "start_time": "2022-09-02T06:20:33.100Z"
      },
      {
        "duration": 2,
        "start_time": "2022-09-02T06:21:48.590Z"
      },
      {
        "duration": 58,
        "start_time": "2022-09-02T06:23:48.432Z"
      },
      {
        "duration": 5,
        "start_time": "2022-09-02T06:24:17.385Z"
      },
      {
        "duration": 68,
        "start_time": "2022-09-02T06:25:18.664Z"
      },
      {
        "duration": 43,
        "start_time": "2022-09-02T06:25:53.187Z"
      },
      {
        "duration": 62,
        "start_time": "2022-09-02T06:26:19.485Z"
      },
      {
        "duration": 39,
        "start_time": "2022-09-02T06:27:03.311Z"
      },
      {
        "duration": 4,
        "start_time": "2022-09-02T06:28:11.415Z"
      },
      {
        "duration": 37,
        "start_time": "2022-09-02T06:28:59.687Z"
      },
      {
        "duration": 46,
        "start_time": "2022-09-02T06:29:18.776Z"
      },
      {
        "duration": 5,
        "start_time": "2022-09-02T06:29:24.592Z"
      },
      {
        "duration": 49,
        "start_time": "2022-09-02T06:29:42.978Z"
      },
      {
        "duration": 39,
        "start_time": "2022-09-02T06:29:50.233Z"
      },
      {
        "duration": 47,
        "start_time": "2022-09-02T06:29:56.146Z"
      },
      {
        "duration": 4,
        "start_time": "2022-09-02T06:30:36.246Z"
      },
      {
        "duration": 5,
        "start_time": "2022-09-02T06:30:37.532Z"
      },
      {
        "duration": 55,
        "start_time": "2022-09-02T06:30:55.836Z"
      },
      {
        "duration": 40,
        "start_time": "2022-09-02T06:31:17.205Z"
      },
      {
        "duration": 17,
        "start_time": "2022-09-02T06:31:51.736Z"
      },
      {
        "duration": 26,
        "start_time": "2022-09-02T06:31:59.369Z"
      },
      {
        "duration": 37,
        "start_time": "2022-09-02T06:32:15.395Z"
      },
      {
        "duration": 56,
        "start_time": "2022-09-02T06:32:27.096Z"
      },
      {
        "duration": 2480,
        "start_time": "2022-09-02T06:34:00.737Z"
      }
    ],
    "accelerator": "GPU",
    "colab": {
      "provenance": [],
      "toc_visible": true
    },
    "gpuClass": "standard",
    "kernelspec": {
      "display_name": "Python 3 (ipykernel)",
      "language": "python",
      "name": "python3"
    },
    "language_info": {
      "codemirror_mode": {
        "name": "ipython",
        "version": 3
      },
      "file_extension": ".py",
      "mimetype": "text/x-python",
      "name": "python",
      "nbconvert_exporter": "python",
      "pygments_lexer": "ipython3",
      "version": "3.9.5"
    },
    "toc": {
      "base_numbering": 1,
      "nav_menu": {},
      "number_sections": true,
      "sideBar": true,
      "skip_h1_title": true,
      "title_cell": "Содержание",
      "title_sidebar": "Contents",
      "toc_cell": true,
      "toc_position": {
        "height": "calc(100% - 180px)",
        "left": "10px",
        "top": "150px",
        "width": "302.391px"
      },
      "toc_section_display": true,
      "toc_window_display": true
    },
    "widgets": {
      "application/vnd.jupyter.widget-state+json": {
        "f6b323d504744797a044a9b73e271e95": {
          "model_module": "@jupyter-widgets/controls",
          "model_name": "HBoxModel",
          "model_module_version": "1.5.0",
          "state": {
            "_dom_classes": [],
            "_model_module": "@jupyter-widgets/controls",
            "_model_module_version": "1.5.0",
            "_model_name": "HBoxModel",
            "_view_count": null,
            "_view_module": "@jupyter-widgets/controls",
            "_view_module_version": "1.5.0",
            "_view_name": "HBoxView",
            "box_style": "",
            "children": [
              "IPY_MODEL_4de28e684b48468ca8bb3529286d7963",
              "IPY_MODEL_0004ec5ec3d043b6bac854576a4b5f0f",
              "IPY_MODEL_3067e6c10a904848a803749bd733d8b7"
            ],
            "layout": "IPY_MODEL_ada01ae087ed45a7a1e043d0cd6710d0"
          }
        },
        "4de28e684b48468ca8bb3529286d7963": {
          "model_module": "@jupyter-widgets/controls",
          "model_name": "HTMLModel",
          "model_module_version": "1.5.0",
          "state": {
            "_dom_classes": [],
            "_model_module": "@jupyter-widgets/controls",
            "_model_module_version": "1.5.0",
            "_model_name": "HTMLModel",
            "_view_count": null,
            "_view_module": "@jupyter-widgets/controls",
            "_view_module_version": "1.5.0",
            "_view_name": "HTMLView",
            "description": "",
            "description_tooltip": null,
            "layout": "IPY_MODEL_4d201fcf13584bd1a6a91e4f89e0e14d",
            "placeholder": "​",
            "style": "IPY_MODEL_4e9ee1a700e6454e9dfcd1d6f5a63d60",
            "value": ""
          }
        },
        "0004ec5ec3d043b6bac854576a4b5f0f": {
          "model_module": "@jupyter-widgets/controls",
          "model_name": "FloatProgressModel",
          "model_module_version": "1.5.0",
          "state": {
            "_dom_classes": [],
            "_model_module": "@jupyter-widgets/controls",
            "_model_module_version": "1.5.0",
            "_model_name": "FloatProgressModel",
            "_view_count": null,
            "_view_module": "@jupyter-widgets/controls",
            "_view_module_version": "1.5.0",
            "_view_name": "ProgressView",
            "bar_style": "success",
            "description": "",
            "description_tooltip": null,
            "layout": "IPY_MODEL_c11cde799a1c4f02b01a3fdb2a69124f",
            "max": 1,
            "min": 0,
            "orientation": "horizontal",
            "style": "IPY_MODEL_7802df33226344baa10134fbd697b651",
            "value": 0
          }
        },
        "3067e6c10a904848a803749bd733d8b7": {
          "model_module": "@jupyter-widgets/controls",
          "model_name": "HTMLModel",
          "model_module_version": "1.5.0",
          "state": {
            "_dom_classes": [],
            "_model_module": "@jupyter-widgets/controls",
            "_model_module_version": "1.5.0",
            "_model_name": "HTMLModel",
            "_view_count": null,
            "_view_module": "@jupyter-widgets/controls",
            "_view_module_version": "1.5.0",
            "_view_name": "HTMLView",
            "description": "",
            "description_tooltip": null,
            "layout": "IPY_MODEL_bc732cdd8cd64e0eadf7aaeaec3327f1",
            "placeholder": "​",
            "style": "IPY_MODEL_edc71cb6e7714759940bb73794e14c67",
            "value": " 0/0 [00:00&lt;?, ?it/s]"
          }
        },
        "ada01ae087ed45a7a1e043d0cd6710d0": {
          "model_module": "@jupyter-widgets/base",
          "model_name": "LayoutModel",
          "model_module_version": "1.2.0",
          "state": {
            "_model_module": "@jupyter-widgets/base",
            "_model_module_version": "1.2.0",
            "_model_name": "LayoutModel",
            "_view_count": null,
            "_view_module": "@jupyter-widgets/base",
            "_view_module_version": "1.2.0",
            "_view_name": "LayoutView",
            "align_content": null,
            "align_items": null,
            "align_self": null,
            "border": null,
            "bottom": null,
            "display": null,
            "flex": null,
            "flex_flow": null,
            "grid_area": null,
            "grid_auto_columns": null,
            "grid_auto_flow": null,
            "grid_auto_rows": null,
            "grid_column": null,
            "grid_gap": null,
            "grid_row": null,
            "grid_template_areas": null,
            "grid_template_columns": null,
            "grid_template_rows": null,
            "height": null,
            "justify_content": null,
            "justify_items": null,
            "left": null,
            "margin": null,
            "max_height": null,
            "max_width": null,
            "min_height": null,
            "min_width": null,
            "object_fit": null,
            "object_position": null,
            "order": null,
            "overflow": null,
            "overflow_x": null,
            "overflow_y": null,
            "padding": null,
            "right": null,
            "top": null,
            "visibility": null,
            "width": null
          }
        },
        "4d201fcf13584bd1a6a91e4f89e0e14d": {
          "model_module": "@jupyter-widgets/base",
          "model_name": "LayoutModel",
          "model_module_version": "1.2.0",
          "state": {
            "_model_module": "@jupyter-widgets/base",
            "_model_module_version": "1.2.0",
            "_model_name": "LayoutModel",
            "_view_count": null,
            "_view_module": "@jupyter-widgets/base",
            "_view_module_version": "1.2.0",
            "_view_name": "LayoutView",
            "align_content": null,
            "align_items": null,
            "align_self": null,
            "border": null,
            "bottom": null,
            "display": null,
            "flex": null,
            "flex_flow": null,
            "grid_area": null,
            "grid_auto_columns": null,
            "grid_auto_flow": null,
            "grid_auto_rows": null,
            "grid_column": null,
            "grid_gap": null,
            "grid_row": null,
            "grid_template_areas": null,
            "grid_template_columns": null,
            "grid_template_rows": null,
            "height": null,
            "justify_content": null,
            "justify_items": null,
            "left": null,
            "margin": null,
            "max_height": null,
            "max_width": null,
            "min_height": null,
            "min_width": null,
            "object_fit": null,
            "object_position": null,
            "order": null,
            "overflow": null,
            "overflow_x": null,
            "overflow_y": null,
            "padding": null,
            "right": null,
            "top": null,
            "visibility": null,
            "width": null
          }
        },
        "4e9ee1a700e6454e9dfcd1d6f5a63d60": {
          "model_module": "@jupyter-widgets/controls",
          "model_name": "DescriptionStyleModel",
          "model_module_version": "1.5.0",
          "state": {
            "_model_module": "@jupyter-widgets/controls",
            "_model_module_version": "1.5.0",
            "_model_name": "DescriptionStyleModel",
            "_view_count": null,
            "_view_module": "@jupyter-widgets/base",
            "_view_module_version": "1.2.0",
            "_view_name": "StyleView",
            "description_width": ""
          }
        },
        "c11cde799a1c4f02b01a3fdb2a69124f": {
          "model_module": "@jupyter-widgets/base",
          "model_name": "LayoutModel",
          "model_module_version": "1.2.0",
          "state": {
            "_model_module": "@jupyter-widgets/base",
            "_model_module_version": "1.2.0",
            "_model_name": "LayoutModel",
            "_view_count": null,
            "_view_module": "@jupyter-widgets/base",
            "_view_module_version": "1.2.0",
            "_view_name": "LayoutView",
            "align_content": null,
            "align_items": null,
            "align_self": null,
            "border": null,
            "bottom": null,
            "display": null,
            "flex": null,
            "flex_flow": null,
            "grid_area": null,
            "grid_auto_columns": null,
            "grid_auto_flow": null,
            "grid_auto_rows": null,
            "grid_column": null,
            "grid_gap": null,
            "grid_row": null,
            "grid_template_areas": null,
            "grid_template_columns": null,
            "grid_template_rows": null,
            "height": null,
            "justify_content": null,
            "justify_items": null,
            "left": null,
            "margin": null,
            "max_height": null,
            "max_width": null,
            "min_height": null,
            "min_width": null,
            "object_fit": null,
            "object_position": null,
            "order": null,
            "overflow": null,
            "overflow_x": null,
            "overflow_y": null,
            "padding": null,
            "right": null,
            "top": null,
            "visibility": null,
            "width": "20px"
          }
        },
        "7802df33226344baa10134fbd697b651": {
          "model_module": "@jupyter-widgets/controls",
          "model_name": "ProgressStyleModel",
          "model_module_version": "1.5.0",
          "state": {
            "_model_module": "@jupyter-widgets/controls",
            "_model_module_version": "1.5.0",
            "_model_name": "ProgressStyleModel",
            "_view_count": null,
            "_view_module": "@jupyter-widgets/base",
            "_view_module_version": "1.2.0",
            "_view_name": "StyleView",
            "bar_color": null,
            "description_width": ""
          }
        },
        "bc732cdd8cd64e0eadf7aaeaec3327f1": {
          "model_module": "@jupyter-widgets/base",
          "model_name": "LayoutModel",
          "model_module_version": "1.2.0",
          "state": {
            "_model_module": "@jupyter-widgets/base",
            "_model_module_version": "1.2.0",
            "_model_name": "LayoutModel",
            "_view_count": null,
            "_view_module": "@jupyter-widgets/base",
            "_view_module_version": "1.2.0",
            "_view_name": "LayoutView",
            "align_content": null,
            "align_items": null,
            "align_self": null,
            "border": null,
            "bottom": null,
            "display": null,
            "flex": null,
            "flex_flow": null,
            "grid_area": null,
            "grid_auto_columns": null,
            "grid_auto_flow": null,
            "grid_auto_rows": null,
            "grid_column": null,
            "grid_gap": null,
            "grid_row": null,
            "grid_template_areas": null,
            "grid_template_columns": null,
            "grid_template_rows": null,
            "height": null,
            "justify_content": null,
            "justify_items": null,
            "left": null,
            "margin": null,
            "max_height": null,
            "max_width": null,
            "min_height": null,
            "min_width": null,
            "object_fit": null,
            "object_position": null,
            "order": null,
            "overflow": null,
            "overflow_x": null,
            "overflow_y": null,
            "padding": null,
            "right": null,
            "top": null,
            "visibility": null,
            "width": null
          }
        },
        "edc71cb6e7714759940bb73794e14c67": {
          "model_module": "@jupyter-widgets/controls",
          "model_name": "DescriptionStyleModel",
          "model_module_version": "1.5.0",
          "state": {
            "_model_module": "@jupyter-widgets/controls",
            "_model_module_version": "1.5.0",
            "_model_name": "DescriptionStyleModel",
            "_view_count": null,
            "_view_module": "@jupyter-widgets/base",
            "_view_module_version": "1.2.0",
            "_view_name": "StyleView",
            "description_width": ""
          }
        },
        "eefc928c2e0b42a2b17fd5799d330822": {
          "model_module": "@jupyter-widgets/controls",
          "model_name": "HBoxModel",
          "model_module_version": "1.5.0",
          "state": {
            "_dom_classes": [],
            "_model_module": "@jupyter-widgets/controls",
            "_model_module_version": "1.5.0",
            "_model_name": "HBoxModel",
            "_view_count": null,
            "_view_module": "@jupyter-widgets/controls",
            "_view_module_version": "1.5.0",
            "_view_name": "HBoxView",
            "box_style": "",
            "children": [
              "IPY_MODEL_5f9c4cadb2aa41aa9e9d7f54fcf0a57a",
              "IPY_MODEL_de2f32a5ca454564bf1c7a6ab00535c6",
              "IPY_MODEL_9127915ddb2b4f4da938fdf8fbcf1ffd"
            ],
            "layout": "IPY_MODEL_35c92089a35949ccb086ceeadb661cd3"
          }
        },
        "5f9c4cadb2aa41aa9e9d7f54fcf0a57a": {
          "model_module": "@jupyter-widgets/controls",
          "model_name": "HTMLModel",
          "model_module_version": "1.5.0",
          "state": {
            "_dom_classes": [],
            "_model_module": "@jupyter-widgets/controls",
            "_model_module_version": "1.5.0",
            "_model_name": "HTMLModel",
            "_view_count": null,
            "_view_module": "@jupyter-widgets/controls",
            "_view_module_version": "1.5.0",
            "_view_name": "HTMLView",
            "description": "",
            "description_tooltip": null,
            "layout": "IPY_MODEL_2da58e159cda437888459879a1ac0506",
            "placeholder": "​",
            "style": "IPY_MODEL_11b6391d29b54ef1b7cd8d11fc154a18",
            "value": "Downloading (…)solve/main/vocab.txt: 100%"
          }
        },
        "de2f32a5ca454564bf1c7a6ab00535c6": {
          "model_module": "@jupyter-widgets/controls",
          "model_name": "FloatProgressModel",
          "model_module_version": "1.5.0",
          "state": {
            "_dom_classes": [],
            "_model_module": "@jupyter-widgets/controls",
            "_model_module_version": "1.5.0",
            "_model_name": "FloatProgressModel",
            "_view_count": null,
            "_view_module": "@jupyter-widgets/controls",
            "_view_module_version": "1.5.0",
            "_view_name": "ProgressView",
            "bar_style": "success",
            "description": "",
            "description_tooltip": null,
            "layout": "IPY_MODEL_2d118c68df7448ca8db1f94f75aed366",
            "max": 231508,
            "min": 0,
            "orientation": "horizontal",
            "style": "IPY_MODEL_9b1208a3cc594b8fba97133f56f06e6f",
            "value": 231508
          }
        },
        "9127915ddb2b4f4da938fdf8fbcf1ffd": {
          "model_module": "@jupyter-widgets/controls",
          "model_name": "HTMLModel",
          "model_module_version": "1.5.0",
          "state": {
            "_dom_classes": [],
            "_model_module": "@jupyter-widgets/controls",
            "_model_module_version": "1.5.0",
            "_model_name": "HTMLModel",
            "_view_count": null,
            "_view_module": "@jupyter-widgets/controls",
            "_view_module_version": "1.5.0",
            "_view_name": "HTMLView",
            "description": "",
            "description_tooltip": null,
            "layout": "IPY_MODEL_d8a6018d6bde44b6a4a06c737faf25ae",
            "placeholder": "​",
            "style": "IPY_MODEL_e72502cf4bc64db895e781f780681a62",
            "value": " 232k/232k [00:00&lt;00:00, 250kB/s]"
          }
        },
        "35c92089a35949ccb086ceeadb661cd3": {
          "model_module": "@jupyter-widgets/base",
          "model_name": "LayoutModel",
          "model_module_version": "1.2.0",
          "state": {
            "_model_module": "@jupyter-widgets/base",
            "_model_module_version": "1.2.0",
            "_model_name": "LayoutModel",
            "_view_count": null,
            "_view_module": "@jupyter-widgets/base",
            "_view_module_version": "1.2.0",
            "_view_name": "LayoutView",
            "align_content": null,
            "align_items": null,
            "align_self": null,
            "border": null,
            "bottom": null,
            "display": null,
            "flex": null,
            "flex_flow": null,
            "grid_area": null,
            "grid_auto_columns": null,
            "grid_auto_flow": null,
            "grid_auto_rows": null,
            "grid_column": null,
            "grid_gap": null,
            "grid_row": null,
            "grid_template_areas": null,
            "grid_template_columns": null,
            "grid_template_rows": null,
            "height": null,
            "justify_content": null,
            "justify_items": null,
            "left": null,
            "margin": null,
            "max_height": null,
            "max_width": null,
            "min_height": null,
            "min_width": null,
            "object_fit": null,
            "object_position": null,
            "order": null,
            "overflow": null,
            "overflow_x": null,
            "overflow_y": null,
            "padding": null,
            "right": null,
            "top": null,
            "visibility": null,
            "width": null
          }
        },
        "2da58e159cda437888459879a1ac0506": {
          "model_module": "@jupyter-widgets/base",
          "model_name": "LayoutModel",
          "model_module_version": "1.2.0",
          "state": {
            "_model_module": "@jupyter-widgets/base",
            "_model_module_version": "1.2.0",
            "_model_name": "LayoutModel",
            "_view_count": null,
            "_view_module": "@jupyter-widgets/base",
            "_view_module_version": "1.2.0",
            "_view_name": "LayoutView",
            "align_content": null,
            "align_items": null,
            "align_self": null,
            "border": null,
            "bottom": null,
            "display": null,
            "flex": null,
            "flex_flow": null,
            "grid_area": null,
            "grid_auto_columns": null,
            "grid_auto_flow": null,
            "grid_auto_rows": null,
            "grid_column": null,
            "grid_gap": null,
            "grid_row": null,
            "grid_template_areas": null,
            "grid_template_columns": null,
            "grid_template_rows": null,
            "height": null,
            "justify_content": null,
            "justify_items": null,
            "left": null,
            "margin": null,
            "max_height": null,
            "max_width": null,
            "min_height": null,
            "min_width": null,
            "object_fit": null,
            "object_position": null,
            "order": null,
            "overflow": null,
            "overflow_x": null,
            "overflow_y": null,
            "padding": null,
            "right": null,
            "top": null,
            "visibility": null,
            "width": null
          }
        },
        "11b6391d29b54ef1b7cd8d11fc154a18": {
          "model_module": "@jupyter-widgets/controls",
          "model_name": "DescriptionStyleModel",
          "model_module_version": "1.5.0",
          "state": {
            "_model_module": "@jupyter-widgets/controls",
            "_model_module_version": "1.5.0",
            "_model_name": "DescriptionStyleModel",
            "_view_count": null,
            "_view_module": "@jupyter-widgets/base",
            "_view_module_version": "1.2.0",
            "_view_name": "StyleView",
            "description_width": ""
          }
        },
        "2d118c68df7448ca8db1f94f75aed366": {
          "model_module": "@jupyter-widgets/base",
          "model_name": "LayoutModel",
          "model_module_version": "1.2.0",
          "state": {
            "_model_module": "@jupyter-widgets/base",
            "_model_module_version": "1.2.0",
            "_model_name": "LayoutModel",
            "_view_count": null,
            "_view_module": "@jupyter-widgets/base",
            "_view_module_version": "1.2.0",
            "_view_name": "LayoutView",
            "align_content": null,
            "align_items": null,
            "align_self": null,
            "border": null,
            "bottom": null,
            "display": null,
            "flex": null,
            "flex_flow": null,
            "grid_area": null,
            "grid_auto_columns": null,
            "grid_auto_flow": null,
            "grid_auto_rows": null,
            "grid_column": null,
            "grid_gap": null,
            "grid_row": null,
            "grid_template_areas": null,
            "grid_template_columns": null,
            "grid_template_rows": null,
            "height": null,
            "justify_content": null,
            "justify_items": null,
            "left": null,
            "margin": null,
            "max_height": null,
            "max_width": null,
            "min_height": null,
            "min_width": null,
            "object_fit": null,
            "object_position": null,
            "order": null,
            "overflow": null,
            "overflow_x": null,
            "overflow_y": null,
            "padding": null,
            "right": null,
            "top": null,
            "visibility": null,
            "width": null
          }
        },
        "9b1208a3cc594b8fba97133f56f06e6f": {
          "model_module": "@jupyter-widgets/controls",
          "model_name": "ProgressStyleModel",
          "model_module_version": "1.5.0",
          "state": {
            "_model_module": "@jupyter-widgets/controls",
            "_model_module_version": "1.5.0",
            "_model_name": "ProgressStyleModel",
            "_view_count": null,
            "_view_module": "@jupyter-widgets/base",
            "_view_module_version": "1.2.0",
            "_view_name": "StyleView",
            "bar_color": null,
            "description_width": ""
          }
        },
        "d8a6018d6bde44b6a4a06c737faf25ae": {
          "model_module": "@jupyter-widgets/base",
          "model_name": "LayoutModel",
          "model_module_version": "1.2.0",
          "state": {
            "_model_module": "@jupyter-widgets/base",
            "_model_module_version": "1.2.0",
            "_model_name": "LayoutModel",
            "_view_count": null,
            "_view_module": "@jupyter-widgets/base",
            "_view_module_version": "1.2.0",
            "_view_name": "LayoutView",
            "align_content": null,
            "align_items": null,
            "align_self": null,
            "border": null,
            "bottom": null,
            "display": null,
            "flex": null,
            "flex_flow": null,
            "grid_area": null,
            "grid_auto_columns": null,
            "grid_auto_flow": null,
            "grid_auto_rows": null,
            "grid_column": null,
            "grid_gap": null,
            "grid_row": null,
            "grid_template_areas": null,
            "grid_template_columns": null,
            "grid_template_rows": null,
            "height": null,
            "justify_content": null,
            "justify_items": null,
            "left": null,
            "margin": null,
            "max_height": null,
            "max_width": null,
            "min_height": null,
            "min_width": null,
            "object_fit": null,
            "object_position": null,
            "order": null,
            "overflow": null,
            "overflow_x": null,
            "overflow_y": null,
            "padding": null,
            "right": null,
            "top": null,
            "visibility": null,
            "width": null
          }
        },
        "e72502cf4bc64db895e781f780681a62": {
          "model_module": "@jupyter-widgets/controls",
          "model_name": "DescriptionStyleModel",
          "model_module_version": "1.5.0",
          "state": {
            "_model_module": "@jupyter-widgets/controls",
            "_model_module_version": "1.5.0",
            "_model_name": "DescriptionStyleModel",
            "_view_count": null,
            "_view_module": "@jupyter-widgets/base",
            "_view_module_version": "1.2.0",
            "_view_name": "StyleView",
            "description_width": ""
          }
        },
        "4e92e0f74e2d4a9ca0c2c326eb224e9c": {
          "model_module": "@jupyter-widgets/controls",
          "model_name": "HBoxModel",
          "model_module_version": "1.5.0",
          "state": {
            "_dom_classes": [],
            "_model_module": "@jupyter-widgets/controls",
            "_model_module_version": "1.5.0",
            "_model_name": "HBoxModel",
            "_view_count": null,
            "_view_module": "@jupyter-widgets/controls",
            "_view_module_version": "1.5.0",
            "_view_name": "HBoxView",
            "box_style": "",
            "children": [
              "IPY_MODEL_5ad98218d225417cb494a6f2f6bc5bcf",
              "IPY_MODEL_dd66fe031a64405fb21d15b282f6ac15",
              "IPY_MODEL_e92688e9449b47f99a0c5e8d18d7da98"
            ],
            "layout": "IPY_MODEL_c072e2eb67f540a3a25c380220a76d22"
          }
        },
        "5ad98218d225417cb494a6f2f6bc5bcf": {
          "model_module": "@jupyter-widgets/controls",
          "model_name": "HTMLModel",
          "model_module_version": "1.5.0",
          "state": {
            "_dom_classes": [],
            "_model_module": "@jupyter-widgets/controls",
            "_model_module_version": "1.5.0",
            "_model_name": "HTMLModel",
            "_view_count": null,
            "_view_module": "@jupyter-widgets/controls",
            "_view_module_version": "1.5.0",
            "_view_name": "HTMLView",
            "description": "",
            "description_tooltip": null,
            "layout": "IPY_MODEL_b9afef517c8a4eba9fc3810cd70e33bc",
            "placeholder": "​",
            "style": "IPY_MODEL_ce0c7d6d84cc4b929fa0dfb6e120b1d0",
            "value": "Downloading (…)okenizer_config.json: 100%"
          }
        },
        "dd66fe031a64405fb21d15b282f6ac15": {
          "model_module": "@jupyter-widgets/controls",
          "model_name": "FloatProgressModel",
          "model_module_version": "1.5.0",
          "state": {
            "_dom_classes": [],
            "_model_module": "@jupyter-widgets/controls",
            "_model_module_version": "1.5.0",
            "_model_name": "FloatProgressModel",
            "_view_count": null,
            "_view_module": "@jupyter-widgets/controls",
            "_view_module_version": "1.5.0",
            "_view_name": "ProgressView",
            "bar_style": "success",
            "description": "",
            "description_tooltip": null,
            "layout": "IPY_MODEL_3c54af95f83c487a880296d78110a5b2",
            "max": 28,
            "min": 0,
            "orientation": "horizontal",
            "style": "IPY_MODEL_00380d2d475e438ba2e534d5717dfbd4",
            "value": 28
          }
        },
        "e92688e9449b47f99a0c5e8d18d7da98": {
          "model_module": "@jupyter-widgets/controls",
          "model_name": "HTMLModel",
          "model_module_version": "1.5.0",
          "state": {
            "_dom_classes": [],
            "_model_module": "@jupyter-widgets/controls",
            "_model_module_version": "1.5.0",
            "_model_name": "HTMLModel",
            "_view_count": null,
            "_view_module": "@jupyter-widgets/controls",
            "_view_module_version": "1.5.0",
            "_view_name": "HTMLView",
            "description": "",
            "description_tooltip": null,
            "layout": "IPY_MODEL_7bff39ddffbb4a9b90e17017f1a2593e",
            "placeholder": "​",
            "style": "IPY_MODEL_ad0f02b1bc3144409a339493da2c6786",
            "value": " 28.0/28.0 [00:00&lt;00:00, 1.13kB/s]"
          }
        },
        "c072e2eb67f540a3a25c380220a76d22": {
          "model_module": "@jupyter-widgets/base",
          "model_name": "LayoutModel",
          "model_module_version": "1.2.0",
          "state": {
            "_model_module": "@jupyter-widgets/base",
            "_model_module_version": "1.2.0",
            "_model_name": "LayoutModel",
            "_view_count": null,
            "_view_module": "@jupyter-widgets/base",
            "_view_module_version": "1.2.0",
            "_view_name": "LayoutView",
            "align_content": null,
            "align_items": null,
            "align_self": null,
            "border": null,
            "bottom": null,
            "display": null,
            "flex": null,
            "flex_flow": null,
            "grid_area": null,
            "grid_auto_columns": null,
            "grid_auto_flow": null,
            "grid_auto_rows": null,
            "grid_column": null,
            "grid_gap": null,
            "grid_row": null,
            "grid_template_areas": null,
            "grid_template_columns": null,
            "grid_template_rows": null,
            "height": null,
            "justify_content": null,
            "justify_items": null,
            "left": null,
            "margin": null,
            "max_height": null,
            "max_width": null,
            "min_height": null,
            "min_width": null,
            "object_fit": null,
            "object_position": null,
            "order": null,
            "overflow": null,
            "overflow_x": null,
            "overflow_y": null,
            "padding": null,
            "right": null,
            "top": null,
            "visibility": null,
            "width": null
          }
        },
        "b9afef517c8a4eba9fc3810cd70e33bc": {
          "model_module": "@jupyter-widgets/base",
          "model_name": "LayoutModel",
          "model_module_version": "1.2.0",
          "state": {
            "_model_module": "@jupyter-widgets/base",
            "_model_module_version": "1.2.0",
            "_model_name": "LayoutModel",
            "_view_count": null,
            "_view_module": "@jupyter-widgets/base",
            "_view_module_version": "1.2.0",
            "_view_name": "LayoutView",
            "align_content": null,
            "align_items": null,
            "align_self": null,
            "border": null,
            "bottom": null,
            "display": null,
            "flex": null,
            "flex_flow": null,
            "grid_area": null,
            "grid_auto_columns": null,
            "grid_auto_flow": null,
            "grid_auto_rows": null,
            "grid_column": null,
            "grid_gap": null,
            "grid_row": null,
            "grid_template_areas": null,
            "grid_template_columns": null,
            "grid_template_rows": null,
            "height": null,
            "justify_content": null,
            "justify_items": null,
            "left": null,
            "margin": null,
            "max_height": null,
            "max_width": null,
            "min_height": null,
            "min_width": null,
            "object_fit": null,
            "object_position": null,
            "order": null,
            "overflow": null,
            "overflow_x": null,
            "overflow_y": null,
            "padding": null,
            "right": null,
            "top": null,
            "visibility": null,
            "width": null
          }
        },
        "ce0c7d6d84cc4b929fa0dfb6e120b1d0": {
          "model_module": "@jupyter-widgets/controls",
          "model_name": "DescriptionStyleModel",
          "model_module_version": "1.5.0",
          "state": {
            "_model_module": "@jupyter-widgets/controls",
            "_model_module_version": "1.5.0",
            "_model_name": "DescriptionStyleModel",
            "_view_count": null,
            "_view_module": "@jupyter-widgets/base",
            "_view_module_version": "1.2.0",
            "_view_name": "StyleView",
            "description_width": ""
          }
        },
        "3c54af95f83c487a880296d78110a5b2": {
          "model_module": "@jupyter-widgets/base",
          "model_name": "LayoutModel",
          "model_module_version": "1.2.0",
          "state": {
            "_model_module": "@jupyter-widgets/base",
            "_model_module_version": "1.2.0",
            "_model_name": "LayoutModel",
            "_view_count": null,
            "_view_module": "@jupyter-widgets/base",
            "_view_module_version": "1.2.0",
            "_view_name": "LayoutView",
            "align_content": null,
            "align_items": null,
            "align_self": null,
            "border": null,
            "bottom": null,
            "display": null,
            "flex": null,
            "flex_flow": null,
            "grid_area": null,
            "grid_auto_columns": null,
            "grid_auto_flow": null,
            "grid_auto_rows": null,
            "grid_column": null,
            "grid_gap": null,
            "grid_row": null,
            "grid_template_areas": null,
            "grid_template_columns": null,
            "grid_template_rows": null,
            "height": null,
            "justify_content": null,
            "justify_items": null,
            "left": null,
            "margin": null,
            "max_height": null,
            "max_width": null,
            "min_height": null,
            "min_width": null,
            "object_fit": null,
            "object_position": null,
            "order": null,
            "overflow": null,
            "overflow_x": null,
            "overflow_y": null,
            "padding": null,
            "right": null,
            "top": null,
            "visibility": null,
            "width": null
          }
        },
        "00380d2d475e438ba2e534d5717dfbd4": {
          "model_module": "@jupyter-widgets/controls",
          "model_name": "ProgressStyleModel",
          "model_module_version": "1.5.0",
          "state": {
            "_model_module": "@jupyter-widgets/controls",
            "_model_module_version": "1.5.0",
            "_model_name": "ProgressStyleModel",
            "_view_count": null,
            "_view_module": "@jupyter-widgets/base",
            "_view_module_version": "1.2.0",
            "_view_name": "StyleView",
            "bar_color": null,
            "description_width": ""
          }
        },
        "7bff39ddffbb4a9b90e17017f1a2593e": {
          "model_module": "@jupyter-widgets/base",
          "model_name": "LayoutModel",
          "model_module_version": "1.2.0",
          "state": {
            "_model_module": "@jupyter-widgets/base",
            "_model_module_version": "1.2.0",
            "_model_name": "LayoutModel",
            "_view_count": null,
            "_view_module": "@jupyter-widgets/base",
            "_view_module_version": "1.2.0",
            "_view_name": "LayoutView",
            "align_content": null,
            "align_items": null,
            "align_self": null,
            "border": null,
            "bottom": null,
            "display": null,
            "flex": null,
            "flex_flow": null,
            "grid_area": null,
            "grid_auto_columns": null,
            "grid_auto_flow": null,
            "grid_auto_rows": null,
            "grid_column": null,
            "grid_gap": null,
            "grid_row": null,
            "grid_template_areas": null,
            "grid_template_columns": null,
            "grid_template_rows": null,
            "height": null,
            "justify_content": null,
            "justify_items": null,
            "left": null,
            "margin": null,
            "max_height": null,
            "max_width": null,
            "min_height": null,
            "min_width": null,
            "object_fit": null,
            "object_position": null,
            "order": null,
            "overflow": null,
            "overflow_x": null,
            "overflow_y": null,
            "padding": null,
            "right": null,
            "top": null,
            "visibility": null,
            "width": null
          }
        },
        "ad0f02b1bc3144409a339493da2c6786": {
          "model_module": "@jupyter-widgets/controls",
          "model_name": "DescriptionStyleModel",
          "model_module_version": "1.5.0",
          "state": {
            "_model_module": "@jupyter-widgets/controls",
            "_model_module_version": "1.5.0",
            "_model_name": "DescriptionStyleModel",
            "_view_count": null,
            "_view_module": "@jupyter-widgets/base",
            "_view_module_version": "1.2.0",
            "_view_name": "StyleView",
            "description_width": ""
          }
        },
        "30728c72c7d84ff38cbc1980990c4b0c": {
          "model_module": "@jupyter-widgets/controls",
          "model_name": "HBoxModel",
          "model_module_version": "1.5.0",
          "state": {
            "_dom_classes": [],
            "_model_module": "@jupyter-widgets/controls",
            "_model_module_version": "1.5.0",
            "_model_name": "HBoxModel",
            "_view_count": null,
            "_view_module": "@jupyter-widgets/controls",
            "_view_module_version": "1.5.0",
            "_view_name": "HBoxView",
            "box_style": "",
            "children": [
              "IPY_MODEL_21c75ad501444a21b516672ed444f431",
              "IPY_MODEL_fee5c6b97d2747479e6cca8fc7c02a93",
              "IPY_MODEL_83ae5af7317a4dbf87896250bbdea9cd"
            ],
            "layout": "IPY_MODEL_86e212d9d2ff4ec588e9e052dfea8cfc"
          }
        },
        "21c75ad501444a21b516672ed444f431": {
          "model_module": "@jupyter-widgets/controls",
          "model_name": "HTMLModel",
          "model_module_version": "1.5.0",
          "state": {
            "_dom_classes": [],
            "_model_module": "@jupyter-widgets/controls",
            "_model_module_version": "1.5.0",
            "_model_name": "HTMLModel",
            "_view_count": null,
            "_view_module": "@jupyter-widgets/controls",
            "_view_module_version": "1.5.0",
            "_view_name": "HTMLView",
            "description": "",
            "description_tooltip": null,
            "layout": "IPY_MODEL_1e2c7648d3904ea0a6b3e9433d221f7d",
            "placeholder": "​",
            "style": "IPY_MODEL_e39bb0a5c2544f479f0366d2006b3a40",
            "value": "Downloading (…)lve/main/config.json: 100%"
          }
        },
        "fee5c6b97d2747479e6cca8fc7c02a93": {
          "model_module": "@jupyter-widgets/controls",
          "model_name": "FloatProgressModel",
          "model_module_version": "1.5.0",
          "state": {
            "_dom_classes": [],
            "_model_module": "@jupyter-widgets/controls",
            "_model_module_version": "1.5.0",
            "_model_name": "FloatProgressModel",
            "_view_count": null,
            "_view_module": "@jupyter-widgets/controls",
            "_view_module_version": "1.5.0",
            "_view_name": "ProgressView",
            "bar_style": "success",
            "description": "",
            "description_tooltip": null,
            "layout": "IPY_MODEL_ee5f4592e19941b5960d08f6cd989274",
            "max": 570,
            "min": 0,
            "orientation": "horizontal",
            "style": "IPY_MODEL_79b5e0b125294df4abfa0adaa4bc4c9d",
            "value": 570
          }
        },
        "83ae5af7317a4dbf87896250bbdea9cd": {
          "model_module": "@jupyter-widgets/controls",
          "model_name": "HTMLModel",
          "model_module_version": "1.5.0",
          "state": {
            "_dom_classes": [],
            "_model_module": "@jupyter-widgets/controls",
            "_model_module_version": "1.5.0",
            "_model_name": "HTMLModel",
            "_view_count": null,
            "_view_module": "@jupyter-widgets/controls",
            "_view_module_version": "1.5.0",
            "_view_name": "HTMLView",
            "description": "",
            "description_tooltip": null,
            "layout": "IPY_MODEL_8ad4247bf2944b27abd7b06c84d99052",
            "placeholder": "​",
            "style": "IPY_MODEL_d46ba79df828428cb407f41df7fe8fd8",
            "value": " 570/570 [00:00&lt;00:00, 29.6kB/s]"
          }
        },
        "86e212d9d2ff4ec588e9e052dfea8cfc": {
          "model_module": "@jupyter-widgets/base",
          "model_name": "LayoutModel",
          "model_module_version": "1.2.0",
          "state": {
            "_model_module": "@jupyter-widgets/base",
            "_model_module_version": "1.2.0",
            "_model_name": "LayoutModel",
            "_view_count": null,
            "_view_module": "@jupyter-widgets/base",
            "_view_module_version": "1.2.0",
            "_view_name": "LayoutView",
            "align_content": null,
            "align_items": null,
            "align_self": null,
            "border": null,
            "bottom": null,
            "display": null,
            "flex": null,
            "flex_flow": null,
            "grid_area": null,
            "grid_auto_columns": null,
            "grid_auto_flow": null,
            "grid_auto_rows": null,
            "grid_column": null,
            "grid_gap": null,
            "grid_row": null,
            "grid_template_areas": null,
            "grid_template_columns": null,
            "grid_template_rows": null,
            "height": null,
            "justify_content": null,
            "justify_items": null,
            "left": null,
            "margin": null,
            "max_height": null,
            "max_width": null,
            "min_height": null,
            "min_width": null,
            "object_fit": null,
            "object_position": null,
            "order": null,
            "overflow": null,
            "overflow_x": null,
            "overflow_y": null,
            "padding": null,
            "right": null,
            "top": null,
            "visibility": null,
            "width": null
          }
        },
        "1e2c7648d3904ea0a6b3e9433d221f7d": {
          "model_module": "@jupyter-widgets/base",
          "model_name": "LayoutModel",
          "model_module_version": "1.2.0",
          "state": {
            "_model_module": "@jupyter-widgets/base",
            "_model_module_version": "1.2.0",
            "_model_name": "LayoutModel",
            "_view_count": null,
            "_view_module": "@jupyter-widgets/base",
            "_view_module_version": "1.2.0",
            "_view_name": "LayoutView",
            "align_content": null,
            "align_items": null,
            "align_self": null,
            "border": null,
            "bottom": null,
            "display": null,
            "flex": null,
            "flex_flow": null,
            "grid_area": null,
            "grid_auto_columns": null,
            "grid_auto_flow": null,
            "grid_auto_rows": null,
            "grid_column": null,
            "grid_gap": null,
            "grid_row": null,
            "grid_template_areas": null,
            "grid_template_columns": null,
            "grid_template_rows": null,
            "height": null,
            "justify_content": null,
            "justify_items": null,
            "left": null,
            "margin": null,
            "max_height": null,
            "max_width": null,
            "min_height": null,
            "min_width": null,
            "object_fit": null,
            "object_position": null,
            "order": null,
            "overflow": null,
            "overflow_x": null,
            "overflow_y": null,
            "padding": null,
            "right": null,
            "top": null,
            "visibility": null,
            "width": null
          }
        },
        "e39bb0a5c2544f479f0366d2006b3a40": {
          "model_module": "@jupyter-widgets/controls",
          "model_name": "DescriptionStyleModel",
          "model_module_version": "1.5.0",
          "state": {
            "_model_module": "@jupyter-widgets/controls",
            "_model_module_version": "1.5.0",
            "_model_name": "DescriptionStyleModel",
            "_view_count": null,
            "_view_module": "@jupyter-widgets/base",
            "_view_module_version": "1.2.0",
            "_view_name": "StyleView",
            "description_width": ""
          }
        },
        "ee5f4592e19941b5960d08f6cd989274": {
          "model_module": "@jupyter-widgets/base",
          "model_name": "LayoutModel",
          "model_module_version": "1.2.0",
          "state": {
            "_model_module": "@jupyter-widgets/base",
            "_model_module_version": "1.2.0",
            "_model_name": "LayoutModel",
            "_view_count": null,
            "_view_module": "@jupyter-widgets/base",
            "_view_module_version": "1.2.0",
            "_view_name": "LayoutView",
            "align_content": null,
            "align_items": null,
            "align_self": null,
            "border": null,
            "bottom": null,
            "display": null,
            "flex": null,
            "flex_flow": null,
            "grid_area": null,
            "grid_auto_columns": null,
            "grid_auto_flow": null,
            "grid_auto_rows": null,
            "grid_column": null,
            "grid_gap": null,
            "grid_row": null,
            "grid_template_areas": null,
            "grid_template_columns": null,
            "grid_template_rows": null,
            "height": null,
            "justify_content": null,
            "justify_items": null,
            "left": null,
            "margin": null,
            "max_height": null,
            "max_width": null,
            "min_height": null,
            "min_width": null,
            "object_fit": null,
            "object_position": null,
            "order": null,
            "overflow": null,
            "overflow_x": null,
            "overflow_y": null,
            "padding": null,
            "right": null,
            "top": null,
            "visibility": null,
            "width": null
          }
        },
        "79b5e0b125294df4abfa0adaa4bc4c9d": {
          "model_module": "@jupyter-widgets/controls",
          "model_name": "ProgressStyleModel",
          "model_module_version": "1.5.0",
          "state": {
            "_model_module": "@jupyter-widgets/controls",
            "_model_module_version": "1.5.0",
            "_model_name": "ProgressStyleModel",
            "_view_count": null,
            "_view_module": "@jupyter-widgets/base",
            "_view_module_version": "1.2.0",
            "_view_name": "StyleView",
            "bar_color": null,
            "description_width": ""
          }
        },
        "8ad4247bf2944b27abd7b06c84d99052": {
          "model_module": "@jupyter-widgets/base",
          "model_name": "LayoutModel",
          "model_module_version": "1.2.0",
          "state": {
            "_model_module": "@jupyter-widgets/base",
            "_model_module_version": "1.2.0",
            "_model_name": "LayoutModel",
            "_view_count": null,
            "_view_module": "@jupyter-widgets/base",
            "_view_module_version": "1.2.0",
            "_view_name": "LayoutView",
            "align_content": null,
            "align_items": null,
            "align_self": null,
            "border": null,
            "bottom": null,
            "display": null,
            "flex": null,
            "flex_flow": null,
            "grid_area": null,
            "grid_auto_columns": null,
            "grid_auto_flow": null,
            "grid_auto_rows": null,
            "grid_column": null,
            "grid_gap": null,
            "grid_row": null,
            "grid_template_areas": null,
            "grid_template_columns": null,
            "grid_template_rows": null,
            "height": null,
            "justify_content": null,
            "justify_items": null,
            "left": null,
            "margin": null,
            "max_height": null,
            "max_width": null,
            "min_height": null,
            "min_width": null,
            "object_fit": null,
            "object_position": null,
            "order": null,
            "overflow": null,
            "overflow_x": null,
            "overflow_y": null,
            "padding": null,
            "right": null,
            "top": null,
            "visibility": null,
            "width": null
          }
        },
        "d46ba79df828428cb407f41df7fe8fd8": {
          "model_module": "@jupyter-widgets/controls",
          "model_name": "DescriptionStyleModel",
          "model_module_version": "1.5.0",
          "state": {
            "_model_module": "@jupyter-widgets/controls",
            "_model_module_version": "1.5.0",
            "_model_name": "DescriptionStyleModel",
            "_view_count": null,
            "_view_module": "@jupyter-widgets/base",
            "_view_module_version": "1.2.0",
            "_view_name": "StyleView",
            "description_width": ""
          }
        },
        "f36ff0a2763844e2bc9ae8d978000155": {
          "model_module": "@jupyter-widgets/controls",
          "model_name": "HBoxModel",
          "model_module_version": "1.5.0",
          "state": {
            "_dom_classes": [],
            "_model_module": "@jupyter-widgets/controls",
            "_model_module_version": "1.5.0",
            "_model_name": "HBoxModel",
            "_view_count": null,
            "_view_module": "@jupyter-widgets/controls",
            "_view_module_version": "1.5.0",
            "_view_name": "HBoxView",
            "box_style": "",
            "children": [
              "IPY_MODEL_215da0e5b83e4732a4b9151b0cd0ab20",
              "IPY_MODEL_3b067b88f5a94296ad7eec050deff5cd",
              "IPY_MODEL_6e28ee7e2d98493688b93a807d61e66a"
            ],
            "layout": "IPY_MODEL_dc3185eaad0d4b01aa049c183c599fc3"
          }
        },
        "215da0e5b83e4732a4b9151b0cd0ab20": {
          "model_module": "@jupyter-widgets/controls",
          "model_name": "HTMLModel",
          "model_module_version": "1.5.0",
          "state": {
            "_dom_classes": [],
            "_model_module": "@jupyter-widgets/controls",
            "_model_module_version": "1.5.0",
            "_model_name": "HTMLModel",
            "_view_count": null,
            "_view_module": "@jupyter-widgets/controls",
            "_view_module_version": "1.5.0",
            "_view_name": "HTMLView",
            "description": "",
            "description_tooltip": null,
            "layout": "IPY_MODEL_6161c8ec57fd4255be283adaa30bec36",
            "placeholder": "​",
            "style": "IPY_MODEL_c9edaa15ea0340ec874ff63be549284a",
            "value": "Downloading (…)&quot;pytorch_model.bin&quot;;: 100%"
          }
        },
        "3b067b88f5a94296ad7eec050deff5cd": {
          "model_module": "@jupyter-widgets/controls",
          "model_name": "FloatProgressModel",
          "model_module_version": "1.5.0",
          "state": {
            "_dom_classes": [],
            "_model_module": "@jupyter-widgets/controls",
            "_model_module_version": "1.5.0",
            "_model_name": "FloatProgressModel",
            "_view_count": null,
            "_view_module": "@jupyter-widgets/controls",
            "_view_module_version": "1.5.0",
            "_view_name": "ProgressView",
            "bar_style": "success",
            "description": "",
            "description_tooltip": null,
            "layout": "IPY_MODEL_5bcd7cb90a844474ba051f3c40dfca18",
            "max": 440473133,
            "min": 0,
            "orientation": "horizontal",
            "style": "IPY_MODEL_66b8c555870d4c3faa90e5ad073e45e4",
            "value": 440473133
          }
        },
        "6e28ee7e2d98493688b93a807d61e66a": {
          "model_module": "@jupyter-widgets/controls",
          "model_name": "HTMLModel",
          "model_module_version": "1.5.0",
          "state": {
            "_dom_classes": [],
            "_model_module": "@jupyter-widgets/controls",
            "_model_module_version": "1.5.0",
            "_model_name": "HTMLModel",
            "_view_count": null,
            "_view_module": "@jupyter-widgets/controls",
            "_view_module_version": "1.5.0",
            "_view_name": "HTMLView",
            "description": "",
            "description_tooltip": null,
            "layout": "IPY_MODEL_e006d1403c344d18b5ed2ee71d12ba25",
            "placeholder": "​",
            "style": "IPY_MODEL_c61e24cf4ec84e4e8cd10ba6b062495e",
            "value": " 440M/440M [00:10&lt;00:00, 34.4MB/s]"
          }
        },
        "dc3185eaad0d4b01aa049c183c599fc3": {
          "model_module": "@jupyter-widgets/base",
          "model_name": "LayoutModel",
          "model_module_version": "1.2.0",
          "state": {
            "_model_module": "@jupyter-widgets/base",
            "_model_module_version": "1.2.0",
            "_model_name": "LayoutModel",
            "_view_count": null,
            "_view_module": "@jupyter-widgets/base",
            "_view_module_version": "1.2.0",
            "_view_name": "LayoutView",
            "align_content": null,
            "align_items": null,
            "align_self": null,
            "border": null,
            "bottom": null,
            "display": null,
            "flex": null,
            "flex_flow": null,
            "grid_area": null,
            "grid_auto_columns": null,
            "grid_auto_flow": null,
            "grid_auto_rows": null,
            "grid_column": null,
            "grid_gap": null,
            "grid_row": null,
            "grid_template_areas": null,
            "grid_template_columns": null,
            "grid_template_rows": null,
            "height": null,
            "justify_content": null,
            "justify_items": null,
            "left": null,
            "margin": null,
            "max_height": null,
            "max_width": null,
            "min_height": null,
            "min_width": null,
            "object_fit": null,
            "object_position": null,
            "order": null,
            "overflow": null,
            "overflow_x": null,
            "overflow_y": null,
            "padding": null,
            "right": null,
            "top": null,
            "visibility": null,
            "width": null
          }
        },
        "6161c8ec57fd4255be283adaa30bec36": {
          "model_module": "@jupyter-widgets/base",
          "model_name": "LayoutModel",
          "model_module_version": "1.2.0",
          "state": {
            "_model_module": "@jupyter-widgets/base",
            "_model_module_version": "1.2.0",
            "_model_name": "LayoutModel",
            "_view_count": null,
            "_view_module": "@jupyter-widgets/base",
            "_view_module_version": "1.2.0",
            "_view_name": "LayoutView",
            "align_content": null,
            "align_items": null,
            "align_self": null,
            "border": null,
            "bottom": null,
            "display": null,
            "flex": null,
            "flex_flow": null,
            "grid_area": null,
            "grid_auto_columns": null,
            "grid_auto_flow": null,
            "grid_auto_rows": null,
            "grid_column": null,
            "grid_gap": null,
            "grid_row": null,
            "grid_template_areas": null,
            "grid_template_columns": null,
            "grid_template_rows": null,
            "height": null,
            "justify_content": null,
            "justify_items": null,
            "left": null,
            "margin": null,
            "max_height": null,
            "max_width": null,
            "min_height": null,
            "min_width": null,
            "object_fit": null,
            "object_position": null,
            "order": null,
            "overflow": null,
            "overflow_x": null,
            "overflow_y": null,
            "padding": null,
            "right": null,
            "top": null,
            "visibility": null,
            "width": null
          }
        },
        "c9edaa15ea0340ec874ff63be549284a": {
          "model_module": "@jupyter-widgets/controls",
          "model_name": "DescriptionStyleModel",
          "model_module_version": "1.5.0",
          "state": {
            "_model_module": "@jupyter-widgets/controls",
            "_model_module_version": "1.5.0",
            "_model_name": "DescriptionStyleModel",
            "_view_count": null,
            "_view_module": "@jupyter-widgets/base",
            "_view_module_version": "1.2.0",
            "_view_name": "StyleView",
            "description_width": ""
          }
        },
        "5bcd7cb90a844474ba051f3c40dfca18": {
          "model_module": "@jupyter-widgets/base",
          "model_name": "LayoutModel",
          "model_module_version": "1.2.0",
          "state": {
            "_model_module": "@jupyter-widgets/base",
            "_model_module_version": "1.2.0",
            "_model_name": "LayoutModel",
            "_view_count": null,
            "_view_module": "@jupyter-widgets/base",
            "_view_module_version": "1.2.0",
            "_view_name": "LayoutView",
            "align_content": null,
            "align_items": null,
            "align_self": null,
            "border": null,
            "bottom": null,
            "display": null,
            "flex": null,
            "flex_flow": null,
            "grid_area": null,
            "grid_auto_columns": null,
            "grid_auto_flow": null,
            "grid_auto_rows": null,
            "grid_column": null,
            "grid_gap": null,
            "grid_row": null,
            "grid_template_areas": null,
            "grid_template_columns": null,
            "grid_template_rows": null,
            "height": null,
            "justify_content": null,
            "justify_items": null,
            "left": null,
            "margin": null,
            "max_height": null,
            "max_width": null,
            "min_height": null,
            "min_width": null,
            "object_fit": null,
            "object_position": null,
            "order": null,
            "overflow": null,
            "overflow_x": null,
            "overflow_y": null,
            "padding": null,
            "right": null,
            "top": null,
            "visibility": null,
            "width": null
          }
        },
        "66b8c555870d4c3faa90e5ad073e45e4": {
          "model_module": "@jupyter-widgets/controls",
          "model_name": "ProgressStyleModel",
          "model_module_version": "1.5.0",
          "state": {
            "_model_module": "@jupyter-widgets/controls",
            "_model_module_version": "1.5.0",
            "_model_name": "ProgressStyleModel",
            "_view_count": null,
            "_view_module": "@jupyter-widgets/base",
            "_view_module_version": "1.2.0",
            "_view_name": "StyleView",
            "bar_color": null,
            "description_width": ""
          }
        },
        "e006d1403c344d18b5ed2ee71d12ba25": {
          "model_module": "@jupyter-widgets/base",
          "model_name": "LayoutModel",
          "model_module_version": "1.2.0",
          "state": {
            "_model_module": "@jupyter-widgets/base",
            "_model_module_version": "1.2.0",
            "_model_name": "LayoutModel",
            "_view_count": null,
            "_view_module": "@jupyter-widgets/base",
            "_view_module_version": "1.2.0",
            "_view_name": "LayoutView",
            "align_content": null,
            "align_items": null,
            "align_self": null,
            "border": null,
            "bottom": null,
            "display": null,
            "flex": null,
            "flex_flow": null,
            "grid_area": null,
            "grid_auto_columns": null,
            "grid_auto_flow": null,
            "grid_auto_rows": null,
            "grid_column": null,
            "grid_gap": null,
            "grid_row": null,
            "grid_template_areas": null,
            "grid_template_columns": null,
            "grid_template_rows": null,
            "height": null,
            "justify_content": null,
            "justify_items": null,
            "left": null,
            "margin": null,
            "max_height": null,
            "max_width": null,
            "min_height": null,
            "min_width": null,
            "object_fit": null,
            "object_position": null,
            "order": null,
            "overflow": null,
            "overflow_x": null,
            "overflow_y": null,
            "padding": null,
            "right": null,
            "top": null,
            "visibility": null,
            "width": null
          }
        },
        "c61e24cf4ec84e4e8cd10ba6b062495e": {
          "model_module": "@jupyter-widgets/controls",
          "model_name": "DescriptionStyleModel",
          "model_module_version": "1.5.0",
          "state": {
            "_model_module": "@jupyter-widgets/controls",
            "_model_module_version": "1.5.0",
            "_model_name": "DescriptionStyleModel",
            "_view_count": null,
            "_view_module": "@jupyter-widgets/base",
            "_view_module_version": "1.2.0",
            "_view_name": "StyleView",
            "description_width": ""
          }
        }
      }
    }
  },
  "nbformat": 4,
  "nbformat_minor": 0
}