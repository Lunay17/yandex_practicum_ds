{
  "cells": [
    {
      "cell_type": "markdown",
      "metadata": {
        "id": "E0vqbgi9ay0H"
      },
      "source": [
        "# Яндекс.Музыка"
      ]
    },
    {
      "cell_type": "markdown",
      "metadata": {
        "id": "VUC88oWjTJw2"
      },
      "source": [
        "На данных Яндекс.Музыки вы сравните поведение пользователей двух столиц России:  Москвы и Санкт-Петербурга.\n",
        "\n",
        "**Цель исследования** — проверьте три гипотезы:\n",
        "1. Активность пользователей зависит от дня недели. Причём в Москве и Петербурге это проявляется по-разному.\n",
        "2. В понедельник утром в Москве преобладают одни жанры, а в Петербурге — другие. Так же и вечером пятницы преобладают разные жанры — в зависимости от города. \n",
        "3. Москва и Петербург предпочитают разные жанры музыки. В Москве чаще слушают поп-музыку, в Петербурге — русский рэп.\n",
        "\n",
        "**Ход исследования**\n",
        "\n",
        "Данные о поведении пользователей вы получите из файла `yandex_music_project.csv`. О качестве данных ничего не известно. Поэтому перед проверкой гипотез понадобится обзор данных. \n",
        "\n",
        "Вы проверите данные на ошибки и оцените их влияние на исследование. Затем, на этапе предобработки вы поищете возможность исправить самые критичные ошибки данных.\n",
        " \n",
        "Таким образом, исследование пройдёт в три этапа:\n",
        " 1. Обзор данных.\n",
        " 2. Предобработка данных.\n",
        " 3. Проверка гипотез.\n",
        "\n"
      ]
    },
    {
      "cell_type": "markdown",
      "metadata": {
        "id": "Ml1hmfXC_Zcs"
      },
      "source": [
        "## Обзор данных\n",
        "\n",
        "Составим первое представление о данных Яндекс.Музыки.\n",
        "\n",
        "\n"
      ]
    },
    {
      "cell_type": "code",
      "execution_count": null,
      "metadata": {
        "id": "AXN7PHPN_Zcs"
      },
      "outputs": [],
      "source": [
        "import pandas as pd # импорт библиотеки pandas"
      ]
    },
    {
      "cell_type": "code",
      "execution_count": null,
      "metadata": {
        "id": "fFVu7vqh_Zct"
      },
      "outputs": [],
      "source": [
        "try:\n",
        "  df = pd.read_csv('/datasets/yandex_music_project.csv') # чтение файла с данными и сохранение в переменной df\n",
        "\n",
        "except FileNotFoundError:\n",
        "  df = pd.read_csv('content/yandex_music_project.csv')"
      ]
    },
    {
      "cell_type": "markdown",
      "metadata": {
        "id": "rDoOMd3uTqnZ"
      },
      "source": [
        "Выведем на экран первые десять строк таблицы:"
      ]
    },
    {
      "cell_type": "code",
      "execution_count": null,
      "metadata": {
        "id": "oWTVX3gW_Zct",
        "outputId": "88d89945-d589-430e-c30b-57515fa9d09e"
      },
      "outputs": [
        {
          "data": {
            "text/html": [
              "<div>\n",
              "<style scoped>\n",
              "    .dataframe tbody tr th:only-of-type {\n",
              "        vertical-align: middle;\n",
              "    }\n",
              "\n",
              "    .dataframe tbody tr th {\n",
              "        vertical-align: top;\n",
              "    }\n",
              "\n",
              "    .dataframe thead th {\n",
              "        text-align: right;\n",
              "    }\n",
              "</style>\n",
              "<table border=\"1\" class=\"dataframe\">\n",
              "  <thead>\n",
              "    <tr style=\"text-align: right;\">\n",
              "      <th></th>\n",
              "      <th>userID</th>\n",
              "      <th>Track</th>\n",
              "      <th>artist</th>\n",
              "      <th>genre</th>\n",
              "      <th>City</th>\n",
              "      <th>time</th>\n",
              "      <th>Day</th>\n",
              "    </tr>\n",
              "  </thead>\n",
              "  <tbody>\n",
              "    <tr>\n",
              "      <th>0</th>\n",
              "      <td>FFB692EC</td>\n",
              "      <td>Kamigata To Boots</td>\n",
              "      <td>The Mass Missile</td>\n",
              "      <td>rock</td>\n",
              "      <td>Saint-Petersburg</td>\n",
              "      <td>20:28:33</td>\n",
              "      <td>Wednesday</td>\n",
              "    </tr>\n",
              "    <tr>\n",
              "      <th>1</th>\n",
              "      <td>55204538</td>\n",
              "      <td>Delayed Because of Accident</td>\n",
              "      <td>Andreas Rönnberg</td>\n",
              "      <td>rock</td>\n",
              "      <td>Moscow</td>\n",
              "      <td>14:07:09</td>\n",
              "      <td>Friday</td>\n",
              "    </tr>\n",
              "    <tr>\n",
              "      <th>2</th>\n",
              "      <td>20EC38</td>\n",
              "      <td>Funiculì funiculà</td>\n",
              "      <td>Mario Lanza</td>\n",
              "      <td>pop</td>\n",
              "      <td>Saint-Petersburg</td>\n",
              "      <td>20:58:07</td>\n",
              "      <td>Wednesday</td>\n",
              "    </tr>\n",
              "    <tr>\n",
              "      <th>3</th>\n",
              "      <td>A3DD03C9</td>\n",
              "      <td>Dragons in the Sunset</td>\n",
              "      <td>Fire + Ice</td>\n",
              "      <td>folk</td>\n",
              "      <td>Saint-Petersburg</td>\n",
              "      <td>08:37:09</td>\n",
              "      <td>Monday</td>\n",
              "    </tr>\n",
              "    <tr>\n",
              "      <th>4</th>\n",
              "      <td>E2DC1FAE</td>\n",
              "      <td>Soul People</td>\n",
              "      <td>Space Echo</td>\n",
              "      <td>dance</td>\n",
              "      <td>Moscow</td>\n",
              "      <td>08:34:34</td>\n",
              "      <td>Monday</td>\n",
              "    </tr>\n",
              "    <tr>\n",
              "      <th>5</th>\n",
              "      <td>842029A1</td>\n",
              "      <td>Преданная</td>\n",
              "      <td>IMPERVTOR</td>\n",
              "      <td>rusrap</td>\n",
              "      <td>Saint-Petersburg</td>\n",
              "      <td>13:09:41</td>\n",
              "      <td>Friday</td>\n",
              "    </tr>\n",
              "    <tr>\n",
              "      <th>6</th>\n",
              "      <td>4CB90AA5</td>\n",
              "      <td>True</td>\n",
              "      <td>Roman Messer</td>\n",
              "      <td>dance</td>\n",
              "      <td>Moscow</td>\n",
              "      <td>13:00:07</td>\n",
              "      <td>Wednesday</td>\n",
              "    </tr>\n",
              "    <tr>\n",
              "      <th>7</th>\n",
              "      <td>F03E1C1F</td>\n",
              "      <td>Feeling This Way</td>\n",
              "      <td>Polina Griffith</td>\n",
              "      <td>dance</td>\n",
              "      <td>Moscow</td>\n",
              "      <td>20:47:49</td>\n",
              "      <td>Wednesday</td>\n",
              "    </tr>\n",
              "    <tr>\n",
              "      <th>8</th>\n",
              "      <td>8FA1D3BE</td>\n",
              "      <td>И вновь продолжается бой</td>\n",
              "      <td>NaN</td>\n",
              "      <td>ruspop</td>\n",
              "      <td>Moscow</td>\n",
              "      <td>09:17:40</td>\n",
              "      <td>Friday</td>\n",
              "    </tr>\n",
              "    <tr>\n",
              "      <th>9</th>\n",
              "      <td>E772D5C0</td>\n",
              "      <td>Pessimist</td>\n",
              "      <td>NaN</td>\n",
              "      <td>dance</td>\n",
              "      <td>Saint-Petersburg</td>\n",
              "      <td>21:20:49</td>\n",
              "      <td>Wednesday</td>\n",
              "    </tr>\n",
              "  </tbody>\n",
              "</table>\n",
              "</div>"
            ],
            "text/plain": [
              "     userID                        Track            artist   genre  \\\n",
              "0  FFB692EC            Kamigata To Boots  The Mass Missile    rock   \n",
              "1  55204538  Delayed Because of Accident  Andreas Rönnberg    rock   \n",
              "2    20EC38            Funiculì funiculà       Mario Lanza     pop   \n",
              "3  A3DD03C9        Dragons in the Sunset        Fire + Ice    folk   \n",
              "4  E2DC1FAE                  Soul People        Space Echo   dance   \n",
              "5  842029A1                    Преданная         IMPERVTOR  rusrap   \n",
              "6  4CB90AA5                         True      Roman Messer   dance   \n",
              "7  F03E1C1F             Feeling This Way   Polina Griffith   dance   \n",
              "8  8FA1D3BE     И вновь продолжается бой               NaN  ruspop   \n",
              "9  E772D5C0                    Pessimist               NaN   dance   \n",
              "\n",
              "             City        time        Day  \n",
              "0  Saint-Petersburg  20:28:33  Wednesday  \n",
              "1            Moscow  14:07:09     Friday  \n",
              "2  Saint-Petersburg  20:58:07  Wednesday  \n",
              "3  Saint-Petersburg  08:37:09     Monday  \n",
              "4            Moscow  08:34:34     Monday  \n",
              "5  Saint-Petersburg  13:09:41     Friday  \n",
              "6            Moscow  13:00:07  Wednesday  \n",
              "7            Moscow  20:47:49  Wednesday  \n",
              "8            Moscow  09:17:40     Friday  \n",
              "9  Saint-Petersburg  21:20:49  Wednesday  "
            ]
          },
          "metadata": {},
          "output_type": "display_data"
        }
      ],
      "source": [
        "df.head(10)"
      ]
    },
    {
      "cell_type": "markdown",
      "metadata": {
        "id": "EO73Kwic_Zct"
      },
      "source": [
        "Посмотрим общую информацию о таблице:"
      ]
    },
    {
      "cell_type": "code",
      "execution_count": null,
      "metadata": {
        "id": "DSf2kIb-_Zct",
        "outputId": "f989d32c-405d-4241-eac1-ec747a0f2c72"
      },
      "outputs": [
        {
          "name": "stdout",
          "output_type": "stream",
          "text": [
            "<class 'pandas.core.frame.DataFrame'>\n",
            "RangeIndex: 65079 entries, 0 to 65078\n",
            "Data columns (total 7 columns):\n",
            " #   Column    Non-Null Count  Dtype \n",
            "---  ------    --------------  ----- \n",
            " 0     userID  65079 non-null  object\n",
            " 1   Track     63848 non-null  object\n",
            " 2   artist    57876 non-null  object\n",
            " 3   genre     63881 non-null  object\n",
            " 4     City    65079 non-null  object\n",
            " 5   time      65079 non-null  object\n",
            " 6   Day       65079 non-null  object\n",
            "dtypes: object(7)\n",
            "memory usage: 3.5+ MB\n"
          ]
        }
      ],
      "source": [
        "df.info()"
      ]
    },
    {
      "cell_type": "markdown",
      "metadata": {
        "id": "TaQ2Iwbr_Zct"
      },
      "source": [
        "Итак, в таблице семь столбцов. Тип данных во всех столбцах — `object`.\n",
        "\n",
        "Согласно документации к данным:\n",
        "* `userID` — идентификатор пользователя;\n",
        "* `Track` — название трека;  \n",
        "* `artist` — имя исполнителя;\n",
        "* `genre` — название жанра;\n",
        "* `City` — город пользователя;\n",
        "* `time` — время начала прослушивания;\n",
        "* `Day` — день недели.\n",
        "\n",
        "В названиях колонок видны три нарушения стиля:\n",
        "1. Строчные буквы сочетаются с прописными.\n",
        "2. Встречаются пробелы.\n",
        "3. Написание названия колонок не в змеинном регистре, а слитное.\n",
        "\n",
        "\n",
        "Количество значений в столбцах различается. Значит, в данных есть пропущенные значения.\n"
      ]
    },
    {
      "cell_type": "markdown",
      "metadata": {
        "id": "MCB6-dXG_Zct"
      },
      "source": [
        "**Выводы**\n",
        "\n",
        "В каждой строке таблицы — данные о прослушанном треке. Часть колонок описывает саму композицию: название, исполнителя и жанр. Остальные данные рассказывают о пользователе: из какого он города, когда он слушал музыку. \n",
        "\n",
        "Предварительно можно утверждать, что, данных достаточно для проверки гипотез. Но встречаются пропуски в данных, а в названиях колонок — расхождения с хорошим стилем.\n",
        "\n",
        "Чтобы двигаться дальше, нужно устранить проблемы в данных."
      ]
    },
    {
      "cell_type": "markdown",
      "metadata": {
        "id": "SjYF6Ub9_Zct"
      },
      "source": [
        "## Предобработка данных\n",
        "Исправьте стиль в заголовках столбцов, исключите пропуски. Затем проверьте данные на дубликаты."
      ]
    },
    {
      "cell_type": "markdown",
      "metadata": {
        "id": "dIaKXr29_Zct"
      },
      "source": [
        "### Стиль заголовков\n",
        "Выведем название столбцов:"
      ]
    },
    {
      "cell_type": "code",
      "execution_count": null,
      "metadata": {
        "id": "oKOTdF_Q_Zct",
        "outputId": "ef106211-7ed7-4314-a6c4-66c855f9f253"
      },
      "outputs": [
        {
          "data": {
            "text/plain": [
              "Index(['  userID', 'Track', 'artist', 'genre', '  City  ', 'time', 'Day'], dtype='object')"
            ]
          },
          "execution_count": 44,
          "metadata": {},
          "output_type": "execute_result"
        }
      ],
      "source": [
        "df.columns # перечень названий столбцов таблицы df"
      ]
    },
    {
      "cell_type": "markdown",
      "metadata": {
        "id": "zj5534cv_Zct"
      },
      "source": [
        "Приведем названия столбцов в соответствие с правильным стилем."
      ]
    },
    {
      "cell_type": "code",
      "execution_count": null,
      "metadata": {
        "id": "ISlFqs5y_Zct"
      },
      "outputs": [],
      "source": [
        "df = df.rename(\n",
        "columns={\n",
        "    '  userID': 'user_id',\n",
        "    'Track': 'track',\n",
        "    '  City  ': 'city',\n",
        "    'Day': 'day'\n",
        "}\n",
        ") # переименование столбцов"
      ]
    },
    {
      "cell_type": "code",
      "execution_count": null,
      "metadata": {
        "id": "d4NOAmTW_Zct",
        "outputId": "636253a8-cf14-4beb-8cf7-6985a69a9499"
      },
      "outputs": [
        {
          "data": {
            "text/plain": [
              "Index(['user_id', 'track', 'artist', 'genre', 'city', 'time', 'day'], dtype='object')"
            ]
          },
          "execution_count": 46,
          "metadata": {},
          "output_type": "execute_result"
        }
      ],
      "source": [
        "df.columns # проверка результатов - перечень названий столбцов"
      ]
    },
    {
      "cell_type": "markdown",
      "metadata": {
        "id": "5ISfbcfY_Zct"
      },
      "source": [
        "### Пропуски значений\n",
        "Посмотрим сколько пропусков в каждом столбце."
      ]
    },
    {
      "cell_type": "code",
      "execution_count": null,
      "metadata": {
        "id": "RskX29qr_Zct",
        "outputId": "31a0b191-7a37-489d-c7af-2820463420a4"
      },
      "outputs": [
        {
          "data": {
            "text/plain": [
              "user_id       0\n",
              "track      1231\n",
              "artist     7203\n",
              "genre      1198\n",
              "city          0\n",
              "time          0\n",
              "day           0\n",
              "dtype: int64"
            ]
          },
          "execution_count": 47,
          "metadata": {},
          "output_type": "execute_result"
        }
      ],
      "source": [
        "df.isna().sum() # подсчёт пропусков"
      ]
    },
    {
      "cell_type": "markdown",
      "metadata": {
        "id": "qubhgnlO_Zct"
      },
      "source": [
        "Не все пропущенные значения влияют на исследование. Так в `track` и `artist` пропуски не важны для нашей работы. Достаточно заменить их явными обозначениями.\n",
        "\n",
        "Но пропуски в `genre` могут помешать сравнению музыкальных вкусов в Москве и Санкт-Петербурге. На практике было бы правильно установить причину пропусков и восстановить данные. Такой возможности ну нас нет. Придётся:\n",
        "* заполнить и эти пропуски явными обозначениями;\n",
        "* оценить, насколько они повредят расчётам. "
      ]
    },
    {
      "cell_type": "markdown",
      "metadata": {
        "id": "fSv2laPA_Zct"
      },
      "source": [
        "Заменим пропущенные значения в столбцах `track`, `artist` и `genre` на строку `'unknown'."
      ]
    },
    {
      "cell_type": "code",
      "execution_count": null,
      "metadata": {
        "id": "KplB5qWs_Zct"
      },
      "outputs": [],
      "source": [
        "columns_to_replace = ['track', 'artist', 'genre']\n",
        "for column in columns_to_replace:    \n",
        "    df[column] = df[column].fillna('unknown')\n",
        "    # перебор названий столбцов в цикле и замена пропущенных значений на 'unknown'"
      ]
    },
    {
      "cell_type": "code",
      "execution_count": null,
      "metadata": {
        "id": "Tq4nYRX4_Zct",
        "outputId": "bed8b94d-9a25-41b0-c1a4-590a03c63dfa"
      },
      "outputs": [
        {
          "data": {
            "text/plain": [
              "user_id    0\n",
              "track      0\n",
              "artist     0\n",
              "genre      0\n",
              "city       0\n",
              "time       0\n",
              "day        0\n",
              "dtype: int64"
            ]
          },
          "execution_count": 49,
          "metadata": {},
          "output_type": "execute_result"
        }
      ],
      "source": [
        "df.isna().sum() # подсчёт пропусков"
      ]
    },
    {
      "cell_type": "markdown",
      "metadata": {
        "id": "BWKRtBJ3_Zct"
      },
      "source": [
        "### Дубликаты\n",
        "Проверим есть ли дубликаты в наших данных:"
      ]
    },
    {
      "cell_type": "code",
      "execution_count": null,
      "metadata": {
        "id": "36eES_S0_Zct",
        "outputId": "040586a3-4fc0-43db-b0a2-95c78be15ae2"
      },
      "outputs": [
        {
          "data": {
            "text/plain": [
              "3826"
            ]
          },
          "execution_count": 50,
          "metadata": {},
          "output_type": "execute_result"
        }
      ],
      "source": [
        "df.duplicated().sum() # подсчёт явных дубликатов"
      ]
    },
    {
      "cell_type": "markdown",
      "metadata": {
        "id": "Ot25h6XR_Zct"
      },
      "source": [
        "Удалим дубликаты."
      ]
    },
    {
      "cell_type": "code",
      "execution_count": null,
      "metadata": {
        "id": "exFHq6tt_Zct"
      },
      "outputs": [],
      "source": [
        "df = df.drop_duplicates().reset_index(drop=True)"
      ]
    },
    {
      "cell_type": "code",
      "execution_count": null,
      "metadata": {
        "id": "-8PuNWQ0_Zct",
        "outputId": "97a01de2-dec8-4c5c-c1a4-f2ea3415274c"
      },
      "outputs": [
        {
          "data": {
            "text/plain": [
              "0"
            ]
          },
          "execution_count": 52,
          "metadata": {},
          "output_type": "execute_result"
        }
      ],
      "source": [
        "df.duplicated().sum() # проверка на отсутствие дубликатов"
      ]
    },
    {
      "cell_type": "markdown",
      "metadata": {
        "id": "QlFBsxAr_Zct"
      },
      "source": [
        "Теперь посмотрим неявные дубликаты в колонке `genre`.\n",
        "Выведем на экран список уникальных названий жанров в алфавитном порядке. Для этого."
      ]
    },
    {
      "cell_type": "code",
      "execution_count": null,
      "metadata": {
        "id": "JIUcqzZN_Zct",
        "outputId": "325e9d22-a9dd-49be-be1e-13db0889ba2e"
      },
      "outputs": [
        {
          "data": {
            "text/plain": [
              "array(['acid', 'acoustic', 'action', 'adult', 'africa', 'afrikaans',\n",
              "       'alternative', 'alternativepunk', 'ambient', 'americana',\n",
              "       'animated', 'anime', 'arabesk', 'arabic', 'arena',\n",
              "       'argentinetango', 'art', 'audiobook', 'author', 'avantgarde',\n",
              "       'axé', 'baile', 'balkan', 'beats', 'bigroom', 'black', 'bluegrass',\n",
              "       'blues', 'bollywood', 'bossa', 'brazilian', 'breakbeat', 'breaks',\n",
              "       'broadway', 'cantautori', 'cantopop', 'canzone', 'caribbean',\n",
              "       'caucasian', 'celtic', 'chamber', 'chanson', 'children', 'chill',\n",
              "       'chinese', 'choral', 'christian', 'christmas', 'classical',\n",
              "       'classicmetal', 'club', 'colombian', 'comedy', 'conjazz',\n",
              "       'contemporary', 'country', 'cuban', 'dance', 'dancehall',\n",
              "       'dancepop', 'dark', 'death', 'deep', 'deutschrock', 'deutschspr',\n",
              "       'dirty', 'disco', 'dnb', 'documentary', 'downbeat', 'downtempo',\n",
              "       'drum', 'dub', 'dubstep', 'eastern', 'easy', 'electronic',\n",
              "       'electropop', 'emo', 'entehno', 'epicmetal', 'estrada', 'ethnic',\n",
              "       'eurofolk', 'european', 'experimental', 'extrememetal', 'fado',\n",
              "       'fairytail', 'film', 'fitness', 'flamenco', 'folk', 'folklore',\n",
              "       'folkmetal', 'folkrock', 'folktronica', 'forró', 'frankreich',\n",
              "       'französisch', 'french', 'funk', 'future', 'gangsta', 'garage',\n",
              "       'german', 'ghazal', 'gitarre', 'glitch', 'gospel', 'gothic',\n",
              "       'grime', 'grunge', 'gypsy', 'handsup', \"hard'n'heavy\", 'hardcore',\n",
              "       'hardstyle', 'hardtechno', 'hip', 'hip-hop', 'hiphop',\n",
              "       'historisch', 'holiday', 'hop', 'horror', 'house', 'hymn', 'idm',\n",
              "       'independent', 'indian', 'indie', 'indipop', 'industrial',\n",
              "       'inspirational', 'instrumental', 'international', 'irish', 'jam',\n",
              "       'japanese', 'jazz', 'jewish', 'jpop', 'jungle', 'k-pop',\n",
              "       'karadeniz', 'karaoke', 'kayokyoku', 'korean', 'laiko', 'latin',\n",
              "       'latino', 'leftfield', 'local', 'lounge', 'loungeelectronic',\n",
              "       'lovers', 'malaysian', 'mandopop', 'marschmusik', 'meditative',\n",
              "       'mediterranean', 'melodic', 'metal', 'metalcore', 'mexican',\n",
              "       'middle', 'minimal', 'miscellaneous', 'modern', 'mood', 'mpb',\n",
              "       'muslim', 'native', 'neoklassik', 'neue', 'new', 'newage',\n",
              "       'newwave', 'nu', 'nujazz', 'numetal', 'oceania', 'old', 'opera',\n",
              "       'orchestral', 'other', 'piano', 'podcasts', 'pop', 'popdance',\n",
              "       'popelectronic', 'popeurodance', 'poprussian', 'post',\n",
              "       'posthardcore', 'postrock', 'power', 'progmetal', 'progressive',\n",
              "       'psychedelic', 'punjabi', 'punk', 'quebecois', 'ragga', 'ram',\n",
              "       'rancheras', 'rap', 'rave', 'reggae', 'reggaeton', 'regional',\n",
              "       'relax', 'religious', 'retro', 'rhythm', 'rnb', 'rnr', 'rock',\n",
              "       'rockabilly', 'rockalternative', 'rockindie', 'rockother',\n",
              "       'romance', 'roots', 'ruspop', 'rusrap', 'rusrock', 'russian',\n",
              "       'salsa', 'samba', 'scenic', 'schlager', 'self', 'sertanejo',\n",
              "       'shanson', 'shoegazing', 'showtunes', 'singer', 'ska', 'skarock',\n",
              "       'slow', 'smooth', 'soft', 'soul', 'soulful', 'sound', 'soundtrack',\n",
              "       'southern', 'specialty', 'speech', 'spiritual', 'sport',\n",
              "       'stonerrock', 'surf', 'swing', 'synthpop', 'synthrock',\n",
              "       'sängerportrait', 'tango', 'tanzorchester', 'taraftar', 'tatar',\n",
              "       'tech', 'techno', 'teen', 'thrash', 'top', 'traditional',\n",
              "       'tradjazz', 'trance', 'tribal', 'trip', 'triphop', 'tropical',\n",
              "       'türk', 'türkçe', 'ukrrock', 'unknown', 'urban', 'uzbek',\n",
              "       'variété', 'vi', 'videogame', 'vocal', 'western', 'world',\n",
              "       'worldbeat', 'ïîï', 'электроника'], dtype=object)"
            ]
          },
          "execution_count": 53,
          "metadata": {},
          "output_type": "execute_result"
        }
      ],
      "source": [
        "df['genre'].sort_values().unique() # Просмотр уникальных названий жанров"
      ]
    },
    {
      "cell_type": "markdown",
      "metadata": {
        "id": "qej-Qmuo_Zct"
      },
      "source": [
        "Исправим неявные дубликаты в каждом жанре,приведем название к единому виду."
      ]
    },
    {
      "cell_type": "code",
      "execution_count": null,
      "metadata": {
        "id": "ErNDkmns_Zct"
      },
      "outputs": [],
      "source": [
        "def replace_wrong_genres(wrong_genres, correct_genre): # Функция для замены неявных дубликатов\n",
        "    for wrong_genre in wrong_genres:\n",
        "        df['genre'] = df['genre'].replace(wrong_genre, correct_genre)"
      ]
    },
    {
      "cell_type": "code",
      "execution_count": null,
      "metadata": {
        "id": "YN5i2hpmSo09",
        "scrolled": true
      },
      "outputs": [],
      "source": [
        "duplicates = ['hop', 'hip', 'hip-hop']\n",
        "correct_genre = 'hiphop'\n",
        "replace_wrong_genres(duplicates, correct_genre)"
      ]
    },
    {
      "cell_type": "code",
      "execution_count": null,
      "metadata": {
        "id": "wvixALnFG15m",
        "outputId": "6b35ed2c-2018-4d91-834d-09333b73af76"
      },
      "outputs": [
        {
          "data": {
            "text/plain": [
              "array(['acid', 'acoustic', 'action', 'adult', 'africa', 'afrikaans',\n",
              "       'alternative', 'alternativepunk', 'ambient', 'americana',\n",
              "       'animated', 'anime', 'arabesk', 'arabic', 'arena',\n",
              "       'argentinetango', 'art', 'audiobook', 'author', 'avantgarde',\n",
              "       'axé', 'baile', 'balkan', 'beats', 'bigroom', 'black', 'bluegrass',\n",
              "       'blues', 'bollywood', 'bossa', 'brazilian', 'breakbeat', 'breaks',\n",
              "       'broadway', 'cantautori', 'cantopop', 'canzone', 'caribbean',\n",
              "       'caucasian', 'celtic', 'chamber', 'chanson', 'children', 'chill',\n",
              "       'chinese', 'choral', 'christian', 'christmas', 'classical',\n",
              "       'classicmetal', 'club', 'colombian', 'comedy', 'conjazz',\n",
              "       'contemporary', 'country', 'cuban', 'dance', 'dancehall',\n",
              "       'dancepop', 'dark', 'death', 'deep', 'deutschrock', 'deutschspr',\n",
              "       'dirty', 'disco', 'dnb', 'documentary', 'downbeat', 'downtempo',\n",
              "       'drum', 'dub', 'dubstep', 'eastern', 'easy', 'electronic',\n",
              "       'electropop', 'emo', 'entehno', 'epicmetal', 'estrada', 'ethnic',\n",
              "       'eurofolk', 'european', 'experimental', 'extrememetal', 'fado',\n",
              "       'fairytail', 'film', 'fitness', 'flamenco', 'folk', 'folklore',\n",
              "       'folkmetal', 'folkrock', 'folktronica', 'forró', 'frankreich',\n",
              "       'französisch', 'french', 'funk', 'future', 'gangsta', 'garage',\n",
              "       'german', 'ghazal', 'gitarre', 'glitch', 'gospel', 'gothic',\n",
              "       'grime', 'grunge', 'gypsy', 'handsup', \"hard'n'heavy\", 'hardcore',\n",
              "       'hardstyle', 'hardtechno', 'hiphop', 'historisch', 'holiday',\n",
              "       'horror', 'house', 'hymn', 'idm', 'independent', 'indian', 'indie',\n",
              "       'indipop', 'industrial', 'inspirational', 'instrumental',\n",
              "       'international', 'irish', 'jam', 'japanese', 'jazz', 'jewish',\n",
              "       'jpop', 'jungle', 'k-pop', 'karadeniz', 'karaoke', 'kayokyoku',\n",
              "       'korean', 'laiko', 'latin', 'latino', 'leftfield', 'local',\n",
              "       'lounge', 'loungeelectronic', 'lovers', 'malaysian', 'mandopop',\n",
              "       'marschmusik', 'meditative', 'mediterranean', 'melodic', 'metal',\n",
              "       'metalcore', 'mexican', 'middle', 'minimal', 'miscellaneous',\n",
              "       'modern', 'mood', 'mpb', 'muslim', 'native', 'neoklassik', 'neue',\n",
              "       'new', 'newage', 'newwave', 'nu', 'nujazz', 'numetal', 'oceania',\n",
              "       'old', 'opera', 'orchestral', 'other', 'piano', 'podcasts', 'pop',\n",
              "       'popdance', 'popelectronic', 'popeurodance', 'poprussian', 'post',\n",
              "       'posthardcore', 'postrock', 'power', 'progmetal', 'progressive',\n",
              "       'psychedelic', 'punjabi', 'punk', 'quebecois', 'ragga', 'ram',\n",
              "       'rancheras', 'rap', 'rave', 'reggae', 'reggaeton', 'regional',\n",
              "       'relax', 'religious', 'retro', 'rhythm', 'rnb', 'rnr', 'rock',\n",
              "       'rockabilly', 'rockalternative', 'rockindie', 'rockother',\n",
              "       'romance', 'roots', 'ruspop', 'rusrap', 'rusrock', 'russian',\n",
              "       'salsa', 'samba', 'scenic', 'schlager', 'self', 'sertanejo',\n",
              "       'shanson', 'shoegazing', 'showtunes', 'singer', 'ska', 'skarock',\n",
              "       'slow', 'smooth', 'soft', 'soul', 'soulful', 'sound', 'soundtrack',\n",
              "       'southern', 'specialty', 'speech', 'spiritual', 'sport',\n",
              "       'stonerrock', 'surf', 'swing', 'synthpop', 'synthrock',\n",
              "       'sängerportrait', 'tango', 'tanzorchester', 'taraftar', 'tatar',\n",
              "       'tech', 'techno', 'teen', 'thrash', 'top', 'traditional',\n",
              "       'tradjazz', 'trance', 'tribal', 'trip', 'triphop', 'tropical',\n",
              "       'türk', 'türkçe', 'ukrrock', 'unknown', 'urban', 'uzbek',\n",
              "       'variété', 'vi', 'videogame', 'vocal', 'western', 'world',\n",
              "       'worldbeat', 'ïîï', 'электроника'], dtype=object)"
            ]
          },
          "execution_count": 56,
          "metadata": {},
          "output_type": "execute_result"
        }
      ],
      "source": [
        "df['genre'].sort_values().unique() # Проверка на неявные дубликаты"
      ]
    },
    {
      "cell_type": "markdown",
      "metadata": {
        "id": "jz6a9-7HQUDd"
      },
      "source": [
        "**Выводы**\n",
        "\n",
        "Предобработка обнаружила три проблемы в данных:\n",
        "\n",
        "- нарушения в стиле заголовков,\n",
        "- пропущенные значения,\n",
        "- дубликаты — явные и неявные.\n",
        "\n",
        "Мы исправили эти проблемы. Теперь можно перейти к проверке гипотез. "
      ]
    },
    {
      "cell_type": "markdown",
      "metadata": {
        "id": "WttZHXH0SqKk"
      },
      "source": [
        "## Проверка гипотез"
      ]
    },
    {
      "cell_type": "markdown",
      "metadata": {
        "id": "Im936VVi_Zcu"
      },
      "source": [
        "### Сравнение поведения пользователей двух столиц"
      ]
    },
    {
      "cell_type": "markdown",
      "metadata": {
        "id": "nwt_MuaL_Zcu"
      },
      "source": [
        "Первая гипотеза утверждает, что пользователи по-разному слушают музыку в Москве и Санкт-Петербурге. Проверим это предположение по данным о трёх днях недели — понедельнике, среде и пятнице. Для этого:\n",
        "\n",
        "* Разделим пользователей Москвы и Санкт-Петербурга\n",
        "* Сравним, сколько треков послушала каждая группа пользователей в понедельник, среду и пятницу.\n"
      ]
    },
    {
      "cell_type": "markdown",
      "metadata": {
        "id": "8Dw_YMmT_Zcu"
      },
      "source": [
        "Для начала оценим активность пользователей в каждом городе.\n",
        "\n"
      ]
    },
    {
      "cell_type": "code",
      "execution_count": null,
      "metadata": {
        "id": "0_Qs96oh_Zcu",
        "outputId": "41c46fb4-ed23-4fb9-f969-38e02fac0868"
      },
      "outputs": [
        {
          "data": {
            "text/plain": [
              "city\n",
              "Moscow              42741\n",
              "Saint-Petersburg    18512\n",
              "Name: track, dtype: int64"
            ]
          },
          "execution_count": 57,
          "metadata": {},
          "output_type": "execute_result"
        }
      ],
      "source": [
        "df.groupby('city')['track'].count() # Подсчёт прослушиваний в каждом городе"
      ]
    },
    {
      "cell_type": "markdown",
      "metadata": {
        "id": "dzli3w8o_Zcu"
      },
      "source": [
        "В Москве прослушиваний больше, чем в Петербурге. Из этого не следует, что московские пользователи чаще слушают музыку. Просто самих пользователей в Москве больше.\n",
        "\n",
        "Теперь посмотрим сколько композиций слушают по дням недели.\n"
      ]
    },
    {
      "cell_type": "code",
      "execution_count": null,
      "metadata": {
        "id": "uZMKjiJz_Zcu",
        "outputId": "c1d3307a-255e-4989-c421-27c73434f42f"
      },
      "outputs": [
        {
          "data": {
            "text/plain": [
              "day\n",
              "Friday       21840\n",
              "Monday       21354\n",
              "Wednesday    18059\n",
              "Name: track, dtype: int64"
            ]
          },
          "execution_count": 58,
          "metadata": {},
          "output_type": "execute_result"
        }
      ],
      "source": [
        "df.groupby('day')['track'].count() # Подсчёт прослушиваний в каждый из трёх дней"
      ]
    },
    {
      "cell_type": "markdown",
      "metadata": {
        "id": "cC2tNrlL_Zcu"
      },
      "source": [
        "В среднем пользователи из двух городов менее активны по средам. Но картина может измениться, если рассмотреть каждый город в отдельности."
      ]
    },
    {
      "cell_type": "markdown",
      "metadata": {
        "id": "POzs8bGa_Zcu"
      },
      "source": [
        "Теперь посмотрим количество прослушиваний по дням для каждого города."
      ]
    },
    {
      "cell_type": "code",
      "execution_count": 1,
      "metadata": {
        "id": "Nz3GdQB1_Zcu"
      },
      "outputs": [],
      "source": [
        "def number_tracks(day, city):\n",
        "    track_list = df[df['day'] == day]\n",
        "    track_list = track_list[track_list['city'] == city]\n",
        "    track_list_count = track_list['user_id'].count()\n",
        "    return track_list_count"
      ]
    },
    {
      "cell_type": "code",
      "execution_count": null,
      "metadata": {
        "id": "rJcRATNQ_Zcu",
        "outputId": "e6a2c09b-aed2-4f45-faa0-5a738c6ca564"
      },
      "outputs": [
        {
          "data": {
            "text/plain": [
              "15740"
            ]
          },
          "execution_count": 60,
          "metadata": {},
          "output_type": "execute_result"
        }
      ],
      "source": [
        "number_tracks('Monday', 'Moscow') # количество прослушиваний в Москве по понедельникам"
      ]
    },
    {
      "cell_type": "code",
      "execution_count": null,
      "metadata": {
        "id": "hq_ncZ5T_Zcu",
        "outputId": "9de39990-15b8-42dd-d5a5-f5ad60816b72"
      },
      "outputs": [
        {
          "data": {
            "text/plain": [
              "5614"
            ]
          },
          "metadata": {},
          "output_type": "display_data"
        }
      ],
      "source": [
        "display(number_tracks('Monday', 'Saint-Petersburg')) # количество прослушиваний в Санкт-Петербурге по понедельникам"
      ]
    },
    {
      "cell_type": "code",
      "execution_count": null,
      "metadata": {
        "id": "_NTy2VPU_Zcu",
        "outputId": "e9d2c6bd-e018-4514-aea2-837a2ce8356b"
      },
      "outputs": [
        {
          "data": {
            "text/plain": [
              "11056"
            ]
          },
          "metadata": {},
          "output_type": "display_data"
        }
      ],
      "source": [
        "display(number_tracks('Wednesday', 'Moscow')) # количество прослушиваний в Москве по средам"
      ]
    },
    {
      "cell_type": "code",
      "execution_count": null,
      "metadata": {
        "id": "j2y3TAwo_Zcu",
        "outputId": "7f62cc87-3697-4e47-e8ac-86ea1b64f55b"
      },
      "outputs": [
        {
          "data": {
            "text/plain": [
              "7003"
            ]
          },
          "metadata": {},
          "output_type": "display_data"
        }
      ],
      "source": [
        "display(number_tracks('Wednesday', 'Saint-Petersburg')) # количество прослушиваний в Санкт-Петербурге по средам"
      ]
    },
    {
      "cell_type": "code",
      "execution_count": null,
      "metadata": {
        "id": "vYDw5u_K_Zcu",
        "outputId": "afd5e2f1-439e-42f6-ad9b-8a11b5b0c76a"
      },
      "outputs": [
        {
          "data": {
            "text/plain": [
              "15945"
            ]
          },
          "metadata": {},
          "output_type": "display_data"
        }
      ],
      "source": [
        "display(number_tracks('Friday', 'Moscow')) # количество прослушиваний в Москве по пятницам"
      ]
    },
    {
      "cell_type": "code",
      "execution_count": null,
      "metadata": {
        "id": "8_yzFtW3_Zcu",
        "outputId": "c9e50fe1-98cd-4a1e-983f-da6e7c3a1ebd"
      },
      "outputs": [
        {
          "data": {
            "text/plain": [
              "5895"
            ]
          },
          "metadata": {},
          "output_type": "display_data"
        }
      ],
      "source": [
        "display(number_tracks('Friday', 'Saint-Petersburg')) # количество прослушиваний в Санкт-Петербурге по пятницам"
      ]
    },
    {
      "cell_type": "code",
      "execution_count": null,
      "metadata": {
        "id": "APAcLpOr_Zcu",
        "outputId": "c532c0a2-737d-4268-cb32-43d379acd493"
      },
      "outputs": [
        {
          "data": {
            "text/html": [
              "<div>\n",
              "<style scoped>\n",
              "    .dataframe tbody tr th:only-of-type {\n",
              "        vertical-align: middle;\n",
              "    }\n",
              "\n",
              "    .dataframe tbody tr th {\n",
              "        vertical-align: top;\n",
              "    }\n",
              "\n",
              "    .dataframe thead th {\n",
              "        text-align: right;\n",
              "    }\n",
              "</style>\n",
              "<table border=\"1\" class=\"dataframe\">\n",
              "  <thead>\n",
              "    <tr style=\"text-align: right;\">\n",
              "      <th></th>\n",
              "      <th>city</th>\n",
              "      <th>monday</th>\n",
              "      <th>wednesday</th>\n",
              "      <th>friday</th>\n",
              "    </tr>\n",
              "  </thead>\n",
              "  <tbody>\n",
              "    <tr>\n",
              "      <th>0</th>\n",
              "      <td>Moscow</td>\n",
              "      <td>15740</td>\n",
              "      <td>11056</td>\n",
              "      <td>15945</td>\n",
              "    </tr>\n",
              "    <tr>\n",
              "      <th>1</th>\n",
              "      <td>Saint-Petersburg</td>\n",
              "      <td>5614</td>\n",
              "      <td>7003</td>\n",
              "      <td>5895</td>\n",
              "    </tr>\n",
              "  </tbody>\n",
              "</table>\n",
              "</div>"
            ],
            "text/plain": [
              "               city  monday  wednesday  friday\n",
              "0            Moscow   15740      11056   15945\n",
              "1  Saint-Petersburg    5614       7003    5895"
            ]
          },
          "metadata": {},
          "output_type": "display_data"
        }
      ],
      "source": [
        "import pandas as pd\n",
        "\n",
        "number_track = [\n",
        "    ['Moscow', 15740, 11056, 15945],\n",
        "    ['Saint-Petersburg', 5614, 7003, 5895],\n",
        "]\n",
        "\n",
        "columns = ['city', 'monday', 'wednesday', 'friday']\n",
        "track_list_count_of_city = pd.DataFrame(data=number_track, columns=columns)\n",
        "display(track_list_count_of_city)"
      ]
    },
    {
      "cell_type": "markdown",
      "metadata": {
        "id": "-EgPIHYu_Zcu"
      },
      "source": [
        "**Выводы**\n",
        "\n",
        "Данные показывают разницу поведения пользователей:\n",
        "\n",
        "- В Москве пик прослушиваний приходится на понедельник и пятницу, а в среду заметен спад.\n",
        "- В Петербурге, наоборот, больше слушают музыку по средам. Активность в понедельник и пятницу здесь почти в равной мере уступает среде.\n",
        "\n",
        "Значит, данные говорят в пользу первой гипотезы."
      ]
    },
    {
      "cell_type": "markdown",
      "metadata": {
        "id": "atZAxtq4_Zcu"
      },
      "source": [
        "### Музыка в начале и в конце недели"
      ]
    },
    {
      "cell_type": "markdown",
      "metadata": {
        "id": "eXrQqXFH_Zcu"
      },
      "source": [
        "Согласно второй гипотезе, утром в понедельник в Москве преобладают одни жанры, а в Петербурге — другие. Так же и вечером пятницы преобладают разные жанры — в зависимости от города."
      ]
    },
    {
      "cell_type": "markdown",
      "metadata": {
        "id": "S8UcW6Hw_Zcu"
      },
      "source": [
        "Сохраним таблицы с данными в две переменные:\n",
        "* по Москве — в `moscow_general`;\n",
        "* по Санкт-Петербургу — в `spb_general`."
      ]
    },
    {
      "cell_type": "code",
      "execution_count": null,
      "metadata": {
        "id": "qeaFfM_P_Zcu",
        "outputId": "d694ad96-d31a-4d81-d3d9-df3c9eee6491"
      },
      "outputs": [
        {
          "data": {
            "text/html": [
              "<div>\n",
              "<style scoped>\n",
              "    .dataframe tbody tr th:only-of-type {\n",
              "        vertical-align: middle;\n",
              "    }\n",
              "\n",
              "    .dataframe tbody tr th {\n",
              "        vertical-align: top;\n",
              "    }\n",
              "\n",
              "    .dataframe thead th {\n",
              "        text-align: right;\n",
              "    }\n",
              "</style>\n",
              "<table border=\"1\" class=\"dataframe\">\n",
              "  <thead>\n",
              "    <tr style=\"text-align: right;\">\n",
              "      <th></th>\n",
              "      <th>user_id</th>\n",
              "      <th>track</th>\n",
              "      <th>artist</th>\n",
              "      <th>genre</th>\n",
              "      <th>city</th>\n",
              "      <th>time</th>\n",
              "      <th>day</th>\n",
              "    </tr>\n",
              "  </thead>\n",
              "  <tbody>\n",
              "    <tr>\n",
              "      <th>1</th>\n",
              "      <td>55204538</td>\n",
              "      <td>Delayed Because of Accident</td>\n",
              "      <td>Andreas Rönnberg</td>\n",
              "      <td>rock</td>\n",
              "      <td>Moscow</td>\n",
              "      <td>14:07:09</td>\n",
              "      <td>Friday</td>\n",
              "    </tr>\n",
              "    <tr>\n",
              "      <th>4</th>\n",
              "      <td>E2DC1FAE</td>\n",
              "      <td>Soul People</td>\n",
              "      <td>Space Echo</td>\n",
              "      <td>dance</td>\n",
              "      <td>Moscow</td>\n",
              "      <td>08:34:34</td>\n",
              "      <td>Monday</td>\n",
              "    </tr>\n",
              "    <tr>\n",
              "      <th>6</th>\n",
              "      <td>4CB90AA5</td>\n",
              "      <td>True</td>\n",
              "      <td>Roman Messer</td>\n",
              "      <td>dance</td>\n",
              "      <td>Moscow</td>\n",
              "      <td>13:00:07</td>\n",
              "      <td>Wednesday</td>\n",
              "    </tr>\n",
              "    <tr>\n",
              "      <th>7</th>\n",
              "      <td>F03E1C1F</td>\n",
              "      <td>Feeling This Way</td>\n",
              "      <td>Polina Griffith</td>\n",
              "      <td>dance</td>\n",
              "      <td>Moscow</td>\n",
              "      <td>20:47:49</td>\n",
              "      <td>Wednesday</td>\n",
              "    </tr>\n",
              "    <tr>\n",
              "      <th>8</th>\n",
              "      <td>8FA1D3BE</td>\n",
              "      <td>И вновь продолжается бой</td>\n",
              "      <td>unknown</td>\n",
              "      <td>ruspop</td>\n",
              "      <td>Moscow</td>\n",
              "      <td>09:17:40</td>\n",
              "      <td>Friday</td>\n",
              "    </tr>\n",
              "    <tr>\n",
              "      <th>...</th>\n",
              "      <td>...</td>\n",
              "      <td>...</td>\n",
              "      <td>...</td>\n",
              "      <td>...</td>\n",
              "      <td>...</td>\n",
              "      <td>...</td>\n",
              "      <td>...</td>\n",
              "    </tr>\n",
              "    <tr>\n",
              "      <th>61247</th>\n",
              "      <td>83A474E7</td>\n",
              "      <td>I Worship Only What You Bleed</td>\n",
              "      <td>The Black Dahlia Murder</td>\n",
              "      <td>extrememetal</td>\n",
              "      <td>Moscow</td>\n",
              "      <td>21:07:12</td>\n",
              "      <td>Monday</td>\n",
              "    </tr>\n",
              "    <tr>\n",
              "      <th>61248</th>\n",
              "      <td>729CBB09</td>\n",
              "      <td>My Name</td>\n",
              "      <td>McLean</td>\n",
              "      <td>rnb</td>\n",
              "      <td>Moscow</td>\n",
              "      <td>13:32:28</td>\n",
              "      <td>Wednesday</td>\n",
              "    </tr>\n",
              "    <tr>\n",
              "      <th>61250</th>\n",
              "      <td>C5E3A0D5</td>\n",
              "      <td>Jalopiina</td>\n",
              "      <td>unknown</td>\n",
              "      <td>industrial</td>\n",
              "      <td>Moscow</td>\n",
              "      <td>20:09:26</td>\n",
              "      <td>Friday</td>\n",
              "    </tr>\n",
              "    <tr>\n",
              "      <th>61251</th>\n",
              "      <td>321D0506</td>\n",
              "      <td>Freight Train</td>\n",
              "      <td>Chas McDevitt</td>\n",
              "      <td>rock</td>\n",
              "      <td>Moscow</td>\n",
              "      <td>21:43:59</td>\n",
              "      <td>Friday</td>\n",
              "    </tr>\n",
              "    <tr>\n",
              "      <th>61252</th>\n",
              "      <td>3A64EF84</td>\n",
              "      <td>Tell Me Sweet Little Lies</td>\n",
              "      <td>Monica Lopez</td>\n",
              "      <td>country</td>\n",
              "      <td>Moscow</td>\n",
              "      <td>21:59:46</td>\n",
              "      <td>Friday</td>\n",
              "    </tr>\n",
              "  </tbody>\n",
              "</table>\n",
              "<p>42741 rows × 7 columns</p>\n",
              "</div>"
            ],
            "text/plain": [
              "        user_id                          track                   artist  \\\n",
              "1      55204538    Delayed Because of Accident         Andreas Rönnberg   \n",
              "4      E2DC1FAE                    Soul People               Space Echo   \n",
              "6      4CB90AA5                           True             Roman Messer   \n",
              "7      F03E1C1F               Feeling This Way          Polina Griffith   \n",
              "8      8FA1D3BE       И вновь продолжается бой                  unknown   \n",
              "...         ...                            ...                      ...   \n",
              "61247  83A474E7  I Worship Only What You Bleed  The Black Dahlia Murder   \n",
              "61248  729CBB09                        My Name                   McLean   \n",
              "61250  C5E3A0D5                      Jalopiina                  unknown   \n",
              "61251  321D0506                  Freight Train            Chas McDevitt   \n",
              "61252  3A64EF84      Tell Me Sweet Little Lies             Monica Lopez   \n",
              "\n",
              "              genre    city      time        day  \n",
              "1              rock  Moscow  14:07:09     Friday  \n",
              "4             dance  Moscow  08:34:34     Monday  \n",
              "6             dance  Moscow  13:00:07  Wednesday  \n",
              "7             dance  Moscow  20:47:49  Wednesday  \n",
              "8            ruspop  Moscow  09:17:40     Friday  \n",
              "...             ...     ...       ...        ...  \n",
              "61247  extrememetal  Moscow  21:07:12     Monday  \n",
              "61248           rnb  Moscow  13:32:28  Wednesday  \n",
              "61250    industrial  Moscow  20:09:26     Friday  \n",
              "61251          rock  Moscow  21:43:59     Friday  \n",
              "61252       country  Moscow  21:59:46     Friday  \n",
              "\n",
              "[42741 rows x 7 columns]"
            ]
          },
          "metadata": {},
          "output_type": "display_data"
        }
      ],
      "source": [
        "moscow_general = df[df['city'] == 'Moscow']\n",
        "display(moscow_general)\n"
      ]
    },
    {
      "cell_type": "code",
      "execution_count": null,
      "metadata": {
        "id": "ORaVRKto_Zcu",
        "outputId": "7b5e855c-723f-4e02-f4ac-015ea0cc2c51"
      },
      "outputs": [
        {
          "data": {
            "text/html": [
              "<div>\n",
              "<style scoped>\n",
              "    .dataframe tbody tr th:only-of-type {\n",
              "        vertical-align: middle;\n",
              "    }\n",
              "\n",
              "    .dataframe tbody tr th {\n",
              "        vertical-align: top;\n",
              "    }\n",
              "\n",
              "    .dataframe thead th {\n",
              "        text-align: right;\n",
              "    }\n",
              "</style>\n",
              "<table border=\"1\" class=\"dataframe\">\n",
              "  <thead>\n",
              "    <tr style=\"text-align: right;\">\n",
              "      <th></th>\n",
              "      <th>user_id</th>\n",
              "      <th>track</th>\n",
              "      <th>artist</th>\n",
              "      <th>genre</th>\n",
              "      <th>city</th>\n",
              "      <th>time</th>\n",
              "      <th>day</th>\n",
              "    </tr>\n",
              "  </thead>\n",
              "  <tbody>\n",
              "    <tr>\n",
              "      <th>0</th>\n",
              "      <td>FFB692EC</td>\n",
              "      <td>Kamigata To Boots</td>\n",
              "      <td>The Mass Missile</td>\n",
              "      <td>rock</td>\n",
              "      <td>Saint-Petersburg</td>\n",
              "      <td>20:28:33</td>\n",
              "      <td>Wednesday</td>\n",
              "    </tr>\n",
              "    <tr>\n",
              "      <th>2</th>\n",
              "      <td>20EC38</td>\n",
              "      <td>Funiculì funiculà</td>\n",
              "      <td>Mario Lanza</td>\n",
              "      <td>pop</td>\n",
              "      <td>Saint-Petersburg</td>\n",
              "      <td>20:58:07</td>\n",
              "      <td>Wednesday</td>\n",
              "    </tr>\n",
              "    <tr>\n",
              "      <th>3</th>\n",
              "      <td>A3DD03C9</td>\n",
              "      <td>Dragons in the Sunset</td>\n",
              "      <td>Fire + Ice</td>\n",
              "      <td>folk</td>\n",
              "      <td>Saint-Petersburg</td>\n",
              "      <td>08:37:09</td>\n",
              "      <td>Monday</td>\n",
              "    </tr>\n",
              "    <tr>\n",
              "      <th>5</th>\n",
              "      <td>842029A1</td>\n",
              "      <td>Преданная</td>\n",
              "      <td>IMPERVTOR</td>\n",
              "      <td>rusrap</td>\n",
              "      <td>Saint-Petersburg</td>\n",
              "      <td>13:09:41</td>\n",
              "      <td>Friday</td>\n",
              "    </tr>\n",
              "    <tr>\n",
              "      <th>9</th>\n",
              "      <td>E772D5C0</td>\n",
              "      <td>Pessimist</td>\n",
              "      <td>unknown</td>\n",
              "      <td>dance</td>\n",
              "      <td>Saint-Petersburg</td>\n",
              "      <td>21:20:49</td>\n",
              "      <td>Wednesday</td>\n",
              "    </tr>\n",
              "    <tr>\n",
              "      <th>...</th>\n",
              "      <td>...</td>\n",
              "      <td>...</td>\n",
              "      <td>...</td>\n",
              "      <td>...</td>\n",
              "      <td>...</td>\n",
              "      <td>...</td>\n",
              "      <td>...</td>\n",
              "    </tr>\n",
              "    <tr>\n",
              "      <th>61239</th>\n",
              "      <td>D94F810B</td>\n",
              "      <td>Theme from the Walking Dead</td>\n",
              "      <td>Proyecto Halloween</td>\n",
              "      <td>film</td>\n",
              "      <td>Saint-Petersburg</td>\n",
              "      <td>21:14:40</td>\n",
              "      <td>Monday</td>\n",
              "    </tr>\n",
              "    <tr>\n",
              "      <th>61240</th>\n",
              "      <td>BC8EC5CF</td>\n",
              "      <td>Red Lips: Gta (Rover Rework)</td>\n",
              "      <td>Rover</td>\n",
              "      <td>electronic</td>\n",
              "      <td>Saint-Petersburg</td>\n",
              "      <td>21:06:50</td>\n",
              "      <td>Monday</td>\n",
              "    </tr>\n",
              "    <tr>\n",
              "      <th>61241</th>\n",
              "      <td>29E04611</td>\n",
              "      <td>Bre Petrunko</td>\n",
              "      <td>Perunika Trio</td>\n",
              "      <td>world</td>\n",
              "      <td>Saint-Petersburg</td>\n",
              "      <td>13:56:00</td>\n",
              "      <td>Monday</td>\n",
              "    </tr>\n",
              "    <tr>\n",
              "      <th>61242</th>\n",
              "      <td>1B91C621</td>\n",
              "      <td>(Hello) Cloud Mountain</td>\n",
              "      <td>sleepmakeswaves</td>\n",
              "      <td>postrock</td>\n",
              "      <td>Saint-Petersburg</td>\n",
              "      <td>09:22:13</td>\n",
              "      <td>Monday</td>\n",
              "    </tr>\n",
              "    <tr>\n",
              "      <th>61249</th>\n",
              "      <td>D08D4A55</td>\n",
              "      <td>Maybe One Day (feat. Black Spade)</td>\n",
              "      <td>Blu &amp; Exile</td>\n",
              "      <td>hiphop</td>\n",
              "      <td>Saint-Petersburg</td>\n",
              "      <td>10:00:00</td>\n",
              "      <td>Monday</td>\n",
              "    </tr>\n",
              "  </tbody>\n",
              "</table>\n",
              "<p>18512 rows × 7 columns</p>\n",
              "</div>"
            ],
            "text/plain": [
              "        user_id                              track              artist  \\\n",
              "0      FFB692EC                  Kamigata To Boots    The Mass Missile   \n",
              "2        20EC38                  Funiculì funiculà         Mario Lanza   \n",
              "3      A3DD03C9              Dragons in the Sunset          Fire + Ice   \n",
              "5      842029A1                          Преданная           IMPERVTOR   \n",
              "9      E772D5C0                          Pessimist             unknown   \n",
              "...         ...                                ...                 ...   \n",
              "61239  D94F810B        Theme from the Walking Dead  Proyecto Halloween   \n",
              "61240  BC8EC5CF       Red Lips: Gta (Rover Rework)               Rover   \n",
              "61241  29E04611                       Bre Petrunko       Perunika Trio   \n",
              "61242  1B91C621             (Hello) Cloud Mountain     sleepmakeswaves   \n",
              "61249  D08D4A55  Maybe One Day (feat. Black Spade)         Blu & Exile   \n",
              "\n",
              "            genre              city      time        day  \n",
              "0            rock  Saint-Petersburg  20:28:33  Wednesday  \n",
              "2             pop  Saint-Petersburg  20:58:07  Wednesday  \n",
              "3            folk  Saint-Petersburg  08:37:09     Monday  \n",
              "5          rusrap  Saint-Petersburg  13:09:41     Friday  \n",
              "9           dance  Saint-Petersburg  21:20:49  Wednesday  \n",
              "...           ...               ...       ...        ...  \n",
              "61239        film  Saint-Petersburg  21:14:40     Monday  \n",
              "61240  electronic  Saint-Petersburg  21:06:50     Monday  \n",
              "61241       world  Saint-Petersburg  13:56:00     Monday  \n",
              "61242    postrock  Saint-Petersburg  09:22:13     Monday  \n",
              "61249      hiphop  Saint-Petersburg  10:00:00     Monday  \n",
              "\n",
              "[18512 rows x 7 columns]"
            ]
          },
          "metadata": {},
          "output_type": "display_data"
        }
      ],
      "source": [
        "spb_general = df[df['city'] == 'Saint-Petersburg']\n",
        "display(spb_general)\n"
      ]
    },
    {
      "cell_type": "markdown",
      "metadata": {
        "id": "MEJV-CX2_Zcu"
      },
      "source": [
        "Создадим функцию `genre_weekday()` с четырьмя параметрами:\n",
        "* таблица (датафрейм) с данными,\n",
        "* день недели,\n",
        "* начальная временная метка в формате 'hh:mm', \n",
        "* последняя временная метка в формате 'hh:mm'.\n",
        "\n",
        "Функция должна вернуть информацию о топ-10 жанров тех треков, которые прослушивали в указанный день, в промежутке между двумя отметками времени."
      ]
    },
    {
      "cell_type": "code",
      "execution_count": null,
      "metadata": {
        "id": "laJT9BYl_Zcu"
      },
      "outputs": [],
      "source": [
        "def genre_weekday(table, day, time1, time2):\n",
        "    genre_df = table[table['day'] == day]\n",
        "    genre_df = genre_df[genre_df['time'] > time1] \n",
        "    genre_df = genre_df[genre_df['time'] < time2]\n",
        "    genre_df_count = genre_df.groupby('genre')['track'].count()\n",
        "    genre_df_sorted = genre_df_count.sort_values(ascending=False)\n",
        "    return genre_df_sorted.head(10)"
      ]
    },
    {
      "cell_type": "markdown",
      "metadata": {
        "id": "la2s2_PF_Zcu"
      },
      "source": [
        "Cравним результаты функции `genre_weekday()` для Москвы и Санкт-Петербурга в понедельник утром (с 7:00 до 11:00) и в пятницу вечером (с 17:00 до 23:00):"
      ]
    },
    {
      "cell_type": "code",
      "execution_count": null,
      "metadata": {
        "id": "yz7itPUQ_Zcu",
        "outputId": "08c28277-cdab-4bff-f86d-abd21fdc97e8"
      },
      "outputs": [
        {
          "data": {
            "text/plain": [
              "genre\n",
              "pop            781\n",
              "dance          549\n",
              "electronic     480\n",
              "rock           474\n",
              "hiphop         286\n",
              "ruspop         186\n",
              "world          181\n",
              "rusrap         175\n",
              "alternative    164\n",
              "unknown        161\n",
              "Name: track, dtype: int64"
            ]
          },
          "execution_count": 70,
          "metadata": {},
          "output_type": "execute_result"
        }
      ],
      "source": [
        "# вызов функции для утра понедельника в Москве (вместо df — таблица moscow_general)\n",
        "\n",
        "genre_weekday(moscow_general, 'Monday', '07:00', '11:00')"
      ]
    },
    {
      "cell_type": "code",
      "execution_count": null,
      "metadata": {
        "id": "kwUcHPdy_Zcu",
        "outputId": "bd989f78-98c6-4cf7-d2ad-509a9c628020"
      },
      "outputs": [
        {
          "data": {
            "text/plain": [
              "genre\n",
              "pop            218\n",
              "dance          182\n",
              "rock           162\n",
              "electronic     147\n",
              "hiphop          80\n",
              "ruspop          64\n",
              "alternative     58\n",
              "rusrap          55\n",
              "jazz            44\n",
              "classical       40\n",
              "Name: track, dtype: int64"
            ]
          },
          "execution_count": 71,
          "metadata": {},
          "output_type": "execute_result"
        }
      ],
      "source": [
        "# вызов функции для утра понедельника в Петербурге (вместо df — таблица spb_general)\n",
        "\n",
        "genre_weekday(spb_general, 'Monday', '07:00', '11:00')"
      ]
    },
    {
      "cell_type": "code",
      "execution_count": null,
      "metadata": {
        "id": "EzXVRE1o_Zcu",
        "outputId": "5ad60777-da99-4138-cbf8-3d1364e3ab29"
      },
      "outputs": [
        {
          "data": {
            "text/plain": [
              "genre\n",
              "pop            713\n",
              "rock           517\n",
              "dance          495\n",
              "electronic     482\n",
              "hiphop         273\n",
              "world          208\n",
              "ruspop         170\n",
              "alternative    163\n",
              "classical      163\n",
              "rusrap         142\n",
              "Name: track, dtype: int64"
            ]
          },
          "execution_count": 72,
          "metadata": {},
          "output_type": "execute_result"
        }
      ],
      "source": [
        "genre_weekday(moscow_general, 'Friday', '17:00', '23:00')   # вызов функции для вечера пятницы в Москве"
      ]
    },
    {
      "cell_type": "code",
      "execution_count": null,
      "metadata": {
        "id": "JZaEKu5v_Zcu",
        "outputId": "e26c6a41-bcd0-4428-e596-06bbd2ea70aa"
      },
      "outputs": [
        {
          "data": {
            "text/plain": [
              "genre\n",
              "pop            256\n",
              "electronic     216\n",
              "rock           216\n",
              "dance          210\n",
              "hiphop          97\n",
              "alternative     63\n",
              "jazz            61\n",
              "classical       60\n",
              "rusrap          59\n",
              "world           54\n",
              "Name: track, dtype: int64"
            ]
          },
          "execution_count": 73,
          "metadata": {},
          "output_type": "execute_result"
        }
      ],
      "source": [
        "genre_weekday(spb_general, 'Friday', '17:00', '23:00') # вызов функции для вечера пятницы в Петербурге"
      ]
    },
    {
      "cell_type": "markdown",
      "metadata": {
        "id": "wrCe4MNX_Zcu"
      },
      "source": [
        "**Выводы**\n",
        "\n",
        "Если сравнить топ-10 жанров в понедельник утром, можно сделать такие выводы:\n",
        "\n",
        "1. В Москве и Петербурге слушают похожую музыку. Единственное отличие — в московский рейтинг вошёл жанр “world”, а в петербургский — джаз и классика.\n",
        "\n",
        "2. В Москве пропущенных значений оказалось так много, что значение `'unknown'` заняло десятое место среди самых популярных жанров. Значит, пропущенные значения занимают существенную долю в данных и угрожают достоверности исследования.\n",
        "\n",
        "Вечер пятницы не меняет эту картину. Некоторые жанры поднимаются немного выше, другие спускаются, но в целом топ-10 остаётся тем же самым.\n",
        "\n",
        "Таким образом, вторая гипотеза подтвердилась лишь частично:\n",
        "* Пользователи слушают похожую музыку в начале недели и в конце.\n",
        "* Разница между Москвой и Петербургом не слишком выражена. В Москве чаще слушают русскую популярную музыку, в Петербурге — джаз.\n",
        "\n",
        "Однако пропуски в данных ставят под сомнение этот результат. В Москве их так много, что рейтинг топ-10 мог бы выглядеть иначе, если бы не утерянные  данные о жанрах."
      ]
    },
    {
      "cell_type": "markdown",
      "metadata": {
        "id": "JolODAqr_Zcu"
      },
      "source": [
        "### Жанровые предпочтения в Москве и Петербурге\n",
        "\n",
        "Гипотеза: Петербург — столица рэпа, музыку этого жанра там слушают чаще, чем в Москве.  А Москва — город контрастов, в котором, тем не менее, преобладает поп-музыка."
      ]
    },
    {
      "cell_type": "markdown",
      "metadata": {
        "id": "DlegSvaT_Zcu"
      },
      "source": [
        "Сгруппируем таблицу `moscow_general` по жанру и посчитаем прослушивания треков каждого жанра методом."
      ]
    },
    {
      "cell_type": "code",
      "execution_count": null,
      "metadata": {
        "id": "r19lIPke_Zcu"
      },
      "outputs": [],
      "source": [
        "moscow_genres = moscow_general.groupby('genre')['track'].count().sort_values(ascending=False)"
      ]
    },
    {
      "cell_type": "markdown",
      "metadata": {
        "id": "6kMuomxTiIr8"
      },
      "source": [
        "Выведем на экран первые десять строк `moscow_genres`:"
      ]
    },
    {
      "cell_type": "code",
      "execution_count": null,
      "metadata": {
        "id": "WhCSooF8_Zcv",
        "outputId": "710ba35c-c45c-4ad1-fcb3-6a2b107f4ca4"
      },
      "outputs": [
        {
          "data": {
            "text/plain": [
              "genre\n",
              "pop            5892\n",
              "dance          4435\n",
              "rock           3965\n",
              "electronic     3786\n",
              "hiphop         2096\n",
              "classical      1616\n",
              "world          1432\n",
              "alternative    1379\n",
              "ruspop         1372\n",
              "rusrap         1161\n",
              "Name: track, dtype: int64"
            ]
          },
          "execution_count": 75,
          "metadata": {},
          "output_type": "execute_result"
        }
      ],
      "source": [
        "moscow_genres.head(10) # просмотр первых 10 строк moscow_genres"
      ]
    },
    {
      "cell_type": "markdown",
      "metadata": {
        "id": "cnPG2vnN_Zcv"
      },
      "source": [
        "Теперь повторим то же и для Петербурга."
      ]
    },
    {
      "cell_type": "code",
      "execution_count": null,
      "metadata": {
        "id": "gluLIpE7_Zcv"
      },
      "outputs": [],
      "source": [
        "spb_genres = spb_general.groupby('genre')['track'].count().sort_values(ascending=False)"
      ]
    },
    {
      "cell_type": "markdown",
      "metadata": {
        "id": "5Doha_ODgyQ8"
      },
      "source": [
        "Выведем на экран первые десять строк `spb_genres`:"
      ]
    },
    {
      "cell_type": "code",
      "execution_count": null,
      "metadata": {
        "id": "uaGJHjVU_Zcv",
        "outputId": "31ba397d-6de9-4d3c-eb7d-da98a063f5c2"
      },
      "outputs": [
        {
          "data": {
            "text/plain": [
              "genre\n",
              "pop            2431\n",
              "dance          1932\n",
              "rock           1879\n",
              "electronic     1736\n",
              "hiphop          960\n",
              "alternative     649\n",
              "classical       646\n",
              "rusrap          564\n",
              "ruspop          538\n",
              "world           515\n",
              "Name: track, dtype: int64"
            ]
          },
          "execution_count": 77,
          "metadata": {},
          "output_type": "execute_result"
        }
      ],
      "source": [
        "spb_genres.head(10) # просмотр первых 10 строк spb_genres"
      ]
    },
    {
      "cell_type": "markdown",
      "metadata": {
        "id": "RY51YJYu_Zcv"
      },
      "source": [
        "**Выводы**"
      ]
    },
    {
      "cell_type": "markdown",
      "metadata": {
        "id": "nVhnJEm__Zcv"
      },
      "source": [
        "Гипотеза частично подтвердилась:\n",
        "* Поп-музыка — самый популярный жанр в Москве, как и предполагала гипотеза. Более того, в топ-10 жанров встречается близкий жанр — русская популярная музыка.\n",
        "* Вопреки ожиданиям, рэп одинаково популярен в Москве и Петербурге. \n"
      ]
    },
    {
      "cell_type": "markdown",
      "metadata": {
        "id": "ykKQ0N65_Zcv"
      },
      "source": [
        "## Итоги исследования"
      ]
    },
    {
      "cell_type": "markdown",
      "metadata": {
        "id": "tjUwbHb3_Zcv"
      },
      "source": [
        "Мы проверили три гипотезы и установили:\n",
        "\n",
        "1. День недели по-разному влияет на активность пользователей в Москве и Петербурге. \n",
        "\n",
        "Первая гипотеза полностью подтвердилась.\n",
        "\n",
        "2. Музыкальные предпочтения не сильно меняются в течение недели — будь то Москва или Петербург. Небольшие различия заметны в начале недели, по понедельникам:\n",
        "* в Москве слушают музыку жанра “world”,\n",
        "* в Петербурге — джаз и классику.\n",
        "\n",
        "Таким образом, вторая гипотеза подтвердилась лишь отчасти. Этот результат мог оказаться иным, если бы не пропуски в данных.\n",
        "\n",
        "3. Во вкусах пользователей Москвы и Петербурга больше общего чем различий. Вопреки ожиданиям, предпочтения жанров в Петербурге напоминают московские.\n",
        "\n",
        "Третья гипотеза не подтвердилась. Если различия в предпочтениях и существуют, на основной массе пользователей они незаметны."
      ]
    }
  ],
  "metadata": {
    "ExecuteTimeLog": [
      {
        "duration": 158,
        "start_time": "2022-03-13T17:55:28.339Z"
      },
      {
        "duration": 518,
        "start_time": "2022-03-13T17:59:25.879Z"
      },
      {
        "duration": 129,
        "start_time": "2022-03-13T17:59:28.888Z"
      },
      {
        "duration": 15,
        "start_time": "2022-03-13T17:59:58.170Z"
      },
      {
        "duration": 10,
        "start_time": "2022-03-13T18:00:32.081Z"
      },
      {
        "duration": 157,
        "start_time": "2022-03-13T18:06:53.371Z"
      },
      {
        "duration": 25,
        "start_time": "2022-03-13T18:07:07.518Z"
      },
      {
        "duration": 25,
        "start_time": "2022-03-13T18:07:24.191Z"
      },
      {
        "duration": 26,
        "start_time": "2022-03-13T18:07:47.413Z"
      },
      {
        "duration": 26,
        "start_time": "2022-03-13T18:08:01.466Z"
      },
      {
        "duration": 24,
        "start_time": "2022-03-13T18:08:11.857Z"
      },
      {
        "duration": 23,
        "start_time": "2022-03-13T18:08:24.087Z"
      },
      {
        "duration": 4,
        "start_time": "2022-03-13T18:16:18.227Z"
      },
      {
        "duration": 20,
        "start_time": "2022-03-13T18:29:36.935Z"
      },
      {
        "duration": 5,
        "start_time": "2022-03-13T18:29:50.322Z"
      },
      {
        "duration": 22,
        "start_time": "2022-03-13T18:32:50.326Z"
      },
      {
        "duration": 123,
        "start_time": "2022-03-13T18:33:05.096Z"
      },
      {
        "duration": 24,
        "start_time": "2022-03-13T18:33:42.099Z"
      },
      {
        "duration": 138,
        "start_time": "2022-03-13T19:22:12.928Z"
      },
      {
        "duration": 19,
        "start_time": "2022-03-13T19:25:30.106Z"
      },
      {
        "duration": 24,
        "start_time": "2022-03-13T19:25:54.768Z"
      },
      {
        "duration": 145,
        "start_time": "2022-03-13T19:28:09.869Z"
      },
      {
        "duration": 56,
        "start_time": "2022-03-13T19:28:23.130Z"
      },
      {
        "duration": 73,
        "start_time": "2022-03-13T19:30:14.484Z"
      },
      {
        "duration": 128,
        "start_time": "2022-03-13T19:30:44.385Z"
      },
      {
        "duration": 121,
        "start_time": "2022-03-13T19:30:50.981Z"
      },
      {
        "duration": 55,
        "start_time": "2022-03-13T19:30:57.965Z"
      },
      {
        "duration": 44,
        "start_time": "2022-03-13T19:38:55.191Z"
      },
      {
        "duration": 4,
        "start_time": "2022-03-13T20:05:07.521Z"
      },
      {
        "duration": 316,
        "start_time": "2022-03-13T20:09:03.581Z"
      },
      {
        "duration": 3,
        "start_time": "2022-03-13T20:09:32.048Z"
      },
      {
        "duration": 329,
        "start_time": "2022-03-13T20:09:35.863Z"
      },
      {
        "duration": 307,
        "start_time": "2022-03-14T06:55:33.155Z"
      },
      {
        "duration": 552,
        "start_time": "2022-03-14T06:58:32.457Z"
      },
      {
        "duration": 130,
        "start_time": "2022-03-14T06:58:33.011Z"
      },
      {
        "duration": 17,
        "start_time": "2022-03-14T06:58:33.143Z"
      },
      {
        "duration": 25,
        "start_time": "2022-03-14T06:58:33.162Z"
      },
      {
        "duration": 4,
        "start_time": "2022-03-14T06:58:33.205Z"
      },
      {
        "duration": 21,
        "start_time": "2022-03-14T06:58:33.211Z"
      },
      {
        "duration": 4,
        "start_time": "2022-03-14T06:58:33.233Z"
      },
      {
        "duration": 25,
        "start_time": "2022-03-14T06:58:33.240Z"
      },
      {
        "duration": 44,
        "start_time": "2022-03-14T06:58:33.268Z"
      },
      {
        "duration": 26,
        "start_time": "2022-03-14T06:58:33.313Z"
      },
      {
        "duration": 65,
        "start_time": "2022-03-14T06:58:33.341Z"
      },
      {
        "duration": 63,
        "start_time": "2022-03-14T06:58:33.408Z"
      },
      {
        "duration": 62,
        "start_time": "2022-03-14T06:58:33.472Z"
      },
      {
        "duration": 38,
        "start_time": "2022-03-14T06:58:33.535Z"
      },
      {
        "duration": 3,
        "start_time": "2022-03-14T06:58:33.575Z"
      },
      {
        "duration": 512,
        "start_time": "2022-03-14T06:58:33.580Z"
      },
      {
        "duration": 1144,
        "start_time": "2022-03-14T06:58:32.950Z"
      },
      {
        "duration": 1136,
        "start_time": "2022-03-14T06:58:32.959Z"
      },
      {
        "duration": 1131,
        "start_time": "2022-03-14T06:58:32.965Z"
      },
      {
        "duration": 1122,
        "start_time": "2022-03-14T06:58:32.974Z"
      },
      {
        "duration": 1116,
        "start_time": "2022-03-14T06:58:32.981Z"
      },
      {
        "duration": 1109,
        "start_time": "2022-03-14T06:58:32.989Z"
      },
      {
        "duration": 1090,
        "start_time": "2022-03-14T06:58:33.009Z"
      },
      {
        "duration": 1081,
        "start_time": "2022-03-14T06:58:33.019Z"
      },
      {
        "duration": 1075,
        "start_time": "2022-03-14T06:58:33.025Z"
      },
      {
        "duration": 1070,
        "start_time": "2022-03-14T06:58:33.031Z"
      },
      {
        "duration": 1055,
        "start_time": "2022-03-14T06:58:33.047Z"
      },
      {
        "duration": 1047,
        "start_time": "2022-03-14T06:58:33.056Z"
      },
      {
        "duration": 1043,
        "start_time": "2022-03-14T06:58:33.061Z"
      },
      {
        "duration": 1038,
        "start_time": "2022-03-14T06:58:33.067Z"
      },
      {
        "duration": 1032,
        "start_time": "2022-03-14T06:58:33.074Z"
      },
      {
        "duration": 1026,
        "start_time": "2022-03-14T06:58:33.080Z"
      },
      {
        "duration": 1017,
        "start_time": "2022-03-14T06:58:33.090Z"
      },
      {
        "duration": 1011,
        "start_time": "2022-03-14T06:58:33.097Z"
      },
      {
        "duration": 1004,
        "start_time": "2022-03-14T06:58:33.104Z"
      },
      {
        "duration": 998,
        "start_time": "2022-03-14T06:58:33.111Z"
      },
      {
        "duration": 994,
        "start_time": "2022-03-14T06:58:33.116Z"
      },
      {
        "duration": 987,
        "start_time": "2022-03-14T06:58:33.123Z"
      },
      {
        "duration": 662,
        "start_time": "2022-03-14T07:10:36.873Z"
      },
      {
        "duration": 245,
        "start_time": "2022-03-14T07:11:46.714Z"
      },
      {
        "duration": 492,
        "start_time": "2022-03-14T07:34:08.318Z"
      },
      {
        "duration": 3,
        "start_time": "2022-03-14T07:36:35.564Z"
      },
      {
        "duration": 678,
        "start_time": "2022-03-14T07:36:38.464Z"
      },
      {
        "duration": 3,
        "start_time": "2022-03-14T07:37:14.885Z"
      },
      {
        "duration": 514,
        "start_time": "2022-03-14T07:37:19.731Z"
      },
      {
        "duration": 3,
        "start_time": "2022-03-14T07:46:43.051Z"
      },
      {
        "duration": 530,
        "start_time": "2022-03-14T07:48:47.845Z"
      },
      {
        "duration": 522,
        "start_time": "2022-03-14T07:50:13.521Z"
      },
      {
        "duration": 3,
        "start_time": "2022-03-14T07:52:01.420Z"
      },
      {
        "duration": 728,
        "start_time": "2022-03-14T07:52:04.836Z"
      },
      {
        "duration": 173,
        "start_time": "2022-03-14T07:56:52.780Z"
      },
      {
        "duration": 3,
        "start_time": "2022-03-14T07:56:59.991Z"
      },
      {
        "duration": 4,
        "start_time": "2022-03-14T07:58:10.404Z"
      },
      {
        "duration": 541,
        "start_time": "2022-03-14T07:58:16.550Z"
      },
      {
        "duration": 496,
        "start_time": "2022-03-14T07:59:42.299Z"
      },
      {
        "duration": 2,
        "start_time": "2022-03-14T08:01:14.036Z"
      },
      {
        "duration": 144,
        "start_time": "2022-03-14T08:01:14.042Z"
      },
      {
        "duration": 23,
        "start_time": "2022-03-14T08:01:14.188Z"
      },
      {
        "duration": 24,
        "start_time": "2022-03-14T08:01:14.214Z"
      },
      {
        "duration": 4,
        "start_time": "2022-03-14T08:01:14.240Z"
      },
      {
        "duration": 25,
        "start_time": "2022-03-14T08:01:14.246Z"
      },
      {
        "duration": 33,
        "start_time": "2022-03-14T08:01:14.273Z"
      },
      {
        "duration": 28,
        "start_time": "2022-03-14T08:01:14.308Z"
      },
      {
        "duration": 19,
        "start_time": "2022-03-14T08:01:14.339Z"
      },
      {
        "duration": 24,
        "start_time": "2022-03-14T08:01:14.360Z"
      },
      {
        "duration": 71,
        "start_time": "2022-03-14T08:01:14.385Z"
      },
      {
        "duration": 75,
        "start_time": "2022-03-14T08:01:14.457Z"
      },
      {
        "duration": 53,
        "start_time": "2022-03-14T08:01:14.533Z"
      },
      {
        "duration": 47,
        "start_time": "2022-03-14T08:01:14.588Z"
      },
      {
        "duration": 3,
        "start_time": "2022-03-14T08:01:14.636Z"
      },
      {
        "duration": 524,
        "start_time": "2022-03-14T08:01:14.641Z"
      },
      {
        "duration": 1292,
        "start_time": "2022-03-14T08:01:13.875Z"
      },
      {
        "duration": 1284,
        "start_time": "2022-03-14T08:01:13.884Z"
      },
      {
        "duration": 1276,
        "start_time": "2022-03-14T08:01:13.893Z"
      },
      {
        "duration": 1270,
        "start_time": "2022-03-14T08:01:13.900Z"
      },
      {
        "duration": 1262,
        "start_time": "2022-03-14T08:01:13.909Z"
      },
      {
        "duration": 1255,
        "start_time": "2022-03-14T08:01:13.916Z"
      },
      {
        "duration": 1247,
        "start_time": "2022-03-14T08:01:13.925Z"
      },
      {
        "duration": 1241,
        "start_time": "2022-03-14T08:01:13.932Z"
      },
      {
        "duration": 1235,
        "start_time": "2022-03-14T08:01:13.939Z"
      },
      {
        "duration": 1227,
        "start_time": "2022-03-14T08:01:13.947Z"
      },
      {
        "duration": 1220,
        "start_time": "2022-03-14T08:01:13.955Z"
      },
      {
        "duration": 1213,
        "start_time": "2022-03-14T08:01:13.963Z"
      },
      {
        "duration": 1182,
        "start_time": "2022-03-14T08:01:13.995Z"
      },
      {
        "duration": 1175,
        "start_time": "2022-03-14T08:01:14.003Z"
      },
      {
        "duration": 1164,
        "start_time": "2022-03-14T08:01:14.015Z"
      },
      {
        "duration": 1158,
        "start_time": "2022-03-14T08:01:14.021Z"
      },
      {
        "duration": 1151,
        "start_time": "2022-03-14T08:01:14.030Z"
      },
      {
        "duration": 1146,
        "start_time": "2022-03-14T08:01:14.036Z"
      },
      {
        "duration": 1140,
        "start_time": "2022-03-14T08:01:14.043Z"
      },
      {
        "duration": 1133,
        "start_time": "2022-03-14T08:01:14.051Z"
      },
      {
        "duration": 1127,
        "start_time": "2022-03-14T08:01:14.058Z"
      },
      {
        "duration": 1124,
        "start_time": "2022-03-14T08:01:14.063Z"
      },
      {
        "duration": 2,
        "start_time": "2022-03-14T08:01:48.386Z"
      },
      {
        "duration": 10,
        "start_time": "2022-03-14T08:01:50.081Z"
      },
      {
        "duration": 371,
        "start_time": "2022-03-14T08:03:15.292Z"
      },
      {
        "duration": 81,
        "start_time": "2022-03-14T08:03:17.804Z"
      },
      {
        "duration": 3,
        "start_time": "2022-03-14T08:03:29.724Z"
      },
      {
        "duration": 548,
        "start_time": "2022-03-14T08:03:32.229Z"
      },
      {
        "duration": 3,
        "start_time": "2022-03-14T08:03:45.600Z"
      },
      {
        "duration": 498,
        "start_time": "2022-03-14T08:03:48.045Z"
      },
      {
        "duration": 3,
        "start_time": "2022-03-14T08:04:26.930Z"
      },
      {
        "duration": 10,
        "start_time": "2022-03-14T08:04:29.191Z"
      },
      {
        "duration": 40,
        "start_time": "2022-03-14T08:04:33.035Z"
      },
      {
        "duration": 11,
        "start_time": "2022-03-14T08:30:27.829Z"
      },
      {
        "duration": 11,
        "start_time": "2022-03-14T08:31:40.485Z"
      },
      {
        "duration": 268,
        "start_time": "2022-03-14T08:59:30.194Z"
      },
      {
        "duration": 279,
        "start_time": "2022-03-14T08:59:43.020Z"
      },
      {
        "duration": 3,
        "start_time": "2022-03-14T09:00:00.243Z"
      },
      {
        "duration": 284,
        "start_time": "2022-03-14T09:00:02.773Z"
      },
      {
        "duration": 1426,
        "start_time": "2022-03-14T09:00:22.420Z"
      },
      {
        "duration": 6651,
        "start_time": "2022-03-14T09:00:31.557Z"
      },
      {
        "duration": 1419,
        "start_time": "2022-03-14T09:01:42.218Z"
      },
      {
        "duration": 6489,
        "start_time": "2022-03-14T09:26:27.465Z"
      },
      {
        "duration": 6594,
        "start_time": "2022-03-14T09:28:10.454Z"
      },
      {
        "duration": 3,
        "start_time": "2022-03-14T10:15:36.709Z"
      },
      {
        "duration": 521,
        "start_time": "2022-03-14T10:15:40.683Z"
      },
      {
        "duration": 3,
        "start_time": "2022-03-14T10:16:17.825Z"
      },
      {
        "duration": 15,
        "start_time": "2022-03-14T10:16:21.442Z"
      },
      {
        "duration": 14,
        "start_time": "2022-03-14T10:18:13.200Z"
      },
      {
        "duration": 15,
        "start_time": "2022-03-14T10:18:52.169Z"
      },
      {
        "duration": 13,
        "start_time": "2022-03-14T10:19:26.492Z"
      },
      {
        "duration": 14,
        "start_time": "2022-03-14T10:19:50.912Z"
      },
      {
        "duration": 14,
        "start_time": "2022-03-14T10:20:01.600Z"
      },
      {
        "duration": 14,
        "start_time": "2022-03-14T10:20:13.253Z"
      },
      {
        "duration": 243,
        "start_time": "2022-03-14T10:22:26.512Z"
      },
      {
        "duration": 254,
        "start_time": "2022-03-14T10:23:12.167Z"
      },
      {
        "duration": 248,
        "start_time": "2022-03-14T10:39:21.223Z"
      },
      {
        "duration": 7,
        "start_time": "2022-03-14T10:39:37.091Z"
      },
      {
        "duration": 9,
        "start_time": "2022-03-14T10:44:03.342Z"
      },
      {
        "duration": 11,
        "start_time": "2022-03-14T10:44:36.583Z"
      },
      {
        "duration": 19,
        "start_time": "2022-03-14T11:34:53.574Z"
      },
      {
        "duration": 17,
        "start_time": "2022-03-14T11:35:58.590Z"
      },
      {
        "duration": 17,
        "start_time": "2022-03-14T11:36:50.983Z"
      },
      {
        "duration": 12,
        "start_time": "2022-03-14T11:37:25.747Z"
      },
      {
        "duration": 324,
        "start_time": "2022-03-14T11:38:20.327Z"
      },
      {
        "duration": 284,
        "start_time": "2022-03-14T11:38:51.129Z"
      },
      {
        "duration": 22,
        "start_time": "2022-03-14T11:39:22.354Z"
      },
      {
        "duration": 706,
        "start_time": "2022-03-14T11:40:28.632Z"
      },
      {
        "duration": 382,
        "start_time": "2022-03-14T11:40:37.924Z"
      },
      {
        "duration": 18,
        "start_time": "2022-03-14T11:40:41.474Z"
      },
      {
        "duration": 13,
        "start_time": "2022-03-14T11:41:00.112Z"
      },
      {
        "duration": 12,
        "start_time": "2022-03-14T11:45:05.732Z"
      },
      {
        "duration": 16,
        "start_time": "2022-03-14T11:46:06.762Z"
      },
      {
        "duration": 11,
        "start_time": "2022-03-14T11:46:26.573Z"
      },
      {
        "duration": 12,
        "start_time": "2022-03-14T11:47:01.957Z"
      },
      {
        "duration": 12,
        "start_time": "2022-03-14T11:47:09.675Z"
      },
      {
        "duration": 17,
        "start_time": "2022-03-14T11:49:37.419Z"
      },
      {
        "duration": 12,
        "start_time": "2022-03-14T11:50:10.119Z"
      },
      {
        "duration": 12,
        "start_time": "2022-03-14T11:50:29.156Z"
      },
      {
        "duration": 254,
        "start_time": "2022-03-14T11:51:17.284Z"
      },
      {
        "duration": 17,
        "start_time": "2022-03-14T11:51:29.719Z"
      },
      {
        "duration": 13,
        "start_time": "2022-03-14T12:05:14.752Z"
      },
      {
        "duration": 266,
        "start_time": "2022-03-14T12:09:06.405Z"
      },
      {
        "duration": 8,
        "start_time": "2022-03-14T12:09:18.443Z"
      },
      {
        "duration": 8,
        "start_time": "2022-03-14T12:10:17.511Z"
      },
      {
        "duration": 253,
        "start_time": "2022-03-14T12:11:01.573Z"
      },
      {
        "duration": 8,
        "start_time": "2022-03-14T12:11:29.500Z"
      },
      {
        "duration": 9,
        "start_time": "2022-03-14T12:12:03.956Z"
      },
      {
        "duration": 260,
        "start_time": "2022-03-14T12:12:06.389Z"
      },
      {
        "duration": 8,
        "start_time": "2022-03-14T12:12:48.089Z"
      },
      {
        "duration": 264,
        "start_time": "2022-03-14T12:12:53.552Z"
      },
      {
        "duration": 11,
        "start_time": "2022-03-14T12:13:11.225Z"
      },
      {
        "duration": 12,
        "start_time": "2022-03-14T12:15:52.394Z"
      },
      {
        "duration": 10,
        "start_time": "2022-03-14T12:16:26.210Z"
      },
      {
        "duration": 386,
        "start_time": "2022-03-14T12:16:52.443Z"
      },
      {
        "duration": 645,
        "start_time": "2022-03-14T12:17:05.797Z"
      },
      {
        "duration": 524,
        "start_time": "2022-03-14T12:18:06.384Z"
      },
      {
        "duration": 435,
        "start_time": "2022-03-14T12:23:10.779Z"
      },
      {
        "duration": 371,
        "start_time": "2022-03-14T12:26:26.218Z"
      },
      {
        "duration": 375,
        "start_time": "2022-03-14T12:26:43.430Z"
      },
      {
        "duration": 269,
        "start_time": "2022-03-14T12:27:01.427Z"
      },
      {
        "duration": 8,
        "start_time": "2022-03-14T12:46:50.441Z"
      },
      {
        "duration": 9,
        "start_time": "2022-03-14T12:47:29.428Z"
      },
      {
        "duration": 282,
        "start_time": "2022-03-14T12:48:04.523Z"
      },
      {
        "duration": 264,
        "start_time": "2022-03-14T12:48:32.939Z"
      },
      {
        "duration": 253,
        "start_time": "2022-03-14T12:48:57.393Z"
      },
      {
        "duration": 9,
        "start_time": "2022-03-14T12:49:19.590Z"
      },
      {
        "duration": 12,
        "start_time": "2022-03-14T12:50:23.302Z"
      },
      {
        "duration": 9,
        "start_time": "2022-03-14T12:50:42.288Z"
      },
      {
        "duration": 11,
        "start_time": "2022-03-14T12:51:46.151Z"
      },
      {
        "duration": 9,
        "start_time": "2022-03-14T12:52:02.146Z"
      },
      {
        "duration": 10,
        "start_time": "2022-03-14T12:52:05.067Z"
      },
      {
        "duration": 4,
        "start_time": "2022-03-14T12:52:40.569Z"
      },
      {
        "duration": 6,
        "start_time": "2022-03-14T12:54:23.724Z"
      },
      {
        "duration": 3,
        "start_time": "2022-03-14T12:54:48.290Z"
      },
      {
        "duration": 565,
        "start_time": "2022-03-21T18:48:46.568Z"
      },
      {
        "duration": 217,
        "start_time": "2022-03-21T18:48:47.136Z"
      },
      {
        "duration": 39,
        "start_time": "2022-03-21T18:48:47.356Z"
      },
      {
        "duration": 38,
        "start_time": "2022-03-21T18:48:47.398Z"
      },
      {
        "duration": 6,
        "start_time": "2022-03-21T18:48:47.440Z"
      },
      {
        "duration": 51,
        "start_time": "2022-03-21T18:48:47.449Z"
      },
      {
        "duration": 27,
        "start_time": "2022-03-21T18:48:47.502Z"
      },
      {
        "duration": 67,
        "start_time": "2022-03-21T18:48:47.531Z"
      },
      {
        "duration": 37,
        "start_time": "2022-03-21T18:48:47.601Z"
      },
      {
        "duration": 40,
        "start_time": "2022-03-21T18:48:47.641Z"
      },
      {
        "duration": 115,
        "start_time": "2022-03-21T18:48:47.683Z"
      },
      {
        "duration": 127,
        "start_time": "2022-03-21T18:48:47.801Z"
      },
      {
        "duration": 103,
        "start_time": "2022-03-21T18:48:47.931Z"
      },
      {
        "duration": 62,
        "start_time": "2022-03-21T18:48:48.039Z"
      },
      {
        "duration": 6,
        "start_time": "2022-03-21T18:48:48.103Z"
      },
      {
        "duration": 34,
        "start_time": "2022-03-21T18:48:48.112Z"
      },
      {
        "duration": 62,
        "start_time": "2022-03-21T18:48:48.149Z"
      },
      {
        "duration": 26,
        "start_time": "2022-03-21T18:48:48.213Z"
      },
      {
        "duration": 49,
        "start_time": "2022-03-21T18:48:48.242Z"
      },
      {
        "duration": 5,
        "start_time": "2022-03-21T18:48:48.294Z"
      },
      {
        "duration": 41,
        "start_time": "2022-03-21T18:48:48.302Z"
      },
      {
        "duration": 22,
        "start_time": "2022-03-21T18:48:48.346Z"
      },
      {
        "duration": 21,
        "start_time": "2022-03-21T18:48:48.383Z"
      },
      {
        "duration": 22,
        "start_time": "2022-03-21T18:48:48.406Z"
      },
      {
        "duration": 30,
        "start_time": "2022-03-21T18:48:48.430Z"
      },
      {
        "duration": 30,
        "start_time": "2022-03-21T18:48:48.485Z"
      },
      {
        "duration": 14,
        "start_time": "2022-03-21T18:48:48.517Z"
      },
      {
        "duration": 78,
        "start_time": "2022-03-21T18:48:48.533Z"
      },
      {
        "duration": 37,
        "start_time": "2022-03-21T18:48:48.613Z"
      },
      {
        "duration": 31,
        "start_time": "2022-03-21T18:48:48.653Z"
      },
      {
        "duration": 29,
        "start_time": "2022-03-21T18:48:48.686Z"
      },
      {
        "duration": 28,
        "start_time": "2022-03-21T18:48:48.717Z"
      },
      {
        "duration": 48,
        "start_time": "2022-03-21T18:48:48.748Z"
      },
      {
        "duration": 16,
        "start_time": "2022-03-21T18:48:48.798Z"
      },
      {
        "duration": 20,
        "start_time": "2022-03-21T18:48:48.817Z"
      },
      {
        "duration": 16,
        "start_time": "2022-03-21T18:48:48.840Z"
      },
      {
        "duration": 30,
        "start_time": "2022-03-21T18:48:48.858Z"
      },
      {
        "duration": 22,
        "start_time": "2022-03-21T18:48:48.891Z"
      },
      {
        "duration": 56,
        "start_time": "2022-03-23T18:30:05.400Z"
      },
      {
        "duration": 493,
        "start_time": "2022-03-23T18:30:20.910Z"
      },
      {
        "duration": 175,
        "start_time": "2022-03-23T18:30:21.405Z"
      },
      {
        "duration": 19,
        "start_time": "2022-03-23T18:30:21.581Z"
      },
      {
        "duration": 39,
        "start_time": "2022-03-23T18:30:21.602Z"
      },
      {
        "duration": 5,
        "start_time": "2022-03-23T18:30:21.642Z"
      },
      {
        "duration": 16,
        "start_time": "2022-03-23T18:30:21.649Z"
      },
      {
        "duration": 9,
        "start_time": "2022-03-23T18:30:21.666Z"
      },
      {
        "duration": 31,
        "start_time": "2022-03-23T18:30:21.677Z"
      },
      {
        "duration": 21,
        "start_time": "2022-03-23T18:30:21.732Z"
      },
      {
        "duration": 27,
        "start_time": "2022-03-23T18:30:21.756Z"
      },
      {
        "duration": 95,
        "start_time": "2022-03-23T18:30:21.785Z"
      },
      {
        "duration": 104,
        "start_time": "2022-03-23T18:30:21.882Z"
      },
      {
        "duration": 73,
        "start_time": "2022-03-23T18:30:21.988Z"
      },
      {
        "duration": 43,
        "start_time": "2022-03-23T18:30:22.062Z"
      },
      {
        "duration": 3,
        "start_time": "2022-03-23T18:30:22.106Z"
      },
      {
        "duration": 26,
        "start_time": "2022-03-23T18:30:22.111Z"
      },
      {
        "duration": 44,
        "start_time": "2022-03-23T18:30:22.139Z"
      },
      {
        "duration": 14,
        "start_time": "2022-03-23T18:30:22.184Z"
      },
      {
        "duration": 39,
        "start_time": "2022-03-23T18:30:22.200Z"
      },
      {
        "duration": 4,
        "start_time": "2022-03-23T18:30:22.240Z"
      },
      {
        "duration": 25,
        "start_time": "2022-03-23T18:30:22.245Z"
      },
      {
        "duration": 17,
        "start_time": "2022-03-23T18:30:22.272Z"
      },
      {
        "duration": 42,
        "start_time": "2022-03-23T18:30:22.291Z"
      },
      {
        "duration": 16,
        "start_time": "2022-03-23T18:30:22.334Z"
      },
      {
        "duration": 19,
        "start_time": "2022-03-23T18:30:22.352Z"
      },
      {
        "duration": 16,
        "start_time": "2022-03-23T18:30:22.373Z"
      },
      {
        "duration": 9,
        "start_time": "2022-03-23T18:30:22.391Z"
      },
      {
        "duration": 23,
        "start_time": "2022-03-23T18:30:22.431Z"
      },
      {
        "duration": 19,
        "start_time": "2022-03-23T18:30:22.456Z"
      },
      {
        "duration": 4,
        "start_time": "2022-03-23T18:30:22.477Z"
      },
      {
        "duration": 54,
        "start_time": "2022-03-23T18:30:22.483Z"
      },
      {
        "duration": 15,
        "start_time": "2022-03-23T18:30:22.538Z"
      },
      {
        "duration": 19,
        "start_time": "2022-03-23T18:30:22.554Z"
      },
      {
        "duration": 13,
        "start_time": "2022-03-23T18:30:22.575Z"
      },
      {
        "duration": 10,
        "start_time": "2022-03-23T18:30:22.589Z"
      },
      {
        "duration": 4,
        "start_time": "2022-03-23T18:30:22.632Z"
      },
      {
        "duration": 13,
        "start_time": "2022-03-23T18:30:22.638Z"
      },
      {
        "duration": 4,
        "start_time": "2022-03-23T18:30:22.653Z"
      },
      {
        "duration": 3,
        "start_time": "2022-03-23T18:32:21.104Z"
      },
      {
        "duration": 194,
        "start_time": "2022-03-23T18:32:21.110Z"
      },
      {
        "duration": 27,
        "start_time": "2022-03-23T18:32:21.306Z"
      },
      {
        "duration": 39,
        "start_time": "2022-03-23T18:32:21.334Z"
      },
      {
        "duration": 5,
        "start_time": "2022-03-23T18:32:21.376Z"
      },
      {
        "duration": 13,
        "start_time": "2022-03-23T18:32:21.382Z"
      },
      {
        "duration": 4,
        "start_time": "2022-03-23T18:32:21.397Z"
      },
      {
        "duration": 28,
        "start_time": "2022-03-23T18:32:21.431Z"
      },
      {
        "duration": 23,
        "start_time": "2022-03-23T18:32:21.461Z"
      },
      {
        "duration": 50,
        "start_time": "2022-03-23T18:32:21.485Z"
      },
      {
        "duration": 69,
        "start_time": "2022-03-23T18:32:21.537Z"
      },
      {
        "duration": 95,
        "start_time": "2022-03-23T18:32:21.608Z"
      },
      {
        "duration": 72,
        "start_time": "2022-03-23T18:32:21.705Z"
      },
      {
        "duration": 50,
        "start_time": "2022-03-23T18:32:21.781Z"
      },
      {
        "duration": 3,
        "start_time": "2022-03-23T18:32:21.833Z"
      },
      {
        "duration": 13,
        "start_time": "2022-03-23T18:32:21.838Z"
      },
      {
        "duration": 46,
        "start_time": "2022-03-23T18:32:21.853Z"
      },
      {
        "duration": 36,
        "start_time": "2022-03-23T18:32:21.902Z"
      },
      {
        "duration": 16,
        "start_time": "2022-03-23T18:32:21.939Z"
      },
      {
        "duration": 6,
        "start_time": "2022-03-23T18:32:21.957Z"
      },
      {
        "duration": 35,
        "start_time": "2022-03-23T18:32:21.965Z"
      },
      {
        "duration": 31,
        "start_time": "2022-03-23T18:32:22.002Z"
      },
      {
        "duration": 16,
        "start_time": "2022-03-23T18:32:22.035Z"
      },
      {
        "duration": 15,
        "start_time": "2022-03-23T18:32:22.053Z"
      },
      {
        "duration": 18,
        "start_time": "2022-03-23T18:32:22.070Z"
      },
      {
        "duration": 49,
        "start_time": "2022-03-23T18:32:22.090Z"
      },
      {
        "duration": 8,
        "start_time": "2022-03-23T18:32:22.141Z"
      },
      {
        "duration": 29,
        "start_time": "2022-03-23T18:32:22.151Z"
      },
      {
        "duration": 23,
        "start_time": "2022-03-23T18:32:22.182Z"
      },
      {
        "duration": 5,
        "start_time": "2022-03-23T18:32:22.232Z"
      },
      {
        "duration": 30,
        "start_time": "2022-03-23T18:32:22.239Z"
      },
      {
        "duration": 13,
        "start_time": "2022-03-23T18:32:22.271Z"
      },
      {
        "duration": 18,
        "start_time": "2022-03-23T18:32:22.286Z"
      },
      {
        "duration": 34,
        "start_time": "2022-03-23T18:32:22.306Z"
      },
      {
        "duration": 10,
        "start_time": "2022-03-23T18:32:22.342Z"
      },
      {
        "duration": 5,
        "start_time": "2022-03-23T18:32:22.354Z"
      },
      {
        "duration": 11,
        "start_time": "2022-03-23T18:32:22.361Z"
      },
      {
        "duration": 5,
        "start_time": "2022-03-23T18:32:22.373Z"
      }
    ],
    "colab": {
      "collapsed_sections": [
        "E0vqbgi9ay0H"
      ],
      "provenance": []
    },
    "kernelspec": {
      "display_name": "Python 3 (ipykernel)",
      "language": "python",
      "name": "python3"
    },
    "language_info": {
      "codemirror_mode": {
        "name": "ipython",
        "version": 3
      },
      "file_extension": ".py",
      "mimetype": "text/x-python",
      "name": "python",
      "nbconvert_exporter": "python",
      "pygments_lexer": "ipython3",
      "version": "3.9.7"
    },
    "toc": {
      "base_numbering": 1,
      "nav_menu": {},
      "number_sections": true,
      "sideBar": true,
      "skip_h1_title": true,
      "title_cell": "Table of Contents",
      "title_sidebar": "Contents",
      "toc_cell": false,
      "toc_position": {},
      "toc_section_display": true,
      "toc_window_display": true
    }
  },
  "nbformat": 4,
  "nbformat_minor": 0
}