{
  "cells": [
    {
      "cell_type": "markdown",
      "metadata": {
        "id": "fyF6BTZDmQH5"
      },
      "source": [
        "# Отток клиентов"
      ]
    },
    {
      "cell_type": "markdown",
      "metadata": {
        "id": "6t_JmViPmQH7"
      },
      "source": [
        "Из «Бета-Банка» стали уходить клиенты. Каждый месяц. Немного, но заметно. Банковские маркетологи посчитали: сохранять текущих клиентов дешевле, чем привлекать новых.\n",
        "\n",
        "Нужно спрогнозировать, уйдёт клиент из банка в ближайшее время или нет. Вам предоставлены исторические данные о поведении клиентов и расторжении договоров с банком. \n",
        "\n",
        "Постройте модель с предельно большим значением *F1*-меры. Чтобы сдать проект успешно, нужно довести метрику до 0.59. Проверьте *F1*-меру на тестовой выборке самостоятельно.\n",
        "\n",
        "Дополнительно измеряйте *AUC-ROC*, сравнивайте её значение с *F1*-мерой.\n",
        "\n",
        "Источник данных: [https://www.kaggle.com/barelydedicated/bank-customer-churn-modeling](https://www.kaggle.com/barelydedicated/bank-customer-churn-modeling)"
      ]
    },
    {
      "cell_type": "markdown",
      "metadata": {
        "id": "mYOx9NTfmQH8"
      },
      "source": [
        "# Признаки\n",
        "\n",
        "- RowNumber — индекс строки в данных\n",
        "- CustomerId — уникальный идентификатор клиента\n",
        "- Surname — фамилия\n",
        "- CreditScore — кредитный рейтинг\n",
        "- Geography — страна проживания\n",
        "- Gender — пол\n",
        "- Age — возраст\n",
        "- Tenure — сколько лет человек является клиентом банка\n",
        "- Balance — баланс на счёте\n",
        "- NumOfProducts — количество продуктов банка, используемых клиентом\n",
        "- HasCrCard — наличие кредитной карты\n",
        "- IsActiveMember — активность клиента\n",
        "- EstimatedSalary — предполагаемая зарплата\n",
        "\n",
        "# Целевой признак\n",
        "\n",
        "Exited — факт ухода клиента"
      ]
    },
    {
      "cell_type": "markdown",
      "metadata": {
        "id": "UK8ELL-mmQH-"
      },
      "source": [
        "## Подготовка данных"
      ]
    },
    {
      "cell_type": "markdown",
      "metadata": {
        "id": "QeIygpm6mQH_"
      },
      "source": [
        "Загружаем необходимые библиотеки"
      ]
    },
    {
      "cell_type": "code",
      "execution_count": null,
      "metadata": {
        "id": "O1B44odZmQIB"
      },
      "outputs": [],
      "source": [
        "import pandas as pd\n",
        "import matplotlib.pyplot as plt\n",
        "import seaborn as sns\n",
        "from sklearn.tree import DecisionTreeClassifier\n",
        "from sklearn.ensemble import RandomForestClassifier\n",
        "from sklearn.preprocessing import StandardScaler\n",
        "from sklearn.model_selection import train_test_split\n",
        "from sklearn.metrics import f1_score, precision_score, recall_score, precision_recall_curve, roc_auc_score\n",
        "from sklearn.linear_model import LogisticRegression\n",
        "from sklearn.utils import shuffle\n",
        "import numpy as np"
      ]
    },
    {
      "cell_type": "markdown",
      "metadata": {
        "id": "70mIp0EomQIG"
      },
      "source": [
        "### Чтение и изучение данных"
      ]
    },
    {
      "cell_type": "code",
      "execution_count": null,
      "metadata": {
        "scrolled": true,
        "id": "ZKVO1exDmQIH",
        "outputId": "cc5c8990-640f-47d0-c465-226b62bcb4b6"
      },
      "outputs": [
        {
          "data": {
            "text/html": [
              "<div>\n",
              "<style scoped>\n",
              "    .dataframe tbody tr th:only-of-type {\n",
              "        vertical-align: middle;\n",
              "    }\n",
              "\n",
              "    .dataframe tbody tr th {\n",
              "        vertical-align: top;\n",
              "    }\n",
              "\n",
              "    .dataframe thead th {\n",
              "        text-align: right;\n",
              "    }\n",
              "</style>\n",
              "<table border=\"1\" class=\"dataframe\">\n",
              "  <thead>\n",
              "    <tr style=\"text-align: right;\">\n",
              "      <th></th>\n",
              "      <th>RowNumber</th>\n",
              "      <th>CustomerId</th>\n",
              "      <th>Surname</th>\n",
              "      <th>CreditScore</th>\n",
              "      <th>Geography</th>\n",
              "      <th>Gender</th>\n",
              "      <th>Age</th>\n",
              "      <th>Tenure</th>\n",
              "      <th>Balance</th>\n",
              "      <th>NumOfProducts</th>\n",
              "      <th>HasCrCard</th>\n",
              "      <th>IsActiveMember</th>\n",
              "      <th>EstimatedSalary</th>\n",
              "      <th>Exited</th>\n",
              "    </tr>\n",
              "  </thead>\n",
              "  <tbody>\n",
              "    <tr>\n",
              "      <th>0</th>\n",
              "      <td>1</td>\n",
              "      <td>15634602</td>\n",
              "      <td>Hargrave</td>\n",
              "      <td>619</td>\n",
              "      <td>France</td>\n",
              "      <td>Female</td>\n",
              "      <td>42</td>\n",
              "      <td>2.0</td>\n",
              "      <td>0.00</td>\n",
              "      <td>1</td>\n",
              "      <td>1</td>\n",
              "      <td>1</td>\n",
              "      <td>101348.88</td>\n",
              "      <td>1</td>\n",
              "    </tr>\n",
              "    <tr>\n",
              "      <th>1</th>\n",
              "      <td>2</td>\n",
              "      <td>15647311</td>\n",
              "      <td>Hill</td>\n",
              "      <td>608</td>\n",
              "      <td>Spain</td>\n",
              "      <td>Female</td>\n",
              "      <td>41</td>\n",
              "      <td>1.0</td>\n",
              "      <td>83807.86</td>\n",
              "      <td>1</td>\n",
              "      <td>0</td>\n",
              "      <td>1</td>\n",
              "      <td>112542.58</td>\n",
              "      <td>0</td>\n",
              "    </tr>\n",
              "    <tr>\n",
              "      <th>2</th>\n",
              "      <td>3</td>\n",
              "      <td>15619304</td>\n",
              "      <td>Onio</td>\n",
              "      <td>502</td>\n",
              "      <td>France</td>\n",
              "      <td>Female</td>\n",
              "      <td>42</td>\n",
              "      <td>8.0</td>\n",
              "      <td>159660.80</td>\n",
              "      <td>3</td>\n",
              "      <td>1</td>\n",
              "      <td>0</td>\n",
              "      <td>113931.57</td>\n",
              "      <td>1</td>\n",
              "    </tr>\n",
              "    <tr>\n",
              "      <th>3</th>\n",
              "      <td>4</td>\n",
              "      <td>15701354</td>\n",
              "      <td>Boni</td>\n",
              "      <td>699</td>\n",
              "      <td>France</td>\n",
              "      <td>Female</td>\n",
              "      <td>39</td>\n",
              "      <td>1.0</td>\n",
              "      <td>0.00</td>\n",
              "      <td>2</td>\n",
              "      <td>0</td>\n",
              "      <td>0</td>\n",
              "      <td>93826.63</td>\n",
              "      <td>0</td>\n",
              "    </tr>\n",
              "    <tr>\n",
              "      <th>4</th>\n",
              "      <td>5</td>\n",
              "      <td>15737888</td>\n",
              "      <td>Mitchell</td>\n",
              "      <td>850</td>\n",
              "      <td>Spain</td>\n",
              "      <td>Female</td>\n",
              "      <td>43</td>\n",
              "      <td>2.0</td>\n",
              "      <td>125510.82</td>\n",
              "      <td>1</td>\n",
              "      <td>1</td>\n",
              "      <td>1</td>\n",
              "      <td>79084.10</td>\n",
              "      <td>0</td>\n",
              "    </tr>\n",
              "  </tbody>\n",
              "</table>\n",
              "</div>"
            ],
            "text/plain": [
              "   RowNumber  CustomerId   Surname  CreditScore Geography  Gender  Age  \\\n",
              "0          1    15634602  Hargrave          619    France  Female   42   \n",
              "1          2    15647311      Hill          608     Spain  Female   41   \n",
              "2          3    15619304      Onio          502    France  Female   42   \n",
              "3          4    15701354      Boni          699    France  Female   39   \n",
              "4          5    15737888  Mitchell          850     Spain  Female   43   \n",
              "\n",
              "   Tenure    Balance  NumOfProducts  HasCrCard  IsActiveMember  \\\n",
              "0     2.0       0.00              1          1               1   \n",
              "1     1.0   83807.86              1          0               1   \n",
              "2     8.0  159660.80              3          1               0   \n",
              "3     1.0       0.00              2          0               0   \n",
              "4     2.0  125510.82              1          1               1   \n",
              "\n",
              "   EstimatedSalary  Exited  \n",
              "0        101348.88       1  \n",
              "1        112542.58       0  \n",
              "2        113931.57       1  \n",
              "3         93826.63       0  \n",
              "4         79084.10       0  "
            ]
          },
          "execution_count": 26,
          "metadata": {},
          "output_type": "execute_result"
        }
      ],
      "source": [
        "df = pd.read_csv('/datasets/Churn.csv')\n",
        "df.head()"
      ]
    },
    {
      "cell_type": "code",
      "execution_count": null,
      "metadata": {
        "id": "x56ispNsmQIJ",
        "outputId": "aea58023-00d2-4d74-b9e3-fba93963f16e"
      },
      "outputs": [
        {
          "name": "stdout",
          "output_type": "stream",
          "text": [
            "<class 'pandas.core.frame.DataFrame'>\n",
            "RangeIndex: 10000 entries, 0 to 9999\n",
            "Data columns (total 14 columns):\n",
            " #   Column           Non-Null Count  Dtype  \n",
            "---  ------           --------------  -----  \n",
            " 0   RowNumber        10000 non-null  int64  \n",
            " 1   CustomerId       10000 non-null  int64  \n",
            " 2   Surname          10000 non-null  object \n",
            " 3   CreditScore      10000 non-null  int64  \n",
            " 4   Geography        10000 non-null  object \n",
            " 5   Gender           10000 non-null  object \n",
            " 6   Age              10000 non-null  int64  \n",
            " 7   Tenure           9091 non-null   float64\n",
            " 8   Balance          10000 non-null  float64\n",
            " 9   NumOfProducts    10000 non-null  int64  \n",
            " 10  HasCrCard        10000 non-null  int64  \n",
            " 11  IsActiveMember   10000 non-null  int64  \n",
            " 12  EstimatedSalary  10000 non-null  float64\n",
            " 13  Exited           10000 non-null  int64  \n",
            "dtypes: float64(3), int64(8), object(3)\n",
            "memory usage: 1.1+ MB\n"
          ]
        }
      ],
      "source": [
        "df.info()"
      ]
    },
    {
      "cell_type": "markdown",
      "metadata": {
        "id": "xSXhw6IsmQIK"
      },
      "source": [
        "Датасет состоит из 13 столбцов, и 10000 строк. В столбце 'Tenure' есть пропуски. Ниже необходимо будет заполнить пропуски, потому что модели машинного обучения не работают с пропусками."
      ]
    },
    {
      "cell_type": "markdown",
      "metadata": {
        "id": "ElFjoAdOmQIL"
      },
      "source": [
        "Для обучения модели столбцы RowNumber, CustomerId и Surname не нужны, поэтому удалим их, чтобы лишние данные не путали модель."
      ]
    },
    {
      "cell_type": "code",
      "execution_count": null,
      "metadata": {
        "id": "EdmfPvtDmQIM",
        "outputId": "0afc3df0-0bed-482d-de96-483de52bdc8e"
      },
      "outputs": [
        {
          "data": {
            "text/html": [
              "<div>\n",
              "<style scoped>\n",
              "    .dataframe tbody tr th:only-of-type {\n",
              "        vertical-align: middle;\n",
              "    }\n",
              "\n",
              "    .dataframe tbody tr th {\n",
              "        vertical-align: top;\n",
              "    }\n",
              "\n",
              "    .dataframe thead th {\n",
              "        text-align: right;\n",
              "    }\n",
              "</style>\n",
              "<table border=\"1\" class=\"dataframe\">\n",
              "  <thead>\n",
              "    <tr style=\"text-align: right;\">\n",
              "      <th></th>\n",
              "      <th>CreditScore</th>\n",
              "      <th>Geography</th>\n",
              "      <th>Gender</th>\n",
              "      <th>Age</th>\n",
              "      <th>Tenure</th>\n",
              "      <th>Balance</th>\n",
              "      <th>NumOfProducts</th>\n",
              "      <th>HasCrCard</th>\n",
              "      <th>IsActiveMember</th>\n",
              "      <th>EstimatedSalary</th>\n",
              "      <th>Exited</th>\n",
              "    </tr>\n",
              "  </thead>\n",
              "  <tbody>\n",
              "    <tr>\n",
              "      <th>0</th>\n",
              "      <td>619</td>\n",
              "      <td>France</td>\n",
              "      <td>Female</td>\n",
              "      <td>42</td>\n",
              "      <td>2.0</td>\n",
              "      <td>0.00</td>\n",
              "      <td>1</td>\n",
              "      <td>1</td>\n",
              "      <td>1</td>\n",
              "      <td>101348.88</td>\n",
              "      <td>1</td>\n",
              "    </tr>\n",
              "    <tr>\n",
              "      <th>1</th>\n",
              "      <td>608</td>\n",
              "      <td>Spain</td>\n",
              "      <td>Female</td>\n",
              "      <td>41</td>\n",
              "      <td>1.0</td>\n",
              "      <td>83807.86</td>\n",
              "      <td>1</td>\n",
              "      <td>0</td>\n",
              "      <td>1</td>\n",
              "      <td>112542.58</td>\n",
              "      <td>0</td>\n",
              "    </tr>\n",
              "    <tr>\n",
              "      <th>2</th>\n",
              "      <td>502</td>\n",
              "      <td>France</td>\n",
              "      <td>Female</td>\n",
              "      <td>42</td>\n",
              "      <td>8.0</td>\n",
              "      <td>159660.80</td>\n",
              "      <td>3</td>\n",
              "      <td>1</td>\n",
              "      <td>0</td>\n",
              "      <td>113931.57</td>\n",
              "      <td>1</td>\n",
              "    </tr>\n",
              "    <tr>\n",
              "      <th>3</th>\n",
              "      <td>699</td>\n",
              "      <td>France</td>\n",
              "      <td>Female</td>\n",
              "      <td>39</td>\n",
              "      <td>1.0</td>\n",
              "      <td>0.00</td>\n",
              "      <td>2</td>\n",
              "      <td>0</td>\n",
              "      <td>0</td>\n",
              "      <td>93826.63</td>\n",
              "      <td>0</td>\n",
              "    </tr>\n",
              "    <tr>\n",
              "      <th>4</th>\n",
              "      <td>850</td>\n",
              "      <td>Spain</td>\n",
              "      <td>Female</td>\n",
              "      <td>43</td>\n",
              "      <td>2.0</td>\n",
              "      <td>125510.82</td>\n",
              "      <td>1</td>\n",
              "      <td>1</td>\n",
              "      <td>1</td>\n",
              "      <td>79084.10</td>\n",
              "      <td>0</td>\n",
              "    </tr>\n",
              "  </tbody>\n",
              "</table>\n",
              "</div>"
            ],
            "text/plain": [
              "   CreditScore Geography  Gender  Age  Tenure    Balance  NumOfProducts  \\\n",
              "0          619    France  Female   42     2.0       0.00              1   \n",
              "1          608     Spain  Female   41     1.0   83807.86              1   \n",
              "2          502    France  Female   42     8.0  159660.80              3   \n",
              "3          699    France  Female   39     1.0       0.00              2   \n",
              "4          850     Spain  Female   43     2.0  125510.82              1   \n",
              "\n",
              "   HasCrCard  IsActiveMember  EstimatedSalary  Exited  \n",
              "0          1               1        101348.88       1  \n",
              "1          0               1        112542.58       0  \n",
              "2          1               0        113931.57       1  \n",
              "3          0               0         93826.63       0  \n",
              "4          1               1         79084.10       0  "
            ]
          },
          "execution_count": 28,
          "metadata": {},
          "output_type": "execute_result"
        }
      ],
      "source": [
        "df.drop(['RowNumber', 'CustomerId','Surname'], axis=1, inplace=True)\n",
        "df.head()"
      ]
    },
    {
      "cell_type": "markdown",
      "metadata": {
        "id": "kDPFiAvzmQIO"
      },
      "source": [
        "Переведем все названия строк в нижний регистр, а также приведем к стандарту."
      ]
    },
    {
      "cell_type": "code",
      "execution_count": null,
      "metadata": {
        "id": "X1T6Go5pmQIP",
        "outputId": "4fa6bf94-1fbe-41a9-81db-fb9f755dd49f"
      },
      "outputs": [
        {
          "data": {
            "text/plain": [
              "Index(['credit_score', 'geography', 'gender', 'age', 'tenure', 'balance',\n",
              "       'num_of_products', 'has_cr_card', 'is_active_member',\n",
              "       'estimated_salary', 'exited'],\n",
              "      dtype='object')"
            ]
          },
          "execution_count": 29,
          "metadata": {},
          "output_type": "execute_result"
        }
      ],
      "source": [
        "df = df.rename (columns= {\n",
        "    'RowNumber': 'row_number',\n",
        "    'CustomerId': 'customer_id',\n",
        "    'CreditScore': 'credit_score',\n",
        "    'NumOfProducts': 'num_of_products',\n",
        "    'HasCrCard': 'has_cr_card',\n",
        "    'IsActiveMember': 'is_active_member',\n",
        "    'EstimatedSalary': 'estimated_salary'})\n",
        "df.columns = df.columns.str.lower()\n",
        "df.columns"
      ]
    },
    {
      "cell_type": "markdown",
      "metadata": {
        "id": "E8vLTfSgmQIS"
      },
      "source": [
        "Проверим датасет на дубликаты"
      ]
    },
    {
      "cell_type": "code",
      "execution_count": null,
      "metadata": {
        "id": "d-RRWDghmQIY",
        "outputId": "a5f5d5c3-73d6-4f0c-d521-ea57ed9dc29a"
      },
      "outputs": [
        {
          "data": {
            "text/plain": [
              "0"
            ]
          },
          "execution_count": 30,
          "metadata": {},
          "output_type": "execute_result"
        }
      ],
      "source": [
        "df.duplicated().sum()"
      ]
    },
    {
      "cell_type": "markdown",
      "metadata": {
        "id": "Jso8C6SXmQIZ"
      },
      "source": [
        "Проверим статистические данный по количественным признакам. Возможно, мы увидим выбросы."
      ]
    },
    {
      "cell_type": "code",
      "execution_count": null,
      "metadata": {
        "id": "j2lAAJiumQIa",
        "outputId": "0daa4e15-01fd-41d4-a407-0f2fc6dfb1a5"
      },
      "outputs": [
        {
          "data": {
            "text/html": [
              "<div>\n",
              "<style scoped>\n",
              "    .dataframe tbody tr th:only-of-type {\n",
              "        vertical-align: middle;\n",
              "    }\n",
              "\n",
              "    .dataframe tbody tr th {\n",
              "        vertical-align: top;\n",
              "    }\n",
              "\n",
              "    .dataframe thead th {\n",
              "        text-align: right;\n",
              "    }\n",
              "</style>\n",
              "<table border=\"1\" class=\"dataframe\">\n",
              "  <thead>\n",
              "    <tr style=\"text-align: right;\">\n",
              "      <th></th>\n",
              "      <th>credit_score</th>\n",
              "      <th>age</th>\n",
              "      <th>tenure</th>\n",
              "      <th>balance</th>\n",
              "      <th>num_of_products</th>\n",
              "      <th>estimated_salary</th>\n",
              "    </tr>\n",
              "  </thead>\n",
              "  <tbody>\n",
              "    <tr>\n",
              "      <th>count</th>\n",
              "      <td>10000.000000</td>\n",
              "      <td>10000.000000</td>\n",
              "      <td>9091.000000</td>\n",
              "      <td>10000.000000</td>\n",
              "      <td>10000.000000</td>\n",
              "      <td>10000.000000</td>\n",
              "    </tr>\n",
              "    <tr>\n",
              "      <th>mean</th>\n",
              "      <td>650.528800</td>\n",
              "      <td>38.921800</td>\n",
              "      <td>4.997690</td>\n",
              "      <td>76485.889288</td>\n",
              "      <td>1.530200</td>\n",
              "      <td>100090.239881</td>\n",
              "    </tr>\n",
              "    <tr>\n",
              "      <th>std</th>\n",
              "      <td>96.653299</td>\n",
              "      <td>10.487806</td>\n",
              "      <td>2.894723</td>\n",
              "      <td>62397.405202</td>\n",
              "      <td>0.581654</td>\n",
              "      <td>57510.492818</td>\n",
              "    </tr>\n",
              "    <tr>\n",
              "      <th>min</th>\n",
              "      <td>350.000000</td>\n",
              "      <td>18.000000</td>\n",
              "      <td>0.000000</td>\n",
              "      <td>0.000000</td>\n",
              "      <td>1.000000</td>\n",
              "      <td>11.580000</td>\n",
              "    </tr>\n",
              "    <tr>\n",
              "      <th>25%</th>\n",
              "      <td>584.000000</td>\n",
              "      <td>32.000000</td>\n",
              "      <td>2.000000</td>\n",
              "      <td>0.000000</td>\n",
              "      <td>1.000000</td>\n",
              "      <td>51002.110000</td>\n",
              "    </tr>\n",
              "    <tr>\n",
              "      <th>50%</th>\n",
              "      <td>652.000000</td>\n",
              "      <td>37.000000</td>\n",
              "      <td>5.000000</td>\n",
              "      <td>97198.540000</td>\n",
              "      <td>1.000000</td>\n",
              "      <td>100193.915000</td>\n",
              "    </tr>\n",
              "    <tr>\n",
              "      <th>75%</th>\n",
              "      <td>718.000000</td>\n",
              "      <td>44.000000</td>\n",
              "      <td>7.000000</td>\n",
              "      <td>127644.240000</td>\n",
              "      <td>2.000000</td>\n",
              "      <td>149388.247500</td>\n",
              "    </tr>\n",
              "    <tr>\n",
              "      <th>max</th>\n",
              "      <td>850.000000</td>\n",
              "      <td>92.000000</td>\n",
              "      <td>10.000000</td>\n",
              "      <td>250898.090000</td>\n",
              "      <td>4.000000</td>\n",
              "      <td>199992.480000</td>\n",
              "    </tr>\n",
              "  </tbody>\n",
              "</table>\n",
              "</div>"
            ],
            "text/plain": [
              "       credit_score           age       tenure        balance  \\\n",
              "count  10000.000000  10000.000000  9091.000000   10000.000000   \n",
              "mean     650.528800     38.921800     4.997690   76485.889288   \n",
              "std       96.653299     10.487806     2.894723   62397.405202   \n",
              "min      350.000000     18.000000     0.000000       0.000000   \n",
              "25%      584.000000     32.000000     2.000000       0.000000   \n",
              "50%      652.000000     37.000000     5.000000   97198.540000   \n",
              "75%      718.000000     44.000000     7.000000  127644.240000   \n",
              "max      850.000000     92.000000    10.000000  250898.090000   \n",
              "\n",
              "       num_of_products  estimated_salary  \n",
              "count     10000.000000      10000.000000  \n",
              "mean          1.530200     100090.239881  \n",
              "std           0.581654      57510.492818  \n",
              "min           1.000000         11.580000  \n",
              "25%           1.000000      51002.110000  \n",
              "50%           1.000000     100193.915000  \n",
              "75%           2.000000     149388.247500  \n",
              "max           4.000000     199992.480000  "
            ]
          },
          "execution_count": 31,
          "metadata": {},
          "output_type": "execute_result"
        }
      ],
      "source": [
        "df[['credit_score', 'age', 'tenure', 'balance', 'num_of_products', 'estimated_salary']].describe()"
      ]
    },
    {
      "cell_type": "markdown",
      "metadata": {
        "id": "32darV0nmQIb"
      },
      "source": [
        "Данные выглядят нормально. Явных выбросов мы не нашли."
      ]
    },
    {
      "cell_type": "markdown",
      "metadata": {
        "id": "fZ4bzZdnmQIc"
      },
      "source": [
        "### Заполнение пропусков в столбце 'tenure'."
      ]
    },
    {
      "cell_type": "markdown",
      "metadata": {
        "id": "XXXMRNPPmQId"
      },
      "source": [
        "Проверим сколько пропущенные данных у столбце."
      ]
    },
    {
      "cell_type": "code",
      "execution_count": null,
      "metadata": {
        "id": "AOTOu6E7mQIe",
        "outputId": "0437aa49-5051-482f-f074-c90e4c765abf"
      },
      "outputs": [
        {
          "data": {
            "text/plain": [
              "909"
            ]
          },
          "execution_count": 32,
          "metadata": {},
          "output_type": "execute_result"
        }
      ],
      "source": [
        "df['tenure'].isna().sum()"
      ]
    },
    {
      "cell_type": "markdown",
      "metadata": {
        "id": "yFyFwvXxmQIf"
      },
      "source": [
        "Заполним пропуски значением -1. Это будет своего рода заглушка."
      ]
    },
    {
      "cell_type": "code",
      "execution_count": null,
      "metadata": {
        "id": "NKaJ5gl4mQIg",
        "outputId": "79746a8d-c8c0-4d8b-fda4-b014d4f5481b"
      },
      "outputs": [
        {
          "data": {
            "text/plain": [
              " 1.0     952\n",
              " 2.0     950\n",
              " 8.0     933\n",
              " 3.0     928\n",
              " 5.0     927\n",
              " 7.0     925\n",
              "-1.0     909\n",
              " 4.0     885\n",
              " 9.0     882\n",
              " 6.0     881\n",
              " 10.0    446\n",
              " 0.0     382\n",
              "Name: tenure, dtype: int64"
            ]
          },
          "execution_count": 33,
          "metadata": {},
          "output_type": "execute_result"
        }
      ],
      "source": [
        "df['tenure'] = df['tenure'].fillna(-1)\n",
        "df['tenure'].value_counts()"
      ]
    },
    {
      "cell_type": "code",
      "execution_count": null,
      "metadata": {
        "id": "tBIW8AyzmQIi",
        "outputId": "cc3a06da-c4e5-4f1e-9da9-0f67cb2734c8"
      },
      "outputs": [
        {
          "data": {
            "text/plain": [
              "0"
            ]
          },
          "execution_count": 34,
          "metadata": {},
          "output_type": "execute_result"
        }
      ],
      "source": [
        "df['tenure'].isna().sum()"
      ]
    },
    {
      "cell_type": "markdown",
      "metadata": {
        "id": "OTPlNplLmQIj"
      },
      "source": [
        "Переведем даные в столбце 'tenure', в формат int, потому что данные все целочисленные."
      ]
    },
    {
      "cell_type": "code",
      "execution_count": null,
      "metadata": {
        "id": "V0WU3zIKmQIk",
        "outputId": "d6981cb5-cae6-41ee-8f10-e84b6e239273"
      },
      "outputs": [
        {
          "data": {
            "text/html": [
              "<div>\n",
              "<style scoped>\n",
              "    .dataframe tbody tr th:only-of-type {\n",
              "        vertical-align: middle;\n",
              "    }\n",
              "\n",
              "    .dataframe tbody tr th {\n",
              "        vertical-align: top;\n",
              "    }\n",
              "\n",
              "    .dataframe thead th {\n",
              "        text-align: right;\n",
              "    }\n",
              "</style>\n",
              "<table border=\"1\" class=\"dataframe\">\n",
              "  <thead>\n",
              "    <tr style=\"text-align: right;\">\n",
              "      <th></th>\n",
              "      <th>credit_score</th>\n",
              "      <th>geography</th>\n",
              "      <th>gender</th>\n",
              "      <th>age</th>\n",
              "      <th>tenure</th>\n",
              "      <th>balance</th>\n",
              "      <th>num_of_products</th>\n",
              "      <th>has_cr_card</th>\n",
              "      <th>is_active_member</th>\n",
              "      <th>estimated_salary</th>\n",
              "      <th>exited</th>\n",
              "    </tr>\n",
              "  </thead>\n",
              "  <tbody>\n",
              "    <tr>\n",
              "      <th>0</th>\n",
              "      <td>619</td>\n",
              "      <td>France</td>\n",
              "      <td>Female</td>\n",
              "      <td>42</td>\n",
              "      <td>2</td>\n",
              "      <td>0.00</td>\n",
              "      <td>1</td>\n",
              "      <td>1</td>\n",
              "      <td>1</td>\n",
              "      <td>101348.88</td>\n",
              "      <td>1</td>\n",
              "    </tr>\n",
              "    <tr>\n",
              "      <th>1</th>\n",
              "      <td>608</td>\n",
              "      <td>Spain</td>\n",
              "      <td>Female</td>\n",
              "      <td>41</td>\n",
              "      <td>1</td>\n",
              "      <td>83807.86</td>\n",
              "      <td>1</td>\n",
              "      <td>0</td>\n",
              "      <td>1</td>\n",
              "      <td>112542.58</td>\n",
              "      <td>0</td>\n",
              "    </tr>\n",
              "    <tr>\n",
              "      <th>2</th>\n",
              "      <td>502</td>\n",
              "      <td>France</td>\n",
              "      <td>Female</td>\n",
              "      <td>42</td>\n",
              "      <td>8</td>\n",
              "      <td>159660.80</td>\n",
              "      <td>3</td>\n",
              "      <td>1</td>\n",
              "      <td>0</td>\n",
              "      <td>113931.57</td>\n",
              "      <td>1</td>\n",
              "    </tr>\n",
              "    <tr>\n",
              "      <th>3</th>\n",
              "      <td>699</td>\n",
              "      <td>France</td>\n",
              "      <td>Female</td>\n",
              "      <td>39</td>\n",
              "      <td>1</td>\n",
              "      <td>0.00</td>\n",
              "      <td>2</td>\n",
              "      <td>0</td>\n",
              "      <td>0</td>\n",
              "      <td>93826.63</td>\n",
              "      <td>0</td>\n",
              "    </tr>\n",
              "    <tr>\n",
              "      <th>4</th>\n",
              "      <td>850</td>\n",
              "      <td>Spain</td>\n",
              "      <td>Female</td>\n",
              "      <td>43</td>\n",
              "      <td>2</td>\n",
              "      <td>125510.82</td>\n",
              "      <td>1</td>\n",
              "      <td>1</td>\n",
              "      <td>1</td>\n",
              "      <td>79084.10</td>\n",
              "      <td>0</td>\n",
              "    </tr>\n",
              "  </tbody>\n",
              "</table>\n",
              "</div>"
            ],
            "text/plain": [
              "   credit_score geography  gender  age  tenure    balance  num_of_products  \\\n",
              "0           619    France  Female   42       2       0.00                1   \n",
              "1           608     Spain  Female   41       1   83807.86                1   \n",
              "2           502    France  Female   42       8  159660.80                3   \n",
              "3           699    France  Female   39       1       0.00                2   \n",
              "4           850     Spain  Female   43       2  125510.82                1   \n",
              "\n",
              "   has_cr_card  is_active_member  estimated_salary  exited  \n",
              "0            1                 1         101348.88       1  \n",
              "1            0                 1         112542.58       0  \n",
              "2            1                 0         113931.57       1  \n",
              "3            0                 0          93826.63       0  \n",
              "4            1                 1          79084.10       0  "
            ]
          },
          "execution_count": 35,
          "metadata": {},
          "output_type": "execute_result"
        }
      ],
      "source": [
        "df['tenure'] = df['tenure'].astype(int)\n",
        "df.head()"
      ]
    },
    {
      "cell_type": "markdown",
      "metadata": {
        "id": "beL0enGBmQIl"
      },
      "source": [
        "### Изучение связи между данными"
      ]
    },
    {
      "cell_type": "markdown",
      "metadata": {
        "id": "lX46egH4mQIl"
      },
      "source": [
        "Посмотрим корреляцию между целевым признаком 'exited', и признаками датасета."
      ]
    },
    {
      "cell_type": "code",
      "execution_count": null,
      "metadata": {
        "id": "BucgFuYxmQIm",
        "outputId": "5d56fb17-d9ce-42fa-9f49-530204eb409e"
      },
      "outputs": [
        {
          "data": {
            "text/plain": [
              "is_active_member   -0.156128\n",
              "num_of_products    -0.047820\n",
              "credit_score       -0.027094\n",
              "tenure             -0.012570\n",
              "has_cr_card        -0.007138\n",
              "estimated_salary    0.012097\n",
              "balance             0.118533\n",
              "age                 0.285323\n",
              "exited              1.000000\n",
              "Name: exited, dtype: float64"
            ]
          },
          "execution_count": 36,
          "metadata": {},
          "output_type": "execute_result"
        }
      ],
      "source": [
        "correlations_df = df.corr()['exited'].sort_values()\n",
        "correlations_df"
      ]
    },
    {
      "cell_type": "markdown",
      "metadata": {
        "id": "4EVwVzV8mQIn"
      },
      "source": [
        "Корреляция между признаками слабая. "
      ]
    },
    {
      "cell_type": "markdown",
      "metadata": {
        "id": "1xJ0Nlc9mQIo"
      },
      "source": [
        "Посмотрим корреляцию между признаками. Если мы обнаружим сильную корреляцию между признаками, то нужно будет удалить один из зависимых признаков, чтобы не путать модель."
      ]
    },
    {
      "cell_type": "markdown",
      "metadata": {
        "id": "oE5d__SgmQIp"
      },
      "source": [
        "### Подготовка признаков. "
      ]
    },
    {
      "cell_type": "markdown",
      "metadata": {
        "id": "Ue9DnczTmQIq"
      },
      "source": [
        "Преобразуем категориальные признаки методом One-Hot Encoding. "
      ]
    },
    {
      "cell_type": "code",
      "execution_count": null,
      "metadata": {
        "id": "Ia4kvW6mmQIr"
      },
      "outputs": [],
      "source": [
        "df_ohe = pd.get_dummies(df, drop_first=True) #Чтобы избежать дамми-ловушки используем аргумент drop_first"
      ]
    },
    {
      "cell_type": "markdown",
      "metadata": {
        "id": "XGzn5N1xmQIz"
      },
      "source": [
        "Разобьем датасет на 3 части (тестовую, обучающую и валидационную)."
      ]
    },
    {
      "cell_type": "code",
      "execution_count": null,
      "metadata": {
        "id": "UrzYRJNxmQI0"
      },
      "outputs": [],
      "source": [
        "# для начала разобьем выборку на тестовую и остальную часть\n",
        "df_all, df_test = train_test_split(df_ohe, test_size=0.2, random_state=12345) \n",
        "\n",
        "# разбиваем теперь оставшуюся выборку на тренировочную и валидационную\n",
        "df_train, df_valid = train_test_split(df_all, test_size=0.25, random_state=12345)"
      ]
    },
    {
      "cell_type": "markdown",
      "metadata": {
        "id": "akfijEb9mQI0"
      },
      "source": [
        "Создаем переменные с признаками."
      ]
    },
    {
      "cell_type": "code",
      "execution_count": null,
      "metadata": {
        "id": "KV7_T8X5mQI1"
      },
      "outputs": [],
      "source": [
        "# признаки для тренировочной выборки\n",
        "features_train = df_train.drop('exited', axis=1) \n",
        "target_train = df_train['exited']\n",
        "\n",
        "# признаки для валидационной выборки. На ней мы будем проверять качество обучения.\n",
        "features_valid = df_valid.drop('exited', axis=1)\n",
        "target_valid = df_valid['exited']\n",
        "\n",
        "# признаки для тестовой выборки. На ней мы проверим окончательный результат обучения.\n",
        "features_test = df_test.drop('exited', axis=1)\n",
        "target_test = df_test['exited']"
      ]
    },
    {
      "cell_type": "markdown",
      "metadata": {
        "id": "GJdcf5USmQI3"
      },
      "source": [
        "Масштабирование количественных признаков"
      ]
    },
    {
      "cell_type": "code",
      "execution_count": null,
      "metadata": {
        "id": "4N1Uv5dbmQI4",
        "outputId": "556a40c5-d267-43f0-a99c-8d9556b76c70"
      },
      "outputs": [
        {
          "data": {
            "text/html": [
              "<div>\n",
              "<style scoped>\n",
              "    .dataframe tbody tr th:only-of-type {\n",
              "        vertical-align: middle;\n",
              "    }\n",
              "\n",
              "    .dataframe tbody tr th {\n",
              "        vertical-align: top;\n",
              "    }\n",
              "\n",
              "    .dataframe thead th {\n",
              "        text-align: right;\n",
              "    }\n",
              "</style>\n",
              "<table border=\"1\" class=\"dataframe\">\n",
              "  <thead>\n",
              "    <tr style=\"text-align: right;\">\n",
              "      <th></th>\n",
              "      <th>credit_score</th>\n",
              "      <th>age</th>\n",
              "      <th>tenure</th>\n",
              "      <th>balance</th>\n",
              "      <th>num_of_products</th>\n",
              "      <th>has_cr_card</th>\n",
              "      <th>is_active_member</th>\n",
              "      <th>estimated_salary</th>\n",
              "      <th>geography_Germany</th>\n",
              "      <th>geography_Spain</th>\n",
              "      <th>gender_Male</th>\n",
              "    </tr>\n",
              "  </thead>\n",
              "  <tbody>\n",
              "    <tr>\n",
              "      <th>492</th>\n",
              "      <td>-0.134048</td>\n",
              "      <td>-0.078068</td>\n",
              "      <td>-0.137323</td>\n",
              "      <td>0.076163</td>\n",
              "      <td>0.816929</td>\n",
              "      <td>-1.550255</td>\n",
              "      <td>0.968496</td>\n",
              "      <td>0.331571</td>\n",
              "      <td>0</td>\n",
              "      <td>0</td>\n",
              "      <td>0</td>\n",
              "    </tr>\n",
              "    <tr>\n",
              "      <th>6655</th>\n",
              "      <td>-1.010798</td>\n",
              "      <td>0.494555</td>\n",
              "      <td>-1.661443</td>\n",
              "      <td>0.136391</td>\n",
              "      <td>-0.896909</td>\n",
              "      <td>0.645055</td>\n",
              "      <td>0.968496</td>\n",
              "      <td>-0.727858</td>\n",
              "      <td>0</td>\n",
              "      <td>0</td>\n",
              "      <td>1</td>\n",
              "    </tr>\n",
              "    <tr>\n",
              "      <th>4287</th>\n",
              "      <td>0.639554</td>\n",
              "      <td>1.353490</td>\n",
              "      <td>-1.051795</td>\n",
              "      <td>0.358435</td>\n",
              "      <td>-0.896909</td>\n",
              "      <td>0.645055</td>\n",
              "      <td>0.968496</td>\n",
              "      <td>-0.477006</td>\n",
              "      <td>1</td>\n",
              "      <td>0</td>\n",
              "      <td>1</td>\n",
              "    </tr>\n",
              "    <tr>\n",
              "      <th>42</th>\n",
              "      <td>-0.990168</td>\n",
              "      <td>2.116987</td>\n",
              "      <td>-0.746971</td>\n",
              "      <td>0.651725</td>\n",
              "      <td>-0.896909</td>\n",
              "      <td>0.645055</td>\n",
              "      <td>0.968496</td>\n",
              "      <td>-0.100232</td>\n",
              "      <td>0</td>\n",
              "      <td>0</td>\n",
              "      <td>0</td>\n",
              "    </tr>\n",
              "    <tr>\n",
              "      <th>8178</th>\n",
              "      <td>0.567351</td>\n",
              "      <td>0.685430</td>\n",
              "      <td>0.777149</td>\n",
              "      <td>0.813110</td>\n",
              "      <td>0.816929</td>\n",
              "      <td>0.645055</td>\n",
              "      <td>0.968496</td>\n",
              "      <td>0.801922</td>\n",
              "      <td>0</td>\n",
              "      <td>0</td>\n",
              "      <td>0</td>\n",
              "    </tr>\n",
              "  </tbody>\n",
              "</table>\n",
              "</div>"
            ],
            "text/plain": [
              "      credit_score       age    tenure   balance  num_of_products  \\\n",
              "492      -0.134048 -0.078068 -0.137323  0.076163         0.816929   \n",
              "6655     -1.010798  0.494555 -1.661443  0.136391        -0.896909   \n",
              "4287      0.639554  1.353490 -1.051795  0.358435        -0.896909   \n",
              "42       -0.990168  2.116987 -0.746971  0.651725        -0.896909   \n",
              "8178      0.567351  0.685430  0.777149  0.813110         0.816929   \n",
              "\n",
              "      has_cr_card  is_active_member  estimated_salary  geography_Germany  \\\n",
              "492     -1.550255          0.968496          0.331571                  0   \n",
              "6655     0.645055          0.968496         -0.727858                  0   \n",
              "4287     0.645055          0.968496         -0.477006                  1   \n",
              "42       0.645055          0.968496         -0.100232                  0   \n",
              "8178     0.645055          0.968496          0.801922                  0   \n",
              "\n",
              "      geography_Spain  gender_Male  \n",
              "492                 0            0  \n",
              "6655                0            1  \n",
              "4287                0            1  \n",
              "42                  0            0  \n",
              "8178                0            0  "
            ]
          },
          "execution_count": 40,
          "metadata": {},
          "output_type": "execute_result"
        }
      ],
      "source": [
        "# создаем список со столбцами с количественными данными.\n",
        "numeric = ['credit_score', 'age', 'tenure', 'balance',\n",
        "           'num_of_products', 'has_cr_card', 'is_active_member', 'estimated_salary']\n",
        "# трансформируем данные\n",
        "scaler = StandardScaler()\n",
        "scaler.fit(features_train[numeric])\n",
        "features_train[numeric] = scaler.transform(features_train[numeric])\n",
        "features_valid[numeric] = scaler.transform(features_valid[numeric])\n",
        "features_test[numeric] = scaler.transform(features_test[numeric])\n",
        "pd.options.mode.chained_assignment = None;\n",
        "features_train.head()"
      ]
    },
    {
      "cell_type": "markdown",
      "metadata": {
        "id": "_lYXvvKYmQI7"
      },
      "source": [
        "### Выводы:\n",
        "В результате подготовки данных проделали следующую работу:\n",
        "- Удалили ненужные для обучения столбцы;\n",
        "- Заполнили пропуски заглужкой;\n",
        "- Проанализировали данные на выбросы и корреляцию;\n",
        "- Преобразовали категориальные данные методом OHE;\n",
        "- Масштабировали количественные данные;\n",
        "- Разбили датасет на 3 выборки и выделили признаки для обучения и целевой признак."
      ]
    },
    {
      "cell_type": "markdown",
      "metadata": {
        "id": "_WXBmCKXmQI8"
      },
      "source": [
        "## Исследование задачи"
      ]
    },
    {
      "cell_type": "markdown",
      "metadata": {
        "id": "LrUy9_48mQI8"
      },
      "source": [
        "Данные подготовлены к обучению, обучим несколько моделей и изучим их качество. Т.к. мы решаем задачу на классификацию, то воспользуемся моделями логистической регрессией, решающего дерева и случайного леса."
      ]
    },
    {
      "cell_type": "markdown",
      "metadata": {
        "id": "oFVSxIMkmQI9"
      },
      "source": [
        "Для начала обучим модель не обращая внимание на дисбаланс данных."
      ]
    },
    {
      "cell_type": "markdown",
      "metadata": {
        "id": "vGVIkcgQmQI9"
      },
      "source": [
        "<b>Логистическая регрессия</b>"
      ]
    },
    {
      "cell_type": "code",
      "execution_count": null,
      "metadata": {
        "scrolled": true,
        "id": "PUqc9UZ4mQI-",
        "outputId": "affe9b6b-e641-42fb-d4d8-e097099385a8"
      },
      "outputs": [
        {
          "name": "stdout",
          "output_type": "stream",
          "text": [
            "F1: 0.30885122410546145\n",
            "AUC-ROC: 0.7707540226888713\n"
          ]
        }
      ],
      "source": [
        "model = LogisticRegression(random_state=12345, solver='liblinear')\n",
        "model.fit(features_train, target_train)\n",
        "predicted_valid = model.predict(features_valid)\n",
        "probabilities_valid = model.predict_proba(features_valid)  #расчитываем вероятность признака\n",
        " \n",
        "print(\"F1:\", f1_score(target_valid, predicted_valid)) \n",
        "print(\"AUC-ROC:\", roc_auc_score(target_valid, probabilities_valid[:, 1]))"
      ]
    },
    {
      "cell_type": "markdown",
      "metadata": {
        "id": "rnHZtnJrmQI_"
      },
      "source": [
        "<b>Решающее дерево</b>"
      ]
    },
    {
      "cell_type": "code",
      "execution_count": null,
      "metadata": {
        "id": "LOigB24QmQJA",
        "outputId": "18496bbf-63c0-4027-da48-e9df82876b84"
      },
      "outputs": [
        {
          "name": "stdout",
          "output_type": "stream",
          "text": [
            "Лучшая модель: DecisionTreeClassifier(max_depth=7, random_state=12345)\n",
            "F1 лучшей модели: 0.5488958990536277\n",
            "AUC-ROC: 0.8275652142122556\n"
          ]
        }
      ],
      "source": [
        "best_result_tree = 0\n",
        "best_model = None\n",
        "for depth in range(1, 15):\n",
        "    model = (DecisionTreeClassifier(random_state=12345, max_depth=depth)\n",
        "    .fit(features_train, target_train))\n",
        "    predicted_valid = model.predict(features_valid)\n",
        "    F1 = f1_score(target_valid, predicted_valid)\n",
        "    if F1 > best_result_tree:\n",
        "        best_model = model\n",
        "        best_result_tree = F1     \n",
        "print(\"Лучшая модель:\", best_model)\n",
        "print(\"F1 лучшей модели:\", best_result_tree)\n",
        "probabilities_valid = best_model.predict_proba(features_valid)\n",
        "print(\"AUC-ROC:\", roc_auc_score(target_valid, probabilities_valid[:, 1]))"
      ]
    },
    {
      "cell_type": "markdown",
      "metadata": {
        "id": "ZPP3AxK3mQJB"
      },
      "source": [
        "<b>Случайный лес</b>"
      ]
    },
    {
      "cell_type": "code",
      "execution_count": null,
      "metadata": {
        "id": "5KY-IjVemQJC",
        "outputId": "3431c36f-1164-4b48-823f-91e50cac72a5"
      },
      "outputs": [
        {
          "name": "stdout",
          "output_type": "stream",
          "text": [
            "Лучшая модель: RandomForestClassifier(max_depth=13, n_estimators=9, random_state=12345)\n",
            "F1 лучшей модели: 0.5553822152886114\n",
            "AUC-ROC: 0.8285666145832505\n"
          ]
        }
      ],
      "source": [
        "# Определяем лучшее количество деревьев.\n",
        "best_model = None\n",
        "best_result_forest = 0\n",
        "est = 0\n",
        "for est in range(1, 13):\n",
        "    model = (RandomForestClassifier(random_state=12345, n_estimators=est)\n",
        "    .fit(features_train, target_train))\n",
        "    predicted_valid = model.predict(features_valid)\n",
        "    F1 = f1_score(target_valid, predicted_valid)\n",
        "    if F1 > best_result_forest:\n",
        "        best_model = model\n",
        "        best_est = est\n",
        "        best_result_forest = F1\n",
        "\n",
        "# Определяем лучшую глубину деревьев в модели. \n",
        "best_model = None\n",
        "best_result_tree_10 = 0\n",
        "for depth in range(1, 15):\n",
        "    model = (RandomForestClassifier(random_state=12345, n_estimators=best_est, max_depth=depth)\n",
        "    .fit(features_train, target_train))\n",
        "    predicted_valid = model.predict(features_valid)\n",
        "    F1 = f1_score(target_valid, predicted_valid)\n",
        "    if F1 > best_result_tree_10:\n",
        "        best_model = model\n",
        "        best_result_tree_10 = F1     \n",
        "print(\"Лучшая модель:\", best_model)\n",
        "print(\"F1 лучшей модели:\", best_result_tree_10)   \n",
        "probabilities_valid = best_model.predict_proba(features_valid)\n",
        "print(\"AUC-ROC:\", roc_auc_score(target_valid, probabilities_valid[:, 1]))"
      ]
    },
    {
      "cell_type": "markdown",
      "metadata": {
        "id": "_8Sh6i4lmQJE"
      },
      "source": [
        "### Выводы:\n",
        "Если мы не учитываем дисбаланс классов целевого признака, то эффективность обученных моделей не высокая.<br>\n",
        "Наилучший результат показала модель Случайный лес с 13 деревьями и глубиной 9.<br>\n",
        "Поработаем над дисбалансом ниже. "
      ]
    },
    {
      "cell_type": "markdown",
      "metadata": {
        "id": "hFvgH5plmQJG"
      },
      "source": [
        "## Борьба с дисбалансом"
      ]
    },
    {
      "cell_type": "markdown",
      "metadata": {
        "id": "YELYfOOjmQJH"
      },
      "source": [
        "Проверка целевого признака на дисбаланс."
      ]
    },
    {
      "cell_type": "code",
      "execution_count": null,
      "metadata": {
        "id": "8YgAi_McmQJH",
        "outputId": "a93e25a8-e1e7-4545-f866-e3c536cdd59f"
      },
      "outputs": [
        {
          "data": {
            "text/plain": [
              "0    7963\n",
              "1    2037\n",
              "Name: exited, dtype: int64"
            ]
          },
          "execution_count": 45,
          "metadata": {},
          "output_type": "execute_result"
        }
      ],
      "source": [
        "df['exited'].value_counts()"
      ]
    },
    {
      "cell_type": "markdown",
      "metadata": {
        "id": "LrC89PB2mQJI"
      },
      "source": [
        "Данные распределеные не равномерно. Клиентов, ушедших из банка почти в 4 раза меньше, чем тех, кто остался."
      ]
    },
    {
      "cell_type": "markdown",
      "metadata": {
        "id": "cVnC_EbqmQJJ"
      },
      "source": [
        "Для начала добавим вес классов в обучение модели."
      ]
    },
    {
      "cell_type": "code",
      "execution_count": null,
      "metadata": {
        "id": "F09W7alrmQJJ",
        "outputId": "e833eef2-1212-494e-e381-208b38272648"
      },
      "outputs": [
        {
          "name": "stdout",
          "output_type": "stream",
          "text": [
            "Логистическая регрессия:\n",
            "F1: 0.47763864042933807\n",
            "AUC-ROC: 0.7729666406514507\n",
            "\n"
          ]
        }
      ],
      "source": [
        "# Логистическая регрессия\n",
        "model = LogisticRegression(random_state=12345, solver='liblinear', class_weight='balanced')\n",
        "model.fit(features_train, target_train)\n",
        "predicted_valid = model.predict(features_valid)\n",
        "print('Логистическая регрессия:')\n",
        "print(\"F1:\", f1_score(target_valid, predicted_valid))\n",
        "probabilities_valid = model.predict_proba(features_valid)\n",
        "print(\"AUC-ROC:\", roc_auc_score(target_valid, probabilities_valid[:, 1]))\n",
        "print()"
      ]
    },
    {
      "cell_type": "code",
      "execution_count": null,
      "metadata": {
        "id": "Vbq5o6ktmQJL",
        "outputId": "df799859-cc38-44f1-f5ae-5ff61ffb2c50"
      },
      "outputs": [
        {
          "name": "stdout",
          "output_type": "stream",
          "text": [
            "Решающее дерево:\n",
            "Лучшая модель: DecisionTreeClassifier(max_depth=8, random_state=12345)\n",
            "F1 лучшей модели: 0.5353846153846155\n",
            "AUC-ROC: 0.7997779434415427\n"
          ]
        }
      ],
      "source": [
        "# Решающее дерево\n",
        "best_result_tree = 0\n",
        "best_model = None\n",
        "for depth in range(2, 22, 2):\n",
        "    model = (DecisionTreeClassifier(random_state=12345, max_depth=depth)\n",
        "    .fit(features_train, target_train))\n",
        "    predicted_valid = model.predict(features_valid)\n",
        "    F1 = f1_score(target_valid, predicted_valid)\n",
        "    if F1 > best_result_tree:\n",
        "        best_model = model\n",
        "        best_result_tree = F1     \n",
        "print('Решающее дерево:')\n",
        "print(\"Лучшая модель:\", best_model)\n",
        "print(\"F1 лучшей модели:\", best_result_tree)\n",
        "probabilities_valid = best_model.predict_proba(features_valid)\n",
        "print(\"AUC-ROC:\", roc_auc_score(target_valid, probabilities_valid[:, 1]))"
      ]
    },
    {
      "cell_type": "code",
      "execution_count": null,
      "metadata": {
        "scrolled": true,
        "id": "CiPZe144mQJM",
        "outputId": "ea4adf4d-89cb-4b11-c4bd-503358d6f4a6"
      },
      "outputs": [
        {
          "name": "stdout",
          "output_type": "stream",
          "text": [
            "Случайный лес:\n",
            "Лучшая модель: RandomForestClassifier(max_depth=20, n_estimators=200, random_state=12345)\n",
            "F1 лучшей модели: 0.5686900958466453\n",
            "AUC-ROC: 0.8476750821386733\n"
          ]
        }
      ],
      "source": [
        "# Случайный лес\n",
        "best_model = None\n",
        "best_result_forest = 0\n",
        "for est in range(100, 1001, 100):\n",
        "    for depth in range(2, 22, 2):\n",
        "        model = (RandomForestClassifier(random_state=12345, n_estimators=est, max_depth=depth)\n",
        "        .fit(features_train, target_train))\n",
        "        predicted_valid = model.predict(features_valid)\n",
        "        F1 = f1_score(target_valid, predicted_valid)\n",
        "        if F1 > best_result_forest:\n",
        "            best_model = model\n",
        "            best_result_forest = F1\n",
        "print('Случайный лес:')\n",
        "print(\"Лучшая модель:\", best_model)\n",
        "print(\"F1 лучшей модели:\", best_result_forest)   \n",
        "probabilities_valid = best_model.predict_proba(features_valid)\n",
        "print(\"AUC-ROC:\", roc_auc_score(target_valid, probabilities_valid[:, 1]))"
      ]
    },
    {
      "cell_type": "markdown",
      "metadata": {
        "id": "BQE6QInFmQJN"
      },
      "source": [
        "Результаты обучения улучшились, у решающего дерева немного упали. До сих пор лидирует Случайный лес."
      ]
    },
    {
      "cell_type": "markdown",
      "metadata": {
        "id": "CUwf87hPmQJP"
      },
      "source": [
        "<b>Увеличение выборки</b></br>"
      ]
    },
    {
      "cell_type": "code",
      "execution_count": null,
      "metadata": {
        "id": "dE0xrKVSmQJQ"
      },
      "outputs": [],
      "source": [
        "# Разделим обучающую выборку на отрицательные и положительные объекты.\n",
        "def upsample(features, target, repeat):\n",
        "    features_zeros = features[target == 0]\n",
        "    features_ones = features[target == 1]\n",
        "    target_zeros = target[target == 0]\n",
        "    target_ones = target[target == 1]\n",
        "    \n",
        "# Скопируем несколько раз положительные объекты:\n",
        "\n",
        "    features_upsampled = pd.concat([features_zeros] + [features_ones] * repeat)\n",
        "    target_upsampled = pd.concat([target_zeros] + [target_ones] * repeat)\n",
        "\n",
        "# Перемешаем данные:\n",
        "    features_upsampled, target_upsampled = shuffle(\n",
        "        features_upsampled, target_upsampled, random_state=12345)\n",
        "    \n",
        "    return features_upsampled, target_upsampled\n",
        "\n",
        "features_upsampled, target_upsampled = upsample(features_train, target_train, 4)"
      ]
    },
    {
      "cell_type": "code",
      "execution_count": null,
      "metadata": {
        "id": "nqumnxjSmQJS",
        "outputId": "fc520fb9-632c-4184-f4c8-631a867ccfc8"
      },
      "outputs": [
        {
          "name": "stdout",
          "output_type": "stream",
          "text": [
            "Логистическая регрессия:\n",
            "F1: 0.47971781305114636\n",
            "AUC-ROC: 0.772995252090622\n"
          ]
        }
      ],
      "source": [
        "# Обучим логистическую регрессию, используя новую выборку.\n",
        "model = LogisticRegression(solver='liblinear' , random_state=12345)\n",
        "model.fit(features_upsampled, target_upsampled)\n",
        "predicted_valid = model.predict(features_valid)\n",
        "print('Логистическая регрессия:')\n",
        "print(\"F1:\", f1_score(target_valid, predicted_valid))\n",
        "probabilities_valid = model.predict_proba(features_valid)\n",
        "print(\"AUC-ROC:\", roc_auc_score(target_valid, probabilities_valid[:, 1]))"
      ]
    },
    {
      "cell_type": "code",
      "execution_count": null,
      "metadata": {
        "scrolled": true,
        "id": "O9XGNqZTmQJT",
        "outputId": "318c193f-c381-4562-8ac2-95523bf8bf28"
      },
      "outputs": [
        {
          "name": "stdout",
          "output_type": "stream",
          "text": [
            "Решающее дерево:\n",
            "Лучшая модель: DecisionTreeClassifier(max_depth=6, random_state=12345)\n",
            "F1 лучшей модели: 0.5587044534412956\n",
            "AUC-ROC: 0.8088890972931989\n"
          ]
        }
      ],
      "source": [
        "# Обучим решающее дерево, используя новую выборку.\n",
        "best_result_tree = 0\n",
        "best_model = None\n",
        "for depth in range(2, 22, 2):\n",
        "    model = (DecisionTreeClassifier(random_state=12345, max_depth=depth)\n",
        "    .fit(features_upsampled, target_upsampled))\n",
        "    predicted_valid = model.predict(features_valid)\n",
        "    F1 = f1_score(target_valid, predicted_valid)\n",
        "    if F1 > best_result_tree:\n",
        "        best_model = model\n",
        "        best_result_tree = F1     \n",
        "print('Решающее дерево:')\n",
        "print(\"Лучшая модель:\", best_model)\n",
        "print(\"F1 лучшей модели:\", best_result_tree)\n",
        "probabilities_valid = best_model.predict_proba(features_valid)\n",
        "print(\"AUC-ROC:\", roc_auc_score(target_valid, probabilities_valid[:, 1]))"
      ]
    },
    {
      "cell_type": "code",
      "execution_count": null,
      "metadata": {
        "id": "KXACO4X-mQJU",
        "outputId": "a8b15fa4-4e73-45bc-f59a-e3dc5f59bbab"
      },
      "outputs": [
        {
          "name": "stdout",
          "output_type": "stream",
          "text": [
            "Случайный лес:\n",
            "Лучшая модель: RandomForestClassifier(max_depth=16, n_estimators=500, random_state=12345)\n",
            "F1 лучшей модели: 0.6013605442176871\n",
            "AUC-ROC: 0.8477633007427847\n"
          ]
        }
      ],
      "source": [
        "# Обучим случайный лес, используя новую выборку.\n",
        "best_model = None\n",
        "best_result_forest = 0\n",
        "for est in range(100, 1001, 100):\n",
        "    for depth in range(2, 22, 2):\n",
        "        model = (RandomForestClassifier(random_state=12345, n_estimators=est, max_depth=depth)\n",
        "        .fit(features_upsampled, target_upsampled))\n",
        "        predicted_valid = model.predict(features_valid)\n",
        "        F1 = f1_score(target_valid, predicted_valid)\n",
        "        if F1 > best_result_forest:\n",
        "            best_model = model\n",
        "            best_result_forest = F1\n",
        "print('Случайный лес:')\n",
        "print(\"Лучшая модель:\", best_model)\n",
        "print(\"F1 лучшей модели:\", best_result_forest)   \n",
        "probabilities_valid = best_model.predict_proba(features_valid)\n",
        "print(\"AUC-ROC:\", roc_auc_score(target_valid, probabilities_valid[:, 1]))"
      ]
    },
    {
      "cell_type": "markdown",
      "metadata": {
        "id": "NbqW-rXGmQJX"
      },
      "source": [
        "Качество модели увеличилось, по прежнему лидирует модель Случайный лес."
      ]
    },
    {
      "cell_type": "markdown",
      "metadata": {
        "id": "h7fEYw4RmQJY"
      },
      "source": [
        "<b>Уменьшение выборки</b></br>"
      ]
    },
    {
      "cell_type": "markdown",
      "metadata": {
        "id": "ZY6ukk3DmQJZ"
      },
      "source": [
        "Попробуем поработать с уменьшением выборки."
      ]
    },
    {
      "cell_type": "code",
      "execution_count": null,
      "metadata": {
        "id": "SDtywTh7mQJZ"
      },
      "outputs": [],
      "source": [
        "# Разделим обучающую выборку на отрицательные и положительные объекты:\n",
        "def downsample(features, target, fraction):\n",
        "    features_zeros = features[target == 0]\n",
        "    features_ones = features[target == 1]\n",
        "    target_zeros = target[target == 0]\n",
        "    target_ones = target[target == 1]\n",
        "\n",
        "# Отбосим из таблицы случайные элементы, используя функцию sample:\n",
        "    features_downsampled = pd.concat(\n",
        "        [features_zeros.sample(frac=fraction, random_state=12345)] + [features_ones])\n",
        "    target_downsampled = pd.concat(\n",
        "        [target_zeros.sample(frac=fraction, random_state=12345)] + [target_ones])\n",
        "\n",
        "# Перемешаем данные:\n",
        "    features_downsampled, target_downsampled = shuffle(\n",
        "        features_downsampled, target_downsampled, random_state=12345)\n",
        "    \n",
        "    return features_downsampled, target_downsampled\n",
        "\n",
        "features_downsampled, target_downsampled = downsample(features_train, target_train, 0.26)"
      ]
    },
    {
      "cell_type": "code",
      "execution_count": null,
      "metadata": {
        "id": "Ocpk78OnmQJa",
        "outputId": "452daf35-dbc5-4959-b972-3a9243732f53"
      },
      "outputs": [
        {
          "name": "stdout",
          "output_type": "stream",
          "text": [
            "Логистическая регрессия:\n",
            "F1: 0.48331830477908033\n",
            "AUC-ROC: 0.7736262932767887\n"
          ]
        }
      ],
      "source": [
        "# Обучим логистическую регрессию, используя новую выборку.\n",
        "model = LogisticRegression(solver='liblinear' , random_state=12345)\n",
        "model.fit(features_downsampled, target_downsampled)\n",
        "predicted_valid = model.predict(features_valid)\n",
        "print('Логистическая регрессия:')\n",
        "print(\"F1:\", f1_score(target_valid, predicted_valid))\n",
        "probabilities_valid = model.predict_proba(features_valid)\n",
        "print(\"AUC-ROC:\", roc_auc_score(target_valid, probabilities_valid[:, 1]))"
      ]
    },
    {
      "cell_type": "code",
      "execution_count": null,
      "metadata": {
        "id": "LKYdjWWDmQJb",
        "outputId": "32d9d79a-e99b-4401-c1cc-e821679e8fd2"
      },
      "outputs": [
        {
          "name": "stdout",
          "output_type": "stream",
          "text": [
            "Решающее дерево:\n",
            "Лучшая модель: DecisionTreeClassifier(max_depth=6, random_state=12345)\n",
            "F1 лучшей модели: 0.5504761904761906\n",
            "AUC-ROC: 0.821291361411752\n"
          ]
        }
      ],
      "source": [
        "# Обучим решающее дерево, используя новую выборку.\n",
        "best_result_tree = 0\n",
        "best_model = None\n",
        "for depth in range(2, 22, 2):\n",
        "    model = (DecisionTreeClassifier(random_state=12345, max_depth=depth)\n",
        "    .fit(features_downsampled, target_downsampled))\n",
        "    predicted_valid = model.predict(features_valid)\n",
        "    F1 = f1_score(target_valid, predicted_valid)\n",
        "    if F1 > best_result_tree:\n",
        "        best_model = model\n",
        "        best_result_tree = F1     \n",
        "print('Решающее дерево:')\n",
        "print(\"Лучшая модель:\", best_model)\n",
        "print(\"F1 лучшей модели:\", best_result_tree)\n",
        "probabilities_valid = best_model.predict_proba(features_valid)\n",
        "print(\"AUC-ROC:\", roc_auc_score(target_valid, probabilities_valid[:, 1]))"
      ]
    },
    {
      "cell_type": "code",
      "execution_count": null,
      "metadata": {
        "id": "P_0xwHRamQJc",
        "outputId": "3902a47e-3ae9-4f0a-9c7d-ff5740c76820"
      },
      "outputs": [
        {
          "name": "stdout",
          "output_type": "stream",
          "text": [
            "Случайный лес:\n",
            "Лучшая модель: RandomForestClassifier(max_depth=10, random_state=12345)\n",
            "F1 лучшей модели: 0.574826560951437\n",
            "AUC-ROC: 0.8489268326024171\n"
          ]
        }
      ],
      "source": [
        "# Обучим случайный лес, используя новую выборку.\n",
        "best_model = None\n",
        "best_result_forest = 0\n",
        "for est in range(100, 1001, 100):\n",
        "    for depth in range(2, 22, 2):\n",
        "        model = (RandomForestClassifier(random_state=12345, n_estimators=est, max_depth=depth)\n",
        "        .fit(features_downsampled, target_downsampled))\n",
        "        predicted_valid = model.predict(features_valid)\n",
        "        F1 = f1_score(target_valid, predicted_valid)\n",
        "        if F1 > best_result_forest:\n",
        "            best_model = model\n",
        "            best_result_forest = F1\n",
        "print('Случайный лес:')\n",
        "print(\"Лучшая модель:\", best_model)\n",
        "print(\"F1 лучшей модели:\", best_result_forest)   \n",
        "probabilities_valid = best_model.predict_proba(features_valid)\n",
        "print(\"AUC-ROC:\", roc_auc_score(target_valid, probabilities_valid[:, 1]))"
      ]
    },
    {
      "cell_type": "markdown",
      "metadata": {
        "id": "HQJTXVdRmQJd"
      },
      "source": [
        "По сравнению с увеличением выборки, качество обученных моделей хуже. "
      ]
    },
    {
      "cell_type": "markdown",
      "metadata": {
        "id": "XS0i3BZXmQJf"
      },
      "source": [
        "Во всех наших экспериментах лучшие результаты показывала модель случайного леса. Попробуем объеденить технику увеличения выборки и вес класса на лидирующей выборке."
      ]
    },
    {
      "cell_type": "code",
      "execution_count": null,
      "metadata": {
        "id": "A4oocYQXmQJg",
        "outputId": "2cd97f6d-fae9-47be-aab1-4b9e155b17fa"
      },
      "outputs": [
        {
          "name": "stdout",
          "output_type": "stream",
          "text": [
            "Случайный лес:\n",
            "Лучшая модель: RandomForestClassifier(class_weight='balanced', max_depth=12, n_estimators=200,\n",
            "                       random_state=12345)\n",
            "F1 лучшей модели: 0.6039119804400979\n",
            "AUC-ROC: 0.8509932143203432\n"
          ]
        }
      ],
      "source": [
        "# Обучим случайный лес, используя новую выборку.\n",
        "best_model = None\n",
        "best_result_forest = 0\n",
        "for est in range(100, 1001, 100):\n",
        "    for depth in range(2, 22, 2):\n",
        "        model = (RandomForestClassifier(random_state=12345, n_estimators=est, max_depth=depth, class_weight='balanced')\n",
        "        .fit(features_upsampled, target_upsampled))\n",
        "        predicted_valid = model.predict(features_valid)\n",
        "        F1 = f1_score(target_valid, predicted_valid)\n",
        "        if F1 > best_result_forest:\n",
        "            best_model = model\n",
        "            best_result_forest = F1\n",
        "print('Случайный лес:')\n",
        "print(\"Лучшая модель:\", best_model)\n",
        "print(\"F1 лучшей модели:\", best_result_forest)   \n",
        "probabilities_valid = best_model.predict_proba(features_valid)\n",
        "print(\"AUC-ROC:\", roc_auc_score(target_valid, probabilities_valid[:, 1]))"
      ]
    },
    {
      "cell_type": "markdown",
      "metadata": {
        "id": "GP2_kyjcmQJi"
      },
      "source": [
        "### Выводы:\n",
        "При работе с дисбалансом классов наиболшую эффективность показал метод увеличения выборки и добавление веса классу на моделе случайного дерева с параметрами 200/12. Далее проверим нашу модель на тестовой выборке."
      ]
    },
    {
      "cell_type": "markdown",
      "metadata": {
        "id": "3PZoNgrPmQJp"
      },
      "source": [
        "## Тестирование модели"
      ]
    },
    {
      "cell_type": "code",
      "execution_count": null,
      "metadata": {
        "id": "SDu6ypSdmQJp",
        "outputId": "9f0ef707-0fc4-47f5-db4b-542c94452166"
      },
      "outputs": [
        {
          "name": "stdout",
          "output_type": "stream",
          "text": [
            "F1: 0.6085858585858585\n",
            "AUC-ROC: 0.8617522566851927\n"
          ]
        }
      ],
      "source": [
        "# Объеденим обучающую и валидационную выборку\n",
        "frames_1 = [features_train, features_valid]\n",
        "features = pd.concat(frames_1)\n",
        "\n",
        "frames_2 = [target_train, target_valid]\n",
        "target = pd.concat(frames_2)\n",
        "\n",
        "#Обучим объединенную выборку и предскажем результаты на тестовой выборке.\n",
        "model = (RandomForestClassifier(random_state=12345, n_estimators=200, max_depth=12, class_weight='balanced')\n",
        "    .fit(features, target))\n",
        "predicted_test = model.predict(features_test)\n",
        "print(\"F1:\", f1_score(target_test, predicted_test))\n",
        "probabilities_test = model.predict_proba(features_test)\n",
        "print(\"AUC-ROC:\", roc_auc_score(target_test, probabilities_test[:, 1]))"
      ]
    }
  ],
  "metadata": {
    "ExecuteTimeLog": [
      {
        "duration": 491,
        "start_time": "2022-06-03T12:38:06.346Z"
      },
      {
        "duration": 51,
        "start_time": "2022-06-03T12:43:20.844Z"
      },
      {
        "duration": 14,
        "start_time": "2022-06-03T12:43:43.442Z"
      },
      {
        "duration": 75,
        "start_time": "2022-06-03T12:47:10.052Z"
      },
      {
        "duration": 14,
        "start_time": "2022-06-03T12:48:36.887Z"
      },
      {
        "duration": 18,
        "start_time": "2022-06-03T12:48:46.208Z"
      },
      {
        "duration": 16,
        "start_time": "2022-06-03T12:48:58.144Z"
      },
      {
        "duration": 10,
        "start_time": "2022-06-03T13:03:15.920Z"
      },
      {
        "duration": 7,
        "start_time": "2022-06-03T13:03:47.497Z"
      },
      {
        "duration": 477,
        "start_time": "2022-06-06T06:33:18.112Z"
      },
      {
        "duration": 96,
        "start_time": "2022-06-06T06:33:18.591Z"
      },
      {
        "duration": 15,
        "start_time": "2022-06-06T06:33:18.690Z"
      },
      {
        "duration": 7,
        "start_time": "2022-06-06T06:33:18.708Z"
      },
      {
        "duration": 18,
        "start_time": "2022-06-06T06:33:18.717Z"
      },
      {
        "duration": 6,
        "start_time": "2022-06-06T06:38:12.710Z"
      },
      {
        "duration": 11,
        "start_time": "2022-06-06T06:39:50.510Z"
      },
      {
        "duration": 6,
        "start_time": "2022-06-06T06:40:24.697Z"
      },
      {
        "duration": 7,
        "start_time": "2022-06-06T06:40:37.369Z"
      },
      {
        "duration": 74,
        "start_time": "2022-06-06T06:43:16.326Z"
      },
      {
        "duration": 7,
        "start_time": "2022-06-06T06:46:53.174Z"
      },
      {
        "duration": 5,
        "start_time": "2022-06-06T06:46:58.683Z"
      },
      {
        "duration": 6,
        "start_time": "2022-06-06T06:51:35.802Z"
      },
      {
        "duration": 4,
        "start_time": "2022-06-06T06:51:50.559Z"
      },
      {
        "duration": 6,
        "start_time": "2022-06-06T06:52:34.858Z"
      },
      {
        "duration": 7,
        "start_time": "2022-06-06T06:52:56.287Z"
      },
      {
        "duration": 7,
        "start_time": "2022-06-06T06:53:07.391Z"
      },
      {
        "duration": 6,
        "start_time": "2022-06-06T06:53:12.662Z"
      },
      {
        "duration": 5,
        "start_time": "2022-06-06T06:53:40.980Z"
      },
      {
        "duration": 6,
        "start_time": "2022-06-06T06:53:59.311Z"
      },
      {
        "duration": 377,
        "start_time": "2022-06-06T06:54:18.466Z"
      },
      {
        "duration": 5,
        "start_time": "2022-06-06T06:54:21.732Z"
      },
      {
        "duration": 7,
        "start_time": "2022-06-06T06:54:42.592Z"
      },
      {
        "duration": 5,
        "start_time": "2022-06-06T06:55:17.025Z"
      },
      {
        "duration": 749,
        "start_time": "2022-06-06T06:59:51.367Z"
      },
      {
        "duration": 17,
        "start_time": "2022-06-06T07:02:55.244Z"
      },
      {
        "duration": 459,
        "start_time": "2022-06-06T07:03:25.054Z"
      },
      {
        "duration": 59505,
        "start_time": "2022-06-06T07:03:31.764Z"
      },
      {
        "duration": 6,
        "start_time": "2022-06-06T07:06:01.622Z"
      },
      {
        "duration": 47,
        "start_time": "2022-06-06T07:31:18.964Z"
      },
      {
        "duration": 392,
        "start_time": "2022-06-06T07:36:41.564Z"
      },
      {
        "duration": 28,
        "start_time": "2022-06-06T07:37:08.260Z"
      },
      {
        "duration": 32,
        "start_time": "2022-06-06T07:38:55.998Z"
      },
      {
        "duration": 28,
        "start_time": "2022-06-06T07:39:46.364Z"
      },
      {
        "duration": 7,
        "start_time": "2022-06-06T08:17:43.997Z"
      },
      {
        "duration": 9,
        "start_time": "2022-06-06T08:18:00.165Z"
      },
      {
        "duration": 8,
        "start_time": "2022-06-06T08:18:11.159Z"
      },
      {
        "duration": 6,
        "start_time": "2022-06-06T08:18:25.157Z"
      },
      {
        "duration": 4,
        "start_time": "2022-06-06T08:18:32.357Z"
      },
      {
        "duration": 14,
        "start_time": "2022-06-06T08:18:40.372Z"
      },
      {
        "duration": 219,
        "start_time": "2022-06-06T08:57:05.509Z"
      },
      {
        "duration": 206,
        "start_time": "2022-06-06T08:57:29.215Z"
      },
      {
        "duration": 64,
        "start_time": "2022-06-06T08:59:10.060Z"
      },
      {
        "duration": 60,
        "start_time": "2022-06-06T09:04:41.641Z"
      },
      {
        "duration": 44,
        "start_time": "2022-06-06T09:21:53.404Z"
      },
      {
        "duration": 16,
        "start_time": "2022-06-06T09:37:30.363Z"
      },
      {
        "duration": 11,
        "start_time": "2022-06-06T09:37:36.791Z"
      },
      {
        "duration": 37,
        "start_time": "2022-06-06T09:38:29.516Z"
      },
      {
        "duration": 19,
        "start_time": "2022-06-06T09:38:39.514Z"
      },
      {
        "duration": 214,
        "start_time": "2022-06-06T09:38:50.229Z"
      },
      {
        "duration": 214,
        "start_time": "2022-06-06T09:38:54.292Z"
      },
      {
        "duration": 105,
        "start_time": "2022-06-06T09:38:56.333Z"
      },
      {
        "duration": 14,
        "start_time": "2022-06-06T09:39:13.197Z"
      },
      {
        "duration": 13,
        "start_time": "2022-06-06T09:41:10.120Z"
      },
      {
        "duration": 47,
        "start_time": "2022-06-06T09:41:45.355Z"
      },
      {
        "duration": 26,
        "start_time": "2022-06-06T09:42:58.781Z"
      },
      {
        "duration": 45,
        "start_time": "2022-06-06T09:47:25.737Z"
      },
      {
        "duration": 425,
        "start_time": "2022-06-06T17:27:18.700Z"
      },
      {
        "duration": 12,
        "start_time": "2022-06-06T17:30:21.251Z"
      },
      {
        "duration": 1313,
        "start_time": "2022-06-06T17:30:44.414Z"
      },
      {
        "duration": 56,
        "start_time": "2022-06-06T17:30:45.729Z"
      },
      {
        "duration": 97,
        "start_time": "2022-06-06T17:30:45.787Z"
      },
      {
        "duration": 142,
        "start_time": "2022-06-06T17:30:45.887Z"
      },
      {
        "duration": 0,
        "start_time": "2022-06-06T17:30:46.031Z"
      },
      {
        "duration": 0,
        "start_time": "2022-06-06T17:30:46.032Z"
      },
      {
        "duration": 0,
        "start_time": "2022-06-06T17:30:46.033Z"
      },
      {
        "duration": 0,
        "start_time": "2022-06-06T17:30:46.034Z"
      },
      {
        "duration": 0,
        "start_time": "2022-06-06T17:30:46.036Z"
      },
      {
        "duration": 0,
        "start_time": "2022-06-06T17:30:46.037Z"
      },
      {
        "duration": 0,
        "start_time": "2022-06-06T17:30:46.038Z"
      },
      {
        "duration": 0,
        "start_time": "2022-06-06T17:30:46.039Z"
      },
      {
        "duration": 0,
        "start_time": "2022-06-06T17:30:46.040Z"
      },
      {
        "duration": 0,
        "start_time": "2022-06-06T17:30:46.042Z"
      },
      {
        "duration": 0,
        "start_time": "2022-06-06T17:30:46.043Z"
      },
      {
        "duration": 12,
        "start_time": "2022-06-06T17:31:03.903Z"
      },
      {
        "duration": 5,
        "start_time": "2022-06-06T17:35:33.162Z"
      },
      {
        "duration": 21,
        "start_time": "2022-06-06T17:35:42.094Z"
      },
      {
        "duration": 16,
        "start_time": "2022-06-06T17:37:44.351Z"
      },
      {
        "duration": 1365,
        "start_time": "2022-06-06T17:38:00.317Z"
      },
      {
        "duration": 59,
        "start_time": "2022-06-06T17:38:01.685Z"
      },
      {
        "duration": 117,
        "start_time": "2022-06-06T17:38:01.747Z"
      },
      {
        "duration": 26,
        "start_time": "2022-06-06T17:38:01.868Z"
      },
      {
        "duration": 62,
        "start_time": "2022-06-06T17:38:01.896Z"
      },
      {
        "duration": 47,
        "start_time": "2022-06-06T17:38:01.960Z"
      },
      {
        "duration": 89,
        "start_time": "2022-06-06T17:38:02.010Z"
      },
      {
        "duration": 6,
        "start_time": "2022-06-06T17:38:02.103Z"
      },
      {
        "duration": 67,
        "start_time": "2022-06-06T17:38:02.111Z"
      },
      {
        "duration": 15,
        "start_time": "2022-06-06T17:38:02.181Z"
      },
      {
        "duration": 28,
        "start_time": "2022-06-06T17:38:02.198Z"
      },
      {
        "duration": 53,
        "start_time": "2022-06-06T17:38:02.231Z"
      },
      {
        "duration": 16,
        "start_time": "2022-06-06T17:38:02.286Z"
      },
      {
        "duration": 183,
        "start_time": "2022-06-06T17:38:02.304Z"
      },
      {
        "duration": 0,
        "start_time": "2022-06-06T17:38:02.489Z"
      },
      {
        "duration": 13,
        "start_time": "2022-06-06T17:42:15.689Z"
      },
      {
        "duration": 57,
        "start_time": "2022-06-06T17:42:21.265Z"
      },
      {
        "duration": 6,
        "start_time": "2022-06-06T18:05:18.801Z"
      },
      {
        "duration": 58,
        "start_time": "2022-06-06T18:05:56.795Z"
      },
      {
        "duration": 1196,
        "start_time": "2022-06-06T18:20:56.844Z"
      },
      {
        "duration": 54,
        "start_time": "2022-06-06T18:20:58.043Z"
      },
      {
        "duration": 91,
        "start_time": "2022-06-06T18:20:58.099Z"
      },
      {
        "duration": 13,
        "start_time": "2022-06-06T18:20:58.192Z"
      },
      {
        "duration": 34,
        "start_time": "2022-06-06T18:20:58.208Z"
      },
      {
        "duration": 22,
        "start_time": "2022-06-06T18:20:58.243Z"
      },
      {
        "duration": 28,
        "start_time": "2022-06-06T18:20:58.267Z"
      },
      {
        "duration": 5,
        "start_time": "2022-06-06T18:20:58.297Z"
      },
      {
        "duration": 35,
        "start_time": "2022-06-06T18:20:58.304Z"
      },
      {
        "duration": 9,
        "start_time": "2022-06-06T18:20:58.341Z"
      },
      {
        "duration": 16,
        "start_time": "2022-06-06T18:20:58.352Z"
      },
      {
        "duration": 8,
        "start_time": "2022-06-06T18:20:58.370Z"
      },
      {
        "duration": 12,
        "start_time": "2022-06-06T18:20:58.380Z"
      },
      {
        "duration": 11,
        "start_time": "2022-06-06T18:20:58.394Z"
      },
      {
        "duration": 73,
        "start_time": "2022-06-06T18:20:58.407Z"
      },
      {
        "duration": 5,
        "start_time": "2022-06-06T18:20:58.481Z"
      },
      {
        "duration": 10,
        "start_time": "2022-06-06T18:21:19.679Z"
      },
      {
        "duration": 1497,
        "start_time": "2022-06-08T09:15:17.425Z"
      },
      {
        "duration": 97,
        "start_time": "2022-06-08T09:15:20.405Z"
      },
      {
        "duration": 28,
        "start_time": "2022-06-08T09:29:34.961Z"
      },
      {
        "duration": 459,
        "start_time": "2022-06-08T09:33:57.390Z"
      },
      {
        "duration": 16,
        "start_time": "2022-06-08T09:34:03.503Z"
      },
      {
        "duration": 50,
        "start_time": "2022-06-08T09:34:17.642Z"
      },
      {
        "duration": 13,
        "start_time": "2022-06-08T09:34:21.045Z"
      },
      {
        "duration": 12,
        "start_time": "2022-06-08T09:34:25.469Z"
      },
      {
        "duration": 7,
        "start_time": "2022-06-08T09:34:28.093Z"
      },
      {
        "duration": 10,
        "start_time": "2022-06-08T09:34:30.967Z"
      },
      {
        "duration": 1254,
        "start_time": "2022-06-08T09:34:47.425Z"
      },
      {
        "duration": 62,
        "start_time": "2022-06-08T09:34:48.681Z"
      },
      {
        "duration": 13,
        "start_time": "2022-06-08T09:34:48.745Z"
      },
      {
        "duration": 12,
        "start_time": "2022-06-08T09:34:48.761Z"
      },
      {
        "duration": 8,
        "start_time": "2022-06-08T09:34:48.774Z"
      },
      {
        "duration": 10,
        "start_time": "2022-06-08T09:34:48.784Z"
      },
      {
        "duration": 47,
        "start_time": "2022-06-08T09:34:48.796Z"
      },
      {
        "duration": 4,
        "start_time": "2022-06-08T09:34:48.845Z"
      },
      {
        "duration": 13,
        "start_time": "2022-06-08T09:34:48.851Z"
      },
      {
        "duration": 6,
        "start_time": "2022-06-08T09:34:48.866Z"
      },
      {
        "duration": 16,
        "start_time": "2022-06-08T09:34:48.874Z"
      },
      {
        "duration": 10,
        "start_time": "2022-06-08T09:34:48.891Z"
      },
      {
        "duration": 32,
        "start_time": "2022-06-08T09:34:48.902Z"
      },
      {
        "duration": 15,
        "start_time": "2022-06-08T09:34:48.935Z"
      },
      {
        "duration": 42,
        "start_time": "2022-06-08T09:34:48.952Z"
      },
      {
        "duration": 6,
        "start_time": "2022-06-08T09:34:48.996Z"
      },
      {
        "duration": 35191,
        "start_time": "2022-06-08T09:41:56.284Z"
      },
      {
        "duration": 38,
        "start_time": "2022-06-08T09:52:56.263Z"
      },
      {
        "duration": 10,
        "start_time": "2022-06-08T09:54:12.147Z"
      },
      {
        "duration": 12,
        "start_time": "2022-06-08T09:54:17.176Z"
      },
      {
        "duration": 3961,
        "start_time": "2022-06-08T14:51:37.892Z"
      },
      {
        "duration": 94,
        "start_time": "2022-06-08T14:51:41.855Z"
      },
      {
        "duration": 16,
        "start_time": "2022-06-08T14:51:41.950Z"
      },
      {
        "duration": 12,
        "start_time": "2022-06-08T14:51:41.967Z"
      },
      {
        "duration": 8,
        "start_time": "2022-06-08T14:51:41.980Z"
      },
      {
        "duration": 9,
        "start_time": "2022-06-08T14:51:41.989Z"
      },
      {
        "duration": 39,
        "start_time": "2022-06-08T14:51:42.000Z"
      },
      {
        "duration": 4,
        "start_time": "2022-06-08T14:51:42.041Z"
      },
      {
        "duration": 10,
        "start_time": "2022-06-08T14:51:42.046Z"
      },
      {
        "duration": 4,
        "start_time": "2022-06-08T14:51:42.058Z"
      },
      {
        "duration": 13,
        "start_time": "2022-06-08T14:51:42.063Z"
      },
      {
        "duration": 10,
        "start_time": "2022-06-08T14:51:42.077Z"
      },
      {
        "duration": 11,
        "start_time": "2022-06-08T14:51:42.088Z"
      },
      {
        "duration": 35,
        "start_time": "2022-06-08T14:51:42.100Z"
      },
      {
        "duration": 35,
        "start_time": "2022-06-08T14:51:42.137Z"
      },
      {
        "duration": 4,
        "start_time": "2022-06-08T14:51:42.173Z"
      },
      {
        "duration": 7,
        "start_time": "2022-06-08T14:54:55.515Z"
      },
      {
        "duration": 11,
        "start_time": "2022-06-08T14:54:58.100Z"
      },
      {
        "duration": 7,
        "start_time": "2022-06-08T14:57:22.289Z"
      },
      {
        "duration": 56,
        "start_time": "2022-06-08T15:00:31.805Z"
      },
      {
        "duration": 40,
        "start_time": "2022-06-08T17:10:16.892Z"
      },
      {
        "duration": 267,
        "start_time": "2022-06-08T17:15:32.512Z"
      },
      {
        "duration": 653,
        "start_time": "2022-06-08T17:16:56.716Z"
      },
      {
        "duration": 1184,
        "start_time": "2022-06-08T17:19:36.686Z"
      },
      {
        "duration": 1237,
        "start_time": "2022-06-08T17:22:55.569Z"
      },
      {
        "duration": 1237,
        "start_time": "2022-06-08T17:23:19.286Z"
      },
      {
        "duration": 307,
        "start_time": "2022-06-08T17:34:15.992Z"
      },
      {
        "duration": 24,
        "start_time": "2022-06-08T17:34:40.408Z"
      },
      {
        "duration": 201,
        "start_time": "2022-06-08T17:38:51.744Z"
      },
      {
        "duration": 171,
        "start_time": "2022-06-08T17:39:06.867Z"
      },
      {
        "duration": 237,
        "start_time": "2022-06-08T17:40:42.869Z"
      },
      {
        "duration": 275,
        "start_time": "2022-06-08T17:40:57.039Z"
      },
      {
        "duration": 353,
        "start_time": "2022-06-08T17:51:44.747Z"
      },
      {
        "duration": 1614,
        "start_time": "2022-06-09T06:14:34.164Z"
      },
      {
        "duration": 100,
        "start_time": "2022-06-09T06:14:35.780Z"
      },
      {
        "duration": 14,
        "start_time": "2022-06-09T06:14:35.881Z"
      },
      {
        "duration": 17,
        "start_time": "2022-06-09T06:14:35.897Z"
      },
      {
        "duration": 13,
        "start_time": "2022-06-09T06:14:35.917Z"
      },
      {
        "duration": 11,
        "start_time": "2022-06-09T06:14:35.931Z"
      },
      {
        "duration": 33,
        "start_time": "2022-06-09T06:14:35.943Z"
      },
      {
        "duration": 6,
        "start_time": "2022-06-09T06:14:35.978Z"
      },
      {
        "duration": 41,
        "start_time": "2022-06-09T06:14:35.986Z"
      },
      {
        "duration": 6,
        "start_time": "2022-06-09T06:14:36.031Z"
      },
      {
        "duration": 21,
        "start_time": "2022-06-09T06:14:36.039Z"
      },
      {
        "duration": 12,
        "start_time": "2022-06-09T06:14:36.062Z"
      },
      {
        "duration": 50,
        "start_time": "2022-06-09T06:14:36.076Z"
      },
      {
        "duration": 8,
        "start_time": "2022-06-09T06:14:36.128Z"
      },
      {
        "duration": 11,
        "start_time": "2022-06-09T06:14:36.138Z"
      },
      {
        "duration": 46,
        "start_time": "2022-06-09T06:14:36.151Z"
      },
      {
        "duration": 136,
        "start_time": "2022-06-09T06:14:36.199Z"
      },
      {
        "duration": 419,
        "start_time": "2022-06-09T06:14:36.336Z"
      },
      {
        "duration": 1386,
        "start_time": "2022-06-09T06:14:36.758Z"
      },
      {
        "duration": 6,
        "start_time": "2022-06-09T06:14:38.146Z"
      },
      {
        "duration": 284,
        "start_time": "2022-06-09T06:14:38.154Z"
      },
      {
        "duration": 395,
        "start_time": "2022-06-09T06:15:35.996Z"
      },
      {
        "duration": 333,
        "start_time": "2022-06-09T06:29:36.313Z"
      },
      {
        "duration": 235,
        "start_time": "2022-06-09T06:30:40.335Z"
      },
      {
        "duration": 339,
        "start_time": "2022-06-09T06:44:01.006Z"
      },
      {
        "duration": 423,
        "start_time": "2022-06-09T06:45:14.593Z"
      },
      {
        "duration": 279,
        "start_time": "2022-06-09T06:45:35.696Z"
      },
      {
        "duration": 92,
        "start_time": "2022-06-09T06:46:10.347Z"
      },
      {
        "duration": 1267,
        "start_time": "2022-06-09T06:48:21.666Z"
      },
      {
        "duration": 53,
        "start_time": "2022-06-09T06:48:22.934Z"
      },
      {
        "duration": 12,
        "start_time": "2022-06-09T06:48:22.989Z"
      },
      {
        "duration": 11,
        "start_time": "2022-06-09T06:48:23.004Z"
      },
      {
        "duration": 9,
        "start_time": "2022-06-09T06:48:23.017Z"
      },
      {
        "duration": 22,
        "start_time": "2022-06-09T06:48:23.027Z"
      },
      {
        "duration": 26,
        "start_time": "2022-06-09T06:48:23.051Z"
      },
      {
        "duration": 4,
        "start_time": "2022-06-09T06:48:23.078Z"
      },
      {
        "duration": 15,
        "start_time": "2022-06-09T06:48:23.084Z"
      },
      {
        "duration": 6,
        "start_time": "2022-06-09T06:48:23.102Z"
      },
      {
        "duration": 19,
        "start_time": "2022-06-09T06:48:23.109Z"
      },
      {
        "duration": 17,
        "start_time": "2022-06-09T06:48:23.130Z"
      },
      {
        "duration": 16,
        "start_time": "2022-06-09T06:48:23.149Z"
      },
      {
        "duration": 7,
        "start_time": "2022-06-09T06:48:23.167Z"
      },
      {
        "duration": 17,
        "start_time": "2022-06-09T06:48:23.176Z"
      },
      {
        "duration": 47,
        "start_time": "2022-06-09T06:48:23.195Z"
      },
      {
        "duration": 89,
        "start_time": "2022-06-09T06:48:23.243Z"
      },
      {
        "duration": 377,
        "start_time": "2022-06-09T06:48:23.334Z"
      },
      {
        "duration": 1329,
        "start_time": "2022-06-09T06:48:23.713Z"
      },
      {
        "duration": 5,
        "start_time": "2022-06-09T06:48:25.044Z"
      },
      {
        "duration": 378,
        "start_time": "2022-06-09T06:48:25.051Z"
      },
      {
        "duration": 433,
        "start_time": "2022-06-09T06:48:25.430Z"
      },
      {
        "duration": 311,
        "start_time": "2022-06-09T06:48:25.865Z"
      },
      {
        "duration": 110,
        "start_time": "2022-06-09T06:48:26.178Z"
      },
      {
        "duration": 49,
        "start_time": "2022-06-09T18:03:59.370Z"
      },
      {
        "duration": 1735,
        "start_time": "2022-06-09T18:04:07.585Z"
      },
      {
        "duration": 87,
        "start_time": "2022-06-09T18:04:09.322Z"
      },
      {
        "duration": 12,
        "start_time": "2022-06-09T18:04:09.410Z"
      },
      {
        "duration": 12,
        "start_time": "2022-06-09T18:04:09.423Z"
      },
      {
        "duration": 10,
        "start_time": "2022-06-09T18:04:09.436Z"
      },
      {
        "duration": 8,
        "start_time": "2022-06-09T18:04:09.447Z"
      },
      {
        "duration": 25,
        "start_time": "2022-06-09T18:04:09.456Z"
      },
      {
        "duration": 4,
        "start_time": "2022-06-09T18:04:09.483Z"
      },
      {
        "duration": 9,
        "start_time": "2022-06-09T18:04:09.488Z"
      },
      {
        "duration": 4,
        "start_time": "2022-06-09T18:04:09.499Z"
      },
      {
        "duration": 13,
        "start_time": "2022-06-09T18:04:09.504Z"
      },
      {
        "duration": 9,
        "start_time": "2022-06-09T18:04:09.519Z"
      },
      {
        "duration": 38,
        "start_time": "2022-06-09T18:04:09.530Z"
      },
      {
        "duration": 9,
        "start_time": "2022-06-09T18:04:09.570Z"
      },
      {
        "duration": 11,
        "start_time": "2022-06-09T18:04:09.581Z"
      },
      {
        "duration": 43,
        "start_time": "2022-06-09T18:04:09.594Z"
      },
      {
        "duration": 121,
        "start_time": "2022-06-09T18:04:09.639Z"
      },
      {
        "duration": 358,
        "start_time": "2022-06-09T18:04:09.762Z"
      },
      {
        "duration": 1232,
        "start_time": "2022-06-09T18:04:10.121Z"
      },
      {
        "duration": 7,
        "start_time": "2022-06-09T18:04:11.354Z"
      },
      {
        "duration": 6,
        "start_time": "2022-06-09T18:22:25.554Z"
      },
      {
        "duration": 1640,
        "start_time": "2022-06-10T06:03:28.667Z"
      },
      {
        "duration": 99,
        "start_time": "2022-06-10T06:03:30.309Z"
      },
      {
        "duration": 13,
        "start_time": "2022-06-10T06:03:30.410Z"
      },
      {
        "duration": 15,
        "start_time": "2022-06-10T06:03:30.426Z"
      },
      {
        "duration": 18,
        "start_time": "2022-06-10T06:03:30.443Z"
      },
      {
        "duration": 12,
        "start_time": "2022-06-10T06:03:30.465Z"
      },
      {
        "duration": 34,
        "start_time": "2022-06-10T06:03:30.478Z"
      },
      {
        "duration": 6,
        "start_time": "2022-06-10T06:03:30.514Z"
      },
      {
        "duration": 18,
        "start_time": "2022-06-10T06:03:30.521Z"
      },
      {
        "duration": 9,
        "start_time": "2022-06-10T06:03:30.542Z"
      },
      {
        "duration": 42,
        "start_time": "2022-06-10T06:03:30.565Z"
      },
      {
        "duration": 10,
        "start_time": "2022-06-10T06:03:30.608Z"
      },
      {
        "duration": 13,
        "start_time": "2022-06-10T06:03:30.619Z"
      },
      {
        "duration": 11,
        "start_time": "2022-06-10T06:03:30.634Z"
      },
      {
        "duration": 7,
        "start_time": "2022-06-10T06:03:30.647Z"
      },
      {
        "duration": 68,
        "start_time": "2022-06-10T06:03:30.656Z"
      },
      {
        "duration": 48,
        "start_time": "2022-06-10T06:03:30.726Z"
      },
      {
        "duration": 396,
        "start_time": "2022-06-10T06:03:30.867Z"
      },
      {
        "duration": 1337,
        "start_time": "2022-06-10T06:03:31.265Z"
      },
      {
        "duration": 6,
        "start_time": "2022-06-10T06:03:32.604Z"
      },
      {
        "duration": 1330,
        "start_time": "2022-06-10T06:14:20.537Z"
      },
      {
        "duration": 55,
        "start_time": "2022-06-10T06:14:21.869Z"
      },
      {
        "duration": 14,
        "start_time": "2022-06-10T06:14:21.925Z"
      },
      {
        "duration": 12,
        "start_time": "2022-06-10T06:14:21.941Z"
      },
      {
        "duration": 14,
        "start_time": "2022-06-10T06:14:21.955Z"
      },
      {
        "duration": 10,
        "start_time": "2022-06-10T06:14:21.971Z"
      },
      {
        "duration": 28,
        "start_time": "2022-06-10T06:14:21.982Z"
      },
      {
        "duration": 5,
        "start_time": "2022-06-10T06:14:22.012Z"
      },
      {
        "duration": 14,
        "start_time": "2022-06-10T06:14:22.019Z"
      },
      {
        "duration": 31,
        "start_time": "2022-06-10T06:14:22.037Z"
      },
      {
        "duration": 22,
        "start_time": "2022-06-10T06:14:22.070Z"
      },
      {
        "duration": 9,
        "start_time": "2022-06-10T06:14:22.093Z"
      },
      {
        "duration": 9,
        "start_time": "2022-06-10T06:14:22.104Z"
      },
      {
        "duration": 8,
        "start_time": "2022-06-10T06:14:22.115Z"
      },
      {
        "duration": 41,
        "start_time": "2022-06-10T06:14:22.124Z"
      },
      {
        "duration": 44,
        "start_time": "2022-06-10T06:14:22.166Z"
      },
      {
        "duration": 63,
        "start_time": "2022-06-10T06:14:22.211Z"
      },
      {
        "duration": 456,
        "start_time": "2022-06-10T06:14:22.275Z"
      },
      {
        "duration": 1336,
        "start_time": "2022-06-10T06:14:22.733Z"
      },
      {
        "duration": 8,
        "start_time": "2022-06-10T06:14:24.071Z"
      },
      {
        "duration": 522,
        "start_time": "2022-06-10T06:15:02.692Z"
      },
      {
        "duration": 5,
        "start_time": "2022-06-10T06:22:23.898Z"
      },
      {
        "duration": 61,
        "start_time": "2022-06-10T06:22:25.885Z"
      },
      {
        "duration": 19,
        "start_time": "2022-06-10T06:22:28.863Z"
      },
      {
        "duration": 12,
        "start_time": "2022-06-10T06:22:31.714Z"
      },
      {
        "duration": 6,
        "start_time": "2022-06-10T06:22:34.543Z"
      },
      {
        "duration": 11,
        "start_time": "2022-06-10T06:22:38.682Z"
      },
      {
        "duration": 27,
        "start_time": "2022-06-10T06:22:40.911Z"
      },
      {
        "duration": 5,
        "start_time": "2022-06-10T06:22:44.133Z"
      },
      {
        "duration": 8,
        "start_time": "2022-06-10T06:22:46.082Z"
      },
      {
        "duration": 5,
        "start_time": "2022-06-10T06:22:49.455Z"
      },
      {
        "duration": 13,
        "start_time": "2022-06-10T06:22:51.452Z"
      },
      {
        "duration": 9,
        "start_time": "2022-06-10T06:22:54.294Z"
      },
      {
        "duration": 14,
        "start_time": "2022-06-10T06:22:59.068Z"
      },
      {
        "duration": 8,
        "start_time": "2022-06-10T06:23:01.180Z"
      },
      {
        "duration": 7,
        "start_time": "2022-06-10T06:23:04.185Z"
      },
      {
        "duration": 43,
        "start_time": "2022-06-10T06:23:06.743Z"
      },
      {
        "duration": 214,
        "start_time": "2022-06-10T06:23:12.552Z"
      },
      {
        "duration": 289,
        "start_time": "2022-06-10T06:23:23.255Z"
      },
      {
        "duration": 1458,
        "start_time": "2022-06-10T06:23:27.745Z"
      },
      {
        "duration": 1410,
        "start_time": "2022-06-10T06:23:59.887Z"
      },
      {
        "duration": 6,
        "start_time": "2022-06-10T06:24:09.636Z"
      },
      {
        "duration": 106,
        "start_time": "2022-06-10T06:24:13.260Z"
      },
      {
        "duration": 256,
        "start_time": "2022-06-10T06:24:41.584Z"
      },
      {
        "duration": 0,
        "start_time": "2022-06-10T06:30:36.212Z"
      },
      {
        "duration": 63007,
        "start_time": "2022-06-10T06:30:44.361Z"
      },
      {
        "duration": 36170,
        "start_time": "2022-06-10T06:32:40.526Z"
      },
      {
        "duration": 34569,
        "start_time": "2022-06-10T06:41:45.590Z"
      },
      {
        "duration": 348,
        "start_time": "2022-06-10T06:43:52.680Z"
      },
      {
        "duration": 258,
        "start_time": "2022-06-10T06:50:15.355Z"
      },
      {
        "duration": 310028,
        "start_time": "2022-06-10T06:51:50.552Z"
      },
      {
        "duration": 10,
        "start_time": "2022-06-10T07:07:16.486Z"
      },
      {
        "duration": 94,
        "start_time": "2022-06-10T07:07:34.291Z"
      },
      {
        "duration": 339,
        "start_time": "2022-06-10T07:08:45.887Z"
      },
      {
        "duration": 447063,
        "start_time": "2022-06-10T07:09:55.105Z"
      },
      {
        "duration": 16,
        "start_time": "2022-06-10T07:17:22.175Z"
      },
      {
        "duration": 84,
        "start_time": "2022-06-10T07:17:22.193Z"
      },
      {
        "duration": 267,
        "start_time": "2022-06-10T07:17:22.279Z"
      },
      {
        "duration": 181006,
        "start_time": "2022-06-10T07:17:22.548Z"
      },
      {
        "duration": 450921,
        "start_time": "2022-06-10T07:54:06.532Z"
      },
      {
        "duration": 18,
        "start_time": "2022-06-10T08:36:03.942Z"
      },
      {
        "duration": 1841,
        "start_time": "2022-06-10T08:36:19.387Z"
      }
    ],
    "kernelspec": {
      "display_name": "Python 3 (ipykernel)",
      "language": "python",
      "name": "python3"
    },
    "language_info": {
      "codemirror_mode": {
        "name": "ipython",
        "version": 3
      },
      "file_extension": ".py",
      "mimetype": "text/x-python",
      "name": "python",
      "nbconvert_exporter": "python",
      "pygments_lexer": "ipython3",
      "version": "3.9.5"
    },
    "toc": {
      "base_numbering": 1,
      "nav_menu": {},
      "number_sections": false,
      "sideBar": true,
      "skip_h1_title": true,
      "title_cell": "Содержание",
      "title_sidebar": "Contents",
      "toc_cell": true,
      "toc_position": {
        "height": "calc(100% - 180px)",
        "left": "10px",
        "top": "150px",
        "width": "286.594px"
      },
      "toc_section_display": true,
      "toc_window_display": true
    },
    "colab": {
      "provenance": [],
      "toc_visible": true
    }
  },
  "nbformat": 4,
  "nbformat_minor": 0
}