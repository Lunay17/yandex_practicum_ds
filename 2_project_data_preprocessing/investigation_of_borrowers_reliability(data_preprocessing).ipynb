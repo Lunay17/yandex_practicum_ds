{
  "cells": [
    {
      "cell_type": "markdown",
      "id": "6ec85a5f",
      "metadata": {
        "id": "6ec85a5f"
      },
      "source": [
        "# Исследование надежности заемщиков."
      ]
    },
    {
      "cell_type": "markdown",
      "id": "11c2ba6c",
      "metadata": {
        "id": "11c2ba6c"
      },
      "source": [
        "Заказчик — кредитный отдел банка. Нужно разобраться, влияет ли семейное положение и количество детей клиента на факт погашения кредита в срок. Входные данные от банка — статистика о платёжеспособности клиентов.\n",
        "Результаты исследования будут учтены при построении модели кредитного скоринга — специальной системы, которая оценивает способность потенциального заёмщика вернуть кредит банку."
      ]
    },
    {
      "cell_type": "markdown",
      "id": "2977fcdf",
      "metadata": {
        "id": "2977fcdf"
      },
      "source": [
        "## Шаг 1. Обзор данных"
      ]
    },
    {
      "cell_type": "markdown",
      "id": "4629f10e",
      "metadata": {
        "id": "4629f10e"
      },
      "source": [
        "Для начала выведем на экран первые 10 строк датафрейма и изучим его."
      ]
    },
    {
      "cell_type": "code",
      "execution_count": null,
      "id": "dc0a235d",
      "metadata": {
        "id": "dc0a235d",
        "outputId": "5c73e3be-a264-47ad-9a1d-6c31acf9d3b3"
      },
      "outputs": [
        {
          "data": {
            "text/html": [
              "<div>\n",
              "<style scoped>\n",
              "    .dataframe tbody tr th:only-of-type {\n",
              "        vertical-align: middle;\n",
              "    }\n",
              "\n",
              "    .dataframe tbody tr th {\n",
              "        vertical-align: top;\n",
              "    }\n",
              "\n",
              "    .dataframe thead th {\n",
              "        text-align: right;\n",
              "    }\n",
              "</style>\n",
              "<table border=\"1\" class=\"dataframe\">\n",
              "  <thead>\n",
              "    <tr style=\"text-align: right;\">\n",
              "      <th></th>\n",
              "      <th>children</th>\n",
              "      <th>days_employed</th>\n",
              "      <th>dob_years</th>\n",
              "      <th>education</th>\n",
              "      <th>education_id</th>\n",
              "      <th>family_status</th>\n",
              "      <th>family_status_id</th>\n",
              "      <th>gender</th>\n",
              "      <th>income_type</th>\n",
              "      <th>debt</th>\n",
              "      <th>total_income</th>\n",
              "      <th>purpose</th>\n",
              "    </tr>\n",
              "  </thead>\n",
              "  <tbody>\n",
              "    <tr>\n",
              "      <th>0</th>\n",
              "      <td>1</td>\n",
              "      <td>-8437.673028</td>\n",
              "      <td>42</td>\n",
              "      <td>высшее</td>\n",
              "      <td>0</td>\n",
              "      <td>женат / замужем</td>\n",
              "      <td>0</td>\n",
              "      <td>F</td>\n",
              "      <td>сотрудник</td>\n",
              "      <td>0</td>\n",
              "      <td>253875.639453</td>\n",
              "      <td>покупка жилья</td>\n",
              "    </tr>\n",
              "    <tr>\n",
              "      <th>1</th>\n",
              "      <td>1</td>\n",
              "      <td>-4024.803754</td>\n",
              "      <td>36</td>\n",
              "      <td>среднее</td>\n",
              "      <td>1</td>\n",
              "      <td>женат / замужем</td>\n",
              "      <td>0</td>\n",
              "      <td>F</td>\n",
              "      <td>сотрудник</td>\n",
              "      <td>0</td>\n",
              "      <td>112080.014102</td>\n",
              "      <td>приобретение автомобиля</td>\n",
              "    </tr>\n",
              "    <tr>\n",
              "      <th>2</th>\n",
              "      <td>0</td>\n",
              "      <td>-5623.422610</td>\n",
              "      <td>33</td>\n",
              "      <td>Среднее</td>\n",
              "      <td>1</td>\n",
              "      <td>женат / замужем</td>\n",
              "      <td>0</td>\n",
              "      <td>M</td>\n",
              "      <td>сотрудник</td>\n",
              "      <td>0</td>\n",
              "      <td>145885.952297</td>\n",
              "      <td>покупка жилья</td>\n",
              "    </tr>\n",
              "    <tr>\n",
              "      <th>3</th>\n",
              "      <td>3</td>\n",
              "      <td>-4124.747207</td>\n",
              "      <td>32</td>\n",
              "      <td>среднее</td>\n",
              "      <td>1</td>\n",
              "      <td>женат / замужем</td>\n",
              "      <td>0</td>\n",
              "      <td>M</td>\n",
              "      <td>сотрудник</td>\n",
              "      <td>0</td>\n",
              "      <td>267628.550329</td>\n",
              "      <td>дополнительное образование</td>\n",
              "    </tr>\n",
              "    <tr>\n",
              "      <th>4</th>\n",
              "      <td>0</td>\n",
              "      <td>340266.072047</td>\n",
              "      <td>53</td>\n",
              "      <td>среднее</td>\n",
              "      <td>1</td>\n",
              "      <td>гражданский брак</td>\n",
              "      <td>1</td>\n",
              "      <td>F</td>\n",
              "      <td>пенсионер</td>\n",
              "      <td>0</td>\n",
              "      <td>158616.077870</td>\n",
              "      <td>сыграть свадьбу</td>\n",
              "    </tr>\n",
              "    <tr>\n",
              "      <th>5</th>\n",
              "      <td>0</td>\n",
              "      <td>-926.185831</td>\n",
              "      <td>27</td>\n",
              "      <td>высшее</td>\n",
              "      <td>0</td>\n",
              "      <td>гражданский брак</td>\n",
              "      <td>1</td>\n",
              "      <td>M</td>\n",
              "      <td>компаньон</td>\n",
              "      <td>0</td>\n",
              "      <td>255763.565419</td>\n",
              "      <td>покупка жилья</td>\n",
              "    </tr>\n",
              "    <tr>\n",
              "      <th>6</th>\n",
              "      <td>0</td>\n",
              "      <td>-2879.202052</td>\n",
              "      <td>43</td>\n",
              "      <td>высшее</td>\n",
              "      <td>0</td>\n",
              "      <td>женат / замужем</td>\n",
              "      <td>0</td>\n",
              "      <td>F</td>\n",
              "      <td>компаньон</td>\n",
              "      <td>0</td>\n",
              "      <td>240525.971920</td>\n",
              "      <td>операции с жильем</td>\n",
              "    </tr>\n",
              "    <tr>\n",
              "      <th>7</th>\n",
              "      <td>0</td>\n",
              "      <td>-152.779569</td>\n",
              "      <td>50</td>\n",
              "      <td>СРЕДНЕЕ</td>\n",
              "      <td>1</td>\n",
              "      <td>женат / замужем</td>\n",
              "      <td>0</td>\n",
              "      <td>M</td>\n",
              "      <td>сотрудник</td>\n",
              "      <td>0</td>\n",
              "      <td>135823.934197</td>\n",
              "      <td>образование</td>\n",
              "    </tr>\n",
              "    <tr>\n",
              "      <th>8</th>\n",
              "      <td>2</td>\n",
              "      <td>-6929.865299</td>\n",
              "      <td>35</td>\n",
              "      <td>ВЫСШЕЕ</td>\n",
              "      <td>0</td>\n",
              "      <td>гражданский брак</td>\n",
              "      <td>1</td>\n",
              "      <td>F</td>\n",
              "      <td>сотрудник</td>\n",
              "      <td>0</td>\n",
              "      <td>95856.832424</td>\n",
              "      <td>на проведение свадьбы</td>\n",
              "    </tr>\n",
              "    <tr>\n",
              "      <th>9</th>\n",
              "      <td>0</td>\n",
              "      <td>-2188.756445</td>\n",
              "      <td>41</td>\n",
              "      <td>среднее</td>\n",
              "      <td>1</td>\n",
              "      <td>женат / замужем</td>\n",
              "      <td>0</td>\n",
              "      <td>M</td>\n",
              "      <td>сотрудник</td>\n",
              "      <td>0</td>\n",
              "      <td>144425.938277</td>\n",
              "      <td>покупка жилья для семьи</td>\n",
              "    </tr>\n",
              "  </tbody>\n",
              "</table>\n",
              "</div>"
            ],
            "text/plain": [
              "   children  days_employed  dob_years education  education_id  \\\n",
              "0         1   -8437.673028         42    высшее             0   \n",
              "1         1   -4024.803754         36   среднее             1   \n",
              "2         0   -5623.422610         33   Среднее             1   \n",
              "3         3   -4124.747207         32   среднее             1   \n",
              "4         0  340266.072047         53   среднее             1   \n",
              "5         0    -926.185831         27    высшее             0   \n",
              "6         0   -2879.202052         43    высшее             0   \n",
              "7         0    -152.779569         50   СРЕДНЕЕ             1   \n",
              "8         2   -6929.865299         35    ВЫСШЕЕ             0   \n",
              "9         0   -2188.756445         41   среднее             1   \n",
              "\n",
              "      family_status  family_status_id gender income_type  debt   total_income  \\\n",
              "0   женат / замужем                 0      F   сотрудник     0  253875.639453   \n",
              "1   женат / замужем                 0      F   сотрудник     0  112080.014102   \n",
              "2   женат / замужем                 0      M   сотрудник     0  145885.952297   \n",
              "3   женат / замужем                 0      M   сотрудник     0  267628.550329   \n",
              "4  гражданский брак                 1      F   пенсионер     0  158616.077870   \n",
              "5  гражданский брак                 1      M   компаньон     0  255763.565419   \n",
              "6   женат / замужем                 0      F   компаньон     0  240525.971920   \n",
              "7   женат / замужем                 0      M   сотрудник     0  135823.934197   \n",
              "8  гражданский брак                 1      F   сотрудник     0   95856.832424   \n",
              "9   женат / замужем                 0      M   сотрудник     0  144425.938277   \n",
              "\n",
              "                      purpose  \n",
              "0               покупка жилья  \n",
              "1     приобретение автомобиля  \n",
              "2               покупка жилья  \n",
              "3  дополнительное образование  \n",
              "4             сыграть свадьбу  \n",
              "5               покупка жилья  \n",
              "6           операции с жильем  \n",
              "7                 образование  \n",
              "8       на проведение свадьбы  \n",
              "9     покупка жилья для семьи  "
            ]
          },
          "metadata": {},
          "output_type": "display_data"
        }
      ],
      "source": [
        "import pandas as pd\n",
        "df = pd.read_csv('/datasets/data.csv') # чтение файла с данными и сохранение в df\n",
        "display(df.head(10))"
      ]
    },
    {
      "cell_type": "markdown",
      "id": "5f6f04d4",
      "metadata": {
        "id": "5f6f04d4"
      },
      "source": [
        "Также посмотрим общую информацию о таблице. "
      ]
    },
    {
      "cell_type": "code",
      "execution_count": null,
      "id": "76d2b831",
      "metadata": {
        "id": "76d2b831",
        "outputId": "8ba7c822-fea1-41b3-dcdc-d9a1f915bfbe"
      },
      "outputs": [
        {
          "name": "stdout",
          "output_type": "stream",
          "text": [
            "<class 'pandas.core.frame.DataFrame'>\n",
            "RangeIndex: 21525 entries, 0 to 21524\n",
            "Data columns (total 12 columns):\n",
            " #   Column            Non-Null Count  Dtype  \n",
            "---  ------            --------------  -----  \n",
            " 0   children          21525 non-null  int64  \n",
            " 1   days_employed     19351 non-null  float64\n",
            " 2   dob_years         21525 non-null  int64  \n",
            " 3   education         21525 non-null  object \n",
            " 4   education_id      21525 non-null  int64  \n",
            " 5   family_status     21525 non-null  object \n",
            " 6   family_status_id  21525 non-null  int64  \n",
            " 7   gender            21525 non-null  object \n",
            " 8   income_type       21525 non-null  object \n",
            " 9   debt              21525 non-null  int64  \n",
            " 10  total_income      19351 non-null  float64\n",
            " 11  purpose           21525 non-null  object \n",
            "dtypes: float64(2), int64(5), object(5)\n",
            "memory usage: 2.0+ MB\n"
          ]
        }
      ],
      "source": [
        "df.info()"
      ]
    },
    {
      "cell_type": "markdown",
      "id": "d401dca3",
      "metadata": {
        "id": "d401dca3"
      },
      "source": [
        "Мы видим 11 столбов, их типы, а также, что в 2 столбцах есть пропущенные данные. "
      ]
    },
    {
      "cell_type": "markdown",
      "id": "335afc27",
      "metadata": {
        "id": "335afc27"
      },
      "source": [
        "Выведем на экран все названия столбцов, чтобы проверить правильность их написания."
      ]
    },
    {
      "cell_type": "code",
      "execution_count": null,
      "id": "e1750c09",
      "metadata": {
        "id": "e1750c09",
        "outputId": "1f95a9ee-ca4b-4a6b-8783-15f4bdcca116"
      },
      "outputs": [
        {
          "data": {
            "text/plain": [
              "Index(['children', 'days_employed', 'dob_years', 'education', 'education_id',\n",
              "       'family_status', 'family_status_id', 'gender', 'income_type', 'debt',\n",
              "       'total_income', 'purpose'],\n",
              "      dtype='object')"
            ]
          },
          "execution_count": 3,
          "metadata": {},
          "output_type": "execute_result"
        }
      ],
      "source": [
        "df.columns"
      ]
    },
    {
      "cell_type": "markdown",
      "id": "617ac3f0",
      "metadata": {
        "id": "617ac3f0"
      },
      "source": [
        "Все названия столбцов правильного формата."
      ]
    },
    {
      "cell_type": "markdown",
      "id": "34a0bac8",
      "metadata": {
        "id": "34a0bac8"
      },
      "source": [
        "## Шаг 2.1 Заполнение пропусков"
      ]
    },
    {
      "cell_type": "markdown",
      "id": "9a7139d8",
      "metadata": {
        "id": "9a7139d8"
      },
      "source": [
        "Проверяем количество пустых ячеек в таблице"
      ]
    },
    {
      "cell_type": "code",
      "execution_count": null,
      "id": "8f271d96",
      "metadata": {
        "scrolled": true,
        "id": "8f271d96",
        "outputId": "d9e9c964-6155-4b9b-ed2b-8ccef0d88e50"
      },
      "outputs": [
        {
          "data": {
            "text/plain": [
              "children               0\n",
              "days_employed       2174\n",
              "dob_years              0\n",
              "education              0\n",
              "education_id           0\n",
              "family_status          0\n",
              "family_status_id       0\n",
              "gender                 0\n",
              "income_type            0\n",
              "debt                   0\n",
              "total_income        2174\n",
              "purpose                0\n",
              "dtype: int64"
            ]
          },
          "execution_count": 4,
          "metadata": {},
          "output_type": "execute_result"
        }
      ],
      "source": [
        "df.isna().sum()"
      ]
    },
    {
      "cell_type": "markdown",
      "id": "f1f0f77f",
      "metadata": {
        "id": "f1f0f77f"
      },
      "source": [
        "Пропущенные значения есть в столбце 'days_employed' и 'total_income'"
      ]
    },
    {
      "cell_type": "markdown",
      "id": "306b590b",
      "metadata": {
        "id": "306b590b"
      },
      "source": [
        "Для начала еще раз посмотрим несколько строк таблицы и обратим внимание на 'days_employed' и 'total_income'"
      ]
    },
    {
      "cell_type": "code",
      "execution_count": null,
      "id": "66de2cda",
      "metadata": {
        "scrolled": true,
        "id": "66de2cda",
        "outputId": "e2838e7d-a2cc-4356-ab16-578b8ea25add"
      },
      "outputs": [
        {
          "data": {
            "text/html": [
              "<div>\n",
              "<style scoped>\n",
              "    .dataframe tbody tr th:only-of-type {\n",
              "        vertical-align: middle;\n",
              "    }\n",
              "\n",
              "    .dataframe tbody tr th {\n",
              "        vertical-align: top;\n",
              "    }\n",
              "\n",
              "    .dataframe thead th {\n",
              "        text-align: right;\n",
              "    }\n",
              "</style>\n",
              "<table border=\"1\" class=\"dataframe\">\n",
              "  <thead>\n",
              "    <tr style=\"text-align: right;\">\n",
              "      <th></th>\n",
              "      <th>children</th>\n",
              "      <th>days_employed</th>\n",
              "      <th>dob_years</th>\n",
              "      <th>education</th>\n",
              "      <th>education_id</th>\n",
              "      <th>family_status</th>\n",
              "      <th>family_status_id</th>\n",
              "      <th>gender</th>\n",
              "      <th>income_type</th>\n",
              "      <th>debt</th>\n",
              "      <th>total_income</th>\n",
              "      <th>purpose</th>\n",
              "    </tr>\n",
              "  </thead>\n",
              "  <tbody>\n",
              "    <tr>\n",
              "      <th>0</th>\n",
              "      <td>1</td>\n",
              "      <td>-8437.673028</td>\n",
              "      <td>42</td>\n",
              "      <td>высшее</td>\n",
              "      <td>0</td>\n",
              "      <td>женат / замужем</td>\n",
              "      <td>0</td>\n",
              "      <td>F</td>\n",
              "      <td>сотрудник</td>\n",
              "      <td>0</td>\n",
              "      <td>253875.639453</td>\n",
              "      <td>покупка жилья</td>\n",
              "    </tr>\n",
              "    <tr>\n",
              "      <th>1</th>\n",
              "      <td>1</td>\n",
              "      <td>-4024.803754</td>\n",
              "      <td>36</td>\n",
              "      <td>среднее</td>\n",
              "      <td>1</td>\n",
              "      <td>женат / замужем</td>\n",
              "      <td>0</td>\n",
              "      <td>F</td>\n",
              "      <td>сотрудник</td>\n",
              "      <td>0</td>\n",
              "      <td>112080.014102</td>\n",
              "      <td>приобретение автомобиля</td>\n",
              "    </tr>\n",
              "    <tr>\n",
              "      <th>2</th>\n",
              "      <td>0</td>\n",
              "      <td>-5623.422610</td>\n",
              "      <td>33</td>\n",
              "      <td>Среднее</td>\n",
              "      <td>1</td>\n",
              "      <td>женат / замужем</td>\n",
              "      <td>0</td>\n",
              "      <td>M</td>\n",
              "      <td>сотрудник</td>\n",
              "      <td>0</td>\n",
              "      <td>145885.952297</td>\n",
              "      <td>покупка жилья</td>\n",
              "    </tr>\n",
              "    <tr>\n",
              "      <th>3</th>\n",
              "      <td>3</td>\n",
              "      <td>-4124.747207</td>\n",
              "      <td>32</td>\n",
              "      <td>среднее</td>\n",
              "      <td>1</td>\n",
              "      <td>женат / замужем</td>\n",
              "      <td>0</td>\n",
              "      <td>M</td>\n",
              "      <td>сотрудник</td>\n",
              "      <td>0</td>\n",
              "      <td>267628.550329</td>\n",
              "      <td>дополнительное образование</td>\n",
              "    </tr>\n",
              "    <tr>\n",
              "      <th>4</th>\n",
              "      <td>0</td>\n",
              "      <td>340266.072047</td>\n",
              "      <td>53</td>\n",
              "      <td>среднее</td>\n",
              "      <td>1</td>\n",
              "      <td>гражданский брак</td>\n",
              "      <td>1</td>\n",
              "      <td>F</td>\n",
              "      <td>пенсионер</td>\n",
              "      <td>0</td>\n",
              "      <td>158616.077870</td>\n",
              "      <td>сыграть свадьбу</td>\n",
              "    </tr>\n",
              "    <tr>\n",
              "      <th>5</th>\n",
              "      <td>0</td>\n",
              "      <td>-926.185831</td>\n",
              "      <td>27</td>\n",
              "      <td>высшее</td>\n",
              "      <td>0</td>\n",
              "      <td>гражданский брак</td>\n",
              "      <td>1</td>\n",
              "      <td>M</td>\n",
              "      <td>компаньон</td>\n",
              "      <td>0</td>\n",
              "      <td>255763.565419</td>\n",
              "      <td>покупка жилья</td>\n",
              "    </tr>\n",
              "    <tr>\n",
              "      <th>6</th>\n",
              "      <td>0</td>\n",
              "      <td>-2879.202052</td>\n",
              "      <td>43</td>\n",
              "      <td>высшее</td>\n",
              "      <td>0</td>\n",
              "      <td>женат / замужем</td>\n",
              "      <td>0</td>\n",
              "      <td>F</td>\n",
              "      <td>компаньон</td>\n",
              "      <td>0</td>\n",
              "      <td>240525.971920</td>\n",
              "      <td>операции с жильем</td>\n",
              "    </tr>\n",
              "    <tr>\n",
              "      <th>7</th>\n",
              "      <td>0</td>\n",
              "      <td>-152.779569</td>\n",
              "      <td>50</td>\n",
              "      <td>СРЕДНЕЕ</td>\n",
              "      <td>1</td>\n",
              "      <td>женат / замужем</td>\n",
              "      <td>0</td>\n",
              "      <td>M</td>\n",
              "      <td>сотрудник</td>\n",
              "      <td>0</td>\n",
              "      <td>135823.934197</td>\n",
              "      <td>образование</td>\n",
              "    </tr>\n",
              "    <tr>\n",
              "      <th>8</th>\n",
              "      <td>2</td>\n",
              "      <td>-6929.865299</td>\n",
              "      <td>35</td>\n",
              "      <td>ВЫСШЕЕ</td>\n",
              "      <td>0</td>\n",
              "      <td>гражданский брак</td>\n",
              "      <td>1</td>\n",
              "      <td>F</td>\n",
              "      <td>сотрудник</td>\n",
              "      <td>0</td>\n",
              "      <td>95856.832424</td>\n",
              "      <td>на проведение свадьбы</td>\n",
              "    </tr>\n",
              "    <tr>\n",
              "      <th>9</th>\n",
              "      <td>0</td>\n",
              "      <td>-2188.756445</td>\n",
              "      <td>41</td>\n",
              "      <td>среднее</td>\n",
              "      <td>1</td>\n",
              "      <td>женат / замужем</td>\n",
              "      <td>0</td>\n",
              "      <td>M</td>\n",
              "      <td>сотрудник</td>\n",
              "      <td>0</td>\n",
              "      <td>144425.938277</td>\n",
              "      <td>покупка жилья для семьи</td>\n",
              "    </tr>\n",
              "    <tr>\n",
              "      <th>10</th>\n",
              "      <td>2</td>\n",
              "      <td>-4171.483647</td>\n",
              "      <td>36</td>\n",
              "      <td>высшее</td>\n",
              "      <td>0</td>\n",
              "      <td>женат / замужем</td>\n",
              "      <td>0</td>\n",
              "      <td>M</td>\n",
              "      <td>компаньон</td>\n",
              "      <td>0</td>\n",
              "      <td>113943.491460</td>\n",
              "      <td>покупка недвижимости</td>\n",
              "    </tr>\n",
              "    <tr>\n",
              "      <th>11</th>\n",
              "      <td>0</td>\n",
              "      <td>-792.701887</td>\n",
              "      <td>40</td>\n",
              "      <td>среднее</td>\n",
              "      <td>1</td>\n",
              "      <td>женат / замужем</td>\n",
              "      <td>0</td>\n",
              "      <td>F</td>\n",
              "      <td>сотрудник</td>\n",
              "      <td>0</td>\n",
              "      <td>77069.234271</td>\n",
              "      <td>покупка коммерческой недвижимости</td>\n",
              "    </tr>\n",
              "    <tr>\n",
              "      <th>12</th>\n",
              "      <td>0</td>\n",
              "      <td>NaN</td>\n",
              "      <td>65</td>\n",
              "      <td>среднее</td>\n",
              "      <td>1</td>\n",
              "      <td>гражданский брак</td>\n",
              "      <td>1</td>\n",
              "      <td>M</td>\n",
              "      <td>пенсионер</td>\n",
              "      <td>0</td>\n",
              "      <td>NaN</td>\n",
              "      <td>сыграть свадьбу</td>\n",
              "    </tr>\n",
              "    <tr>\n",
              "      <th>13</th>\n",
              "      <td>0</td>\n",
              "      <td>-1846.641941</td>\n",
              "      <td>54</td>\n",
              "      <td>неоконченное высшее</td>\n",
              "      <td>2</td>\n",
              "      <td>женат / замужем</td>\n",
              "      <td>0</td>\n",
              "      <td>F</td>\n",
              "      <td>сотрудник</td>\n",
              "      <td>0</td>\n",
              "      <td>130458.228857</td>\n",
              "      <td>приобретение автомобиля</td>\n",
              "    </tr>\n",
              "    <tr>\n",
              "      <th>14</th>\n",
              "      <td>0</td>\n",
              "      <td>-1844.956182</td>\n",
              "      <td>56</td>\n",
              "      <td>высшее</td>\n",
              "      <td>0</td>\n",
              "      <td>гражданский брак</td>\n",
              "      <td>1</td>\n",
              "      <td>F</td>\n",
              "      <td>компаньон</td>\n",
              "      <td>1</td>\n",
              "      <td>165127.911772</td>\n",
              "      <td>покупка жилой недвижимости</td>\n",
              "    </tr>\n",
              "  </tbody>\n",
              "</table>\n",
              "</div>"
            ],
            "text/plain": [
              "    children  days_employed  dob_years            education  education_id  \\\n",
              "0          1   -8437.673028         42               высшее             0   \n",
              "1          1   -4024.803754         36              среднее             1   \n",
              "2          0   -5623.422610         33              Среднее             1   \n",
              "3          3   -4124.747207         32              среднее             1   \n",
              "4          0  340266.072047         53              среднее             1   \n",
              "5          0    -926.185831         27               высшее             0   \n",
              "6          0   -2879.202052         43               высшее             0   \n",
              "7          0    -152.779569         50              СРЕДНЕЕ             1   \n",
              "8          2   -6929.865299         35               ВЫСШЕЕ             0   \n",
              "9          0   -2188.756445         41              среднее             1   \n",
              "10         2   -4171.483647         36               высшее             0   \n",
              "11         0    -792.701887         40              среднее             1   \n",
              "12         0            NaN         65              среднее             1   \n",
              "13         0   -1846.641941         54  неоконченное высшее             2   \n",
              "14         0   -1844.956182         56               высшее             0   \n",
              "\n",
              "       family_status  family_status_id gender income_type  debt  \\\n",
              "0    женат / замужем                 0      F   сотрудник     0   \n",
              "1    женат / замужем                 0      F   сотрудник     0   \n",
              "2    женат / замужем                 0      M   сотрудник     0   \n",
              "3    женат / замужем                 0      M   сотрудник     0   \n",
              "4   гражданский брак                 1      F   пенсионер     0   \n",
              "5   гражданский брак                 1      M   компаньон     0   \n",
              "6    женат / замужем                 0      F   компаньон     0   \n",
              "7    женат / замужем                 0      M   сотрудник     0   \n",
              "8   гражданский брак                 1      F   сотрудник     0   \n",
              "9    женат / замужем                 0      M   сотрудник     0   \n",
              "10   женат / замужем                 0      M   компаньон     0   \n",
              "11   женат / замужем                 0      F   сотрудник     0   \n",
              "12  гражданский брак                 1      M   пенсионер     0   \n",
              "13   женат / замужем                 0      F   сотрудник     0   \n",
              "14  гражданский брак                 1      F   компаньон     1   \n",
              "\n",
              "     total_income                            purpose  \n",
              "0   253875.639453                      покупка жилья  \n",
              "1   112080.014102            приобретение автомобиля  \n",
              "2   145885.952297                      покупка жилья  \n",
              "3   267628.550329         дополнительное образование  \n",
              "4   158616.077870                    сыграть свадьбу  \n",
              "5   255763.565419                      покупка жилья  \n",
              "6   240525.971920                  операции с жильем  \n",
              "7   135823.934197                        образование  \n",
              "8    95856.832424              на проведение свадьбы  \n",
              "9   144425.938277            покупка жилья для семьи  \n",
              "10  113943.491460               покупка недвижимости  \n",
              "11   77069.234271  покупка коммерческой недвижимости  \n",
              "12            NaN                    сыграть свадьбу  \n",
              "13  130458.228857            приобретение автомобиля  \n",
              "14  165127.911772         покупка жилой недвижимости  "
            ]
          },
          "metadata": {},
          "output_type": "display_data"
        }
      ],
      "source": [
        "display(df.head(15))"
      ]
    },
    {
      "cell_type": "markdown",
      "id": "e7776ae1",
      "metadata": {
        "id": "e7776ae1"
      },
      "source": [
        "Столбец 'days_employed' состоит из отрицательных и положительных значений. Узнаем сколько отрицательных и положительных значений в столбце, а  также другие аналитические данные."
      ]
    },
    {
      "cell_type": "code",
      "execution_count": null,
      "id": "1e4c8485",
      "metadata": {
        "id": "1e4c8485",
        "outputId": "ab079059-631c-48bc-cce2-2b1dc33ff605"
      },
      "outputs": [
        {
          "name": "stdout",
          "output_type": "stream",
          "text": [
            "Отрицательные значения =  15906\n",
            "Положительные значения =  3445\n",
            "\n",
            "count     19351.000000\n",
            "mean      63046.497661\n",
            "std      140827.311974\n",
            "min      -18388.949901\n",
            "25%       -2747.423625\n",
            "50%       -1203.369529\n",
            "75%        -291.095954\n",
            "max      401755.400475\n",
            "Name: days_employed, dtype: float64\n"
          ]
        }
      ],
      "source": [
        "print('Отрицательные значения = ', df[df['days_employed']<0]['days_employed'].count())\n",
        "print('Положительные значения = ', df[df['days_employed']>0]['days_employed'].count())\n",
        "print()\n",
        "print(df['days_employed'].describe())"
      ]
    },
    {
      "cell_type": "markdown",
      "id": "f947ad86",
      "metadata": {
        "id": "f947ad86"
      },
      "source": [
        "Отрицательные значения в столбце, возможно появились из-за того, что при вводе данных использовали тире. Значения лучше всего перевести из дней трудового стажа в года."
      ]
    },
    {
      "cell_type": "code",
      "execution_count": null,
      "id": "4d89bbef",
      "metadata": {
        "id": "4d89bbef",
        "outputId": "3be74d55-1d0e-47ec-ace1-5697f0a39730"
      },
      "outputs": [
        {
          "data": {
            "text/html": [
              "<div>\n",
              "<style scoped>\n",
              "    .dataframe tbody tr th:only-of-type {\n",
              "        vertical-align: middle;\n",
              "    }\n",
              "\n",
              "    .dataframe tbody tr th {\n",
              "        vertical-align: top;\n",
              "    }\n",
              "\n",
              "    .dataframe thead th {\n",
              "        text-align: right;\n",
              "    }\n",
              "</style>\n",
              "<table border=\"1\" class=\"dataframe\">\n",
              "  <thead>\n",
              "    <tr style=\"text-align: right;\">\n",
              "      <th></th>\n",
              "      <th>children</th>\n",
              "      <th>days_employed</th>\n",
              "      <th>dob_years</th>\n",
              "      <th>education</th>\n",
              "      <th>education_id</th>\n",
              "      <th>family_status</th>\n",
              "      <th>family_status_id</th>\n",
              "      <th>gender</th>\n",
              "      <th>income_type</th>\n",
              "      <th>debt</th>\n",
              "      <th>total_income</th>\n",
              "      <th>purpose</th>\n",
              "    </tr>\n",
              "  </thead>\n",
              "  <tbody>\n",
              "    <tr>\n",
              "      <th>0</th>\n",
              "      <td>1</td>\n",
              "      <td>23.116912</td>\n",
              "      <td>42</td>\n",
              "      <td>высшее</td>\n",
              "      <td>0</td>\n",
              "      <td>женат / замужем</td>\n",
              "      <td>0</td>\n",
              "      <td>F</td>\n",
              "      <td>сотрудник</td>\n",
              "      <td>0</td>\n",
              "      <td>253875.639453</td>\n",
              "      <td>покупка жилья</td>\n",
              "    </tr>\n",
              "    <tr>\n",
              "      <th>1</th>\n",
              "      <td>1</td>\n",
              "      <td>11.026860</td>\n",
              "      <td>36</td>\n",
              "      <td>среднее</td>\n",
              "      <td>1</td>\n",
              "      <td>женат / замужем</td>\n",
              "      <td>0</td>\n",
              "      <td>F</td>\n",
              "      <td>сотрудник</td>\n",
              "      <td>0</td>\n",
              "      <td>112080.014102</td>\n",
              "      <td>приобретение автомобиля</td>\n",
              "    </tr>\n",
              "    <tr>\n",
              "      <th>2</th>\n",
              "      <td>0</td>\n",
              "      <td>15.406637</td>\n",
              "      <td>33</td>\n",
              "      <td>Среднее</td>\n",
              "      <td>1</td>\n",
              "      <td>женат / замужем</td>\n",
              "      <td>0</td>\n",
              "      <td>M</td>\n",
              "      <td>сотрудник</td>\n",
              "      <td>0</td>\n",
              "      <td>145885.952297</td>\n",
              "      <td>покупка жилья</td>\n",
              "    </tr>\n",
              "    <tr>\n",
              "      <th>3</th>\n",
              "      <td>3</td>\n",
              "      <td>11.300677</td>\n",
              "      <td>32</td>\n",
              "      <td>среднее</td>\n",
              "      <td>1</td>\n",
              "      <td>женат / замужем</td>\n",
              "      <td>0</td>\n",
              "      <td>M</td>\n",
              "      <td>сотрудник</td>\n",
              "      <td>0</td>\n",
              "      <td>267628.550329</td>\n",
              "      <td>дополнительное образование</td>\n",
              "    </tr>\n",
              "    <tr>\n",
              "      <th>4</th>\n",
              "      <td>0</td>\n",
              "      <td>932.235814</td>\n",
              "      <td>53</td>\n",
              "      <td>среднее</td>\n",
              "      <td>1</td>\n",
              "      <td>гражданский брак</td>\n",
              "      <td>1</td>\n",
              "      <td>F</td>\n",
              "      <td>пенсионер</td>\n",
              "      <td>0</td>\n",
              "      <td>158616.077870</td>\n",
              "      <td>сыграть свадьбу</td>\n",
              "    </tr>\n",
              "    <tr>\n",
              "      <th>5</th>\n",
              "      <td>0</td>\n",
              "      <td>2.537495</td>\n",
              "      <td>27</td>\n",
              "      <td>высшее</td>\n",
              "      <td>0</td>\n",
              "      <td>гражданский брак</td>\n",
              "      <td>1</td>\n",
              "      <td>M</td>\n",
              "      <td>компаньон</td>\n",
              "      <td>0</td>\n",
              "      <td>255763.565419</td>\n",
              "      <td>покупка жилья</td>\n",
              "    </tr>\n",
              "    <tr>\n",
              "      <th>6</th>\n",
              "      <td>0</td>\n",
              "      <td>7.888225</td>\n",
              "      <td>43</td>\n",
              "      <td>высшее</td>\n",
              "      <td>0</td>\n",
              "      <td>женат / замужем</td>\n",
              "      <td>0</td>\n",
              "      <td>F</td>\n",
              "      <td>компаньон</td>\n",
              "      <td>0</td>\n",
              "      <td>240525.971920</td>\n",
              "      <td>операции с жильем</td>\n",
              "    </tr>\n",
              "    <tr>\n",
              "      <th>7</th>\n",
              "      <td>0</td>\n",
              "      <td>0.418574</td>\n",
              "      <td>50</td>\n",
              "      <td>СРЕДНЕЕ</td>\n",
              "      <td>1</td>\n",
              "      <td>женат / замужем</td>\n",
              "      <td>0</td>\n",
              "      <td>M</td>\n",
              "      <td>сотрудник</td>\n",
              "      <td>0</td>\n",
              "      <td>135823.934197</td>\n",
              "      <td>образование</td>\n",
              "    </tr>\n",
              "    <tr>\n",
              "      <th>8</th>\n",
              "      <td>2</td>\n",
              "      <td>18.985932</td>\n",
              "      <td>35</td>\n",
              "      <td>ВЫСШЕЕ</td>\n",
              "      <td>0</td>\n",
              "      <td>гражданский брак</td>\n",
              "      <td>1</td>\n",
              "      <td>F</td>\n",
              "      <td>сотрудник</td>\n",
              "      <td>0</td>\n",
              "      <td>95856.832424</td>\n",
              "      <td>на проведение свадьбы</td>\n",
              "    </tr>\n",
              "    <tr>\n",
              "      <th>9</th>\n",
              "      <td>0</td>\n",
              "      <td>5.996593</td>\n",
              "      <td>41</td>\n",
              "      <td>среднее</td>\n",
              "      <td>1</td>\n",
              "      <td>женат / замужем</td>\n",
              "      <td>0</td>\n",
              "      <td>M</td>\n",
              "      <td>сотрудник</td>\n",
              "      <td>0</td>\n",
              "      <td>144425.938277</td>\n",
              "      <td>покупка жилья для семьи</td>\n",
              "    </tr>\n",
              "  </tbody>\n",
              "</table>\n",
              "</div>"
            ],
            "text/plain": [
              "   children  days_employed  dob_years education  education_id  \\\n",
              "0         1      23.116912         42    высшее             0   \n",
              "1         1      11.026860         36   среднее             1   \n",
              "2         0      15.406637         33   Среднее             1   \n",
              "3         3      11.300677         32   среднее             1   \n",
              "4         0     932.235814         53   среднее             1   \n",
              "5         0       2.537495         27    высшее             0   \n",
              "6         0       7.888225         43    высшее             0   \n",
              "7         0       0.418574         50   СРЕДНЕЕ             1   \n",
              "8         2      18.985932         35    ВЫСШЕЕ             0   \n",
              "9         0       5.996593         41   среднее             1   \n",
              "\n",
              "      family_status  family_status_id gender income_type  debt   total_income  \\\n",
              "0   женат / замужем                 0      F   сотрудник     0  253875.639453   \n",
              "1   женат / замужем                 0      F   сотрудник     0  112080.014102   \n",
              "2   женат / замужем                 0      M   сотрудник     0  145885.952297   \n",
              "3   женат / замужем                 0      M   сотрудник     0  267628.550329   \n",
              "4  гражданский брак                 1      F   пенсионер     0  158616.077870   \n",
              "5  гражданский брак                 1      M   компаньон     0  255763.565419   \n",
              "6   женат / замужем                 0      F   компаньон     0  240525.971920   \n",
              "7   женат / замужем                 0      M   сотрудник     0  135823.934197   \n",
              "8  гражданский брак                 1      F   сотрудник     0   95856.832424   \n",
              "9   женат / замужем                 0      M   сотрудник     0  144425.938277   \n",
              "\n",
              "                      purpose  \n",
              "0               покупка жилья  \n",
              "1     приобретение автомобиля  \n",
              "2               покупка жилья  \n",
              "3  дополнительное образование  \n",
              "4             сыграть свадьбу  \n",
              "5               покупка жилья  \n",
              "6           операции с жильем  \n",
              "7                 образование  \n",
              "8       на проведение свадьбы  \n",
              "9     покупка жилья для семьи  "
            ]
          },
          "metadata": {},
          "output_type": "display_data"
        }
      ],
      "source": [
        "df['days_employed'] = abs(df['days_employed'])/365\n",
        "display(df.head(10))"
      ]
    },
    {
      "cell_type": "markdown",
      "id": "03d105dd",
      "metadata": {
        "id": "03d105dd"
      },
      "source": [
        "В столбце 'days_employed' есть аномальные значения, например в строчке №4 стаж работы 932 года. Посмотрим, как много таких показателей. Максимальный стаж работы не может превышать 70 лет. Выведем количество значений со стажем работы более 50 лет."
      ]
    },
    {
      "cell_type": "code",
      "execution_count": null,
      "id": "6c740699",
      "metadata": {
        "id": "6c740699",
        "outputId": "b651bd0e-8df0-4495-bfab-c4ed5dc1dff4"
      },
      "outputs": [
        {
          "data": {
            "text/html": [
              "<div>\n",
              "<style scoped>\n",
              "    .dataframe tbody tr th:only-of-type {\n",
              "        vertical-align: middle;\n",
              "    }\n",
              "\n",
              "    .dataframe tbody tr th {\n",
              "        vertical-align: top;\n",
              "    }\n",
              "\n",
              "    .dataframe thead th {\n",
              "        text-align: right;\n",
              "    }\n",
              "</style>\n",
              "<table border=\"1\" class=\"dataframe\">\n",
              "  <thead>\n",
              "    <tr style=\"text-align: right;\">\n",
              "      <th></th>\n",
              "      <th>children</th>\n",
              "      <th>days_employed</th>\n",
              "      <th>dob_years</th>\n",
              "      <th>education</th>\n",
              "      <th>education_id</th>\n",
              "      <th>family_status</th>\n",
              "      <th>family_status_id</th>\n",
              "      <th>gender</th>\n",
              "      <th>income_type</th>\n",
              "      <th>debt</th>\n",
              "      <th>total_income</th>\n",
              "      <th>purpose</th>\n",
              "    </tr>\n",
              "  </thead>\n",
              "  <tbody>\n",
              "    <tr>\n",
              "      <th>4</th>\n",
              "      <td>0</td>\n",
              "      <td>932.235814</td>\n",
              "      <td>53</td>\n",
              "      <td>среднее</td>\n",
              "      <td>1</td>\n",
              "      <td>гражданский брак</td>\n",
              "      <td>1</td>\n",
              "      <td>F</td>\n",
              "      <td>пенсионер</td>\n",
              "      <td>0</td>\n",
              "      <td>158616.077870</td>\n",
              "      <td>сыграть свадьбу</td>\n",
              "    </tr>\n",
              "    <tr>\n",
              "      <th>18</th>\n",
              "      <td>0</td>\n",
              "      <td>1096.660649</td>\n",
              "      <td>53</td>\n",
              "      <td>среднее</td>\n",
              "      <td>1</td>\n",
              "      <td>вдовец / вдова</td>\n",
              "      <td>2</td>\n",
              "      <td>F</td>\n",
              "      <td>пенсионер</td>\n",
              "      <td>0</td>\n",
              "      <td>56823.777243</td>\n",
              "      <td>на покупку подержанного автомобиля</td>\n",
              "    </tr>\n",
              "    <tr>\n",
              "      <th>24</th>\n",
              "      <td>1</td>\n",
              "      <td>927.539597</td>\n",
              "      <td>57</td>\n",
              "      <td>среднее</td>\n",
              "      <td>1</td>\n",
              "      <td>Не женат / не замужем</td>\n",
              "      <td>4</td>\n",
              "      <td>F</td>\n",
              "      <td>пенсионер</td>\n",
              "      <td>0</td>\n",
              "      <td>290547.235997</td>\n",
              "      <td>операции с коммерческой недвижимостью</td>\n",
              "    </tr>\n",
              "    <tr>\n",
              "      <th>25</th>\n",
              "      <td>0</td>\n",
              "      <td>996.023258</td>\n",
              "      <td>67</td>\n",
              "      <td>среднее</td>\n",
              "      <td>1</td>\n",
              "      <td>женат / замужем</td>\n",
              "      <td>0</td>\n",
              "      <td>M</td>\n",
              "      <td>пенсионер</td>\n",
              "      <td>0</td>\n",
              "      <td>55112.757732</td>\n",
              "      <td>покупка недвижимости</td>\n",
              "    </tr>\n",
              "    <tr>\n",
              "      <th>30</th>\n",
              "      <td>1</td>\n",
              "      <td>919.401832</td>\n",
              "      <td>62</td>\n",
              "      <td>среднее</td>\n",
              "      <td>1</td>\n",
              "      <td>женат / замужем</td>\n",
              "      <td>0</td>\n",
              "      <td>F</td>\n",
              "      <td>пенсионер</td>\n",
              "      <td>0</td>\n",
              "      <td>171456.067993</td>\n",
              "      <td>операции с коммерческой недвижимостью</td>\n",
              "    </tr>\n",
              "    <tr>\n",
              "      <th>...</th>\n",
              "      <td>...</td>\n",
              "      <td>...</td>\n",
              "      <td>...</td>\n",
              "      <td>...</td>\n",
              "      <td>...</td>\n",
              "      <td>...</td>\n",
              "      <td>...</td>\n",
              "      <td>...</td>\n",
              "      <td>...</td>\n",
              "      <td>...</td>\n",
              "      <td>...</td>\n",
              "      <td>...</td>\n",
              "    </tr>\n",
              "    <tr>\n",
              "      <th>21505</th>\n",
              "      <td>0</td>\n",
              "      <td>928.506483</td>\n",
              "      <td>53</td>\n",
              "      <td>среднее</td>\n",
              "      <td>1</td>\n",
              "      <td>гражданский брак</td>\n",
              "      <td>1</td>\n",
              "      <td>M</td>\n",
              "      <td>пенсионер</td>\n",
              "      <td>0</td>\n",
              "      <td>75439.993167</td>\n",
              "      <td>сыграть свадьбу</td>\n",
              "    </tr>\n",
              "    <tr>\n",
              "      <th>21508</th>\n",
              "      <td>0</td>\n",
              "      <td>1058.897847</td>\n",
              "      <td>62</td>\n",
              "      <td>среднее</td>\n",
              "      <td>1</td>\n",
              "      <td>женат / замужем</td>\n",
              "      <td>0</td>\n",
              "      <td>M</td>\n",
              "      <td>пенсионер</td>\n",
              "      <td>0</td>\n",
              "      <td>72638.590915</td>\n",
              "      <td>недвижимость</td>\n",
              "    </tr>\n",
              "    <tr>\n",
              "      <th>21509</th>\n",
              "      <td>0</td>\n",
              "      <td>992.222066</td>\n",
              "      <td>59</td>\n",
              "      <td>высшее</td>\n",
              "      <td>0</td>\n",
              "      <td>женат / замужем</td>\n",
              "      <td>0</td>\n",
              "      <td>M</td>\n",
              "      <td>пенсионер</td>\n",
              "      <td>0</td>\n",
              "      <td>73029.059379</td>\n",
              "      <td>операции с недвижимостью</td>\n",
              "    </tr>\n",
              "    <tr>\n",
              "      <th>21518</th>\n",
              "      <td>0</td>\n",
              "      <td>1024.645783</td>\n",
              "      <td>59</td>\n",
              "      <td>СРЕДНЕЕ</td>\n",
              "      <td>1</td>\n",
              "      <td>женат / замужем</td>\n",
              "      <td>0</td>\n",
              "      <td>F</td>\n",
              "      <td>пенсионер</td>\n",
              "      <td>0</td>\n",
              "      <td>153864.650328</td>\n",
              "      <td>сделка с автомобилем</td>\n",
              "    </tr>\n",
              "    <tr>\n",
              "      <th>21521</th>\n",
              "      <td>0</td>\n",
              "      <td>942.294258</td>\n",
              "      <td>67</td>\n",
              "      <td>среднее</td>\n",
              "      <td>1</td>\n",
              "      <td>женат / замужем</td>\n",
              "      <td>0</td>\n",
              "      <td>F</td>\n",
              "      <td>пенсионер</td>\n",
              "      <td>0</td>\n",
              "      <td>155999.806512</td>\n",
              "      <td>сделка с автомобилем</td>\n",
              "    </tr>\n",
              "  </tbody>\n",
              "</table>\n",
              "<p>3445 rows × 12 columns</p>\n",
              "</div>"
            ],
            "text/plain": [
              "       children  days_employed  dob_years education  education_id  \\\n",
              "4             0     932.235814         53   среднее             1   \n",
              "18            0    1096.660649         53   среднее             1   \n",
              "24            1     927.539597         57   среднее             1   \n",
              "25            0     996.023258         67   среднее             1   \n",
              "30            1     919.401832         62   среднее             1   \n",
              "...         ...            ...        ...       ...           ...   \n",
              "21505         0     928.506483         53   среднее             1   \n",
              "21508         0    1058.897847         62   среднее             1   \n",
              "21509         0     992.222066         59    высшее             0   \n",
              "21518         0    1024.645783         59   СРЕДНЕЕ             1   \n",
              "21521         0     942.294258         67   среднее             1   \n",
              "\n",
              "               family_status  family_status_id gender income_type  debt  \\\n",
              "4           гражданский брак                 1      F   пенсионер     0   \n",
              "18            вдовец / вдова                 2      F   пенсионер     0   \n",
              "24     Не женат / не замужем                 4      F   пенсионер     0   \n",
              "25           женат / замужем                 0      M   пенсионер     0   \n",
              "30           женат / замужем                 0      F   пенсионер     0   \n",
              "...                      ...               ...    ...         ...   ...   \n",
              "21505       гражданский брак                 1      M   пенсионер     0   \n",
              "21508        женат / замужем                 0      M   пенсионер     0   \n",
              "21509        женат / замужем                 0      M   пенсионер     0   \n",
              "21518        женат / замужем                 0      F   пенсионер     0   \n",
              "21521        женат / замужем                 0      F   пенсионер     0   \n",
              "\n",
              "        total_income                                purpose  \n",
              "4      158616.077870                        сыграть свадьбу  \n",
              "18      56823.777243     на покупку подержанного автомобиля  \n",
              "24     290547.235997  операции с коммерческой недвижимостью  \n",
              "25      55112.757732                   покупка недвижимости  \n",
              "30     171456.067993  операции с коммерческой недвижимостью  \n",
              "...              ...                                    ...  \n",
              "21505   75439.993167                        сыграть свадьбу  \n",
              "21508   72638.590915                           недвижимость  \n",
              "21509   73029.059379               операции с недвижимостью  \n",
              "21518  153864.650328                   сделка с автомобилем  \n",
              "21521  155999.806512                   сделка с автомобилем  \n",
              "\n",
              "[3445 rows x 12 columns]"
            ]
          },
          "execution_count": 8,
          "metadata": {},
          "output_type": "execute_result"
        }
      ],
      "source": [
        "df[df['days_employed'] > 50]"
      ]
    },
    {
      "cell_type": "markdown",
      "id": "2f725de0",
      "metadata": {
        "id": "2f725de0"
      },
      "source": [
        "Аномальных значений больше 3400, это довольно много. Лучше всего у коллег уточнить причину аномалии данных. Но т.к. у нас нет такой возможности, то продолжаем работать дальше."
      ]
    },
    {
      "cell_type": "code",
      "execution_count": null,
      "id": "ea60d74d",
      "metadata": {
        "id": "ea60d74d",
        "outputId": "4550c269-7037-4eea-e5d2-f8fbf15111f8"
      },
      "outputs": [
        {
          "data": {
            "text/plain": [
              "income_type\n",
              "безработный            2\n",
              "в декрете              1\n",
              "госслужащий         1312\n",
              "компаньон           4577\n",
              "пенсионер           3443\n",
              "предприниматель        1\n",
              "сотрудник          10014\n",
              "студент                1\n",
              "Name: days_employed, dtype: int64"
            ]
          },
          "execution_count": 9,
          "metadata": {},
          "output_type": "execute_result"
        }
      ],
      "source": [
        "df.groupby('income_type')['days_employed'].count()"
      ]
    },
    {
      "cell_type": "markdown",
      "id": "da0d75ad",
      "metadata": {
        "id": "da0d75ad"
      },
      "source": [
        "Аномальные значения появляются в основном у пенсионеров и безработных. Как вариант, мы можем заменить аномальные значения средними значениями стажа работы исходя из возраста человека. Но мы рассмотрим гипотезу, что в этой группе стаж работы записан не в днях, а в часах. Для этого данные в группе разделим на 24."
      ]
    },
    {
      "cell_type": "code",
      "execution_count": null,
      "id": "53d3b1e2",
      "metadata": {
        "id": "53d3b1e2",
        "outputId": "bdc1f79b-1eb4-4c72-d261-17bbbc2788b7"
      },
      "outputs": [
        {
          "data": {
            "text/html": [
              "<div>\n",
              "<style scoped>\n",
              "    .dataframe tbody tr th:only-of-type {\n",
              "        vertical-align: middle;\n",
              "    }\n",
              "\n",
              "    .dataframe tbody tr th {\n",
              "        vertical-align: top;\n",
              "    }\n",
              "\n",
              "    .dataframe thead th {\n",
              "        text-align: right;\n",
              "    }\n",
              "</style>\n",
              "<table border=\"1\" class=\"dataframe\">\n",
              "  <thead>\n",
              "    <tr style=\"text-align: right;\">\n",
              "      <th></th>\n",
              "      <th>children</th>\n",
              "      <th>days_employed</th>\n",
              "      <th>dob_years</th>\n",
              "      <th>education</th>\n",
              "      <th>education_id</th>\n",
              "      <th>family_status</th>\n",
              "      <th>family_status_id</th>\n",
              "      <th>gender</th>\n",
              "      <th>income_type</th>\n",
              "      <th>debt</th>\n",
              "      <th>total_income</th>\n",
              "      <th>purpose</th>\n",
              "    </tr>\n",
              "  </thead>\n",
              "  <tbody>\n",
              "  </tbody>\n",
              "</table>\n",
              "</div>"
            ],
            "text/plain": [
              "Empty DataFrame\n",
              "Columns: [children, days_employed, dob_years, education, education_id, family_status, family_status_id, gender, income_type, debt, total_income, purpose]\n",
              "Index: []"
            ]
          },
          "execution_count": 10,
          "metadata": {},
          "output_type": "execute_result"
        }
      ],
      "source": [
        "df['days_employed'].where(~(df.days_employed > 100), other=df['days_employed'] / 24, inplace=True)\n",
        "df[df['days_employed'] > 100]"
      ]
    },
    {
      "cell_type": "markdown",
      "id": "a4d53cc6",
      "metadata": {
        "id": "a4d53cc6"
      },
      "source": [
        "Данные каждутся более реалистичными. Проверим есть ли пропуски в столбце со стажем работы."
      ]
    },
    {
      "cell_type": "code",
      "execution_count": null,
      "id": "20c6a114",
      "metadata": {
        "id": "20c6a114",
        "outputId": "76075962-30f2-4749-a009-f46a03ff27ce"
      },
      "outputs": [
        {
          "data": {
            "text/html": [
              "<div>\n",
              "<style scoped>\n",
              "    .dataframe tbody tr th:only-of-type {\n",
              "        vertical-align: middle;\n",
              "    }\n",
              "\n",
              "    .dataframe tbody tr th {\n",
              "        vertical-align: top;\n",
              "    }\n",
              "\n",
              "    .dataframe thead th {\n",
              "        text-align: right;\n",
              "    }\n",
              "</style>\n",
              "<table border=\"1\" class=\"dataframe\">\n",
              "  <thead>\n",
              "    <tr style=\"text-align: right;\">\n",
              "      <th></th>\n",
              "      <th>children</th>\n",
              "      <th>days_employed</th>\n",
              "      <th>dob_years</th>\n",
              "      <th>education</th>\n",
              "      <th>education_id</th>\n",
              "      <th>family_status</th>\n",
              "      <th>family_status_id</th>\n",
              "      <th>gender</th>\n",
              "      <th>income_type</th>\n",
              "      <th>debt</th>\n",
              "      <th>total_income</th>\n",
              "      <th>purpose</th>\n",
              "    </tr>\n",
              "  </thead>\n",
              "  <tbody>\n",
              "    <tr>\n",
              "      <th>12</th>\n",
              "      <td>0</td>\n",
              "      <td>NaN</td>\n",
              "      <td>65</td>\n",
              "      <td>среднее</td>\n",
              "      <td>1</td>\n",
              "      <td>гражданский брак</td>\n",
              "      <td>1</td>\n",
              "      <td>M</td>\n",
              "      <td>пенсионер</td>\n",
              "      <td>0</td>\n",
              "      <td>NaN</td>\n",
              "      <td>сыграть свадьбу</td>\n",
              "    </tr>\n",
              "    <tr>\n",
              "      <th>26</th>\n",
              "      <td>0</td>\n",
              "      <td>NaN</td>\n",
              "      <td>41</td>\n",
              "      <td>среднее</td>\n",
              "      <td>1</td>\n",
              "      <td>женат / замужем</td>\n",
              "      <td>0</td>\n",
              "      <td>M</td>\n",
              "      <td>госслужащий</td>\n",
              "      <td>0</td>\n",
              "      <td>NaN</td>\n",
              "      <td>образование</td>\n",
              "    </tr>\n",
              "    <tr>\n",
              "      <th>29</th>\n",
              "      <td>0</td>\n",
              "      <td>NaN</td>\n",
              "      <td>63</td>\n",
              "      <td>среднее</td>\n",
              "      <td>1</td>\n",
              "      <td>Не женат / не замужем</td>\n",
              "      <td>4</td>\n",
              "      <td>F</td>\n",
              "      <td>пенсионер</td>\n",
              "      <td>0</td>\n",
              "      <td>NaN</td>\n",
              "      <td>строительство жилой недвижимости</td>\n",
              "    </tr>\n",
              "    <tr>\n",
              "      <th>41</th>\n",
              "      <td>0</td>\n",
              "      <td>NaN</td>\n",
              "      <td>50</td>\n",
              "      <td>среднее</td>\n",
              "      <td>1</td>\n",
              "      <td>женат / замужем</td>\n",
              "      <td>0</td>\n",
              "      <td>F</td>\n",
              "      <td>госслужащий</td>\n",
              "      <td>0</td>\n",
              "      <td>NaN</td>\n",
              "      <td>сделка с подержанным автомобилем</td>\n",
              "    </tr>\n",
              "    <tr>\n",
              "      <th>55</th>\n",
              "      <td>0</td>\n",
              "      <td>NaN</td>\n",
              "      <td>54</td>\n",
              "      <td>среднее</td>\n",
              "      <td>1</td>\n",
              "      <td>гражданский брак</td>\n",
              "      <td>1</td>\n",
              "      <td>F</td>\n",
              "      <td>пенсионер</td>\n",
              "      <td>1</td>\n",
              "      <td>NaN</td>\n",
              "      <td>сыграть свадьбу</td>\n",
              "    </tr>\n",
              "    <tr>\n",
              "      <th>65</th>\n",
              "      <td>0</td>\n",
              "      <td>NaN</td>\n",
              "      <td>21</td>\n",
              "      <td>среднее</td>\n",
              "      <td>1</td>\n",
              "      <td>Не женат / не замужем</td>\n",
              "      <td>4</td>\n",
              "      <td>M</td>\n",
              "      <td>компаньон</td>\n",
              "      <td>0</td>\n",
              "      <td>NaN</td>\n",
              "      <td>операции с коммерческой недвижимостью</td>\n",
              "    </tr>\n",
              "    <tr>\n",
              "      <th>67</th>\n",
              "      <td>0</td>\n",
              "      <td>NaN</td>\n",
              "      <td>52</td>\n",
              "      <td>высшее</td>\n",
              "      <td>0</td>\n",
              "      <td>женат / замужем</td>\n",
              "      <td>0</td>\n",
              "      <td>F</td>\n",
              "      <td>пенсионер</td>\n",
              "      <td>0</td>\n",
              "      <td>NaN</td>\n",
              "      <td>покупка жилья для семьи</td>\n",
              "    </tr>\n",
              "    <tr>\n",
              "      <th>72</th>\n",
              "      <td>1</td>\n",
              "      <td>NaN</td>\n",
              "      <td>32</td>\n",
              "      <td>высшее</td>\n",
              "      <td>0</td>\n",
              "      <td>женат / замужем</td>\n",
              "      <td>0</td>\n",
              "      <td>M</td>\n",
              "      <td>госслужащий</td>\n",
              "      <td>0</td>\n",
              "      <td>NaN</td>\n",
              "      <td>операции с коммерческой недвижимостью</td>\n",
              "    </tr>\n",
              "    <tr>\n",
              "      <th>82</th>\n",
              "      <td>2</td>\n",
              "      <td>NaN</td>\n",
              "      <td>50</td>\n",
              "      <td>высшее</td>\n",
              "      <td>0</td>\n",
              "      <td>женат / замужем</td>\n",
              "      <td>0</td>\n",
              "      <td>F</td>\n",
              "      <td>сотрудник</td>\n",
              "      <td>0</td>\n",
              "      <td>NaN</td>\n",
              "      <td>жилье</td>\n",
              "    </tr>\n",
              "    <tr>\n",
              "      <th>83</th>\n",
              "      <td>0</td>\n",
              "      <td>NaN</td>\n",
              "      <td>52</td>\n",
              "      <td>среднее</td>\n",
              "      <td>1</td>\n",
              "      <td>женат / замужем</td>\n",
              "      <td>0</td>\n",
              "      <td>M</td>\n",
              "      <td>сотрудник</td>\n",
              "      <td>0</td>\n",
              "      <td>NaN</td>\n",
              "      <td>жилье</td>\n",
              "    </tr>\n",
              "  </tbody>\n",
              "</table>\n",
              "</div>"
            ],
            "text/plain": [
              "    children  days_employed  dob_years education  education_id  \\\n",
              "12         0            NaN         65   среднее             1   \n",
              "26         0            NaN         41   среднее             1   \n",
              "29         0            NaN         63   среднее             1   \n",
              "41         0            NaN         50   среднее             1   \n",
              "55         0            NaN         54   среднее             1   \n",
              "65         0            NaN         21   среднее             1   \n",
              "67         0            NaN         52    высшее             0   \n",
              "72         1            NaN         32    высшее             0   \n",
              "82         2            NaN         50    высшее             0   \n",
              "83         0            NaN         52   среднее             1   \n",
              "\n",
              "            family_status  family_status_id gender  income_type  debt  \\\n",
              "12       гражданский брак                 1      M    пенсионер     0   \n",
              "26        женат / замужем                 0      M  госслужащий     0   \n",
              "29  Не женат / не замужем                 4      F    пенсионер     0   \n",
              "41        женат / замужем                 0      F  госслужащий     0   \n",
              "55       гражданский брак                 1      F    пенсионер     1   \n",
              "65  Не женат / не замужем                 4      M    компаньон     0   \n",
              "67        женат / замужем                 0      F    пенсионер     0   \n",
              "72        женат / замужем                 0      M  госслужащий     0   \n",
              "82        женат / замужем                 0      F    сотрудник     0   \n",
              "83        женат / замужем                 0      M    сотрудник     0   \n",
              "\n",
              "    total_income                                purpose  \n",
              "12           NaN                        сыграть свадьбу  \n",
              "26           NaN                            образование  \n",
              "29           NaN       строительство жилой недвижимости  \n",
              "41           NaN       сделка с подержанным автомобилем  \n",
              "55           NaN                        сыграть свадьбу  \n",
              "65           NaN  операции с коммерческой недвижимостью  \n",
              "67           NaN                покупка жилья для семьи  \n",
              "72           NaN  операции с коммерческой недвижимостью  \n",
              "82           NaN                                  жилье  \n",
              "83           NaN                                  жилье  "
            ]
          },
          "metadata": {},
          "output_type": "display_data"
        }
      ],
      "source": [
        "display(df.loc[df['days_employed'].isna()].head(10))"
      ]
    },
    {
      "cell_type": "markdown",
      "id": "b466a166",
      "metadata": {
        "id": "b466a166"
      },
      "source": [
        "Заполним все пропущенные значения медианой возрастной группы. Для этого создадим несколько категорий."
      ]
    },
    {
      "cell_type": "code",
      "execution_count": null,
      "id": "7fb3460b",
      "metadata": {
        "id": "7fb3460b",
        "outputId": "7512c70f-585c-4144-eefa-978f32a9d362"
      },
      "outputs": [
        {
          "name": "stdout",
          "output_type": "stream",
          "text": [
            "adult_pluse    6102\n",
            "adult          6033\n",
            "middle         5915\n",
            "old            2140\n",
            "youth          1335\n",
            "Name: years_category, dtype: int64\n"
          ]
        }
      ],
      "source": [
        "def years_category(row):\n",
        "    if row['dob_years'] < 26:\n",
        "        return 'youth'\n",
        "    if row['dob_years'] < 37:\n",
        "        return 'middle'\n",
        "    if row['dob_years'] < 48:\n",
        "        return 'adult'\n",
        "    if row['dob_years'] < 61:\n",
        "        return 'adult_pluse'\n",
        "    return 'old'\n",
        "\n",
        "df['years_category'] = df.apply(years_category, axis=1)\n",
        "print(df['years_category'].value_counts())"
      ]
    },
    {
      "cell_type": "code",
      "execution_count": null,
      "id": "359050b6",
      "metadata": {
        "id": "359050b6",
        "outputId": "3f19d936-7525-48eb-cf09-e5794a513f6c"
      },
      "outputs": [
        {
          "data": {
            "text/plain": [
              "years_category\n",
              "adult           5.370677\n",
              "adult_pluse    11.518305\n",
              "middle          3.800916\n",
              "old            40.697567\n",
              "youth           2.318393\n",
              "Name: days_employed, dtype: float64"
            ]
          },
          "execution_count": 13,
          "metadata": {},
          "output_type": "execute_result"
        }
      ],
      "source": [
        "df.groupby('years_category')['days_employed'].median()"
      ]
    },
    {
      "cell_type": "markdown",
      "id": "536a2738",
      "metadata": {
        "id": "536a2738"
      },
      "source": [
        "Заменяем пропущенные значения медианными."
      ]
    },
    {
      "cell_type": "code",
      "execution_count": null,
      "id": "69578db1",
      "metadata": {
        "id": "69578db1",
        "outputId": "bd3323c6-4739-4173-e68b-36db2bebef98"
      },
      "outputs": [
        {
          "data": {
            "text/html": [
              "<div>\n",
              "<style scoped>\n",
              "    .dataframe tbody tr th:only-of-type {\n",
              "        vertical-align: middle;\n",
              "    }\n",
              "\n",
              "    .dataframe tbody tr th {\n",
              "        vertical-align: top;\n",
              "    }\n",
              "\n",
              "    .dataframe thead th {\n",
              "        text-align: right;\n",
              "    }\n",
              "</style>\n",
              "<table border=\"1\" class=\"dataframe\">\n",
              "  <thead>\n",
              "    <tr style=\"text-align: right;\">\n",
              "      <th></th>\n",
              "      <th>children</th>\n",
              "      <th>days_employed</th>\n",
              "      <th>dob_years</th>\n",
              "      <th>education</th>\n",
              "      <th>education_id</th>\n",
              "      <th>family_status</th>\n",
              "      <th>family_status_id</th>\n",
              "      <th>gender</th>\n",
              "      <th>income_type</th>\n",
              "      <th>debt</th>\n",
              "      <th>total_income</th>\n",
              "      <th>purpose</th>\n",
              "      <th>years_category</th>\n",
              "    </tr>\n",
              "  </thead>\n",
              "  <tbody>\n",
              "    <tr>\n",
              "      <th>12</th>\n",
              "      <td>0</td>\n",
              "      <td>40.697567</td>\n",
              "      <td>65</td>\n",
              "      <td>среднее</td>\n",
              "      <td>1</td>\n",
              "      <td>гражданский брак</td>\n",
              "      <td>1</td>\n",
              "      <td>M</td>\n",
              "      <td>пенсионер</td>\n",
              "      <td>0</td>\n",
              "      <td>NaN</td>\n",
              "      <td>сыграть свадьбу</td>\n",
              "      <td>old</td>\n",
              "    </tr>\n",
              "    <tr>\n",
              "      <th>26</th>\n",
              "      <td>0</td>\n",
              "      <td>5.370677</td>\n",
              "      <td>41</td>\n",
              "      <td>среднее</td>\n",
              "      <td>1</td>\n",
              "      <td>женат / замужем</td>\n",
              "      <td>0</td>\n",
              "      <td>M</td>\n",
              "      <td>госслужащий</td>\n",
              "      <td>0</td>\n",
              "      <td>NaN</td>\n",
              "      <td>образование</td>\n",
              "      <td>adult</td>\n",
              "    </tr>\n",
              "    <tr>\n",
              "      <th>29</th>\n",
              "      <td>0</td>\n",
              "      <td>40.697567</td>\n",
              "      <td>63</td>\n",
              "      <td>среднее</td>\n",
              "      <td>1</td>\n",
              "      <td>Не женат / не замужем</td>\n",
              "      <td>4</td>\n",
              "      <td>F</td>\n",
              "      <td>пенсионер</td>\n",
              "      <td>0</td>\n",
              "      <td>NaN</td>\n",
              "      <td>строительство жилой недвижимости</td>\n",
              "      <td>old</td>\n",
              "    </tr>\n",
              "    <tr>\n",
              "      <th>41</th>\n",
              "      <td>0</td>\n",
              "      <td>11.518305</td>\n",
              "      <td>50</td>\n",
              "      <td>среднее</td>\n",
              "      <td>1</td>\n",
              "      <td>женат / замужем</td>\n",
              "      <td>0</td>\n",
              "      <td>F</td>\n",
              "      <td>госслужащий</td>\n",
              "      <td>0</td>\n",
              "      <td>NaN</td>\n",
              "      <td>сделка с подержанным автомобилем</td>\n",
              "      <td>adult_pluse</td>\n",
              "    </tr>\n",
              "    <tr>\n",
              "      <th>55</th>\n",
              "      <td>0</td>\n",
              "      <td>11.518305</td>\n",
              "      <td>54</td>\n",
              "      <td>среднее</td>\n",
              "      <td>1</td>\n",
              "      <td>гражданский брак</td>\n",
              "      <td>1</td>\n",
              "      <td>F</td>\n",
              "      <td>пенсионер</td>\n",
              "      <td>1</td>\n",
              "      <td>NaN</td>\n",
              "      <td>сыграть свадьбу</td>\n",
              "      <td>adult_pluse</td>\n",
              "    </tr>\n",
              "    <tr>\n",
              "      <th>65</th>\n",
              "      <td>0</td>\n",
              "      <td>2.318393</td>\n",
              "      <td>21</td>\n",
              "      <td>среднее</td>\n",
              "      <td>1</td>\n",
              "      <td>Не женат / не замужем</td>\n",
              "      <td>4</td>\n",
              "      <td>M</td>\n",
              "      <td>компаньон</td>\n",
              "      <td>0</td>\n",
              "      <td>NaN</td>\n",
              "      <td>операции с коммерческой недвижимостью</td>\n",
              "      <td>youth</td>\n",
              "    </tr>\n",
              "    <tr>\n",
              "      <th>72</th>\n",
              "      <td>1</td>\n",
              "      <td>3.800916</td>\n",
              "      <td>32</td>\n",
              "      <td>высшее</td>\n",
              "      <td>0</td>\n",
              "      <td>женат / замужем</td>\n",
              "      <td>0</td>\n",
              "      <td>M</td>\n",
              "      <td>госслужащий</td>\n",
              "      <td>0</td>\n",
              "      <td>NaN</td>\n",
              "      <td>операции с коммерческой недвижимостью</td>\n",
              "      <td>middle</td>\n",
              "    </tr>\n",
              "    <tr>\n",
              "      <th>82</th>\n",
              "      <td>2</td>\n",
              "      <td>11.518305</td>\n",
              "      <td>50</td>\n",
              "      <td>высшее</td>\n",
              "      <td>0</td>\n",
              "      <td>женат / замужем</td>\n",
              "      <td>0</td>\n",
              "      <td>F</td>\n",
              "      <td>сотрудник</td>\n",
              "      <td>0</td>\n",
              "      <td>NaN</td>\n",
              "      <td>жилье</td>\n",
              "      <td>adult_pluse</td>\n",
              "    </tr>\n",
              "  </tbody>\n",
              "</table>\n",
              "</div>"
            ],
            "text/plain": [
              "    children  days_employed  dob_years education  education_id  \\\n",
              "12         0      40.697567         65   среднее             1   \n",
              "26         0       5.370677         41   среднее             1   \n",
              "29         0      40.697567         63   среднее             1   \n",
              "41         0      11.518305         50   среднее             1   \n",
              "55         0      11.518305         54   среднее             1   \n",
              "65         0       2.318393         21   среднее             1   \n",
              "72         1       3.800916         32    высшее             0   \n",
              "82         2      11.518305         50    высшее             0   \n",
              "\n",
              "            family_status  family_status_id gender  income_type  debt  \\\n",
              "12       гражданский брак                 1      M    пенсионер     0   \n",
              "26        женат / замужем                 0      M  госслужащий     0   \n",
              "29  Не женат / не замужем                 4      F    пенсионер     0   \n",
              "41        женат / замужем                 0      F  госслужащий     0   \n",
              "55       гражданский брак                 1      F    пенсионер     1   \n",
              "65  Не женат / не замужем                 4      M    компаньон     0   \n",
              "72        женат / замужем                 0      M  госслужащий     0   \n",
              "82        женат / замужем                 0      F    сотрудник     0   \n",
              "\n",
              "    total_income                                purpose years_category  \n",
              "12           NaN                        сыграть свадьбу            old  \n",
              "26           NaN                            образование          adult  \n",
              "29           NaN       строительство жилой недвижимости            old  \n",
              "41           NaN       сделка с подержанным автомобилем    adult_pluse  \n",
              "55           NaN                        сыграть свадьбу    adult_pluse  \n",
              "65           NaN  операции с коммерческой недвижимостью          youth  \n",
              "72           NaN  операции с коммерческой недвижимостью         middle  \n",
              "82           NaN                                  жилье    adult_pluse  "
            ]
          },
          "metadata": {},
          "output_type": "display_data"
        }
      ],
      "source": [
        "vallues = df.groupby('years_category')['days_employed'].transform('median')\n",
        "df['days_employed'] = df['days_employed'].fillna(value=vallues)\n",
        "#Для проверки выведем строки где были заменены пропуски\n",
        "display(df.loc[[12,26,29, 41, 55, 65,72, 82]])"
      ]
    },
    {
      "cell_type": "markdown",
      "id": "a97f9e7d",
      "metadata": {
        "id": "a97f9e7d"
      },
      "source": [
        "Cтолбец 'total_income' важен для анализа данных, поэтому все пропуски заполняем медианными значениями по категориям 'income_type'. Для начала выведем на экран несколько строк с пропущенными значениями в 'total_income'."
      ]
    },
    {
      "cell_type": "code",
      "execution_count": null,
      "id": "c9ea917d",
      "metadata": {
        "id": "c9ea917d",
        "outputId": "359db3c7-f5e5-43c3-89d7-7f1a99cd3f9f"
      },
      "outputs": [
        {
          "data": {
            "text/html": [
              "<div>\n",
              "<style scoped>\n",
              "    .dataframe tbody tr th:only-of-type {\n",
              "        vertical-align: middle;\n",
              "    }\n",
              "\n",
              "    .dataframe tbody tr th {\n",
              "        vertical-align: top;\n",
              "    }\n",
              "\n",
              "    .dataframe thead th {\n",
              "        text-align: right;\n",
              "    }\n",
              "</style>\n",
              "<table border=\"1\" class=\"dataframe\">\n",
              "  <thead>\n",
              "    <tr style=\"text-align: right;\">\n",
              "      <th></th>\n",
              "      <th>children</th>\n",
              "      <th>days_employed</th>\n",
              "      <th>dob_years</th>\n",
              "      <th>education</th>\n",
              "      <th>education_id</th>\n",
              "      <th>family_status</th>\n",
              "      <th>family_status_id</th>\n",
              "      <th>gender</th>\n",
              "      <th>income_type</th>\n",
              "      <th>debt</th>\n",
              "      <th>total_income</th>\n",
              "      <th>purpose</th>\n",
              "      <th>years_category</th>\n",
              "    </tr>\n",
              "  </thead>\n",
              "  <tbody>\n",
              "    <tr>\n",
              "      <th>12</th>\n",
              "      <td>0</td>\n",
              "      <td>40.697567</td>\n",
              "      <td>65</td>\n",
              "      <td>среднее</td>\n",
              "      <td>1</td>\n",
              "      <td>гражданский брак</td>\n",
              "      <td>1</td>\n",
              "      <td>M</td>\n",
              "      <td>пенсионер</td>\n",
              "      <td>0</td>\n",
              "      <td>NaN</td>\n",
              "      <td>сыграть свадьбу</td>\n",
              "      <td>old</td>\n",
              "    </tr>\n",
              "    <tr>\n",
              "      <th>26</th>\n",
              "      <td>0</td>\n",
              "      <td>5.370677</td>\n",
              "      <td>41</td>\n",
              "      <td>среднее</td>\n",
              "      <td>1</td>\n",
              "      <td>женат / замужем</td>\n",
              "      <td>0</td>\n",
              "      <td>M</td>\n",
              "      <td>госслужащий</td>\n",
              "      <td>0</td>\n",
              "      <td>NaN</td>\n",
              "      <td>образование</td>\n",
              "      <td>adult</td>\n",
              "    </tr>\n",
              "    <tr>\n",
              "      <th>29</th>\n",
              "      <td>0</td>\n",
              "      <td>40.697567</td>\n",
              "      <td>63</td>\n",
              "      <td>среднее</td>\n",
              "      <td>1</td>\n",
              "      <td>Не женат / не замужем</td>\n",
              "      <td>4</td>\n",
              "      <td>F</td>\n",
              "      <td>пенсионер</td>\n",
              "      <td>0</td>\n",
              "      <td>NaN</td>\n",
              "      <td>строительство жилой недвижимости</td>\n",
              "      <td>old</td>\n",
              "    </tr>\n",
              "    <tr>\n",
              "      <th>41</th>\n",
              "      <td>0</td>\n",
              "      <td>11.518305</td>\n",
              "      <td>50</td>\n",
              "      <td>среднее</td>\n",
              "      <td>1</td>\n",
              "      <td>женат / замужем</td>\n",
              "      <td>0</td>\n",
              "      <td>F</td>\n",
              "      <td>госслужащий</td>\n",
              "      <td>0</td>\n",
              "      <td>NaN</td>\n",
              "      <td>сделка с подержанным автомобилем</td>\n",
              "      <td>adult_pluse</td>\n",
              "    </tr>\n",
              "    <tr>\n",
              "      <th>55</th>\n",
              "      <td>0</td>\n",
              "      <td>11.518305</td>\n",
              "      <td>54</td>\n",
              "      <td>среднее</td>\n",
              "      <td>1</td>\n",
              "      <td>гражданский брак</td>\n",
              "      <td>1</td>\n",
              "      <td>F</td>\n",
              "      <td>пенсионер</td>\n",
              "      <td>1</td>\n",
              "      <td>NaN</td>\n",
              "      <td>сыграть свадьбу</td>\n",
              "      <td>adult_pluse</td>\n",
              "    </tr>\n",
              "    <tr>\n",
              "      <th>65</th>\n",
              "      <td>0</td>\n",
              "      <td>2.318393</td>\n",
              "      <td>21</td>\n",
              "      <td>среднее</td>\n",
              "      <td>1</td>\n",
              "      <td>Не женат / не замужем</td>\n",
              "      <td>4</td>\n",
              "      <td>M</td>\n",
              "      <td>компаньон</td>\n",
              "      <td>0</td>\n",
              "      <td>NaN</td>\n",
              "      <td>операции с коммерческой недвижимостью</td>\n",
              "      <td>youth</td>\n",
              "    </tr>\n",
              "    <tr>\n",
              "      <th>67</th>\n",
              "      <td>0</td>\n",
              "      <td>11.518305</td>\n",
              "      <td>52</td>\n",
              "      <td>высшее</td>\n",
              "      <td>0</td>\n",
              "      <td>женат / замужем</td>\n",
              "      <td>0</td>\n",
              "      <td>F</td>\n",
              "      <td>пенсионер</td>\n",
              "      <td>0</td>\n",
              "      <td>NaN</td>\n",
              "      <td>покупка жилья для семьи</td>\n",
              "      <td>adult_pluse</td>\n",
              "    </tr>\n",
              "    <tr>\n",
              "      <th>72</th>\n",
              "      <td>1</td>\n",
              "      <td>3.800916</td>\n",
              "      <td>32</td>\n",
              "      <td>высшее</td>\n",
              "      <td>0</td>\n",
              "      <td>женат / замужем</td>\n",
              "      <td>0</td>\n",
              "      <td>M</td>\n",
              "      <td>госслужащий</td>\n",
              "      <td>0</td>\n",
              "      <td>NaN</td>\n",
              "      <td>операции с коммерческой недвижимостью</td>\n",
              "      <td>middle</td>\n",
              "    </tr>\n",
              "    <tr>\n",
              "      <th>82</th>\n",
              "      <td>2</td>\n",
              "      <td>11.518305</td>\n",
              "      <td>50</td>\n",
              "      <td>высшее</td>\n",
              "      <td>0</td>\n",
              "      <td>женат / замужем</td>\n",
              "      <td>0</td>\n",
              "      <td>F</td>\n",
              "      <td>сотрудник</td>\n",
              "      <td>0</td>\n",
              "      <td>NaN</td>\n",
              "      <td>жилье</td>\n",
              "      <td>adult_pluse</td>\n",
              "    </tr>\n",
              "    <tr>\n",
              "      <th>83</th>\n",
              "      <td>0</td>\n",
              "      <td>11.518305</td>\n",
              "      <td>52</td>\n",
              "      <td>среднее</td>\n",
              "      <td>1</td>\n",
              "      <td>женат / замужем</td>\n",
              "      <td>0</td>\n",
              "      <td>M</td>\n",
              "      <td>сотрудник</td>\n",
              "      <td>0</td>\n",
              "      <td>NaN</td>\n",
              "      <td>жилье</td>\n",
              "      <td>adult_pluse</td>\n",
              "    </tr>\n",
              "  </tbody>\n",
              "</table>\n",
              "</div>"
            ],
            "text/plain": [
              "    children  days_employed  dob_years education  education_id  \\\n",
              "12         0      40.697567         65   среднее             1   \n",
              "26         0       5.370677         41   среднее             1   \n",
              "29         0      40.697567         63   среднее             1   \n",
              "41         0      11.518305         50   среднее             1   \n",
              "55         0      11.518305         54   среднее             1   \n",
              "65         0       2.318393         21   среднее             1   \n",
              "67         0      11.518305         52    высшее             0   \n",
              "72         1       3.800916         32    высшее             0   \n",
              "82         2      11.518305         50    высшее             0   \n",
              "83         0      11.518305         52   среднее             1   \n",
              "\n",
              "            family_status  family_status_id gender  income_type  debt  \\\n",
              "12       гражданский брак                 1      M    пенсионер     0   \n",
              "26        женат / замужем                 0      M  госслужащий     0   \n",
              "29  Не женат / не замужем                 4      F    пенсионер     0   \n",
              "41        женат / замужем                 0      F  госслужащий     0   \n",
              "55       гражданский брак                 1      F    пенсионер     1   \n",
              "65  Не женат / не замужем                 4      M    компаньон     0   \n",
              "67        женат / замужем                 0      F    пенсионер     0   \n",
              "72        женат / замужем                 0      M  госслужащий     0   \n",
              "82        женат / замужем                 0      F    сотрудник     0   \n",
              "83        женат / замужем                 0      M    сотрудник     0   \n",
              "\n",
              "    total_income                                purpose years_category  \n",
              "12           NaN                        сыграть свадьбу            old  \n",
              "26           NaN                            образование          adult  \n",
              "29           NaN       строительство жилой недвижимости            old  \n",
              "41           NaN       сделка с подержанным автомобилем    adult_pluse  \n",
              "55           NaN                        сыграть свадьбу    adult_pluse  \n",
              "65           NaN  операции с коммерческой недвижимостью          youth  \n",
              "67           NaN                покупка жилья для семьи    adult_pluse  \n",
              "72           NaN  операции с коммерческой недвижимостью         middle  \n",
              "82           NaN                                  жилье    adult_pluse  \n",
              "83           NaN                                  жилье    adult_pluse  "
            ]
          },
          "metadata": {},
          "output_type": "display_data"
        }
      ],
      "source": [
        "display(df.loc[df['total_income'].isna()].head(10))"
      ]
    },
    {
      "cell_type": "markdown",
      "id": "a647773a",
      "metadata": {
        "id": "a647773a"
      },
      "source": [
        "Заполним пропущенные данные медианными значениями по категориям 'income_type'"
      ]
    },
    {
      "cell_type": "code",
      "execution_count": null,
      "id": "9ed393fc",
      "metadata": {
        "scrolled": true,
        "id": "9ed393fc",
        "outputId": "7eefe3f2-afa7-45d8-c30b-2a5335c058d0"
      },
      "outputs": [
        {
          "data": {
            "text/plain": [
              "income_type\n",
              "безработный        131339.751676\n",
              "в декрете           53829.130729\n",
              "госслужащий        150447.935283\n",
              "компаньон          172357.950966\n",
              "пенсионер          118514.486412\n",
              "предприниматель    499163.144947\n",
              "сотрудник          142594.396847\n",
              "студент             98201.625314\n",
              "Name: total_income, dtype: float64"
            ]
          },
          "execution_count": 16,
          "metadata": {},
          "output_type": "execute_result"
        }
      ],
      "source": [
        "df.groupby('income_type')['total_income'].median()"
      ]
    },
    {
      "cell_type": "code",
      "execution_count": null,
      "id": "68d4e5cd",
      "metadata": {
        "id": "68d4e5cd",
        "outputId": "91ab0c0c-c6ee-4077-8229-ea7e723adcf6"
      },
      "outputs": [
        {
          "data": {
            "text/html": [
              "<div>\n",
              "<style scoped>\n",
              "    .dataframe tbody tr th:only-of-type {\n",
              "        vertical-align: middle;\n",
              "    }\n",
              "\n",
              "    .dataframe tbody tr th {\n",
              "        vertical-align: top;\n",
              "    }\n",
              "\n",
              "    .dataframe thead th {\n",
              "        text-align: right;\n",
              "    }\n",
              "</style>\n",
              "<table border=\"1\" class=\"dataframe\">\n",
              "  <thead>\n",
              "    <tr style=\"text-align: right;\">\n",
              "      <th></th>\n",
              "      <th>children</th>\n",
              "      <th>days_employed</th>\n",
              "      <th>dob_years</th>\n",
              "      <th>education</th>\n",
              "      <th>education_id</th>\n",
              "      <th>family_status</th>\n",
              "      <th>family_status_id</th>\n",
              "      <th>gender</th>\n",
              "      <th>income_type</th>\n",
              "      <th>debt</th>\n",
              "      <th>total_income</th>\n",
              "      <th>purpose</th>\n",
              "      <th>years_category</th>\n",
              "    </tr>\n",
              "  </thead>\n",
              "  <tbody>\n",
              "    <tr>\n",
              "      <th>12</th>\n",
              "      <td>0</td>\n",
              "      <td>40.697567</td>\n",
              "      <td>65</td>\n",
              "      <td>среднее</td>\n",
              "      <td>1</td>\n",
              "      <td>гражданский брак</td>\n",
              "      <td>1</td>\n",
              "      <td>M</td>\n",
              "      <td>пенсионер</td>\n",
              "      <td>0</td>\n",
              "      <td>118514.486412</td>\n",
              "      <td>сыграть свадьбу</td>\n",
              "      <td>old</td>\n",
              "    </tr>\n",
              "    <tr>\n",
              "      <th>26</th>\n",
              "      <td>0</td>\n",
              "      <td>5.370677</td>\n",
              "      <td>41</td>\n",
              "      <td>среднее</td>\n",
              "      <td>1</td>\n",
              "      <td>женат / замужем</td>\n",
              "      <td>0</td>\n",
              "      <td>M</td>\n",
              "      <td>госслужащий</td>\n",
              "      <td>0</td>\n",
              "      <td>150447.935283</td>\n",
              "      <td>образование</td>\n",
              "      <td>adult</td>\n",
              "    </tr>\n",
              "    <tr>\n",
              "      <th>29</th>\n",
              "      <td>0</td>\n",
              "      <td>40.697567</td>\n",
              "      <td>63</td>\n",
              "      <td>среднее</td>\n",
              "      <td>1</td>\n",
              "      <td>Не женат / не замужем</td>\n",
              "      <td>4</td>\n",
              "      <td>F</td>\n",
              "      <td>пенсионер</td>\n",
              "      <td>0</td>\n",
              "      <td>118514.486412</td>\n",
              "      <td>строительство жилой недвижимости</td>\n",
              "      <td>old</td>\n",
              "    </tr>\n",
              "    <tr>\n",
              "      <th>41</th>\n",
              "      <td>0</td>\n",
              "      <td>11.518305</td>\n",
              "      <td>50</td>\n",
              "      <td>среднее</td>\n",
              "      <td>1</td>\n",
              "      <td>женат / замужем</td>\n",
              "      <td>0</td>\n",
              "      <td>F</td>\n",
              "      <td>госслужащий</td>\n",
              "      <td>0</td>\n",
              "      <td>150447.935283</td>\n",
              "      <td>сделка с подержанным автомобилем</td>\n",
              "      <td>adult_pluse</td>\n",
              "    </tr>\n",
              "    <tr>\n",
              "      <th>55</th>\n",
              "      <td>0</td>\n",
              "      <td>11.518305</td>\n",
              "      <td>54</td>\n",
              "      <td>среднее</td>\n",
              "      <td>1</td>\n",
              "      <td>гражданский брак</td>\n",
              "      <td>1</td>\n",
              "      <td>F</td>\n",
              "      <td>пенсионер</td>\n",
              "      <td>1</td>\n",
              "      <td>118514.486412</td>\n",
              "      <td>сыграть свадьбу</td>\n",
              "      <td>adult_pluse</td>\n",
              "    </tr>\n",
              "    <tr>\n",
              "      <th>65</th>\n",
              "      <td>0</td>\n",
              "      <td>2.318393</td>\n",
              "      <td>21</td>\n",
              "      <td>среднее</td>\n",
              "      <td>1</td>\n",
              "      <td>Не женат / не замужем</td>\n",
              "      <td>4</td>\n",
              "      <td>M</td>\n",
              "      <td>компаньон</td>\n",
              "      <td>0</td>\n",
              "      <td>172357.950966</td>\n",
              "      <td>операции с коммерческой недвижимостью</td>\n",
              "      <td>youth</td>\n",
              "    </tr>\n",
              "    <tr>\n",
              "      <th>72</th>\n",
              "      <td>1</td>\n",
              "      <td>3.800916</td>\n",
              "      <td>32</td>\n",
              "      <td>высшее</td>\n",
              "      <td>0</td>\n",
              "      <td>женат / замужем</td>\n",
              "      <td>0</td>\n",
              "      <td>M</td>\n",
              "      <td>госслужащий</td>\n",
              "      <td>0</td>\n",
              "      <td>150447.935283</td>\n",
              "      <td>операции с коммерческой недвижимостью</td>\n",
              "      <td>middle</td>\n",
              "    </tr>\n",
              "    <tr>\n",
              "      <th>82</th>\n",
              "      <td>2</td>\n",
              "      <td>11.518305</td>\n",
              "      <td>50</td>\n",
              "      <td>высшее</td>\n",
              "      <td>0</td>\n",
              "      <td>женат / замужем</td>\n",
              "      <td>0</td>\n",
              "      <td>F</td>\n",
              "      <td>сотрудник</td>\n",
              "      <td>0</td>\n",
              "      <td>142594.396847</td>\n",
              "      <td>жилье</td>\n",
              "      <td>adult_pluse</td>\n",
              "    </tr>\n",
              "  </tbody>\n",
              "</table>\n",
              "</div>"
            ],
            "text/plain": [
              "    children  days_employed  dob_years education  education_id  \\\n",
              "12         0      40.697567         65   среднее             1   \n",
              "26         0       5.370677         41   среднее             1   \n",
              "29         0      40.697567         63   среднее             1   \n",
              "41         0      11.518305         50   среднее             1   \n",
              "55         0      11.518305         54   среднее             1   \n",
              "65         0       2.318393         21   среднее             1   \n",
              "72         1       3.800916         32    высшее             0   \n",
              "82         2      11.518305         50    высшее             0   \n",
              "\n",
              "            family_status  family_status_id gender  income_type  debt  \\\n",
              "12       гражданский брак                 1      M    пенсионер     0   \n",
              "26        женат / замужем                 0      M  госслужащий     0   \n",
              "29  Не женат / не замужем                 4      F    пенсионер     0   \n",
              "41        женат / замужем                 0      F  госслужащий     0   \n",
              "55       гражданский брак                 1      F    пенсионер     1   \n",
              "65  Не женат / не замужем                 4      M    компаньон     0   \n",
              "72        женат / замужем                 0      M  госслужащий     0   \n",
              "82        женат / замужем                 0      F    сотрудник     0   \n",
              "\n",
              "     total_income                                purpose years_category  \n",
              "12  118514.486412                        сыграть свадьбу            old  \n",
              "26  150447.935283                            образование          adult  \n",
              "29  118514.486412       строительство жилой недвижимости            old  \n",
              "41  150447.935283       сделка с подержанным автомобилем    adult_pluse  \n",
              "55  118514.486412                        сыграть свадьбу    adult_pluse  \n",
              "65  172357.950966  операции с коммерческой недвижимостью          youth  \n",
              "72  150447.935283  операции с коммерческой недвижимостью         middle  \n",
              "82  142594.396847                                  жилье    adult_pluse  "
            ]
          },
          "metadata": {},
          "output_type": "display_data"
        }
      ],
      "source": [
        "vallues_income = df.groupby('income_type')['total_income'].transform('median')\n",
        "df['total_income'] = df['total_income'].fillna(value=vallues_income)\n",
        "#Для проверки выведем строки где были заменены пропуски\n",
        "display(df.loc[[12,26,29, 41, 55, 65,72, 82]])"
      ]
    },
    {
      "cell_type": "markdown",
      "id": "2ab9daee",
      "metadata": {
        "id": "2ab9daee"
      },
      "source": [
        "Заменим вещественный тип данных в столбце total_income на целочисленный."
      ]
    },
    {
      "cell_type": "code",
      "execution_count": null,
      "id": "dbcdd234",
      "metadata": {
        "id": "dbcdd234",
        "outputId": "c4a5153e-46d2-41ca-ae5c-8413ceaa65b4"
      },
      "outputs": [
        {
          "name": "stdout",
          "output_type": "stream",
          "text": [
            "<class 'pandas.core.frame.DataFrame'>\n",
            "RangeIndex: 21525 entries, 0 to 21524\n",
            "Data columns (total 13 columns):\n",
            " #   Column            Non-Null Count  Dtype  \n",
            "---  ------            --------------  -----  \n",
            " 0   children          21525 non-null  int64  \n",
            " 1   days_employed     21525 non-null  float64\n",
            " 2   dob_years         21525 non-null  int64  \n",
            " 3   education         21525 non-null  object \n",
            " 4   education_id      21525 non-null  int64  \n",
            " 5   family_status     21525 non-null  object \n",
            " 6   family_status_id  21525 non-null  int64  \n",
            " 7   gender            21525 non-null  object \n",
            " 8   income_type       21525 non-null  object \n",
            " 9   debt              21525 non-null  int64  \n",
            " 10  total_income      21525 non-null  int64  \n",
            " 11  purpose           21525 non-null  object \n",
            " 12  years_category    21525 non-null  object \n",
            "dtypes: float64(1), int64(6), object(6)\n",
            "memory usage: 2.1+ MB\n"
          ]
        }
      ],
      "source": [
        "df['total_income'] = df['total_income'].astype(int)\n",
        "df.info()"
      ]
    },
    {
      "cell_type": "markdown",
      "id": "37f51519",
      "metadata": {
        "id": "37f51519"
      },
      "source": [
        "# Шаг 2.2 Проверка данных на аномалии и исправления. Удаление дубликатов."
      ]
    },
    {
      "cell_type": "markdown",
      "id": "1e6520d3",
      "metadata": {
        "id": "1e6520d3"
      },
      "source": [
        "Проверим дубликаты в строчках"
      ]
    },
    {
      "cell_type": "code",
      "execution_count": null,
      "id": "7fe12df4",
      "metadata": {
        "id": "7fe12df4",
        "outputId": "6ebf8df1-d147-43c8-c6c4-849c9109cad7"
      },
      "outputs": [
        {
          "data": {
            "text/plain": [
              "54"
            ]
          },
          "execution_count": 19,
          "metadata": {},
          "output_type": "execute_result"
        }
      ],
      "source": [
        "df.duplicated().sum()"
      ]
    },
    {
      "cell_type": "markdown",
      "id": "7500e033",
      "metadata": {
        "id": "7500e033"
      },
      "source": [
        "Удаляем дубликаты"
      ]
    },
    {
      "cell_type": "code",
      "execution_count": null,
      "id": "b8d87089",
      "metadata": {
        "id": "b8d87089",
        "outputId": "6c0c78f0-594c-40c5-ef6d-9373d01ebf5f"
      },
      "outputs": [
        {
          "data": {
            "text/html": [
              "<div>\n",
              "<style scoped>\n",
              "    .dataframe tbody tr th:only-of-type {\n",
              "        vertical-align: middle;\n",
              "    }\n",
              "\n",
              "    .dataframe tbody tr th {\n",
              "        vertical-align: top;\n",
              "    }\n",
              "\n",
              "    .dataframe thead th {\n",
              "        text-align: right;\n",
              "    }\n",
              "</style>\n",
              "<table border=\"1\" class=\"dataframe\">\n",
              "  <thead>\n",
              "    <tr style=\"text-align: right;\">\n",
              "      <th></th>\n",
              "      <th>children</th>\n",
              "      <th>days_employed</th>\n",
              "      <th>dob_years</th>\n",
              "      <th>education</th>\n",
              "      <th>education_id</th>\n",
              "      <th>family_status</th>\n",
              "      <th>family_status_id</th>\n",
              "      <th>gender</th>\n",
              "      <th>income_type</th>\n",
              "      <th>debt</th>\n",
              "      <th>total_income</th>\n",
              "      <th>purpose</th>\n",
              "      <th>years_category</th>\n",
              "    </tr>\n",
              "  </thead>\n",
              "  <tbody>\n",
              "    <tr>\n",
              "      <th>0</th>\n",
              "      <td>1</td>\n",
              "      <td>23.116912</td>\n",
              "      <td>42</td>\n",
              "      <td>высшее</td>\n",
              "      <td>0</td>\n",
              "      <td>женат / замужем</td>\n",
              "      <td>0</td>\n",
              "      <td>F</td>\n",
              "      <td>сотрудник</td>\n",
              "      <td>0</td>\n",
              "      <td>253875</td>\n",
              "      <td>покупка жилья</td>\n",
              "      <td>adult</td>\n",
              "    </tr>\n",
              "    <tr>\n",
              "      <th>1</th>\n",
              "      <td>1</td>\n",
              "      <td>11.026860</td>\n",
              "      <td>36</td>\n",
              "      <td>среднее</td>\n",
              "      <td>1</td>\n",
              "      <td>женат / замужем</td>\n",
              "      <td>0</td>\n",
              "      <td>F</td>\n",
              "      <td>сотрудник</td>\n",
              "      <td>0</td>\n",
              "      <td>112080</td>\n",
              "      <td>приобретение автомобиля</td>\n",
              "      <td>middle</td>\n",
              "    </tr>\n",
              "    <tr>\n",
              "      <th>2</th>\n",
              "      <td>0</td>\n",
              "      <td>15.406637</td>\n",
              "      <td>33</td>\n",
              "      <td>Среднее</td>\n",
              "      <td>1</td>\n",
              "      <td>женат / замужем</td>\n",
              "      <td>0</td>\n",
              "      <td>M</td>\n",
              "      <td>сотрудник</td>\n",
              "      <td>0</td>\n",
              "      <td>145885</td>\n",
              "      <td>покупка жилья</td>\n",
              "      <td>middle</td>\n",
              "    </tr>\n",
              "    <tr>\n",
              "      <th>3</th>\n",
              "      <td>3</td>\n",
              "      <td>11.300677</td>\n",
              "      <td>32</td>\n",
              "      <td>среднее</td>\n",
              "      <td>1</td>\n",
              "      <td>женат / замужем</td>\n",
              "      <td>0</td>\n",
              "      <td>M</td>\n",
              "      <td>сотрудник</td>\n",
              "      <td>0</td>\n",
              "      <td>267628</td>\n",
              "      <td>дополнительное образование</td>\n",
              "      <td>middle</td>\n",
              "    </tr>\n",
              "    <tr>\n",
              "      <th>4</th>\n",
              "      <td>0</td>\n",
              "      <td>38.843159</td>\n",
              "      <td>53</td>\n",
              "      <td>среднее</td>\n",
              "      <td>1</td>\n",
              "      <td>гражданский брак</td>\n",
              "      <td>1</td>\n",
              "      <td>F</td>\n",
              "      <td>пенсионер</td>\n",
              "      <td>0</td>\n",
              "      <td>158616</td>\n",
              "      <td>сыграть свадьбу</td>\n",
              "      <td>adult_pluse</td>\n",
              "    </tr>\n",
              "    <tr>\n",
              "      <th>...</th>\n",
              "      <td>...</td>\n",
              "      <td>...</td>\n",
              "      <td>...</td>\n",
              "      <td>...</td>\n",
              "      <td>...</td>\n",
              "      <td>...</td>\n",
              "      <td>...</td>\n",
              "      <td>...</td>\n",
              "      <td>...</td>\n",
              "      <td>...</td>\n",
              "      <td>...</td>\n",
              "      <td>...</td>\n",
              "      <td>...</td>\n",
              "    </tr>\n",
              "    <tr>\n",
              "      <th>21466</th>\n",
              "      <td>1</td>\n",
              "      <td>12.409087</td>\n",
              "      <td>43</td>\n",
              "      <td>среднее</td>\n",
              "      <td>1</td>\n",
              "      <td>гражданский брак</td>\n",
              "      <td>1</td>\n",
              "      <td>F</td>\n",
              "      <td>компаньон</td>\n",
              "      <td>0</td>\n",
              "      <td>224791</td>\n",
              "      <td>операции с жильем</td>\n",
              "      <td>adult</td>\n",
              "    </tr>\n",
              "    <tr>\n",
              "      <th>21467</th>\n",
              "      <td>0</td>\n",
              "      <td>39.262261</td>\n",
              "      <td>67</td>\n",
              "      <td>среднее</td>\n",
              "      <td>1</td>\n",
              "      <td>женат / замужем</td>\n",
              "      <td>0</td>\n",
              "      <td>F</td>\n",
              "      <td>пенсионер</td>\n",
              "      <td>0</td>\n",
              "      <td>155999</td>\n",
              "      <td>сделка с автомобилем</td>\n",
              "      <td>old</td>\n",
              "    </tr>\n",
              "    <tr>\n",
              "      <th>21468</th>\n",
              "      <td>1</td>\n",
              "      <td>5.789991</td>\n",
              "      <td>38</td>\n",
              "      <td>среднее</td>\n",
              "      <td>1</td>\n",
              "      <td>гражданский брак</td>\n",
              "      <td>1</td>\n",
              "      <td>M</td>\n",
              "      <td>сотрудник</td>\n",
              "      <td>1</td>\n",
              "      <td>89672</td>\n",
              "      <td>недвижимость</td>\n",
              "      <td>adult</td>\n",
              "    </tr>\n",
              "    <tr>\n",
              "      <th>21469</th>\n",
              "      <td>3</td>\n",
              "      <td>8.527347</td>\n",
              "      <td>38</td>\n",
              "      <td>среднее</td>\n",
              "      <td>1</td>\n",
              "      <td>женат / замужем</td>\n",
              "      <td>0</td>\n",
              "      <td>M</td>\n",
              "      <td>сотрудник</td>\n",
              "      <td>1</td>\n",
              "      <td>244093</td>\n",
              "      <td>на покупку своего автомобиля</td>\n",
              "      <td>adult</td>\n",
              "    </tr>\n",
              "    <tr>\n",
              "      <th>21470</th>\n",
              "      <td>2</td>\n",
              "      <td>5.437007</td>\n",
              "      <td>40</td>\n",
              "      <td>среднее</td>\n",
              "      <td>1</td>\n",
              "      <td>женат / замужем</td>\n",
              "      <td>0</td>\n",
              "      <td>F</td>\n",
              "      <td>сотрудник</td>\n",
              "      <td>0</td>\n",
              "      <td>82047</td>\n",
              "      <td>на покупку автомобиля</td>\n",
              "      <td>adult</td>\n",
              "    </tr>\n",
              "  </tbody>\n",
              "</table>\n",
              "<p>21471 rows × 13 columns</p>\n",
              "</div>"
            ],
            "text/plain": [
              "       children  days_employed  dob_years education  education_id  \\\n",
              "0             1      23.116912         42    высшее             0   \n",
              "1             1      11.026860         36   среднее             1   \n",
              "2             0      15.406637         33   Среднее             1   \n",
              "3             3      11.300677         32   среднее             1   \n",
              "4             0      38.843159         53   среднее             1   \n",
              "...         ...            ...        ...       ...           ...   \n",
              "21466         1      12.409087         43   среднее             1   \n",
              "21467         0      39.262261         67   среднее             1   \n",
              "21468         1       5.789991         38   среднее             1   \n",
              "21469         3       8.527347         38   среднее             1   \n",
              "21470         2       5.437007         40   среднее             1   \n",
              "\n",
              "          family_status  family_status_id gender income_type  debt  \\\n",
              "0       женат / замужем                 0      F   сотрудник     0   \n",
              "1       женат / замужем                 0      F   сотрудник     0   \n",
              "2       женат / замужем                 0      M   сотрудник     0   \n",
              "3       женат / замужем                 0      M   сотрудник     0   \n",
              "4      гражданский брак                 1      F   пенсионер     0   \n",
              "...                 ...               ...    ...         ...   ...   \n",
              "21466  гражданский брак                 1      F   компаньон     0   \n",
              "21467   женат / замужем                 0      F   пенсионер     0   \n",
              "21468  гражданский брак                 1      M   сотрудник     1   \n",
              "21469   женат / замужем                 0      M   сотрудник     1   \n",
              "21470   женат / замужем                 0      F   сотрудник     0   \n",
              "\n",
              "       total_income                       purpose years_category  \n",
              "0            253875                 покупка жилья          adult  \n",
              "1            112080       приобретение автомобиля         middle  \n",
              "2            145885                 покупка жилья         middle  \n",
              "3            267628    дополнительное образование         middle  \n",
              "4            158616               сыграть свадьбу    adult_pluse  \n",
              "...             ...                           ...            ...  \n",
              "21466        224791             операции с жильем          adult  \n",
              "21467        155999          сделка с автомобилем            old  \n",
              "21468         89672                  недвижимость          adult  \n",
              "21469        244093  на покупку своего автомобиля          adult  \n",
              "21470         82047         на покупку автомобиля          adult  \n",
              "\n",
              "[21471 rows x 13 columns]"
            ]
          },
          "execution_count": 20,
          "metadata": {},
          "output_type": "execute_result"
        }
      ],
      "source": [
        "df.drop_duplicates().reset_index(drop=True)"
      ]
    },
    {
      "cell_type": "markdown",
      "id": "ace4cda9",
      "metadata": {
        "id": "ace4cda9"
      },
      "source": [
        "Поочередно проверим все столбцы на аномалии и при необходимости исправим их, а также избавимся от дублей."
      ]
    },
    {
      "cell_type": "markdown",
      "id": "9ba29832",
      "metadata": {
        "id": "9ba29832"
      },
      "source": [
        "### Столбец 'children'"
      ]
    },
    {
      "cell_type": "code",
      "execution_count": null,
      "id": "dd4b7016",
      "metadata": {
        "id": "dd4b7016",
        "outputId": "355bb812-f8ed-4639-dd1e-71403bd46cfd"
      },
      "outputs": [
        {
          "data": {
            "text/plain": [
              " 0     14149\n",
              " 1      4818\n",
              " 2      2055\n",
              " 3       330\n",
              " 20       76\n",
              "-1        47\n",
              " 4        41\n",
              " 5         9\n",
              "Name: children, dtype: int64"
            ]
          },
          "execution_count": 21,
          "metadata": {},
          "output_type": "execute_result"
        }
      ],
      "source": [
        "df['children'].value_counts()"
      ]
    },
    {
      "cell_type": "markdown",
      "id": "ad245c5f",
      "metadata": {
        "id": "ad245c5f"
      },
      "source": [
        "Подозрительным кажутся 75 строк с 20 детьми и 47 строк с -1. Т.к. строк не много и мы не можем обратиться к коллегам за уточнением данных, то удалим строчки."
      ]
    },
    {
      "cell_type": "code",
      "execution_count": null,
      "id": "c885dd1e",
      "metadata": {
        "id": "c885dd1e",
        "outputId": "5e26b7e1-dcaf-4325-c1a3-2923c10390ee"
      },
      "outputs": [
        {
          "data": {
            "text/plain": [
              "0    14149\n",
              "1     4818\n",
              "2     2055\n",
              "3      330\n",
              "4       41\n",
              "5        9\n",
              "Name: children, dtype: int64"
            ]
          },
          "execution_count": 22,
          "metadata": {},
          "output_type": "execute_result"
        }
      ],
      "source": [
        "df = df[df['children'] != 20]\n",
        "df = df[df['children'] != -1]\n",
        "df['children'].value_counts()"
      ]
    },
    {
      "cell_type": "markdown",
      "id": "c6093399",
      "metadata": {
        "id": "c6093399"
      },
      "source": [
        "### Столбец 'dob_years'"
      ]
    },
    {
      "cell_type": "code",
      "execution_count": null,
      "id": "19bce7cc",
      "metadata": {
        "id": "19bce7cc",
        "outputId": "b62b3e2f-723e-4ed0-8fd8-685b04ba4666"
      },
      "outputs": [
        {
          "data": {
            "text/plain": [
              "35    614\n",
              "40    603\n",
              "41    603\n",
              "34    597\n",
              "38    595\n",
              "42    592\n",
              "33    577\n",
              "39    572\n",
              "31    556\n",
              "36    553\n",
              "29    543\n",
              "44    543\n",
              "48    536\n",
              "30    536\n",
              "37    531\n",
              "43    510\n",
              "50    509\n",
              "32    506\n",
              "49    505\n",
              "28    501\n",
              "45    494\n",
              "27    490\n",
              "52    483\n",
              "56    482\n",
              "47    480\n",
              "54    476\n",
              "46    469\n",
              "58    461\n",
              "53    457\n",
              "57    457\n",
              "51    446\n",
              "59    441\n",
              "55    441\n",
              "26    406\n",
              "60    376\n",
              "25    356\n",
              "61    353\n",
              "62    351\n",
              "63    268\n",
              "24    263\n",
              "64    263\n",
              "23    252\n",
              "65    194\n",
              "66    183\n",
              "22    183\n",
              "67    167\n",
              "21    110\n",
              "0     100\n",
              "68     99\n",
              "69     83\n",
              "70     65\n",
              "71     58\n",
              "20     51\n",
              "72     33\n",
              "19     14\n",
              "73      8\n",
              "74      6\n",
              "75      1\n",
              "Name: dob_years, dtype: int64"
            ]
          },
          "execution_count": 23,
          "metadata": {},
          "output_type": "execute_result"
        }
      ],
      "source": [
        "df['dob_years'].value_counts()"
      ]
    },
    {
      "cell_type": "markdown",
      "id": "674b0970",
      "metadata": {
        "id": "674b0970"
      },
      "source": [
        "Возраст 0 явлеяется ошибкой, таких ячеек 100. Таким небольшим количеством данных можно пренебреч. Удалим их и проверим результа."
      ]
    },
    {
      "cell_type": "code",
      "execution_count": null,
      "id": "18eaa9c3",
      "metadata": {
        "id": "18eaa9c3",
        "outputId": "9bf72b13-cb4b-48b1-d15e-0c5be12a2d3a"
      },
      "outputs": [
        {
          "data": {
            "text/html": [
              "<div>\n",
              "<style scoped>\n",
              "    .dataframe tbody tr th:only-of-type {\n",
              "        vertical-align: middle;\n",
              "    }\n",
              "\n",
              "    .dataframe tbody tr th {\n",
              "        vertical-align: top;\n",
              "    }\n",
              "\n",
              "    .dataframe thead th {\n",
              "        text-align: right;\n",
              "    }\n",
              "</style>\n",
              "<table border=\"1\" class=\"dataframe\">\n",
              "  <thead>\n",
              "    <tr style=\"text-align: right;\">\n",
              "      <th></th>\n",
              "      <th>children</th>\n",
              "      <th>days_employed</th>\n",
              "      <th>dob_years</th>\n",
              "      <th>education</th>\n",
              "      <th>education_id</th>\n",
              "      <th>family_status</th>\n",
              "      <th>family_status_id</th>\n",
              "      <th>gender</th>\n",
              "      <th>income_type</th>\n",
              "      <th>debt</th>\n",
              "      <th>total_income</th>\n",
              "      <th>purpose</th>\n",
              "      <th>years_category</th>\n",
              "    </tr>\n",
              "  </thead>\n",
              "  <tbody>\n",
              "  </tbody>\n",
              "</table>\n",
              "</div>"
            ],
            "text/plain": [
              "Empty DataFrame\n",
              "Columns: [children, days_employed, dob_years, education, education_id, family_status, family_status_id, gender, income_type, debt, total_income, purpose, years_category]\n",
              "Index: []"
            ]
          },
          "execution_count": 24,
          "metadata": {},
          "output_type": "execute_result"
        }
      ],
      "source": [
        "df = df[df['dob_years'] != 0]\n",
        "df[df['dob_years'] == 0]"
      ]
    },
    {
      "cell_type": "markdown",
      "id": "9d99d835",
      "metadata": {
        "id": "9d99d835"
      },
      "source": [
        "### Столбец 'education' и 'education_id'"
      ]
    },
    {
      "cell_type": "code",
      "execution_count": null,
      "id": "487ad043",
      "metadata": {
        "scrolled": true,
        "id": "487ad043",
        "outputId": "ba501097-7599-4e0c-dabc-adf8453a39cc"
      },
      "outputs": [
        {
          "data": {
            "text/plain": [
              "среднее                13609\n",
              "высшее                  4666\n",
              "СРЕДНЕЕ                  764\n",
              "Среднее                  700\n",
              "неоконченное высшее      663\n",
              "ВЫСШЕЕ                   270\n",
              "Высшее                   266\n",
              "начальное                250\n",
              "Неоконченное высшее       47\n",
              "НЕОКОНЧЕННОЕ ВЫСШЕЕ       29\n",
              "НАЧАЛЬНОЕ                 17\n",
              "Начальное                 15\n",
              "ученая степень             4\n",
              "УЧЕНАЯ СТЕПЕНЬ             1\n",
              "Ученая степень             1\n",
              "Name: education, dtype: int64"
            ]
          },
          "execution_count": 25,
          "metadata": {},
          "output_type": "execute_result"
        }
      ],
      "source": [
        "df['education'].value_counts()"
      ]
    },
    {
      "cell_type": "markdown",
      "id": "61565f1f",
      "metadata": {
        "id": "61565f1f"
      },
      "source": [
        "Исбавимся от дублей и еще раз посчитаем посмотрим на данные. "
      ]
    },
    {
      "cell_type": "code",
      "execution_count": null,
      "id": "d2b4c710",
      "metadata": {
        "id": "d2b4c710",
        "outputId": "6ba68551-143f-4486-90db-fc1a6691b234"
      },
      "outputs": [
        {
          "data": {
            "text/plain": [
              "среднее                15073\n",
              "высшее                  5202\n",
              "неоконченное высшее      739\n",
              "начальное                282\n",
              "ученая степень             6\n",
              "Name: education, dtype: int64"
            ]
          },
          "execution_count": 26,
          "metadata": {},
          "output_type": "execute_result"
        }
      ],
      "source": [
        "df['education'] = df['education'].str.lower()\n",
        "df['education'].value_counts()"
      ]
    },
    {
      "cell_type": "code",
      "execution_count": null,
      "id": "2b5056e7",
      "metadata": {
        "scrolled": false,
        "id": "2b5056e7",
        "outputId": "e08b9e9e-b255-4e5e-ac52-a0799f115da6"
      },
      "outputs": [
        {
          "data": {
            "text/plain": [
              "1    15073\n",
              "0     5202\n",
              "2      739\n",
              "3      282\n",
              "4        6\n",
              "Name: education_id, dtype: int64"
            ]
          },
          "execution_count": 27,
          "metadata": {},
          "output_type": "execute_result"
        }
      ],
      "source": [
        "df['education_id'].value_counts()"
      ]
    },
    {
      "cell_type": "markdown",
      "id": "b987bc5b",
      "metadata": {
        "id": "b987bc5b"
      },
      "source": [
        "### столбец 'family_status' и 'family_status_id'"
      ]
    },
    {
      "cell_type": "code",
      "execution_count": null,
      "id": "5f78bb4e",
      "metadata": {
        "id": "5f78bb4e",
        "outputId": "2f48ac08-f789-47ea-8f3f-65169a61411a"
      },
      "outputs": [
        {
          "name": "stdout",
          "output_type": "stream",
          "text": [
            "женат / замужем          12254\n",
            "гражданский брак          4139\n",
            "Не женат / не замужем     2783\n",
            "в разводе                 1179\n",
            "вдовец / вдова             947\n",
            "Name: family_status, dtype: int64\n",
            "0    12254\n",
            "1     4139\n",
            "4     2783\n",
            "3     1179\n",
            "2      947\n",
            "Name: family_status_id, dtype: int64\n"
          ]
        }
      ],
      "source": [
        "print(df['family_status'].value_counts())\n",
        "print(df['family_status_id'].value_counts())"
      ]
    },
    {
      "cell_type": "markdown",
      "id": "faa381f9",
      "metadata": {
        "id": "faa381f9"
      },
      "source": [
        "### стоблец 'gender'"
      ]
    },
    {
      "cell_type": "code",
      "execution_count": null,
      "id": "194629ad",
      "metadata": {
        "id": "194629ad",
        "outputId": "8e2e9d5f-a85b-4db2-d7e2-ae736252e54e"
      },
      "outputs": [
        {
          "data": {
            "text/plain": [
              "F      14083\n",
              "M       7218\n",
              "XNA        1\n",
              "Name: gender, dtype: int64"
            ]
          },
          "execution_count": 29,
          "metadata": {},
          "output_type": "execute_result"
        }
      ],
      "source": [
        "df['gender'].value_counts()"
      ]
    },
    {
      "cell_type": "markdown",
      "id": "d7c3c22d",
      "metadata": {
        "id": "d7c3c22d"
      },
      "source": [
        "Одна ячейка с неизвестным полом. Удалим ее."
      ]
    },
    {
      "cell_type": "code",
      "execution_count": null,
      "id": "deea6416",
      "metadata": {
        "id": "deea6416",
        "outputId": "782ff2f3-fb7e-41ee-ae35-c6256887c8f0"
      },
      "outputs": [
        {
          "data": {
            "text/plain": [
              "F    14083\n",
              "M     7218\n",
              "Name: gender, dtype: int64"
            ]
          },
          "execution_count": 30,
          "metadata": {},
          "output_type": "execute_result"
        }
      ],
      "source": [
        "df = df[df['gender'] != 'XNA']\n",
        "df['gender'].value_counts()"
      ]
    },
    {
      "cell_type": "markdown",
      "id": "ad7e02c9",
      "metadata": {
        "id": "ad7e02c9"
      },
      "source": [
        "### столбец 'debt'"
      ]
    },
    {
      "cell_type": "code",
      "execution_count": null,
      "id": "43154b1d",
      "metadata": {
        "id": "43154b1d",
        "outputId": "f5485a8c-491b-43f3-92f7-f493db5ccc3f"
      },
      "outputs": [
        {
          "data": {
            "text/plain": [
              "0    19577\n",
              "1     1724\n",
              "Name: debt, dtype: int64"
            ]
          },
          "execution_count": 31,
          "metadata": {},
          "output_type": "execute_result"
        }
      ],
      "source": [
        "df['debt'].value_counts()"
      ]
    },
    {
      "cell_type": "markdown",
      "id": "65903f53",
      "metadata": {
        "id": "65903f53"
      },
      "source": [
        "### столбец 'purpose'"
      ]
    },
    {
      "cell_type": "code",
      "execution_count": null,
      "id": "e3baf17e",
      "metadata": {
        "id": "e3baf17e",
        "outputId": "7c8cf2b4-cb64-42c6-a92d-011f915e0cfd"
      },
      "outputs": [
        {
          "data": {
            "text/plain": [
              "свадьба                                   791\n",
              "на проведение свадьбы                     768\n",
              "сыграть свадьбу                           764\n",
              "операции с недвижимостью                  670\n",
              "покупка коммерческой недвижимости         658\n",
              "покупка жилья для сдачи                   649\n",
              "операции с коммерческой недвижимостью     644\n",
              "операции с жильем                         642\n",
              "покупка жилья для семьи                   639\n",
              "жилье                                     636\n",
              "покупка жилья                             635\n",
              "недвижимость                              628\n",
              "операции со своей недвижимостью           626\n",
              "строительство собственной недвижимости    626\n",
              "строительство недвижимости                620\n",
              "строительство жилой недвижимости          619\n",
              "покупка своего жилья                      618\n",
              "покупка недвижимости                      615\n",
              "ремонт жилью                              607\n",
              "покупка жилой недвижимости                600\n",
              "на покупку своего автомобиля              501\n",
              "заняться высшим образованием              493\n",
              "автомобиль                                488\n",
              "сделка с подержанным автомобилем          482\n",
              "автомобили                                474\n",
              "свой автомобиль                           472\n",
              "на покупку подержанного автомобиля        472\n",
              "на покупку автомобиля                     466\n",
              "приобретение автомобиля                   458\n",
              "дополнительное образование                455\n",
              "сделка с автомобилем                      454\n",
              "высшее образование                        444\n",
              "получение дополнительного образования     443\n",
              "получение образования                     440\n",
              "образование                               439\n",
              "профильное образование                    431\n",
              "получение высшего образования             423\n",
              "заняться образованием                     411\n",
              "Name: purpose, dtype: int64"
            ]
          },
          "execution_count": 32,
          "metadata": {},
          "output_type": "execute_result"
        }
      ],
      "source": [
        "df['purpose'].value_counts()"
      ]
    },
    {
      "cell_type": "markdown",
      "id": "cc095cc0",
      "metadata": {
        "scrolled": true,
        "id": "cc095cc0"
      },
      "source": [
        "Многие цели кредита похожи. По сути это скрытые дубли. В процессе категоризация (в разделе ниже) сведем все цели к небольшому количеству групп."
      ]
    },
    {
      "cell_type": "markdown",
      "id": "7f9645d4",
      "metadata": {
        "id": "7f9645d4"
      },
      "source": [
        "## Шаг 2.5. Формирование дополнительных датафреймов словарей, декомпозиция исходного датафрейма."
      ]
    },
    {
      "cell_type": "code",
      "execution_count": null,
      "id": "14fedddc",
      "metadata": {
        "scrolled": true,
        "id": "14fedddc",
        "outputId": "db4217c8-2fda-435a-a9bd-4c5efa19e730"
      },
      "outputs": [
        {
          "data": {
            "text/html": [
              "<div>\n",
              "<style scoped>\n",
              "    .dataframe tbody tr th:only-of-type {\n",
              "        vertical-align: middle;\n",
              "    }\n",
              "\n",
              "    .dataframe tbody tr th {\n",
              "        vertical-align: top;\n",
              "    }\n",
              "\n",
              "    .dataframe thead th {\n",
              "        text-align: right;\n",
              "    }\n",
              "</style>\n",
              "<table border=\"1\" class=\"dataframe\">\n",
              "  <thead>\n",
              "    <tr style=\"text-align: right;\">\n",
              "      <th></th>\n",
              "      <th>education_id</th>\n",
              "      <th>education</th>\n",
              "    </tr>\n",
              "  </thead>\n",
              "  <tbody>\n",
              "    <tr>\n",
              "      <th>0</th>\n",
              "      <td>0</td>\n",
              "      <td>высшее</td>\n",
              "    </tr>\n",
              "    <tr>\n",
              "      <th>1</th>\n",
              "      <td>1</td>\n",
              "      <td>среднее</td>\n",
              "    </tr>\n",
              "    <tr>\n",
              "      <th>2</th>\n",
              "      <td>1</td>\n",
              "      <td>среднее</td>\n",
              "    </tr>\n",
              "    <tr>\n",
              "      <th>3</th>\n",
              "      <td>1</td>\n",
              "      <td>среднее</td>\n",
              "    </tr>\n",
              "    <tr>\n",
              "      <th>4</th>\n",
              "      <td>1</td>\n",
              "      <td>среднее</td>\n",
              "    </tr>\n",
              "    <tr>\n",
              "      <th>...</th>\n",
              "      <td>...</td>\n",
              "      <td>...</td>\n",
              "    </tr>\n",
              "    <tr>\n",
              "      <th>21520</th>\n",
              "      <td>1</td>\n",
              "      <td>среднее</td>\n",
              "    </tr>\n",
              "    <tr>\n",
              "      <th>21521</th>\n",
              "      <td>1</td>\n",
              "      <td>среднее</td>\n",
              "    </tr>\n",
              "    <tr>\n",
              "      <th>21522</th>\n",
              "      <td>1</td>\n",
              "      <td>среднее</td>\n",
              "    </tr>\n",
              "    <tr>\n",
              "      <th>21523</th>\n",
              "      <td>1</td>\n",
              "      <td>среднее</td>\n",
              "    </tr>\n",
              "    <tr>\n",
              "      <th>21524</th>\n",
              "      <td>1</td>\n",
              "      <td>среднее</td>\n",
              "    </tr>\n",
              "  </tbody>\n",
              "</table>\n",
              "<p>21301 rows × 2 columns</p>\n",
              "</div>"
            ],
            "text/plain": [
              "       education_id education\n",
              "0                 0    высшее\n",
              "1                 1   среднее\n",
              "2                 1   среднее\n",
              "3                 1   среднее\n",
              "4                 1   среднее\n",
              "...             ...       ...\n",
              "21520             1   среднее\n",
              "21521             1   среднее\n",
              "21522             1   среднее\n",
              "21523             1   среднее\n",
              "21524             1   среднее\n",
              "\n",
              "[21301 rows x 2 columns]"
            ]
          },
          "metadata": {},
          "output_type": "display_data"
        }
      ],
      "source": [
        "educ_log = df[['education_id', 'education']]\n",
        "display(educ_log)"
      ]
    },
    {
      "cell_type": "markdown",
      "id": "1f8bdd54",
      "metadata": {
        "id": "1f8bdd54"
      },
      "source": [
        "Удаляем из исходного датафрейма столбец 'education'"
      ]
    },
    {
      "cell_type": "code",
      "execution_count": null,
      "id": "59cd2348",
      "metadata": {
        "id": "59cd2348",
        "outputId": "e2a3c14c-8c21-453d-8065-c49ba1d83370"
      },
      "outputs": [
        {
          "data": {
            "text/html": [
              "<div>\n",
              "<style scoped>\n",
              "    .dataframe tbody tr th:only-of-type {\n",
              "        vertical-align: middle;\n",
              "    }\n",
              "\n",
              "    .dataframe tbody tr th {\n",
              "        vertical-align: top;\n",
              "    }\n",
              "\n",
              "    .dataframe thead th {\n",
              "        text-align: right;\n",
              "    }\n",
              "</style>\n",
              "<table border=\"1\" class=\"dataframe\">\n",
              "  <thead>\n",
              "    <tr style=\"text-align: right;\">\n",
              "      <th></th>\n",
              "      <th>children</th>\n",
              "      <th>days_employed</th>\n",
              "      <th>dob_years</th>\n",
              "      <th>education_id</th>\n",
              "      <th>family_status</th>\n",
              "      <th>family_status_id</th>\n",
              "      <th>gender</th>\n",
              "      <th>income_type</th>\n",
              "      <th>debt</th>\n",
              "      <th>total_income</th>\n",
              "      <th>purpose</th>\n",
              "      <th>years_category</th>\n",
              "    </tr>\n",
              "  </thead>\n",
              "  <tbody>\n",
              "    <tr>\n",
              "      <th>0</th>\n",
              "      <td>1</td>\n",
              "      <td>23.116912</td>\n",
              "      <td>42</td>\n",
              "      <td>0</td>\n",
              "      <td>женат / замужем</td>\n",
              "      <td>0</td>\n",
              "      <td>F</td>\n",
              "      <td>сотрудник</td>\n",
              "      <td>0</td>\n",
              "      <td>253875</td>\n",
              "      <td>покупка жилья</td>\n",
              "      <td>adult</td>\n",
              "    </tr>\n",
              "    <tr>\n",
              "      <th>1</th>\n",
              "      <td>1</td>\n",
              "      <td>11.026860</td>\n",
              "      <td>36</td>\n",
              "      <td>1</td>\n",
              "      <td>женат / замужем</td>\n",
              "      <td>0</td>\n",
              "      <td>F</td>\n",
              "      <td>сотрудник</td>\n",
              "      <td>0</td>\n",
              "      <td>112080</td>\n",
              "      <td>приобретение автомобиля</td>\n",
              "      <td>middle</td>\n",
              "    </tr>\n",
              "    <tr>\n",
              "      <th>2</th>\n",
              "      <td>0</td>\n",
              "      <td>15.406637</td>\n",
              "      <td>33</td>\n",
              "      <td>1</td>\n",
              "      <td>женат / замужем</td>\n",
              "      <td>0</td>\n",
              "      <td>M</td>\n",
              "      <td>сотрудник</td>\n",
              "      <td>0</td>\n",
              "      <td>145885</td>\n",
              "      <td>покупка жилья</td>\n",
              "      <td>middle</td>\n",
              "    </tr>\n",
              "    <tr>\n",
              "      <th>3</th>\n",
              "      <td>3</td>\n",
              "      <td>11.300677</td>\n",
              "      <td>32</td>\n",
              "      <td>1</td>\n",
              "      <td>женат / замужем</td>\n",
              "      <td>0</td>\n",
              "      <td>M</td>\n",
              "      <td>сотрудник</td>\n",
              "      <td>0</td>\n",
              "      <td>267628</td>\n",
              "      <td>дополнительное образование</td>\n",
              "      <td>middle</td>\n",
              "    </tr>\n",
              "    <tr>\n",
              "      <th>4</th>\n",
              "      <td>0</td>\n",
              "      <td>38.843159</td>\n",
              "      <td>53</td>\n",
              "      <td>1</td>\n",
              "      <td>гражданский брак</td>\n",
              "      <td>1</td>\n",
              "      <td>F</td>\n",
              "      <td>пенсионер</td>\n",
              "      <td>0</td>\n",
              "      <td>158616</td>\n",
              "      <td>сыграть свадьбу</td>\n",
              "      <td>adult_pluse</td>\n",
              "    </tr>\n",
              "    <tr>\n",
              "      <th>...</th>\n",
              "      <td>...</td>\n",
              "      <td>...</td>\n",
              "      <td>...</td>\n",
              "      <td>...</td>\n",
              "      <td>...</td>\n",
              "      <td>...</td>\n",
              "      <td>...</td>\n",
              "      <td>...</td>\n",
              "      <td>...</td>\n",
              "      <td>...</td>\n",
              "      <td>...</td>\n",
              "      <td>...</td>\n",
              "    </tr>\n",
              "    <tr>\n",
              "      <th>21520</th>\n",
              "      <td>1</td>\n",
              "      <td>12.409087</td>\n",
              "      <td>43</td>\n",
              "      <td>1</td>\n",
              "      <td>гражданский брак</td>\n",
              "      <td>1</td>\n",
              "      <td>F</td>\n",
              "      <td>компаньон</td>\n",
              "      <td>0</td>\n",
              "      <td>224791</td>\n",
              "      <td>операции с жильем</td>\n",
              "      <td>adult</td>\n",
              "    </tr>\n",
              "    <tr>\n",
              "      <th>21521</th>\n",
              "      <td>0</td>\n",
              "      <td>39.262261</td>\n",
              "      <td>67</td>\n",
              "      <td>1</td>\n",
              "      <td>женат / замужем</td>\n",
              "      <td>0</td>\n",
              "      <td>F</td>\n",
              "      <td>пенсионер</td>\n",
              "      <td>0</td>\n",
              "      <td>155999</td>\n",
              "      <td>сделка с автомобилем</td>\n",
              "      <td>old</td>\n",
              "    </tr>\n",
              "    <tr>\n",
              "      <th>21522</th>\n",
              "      <td>1</td>\n",
              "      <td>5.789991</td>\n",
              "      <td>38</td>\n",
              "      <td>1</td>\n",
              "      <td>гражданский брак</td>\n",
              "      <td>1</td>\n",
              "      <td>M</td>\n",
              "      <td>сотрудник</td>\n",
              "      <td>1</td>\n",
              "      <td>89672</td>\n",
              "      <td>недвижимость</td>\n",
              "      <td>adult</td>\n",
              "    </tr>\n",
              "    <tr>\n",
              "      <th>21523</th>\n",
              "      <td>3</td>\n",
              "      <td>8.527347</td>\n",
              "      <td>38</td>\n",
              "      <td>1</td>\n",
              "      <td>женат / замужем</td>\n",
              "      <td>0</td>\n",
              "      <td>M</td>\n",
              "      <td>сотрудник</td>\n",
              "      <td>1</td>\n",
              "      <td>244093</td>\n",
              "      <td>на покупку своего автомобиля</td>\n",
              "      <td>adult</td>\n",
              "    </tr>\n",
              "    <tr>\n",
              "      <th>21524</th>\n",
              "      <td>2</td>\n",
              "      <td>5.437007</td>\n",
              "      <td>40</td>\n",
              "      <td>1</td>\n",
              "      <td>женат / замужем</td>\n",
              "      <td>0</td>\n",
              "      <td>F</td>\n",
              "      <td>сотрудник</td>\n",
              "      <td>0</td>\n",
              "      <td>82047</td>\n",
              "      <td>на покупку автомобиля</td>\n",
              "      <td>adult</td>\n",
              "    </tr>\n",
              "  </tbody>\n",
              "</table>\n",
              "<p>21301 rows × 12 columns</p>\n",
              "</div>"
            ],
            "text/plain": [
              "       children  days_employed  dob_years  education_id     family_status  \\\n",
              "0             1      23.116912         42             0   женат / замужем   \n",
              "1             1      11.026860         36             1   женат / замужем   \n",
              "2             0      15.406637         33             1   женат / замужем   \n",
              "3             3      11.300677         32             1   женат / замужем   \n",
              "4             0      38.843159         53             1  гражданский брак   \n",
              "...         ...            ...        ...           ...               ...   \n",
              "21520         1      12.409087         43             1  гражданский брак   \n",
              "21521         0      39.262261         67             1   женат / замужем   \n",
              "21522         1       5.789991         38             1  гражданский брак   \n",
              "21523         3       8.527347         38             1   женат / замужем   \n",
              "21524         2       5.437007         40             1   женат / замужем   \n",
              "\n",
              "       family_status_id gender income_type  debt  total_income  \\\n",
              "0                     0      F   сотрудник     0        253875   \n",
              "1                     0      F   сотрудник     0        112080   \n",
              "2                     0      M   сотрудник     0        145885   \n",
              "3                     0      M   сотрудник     0        267628   \n",
              "4                     1      F   пенсионер     0        158616   \n",
              "...                 ...    ...         ...   ...           ...   \n",
              "21520                 1      F   компаньон     0        224791   \n",
              "21521                 0      F   пенсионер     0        155999   \n",
              "21522                 1      M   сотрудник     1         89672   \n",
              "21523                 0      M   сотрудник     1        244093   \n",
              "21524                 0      F   сотрудник     0         82047   \n",
              "\n",
              "                            purpose years_category  \n",
              "0                     покупка жилья          adult  \n",
              "1           приобретение автомобиля         middle  \n",
              "2                     покупка жилья         middle  \n",
              "3        дополнительное образование         middle  \n",
              "4                   сыграть свадьбу    adult_pluse  \n",
              "...                             ...            ...  \n",
              "21520             операции с жильем          adult  \n",
              "21521          сделка с автомобилем            old  \n",
              "21522                  недвижимость          adult  \n",
              "21523  на покупку своего автомобиля          adult  \n",
              "21524         на покупку автомобиля          adult  \n",
              "\n",
              "[21301 rows x 12 columns]"
            ]
          },
          "execution_count": 34,
          "metadata": {},
          "output_type": "execute_result"
        }
      ],
      "source": [
        "df.drop(labels='education', axis=1)"
      ]
    },
    {
      "cell_type": "code",
      "execution_count": null,
      "id": "ee1b58a4",
      "metadata": {
        "id": "ee1b58a4",
        "outputId": "cc218275-3311-4e73-bb58-d095c545824b"
      },
      "outputs": [
        {
          "data": {
            "text/html": [
              "<div>\n",
              "<style scoped>\n",
              "    .dataframe tbody tr th:only-of-type {\n",
              "        vertical-align: middle;\n",
              "    }\n",
              "\n",
              "    .dataframe tbody tr th {\n",
              "        vertical-align: top;\n",
              "    }\n",
              "\n",
              "    .dataframe thead th {\n",
              "        text-align: right;\n",
              "    }\n",
              "</style>\n",
              "<table border=\"1\" class=\"dataframe\">\n",
              "  <thead>\n",
              "    <tr style=\"text-align: right;\">\n",
              "      <th></th>\n",
              "      <th>family_status_id</th>\n",
              "      <th>family_status</th>\n",
              "    </tr>\n",
              "  </thead>\n",
              "  <tbody>\n",
              "    <tr>\n",
              "      <th>0</th>\n",
              "      <td>0</td>\n",
              "      <td>женат / замужем</td>\n",
              "    </tr>\n",
              "    <tr>\n",
              "      <th>1</th>\n",
              "      <td>0</td>\n",
              "      <td>женат / замужем</td>\n",
              "    </tr>\n",
              "    <tr>\n",
              "      <th>2</th>\n",
              "      <td>0</td>\n",
              "      <td>женат / замужем</td>\n",
              "    </tr>\n",
              "    <tr>\n",
              "      <th>3</th>\n",
              "      <td>0</td>\n",
              "      <td>женат / замужем</td>\n",
              "    </tr>\n",
              "    <tr>\n",
              "      <th>4</th>\n",
              "      <td>1</td>\n",
              "      <td>гражданский брак</td>\n",
              "    </tr>\n",
              "    <tr>\n",
              "      <th>...</th>\n",
              "      <td>...</td>\n",
              "      <td>...</td>\n",
              "    </tr>\n",
              "    <tr>\n",
              "      <th>21520</th>\n",
              "      <td>1</td>\n",
              "      <td>гражданский брак</td>\n",
              "    </tr>\n",
              "    <tr>\n",
              "      <th>21521</th>\n",
              "      <td>0</td>\n",
              "      <td>женат / замужем</td>\n",
              "    </tr>\n",
              "    <tr>\n",
              "      <th>21522</th>\n",
              "      <td>1</td>\n",
              "      <td>гражданский брак</td>\n",
              "    </tr>\n",
              "    <tr>\n",
              "      <th>21523</th>\n",
              "      <td>0</td>\n",
              "      <td>женат / замужем</td>\n",
              "    </tr>\n",
              "    <tr>\n",
              "      <th>21524</th>\n",
              "      <td>0</td>\n",
              "      <td>женат / замужем</td>\n",
              "    </tr>\n",
              "  </tbody>\n",
              "</table>\n",
              "<p>21301 rows × 2 columns</p>\n",
              "</div>"
            ],
            "text/plain": [
              "       family_status_id     family_status\n",
              "0                     0   женат / замужем\n",
              "1                     0   женат / замужем\n",
              "2                     0   женат / замужем\n",
              "3                     0   женат / замужем\n",
              "4                     1  гражданский брак\n",
              "...                 ...               ...\n",
              "21520                 1  гражданский брак\n",
              "21521                 0   женат / замужем\n",
              "21522                 1  гражданский брак\n",
              "21523                 0   женат / замужем\n",
              "21524                 0   женат / замужем\n",
              "\n",
              "[21301 rows x 2 columns]"
            ]
          },
          "metadata": {},
          "output_type": "display_data"
        }
      ],
      "source": [
        "family_stat_log = df[['family_status_id', 'family_status']]\n",
        "display(family_stat_log)"
      ]
    },
    {
      "cell_type": "markdown",
      "id": "1ffea763",
      "metadata": {
        "id": "1ffea763"
      },
      "source": [
        "Удаляем из исходного датафрейма столбец 'family_status'"
      ]
    },
    {
      "cell_type": "code",
      "execution_count": null,
      "id": "7bba2b37",
      "metadata": {
        "id": "7bba2b37",
        "outputId": "e90bc618-d547-47d8-ba9e-3ca89b72c3e0"
      },
      "outputs": [
        {
          "data": {
            "text/html": [
              "<div>\n",
              "<style scoped>\n",
              "    .dataframe tbody tr th:only-of-type {\n",
              "        vertical-align: middle;\n",
              "    }\n",
              "\n",
              "    .dataframe tbody tr th {\n",
              "        vertical-align: top;\n",
              "    }\n",
              "\n",
              "    .dataframe thead th {\n",
              "        text-align: right;\n",
              "    }\n",
              "</style>\n",
              "<table border=\"1\" class=\"dataframe\">\n",
              "  <thead>\n",
              "    <tr style=\"text-align: right;\">\n",
              "      <th></th>\n",
              "      <th>children</th>\n",
              "      <th>days_employed</th>\n",
              "      <th>dob_years</th>\n",
              "      <th>education</th>\n",
              "      <th>education_id</th>\n",
              "      <th>family_status_id</th>\n",
              "      <th>gender</th>\n",
              "      <th>income_type</th>\n",
              "      <th>debt</th>\n",
              "      <th>total_income</th>\n",
              "      <th>purpose</th>\n",
              "      <th>years_category</th>\n",
              "    </tr>\n",
              "  </thead>\n",
              "  <tbody>\n",
              "    <tr>\n",
              "      <th>0</th>\n",
              "      <td>1</td>\n",
              "      <td>23.116912</td>\n",
              "      <td>42</td>\n",
              "      <td>высшее</td>\n",
              "      <td>0</td>\n",
              "      <td>0</td>\n",
              "      <td>F</td>\n",
              "      <td>сотрудник</td>\n",
              "      <td>0</td>\n",
              "      <td>253875</td>\n",
              "      <td>покупка жилья</td>\n",
              "      <td>adult</td>\n",
              "    </tr>\n",
              "    <tr>\n",
              "      <th>1</th>\n",
              "      <td>1</td>\n",
              "      <td>11.026860</td>\n",
              "      <td>36</td>\n",
              "      <td>среднее</td>\n",
              "      <td>1</td>\n",
              "      <td>0</td>\n",
              "      <td>F</td>\n",
              "      <td>сотрудник</td>\n",
              "      <td>0</td>\n",
              "      <td>112080</td>\n",
              "      <td>приобретение автомобиля</td>\n",
              "      <td>middle</td>\n",
              "    </tr>\n",
              "    <tr>\n",
              "      <th>2</th>\n",
              "      <td>0</td>\n",
              "      <td>15.406637</td>\n",
              "      <td>33</td>\n",
              "      <td>среднее</td>\n",
              "      <td>1</td>\n",
              "      <td>0</td>\n",
              "      <td>M</td>\n",
              "      <td>сотрудник</td>\n",
              "      <td>0</td>\n",
              "      <td>145885</td>\n",
              "      <td>покупка жилья</td>\n",
              "      <td>middle</td>\n",
              "    </tr>\n",
              "    <tr>\n",
              "      <th>3</th>\n",
              "      <td>3</td>\n",
              "      <td>11.300677</td>\n",
              "      <td>32</td>\n",
              "      <td>среднее</td>\n",
              "      <td>1</td>\n",
              "      <td>0</td>\n",
              "      <td>M</td>\n",
              "      <td>сотрудник</td>\n",
              "      <td>0</td>\n",
              "      <td>267628</td>\n",
              "      <td>дополнительное образование</td>\n",
              "      <td>middle</td>\n",
              "    </tr>\n",
              "    <tr>\n",
              "      <th>4</th>\n",
              "      <td>0</td>\n",
              "      <td>38.843159</td>\n",
              "      <td>53</td>\n",
              "      <td>среднее</td>\n",
              "      <td>1</td>\n",
              "      <td>1</td>\n",
              "      <td>F</td>\n",
              "      <td>пенсионер</td>\n",
              "      <td>0</td>\n",
              "      <td>158616</td>\n",
              "      <td>сыграть свадьбу</td>\n",
              "      <td>adult_pluse</td>\n",
              "    </tr>\n",
              "    <tr>\n",
              "      <th>...</th>\n",
              "      <td>...</td>\n",
              "      <td>...</td>\n",
              "      <td>...</td>\n",
              "      <td>...</td>\n",
              "      <td>...</td>\n",
              "      <td>...</td>\n",
              "      <td>...</td>\n",
              "      <td>...</td>\n",
              "      <td>...</td>\n",
              "      <td>...</td>\n",
              "      <td>...</td>\n",
              "      <td>...</td>\n",
              "    </tr>\n",
              "    <tr>\n",
              "      <th>21520</th>\n",
              "      <td>1</td>\n",
              "      <td>12.409087</td>\n",
              "      <td>43</td>\n",
              "      <td>среднее</td>\n",
              "      <td>1</td>\n",
              "      <td>1</td>\n",
              "      <td>F</td>\n",
              "      <td>компаньон</td>\n",
              "      <td>0</td>\n",
              "      <td>224791</td>\n",
              "      <td>операции с жильем</td>\n",
              "      <td>adult</td>\n",
              "    </tr>\n",
              "    <tr>\n",
              "      <th>21521</th>\n",
              "      <td>0</td>\n",
              "      <td>39.262261</td>\n",
              "      <td>67</td>\n",
              "      <td>среднее</td>\n",
              "      <td>1</td>\n",
              "      <td>0</td>\n",
              "      <td>F</td>\n",
              "      <td>пенсионер</td>\n",
              "      <td>0</td>\n",
              "      <td>155999</td>\n",
              "      <td>сделка с автомобилем</td>\n",
              "      <td>old</td>\n",
              "    </tr>\n",
              "    <tr>\n",
              "      <th>21522</th>\n",
              "      <td>1</td>\n",
              "      <td>5.789991</td>\n",
              "      <td>38</td>\n",
              "      <td>среднее</td>\n",
              "      <td>1</td>\n",
              "      <td>1</td>\n",
              "      <td>M</td>\n",
              "      <td>сотрудник</td>\n",
              "      <td>1</td>\n",
              "      <td>89672</td>\n",
              "      <td>недвижимость</td>\n",
              "      <td>adult</td>\n",
              "    </tr>\n",
              "    <tr>\n",
              "      <th>21523</th>\n",
              "      <td>3</td>\n",
              "      <td>8.527347</td>\n",
              "      <td>38</td>\n",
              "      <td>среднее</td>\n",
              "      <td>1</td>\n",
              "      <td>0</td>\n",
              "      <td>M</td>\n",
              "      <td>сотрудник</td>\n",
              "      <td>1</td>\n",
              "      <td>244093</td>\n",
              "      <td>на покупку своего автомобиля</td>\n",
              "      <td>adult</td>\n",
              "    </tr>\n",
              "    <tr>\n",
              "      <th>21524</th>\n",
              "      <td>2</td>\n",
              "      <td>5.437007</td>\n",
              "      <td>40</td>\n",
              "      <td>среднее</td>\n",
              "      <td>1</td>\n",
              "      <td>0</td>\n",
              "      <td>F</td>\n",
              "      <td>сотрудник</td>\n",
              "      <td>0</td>\n",
              "      <td>82047</td>\n",
              "      <td>на покупку автомобиля</td>\n",
              "      <td>adult</td>\n",
              "    </tr>\n",
              "  </tbody>\n",
              "</table>\n",
              "<p>21301 rows × 12 columns</p>\n",
              "</div>"
            ],
            "text/plain": [
              "       children  days_employed  dob_years education  education_id  \\\n",
              "0             1      23.116912         42    высшее             0   \n",
              "1             1      11.026860         36   среднее             1   \n",
              "2             0      15.406637         33   среднее             1   \n",
              "3             3      11.300677         32   среднее             1   \n",
              "4             0      38.843159         53   среднее             1   \n",
              "...         ...            ...        ...       ...           ...   \n",
              "21520         1      12.409087         43   среднее             1   \n",
              "21521         0      39.262261         67   среднее             1   \n",
              "21522         1       5.789991         38   среднее             1   \n",
              "21523         3       8.527347         38   среднее             1   \n",
              "21524         2       5.437007         40   среднее             1   \n",
              "\n",
              "       family_status_id gender income_type  debt  total_income  \\\n",
              "0                     0      F   сотрудник     0        253875   \n",
              "1                     0      F   сотрудник     0        112080   \n",
              "2                     0      M   сотрудник     0        145885   \n",
              "3                     0      M   сотрудник     0        267628   \n",
              "4                     1      F   пенсионер     0        158616   \n",
              "...                 ...    ...         ...   ...           ...   \n",
              "21520                 1      F   компаньон     0        224791   \n",
              "21521                 0      F   пенсионер     0        155999   \n",
              "21522                 1      M   сотрудник     1         89672   \n",
              "21523                 0      M   сотрудник     1        244093   \n",
              "21524                 0      F   сотрудник     0         82047   \n",
              "\n",
              "                            purpose years_category  \n",
              "0                     покупка жилья          adult  \n",
              "1           приобретение автомобиля         middle  \n",
              "2                     покупка жилья         middle  \n",
              "3        дополнительное образование         middle  \n",
              "4                   сыграть свадьбу    adult_pluse  \n",
              "...                             ...            ...  \n",
              "21520             операции с жильем          adult  \n",
              "21521          сделка с автомобилем            old  \n",
              "21522                  недвижимость          adult  \n",
              "21523  на покупку своего автомобиля          adult  \n",
              "21524         на покупку автомобиля          adult  \n",
              "\n",
              "[21301 rows x 12 columns]"
            ]
          },
          "execution_count": 36,
          "metadata": {},
          "output_type": "execute_result"
        }
      ],
      "source": [
        "df.drop(labels='family_status', axis=1)"
      ]
    },
    {
      "cell_type": "markdown",
      "id": "4f786bbf",
      "metadata": {
        "id": "4f786bbf"
      },
      "source": [
        "## Шаг 2.6. Категоризация дохода."
      ]
    },
    {
      "cell_type": "code",
      "execution_count": null,
      "id": "e7299545",
      "metadata": {
        "id": "e7299545",
        "outputId": "4f3ab7ee-b265-4a23-9b46-d1ac9c37e750"
      },
      "outputs": [
        {
          "data": {
            "text/html": [
              "<div>\n",
              "<style scoped>\n",
              "    .dataframe tbody tr th:only-of-type {\n",
              "        vertical-align: middle;\n",
              "    }\n",
              "\n",
              "    .dataframe tbody tr th {\n",
              "        vertical-align: top;\n",
              "    }\n",
              "\n",
              "    .dataframe thead th {\n",
              "        text-align: right;\n",
              "    }\n",
              "</style>\n",
              "<table border=\"1\" class=\"dataframe\">\n",
              "  <thead>\n",
              "    <tr style=\"text-align: right;\">\n",
              "      <th></th>\n",
              "      <th>children</th>\n",
              "      <th>days_employed</th>\n",
              "      <th>dob_years</th>\n",
              "      <th>education</th>\n",
              "      <th>education_id</th>\n",
              "      <th>family_status</th>\n",
              "      <th>family_status_id</th>\n",
              "      <th>gender</th>\n",
              "      <th>income_type</th>\n",
              "      <th>debt</th>\n",
              "      <th>total_income</th>\n",
              "      <th>purpose</th>\n",
              "      <th>years_category</th>\n",
              "      <th>total_income_category</th>\n",
              "    </tr>\n",
              "  </thead>\n",
              "  <tbody>\n",
              "    <tr>\n",
              "      <th>0</th>\n",
              "      <td>1</td>\n",
              "      <td>23.116912</td>\n",
              "      <td>42</td>\n",
              "      <td>высшее</td>\n",
              "      <td>0</td>\n",
              "      <td>женат / замужем</td>\n",
              "      <td>0</td>\n",
              "      <td>F</td>\n",
              "      <td>сотрудник</td>\n",
              "      <td>0</td>\n",
              "      <td>253875</td>\n",
              "      <td>покупка жилья</td>\n",
              "      <td>adult</td>\n",
              "      <td>B</td>\n",
              "    </tr>\n",
              "    <tr>\n",
              "      <th>1</th>\n",
              "      <td>1</td>\n",
              "      <td>11.026860</td>\n",
              "      <td>36</td>\n",
              "      <td>среднее</td>\n",
              "      <td>1</td>\n",
              "      <td>женат / замужем</td>\n",
              "      <td>0</td>\n",
              "      <td>F</td>\n",
              "      <td>сотрудник</td>\n",
              "      <td>0</td>\n",
              "      <td>112080</td>\n",
              "      <td>приобретение автомобиля</td>\n",
              "      <td>middle</td>\n",
              "      <td>C</td>\n",
              "    </tr>\n",
              "    <tr>\n",
              "      <th>2</th>\n",
              "      <td>0</td>\n",
              "      <td>15.406637</td>\n",
              "      <td>33</td>\n",
              "      <td>среднее</td>\n",
              "      <td>1</td>\n",
              "      <td>женат / замужем</td>\n",
              "      <td>0</td>\n",
              "      <td>M</td>\n",
              "      <td>сотрудник</td>\n",
              "      <td>0</td>\n",
              "      <td>145885</td>\n",
              "      <td>покупка жилья</td>\n",
              "      <td>middle</td>\n",
              "      <td>C</td>\n",
              "    </tr>\n",
              "    <tr>\n",
              "      <th>3</th>\n",
              "      <td>3</td>\n",
              "      <td>11.300677</td>\n",
              "      <td>32</td>\n",
              "      <td>среднее</td>\n",
              "      <td>1</td>\n",
              "      <td>женат / замужем</td>\n",
              "      <td>0</td>\n",
              "      <td>M</td>\n",
              "      <td>сотрудник</td>\n",
              "      <td>0</td>\n",
              "      <td>267628</td>\n",
              "      <td>дополнительное образование</td>\n",
              "      <td>middle</td>\n",
              "      <td>B</td>\n",
              "    </tr>\n",
              "    <tr>\n",
              "      <th>4</th>\n",
              "      <td>0</td>\n",
              "      <td>38.843159</td>\n",
              "      <td>53</td>\n",
              "      <td>среднее</td>\n",
              "      <td>1</td>\n",
              "      <td>гражданский брак</td>\n",
              "      <td>1</td>\n",
              "      <td>F</td>\n",
              "      <td>пенсионер</td>\n",
              "      <td>0</td>\n",
              "      <td>158616</td>\n",
              "      <td>сыграть свадьбу</td>\n",
              "      <td>adult_pluse</td>\n",
              "      <td>C</td>\n",
              "    </tr>\n",
              "  </tbody>\n",
              "</table>\n",
              "</div>"
            ],
            "text/plain": [
              "   children  days_employed  dob_years education  education_id  \\\n",
              "0         1      23.116912         42    высшее             0   \n",
              "1         1      11.026860         36   среднее             1   \n",
              "2         0      15.406637         33   среднее             1   \n",
              "3         3      11.300677         32   среднее             1   \n",
              "4         0      38.843159         53   среднее             1   \n",
              "\n",
              "      family_status  family_status_id gender income_type  debt  total_income  \\\n",
              "0   женат / замужем                 0      F   сотрудник     0        253875   \n",
              "1   женат / замужем                 0      F   сотрудник     0        112080   \n",
              "2   женат / замужем                 0      M   сотрудник     0        145885   \n",
              "3   женат / замужем                 0      M   сотрудник     0        267628   \n",
              "4  гражданский брак                 1      F   пенсионер     0        158616   \n",
              "\n",
              "                      purpose years_category total_income_category  \n",
              "0               покупка жилья          adult                     B  \n",
              "1     приобретение автомобиля         middle                     C  \n",
              "2               покупка жилья         middle                     C  \n",
              "3  дополнительное образование         middle                     B  \n",
              "4             сыграть свадьбу    adult_pluse                     C  "
            ]
          },
          "metadata": {},
          "output_type": "display_data"
        }
      ],
      "source": [
        "def income_category(row):\n",
        "    if row['total_income'] < 30001:\n",
        "        return 'E'\n",
        "    if 30000 < row['total_income'] < 50001:\n",
        "        return 'D'\n",
        "    if 50000 < row['total_income'] < 200001:\n",
        "        return 'C'\n",
        "    if 200000 < row['total_income'] < 1000001:\n",
        "        return 'B'\n",
        "    if row['total_income'] > 1000001:\n",
        "        return 'A'\n",
        "\n",
        "df['total_income_category'] = df.apply(income_category, axis=1)\n",
        "display(df.head())"
      ]
    },
    {
      "cell_type": "markdown",
      "id": "2e9875cb",
      "metadata": {
        "id": "2e9875cb"
      },
      "source": [
        "## Шаг 2.7. Категоризация целей кредита."
      ]
    },
    {
      "cell_type": "code",
      "execution_count": null,
      "id": "f6b5504d",
      "metadata": {
        "id": "f6b5504d",
        "outputId": "01fadedf-fef6-4338-cc44-58022a03b123"
      },
      "outputs": [
        {
          "data": {
            "text/html": [
              "<div>\n",
              "<style scoped>\n",
              "    .dataframe tbody tr th:only-of-type {\n",
              "        vertical-align: middle;\n",
              "    }\n",
              "\n",
              "    .dataframe tbody tr th {\n",
              "        vertical-align: top;\n",
              "    }\n",
              "\n",
              "    .dataframe thead th {\n",
              "        text-align: right;\n",
              "    }\n",
              "</style>\n",
              "<table border=\"1\" class=\"dataframe\">\n",
              "  <thead>\n",
              "    <tr style=\"text-align: right;\">\n",
              "      <th></th>\n",
              "      <th>children</th>\n",
              "      <th>days_employed</th>\n",
              "      <th>dob_years</th>\n",
              "      <th>education</th>\n",
              "      <th>education_id</th>\n",
              "      <th>family_status</th>\n",
              "      <th>family_status_id</th>\n",
              "      <th>gender</th>\n",
              "      <th>income_type</th>\n",
              "      <th>debt</th>\n",
              "      <th>total_income</th>\n",
              "      <th>purpose</th>\n",
              "      <th>years_category</th>\n",
              "      <th>total_income_category</th>\n",
              "      <th>purpose_category</th>\n",
              "    </tr>\n",
              "  </thead>\n",
              "  <tbody>\n",
              "    <tr>\n",
              "      <th>0</th>\n",
              "      <td>1</td>\n",
              "      <td>23.116912</td>\n",
              "      <td>42</td>\n",
              "      <td>высшее</td>\n",
              "      <td>0</td>\n",
              "      <td>женат / замужем</td>\n",
              "      <td>0</td>\n",
              "      <td>F</td>\n",
              "      <td>сотрудник</td>\n",
              "      <td>0</td>\n",
              "      <td>253875</td>\n",
              "      <td>покупка жилья</td>\n",
              "      <td>adult</td>\n",
              "      <td>B</td>\n",
              "      <td>операции с недвижимостью</td>\n",
              "    </tr>\n",
              "    <tr>\n",
              "      <th>1</th>\n",
              "      <td>1</td>\n",
              "      <td>11.026860</td>\n",
              "      <td>36</td>\n",
              "      <td>среднее</td>\n",
              "      <td>1</td>\n",
              "      <td>женат / замужем</td>\n",
              "      <td>0</td>\n",
              "      <td>F</td>\n",
              "      <td>сотрудник</td>\n",
              "      <td>0</td>\n",
              "      <td>112080</td>\n",
              "      <td>приобретение автомобиля</td>\n",
              "      <td>middle</td>\n",
              "      <td>C</td>\n",
              "      <td>операции с автомобилем</td>\n",
              "    </tr>\n",
              "    <tr>\n",
              "      <th>2</th>\n",
              "      <td>0</td>\n",
              "      <td>15.406637</td>\n",
              "      <td>33</td>\n",
              "      <td>среднее</td>\n",
              "      <td>1</td>\n",
              "      <td>женат / замужем</td>\n",
              "      <td>0</td>\n",
              "      <td>M</td>\n",
              "      <td>сотрудник</td>\n",
              "      <td>0</td>\n",
              "      <td>145885</td>\n",
              "      <td>покупка жилья</td>\n",
              "      <td>middle</td>\n",
              "      <td>C</td>\n",
              "      <td>операции с недвижимостью</td>\n",
              "    </tr>\n",
              "    <tr>\n",
              "      <th>3</th>\n",
              "      <td>3</td>\n",
              "      <td>11.300677</td>\n",
              "      <td>32</td>\n",
              "      <td>среднее</td>\n",
              "      <td>1</td>\n",
              "      <td>женат / замужем</td>\n",
              "      <td>0</td>\n",
              "      <td>M</td>\n",
              "      <td>сотрудник</td>\n",
              "      <td>0</td>\n",
              "      <td>267628</td>\n",
              "      <td>дополнительное образование</td>\n",
              "      <td>middle</td>\n",
              "      <td>B</td>\n",
              "      <td>получение образования</td>\n",
              "    </tr>\n",
              "    <tr>\n",
              "      <th>4</th>\n",
              "      <td>0</td>\n",
              "      <td>38.843159</td>\n",
              "      <td>53</td>\n",
              "      <td>среднее</td>\n",
              "      <td>1</td>\n",
              "      <td>гражданский брак</td>\n",
              "      <td>1</td>\n",
              "      <td>F</td>\n",
              "      <td>пенсионер</td>\n",
              "      <td>0</td>\n",
              "      <td>158616</td>\n",
              "      <td>сыграть свадьбу</td>\n",
              "      <td>adult_pluse</td>\n",
              "      <td>C</td>\n",
              "      <td>проведение свадьбы</td>\n",
              "    </tr>\n",
              "  </tbody>\n",
              "</table>\n",
              "</div>"
            ],
            "text/plain": [
              "   children  days_employed  dob_years education  education_id  \\\n",
              "0         1      23.116912         42    высшее             0   \n",
              "1         1      11.026860         36   среднее             1   \n",
              "2         0      15.406637         33   среднее             1   \n",
              "3         3      11.300677         32   среднее             1   \n",
              "4         0      38.843159         53   среднее             1   \n",
              "\n",
              "      family_status  family_status_id gender income_type  debt  total_income  \\\n",
              "0   женат / замужем                 0      F   сотрудник     0        253875   \n",
              "1   женат / замужем                 0      F   сотрудник     0        112080   \n",
              "2   женат / замужем                 0      M   сотрудник     0        145885   \n",
              "3   женат / замужем                 0      M   сотрудник     0        267628   \n",
              "4  гражданский брак                 1      F   пенсионер     0        158616   \n",
              "\n",
              "                      purpose years_category total_income_category  \\\n",
              "0               покупка жилья          adult                     B   \n",
              "1     приобретение автомобиля         middle                     C   \n",
              "2               покупка жилья         middle                     C   \n",
              "3  дополнительное образование         middle                     B   \n",
              "4             сыграть свадьбу    adult_pluse                     C   \n",
              "\n",
              "           purpose_category  \n",
              "0  операции с недвижимостью  \n",
              "1    операции с автомобилем  \n",
              "2  операции с недвижимостью  \n",
              "3     получение образования  \n",
              "4        проведение свадьбы  "
            ]
          },
          "metadata": {},
          "output_type": "display_data"
        }
      ],
      "source": [
        "def purpose_grouping(row):\n",
        "    if 'авто' in row['purpose'] :\n",
        "        return 'операции с автомобилем'\n",
        "    if 'недвижимост' in row['purpose']  or 'жиль' in row['purpose']:\n",
        "        return 'операции с недвижимостью'\n",
        "    if 'свадьб' in row['purpose']:\n",
        "        return 'проведение свадьбы'\n",
        "    if 'образова' in row['purpose']:\n",
        "        return 'получение образования'\n",
        "\n",
        "df['purpose_category'] = df.apply(purpose_grouping, axis=1)\n",
        "display(df.head())\n"
      ]
    },
    {
      "cell_type": "markdown",
      "id": "93f3f17e",
      "metadata": {
        "id": "93f3f17e"
      },
      "source": [
        "## Ответы на вопросы."
      ]
    },
    {
      "cell_type": "markdown",
      "id": "dd7e59b8",
      "metadata": {
        "id": "dd7e59b8"
      },
      "source": [
        "##### Вопрос 1: Есть ли зависимость между количеством детей и возвратом кредита в срок?"
      ]
    },
    {
      "cell_type": "markdown",
      "id": "ab9f7d02",
      "metadata": {
        "id": "ab9f7d02"
      },
      "source": [
        "Для эффективного анализа данных и ответа на наши вопросы лучше всего подойдет создание сводной таблицы."
      ]
    },
    {
      "cell_type": "code",
      "execution_count": null,
      "id": "43b54a89",
      "metadata": {
        "id": "43b54a89",
        "outputId": "58bec27f-eeed-4a37-e4cb-f1957ff6c5da"
      },
      "outputs": [
        {
          "data": {
            "text/html": [
              "<div>\n",
              "<style scoped>\n",
              "    .dataframe tbody tr th:only-of-type {\n",
              "        vertical-align: middle;\n",
              "    }\n",
              "\n",
              "    .dataframe tbody tr th {\n",
              "        vertical-align: top;\n",
              "    }\n",
              "\n",
              "    .dataframe thead th {\n",
              "        text-align: right;\n",
              "    }\n",
              "</style>\n",
              "<table border=\"1\" class=\"dataframe\">\n",
              "  <thead>\n",
              "    <tr style=\"text-align: right;\">\n",
              "      <th></th>\n",
              "      <th>debt</th>\n",
              "    </tr>\n",
              "    <tr>\n",
              "      <th>children</th>\n",
              "      <th></th>\n",
              "    </tr>\n",
              "  </thead>\n",
              "  <tbody>\n",
              "    <tr>\n",
              "      <th>0</th>\n",
              "      <td>0.075147</td>\n",
              "    </tr>\n",
              "    <tr>\n",
              "      <th>1</th>\n",
              "      <td>0.091837</td>\n",
              "    </tr>\n",
              "    <tr>\n",
              "      <th>2</th>\n",
              "      <td>0.095005</td>\n",
              "    </tr>\n",
              "    <tr>\n",
              "      <th>3</th>\n",
              "      <td>0.082317</td>\n",
              "    </tr>\n",
              "    <tr>\n",
              "      <th>4</th>\n",
              "      <td>0.097561</td>\n",
              "    </tr>\n",
              "    <tr>\n",
              "      <th>5</th>\n",
              "      <td>0.000000</td>\n",
              "    </tr>\n",
              "  </tbody>\n",
              "</table>\n",
              "</div>"
            ],
            "text/plain": [
              "              debt\n",
              "children          \n",
              "0         0.075147\n",
              "1         0.091837\n",
              "2         0.095005\n",
              "3         0.082317\n",
              "4         0.097561\n",
              "5         0.000000"
            ]
          },
          "execution_count": 39,
          "metadata": {},
          "output_type": "execute_result"
        }
      ],
      "source": [
        "df.pivot_table(index='children', values='debt')"
      ]
    },
    {
      "cell_type": "markdown",
      "id": "6a0a35d0",
      "metadata": {
        "id": "6a0a35d0"
      },
      "source": [
        "У клиентов, имеющих 5 детей 100% возврат кредита. Стоит проверить какой объем выборки в этом сегменте."
      ]
    },
    {
      "cell_type": "code",
      "execution_count": null,
      "id": "fc12a5a8",
      "metadata": {
        "id": "fc12a5a8",
        "outputId": "8041d205-e298-4f01-f417-e4d53a22da97"
      },
      "outputs": [
        {
          "data": {
            "text/plain": [
              "0    14079\n",
              "1     4802\n",
              "2     2042\n",
              "3      328\n",
              "4       41\n",
              "5        9\n",
              "Name: children, dtype: int64"
            ]
          },
          "execution_count": 40,
          "metadata": {},
          "output_type": "execute_result"
        }
      ],
      "source": [
        "df['children'].value_counts()"
      ]
    },
    {
      "cell_type": "markdown",
      "id": "ca6e2834",
      "metadata": {
        "id": "ca6e2834"
      },
      "source": [
        "На мой взгляд выбрка клиентов с 5 детьми слишком маленькая, чтобы сделать реальные выводы. Тоже касается и клиентов с 4 детьми. Поэтому я бы их убрала из анализа."
      ]
    },
    {
      "cell_type": "markdown",
      "id": "14b73da3",
      "metadata": {
        "id": "14b73da3"
      },
      "source": [
        "##### Вывод 1:\n",
        "Нет четкой зависимости между количеством детей и возвратом кредита. Но прослеживается небольшая зависимость в том, что клиенты без детей чаще возвращают кредит, чем клиенты с детьми. Количество детей на возврат кредита сильно не влияет."
      ]
    },
    {
      "cell_type": "markdown",
      "id": "ccd026f0",
      "metadata": {
        "id": "ccd026f0"
      },
      "source": [
        "##### Вопрос 2:  Есть ли зависимость между семейным положением и возвратом кредита в срок?"
      ]
    },
    {
      "cell_type": "code",
      "execution_count": null,
      "id": "94b68d74",
      "metadata": {
        "id": "94b68d74",
        "outputId": "89d65bf6-acee-49ca-8aca-6e11ea2adb98"
      },
      "outputs": [
        {
          "data": {
            "text/html": [
              "<div>\n",
              "<style scoped>\n",
              "    .dataframe tbody tr th:only-of-type {\n",
              "        vertical-align: middle;\n",
              "    }\n",
              "\n",
              "    .dataframe tbody tr th {\n",
              "        vertical-align: top;\n",
              "    }\n",
              "\n",
              "    .dataframe thead th {\n",
              "        text-align: right;\n",
              "    }\n",
              "</style>\n",
              "<table border=\"1\" class=\"dataframe\">\n",
              "  <thead>\n",
              "    <tr style=\"text-align: right;\">\n",
              "      <th></th>\n",
              "      <th>debt</th>\n",
              "    </tr>\n",
              "    <tr>\n",
              "      <th>family_status</th>\n",
              "      <th></th>\n",
              "    </tr>\n",
              "  </thead>\n",
              "  <tbody>\n",
              "    <tr>\n",
              "      <th>Не женат / не замужем</th>\n",
              "      <td>0.097736</td>\n",
              "    </tr>\n",
              "    <tr>\n",
              "      <th>в разводе</th>\n",
              "      <td>0.071247</td>\n",
              "    </tr>\n",
              "    <tr>\n",
              "      <th>вдовец / вдова</th>\n",
              "      <td>0.065470</td>\n",
              "    </tr>\n",
              "    <tr>\n",
              "      <th>гражданский брак</th>\n",
              "      <td>0.092557</td>\n",
              "    </tr>\n",
              "    <tr>\n",
              "      <th>женат / замужем</th>\n",
              "      <td>0.075322</td>\n",
              "    </tr>\n",
              "  </tbody>\n",
              "</table>\n",
              "</div>"
            ],
            "text/plain": [
              "                           debt\n",
              "family_status                  \n",
              "Не женат / не замужем  0.097736\n",
              "в разводе              0.071247\n",
              "вдовец / вдова         0.065470\n",
              "гражданский брак       0.092557\n",
              "женат / замужем        0.075322"
            ]
          },
          "metadata": {},
          "output_type": "display_data"
        },
        {
          "data": {
            "text/plain": [
              "женат / замужем          12254\n",
              "гражданский брак          4138\n",
              "Не женат / не замужем     2783\n",
              "в разводе                 1179\n",
              "вдовец / вдова             947\n",
              "Name: family_status, dtype: int64"
            ]
          },
          "execution_count": 41,
          "metadata": {},
          "output_type": "execute_result"
        }
      ],
      "source": [
        "display(df.pivot_table(index='family_status', values='debt'))\n",
        "df['family_status'].value_counts()"
      ]
    },
    {
      "cell_type": "markdown",
      "id": "b8cdaac0",
      "metadata": {
        "id": "b8cdaac0"
      },
      "source": [
        "##### Вывод 2:\n",
        "Клиенты, которые состоят в официальном или гражданском браке намного реже имеют задолженности по кредиту, чем люди вне брака или вдовцы. Возможно, это можно объяснить двойным доходом семьи."
      ]
    },
    {
      "cell_type": "markdown",
      "id": "ca437e02",
      "metadata": {
        "id": "ca437e02"
      },
      "source": [
        "##### Вопрос 3:  Есть ли зависимость между уровнем дохода и возвратом кредита в срок?"
      ]
    },
    {
      "cell_type": "code",
      "execution_count": null,
      "id": "c3621f41",
      "metadata": {
        "id": "c3621f41",
        "outputId": "2208ba42-887b-4544-803a-e6984631facf"
      },
      "outputs": [
        {
          "data": {
            "text/html": [
              "<div>\n",
              "<style scoped>\n",
              "    .dataframe tbody tr th:only-of-type {\n",
              "        vertical-align: middle;\n",
              "    }\n",
              "\n",
              "    .dataframe tbody tr th {\n",
              "        vertical-align: top;\n",
              "    }\n",
              "\n",
              "    .dataframe thead th {\n",
              "        text-align: right;\n",
              "    }\n",
              "</style>\n",
              "<table border=\"1\" class=\"dataframe\">\n",
              "  <thead>\n",
              "    <tr style=\"text-align: right;\">\n",
              "      <th></th>\n",
              "      <th>debt</th>\n",
              "    </tr>\n",
              "    <tr>\n",
              "      <th>total_income_category</th>\n",
              "      <th></th>\n",
              "    </tr>\n",
              "  </thead>\n",
              "  <tbody>\n",
              "    <tr>\n",
              "      <th>A</th>\n",
              "      <td>0.080000</td>\n",
              "    </tr>\n",
              "    <tr>\n",
              "      <th>B</th>\n",
              "      <td>0.070784</td>\n",
              "    </tr>\n",
              "    <tr>\n",
              "      <th>C</th>\n",
              "      <td>0.084548</td>\n",
              "    </tr>\n",
              "    <tr>\n",
              "      <th>D</th>\n",
              "      <td>0.060519</td>\n",
              "    </tr>\n",
              "    <tr>\n",
              "      <th>E</th>\n",
              "      <td>0.090909</td>\n",
              "    </tr>\n",
              "  </tbody>\n",
              "</table>\n",
              "</div>"
            ],
            "text/plain": [
              "                           debt\n",
              "total_income_category          \n",
              "A                      0.080000\n",
              "B                      0.070784\n",
              "C                      0.084548\n",
              "D                      0.060519\n",
              "E                      0.090909"
            ]
          },
          "metadata": {},
          "output_type": "display_data"
        },
        {
          "data": {
            "text/plain": [
              "C    15920\n",
              "B     4987\n",
              "D      347\n",
              "A       25\n",
              "E       22\n",
              "Name: total_income_category, dtype: int64"
            ]
          },
          "execution_count": 42,
          "metadata": {},
          "output_type": "execute_result"
        }
      ],
      "source": [
        "display(df.pivot_table(index='total_income_category', values='debt'))\n",
        "df['total_income_category'].value_counts()"
      ]
    },
    {
      "cell_type": "markdown",
      "id": "ba470bd3",
      "metadata": {
        "id": "ba470bd3"
      },
      "source": [
        "##### Вывод 3:\n",
        "Мы видим, что в категории A и E слишком маленькие выборки, поэтому делать выводы по этим категориям не стоит. Изучив, сводную таблицу, можно сделать вывод, что есть разница в доле возврата кредита в различных категориях, но нет зависимости от роста дохода в целом. "
      ]
    },
    {
      "cell_type": "markdown",
      "id": "c0c184c8",
      "metadata": {
        "id": "c0c184c8"
      },
      "source": [
        "##### Вопрос 4:  Как разные цели кредита влияют на его возврат в срок?"
      ]
    },
    {
      "cell_type": "code",
      "execution_count": null,
      "id": "4d3d6f7e",
      "metadata": {
        "id": "4d3d6f7e",
        "outputId": "8e8ddd66-56ff-4788-9725-d42a4b3dfe45"
      },
      "outputs": [
        {
          "data": {
            "text/html": [
              "<div>\n",
              "<style scoped>\n",
              "    .dataframe tbody tr th:only-of-type {\n",
              "        vertical-align: middle;\n",
              "    }\n",
              "\n",
              "    .dataframe tbody tr th {\n",
              "        vertical-align: top;\n",
              "    }\n",
              "\n",
              "    .dataframe thead th {\n",
              "        text-align: right;\n",
              "    }\n",
              "</style>\n",
              "<table border=\"1\" class=\"dataframe\">\n",
              "  <thead>\n",
              "    <tr style=\"text-align: right;\">\n",
              "      <th></th>\n",
              "      <th>debt</th>\n",
              "    </tr>\n",
              "    <tr>\n",
              "      <th>purpose_category</th>\n",
              "      <th></th>\n",
              "    </tr>\n",
              "  </thead>\n",
              "  <tbody>\n",
              "    <tr>\n",
              "      <th>операции с автомобилем</th>\n",
              "      <td>0.093040</td>\n",
              "    </tr>\n",
              "    <tr>\n",
              "      <th>операции с недвижимостью</th>\n",
              "      <td>0.072400</td>\n",
              "    </tr>\n",
              "    <tr>\n",
              "      <th>получение образования</th>\n",
              "      <td>0.092737</td>\n",
              "    </tr>\n",
              "    <tr>\n",
              "      <th>проведение свадьбы</th>\n",
              "      <td>0.077916</td>\n",
              "    </tr>\n",
              "  </tbody>\n",
              "</table>\n",
              "</div>"
            ],
            "text/plain": [
              "                              debt\n",
              "purpose_category                  \n",
              "операции с автомобилем    0.093040\n",
              "операции с недвижимостью  0.072400\n",
              "получение образования     0.092737\n",
              "проведение свадьбы        0.077916"
            ]
          },
          "execution_count": 43,
          "metadata": {},
          "output_type": "execute_result"
        }
      ],
      "source": [
        "df.pivot_table(index='purpose_category', values='debt')"
      ]
    },
    {
      "cell_type": "markdown",
      "id": "edb44588",
      "metadata": {
        "id": "edb44588"
      },
      "source": [
        "##### Вывод 4:\n",
        "Доля возврата кредита на недвижимость и свадьбу выше, чем на образование и автомобиль. "
      ]
    },
    {
      "cell_type": "markdown",
      "id": "cf6faa37",
      "metadata": {
        "id": "cf6faa37"
      },
      "source": [
        "## Общий вывод:"
      ]
    },
    {
      "cell_type": "markdown",
      "id": "11e14142",
      "metadata": {
        "id": "11e14142"
      },
      "source": [
        "При предобработке данных было удалено около 1% некорректных строк и 1 некорректный столбец(который для поставленных задач не был необходим). Поменяли в двух столбцах типы - для лучшей наглядности и более быстрой обработки. Удалили дубликаты, заполнили пропуски. Для двух столбцом сделали категоризацию. После предобработки, проанализировали данные с помощью сводных таблиц и ответили на все поставленные вопросы. Были выявили закономерности в просрочках по кредитам(где-то ярко выраженные, а где-то нет)."
      ]
    },
    {
      "cell_type": "markdown",
      "id": "b815af1b",
      "metadata": {
        "id": "b815af1b"
      },
      "source": [
        "К клиентам с наибольшей вероятностью просрочки относятся люди не состоящие в официальном браке, имеющие 1-2 детей и с целью кредита на автомобиль или образование. Уровень дохода существенно на долю возвратов кредитов не влияет.\n",
        "Наилучшим клиентом являются люди без детей, состоящие в официальном браке и с целью кредита на недвижимость или свадьбу."
      ]
    }
  ],
  "metadata": {
    "ExecuteTimeLog": [
      {
        "duration": 550,
        "start_time": "2022-03-26T18:53:59.644Z"
      },
      {
        "duration": 114,
        "start_time": "2022-03-26T18:59:03.505Z"
      },
      {
        "duration": 66,
        "start_time": "2022-03-26T18:59:08.736Z"
      },
      {
        "duration": 62,
        "start_time": "2022-03-26T18:59:22.714Z"
      },
      {
        "duration": 16,
        "start_time": "2022-03-26T19:03:05.822Z"
      },
      {
        "duration": 14,
        "start_time": "2022-03-26T19:03:39.237Z"
      },
      {
        "duration": 447,
        "start_time": "2022-03-27T08:08:32.249Z"
      },
      {
        "duration": 6,
        "start_time": "2022-03-27T08:16:43.761Z"
      },
      {
        "duration": 67,
        "start_time": "2022-03-27T08:20:14.934Z"
      },
      {
        "duration": 18,
        "start_time": "2022-03-27T08:20:25.849Z"
      },
      {
        "duration": 10,
        "start_time": "2022-03-27T08:26:07.842Z"
      },
      {
        "duration": 7,
        "start_time": "2022-03-27T08:27:10.784Z"
      },
      {
        "duration": 7,
        "start_time": "2022-03-27T08:27:35.404Z"
      },
      {
        "duration": 6,
        "start_time": "2022-03-27T08:28:44.180Z"
      },
      {
        "duration": 7,
        "start_time": "2022-03-27T08:28:53.763Z"
      },
      {
        "duration": 7,
        "start_time": "2022-03-27T08:55:42.291Z"
      },
      {
        "duration": 8,
        "start_time": "2022-03-27T08:56:18.406Z"
      },
      {
        "duration": 15,
        "start_time": "2022-03-27T08:58:06.540Z"
      },
      {
        "duration": 15,
        "start_time": "2022-03-27T09:08:43.689Z"
      },
      {
        "duration": 11,
        "start_time": "2022-03-27T09:08:56.418Z"
      },
      {
        "duration": 9,
        "start_time": "2022-03-27T09:09:20.303Z"
      },
      {
        "duration": 10,
        "start_time": "2022-03-27T09:09:27.253Z"
      },
      {
        "duration": 14,
        "start_time": "2022-03-27T09:10:16.578Z"
      },
      {
        "duration": 14,
        "start_time": "2022-03-27T09:11:05.335Z"
      },
      {
        "duration": 1501,
        "start_time": "2022-03-27T09:16:12.833Z"
      },
      {
        "duration": 13,
        "start_time": "2022-03-27T09:16:17.306Z"
      },
      {
        "duration": 21,
        "start_time": "2022-03-27T09:33:20.335Z"
      },
      {
        "duration": 5,
        "start_time": "2022-03-27T09:33:42.314Z"
      },
      {
        "duration": 3,
        "start_time": "2022-03-27T09:34:39.063Z"
      },
      {
        "duration": 7,
        "start_time": "2022-03-27T09:34:57.369Z"
      },
      {
        "duration": 7,
        "start_time": "2022-03-27T09:35:07.676Z"
      },
      {
        "duration": 15,
        "start_time": "2022-03-27T09:35:11.482Z"
      },
      {
        "duration": 47,
        "start_time": "2022-03-28T07:23:06.756Z"
      },
      {
        "duration": 6,
        "start_time": "2022-03-28T07:23:37.585Z"
      },
      {
        "duration": 470,
        "start_time": "2022-03-28T07:25:01.417Z"
      },
      {
        "duration": 23,
        "start_time": "2022-03-28T07:25:01.889Z"
      },
      {
        "duration": 10,
        "start_time": "2022-03-28T07:25:01.914Z"
      },
      {
        "duration": 21,
        "start_time": "2022-03-28T07:25:01.927Z"
      },
      {
        "duration": 15,
        "start_time": "2022-03-28T07:25:01.950Z"
      },
      {
        "duration": 7,
        "start_time": "2022-03-28T07:25:01.967Z"
      },
      {
        "duration": 33,
        "start_time": "2022-03-28T07:25:01.976Z"
      },
      {
        "duration": 1408,
        "start_time": "2022-03-28T07:25:43.107Z"
      },
      {
        "duration": 4,
        "start_time": "2022-03-28T07:25:54.350Z"
      },
      {
        "duration": 3,
        "start_time": "2022-03-28T07:26:02.014Z"
      },
      {
        "duration": 22,
        "start_time": "2022-03-28T07:32:10.359Z"
      },
      {
        "duration": 9,
        "start_time": "2022-03-28T07:32:37.489Z"
      },
      {
        "duration": 8,
        "start_time": "2022-03-28T07:32:48.895Z"
      },
      {
        "duration": 11,
        "start_time": "2022-03-28T07:32:53.201Z"
      },
      {
        "duration": 10,
        "start_time": "2022-03-28T07:34:11.696Z"
      },
      {
        "duration": 24,
        "start_time": "2022-03-28T07:34:22.690Z"
      },
      {
        "duration": 6,
        "start_time": "2022-03-28T07:36:34.684Z"
      },
      {
        "duration": 28,
        "start_time": "2022-03-28T07:37:16.058Z"
      },
      {
        "duration": 7,
        "start_time": "2022-03-28T07:43:27.772Z"
      },
      {
        "duration": 5,
        "start_time": "2022-03-28T07:43:41.550Z"
      },
      {
        "duration": 11,
        "start_time": "2022-03-28T07:44:32.062Z"
      },
      {
        "duration": 8,
        "start_time": "2022-03-28T07:45:09.742Z"
      },
      {
        "duration": 8,
        "start_time": "2022-03-28T07:45:22.439Z"
      },
      {
        "duration": 65,
        "start_time": "2022-03-28T07:45:47.492Z"
      },
      {
        "duration": 14,
        "start_time": "2022-03-28T07:45:47.559Z"
      },
      {
        "duration": 4,
        "start_time": "2022-03-28T07:45:47.574Z"
      },
      {
        "duration": 35,
        "start_time": "2022-03-28T07:45:47.581Z"
      },
      {
        "duration": 13,
        "start_time": "2022-03-28T07:45:47.617Z"
      },
      {
        "duration": 5,
        "start_time": "2022-03-28T07:45:47.631Z"
      },
      {
        "duration": 6,
        "start_time": "2022-03-28T07:45:47.638Z"
      },
      {
        "duration": 21,
        "start_time": "2022-03-28T07:45:47.645Z"
      },
      {
        "duration": 8,
        "start_time": "2022-03-28T07:46:01.202Z"
      },
      {
        "duration": 8,
        "start_time": "2022-03-28T07:46:10.621Z"
      },
      {
        "duration": 8,
        "start_time": "2022-03-28T07:46:21.684Z"
      },
      {
        "duration": 94,
        "start_time": "2022-03-28T07:48:08.967Z"
      },
      {
        "duration": 23,
        "start_time": "2022-03-28T07:48:13.644Z"
      },
      {
        "duration": 6,
        "start_time": "2022-03-28T07:48:42.987Z"
      },
      {
        "duration": 14,
        "start_time": "2022-03-28T07:52:39.929Z"
      },
      {
        "duration": 4,
        "start_time": "2022-03-28T08:00:39.045Z"
      },
      {
        "duration": 59,
        "start_time": "2022-03-28T08:00:49.358Z"
      },
      {
        "duration": 17,
        "start_time": "2022-03-28T08:00:49.419Z"
      },
      {
        "duration": 4,
        "start_time": "2022-03-28T08:00:49.438Z"
      },
      {
        "duration": 14,
        "start_time": "2022-03-28T08:00:49.445Z"
      },
      {
        "duration": 99,
        "start_time": "2022-03-28T08:00:49.461Z"
      },
      {
        "duration": 0,
        "start_time": "2022-03-28T08:00:49.562Z"
      },
      {
        "duration": 0,
        "start_time": "2022-03-28T08:00:49.563Z"
      },
      {
        "duration": 0,
        "start_time": "2022-03-28T08:00:49.564Z"
      },
      {
        "duration": 0,
        "start_time": "2022-03-28T08:00:49.566Z"
      },
      {
        "duration": 0,
        "start_time": "2022-03-28T08:00:49.567Z"
      },
      {
        "duration": 0,
        "start_time": "2022-03-28T08:00:49.568Z"
      },
      {
        "duration": 0,
        "start_time": "2022-03-28T08:00:49.569Z"
      },
      {
        "duration": 64,
        "start_time": "2022-03-28T08:01:17.366Z"
      },
      {
        "duration": 16,
        "start_time": "2022-03-28T08:01:17.432Z"
      },
      {
        "duration": 4,
        "start_time": "2022-03-28T08:01:17.450Z"
      },
      {
        "duration": 11,
        "start_time": "2022-03-28T08:01:17.456Z"
      },
      {
        "duration": 94,
        "start_time": "2022-03-28T08:01:17.469Z"
      },
      {
        "duration": 0,
        "start_time": "2022-03-28T08:01:17.565Z"
      },
      {
        "duration": 0,
        "start_time": "2022-03-28T08:01:17.567Z"
      },
      {
        "duration": 0,
        "start_time": "2022-03-28T08:01:17.569Z"
      },
      {
        "duration": 0,
        "start_time": "2022-03-28T08:01:17.570Z"
      },
      {
        "duration": 0,
        "start_time": "2022-03-28T08:01:17.572Z"
      },
      {
        "duration": 0,
        "start_time": "2022-03-28T08:01:17.573Z"
      },
      {
        "duration": 59,
        "start_time": "2022-03-28T08:01:38.194Z"
      },
      {
        "duration": 15,
        "start_time": "2022-03-28T08:01:38.255Z"
      },
      {
        "duration": 4,
        "start_time": "2022-03-28T08:01:38.272Z"
      },
      {
        "duration": 36,
        "start_time": "2022-03-28T08:01:38.278Z"
      },
      {
        "duration": 15,
        "start_time": "2022-03-28T08:01:38.315Z"
      },
      {
        "duration": 6,
        "start_time": "2022-03-28T08:01:38.332Z"
      },
      {
        "duration": 5,
        "start_time": "2022-03-28T08:01:38.339Z"
      },
      {
        "duration": 5,
        "start_time": "2022-03-28T08:01:38.345Z"
      },
      {
        "duration": 9,
        "start_time": "2022-03-28T08:01:38.351Z"
      },
      {
        "duration": 49,
        "start_time": "2022-03-28T08:01:38.363Z"
      },
      {
        "duration": 66,
        "start_time": "2022-03-28T08:01:51.926Z"
      },
      {
        "duration": 14,
        "start_time": "2022-03-28T08:01:51.994Z"
      },
      {
        "duration": 3,
        "start_time": "2022-03-28T08:01:52.010Z"
      },
      {
        "duration": 12,
        "start_time": "2022-03-28T08:01:52.014Z"
      },
      {
        "duration": 13,
        "start_time": "2022-03-28T08:01:52.028Z"
      },
      {
        "duration": 6,
        "start_time": "2022-03-28T08:01:52.043Z"
      },
      {
        "duration": 7,
        "start_time": "2022-03-28T08:01:52.050Z"
      },
      {
        "duration": 8,
        "start_time": "2022-03-28T08:01:52.059Z"
      },
      {
        "duration": 46,
        "start_time": "2022-03-28T08:01:52.069Z"
      },
      {
        "duration": 6,
        "start_time": "2022-03-28T08:01:52.117Z"
      },
      {
        "duration": 6,
        "start_time": "2022-03-28T08:06:27.170Z"
      },
      {
        "duration": 91,
        "start_time": "2022-03-28T08:07:23.600Z"
      },
      {
        "duration": 11,
        "start_time": "2022-03-28T08:07:36.071Z"
      },
      {
        "duration": 4,
        "start_time": "2022-03-28T08:12:07.589Z"
      },
      {
        "duration": 5,
        "start_time": "2022-03-28T08:12:27.309Z"
      },
      {
        "duration": 5,
        "start_time": "2022-03-28T08:12:38.871Z"
      },
      {
        "duration": 5,
        "start_time": "2022-03-28T08:12:56.372Z"
      },
      {
        "duration": 438,
        "start_time": "2022-03-28T10:07:11.611Z"
      },
      {
        "duration": 15,
        "start_time": "2022-03-28T10:07:12.051Z"
      },
      {
        "duration": 7,
        "start_time": "2022-03-28T10:07:12.067Z"
      },
      {
        "duration": 11,
        "start_time": "2022-03-28T10:07:12.075Z"
      },
      {
        "duration": 13,
        "start_time": "2022-03-28T10:07:12.088Z"
      },
      {
        "duration": 12,
        "start_time": "2022-03-28T10:07:12.102Z"
      },
      {
        "duration": 6,
        "start_time": "2022-03-28T10:07:12.115Z"
      },
      {
        "duration": 17,
        "start_time": "2022-03-28T10:07:12.123Z"
      },
      {
        "duration": 10,
        "start_time": "2022-03-28T10:07:12.141Z"
      },
      {
        "duration": 4,
        "start_time": "2022-03-28T10:07:12.152Z"
      },
      {
        "duration": 23,
        "start_time": "2022-03-28T10:07:12.158Z"
      },
      {
        "duration": 154,
        "start_time": "2022-03-28T10:07:12.183Z"
      },
      {
        "duration": 70,
        "start_time": "2022-03-28T10:07:26.883Z"
      },
      {
        "duration": 19,
        "start_time": "2022-03-28T10:23:24.903Z"
      },
      {
        "duration": 17,
        "start_time": "2022-03-28T10:27:28.107Z"
      },
      {
        "duration": 17,
        "start_time": "2022-03-28T10:31:11.245Z"
      },
      {
        "duration": 125,
        "start_time": "2022-03-28T10:31:46.575Z"
      },
      {
        "duration": 16,
        "start_time": "2022-03-28T10:54:31.817Z"
      },
      {
        "duration": 7,
        "start_time": "2022-03-28T10:56:12.821Z"
      },
      {
        "duration": 13,
        "start_time": "2022-03-28T11:04:08.363Z"
      },
      {
        "duration": 12,
        "start_time": "2022-03-28T11:09:36.052Z"
      },
      {
        "duration": 3,
        "start_time": "2022-03-28T11:12:27.981Z"
      },
      {
        "duration": 14,
        "start_time": "2022-03-28T11:12:37.321Z"
      },
      {
        "duration": 14,
        "start_time": "2022-03-28T11:12:55.385Z"
      },
      {
        "duration": 13,
        "start_time": "2022-03-28T11:13:17.044Z"
      },
      {
        "duration": 14,
        "start_time": "2022-03-28T11:13:21.853Z"
      },
      {
        "duration": 10,
        "start_time": "2022-03-28T11:13:26.058Z"
      },
      {
        "duration": 13,
        "start_time": "2022-03-28T11:13:27.889Z"
      },
      {
        "duration": 62,
        "start_time": "2022-03-28T11:13:33.859Z"
      },
      {
        "duration": 12,
        "start_time": "2022-03-28T11:13:33.922Z"
      },
      {
        "duration": 6,
        "start_time": "2022-03-28T11:13:33.936Z"
      },
      {
        "duration": 10,
        "start_time": "2022-03-28T11:13:33.944Z"
      },
      {
        "duration": 20,
        "start_time": "2022-03-28T11:13:33.964Z"
      },
      {
        "duration": 11,
        "start_time": "2022-03-28T11:13:33.986Z"
      },
      {
        "duration": 5,
        "start_time": "2022-03-28T11:13:33.998Z"
      },
      {
        "duration": 4,
        "start_time": "2022-03-28T11:13:34.005Z"
      },
      {
        "duration": 7,
        "start_time": "2022-03-28T11:13:34.010Z"
      },
      {
        "duration": 9,
        "start_time": "2022-03-28T11:13:34.019Z"
      },
      {
        "duration": 4,
        "start_time": "2022-03-28T11:13:34.029Z"
      },
      {
        "duration": 4,
        "start_time": "2022-03-28T11:13:34.035Z"
      },
      {
        "duration": 127,
        "start_time": "2022-03-28T11:13:34.083Z"
      },
      {
        "duration": 13,
        "start_time": "2022-03-28T11:13:34.212Z"
      },
      {
        "duration": 14,
        "start_time": "2022-03-28T11:13:34.226Z"
      },
      {
        "duration": 14,
        "start_time": "2022-03-28T11:15:07.420Z"
      },
      {
        "duration": 74,
        "start_time": "2022-03-28T11:15:33.707Z"
      },
      {
        "duration": 12,
        "start_time": "2022-03-28T11:15:33.783Z"
      },
      {
        "duration": 3,
        "start_time": "2022-03-28T11:15:33.797Z"
      },
      {
        "duration": 9,
        "start_time": "2022-03-28T11:15:33.802Z"
      },
      {
        "duration": 12,
        "start_time": "2022-03-28T11:15:33.813Z"
      },
      {
        "duration": 14,
        "start_time": "2022-03-28T11:15:33.826Z"
      },
      {
        "duration": 6,
        "start_time": "2022-03-28T11:15:33.842Z"
      },
      {
        "duration": 4,
        "start_time": "2022-03-28T11:15:33.880Z"
      },
      {
        "duration": 11,
        "start_time": "2022-03-28T11:15:33.886Z"
      },
      {
        "duration": 9,
        "start_time": "2022-03-28T11:15:33.899Z"
      },
      {
        "duration": 4,
        "start_time": "2022-03-28T11:15:33.910Z"
      },
      {
        "duration": 4,
        "start_time": "2022-03-28T11:15:33.916Z"
      },
      {
        "duration": 148,
        "start_time": "2022-03-28T11:15:33.922Z"
      },
      {
        "duration": 19,
        "start_time": "2022-03-28T11:15:34.072Z"
      },
      {
        "duration": 12,
        "start_time": "2022-03-28T11:15:34.092Z"
      },
      {
        "duration": 15,
        "start_time": "2022-03-28T11:17:05.026Z"
      },
      {
        "duration": 6,
        "start_time": "2022-03-28T11:17:10.595Z"
      },
      {
        "duration": 66,
        "start_time": "2022-03-28T11:17:24.630Z"
      },
      {
        "duration": 14,
        "start_time": "2022-03-28T11:17:29.387Z"
      },
      {
        "duration": 10,
        "start_time": "2022-03-28T11:17:36.012Z"
      },
      {
        "duration": 12,
        "start_time": "2022-03-28T11:18:37.979Z"
      },
      {
        "duration": 5,
        "start_time": "2022-03-28T11:18:59.702Z"
      },
      {
        "duration": 3,
        "start_time": "2022-03-28T11:19:06.740Z"
      },
      {
        "duration": 7,
        "start_time": "2022-03-28T11:19:09.085Z"
      },
      {
        "duration": 9,
        "start_time": "2022-03-28T11:19:12.893Z"
      },
      {
        "duration": 4,
        "start_time": "2022-03-28T11:19:17.189Z"
      },
      {
        "duration": 4,
        "start_time": "2022-03-28T11:19:19.721Z"
      },
      {
        "duration": 125,
        "start_time": "2022-03-28T11:19:40.109Z"
      },
      {
        "duration": 120,
        "start_time": "2022-03-28T11:19:44.402Z"
      },
      {
        "duration": 7,
        "start_time": "2022-03-28T11:20:25.462Z"
      },
      {
        "duration": 7,
        "start_time": "2022-03-28T11:20:43.034Z"
      },
      {
        "duration": 124,
        "start_time": "2022-03-28T11:20:47.431Z"
      },
      {
        "duration": 70,
        "start_time": "2022-03-28T11:20:51.971Z"
      },
      {
        "duration": 14,
        "start_time": "2022-03-28T11:20:52.044Z"
      },
      {
        "duration": 23,
        "start_time": "2022-03-28T11:20:52.059Z"
      },
      {
        "duration": 10,
        "start_time": "2022-03-28T11:20:52.083Z"
      },
      {
        "duration": 17,
        "start_time": "2022-03-28T11:20:52.095Z"
      },
      {
        "duration": 12,
        "start_time": "2022-03-28T11:20:52.113Z"
      },
      {
        "duration": 5,
        "start_time": "2022-03-28T11:20:52.126Z"
      },
      {
        "duration": 5,
        "start_time": "2022-03-28T11:20:52.133Z"
      },
      {
        "duration": 9,
        "start_time": "2022-03-28T11:20:52.139Z"
      },
      {
        "duration": 39,
        "start_time": "2022-03-28T11:20:52.150Z"
      },
      {
        "duration": 4,
        "start_time": "2022-03-28T11:20:52.190Z"
      },
      {
        "duration": 9,
        "start_time": "2022-03-28T11:20:52.195Z"
      },
      {
        "duration": 137,
        "start_time": "2022-03-28T11:20:52.205Z"
      },
      {
        "duration": 7,
        "start_time": "2022-03-28T11:20:52.344Z"
      },
      {
        "duration": 2811,
        "start_time": "2022-03-28T11:26:59.265Z"
      },
      {
        "duration": 10,
        "start_time": "2022-03-28T11:27:14.700Z"
      },
      {
        "duration": 15,
        "start_time": "2022-03-28T11:31:03.175Z"
      },
      {
        "duration": 10,
        "start_time": "2022-03-28T11:31:29.407Z"
      },
      {
        "duration": 10,
        "start_time": "2022-03-28T11:31:34.180Z"
      },
      {
        "duration": 17,
        "start_time": "2022-03-28T11:31:44.813Z"
      },
      {
        "duration": 9,
        "start_time": "2022-03-28T11:35:12.899Z"
      },
      {
        "duration": 9,
        "start_time": "2022-03-28T11:42:36.702Z"
      },
      {
        "duration": 9,
        "start_time": "2022-03-28T11:53:25.739Z"
      },
      {
        "duration": 702,
        "start_time": "2022-03-28T11:54:27.224Z"
      },
      {
        "duration": 66,
        "start_time": "2022-03-28T11:54:34.490Z"
      },
      {
        "duration": 13,
        "start_time": "2022-03-28T11:54:34.558Z"
      },
      {
        "duration": 7,
        "start_time": "2022-03-28T11:54:34.573Z"
      },
      {
        "duration": 9,
        "start_time": "2022-03-28T11:54:34.582Z"
      },
      {
        "duration": 13,
        "start_time": "2022-03-28T11:54:34.592Z"
      },
      {
        "duration": 12,
        "start_time": "2022-03-28T11:54:34.606Z"
      },
      {
        "duration": 4,
        "start_time": "2022-03-28T11:54:34.619Z"
      },
      {
        "duration": 6,
        "start_time": "2022-03-28T11:54:34.624Z"
      },
      {
        "duration": 9,
        "start_time": "2022-03-28T11:54:34.631Z"
      },
      {
        "duration": 11,
        "start_time": "2022-03-28T11:54:34.641Z"
      },
      {
        "duration": 29,
        "start_time": "2022-03-28T11:54:34.653Z"
      },
      {
        "duration": 6,
        "start_time": "2022-03-28T11:54:34.683Z"
      },
      {
        "duration": 117,
        "start_time": "2022-03-28T11:54:34.744Z"
      },
      {
        "duration": 10,
        "start_time": "2022-03-28T11:54:34.863Z"
      },
      {
        "duration": 1945,
        "start_time": "2022-03-28T11:54:50.149Z"
      },
      {
        "duration": 66,
        "start_time": "2022-03-28T11:55:05.053Z"
      },
      {
        "duration": 13,
        "start_time": "2022-03-28T11:55:05.121Z"
      },
      {
        "duration": 3,
        "start_time": "2022-03-28T11:55:05.136Z"
      },
      {
        "duration": 12,
        "start_time": "2022-03-28T11:55:05.141Z"
      },
      {
        "duration": 31,
        "start_time": "2022-03-28T11:55:05.155Z"
      },
      {
        "duration": 12,
        "start_time": "2022-03-28T11:55:05.188Z"
      },
      {
        "duration": 5,
        "start_time": "2022-03-28T11:55:05.202Z"
      },
      {
        "duration": 7,
        "start_time": "2022-03-28T11:55:05.208Z"
      },
      {
        "duration": 9,
        "start_time": "2022-03-28T11:55:05.217Z"
      },
      {
        "duration": 18,
        "start_time": "2022-03-28T11:55:05.228Z"
      },
      {
        "duration": 4,
        "start_time": "2022-03-28T11:55:05.247Z"
      },
      {
        "duration": 7,
        "start_time": "2022-03-28T11:55:05.253Z"
      },
      {
        "duration": 153,
        "start_time": "2022-03-28T11:55:05.281Z"
      },
      {
        "duration": 13,
        "start_time": "2022-03-28T11:55:05.436Z"
      },
      {
        "duration": 9,
        "start_time": "2022-03-28T11:57:21.464Z"
      },
      {
        "duration": 78,
        "start_time": "2022-03-28T11:57:26.734Z"
      },
      {
        "duration": 13,
        "start_time": "2022-03-28T11:57:26.813Z"
      },
      {
        "duration": 4,
        "start_time": "2022-03-28T11:57:26.827Z"
      },
      {
        "duration": 15,
        "start_time": "2022-03-28T11:57:26.832Z"
      },
      {
        "duration": 11,
        "start_time": "2022-03-28T11:57:26.848Z"
      },
      {
        "duration": 27,
        "start_time": "2022-03-28T11:57:26.861Z"
      },
      {
        "duration": 9,
        "start_time": "2022-03-28T11:57:26.890Z"
      },
      {
        "duration": 6,
        "start_time": "2022-03-28T11:57:26.901Z"
      },
      {
        "duration": 9,
        "start_time": "2022-03-28T11:57:26.909Z"
      },
      {
        "duration": 9,
        "start_time": "2022-03-28T11:57:26.920Z"
      },
      {
        "duration": 5,
        "start_time": "2022-03-28T11:57:26.931Z"
      },
      {
        "duration": 8,
        "start_time": "2022-03-28T11:57:26.937Z"
      },
      {
        "duration": 140,
        "start_time": "2022-03-28T11:57:26.946Z"
      },
      {
        "duration": 16,
        "start_time": "2022-03-28T11:57:27.087Z"
      },
      {
        "duration": 18,
        "start_time": "2022-03-28T11:58:16.978Z"
      },
      {
        "duration": 72,
        "start_time": "2022-03-28T12:33:10.016Z"
      },
      {
        "duration": 12,
        "start_time": "2022-03-28T12:33:25.429Z"
      },
      {
        "duration": 639,
        "start_time": "2022-03-28T12:33:28.267Z"
      },
      {
        "duration": 24,
        "start_time": "2022-03-28T12:33:28.909Z"
      },
      {
        "duration": 11,
        "start_time": "2022-03-28T12:33:28.935Z"
      },
      {
        "duration": 45,
        "start_time": "2022-03-28T12:33:28.949Z"
      },
      {
        "duration": 30,
        "start_time": "2022-03-28T12:33:28.996Z"
      },
      {
        "duration": 26,
        "start_time": "2022-03-28T12:33:29.028Z"
      },
      {
        "duration": 19,
        "start_time": "2022-03-28T12:33:29.056Z"
      },
      {
        "duration": 11,
        "start_time": "2022-03-28T12:33:29.077Z"
      },
      {
        "duration": 27,
        "start_time": "2022-03-28T12:33:29.091Z"
      },
      {
        "duration": 25,
        "start_time": "2022-03-28T12:33:29.123Z"
      },
      {
        "duration": 17,
        "start_time": "2022-03-28T12:33:29.150Z"
      },
      {
        "duration": 32,
        "start_time": "2022-03-28T12:33:29.169Z"
      },
      {
        "duration": 248,
        "start_time": "2022-03-28T12:33:29.204Z"
      },
      {
        "duration": 39,
        "start_time": "2022-03-28T12:33:29.455Z"
      },
      {
        "duration": 26,
        "start_time": "2022-03-28T12:33:44.528Z"
      },
      {
        "duration": 89,
        "start_time": "2022-03-28T12:34:09.358Z"
      },
      {
        "duration": 38,
        "start_time": "2022-03-28T13:02:05.761Z"
      },
      {
        "duration": 9,
        "start_time": "2022-03-28T13:05:08.421Z"
      },
      {
        "duration": 11,
        "start_time": "2022-03-28T13:05:35.515Z"
      },
      {
        "duration": 47,
        "start_time": "2022-03-28T15:02:46.278Z"
      },
      {
        "duration": 501,
        "start_time": "2022-03-28T15:02:52.511Z"
      },
      {
        "duration": 14,
        "start_time": "2022-03-28T15:02:53.014Z"
      },
      {
        "duration": 4,
        "start_time": "2022-03-28T15:02:53.029Z"
      },
      {
        "duration": 14,
        "start_time": "2022-03-28T15:02:53.034Z"
      },
      {
        "duration": 13,
        "start_time": "2022-03-28T15:02:53.049Z"
      },
      {
        "duration": 13,
        "start_time": "2022-03-28T15:02:53.064Z"
      },
      {
        "duration": 31,
        "start_time": "2022-03-28T15:02:53.078Z"
      },
      {
        "duration": 4,
        "start_time": "2022-03-28T15:02:53.111Z"
      },
      {
        "duration": 11,
        "start_time": "2022-03-28T15:02:53.116Z"
      },
      {
        "duration": 9,
        "start_time": "2022-03-28T15:02:53.130Z"
      },
      {
        "duration": 4,
        "start_time": "2022-03-28T15:02:53.141Z"
      },
      {
        "duration": 6,
        "start_time": "2022-03-28T15:02:53.146Z"
      },
      {
        "duration": 175,
        "start_time": "2022-03-28T15:02:53.153Z"
      },
      {
        "duration": 26,
        "start_time": "2022-03-28T15:02:53.330Z"
      },
      {
        "duration": 0,
        "start_time": "2022-03-28T15:02:53.358Z"
      },
      {
        "duration": 0,
        "start_time": "2022-03-28T15:02:53.359Z"
      },
      {
        "duration": 16,
        "start_time": "2022-03-28T15:03:07.208Z"
      },
      {
        "duration": 22,
        "start_time": "2022-03-28T15:03:21.718Z"
      },
      {
        "duration": 13,
        "start_time": "2022-03-28T15:03:42.847Z"
      },
      {
        "duration": 15,
        "start_time": "2022-03-28T15:04:21.998Z"
      },
      {
        "duration": 18,
        "start_time": "2022-03-28T15:05:18.618Z"
      },
      {
        "duration": 16,
        "start_time": "2022-03-28T15:24:54.541Z"
      },
      {
        "duration": 14,
        "start_time": "2022-03-28T15:31:48.453Z"
      },
      {
        "duration": 13,
        "start_time": "2022-03-28T15:33:49.676Z"
      },
      {
        "duration": 63,
        "start_time": "2022-03-28T15:34:07.145Z"
      },
      {
        "duration": 14,
        "start_time": "2022-03-28T15:34:07.210Z"
      },
      {
        "duration": 4,
        "start_time": "2022-03-28T15:34:07.225Z"
      },
      {
        "duration": 10,
        "start_time": "2022-03-28T15:34:07.231Z"
      },
      {
        "duration": 13,
        "start_time": "2022-03-28T15:34:07.242Z"
      },
      {
        "duration": 13,
        "start_time": "2022-03-28T15:34:07.256Z"
      },
      {
        "duration": 39,
        "start_time": "2022-03-28T15:34:07.270Z"
      },
      {
        "duration": 8,
        "start_time": "2022-03-28T15:34:07.311Z"
      },
      {
        "duration": 8,
        "start_time": "2022-03-28T15:34:07.320Z"
      },
      {
        "duration": 10,
        "start_time": "2022-03-28T15:34:07.331Z"
      },
      {
        "duration": 4,
        "start_time": "2022-03-28T15:34:07.343Z"
      },
      {
        "duration": 5,
        "start_time": "2022-03-28T15:34:07.349Z"
      },
      {
        "duration": 172,
        "start_time": "2022-03-28T15:34:07.356Z"
      },
      {
        "duration": 15,
        "start_time": "2022-03-28T15:34:07.530Z"
      },
      {
        "duration": 15,
        "start_time": "2022-03-28T15:34:07.547Z"
      },
      {
        "duration": 18,
        "start_time": "2022-03-28T15:34:07.564Z"
      },
      {
        "duration": 31,
        "start_time": "2022-03-28T15:34:07.584Z"
      },
      {
        "duration": 14,
        "start_time": "2022-03-28T15:34:19.545Z"
      },
      {
        "duration": 17,
        "start_time": "2022-03-28T15:35:24.444Z"
      },
      {
        "duration": 16,
        "start_time": "2022-03-28T15:35:31.221Z"
      },
      {
        "duration": 13,
        "start_time": "2022-03-28T15:35:35.545Z"
      },
      {
        "duration": 13,
        "start_time": "2022-03-28T15:35:51.253Z"
      },
      {
        "duration": 110,
        "start_time": "2022-03-28T15:36:15.054Z"
      },
      {
        "duration": 3,
        "start_time": "2022-03-28T15:36:34.204Z"
      },
      {
        "duration": 22,
        "start_time": "2022-03-28T15:36:47.018Z"
      },
      {
        "duration": 10,
        "start_time": "2022-03-28T15:40:05.844Z"
      },
      {
        "duration": 9,
        "start_time": "2022-03-28T15:40:38.262Z"
      },
      {
        "duration": 10,
        "start_time": "2022-03-28T15:41:45.731Z"
      },
      {
        "duration": 11,
        "start_time": "2022-03-28T15:43:43.100Z"
      },
      {
        "duration": 10,
        "start_time": "2022-03-28T15:44:34.417Z"
      },
      {
        "duration": 22,
        "start_time": "2022-03-28T15:44:54.288Z"
      },
      {
        "duration": 144,
        "start_time": "2022-03-28T15:46:32.928Z"
      },
      {
        "duration": 22,
        "start_time": "2022-03-28T15:46:42.846Z"
      },
      {
        "duration": 10,
        "start_time": "2022-03-28T15:46:58.976Z"
      },
      {
        "duration": 139,
        "start_time": "2022-03-28T15:47:21.609Z"
      },
      {
        "duration": 12,
        "start_time": "2022-03-28T15:47:28.749Z"
      },
      {
        "duration": 16,
        "start_time": "2022-03-28T15:47:35.975Z"
      },
      {
        "duration": 18,
        "start_time": "2022-03-28T15:50:03.775Z"
      },
      {
        "duration": 6,
        "start_time": "2022-03-28T15:57:14.761Z"
      },
      {
        "duration": 11,
        "start_time": "2022-03-28T16:01:30.706Z"
      },
      {
        "duration": 5,
        "start_time": "2022-03-28T16:01:58.475Z"
      },
      {
        "duration": 6,
        "start_time": "2022-03-28T16:10:19.542Z"
      },
      {
        "duration": 17,
        "start_time": "2022-03-28T16:18:59.485Z"
      },
      {
        "duration": 20,
        "start_time": "2022-03-28T16:19:10.598Z"
      },
      {
        "duration": 11,
        "start_time": "2022-03-28T16:23:40.186Z"
      },
      {
        "duration": 8,
        "start_time": "2022-03-28T16:25:55.762Z"
      },
      {
        "duration": 8,
        "start_time": "2022-03-28T16:27:34.325Z"
      },
      {
        "duration": 8,
        "start_time": "2022-03-28T16:28:24.119Z"
      },
      {
        "duration": 8,
        "start_time": "2022-03-28T16:28:52.982Z"
      },
      {
        "duration": 475,
        "start_time": "2022-03-28T17:06:40.008Z"
      },
      {
        "duration": 14,
        "start_time": "2022-03-28T17:06:40.485Z"
      },
      {
        "duration": 4,
        "start_time": "2022-03-28T17:06:40.500Z"
      },
      {
        "duration": 11,
        "start_time": "2022-03-28T17:06:40.505Z"
      },
      {
        "duration": 13,
        "start_time": "2022-03-28T17:06:40.517Z"
      },
      {
        "duration": 12,
        "start_time": "2022-03-28T17:06:40.531Z"
      },
      {
        "duration": 5,
        "start_time": "2022-03-28T17:06:40.545Z"
      },
      {
        "duration": 7,
        "start_time": "2022-03-28T17:06:40.551Z"
      },
      {
        "duration": 8,
        "start_time": "2022-03-28T17:06:40.559Z"
      },
      {
        "duration": 42,
        "start_time": "2022-03-28T17:06:40.569Z"
      },
      {
        "duration": 4,
        "start_time": "2022-03-28T17:06:40.612Z"
      },
      {
        "duration": 6,
        "start_time": "2022-03-28T17:06:40.617Z"
      },
      {
        "duration": 145,
        "start_time": "2022-03-28T17:06:40.624Z"
      },
      {
        "duration": 7,
        "start_time": "2022-03-28T17:06:40.771Z"
      },
      {
        "duration": 8,
        "start_time": "2022-03-28T17:06:40.779Z"
      },
      {
        "duration": 12,
        "start_time": "2022-03-28T17:06:40.788Z"
      },
      {
        "duration": 18,
        "start_time": "2022-03-28T17:06:40.809Z"
      },
      {
        "duration": 12,
        "start_time": "2022-03-28T17:06:40.828Z"
      },
      {
        "duration": 3,
        "start_time": "2022-03-28T17:06:50.618Z"
      },
      {
        "duration": 5,
        "start_time": "2022-03-28T17:06:58.368Z"
      },
      {
        "duration": 65,
        "start_time": "2022-03-28T17:08:46.874Z"
      },
      {
        "duration": 8,
        "start_time": "2022-03-28T17:11:03.805Z"
      },
      {
        "duration": 9,
        "start_time": "2022-03-28T17:11:39.434Z"
      },
      {
        "duration": 72,
        "start_time": "2022-03-28T17:13:00.592Z"
      },
      {
        "duration": 472,
        "start_time": "2022-03-28T17:13:00.667Z"
      },
      {
        "duration": 8,
        "start_time": "2022-03-28T17:13:01.143Z"
      },
      {
        "duration": 16,
        "start_time": "2022-03-28T17:13:01.154Z"
      },
      {
        "duration": 18,
        "start_time": "2022-03-28T17:13:01.172Z"
      },
      {
        "duration": 25,
        "start_time": "2022-03-28T17:13:01.193Z"
      },
      {
        "duration": 8,
        "start_time": "2022-03-28T17:13:01.221Z"
      },
      {
        "duration": 10,
        "start_time": "2022-03-28T17:13:01.231Z"
      },
      {
        "duration": 16,
        "start_time": "2022-03-28T17:13:01.243Z"
      },
      {
        "duration": 22,
        "start_time": "2022-03-28T17:13:01.262Z"
      },
      {
        "duration": 77,
        "start_time": "2022-03-28T17:13:01.286Z"
      },
      {
        "duration": 38,
        "start_time": "2022-03-28T17:13:01.364Z"
      },
      {
        "duration": 145,
        "start_time": "2022-03-28T17:13:01.404Z"
      },
      {
        "duration": 10,
        "start_time": "2022-03-28T17:13:01.551Z"
      },
      {
        "duration": 0,
        "start_time": "2022-03-28T17:13:01.563Z"
      },
      {
        "duration": 0,
        "start_time": "2022-03-28T17:13:01.565Z"
      },
      {
        "duration": 0,
        "start_time": "2022-03-28T17:13:01.566Z"
      },
      {
        "duration": 0,
        "start_time": "2022-03-28T17:13:01.568Z"
      },
      {
        "duration": 0,
        "start_time": "2022-03-28T17:13:01.569Z"
      },
      {
        "duration": 11,
        "start_time": "2022-03-28T17:13:50.661Z"
      },
      {
        "duration": 84,
        "start_time": "2022-03-28T17:14:00.085Z"
      },
      {
        "duration": 15,
        "start_time": "2022-03-28T17:14:00.172Z"
      },
      {
        "duration": 23,
        "start_time": "2022-03-28T17:14:00.189Z"
      },
      {
        "duration": 13,
        "start_time": "2022-03-28T17:14:00.214Z"
      },
      {
        "duration": 26,
        "start_time": "2022-03-28T17:14:00.229Z"
      },
      {
        "duration": 16,
        "start_time": "2022-03-28T17:14:00.257Z"
      },
      {
        "duration": 7,
        "start_time": "2022-03-28T17:14:00.275Z"
      },
      {
        "duration": 5,
        "start_time": "2022-03-28T17:14:00.308Z"
      },
      {
        "duration": 18,
        "start_time": "2022-03-28T17:14:00.315Z"
      },
      {
        "duration": 16,
        "start_time": "2022-03-28T17:14:00.335Z"
      },
      {
        "duration": 4,
        "start_time": "2022-03-28T17:14:00.353Z"
      },
      {
        "duration": 7,
        "start_time": "2022-03-28T17:14:00.359Z"
      },
      {
        "duration": 192,
        "start_time": "2022-03-28T17:14:00.368Z"
      },
      {
        "duration": 8,
        "start_time": "2022-03-28T17:14:00.562Z"
      },
      {
        "duration": 11,
        "start_time": "2022-03-28T17:14:00.571Z"
      },
      {
        "duration": 13,
        "start_time": "2022-03-28T17:14:00.583Z"
      },
      {
        "duration": 28,
        "start_time": "2022-03-28T17:14:00.597Z"
      },
      {
        "duration": 13,
        "start_time": "2022-03-28T17:14:00.627Z"
      },
      {
        "duration": 11,
        "start_time": "2022-03-28T17:14:00.641Z"
      },
      {
        "duration": 8,
        "start_time": "2022-03-28T17:14:52.618Z"
      },
      {
        "duration": 5,
        "start_time": "2022-03-28T17:22:18.207Z"
      },
      {
        "duration": 4,
        "start_time": "2022-03-28T17:22:58.891Z"
      },
      {
        "duration": 8,
        "start_time": "2022-03-28T17:29:00.274Z"
      },
      {
        "duration": 2,
        "start_time": "2022-03-28T17:29:22.891Z"
      },
      {
        "duration": 8,
        "start_time": "2022-03-28T17:29:47.667Z"
      },
      {
        "duration": 5,
        "start_time": "2022-03-28T17:30:41.196Z"
      },
      {
        "duration": 10,
        "start_time": "2022-03-28T17:30:48.757Z"
      },
      {
        "duration": 6,
        "start_time": "2022-03-28T17:33:39.195Z"
      },
      {
        "duration": 6,
        "start_time": "2022-03-28T17:37:35.553Z"
      },
      {
        "duration": 6,
        "start_time": "2022-03-28T17:37:51.493Z"
      },
      {
        "duration": 19,
        "start_time": "2022-03-28T17:38:15.852Z"
      },
      {
        "duration": 8,
        "start_time": "2022-03-28T17:39:21.830Z"
      },
      {
        "duration": 19,
        "start_time": "2022-03-28T17:42:46.987Z"
      },
      {
        "duration": 8,
        "start_time": "2022-03-28T17:43:10.967Z"
      },
      {
        "duration": 21,
        "start_time": "2022-03-28T17:43:12.931Z"
      },
      {
        "duration": 7,
        "start_time": "2022-03-28T17:43:31.839Z"
      },
      {
        "duration": 19,
        "start_time": "2022-03-28T17:43:45.950Z"
      },
      {
        "duration": 70,
        "start_time": "2022-03-28T17:44:12.562Z"
      },
      {
        "duration": 16,
        "start_time": "2022-03-28T17:44:12.634Z"
      },
      {
        "duration": 4,
        "start_time": "2022-03-28T17:44:12.651Z"
      },
      {
        "duration": 17,
        "start_time": "2022-03-28T17:44:12.657Z"
      },
      {
        "duration": 41,
        "start_time": "2022-03-28T17:44:12.677Z"
      },
      {
        "duration": 22,
        "start_time": "2022-03-28T17:44:12.720Z"
      },
      {
        "duration": 8,
        "start_time": "2022-03-28T17:44:12.744Z"
      },
      {
        "duration": 5,
        "start_time": "2022-03-28T17:44:12.754Z"
      },
      {
        "duration": 10,
        "start_time": "2022-03-28T17:44:12.761Z"
      },
      {
        "duration": 52,
        "start_time": "2022-03-28T17:44:12.773Z"
      },
      {
        "duration": 5,
        "start_time": "2022-03-28T17:44:12.827Z"
      },
      {
        "duration": 9,
        "start_time": "2022-03-28T17:44:12.834Z"
      },
      {
        "duration": 150,
        "start_time": "2022-03-28T17:44:12.844Z"
      },
      {
        "duration": 16,
        "start_time": "2022-03-28T17:44:12.997Z"
      },
      {
        "duration": 7,
        "start_time": "2022-03-28T17:44:13.015Z"
      },
      {
        "duration": 9,
        "start_time": "2022-03-28T17:44:13.024Z"
      },
      {
        "duration": 21,
        "start_time": "2022-03-28T17:44:13.035Z"
      },
      {
        "duration": 8,
        "start_time": "2022-03-28T17:44:13.058Z"
      },
      {
        "duration": 54,
        "start_time": "2022-03-28T17:44:13.067Z"
      },
      {
        "duration": 6,
        "start_time": "2022-03-28T17:46:03.079Z"
      },
      {
        "duration": 75,
        "start_time": "2022-03-28T20:04:45.017Z"
      },
      {
        "duration": 499,
        "start_time": "2022-03-28T20:04:53.418Z"
      },
      {
        "duration": 37,
        "start_time": "2022-03-28T20:04:53.920Z"
      },
      {
        "duration": 44,
        "start_time": "2022-03-28T20:04:53.959Z"
      },
      {
        "duration": 5,
        "start_time": "2022-03-28T20:04:54.005Z"
      },
      {
        "duration": 21,
        "start_time": "2022-03-28T20:04:54.014Z"
      },
      {
        "duration": 17,
        "start_time": "2022-03-28T20:04:54.037Z"
      },
      {
        "duration": 46,
        "start_time": "2022-03-28T20:04:54.056Z"
      },
      {
        "duration": 8,
        "start_time": "2022-03-28T20:04:54.105Z"
      },
      {
        "duration": 12,
        "start_time": "2022-03-28T20:04:54.114Z"
      },
      {
        "duration": 17,
        "start_time": "2022-03-28T20:04:54.128Z"
      },
      {
        "duration": 20,
        "start_time": "2022-03-28T20:04:54.147Z"
      },
      {
        "duration": 34,
        "start_time": "2022-03-28T20:04:54.170Z"
      },
      {
        "duration": 10,
        "start_time": "2022-03-28T20:04:54.206Z"
      },
      {
        "duration": 259,
        "start_time": "2022-03-28T20:04:54.220Z"
      },
      {
        "duration": 25,
        "start_time": "2022-03-28T20:04:54.481Z"
      },
      {
        "duration": 9,
        "start_time": "2022-03-28T20:04:54.509Z"
      },
      {
        "duration": 15,
        "start_time": "2022-03-28T20:04:54.521Z"
      },
      {
        "duration": 9,
        "start_time": "2022-03-28T20:04:54.539Z"
      },
      {
        "duration": 8,
        "start_time": "2022-03-28T20:04:54.550Z"
      },
      {
        "duration": 71,
        "start_time": "2022-03-28T20:04:54.561Z"
      },
      {
        "duration": 26,
        "start_time": "2022-03-28T20:08:26.737Z"
      },
      {
        "duration": 27,
        "start_time": "2022-03-28T20:11:15.333Z"
      },
      {
        "duration": 26,
        "start_time": "2022-03-28T20:11:40.720Z"
      },
      {
        "duration": 27,
        "start_time": "2022-03-28T20:12:58.674Z"
      },
      {
        "duration": 15,
        "start_time": "2022-03-28T20:13:27.050Z"
      },
      {
        "duration": 17,
        "start_time": "2022-03-28T20:15:57.517Z"
      },
      {
        "duration": 80,
        "start_time": "2022-03-28T20:16:29.552Z"
      },
      {
        "duration": 16,
        "start_time": "2022-03-28T20:16:29.634Z"
      },
      {
        "duration": 5,
        "start_time": "2022-03-28T20:16:29.652Z"
      },
      {
        "duration": 19,
        "start_time": "2022-03-28T20:16:29.659Z"
      },
      {
        "duration": 15,
        "start_time": "2022-03-28T20:16:29.701Z"
      },
      {
        "duration": 14,
        "start_time": "2022-03-28T20:16:29.718Z"
      },
      {
        "duration": 7,
        "start_time": "2022-03-28T20:16:29.734Z"
      },
      {
        "duration": 4,
        "start_time": "2022-03-28T20:16:29.744Z"
      },
      {
        "duration": 14,
        "start_time": "2022-03-28T20:16:29.750Z"
      },
      {
        "duration": 13,
        "start_time": "2022-03-28T20:16:29.800Z"
      },
      {
        "duration": 4,
        "start_time": "2022-03-28T20:16:29.815Z"
      },
      {
        "duration": 6,
        "start_time": "2022-03-28T20:16:29.821Z"
      },
      {
        "duration": 165,
        "start_time": "2022-03-28T20:16:29.829Z"
      },
      {
        "duration": 12,
        "start_time": "2022-03-28T20:16:29.996Z"
      },
      {
        "duration": 11,
        "start_time": "2022-03-28T20:16:30.010Z"
      },
      {
        "duration": 12,
        "start_time": "2022-03-28T20:16:30.024Z"
      },
      {
        "duration": 9,
        "start_time": "2022-03-28T20:16:30.038Z"
      },
      {
        "duration": 10,
        "start_time": "2022-03-28T20:16:30.049Z"
      },
      {
        "duration": 48,
        "start_time": "2022-03-28T20:16:30.061Z"
      },
      {
        "duration": 24,
        "start_time": "2022-03-28T20:17:51.691Z"
      },
      {
        "duration": 15,
        "start_time": "2022-03-28T20:18:40.627Z"
      },
      {
        "duration": 47,
        "start_time": "2022-03-29T08:01:20.907Z"
      },
      {
        "duration": 6,
        "start_time": "2022-03-29T08:01:37.525Z"
      },
      {
        "duration": 6,
        "start_time": "2022-03-29T08:01:42.532Z"
      },
      {
        "duration": 471,
        "start_time": "2022-03-29T08:01:45.808Z"
      },
      {
        "duration": 16,
        "start_time": "2022-03-29T08:01:46.281Z"
      },
      {
        "duration": 4,
        "start_time": "2022-03-29T08:01:46.298Z"
      },
      {
        "duration": 11,
        "start_time": "2022-03-29T08:01:46.304Z"
      },
      {
        "duration": 5,
        "start_time": "2022-03-29T08:01:46.317Z"
      },
      {
        "duration": 13,
        "start_time": "2022-03-29T08:01:46.323Z"
      },
      {
        "duration": 2758,
        "start_time": "2022-03-29T08:01:46.337Z"
      },
      {
        "duration": 0,
        "start_time": "2022-03-29T08:01:49.097Z"
      },
      {
        "duration": 0,
        "start_time": "2022-03-29T08:01:49.098Z"
      },
      {
        "duration": 0,
        "start_time": "2022-03-29T08:01:49.099Z"
      },
      {
        "duration": 0,
        "start_time": "2022-03-29T08:01:49.100Z"
      },
      {
        "duration": 0,
        "start_time": "2022-03-29T08:01:49.102Z"
      },
      {
        "duration": 0,
        "start_time": "2022-03-29T08:01:49.103Z"
      },
      {
        "duration": 0,
        "start_time": "2022-03-29T08:01:49.104Z"
      },
      {
        "duration": 0,
        "start_time": "2022-03-29T08:01:49.105Z"
      },
      {
        "duration": 0,
        "start_time": "2022-03-29T08:01:49.106Z"
      },
      {
        "duration": 0,
        "start_time": "2022-03-29T08:01:49.107Z"
      },
      {
        "duration": 0,
        "start_time": "2022-03-29T08:01:49.108Z"
      },
      {
        "duration": 0,
        "start_time": "2022-03-29T08:01:49.109Z"
      },
      {
        "duration": 0,
        "start_time": "2022-03-29T08:01:49.109Z"
      },
      {
        "duration": 65,
        "start_time": "2022-03-29T08:09:41.886Z"
      },
      {
        "duration": 575,
        "start_time": "2022-03-29T08:09:50.479Z"
      },
      {
        "duration": 31,
        "start_time": "2022-03-29T08:09:51.056Z"
      },
      {
        "duration": 6,
        "start_time": "2022-03-29T08:09:51.089Z"
      },
      {
        "duration": 12,
        "start_time": "2022-03-29T08:09:51.098Z"
      },
      {
        "duration": 25,
        "start_time": "2022-03-29T08:09:51.112Z"
      },
      {
        "duration": 23,
        "start_time": "2022-03-29T08:09:51.139Z"
      },
      {
        "duration": 33,
        "start_time": "2022-03-29T08:09:51.164Z"
      },
      {
        "duration": 2337,
        "start_time": "2022-03-29T08:09:51.200Z"
      },
      {
        "duration": 0,
        "start_time": "2022-03-29T08:09:53.540Z"
      },
      {
        "duration": 0,
        "start_time": "2022-03-29T08:09:53.542Z"
      },
      {
        "duration": 0,
        "start_time": "2022-03-29T08:09:53.544Z"
      },
      {
        "duration": 0,
        "start_time": "2022-03-29T08:09:53.546Z"
      },
      {
        "duration": 0,
        "start_time": "2022-03-29T08:09:53.550Z"
      },
      {
        "duration": 0,
        "start_time": "2022-03-29T08:09:53.552Z"
      },
      {
        "duration": 0,
        "start_time": "2022-03-29T08:09:53.553Z"
      },
      {
        "duration": 0,
        "start_time": "2022-03-29T08:09:53.554Z"
      },
      {
        "duration": 0,
        "start_time": "2022-03-29T08:09:53.556Z"
      },
      {
        "duration": 0,
        "start_time": "2022-03-29T08:09:53.557Z"
      },
      {
        "duration": 1,
        "start_time": "2022-03-29T08:09:53.558Z"
      },
      {
        "duration": 0,
        "start_time": "2022-03-29T08:09:53.560Z"
      },
      {
        "duration": 0,
        "start_time": "2022-03-29T08:09:53.561Z"
      },
      {
        "duration": 2194,
        "start_time": "2022-03-29T08:14:00.793Z"
      },
      {
        "duration": 91,
        "start_time": "2022-03-29T08:14:30.160Z"
      },
      {
        "duration": 48,
        "start_time": "2022-03-29T08:14:30.254Z"
      },
      {
        "duration": 26,
        "start_time": "2022-03-29T08:14:30.305Z"
      },
      {
        "duration": 37,
        "start_time": "2022-03-29T08:14:30.336Z"
      },
      {
        "duration": 43,
        "start_time": "2022-03-29T08:14:30.376Z"
      },
      {
        "duration": 28,
        "start_time": "2022-03-29T08:14:30.423Z"
      },
      {
        "duration": 0,
        "start_time": "2022-03-29T08:14:30.455Z"
      },
      {
        "duration": 0,
        "start_time": "2022-03-29T08:14:30.456Z"
      },
      {
        "duration": 0,
        "start_time": "2022-03-29T08:14:30.458Z"
      },
      {
        "duration": 0,
        "start_time": "2022-03-29T08:14:30.460Z"
      },
      {
        "duration": 0,
        "start_time": "2022-03-29T08:14:30.461Z"
      },
      {
        "duration": 0,
        "start_time": "2022-03-29T08:14:30.482Z"
      },
      {
        "duration": 0,
        "start_time": "2022-03-29T08:14:30.484Z"
      },
      {
        "duration": 0,
        "start_time": "2022-03-29T08:14:30.486Z"
      },
      {
        "duration": 0,
        "start_time": "2022-03-29T08:14:30.488Z"
      },
      {
        "duration": 0,
        "start_time": "2022-03-29T08:14:30.490Z"
      },
      {
        "duration": 0,
        "start_time": "2022-03-29T08:14:30.491Z"
      },
      {
        "duration": 0,
        "start_time": "2022-03-29T08:14:30.493Z"
      },
      {
        "duration": 0,
        "start_time": "2022-03-29T08:14:30.495Z"
      },
      {
        "duration": 1,
        "start_time": "2022-03-29T08:14:30.496Z"
      },
      {
        "duration": 0,
        "start_time": "2022-03-29T08:14:30.498Z"
      },
      {
        "duration": 0,
        "start_time": "2022-03-29T08:14:30.501Z"
      },
      {
        "duration": 86,
        "start_time": "2022-03-29T08:17:17.663Z"
      },
      {
        "duration": 50,
        "start_time": "2022-03-29T08:17:17.752Z"
      },
      {
        "duration": 20,
        "start_time": "2022-03-29T08:17:17.805Z"
      },
      {
        "duration": 29,
        "start_time": "2022-03-29T08:17:17.829Z"
      },
      {
        "duration": 28,
        "start_time": "2022-03-29T08:17:17.860Z"
      },
      {
        "duration": 21,
        "start_time": "2022-03-29T08:17:17.891Z"
      },
      {
        "duration": 0,
        "start_time": "2022-03-29T08:17:17.916Z"
      },
      {
        "duration": 0,
        "start_time": "2022-03-29T08:17:17.918Z"
      },
      {
        "duration": 0,
        "start_time": "2022-03-29T08:17:17.919Z"
      },
      {
        "duration": 0,
        "start_time": "2022-03-29T08:17:17.921Z"
      },
      {
        "duration": 0,
        "start_time": "2022-03-29T08:17:17.923Z"
      },
      {
        "duration": 0,
        "start_time": "2022-03-29T08:17:17.925Z"
      },
      {
        "duration": 0,
        "start_time": "2022-03-29T08:17:17.927Z"
      },
      {
        "duration": 0,
        "start_time": "2022-03-29T08:17:17.928Z"
      },
      {
        "duration": 0,
        "start_time": "2022-03-29T08:17:17.930Z"
      },
      {
        "duration": 0,
        "start_time": "2022-03-29T08:17:17.931Z"
      },
      {
        "duration": 0,
        "start_time": "2022-03-29T08:17:17.932Z"
      },
      {
        "duration": 0,
        "start_time": "2022-03-29T08:17:17.933Z"
      },
      {
        "duration": 0,
        "start_time": "2022-03-29T08:17:17.934Z"
      },
      {
        "duration": 0,
        "start_time": "2022-03-29T08:17:17.936Z"
      },
      {
        "duration": 0,
        "start_time": "2022-03-29T08:17:17.938Z"
      },
      {
        "duration": 0,
        "start_time": "2022-03-29T08:17:17.982Z"
      },
      {
        "duration": 8,
        "start_time": "2022-03-29T08:17:53.433Z"
      },
      {
        "duration": 16,
        "start_time": "2022-03-29T08:20:42.762Z"
      },
      {
        "duration": 14,
        "start_time": "2022-03-29T08:21:00.353Z"
      },
      {
        "duration": 8,
        "start_time": "2022-03-29T08:25:28.771Z"
      },
      {
        "duration": 13,
        "start_time": "2022-03-29T08:34:34.507Z"
      },
      {
        "duration": 11,
        "start_time": "2022-03-29T08:42:36.309Z"
      },
      {
        "duration": 9,
        "start_time": "2022-03-29T08:42:57.176Z"
      },
      {
        "duration": 10,
        "start_time": "2022-03-29T08:47:19.795Z"
      },
      {
        "duration": 13,
        "start_time": "2022-03-29T08:47:25.353Z"
      },
      {
        "duration": 12,
        "start_time": "2022-03-29T08:49:19.216Z"
      },
      {
        "duration": 12,
        "start_time": "2022-03-29T08:50:50.365Z"
      },
      {
        "duration": 78,
        "start_time": "2022-03-29T08:52:27.577Z"
      },
      {
        "duration": 32,
        "start_time": "2022-03-29T08:52:27.658Z"
      },
      {
        "duration": 6,
        "start_time": "2022-03-29T08:52:27.692Z"
      },
      {
        "duration": 21,
        "start_time": "2022-03-29T08:52:27.701Z"
      },
      {
        "duration": 64,
        "start_time": "2022-03-29T08:52:27.724Z"
      },
      {
        "duration": 20,
        "start_time": "2022-03-29T08:52:27.790Z"
      },
      {
        "duration": 9,
        "start_time": "2022-03-29T08:52:27.814Z"
      },
      {
        "duration": 67,
        "start_time": "2022-03-29T08:52:27.825Z"
      },
      {
        "duration": 12,
        "start_time": "2022-03-29T08:52:27.895Z"
      },
      {
        "duration": 11,
        "start_time": "2022-03-29T08:52:27.910Z"
      },
      {
        "duration": 6,
        "start_time": "2022-03-29T08:52:27.925Z"
      },
      {
        "duration": 51,
        "start_time": "2022-03-29T08:52:27.935Z"
      },
      {
        "duration": 25,
        "start_time": "2022-03-29T08:52:27.989Z"
      },
      {
        "duration": 31,
        "start_time": "2022-03-29T08:52:28.016Z"
      },
      {
        "duration": 10,
        "start_time": "2022-03-29T08:52:28.050Z"
      },
      {
        "duration": 225,
        "start_time": "2022-03-29T08:52:28.062Z"
      },
      {
        "duration": 7,
        "start_time": "2022-03-29T08:52:28.289Z"
      },
      {
        "duration": 27,
        "start_time": "2022-03-29T08:52:28.298Z"
      },
      {
        "duration": 42,
        "start_time": "2022-03-29T08:58:17.818Z"
      },
      {
        "duration": 10,
        "start_time": "2022-03-29T09:01:31.318Z"
      },
      {
        "duration": 12,
        "start_time": "2022-03-29T09:01:37.091Z"
      },
      {
        "duration": 10,
        "start_time": "2022-03-29T09:01:43.296Z"
      },
      {
        "duration": 11,
        "start_time": "2022-03-29T09:05:10.166Z"
      },
      {
        "duration": 16,
        "start_time": "2022-03-29T09:05:31.947Z"
      },
      {
        "duration": 9,
        "start_time": "2022-03-29T09:09:02.477Z"
      },
      {
        "duration": 8,
        "start_time": "2022-03-29T09:09:20.239Z"
      },
      {
        "duration": 90,
        "start_time": "2022-03-29T09:09:45.936Z"
      },
      {
        "duration": 19,
        "start_time": "2022-03-29T09:09:46.029Z"
      },
      {
        "duration": 7,
        "start_time": "2022-03-29T09:09:46.082Z"
      },
      {
        "duration": 16,
        "start_time": "2022-03-29T09:09:46.093Z"
      },
      {
        "duration": 22,
        "start_time": "2022-03-29T09:09:46.112Z"
      },
      {
        "duration": 53,
        "start_time": "2022-03-29T09:09:46.138Z"
      },
      {
        "duration": 8,
        "start_time": "2022-03-29T09:09:46.193Z"
      },
      {
        "duration": 24,
        "start_time": "2022-03-29T09:09:46.204Z"
      },
      {
        "duration": 53,
        "start_time": "2022-03-29T09:09:46.231Z"
      },
      {
        "duration": 26,
        "start_time": "2022-03-29T09:09:46.287Z"
      },
      {
        "duration": 9,
        "start_time": "2022-03-29T09:09:46.315Z"
      },
      {
        "duration": 23,
        "start_time": "2022-03-29T09:09:46.327Z"
      },
      {
        "duration": 8,
        "start_time": "2022-03-29T09:09:46.383Z"
      },
      {
        "duration": 9,
        "start_time": "2022-03-29T09:09:46.393Z"
      },
      {
        "duration": 16,
        "start_time": "2022-03-29T09:09:46.404Z"
      },
      {
        "duration": 7,
        "start_time": "2022-03-29T09:09:46.422Z"
      },
      {
        "duration": 10,
        "start_time": "2022-03-29T09:09:46.431Z"
      },
      {
        "duration": 7,
        "start_time": "2022-03-29T09:09:46.484Z"
      },
      {
        "duration": 257,
        "start_time": "2022-03-29T09:09:46.495Z"
      },
      {
        "duration": 8,
        "start_time": "2022-03-29T09:09:46.754Z"
      },
      {
        "duration": 43,
        "start_time": "2022-03-29T09:09:46.765Z"
      },
      {
        "duration": 19,
        "start_time": "2022-03-29T09:13:48.865Z"
      },
      {
        "duration": 12,
        "start_time": "2022-03-29T09:15:45.608Z"
      },
      {
        "duration": 11,
        "start_time": "2022-03-29T09:16:09.138Z"
      },
      {
        "duration": 83,
        "start_time": "2022-03-29T09:17:09.709Z"
      },
      {
        "duration": 23,
        "start_time": "2022-03-29T09:17:09.794Z"
      },
      {
        "duration": 7,
        "start_time": "2022-03-29T09:17:09.819Z"
      },
      {
        "duration": 16,
        "start_time": "2022-03-29T09:17:09.830Z"
      },
      {
        "duration": 54,
        "start_time": "2022-03-29T09:17:09.848Z"
      },
      {
        "duration": 17,
        "start_time": "2022-03-29T09:17:09.904Z"
      },
      {
        "duration": 11,
        "start_time": "2022-03-29T09:17:09.924Z"
      },
      {
        "duration": 58,
        "start_time": "2022-03-29T09:17:09.938Z"
      },
      {
        "duration": 15,
        "start_time": "2022-03-29T09:17:09.999Z"
      },
      {
        "duration": 27,
        "start_time": "2022-03-29T09:17:10.019Z"
      },
      {
        "duration": 42,
        "start_time": "2022-03-29T09:17:10.049Z"
      },
      {
        "duration": 20,
        "start_time": "2022-03-29T09:17:10.094Z"
      },
      {
        "duration": 10,
        "start_time": "2022-03-29T09:17:10.117Z"
      },
      {
        "duration": 57,
        "start_time": "2022-03-29T09:17:10.130Z"
      },
      {
        "duration": 13,
        "start_time": "2022-03-29T09:17:10.189Z"
      },
      {
        "duration": 10,
        "start_time": "2022-03-29T09:17:19.655Z"
      },
      {
        "duration": 28,
        "start_time": "2022-03-29T09:18:22.683Z"
      },
      {
        "duration": 28,
        "start_time": "2022-03-29T09:18:34.125Z"
      },
      {
        "duration": 9,
        "start_time": "2022-03-29T09:20:14.276Z"
      },
      {
        "duration": 8,
        "start_time": "2022-03-29T09:22:19.050Z"
      },
      {
        "duration": 10,
        "start_time": "2022-03-29T09:22:46.312Z"
      },
      {
        "duration": 15,
        "start_time": "2022-03-29T09:24:37.083Z"
      },
      {
        "duration": 8,
        "start_time": "2022-03-29T09:24:45.144Z"
      },
      {
        "duration": 14,
        "start_time": "2022-03-29T09:26:09.655Z"
      },
      {
        "duration": 14,
        "start_time": "2022-03-29T09:26:32.022Z"
      },
      {
        "duration": 8,
        "start_time": "2022-03-29T09:29:53.264Z"
      },
      {
        "duration": 11,
        "start_time": "2022-03-29T09:31:54.842Z"
      },
      {
        "duration": 7,
        "start_time": "2022-03-29T09:33:30.866Z"
      },
      {
        "duration": 10,
        "start_time": "2022-03-29T09:33:49.415Z"
      },
      {
        "duration": 130,
        "start_time": "2022-03-29T09:33:52.609Z"
      },
      {
        "duration": 50,
        "start_time": "2022-03-29T09:33:52.743Z"
      },
      {
        "duration": 8,
        "start_time": "2022-03-29T09:33:52.796Z"
      },
      {
        "duration": 31,
        "start_time": "2022-03-29T09:33:52.808Z"
      },
      {
        "duration": 55,
        "start_time": "2022-03-29T09:33:52.842Z"
      },
      {
        "duration": 20,
        "start_time": "2022-03-29T09:33:52.899Z"
      },
      {
        "duration": 9,
        "start_time": "2022-03-29T09:33:52.922Z"
      },
      {
        "duration": 55,
        "start_time": "2022-03-29T09:33:52.934Z"
      },
      {
        "duration": 15,
        "start_time": "2022-03-29T09:33:52.992Z"
      },
      {
        "duration": 36,
        "start_time": "2022-03-29T09:33:53.012Z"
      },
      {
        "duration": 38,
        "start_time": "2022-03-29T09:33:53.051Z"
      },
      {
        "duration": 15,
        "start_time": "2022-03-29T09:33:53.093Z"
      },
      {
        "duration": 13,
        "start_time": "2022-03-29T09:33:53.111Z"
      },
      {
        "duration": 22,
        "start_time": "2022-03-29T09:33:53.127Z"
      },
      {
        "duration": 14,
        "start_time": "2022-03-29T09:33:53.183Z"
      },
      {
        "duration": 15,
        "start_time": "2022-03-29T09:33:53.199Z"
      },
      {
        "duration": 69,
        "start_time": "2022-03-29T09:33:53.216Z"
      },
      {
        "duration": 13,
        "start_time": "2022-03-29T09:33:53.288Z"
      },
      {
        "duration": 19,
        "start_time": "2022-03-29T09:33:53.304Z"
      },
      {
        "duration": 25,
        "start_time": "2022-03-29T09:33:53.326Z"
      },
      {
        "duration": 33,
        "start_time": "2022-03-29T09:33:53.354Z"
      },
      {
        "duration": 16,
        "start_time": "2022-03-29T09:33:53.390Z"
      },
      {
        "duration": 17,
        "start_time": "2022-03-29T09:34:10.832Z"
      },
      {
        "duration": 138,
        "start_time": "2022-03-29T10:03:35.633Z"
      },
      {
        "duration": 551,
        "start_time": "2022-03-29T10:03:38.894Z"
      },
      {
        "duration": 25,
        "start_time": "2022-03-29T10:03:39.447Z"
      },
      {
        "duration": 13,
        "start_time": "2022-03-29T10:03:39.474Z"
      },
      {
        "duration": 14,
        "start_time": "2022-03-29T10:03:39.491Z"
      },
      {
        "duration": 30,
        "start_time": "2022-03-29T10:03:39.507Z"
      },
      {
        "duration": 31,
        "start_time": "2022-03-29T10:03:39.538Z"
      },
      {
        "duration": 8,
        "start_time": "2022-03-29T10:03:39.571Z"
      },
      {
        "duration": 45,
        "start_time": "2022-03-29T10:03:39.581Z"
      },
      {
        "duration": 10,
        "start_time": "2022-03-29T10:03:39.628Z"
      },
      {
        "duration": 44,
        "start_time": "2022-03-29T10:03:39.643Z"
      },
      {
        "duration": 16,
        "start_time": "2022-03-29T10:03:39.689Z"
      },
      {
        "duration": 23,
        "start_time": "2022-03-29T10:03:39.707Z"
      },
      {
        "duration": 19,
        "start_time": "2022-03-29T10:03:39.733Z"
      },
      {
        "duration": 31,
        "start_time": "2022-03-29T10:03:39.755Z"
      },
      {
        "duration": 12,
        "start_time": "2022-03-29T10:03:39.789Z"
      },
      {
        "duration": 22,
        "start_time": "2022-03-29T10:03:39.804Z"
      },
      {
        "duration": 41,
        "start_time": "2022-03-29T10:03:39.828Z"
      },
      {
        "duration": 10,
        "start_time": "2022-03-29T10:03:39.871Z"
      },
      {
        "duration": 36,
        "start_time": "2022-03-29T10:03:39.884Z"
      },
      {
        "duration": 24,
        "start_time": "2022-03-29T10:03:39.922Z"
      },
      {
        "duration": 21,
        "start_time": "2022-03-29T10:03:39.948Z"
      },
      {
        "duration": 32,
        "start_time": "2022-03-29T10:03:39.972Z"
      },
      {
        "duration": 52,
        "start_time": "2022-03-29T10:03:40.007Z"
      },
      {
        "duration": 41,
        "start_time": "2022-03-29T10:04:23.774Z"
      },
      {
        "duration": 54,
        "start_time": "2022-03-29T10:06:50.418Z"
      },
      {
        "duration": 55,
        "start_time": "2022-03-29T10:08:05.457Z"
      },
      {
        "duration": 64,
        "start_time": "2022-03-29T10:10:00.944Z"
      },
      {
        "duration": 72,
        "start_time": "2022-03-29T10:11:37.271Z"
      },
      {
        "duration": 8,
        "start_time": "2022-03-29T10:30:10.535Z"
      },
      {
        "duration": 24,
        "start_time": "2022-03-29T10:33:56.500Z"
      },
      {
        "duration": 42,
        "start_time": "2022-03-29T10:43:32.749Z"
      },
      {
        "duration": 144,
        "start_time": "2022-03-29T11:29:14.623Z"
      },
      {
        "duration": 25,
        "start_time": "2022-03-29T11:29:14.771Z"
      },
      {
        "duration": 12,
        "start_time": "2022-03-29T11:29:14.799Z"
      },
      {
        "duration": 24,
        "start_time": "2022-03-29T11:29:14.814Z"
      },
      {
        "duration": 56,
        "start_time": "2022-03-29T11:29:14.841Z"
      },
      {
        "duration": 23,
        "start_time": "2022-03-29T11:29:14.899Z"
      },
      {
        "duration": 7,
        "start_time": "2022-03-29T11:29:14.925Z"
      },
      {
        "duration": 50,
        "start_time": "2022-03-29T11:29:14.935Z"
      },
      {
        "duration": 19,
        "start_time": "2022-03-29T11:29:14.987Z"
      },
      {
        "duration": 36,
        "start_time": "2022-03-29T11:29:15.010Z"
      },
      {
        "duration": 9,
        "start_time": "2022-03-29T11:29:15.068Z"
      },
      {
        "duration": 59,
        "start_time": "2022-03-29T11:29:15.079Z"
      },
      {
        "duration": 34,
        "start_time": "2022-03-29T11:29:15.140Z"
      },
      {
        "duration": 28,
        "start_time": "2022-03-29T11:29:15.177Z"
      },
      {
        "duration": 7,
        "start_time": "2022-03-29T11:29:15.208Z"
      },
      {
        "duration": 29,
        "start_time": "2022-03-29T11:29:15.217Z"
      },
      {
        "duration": 26,
        "start_time": "2022-03-29T11:29:15.249Z"
      },
      {
        "duration": 48,
        "start_time": "2022-03-29T11:29:15.278Z"
      },
      {
        "duration": 72,
        "start_time": "2022-03-29T11:29:15.329Z"
      },
      {
        "duration": 14,
        "start_time": "2022-03-29T11:29:15.404Z"
      },
      {
        "duration": 19,
        "start_time": "2022-03-29T11:29:15.421Z"
      },
      {
        "duration": 38,
        "start_time": "2022-03-29T11:29:15.443Z"
      },
      {
        "duration": 8,
        "start_time": "2022-03-29T11:29:15.484Z"
      },
      {
        "duration": 16,
        "start_time": "2022-03-29T11:29:15.495Z"
      },
      {
        "duration": 109,
        "start_time": "2022-03-29T11:29:15.514Z"
      },
      {
        "duration": 622,
        "start_time": "2022-03-29T15:10:08.644Z"
      },
      {
        "duration": 19,
        "start_time": "2022-03-29T15:10:09.273Z"
      },
      {
        "duration": 12,
        "start_time": "2022-03-29T15:10:09.294Z"
      },
      {
        "duration": 17,
        "start_time": "2022-03-29T15:10:09.308Z"
      },
      {
        "duration": 46,
        "start_time": "2022-03-29T15:10:09.329Z"
      },
      {
        "duration": 16,
        "start_time": "2022-03-29T15:10:09.377Z"
      },
      {
        "duration": 6,
        "start_time": "2022-03-29T15:10:09.395Z"
      },
      {
        "duration": 22,
        "start_time": "2022-03-29T15:10:09.403Z"
      },
      {
        "duration": 52,
        "start_time": "2022-03-29T15:10:09.427Z"
      },
      {
        "duration": 24,
        "start_time": "2022-03-29T15:10:09.481Z"
      },
      {
        "duration": 7,
        "start_time": "2022-03-29T15:10:09.508Z"
      },
      {
        "duration": 85,
        "start_time": "2022-03-29T15:10:09.517Z"
      },
      {
        "duration": 8,
        "start_time": "2022-03-29T15:10:09.604Z"
      },
      {
        "duration": 17,
        "start_time": "2022-03-29T15:10:09.617Z"
      },
      {
        "duration": 44,
        "start_time": "2022-03-29T15:10:09.636Z"
      },
      {
        "duration": 22,
        "start_time": "2022-03-29T15:10:09.683Z"
      },
      {
        "duration": 13,
        "start_time": "2022-03-29T15:10:09.707Z"
      },
      {
        "duration": 12,
        "start_time": "2022-03-29T15:10:09.723Z"
      },
      {
        "duration": 61,
        "start_time": "2022-03-29T15:10:09.737Z"
      },
      {
        "duration": 9,
        "start_time": "2022-03-29T15:10:09.800Z"
      },
      {
        "duration": 9,
        "start_time": "2022-03-29T15:10:09.811Z"
      },
      {
        "duration": 16,
        "start_time": "2022-03-29T15:10:09.822Z"
      },
      {
        "duration": 43,
        "start_time": "2022-03-29T15:10:09.839Z"
      },
      {
        "duration": 12,
        "start_time": "2022-03-29T15:10:09.884Z"
      },
      {
        "duration": 109,
        "start_time": "2022-03-29T15:10:09.898Z"
      },
      {
        "duration": 45,
        "start_time": "2022-03-29T15:11:46.359Z"
      },
      {
        "duration": 102,
        "start_time": "2022-03-29T16:17:47.005Z"
      },
      {
        "duration": 9,
        "start_time": "2022-03-29T16:22:22.702Z"
      },
      {
        "duration": 90,
        "start_time": "2022-03-29T16:22:26.869Z"
      },
      {
        "duration": 24,
        "start_time": "2022-03-29T16:22:26.973Z"
      },
      {
        "duration": 20,
        "start_time": "2022-03-29T16:22:27.000Z"
      },
      {
        "duration": 33,
        "start_time": "2022-03-29T16:22:27.023Z"
      },
      {
        "duration": 34,
        "start_time": "2022-03-29T16:22:27.058Z"
      },
      {
        "duration": 27,
        "start_time": "2022-03-29T16:22:27.094Z"
      },
      {
        "duration": 10,
        "start_time": "2022-03-29T16:22:27.123Z"
      },
      {
        "duration": 39,
        "start_time": "2022-03-29T16:22:27.136Z"
      },
      {
        "duration": 11,
        "start_time": "2022-03-29T16:22:27.178Z"
      },
      {
        "duration": 30,
        "start_time": "2022-03-29T16:22:27.193Z"
      },
      {
        "duration": 9,
        "start_time": "2022-03-29T16:22:27.225Z"
      },
      {
        "duration": 112,
        "start_time": "2022-03-29T16:22:27.236Z"
      },
      {
        "duration": 7,
        "start_time": "2022-03-29T16:22:27.350Z"
      },
      {
        "duration": 17,
        "start_time": "2022-03-29T16:22:27.374Z"
      },
      {
        "duration": 23,
        "start_time": "2022-03-29T16:22:27.393Z"
      },
      {
        "duration": 25,
        "start_time": "2022-03-29T16:22:27.418Z"
      },
      {
        "duration": 11,
        "start_time": "2022-03-29T16:22:27.445Z"
      },
      {
        "duration": 22,
        "start_time": "2022-03-29T16:22:27.473Z"
      },
      {
        "duration": 63,
        "start_time": "2022-03-29T16:22:27.498Z"
      },
      {
        "duration": 14,
        "start_time": "2022-03-29T16:22:27.564Z"
      },
      {
        "duration": 20,
        "start_time": "2022-03-29T16:22:27.580Z"
      },
      {
        "duration": 21,
        "start_time": "2022-03-29T16:22:27.604Z"
      },
      {
        "duration": 7,
        "start_time": "2022-03-29T16:22:27.627Z"
      },
      {
        "duration": 37,
        "start_time": "2022-03-29T16:22:27.636Z"
      },
      {
        "duration": 81,
        "start_time": "2022-03-29T16:22:27.676Z"
      },
      {
        "duration": 23,
        "start_time": "2022-03-29T16:22:27.759Z"
      },
      {
        "duration": 11,
        "start_time": "2022-03-29T16:22:43.616Z"
      },
      {
        "duration": 17,
        "start_time": "2022-03-29T16:22:48.425Z"
      },
      {
        "duration": 35,
        "start_time": "2022-03-29T16:23:13.536Z"
      },
      {
        "duration": 15,
        "start_time": "2022-03-29T16:23:24.124Z"
      },
      {
        "duration": 15,
        "start_time": "2022-03-29T16:23:31.904Z"
      },
      {
        "duration": 12,
        "start_time": "2022-03-29T16:31:32.597Z"
      },
      {
        "duration": 27,
        "start_time": "2022-03-29T16:31:51.896Z"
      },
      {
        "duration": 28,
        "start_time": "2022-03-29T16:33:47.882Z"
      },
      {
        "duration": 48,
        "start_time": "2022-03-29T17:21:01.707Z"
      },
      {
        "duration": 447,
        "start_time": "2022-03-29T17:21:07.293Z"
      },
      {
        "duration": 15,
        "start_time": "2022-03-29T17:21:07.742Z"
      },
      {
        "duration": 4,
        "start_time": "2022-03-29T17:21:07.762Z"
      },
      {
        "duration": 10,
        "start_time": "2022-03-29T17:21:07.768Z"
      },
      {
        "duration": 14,
        "start_time": "2022-03-29T17:21:07.780Z"
      },
      {
        "duration": 14,
        "start_time": "2022-03-29T17:21:07.796Z"
      },
      {
        "duration": 5,
        "start_time": "2022-03-29T17:21:07.812Z"
      },
      {
        "duration": 51,
        "start_time": "2022-03-29T17:21:07.819Z"
      },
      {
        "duration": 9,
        "start_time": "2022-03-29T17:21:07.872Z"
      },
      {
        "duration": 25,
        "start_time": "2022-03-29T17:21:07.886Z"
      },
      {
        "duration": 8,
        "start_time": "2022-03-29T17:21:07.913Z"
      },
      {
        "duration": 85,
        "start_time": "2022-03-29T17:21:07.923Z"
      },
      {
        "duration": 7,
        "start_time": "2022-03-29T17:21:08.010Z"
      },
      {
        "duration": 16,
        "start_time": "2022-03-29T17:21:08.019Z"
      },
      {
        "duration": 28,
        "start_time": "2022-03-29T17:21:08.036Z"
      },
      {
        "duration": 16,
        "start_time": "2022-03-29T17:21:08.065Z"
      },
      {
        "duration": 11,
        "start_time": "2022-03-29T17:21:08.083Z"
      },
      {
        "duration": 11,
        "start_time": "2022-03-29T17:21:08.096Z"
      },
      {
        "duration": 54,
        "start_time": "2022-03-29T17:21:08.109Z"
      },
      {
        "duration": 7,
        "start_time": "2022-03-29T17:21:08.165Z"
      },
      {
        "duration": 24,
        "start_time": "2022-03-29T17:21:08.173Z"
      },
      {
        "duration": 13,
        "start_time": "2022-03-29T17:21:08.199Z"
      },
      {
        "duration": 6,
        "start_time": "2022-03-29T17:21:08.213Z"
      },
      {
        "duration": 14,
        "start_time": "2022-03-29T17:21:08.221Z"
      },
      {
        "duration": 65,
        "start_time": "2022-03-29T17:21:08.237Z"
      },
      {
        "duration": 13,
        "start_time": "2022-03-29T17:21:08.303Z"
      },
      {
        "duration": 17,
        "start_time": "2022-03-29T17:21:08.318Z"
      },
      {
        "duration": 11,
        "start_time": "2022-03-29T17:21:08.363Z"
      },
      {
        "duration": 19,
        "start_time": "2022-03-29T17:21:08.376Z"
      },
      {
        "duration": 447,
        "start_time": "2022-03-29T17:21:08.397Z"
      },
      {
        "duration": 415,
        "start_time": "2022-03-29T17:21:46.662Z"
      },
      {
        "duration": 430,
        "start_time": "2022-03-29T17:21:49.706Z"
      },
      {
        "duration": 440,
        "start_time": "2022-03-29T17:21:55.099Z"
      },
      {
        "duration": 263,
        "start_time": "2022-03-29T17:23:34.390Z"
      },
      {
        "duration": 75,
        "start_time": "2022-03-29T17:23:51.610Z"
      },
      {
        "duration": 14,
        "start_time": "2022-03-29T17:23:51.687Z"
      },
      {
        "duration": 5,
        "start_time": "2022-03-29T17:23:51.702Z"
      },
      {
        "duration": 12,
        "start_time": "2022-03-29T17:23:51.709Z"
      },
      {
        "duration": 13,
        "start_time": "2022-03-29T17:23:51.723Z"
      },
      {
        "duration": 32,
        "start_time": "2022-03-29T17:23:51.737Z"
      },
      {
        "duration": 6,
        "start_time": "2022-03-29T17:23:51.770Z"
      },
      {
        "duration": 17,
        "start_time": "2022-03-29T17:23:51.781Z"
      },
      {
        "duration": 7,
        "start_time": "2022-03-29T17:23:51.800Z"
      },
      {
        "duration": 16,
        "start_time": "2022-03-29T17:23:51.809Z"
      },
      {
        "duration": 42,
        "start_time": "2022-03-29T17:23:51.826Z"
      },
      {
        "duration": 40,
        "start_time": "2022-03-29T17:23:51.870Z"
      },
      {
        "duration": 5,
        "start_time": "2022-03-29T17:23:51.912Z"
      },
      {
        "duration": 10,
        "start_time": "2022-03-29T17:23:51.919Z"
      },
      {
        "duration": 33,
        "start_time": "2022-03-29T17:23:51.931Z"
      },
      {
        "duration": 20,
        "start_time": "2022-03-29T17:23:51.966Z"
      },
      {
        "duration": 7,
        "start_time": "2022-03-29T17:23:51.988Z"
      },
      {
        "duration": 7,
        "start_time": "2022-03-29T17:23:51.997Z"
      },
      {
        "duration": 22,
        "start_time": "2022-03-29T17:23:52.005Z"
      },
      {
        "duration": 7,
        "start_time": "2022-03-29T17:23:52.029Z"
      },
      {
        "duration": 13,
        "start_time": "2022-03-29T17:23:52.062Z"
      },
      {
        "duration": 17,
        "start_time": "2022-03-29T17:23:52.076Z"
      },
      {
        "duration": 7,
        "start_time": "2022-03-29T17:23:52.095Z"
      },
      {
        "duration": 9,
        "start_time": "2022-03-29T17:23:52.103Z"
      },
      {
        "duration": 74,
        "start_time": "2022-03-29T17:23:52.115Z"
      },
      {
        "duration": 9,
        "start_time": "2022-03-29T17:23:52.191Z"
      },
      {
        "duration": 17,
        "start_time": "2022-03-29T17:23:52.202Z"
      },
      {
        "duration": 9,
        "start_time": "2022-03-29T17:23:52.221Z"
      },
      {
        "duration": 41,
        "start_time": "2022-03-29T17:23:52.232Z"
      },
      {
        "duration": 265,
        "start_time": "2022-03-29T17:23:52.275Z"
      },
      {
        "duration": 267,
        "start_time": "2022-03-29T17:23:58.170Z"
      },
      {
        "duration": 29,
        "start_time": "2022-03-29T17:24:06.380Z"
      },
      {
        "duration": 27,
        "start_time": "2022-03-29T17:24:15.360Z"
      },
      {
        "duration": 20,
        "start_time": "2022-03-29T17:24:19.837Z"
      },
      {
        "duration": 69,
        "start_time": "2022-03-29T17:24:53.461Z"
      },
      {
        "duration": 15,
        "start_time": "2022-03-29T17:24:53.531Z"
      },
      {
        "duration": 4,
        "start_time": "2022-03-29T17:24:53.548Z"
      },
      {
        "duration": 22,
        "start_time": "2022-03-29T17:24:53.566Z"
      },
      {
        "duration": 13,
        "start_time": "2022-03-29T17:24:53.590Z"
      },
      {
        "duration": 11,
        "start_time": "2022-03-29T17:24:53.605Z"
      },
      {
        "duration": 5,
        "start_time": "2022-03-29T17:24:53.617Z"
      },
      {
        "duration": 55,
        "start_time": "2022-03-29T17:24:53.624Z"
      },
      {
        "duration": 9,
        "start_time": "2022-03-29T17:24:53.683Z"
      },
      {
        "duration": 21,
        "start_time": "2022-03-29T17:24:53.696Z"
      },
      {
        "duration": 6,
        "start_time": "2022-03-29T17:24:53.719Z"
      },
      {
        "duration": 81,
        "start_time": "2022-03-29T17:24:53.727Z"
      },
      {
        "duration": 6,
        "start_time": "2022-03-29T17:24:53.810Z"
      },
      {
        "duration": 15,
        "start_time": "2022-03-29T17:24:53.817Z"
      },
      {
        "duration": 6,
        "start_time": "2022-03-29T17:24:53.835Z"
      },
      {
        "duration": 29,
        "start_time": "2022-03-29T17:24:53.843Z"
      },
      {
        "duration": 8,
        "start_time": "2022-03-29T17:24:53.876Z"
      },
      {
        "duration": 7,
        "start_time": "2022-03-29T17:24:53.886Z"
      },
      {
        "duration": 20,
        "start_time": "2022-03-29T17:24:53.895Z"
      },
      {
        "duration": 7,
        "start_time": "2022-03-29T17:24:53.917Z"
      },
      {
        "duration": 10,
        "start_time": "2022-03-29T17:24:53.926Z"
      },
      {
        "duration": 17,
        "start_time": "2022-03-29T17:24:53.970Z"
      },
      {
        "duration": 6,
        "start_time": "2022-03-29T17:24:53.990Z"
      },
      {
        "duration": 7,
        "start_time": "2022-03-29T17:24:53.998Z"
      },
      {
        "duration": 130,
        "start_time": "2022-03-29T17:24:54.007Z"
      },
      {
        "duration": 12,
        "start_time": "2022-03-29T17:24:54.139Z"
      },
      {
        "duration": 27,
        "start_time": "2022-03-29T17:24:54.163Z"
      },
      {
        "duration": 10,
        "start_time": "2022-03-29T17:24:54.193Z"
      },
      {
        "duration": 40,
        "start_time": "2022-03-29T17:24:54.205Z"
      },
      {
        "duration": 433,
        "start_time": "2022-03-29T17:24:54.247Z"
      },
      {
        "duration": 72,
        "start_time": "2022-03-29T17:25:41.632Z"
      },
      {
        "duration": 15,
        "start_time": "2022-03-29T17:25:41.706Z"
      },
      {
        "duration": 5,
        "start_time": "2022-03-29T17:25:41.722Z"
      },
      {
        "duration": 12,
        "start_time": "2022-03-29T17:25:41.728Z"
      },
      {
        "duration": 14,
        "start_time": "2022-03-29T17:25:41.773Z"
      },
      {
        "duration": 12,
        "start_time": "2022-03-29T17:25:41.788Z"
      },
      {
        "duration": 5,
        "start_time": "2022-03-29T17:25:41.801Z"
      },
      {
        "duration": 15,
        "start_time": "2022-03-29T17:25:41.807Z"
      },
      {
        "duration": 6,
        "start_time": "2022-03-29T17:25:41.823Z"
      },
      {
        "duration": 51,
        "start_time": "2022-03-29T17:25:41.832Z"
      },
      {
        "duration": 6,
        "start_time": "2022-03-29T17:25:41.886Z"
      },
      {
        "duration": 52,
        "start_time": "2022-03-29T17:25:41.894Z"
      },
      {
        "duration": 7,
        "start_time": "2022-03-29T17:25:41.963Z"
      },
      {
        "duration": 18,
        "start_time": "2022-03-29T17:25:41.972Z"
      },
      {
        "duration": 7,
        "start_time": "2022-03-29T17:25:41.992Z"
      },
      {
        "duration": 15,
        "start_time": "2022-03-29T17:25:42.001Z"
      },
      {
        "duration": 9,
        "start_time": "2022-03-29T17:25:42.018Z"
      },
      {
        "duration": 49,
        "start_time": "2022-03-29T17:25:42.029Z"
      },
      {
        "duration": 22,
        "start_time": "2022-03-29T17:25:42.079Z"
      },
      {
        "duration": 6,
        "start_time": "2022-03-29T17:25:42.103Z"
      },
      {
        "duration": 7,
        "start_time": "2022-03-29T17:25:42.111Z"
      },
      {
        "duration": 11,
        "start_time": "2022-03-29T17:25:42.120Z"
      },
      {
        "duration": 6,
        "start_time": "2022-03-29T17:25:42.132Z"
      },
      {
        "duration": 9,
        "start_time": "2022-03-29T17:25:42.173Z"
      },
      {
        "duration": 47,
        "start_time": "2022-03-29T17:25:42.184Z"
      },
      {
        "duration": 10,
        "start_time": "2022-03-29T17:25:42.233Z"
      },
      {
        "duration": 34,
        "start_time": "2022-03-29T17:25:42.244Z"
      },
      {
        "duration": 10,
        "start_time": "2022-03-29T17:25:42.282Z"
      },
      {
        "duration": 27,
        "start_time": "2022-03-29T17:25:42.294Z"
      },
      {
        "duration": 293,
        "start_time": "2022-03-29T17:25:42.322Z"
      },
      {
        "duration": 17,
        "start_time": "2022-03-29T17:25:50.151Z"
      },
      {
        "duration": 25,
        "start_time": "2022-03-29T17:25:54.996Z"
      },
      {
        "duration": 22,
        "start_time": "2022-03-29T17:26:00.813Z"
      },
      {
        "duration": 11,
        "start_time": "2022-03-29T17:26:11.945Z"
      },
      {
        "duration": 21,
        "start_time": "2022-03-29T17:26:17.112Z"
      },
      {
        "duration": 666,
        "start_time": "2022-03-29T18:24:43.451Z"
      },
      {
        "duration": 24,
        "start_time": "2022-03-29T18:24:44.120Z"
      },
      {
        "duration": 6,
        "start_time": "2022-03-29T18:24:44.146Z"
      },
      {
        "duration": 37,
        "start_time": "2022-03-29T18:24:44.155Z"
      },
      {
        "duration": 31,
        "start_time": "2022-03-29T18:24:44.195Z"
      },
      {
        "duration": 18,
        "start_time": "2022-03-29T18:24:44.229Z"
      },
      {
        "duration": 8,
        "start_time": "2022-03-29T18:24:44.297Z"
      },
      {
        "duration": 20,
        "start_time": "2022-03-29T18:24:44.308Z"
      },
      {
        "duration": 11,
        "start_time": "2022-03-29T18:24:44.332Z"
      },
      {
        "duration": 63,
        "start_time": "2022-03-29T18:24:44.347Z"
      },
      {
        "duration": 11,
        "start_time": "2022-03-29T18:24:44.412Z"
      },
      {
        "duration": 99,
        "start_time": "2022-03-29T18:24:44.426Z"
      },
      {
        "duration": 9,
        "start_time": "2022-03-29T18:24:44.528Z"
      },
      {
        "duration": 17,
        "start_time": "2022-03-29T18:24:44.540Z"
      },
      {
        "duration": 33,
        "start_time": "2022-03-29T18:24:44.559Z"
      },
      {
        "duration": 21,
        "start_time": "2022-03-29T18:24:44.595Z"
      },
      {
        "duration": 14,
        "start_time": "2022-03-29T18:24:44.618Z"
      },
      {
        "duration": 52,
        "start_time": "2022-03-29T18:24:44.635Z"
      },
      {
        "duration": 30,
        "start_time": "2022-03-29T18:24:44.690Z"
      },
      {
        "duration": 12,
        "start_time": "2022-03-29T18:24:44.723Z"
      },
      {
        "duration": 10,
        "start_time": "2022-03-29T18:24:44.738Z"
      },
      {
        "duration": 16,
        "start_time": "2022-03-29T18:24:44.785Z"
      },
      {
        "duration": 9,
        "start_time": "2022-03-29T18:24:44.804Z"
      },
      {
        "duration": 13,
        "start_time": "2022-03-29T18:24:44.815Z"
      },
      {
        "duration": 122,
        "start_time": "2022-03-29T18:24:44.831Z"
      },
      {
        "duration": 36,
        "start_time": "2022-03-29T18:24:44.956Z"
      },
      {
        "duration": 33,
        "start_time": "2022-03-29T18:24:44.995Z"
      },
      {
        "duration": 21,
        "start_time": "2022-03-29T18:24:45.034Z"
      },
      {
        "duration": 72,
        "start_time": "2022-03-29T18:24:45.057Z"
      },
      {
        "duration": 546,
        "start_time": "2022-03-29T18:24:45.132Z"
      },
      {
        "duration": 280,
        "start_time": "2022-03-29T18:24:45.680Z"
      },
      {
        "duration": 22,
        "start_time": "2022-03-29T18:25:28.863Z"
      },
      {
        "duration": 37,
        "start_time": "2022-03-29T18:25:39.963Z"
      },
      {
        "duration": 14,
        "start_time": "2022-03-29T18:25:44.495Z"
      },
      {
        "duration": 41,
        "start_time": "2022-03-29T18:25:49.012Z"
      },
      {
        "duration": 458,
        "start_time": "2022-03-29T18:25:54.730Z"
      },
      {
        "duration": 146,
        "start_time": "2022-03-29T18:34:06.449Z"
      },
      {
        "duration": 466,
        "start_time": "2022-03-29T18:34:17.293Z"
      },
      {
        "duration": 763,
        "start_time": "2022-03-29T18:34:59.601Z"
      },
      {
        "duration": 91,
        "start_time": "2022-03-29T18:35:17.452Z"
      },
      {
        "duration": 45,
        "start_time": "2022-03-29T18:35:17.545Z"
      },
      {
        "duration": 21,
        "start_time": "2022-03-29T18:35:17.592Z"
      },
      {
        "duration": 18,
        "start_time": "2022-03-29T18:35:17.615Z"
      },
      {
        "duration": 45,
        "start_time": "2022-03-29T18:35:17.636Z"
      },
      {
        "duration": 23,
        "start_time": "2022-03-29T18:35:17.684Z"
      },
      {
        "duration": 27,
        "start_time": "2022-03-29T18:35:17.709Z"
      },
      {
        "duration": 22,
        "start_time": "2022-03-29T18:35:17.739Z"
      },
      {
        "duration": 12,
        "start_time": "2022-03-29T18:35:17.764Z"
      },
      {
        "duration": 30,
        "start_time": "2022-03-29T18:35:17.786Z"
      },
      {
        "duration": 10,
        "start_time": "2022-03-29T18:35:17.818Z"
      },
      {
        "duration": 82,
        "start_time": "2022-03-29T18:35:17.831Z"
      },
      {
        "duration": 7,
        "start_time": "2022-03-29T18:35:17.915Z"
      },
      {
        "duration": 40,
        "start_time": "2022-03-29T18:35:17.925Z"
      },
      {
        "duration": 10,
        "start_time": "2022-03-29T18:35:17.967Z"
      },
      {
        "duration": 31,
        "start_time": "2022-03-29T18:35:17.979Z"
      },
      {
        "duration": 18,
        "start_time": "2022-03-29T18:35:18.012Z"
      },
      {
        "duration": 18,
        "start_time": "2022-03-29T18:35:18.032Z"
      },
      {
        "duration": 38,
        "start_time": "2022-03-29T18:35:18.053Z"
      },
      {
        "duration": 10,
        "start_time": "2022-03-29T18:35:18.093Z"
      },
      {
        "duration": 26,
        "start_time": "2022-03-29T18:35:18.105Z"
      },
      {
        "duration": 24,
        "start_time": "2022-03-29T18:35:18.133Z"
      },
      {
        "duration": 7,
        "start_time": "2022-03-29T18:35:18.160Z"
      },
      {
        "duration": 13,
        "start_time": "2022-03-29T18:35:18.184Z"
      },
      {
        "duration": 93,
        "start_time": "2022-03-29T18:35:18.199Z"
      },
      {
        "duration": 15,
        "start_time": "2022-03-29T18:35:18.294Z"
      },
      {
        "duration": 53,
        "start_time": "2022-03-29T18:35:18.311Z"
      },
      {
        "duration": 29,
        "start_time": "2022-03-29T18:35:18.369Z"
      },
      {
        "duration": 47,
        "start_time": "2022-03-29T18:35:18.401Z"
      },
      {
        "duration": 475,
        "start_time": "2022-03-29T18:35:18.450Z"
      },
      {
        "duration": 458,
        "start_time": "2022-03-29T18:35:18.927Z"
      },
      {
        "duration": 46,
        "start_time": "2022-03-30T06:58:06.796Z"
      },
      {
        "duration": 528,
        "start_time": "2022-03-30T06:58:13.026Z"
      },
      {
        "duration": 19,
        "start_time": "2022-03-30T06:58:13.556Z"
      },
      {
        "duration": 27,
        "start_time": "2022-03-30T06:58:13.577Z"
      },
      {
        "duration": 51,
        "start_time": "2022-03-30T06:58:13.606Z"
      },
      {
        "duration": 40,
        "start_time": "2022-03-30T06:58:13.659Z"
      },
      {
        "duration": 25,
        "start_time": "2022-03-30T06:58:13.700Z"
      },
      {
        "duration": 32,
        "start_time": "2022-03-30T06:58:13.726Z"
      },
      {
        "duration": 29,
        "start_time": "2022-03-30T06:58:13.760Z"
      },
      {
        "duration": 30,
        "start_time": "2022-03-30T06:58:13.791Z"
      },
      {
        "duration": 31,
        "start_time": "2022-03-30T06:58:13.822Z"
      },
      {
        "duration": 30,
        "start_time": "2022-03-30T06:58:13.855Z"
      },
      {
        "duration": 49,
        "start_time": "2022-03-30T06:58:13.887Z"
      },
      {
        "duration": 25,
        "start_time": "2022-03-30T06:58:13.938Z"
      },
      {
        "duration": 18,
        "start_time": "2022-03-30T06:58:13.966Z"
      },
      {
        "duration": 24,
        "start_time": "2022-03-30T06:58:13.986Z"
      },
      {
        "duration": 48,
        "start_time": "2022-03-30T06:58:14.011Z"
      },
      {
        "duration": 27,
        "start_time": "2022-03-30T06:58:14.061Z"
      },
      {
        "duration": 31,
        "start_time": "2022-03-30T06:58:14.089Z"
      },
      {
        "duration": 39,
        "start_time": "2022-03-30T06:58:14.121Z"
      },
      {
        "duration": 41,
        "start_time": "2022-03-30T06:58:14.162Z"
      },
      {
        "duration": 39,
        "start_time": "2022-03-30T06:58:14.204Z"
      },
      {
        "duration": 41,
        "start_time": "2022-03-30T06:58:14.244Z"
      },
      {
        "duration": 37,
        "start_time": "2022-03-30T06:58:14.286Z"
      },
      {
        "duration": 27,
        "start_time": "2022-03-30T06:58:14.325Z"
      },
      {
        "duration": 63,
        "start_time": "2022-03-30T06:58:14.353Z"
      },
      {
        "duration": 32,
        "start_time": "2022-03-30T06:58:14.418Z"
      },
      {
        "duration": 30,
        "start_time": "2022-03-30T06:58:14.451Z"
      },
      {
        "duration": 39,
        "start_time": "2022-03-30T06:58:14.482Z"
      },
      {
        "duration": 62,
        "start_time": "2022-03-30T06:58:14.522Z"
      },
      {
        "duration": 260,
        "start_time": "2022-03-30T06:58:14.585Z"
      },
      {
        "duration": 258,
        "start_time": "2022-03-30T06:58:14.846Z"
      },
      {
        "duration": 65,
        "start_time": "2022-03-30T06:59:24.552Z"
      },
      {
        "duration": 12,
        "start_time": "2022-03-30T06:59:24.619Z"
      },
      {
        "duration": 3,
        "start_time": "2022-03-30T06:59:24.633Z"
      },
      {
        "duration": 10,
        "start_time": "2022-03-30T06:59:24.638Z"
      },
      {
        "duration": 36,
        "start_time": "2022-03-30T06:59:24.649Z"
      },
      {
        "duration": 10,
        "start_time": "2022-03-30T06:59:24.687Z"
      },
      {
        "duration": 4,
        "start_time": "2022-03-30T06:59:24.698Z"
      },
      {
        "duration": 13,
        "start_time": "2022-03-30T06:59:24.703Z"
      },
      {
        "duration": 6,
        "start_time": "2022-03-30T06:59:24.718Z"
      },
      {
        "duration": 13,
        "start_time": "2022-03-30T06:59:24.726Z"
      },
      {
        "duration": 5,
        "start_time": "2022-03-30T06:59:24.740Z"
      },
      {
        "duration": 26,
        "start_time": "2022-03-30T06:59:24.781Z"
      },
      {
        "duration": 4,
        "start_time": "2022-03-30T06:59:24.809Z"
      },
      {
        "duration": 11,
        "start_time": "2022-03-30T06:59:24.814Z"
      },
      {
        "duration": 4,
        "start_time": "2022-03-30T06:59:24.826Z"
      },
      {
        "duration": 8,
        "start_time": "2022-03-30T06:59:24.832Z"
      },
      {
        "duration": 6,
        "start_time": "2022-03-30T06:59:24.841Z"
      },
      {
        "duration": 36,
        "start_time": "2022-03-30T06:59:24.848Z"
      },
      {
        "duration": 18,
        "start_time": "2022-03-30T06:59:24.885Z"
      },
      {
        "duration": 6,
        "start_time": "2022-03-30T06:59:24.904Z"
      },
      {
        "duration": 7,
        "start_time": "2022-03-30T06:59:24.912Z"
      },
      {
        "duration": 9,
        "start_time": "2022-03-30T06:59:24.921Z"
      },
      {
        "duration": 10,
        "start_time": "2022-03-30T06:59:24.932Z"
      },
      {
        "duration": 13,
        "start_time": "2022-03-30T06:59:24.943Z"
      },
      {
        "duration": 67,
        "start_time": "2022-03-30T06:59:24.958Z"
      },
      {
        "duration": 9,
        "start_time": "2022-03-30T06:59:25.027Z"
      },
      {
        "duration": 15,
        "start_time": "2022-03-30T06:59:25.038Z"
      },
      {
        "duration": 10,
        "start_time": "2022-03-30T06:59:25.081Z"
      },
      {
        "duration": 16,
        "start_time": "2022-03-30T06:59:25.093Z"
      },
      {
        "duration": 256,
        "start_time": "2022-03-30T06:59:25.111Z"
      },
      {
        "duration": 243,
        "start_time": "2022-03-30T06:59:25.368Z"
      },
      {
        "duration": 30,
        "start_time": "2022-03-30T06:59:39.319Z"
      },
      {
        "duration": 65,
        "start_time": "2022-03-30T07:00:19.483Z"
      },
      {
        "duration": 13,
        "start_time": "2022-03-30T07:00:19.549Z"
      },
      {
        "duration": 4,
        "start_time": "2022-03-30T07:00:19.563Z"
      },
      {
        "duration": 9,
        "start_time": "2022-03-30T07:00:19.581Z"
      },
      {
        "duration": 13,
        "start_time": "2022-03-30T07:00:19.592Z"
      },
      {
        "duration": 11,
        "start_time": "2022-03-30T07:00:19.606Z"
      },
      {
        "duration": 5,
        "start_time": "2022-03-30T07:00:19.618Z"
      },
      {
        "duration": 13,
        "start_time": "2022-03-30T07:00:19.624Z"
      },
      {
        "duration": 7,
        "start_time": "2022-03-30T07:00:19.638Z"
      },
      {
        "duration": 14,
        "start_time": "2022-03-30T07:00:19.682Z"
      },
      {
        "duration": 5,
        "start_time": "2022-03-30T07:00:19.697Z"
      },
      {
        "duration": 27,
        "start_time": "2022-03-30T07:00:19.703Z"
      },
      {
        "duration": 5,
        "start_time": "2022-03-30T07:00:19.731Z"
      },
      {
        "duration": 10,
        "start_time": "2022-03-30T07:00:19.737Z"
      },
      {
        "duration": 34,
        "start_time": "2022-03-30T07:00:19.748Z"
      },
      {
        "duration": 13,
        "start_time": "2022-03-30T07:00:19.783Z"
      },
      {
        "duration": 6,
        "start_time": "2022-03-30T07:00:19.797Z"
      },
      {
        "duration": 6,
        "start_time": "2022-03-30T07:00:19.804Z"
      },
      {
        "duration": 46,
        "start_time": "2022-03-30T07:00:19.811Z"
      },
      {
        "duration": 27,
        "start_time": "2022-03-30T07:00:19.859Z"
      },
      {
        "duration": 10,
        "start_time": "2022-03-30T07:00:19.888Z"
      },
      {
        "duration": 11,
        "start_time": "2022-03-30T07:00:19.900Z"
      },
      {
        "duration": 4,
        "start_time": "2022-03-30T07:00:19.912Z"
      },
      {
        "duration": 7,
        "start_time": "2022-03-30T07:00:19.918Z"
      },
      {
        "duration": 65,
        "start_time": "2022-03-30T07:00:19.927Z"
      },
      {
        "duration": 10,
        "start_time": "2022-03-30T07:00:19.994Z"
      },
      {
        "duration": 17,
        "start_time": "2022-03-30T07:00:20.006Z"
      },
      {
        "duration": 8,
        "start_time": "2022-03-30T07:00:20.026Z"
      },
      {
        "duration": 45,
        "start_time": "2022-03-30T07:00:20.036Z"
      },
      {
        "duration": 253,
        "start_time": "2022-03-30T07:00:20.083Z"
      },
      {
        "duration": 253,
        "start_time": "2022-03-30T07:00:20.338Z"
      },
      {
        "duration": 30,
        "start_time": "2022-03-30T07:00:29.514Z"
      },
      {
        "duration": 26,
        "start_time": "2022-03-30T07:01:13.319Z"
      },
      {
        "duration": 55,
        "start_time": "2022-03-30T07:02:38.125Z"
      },
      {
        "duration": 31,
        "start_time": "2022-03-30T07:03:35.212Z"
      },
      {
        "duration": 38,
        "start_time": "2022-03-30T07:04:05.760Z"
      },
      {
        "duration": 29,
        "start_time": "2022-03-30T07:04:39.028Z"
      },
      {
        "duration": 27,
        "start_time": "2022-03-30T07:05:18.174Z"
      },
      {
        "duration": 29,
        "start_time": "2022-03-30T07:05:30.107Z"
      },
      {
        "duration": 18,
        "start_time": "2022-03-30T07:08:50.234Z"
      },
      {
        "duration": 48,
        "start_time": "2022-03-30T07:11:50.582Z"
      },
      {
        "duration": 67,
        "start_time": "2022-03-30T07:56:21.767Z"
      },
      {
        "duration": 12,
        "start_time": "2022-03-30T07:56:21.836Z"
      },
      {
        "duration": 3,
        "start_time": "2022-03-30T07:56:21.850Z"
      },
      {
        "duration": 31,
        "start_time": "2022-03-30T07:56:21.855Z"
      },
      {
        "duration": 12,
        "start_time": "2022-03-30T07:56:21.888Z"
      },
      {
        "duration": 11,
        "start_time": "2022-03-30T07:56:21.901Z"
      },
      {
        "duration": 5,
        "start_time": "2022-03-30T07:56:21.913Z"
      },
      {
        "duration": 13,
        "start_time": "2022-03-30T07:56:21.919Z"
      },
      {
        "duration": 7,
        "start_time": "2022-03-30T07:56:21.933Z"
      },
      {
        "duration": 50,
        "start_time": "2022-03-30T07:56:21.942Z"
      },
      {
        "duration": 4,
        "start_time": "2022-03-30T07:56:21.994Z"
      },
      {
        "duration": 18,
        "start_time": "2022-03-30T07:56:22.000Z"
      },
      {
        "duration": 26,
        "start_time": "2022-03-30T07:56:22.019Z"
      },
      {
        "duration": 34,
        "start_time": "2022-03-30T07:56:22.047Z"
      },
      {
        "duration": 9,
        "start_time": "2022-03-30T07:56:22.083Z"
      },
      {
        "duration": 5,
        "start_time": "2022-03-30T07:56:22.093Z"
      },
      {
        "duration": 10,
        "start_time": "2022-03-30T07:56:22.099Z"
      },
      {
        "duration": 6,
        "start_time": "2022-03-30T07:56:22.110Z"
      },
      {
        "duration": 6,
        "start_time": "2022-03-30T07:56:22.117Z"
      },
      {
        "duration": 17,
        "start_time": "2022-03-30T07:56:22.125Z"
      },
      {
        "duration": 6,
        "start_time": "2022-03-30T07:56:22.180Z"
      },
      {
        "duration": 9,
        "start_time": "2022-03-30T07:56:22.188Z"
      },
      {
        "duration": 11,
        "start_time": "2022-03-30T07:56:22.198Z"
      },
      {
        "duration": 3,
        "start_time": "2022-03-30T07:56:22.211Z"
      },
      {
        "duration": 9,
        "start_time": "2022-03-30T07:56:22.217Z"
      },
      {
        "duration": 21,
        "start_time": "2022-03-30T07:56:22.227Z"
      },
      {
        "duration": 38,
        "start_time": "2022-03-30T07:56:22.249Z"
      },
      {
        "duration": 11,
        "start_time": "2022-03-30T07:56:22.289Z"
      },
      {
        "duration": 21,
        "start_time": "2022-03-30T07:56:22.301Z"
      },
      {
        "duration": 426,
        "start_time": "2022-03-30T07:56:22.324Z"
      },
      {
        "duration": 369,
        "start_time": "2022-03-30T07:56:22.751Z"
      },
      {
        "duration": 1165,
        "start_time": "2022-03-30T08:00:42.792Z"
      },
      {
        "duration": 1039,
        "start_time": "2022-03-30T08:01:26.857Z"
      },
      {
        "duration": 1538,
        "start_time": "2022-03-30T08:01:55.725Z"
      },
      {
        "duration": 371,
        "start_time": "2022-03-30T08:02:24.541Z"
      },
      {
        "duration": 8,
        "start_time": "2022-03-30T08:19:30.725Z"
      },
      {
        "duration": 14,
        "start_time": "2022-03-30T08:19:39.550Z"
      },
      {
        "duration": 25,
        "start_time": "2022-03-30T08:25:30.148Z"
      },
      {
        "duration": 17,
        "start_time": "2022-03-30T08:28:14.251Z"
      },
      {
        "duration": 659,
        "start_time": "2022-03-30T08:35:18.450Z"
      },
      {
        "duration": 22,
        "start_time": "2022-03-30T08:35:19.112Z"
      },
      {
        "duration": 6,
        "start_time": "2022-03-30T08:35:19.137Z"
      },
      {
        "duration": 43,
        "start_time": "2022-03-30T08:35:19.146Z"
      },
      {
        "duration": 22,
        "start_time": "2022-03-30T08:35:19.192Z"
      },
      {
        "duration": 17,
        "start_time": "2022-03-30T08:35:19.217Z"
      },
      {
        "duration": 50,
        "start_time": "2022-03-30T08:35:19.237Z"
      },
      {
        "duration": 23,
        "start_time": "2022-03-30T08:35:19.290Z"
      },
      {
        "duration": 13,
        "start_time": "2022-03-30T08:35:19.316Z"
      },
      {
        "duration": 63,
        "start_time": "2022-03-30T08:35:19.335Z"
      },
      {
        "duration": 8,
        "start_time": "2022-03-30T08:35:19.401Z"
      },
      {
        "duration": 31,
        "start_time": "2022-03-30T08:35:19.411Z"
      },
      {
        "duration": 86,
        "start_time": "2022-03-30T08:35:19.445Z"
      },
      {
        "duration": 7,
        "start_time": "2022-03-30T08:35:19.534Z"
      },
      {
        "duration": 45,
        "start_time": "2022-03-30T08:35:19.543Z"
      },
      {
        "duration": 8,
        "start_time": "2022-03-30T08:35:19.590Z"
      },
      {
        "duration": 24,
        "start_time": "2022-03-30T08:35:19.600Z"
      },
      {
        "duration": 9,
        "start_time": "2022-03-30T08:35:19.627Z"
      },
      {
        "duration": 15,
        "start_time": "2022-03-30T08:35:19.638Z"
      },
      {
        "duration": 23,
        "start_time": "2022-03-30T08:35:19.684Z"
      },
      {
        "duration": 13,
        "start_time": "2022-03-30T08:35:19.709Z"
      },
      {
        "duration": 18,
        "start_time": "2022-03-30T08:35:19.724Z"
      },
      {
        "duration": 46,
        "start_time": "2022-03-30T08:35:19.744Z"
      },
      {
        "duration": 8,
        "start_time": "2022-03-30T08:35:19.792Z"
      },
      {
        "duration": 27,
        "start_time": "2022-03-30T08:35:19.802Z"
      },
      {
        "duration": 30,
        "start_time": "2022-03-30T08:35:19.832Z"
      },
      {
        "duration": 41,
        "start_time": "2022-03-30T08:35:19.864Z"
      },
      {
        "duration": 15,
        "start_time": "2022-03-30T08:35:19.910Z"
      },
      {
        "duration": 38,
        "start_time": "2022-03-30T08:35:19.927Z"
      },
      {
        "duration": 483,
        "start_time": "2022-03-30T08:35:19.984Z"
      },
      {
        "duration": 431,
        "start_time": "2022-03-30T08:35:20.469Z"
      },
      {
        "duration": 127,
        "start_time": "2022-03-30T08:35:20.902Z"
      },
      {
        "duration": 29,
        "start_time": "2022-03-30T08:35:30.836Z"
      },
      {
        "duration": 462,
        "start_time": "2022-03-30T08:36:45.666Z"
      },
      {
        "duration": 29,
        "start_time": "2022-03-30T08:43:04.691Z"
      },
      {
        "duration": 55,
        "start_time": "2022-03-30T08:49:06.963Z"
      },
      {
        "duration": 9,
        "start_time": "2022-03-30T08:49:49.637Z"
      },
      {
        "duration": 12,
        "start_time": "2022-03-30T08:50:04.021Z"
      },
      {
        "duration": 10,
        "start_time": "2022-03-30T08:51:07.076Z"
      },
      {
        "duration": 132,
        "start_time": "2022-03-30T08:51:19.176Z"
      },
      {
        "duration": 29,
        "start_time": "2022-03-30T08:51:19.312Z"
      },
      {
        "duration": 53,
        "start_time": "2022-03-30T08:51:19.344Z"
      },
      {
        "duration": 14,
        "start_time": "2022-03-30T08:51:19.402Z"
      },
      {
        "duration": 23,
        "start_time": "2022-03-30T08:51:19.418Z"
      },
      {
        "duration": 47,
        "start_time": "2022-03-30T08:51:19.443Z"
      },
      {
        "duration": 10,
        "start_time": "2022-03-30T08:51:19.492Z"
      },
      {
        "duration": 29,
        "start_time": "2022-03-30T08:51:19.505Z"
      },
      {
        "duration": 20,
        "start_time": "2022-03-30T08:51:19.537Z"
      },
      {
        "duration": 32,
        "start_time": "2022-03-30T08:51:19.584Z"
      },
      {
        "duration": 9,
        "start_time": "2022-03-30T08:51:19.619Z"
      },
      {
        "duration": 77,
        "start_time": "2022-03-30T08:51:19.630Z"
      },
      {
        "duration": 75,
        "start_time": "2022-03-30T08:51:19.709Z"
      },
      {
        "duration": 11,
        "start_time": "2022-03-30T08:51:19.787Z"
      },
      {
        "duration": 31,
        "start_time": "2022-03-30T08:51:19.801Z"
      },
      {
        "duration": 10,
        "start_time": "2022-03-30T08:51:19.835Z"
      },
      {
        "duration": 53,
        "start_time": "2022-03-30T08:51:19.847Z"
      },
      {
        "duration": 11,
        "start_time": "2022-03-30T08:51:19.903Z"
      },
      {
        "duration": 21,
        "start_time": "2022-03-30T08:51:19.916Z"
      },
      {
        "duration": 49,
        "start_time": "2022-03-30T08:51:19.940Z"
      },
      {
        "duration": 16,
        "start_time": "2022-03-30T08:51:19.993Z"
      },
      {
        "duration": 20,
        "start_time": "2022-03-30T08:51:20.012Z"
      },
      {
        "duration": 34,
        "start_time": "2022-03-30T08:51:20.035Z"
      },
      {
        "duration": 33,
        "start_time": "2022-03-30T08:51:20.072Z"
      },
      {
        "duration": 22,
        "start_time": "2022-03-30T08:51:20.108Z"
      },
      {
        "duration": 21,
        "start_time": "2022-03-30T08:51:20.133Z"
      },
      {
        "duration": 42,
        "start_time": "2022-03-30T08:51:20.156Z"
      },
      {
        "duration": 27,
        "start_time": "2022-03-30T08:51:20.204Z"
      },
      {
        "duration": 51,
        "start_time": "2022-03-30T08:51:20.233Z"
      },
      {
        "duration": 532,
        "start_time": "2022-03-30T08:51:20.287Z"
      },
      {
        "duration": 665,
        "start_time": "2022-03-30T08:51:20.822Z"
      },
      {
        "duration": 13,
        "start_time": "2022-03-30T08:51:21.490Z"
      },
      {
        "duration": 21,
        "start_time": "2022-03-30T08:56:50.435Z"
      },
      {
        "duration": 14,
        "start_time": "2022-03-30T08:57:10.039Z"
      },
      {
        "duration": 29,
        "start_time": "2022-03-30T09:01:06.097Z"
      },
      {
        "duration": 19,
        "start_time": "2022-03-30T09:02:40.334Z"
      },
      {
        "duration": 22,
        "start_time": "2022-03-30T09:07:19.471Z"
      },
      {
        "duration": 25,
        "start_time": "2022-03-30T09:08:42.625Z"
      },
      {
        "duration": 22,
        "start_time": "2022-03-30T09:08:51.818Z"
      },
      {
        "duration": 22,
        "start_time": "2022-03-30T09:11:05.165Z"
      },
      {
        "duration": 71,
        "start_time": "2022-03-31T06:49:08.254Z"
      },
      {
        "duration": 606,
        "start_time": "2022-03-31T06:49:14.173Z"
      },
      {
        "duration": 21,
        "start_time": "2022-03-31T06:49:14.782Z"
      },
      {
        "duration": 9,
        "start_time": "2022-03-31T06:49:14.805Z"
      },
      {
        "duration": 14,
        "start_time": "2022-03-31T06:49:14.816Z"
      },
      {
        "duration": 51,
        "start_time": "2022-03-31T06:49:14.832Z"
      },
      {
        "duration": 17,
        "start_time": "2022-03-31T06:49:14.886Z"
      },
      {
        "duration": 7,
        "start_time": "2022-03-31T06:49:14.906Z"
      },
      {
        "duration": 65,
        "start_time": "2022-03-31T06:49:14.916Z"
      },
      {
        "duration": 13,
        "start_time": "2022-03-31T06:49:14.984Z"
      },
      {
        "duration": 24,
        "start_time": "2022-03-31T06:49:15.003Z"
      },
      {
        "duration": 40,
        "start_time": "2022-03-31T06:49:15.030Z"
      },
      {
        "duration": 28,
        "start_time": "2022-03-31T06:49:15.073Z"
      },
      {
        "duration": 79,
        "start_time": "2022-03-31T06:49:15.104Z"
      },
      {
        "duration": 8,
        "start_time": "2022-03-31T06:49:15.185Z"
      },
      {
        "duration": 16,
        "start_time": "2022-03-31T06:49:15.196Z"
      },
      {
        "duration": 9,
        "start_time": "2022-03-31T06:49:15.214Z"
      },
      {
        "duration": 57,
        "start_time": "2022-03-31T06:49:15.226Z"
      },
      {
        "duration": 11,
        "start_time": "2022-03-31T06:49:15.285Z"
      },
      {
        "duration": 24,
        "start_time": "2022-03-31T06:49:15.299Z"
      },
      {
        "duration": 42,
        "start_time": "2022-03-31T06:49:15.325Z"
      },
      {
        "duration": 22,
        "start_time": "2022-03-31T06:49:15.369Z"
      },
      {
        "duration": 20,
        "start_time": "2022-03-31T06:49:15.393Z"
      },
      {
        "duration": 16,
        "start_time": "2022-03-31T06:49:15.416Z"
      },
      {
        "duration": 8,
        "start_time": "2022-03-31T06:49:15.434Z"
      },
      {
        "duration": 11,
        "start_time": "2022-03-31T06:49:15.468Z"
      },
      {
        "duration": 25,
        "start_time": "2022-03-31T06:49:15.481Z"
      },
      {
        "duration": 27,
        "start_time": "2022-03-31T06:49:15.509Z"
      },
      {
        "duration": 15,
        "start_time": "2022-03-31T06:49:15.570Z"
      },
      {
        "duration": 29,
        "start_time": "2022-03-31T06:49:15.588Z"
      },
      {
        "duration": 489,
        "start_time": "2022-03-31T06:49:15.620Z"
      },
      {
        "duration": 436,
        "start_time": "2022-03-31T06:49:16.111Z"
      },
      {
        "duration": 35,
        "start_time": "2022-03-31T06:49:16.550Z"
      },
      {
        "duration": 12,
        "start_time": "2022-03-31T06:49:16.588Z"
      },
      {
        "duration": 23,
        "start_time": "2022-03-31T06:49:16.602Z"
      },
      {
        "duration": 59,
        "start_time": "2022-03-31T06:49:16.627Z"
      },
      {
        "duration": 24,
        "start_time": "2022-03-31T06:49:16.688Z"
      },
      {
        "duration": 19,
        "start_time": "2022-03-31T06:49:44.585Z"
      },
      {
        "duration": 40,
        "start_time": "2022-03-31T06:50:22.010Z"
      },
      {
        "duration": 11,
        "start_time": "2022-03-31T06:50:28.735Z"
      },
      {
        "duration": 20,
        "start_time": "2022-03-31T06:52:57.035Z"
      },
      {
        "duration": 7,
        "start_time": "2022-03-31T06:53:18.309Z"
      },
      {
        "duration": 22,
        "start_time": "2022-03-31T07:04:41.771Z"
      },
      {
        "duration": 9,
        "start_time": "2022-03-31T07:07:02.199Z"
      },
      {
        "duration": 28,
        "start_time": "2022-03-31T07:07:07.121Z"
      },
      {
        "duration": 28,
        "start_time": "2022-03-31T07:11:31.237Z"
      },
      {
        "duration": 10,
        "start_time": "2022-03-31T07:35:43.975Z"
      },
      {
        "duration": 27,
        "start_time": "2022-03-31T07:35:49.337Z"
      },
      {
        "duration": 25,
        "start_time": "2022-03-31T07:43:11.262Z"
      },
      {
        "duration": 2159,
        "start_time": "2022-03-31T09:52:48.906Z"
      },
      {
        "duration": 85,
        "start_time": "2022-03-31T09:53:16.353Z"
      },
      {
        "duration": 35,
        "start_time": "2022-03-31T09:53:16.442Z"
      },
      {
        "duration": 5,
        "start_time": "2022-03-31T09:53:16.481Z"
      },
      {
        "duration": 14,
        "start_time": "2022-03-31T09:53:16.490Z"
      },
      {
        "duration": 61,
        "start_time": "2022-03-31T09:53:16.507Z"
      },
      {
        "duration": 19,
        "start_time": "2022-03-31T09:53:16.571Z"
      },
      {
        "duration": 8,
        "start_time": "2022-03-31T09:53:16.594Z"
      },
      {
        "duration": 65,
        "start_time": "2022-03-31T09:53:16.605Z"
      },
      {
        "duration": 14,
        "start_time": "2022-03-31T09:53:16.672Z"
      },
      {
        "duration": 29,
        "start_time": "2022-03-31T09:53:16.689Z"
      },
      {
        "duration": 48,
        "start_time": "2022-03-31T09:53:16.721Z"
      },
      {
        "duration": 32,
        "start_time": "2022-03-31T09:53:16.772Z"
      },
      {
        "duration": 84,
        "start_time": "2022-03-31T09:53:16.806Z"
      },
      {
        "duration": 8,
        "start_time": "2022-03-31T09:53:16.895Z"
      },
      {
        "duration": 19,
        "start_time": "2022-03-31T09:53:16.906Z"
      },
      {
        "duration": 9,
        "start_time": "2022-03-31T09:53:16.927Z"
      },
      {
        "duration": 42,
        "start_time": "2022-03-31T09:53:16.939Z"
      },
      {
        "duration": 9,
        "start_time": "2022-03-31T09:53:16.983Z"
      },
      {
        "duration": 10,
        "start_time": "2022-03-31T09:53:16.994Z"
      },
      {
        "duration": 21,
        "start_time": "2022-03-31T09:53:17.006Z"
      },
      {
        "duration": 44,
        "start_time": "2022-03-31T09:53:17.029Z"
      },
      {
        "duration": 12,
        "start_time": "2022-03-31T09:53:17.075Z"
      },
      {
        "duration": 20,
        "start_time": "2022-03-31T09:53:17.089Z"
      },
      {
        "duration": 9,
        "start_time": "2022-03-31T09:53:17.112Z"
      },
      {
        "duration": 47,
        "start_time": "2022-03-31T09:53:17.123Z"
      },
      {
        "duration": 14,
        "start_time": "2022-03-31T09:53:17.173Z"
      },
      {
        "duration": 27,
        "start_time": "2022-03-31T09:53:17.189Z"
      },
      {
        "duration": 54,
        "start_time": "2022-03-31T09:53:17.218Z"
      },
      {
        "duration": 27,
        "start_time": "2022-03-31T09:53:17.274Z"
      },
      {
        "duration": 475,
        "start_time": "2022-03-31T09:53:17.303Z"
      },
      {
        "duration": 418,
        "start_time": "2022-03-31T09:53:17.781Z"
      },
      {
        "duration": 21,
        "start_time": "2022-03-31T09:53:18.201Z"
      },
      {
        "duration": 6,
        "start_time": "2022-03-31T09:53:18.224Z"
      },
      {
        "duration": 27,
        "start_time": "2022-03-31T09:53:18.267Z"
      },
      {
        "duration": 26,
        "start_time": "2022-03-31T09:53:18.296Z"
      },
      {
        "duration": 55,
        "start_time": "2022-03-31T09:53:18.324Z"
      },
      {
        "duration": 63,
        "start_time": "2022-03-31T10:20:02.593Z"
      },
      {
        "duration": 106,
        "start_time": "2022-03-31T10:20:35.331Z"
      },
      {
        "duration": 579,
        "start_time": "2022-03-31T10:21:08.178Z"
      },
      {
        "duration": 27,
        "start_time": "2022-03-31T10:21:08.759Z"
      },
      {
        "duration": 13,
        "start_time": "2022-03-31T10:21:08.788Z"
      },
      {
        "duration": 36,
        "start_time": "2022-03-31T10:21:08.804Z"
      },
      {
        "duration": 48,
        "start_time": "2022-03-31T10:21:08.842Z"
      },
      {
        "duration": 25,
        "start_time": "2022-03-31T10:21:08.892Z"
      },
      {
        "duration": 64,
        "start_time": "2022-03-31T10:21:08.919Z"
      },
      {
        "duration": 0,
        "start_time": "2022-03-31T10:21:08.986Z"
      },
      {
        "duration": 0,
        "start_time": "2022-03-31T10:21:08.987Z"
      },
      {
        "duration": 1,
        "start_time": "2022-03-31T10:21:08.988Z"
      },
      {
        "duration": 0,
        "start_time": "2022-03-31T10:21:08.990Z"
      },
      {
        "duration": 0,
        "start_time": "2022-03-31T10:21:08.991Z"
      },
      {
        "duration": 0,
        "start_time": "2022-03-31T10:21:08.992Z"
      },
      {
        "duration": 0,
        "start_time": "2022-03-31T10:21:08.993Z"
      },
      {
        "duration": 0,
        "start_time": "2022-03-31T10:21:08.995Z"
      },
      {
        "duration": 0,
        "start_time": "2022-03-31T10:21:08.996Z"
      },
      {
        "duration": 0,
        "start_time": "2022-03-31T10:21:08.997Z"
      },
      {
        "duration": 0,
        "start_time": "2022-03-31T10:21:08.998Z"
      },
      {
        "duration": 0,
        "start_time": "2022-03-31T10:21:08.999Z"
      },
      {
        "duration": 0,
        "start_time": "2022-03-31T10:21:09.001Z"
      },
      {
        "duration": 0,
        "start_time": "2022-03-31T10:21:09.002Z"
      },
      {
        "duration": 0,
        "start_time": "2022-03-31T10:21:09.003Z"
      },
      {
        "duration": 0,
        "start_time": "2022-03-31T10:21:09.004Z"
      },
      {
        "duration": 0,
        "start_time": "2022-03-31T10:21:09.005Z"
      },
      {
        "duration": 0,
        "start_time": "2022-03-31T10:21:09.006Z"
      },
      {
        "duration": 0,
        "start_time": "2022-03-31T10:21:09.007Z"
      },
      {
        "duration": 0,
        "start_time": "2022-03-31T10:21:09.009Z"
      },
      {
        "duration": 0,
        "start_time": "2022-03-31T10:21:09.010Z"
      },
      {
        "duration": 0,
        "start_time": "2022-03-31T10:21:09.011Z"
      },
      {
        "duration": 0,
        "start_time": "2022-03-31T10:21:09.013Z"
      },
      {
        "duration": 0,
        "start_time": "2022-03-31T10:21:09.014Z"
      },
      {
        "duration": 0,
        "start_time": "2022-03-31T10:21:09.015Z"
      },
      {
        "duration": 0,
        "start_time": "2022-03-31T10:21:09.016Z"
      },
      {
        "duration": 0,
        "start_time": "2022-03-31T10:21:09.017Z"
      },
      {
        "duration": 0,
        "start_time": "2022-03-31T10:21:09.018Z"
      },
      {
        "duration": 0,
        "start_time": "2022-03-31T10:21:09.020Z"
      },
      {
        "duration": 0,
        "start_time": "2022-03-31T10:21:09.021Z"
      },
      {
        "duration": 21,
        "start_time": "2022-03-31T10:21:15.888Z"
      },
      {
        "duration": 22,
        "start_time": "2022-03-31T10:21:51.946Z"
      },
      {
        "duration": 85,
        "start_time": "2022-03-31T12:27:07.869Z"
      },
      {
        "duration": 38,
        "start_time": "2022-03-31T12:27:07.956Z"
      },
      {
        "duration": 6,
        "start_time": "2022-03-31T12:27:07.996Z"
      },
      {
        "duration": 18,
        "start_time": "2022-03-31T12:27:08.004Z"
      },
      {
        "duration": 61,
        "start_time": "2022-03-31T12:27:08.024Z"
      },
      {
        "duration": 21,
        "start_time": "2022-03-31T12:27:08.088Z"
      },
      {
        "duration": 23,
        "start_time": "2022-03-31T12:27:08.112Z"
      },
      {
        "duration": 0,
        "start_time": "2022-03-31T12:27:08.139Z"
      },
      {
        "duration": 0,
        "start_time": "2022-03-31T12:27:08.141Z"
      },
      {
        "duration": 0,
        "start_time": "2022-03-31T12:27:08.142Z"
      },
      {
        "duration": 0,
        "start_time": "2022-03-31T12:27:08.144Z"
      },
      {
        "duration": 0,
        "start_time": "2022-03-31T12:27:08.183Z"
      },
      {
        "duration": 1,
        "start_time": "2022-03-31T12:27:08.184Z"
      },
      {
        "duration": 0,
        "start_time": "2022-03-31T12:27:08.187Z"
      },
      {
        "duration": 0,
        "start_time": "2022-03-31T12:27:08.188Z"
      },
      {
        "duration": 0,
        "start_time": "2022-03-31T12:27:08.190Z"
      },
      {
        "duration": 0,
        "start_time": "2022-03-31T12:27:08.191Z"
      },
      {
        "duration": 0,
        "start_time": "2022-03-31T12:27:08.193Z"
      },
      {
        "duration": 0,
        "start_time": "2022-03-31T12:27:08.195Z"
      },
      {
        "duration": 0,
        "start_time": "2022-03-31T12:27:08.196Z"
      },
      {
        "duration": 0,
        "start_time": "2022-03-31T12:27:08.198Z"
      },
      {
        "duration": 0,
        "start_time": "2022-03-31T12:27:08.200Z"
      },
      {
        "duration": 0,
        "start_time": "2022-03-31T12:27:08.202Z"
      },
      {
        "duration": 0,
        "start_time": "2022-03-31T12:27:08.203Z"
      },
      {
        "duration": 0,
        "start_time": "2022-03-31T12:27:08.205Z"
      },
      {
        "duration": 0,
        "start_time": "2022-03-31T12:27:08.207Z"
      },
      {
        "duration": 0,
        "start_time": "2022-03-31T12:27:08.209Z"
      },
      {
        "duration": 0,
        "start_time": "2022-03-31T12:27:08.211Z"
      },
      {
        "duration": 0,
        "start_time": "2022-03-31T12:27:08.213Z"
      },
      {
        "duration": 0,
        "start_time": "2022-03-31T12:27:08.215Z"
      },
      {
        "duration": 0,
        "start_time": "2022-03-31T12:27:08.216Z"
      },
      {
        "duration": 0,
        "start_time": "2022-03-31T12:27:08.218Z"
      },
      {
        "duration": 0,
        "start_time": "2022-03-31T12:27:08.283Z"
      },
      {
        "duration": 0,
        "start_time": "2022-03-31T12:27:08.284Z"
      },
      {
        "duration": 0,
        "start_time": "2022-03-31T12:27:08.285Z"
      },
      {
        "duration": 0,
        "start_time": "2022-03-31T12:27:08.287Z"
      },
      {
        "duration": 0,
        "start_time": "2022-03-31T12:27:08.288Z"
      },
      {
        "duration": 8,
        "start_time": "2022-03-31T12:29:00.176Z"
      },
      {
        "duration": 23,
        "start_time": "2022-03-31T12:30:01.278Z"
      },
      {
        "duration": 22,
        "start_time": "2022-03-31T12:30:14.916Z"
      },
      {
        "duration": 81,
        "start_time": "2022-03-31T12:30:20.361Z"
      },
      {
        "duration": 21,
        "start_time": "2022-03-31T12:30:20.446Z"
      },
      {
        "duration": 6,
        "start_time": "2022-03-31T12:30:20.483Z"
      },
      {
        "duration": 21,
        "start_time": "2022-03-31T12:30:20.492Z"
      },
      {
        "duration": 34,
        "start_time": "2022-03-31T12:30:20.516Z"
      },
      {
        "duration": 44,
        "start_time": "2022-03-31T12:30:20.552Z"
      },
      {
        "duration": 26,
        "start_time": "2022-03-31T12:30:20.598Z"
      },
      {
        "duration": 17,
        "start_time": "2022-03-31T12:30:20.626Z"
      },
      {
        "duration": 64,
        "start_time": "2022-03-31T12:30:20.645Z"
      },
      {
        "duration": 13,
        "start_time": "2022-03-31T12:30:20.715Z"
      },
      {
        "duration": 36,
        "start_time": "2022-03-31T12:30:20.731Z"
      },
      {
        "duration": 24,
        "start_time": "2022-03-31T12:30:20.769Z"
      },
      {
        "duration": 44,
        "start_time": "2022-03-31T12:30:20.795Z"
      },
      {
        "duration": 52,
        "start_time": "2022-03-31T12:30:20.841Z"
      },
      {
        "duration": 9,
        "start_time": "2022-03-31T12:30:20.896Z"
      },
      {
        "duration": 27,
        "start_time": "2022-03-31T12:30:20.908Z"
      },
      {
        "duration": 17,
        "start_time": "2022-03-31T12:30:20.937Z"
      },
      {
        "duration": 30,
        "start_time": "2022-03-31T12:30:20.956Z"
      },
      {
        "duration": 12,
        "start_time": "2022-03-31T12:30:20.988Z"
      },
      {
        "duration": 26,
        "start_time": "2022-03-31T12:30:21.002Z"
      },
      {
        "duration": 26,
        "start_time": "2022-03-31T12:30:21.030Z"
      },
      {
        "duration": 21,
        "start_time": "2022-03-31T12:30:21.058Z"
      },
      {
        "duration": 32,
        "start_time": "2022-03-31T12:30:21.081Z"
      },
      {
        "duration": 31,
        "start_time": "2022-03-31T12:30:21.115Z"
      },
      {
        "duration": 14,
        "start_time": "2022-03-31T12:30:21.148Z"
      },
      {
        "duration": 42,
        "start_time": "2022-03-31T12:30:21.164Z"
      },
      {
        "duration": 58,
        "start_time": "2022-03-31T12:30:21.208Z"
      },
      {
        "duration": 36,
        "start_time": "2022-03-31T12:30:21.271Z"
      },
      {
        "duration": 35,
        "start_time": "2022-03-31T12:30:21.310Z"
      },
      {
        "duration": 32,
        "start_time": "2022-03-31T12:30:21.348Z"
      },
      {
        "duration": 441,
        "start_time": "2022-03-31T12:30:21.381Z"
      },
      {
        "duration": 383,
        "start_time": "2022-03-31T12:30:21.825Z"
      },
      {
        "duration": 20,
        "start_time": "2022-03-31T12:30:22.210Z"
      },
      {
        "duration": 9,
        "start_time": "2022-03-31T12:30:22.232Z"
      },
      {
        "duration": 54,
        "start_time": "2022-03-31T12:30:22.243Z"
      },
      {
        "duration": 24,
        "start_time": "2022-03-31T12:30:22.299Z"
      },
      {
        "duration": 19,
        "start_time": "2022-03-31T12:30:22.324Z"
      },
      {
        "duration": 1964,
        "start_time": "2022-03-31T12:36:11.957Z"
      },
      {
        "duration": 84,
        "start_time": "2022-03-31T12:36:35.138Z"
      },
      {
        "duration": 24,
        "start_time": "2022-03-31T12:36:35.226Z"
      },
      {
        "duration": 7,
        "start_time": "2022-03-31T12:36:35.282Z"
      },
      {
        "duration": 22,
        "start_time": "2022-03-31T12:36:35.291Z"
      },
      {
        "duration": 21,
        "start_time": "2022-03-31T12:36:35.318Z"
      },
      {
        "duration": 56,
        "start_time": "2022-03-31T12:36:35.342Z"
      },
      {
        "duration": 21,
        "start_time": "2022-03-31T12:36:35.400Z"
      },
      {
        "duration": 18,
        "start_time": "2022-03-31T12:36:35.424Z"
      },
      {
        "duration": 45,
        "start_time": "2022-03-31T12:36:35.444Z"
      },
      {
        "duration": 24,
        "start_time": "2022-03-31T12:36:35.491Z"
      },
      {
        "duration": 11,
        "start_time": "2022-03-31T12:36:35.517Z"
      },
      {
        "duration": 54,
        "start_time": "2022-03-31T12:36:35.530Z"
      },
      {
        "duration": 8,
        "start_time": "2022-03-31T12:36:35.587Z"
      },
      {
        "duration": 29,
        "start_time": "2022-03-31T12:36:35.599Z"
      },
      {
        "duration": 74,
        "start_time": "2022-03-31T12:36:35.631Z"
      },
      {
        "duration": 8,
        "start_time": "2022-03-31T12:36:35.707Z"
      },
      {
        "duration": 18,
        "start_time": "2022-03-31T12:36:35.717Z"
      },
      {
        "duration": 46,
        "start_time": "2022-03-31T12:36:35.738Z"
      },
      {
        "duration": 16,
        "start_time": "2022-03-31T12:36:35.787Z"
      },
      {
        "duration": 10,
        "start_time": "2022-03-31T12:36:35.805Z"
      },
      {
        "duration": 11,
        "start_time": "2022-03-31T12:36:35.817Z"
      },
      {
        "duration": 56,
        "start_time": "2022-03-31T12:36:35.830Z"
      },
      {
        "duration": 9,
        "start_time": "2022-03-31T12:36:35.889Z"
      },
      {
        "duration": 17,
        "start_time": "2022-03-31T12:36:35.900Z"
      },
      {
        "duration": 20,
        "start_time": "2022-03-31T12:36:35.919Z"
      },
      {
        "duration": 41,
        "start_time": "2022-03-31T12:36:35.941Z"
      },
      {
        "duration": 12,
        "start_time": "2022-03-31T12:36:35.985Z"
      },
      {
        "duration": 17,
        "start_time": "2022-03-31T12:36:35.999Z"
      },
      {
        "duration": 30,
        "start_time": "2022-03-31T12:36:36.019Z"
      },
      {
        "duration": 44,
        "start_time": "2022-03-31T12:36:36.052Z"
      },
      {
        "duration": 38,
        "start_time": "2022-03-31T12:36:36.099Z"
      },
      {
        "duration": 430,
        "start_time": "2022-03-31T12:36:36.139Z"
      },
      {
        "duration": 395,
        "start_time": "2022-03-31T12:36:36.572Z"
      },
      {
        "duration": 29,
        "start_time": "2022-03-31T12:36:36.970Z"
      },
      {
        "duration": 8,
        "start_time": "2022-03-31T12:36:37.002Z"
      },
      {
        "duration": 31,
        "start_time": "2022-03-31T12:36:37.012Z"
      },
      {
        "duration": 57,
        "start_time": "2022-03-31T12:36:37.046Z"
      },
      {
        "duration": 24,
        "start_time": "2022-03-31T12:36:37.105Z"
      },
      {
        "duration": 6,
        "start_time": "2022-03-31T12:39:55.397Z"
      },
      {
        "duration": 134,
        "start_time": "2022-03-31T12:40:05.094Z"
      },
      {
        "duration": 59,
        "start_time": "2022-03-31T12:40:05.231Z"
      },
      {
        "duration": 10,
        "start_time": "2022-03-31T12:40:05.293Z"
      },
      {
        "duration": 22,
        "start_time": "2022-03-31T12:40:05.306Z"
      },
      {
        "duration": 62,
        "start_time": "2022-03-31T12:40:05.330Z"
      },
      {
        "duration": 25,
        "start_time": "2022-03-31T12:40:05.398Z"
      },
      {
        "duration": 23,
        "start_time": "2022-03-31T12:40:05.426Z"
      },
      {
        "duration": 56,
        "start_time": "2022-03-31T12:40:05.452Z"
      },
      {
        "duration": 0,
        "start_time": "2022-03-31T12:40:05.558Z"
      },
      {
        "duration": 0,
        "start_time": "2022-03-31T12:40:05.560Z"
      },
      {
        "duration": 0,
        "start_time": "2022-03-31T12:40:05.561Z"
      },
      {
        "duration": 0,
        "start_time": "2022-03-31T12:40:05.582Z"
      },
      {
        "duration": 0,
        "start_time": "2022-03-31T12:40:05.583Z"
      },
      {
        "duration": 0,
        "start_time": "2022-03-31T12:40:05.585Z"
      },
      {
        "duration": 0,
        "start_time": "2022-03-31T12:40:05.589Z"
      },
      {
        "duration": 0,
        "start_time": "2022-03-31T12:40:05.590Z"
      },
      {
        "duration": 0,
        "start_time": "2022-03-31T12:40:05.591Z"
      },
      {
        "duration": 0,
        "start_time": "2022-03-31T12:40:05.592Z"
      },
      {
        "duration": 0,
        "start_time": "2022-03-31T12:40:05.594Z"
      },
      {
        "duration": 0,
        "start_time": "2022-03-31T12:40:05.596Z"
      },
      {
        "duration": 0,
        "start_time": "2022-03-31T12:40:05.597Z"
      },
      {
        "duration": 0,
        "start_time": "2022-03-31T12:40:05.609Z"
      },
      {
        "duration": 0,
        "start_time": "2022-03-31T12:40:05.610Z"
      },
      {
        "duration": 0,
        "start_time": "2022-03-31T12:40:05.611Z"
      },
      {
        "duration": 0,
        "start_time": "2022-03-31T12:40:05.613Z"
      },
      {
        "duration": 0,
        "start_time": "2022-03-31T12:40:05.614Z"
      },
      {
        "duration": 0,
        "start_time": "2022-03-31T12:40:05.616Z"
      },
      {
        "duration": 0,
        "start_time": "2022-03-31T12:40:05.617Z"
      },
      {
        "duration": 0,
        "start_time": "2022-03-31T12:40:05.619Z"
      },
      {
        "duration": 0,
        "start_time": "2022-03-31T12:40:05.621Z"
      },
      {
        "duration": 0,
        "start_time": "2022-03-31T12:40:05.623Z"
      },
      {
        "duration": 0,
        "start_time": "2022-03-31T12:40:05.625Z"
      },
      {
        "duration": 0,
        "start_time": "2022-03-31T12:40:05.627Z"
      },
      {
        "duration": 0,
        "start_time": "2022-03-31T12:40:05.629Z"
      },
      {
        "duration": 0,
        "start_time": "2022-03-31T12:40:05.631Z"
      },
      {
        "duration": 0,
        "start_time": "2022-03-31T12:40:05.633Z"
      },
      {
        "duration": 0,
        "start_time": "2022-03-31T12:40:05.682Z"
      },
      {
        "duration": 0,
        "start_time": "2022-03-31T12:40:05.683Z"
      },
      {
        "duration": 143,
        "start_time": "2022-03-31T12:42:09.524Z"
      },
      {
        "duration": 134,
        "start_time": "2022-03-31T12:42:46.773Z"
      },
      {
        "duration": 20,
        "start_time": "2022-03-31T12:42:52.740Z"
      },
      {
        "duration": 18,
        "start_time": "2022-03-31T12:43:46.317Z"
      },
      {
        "duration": 987,
        "start_time": "2022-03-31T12:43:57.333Z"
      },
      {
        "duration": 1020,
        "start_time": "2022-03-31T12:44:12.250Z"
      },
      {
        "duration": 12,
        "start_time": "2022-03-31T12:44:34.049Z"
      },
      {
        "duration": 12,
        "start_time": "2022-03-31T12:50:14.165Z"
      },
      {
        "duration": 15,
        "start_time": "2022-03-31T12:52:05.136Z"
      },
      {
        "duration": 14,
        "start_time": "2022-03-31T12:52:16.006Z"
      },
      {
        "duration": 92,
        "start_time": "2022-03-31T12:52:19.615Z"
      },
      {
        "duration": 20,
        "start_time": "2022-03-31T12:52:19.709Z"
      },
      {
        "duration": 19,
        "start_time": "2022-03-31T12:52:19.731Z"
      },
      {
        "duration": 46,
        "start_time": "2022-03-31T12:52:19.753Z"
      },
      {
        "duration": 25,
        "start_time": "2022-03-31T12:52:19.802Z"
      },
      {
        "duration": 19,
        "start_time": "2022-03-31T12:52:19.829Z"
      },
      {
        "duration": 44,
        "start_time": "2022-03-31T12:52:19.850Z"
      },
      {
        "duration": 0,
        "start_time": "2022-03-31T12:52:19.898Z"
      },
      {
        "duration": 0,
        "start_time": "2022-03-31T12:52:19.900Z"
      },
      {
        "duration": 0,
        "start_time": "2022-03-31T12:52:19.901Z"
      },
      {
        "duration": 0,
        "start_time": "2022-03-31T12:52:19.903Z"
      },
      {
        "duration": 0,
        "start_time": "2022-03-31T12:52:19.904Z"
      },
      {
        "duration": 0,
        "start_time": "2022-03-31T12:52:19.905Z"
      },
      {
        "duration": 0,
        "start_time": "2022-03-31T12:52:19.907Z"
      },
      {
        "duration": 0,
        "start_time": "2022-03-31T12:52:19.908Z"
      },
      {
        "duration": 0,
        "start_time": "2022-03-31T12:52:19.910Z"
      },
      {
        "duration": 0,
        "start_time": "2022-03-31T12:52:19.912Z"
      },
      {
        "duration": 0,
        "start_time": "2022-03-31T12:52:19.913Z"
      },
      {
        "duration": 0,
        "start_time": "2022-03-31T12:52:19.915Z"
      },
      {
        "duration": 0,
        "start_time": "2022-03-31T12:52:19.916Z"
      },
      {
        "duration": 0,
        "start_time": "2022-03-31T12:52:19.918Z"
      },
      {
        "duration": 0,
        "start_time": "2022-03-31T12:52:19.920Z"
      },
      {
        "duration": 0,
        "start_time": "2022-03-31T12:52:19.921Z"
      },
      {
        "duration": 0,
        "start_time": "2022-03-31T12:52:19.923Z"
      },
      {
        "duration": 0,
        "start_time": "2022-03-31T12:52:19.924Z"
      },
      {
        "duration": 0,
        "start_time": "2022-03-31T12:52:19.927Z"
      },
      {
        "duration": 0,
        "start_time": "2022-03-31T12:52:19.928Z"
      },
      {
        "duration": 0,
        "start_time": "2022-03-31T12:52:19.983Z"
      },
      {
        "duration": 0,
        "start_time": "2022-03-31T12:52:19.985Z"
      },
      {
        "duration": 0,
        "start_time": "2022-03-31T12:52:19.988Z"
      },
      {
        "duration": 0,
        "start_time": "2022-03-31T12:52:19.991Z"
      },
      {
        "duration": 0,
        "start_time": "2022-03-31T12:52:19.993Z"
      },
      {
        "duration": 0,
        "start_time": "2022-03-31T12:52:19.995Z"
      },
      {
        "duration": 0,
        "start_time": "2022-03-31T12:52:19.998Z"
      },
      {
        "duration": 0,
        "start_time": "2022-03-31T12:52:19.999Z"
      },
      {
        "duration": 0,
        "start_time": "2022-03-31T12:52:20.000Z"
      },
      {
        "duration": 0,
        "start_time": "2022-03-31T12:52:20.002Z"
      },
      {
        "duration": 0,
        "start_time": "2022-03-31T12:52:20.003Z"
      },
      {
        "duration": 6,
        "start_time": "2022-03-31T12:52:52.164Z"
      },
      {
        "duration": 5,
        "start_time": "2022-03-31T12:52:54.930Z"
      },
      {
        "duration": 20,
        "start_time": "2022-03-31T12:53:26.812Z"
      },
      {
        "duration": 87,
        "start_time": "2022-03-31T12:53:32.765Z"
      },
      {
        "duration": 47,
        "start_time": "2022-03-31T12:53:32.855Z"
      },
      {
        "duration": 8,
        "start_time": "2022-03-31T12:53:32.906Z"
      },
      {
        "duration": 17,
        "start_time": "2022-03-31T12:53:32.918Z"
      },
      {
        "duration": 58,
        "start_time": "2022-03-31T12:53:32.938Z"
      },
      {
        "duration": 24,
        "start_time": "2022-03-31T12:53:32.999Z"
      },
      {
        "duration": 19,
        "start_time": "2022-03-31T12:53:33.025Z"
      },
      {
        "duration": 51,
        "start_time": "2022-03-31T12:53:33.046Z"
      },
      {
        "duration": 13,
        "start_time": "2022-03-31T12:53:33.100Z"
      },
      {
        "duration": 19,
        "start_time": "2022-03-31T12:53:33.117Z"
      },
      {
        "duration": 10,
        "start_time": "2022-03-31T12:53:33.138Z"
      },
      {
        "duration": 31,
        "start_time": "2022-03-31T12:53:33.183Z"
      },
      {
        "duration": 8,
        "start_time": "2022-03-31T12:53:33.217Z"
      },
      {
        "duration": 25,
        "start_time": "2022-03-31T12:53:33.227Z"
      },
      {
        "duration": 54,
        "start_time": "2022-03-31T12:53:33.283Z"
      },
      {
        "duration": 8,
        "start_time": "2022-03-31T12:53:33.341Z"
      },
      {
        "duration": 48,
        "start_time": "2022-03-31T12:53:33.351Z"
      },
      {
        "duration": 8,
        "start_time": "2022-03-31T12:53:33.401Z"
      },
      {
        "duration": 14,
        "start_time": "2022-03-31T12:53:33.411Z"
      },
      {
        "duration": 9,
        "start_time": "2022-03-31T12:53:33.427Z"
      },
      {
        "duration": 47,
        "start_time": "2022-03-31T12:53:33.439Z"
      },
      {
        "duration": 24,
        "start_time": "2022-03-31T12:53:33.489Z"
      },
      {
        "duration": 11,
        "start_time": "2022-03-31T12:53:33.516Z"
      },
      {
        "duration": 53,
        "start_time": "2022-03-31T12:53:33.529Z"
      },
      {
        "duration": 15,
        "start_time": "2022-03-31T12:53:33.594Z"
      },
      {
        "duration": 7,
        "start_time": "2022-03-31T12:53:33.612Z"
      },
      {
        "duration": 18,
        "start_time": "2022-03-31T12:53:33.621Z"
      },
      {
        "duration": 44,
        "start_time": "2022-03-31T12:53:33.644Z"
      },
      {
        "duration": 35,
        "start_time": "2022-03-31T12:53:33.691Z"
      },
      {
        "duration": 15,
        "start_time": "2022-03-31T12:53:33.729Z"
      },
      {
        "duration": 63,
        "start_time": "2022-03-31T12:53:33.747Z"
      },
      {
        "duration": 463,
        "start_time": "2022-03-31T12:53:33.813Z"
      },
      {
        "duration": 422,
        "start_time": "2022-03-31T12:53:34.284Z"
      },
      {
        "duration": 20,
        "start_time": "2022-03-31T12:53:34.708Z"
      },
      {
        "duration": 7,
        "start_time": "2022-03-31T12:53:34.730Z"
      },
      {
        "duration": 66,
        "start_time": "2022-03-31T12:53:34.739Z"
      },
      {
        "duration": 25,
        "start_time": "2022-03-31T12:53:34.807Z"
      },
      {
        "duration": 50,
        "start_time": "2022-03-31T12:53:34.834Z"
      },
      {
        "duration": 1793,
        "start_time": "2022-03-31T13:01:04.956Z"
      },
      {
        "duration": 79,
        "start_time": "2022-03-31T13:01:31.978Z"
      },
      {
        "duration": 40,
        "start_time": "2022-03-31T13:01:32.060Z"
      },
      {
        "duration": 20,
        "start_time": "2022-03-31T13:01:32.102Z"
      },
      {
        "duration": 17,
        "start_time": "2022-03-31T13:01:32.125Z"
      },
      {
        "duration": 44,
        "start_time": "2022-03-31T13:01:32.144Z"
      },
      {
        "duration": 23,
        "start_time": "2022-03-31T13:01:32.191Z"
      },
      {
        "duration": 20,
        "start_time": "2022-03-31T13:01:32.216Z"
      },
      {
        "duration": 43,
        "start_time": "2022-03-31T13:01:32.239Z"
      },
      {
        "duration": 8,
        "start_time": "2022-03-31T13:01:32.285Z"
      },
      {
        "duration": 21,
        "start_time": "2022-03-31T13:01:32.299Z"
      },
      {
        "duration": 12,
        "start_time": "2022-03-31T13:01:32.323Z"
      },
      {
        "duration": 65,
        "start_time": "2022-03-31T13:01:32.338Z"
      },
      {
        "duration": 9,
        "start_time": "2022-03-31T13:01:32.406Z"
      },
      {
        "duration": 28,
        "start_time": "2022-03-31T13:01:32.418Z"
      },
      {
        "duration": 76,
        "start_time": "2022-03-31T13:01:32.449Z"
      },
      {
        "duration": 9,
        "start_time": "2022-03-31T13:01:32.528Z"
      },
      {
        "duration": 44,
        "start_time": "2022-03-31T13:01:32.539Z"
      },
      {
        "duration": 8,
        "start_time": "2022-03-31T13:01:32.585Z"
      },
      {
        "duration": 18,
        "start_time": "2022-03-31T13:01:32.595Z"
      },
      {
        "duration": 9,
        "start_time": "2022-03-31T13:01:32.616Z"
      },
      {
        "duration": 7,
        "start_time": "2022-03-31T13:01:32.627Z"
      },
      {
        "duration": 64,
        "start_time": "2022-03-31T13:01:32.636Z"
      },
      {
        "duration": 12,
        "start_time": "2022-03-31T13:01:32.702Z"
      },
      {
        "duration": 14,
        "start_time": "2022-03-31T13:01:32.717Z"
      },
      {
        "duration": 19,
        "start_time": "2022-03-31T13:01:32.734Z"
      },
      {
        "duration": 10,
        "start_time": "2022-03-31T13:01:32.783Z"
      },
      {
        "duration": 13,
        "start_time": "2022-03-31T13:01:32.796Z"
      },
      {
        "duration": 19,
        "start_time": "2022-03-31T13:01:32.816Z"
      },
      {
        "duration": 75,
        "start_time": "2022-03-31T13:01:32.838Z"
      },
      {
        "duration": 24,
        "start_time": "2022-03-31T13:01:32.916Z"
      },
      {
        "duration": 44,
        "start_time": "2022-03-31T13:01:32.943Z"
      },
      {
        "duration": 461,
        "start_time": "2022-03-31T13:01:32.989Z"
      },
      {
        "duration": 404,
        "start_time": "2022-03-31T13:01:33.452Z"
      },
      {
        "duration": 32,
        "start_time": "2022-03-31T13:01:33.859Z"
      },
      {
        "duration": 8,
        "start_time": "2022-03-31T13:01:33.893Z"
      },
      {
        "duration": 29,
        "start_time": "2022-03-31T13:01:33.903Z"
      },
      {
        "duration": 64,
        "start_time": "2022-03-31T13:01:33.935Z"
      },
      {
        "duration": 31,
        "start_time": "2022-03-31T13:01:34.002Z"
      },
      {
        "duration": 2529,
        "start_time": "2022-03-31T13:04:41.606Z"
      },
      {
        "duration": 2467,
        "start_time": "2022-03-31T13:04:51.668Z"
      },
      {
        "duration": 87,
        "start_time": "2022-03-31T13:04:55.656Z"
      },
      {
        "duration": 38,
        "start_time": "2022-03-31T13:04:55.746Z"
      },
      {
        "duration": 6,
        "start_time": "2022-03-31T13:04:55.786Z"
      },
      {
        "duration": 19,
        "start_time": "2022-03-31T13:04:55.795Z"
      },
      {
        "duration": 28,
        "start_time": "2022-03-31T13:04:55.818Z"
      },
      {
        "duration": 54,
        "start_time": "2022-03-31T13:04:55.849Z"
      },
      {
        "duration": 21,
        "start_time": "2022-03-31T13:04:55.906Z"
      },
      {
        "duration": 74,
        "start_time": "2022-03-31T13:04:55.929Z"
      },
      {
        "duration": 9,
        "start_time": "2022-03-31T13:04:56.007Z"
      },
      {
        "duration": 22,
        "start_time": "2022-03-31T13:04:56.018Z"
      },
      {
        "duration": 42,
        "start_time": "2022-03-31T13:04:56.042Z"
      },
      {
        "duration": 31,
        "start_time": "2022-03-31T13:04:56.086Z"
      },
      {
        "duration": 8,
        "start_time": "2022-03-31T13:04:56.120Z"
      },
      {
        "duration": 56,
        "start_time": "2022-03-31T13:04:56.130Z"
      },
      {
        "duration": 51,
        "start_time": "2022-03-31T13:04:56.188Z"
      },
      {
        "duration": 8,
        "start_time": "2022-03-31T13:04:56.241Z"
      },
      {
        "duration": 39,
        "start_time": "2022-03-31T13:04:56.251Z"
      },
      {
        "duration": 9,
        "start_time": "2022-03-31T13:04:56.293Z"
      },
      {
        "duration": 21,
        "start_time": "2022-03-31T13:04:56.304Z"
      },
      {
        "duration": 9,
        "start_time": "2022-03-31T13:04:56.327Z"
      },
      {
        "duration": 49,
        "start_time": "2022-03-31T13:04:56.341Z"
      },
      {
        "duration": 23,
        "start_time": "2022-03-31T13:04:56.393Z"
      },
      {
        "duration": 12,
        "start_time": "2022-03-31T13:04:56.419Z"
      },
      {
        "duration": 10,
        "start_time": "2022-03-31T13:04:56.434Z"
      },
      {
        "duration": 53,
        "start_time": "2022-03-31T13:04:56.447Z"
      },
      {
        "duration": 8,
        "start_time": "2022-03-31T13:04:56.503Z"
      },
      {
        "duration": 12,
        "start_time": "2022-03-31T13:04:56.513Z"
      },
      {
        "duration": 14,
        "start_time": "2022-03-31T13:04:56.528Z"
      },
      {
        "duration": 64,
        "start_time": "2022-03-31T13:04:56.544Z"
      },
      {
        "duration": 19,
        "start_time": "2022-03-31T13:04:56.610Z"
      },
      {
        "duration": 45,
        "start_time": "2022-03-31T13:04:56.631Z"
      },
      {
        "duration": 456,
        "start_time": "2022-03-31T13:04:56.678Z"
      },
      {
        "duration": 410,
        "start_time": "2022-03-31T13:04:57.136Z"
      },
      {
        "duration": 35,
        "start_time": "2022-03-31T13:04:57.548Z"
      },
      {
        "duration": 9,
        "start_time": "2022-03-31T13:04:57.588Z"
      },
      {
        "duration": 40,
        "start_time": "2022-03-31T13:04:57.601Z"
      },
      {
        "duration": 46,
        "start_time": "2022-03-31T13:04:57.644Z"
      },
      {
        "duration": 25,
        "start_time": "2022-03-31T13:04:57.692Z"
      },
      {
        "duration": 12,
        "start_time": "2022-03-31T13:08:21.730Z"
      },
      {
        "duration": 12,
        "start_time": "2022-03-31T13:08:46.361Z"
      },
      {
        "duration": 89,
        "start_time": "2022-03-31T13:08:53.343Z"
      },
      {
        "duration": 20,
        "start_time": "2022-03-31T13:08:53.435Z"
      },
      {
        "duration": 35,
        "start_time": "2022-03-31T13:08:53.456Z"
      },
      {
        "duration": 18,
        "start_time": "2022-03-31T13:08:53.494Z"
      },
      {
        "duration": 21,
        "start_time": "2022-03-31T13:08:53.516Z"
      },
      {
        "duration": 59,
        "start_time": "2022-03-31T13:08:53.539Z"
      },
      {
        "duration": 20,
        "start_time": "2022-03-31T13:08:53.601Z"
      },
      {
        "duration": 62,
        "start_time": "2022-03-31T13:08:53.623Z"
      },
      {
        "duration": 23,
        "start_time": "2022-03-31T13:08:53.689Z"
      },
      {
        "duration": 8,
        "start_time": "2022-03-31T13:08:53.714Z"
      },
      {
        "duration": 23,
        "start_time": "2022-03-31T13:08:53.724Z"
      },
      {
        "duration": 47,
        "start_time": "2022-03-31T13:08:53.749Z"
      },
      {
        "duration": 25,
        "start_time": "2022-03-31T13:08:53.798Z"
      },
      {
        "duration": 8,
        "start_time": "2022-03-31T13:08:53.827Z"
      },
      {
        "duration": 56,
        "start_time": "2022-03-31T13:08:53.837Z"
      },
      {
        "duration": 51,
        "start_time": "2022-03-31T13:08:53.896Z"
      },
      {
        "duration": 40,
        "start_time": "2022-03-31T13:08:53.950Z"
      },
      {
        "duration": 16,
        "start_time": "2022-03-31T13:08:53.993Z"
      },
      {
        "duration": 7,
        "start_time": "2022-03-31T13:08:54.011Z"
      },
      {
        "duration": 24,
        "start_time": "2022-03-31T13:08:54.021Z"
      },
      {
        "duration": 10,
        "start_time": "2022-03-31T13:08:54.048Z"
      },
      {
        "duration": 33,
        "start_time": "2022-03-31T13:08:54.060Z"
      },
      {
        "duration": 31,
        "start_time": "2022-03-31T13:08:54.096Z"
      },
      {
        "duration": 18,
        "start_time": "2022-03-31T13:08:54.129Z"
      },
      {
        "duration": 11,
        "start_time": "2022-03-31T13:08:54.149Z"
      },
      {
        "duration": 34,
        "start_time": "2022-03-31T13:08:54.163Z"
      },
      {
        "duration": 10,
        "start_time": "2022-03-31T13:08:54.199Z"
      },
      {
        "duration": 9,
        "start_time": "2022-03-31T13:08:54.212Z"
      },
      {
        "duration": 14,
        "start_time": "2022-03-31T13:08:54.223Z"
      },
      {
        "duration": 69,
        "start_time": "2022-03-31T13:08:54.239Z"
      },
      {
        "duration": 15,
        "start_time": "2022-03-31T13:08:54.310Z"
      },
      {
        "duration": 55,
        "start_time": "2022-03-31T13:08:54.327Z"
      },
      {
        "duration": 481,
        "start_time": "2022-03-31T13:08:54.384Z"
      },
      {
        "duration": 419,
        "start_time": "2022-03-31T13:08:54.867Z"
      },
      {
        "duration": 22,
        "start_time": "2022-03-31T13:08:55.288Z"
      },
      {
        "duration": 8,
        "start_time": "2022-03-31T13:08:55.312Z"
      },
      {
        "duration": 32,
        "start_time": "2022-03-31T13:08:55.322Z"
      },
      {
        "duration": 30,
        "start_time": "2022-03-31T13:08:55.383Z"
      },
      {
        "duration": 29,
        "start_time": "2022-03-31T13:08:55.416Z"
      },
      {
        "duration": 15,
        "start_time": "2022-03-31T13:10:01.642Z"
      },
      {
        "duration": 87,
        "start_time": "2022-03-31T13:10:07.263Z"
      },
      {
        "duration": 38,
        "start_time": "2022-03-31T13:10:07.353Z"
      },
      {
        "duration": 6,
        "start_time": "2022-03-31T13:10:07.394Z"
      },
      {
        "duration": 19,
        "start_time": "2022-03-31T13:10:07.403Z"
      },
      {
        "duration": 65,
        "start_time": "2022-03-31T13:10:07.424Z"
      },
      {
        "duration": 32,
        "start_time": "2022-03-31T13:10:07.491Z"
      },
      {
        "duration": 20,
        "start_time": "2022-03-31T13:10:07.525Z"
      },
      {
        "duration": 48,
        "start_time": "2022-03-31T13:10:07.547Z"
      },
      {
        "duration": 20,
        "start_time": "2022-03-31T13:10:07.598Z"
      },
      {
        "duration": 8,
        "start_time": "2022-03-31T13:10:07.622Z"
      },
      {
        "duration": 23,
        "start_time": "2022-03-31T13:10:07.632Z"
      },
      {
        "duration": 12,
        "start_time": "2022-03-31T13:10:07.682Z"
      },
      {
        "duration": 25,
        "start_time": "2022-03-31T13:10:07.697Z"
      },
      {
        "duration": 9,
        "start_time": "2022-03-31T13:10:07.725Z"
      },
      {
        "duration": 67,
        "start_time": "2022-03-31T13:10:07.737Z"
      },
      {
        "duration": 45,
        "start_time": "2022-03-31T13:10:07.806Z"
      },
      {
        "duration": 30,
        "start_time": "2022-03-31T13:10:07.854Z"
      },
      {
        "duration": 27,
        "start_time": "2022-03-31T13:10:07.887Z"
      },
      {
        "duration": 7,
        "start_time": "2022-03-31T13:10:07.916Z"
      },
      {
        "duration": 15,
        "start_time": "2022-03-31T13:10:07.925Z"
      },
      {
        "duration": 8,
        "start_time": "2022-03-31T13:10:07.942Z"
      },
      {
        "duration": 36,
        "start_time": "2022-03-31T13:10:07.952Z"
      },
      {
        "duration": 26,
        "start_time": "2022-03-31T13:10:07.991Z"
      },
      {
        "duration": 10,
        "start_time": "2022-03-31T13:10:08.019Z"
      },
      {
        "duration": 9,
        "start_time": "2022-03-31T13:10:08.031Z"
      },
      {
        "duration": 51,
        "start_time": "2022-03-31T13:10:08.042Z"
      },
      {
        "duration": 8,
        "start_time": "2022-03-31T13:10:08.095Z"
      },
      {
        "duration": 13,
        "start_time": "2022-03-31T13:10:08.109Z"
      },
      {
        "duration": 21,
        "start_time": "2022-03-31T13:10:08.125Z"
      },
      {
        "duration": 56,
        "start_time": "2022-03-31T13:10:08.148Z"
      },
      {
        "duration": 14,
        "start_time": "2022-03-31T13:10:08.206Z"
      },
      {
        "duration": 28,
        "start_time": "2022-03-31T13:10:08.222Z"
      },
      {
        "duration": 462,
        "start_time": "2022-03-31T13:10:08.252Z"
      },
      {
        "duration": 398,
        "start_time": "2022-03-31T13:10:08.716Z"
      },
      {
        "duration": 20,
        "start_time": "2022-03-31T13:10:09.117Z"
      },
      {
        "duration": 8,
        "start_time": "2022-03-31T13:10:09.140Z"
      },
      {
        "duration": 61,
        "start_time": "2022-03-31T13:10:09.151Z"
      },
      {
        "duration": 27,
        "start_time": "2022-03-31T13:10:09.214Z"
      },
      {
        "duration": 60,
        "start_time": "2022-03-31T13:10:09.244Z"
      },
      {
        "duration": 2252,
        "start_time": "2022-03-31T13:13:57.055Z"
      },
      {
        "duration": 75,
        "start_time": "2022-03-31T13:14:02.196Z"
      },
      {
        "duration": 29,
        "start_time": "2022-03-31T13:14:02.274Z"
      },
      {
        "duration": 6,
        "start_time": "2022-03-31T13:14:02.305Z"
      },
      {
        "duration": 24,
        "start_time": "2022-03-31T13:14:02.313Z"
      },
      {
        "duration": 55,
        "start_time": "2022-03-31T13:14:02.341Z"
      },
      {
        "duration": 30,
        "start_time": "2022-03-31T13:14:02.399Z"
      },
      {
        "duration": 19,
        "start_time": "2022-03-31T13:14:02.431Z"
      },
      {
        "duration": 48,
        "start_time": "2022-03-31T13:14:02.453Z"
      },
      {
        "duration": 154,
        "start_time": "2022-03-31T13:14:02.503Z"
      },
      {
        "duration": 0,
        "start_time": "2022-03-31T13:14:02.660Z"
      },
      {
        "duration": 0,
        "start_time": "2022-03-31T13:14:02.663Z"
      },
      {
        "duration": 0,
        "start_time": "2022-03-31T13:14:02.665Z"
      },
      {
        "duration": 0,
        "start_time": "2022-03-31T13:14:02.666Z"
      },
      {
        "duration": 0,
        "start_time": "2022-03-31T13:14:02.668Z"
      },
      {
        "duration": 0,
        "start_time": "2022-03-31T13:14:02.669Z"
      },
      {
        "duration": 0,
        "start_time": "2022-03-31T13:14:02.671Z"
      },
      {
        "duration": 0,
        "start_time": "2022-03-31T13:14:02.673Z"
      },
      {
        "duration": 0,
        "start_time": "2022-03-31T13:14:02.675Z"
      },
      {
        "duration": 0,
        "start_time": "2022-03-31T13:14:02.676Z"
      },
      {
        "duration": 0,
        "start_time": "2022-03-31T13:14:02.678Z"
      },
      {
        "duration": 0,
        "start_time": "2022-03-31T13:14:02.679Z"
      },
      {
        "duration": 0,
        "start_time": "2022-03-31T13:14:02.680Z"
      },
      {
        "duration": 0,
        "start_time": "2022-03-31T13:14:02.682Z"
      },
      {
        "duration": 0,
        "start_time": "2022-03-31T13:14:02.684Z"
      },
      {
        "duration": 0,
        "start_time": "2022-03-31T13:14:02.685Z"
      },
      {
        "duration": 0,
        "start_time": "2022-03-31T13:14:02.687Z"
      },
      {
        "duration": 0,
        "start_time": "2022-03-31T13:14:02.688Z"
      },
      {
        "duration": 0,
        "start_time": "2022-03-31T13:14:02.691Z"
      },
      {
        "duration": 0,
        "start_time": "2022-03-31T13:14:02.696Z"
      },
      {
        "duration": 0,
        "start_time": "2022-03-31T13:14:02.699Z"
      },
      {
        "duration": 0,
        "start_time": "2022-03-31T13:14:02.701Z"
      },
      {
        "duration": 0,
        "start_time": "2022-03-31T13:14:02.702Z"
      },
      {
        "duration": 0,
        "start_time": "2022-03-31T13:14:02.703Z"
      },
      {
        "duration": 0,
        "start_time": "2022-03-31T13:14:02.704Z"
      },
      {
        "duration": 0,
        "start_time": "2022-03-31T13:14:02.706Z"
      },
      {
        "duration": 0,
        "start_time": "2022-03-31T13:14:02.707Z"
      },
      {
        "duration": 0,
        "start_time": "2022-03-31T13:14:02.709Z"
      },
      {
        "duration": 0,
        "start_time": "2022-03-31T13:14:02.711Z"
      },
      {
        "duration": 0,
        "start_time": "2022-03-31T13:14:02.712Z"
      },
      {
        "duration": 15,
        "start_time": "2022-03-31T13:20:21.182Z"
      },
      {
        "duration": 21,
        "start_time": "2022-03-31T13:20:56.461Z"
      },
      {
        "duration": 10,
        "start_time": "2022-03-31T13:21:11.632Z"
      },
      {
        "duration": 17,
        "start_time": "2022-03-31T13:21:19.701Z"
      },
      {
        "duration": 79,
        "start_time": "2022-03-31T13:21:31.552Z"
      },
      {
        "duration": 23,
        "start_time": "2022-03-31T13:21:31.634Z"
      },
      {
        "duration": 8,
        "start_time": "2022-03-31T13:21:31.683Z"
      },
      {
        "duration": 24,
        "start_time": "2022-03-31T13:21:31.693Z"
      },
      {
        "duration": 21,
        "start_time": "2022-03-31T13:21:31.723Z"
      },
      {
        "duration": 16,
        "start_time": "2022-03-31T13:21:31.783Z"
      },
      {
        "duration": 20,
        "start_time": "2022-03-31T13:21:31.801Z"
      },
      {
        "duration": 41,
        "start_time": "2022-03-31T13:21:31.823Z"
      },
      {
        "duration": 16,
        "start_time": "2022-03-31T13:21:31.883Z"
      },
      {
        "duration": 0,
        "start_time": "2022-03-31T13:21:31.902Z"
      },
      {
        "duration": 0,
        "start_time": "2022-03-31T13:21:31.904Z"
      },
      {
        "duration": 0,
        "start_time": "2022-03-31T13:21:31.906Z"
      },
      {
        "duration": 0,
        "start_time": "2022-03-31T13:21:31.908Z"
      },
      {
        "duration": 0,
        "start_time": "2022-03-31T13:21:31.909Z"
      },
      {
        "duration": 0,
        "start_time": "2022-03-31T13:21:31.911Z"
      },
      {
        "duration": 0,
        "start_time": "2022-03-31T13:21:31.913Z"
      },
      {
        "duration": 0,
        "start_time": "2022-03-31T13:21:31.915Z"
      },
      {
        "duration": 0,
        "start_time": "2022-03-31T13:21:31.916Z"
      },
      {
        "duration": 0,
        "start_time": "2022-03-31T13:21:31.918Z"
      },
      {
        "duration": 0,
        "start_time": "2022-03-31T13:21:31.920Z"
      },
      {
        "duration": 0,
        "start_time": "2022-03-31T13:21:31.921Z"
      },
      {
        "duration": 0,
        "start_time": "2022-03-31T13:21:31.922Z"
      },
      {
        "duration": 0,
        "start_time": "2022-03-31T13:21:31.924Z"
      },
      {
        "duration": 0,
        "start_time": "2022-03-31T13:21:31.925Z"
      },
      {
        "duration": 0,
        "start_time": "2022-03-31T13:21:31.927Z"
      },
      {
        "duration": 0,
        "start_time": "2022-03-31T13:21:31.928Z"
      },
      {
        "duration": 0,
        "start_time": "2022-03-31T13:21:31.929Z"
      },
      {
        "duration": 0,
        "start_time": "2022-03-31T13:21:31.983Z"
      },
      {
        "duration": 0,
        "start_time": "2022-03-31T13:21:31.984Z"
      },
      {
        "duration": 0,
        "start_time": "2022-03-31T13:21:31.986Z"
      },
      {
        "duration": 0,
        "start_time": "2022-03-31T13:21:31.987Z"
      },
      {
        "duration": 0,
        "start_time": "2022-03-31T13:21:31.989Z"
      },
      {
        "duration": 0,
        "start_time": "2022-03-31T13:21:31.990Z"
      },
      {
        "duration": 0,
        "start_time": "2022-03-31T13:21:31.991Z"
      },
      {
        "duration": 0,
        "start_time": "2022-03-31T13:21:31.993Z"
      },
      {
        "duration": 0,
        "start_time": "2022-03-31T13:21:31.994Z"
      },
      {
        "duration": 0,
        "start_time": "2022-03-31T13:21:31.996Z"
      },
      {
        "duration": 0,
        "start_time": "2022-03-31T13:21:31.997Z"
      },
      {
        "duration": 0,
        "start_time": "2022-03-31T13:21:31.998Z"
      },
      {
        "duration": 32,
        "start_time": "2022-03-31T13:22:14.295Z"
      },
      {
        "duration": 19,
        "start_time": "2022-03-31T13:22:51.984Z"
      },
      {
        "duration": 6,
        "start_time": "2022-03-31T13:23:10.976Z"
      },
      {
        "duration": 5,
        "start_time": "2022-03-31T13:23:53.637Z"
      },
      {
        "duration": 10,
        "start_time": "2022-03-31T13:24:42.210Z"
      },
      {
        "duration": 26,
        "start_time": "2022-03-31T13:25:40.877Z"
      },
      {
        "duration": 51,
        "start_time": "2022-03-31T13:25:49.195Z"
      },
      {
        "duration": 8,
        "start_time": "2022-03-31T13:26:25.529Z"
      },
      {
        "duration": 14,
        "start_time": "2022-03-31T13:26:54.810Z"
      },
      {
        "duration": 86,
        "start_time": "2022-03-31T13:27:04.666Z"
      },
      {
        "duration": 39,
        "start_time": "2022-03-31T13:27:04.755Z"
      },
      {
        "duration": 6,
        "start_time": "2022-03-31T13:27:04.796Z"
      },
      {
        "duration": 15,
        "start_time": "2022-03-31T13:27:04.806Z"
      },
      {
        "duration": 69,
        "start_time": "2022-03-31T13:27:04.823Z"
      },
      {
        "duration": 21,
        "start_time": "2022-03-31T13:27:04.894Z"
      },
      {
        "duration": 19,
        "start_time": "2022-03-31T13:27:04.917Z"
      },
      {
        "duration": 74,
        "start_time": "2022-03-31T13:27:04.938Z"
      },
      {
        "duration": 8,
        "start_time": "2022-03-31T13:27:05.014Z"
      },
      {
        "duration": 23,
        "start_time": "2022-03-31T13:27:05.026Z"
      },
      {
        "duration": 37,
        "start_time": "2022-03-31T13:27:05.051Z"
      },
      {
        "duration": 13,
        "start_time": "2022-03-31T13:27:05.091Z"
      },
      {
        "duration": 35,
        "start_time": "2022-03-31T13:27:05.106Z"
      },
      {
        "duration": 7,
        "start_time": "2022-03-31T13:27:05.143Z"
      },
      {
        "duration": 49,
        "start_time": "2022-03-31T13:27:05.152Z"
      },
      {
        "duration": 45,
        "start_time": "2022-03-31T13:27:05.203Z"
      },
      {
        "duration": 7,
        "start_time": "2022-03-31T13:27:05.251Z"
      },
      {
        "duration": 38,
        "start_time": "2022-03-31T13:27:05.260Z"
      },
      {
        "duration": 8,
        "start_time": "2022-03-31T13:27:05.300Z"
      },
      {
        "duration": 26,
        "start_time": "2022-03-31T13:27:05.310Z"
      },
      {
        "duration": 43,
        "start_time": "2022-03-31T13:27:05.339Z"
      },
      {
        "duration": 9,
        "start_time": "2022-03-31T13:27:05.385Z"
      },
      {
        "duration": 33,
        "start_time": "2022-03-31T13:27:05.397Z"
      },
      {
        "duration": 12,
        "start_time": "2022-03-31T13:27:05.433Z"
      },
      {
        "duration": 43,
        "start_time": "2022-03-31T13:27:05.447Z"
      },
      {
        "duration": 21,
        "start_time": "2022-03-31T13:27:05.493Z"
      },
      {
        "duration": 9,
        "start_time": "2022-03-31T13:27:05.516Z"
      },
      {
        "duration": 24,
        "start_time": "2022-03-31T13:27:05.532Z"
      },
      {
        "duration": 16,
        "start_time": "2022-03-31T13:27:05.583Z"
      },
      {
        "duration": 39,
        "start_time": "2022-03-31T13:27:05.601Z"
      },
      {
        "duration": 22,
        "start_time": "2022-03-31T13:27:05.642Z"
      },
      {
        "duration": 27,
        "start_time": "2022-03-31T13:27:05.683Z"
      },
      {
        "duration": 431,
        "start_time": "2022-03-31T13:27:05.712Z"
      },
      {
        "duration": 378,
        "start_time": "2022-03-31T13:27:06.145Z"
      },
      {
        "duration": 19,
        "start_time": "2022-03-31T13:27:06.525Z"
      },
      {
        "duration": 7,
        "start_time": "2022-03-31T13:27:06.545Z"
      },
      {
        "duration": 50,
        "start_time": "2022-03-31T13:27:06.554Z"
      },
      {
        "duration": 24,
        "start_time": "2022-03-31T13:27:06.606Z"
      },
      {
        "duration": 52,
        "start_time": "2022-03-31T13:27:06.632Z"
      },
      {
        "duration": 20,
        "start_time": "2022-03-31T13:28:16.219Z"
      },
      {
        "duration": 9,
        "start_time": "2022-03-31T13:28:22.912Z"
      },
      {
        "duration": 18,
        "start_time": "2022-03-31T13:28:25.418Z"
      },
      {
        "duration": 77,
        "start_time": "2022-03-31T13:28:53.014Z"
      },
      {
        "duration": 19,
        "start_time": "2022-03-31T13:28:53.094Z"
      },
      {
        "duration": 5,
        "start_time": "2022-03-31T13:28:53.115Z"
      },
      {
        "duration": 12,
        "start_time": "2022-03-31T13:28:53.123Z"
      },
      {
        "duration": 56,
        "start_time": "2022-03-31T13:28:53.137Z"
      },
      {
        "duration": 16,
        "start_time": "2022-03-31T13:28:53.195Z"
      },
      {
        "duration": 19,
        "start_time": "2022-03-31T13:28:53.213Z"
      },
      {
        "duration": 70,
        "start_time": "2022-03-31T13:28:53.234Z"
      },
      {
        "duration": 8,
        "start_time": "2022-03-31T13:28:53.306Z"
      },
      {
        "duration": 8,
        "start_time": "2022-03-31T13:28:53.318Z"
      },
      {
        "duration": 54,
        "start_time": "2022-03-31T13:28:53.328Z"
      },
      {
        "duration": 11,
        "start_time": "2022-03-31T13:28:53.384Z"
      },
      {
        "duration": 23,
        "start_time": "2022-03-31T13:28:53.397Z"
      },
      {
        "duration": 6,
        "start_time": "2022-03-31T13:28:53.422Z"
      },
      {
        "duration": 61,
        "start_time": "2022-03-31T13:28:53.430Z"
      },
      {
        "duration": 43,
        "start_time": "2022-03-31T13:28:53.493Z"
      },
      {
        "duration": 7,
        "start_time": "2022-03-31T13:28:53.538Z"
      },
      {
        "duration": 45,
        "start_time": "2022-03-31T13:28:53.547Z"
      },
      {
        "duration": 7,
        "start_time": "2022-03-31T13:28:53.595Z"
      },
      {
        "duration": 15,
        "start_time": "2022-03-31T13:28:53.604Z"
      },
      {
        "duration": 9,
        "start_time": "2022-03-31T13:28:53.621Z"
      },
      {
        "duration": 57,
        "start_time": "2022-03-31T13:28:53.632Z"
      },
      {
        "duration": 7,
        "start_time": "2022-03-31T13:28:53.691Z"
      },
      {
        "duration": 12,
        "start_time": "2022-03-31T13:28:53.700Z"
      },
      {
        "duration": 9,
        "start_time": "2022-03-31T13:28:53.714Z"
      },
      {
        "duration": 14,
        "start_time": "2022-03-31T13:28:53.725Z"
      },
      {
        "duration": 45,
        "start_time": "2022-03-31T13:28:53.741Z"
      },
      {
        "duration": 13,
        "start_time": "2022-03-31T13:28:53.791Z"
      },
      {
        "duration": 14,
        "start_time": "2022-03-31T13:28:53.806Z"
      },
      {
        "duration": 25,
        "start_time": "2022-03-31T13:28:53.822Z"
      },
      {
        "duration": 14,
        "start_time": "2022-03-31T13:28:53.882Z"
      },
      {
        "duration": 25,
        "start_time": "2022-03-31T13:28:53.898Z"
      },
      {
        "duration": 445,
        "start_time": "2022-03-31T13:28:53.925Z"
      },
      {
        "duration": 381,
        "start_time": "2022-03-31T13:28:54.372Z"
      },
      {
        "duration": 32,
        "start_time": "2022-03-31T13:28:54.755Z"
      },
      {
        "duration": 6,
        "start_time": "2022-03-31T13:28:54.790Z"
      },
      {
        "duration": 29,
        "start_time": "2022-03-31T13:28:54.798Z"
      },
      {
        "duration": 23,
        "start_time": "2022-03-31T13:28:54.829Z"
      },
      {
        "duration": 20,
        "start_time": "2022-03-31T13:28:54.883Z"
      },
      {
        "duration": 17,
        "start_time": "2022-03-31T13:29:28.723Z"
      },
      {
        "duration": 19,
        "start_time": "2022-03-31T13:29:33.011Z"
      },
      {
        "duration": 17,
        "start_time": "2022-03-31T13:29:43.512Z"
      },
      {
        "duration": 19,
        "start_time": "2022-03-31T13:30:06.415Z"
      },
      {
        "duration": 29,
        "start_time": "2022-03-31T13:31:54.198Z"
      },
      {
        "duration": 27,
        "start_time": "2022-03-31T13:31:59.337Z"
      },
      {
        "duration": 85,
        "start_time": "2022-03-31T13:32:10.356Z"
      },
      {
        "duration": 41,
        "start_time": "2022-03-31T13:32:10.444Z"
      },
      {
        "duration": 5,
        "start_time": "2022-03-31T13:32:10.487Z"
      },
      {
        "duration": 24,
        "start_time": "2022-03-31T13:32:10.495Z"
      },
      {
        "duration": 23,
        "start_time": "2022-03-31T13:32:10.521Z"
      },
      {
        "duration": 48,
        "start_time": "2022-03-31T13:32:10.546Z"
      },
      {
        "duration": 21,
        "start_time": "2022-03-31T13:32:10.596Z"
      },
      {
        "duration": 63,
        "start_time": "2022-03-31T13:32:10.619Z"
      },
      {
        "duration": 9,
        "start_time": "2022-03-31T13:32:10.685Z"
      },
      {
        "duration": 14,
        "start_time": "2022-03-31T13:32:10.698Z"
      },
      {
        "duration": 25,
        "start_time": "2022-03-31T13:32:10.715Z"
      },
      {
        "duration": 41,
        "start_time": "2022-03-31T13:32:10.742Z"
      },
      {
        "duration": 23,
        "start_time": "2022-03-31T13:32:10.785Z"
      },
      {
        "duration": 7,
        "start_time": "2022-03-31T13:32:10.810Z"
      },
      {
        "duration": 37,
        "start_time": "2022-03-31T13:32:10.819Z"
      },
      {
        "duration": 66,
        "start_time": "2022-03-31T13:32:10.858Z"
      },
      {
        "duration": 7,
        "start_time": "2022-03-31T13:32:10.926Z"
      },
      {
        "duration": 31,
        "start_time": "2022-03-31T13:32:10.935Z"
      },
      {
        "duration": 8,
        "start_time": "2022-03-31T13:32:10.983Z"
      },
      {
        "duration": 24,
        "start_time": "2022-03-31T13:32:10.993Z"
      },
      {
        "duration": 10,
        "start_time": "2022-03-31T13:32:11.019Z"
      },
      {
        "duration": 33,
        "start_time": "2022-03-31T13:32:11.031Z"
      },
      {
        "duration": 21,
        "start_time": "2022-03-31T13:32:11.066Z"
      },
      {
        "duration": 23,
        "start_time": "2022-03-31T13:32:11.089Z"
      },
      {
        "duration": 18,
        "start_time": "2022-03-31T13:32:11.115Z"
      },
      {
        "duration": 49,
        "start_time": "2022-03-31T13:32:11.135Z"
      },
      {
        "duration": 7,
        "start_time": "2022-03-31T13:32:11.187Z"
      },
      {
        "duration": 18,
        "start_time": "2022-03-31T13:32:11.199Z"
      },
      {
        "duration": 24,
        "start_time": "2022-03-31T13:32:11.219Z"
      },
      {
        "duration": 40,
        "start_time": "2022-03-31T13:32:11.245Z"
      },
      {
        "duration": 19,
        "start_time": "2022-03-31T13:32:11.287Z"
      },
      {
        "duration": 28,
        "start_time": "2022-03-31T13:32:11.308Z"
      },
      {
        "duration": 420,
        "start_time": "2022-03-31T13:32:11.338Z"
      },
      {
        "duration": 378,
        "start_time": "2022-03-31T13:32:11.760Z"
      },
      {
        "duration": 21,
        "start_time": "2022-03-31T13:32:12.140Z"
      },
      {
        "duration": 24,
        "start_time": "2022-03-31T13:32:12.162Z"
      },
      {
        "duration": 26,
        "start_time": "2022-03-31T13:32:12.189Z"
      },
      {
        "duration": 24,
        "start_time": "2022-03-31T13:32:12.217Z"
      },
      {
        "duration": 55,
        "start_time": "2022-03-31T13:32:12.243Z"
      },
      {
        "duration": 27,
        "start_time": "2022-03-31T13:32:20.742Z"
      },
      {
        "duration": 15,
        "start_time": "2022-03-31T13:32:43.802Z"
      },
      {
        "duration": 132,
        "start_time": "2022-03-31T13:32:48.904Z"
      },
      {
        "duration": 56,
        "start_time": "2022-03-31T13:32:49.040Z"
      },
      {
        "duration": 7,
        "start_time": "2022-03-31T13:32:49.099Z"
      },
      {
        "duration": 52,
        "start_time": "2022-03-31T13:32:49.108Z"
      },
      {
        "duration": 46,
        "start_time": "2022-03-31T13:32:49.163Z"
      },
      {
        "duration": 47,
        "start_time": "2022-03-31T13:32:49.212Z"
      },
      {
        "duration": 34,
        "start_time": "2022-03-31T13:32:49.261Z"
      },
      {
        "duration": 39,
        "start_time": "2022-03-31T13:32:49.298Z"
      },
      {
        "duration": 11,
        "start_time": "2022-03-31T13:32:49.340Z"
      },
      {
        "duration": 29,
        "start_time": "2022-03-31T13:32:49.353Z"
      },
      {
        "duration": 54,
        "start_time": "2022-03-31T13:32:49.385Z"
      },
      {
        "duration": 23,
        "start_time": "2022-03-31T13:32:49.441Z"
      },
      {
        "duration": 47,
        "start_time": "2022-03-31T13:32:49.466Z"
      },
      {
        "duration": 22,
        "start_time": "2022-03-31T13:32:49.519Z"
      },
      {
        "duration": 49,
        "start_time": "2022-03-31T13:32:49.543Z"
      },
      {
        "duration": 53,
        "start_time": "2022-03-31T13:32:49.594Z"
      },
      {
        "duration": 8,
        "start_time": "2022-03-31T13:32:49.650Z"
      },
      {
        "duration": 40,
        "start_time": "2022-03-31T13:32:49.660Z"
      },
      {
        "duration": 19,
        "start_time": "2022-03-31T13:32:49.704Z"
      },
      {
        "duration": 22,
        "start_time": "2022-03-31T13:32:49.726Z"
      },
      {
        "duration": 24,
        "start_time": "2022-03-31T13:32:49.750Z"
      },
      {
        "duration": 31,
        "start_time": "2022-03-31T13:32:49.781Z"
      },
      {
        "duration": 46,
        "start_time": "2022-03-31T13:32:49.814Z"
      },
      {
        "duration": 41,
        "start_time": "2022-03-31T13:32:49.862Z"
      },
      {
        "duration": 41,
        "start_time": "2022-03-31T13:32:49.905Z"
      },
      {
        "duration": 32,
        "start_time": "2022-03-31T13:32:49.948Z"
      },
      {
        "duration": 13,
        "start_time": "2022-03-31T13:32:49.982Z"
      },
      {
        "duration": 16,
        "start_time": "2022-03-31T13:32:49.997Z"
      },
      {
        "duration": 33,
        "start_time": "2022-03-31T13:32:50.015Z"
      },
      {
        "duration": 39,
        "start_time": "2022-03-31T13:32:50.050Z"
      },
      {
        "duration": 26,
        "start_time": "2022-03-31T13:32:50.091Z"
      },
      {
        "duration": 36,
        "start_time": "2022-03-31T13:32:50.119Z"
      },
      {
        "duration": 452,
        "start_time": "2022-03-31T13:32:50.157Z"
      },
      {
        "duration": 448,
        "start_time": "2022-03-31T13:32:50.611Z"
      },
      {
        "duration": 34,
        "start_time": "2022-03-31T13:32:51.061Z"
      },
      {
        "duration": 7,
        "start_time": "2022-03-31T13:32:51.097Z"
      },
      {
        "duration": 47,
        "start_time": "2022-03-31T13:32:51.107Z"
      },
      {
        "duration": 39,
        "start_time": "2022-03-31T13:32:51.156Z"
      },
      {
        "duration": 27,
        "start_time": "2022-03-31T13:32:51.198Z"
      },
      {
        "duration": 516,
        "start_time": "2022-04-11T13:09:12.086Z"
      },
      {
        "duration": 17,
        "start_time": "2022-04-11T13:09:12.604Z"
      },
      {
        "duration": 4,
        "start_time": "2022-04-11T13:09:12.623Z"
      },
      {
        "duration": 14,
        "start_time": "2022-04-11T13:09:12.630Z"
      },
      {
        "duration": 14,
        "start_time": "2022-04-11T13:09:12.646Z"
      },
      {
        "duration": 41,
        "start_time": "2022-04-11T13:09:12.662Z"
      },
      {
        "duration": 14,
        "start_time": "2022-04-11T13:09:12.705Z"
      },
      {
        "duration": 21,
        "start_time": "2022-04-11T13:09:12.720Z"
      },
      {
        "duration": 6,
        "start_time": "2022-04-11T13:09:12.743Z"
      },
      {
        "duration": 6,
        "start_time": "2022-04-11T13:09:12.752Z"
      },
      {
        "duration": 46,
        "start_time": "2022-04-11T13:09:12.759Z"
      },
      {
        "duration": 8,
        "start_time": "2022-04-11T13:09:12.806Z"
      },
      {
        "duration": 17,
        "start_time": "2022-04-11T13:09:12.816Z"
      },
      {
        "duration": 5,
        "start_time": "2022-04-11T13:09:12.835Z"
      },
      {
        "duration": 19,
        "start_time": "2022-04-11T13:09:12.842Z"
      },
      {
        "duration": 64,
        "start_time": "2022-04-11T13:09:12.862Z"
      },
      {
        "duration": 5,
        "start_time": "2022-04-11T13:09:12.928Z"
      },
      {
        "duration": 12,
        "start_time": "2022-04-11T13:09:12.934Z"
      },
      {
        "duration": 5,
        "start_time": "2022-04-11T13:09:12.948Z"
      },
      {
        "duration": 12,
        "start_time": "2022-04-11T13:09:12.954Z"
      },
      {
        "duration": 35,
        "start_time": "2022-04-11T13:09:12.967Z"
      },
      {
        "duration": 17,
        "start_time": "2022-04-11T13:09:13.003Z"
      },
      {
        "duration": 7,
        "start_time": "2022-04-11T13:09:13.022Z"
      },
      {
        "duration": 10,
        "start_time": "2022-04-11T13:09:13.031Z"
      },
      {
        "duration": 9,
        "start_time": "2022-04-11T13:09:13.042Z"
      },
      {
        "duration": 13,
        "start_time": "2022-04-11T13:09:13.053Z"
      },
      {
        "duration": 34,
        "start_time": "2022-04-11T13:09:13.068Z"
      },
      {
        "duration": 7,
        "start_time": "2022-04-11T13:09:13.106Z"
      },
      {
        "duration": 13,
        "start_time": "2022-04-11T13:09:13.114Z"
      },
      {
        "duration": 22,
        "start_time": "2022-04-11T13:09:13.129Z"
      },
      {
        "duration": 13,
        "start_time": "2022-04-11T13:09:13.153Z"
      },
      {
        "duration": 43,
        "start_time": "2022-04-11T13:09:13.168Z"
      },
      {
        "duration": 268,
        "start_time": "2022-04-11T13:09:13.214Z"
      },
      {
        "duration": 247,
        "start_time": "2022-04-11T13:09:13.484Z"
      },
      {
        "duration": 16,
        "start_time": "2022-04-11T13:09:13.732Z"
      },
      {
        "duration": 5,
        "start_time": "2022-04-11T13:09:13.750Z"
      },
      {
        "duration": 46,
        "start_time": "2022-04-11T13:09:13.757Z"
      },
      {
        "duration": 19,
        "start_time": "2022-04-11T13:09:13.805Z"
      },
      {
        "duration": 15,
        "start_time": "2022-04-11T13:09:13.825Z"
      },
      {
        "duration": 15,
        "start_time": "2022-04-11T13:18:37.352Z"
      },
      {
        "duration": 15,
        "start_time": "2022-04-11T13:18:58.347Z"
      },
      {
        "duration": 8,
        "start_time": "2022-04-11T13:21:00.278Z"
      },
      {
        "duration": 7,
        "start_time": "2022-04-11T13:21:14.723Z"
      },
      {
        "duration": 13,
        "start_time": "2022-04-12T07:53:30.303Z"
      },
      {
        "duration": 71,
        "start_time": "2022-04-12T10:33:37.432Z"
      },
      {
        "duration": 639,
        "start_time": "2022-04-12T10:33:44.040Z"
      },
      {
        "duration": 37,
        "start_time": "2022-04-12T10:33:44.683Z"
      },
      {
        "duration": 9,
        "start_time": "2022-04-12T10:33:44.722Z"
      },
      {
        "duration": 14,
        "start_time": "2022-04-12T10:33:44.734Z"
      },
      {
        "duration": 63,
        "start_time": "2022-04-12T10:33:44.750Z"
      },
      {
        "duration": 20,
        "start_time": "2022-04-12T10:33:44.815Z"
      },
      {
        "duration": 21,
        "start_time": "2022-04-12T10:33:44.838Z"
      },
      {
        "duration": 58,
        "start_time": "2022-04-12T10:33:44.861Z"
      },
      {
        "duration": 8,
        "start_time": "2022-04-12T10:33:44.921Z"
      },
      {
        "duration": 7,
        "start_time": "2022-04-12T10:33:44.933Z"
      },
      {
        "duration": 73,
        "start_time": "2022-04-12T10:33:44.942Z"
      },
      {
        "duration": 25,
        "start_time": "2022-04-12T10:33:45.017Z"
      },
      {
        "duration": 24,
        "start_time": "2022-04-12T10:33:45.045Z"
      },
      {
        "duration": 23,
        "start_time": "2022-04-12T10:33:45.071Z"
      },
      {
        "duration": 50,
        "start_time": "2022-04-12T10:33:45.096Z"
      },
      {
        "duration": 65,
        "start_time": "2022-04-12T10:33:45.149Z"
      },
      {
        "duration": 7,
        "start_time": "2022-04-12T10:33:45.217Z"
      },
      {
        "duration": 17,
        "start_time": "2022-04-12T10:33:45.226Z"
      },
      {
        "duration": 8,
        "start_time": "2022-04-12T10:33:45.245Z"
      },
      {
        "duration": 25,
        "start_time": "2022-04-12T10:33:45.277Z"
      },
      {
        "duration": 15,
        "start_time": "2022-04-12T10:33:45.314Z"
      },
      {
        "duration": 24,
        "start_time": "2022-04-12T10:33:45.331Z"
      },
      {
        "duration": 29,
        "start_time": "2022-04-12T10:33:45.358Z"
      },
      {
        "duration": 28,
        "start_time": "2022-04-12T10:33:45.390Z"
      },
      {
        "duration": 10,
        "start_time": "2022-04-12T10:33:45.420Z"
      },
      {
        "duration": 16,
        "start_time": "2022-04-12T10:33:45.432Z"
      },
      {
        "duration": 6,
        "start_time": "2022-04-12T10:33:45.451Z"
      },
      {
        "duration": 46,
        "start_time": "2022-04-12T10:33:45.475Z"
      },
      {
        "duration": 17,
        "start_time": "2022-04-12T10:33:45.523Z"
      },
      {
        "duration": 28,
        "start_time": "2022-04-12T10:33:45.543Z"
      },
      {
        "duration": 18,
        "start_time": "2022-04-12T10:33:45.574Z"
      },
      {
        "duration": 52,
        "start_time": "2022-04-12T10:33:45.595Z"
      },
      {
        "duration": 530,
        "start_time": "2022-04-12T10:33:45.649Z"
      },
      {
        "duration": 484,
        "start_time": "2022-04-12T10:33:46.186Z"
      },
      {
        "duration": 29,
        "start_time": "2022-04-12T10:33:46.674Z"
      },
      {
        "duration": 19,
        "start_time": "2022-04-12T10:33:46.717Z"
      },
      {
        "duration": 64,
        "start_time": "2022-04-12T10:33:46.738Z"
      },
      {
        "duration": 34,
        "start_time": "2022-04-12T10:33:46.805Z"
      },
      {
        "duration": 20,
        "start_time": "2022-04-12T10:33:46.841Z"
      },
      {
        "duration": 2125,
        "start_time": "2022-04-12T10:34:48.120Z"
      },
      {
        "duration": 2290,
        "start_time": "2022-04-12T10:35:10.052Z"
      },
      {
        "duration": 2164,
        "start_time": "2022-04-12T10:35:16.763Z"
      },
      {
        "duration": 105,
        "start_time": "2022-04-12T10:35:39.398Z"
      },
      {
        "duration": 25,
        "start_time": "2022-04-12T10:35:39.510Z"
      },
      {
        "duration": 5,
        "start_time": "2022-04-12T10:35:39.538Z"
      },
      {
        "duration": 42,
        "start_time": "2022-04-12T10:35:39.545Z"
      },
      {
        "duration": 51,
        "start_time": "2022-04-12T10:35:39.589Z"
      },
      {
        "duration": 18,
        "start_time": "2022-04-12T10:35:39.643Z"
      },
      {
        "duration": 54,
        "start_time": "2022-04-12T10:35:39.664Z"
      },
      {
        "duration": 33,
        "start_time": "2022-04-12T10:35:39.720Z"
      },
      {
        "duration": 36,
        "start_time": "2022-04-12T10:35:39.756Z"
      },
      {
        "duration": 19,
        "start_time": "2022-04-12T10:35:39.805Z"
      },
      {
        "duration": 21,
        "start_time": "2022-04-12T10:35:39.827Z"
      },
      {
        "duration": 13,
        "start_time": "2022-04-12T10:35:39.851Z"
      },
      {
        "duration": 42,
        "start_time": "2022-04-12T10:35:39.882Z"
      },
      {
        "duration": 8,
        "start_time": "2022-04-12T10:35:39.927Z"
      },
      {
        "duration": 24,
        "start_time": "2022-04-12T10:35:39.937Z"
      },
      {
        "duration": 58,
        "start_time": "2022-04-12T10:35:39.989Z"
      },
      {
        "duration": 8,
        "start_time": "2022-04-12T10:35:40.050Z"
      },
      {
        "duration": 25,
        "start_time": "2022-04-12T10:35:40.081Z"
      },
      {
        "duration": 9,
        "start_time": "2022-04-12T10:35:40.114Z"
      },
      {
        "duration": 18,
        "start_time": "2022-04-12T10:35:40.126Z"
      },
      {
        "duration": 9,
        "start_time": "2022-04-12T10:35:40.147Z"
      },
      {
        "duration": 61,
        "start_time": "2022-04-12T10:35:40.158Z"
      },
      {
        "duration": 7,
        "start_time": "2022-04-12T10:35:40.221Z"
      },
      {
        "duration": 11,
        "start_time": "2022-04-12T10:35:40.231Z"
      },
      {
        "duration": 54,
        "start_time": "2022-04-12T10:35:40.244Z"
      },
      {
        "duration": 26,
        "start_time": "2022-04-12T10:35:40.301Z"
      },
      {
        "duration": 7,
        "start_time": "2022-04-12T10:35:40.329Z"
      },
      {
        "duration": 9,
        "start_time": "2022-04-12T10:35:40.342Z"
      },
      {
        "duration": 43,
        "start_time": "2022-04-12T10:35:40.353Z"
      },
      {
        "duration": 35,
        "start_time": "2022-04-12T10:35:40.405Z"
      },
      {
        "duration": 15,
        "start_time": "2022-04-12T10:35:40.442Z"
      },
      {
        "duration": 49,
        "start_time": "2022-04-12T10:35:40.459Z"
      },
      {
        "duration": 525,
        "start_time": "2022-04-12T10:35:40.510Z"
      },
      {
        "duration": 501,
        "start_time": "2022-04-12T10:35:41.037Z"
      },
      {
        "duration": 49,
        "start_time": "2022-04-12T10:35:41.541Z"
      },
      {
        "duration": 8,
        "start_time": "2022-04-12T10:35:41.593Z"
      },
      {
        "duration": 34,
        "start_time": "2022-04-12T10:35:41.609Z"
      },
      {
        "duration": 59,
        "start_time": "2022-04-12T10:35:41.645Z"
      },
      {
        "duration": 23,
        "start_time": "2022-04-12T10:35:41.707Z"
      },
      {
        "duration": 11,
        "start_time": "2022-04-12T10:37:17.949Z"
      },
      {
        "duration": 2472,
        "start_time": "2022-04-12T10:37:49.943Z"
      },
      {
        "duration": 104,
        "start_time": "2022-04-12T10:37:57.517Z"
      },
      {
        "duration": 23,
        "start_time": "2022-04-12T10:37:57.624Z"
      },
      {
        "duration": 22,
        "start_time": "2022-04-12T10:37:57.673Z"
      },
      {
        "duration": 25,
        "start_time": "2022-04-12T10:37:57.706Z"
      },
      {
        "duration": 23,
        "start_time": "2022-04-12T10:37:57.734Z"
      },
      {
        "duration": 30,
        "start_time": "2022-04-12T10:37:57.777Z"
      },
      {
        "duration": 30,
        "start_time": "2022-04-12T10:37:57.809Z"
      },
      {
        "duration": 8,
        "start_time": "2022-04-12T10:37:57.842Z"
      },
      {
        "duration": 31,
        "start_time": "2022-04-12T10:37:57.852Z"
      },
      {
        "duration": 9,
        "start_time": "2022-04-12T10:37:57.891Z"
      },
      {
        "duration": 36,
        "start_time": "2022-04-12T10:37:57.903Z"
      },
      {
        "duration": 10,
        "start_time": "2022-04-12T10:37:57.942Z"
      },
      {
        "duration": 51,
        "start_time": "2022-04-12T10:37:57.954Z"
      },
      {
        "duration": 8,
        "start_time": "2022-04-12T10:37:58.012Z"
      },
      {
        "duration": 25,
        "start_time": "2022-04-12T10:37:58.022Z"
      },
      {
        "duration": 76,
        "start_time": "2022-04-12T10:37:58.050Z"
      },
      {
        "duration": 8,
        "start_time": "2022-04-12T10:37:58.128Z"
      },
      {
        "duration": 16,
        "start_time": "2022-04-12T10:37:58.138Z"
      },
      {
        "duration": 32,
        "start_time": "2022-04-12T10:37:58.174Z"
      },
      {
        "duration": 25,
        "start_time": "2022-04-12T10:37:58.208Z"
      },
      {
        "duration": 9,
        "start_time": "2022-04-12T10:37:58.235Z"
      },
      {
        "duration": 33,
        "start_time": "2022-04-12T10:37:58.246Z"
      },
      {
        "duration": 13,
        "start_time": "2022-04-12T10:37:58.287Z"
      },
      {
        "duration": 25,
        "start_time": "2022-04-12T10:37:58.303Z"
      },
      {
        "duration": 9,
        "start_time": "2022-04-12T10:37:58.330Z"
      },
      {
        "duration": 17,
        "start_time": "2022-04-12T10:37:58.341Z"
      },
      {
        "duration": 20,
        "start_time": "2022-04-12T10:37:58.360Z"
      },
      {
        "duration": 29,
        "start_time": "2022-04-12T10:37:58.394Z"
      },
      {
        "duration": 18,
        "start_time": "2022-04-12T10:37:58.426Z"
      },
      {
        "duration": 57,
        "start_time": "2022-04-12T10:37:58.446Z"
      },
      {
        "duration": 15,
        "start_time": "2022-04-12T10:37:58.508Z"
      },
      {
        "duration": 27,
        "start_time": "2022-04-12T10:37:58.525Z"
      },
      {
        "duration": 544,
        "start_time": "2022-04-12T10:37:58.554Z"
      },
      {
        "duration": 493,
        "start_time": "2022-04-12T10:37:59.100Z"
      },
      {
        "duration": 27,
        "start_time": "2022-04-12T10:37:59.596Z"
      },
      {
        "duration": 11,
        "start_time": "2022-04-12T10:37:59.625Z"
      },
      {
        "duration": 64,
        "start_time": "2022-04-12T10:37:59.638Z"
      },
      {
        "duration": 34,
        "start_time": "2022-04-12T10:37:59.705Z"
      },
      {
        "duration": 22,
        "start_time": "2022-04-12T10:37:59.741Z"
      },
      {
        "duration": 2479,
        "start_time": "2022-04-12T10:38:15.710Z"
      },
      {
        "duration": 2414,
        "start_time": "2022-04-12T10:38:36.030Z"
      },
      {
        "duration": 98,
        "start_time": "2022-04-12T10:38:42.350Z"
      },
      {
        "duration": 56,
        "start_time": "2022-04-12T10:38:42.451Z"
      },
      {
        "duration": 11,
        "start_time": "2022-04-12T10:38:42.511Z"
      },
      {
        "duration": 15,
        "start_time": "2022-04-12T10:38:42.525Z"
      },
      {
        "duration": 34,
        "start_time": "2022-04-12T10:38:42.542Z"
      },
      {
        "duration": 54,
        "start_time": "2022-04-12T10:38:42.579Z"
      },
      {
        "duration": 21,
        "start_time": "2022-04-12T10:38:42.635Z"
      },
      {
        "duration": 52,
        "start_time": "2022-04-12T10:38:42.658Z"
      },
      {
        "duration": 10,
        "start_time": "2022-04-12T10:38:42.713Z"
      },
      {
        "duration": 8,
        "start_time": "2022-04-12T10:38:42.727Z"
      },
      {
        "duration": 44,
        "start_time": "2022-04-12T10:38:42.737Z"
      },
      {
        "duration": 25,
        "start_time": "2022-04-12T10:38:42.783Z"
      },
      {
        "duration": 29,
        "start_time": "2022-04-12T10:38:42.813Z"
      },
      {
        "duration": 9,
        "start_time": "2022-04-12T10:38:42.845Z"
      },
      {
        "duration": 62,
        "start_time": "2022-04-12T10:38:42.856Z"
      },
      {
        "duration": 65,
        "start_time": "2022-04-12T10:38:42.921Z"
      },
      {
        "duration": 9,
        "start_time": "2022-04-12T10:38:42.988Z"
      },
      {
        "duration": 32,
        "start_time": "2022-04-12T10:38:42.999Z"
      },
      {
        "duration": 9,
        "start_time": "2022-04-12T10:38:43.033Z"
      },
      {
        "duration": 41,
        "start_time": "2022-04-12T10:38:43.045Z"
      },
      {
        "duration": 18,
        "start_time": "2022-04-12T10:38:43.087Z"
      },
      {
        "duration": 31,
        "start_time": "2022-04-12T10:38:43.107Z"
      },
      {
        "duration": 7,
        "start_time": "2022-04-12T10:38:43.140Z"
      },
      {
        "duration": 26,
        "start_time": "2022-04-12T10:38:43.149Z"
      },
      {
        "duration": 28,
        "start_time": "2022-04-12T10:38:43.177Z"
      },
      {
        "duration": 22,
        "start_time": "2022-04-12T10:38:43.210Z"
      },
      {
        "duration": 7,
        "start_time": "2022-04-12T10:38:43.234Z"
      },
      {
        "duration": 10,
        "start_time": "2022-04-12T10:38:43.246Z"
      },
      {
        "duration": 23,
        "start_time": "2022-04-12T10:38:43.277Z"
      },
      {
        "duration": 43,
        "start_time": "2022-04-12T10:38:43.302Z"
      },
      {
        "duration": 16,
        "start_time": "2022-04-12T10:38:43.347Z"
      },
      {
        "duration": 60,
        "start_time": "2022-04-12T10:38:43.365Z"
      },
      {
        "duration": 562,
        "start_time": "2022-04-12T10:38:43.428Z"
      },
      {
        "duration": 494,
        "start_time": "2022-04-12T10:38:43.997Z"
      },
      {
        "duration": 30,
        "start_time": "2022-04-12T10:38:44.496Z"
      },
      {
        "duration": 11,
        "start_time": "2022-04-12T10:38:44.528Z"
      },
      {
        "duration": 55,
        "start_time": "2022-04-12T10:38:44.541Z"
      },
      {
        "duration": 36,
        "start_time": "2022-04-12T10:38:44.599Z"
      },
      {
        "duration": 24,
        "start_time": "2022-04-12T10:38:44.637Z"
      },
      {
        "duration": 20,
        "start_time": "2022-04-12T10:41:29.614Z"
      },
      {
        "duration": 2184,
        "start_time": "2022-04-12T10:43:49.324Z"
      },
      {
        "duration": 99,
        "start_time": "2022-04-12T10:44:00.445Z"
      },
      {
        "duration": 45,
        "start_time": "2022-04-12T10:44:00.547Z"
      },
      {
        "duration": 24,
        "start_time": "2022-04-12T10:44:00.595Z"
      },
      {
        "duration": 29,
        "start_time": "2022-04-12T10:44:00.622Z"
      },
      {
        "duration": 45,
        "start_time": "2022-04-12T10:44:00.653Z"
      },
      {
        "duration": 31,
        "start_time": "2022-04-12T10:44:00.702Z"
      },
      {
        "duration": 27,
        "start_time": "2022-04-12T10:44:00.736Z"
      },
      {
        "duration": 83,
        "start_time": "2022-04-12T10:44:00.765Z"
      },
      {
        "duration": 8,
        "start_time": "2022-04-12T10:44:00.850Z"
      },
      {
        "duration": 74,
        "start_time": "2022-04-12T10:44:00.862Z"
      },
      {
        "duration": 0,
        "start_time": "2022-04-12T10:44:00.938Z"
      },
      {
        "duration": 0,
        "start_time": "2022-04-12T10:44:00.939Z"
      },
      {
        "duration": 0,
        "start_time": "2022-04-12T10:44:00.941Z"
      },
      {
        "duration": 0,
        "start_time": "2022-04-12T10:44:00.943Z"
      },
      {
        "duration": 0,
        "start_time": "2022-04-12T10:44:00.944Z"
      },
      {
        "duration": 0,
        "start_time": "2022-04-12T10:44:00.945Z"
      },
      {
        "duration": 0,
        "start_time": "2022-04-12T10:44:00.947Z"
      },
      {
        "duration": 0,
        "start_time": "2022-04-12T10:44:00.949Z"
      },
      {
        "duration": 0,
        "start_time": "2022-04-12T10:44:00.951Z"
      },
      {
        "duration": 0,
        "start_time": "2022-04-12T10:44:00.952Z"
      },
      {
        "duration": 0,
        "start_time": "2022-04-12T10:44:00.954Z"
      },
      {
        "duration": 0,
        "start_time": "2022-04-12T10:44:00.979Z"
      },
      {
        "duration": 0,
        "start_time": "2022-04-12T10:44:00.980Z"
      },
      {
        "duration": 0,
        "start_time": "2022-04-12T10:44:00.981Z"
      },
      {
        "duration": 0,
        "start_time": "2022-04-12T10:44:00.982Z"
      },
      {
        "duration": 0,
        "start_time": "2022-04-12T10:44:00.983Z"
      },
      {
        "duration": 0,
        "start_time": "2022-04-12T10:44:00.984Z"
      },
      {
        "duration": 0,
        "start_time": "2022-04-12T10:44:00.987Z"
      },
      {
        "duration": 0,
        "start_time": "2022-04-12T10:44:00.988Z"
      },
      {
        "duration": 0,
        "start_time": "2022-04-12T10:44:00.990Z"
      },
      {
        "duration": 0,
        "start_time": "2022-04-12T10:44:00.991Z"
      },
      {
        "duration": 0,
        "start_time": "2022-04-12T10:44:00.993Z"
      },
      {
        "duration": 0,
        "start_time": "2022-04-12T10:44:00.994Z"
      },
      {
        "duration": 0,
        "start_time": "2022-04-12T10:44:00.995Z"
      },
      {
        "duration": 0,
        "start_time": "2022-04-12T10:44:01.000Z"
      },
      {
        "duration": 0,
        "start_time": "2022-04-12T10:44:01.001Z"
      },
      {
        "duration": 0,
        "start_time": "2022-04-12T10:44:01.003Z"
      },
      {
        "duration": 0,
        "start_time": "2022-04-12T10:44:01.006Z"
      },
      {
        "duration": 0,
        "start_time": "2022-04-12T10:44:01.008Z"
      },
      {
        "duration": 0,
        "start_time": "2022-04-12T10:44:01.009Z"
      },
      {
        "duration": 24,
        "start_time": "2022-04-12T10:44:30.658Z"
      },
      {
        "duration": 22,
        "start_time": "2022-04-12T10:44:49.499Z"
      },
      {
        "duration": 20,
        "start_time": "2022-04-12T10:45:55.842Z"
      },
      {
        "duration": 34,
        "start_time": "2022-04-12T10:48:25.528Z"
      },
      {
        "duration": 13,
        "start_time": "2022-04-12T10:49:12.566Z"
      },
      {
        "duration": 28,
        "start_time": "2022-04-12T10:50:17.680Z"
      },
      {
        "duration": 6,
        "start_time": "2022-04-12T10:51:18.260Z"
      },
      {
        "duration": 101,
        "start_time": "2022-04-12T10:52:04.149Z"
      },
      {
        "duration": 32,
        "start_time": "2022-04-12T10:52:04.252Z"
      },
      {
        "duration": 17,
        "start_time": "2022-04-12T10:52:04.287Z"
      },
      {
        "duration": 23,
        "start_time": "2022-04-12T10:52:04.309Z"
      },
      {
        "duration": 69,
        "start_time": "2022-04-12T10:52:04.335Z"
      },
      {
        "duration": 19,
        "start_time": "2022-04-12T10:52:04.407Z"
      },
      {
        "duration": 21,
        "start_time": "2022-04-12T10:52:04.428Z"
      },
      {
        "duration": 59,
        "start_time": "2022-04-12T10:52:04.451Z"
      },
      {
        "duration": 9,
        "start_time": "2022-04-12T10:52:04.512Z"
      },
      {
        "duration": 7,
        "start_time": "2022-04-12T10:52:04.526Z"
      },
      {
        "duration": 47,
        "start_time": "2022-04-12T10:52:04.535Z"
      },
      {
        "duration": 18,
        "start_time": "2022-04-12T10:52:04.586Z"
      },
      {
        "duration": 32,
        "start_time": "2022-04-12T10:52:04.606Z"
      },
      {
        "duration": 11,
        "start_time": "2022-04-12T10:52:04.640Z"
      },
      {
        "duration": 42,
        "start_time": "2022-04-12T10:52:04.654Z"
      },
      {
        "duration": 11,
        "start_time": "2022-04-12T10:52:04.699Z"
      },
      {
        "duration": 29,
        "start_time": "2022-04-12T10:52:04.712Z"
      },
      {
        "duration": 89,
        "start_time": "2022-04-12T10:52:04.744Z"
      },
      {
        "duration": 7,
        "start_time": "2022-04-12T10:52:04.835Z"
      },
      {
        "duration": 39,
        "start_time": "2022-04-12T10:52:04.844Z"
      },
      {
        "duration": 12,
        "start_time": "2022-04-12T10:52:04.886Z"
      },
      {
        "duration": 31,
        "start_time": "2022-04-12T10:52:04.900Z"
      },
      {
        "duration": 9,
        "start_time": "2022-04-12T10:52:04.934Z"
      },
      {
        "duration": 57,
        "start_time": "2022-04-12T10:52:04.946Z"
      },
      {
        "duration": 10,
        "start_time": "2022-04-12T10:52:05.009Z"
      },
      {
        "duration": 11,
        "start_time": "2022-04-12T10:52:05.021Z"
      },
      {
        "duration": 11,
        "start_time": "2022-04-12T10:52:05.034Z"
      },
      {
        "duration": 24,
        "start_time": "2022-04-12T10:52:05.083Z"
      },
      {
        "duration": 9,
        "start_time": "2022-04-12T10:52:05.110Z"
      },
      {
        "duration": 12,
        "start_time": "2022-04-12T10:52:05.122Z"
      },
      {
        "duration": 44,
        "start_time": "2022-04-12T10:52:05.136Z"
      },
      {
        "duration": 32,
        "start_time": "2022-04-12T10:52:05.187Z"
      },
      {
        "duration": 15,
        "start_time": "2022-04-12T10:52:05.221Z"
      },
      {
        "duration": 68,
        "start_time": "2022-04-12T10:52:05.238Z"
      },
      {
        "duration": 511,
        "start_time": "2022-04-12T10:52:05.309Z"
      },
      {
        "duration": 489,
        "start_time": "2022-04-12T10:52:05.822Z"
      },
      {
        "duration": 24,
        "start_time": "2022-04-12T10:52:06.313Z"
      },
      {
        "duration": 7,
        "start_time": "2022-04-12T10:52:06.339Z"
      },
      {
        "duration": 34,
        "start_time": "2022-04-12T10:52:06.377Z"
      },
      {
        "duration": 27,
        "start_time": "2022-04-12T10:52:06.413Z"
      },
      {
        "duration": 24,
        "start_time": "2022-04-12T10:52:06.485Z"
      },
      {
        "duration": 20,
        "start_time": "2022-04-12T10:53:01.107Z"
      },
      {
        "duration": 97,
        "start_time": "2022-04-12T10:54:49.299Z"
      },
      {
        "duration": 22,
        "start_time": "2022-04-12T10:54:49.399Z"
      },
      {
        "duration": 6,
        "start_time": "2022-04-12T10:54:49.424Z"
      },
      {
        "duration": 45,
        "start_time": "2022-04-12T10:54:49.433Z"
      },
      {
        "duration": 33,
        "start_time": "2022-04-12T10:54:49.480Z"
      },
      {
        "duration": 25,
        "start_time": "2022-04-12T10:54:49.515Z"
      },
      {
        "duration": 53,
        "start_time": "2022-04-12T10:54:49.542Z"
      },
      {
        "duration": 41,
        "start_time": "2022-04-12T10:54:49.599Z"
      },
      {
        "duration": 8,
        "start_time": "2022-04-12T10:54:49.643Z"
      },
      {
        "duration": 36,
        "start_time": "2022-04-12T10:54:49.655Z"
      },
      {
        "duration": 40,
        "start_time": "2022-04-12T10:54:49.694Z"
      },
      {
        "duration": 6,
        "start_time": "2022-04-12T10:54:49.737Z"
      },
      {
        "duration": 50,
        "start_time": "2022-04-12T10:54:49.745Z"
      },
      {
        "duration": 14,
        "start_time": "2022-04-12T10:54:49.797Z"
      },
      {
        "duration": 26,
        "start_time": "2022-04-12T10:54:49.814Z"
      },
      {
        "duration": 8,
        "start_time": "2022-04-12T10:54:49.842Z"
      },
      {
        "duration": 52,
        "start_time": "2022-04-12T10:54:49.852Z"
      },
      {
        "duration": 64,
        "start_time": "2022-04-12T10:54:49.909Z"
      },
      {
        "duration": 10,
        "start_time": "2022-04-12T10:54:49.975Z"
      },
      {
        "duration": 30,
        "start_time": "2022-04-12T10:54:49.987Z"
      },
      {
        "duration": 8,
        "start_time": "2022-04-12T10:54:50.019Z"
      },
      {
        "duration": 22,
        "start_time": "2022-04-12T10:54:50.029Z"
      },
      {
        "duration": 31,
        "start_time": "2022-04-12T10:54:50.053Z"
      },
      {
        "duration": 44,
        "start_time": "2022-04-12T10:54:50.087Z"
      },
      {
        "duration": 8,
        "start_time": "2022-04-12T10:54:50.133Z"
      },
      {
        "duration": 14,
        "start_time": "2022-04-12T10:54:50.143Z"
      },
      {
        "duration": 29,
        "start_time": "2022-04-12T10:54:50.159Z"
      },
      {
        "duration": 28,
        "start_time": "2022-04-12T10:54:50.195Z"
      },
      {
        "duration": 8,
        "start_time": "2022-04-12T10:54:50.225Z"
      },
      {
        "duration": 11,
        "start_time": "2022-04-12T10:54:50.235Z"
      },
      {
        "duration": 47,
        "start_time": "2022-04-12T10:54:50.248Z"
      },
      {
        "duration": 48,
        "start_time": "2022-04-12T10:54:50.297Z"
      },
      {
        "duration": 39,
        "start_time": "2022-04-12T10:54:50.348Z"
      },
      {
        "duration": 61,
        "start_time": "2022-04-12T10:54:50.390Z"
      },
      {
        "duration": 758,
        "start_time": "2022-04-12T10:54:50.453Z"
      },
      {
        "duration": 475,
        "start_time": "2022-04-12T10:54:51.214Z"
      },
      {
        "duration": 24,
        "start_time": "2022-04-12T10:54:51.692Z"
      },
      {
        "duration": 11,
        "start_time": "2022-04-12T10:54:51.718Z"
      },
      {
        "duration": 61,
        "start_time": "2022-04-12T10:54:51.732Z"
      },
      {
        "duration": 31,
        "start_time": "2022-04-12T10:54:51.799Z"
      },
      {
        "duration": 51,
        "start_time": "2022-04-12T10:54:51.832Z"
      },
      {
        "duration": 21,
        "start_time": "2022-04-12T10:55:20.339Z"
      },
      {
        "duration": 7,
        "start_time": "2022-04-12T10:56:05.632Z"
      },
      {
        "duration": 437,
        "start_time": "2022-04-12T11:12:26.839Z"
      },
      {
        "duration": 428,
        "start_time": "2022-04-12T11:12:33.895Z"
      },
      {
        "duration": 12,
        "start_time": "2022-04-12T11:14:17.686Z"
      },
      {
        "duration": 12,
        "start_time": "2022-04-12T11:14:41.039Z"
      },
      {
        "duration": 18,
        "start_time": "2022-04-12T11:17:47.047Z"
      },
      {
        "duration": 29,
        "start_time": "2022-04-12T11:18:05.532Z"
      },
      {
        "duration": 8,
        "start_time": "2022-04-12T11:18:25.185Z"
      },
      {
        "duration": 13,
        "start_time": "2022-04-12T11:19:09.221Z"
      },
      {
        "duration": 92,
        "start_time": "2022-04-12T11:19:13.732Z"
      },
      {
        "duration": 22,
        "start_time": "2022-04-12T11:19:13.827Z"
      },
      {
        "duration": 29,
        "start_time": "2022-04-12T11:19:13.851Z"
      },
      {
        "duration": 20,
        "start_time": "2022-04-12T11:19:13.884Z"
      },
      {
        "duration": 22,
        "start_time": "2022-04-12T11:19:13.906Z"
      },
      {
        "duration": 50,
        "start_time": "2022-04-12T11:19:13.931Z"
      },
      {
        "duration": 21,
        "start_time": "2022-04-12T11:19:13.984Z"
      },
      {
        "duration": 32,
        "start_time": "2022-04-12T11:19:14.009Z"
      },
      {
        "duration": 9,
        "start_time": "2022-04-12T11:19:14.076Z"
      },
      {
        "duration": 22,
        "start_time": "2022-04-12T11:19:14.091Z"
      },
      {
        "duration": 61,
        "start_time": "2022-04-12T11:19:14.115Z"
      },
      {
        "duration": 460,
        "start_time": "2022-04-12T11:19:14.179Z"
      },
      {
        "duration": 11,
        "start_time": "2022-04-12T11:19:14.641Z"
      },
      {
        "duration": 47,
        "start_time": "2022-04-12T11:19:14.654Z"
      },
      {
        "duration": 26,
        "start_time": "2022-04-12T11:19:14.704Z"
      },
      {
        "duration": 47,
        "start_time": "2022-04-12T11:19:14.732Z"
      },
      {
        "duration": 27,
        "start_time": "2022-04-12T11:19:14.781Z"
      },
      {
        "duration": 7,
        "start_time": "2022-04-12T11:19:14.810Z"
      },
      {
        "duration": 57,
        "start_time": "2022-04-12T11:19:14.819Z"
      },
      {
        "duration": 55,
        "start_time": "2022-04-12T11:19:14.883Z"
      },
      {
        "duration": 7,
        "start_time": "2022-04-12T11:19:14.940Z"
      },
      {
        "duration": 34,
        "start_time": "2022-04-12T11:19:14.949Z"
      },
      {
        "duration": 9,
        "start_time": "2022-04-12T11:19:14.986Z"
      },
      {
        "duration": 15,
        "start_time": "2022-04-12T11:19:14.997Z"
      },
      {
        "duration": 9,
        "start_time": "2022-04-12T11:19:15.014Z"
      },
      {
        "duration": 67,
        "start_time": "2022-04-12T11:19:15.025Z"
      },
      {
        "duration": 7,
        "start_time": "2022-04-12T11:19:15.095Z"
      },
      {
        "duration": 10,
        "start_time": "2022-04-12T11:19:15.107Z"
      },
      {
        "duration": 10,
        "start_time": "2022-04-12T11:19:15.120Z"
      },
      {
        "duration": 58,
        "start_time": "2022-04-12T11:19:15.132Z"
      },
      {
        "duration": 9,
        "start_time": "2022-04-12T11:19:15.192Z"
      },
      {
        "duration": 21,
        "start_time": "2022-04-12T11:19:15.203Z"
      },
      {
        "duration": 22,
        "start_time": "2022-04-12T11:19:15.226Z"
      },
      {
        "duration": 50,
        "start_time": "2022-04-12T11:19:15.251Z"
      },
      {
        "duration": 14,
        "start_time": "2022-04-12T11:19:15.303Z"
      },
      {
        "duration": 60,
        "start_time": "2022-04-12T11:19:15.319Z"
      },
      {
        "duration": 472,
        "start_time": "2022-04-12T11:19:15.381Z"
      },
      {
        "duration": 438,
        "start_time": "2022-04-12T11:19:15.855Z"
      },
      {
        "duration": 20,
        "start_time": "2022-04-12T11:19:16.295Z"
      },
      {
        "duration": 7,
        "start_time": "2022-04-12T11:19:16.317Z"
      },
      {
        "duration": 60,
        "start_time": "2022-04-12T11:19:16.326Z"
      },
      {
        "duration": 27,
        "start_time": "2022-04-12T11:19:16.389Z"
      },
      {
        "duration": 21,
        "start_time": "2022-04-12T11:19:16.418Z"
      },
      {
        "duration": 33,
        "start_time": "2022-04-12T11:20:28.469Z"
      },
      {
        "duration": 36,
        "start_time": "2022-04-12T11:21:19.309Z"
      },
      {
        "duration": 29,
        "start_time": "2022-04-12T11:23:08.288Z"
      },
      {
        "duration": 29,
        "start_time": "2022-04-12T11:23:11.989Z"
      },
      {
        "duration": 4,
        "start_time": "2022-04-12T11:25:28.227Z"
      },
      {
        "duration": 25,
        "start_time": "2022-04-12T11:26:03.765Z"
      },
      {
        "duration": 25,
        "start_time": "2022-04-12T11:26:07.301Z"
      },
      {
        "duration": 29,
        "start_time": "2022-04-12T11:33:17.287Z"
      },
      {
        "duration": 18,
        "start_time": "2022-04-12T12:10:03.369Z"
      },
      {
        "duration": 107,
        "start_time": "2022-04-12T12:10:11.549Z"
      },
      {
        "duration": 27,
        "start_time": "2022-04-12T12:10:11.658Z"
      },
      {
        "duration": 7,
        "start_time": "2022-04-12T12:10:11.687Z"
      },
      {
        "duration": 57,
        "start_time": "2022-04-12T12:10:11.697Z"
      },
      {
        "duration": 34,
        "start_time": "2022-04-12T12:10:11.756Z"
      },
      {
        "duration": 23,
        "start_time": "2022-04-12T12:10:11.792Z"
      },
      {
        "duration": 54,
        "start_time": "2022-04-12T12:10:11.818Z"
      },
      {
        "duration": 160,
        "start_time": "2022-04-12T12:10:11.874Z"
      },
      {
        "duration": 0,
        "start_time": "2022-04-12T12:10:12.039Z"
      },
      {
        "duration": 0,
        "start_time": "2022-04-12T12:10:12.041Z"
      },
      {
        "duration": 0,
        "start_time": "2022-04-12T12:10:12.042Z"
      },
      {
        "duration": 0,
        "start_time": "2022-04-12T12:10:12.044Z"
      },
      {
        "duration": 0,
        "start_time": "2022-04-12T12:10:12.045Z"
      },
      {
        "duration": 0,
        "start_time": "2022-04-12T12:10:12.047Z"
      },
      {
        "duration": 0,
        "start_time": "2022-04-12T12:10:12.048Z"
      },
      {
        "duration": 0,
        "start_time": "2022-04-12T12:10:12.049Z"
      },
      {
        "duration": 0,
        "start_time": "2022-04-12T12:10:12.051Z"
      },
      {
        "duration": 0,
        "start_time": "2022-04-12T12:10:12.053Z"
      },
      {
        "duration": 0,
        "start_time": "2022-04-12T12:10:12.054Z"
      },
      {
        "duration": 0,
        "start_time": "2022-04-12T12:10:12.056Z"
      },
      {
        "duration": 0,
        "start_time": "2022-04-12T12:10:12.057Z"
      },
      {
        "duration": 0,
        "start_time": "2022-04-12T12:10:12.059Z"
      },
      {
        "duration": 0,
        "start_time": "2022-04-12T12:10:12.061Z"
      },
      {
        "duration": 0,
        "start_time": "2022-04-12T12:10:12.062Z"
      },
      {
        "duration": 0,
        "start_time": "2022-04-12T12:10:12.064Z"
      },
      {
        "duration": 0,
        "start_time": "2022-04-12T12:10:12.065Z"
      },
      {
        "duration": 0,
        "start_time": "2022-04-12T12:10:12.067Z"
      },
      {
        "duration": 0,
        "start_time": "2022-04-12T12:10:12.068Z"
      },
      {
        "duration": 0,
        "start_time": "2022-04-12T12:10:12.070Z"
      },
      {
        "duration": 0,
        "start_time": "2022-04-12T12:10:12.071Z"
      },
      {
        "duration": 0,
        "start_time": "2022-04-12T12:10:12.072Z"
      },
      {
        "duration": 0,
        "start_time": "2022-04-12T12:10:12.073Z"
      },
      {
        "duration": 0,
        "start_time": "2022-04-12T12:10:12.075Z"
      },
      {
        "duration": 0,
        "start_time": "2022-04-12T12:10:12.076Z"
      },
      {
        "duration": 0,
        "start_time": "2022-04-12T12:10:12.077Z"
      },
      {
        "duration": 0,
        "start_time": "2022-04-12T12:10:12.079Z"
      },
      {
        "duration": 1,
        "start_time": "2022-04-12T12:10:12.080Z"
      },
      {
        "duration": 0,
        "start_time": "2022-04-12T12:10:12.082Z"
      },
      {
        "duration": 0,
        "start_time": "2022-04-12T12:10:12.083Z"
      },
      {
        "duration": 0,
        "start_time": "2022-04-12T12:10:12.084Z"
      },
      {
        "duration": 0,
        "start_time": "2022-04-12T12:10:12.085Z"
      },
      {
        "duration": 0,
        "start_time": "2022-04-12T12:10:12.087Z"
      },
      {
        "duration": 0,
        "start_time": "2022-04-12T12:10:12.089Z"
      },
      {
        "duration": 31,
        "start_time": "2022-04-12T12:10:54.116Z"
      },
      {
        "duration": 7,
        "start_time": "2022-04-12T12:11:05.056Z"
      },
      {
        "duration": 24,
        "start_time": "2022-04-12T12:11:16.999Z"
      },
      {
        "duration": 15,
        "start_time": "2022-04-12T12:12:22.566Z"
      },
      {
        "duration": 22,
        "start_time": "2022-04-12T12:12:30.401Z"
      },
      {
        "duration": 19,
        "start_time": "2022-04-12T12:13:35.651Z"
      },
      {
        "duration": 82,
        "start_time": "2022-04-12T12:13:42.145Z"
      },
      {
        "duration": 39,
        "start_time": "2022-04-12T12:13:42.230Z"
      },
      {
        "duration": 6,
        "start_time": "2022-04-12T12:13:42.271Z"
      },
      {
        "duration": 21,
        "start_time": "2022-04-12T12:13:42.280Z"
      },
      {
        "duration": 63,
        "start_time": "2022-04-12T12:13:42.304Z"
      },
      {
        "duration": 18,
        "start_time": "2022-04-12T12:13:42.369Z"
      },
      {
        "duration": 20,
        "start_time": "2022-04-12T12:13:42.390Z"
      },
      {
        "duration": 33,
        "start_time": "2022-04-12T12:13:42.453Z"
      },
      {
        "duration": 13,
        "start_time": "2022-04-12T12:13:42.488Z"
      },
      {
        "duration": 57,
        "start_time": "2022-04-12T12:13:42.506Z"
      },
      {
        "duration": 28,
        "start_time": "2022-04-12T12:13:42.565Z"
      },
      {
        "duration": 710,
        "start_time": "2022-04-12T12:13:42.595Z"
      },
      {
        "duration": 14,
        "start_time": "2022-04-12T12:13:43.308Z"
      },
      {
        "duration": 54,
        "start_time": "2022-04-12T12:13:43.325Z"
      },
      {
        "duration": 31,
        "start_time": "2022-04-12T12:13:43.381Z"
      },
      {
        "duration": 42,
        "start_time": "2022-04-12T12:13:43.415Z"
      },
      {
        "duration": 28,
        "start_time": "2022-04-12T12:13:43.460Z"
      },
      {
        "duration": 63,
        "start_time": "2022-04-12T12:13:43.490Z"
      },
      {
        "duration": 28,
        "start_time": "2022-04-12T12:13:43.556Z"
      },
      {
        "duration": 92,
        "start_time": "2022-04-12T12:13:43.587Z"
      },
      {
        "duration": 9,
        "start_time": "2022-04-12T12:13:43.682Z"
      },
      {
        "duration": 17,
        "start_time": "2022-04-12T12:13:43.694Z"
      },
      {
        "duration": 42,
        "start_time": "2022-04-12T12:13:43.714Z"
      },
      {
        "duration": 20,
        "start_time": "2022-04-12T12:13:43.758Z"
      },
      {
        "duration": 12,
        "start_time": "2022-04-12T12:13:43.781Z"
      },
      {
        "duration": 57,
        "start_time": "2022-04-12T12:13:43.796Z"
      },
      {
        "duration": 7,
        "start_time": "2022-04-12T12:13:43.856Z"
      },
      {
        "duration": 15,
        "start_time": "2022-04-12T12:13:43.869Z"
      },
      {
        "duration": 10,
        "start_time": "2022-04-12T12:13:43.886Z"
      },
      {
        "duration": 17,
        "start_time": "2022-04-12T12:13:43.899Z"
      },
      {
        "duration": 37,
        "start_time": "2022-04-12T12:13:43.919Z"
      },
      {
        "duration": 16,
        "start_time": "2022-04-12T12:13:43.959Z"
      },
      {
        "duration": 23,
        "start_time": "2022-04-12T12:13:43.977Z"
      },
      {
        "duration": 57,
        "start_time": "2022-04-12T12:13:44.002Z"
      },
      {
        "duration": 16,
        "start_time": "2022-04-12T12:13:44.061Z"
      },
      {
        "duration": 34,
        "start_time": "2022-04-12T12:13:44.079Z"
      },
      {
        "duration": 481,
        "start_time": "2022-04-12T12:13:44.116Z"
      },
      {
        "duration": 433,
        "start_time": "2022-04-12T12:13:44.599Z"
      },
      {
        "duration": 28,
        "start_time": "2022-04-12T12:13:45.034Z"
      },
      {
        "duration": 7,
        "start_time": "2022-04-12T12:13:45.065Z"
      },
      {
        "duration": 27,
        "start_time": "2022-04-12T12:13:45.075Z"
      },
      {
        "duration": 63,
        "start_time": "2022-04-12T12:13:45.105Z"
      },
      {
        "duration": 26,
        "start_time": "2022-04-12T12:13:45.170Z"
      },
      {
        "duration": 601,
        "start_time": "2022-04-12T13:47:12.228Z"
      },
      {
        "duration": 21,
        "start_time": "2022-04-12T13:47:12.831Z"
      },
      {
        "duration": 16,
        "start_time": "2022-04-12T13:47:12.855Z"
      },
      {
        "duration": 23,
        "start_time": "2022-04-12T13:47:12.873Z"
      },
      {
        "duration": 38,
        "start_time": "2022-04-12T13:47:12.898Z"
      },
      {
        "duration": 40,
        "start_time": "2022-04-12T13:47:12.939Z"
      },
      {
        "duration": 21,
        "start_time": "2022-04-12T13:47:12.982Z"
      },
      {
        "duration": 37,
        "start_time": "2022-04-12T13:47:13.005Z"
      },
      {
        "duration": 110,
        "start_time": "2022-04-12T13:47:13.046Z"
      },
      {
        "duration": 0,
        "start_time": "2022-04-12T13:47:13.158Z"
      },
      {
        "duration": 0,
        "start_time": "2022-04-12T13:47:13.160Z"
      },
      {
        "duration": 0,
        "start_time": "2022-04-12T13:47:13.161Z"
      },
      {
        "duration": 0,
        "start_time": "2022-04-12T13:47:13.162Z"
      },
      {
        "duration": 0,
        "start_time": "2022-04-12T13:47:13.164Z"
      },
      {
        "duration": 0,
        "start_time": "2022-04-12T13:47:13.166Z"
      },
      {
        "duration": 0,
        "start_time": "2022-04-12T13:47:13.167Z"
      },
      {
        "duration": 0,
        "start_time": "2022-04-12T13:47:13.169Z"
      },
      {
        "duration": 0,
        "start_time": "2022-04-12T13:47:13.170Z"
      },
      {
        "duration": 0,
        "start_time": "2022-04-12T13:47:13.172Z"
      },
      {
        "duration": 0,
        "start_time": "2022-04-12T13:47:13.173Z"
      },
      {
        "duration": 0,
        "start_time": "2022-04-12T13:47:13.174Z"
      },
      {
        "duration": 0,
        "start_time": "2022-04-12T13:47:13.176Z"
      },
      {
        "duration": 0,
        "start_time": "2022-04-12T13:47:13.177Z"
      },
      {
        "duration": 0,
        "start_time": "2022-04-12T13:47:13.179Z"
      },
      {
        "duration": 0,
        "start_time": "2022-04-12T13:47:13.224Z"
      },
      {
        "duration": 0,
        "start_time": "2022-04-12T13:47:13.226Z"
      },
      {
        "duration": 0,
        "start_time": "2022-04-12T13:47:13.228Z"
      },
      {
        "duration": 1,
        "start_time": "2022-04-12T13:47:13.229Z"
      },
      {
        "duration": 0,
        "start_time": "2022-04-12T13:47:13.231Z"
      },
      {
        "duration": 0,
        "start_time": "2022-04-12T13:47:13.232Z"
      },
      {
        "duration": 0,
        "start_time": "2022-04-12T13:47:13.233Z"
      },
      {
        "duration": 0,
        "start_time": "2022-04-12T13:47:13.234Z"
      },
      {
        "duration": 0,
        "start_time": "2022-04-12T13:47:13.237Z"
      },
      {
        "duration": 0,
        "start_time": "2022-04-12T13:47:13.238Z"
      },
      {
        "duration": 0,
        "start_time": "2022-04-12T13:47:13.239Z"
      },
      {
        "duration": 0,
        "start_time": "2022-04-12T13:47:13.240Z"
      },
      {
        "duration": 0,
        "start_time": "2022-04-12T13:47:13.242Z"
      },
      {
        "duration": 0,
        "start_time": "2022-04-12T13:47:13.243Z"
      },
      {
        "duration": 0,
        "start_time": "2022-04-12T13:47:13.245Z"
      },
      {
        "duration": 0,
        "start_time": "2022-04-12T13:47:13.246Z"
      },
      {
        "duration": 0,
        "start_time": "2022-04-12T13:47:13.248Z"
      },
      {
        "duration": 0,
        "start_time": "2022-04-12T13:47:13.249Z"
      },
      {
        "duration": 0,
        "start_time": "2022-04-12T13:47:13.250Z"
      },
      {
        "duration": 16,
        "start_time": "2022-04-12T13:47:28.837Z"
      },
      {
        "duration": 23,
        "start_time": "2022-04-12T13:47:29.186Z"
      },
      {
        "duration": 423,
        "start_time": "2022-04-12T13:47:29.564Z"
      },
      {
        "duration": 12,
        "start_time": "2022-04-12T13:47:29.989Z"
      },
      {
        "duration": 28,
        "start_time": "2022-04-12T13:47:30.091Z"
      },
      {
        "duration": 34,
        "start_time": "2022-04-12T13:47:30.624Z"
      },
      {
        "duration": 10,
        "start_time": "2022-04-12T13:47:30.993Z"
      },
      {
        "duration": 26,
        "start_time": "2022-04-12T13:47:31.164Z"
      },
      {
        "duration": 23,
        "start_time": "2022-04-12T13:47:31.683Z"
      },
      {
        "duration": 28,
        "start_time": "2022-04-12T13:47:32.402Z"
      },
      {
        "duration": 55,
        "start_time": "2022-04-12T13:47:32.752Z"
      },
      {
        "duration": 7,
        "start_time": "2022-04-12T13:47:33.292Z"
      },
      {
        "duration": 18,
        "start_time": "2022-04-12T13:47:33.657Z"
      },
      {
        "duration": 8,
        "start_time": "2022-04-12T13:47:34.176Z"
      },
      {
        "duration": 17,
        "start_time": "2022-04-12T13:47:34.531Z"
      },
      {
        "duration": 10,
        "start_time": "2022-04-12T13:47:35.039Z"
      },
      {
        "duration": 22,
        "start_time": "2022-04-12T13:47:35.401Z"
      },
      {
        "duration": 8,
        "start_time": "2022-04-12T13:47:35.570Z"
      },
      {
        "duration": 10,
        "start_time": "2022-04-12T13:47:36.078Z"
      },
      {
        "duration": 11,
        "start_time": "2022-04-12T13:47:36.417Z"
      },
      {
        "duration": 15,
        "start_time": "2022-04-12T13:47:36.929Z"
      },
      {
        "duration": 7,
        "start_time": "2022-04-12T13:47:37.724Z"
      },
      {
        "duration": 10,
        "start_time": "2022-04-12T13:47:38.107Z"
      },
      {
        "duration": 16,
        "start_time": "2022-04-12T13:47:39.066Z"
      },
      {
        "duration": 32,
        "start_time": "2022-04-12T13:47:39.398Z"
      },
      {
        "duration": 15,
        "start_time": "2022-04-12T13:47:39.756Z"
      },
      {
        "duration": 34,
        "start_time": "2022-04-12T13:47:40.162Z"
      },
      {
        "duration": 445,
        "start_time": "2022-04-12T13:47:41.141Z"
      },
      {
        "duration": 405,
        "start_time": "2022-04-12T13:47:42.224Z"
      },
      {
        "duration": 24,
        "start_time": "2022-04-12T13:47:44.934Z"
      },
      {
        "duration": 8,
        "start_time": "2022-04-12T13:47:45.297Z"
      },
      {
        "duration": 27,
        "start_time": "2022-04-12T13:47:46.200Z"
      },
      {
        "duration": 26,
        "start_time": "2022-04-12T13:47:46.965Z"
      },
      {
        "duration": 20,
        "start_time": "2022-04-12T13:47:47.692Z"
      },
      {
        "duration": 21,
        "start_time": "2022-04-12T13:48:39.961Z"
      },
      {
        "duration": 11,
        "start_time": "2022-04-12T18:54:47.977Z"
      },
      {
        "duration": 17,
        "start_time": "2022-04-12T18:57:27.112Z"
      },
      {
        "duration": 484,
        "start_time": "2022-04-13T15:24:52.730Z"
      },
      {
        "duration": 20,
        "start_time": "2022-04-13T15:24:53.216Z"
      },
      {
        "duration": 11,
        "start_time": "2022-04-13T15:24:53.238Z"
      },
      {
        "duration": 11,
        "start_time": "2022-04-13T15:24:53.251Z"
      },
      {
        "duration": 13,
        "start_time": "2022-04-13T15:24:53.265Z"
      },
      {
        "duration": 14,
        "start_time": "2022-04-13T15:24:53.280Z"
      },
      {
        "duration": 54,
        "start_time": "2022-04-13T15:24:53.295Z"
      },
      {
        "duration": 20,
        "start_time": "2022-04-13T15:24:53.351Z"
      },
      {
        "duration": 8,
        "start_time": "2022-04-13T15:24:53.373Z"
      },
      {
        "duration": 12,
        "start_time": "2022-04-13T15:24:53.383Z"
      },
      {
        "duration": 13,
        "start_time": "2022-04-13T15:24:53.397Z"
      },
      {
        "duration": 262,
        "start_time": "2022-04-13T15:24:53.411Z"
      },
      {
        "duration": 8,
        "start_time": "2022-04-13T15:24:53.675Z"
      },
      {
        "duration": 19,
        "start_time": "2022-04-13T15:24:53.686Z"
      },
      {
        "duration": 15,
        "start_time": "2022-04-13T15:24:53.707Z"
      },
      {
        "duration": 9,
        "start_time": "2022-04-13T15:24:53.748Z"
      },
      {
        "duration": 16,
        "start_time": "2022-04-13T15:24:53.759Z"
      },
      {
        "duration": 15,
        "start_time": "2022-04-13T15:24:53.776Z"
      },
      {
        "duration": 17,
        "start_time": "2022-04-13T15:24:53.793Z"
      },
      {
        "duration": 66,
        "start_time": "2022-04-13T15:24:53.811Z"
      },
      {
        "duration": 6,
        "start_time": "2022-04-13T15:24:53.879Z"
      },
      {
        "duration": 11,
        "start_time": "2022-04-13T15:24:53.887Z"
      },
      {
        "duration": 5,
        "start_time": "2022-04-13T15:24:53.900Z"
      },
      {
        "duration": 13,
        "start_time": "2022-04-13T15:24:53.906Z"
      },
      {
        "duration": 32,
        "start_time": "2022-04-13T15:24:53.920Z"
      },
      {
        "duration": 19,
        "start_time": "2022-04-13T15:24:53.953Z"
      },
      {
        "duration": 6,
        "start_time": "2022-04-13T15:24:53.974Z"
      },
      {
        "duration": 10,
        "start_time": "2022-04-13T15:24:53.981Z"
      },
      {
        "duration": 7,
        "start_time": "2022-04-13T15:24:53.992Z"
      },
      {
        "duration": 10,
        "start_time": "2022-04-13T15:24:54.001Z"
      },
      {
        "duration": 6,
        "start_time": "2022-04-13T15:24:54.048Z"
      },
      {
        "duration": 8,
        "start_time": "2022-04-13T15:24:54.056Z"
      },
      {
        "duration": 11,
        "start_time": "2022-04-13T15:24:54.066Z"
      },
      {
        "duration": 19,
        "start_time": "2022-04-13T15:24:54.078Z"
      },
      {
        "duration": 9,
        "start_time": "2022-04-13T15:24:54.099Z"
      },
      {
        "duration": 55,
        "start_time": "2022-04-13T15:24:54.109Z"
      },
      {
        "duration": 246,
        "start_time": "2022-04-13T15:24:54.166Z"
      },
      {
        "duration": 234,
        "start_time": "2022-04-13T15:24:54.414Z"
      },
      {
        "duration": 14,
        "start_time": "2022-04-13T15:24:54.650Z"
      },
      {
        "duration": 5,
        "start_time": "2022-04-13T15:24:54.666Z"
      },
      {
        "duration": 17,
        "start_time": "2022-04-13T15:24:54.674Z"
      },
      {
        "duration": 15,
        "start_time": "2022-04-13T15:24:54.692Z"
      },
      {
        "duration": 45,
        "start_time": "2022-04-13T15:24:54.709Z"
      },
      {
        "duration": 461,
        "start_time": "2022-04-13T15:25:13.680Z"
      },
      {
        "duration": 17,
        "start_time": "2022-04-13T15:25:14.144Z"
      },
      {
        "duration": 4,
        "start_time": "2022-04-13T15:25:14.163Z"
      },
      {
        "duration": 12,
        "start_time": "2022-04-13T15:25:14.169Z"
      },
      {
        "duration": 14,
        "start_time": "2022-04-13T15:25:14.184Z"
      },
      {
        "duration": 15,
        "start_time": "2022-04-13T15:25:14.200Z"
      },
      {
        "duration": 15,
        "start_time": "2022-04-13T15:25:14.248Z"
      },
      {
        "duration": 24,
        "start_time": "2022-04-13T15:25:14.267Z"
      },
      {
        "duration": 9,
        "start_time": "2022-04-13T15:25:14.293Z"
      },
      {
        "duration": 45,
        "start_time": "2022-04-13T15:25:14.304Z"
      },
      {
        "duration": 17,
        "start_time": "2022-04-13T15:25:14.351Z"
      },
      {
        "duration": 249,
        "start_time": "2022-04-13T15:25:14.370Z"
      },
      {
        "duration": 7,
        "start_time": "2022-04-13T15:25:14.621Z"
      },
      {
        "duration": 29,
        "start_time": "2022-04-13T15:25:14.631Z"
      },
      {
        "duration": 14,
        "start_time": "2022-04-13T15:25:14.662Z"
      },
      {
        "duration": 8,
        "start_time": "2022-04-13T15:25:14.678Z"
      },
      {
        "duration": 16,
        "start_time": "2022-04-13T15:25:14.688Z"
      },
      {
        "duration": 45,
        "start_time": "2022-04-13T15:25:14.705Z"
      },
      {
        "duration": 19,
        "start_time": "2022-04-13T15:25:14.752Z"
      },
      {
        "duration": 35,
        "start_time": "2022-04-13T15:25:14.773Z"
      },
      {
        "duration": 6,
        "start_time": "2022-04-13T15:25:14.810Z"
      },
      {
        "duration": 43,
        "start_time": "2022-04-13T15:25:14.817Z"
      },
      {
        "duration": 7,
        "start_time": "2022-04-13T15:25:14.862Z"
      },
      {
        "duration": 18,
        "start_time": "2022-04-13T15:25:14.871Z"
      },
      {
        "duration": 9,
        "start_time": "2022-04-13T15:25:14.891Z"
      },
      {
        "duration": 56,
        "start_time": "2022-04-13T15:25:14.902Z"
      },
      {
        "duration": 6,
        "start_time": "2022-04-13T15:25:14.960Z"
      },
      {
        "duration": 18,
        "start_time": "2022-04-13T15:25:14.967Z"
      },
      {
        "duration": 14,
        "start_time": "2022-04-13T15:25:14.987Z"
      },
      {
        "duration": 21,
        "start_time": "2022-04-13T15:25:15.003Z"
      },
      {
        "duration": 6,
        "start_time": "2022-04-13T15:25:15.027Z"
      },
      {
        "duration": 13,
        "start_time": "2022-04-13T15:25:15.048Z"
      },
      {
        "duration": 16,
        "start_time": "2022-04-13T15:25:15.063Z"
      },
      {
        "duration": 31,
        "start_time": "2022-04-13T15:25:15.080Z"
      },
      {
        "duration": 11,
        "start_time": "2022-04-13T15:25:15.113Z"
      },
      {
        "duration": 40,
        "start_time": "2022-04-13T15:25:15.125Z"
      },
      {
        "duration": 249,
        "start_time": "2022-04-13T15:25:15.167Z"
      },
      {
        "duration": 229,
        "start_time": "2022-04-13T15:25:15.418Z"
      },
      {
        "duration": 15,
        "start_time": "2022-04-13T15:25:15.650Z"
      },
      {
        "duration": 7,
        "start_time": "2022-04-13T15:25:15.667Z"
      },
      {
        "duration": 18,
        "start_time": "2022-04-13T15:25:15.677Z"
      },
      {
        "duration": 60,
        "start_time": "2022-04-13T15:25:15.696Z"
      },
      {
        "duration": 20,
        "start_time": "2022-04-13T15:25:15.757Z"
      }
    ],
    "kernelspec": {
      "display_name": "Python 3 (ipykernel)",
      "language": "python",
      "name": "python3"
    },
    "language_info": {
      "codemirror_mode": {
        "name": "ipython",
        "version": 3
      },
      "file_extension": ".py",
      "mimetype": "text/x-python",
      "name": "python",
      "nbconvert_exporter": "python",
      "pygments_lexer": "ipython3",
      "version": "3.9.7"
    },
    "toc": {
      "base_numbering": 1,
      "nav_menu": {},
      "number_sections": true,
      "sideBar": true,
      "skip_h1_title": true,
      "title_cell": "Table of Contents",
      "title_sidebar": "Contents",
      "toc_cell": false,
      "toc_position": {},
      "toc_section_display": true,
      "toc_window_display": false
    },
    "colab": {
      "provenance": []
    }
  },
  "nbformat": 4,
  "nbformat_minor": 5
}