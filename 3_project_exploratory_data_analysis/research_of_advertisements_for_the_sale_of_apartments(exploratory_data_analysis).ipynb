{
  "cells": [
    {
      "cell_type": "markdown",
      "metadata": {
        "id": "QhiAiWIhrDjy"
      },
      "source": [
        "# Исследование объявлений о продаже квартир\n",
        "\n",
        "В вашем распоряжении данные сервиса Яндекc Недвижимость — архив объявлений о продаже квартир в Санкт-Петербурге и соседних населённых пунктах за несколько лет. Нужно научиться определять рыночную стоимость объектов недвижимости. Ваша задача — установить параметры. Это позволит построить автоматизированную систему: она отследит аномалии и мошенническую деятельность. \n",
        "\n",
        "По каждой квартире на продажу доступны два вида данных. Первые вписаны пользователем, вторые получены автоматически на основе картографических данных. Например, расстояние до центра, аэропорта, ближайшего парка и водоёма. "
      ]
    },
    {
      "cell_type": "markdown",
      "metadata": {
        "id": "XqxUtkuPrDkC"
      },
      "source": [
        "## Изучение данных из файла"
      ]
    },
    {
      "cell_type": "code",
      "source": [
        "import pandas as pd\n",
        "import matplotlib.pyplot as plt"
      ],
      "metadata": {
        "id": "7lkJXzYTCSz2"
      },
      "execution_count": null,
      "outputs": []
    },
    {
      "cell_type": "code",
      "execution_count": null,
      "metadata": {
        "id": "oixV0wGnrDkR",
        "outputId": "6bee47df-b402-4166-bc95-849b063ebe29"
      },
      "outputs": [
        {
          "data": {
            "text/html": [
              "<div>\n",
              "<style scoped>\n",
              "    .dataframe tbody tr th:only-of-type {\n",
              "        vertical-align: middle;\n",
              "    }\n",
              "\n",
              "    .dataframe tbody tr th {\n",
              "        vertical-align: top;\n",
              "    }\n",
              "\n",
              "    .dataframe thead th {\n",
              "        text-align: right;\n",
              "    }\n",
              "</style>\n",
              "<table border=\"1\" class=\"dataframe\">\n",
              "  <thead>\n",
              "    <tr style=\"text-align: right;\">\n",
              "      <th></th>\n",
              "      <th>total_images</th>\n",
              "      <th>last_price</th>\n",
              "      <th>total_area</th>\n",
              "      <th>first_day_exposition</th>\n",
              "      <th>rooms</th>\n",
              "      <th>ceiling_height</th>\n",
              "      <th>floors_total</th>\n",
              "      <th>living_area</th>\n",
              "      <th>floor</th>\n",
              "      <th>is_apartment</th>\n",
              "      <th>...</th>\n",
              "      <th>kitchen_area</th>\n",
              "      <th>balcony</th>\n",
              "      <th>locality_name</th>\n",
              "      <th>airports_nearest</th>\n",
              "      <th>cityCenters_nearest</th>\n",
              "      <th>parks_around3000</th>\n",
              "      <th>parks_nearest</th>\n",
              "      <th>ponds_around3000</th>\n",
              "      <th>ponds_nearest</th>\n",
              "      <th>days_exposition</th>\n",
              "    </tr>\n",
              "  </thead>\n",
              "  <tbody>\n",
              "    <tr>\n",
              "      <th>0</th>\n",
              "      <td>20</td>\n",
              "      <td>13000000.0</td>\n",
              "      <td>108.0</td>\n",
              "      <td>2019-03-07T00:00:00</td>\n",
              "      <td>3</td>\n",
              "      <td>2.70</td>\n",
              "      <td>16.0</td>\n",
              "      <td>51.0</td>\n",
              "      <td>8</td>\n",
              "      <td>NaN</td>\n",
              "      <td>...</td>\n",
              "      <td>25.0</td>\n",
              "      <td>NaN</td>\n",
              "      <td>Санкт-Петербург</td>\n",
              "      <td>18863.0</td>\n",
              "      <td>16028.0</td>\n",
              "      <td>1.0</td>\n",
              "      <td>482.0</td>\n",
              "      <td>2.0</td>\n",
              "      <td>755.0</td>\n",
              "      <td>NaN</td>\n",
              "    </tr>\n",
              "    <tr>\n",
              "      <th>1</th>\n",
              "      <td>7</td>\n",
              "      <td>3350000.0</td>\n",
              "      <td>40.4</td>\n",
              "      <td>2018-12-04T00:00:00</td>\n",
              "      <td>1</td>\n",
              "      <td>NaN</td>\n",
              "      <td>11.0</td>\n",
              "      <td>18.6</td>\n",
              "      <td>1</td>\n",
              "      <td>NaN</td>\n",
              "      <td>...</td>\n",
              "      <td>11.0</td>\n",
              "      <td>2.0</td>\n",
              "      <td>посёлок Шушары</td>\n",
              "      <td>12817.0</td>\n",
              "      <td>18603.0</td>\n",
              "      <td>0.0</td>\n",
              "      <td>NaN</td>\n",
              "      <td>0.0</td>\n",
              "      <td>NaN</td>\n",
              "      <td>81.0</td>\n",
              "    </tr>\n",
              "    <tr>\n",
              "      <th>2</th>\n",
              "      <td>10</td>\n",
              "      <td>5196000.0</td>\n",
              "      <td>56.0</td>\n",
              "      <td>2015-08-20T00:00:00</td>\n",
              "      <td>2</td>\n",
              "      <td>NaN</td>\n",
              "      <td>5.0</td>\n",
              "      <td>34.3</td>\n",
              "      <td>4</td>\n",
              "      <td>NaN</td>\n",
              "      <td>...</td>\n",
              "      <td>8.3</td>\n",
              "      <td>0.0</td>\n",
              "      <td>Санкт-Петербург</td>\n",
              "      <td>21741.0</td>\n",
              "      <td>13933.0</td>\n",
              "      <td>1.0</td>\n",
              "      <td>90.0</td>\n",
              "      <td>2.0</td>\n",
              "      <td>574.0</td>\n",
              "      <td>558.0</td>\n",
              "    </tr>\n",
              "    <tr>\n",
              "      <th>3</th>\n",
              "      <td>0</td>\n",
              "      <td>64900000.0</td>\n",
              "      <td>159.0</td>\n",
              "      <td>2015-07-24T00:00:00</td>\n",
              "      <td>3</td>\n",
              "      <td>NaN</td>\n",
              "      <td>14.0</td>\n",
              "      <td>NaN</td>\n",
              "      <td>9</td>\n",
              "      <td>NaN</td>\n",
              "      <td>...</td>\n",
              "      <td>NaN</td>\n",
              "      <td>0.0</td>\n",
              "      <td>Санкт-Петербург</td>\n",
              "      <td>28098.0</td>\n",
              "      <td>6800.0</td>\n",
              "      <td>2.0</td>\n",
              "      <td>84.0</td>\n",
              "      <td>3.0</td>\n",
              "      <td>234.0</td>\n",
              "      <td>424.0</td>\n",
              "    </tr>\n",
              "    <tr>\n",
              "      <th>4</th>\n",
              "      <td>2</td>\n",
              "      <td>10000000.0</td>\n",
              "      <td>100.0</td>\n",
              "      <td>2018-06-19T00:00:00</td>\n",
              "      <td>2</td>\n",
              "      <td>3.03</td>\n",
              "      <td>14.0</td>\n",
              "      <td>32.0</td>\n",
              "      <td>13</td>\n",
              "      <td>NaN</td>\n",
              "      <td>...</td>\n",
              "      <td>41.0</td>\n",
              "      <td>NaN</td>\n",
              "      <td>Санкт-Петербург</td>\n",
              "      <td>31856.0</td>\n",
              "      <td>8098.0</td>\n",
              "      <td>2.0</td>\n",
              "      <td>112.0</td>\n",
              "      <td>1.0</td>\n",
              "      <td>48.0</td>\n",
              "      <td>121.0</td>\n",
              "    </tr>\n",
              "  </tbody>\n",
              "</table>\n",
              "<p>5 rows × 22 columns</p>\n",
              "</div>"
            ],
            "text/plain": [
              "   total_images  last_price  total_area first_day_exposition  rooms  \\\n",
              "0            20  13000000.0       108.0  2019-03-07T00:00:00      3   \n",
              "1             7   3350000.0        40.4  2018-12-04T00:00:00      1   \n",
              "2            10   5196000.0        56.0  2015-08-20T00:00:00      2   \n",
              "3             0  64900000.0       159.0  2015-07-24T00:00:00      3   \n",
              "4             2  10000000.0       100.0  2018-06-19T00:00:00      2   \n",
              "\n",
              "   ceiling_height  floors_total  living_area  floor is_apartment  ...  \\\n",
              "0            2.70          16.0         51.0      8          NaN  ...   \n",
              "1             NaN          11.0         18.6      1          NaN  ...   \n",
              "2             NaN           5.0         34.3      4          NaN  ...   \n",
              "3             NaN          14.0          NaN      9          NaN  ...   \n",
              "4            3.03          14.0         32.0     13          NaN  ...   \n",
              "\n",
              "   kitchen_area  balcony    locality_name  airports_nearest  \\\n",
              "0          25.0      NaN  Санкт-Петербург           18863.0   \n",
              "1          11.0      2.0   посёлок Шушары           12817.0   \n",
              "2           8.3      0.0  Санкт-Петербург           21741.0   \n",
              "3           NaN      0.0  Санкт-Петербург           28098.0   \n",
              "4          41.0      NaN  Санкт-Петербург           31856.0   \n",
              "\n",
              "  cityCenters_nearest  parks_around3000  parks_nearest  ponds_around3000  \\\n",
              "0             16028.0               1.0          482.0               2.0   \n",
              "1             18603.0               0.0            NaN               0.0   \n",
              "2             13933.0               1.0           90.0               2.0   \n",
              "3              6800.0               2.0           84.0               3.0   \n",
              "4              8098.0               2.0          112.0               1.0   \n",
              "\n",
              "   ponds_nearest  days_exposition  \n",
              "0          755.0              NaN  \n",
              "1            NaN             81.0  \n",
              "2          574.0            558.0  \n",
              "3          234.0            424.0  \n",
              "4           48.0            121.0  \n",
              "\n",
              "[5 rows x 22 columns]"
            ]
          },
          "metadata": {},
          "output_type": "display_data"
        },
        {
          "name": "stdout",
          "output_type": "stream",
          "text": [
            "<class 'pandas.core.frame.DataFrame'>\n",
            "RangeIndex: 23699 entries, 0 to 23698\n",
            "Data columns (total 22 columns):\n",
            " #   Column                Non-Null Count  Dtype  \n",
            "---  ------                --------------  -----  \n",
            " 0   total_images          23699 non-null  int64  \n",
            " 1   last_price            23699 non-null  float64\n",
            " 2   total_area            23699 non-null  float64\n",
            " 3   first_day_exposition  23699 non-null  object \n",
            " 4   rooms                 23699 non-null  int64  \n",
            " 5   ceiling_height        14504 non-null  float64\n",
            " 6   floors_total          23613 non-null  float64\n",
            " 7   living_area           21796 non-null  float64\n",
            " 8   floor                 23699 non-null  int64  \n",
            " 9   is_apartment          2775 non-null   object \n",
            " 10  studio                23699 non-null  bool   \n",
            " 11  open_plan             23699 non-null  bool   \n",
            " 12  kitchen_area          21421 non-null  float64\n",
            " 13  balcony               12180 non-null  float64\n",
            " 14  locality_name         23650 non-null  object \n",
            " 15  airports_nearest      18157 non-null  float64\n",
            " 16  cityCenters_nearest   18180 non-null  float64\n",
            " 17  parks_around3000      18181 non-null  float64\n",
            " 18  parks_nearest         8079 non-null   float64\n",
            " 19  ponds_around3000      18181 non-null  float64\n",
            " 20  ponds_nearest         9110 non-null   float64\n",
            " 21  days_exposition       20518 non-null  float64\n",
            "dtypes: bool(2), float64(14), int64(3), object(3)\n",
            "memory usage: 3.7+ MB\n",
            "Число дубликатов: 0\n"
          ]
        }
      ],
      "source": [
        "try:\n",
        "  data = pd.read_csv('/datasets/real_estate_data.csv', sep='\\t')\n",
        "\n",
        "except FileNotFoundError:\n",
        "  data = pd.read_csv('/content/real_estate_data.csv', sep='\\t')\n",
        "  \n",
        "display(data.head())\n",
        "data.info()\n",
        "print('Число дубликатов:', data.duplicated().sum())"
      ]
    },
    {
      "cell_type": "markdown",
      "metadata": {
        "id": "ImN9qq3qrDkX"
      },
      "source": [
        "### Вывод"
      ]
    },
    {
      "cell_type": "markdown",
      "metadata": {
        "id": "Rv9diN1HrDkb"
      },
      "source": [
        "В таблице нет дубликатов, 23699 строк, в некоторых столбцах есть пропуски. Попробуем их проработать. Сначала приведем к нужному типу данных столбцы без пропусков."
      ]
    },
    {
      "cell_type": "markdown",
      "metadata": {
        "id": "WluS2e4ErDkg"
      },
      "source": [
        "## Предобработка данных"
      ]
    },
    {
      "cell_type": "markdown",
      "metadata": {
        "id": "Ro_eHPL1rDkh"
      },
      "source": [
        "### Приведение данных к нужному формату"
      ]
    },
    {
      "cell_type": "code",
      "execution_count": null,
      "metadata": {
        "id": "kF8eRbdTrDki"
      },
      "outputs": [],
      "source": [
        "# Приводим в целочисленный тип данных стоимость квартир, потому что во всех ячейках стоимость указана целыми числами.\n",
        "data['last_price'] = data['last_price'].astype(int)\n",
        "# Приводим к типу даты дату публикации\n",
        "data['first_day_exposition'] = pd.to_datetime(data['first_day_exposition'], format='%Y-%m-%dT%H:%M:%S')"
      ]
    },
    {
      "cell_type": "markdown",
      "metadata": {
        "id": "xCKMXnHsrDkm"
      },
      "source": [
        "Поработаем с пропусками в различных столбцах и некторые данные переведем для удобства анализа в нужный форма."
      ]
    },
    {
      "cell_type": "markdown",
      "metadata": {
        "id": "rTFTeLg-rDkn"
      },
      "source": [
        "### is_apartment"
      ]
    },
    {
      "cell_type": "code",
      "execution_count": null,
      "metadata": {
        "id": "XyZtfwfhrDkz",
        "outputId": "3b82afcc-4bf9-4c45-abd8-1d70af8a6523"
      },
      "outputs": [
        {
          "name": "stdout",
          "output_type": "stream",
          "text": [
            "[nan False True]\n",
            "50\n"
          ]
        }
      ],
      "source": [
        "print(data['is_apartment'].unique()) # Смотрим уникальные значения\n",
        "print(data['is_apartment'].sum()) # Выясняем количество аппартаментов. "
      ]
    },
    {
      "cell_type": "markdown",
      "metadata": {
        "id": "jLStBQ_urDk4"
      },
      "source": [
        "Заполним пропущенные ячейки значением False, предполагая, что если ячейка не была заполнена, то жилье не является аппартаментами."
      ]
    },
    {
      "cell_type": "code",
      "execution_count": null,
      "metadata": {
        "id": "yGXUJr0drDlD"
      },
      "outputs": [],
      "source": [
        "data['is_apartment'] = data['is_apartment'].fillna(value=False)\n",
        "data['is_apartment'] = data['is_apartment'].astype(bool) #Меняем тип данных на логический"
      ]
    },
    {
      "cell_type": "markdown",
      "metadata": {
        "id": "ZIV9VHAurDlp"
      },
      "source": [
        "### balcony, parks_around3000, ponds_around3000"
      ]
    },
    {
      "cell_type": "markdown",
      "metadata": {
        "id": "AuA2F8pSrDlp"
      },
      "source": [
        "Заменяем пропущенные значения в balcony, parks_around3000, ponds_around3000 на 0, предполагая, что если ячейки не были заполнены, этих данных нет в реальности. Приводим данные к целочисленному, потому что количество объектов (балконов, парков и прудов) может быть только целым числом."
      ]
    },
    {
      "cell_type": "code",
      "execution_count": null,
      "metadata": {
        "id": "2-3FVyjJrDl3",
        "outputId": "eef7271c-239c-47eb-baef-6d78b7b0501f"
      },
      "outputs": [
        {
          "data": {
            "text/plain": [
              "total_images                0\n",
              "last_price                  0\n",
              "total_area                  0\n",
              "first_day_exposition        0\n",
              "rooms                       0\n",
              "ceiling_height           9195\n",
              "floors_total               86\n",
              "living_area              1903\n",
              "floor                       0\n",
              "is_apartment                0\n",
              "studio                      0\n",
              "open_plan                   0\n",
              "kitchen_area             2278\n",
              "balcony                     0\n",
              "locality_name              49\n",
              "airports_nearest         5542\n",
              "cityCenters_nearest      5519\n",
              "parks_around3000            0\n",
              "parks_nearest           15620\n",
              "ponds_around3000            0\n",
              "ponds_nearest           14589\n",
              "days_exposition          3181\n",
              "dtype: int64"
            ]
          },
          "execution_count": 5,
          "metadata": {},
          "output_type": "execute_result"
        }
      ],
      "source": [
        "data['balcony'] = data['balcony'].fillna(value=0).astype(int)\n",
        "data['parks_around3000'] = data['parks_around3000'].fillna(value=0).astype(int)\n",
        "data['ponds_around3000'] = data['ponds_around3000'].fillna(value=0).astype(int)\n",
        "\n",
        "# Смотрим количество пропущенных значений\n",
        "data.isna().sum()"
      ]
    },
    {
      "cell_type": "markdown",
      "metadata": {
        "id": "lhrs6EN4rDl5"
      },
      "source": [
        "<div class=\"alert alert-success\">\n",
        "<b>Комментарий ревьюера ✔️:</b> Также отлично"
      ]
    },
    {
      "cell_type": "markdown",
      "metadata": {
        "id": "oQiRyk2QrDl7"
      },
      "source": [
        "### floors_total"
      ]
    },
    {
      "cell_type": "code",
      "execution_count": null,
      "metadata": {
        "id": "Ez0fNtiYrDl_",
        "outputId": "b233c530-1dd5-4945-f896-2d3d3d483a18"
      },
      "outputs": [
        {
          "name": "stdout",
          "output_type": "stream",
          "text": [
            "Пропущенных значение: 86\n"
          ]
        }
      ],
      "source": [
        "print(\"Пропущенных значение:\", data['floors_total'].isna().sum())"
      ]
    },
    {
      "cell_type": "markdown",
      "metadata": {
        "id": "rxvkJcNprDmB"
      },
      "source": [
        "Удалим пропуски, поскольку мы не можем их заполнить. Изменим тип данных столбца на целочисленный, потому что количество этажей может быть только целым"
      ]
    },
    {
      "cell_type": "code",
      "execution_count": null,
      "metadata": {
        "id": "90dUZVUBrDmC",
        "outputId": "f720cf5f-c347-4eaf-d5f6-04e5f0af5552"
      },
      "outputs": [
        {
          "name": "stdout",
          "output_type": "stream",
          "text": [
            "Пропущенных значение: 0\n"
          ]
        }
      ],
      "source": [
        "data.dropna(subset=['floors_total'], inplace=True)\n",
        "data['floors_total'] = data['floors_total'].astype('int')\n",
        "print(\"Пропущенных значение:\", data['floors_total'].isna().sum())"
      ]
    },
    {
      "cell_type": "markdown",
      "metadata": {
        "id": "LvxKcaCWrDmI"
      },
      "source": [
        "### locality_name"
      ]
    },
    {
      "cell_type": "code",
      "execution_count": null,
      "metadata": {
        "id": "VgcYBNqTrDmJ",
        "outputId": "f1481982-1960-4b6a-a3ba-21b354f08059"
      },
      "outputs": [
        {
          "name": "stdout",
          "output_type": "stream",
          "text": [
            "Пропущенных значение: 48\n"
          ]
        }
      ],
      "source": [
        "print(\"Пропущенных значение:\", data['locality_name'].isna().sum())"
      ]
    },
    {
      "cell_type": "markdown",
      "metadata": {
        "id": "2IkN4zqVrDmQ"
      },
      "source": [
        "Удалим пропуски, поскольку мы не можем из заполнить."
      ]
    },
    {
      "cell_type": "code",
      "execution_count": null,
      "metadata": {
        "id": "CObO_LjErDmT",
        "outputId": "e66e222a-4572-49b4-cded-cd0d015af1b4"
      },
      "outputs": [
        {
          "data": {
            "text/plain": [
              "0"
            ]
          },
          "execution_count": 9,
          "metadata": {},
          "output_type": "execute_result"
        }
      ],
      "source": [
        "data.dropna(subset=['locality_name'], inplace=True)\n",
        "data['locality_name'].isna().sum()"
      ]
    },
    {
      "cell_type": "markdown",
      "metadata": {
        "id": "MFvWR2nSrDmY"
      },
      "source": [
        "### ceiling_height"
      ]
    },
    {
      "cell_type": "markdown",
      "metadata": {
        "id": "I6KF_IherDmc"
      },
      "source": [
        "Заменим пустые значения высоты потолков на медианные значения."
      ]
    },
    {
      "cell_type": "code",
      "execution_count": null,
      "metadata": {
        "id": "Vz34_CjFrDmn",
        "outputId": "5f76484e-64bf-4c35-8745-5e3da6a9fdae"
      },
      "outputs": [
        {
          "data": {
            "text/plain": [
              "0"
            ]
          },
          "execution_count": 10,
          "metadata": {},
          "output_type": "execute_result"
        }
      ],
      "source": [
        "data['ceiling_height'].fillna(data['ceiling_height'].median(), inplace=True)\n",
        "data['ceiling_height'].isna().sum() # Проверяем количество пропущенных значений"
      ]
    },
    {
      "cell_type": "markdown",
      "metadata": {
        "id": "I2IAuLiGrDmq"
      },
      "source": [
        "### living_area и kitchen_area"
      ]
    },
    {
      "cell_type": "markdown",
      "metadata": {
        "id": "eBh8nujJrDmr"
      },
      "source": [
        "В датафрейме у нас есть общая площадь жилья. И от нее зависит площадь кухни и жилая площадь. Введем коэффициент, который показывает отношение средней жилой/кухонной площади к общей средней площади жилья."
      ]
    },
    {
      "cell_type": "code",
      "execution_count": null,
      "metadata": {
        "id": "hAWF6Ui8rDms"
      },
      "outputs": [],
      "source": [
        "living_ratio = data['living_area'].mean() / data['total_area'].mean()\n",
        "kitchen_ratio = data['kitchen_area'].mean() / data['total_area'].mean()"
      ]
    },
    {
      "cell_type": "markdown",
      "metadata": {
        "id": "YoiorI0nrDmw"
      },
      "source": [
        "Заменяем пустые значения жилой и кухонной площади на значения общей площади квартиры умноженные на нужный коэффициент."
      ]
    },
    {
      "cell_type": "code",
      "execution_count": null,
      "metadata": {
        "id": "MulvMclxrDoP",
        "outputId": "36e57bb6-06d0-41a6-c257-734a6574473a"
      },
      "outputs": [
        {
          "name": "stdout",
          "output_type": "stream",
          "text": [
            "0\n"
          ]
        },
        {
          "data": {
            "text/plain": [
              "0"
            ]
          },
          "execution_count": 12,
          "metadata": {},
          "output_type": "execute_result"
        }
      ],
      "source": [
        "# Заменяем пустые значения жилой площади и площади кухни\n",
        "data['living_area'].fillna(data['total_area'] * living_ratio, inplace=True)\n",
        "print(data['living_area'].isna().sum())\n",
        "data['kitchen_area'].fillna(data['total_area'] * kitchen_ratio, inplace=True)\n",
        "data['kitchen_area'].isna().sum()"
      ]
    },
    {
      "cell_type": "markdown",
      "metadata": {
        "id": "Hq1O-0WlrDsY"
      },
      "source": [
        "Проверяем сколько пропусков осталось:"
      ]
    },
    {
      "cell_type": "code",
      "execution_count": null,
      "metadata": {
        "id": "tb_15yAIrDsZ",
        "outputId": "23971c6c-ec05-4a19-9cba-286b8d0d8c09"
      },
      "outputs": [
        {
          "data": {
            "text/plain": [
              "total_images                0\n",
              "last_price                  0\n",
              "total_area                  0\n",
              "first_day_exposition        0\n",
              "rooms                       0\n",
              "ceiling_height              0\n",
              "floors_total                0\n",
              "living_area                 0\n",
              "floor                       0\n",
              "is_apartment                0\n",
              "studio                      0\n",
              "open_plan                   0\n",
              "kitchen_area                0\n",
              "balcony                     0\n",
              "locality_name               0\n",
              "airports_nearest         5524\n",
              "cityCenters_nearest      5501\n",
              "parks_around3000            0\n",
              "parks_nearest           15535\n",
              "ponds_around3000            0\n",
              "ponds_nearest           14529\n",
              "days_exposition          3171\n",
              "dtype: int64"
            ]
          },
          "execution_count": 13,
          "metadata": {},
          "output_type": "execute_result"
        }
      ],
      "source": [
        "data.isna().sum()"
      ]
    },
    {
      "cell_type": "markdown",
      "metadata": {
        "id": "AmMUBZdwrDse"
      },
      "source": [
        "Оставшиеся пропуски заменить мы не можем. Оставим данные не заполненными."
      ]
    },
    {
      "cell_type": "markdown",
      "metadata": {
        "id": "QtQYW8AKrDtW"
      },
      "source": [
        "### Выводы:\n",
        "Для удобства последующей работы с данными перевели столбец с датой публикации объявлений в формат даты, а столбцы количество балконов, этажей, парков и озер недалеко от жилья, а также стоимость недвижимости перевели в целочислненный формат.\n",
        "Заполнили пропуски в столбце \"Высота потолков\" медианными значениями, а в столбце \"Площадь кухни и жилая площадь\" расчетными данными исходя из средних значений отношения ко всей площади. \n",
        "Небольшую часть данных в столбцах \"Название населенного пункта\", \"Этаж\" удалили, потому что не можем заполнить эти пропуски. "
      ]
    },
    {
      "cell_type": "markdown",
      "metadata": {
        "id": "EF4Ge-qarDuH"
      },
      "source": [
        "## Расчёты и добавление результатов в таблицу"
      ]
    },
    {
      "cell_type": "markdown",
      "metadata": {
        "id": "sIXLIi1lrDuM"
      },
      "source": [
        "Расчет стоимости квадратного метра"
      ]
    },
    {
      "cell_type": "code",
      "execution_count": null,
      "metadata": {
        "id": "lYoXCJrCrDuN"
      },
      "outputs": [],
      "source": [
        "data['price_per_m2'] = data['last_price'] / data['total_area']"
      ]
    },
    {
      "cell_type": "markdown",
      "metadata": {
        "id": "-lubsMcdrDvu"
      },
      "source": [
        "День недели, месяц и год публикации объявлений"
      ]
    },
    {
      "cell_type": "code",
      "execution_count": null,
      "metadata": {
        "id": "RbywUXusrDvy"
      },
      "outputs": [],
      "source": [
        "data['weekday'] = data['first_day_exposition'].dt.weekday\n",
        "data['month'] = data['first_day_exposition'].dt.month\n",
        "data['year'] = data['first_day_exposition'].dt.year"
      ]
    },
    {
      "cell_type": "markdown",
      "metadata": {
        "id": "NZRaBW2mrDv5"
      },
      "source": [
        "\n",
        "Группировка квартир по этажам (первый, последний, другой)"
      ]
    },
    {
      "cell_type": "code",
      "execution_count": null,
      "metadata": {
        "id": "WMT0r1ikrDv6"
      },
      "outputs": [],
      "source": [
        "def floor_group(row):\n",
        "    if row['floor'] == 1:\n",
        "        return 'fist'\n",
        "    if row['floor'] == row['floors_total']:\n",
        "        return 'last'\n",
        "    return 'other'\n",
        "data['floor_type'] = data.apply(floor_group, axis=1)"
      ]
    },
    {
      "cell_type": "markdown",
      "metadata": {
        "id": "ona3R1rjrDv8"
      },
      "source": [
        "\n",
        "Соотношение жилой и общей площади / площади кухни и общей площади"
      ]
    },
    {
      "cell_type": "code",
      "execution_count": null,
      "metadata": {
        "id": "UpUjSN-1rDv-",
        "outputId": "ee91d4ec-46f8-4fcc-b25b-a6c0d365a86f"
      },
      "outputs": [
        {
          "data": {
            "text/html": [
              "<div>\n",
              "<style scoped>\n",
              "    .dataframe tbody tr th:only-of-type {\n",
              "        vertical-align: middle;\n",
              "    }\n",
              "\n",
              "    .dataframe tbody tr th {\n",
              "        vertical-align: top;\n",
              "    }\n",
              "\n",
              "    .dataframe thead th {\n",
              "        text-align: right;\n",
              "    }\n",
              "</style>\n",
              "<table border=\"1\" class=\"dataframe\">\n",
              "  <thead>\n",
              "    <tr style=\"text-align: right;\">\n",
              "      <th></th>\n",
              "      <th>total_images</th>\n",
              "      <th>last_price</th>\n",
              "      <th>total_area</th>\n",
              "      <th>first_day_exposition</th>\n",
              "      <th>rooms</th>\n",
              "      <th>ceiling_height</th>\n",
              "      <th>floors_total</th>\n",
              "      <th>living_area</th>\n",
              "      <th>floor</th>\n",
              "      <th>is_apartment</th>\n",
              "      <th>...</th>\n",
              "      <th>ponds_around3000</th>\n",
              "      <th>ponds_nearest</th>\n",
              "      <th>days_exposition</th>\n",
              "      <th>price_per_m2</th>\n",
              "      <th>weekday</th>\n",
              "      <th>month</th>\n",
              "      <th>year</th>\n",
              "      <th>floor_type</th>\n",
              "      <th>living_ratio</th>\n",
              "      <th>kitchen_ratio</th>\n",
              "    </tr>\n",
              "  </thead>\n",
              "  <tbody>\n",
              "    <tr>\n",
              "      <th>0</th>\n",
              "      <td>20</td>\n",
              "      <td>13000000</td>\n",
              "      <td>108.0</td>\n",
              "      <td>2019-03-07</td>\n",
              "      <td>3</td>\n",
              "      <td>2.70</td>\n",
              "      <td>16</td>\n",
              "      <td>51.000000</td>\n",
              "      <td>8</td>\n",
              "      <td>False</td>\n",
              "      <td>...</td>\n",
              "      <td>2</td>\n",
              "      <td>755.0</td>\n",
              "      <td>NaN</td>\n",
              "      <td>120370.370370</td>\n",
              "      <td>3</td>\n",
              "      <td>3</td>\n",
              "      <td>2019</td>\n",
              "      <td>other</td>\n",
              "      <td>0.472222</td>\n",
              "      <td>0.231481</td>\n",
              "    </tr>\n",
              "    <tr>\n",
              "      <th>1</th>\n",
              "      <td>7</td>\n",
              "      <td>3350000</td>\n",
              "      <td>40.4</td>\n",
              "      <td>2018-12-04</td>\n",
              "      <td>1</td>\n",
              "      <td>2.65</td>\n",
              "      <td>11</td>\n",
              "      <td>18.600000</td>\n",
              "      <td>1</td>\n",
              "      <td>False</td>\n",
              "      <td>...</td>\n",
              "      <td>0</td>\n",
              "      <td>NaN</td>\n",
              "      <td>81.0</td>\n",
              "      <td>82920.792079</td>\n",
              "      <td>1</td>\n",
              "      <td>12</td>\n",
              "      <td>2018</td>\n",
              "      <td>fist</td>\n",
              "      <td>0.460396</td>\n",
              "      <td>0.272277</td>\n",
              "    </tr>\n",
              "    <tr>\n",
              "      <th>2</th>\n",
              "      <td>10</td>\n",
              "      <td>5196000</td>\n",
              "      <td>56.0</td>\n",
              "      <td>2015-08-20</td>\n",
              "      <td>2</td>\n",
              "      <td>2.65</td>\n",
              "      <td>5</td>\n",
              "      <td>34.300000</td>\n",
              "      <td>4</td>\n",
              "      <td>False</td>\n",
              "      <td>...</td>\n",
              "      <td>2</td>\n",
              "      <td>574.0</td>\n",
              "      <td>558.0</td>\n",
              "      <td>92785.714286</td>\n",
              "      <td>3</td>\n",
              "      <td>8</td>\n",
              "      <td>2015</td>\n",
              "      <td>other</td>\n",
              "      <td>0.612500</td>\n",
              "      <td>0.148214</td>\n",
              "    </tr>\n",
              "    <tr>\n",
              "      <th>3</th>\n",
              "      <td>0</td>\n",
              "      <td>64900000</td>\n",
              "      <td>159.0</td>\n",
              "      <td>2015-07-24</td>\n",
              "      <td>3</td>\n",
              "      <td>2.65</td>\n",
              "      <td>14</td>\n",
              "      <td>90.816648</td>\n",
              "      <td>9</td>\n",
              "      <td>False</td>\n",
              "      <td>...</td>\n",
              "      <td>3</td>\n",
              "      <td>234.0</td>\n",
              "      <td>424.0</td>\n",
              "      <td>408176.100629</td>\n",
              "      <td>4</td>\n",
              "      <td>7</td>\n",
              "      <td>2015</td>\n",
              "      <td>other</td>\n",
              "      <td>0.571174</td>\n",
              "      <td>0.175075</td>\n",
              "    </tr>\n",
              "    <tr>\n",
              "      <th>4</th>\n",
              "      <td>2</td>\n",
              "      <td>10000000</td>\n",
              "      <td>100.0</td>\n",
              "      <td>2018-06-19</td>\n",
              "      <td>2</td>\n",
              "      <td>3.03</td>\n",
              "      <td>14</td>\n",
              "      <td>32.000000</td>\n",
              "      <td>13</td>\n",
              "      <td>False</td>\n",
              "      <td>...</td>\n",
              "      <td>1</td>\n",
              "      <td>48.0</td>\n",
              "      <td>121.0</td>\n",
              "      <td>100000.000000</td>\n",
              "      <td>1</td>\n",
              "      <td>6</td>\n",
              "      <td>2018</td>\n",
              "      <td>other</td>\n",
              "      <td>0.320000</td>\n",
              "      <td>0.410000</td>\n",
              "    </tr>\n",
              "  </tbody>\n",
              "</table>\n",
              "<p>5 rows × 29 columns</p>\n",
              "</div>"
            ],
            "text/plain": [
              "   total_images  last_price  total_area first_day_exposition  rooms  \\\n",
              "0            20    13000000       108.0           2019-03-07      3   \n",
              "1             7     3350000        40.4           2018-12-04      1   \n",
              "2            10     5196000        56.0           2015-08-20      2   \n",
              "3             0    64900000       159.0           2015-07-24      3   \n",
              "4             2    10000000       100.0           2018-06-19      2   \n",
              "\n",
              "   ceiling_height  floors_total  living_area  floor  is_apartment  ...  \\\n",
              "0            2.70            16    51.000000      8         False  ...   \n",
              "1            2.65            11    18.600000      1         False  ...   \n",
              "2            2.65             5    34.300000      4         False  ...   \n",
              "3            2.65            14    90.816648      9         False  ...   \n",
              "4            3.03            14    32.000000     13         False  ...   \n",
              "\n",
              "   ponds_around3000  ponds_nearest  days_exposition   price_per_m2 weekday  \\\n",
              "0                 2          755.0              NaN  120370.370370       3   \n",
              "1                 0            NaN             81.0   82920.792079       1   \n",
              "2                 2          574.0            558.0   92785.714286       3   \n",
              "3                 3          234.0            424.0  408176.100629       4   \n",
              "4                 1           48.0            121.0  100000.000000       1   \n",
              "\n",
              "   month  year  floor_type  living_ratio  kitchen_ratio  \n",
              "0      3  2019       other      0.472222       0.231481  \n",
              "1     12  2018        fist      0.460396       0.272277  \n",
              "2      8  2015       other      0.612500       0.148214  \n",
              "3      7  2015       other      0.571174       0.175075  \n",
              "4      6  2018       other      0.320000       0.410000  \n",
              "\n",
              "[5 rows x 29 columns]"
            ]
          },
          "execution_count": 17,
          "metadata": {},
          "output_type": "execute_result"
        }
      ],
      "source": [
        "data['living_ratio'] = data['living_area'] / data['total_area']\n",
        "data['kitchen_ratio'] = data['kitchen_area'] / data['total_area']\n",
        "\n",
        "data.head()"
      ]
    },
    {
      "cell_type": "markdown",
      "metadata": {
        "id": "B_ZSfLSyrDwI"
      },
      "source": [
        "## Исследовательский анализ данных"
      ]
    },
    {
      "cell_type": "markdown",
      "metadata": {
        "id": "1vOyEi6HrDwJ"
      },
      "source": [
        "### Исследование основных данных: площадь и стоимость квартир, число комнат, высота потолков."
      ]
    },
    {
      "cell_type": "code",
      "execution_count": null,
      "metadata": {
        "id": "ucIQMvqYrDwJ",
        "outputId": "6ba3186f-a0e6-499e-868b-8b3cd53f0366"
      },
      "outputs": [
        {
          "data": {
            "image/png": "[encoded data removed]",
            "text/plain": [
              "<Figure size 432x288 with 1 Axes>"
            ]
          },
          "metadata": {
            "needs_background": "light"
          },
          "output_type": "display_data"
        },
        {
          "data": {
            "text/plain": [
              "count    23565.000000\n",
              "mean        60.322824\n",
              "std         35.657060\n",
              "min         12.000000\n",
              "25%         40.000000\n",
              "50%         52.000000\n",
              "75%         69.700000\n",
              "max        900.000000\n",
              "Name: total_area, dtype: float64"
            ]
          },
          "execution_count": 18,
          "metadata": {},
          "output_type": "execute_result"
        }
      ],
      "source": [
        "plt.hist(data['total_area'], bins=70, range=(10, 400))\n",
        "plt.grid(True)\n",
        "plt.title('Площадь квартиры')\n",
        "plt.xlabel('Квадратные метры')\n",
        "plt.ylabel('Количество квартир')\n",
        "plt.show()\n",
        "\n",
        "data['total_area'].describe()"
      ]
    },
    {
      "cell_type": "markdown",
      "metadata": {
        "id": "aXYwFmvmrDwM"
      },
      "source": [
        "По графику видим, что основной объем квартир находится в интервале от 30 до 90 кв. метров. Что является вполне адекватным. Большинство квартир - от 30 до 100 квадратных метров. Это является реальными данными. Среднее и медианное значения не сильно отличаются друг от друга, это может показывать, площадь квартир однообразна. Есть небольшое количество квартир площадью больше 100 квадратных метров."
      ]
    },
    {
      "cell_type": "code",
      "execution_count": null,
      "metadata": {
        "id": "_jFZmMiDrDwO",
        "outputId": "9c8decb4-8594-4a32-cea9-d2a6aee00f7e"
      },
      "outputs": [
        {
          "data": {
            "image/png": "[encoded data removed]",
            "text/plain": [
              "<Figure size 432x288 with 1 Axes>"
            ]
          },
          "metadata": {
            "needs_background": "light"
          },
          "output_type": "display_data"
        },
        {
          "data": {
            "text/plain": [
              "count    2.356500e+04\n",
              "mean     6.540058e+06\n",
              "std      1.091093e+07\n",
              "min      1.219000e+04\n",
              "25%      3.400000e+06\n",
              "50%      4.646000e+06\n",
              "75%      6.790000e+06\n",
              "max      7.630000e+08\n",
              "Name: last_price, dtype: float64"
            ]
          },
          "execution_count": 19,
          "metadata": {},
          "output_type": "execute_result"
        }
      ],
      "source": [
        "plt.hist(data['last_price'], bins=40, range=(0, 55000000))\n",
        "plt.grid(True)\n",
        "plt.title('Стоимость квартир')\n",
        "plt.xlabel('Рубли, млн.')\n",
        "plt.ylabel('Количество квартир')\n",
        "plt.show()\n",
        "\n",
        "data['last_price'].describe()"
      ]
    },
    {
      "cell_type": "markdown",
      "metadata": {
        "id": "st224b2krDwP"
      },
      "source": [
        "В основном стоимость квартир укладывается в интревал от 2 до 8 миллионов. Квартиры стоимостью больше 10 миллионов встречаются редко."
      ]
    },
    {
      "cell_type": "code",
      "execution_count": null,
      "metadata": {
        "id": "1oKvJs1srDwS",
        "outputId": "9e7e8f2a-6267-45e7-9ad4-1eb1c7673bf6"
      },
      "outputs": [
        {
          "data": {
            "image/png": "[encoded data removed]",
            "text/plain": [
              "<Figure size 432x288 with 1 Axes>"
            ]
          },
          "metadata": {
            "needs_background": "light"
          },
          "output_type": "display_data"
        },
        {
          "data": {
            "text/plain": [
              "count    23565.000000\n",
              "mean         2.070656\n",
              "std          1.078591\n",
              "min          0.000000\n",
              "25%          1.000000\n",
              "50%          2.000000\n",
              "75%          3.000000\n",
              "max         19.000000\n",
              "Name: rooms, dtype: float64"
            ]
          },
          "execution_count": 20,
          "metadata": {},
          "output_type": "execute_result"
        }
      ],
      "source": [
        "plt.hist(data['rooms'], bins=11, range=(0, 10))\n",
        "plt.grid(True)\n",
        "plt.title('Количество комнат')\n",
        "plt.xlabel('Комнаты')\n",
        "plt.ylabel('Количество квартир')\n",
        "plt.show()\n",
        "\n",
        "data['rooms'].describe()"
      ]
    },
    {
      "cell_type": "markdown",
      "metadata": {
        "id": "WsbLR4jqrDwT"
      },
      "source": [
        "Из графика видим, что количество комнат лежит в интервале от 1 до 3 комнат. В основном квартиры 1, 2 и 3 комнатные. Есть небольшая доля 4-комнатных квартир. Варианты, где больше 5 комнат выглядят подозрительно. Воможно, это бывшие коммунальные квартиры или объединенное жилье."
      ]
    },
    {
      "cell_type": "code",
      "execution_count": null,
      "metadata": {
        "scrolled": true,
        "id": "qddHZ3l5rDwU",
        "outputId": "e26c2078-796e-444f-8cef-e5506fc3f9af"
      },
      "outputs": [
        {
          "data": {
            "image/png": "[encoded data removed]",
            "text/plain": [
              "<Figure size 432x288 with 1 Axes>"
            ]
          },
          "metadata": {
            "needs_background": "light"
          },
          "output_type": "display_data"
        },
        {
          "data": {
            "text/plain": [
              "count    23565.000000\n",
              "mean         2.724530\n",
              "std          0.991026\n",
              "min          1.000000\n",
              "25%          2.600000\n",
              "50%          2.650000\n",
              "75%          2.700000\n",
              "max        100.000000\n",
              "Name: ceiling_height, dtype: float64"
            ]
          },
          "execution_count": 21,
          "metadata": {},
          "output_type": "execute_result"
        }
      ],
      "source": [
        "plt.hist(data['ceiling_height'], bins=10, range=(2, 4))\n",
        "plt.grid(True)\n",
        "plt.title('Высота потолков')\n",
        "plt.xlabel('Метры')\n",
        "plt.ylabel('Количество квартир')\n",
        "plt.show()\n",
        "\n",
        "\n",
        "data['ceiling_height'].describe()\n"
      ]
    },
    {
      "cell_type": "markdown",
      "metadata": {
        "id": "-IckQE2brDwW"
      },
      "source": [
        "Основная масса квартир по высоте потолков лежит в интервале от 2,4 до 2,75 м."
      ]
    },
    {
      "cell_type": "markdown",
      "metadata": {
        "id": "VfztSnZMrDwY"
      },
      "source": [
        "### Изучение времени продажи квартир."
      ]
    },
    {
      "cell_type": "code",
      "execution_count": null,
      "metadata": {
        "id": "JCFi0O-hrDwZ",
        "outputId": "c8092772-13da-4606-e462-8c279e46ae6f"
      },
      "outputs": [
        {
          "name": "stdout",
          "output_type": "stream",
          "text": [
            "Медиана срока продажи: 95.0\n",
            "Среднее значение сроков продажи: 180.74\n"
          ]
        },
        {
          "data": {
            "image/png": "[encoded data removed]",
            "text/plain": [
              "<Figure size 432x288 with 1 Axes>"
            ]
          },
          "metadata": {
            "needs_background": "light"
          },
          "output_type": "display_data"
        },
        {
          "data": {
            "text/plain": [
              "count    20394.000000\n",
              "mean       180.741395\n",
              "std        219.732782\n",
              "min          1.000000\n",
              "25%         45.000000\n",
              "50%         95.000000\n",
              "75%        231.000000\n",
              "max       1580.000000\n",
              "Name: days_exposition, dtype: float64"
            ]
          },
          "execution_count": 22,
          "metadata": {},
          "output_type": "execute_result"
        }
      ],
      "source": [
        "print('Медиана срока продажи:', data['days_exposition'].median())\n",
        "print('Среднее значение сроков продажи:', data['days_exposition'].mean().round(2))\n",
        "\n",
        "# Гистограма сроков продажи жилья\n",
        "plt.hist(data['days_exposition'], bins=30, range=(0,1700))\n",
        "plt.grid(True)\n",
        "plt.title('Срок продажи')\n",
        "plt.xlabel('Дни')\n",
        "plt.ylabel('Количество квартир')\n",
        "plt.show()\n",
        "# Аналитические значения срока продажи\n",
        "data['days_exposition'].describe()"
      ]
    },
    {
      "cell_type": "markdown",
      "metadata": {
        "id": "WPj_YchjrDwc"
      },
      "source": [
        "На диаграмме размаха подробнее изучим данные."
      ]
    },
    {
      "cell_type": "code",
      "execution_count": null,
      "metadata": {
        "id": "70fr678GrDwd",
        "outputId": "cb083fda-02a0-42e4-9a0d-8faf1c7fb5ac"
      },
      "outputs": [
        {
          "data": {
            "text/plain": [
              "<AxesSubplot:>"
            ]
          },
          "execution_count": 23,
          "metadata": {},
          "output_type": "execute_result"
        },
        {
          "data": {
            "image/png": "[encoded data removed]",
            "text/plain": [
              "<Figure size 360x648 with 1 Axes>"
            ]
          },
          "metadata": {
            "needs_background": "light"
          },
          "output_type": "display_data"
        }
      ],
      "source": [
        "data.boxplot(column='days_exposition',  figsize=(5,9))"
      ]
    },
    {
      "cell_type": "markdown",
      "metadata": {
        "id": "1UYuDQW-rDwe"
      },
      "source": [
        "По диаграмме видим, что в данных существует выброс из необычайно длинных сроков продаж. Сроки больше 700 дней будем считать необычайно длинными."
      ]
    },
    {
      "cell_type": "markdown",
      "metadata": {
        "id": "CutJ1uT3rDwf"
      },
      "source": [
        "Медианное время продажи - 95 дней. Средний срок продажи - 181 день. В основном квартиры продаются за срок в 125 дней. Большинство квартир продается за период до 75 дней. А также есть варианты жилья, которое продавалось больше года.\n",
        "\n",
        "Быстрой продажей можно назвать срок до 45 дней. Необычайно долгие продажи - 500 дней и дольше."
      ]
    },
    {
      "cell_type": "markdown",
      "metadata": {
        "id": "icBKtlb0rDwg"
      },
      "source": [
        "### Редкие и выбивающиеся значения"
      ]
    },
    {
      "cell_type": "markdown",
      "metadata": {
        "id": "DfaUu2GPrDwh"
      },
      "source": [
        "Будем считать, что редкие и выбивающиеся значения лежал за границами 1,5 межквартильных размахов. \n",
        "Создадим функцию, которая вычисляет значения размахов. Далее напишем цикл, который будет перебирать все нужные нам столбцы и отбросит данные, выходящие за границу 1,5 межквартильных размахов. "
      ]
    },
    {
      "cell_type": "code",
      "execution_count": null,
      "metadata": {
        "id": "C7V7etQbrDwj",
        "outputId": "d51874aa-5d84-4382-9618-aed853f117af"
      },
      "outputs": [
        {
          "data": {
            "text/html": [
              "<div>\n",
              "<style scoped>\n",
              "    .dataframe tbody tr th:only-of-type {\n",
              "        vertical-align: middle;\n",
              "    }\n",
              "\n",
              "    .dataframe tbody tr th {\n",
              "        vertical-align: top;\n",
              "    }\n",
              "\n",
              "    .dataframe thead th {\n",
              "        text-align: right;\n",
              "    }\n",
              "</style>\n",
              "<table border=\"1\" class=\"dataframe\">\n",
              "  <thead>\n",
              "    <tr style=\"text-align: right;\">\n",
              "      <th></th>\n",
              "      <th>total_images</th>\n",
              "      <th>last_price</th>\n",
              "      <th>total_area</th>\n",
              "      <th>rooms</th>\n",
              "      <th>ceiling_height</th>\n",
              "      <th>floors_total</th>\n",
              "      <th>living_area</th>\n",
              "      <th>floor</th>\n",
              "      <th>kitchen_area</th>\n",
              "      <th>balcony</th>\n",
              "      <th>...</th>\n",
              "      <th>parks_nearest</th>\n",
              "      <th>ponds_around3000</th>\n",
              "      <th>ponds_nearest</th>\n",
              "      <th>days_exposition</th>\n",
              "      <th>price_per_m2</th>\n",
              "      <th>weekday</th>\n",
              "      <th>month</th>\n",
              "      <th>year</th>\n",
              "      <th>living_ratio</th>\n",
              "      <th>kitchen_ratio</th>\n",
              "    </tr>\n",
              "  </thead>\n",
              "  <tbody>\n",
              "    <tr>\n",
              "      <th>count</th>\n",
              "      <td>23565.000000</td>\n",
              "      <td>2.356500e+04</td>\n",
              "      <td>23565.000000</td>\n",
              "      <td>23565.000000</td>\n",
              "      <td>23565.000000</td>\n",
              "      <td>23565.000000</td>\n",
              "      <td>23565.000000</td>\n",
              "      <td>23565.000000</td>\n",
              "      <td>23565.000000</td>\n",
              "      <td>23565.000000</td>\n",
              "      <td>...</td>\n",
              "      <td>8030.000000</td>\n",
              "      <td>23565.000000</td>\n",
              "      <td>9036.000000</td>\n",
              "      <td>20394.000000</td>\n",
              "      <td>2.356500e+04</td>\n",
              "      <td>23565.000000</td>\n",
              "      <td>23565.000000</td>\n",
              "      <td>23565.000000</td>\n",
              "      <td>23565.000000</td>\n",
              "      <td>23565.000000</td>\n",
              "    </tr>\n",
              "    <tr>\n",
              "      <th>mean</th>\n",
              "      <td>9.878421</td>\n",
              "      <td>6.540058e+06</td>\n",
              "      <td>60.322824</td>\n",
              "      <td>2.070656</td>\n",
              "      <td>2.724530</td>\n",
              "      <td>10.675875</td>\n",
              "      <td>34.592277</td>\n",
              "      <td>5.878124</td>\n",
              "      <td>10.499898</td>\n",
              "      <td>0.593677</td>\n",
              "      <td>...</td>\n",
              "      <td>490.580448</td>\n",
              "      <td>0.589900</td>\n",
              "      <td>518.289509</td>\n",
              "      <td>180.741395</td>\n",
              "      <td>9.940584e+04</td>\n",
              "      <td>2.567367</td>\n",
              "      <td>6.401570</td>\n",
              "      <td>2017.371016</td>\n",
              "      <td>0.565431</td>\n",
              "      <td>0.186183</td>\n",
              "    </tr>\n",
              "    <tr>\n",
              "      <th>std</th>\n",
              "      <td>5.681156</td>\n",
              "      <td>1.091093e+07</td>\n",
              "      <td>35.657060</td>\n",
              "      <td>1.078591</td>\n",
              "      <td>0.991026</td>\n",
              "      <td>6.594823</td>\n",
              "      <td>22.373679</td>\n",
              "      <td>4.871485</td>\n",
              "      <td>6.037750</td>\n",
              "      <td>0.960660</td>\n",
              "      <td>...</td>\n",
              "      <td>341.572956</td>\n",
              "      <td>0.883966</td>\n",
              "      <td>278.009558</td>\n",
              "      <td>219.732782</td>\n",
              "      <td>5.038943e+04</td>\n",
              "      <td>1.788279</td>\n",
              "      <td>3.492948</td>\n",
              "      <td>1.037393</td>\n",
              "      <td>0.101071</td>\n",
              "      <td>0.069545</td>\n",
              "    </tr>\n",
              "    <tr>\n",
              "      <th>min</th>\n",
              "      <td>0.000000</td>\n",
              "      <td>1.219000e+04</td>\n",
              "      <td>12.000000</td>\n",
              "      <td>0.000000</td>\n",
              "      <td>1.000000</td>\n",
              "      <td>1.000000</td>\n",
              "      <td>2.000000</td>\n",
              "      <td>1.000000</td>\n",
              "      <td>1.300000</td>\n",
              "      <td>0.000000</td>\n",
              "      <td>...</td>\n",
              "      <td>1.000000</td>\n",
              "      <td>0.000000</td>\n",
              "      <td>13.000000</td>\n",
              "      <td>1.000000</td>\n",
              "      <td>1.118349e+02</td>\n",
              "      <td>0.000000</td>\n",
              "      <td>1.000000</td>\n",
              "      <td>2014.000000</td>\n",
              "      <td>0.021583</td>\n",
              "      <td>0.025381</td>\n",
              "    </tr>\n",
              "    <tr>\n",
              "      <th>25%</th>\n",
              "      <td>6.000000</td>\n",
              "      <td>3.400000e+06</td>\n",
              "      <td>40.000000</td>\n",
              "      <td>1.000000</td>\n",
              "      <td>2.600000</td>\n",
              "      <td>5.000000</td>\n",
              "      <td>19.000000</td>\n",
              "      <td>2.000000</td>\n",
              "      <td>7.000000</td>\n",
              "      <td>0.000000</td>\n",
              "      <td>...</td>\n",
              "      <td>288.000000</td>\n",
              "      <td>0.000000</td>\n",
              "      <td>293.000000</td>\n",
              "      <td>45.000000</td>\n",
              "      <td>7.656613e+04</td>\n",
              "      <td>1.000000</td>\n",
              "      <td>3.000000</td>\n",
              "      <td>2017.000000</td>\n",
              "      <td>0.500000</td>\n",
              "      <td>0.136738</td>\n",
              "    </tr>\n",
              "    <tr>\n",
              "      <th>50%</th>\n",
              "      <td>9.000000</td>\n",
              "      <td>4.646000e+06</td>\n",
              "      <td>52.000000</td>\n",
              "      <td>2.000000</td>\n",
              "      <td>2.650000</td>\n",
              "      <td>9.000000</td>\n",
              "      <td>30.000000</td>\n",
              "      <td>4.000000</td>\n",
              "      <td>9.000000</td>\n",
              "      <td>0.000000</td>\n",
              "      <td>...</td>\n",
              "      <td>455.000000</td>\n",
              "      <td>0.000000</td>\n",
              "      <td>503.000000</td>\n",
              "      <td>95.000000</td>\n",
              "      <td>9.500000e+04</td>\n",
              "      <td>3.000000</td>\n",
              "      <td>6.000000</td>\n",
              "      <td>2017.000000</td>\n",
              "      <td>0.571174</td>\n",
              "      <td>0.175075</td>\n",
              "    </tr>\n",
              "    <tr>\n",
              "      <th>75%</th>\n",
              "      <td>14.000000</td>\n",
              "      <td>6.790000e+06</td>\n",
              "      <td>69.700000</td>\n",
              "      <td>3.000000</td>\n",
              "      <td>2.700000</td>\n",
              "      <td>16.000000</td>\n",
              "      <td>42.100000</td>\n",
              "      <td>8.000000</td>\n",
              "      <td>12.000000</td>\n",
              "      <td>1.000000</td>\n",
              "      <td>...</td>\n",
              "      <td>612.000000</td>\n",
              "      <td>1.000000</td>\n",
              "      <td>730.000000</td>\n",
              "      <td>231.000000</td>\n",
              "      <td>1.142132e+05</td>\n",
              "      <td>4.000000</td>\n",
              "      <td>10.000000</td>\n",
              "      <td>2018.000000</td>\n",
              "      <td>0.631732</td>\n",
              "      <td>0.223881</td>\n",
              "    </tr>\n",
              "    <tr>\n",
              "      <th>max</th>\n",
              "      <td>50.000000</td>\n",
              "      <td>7.630000e+08</td>\n",
              "      <td>900.000000</td>\n",
              "      <td>19.000000</td>\n",
              "      <td>100.000000</td>\n",
              "      <td>60.000000</td>\n",
              "      <td>409.700000</td>\n",
              "      <td>33.000000</td>\n",
              "      <td>112.000000</td>\n",
              "      <td>5.000000</td>\n",
              "      <td>...</td>\n",
              "      <td>3190.000000</td>\n",
              "      <td>3.000000</td>\n",
              "      <td>1344.000000</td>\n",
              "      <td>1580.000000</td>\n",
              "      <td>1.907500e+06</td>\n",
              "      <td>6.000000</td>\n",
              "      <td>12.000000</td>\n",
              "      <td>2019.000000</td>\n",
              "      <td>1.000000</td>\n",
              "      <td>0.787879</td>\n",
              "    </tr>\n",
              "  </tbody>\n",
              "</table>\n",
              "<p>8 rows × 23 columns</p>\n",
              "</div>"
            ],
            "text/plain": [
              "       total_images    last_price    total_area         rooms  ceiling_height  \\\n",
              "count  23565.000000  2.356500e+04  23565.000000  23565.000000    23565.000000   \n",
              "mean       9.878421  6.540058e+06     60.322824      2.070656        2.724530   \n",
              "std        5.681156  1.091093e+07     35.657060      1.078591        0.991026   \n",
              "min        0.000000  1.219000e+04     12.000000      0.000000        1.000000   \n",
              "25%        6.000000  3.400000e+06     40.000000      1.000000        2.600000   \n",
              "50%        9.000000  4.646000e+06     52.000000      2.000000        2.650000   \n",
              "75%       14.000000  6.790000e+06     69.700000      3.000000        2.700000   \n",
              "max       50.000000  7.630000e+08    900.000000     19.000000      100.000000   \n",
              "\n",
              "       floors_total   living_area         floor  kitchen_area       balcony  \\\n",
              "count  23565.000000  23565.000000  23565.000000  23565.000000  23565.000000   \n",
              "mean      10.675875     34.592277      5.878124     10.499898      0.593677   \n",
              "std        6.594823     22.373679      4.871485      6.037750      0.960660   \n",
              "min        1.000000      2.000000      1.000000      1.300000      0.000000   \n",
              "25%        5.000000     19.000000      2.000000      7.000000      0.000000   \n",
              "50%        9.000000     30.000000      4.000000      9.000000      0.000000   \n",
              "75%       16.000000     42.100000      8.000000     12.000000      1.000000   \n",
              "max       60.000000    409.700000     33.000000    112.000000      5.000000   \n",
              "\n",
              "       ...  parks_nearest  ponds_around3000  ponds_nearest  days_exposition  \\\n",
              "count  ...    8030.000000      23565.000000    9036.000000     20394.000000   \n",
              "mean   ...     490.580448          0.589900     518.289509       180.741395   \n",
              "std    ...     341.572956          0.883966     278.009558       219.732782   \n",
              "min    ...       1.000000          0.000000      13.000000         1.000000   \n",
              "25%    ...     288.000000          0.000000     293.000000        45.000000   \n",
              "50%    ...     455.000000          0.000000     503.000000        95.000000   \n",
              "75%    ...     612.000000          1.000000     730.000000       231.000000   \n",
              "max    ...    3190.000000          3.000000    1344.000000      1580.000000   \n",
              "\n",
              "       price_per_m2       weekday         month          year  living_ratio  \\\n",
              "count  2.356500e+04  23565.000000  23565.000000  23565.000000  23565.000000   \n",
              "mean   9.940584e+04      2.567367      6.401570   2017.371016      0.565431   \n",
              "std    5.038943e+04      1.788279      3.492948      1.037393      0.101071   \n",
              "min    1.118349e+02      0.000000      1.000000   2014.000000      0.021583   \n",
              "25%    7.656613e+04      1.000000      3.000000   2017.000000      0.500000   \n",
              "50%    9.500000e+04      3.000000      6.000000   2017.000000      0.571174   \n",
              "75%    1.142132e+05      4.000000     10.000000   2018.000000      0.631732   \n",
              "max    1.907500e+06      6.000000     12.000000   2019.000000      1.000000   \n",
              "\n",
              "       kitchen_ratio  \n",
              "count   23565.000000  \n",
              "mean        0.186183  \n",
              "std         0.069545  \n",
              "min         0.025381  \n",
              "25%         0.136738  \n",
              "50%         0.175075  \n",
              "75%         0.223881  \n",
              "max         0.787879  \n",
              "\n",
              "[8 rows x 23 columns]"
            ]
          },
          "metadata": {},
          "output_type": "display_data"
        },
        {
          "data": {
            "text/html": [
              "<div>\n",
              "<style scoped>\n",
              "    .dataframe tbody tr th:only-of-type {\n",
              "        vertical-align: middle;\n",
              "    }\n",
              "\n",
              "    .dataframe tbody tr th {\n",
              "        vertical-align: top;\n",
              "    }\n",
              "\n",
              "    .dataframe thead th {\n",
              "        text-align: right;\n",
              "    }\n",
              "</style>\n",
              "<table border=\"1\" class=\"dataframe\">\n",
              "  <thead>\n",
              "    <tr style=\"text-align: right;\">\n",
              "      <th></th>\n",
              "      <th>total_images</th>\n",
              "      <th>last_price</th>\n",
              "      <th>total_area</th>\n",
              "      <th>rooms</th>\n",
              "      <th>ceiling_height</th>\n",
              "      <th>floors_total</th>\n",
              "      <th>living_area</th>\n",
              "      <th>floor</th>\n",
              "      <th>kitchen_area</th>\n",
              "      <th>balcony</th>\n",
              "      <th>...</th>\n",
              "      <th>parks_nearest</th>\n",
              "      <th>ponds_around3000</th>\n",
              "      <th>ponds_nearest</th>\n",
              "      <th>days_exposition</th>\n",
              "      <th>price_per_m2</th>\n",
              "      <th>weekday</th>\n",
              "      <th>month</th>\n",
              "      <th>year</th>\n",
              "      <th>living_ratio</th>\n",
              "      <th>kitchen_ratio</th>\n",
              "    </tr>\n",
              "  </thead>\n",
              "  <tbody>\n",
              "    <tr>\n",
              "      <th>count</th>\n",
              "      <td>23565.000000</td>\n",
              "      <td>2.151900e+04</td>\n",
              "      <td>22326.000000</td>\n",
              "      <td>23371.000000</td>\n",
              "      <td>20601.000000</td>\n",
              "      <td>23565.000000</td>\n",
              "      <td>22682.000000</td>\n",
              "      <td>23565.000000</td>\n",
              "      <td>22250.000000</td>\n",
              "      <td>23565.000000</td>\n",
              "      <td>...</td>\n",
              "      <td>8030.000000</td>\n",
              "      <td>23565.000000</td>\n",
              "      <td>9036.000000</td>\n",
              "      <td>18721.000000</td>\n",
              "      <td>2.356500e+04</td>\n",
              "      <td>23565.000000</td>\n",
              "      <td>23565.000000</td>\n",
              "      <td>23565.000000</td>\n",
              "      <td>23565.000000</td>\n",
              "      <td>23565.000000</td>\n",
              "    </tr>\n",
              "    <tr>\n",
              "      <th>mean</th>\n",
              "      <td>9.878421</td>\n",
              "      <td>4.837115e+06</td>\n",
              "      <td>54.319704</td>\n",
              "      <td>2.030208</td>\n",
              "      <td>2.631089</td>\n",
              "      <td>10.675875</td>\n",
              "      <td>31.526984</td>\n",
              "      <td>5.878124</td>\n",
              "      <td>9.417840</td>\n",
              "      <td>0.593677</td>\n",
              "      <td>...</td>\n",
              "      <td>490.580448</td>\n",
              "      <td>0.589900</td>\n",
              "      <td>518.289509</td>\n",
              "      <td>128.299343</td>\n",
              "      <td>9.940584e+04</td>\n",
              "      <td>2.567367</td>\n",
              "      <td>6.401570</td>\n",
              "      <td>2017.371016</td>\n",
              "      <td>0.565431</td>\n",
              "      <td>0.186183</td>\n",
              "    </tr>\n",
              "    <tr>\n",
              "      <th>std</th>\n",
              "      <td>5.681156</td>\n",
              "      <td>2.215774e+06</td>\n",
              "      <td>19.331030</td>\n",
              "      <td>0.973563</td>\n",
              "      <td>0.081473</td>\n",
              "      <td>6.594823</td>\n",
              "      <td>13.752739</td>\n",
              "      <td>4.871485</td>\n",
              "      <td>3.177523</td>\n",
              "      <td>0.960660</td>\n",
              "      <td>...</td>\n",
              "      <td>341.572956</td>\n",
              "      <td>0.883966</td>\n",
              "      <td>278.009558</td>\n",
              "      <td>121.064671</td>\n",
              "      <td>5.038943e+04</td>\n",
              "      <td>1.788279</td>\n",
              "      <td>3.492948</td>\n",
              "      <td>1.037393</td>\n",
              "      <td>0.101071</td>\n",
              "      <td>0.069545</td>\n",
              "    </tr>\n",
              "    <tr>\n",
              "      <th>min</th>\n",
              "      <td>0.000000</td>\n",
              "      <td>1.219000e+04</td>\n",
              "      <td>12.000000</td>\n",
              "      <td>0.000000</td>\n",
              "      <td>2.460000</td>\n",
              "      <td>1.000000</td>\n",
              "      <td>2.000000</td>\n",
              "      <td>1.000000</td>\n",
              "      <td>1.300000</td>\n",
              "      <td>0.000000</td>\n",
              "      <td>...</td>\n",
              "      <td>1.000000</td>\n",
              "      <td>0.000000</td>\n",
              "      <td>13.000000</td>\n",
              "      <td>1.000000</td>\n",
              "      <td>1.118349e+02</td>\n",
              "      <td>0.000000</td>\n",
              "      <td>1.000000</td>\n",
              "      <td>2014.000000</td>\n",
              "      <td>0.021583</td>\n",
              "      <td>0.025381</td>\n",
              "    </tr>\n",
              "    <tr>\n",
              "      <th>25%</th>\n",
              "      <td>6.000000</td>\n",
              "      <td>3.300000e+06</td>\n",
              "      <td>39.400000</td>\n",
              "      <td>1.000000</td>\n",
              "      <td>2.600000</td>\n",
              "      <td>5.000000</td>\n",
              "      <td>18.700000</td>\n",
              "      <td>2.000000</td>\n",
              "      <td>7.000000</td>\n",
              "      <td>0.000000</td>\n",
              "      <td>...</td>\n",
              "      <td>288.000000</td>\n",
              "      <td>0.000000</td>\n",
              "      <td>293.000000</td>\n",
              "      <td>41.000000</td>\n",
              "      <td>7.656613e+04</td>\n",
              "      <td>1.000000</td>\n",
              "      <td>3.000000</td>\n",
              "      <td>2017.000000</td>\n",
              "      <td>0.500000</td>\n",
              "      <td>0.136738</td>\n",
              "    </tr>\n",
              "    <tr>\n",
              "      <th>50%</th>\n",
              "      <td>9.000000</td>\n",
              "      <td>4.400000e+06</td>\n",
              "      <td>50.000000</td>\n",
              "      <td>2.000000</td>\n",
              "      <td>2.650000</td>\n",
              "      <td>9.000000</td>\n",
              "      <td>30.000000</td>\n",
              "      <td>4.000000</td>\n",
              "      <td>9.000000</td>\n",
              "      <td>0.000000</td>\n",
              "      <td>...</td>\n",
              "      <td>455.000000</td>\n",
              "      <td>0.000000</td>\n",
              "      <td>503.000000</td>\n",
              "      <td>85.000000</td>\n",
              "      <td>9.500000e+04</td>\n",
              "      <td>3.000000</td>\n",
              "      <td>6.000000</td>\n",
              "      <td>2017.000000</td>\n",
              "      <td>0.571174</td>\n",
              "      <td>0.175075</td>\n",
              "    </tr>\n",
              "    <tr>\n",
              "      <th>75%</th>\n",
              "      <td>14.000000</td>\n",
              "      <td>6.000000e+06</td>\n",
              "      <td>65.500000</td>\n",
              "      <td>3.000000</td>\n",
              "      <td>2.650000</td>\n",
              "      <td>16.000000</td>\n",
              "      <td>40.600000</td>\n",
              "      <td>8.000000</td>\n",
              "      <td>11.000000</td>\n",
              "      <td>1.000000</td>\n",
              "      <td>...</td>\n",
              "      <td>612.000000</td>\n",
              "      <td>1.000000</td>\n",
              "      <td>730.000000</td>\n",
              "      <td>182.000000</td>\n",
              "      <td>1.142132e+05</td>\n",
              "      <td>4.000000</td>\n",
              "      <td>10.000000</td>\n",
              "      <td>2018.000000</td>\n",
              "      <td>0.631732</td>\n",
              "      <td>0.223881</td>\n",
              "    </tr>\n",
              "    <tr>\n",
              "      <th>max</th>\n",
              "      <td>50.000000</td>\n",
              "      <td>1.186686e+07</td>\n",
              "      <td>114.200000</td>\n",
              "      <td>5.000000</td>\n",
              "      <td>2.850000</td>\n",
              "      <td>60.000000</td>\n",
              "      <td>76.700000</td>\n",
              "      <td>33.000000</td>\n",
              "      <td>19.450000</td>\n",
              "      <td>5.000000</td>\n",
              "      <td>...</td>\n",
              "      <td>3190.000000</td>\n",
              "      <td>3.000000</td>\n",
              "      <td>1344.000000</td>\n",
              "      <td>509.000000</td>\n",
              "      <td>1.907500e+06</td>\n",
              "      <td>6.000000</td>\n",
              "      <td>12.000000</td>\n",
              "      <td>2019.000000</td>\n",
              "      <td>1.000000</td>\n",
              "      <td>0.787879</td>\n",
              "    </tr>\n",
              "  </tbody>\n",
              "</table>\n",
              "<p>8 rows × 23 columns</p>\n",
              "</div>"
            ],
            "text/plain": [
              "       total_images    last_price    total_area         rooms  ceiling_height  \\\n",
              "count  23565.000000  2.151900e+04  22326.000000  23371.000000    20601.000000   \n",
              "mean       9.878421  4.837115e+06     54.319704      2.030208        2.631089   \n",
              "std        5.681156  2.215774e+06     19.331030      0.973563        0.081473   \n",
              "min        0.000000  1.219000e+04     12.000000      0.000000        2.460000   \n",
              "25%        6.000000  3.300000e+06     39.400000      1.000000        2.600000   \n",
              "50%        9.000000  4.400000e+06     50.000000      2.000000        2.650000   \n",
              "75%       14.000000  6.000000e+06     65.500000      3.000000        2.650000   \n",
              "max       50.000000  1.186686e+07    114.200000      5.000000        2.850000   \n",
              "\n",
              "       floors_total   living_area         floor  kitchen_area       balcony  \\\n",
              "count  23565.000000  22682.000000  23565.000000  22250.000000  23565.000000   \n",
              "mean      10.675875     31.526984      5.878124      9.417840      0.593677   \n",
              "std        6.594823     13.752739      4.871485      3.177523      0.960660   \n",
              "min        1.000000      2.000000      1.000000      1.300000      0.000000   \n",
              "25%        5.000000     18.700000      2.000000      7.000000      0.000000   \n",
              "50%        9.000000     30.000000      4.000000      9.000000      0.000000   \n",
              "75%       16.000000     40.600000      8.000000     11.000000      1.000000   \n",
              "max       60.000000     76.700000     33.000000     19.450000      5.000000   \n",
              "\n",
              "       ...  parks_nearest  ponds_around3000  ponds_nearest  days_exposition  \\\n",
              "count  ...    8030.000000      23565.000000    9036.000000     18721.000000   \n",
              "mean   ...     490.580448          0.589900     518.289509       128.299343   \n",
              "std    ...     341.572956          0.883966     278.009558       121.064671   \n",
              "min    ...       1.000000          0.000000      13.000000         1.000000   \n",
              "25%    ...     288.000000          0.000000     293.000000        41.000000   \n",
              "50%    ...     455.000000          0.000000     503.000000        85.000000   \n",
              "75%    ...     612.000000          1.000000     730.000000       182.000000   \n",
              "max    ...    3190.000000          3.000000    1344.000000       509.000000   \n",
              "\n",
              "       price_per_m2       weekday         month          year  living_ratio  \\\n",
              "count  2.356500e+04  23565.000000  23565.000000  23565.000000  23565.000000   \n",
              "mean   9.940584e+04      2.567367      6.401570   2017.371016      0.565431   \n",
              "std    5.038943e+04      1.788279      3.492948      1.037393      0.101071   \n",
              "min    1.118349e+02      0.000000      1.000000   2014.000000      0.021583   \n",
              "25%    7.656613e+04      1.000000      3.000000   2017.000000      0.500000   \n",
              "50%    9.500000e+04      3.000000      6.000000   2017.000000      0.571174   \n",
              "75%    1.142132e+05      4.000000     10.000000   2018.000000      0.631732   \n",
              "max    1.907500e+06      6.000000     12.000000   2019.000000      1.000000   \n",
              "\n",
              "       kitchen_ratio  \n",
              "count   23565.000000  \n",
              "mean        0.186183  \n",
              "std         0.069545  \n",
              "min         0.025381  \n",
              "25%         0.136738  \n",
              "50%         0.175075  \n",
              "75%         0.223881  \n",
              "max         0.787879  \n",
              "\n",
              "[8 rows x 23 columns]"
            ]
          },
          "execution_count": 24,
          "metadata": {},
          "output_type": "execute_result"
        }
      ],
      "source": [
        "display(data.describe()) # Для сравнения с отфильтрованными данными\n",
        "\n",
        "def quartile_range(data, column):\n",
        "    q1 = data[column].quantile(0.25)\n",
        "    q3 = data[column].quantile(0.75)\n",
        "    iqr = q3 - q1\n",
        "    data_quar = data.loc[(data[column] < q3 + 1.5 * iqr) & (data[column] > q1 - 1.5 * iqr), column]\n",
        "    return data_quar\n",
        "\n",
        "list_works = ['last_price', 'total_area', 'kitchen_area', 'living_area', 'days_exposition', 'ceiling_height', 'rooms']\n",
        "for col in list_works:\n",
        "    data[col] = quartile_range(data, col)\n",
        "\n",
        "data.describe()"
      ]
    },
    {
      "cell_type": "markdown",
      "metadata": {
        "id": "dAm0HGJhrDw1"
      },
      "source": [
        "### Выявление факторов, влияющих на стоимость квартиры."
      ]
    },
    {
      "cell_type": "markdown",
      "metadata": {
        "id": "xtzCJooprDw2"
      },
      "source": [
        "#### Зависимость цены от площади"
      ]
    },
    {
      "cell_type": "code",
      "execution_count": null,
      "metadata": {
        "id": "IoCGB4DcrDw4",
        "outputId": "15e75e92-44ec-4833-fd91-c06f93cec997"
      },
      "outputs": [
        {
          "data": {
            "image/png": "[encoded data removed]",
            "text/plain": [
              "<Figure size 360x360 with 1 Axes>"
            ]
          },
          "metadata": {
            "needs_background": "light"
          },
          "output_type": "display_data"
        },
        {
          "data": {
            "text/plain": [
              "0.6940523107096925"
            ]
          },
          "execution_count": 25,
          "metadata": {},
          "output_type": "execute_result"
        }
      ],
      "source": [
        "(\n",
        "    data.pivot_table(index='total_area', values='last_price')\n",
        "    .plot(grid=True, style='o', figsize=(5, 5))\n",
        ")\n",
        "plt.show()\n",
        " \n",
        "data['last_price'].corr(data['total_area'])"
      ]
    },
    {
      "cell_type": "markdown",
      "metadata": {
        "id": "b_futn9SrDw6"
      },
      "source": [
        "Прослеживается зависимость стоимости жилья от площади квартиры. Это соответсвует реальности рынка."
      ]
    },
    {
      "cell_type": "markdown",
      "metadata": {
        "id": "GK9qjDZxrDw9"
      },
      "source": [
        "#### Зависимость цены от количества комнат"
      ]
    },
    {
      "cell_type": "code",
      "execution_count": null,
      "metadata": {
        "id": "TPVs3CHkrDw-",
        "outputId": "1d5a0ed5-5233-4da0-fb4e-44a8e5d3d63d"
      },
      "outputs": [
        {
          "data": {
            "image/png": "[encoded data removed]",
            "text/plain": [
              "<Figure size 360x360 with 1 Axes>"
            ]
          },
          "metadata": {
            "needs_background": "light"
          },
          "output_type": "display_data"
        },
        {
          "data": {
            "text/plain": [
              "0.4489073417026343"
            ]
          },
          "execution_count": 26,
          "metadata": {},
          "output_type": "execute_result"
        }
      ],
      "source": [
        "(\n",
        "    data.pivot_table(index='rooms', values='last_price')\n",
        "    .plot(grid=True, style='o', figsize=(5, 5))\n",
        ")\n",
        "plt.show()\n",
        " \n",
        "data['last_price'].corr(data['rooms'])"
      ]
    },
    {
      "cell_type": "markdown",
      "metadata": {
        "id": "cbZo8Yb9rDxB"
      },
      "source": [
        "Коэффициент корреляции показывает умеренную связь между количеством комнат и стоимостью жилья. Это кажется странным, ведь в реальной жизни зависимость сильная."
      ]
    },
    {
      "cell_type": "markdown",
      "metadata": {
        "id": "fenB25E7rDxC"
      },
      "source": [
        "#### Зависимость стоимости квартир от удаленности от центра"
      ]
    },
    {
      "cell_type": "code",
      "execution_count": null,
      "metadata": {
        "id": "NnYEUkPdrDxD",
        "outputId": "b79f6980-8523-4ffd-8095-dd7fa4bd01fa"
      },
      "outputs": [
        {
          "data": {
            "image/png": "[encoded data removed]",
            "text/plain": [
              "<Figure size 360x360 with 1 Axes>"
            ]
          },
          "metadata": {
            "needs_background": "light"
          },
          "output_type": "display_data"
        },
        {
          "data": {
            "text/plain": [
              "-0.3449266550741806"
            ]
          },
          "execution_count": 27,
          "metadata": {},
          "output_type": "execute_result"
        }
      ],
      "source": [
        "(\n",
        "    data.pivot_table(index='cityCenters_nearest', values='last_price')\n",
        "    .plot(grid=True, style='o', figsize=(5, 5))\n",
        ")\n",
        "plt.show()\n",
        " \n",
        "data['last_price'].corr(data['cityCenters_nearest'])"
      ]
    },
    {
      "cell_type": "markdown",
      "metadata": {
        "id": "5j_t40v9rDxF"
      },
      "source": [
        "Коэффициент корреляции показывает слабую отрицательную связь между удаленностью от центра и стоимостью квартиры. Считаю это странным, потому что квартиры в центре всегда стоят дороже, возможно стоит анализировать не стоимость за квартиру, а стоимость квадратного метра. Проверим нашу теорию:"
      ]
    },
    {
      "cell_type": "code",
      "execution_count": null,
      "metadata": {
        "id": "vUtdqzm1rDxH",
        "outputId": "18a93efd-4e1f-458c-eb33-e504edfb876c"
      },
      "outputs": [
        {
          "data": {
            "image/png": "[encoded data removed]",
            "text/plain": [
              "<Figure size 360x360 with 1 Axes>"
            ]
          },
          "metadata": {
            "needs_background": "light"
          },
          "output_type": "display_data"
        },
        {
          "data": {
            "text/plain": [
              "-0.3175963216944461"
            ]
          },
          "execution_count": 28,
          "metadata": {},
          "output_type": "execute_result"
        }
      ],
      "source": [
        "(\n",
        "    data.pivot_table(index='cityCenters_nearest', values='price_per_m2')\n",
        "    .plot(grid=True, style='o', figsize=(5, 5))\n",
        ")\n",
        "plt.show()\n",
        " \n",
        "data['price_per_m2'].corr(data['cityCenters_nearest'])"
      ]
    },
    {
      "cell_type": "markdown",
      "metadata": {
        "id": "KaM_VP49rDxJ"
      },
      "source": [
        "Видим слабую связь между стоимостью квартир за квадратный метр и удаленностью от центра."
      ]
    },
    {
      "cell_type": "markdown",
      "metadata": {
        "id": "KYOETv5DrDxQ"
      },
      "source": [
        "#### Зависимость стоимости квартиры от дня недели, месяца и года размещения"
      ]
    },
    {
      "cell_type": "code",
      "execution_count": null,
      "metadata": {
        "id": "VTfbKytHrDxR",
        "outputId": "0082349c-6ea6-4796-83f9-fa24941a101f"
      },
      "outputs": [
        {
          "data": {
            "image/png": "[encoded data removed]",
            "text/plain": [
              "<Figure size 360x360 with 1 Axes>"
            ]
          },
          "metadata": {
            "needs_background": "light"
          },
          "output_type": "display_data"
        },
        {
          "name": "stdout",
          "output_type": "stream",
          "text": [
            "Корреляция между стоимостью квартиры и днем недели размещения объявления: -0.015812293600318484\n"
          ]
        },
        {
          "data": {
            "image/png": "[encoded data removed]",
            "text/plain": [
              "<Figure size 360x360 with 1 Axes>"
            ]
          },
          "metadata": {
            "needs_background": "light"
          },
          "output_type": "display_data"
        },
        {
          "name": "stdout",
          "output_type": "stream",
          "text": [
            "Корреляция между стоимостью квартиры и месяцем размещения объявления: 0.00620997851123904\n"
          ]
        },
        {
          "data": {
            "image/png": "[encoded data removed]",
            "text/plain": [
              "<Figure size 360x360 with 1 Axes>"
            ]
          },
          "metadata": {
            "needs_background": "light"
          },
          "output_type": "display_data"
        },
        {
          "name": "stdout",
          "output_type": "stream",
          "text": [
            "Корреляция между стоимостью квартиры и годом размещения объявления: -0.0019875702774940526\n"
          ]
        }
      ],
      "source": [
        "# Зависимость от дня размещения\n",
        "(\n",
        "    data.pivot_table(index='weekday', values='last_price')\n",
        "    .plot(grid=True, style='o', figsize=(5, 5))\n",
        ")\n",
        "plt.show()\n",
        "print('Корреляция между стоимостью квартиры и днем недели размещения объявления:', data['weekday'].corr(data['last_price']))\n",
        "# Зависимость от месяца размещения\n",
        "(\n",
        "    data.pivot_table(index='month', values='last_price')\n",
        "    .plot(grid=True, style='o', figsize=(5, 5))\n",
        ")\n",
        "plt.show()\n",
        "print('Корреляция между стоимостью квартиры и месяцем размещения объявления:', data['month'].corr(data['last_price']))\n",
        "# Зависимость от года размещения\n",
        "(\n",
        "    data.pivot_table(index='year', values='last_price')\n",
        "    .plot(grid=True, style='o', figsize=(5, 5))\n",
        ")\n",
        "plt.show()\n",
        "print('Корреляция между стоимостью квартиры и годом размещения объявления:', data['year'].corr(data['last_price']))"
      ]
    },
    {
      "cell_type": "markdown",
      "metadata": {
        "id": "RlW1-sgcrDxT"
      },
      "source": [
        "<b>Зависимость стоимости недвижимости от дня недели размещения.</b> \n",
        "\n",
        "Стоимость недвижимости падает с начала недели к концу. В понедельник и пятницу наблюдается провал. Причину этого я не могу объяснить.\n",
        "\n",
        "<b>Зависимость стоимости недвижимости от месяца размещения.</b> \n",
        "\n",
        "Стоимости жилья по месяцам практически не изменяется и колеблется в пределах 150 тыс. рублей. В апреле и сентябре есть резкий рост, а в июне резкий спад.\n",
        "\n",
        "<b>Зависимость стоимости недвижимости от года размещения.</b> \n",
        "\n",
        "Прослеживается спад стоимости недвижимости с 2014 по 2016 год, далее стоимость до 2018 год практически не изменяется, а в 2019 начинается активный рост. Возможно это связано с кризисов в 2014 году. "
      ]
    },
    {
      "cell_type": "markdown",
      "metadata": {
        "id": "hmfI_849rDxi"
      },
      "source": [
        "Связи между временем размещения объявления и стоимостью квартиры нет."
      ]
    },
    {
      "cell_type": "markdown",
      "metadata": {
        "id": "_TwRoPNsrDxj"
      },
      "source": [
        "#### Анализ стоимости квадратного метра в топ-10 городах"
      ]
    },
    {
      "cell_type": "code",
      "execution_count": null,
      "metadata": {
        "id": "EfA3b1MjrDxk",
        "outputId": "639af418-328b-4231-d816-ce70d834fc0e"
      },
      "outputs": [
        {
          "data": {
            "text/html": [
              "<div>\n",
              "<style scoped>\n",
              "    .dataframe tbody tr th:only-of-type {\n",
              "        vertical-align: middle;\n",
              "    }\n",
              "\n",
              "    .dataframe tbody tr th {\n",
              "        vertical-align: top;\n",
              "    }\n",
              "\n",
              "    .dataframe thead th {\n",
              "        text-align: right;\n",
              "    }\n",
              "</style>\n",
              "<table border=\"1\" class=\"dataframe\">\n",
              "  <thead>\n",
              "    <tr style=\"text-align: right;\">\n",
              "      <th></th>\n",
              "      <th>total_images</th>\n",
              "      <th>last_price</th>\n",
              "      <th>total_area</th>\n",
              "      <th>first_day_exposition</th>\n",
              "      <th>rooms</th>\n",
              "      <th>ceiling_height</th>\n",
              "      <th>floors_total</th>\n",
              "      <th>living_area</th>\n",
              "      <th>floor</th>\n",
              "      <th>is_apartment</th>\n",
              "      <th>...</th>\n",
              "      <th>ponds_around3000</th>\n",
              "      <th>ponds_nearest</th>\n",
              "      <th>days_exposition</th>\n",
              "      <th>price_per_m2</th>\n",
              "      <th>weekday</th>\n",
              "      <th>month</th>\n",
              "      <th>year</th>\n",
              "      <th>floor_type</th>\n",
              "      <th>living_ratio</th>\n",
              "      <th>kitchen_ratio</th>\n",
              "    </tr>\n",
              "  </thead>\n",
              "  <tbody>\n",
              "    <tr>\n",
              "      <th>0</th>\n",
              "      <td>20</td>\n",
              "      <td>NaN</td>\n",
              "      <td>108.00</td>\n",
              "      <td>2019-03-07</td>\n",
              "      <td>3.0</td>\n",
              "      <td>2.70</td>\n",
              "      <td>16</td>\n",
              "      <td>51.00000</td>\n",
              "      <td>8</td>\n",
              "      <td>False</td>\n",
              "      <td>...</td>\n",
              "      <td>2</td>\n",
              "      <td>755.0</td>\n",
              "      <td>NaN</td>\n",
              "      <td>120370.370370</td>\n",
              "      <td>3</td>\n",
              "      <td>3</td>\n",
              "      <td>2019</td>\n",
              "      <td>other</td>\n",
              "      <td>0.472222</td>\n",
              "      <td>0.231481</td>\n",
              "    </tr>\n",
              "    <tr>\n",
              "      <th>1</th>\n",
              "      <td>7</td>\n",
              "      <td>3350000.0</td>\n",
              "      <td>40.40</td>\n",
              "      <td>2018-12-04</td>\n",
              "      <td>1.0</td>\n",
              "      <td>2.65</td>\n",
              "      <td>11</td>\n",
              "      <td>18.60000</td>\n",
              "      <td>1</td>\n",
              "      <td>False</td>\n",
              "      <td>...</td>\n",
              "      <td>0</td>\n",
              "      <td>NaN</td>\n",
              "      <td>81.0</td>\n",
              "      <td>82920.792079</td>\n",
              "      <td>1</td>\n",
              "      <td>12</td>\n",
              "      <td>2018</td>\n",
              "      <td>fist</td>\n",
              "      <td>0.460396</td>\n",
              "      <td>0.272277</td>\n",
              "    </tr>\n",
              "    <tr>\n",
              "      <th>2</th>\n",
              "      <td>10</td>\n",
              "      <td>5196000.0</td>\n",
              "      <td>56.00</td>\n",
              "      <td>2015-08-20</td>\n",
              "      <td>2.0</td>\n",
              "      <td>2.65</td>\n",
              "      <td>5</td>\n",
              "      <td>34.30000</td>\n",
              "      <td>4</td>\n",
              "      <td>False</td>\n",
              "      <td>...</td>\n",
              "      <td>2</td>\n",
              "      <td>574.0</td>\n",
              "      <td>NaN</td>\n",
              "      <td>92785.714286</td>\n",
              "      <td>3</td>\n",
              "      <td>8</td>\n",
              "      <td>2015</td>\n",
              "      <td>other</td>\n",
              "      <td>0.612500</td>\n",
              "      <td>0.148214</td>\n",
              "    </tr>\n",
              "    <tr>\n",
              "      <th>3</th>\n",
              "      <td>0</td>\n",
              "      <td>NaN</td>\n",
              "      <td>NaN</td>\n",
              "      <td>2015-07-24</td>\n",
              "      <td>3.0</td>\n",
              "      <td>2.65</td>\n",
              "      <td>14</td>\n",
              "      <td>NaN</td>\n",
              "      <td>9</td>\n",
              "      <td>False</td>\n",
              "      <td>...</td>\n",
              "      <td>3</td>\n",
              "      <td>234.0</td>\n",
              "      <td>424.0</td>\n",
              "      <td>408176.100629</td>\n",
              "      <td>4</td>\n",
              "      <td>7</td>\n",
              "      <td>2015</td>\n",
              "      <td>other</td>\n",
              "      <td>0.571174</td>\n",
              "      <td>0.175075</td>\n",
              "    </tr>\n",
              "    <tr>\n",
              "      <th>4</th>\n",
              "      <td>2</td>\n",
              "      <td>10000000.0</td>\n",
              "      <td>100.00</td>\n",
              "      <td>2018-06-19</td>\n",
              "      <td>2.0</td>\n",
              "      <td>NaN</td>\n",
              "      <td>14</td>\n",
              "      <td>32.00000</td>\n",
              "      <td>13</td>\n",
              "      <td>False</td>\n",
              "      <td>...</td>\n",
              "      <td>1</td>\n",
              "      <td>48.0</td>\n",
              "      <td>121.0</td>\n",
              "      <td>100000.000000</td>\n",
              "      <td>1</td>\n",
              "      <td>6</td>\n",
              "      <td>2018</td>\n",
              "      <td>other</td>\n",
              "      <td>0.320000</td>\n",
              "      <td>0.410000</td>\n",
              "    </tr>\n",
              "    <tr>\n",
              "      <th>6</th>\n",
              "      <td>6</td>\n",
              "      <td>3700000.0</td>\n",
              "      <td>37.30</td>\n",
              "      <td>2017-11-02</td>\n",
              "      <td>1.0</td>\n",
              "      <td>2.65</td>\n",
              "      <td>26</td>\n",
              "      <td>10.60000</td>\n",
              "      <td>6</td>\n",
              "      <td>False</td>\n",
              "      <td>...</td>\n",
              "      <td>0</td>\n",
              "      <td>NaN</td>\n",
              "      <td>155.0</td>\n",
              "      <td>99195.710456</td>\n",
              "      <td>3</td>\n",
              "      <td>11</td>\n",
              "      <td>2017</td>\n",
              "      <td>other</td>\n",
              "      <td>0.284182</td>\n",
              "      <td>0.386059</td>\n",
              "    </tr>\n",
              "    <tr>\n",
              "      <th>7</th>\n",
              "      <td>5</td>\n",
              "      <td>7915000.0</td>\n",
              "      <td>71.60</td>\n",
              "      <td>2019-04-18</td>\n",
              "      <td>2.0</td>\n",
              "      <td>2.65</td>\n",
              "      <td>24</td>\n",
              "      <td>40.89605</td>\n",
              "      <td>22</td>\n",
              "      <td>False</td>\n",
              "      <td>...</td>\n",
              "      <td>0</td>\n",
              "      <td>NaN</td>\n",
              "      <td>NaN</td>\n",
              "      <td>110544.692737</td>\n",
              "      <td>3</td>\n",
              "      <td>4</td>\n",
              "      <td>2019</td>\n",
              "      <td>other</td>\n",
              "      <td>0.571174</td>\n",
              "      <td>0.263966</td>\n",
              "    </tr>\n",
              "    <tr>\n",
              "      <th>8</th>\n",
              "      <td>20</td>\n",
              "      <td>2900000.0</td>\n",
              "      <td>33.16</td>\n",
              "      <td>2018-05-23</td>\n",
              "      <td>1.0</td>\n",
              "      <td>2.65</td>\n",
              "      <td>27</td>\n",
              "      <td>15.43000</td>\n",
              "      <td>26</td>\n",
              "      <td>False</td>\n",
              "      <td>...</td>\n",
              "      <td>0</td>\n",
              "      <td>NaN</td>\n",
              "      <td>189.0</td>\n",
              "      <td>87454.764777</td>\n",
              "      <td>2</td>\n",
              "      <td>5</td>\n",
              "      <td>2018</td>\n",
              "      <td>other</td>\n",
              "      <td>0.465320</td>\n",
              "      <td>0.265682</td>\n",
              "    </tr>\n",
              "    <tr>\n",
              "      <th>9</th>\n",
              "      <td>18</td>\n",
              "      <td>5400000.0</td>\n",
              "      <td>61.00</td>\n",
              "      <td>2017-02-26</td>\n",
              "      <td>3.0</td>\n",
              "      <td>2.50</td>\n",
              "      <td>9</td>\n",
              "      <td>43.60000</td>\n",
              "      <td>7</td>\n",
              "      <td>False</td>\n",
              "      <td>...</td>\n",
              "      <td>0</td>\n",
              "      <td>NaN</td>\n",
              "      <td>289.0</td>\n",
              "      <td>88524.590164</td>\n",
              "      <td>6</td>\n",
              "      <td>2</td>\n",
              "      <td>2017</td>\n",
              "      <td>other</td>\n",
              "      <td>0.714754</td>\n",
              "      <td>0.106557</td>\n",
              "    </tr>\n",
              "    <tr>\n",
              "      <th>10</th>\n",
              "      <td>5</td>\n",
              "      <td>5050000.0</td>\n",
              "      <td>39.60</td>\n",
              "      <td>2017-11-16</td>\n",
              "      <td>1.0</td>\n",
              "      <td>2.67</td>\n",
              "      <td>12</td>\n",
              "      <td>20.30000</td>\n",
              "      <td>3</td>\n",
              "      <td>False</td>\n",
              "      <td>...</td>\n",
              "      <td>2</td>\n",
              "      <td>553.0</td>\n",
              "      <td>137.0</td>\n",
              "      <td>127525.252525</td>\n",
              "      <td>3</td>\n",
              "      <td>11</td>\n",
              "      <td>2017</td>\n",
              "      <td>other</td>\n",
              "      <td>0.512626</td>\n",
              "      <td>0.214646</td>\n",
              "    </tr>\n",
              "  </tbody>\n",
              "</table>\n",
              "<p>10 rows × 29 columns</p>\n",
              "</div>"
            ],
            "text/plain": [
              "    total_images  last_price  total_area first_day_exposition  rooms  \\\n",
              "0             20         NaN      108.00           2019-03-07    3.0   \n",
              "1              7   3350000.0       40.40           2018-12-04    1.0   \n",
              "2             10   5196000.0       56.00           2015-08-20    2.0   \n",
              "3              0         NaN         NaN           2015-07-24    3.0   \n",
              "4              2  10000000.0      100.00           2018-06-19    2.0   \n",
              "6              6   3700000.0       37.30           2017-11-02    1.0   \n",
              "7              5   7915000.0       71.60           2019-04-18    2.0   \n",
              "8             20   2900000.0       33.16           2018-05-23    1.0   \n",
              "9             18   5400000.0       61.00           2017-02-26    3.0   \n",
              "10             5   5050000.0       39.60           2017-11-16    1.0   \n",
              "\n",
              "    ceiling_height  floors_total  living_area  floor  is_apartment  ...  \\\n",
              "0             2.70            16     51.00000      8         False  ...   \n",
              "1             2.65            11     18.60000      1         False  ...   \n",
              "2             2.65             5     34.30000      4         False  ...   \n",
              "3             2.65            14          NaN      9         False  ...   \n",
              "4              NaN            14     32.00000     13         False  ...   \n",
              "6             2.65            26     10.60000      6         False  ...   \n",
              "7             2.65            24     40.89605     22         False  ...   \n",
              "8             2.65            27     15.43000     26         False  ...   \n",
              "9             2.50             9     43.60000      7         False  ...   \n",
              "10            2.67            12     20.30000      3         False  ...   \n",
              "\n",
              "    ponds_around3000  ponds_nearest  days_exposition   price_per_m2 weekday  \\\n",
              "0                  2          755.0              NaN  120370.370370       3   \n",
              "1                  0            NaN             81.0   82920.792079       1   \n",
              "2                  2          574.0              NaN   92785.714286       3   \n",
              "3                  3          234.0            424.0  408176.100629       4   \n",
              "4                  1           48.0            121.0  100000.000000       1   \n",
              "6                  0            NaN            155.0   99195.710456       3   \n",
              "7                  0            NaN              NaN  110544.692737       3   \n",
              "8                  0            NaN            189.0   87454.764777       2   \n",
              "9                  0            NaN            289.0   88524.590164       6   \n",
              "10                 2          553.0            137.0  127525.252525       3   \n",
              "\n",
              "    month  year  floor_type  living_ratio  kitchen_ratio  \n",
              "0       3  2019       other      0.472222       0.231481  \n",
              "1      12  2018        fist      0.460396       0.272277  \n",
              "2       8  2015       other      0.612500       0.148214  \n",
              "3       7  2015       other      0.571174       0.175075  \n",
              "4       6  2018       other      0.320000       0.410000  \n",
              "6      11  2017       other      0.284182       0.386059  \n",
              "7       4  2019       other      0.571174       0.263966  \n",
              "8       5  2018       other      0.465320       0.265682  \n",
              "9       2  2017       other      0.714754       0.106557  \n",
              "10     11  2017       other      0.512626       0.214646  \n",
              "\n",
              "[10 rows x 29 columns]"
            ]
          },
          "metadata": {},
          "output_type": "display_data"
        }
      ],
      "source": [
        "city_top_10_list = data['locality_name'].value_counts().head(10)\n",
        "city_top_10 = data.query('locality_name in @city_top_10_list.index')\n",
        "display(city_top_10.head(10))"
      ]
    },
    {
      "cell_type": "code",
      "execution_count": null,
      "metadata": {
        "id": "oznk-iYArDxm",
        "outputId": "27423cf5-c176-41d1-ca4b-b3b4efcb57c2"
      },
      "outputs": [
        {
          "data": {
            "text/plain": [
              "locality_name\n",
              "Санкт-Петербург      114868.877341\n",
              "Пушкин               103125.819291\n",
              "деревня Кудрово       92473.547576\n",
              "посёлок Парголово     90175.913458\n",
              "посёлок Мурино        85673.259928\n",
              "посёлок Шушары        78551.344545\n",
              "Колпино               75424.579098\n",
              "Гатчина               68746.146763\n",
              "Всеволожск            68654.473986\n",
              "Выборг                58141.909153\n",
              "Name: price_per_m2, dtype: float64"
            ]
          },
          "execution_count": 31,
          "metadata": {},
          "output_type": "execute_result"
        }
      ],
      "source": [
        "city_top_10.groupby('locality_name')['price_per_m2'].mean().sort_values(ascending=False)"
      ]
    },
    {
      "cell_type": "markdown",
      "metadata": {
        "id": "2oR8-trIrDxo"
      },
      "source": [
        "Как и ожидалось, самая высокая стоимость за квадратный метр в Санкт-Петербурге. Самая низкая - в Выборге."
      ]
    },
    {
      "cell_type": "markdown",
      "metadata": {
        "id": "79De3MwErDxq"
      },
      "source": [
        "#### Определение границы центрального района Санкт-Петербурга"
      ]
    },
    {
      "cell_type": "code",
      "execution_count": null,
      "metadata": {
        "id": "Nha4waamrDxr",
        "outputId": "ac59932e-9287-44b0-e949-596113f2af6c"
      },
      "outputs": [
        {
          "data": {
            "image/png": "[encoded data removed]",
            "text/plain": [
              "<Figure size 1080x504 with 1 Axes>"
            ]
          },
          "metadata": {
            "needs_background": "light"
          },
          "output_type": "display_data"
        }
      ],
      "source": [
        "# Добавляем столбец с расстоянием до центра в км, округляем до целого\n",
        "data['city_center_km'] = (data['cityCenters_nearest'] / 1000).round(0)\n",
        "(\n",
        "    data.query('locality_name == \"Санкт-Петербург\"')\n",
        "    .pivot_table(index='city_center_km', values='last_price')\n",
        "    .plot(grid=True, style='o-', figsize=(15,7))\n",
        ")\n",
        "plt.show()"
      ]
    },
    {
      "cell_type": "markdown",
      "metadata": {
        "id": "jkKIV1D0rDxt"
      },
      "source": [
        "На расстоянии 9 км от центра график становится пологим и понижение стоимости жилья происходит более плавно. Возможно, это и является границей центра города."
      ]
    },
    {
      "cell_type": "markdown",
      "metadata": {
        "id": "O4r3jcsgrDxv"
      },
      "source": [
        "#### Анализ рынка недвижимости в центре Санкт-Петербурга"
      ]
    },
    {
      "cell_type": "markdown",
      "metadata": {
        "id": "4cL04f4-rDxx"
      },
      "source": [
        "#### Анализ характеристик квартир"
      ]
    },
    {
      "cell_type": "markdown",
      "metadata": {
        "id": "MJhvGidDrDx2"
      },
      "source": [
        "Создаем выборку по центру города"
      ]
    },
    {
      "cell_type": "code",
      "execution_count": null,
      "metadata": {
        "id": "1hCDtbfUrDyE"
      },
      "outputs": [],
      "source": [
        "center_spb = data.query('locality_name == \"Санкт-Петербург\" and city_center_km < 9' )"
      ]
    },
    {
      "cell_type": "markdown",
      "metadata": {
        "id": "-VDx5HMvrDyF"
      },
      "source": [
        "<b>Анализируем площадь квартир в центре Санкт-Петербурге и по всей базе.</b>"
      ]
    },
    {
      "cell_type": "code",
      "execution_count": null,
      "metadata": {
        "id": "M0puRAN6rDyI",
        "outputId": "bf960d0d-585d-433b-ee77-23d741792944"
      },
      "outputs": [
        {
          "name": "stdout",
          "output_type": "stream",
          "text": [
            "По всей выборке: \n",
            "\n",
            "count    22326.000000\n",
            "mean        54.319704\n",
            "std         19.331030\n",
            "min         12.000000\n",
            "25%         39.400000\n",
            "50%         50.000000\n",
            "75%         65.500000\n",
            "max        114.200000\n",
            "Name: total_area, dtype: float64 \n",
            "\n",
            "По центру Санкт-Петербурга: \n",
            "\n",
            "count    3257.000000\n",
            "mean       68.185920\n",
            "std        22.548715\n",
            "min        12.000000\n",
            "25%        49.700000\n",
            "50%        67.500000\n",
            "75%        85.200000\n",
            "max       114.200000\n",
            "Name: total_area, dtype: float64\n"
          ]
        },
        {
          "data": {
            "image/png": "[encoded data removed]",
            "text/plain": [
              "<Figure size 432x288 with 1 Axes>"
            ]
          },
          "metadata": {
            "needs_background": "light"
          },
          "output_type": "display_data"
        }
      ],
      "source": [
        "print('По всей выборке:', '\\n')\n",
        "print(data['total_area'].describe(), '\\n')\n",
        "print('По центру Санкт-Петербурга:', '\\n')\n",
        "print(center_spb['total_area'].describe())\n",
        "\n",
        "plt.hist(data['total_area'], bins=70, color = 'r', alpha = 1)\n",
        "plt.hist(center_spb['total_area'], bins=70, color = 'g', alpha = 0.75)\n",
        "plt.grid(True)\n",
        "plt.title('Площадь квартир')\n",
        "plt.xlabel('Квадратные метры')\n",
        "plt.ylabel('Количество квартир')\n",
        "plt.show()"
      ]
    },
    {
      "cell_type": "markdown",
      "metadata": {
        "id": "QhzHZC_RrDyN"
      },
      "source": [
        "Площадь квартир в центре в среднем больше, чем в целом по базе - примерно на 17 метров. Также распределение количества квартир с различными площадями в центре более равномерное, чем в общей базе (в базе сушествует 2 пика)."
      ]
    },
    {
      "cell_type": "markdown",
      "metadata": {
        "id": "P-awsOSGrDyQ"
      },
      "source": [
        "<b>Анализируем стоимость квартир в центре Санкт-Петербурга и по всей базе.</b>"
      ]
    },
    {
      "cell_type": "code",
      "execution_count": null,
      "metadata": {
        "scrolled": false,
        "id": "YBEG4KzPrDyT",
        "outputId": "b3076e77-a8c3-44d1-bfb2-06d5750637f2"
      },
      "outputs": [
        {
          "name": "stdout",
          "output_type": "stream",
          "text": [
            "По всей выборке: \n",
            "\n",
            "count    2.151900e+04\n",
            "mean     4.837115e+06\n",
            "std      2.215774e+06\n",
            "min      1.219000e+04\n",
            "25%      3.300000e+06\n",
            "50%      4.400000e+06\n",
            "75%      6.000000e+06\n",
            "max      1.186686e+07\n",
            "Name: last_price, dtype: float64 \n",
            "\n",
            "По центру Санкт-Петербурга: \n",
            "\n",
            "count    2.758000e+03\n",
            "mean     7.293950e+06\n",
            "std      2.211162e+06\n",
            "min      1.600000e+06\n",
            "25%      5.650000e+06\n",
            "50%      7.200000e+06\n",
            "75%      8.990000e+06\n",
            "max      1.186686e+07\n",
            "Name: last_price, dtype: float64\n"
          ]
        },
        {
          "data": {
            "image/png": "[encoded data removed]",
            "text/plain": [
              "<Figure size 432x288 with 1 Axes>"
            ]
          },
          "metadata": {
            "needs_background": "light"
          },
          "output_type": "display_data"
        }
      ],
      "source": [
        "print('По всей выборке:', '\\n')\n",
        "print(data['last_price'].describe(), '\\n')\n",
        "print('По центру Санкт-Петербурга:', '\\n')\n",
        "print(center_spb['last_price'].describe())\n",
        "\n",
        "plt.hist(data['last_price'], bins=70, color = 'r', alpha = 1)\n",
        "plt.hist(center_spb['last_price'], bins=70, color = 'g', alpha = 0.75)\n",
        "plt.grid(True)\n",
        "plt.title('Стоимость квартир')\n",
        "plt.xlabel('Рубли')\n",
        "plt.ylabel('Количество квартир')\n",
        "plt.show()"
      ]
    },
    {
      "cell_type": "markdown",
      "metadata": {
        "id": "YD8vMI9MrDya"
      },
      "source": [
        "Как и предполагалось, средняя стоимость квартир в центре значительно выше, чем по всей базе. В базе недвижимости есть пик квартир стоимостью от 3 до 5 млн. В списке квартир в центр Санкт-Петербурга нет четких пиков."
      ]
    },
    {
      "cell_type": "markdown",
      "metadata": {
        "id": "frdCq1d4rDzs"
      },
      "source": [
        "<b>Анализируем количество комнат в квартирах центра Санкт-Петербурга и по всей базе.</b>"
      ]
    },
    {
      "cell_type": "code",
      "execution_count": null,
      "metadata": {
        "id": "V4PWOZRQrDzv",
        "outputId": "f52a05ea-9b58-48c2-9d21-b227d7ecde5c"
      },
      "outputs": [
        {
          "name": "stdout",
          "output_type": "stream",
          "text": [
            "По всей выборке: \n",
            "\n",
            "count    23371.000000\n",
            "mean         2.030208\n",
            "std          0.973563\n",
            "min          0.000000\n",
            "25%          1.000000\n",
            "50%          2.000000\n",
            "75%          3.000000\n",
            "max          5.000000\n",
            "Name: rooms, dtype: float64 \n",
            "\n",
            "По центру Санкт-Петербурга: \n",
            "\n",
            "count    3949.000000\n",
            "mean        2.583692\n",
            "std         1.102359\n",
            "min         0.000000\n",
            "25%         2.000000\n",
            "50%         3.000000\n",
            "75%         3.000000\n",
            "max         5.000000\n",
            "Name: rooms, dtype: float64\n"
          ]
        },
        {
          "data": {
            "image/png": "[encoded data removed]",
            "text/plain": [
              "<Figure size 432x288 with 1 Axes>"
            ]
          },
          "metadata": {
            "needs_background": "light"
          },
          "output_type": "display_data"
        }
      ],
      "source": [
        "print('По всей выборке:', '\\n')\n",
        "print(data['rooms'].describe(), '\\n')\n",
        "print('По центру Санкт-Петербурга:', '\\n')\n",
        "print(center_spb['rooms'].describe())\n",
        "\n",
        "plt.hist(data['rooms'], bins=5, color = 'r', alpha = 1)\n",
        "plt.hist(center_spb['rooms'], bins=5, color = 'g', alpha = 0.75)\n",
        "plt.grid(True)\n",
        "plt.title('Количество комнат')\n",
        "plt.xlabel('Комнаты')\n",
        "plt.ylabel('Количество квартир')\n",
        "plt.show()\n",
        "\n",
        "plt.show()"
      ]
    },
    {
      "cell_type": "markdown",
      "metadata": {
        "id": "97i1ja7NrDzy"
      },
      "source": [
        "В центре Санкт-Петербурга больше квартир с 2-4 комнатами, однако доля однокомнатных квартир в центре больше, чем доля однушек во всей базе."
      ]
    },
    {
      "cell_type": "markdown",
      "metadata": {
        "id": "DIjdYRhNrDz0"
      },
      "source": [
        "<b>Анализируем высоту потолка в квартирах в центре Санкт-Петербурга и по всей базе.</b>"
      ]
    },
    {
      "cell_type": "code",
      "execution_count": null,
      "metadata": {
        "id": "TuDVsTLXrDz2",
        "outputId": "083e6aa7-f18c-472b-8935-7ee0dce69c4e"
      },
      "outputs": [
        {
          "name": "stdout",
          "output_type": "stream",
          "text": [
            "По всей выборке: \n",
            "\n",
            "count    20601.000000\n",
            "mean         2.631089\n",
            "std          0.081473\n",
            "min          2.460000\n",
            "25%          2.600000\n",
            "50%          2.650000\n",
            "75%          2.650000\n",
            "max          2.850000\n",
            "Name: ceiling_height, dtype: float64 \n",
            "\n",
            "По центру Санкт-Петербурга: \n",
            "\n",
            "count    2261.000000\n",
            "mean        2.660416\n",
            "std         0.072497\n",
            "min         2.460000\n",
            "25%         2.650000\n",
            "50%         2.650000\n",
            "75%         2.650000\n",
            "max         2.850000\n",
            "Name: ceiling_height, dtype: float64\n"
          ]
        },
        {
          "data": {
            "image/png": "[encoded data removed]",
            "text/plain": [
              "<Figure size 432x288 with 1 Axes>"
            ]
          },
          "metadata": {
            "needs_background": "light"
          },
          "output_type": "display_data"
        }
      ],
      "source": [
        "print('По всей выборке:', '\\n')\n",
        "print(data['ceiling_height'].describe(), '\\n')\n",
        "print('По центру Санкт-Петербурга:', '\\n')\n",
        "print(center_spb['ceiling_height'].describe())\n",
        "\n",
        "plt.hist(data['ceiling_height'], bins=7, color = 'r', alpha = 1)\n",
        "plt.hist(center_spb['ceiling_height'], bins=7, color = 'g', alpha = 0.75)\n",
        "plt.grid(True)\n",
        "plt.title('Высота потолков')\n",
        "plt.xlabel('Метры')\n",
        "plt.ylabel('Количество квартир')\n",
        "plt.show()\n",
        "\n",
        "plt.show()"
      ]
    },
    {
      "cell_type": "markdown",
      "metadata": {
        "id": "rp5lv6S5rDz7"
      },
      "source": [
        "Большинство квартир в центре Санкт-Петербурга имеют такую же высоту потолков, как и квартиры из общей базы - 2,65 метров."
      ]
    },
    {
      "cell_type": "markdown",
      "metadata": {
        "id": "nJ3exvXgrDz-"
      },
      "source": [
        "#### Факторы влияюще на стоимость квартиры"
      ]
    },
    {
      "cell_type": "markdown",
      "metadata": {
        "id": "H5ZlinaMrD0B"
      },
      "source": [
        "<b>Зависимость стоимости квартиры от этажа, на которой она находится:</b>"
      ]
    },
    {
      "cell_type": "code",
      "execution_count": null,
      "metadata": {
        "id": "4lmML1EVrD0B",
        "outputId": "3b9b664e-1eec-4e3a-c024-08d0e76d511b"
      },
      "outputs": [
        {
          "data": {
            "image/png": "[encoded data removed]",
            "text/plain": [
              "<Figure size 360x360 with 1 Axes>"
            ]
          },
          "metadata": {
            "needs_background": "light"
          },
          "output_type": "display_data"
        },
        {
          "data": {
            "image/png": "[encoded data removed]",
            "text/plain": [
              "<Figure size 360x360 with 1 Axes>"
            ]
          },
          "metadata": {
            "needs_background": "light"
          },
          "output_type": "display_data"
        }
      ],
      "source": [
        "(\n",
        "    center_spb.pivot_table(index='floor_type', values='last_price', aggfunc='median')\n",
        "    .plot(grid=True, style='o-', figsize=(5, 5), title='центр Санкт-Петербурга')\n",
        ")\n",
        "plt.show()\n",
        "\n",
        "(\n",
        "    data.pivot_table(index='floor_type', values='last_price', aggfunc='median')\n",
        "    .plot(grid=True, style='o-', figsize=(5, 5), title='вся база')\n",
        ")\n",
        "plt.show()"
      ]
    },
    {
      "cell_type": "markdown",
      "metadata": {
        "id": "VqUXemGOrD0C"
      },
      "source": [
        "Этаж, на котором находится квартира, влияет на ее стоимость, как в центре Санкт-Петербурга, так и во всей базе. Но последний этаж меньше влияет на стоимость квартиры в центре."
      ]
    },
    {
      "cell_type": "markdown",
      "metadata": {
        "id": "nYyht37JrD0F"
      },
      "source": [
        "<b>Зависимость стоимости квартиры от количества комнат:</b>"
      ]
    },
    {
      "cell_type": "code",
      "execution_count": null,
      "metadata": {
        "scrolled": true,
        "id": "BNrWi2HPrD0G",
        "outputId": "180bd2bb-2efd-4262-c7f6-e4c956312019"
      },
      "outputs": [
        {
          "data": {
            "image/png": "[encoded data removed]",
            "text/plain": [
              "<Figure size 360x360 with 1 Axes>"
            ]
          },
          "metadata": {
            "needs_background": "light"
          },
          "output_type": "display_data"
        },
        {
          "name": "stdout",
          "output_type": "stream",
          "text": [
            "Зависимость стоимости квартир в центре Санкт-Петербурга от площади: 0.7144452903637727\n",
            "Зависимость стоимости квартир по всей базе от площади: 0.6940523107096925\n"
          ]
        }
      ],
      "source": [
        "(\n",
        "    center_spb.pivot_table(index='rooms', values='last_price')\n",
        "    .plot(grid=True, style='o-', figsize=(5, 5))\n",
        ")\n",
        "plt.show()\n",
        "\n",
        "print('Зависимость стоимости квартир в центре Санкт-Петербурга от площади:', \n",
        "      center_spb['last_price'].corr(center_spb['total_area']))\n",
        "print('Зависимость стоимости квартир по всей базе от площади:', \n",
        "      data['last_price'].corr(data['total_area']))"
      ]
    },
    {
      "cell_type": "markdown",
      "metadata": {
        "id": "MYB3Fv8VrD0K"
      },
      "source": [
        "Связь между стоимостью квартиры и количеством комнат в центре Санкт-Петербурга сильная. По всей базе связь чуть ниже"
      ]
    },
    {
      "cell_type": "markdown",
      "metadata": {
        "id": "TLcceX20rD0S"
      },
      "source": [
        "<b>Зависимость стоимости квартиры от удаленности от центра:</b>"
      ]
    },
    {
      "cell_type": "code",
      "execution_count": null,
      "metadata": {
        "id": "1YuPztT_rD0T",
        "outputId": "7db9288c-2073-4155-c1a8-2dd4f9e4a22f"
      },
      "outputs": [
        {
          "data": {
            "image/png": "[encoded data removed]",
            "text/plain": [
              "<Figure size 360x360 with 1 Axes>"
            ]
          },
          "metadata": {
            "needs_background": "light"
          },
          "output_type": "display_data"
        },
        {
          "name": "stdout",
          "output_type": "stream",
          "text": [
            "Зависимость стоимости квартир от удаленности от центра по центральной части Санкт-Петербурга: -0.1982092977506765\n",
            "Зависимость стоимости квартир от удаленности от центра по всей базе: -0.3449266550741806\n"
          ]
        }
      ],
      "source": [
        "(\n",
        "    center_spb.pivot_table(index='cityCenters_nearest', values='last_price', aggfunc='median')\n",
        "    .plot(grid=True, style='o', figsize=(5, 5))\n",
        ")\n",
        "plt.show()\n",
        "print('Зависимость стоимости квартир от удаленности от центра по центральной части Санкт-Петербурга:', center_spb['last_price'].corr(center_spb['cityCenters_nearest']))\n",
        "print('Зависимость стоимости квартир от удаленности от центра по всей базе:', data['last_price'].corr(data['cityCenters_nearest']))"
      ]
    },
    {
      "cell_type": "markdown",
      "metadata": {
        "id": "6LsX0zMKrD0V"
      },
      "source": [
        "Связь между удаленностью квартиры от центра и ее стоимостью слабая. Возможно, это зависит от качества жилья."
      ]
    },
    {
      "cell_type": "markdown",
      "metadata": {
        "id": "PaOUTVqerD0X"
      },
      "source": [
        "<b>Зависимость стоимости жилья от даты размещения:</b>"
      ]
    },
    {
      "cell_type": "code",
      "execution_count": null,
      "metadata": {
        "id": "n73FuZAfrD0Y",
        "outputId": "5bc12743-04c1-4951-ed58-ec33d2dcb22d"
      },
      "outputs": [
        {
          "data": {
            "image/png": "[encoded data removed]",
            "text/plain": [
              "<Figure size 360x360 with 1 Axes>"
            ]
          },
          "metadata": {
            "needs_background": "light"
          },
          "output_type": "display_data"
        },
        {
          "data": {
            "image/png": "[encoded data removed]",
            "text/plain": [
              "<Figure size 360x360 with 1 Axes>"
            ]
          },
          "metadata": {
            "needs_background": "light"
          },
          "output_type": "display_data"
        },
        {
          "name": "stdout",
          "output_type": "stream",
          "text": [
            "Корреляция между стоимостью квартиры и днем недели размещения объявления: -0.015812293600318484\n",
            "Корреляция между стоимостью квартиры и днем недели размещения объявления по центру Санкт-Петербурга: 0.015291018810380022\n"
          ]
        },
        {
          "data": {
            "image/png": "[encoded data removed]",
            "text/plain": [
              "<Figure size 360x360 with 1 Axes>"
            ]
          },
          "metadata": {
            "needs_background": "light"
          },
          "output_type": "display_data"
        },
        {
          "data": {
            "image/png": "[encoded data removed]",
            "text/plain": [
              "<Figure size 360x360 with 1 Axes>"
            ]
          },
          "metadata": {
            "needs_background": "light"
          },
          "output_type": "display_data"
        },
        {
          "name": "stdout",
          "output_type": "stream",
          "text": [
            "Корреляция между стоимостью квартиры и месяцем размещения объявления: 0.00620997851123904\n",
            "Корреляция между стоимостью квартиры и месяцем размещения объявления по центру Санкт-Петербурга: -0.016065624599512936\n"
          ]
        },
        {
          "data": {
            "image/png": "[encoded data removed]",
            "text/plain": [
              "<Figure size 360x360 with 1 Axes>"
            ]
          },
          "metadata": {
            "needs_background": "light"
          },
          "output_type": "display_data"
        },
        {
          "data": {
            "image/png": "[encoded data removed]",
            "text/plain": [
              "<Figure size 360x360 with 1 Axes>"
            ]
          },
          "metadata": {
            "needs_background": "light"
          },
          "output_type": "display_data"
        },
        {
          "name": "stdout",
          "output_type": "stream",
          "text": [
            "Корреляция между стоимостью квартиры и годом размещения объявления: -0.0019875702774940526\n",
            "Корреляция между стоимостью квартиры и годом размещения объявления по центру Санкт-Петербурга: -0.027548937084048254\n"
          ]
        }
      ],
      "source": [
        "# Зависимость от дня размещения\n",
        "(\n",
        "    data.pivot_table(index='weekday', values='last_price')\n",
        "    .plot(grid=True, style='o', figsize=(5, 5))\n",
        ")\n",
        "(\n",
        "    center_spb.pivot_table(index='weekday', values='last_price')\n",
        "    .plot(grid=True, style='o', figsize=(5, 5))\n",
        ")\n",
        "plt.show()\n",
        "print('Корреляция между стоимостью квартиры и днем недели размещения объявления:', data['weekday'].corr(data['last_price']))\n",
        "print('Корреляция между стоимостью квартиры и днем недели размещения объявления по центру Санкт-Петербурга:',\n",
        "      center_spb['weekday'].corr(center_spb['last_price']))\n",
        "\n",
        "# Зависимость от месяца размещения\n",
        "(\n",
        "    data.pivot_table(index='month', values='last_price')\n",
        "    .plot(grid=True, style='o', figsize=(5, 5))\n",
        ")\n",
        "(\n",
        "    center_spb.pivot_table(index='month', values='last_price')\n",
        "    .plot(grid=True, style='o', figsize=(5, 5))\n",
        ")\n",
        "plt.show()\n",
        "print('Корреляция между стоимостью квартиры и месяцем размещения объявления:', data['month'].corr(data['last_price']))\n",
        "print('Корреляция между стоимостью квартиры и месяцем размещения объявления по центру Санкт-Петербурга:',\n",
        "      center_spb['month'].corr(center_spb['last_price']))\n",
        "\n",
        "\n",
        "# Зависимость от года размещения\n",
        "(\n",
        "    data.pivot_table(index='year', values='last_price')\n",
        "    .plot(grid=True, style='o', figsize=(5, 5))    \n",
        ")\n",
        "(\n",
        "    center_spb.pivot_table(index='year', values='last_price')\n",
        "    .plot(grid=True, style='o', figsize=(5, 5))    \n",
        ")\n",
        "plt.show()\n",
        "\n",
        "print('Корреляция между стоимостью квартиры и годом размещения объявления:', \n",
        "      data['year'].corr(data['last_price']))\n",
        "print('Корреляция между стоимостью квартиры и годом размещения объявления по центру Санкт-Петербурга:',\n",
        "      center_spb['year'].corr(center_spb['last_price']))"
      ]
    },
    {
      "cell_type": "markdown",
      "metadata": {
        "id": "4uSOr2lVrD1A"
      },
      "source": [
        "Зависимость между стоимостью квартир и датой размещения низкая. Связь нет как в центре Санкт-Петербурга, так и по всей базе."
      ]
    },
    {
      "cell_type": "markdown",
      "metadata": {
        "id": "_Oh-RjeQrD1E"
      },
      "source": [
        "<b>Зависимость стоимости недвижимости в Санкт-Петербурге и во всей базе от дня недели размещения.</b>\n",
        "\n",
        "В Санкт-Петербурге нет четкой зависимости стоимости недвижимости от дня недели размещения объявления. \n",
        "Стоимость недвижимости по базе падает с начала недели к концу. В понедельник и пятницу наблюдается провал. Причину этого я не могу объяснить.\n",
        "\n",
        "<b>Зависимость стоимости недвижимости в Санкт-Петербурге и во всей базе от месяца размещения.</b>\n",
        "\n",
        "В Санкт-Петербурге стоимость недвижимости не изменяется в зависимости от месяца размещения и лежит в интервале от 7.1 - 7.4 млн.рублей. Имеется резкий спад в декабре и резкий рост в сентябре.\n",
        "\n",
        "Стоимости жилья по базе по месяцам размещения объявления практически не изменяется и колеблется в пределах 150 тыс. рублей. В апреле и сентябре есть резкий рост, а в июне резкий спад.\n",
        "\n",
        "<b>Зависимость стоимости недвижимости В Санкт-Петербурге и во всей базе от года размещения.</b>\n",
        "\n",
        "Прослеживается спад стоимости недвижимости с 2014 по 2016 год, далее стоимость до 2018 год практически не изменяется, а в 2019 начинается активный рост. Возможно это связано с кризисов в 2014 году.\n",
        "\n",
        "В Санкт-Петербурге в отличии от всей базы в 2014 году стоимость недвижимости самая низкая, в 2015 резкий рост и небольшое падение в 2016, это может быть тоже реакцией на кризис. Рост связан с тем, что повысился спрос на недвижимость как инвестиции. По остальным годам картина похожа на ситуацию по всей базе."
      ]
    },
    {
      "cell_type": "markdown",
      "metadata": {
        "id": "rX6hMludrD1F"
      },
      "source": [
        "## Общий вывод"
      ]
    },
    {
      "cell_type": "markdown",
      "metadata": {
        "id": "BZfphUYhrD1F"
      },
      "source": [
        "<b>Срок продажи квартиры</b>\n",
        "\n",
        "Чаще всего квартиру продают за 95 дней. Если меньше 45 дней, то это быстро, если дольше года - это долго.\n",
        "Есть большое число квартир, проданных всего за несколько дней после публикации.\n",
        "Также есть варианты, которые продавались несколько десятков месяцев.\n",
        "\n",
        "<b>Факторы, влияющие на стоимость</b>\n",
        "\n",
        "На стоимость больше влияет площадь квартиры, нежели число комнат.\n",
        "Первый этаж значительно дешевле остальных вариантов. Также стоимость квартиры на последнем этаже ниже, чем на остальных, кроме первого.\n",
        "\n",
        "<b>Стоимость квадратного метра в топ-10 населённых пунктов</b>\n",
        "\n",
        "Дороже всего квадратный метр в Санкт-Петербурге - 114848\n",
        "Дешевле всего квадратный метр в Выборге - 58141\n",
        "\n",
        "<b>Факторы, влияющие на стоимость недвижимости в центре Санкт-Петербурга</b>\n",
        "\n",
        "В центре города практически нет разницы, насколько квартира удалена от условного центра города.\n",
        "В центре города последний этаж влияет на стоимость квартиры меньше, чем во всей базе.\n",
        "В центре площадь квартир в среднем больше, чем во всем регионе в целом."
      ]
    }
  ],
  "metadata": {
    "ExecuteTimeLog": [
      {
        "duration": 1094,
        "start_time": "2022-04-14T06:53:21.875Z"
      },
      {
        "duration": 10,
        "start_time": "2022-04-14T06:54:45.302Z"
      },
      {
        "duration": 13,
        "start_time": "2022-04-14T06:54:52.102Z"
      },
      {
        "duration": 13,
        "start_time": "2022-04-14T06:55:47.950Z"
      },
      {
        "duration": 12,
        "start_time": "2022-04-14T07:06:27.382Z"
      },
      {
        "duration": 6,
        "start_time": "2022-04-14T07:07:03.943Z"
      },
      {
        "duration": 15,
        "start_time": "2022-04-14T07:07:52.951Z"
      },
      {
        "duration": 4,
        "start_time": "2022-04-14T07:08:42.111Z"
      },
      {
        "duration": 17,
        "start_time": "2022-04-14T07:09:19.305Z"
      },
      {
        "duration": 3,
        "start_time": "2022-04-14T07:09:34.726Z"
      },
      {
        "duration": 5,
        "start_time": "2022-04-14T07:10:05.089Z"
      },
      {
        "duration": 14,
        "start_time": "2022-04-14T07:10:30.804Z"
      },
      {
        "duration": 115,
        "start_time": "2022-04-14T07:11:03.807Z"
      },
      {
        "duration": 18,
        "start_time": "2022-04-14T07:11:30.711Z"
      },
      {
        "duration": 5,
        "start_time": "2022-04-14T07:12:28.542Z"
      },
      {
        "duration": 10,
        "start_time": "2022-04-14T07:12:55.593Z"
      },
      {
        "duration": 9,
        "start_time": "2022-04-14T07:13:14.290Z"
      },
      {
        "duration": 431,
        "start_time": "2022-04-14T07:13:57.226Z"
      },
      {
        "duration": 381,
        "start_time": "2022-04-14T07:14:22.293Z"
      },
      {
        "duration": 356,
        "start_time": "2022-04-14T07:15:08.150Z"
      },
      {
        "duration": 6,
        "start_time": "2022-04-14T07:16:00.397Z"
      },
      {
        "duration": 13,
        "start_time": "2022-04-14T07:16:35.132Z"
      },
      {
        "duration": 341,
        "start_time": "2022-04-14T07:17:13.715Z"
      },
      {
        "duration": 26,
        "start_time": "2022-04-14T07:18:09.929Z"
      },
      {
        "duration": 294,
        "start_time": "2022-04-14T07:19:02.493Z"
      },
      {
        "duration": 253,
        "start_time": "2022-04-14T07:20:12.899Z"
      },
      {
        "duration": 166,
        "start_time": "2022-04-14T07:20:47.515Z"
      },
      {
        "duration": 172,
        "start_time": "2022-04-14T07:21:18.362Z"
      },
      {
        "duration": 201,
        "start_time": "2022-04-14T07:38:30.261Z"
      },
      {
        "duration": 148,
        "start_time": "2022-04-14T07:38:58.230Z"
      },
      {
        "duration": 92,
        "start_time": "2022-04-14T07:55:49.902Z"
      },
      {
        "duration": 11,
        "start_time": "2022-04-14T07:56:02.732Z"
      },
      {
        "duration": 174,
        "start_time": "2022-04-14T07:56:06.712Z"
      },
      {
        "duration": 123,
        "start_time": "2022-04-14T07:58:15.522Z"
      },
      {
        "duration": 144,
        "start_time": "2022-04-14T07:59:46.103Z"
      },
      {
        "duration": 231,
        "start_time": "2022-04-14T08:02:54.197Z"
      },
      {
        "duration": 174,
        "start_time": "2022-04-14T08:13:05.334Z"
      },
      {
        "duration": 10,
        "start_time": "2022-04-14T08:16:38.283Z"
      },
      {
        "duration": 176,
        "start_time": "2022-04-14T08:16:47.766Z"
      },
      {
        "duration": 17,
        "start_time": "2022-04-14T08:16:47.945Z"
      },
      {
        "duration": 11,
        "start_time": "2022-04-14T08:16:47.964Z"
      },
      {
        "duration": 13,
        "start_time": "2022-04-14T08:16:47.977Z"
      },
      {
        "duration": 46,
        "start_time": "2022-04-14T08:16:47.992Z"
      },
      {
        "duration": 6,
        "start_time": "2022-04-14T08:16:48.040Z"
      },
      {
        "duration": 17,
        "start_time": "2022-04-14T08:16:48.049Z"
      },
      {
        "duration": 6,
        "start_time": "2022-04-14T08:16:48.068Z"
      },
      {
        "duration": 46,
        "start_time": "2022-04-14T08:16:48.076Z"
      },
      {
        "duration": 19,
        "start_time": "2022-04-14T08:16:48.125Z"
      },
      {
        "duration": 7,
        "start_time": "2022-04-14T08:16:48.147Z"
      },
      {
        "duration": 17,
        "start_time": "2022-04-14T08:16:48.156Z"
      },
      {
        "duration": 10,
        "start_time": "2022-04-14T08:16:48.175Z"
      },
      {
        "duration": 5,
        "start_time": "2022-04-14T08:16:48.219Z"
      },
      {
        "duration": 19,
        "start_time": "2022-04-14T08:16:48.225Z"
      },
      {
        "duration": 358,
        "start_time": "2022-04-14T08:16:48.246Z"
      },
      {
        "duration": 37,
        "start_time": "2022-04-14T08:16:48.605Z"
      },
      {
        "duration": 319,
        "start_time": "2022-04-14T08:16:48.644Z"
      },
      {
        "duration": 201,
        "start_time": "2022-04-14T08:16:48.965Z"
      },
      {
        "duration": 180,
        "start_time": "2022-04-14T08:16:49.168Z"
      },
      {
        "duration": 283,
        "start_time": "2022-04-14T08:16:49.350Z"
      },
      {
        "duration": 199,
        "start_time": "2022-04-14T08:16:49.636Z"
      },
      {
        "duration": 152,
        "start_time": "2022-04-14T08:16:49.837Z"
      },
      {
        "duration": 135,
        "start_time": "2022-04-14T08:16:49.991Z"
      },
      {
        "duration": 162,
        "start_time": "2022-04-14T08:16:50.127Z"
      },
      {
        "duration": 235,
        "start_time": "2022-04-14T08:16:50.291Z"
      },
      {
        "duration": 193,
        "start_time": "2022-04-14T08:16:50.528Z"
      },
      {
        "duration": 10,
        "start_time": "2022-04-14T08:16:50.724Z"
      },
      {
        "duration": 5,
        "start_time": "2022-04-14T08:17:35.098Z"
      },
      {
        "duration": 16,
        "start_time": "2022-04-14T08:17:37.589Z"
      },
      {
        "duration": 700,
        "start_time": "2022-04-14T08:17:40.780Z"
      },
      {
        "duration": 41,
        "start_time": "2022-04-14T08:17:43.119Z"
      },
      {
        "duration": 167,
        "start_time": "2022-04-14T08:18:36.704Z"
      },
      {
        "duration": 262,
        "start_time": "2022-04-14T08:21:01.108Z"
      },
      {
        "duration": 175,
        "start_time": "2022-04-14T08:21:27.492Z"
      },
      {
        "duration": 166,
        "start_time": "2022-04-14T08:21:55.017Z"
      },
      {
        "duration": 509,
        "start_time": "2022-04-14T09:40:59.536Z"
      },
      {
        "duration": 551,
        "start_time": "2022-04-14T10:23:14.579Z"
      },
      {
        "duration": 157,
        "start_time": "2022-04-14T10:23:30.223Z"
      },
      {
        "duration": 454,
        "start_time": "2022-04-14T10:23:45.054Z"
      },
      {
        "duration": 449,
        "start_time": "2022-04-14T10:24:25.250Z"
      },
      {
        "duration": 2251,
        "start_time": "2022-04-14T10:24:57.834Z"
      },
      {
        "duration": 825,
        "start_time": "2022-04-14T10:25:09.107Z"
      },
      {
        "duration": 36,
        "start_time": "2022-04-14T10:26:18.190Z"
      },
      {
        "duration": 125,
        "start_time": "2022-04-14T10:29:05.520Z"
      },
      {
        "duration": 105,
        "start_time": "2022-04-14T10:30:05.246Z"
      },
      {
        "duration": 108,
        "start_time": "2022-04-14T10:30:53.694Z"
      },
      {
        "duration": 109,
        "start_time": "2022-04-14T10:31:12.995Z"
      },
      {
        "duration": 36,
        "start_time": "2022-04-14T10:31:27.775Z"
      },
      {
        "duration": 158,
        "start_time": "2022-04-14T10:32:00.030Z"
      },
      {
        "duration": 26,
        "start_time": "2022-04-14T10:32:06.438Z"
      },
      {
        "duration": 27,
        "start_time": "2022-04-14T10:33:12.875Z"
      },
      {
        "duration": 25,
        "start_time": "2022-04-14T10:34:10.929Z"
      },
      {
        "duration": 6,
        "start_time": "2022-04-14T10:58:43.185Z"
      },
      {
        "duration": 7,
        "start_time": "2022-04-14T10:58:46.779Z"
      },
      {
        "duration": 12,
        "start_time": "2022-04-14T10:59:21.908Z"
      },
      {
        "duration": 13,
        "start_time": "2022-04-14T10:59:28.302Z"
      },
      {
        "duration": 7,
        "start_time": "2022-04-14T10:59:35.156Z"
      },
      {
        "duration": 17,
        "start_time": "2022-04-14T11:37:01.532Z"
      },
      {
        "duration": 31,
        "start_time": "2022-04-14T11:37:47.826Z"
      },
      {
        "duration": 49,
        "start_time": "2022-04-14T11:38:01.361Z"
      },
      {
        "duration": 74,
        "start_time": "2022-04-14T11:39:41.132Z"
      },
      {
        "duration": 240,
        "start_time": "2022-04-14T11:40:00.384Z"
      },
      {
        "duration": 16,
        "start_time": "2022-04-14T11:40:00.627Z"
      },
      {
        "duration": 16,
        "start_time": "2022-04-14T11:40:00.646Z"
      },
      {
        "duration": 22,
        "start_time": "2022-04-14T11:40:00.666Z"
      },
      {
        "duration": 40,
        "start_time": "2022-04-14T11:40:00.691Z"
      },
      {
        "duration": 9,
        "start_time": "2022-04-14T11:40:00.732Z"
      },
      {
        "duration": 21,
        "start_time": "2022-04-14T11:40:00.743Z"
      },
      {
        "duration": 9,
        "start_time": "2022-04-14T11:40:00.766Z"
      },
      {
        "duration": 26,
        "start_time": "2022-04-14T11:40:00.777Z"
      },
      {
        "duration": 27,
        "start_time": "2022-04-14T11:40:00.806Z"
      },
      {
        "duration": 19,
        "start_time": "2022-04-14T11:40:00.835Z"
      },
      {
        "duration": 28,
        "start_time": "2022-04-14T11:40:00.856Z"
      },
      {
        "duration": 20,
        "start_time": "2022-04-14T11:40:00.886Z"
      },
      {
        "duration": 16,
        "start_time": "2022-04-14T11:40:00.908Z"
      },
      {
        "duration": 23,
        "start_time": "2022-04-14T11:40:00.927Z"
      },
      {
        "duration": 356,
        "start_time": "2022-04-14T11:40:00.951Z"
      },
      {
        "duration": 29,
        "start_time": "2022-04-14T11:40:01.309Z"
      },
      {
        "duration": 366,
        "start_time": "2022-04-14T11:40:01.340Z"
      },
      {
        "duration": 302,
        "start_time": "2022-04-14T11:40:01.709Z"
      },
      {
        "duration": 183,
        "start_time": "2022-04-14T11:40:02.019Z"
      },
      {
        "duration": 191,
        "start_time": "2022-04-14T11:40:02.204Z"
      },
      {
        "duration": 285,
        "start_time": "2022-04-14T11:40:02.397Z"
      },
      {
        "duration": 162,
        "start_time": "2022-04-14T11:40:02.684Z"
      },
      {
        "duration": 136,
        "start_time": "2022-04-14T11:40:02.848Z"
      },
      {
        "duration": 168,
        "start_time": "2022-04-14T11:40:02.986Z"
      },
      {
        "duration": 215,
        "start_time": "2022-04-14T11:40:03.157Z"
      },
      {
        "duration": 264,
        "start_time": "2022-04-14T11:40:03.375Z"
      },
      {
        "duration": 299,
        "start_time": "2022-04-14T11:40:03.645Z"
      },
      {
        "duration": 39,
        "start_time": "2022-04-14T11:40:03.946Z"
      },
      {
        "duration": 98,
        "start_time": "2022-04-14T11:40:03.987Z"
      },
      {
        "duration": 68,
        "start_time": "2022-04-14T11:40:04.088Z"
      },
      {
        "duration": 52,
        "start_time": "2022-04-14T11:40:29.405Z"
      },
      {
        "duration": 12,
        "start_time": "2022-04-14T11:41:06.747Z"
      },
      {
        "duration": 9,
        "start_time": "2022-04-14T11:41:50.532Z"
      },
      {
        "duration": 8,
        "start_time": "2022-04-14T11:47:14.030Z"
      },
      {
        "duration": 9,
        "start_time": "2022-04-14T11:47:58.929Z"
      },
      {
        "duration": 9,
        "start_time": "2022-04-14T11:50:22.702Z"
      },
      {
        "duration": 4,
        "start_time": "2022-04-14T11:53:01.968Z"
      },
      {
        "duration": 275,
        "start_time": "2022-04-14T11:54:20.633Z"
      },
      {
        "duration": 1425,
        "start_time": "2022-04-14T12:42:40.196Z"
      },
      {
        "duration": 11,
        "start_time": "2022-04-14T12:42:41.624Z"
      },
      {
        "duration": 14,
        "start_time": "2022-04-14T12:42:41.637Z"
      },
      {
        "duration": 14,
        "start_time": "2022-04-14T12:42:41.653Z"
      },
      {
        "duration": 19,
        "start_time": "2022-04-14T12:42:41.670Z"
      },
      {
        "duration": 29,
        "start_time": "2022-04-14T12:42:41.691Z"
      },
      {
        "duration": 20,
        "start_time": "2022-04-14T12:42:41.722Z"
      },
      {
        "duration": 6,
        "start_time": "2022-04-14T12:42:41.744Z"
      },
      {
        "duration": 26,
        "start_time": "2022-04-14T12:42:41.752Z"
      },
      {
        "duration": 51,
        "start_time": "2022-04-14T12:42:41.781Z"
      },
      {
        "duration": 6,
        "start_time": "2022-04-14T12:42:41.835Z"
      },
      {
        "duration": 22,
        "start_time": "2022-04-14T12:42:41.843Z"
      },
      {
        "duration": 14,
        "start_time": "2022-04-14T12:42:41.867Z"
      },
      {
        "duration": 6,
        "start_time": "2022-04-14T12:42:41.886Z"
      },
      {
        "duration": 40,
        "start_time": "2022-04-14T12:42:41.894Z"
      },
      {
        "duration": 365,
        "start_time": "2022-04-14T12:42:41.936Z"
      },
      {
        "duration": 33,
        "start_time": "2022-04-14T12:42:42.302Z"
      },
      {
        "duration": 264,
        "start_time": "2022-04-14T12:42:42.337Z"
      },
      {
        "duration": 319,
        "start_time": "2022-04-14T12:42:42.603Z"
      },
      {
        "duration": 200,
        "start_time": "2022-04-14T12:42:42.924Z"
      },
      {
        "duration": 201,
        "start_time": "2022-04-14T12:42:43.126Z"
      },
      {
        "duration": 198,
        "start_time": "2022-04-14T12:42:43.330Z"
      },
      {
        "duration": 155,
        "start_time": "2022-04-14T12:42:43.529Z"
      },
      {
        "duration": 123,
        "start_time": "2022-04-14T12:42:43.686Z"
      },
      {
        "duration": 156,
        "start_time": "2022-04-14T12:42:43.811Z"
      },
      {
        "duration": 150,
        "start_time": "2022-04-14T12:42:43.969Z"
      },
      {
        "duration": 189,
        "start_time": "2022-04-14T12:42:44.121Z"
      },
      {
        "duration": 206,
        "start_time": "2022-04-14T12:42:44.312Z"
      },
      {
        "duration": 27,
        "start_time": "2022-04-14T12:42:44.520Z"
      },
      {
        "duration": 77,
        "start_time": "2022-04-14T12:42:44.550Z"
      },
      {
        "duration": 12,
        "start_time": "2022-04-14T12:42:44.629Z"
      },
      {
        "duration": 120,
        "start_time": "2022-04-14T12:42:44.643Z"
      },
      {
        "duration": 16,
        "start_time": "2022-04-14T12:48:56.091Z"
      },
      {
        "duration": 4,
        "start_time": "2022-04-14T12:49:18.980Z"
      },
      {
        "duration": 107,
        "start_time": "2022-04-14T12:55:34.054Z"
      },
      {
        "duration": 18,
        "start_time": "2022-04-14T12:55:49.652Z"
      },
      {
        "duration": 23,
        "start_time": "2022-04-14T12:57:43.273Z"
      },
      {
        "duration": 145,
        "start_time": "2022-04-14T12:59:59.793Z"
      },
      {
        "duration": 156,
        "start_time": "2022-04-14T13:00:06.134Z"
      },
      {
        "duration": 233,
        "start_time": "2022-04-14T13:00:40.743Z"
      },
      {
        "duration": 247,
        "start_time": "2022-04-14T13:00:48.218Z"
      },
      {
        "duration": 267,
        "start_time": "2022-04-14T13:01:10.505Z"
      },
      {
        "duration": 175,
        "start_time": "2022-04-14T13:01:17.969Z"
      },
      {
        "duration": 185,
        "start_time": "2022-04-14T13:01:25.370Z"
      },
      {
        "duration": 31,
        "start_time": "2022-04-14T13:16:12.456Z"
      },
      {
        "duration": 38,
        "start_time": "2022-04-14T13:16:46.204Z"
      },
      {
        "duration": 9,
        "start_time": "2022-04-14T13:17:13.458Z"
      },
      {
        "duration": 297,
        "start_time": "2022-04-14T13:44:27.700Z"
      },
      {
        "duration": 5,
        "start_time": "2022-04-14T13:52:39.100Z"
      },
      {
        "duration": 6,
        "start_time": "2022-04-14T13:53:42.262Z"
      },
      {
        "duration": 13,
        "start_time": "2022-04-14T13:54:44.415Z"
      },
      {
        "duration": 138,
        "start_time": "2022-04-14T15:23:31.378Z"
      },
      {
        "duration": 317,
        "start_time": "2022-04-14T15:23:45.908Z"
      },
      {
        "duration": 303,
        "start_time": "2022-04-14T15:25:14.477Z"
      },
      {
        "duration": 431,
        "start_time": "2022-04-14T15:25:42.290Z"
      },
      {
        "duration": 102,
        "start_time": "2022-04-14T15:28:49.294Z"
      },
      {
        "duration": 14,
        "start_time": "2022-04-14T15:29:03.358Z"
      },
      {
        "duration": 14,
        "start_time": "2022-04-14T15:30:08.424Z"
      },
      {
        "duration": 147,
        "start_time": "2022-04-14T15:30:43.893Z"
      },
      {
        "duration": 166,
        "start_time": "2022-04-14T15:30:54.010Z"
      },
      {
        "duration": 117,
        "start_time": "2022-04-14T15:31:01.885Z"
      },
      {
        "duration": 129,
        "start_time": "2022-04-14T15:31:18.904Z"
      },
      {
        "duration": 139,
        "start_time": "2022-04-14T15:31:23.962Z"
      },
      {
        "duration": 13,
        "start_time": "2022-04-14T15:31:33.068Z"
      },
      {
        "duration": 13,
        "start_time": "2022-04-14T15:31:37.853Z"
      },
      {
        "duration": 25,
        "start_time": "2022-04-14T15:32:30.911Z"
      },
      {
        "duration": 16,
        "start_time": "2022-04-14T15:33:20.800Z"
      },
      {
        "duration": 147,
        "start_time": "2022-04-14T15:33:30.857Z"
      },
      {
        "duration": 202,
        "start_time": "2022-04-14T15:33:43.007Z"
      },
      {
        "duration": 17,
        "start_time": "2022-04-14T15:33:52.952Z"
      },
      {
        "duration": 25,
        "start_time": "2022-04-14T15:34:07.229Z"
      },
      {
        "duration": 151,
        "start_time": "2022-04-14T15:34:23.751Z"
      },
      {
        "duration": 22,
        "start_time": "2022-04-14T15:34:30.987Z"
      },
      {
        "duration": 16,
        "start_time": "2022-04-14T15:34:41.948Z"
      },
      {
        "duration": 20,
        "start_time": "2022-04-14T15:35:01.650Z"
      },
      {
        "duration": 23,
        "start_time": "2022-04-14T15:35:09.400Z"
      },
      {
        "duration": 19,
        "start_time": "2022-04-14T15:35:27.346Z"
      },
      {
        "duration": 12,
        "start_time": "2022-04-14T15:35:39.504Z"
      },
      {
        "duration": 319,
        "start_time": "2022-04-14T15:35:58.183Z"
      },
      {
        "duration": 334,
        "start_time": "2022-04-14T15:39:45.612Z"
      },
      {
        "duration": 327,
        "start_time": "2022-04-14T15:41:35.580Z"
      },
      {
        "duration": 342,
        "start_time": "2022-04-14T15:42:36.169Z"
      },
      {
        "duration": 260,
        "start_time": "2022-04-14T15:45:28.847Z"
      },
      {
        "duration": 506,
        "start_time": "2022-04-14T15:46:59.552Z"
      },
      {
        "duration": 141,
        "start_time": "2022-04-14T15:59:06.150Z"
      },
      {
        "duration": 586,
        "start_time": "2022-04-14T15:59:40.541Z"
      },
      {
        "duration": 520,
        "start_time": "2022-04-14T16:00:49.702Z"
      },
      {
        "duration": 119,
        "start_time": "2022-04-14T16:05:51.390Z"
      },
      {
        "duration": 2504,
        "start_time": "2022-04-14T16:05:57.265Z"
      },
      {
        "duration": 200,
        "start_time": "2022-04-14T16:07:30.582Z"
      },
      {
        "duration": 184,
        "start_time": "2022-04-14T16:08:09.130Z"
      },
      {
        "duration": 182,
        "start_time": "2022-04-14T16:08:19.248Z"
      },
      {
        "duration": 194,
        "start_time": "2022-04-14T16:11:00.644Z"
      },
      {
        "duration": 213,
        "start_time": "2022-04-14T16:11:16.096Z"
      },
      {
        "duration": 256,
        "start_time": "2022-04-14T17:41:45.179Z"
      },
      {
        "duration": 128,
        "start_time": "2022-04-14T17:42:33.552Z"
      },
      {
        "duration": 313,
        "start_time": "2022-04-14T17:42:38.664Z"
      },
      {
        "duration": 518,
        "start_time": "2022-04-14T17:44:10.975Z"
      },
      {
        "duration": 164,
        "start_time": "2022-04-14T17:46:08.863Z"
      },
      {
        "duration": 177,
        "start_time": "2022-04-14T17:46:56.393Z"
      },
      {
        "duration": 279,
        "start_time": "2022-04-14T17:47:16.089Z"
      },
      {
        "duration": 1351,
        "start_time": "2022-04-15T10:31:29.233Z"
      },
      {
        "duration": 185,
        "start_time": "2022-04-15T10:32:00.913Z"
      },
      {
        "duration": 15,
        "start_time": "2022-04-15T10:32:50.875Z"
      },
      {
        "duration": 11,
        "start_time": "2022-04-15T10:32:56.877Z"
      },
      {
        "duration": 8,
        "start_time": "2022-04-15T10:33:01.933Z"
      },
      {
        "duration": 16,
        "start_time": "2022-04-15T10:33:21.782Z"
      },
      {
        "duration": 16,
        "start_time": "2022-04-15T10:34:06.963Z"
      },
      {
        "duration": 6,
        "start_time": "2022-04-15T10:34:17.355Z"
      },
      {
        "duration": 22,
        "start_time": "2022-04-15T10:34:27.533Z"
      },
      {
        "duration": 15,
        "start_time": "2022-04-15T10:34:32.752Z"
      },
      {
        "duration": 17,
        "start_time": "2022-04-15T10:34:36.543Z"
      },
      {
        "duration": 38,
        "start_time": "2022-04-15T10:34:41.087Z"
      },
      {
        "duration": 2074,
        "start_time": "2022-04-15T10:35:03.563Z"
      },
      {
        "duration": 15,
        "start_time": "2022-04-15T10:35:34.688Z"
      },
      {
        "duration": 7,
        "start_time": "2022-04-15T10:35:45.636Z"
      },
      {
        "duration": 16,
        "start_time": "2022-04-15T10:35:48.130Z"
      },
      {
        "duration": 25,
        "start_time": "2022-04-15T10:36:34.952Z"
      },
      {
        "duration": 7,
        "start_time": "2022-04-15T10:37:01.922Z"
      },
      {
        "duration": 6,
        "start_time": "2022-04-15T10:37:17.781Z"
      },
      {
        "duration": 12,
        "start_time": "2022-04-15T10:37:20.392Z"
      },
      {
        "duration": 5,
        "start_time": "2022-04-15T10:39:50.489Z"
      },
      {
        "duration": 19,
        "start_time": "2022-04-15T10:39:58.061Z"
      },
      {
        "duration": 578,
        "start_time": "2022-04-15T10:40:02.460Z"
      },
      {
        "duration": 43,
        "start_time": "2022-04-15T10:40:20.501Z"
      },
      {
        "duration": 382,
        "start_time": "2022-04-15T10:40:33.078Z"
      },
      {
        "duration": 525,
        "start_time": "2022-04-15T10:41:00.269Z"
      },
      {
        "duration": 322,
        "start_time": "2022-04-15T10:41:13.213Z"
      },
      {
        "duration": 321,
        "start_time": "2022-04-15T10:41:57.852Z"
      },
      {
        "duration": 305,
        "start_time": "2022-04-15T10:42:19.431Z"
      },
      {
        "duration": 329,
        "start_time": "2022-04-15T10:42:46.141Z"
      },
      {
        "duration": 286,
        "start_time": "2022-04-15T10:42:54.293Z"
      },
      {
        "duration": 253,
        "start_time": "2022-04-15T10:43:09.076Z"
      },
      {
        "duration": 326,
        "start_time": "2022-04-15T10:43:53.293Z"
      },
      {
        "duration": 180,
        "start_time": "2022-04-15T10:51:23.189Z"
      },
      {
        "duration": 268,
        "start_time": "2022-04-15T10:51:49.300Z"
      },
      {
        "duration": 223,
        "start_time": "2022-04-15T10:57:07.347Z"
      },
      {
        "duration": 295,
        "start_time": "2022-04-15T10:57:26.681Z"
      },
      {
        "duration": 268,
        "start_time": "2022-04-15T10:57:46.224Z"
      },
      {
        "duration": 256,
        "start_time": "2022-04-15T10:57:53.290Z"
      },
      {
        "duration": 39,
        "start_time": "2022-04-15T11:00:49.305Z"
      },
      {
        "duration": 64,
        "start_time": "2022-04-15T11:00:55.416Z"
      },
      {
        "duration": 13,
        "start_time": "2022-04-15T11:01:08.114Z"
      },
      {
        "duration": 355,
        "start_time": "2022-04-15T11:01:12.433Z"
      },
      {
        "duration": 14,
        "start_time": "2022-04-15T11:01:20.680Z"
      },
      {
        "duration": 512,
        "start_time": "2022-04-15T11:01:23.290Z"
      },
      {
        "duration": 561,
        "start_time": "2022-04-15T11:01:34.132Z"
      },
      {
        "duration": 276,
        "start_time": "2022-04-15T11:01:40.907Z"
      },
      {
        "duration": 266,
        "start_time": "2022-04-15T11:01:44.268Z"
      },
      {
        "duration": 4,
        "start_time": "2022-04-15T11:06:18.709Z"
      },
      {
        "duration": 7,
        "start_time": "2022-04-15T11:07:50.493Z"
      },
      {
        "duration": 2149,
        "start_time": "2022-04-15T11:08:15.533Z"
      },
      {
        "duration": 8,
        "start_time": "2022-04-15T11:08:20.539Z"
      },
      {
        "duration": 6,
        "start_time": "2022-04-15T11:08:30.469Z"
      },
      {
        "duration": 6,
        "start_time": "2022-04-15T11:09:02.530Z"
      },
      {
        "duration": 135,
        "start_time": "2022-04-15T11:10:11.102Z"
      },
      {
        "duration": 6,
        "start_time": "2022-04-15T11:10:18.289Z"
      },
      {
        "duration": 543,
        "start_time": "2022-04-15T11:11:49.505Z"
      },
      {
        "duration": 10,
        "start_time": "2022-04-15T11:14:18.780Z"
      },
      {
        "duration": 9,
        "start_time": "2022-04-15T11:16:02.630Z"
      },
      {
        "duration": 10,
        "start_time": "2022-04-15T11:16:06.614Z"
      },
      {
        "duration": 296,
        "start_time": "2022-04-15T11:18:26.319Z"
      },
      {
        "duration": 446,
        "start_time": "2022-04-15T11:19:42.968Z"
      },
      {
        "duration": 169,
        "start_time": "2022-04-15T11:23:52.392Z"
      },
      {
        "duration": 10,
        "start_time": "2022-04-15T11:24:19.213Z"
      },
      {
        "duration": 252,
        "start_time": "2022-04-15T11:24:30.073Z"
      },
      {
        "duration": 490,
        "start_time": "2022-04-15T11:24:43.992Z"
      },
      {
        "duration": 259,
        "start_time": "2022-04-15T11:28:33.777Z"
      },
      {
        "duration": 265,
        "start_time": "2022-04-15T11:28:45.614Z"
      },
      {
        "duration": 232,
        "start_time": "2022-04-15T11:37:49.863Z"
      },
      {
        "duration": 231,
        "start_time": "2022-04-15T11:40:13.328Z"
      },
      {
        "duration": 301,
        "start_time": "2022-04-15T11:43:00.191Z"
      },
      {
        "duration": 232,
        "start_time": "2022-04-15T11:43:23.040Z"
      },
      {
        "duration": 13,
        "start_time": "2022-04-15T11:46:16.048Z"
      },
      {
        "duration": 468,
        "start_time": "2022-04-15T11:47:02.276Z"
      },
      {
        "duration": 484,
        "start_time": "2022-04-15T11:47:20.784Z"
      },
      {
        "duration": 215,
        "start_time": "2022-04-15T12:03:21.805Z"
      },
      {
        "duration": 226,
        "start_time": "2022-04-15T12:06:34.390Z"
      },
      {
        "duration": 251,
        "start_time": "2022-04-15T12:08:41.524Z"
      },
      {
        "duration": 273,
        "start_time": "2022-04-15T12:08:51.124Z"
      },
      {
        "duration": 223,
        "start_time": "2022-04-15T12:08:59.205Z"
      },
      {
        "duration": 13,
        "start_time": "2022-04-15T12:15:03.262Z"
      },
      {
        "duration": 883,
        "start_time": "2022-04-15T12:15:41.752Z"
      },
      {
        "duration": 791,
        "start_time": "2022-04-15T12:18:16.739Z"
      },
      {
        "duration": 759,
        "start_time": "2022-04-15T12:19:33.811Z"
      },
      {
        "duration": 22,
        "start_time": "2022-04-15T12:20:44.202Z"
      },
      {
        "duration": 21,
        "start_time": "2022-04-15T12:21:06.945Z"
      },
      {
        "duration": 16,
        "start_time": "2022-04-15T12:21:57.679Z"
      },
      {
        "duration": 13,
        "start_time": "2022-04-15T12:22:11.944Z"
      },
      {
        "duration": 336,
        "start_time": "2022-04-15T12:25:54.085Z"
      },
      {
        "duration": 1396,
        "start_time": "2022-04-25T06:57:48.791Z"
      },
      {
        "duration": 11,
        "start_time": "2022-04-25T06:57:50.189Z"
      },
      {
        "duration": 26,
        "start_time": "2022-04-25T06:57:50.202Z"
      },
      {
        "duration": 7,
        "start_time": "2022-04-25T06:57:50.230Z"
      },
      {
        "duration": 17,
        "start_time": "2022-04-25T06:57:50.238Z"
      },
      {
        "duration": 4,
        "start_time": "2022-04-25T06:57:50.257Z"
      },
      {
        "duration": 20,
        "start_time": "2022-04-25T06:57:50.263Z"
      },
      {
        "duration": 38,
        "start_time": "2022-04-25T06:57:50.285Z"
      },
      {
        "duration": 12,
        "start_time": "2022-04-25T06:57:50.325Z"
      },
      {
        "duration": 8,
        "start_time": "2022-04-25T06:57:50.340Z"
      },
      {
        "duration": 8,
        "start_time": "2022-04-25T06:57:50.350Z"
      },
      {
        "duration": 10,
        "start_time": "2022-04-25T06:57:50.360Z"
      },
      {
        "duration": 9,
        "start_time": "2022-04-25T06:57:50.371Z"
      },
      {
        "duration": 43,
        "start_time": "2022-04-25T06:57:50.382Z"
      },
      {
        "duration": 20,
        "start_time": "2022-04-25T06:57:50.427Z"
      },
      {
        "duration": 329,
        "start_time": "2022-04-25T06:57:50.450Z"
      },
      {
        "duration": 24,
        "start_time": "2022-04-25T06:57:50.780Z"
      },
      {
        "duration": 397,
        "start_time": "2022-04-25T06:57:50.806Z"
      },
      {
        "duration": 326,
        "start_time": "2022-04-25T06:57:51.205Z"
      },
      {
        "duration": 179,
        "start_time": "2022-04-25T06:57:51.533Z"
      },
      {
        "duration": 178,
        "start_time": "2022-04-25T06:57:51.714Z"
      },
      {
        "duration": 179,
        "start_time": "2022-04-25T06:57:51.894Z"
      },
      {
        "duration": 148,
        "start_time": "2022-04-25T06:57:52.075Z"
      },
      {
        "duration": 120,
        "start_time": "2022-04-25T06:57:52.225Z"
      },
      {
        "duration": 143,
        "start_time": "2022-04-25T06:57:52.347Z"
      },
      {
        "duration": 217,
        "start_time": "2022-04-25T06:57:52.493Z"
      },
      {
        "duration": 262,
        "start_time": "2022-04-25T06:57:52.713Z"
      },
      {
        "duration": 276,
        "start_time": "2022-04-25T06:57:52.980Z"
      },
      {
        "duration": 31,
        "start_time": "2022-04-25T06:57:53.258Z"
      },
      {
        "duration": 71,
        "start_time": "2022-04-25T06:57:53.291Z"
      },
      {
        "duration": 10,
        "start_time": "2022-04-25T06:57:53.364Z"
      },
      {
        "duration": 288,
        "start_time": "2022-04-25T06:57:53.375Z"
      },
      {
        "duration": 15,
        "start_time": "2022-04-25T06:57:53.665Z"
      },
      {
        "duration": 559,
        "start_time": "2022-04-25T06:57:53.682Z"
      },
      {
        "duration": 289,
        "start_time": "2022-04-25T06:57:54.242Z"
      },
      {
        "duration": 161,
        "start_time": "2022-04-25T06:57:54.533Z"
      },
      {
        "duration": 166,
        "start_time": "2022-04-25T06:57:54.696Z"
      },
      {
        "duration": 285,
        "start_time": "2022-04-25T06:57:54.864Z"
      },
      {
        "duration": 226,
        "start_time": "2022-04-25T06:57:55.152Z"
      },
      {
        "duration": 233,
        "start_time": "2022-04-25T06:57:55.380Z"
      },
      {
        "duration": 12,
        "start_time": "2022-04-25T06:57:55.624Z"
      },
      {
        "duration": 237,
        "start_time": "2022-04-25T07:21:01.163Z"
      },
      {
        "duration": 272,
        "start_time": "2022-04-25T07:21:38.251Z"
      },
      {
        "duration": 844,
        "start_time": "2022-04-25T07:21:52.041Z"
      },
      {
        "duration": 10,
        "start_time": "2022-04-25T07:21:52.887Z"
      },
      {
        "duration": 7,
        "start_time": "2022-04-25T07:21:52.899Z"
      },
      {
        "duration": 7,
        "start_time": "2022-04-25T07:21:52.924Z"
      },
      {
        "duration": 17,
        "start_time": "2022-04-25T07:21:52.933Z"
      },
      {
        "duration": 3,
        "start_time": "2022-04-25T07:21:52.952Z"
      },
      {
        "duration": 15,
        "start_time": "2022-04-25T07:21:52.957Z"
      },
      {
        "duration": 8,
        "start_time": "2022-04-25T07:21:52.974Z"
      },
      {
        "duration": 40,
        "start_time": "2022-04-25T07:21:52.983Z"
      },
      {
        "duration": 6,
        "start_time": "2022-04-25T07:21:53.026Z"
      },
      {
        "duration": 8,
        "start_time": "2022-04-25T07:21:53.034Z"
      },
      {
        "duration": 11,
        "start_time": "2022-04-25T07:21:53.043Z"
      },
      {
        "duration": 8,
        "start_time": "2022-04-25T07:21:53.055Z"
      },
      {
        "duration": 4,
        "start_time": "2022-04-25T07:21:53.064Z"
      },
      {
        "duration": 18,
        "start_time": "2022-04-25T07:21:53.069Z"
      },
      {
        "duration": 327,
        "start_time": "2022-04-25T07:21:53.088Z"
      },
      {
        "duration": 25,
        "start_time": "2022-04-25T07:21:53.417Z"
      },
      {
        "duration": 229,
        "start_time": "2022-04-25T07:21:53.443Z"
      },
      {
        "duration": 221,
        "start_time": "2022-04-25T07:21:53.673Z"
      },
      {
        "duration": 143,
        "start_time": "2022-04-25T07:21:53.895Z"
      },
      {
        "duration": 163,
        "start_time": "2022-04-25T07:21:54.040Z"
      },
      {
        "duration": 183,
        "start_time": "2022-04-25T07:21:54.205Z"
      },
      {
        "duration": 137,
        "start_time": "2022-04-25T07:21:54.390Z"
      },
      {
        "duration": 197,
        "start_time": "2022-04-25T07:21:54.529Z"
      },
      {
        "duration": 153,
        "start_time": "2022-04-25T07:21:54.728Z"
      },
      {
        "duration": 147,
        "start_time": "2022-04-25T07:21:54.883Z"
      },
      {
        "duration": 170,
        "start_time": "2022-04-25T07:21:55.032Z"
      },
      {
        "duration": 171,
        "start_time": "2022-04-25T07:21:55.206Z"
      },
      {
        "duration": 24,
        "start_time": "2022-04-25T07:21:55.378Z"
      },
      {
        "duration": 50,
        "start_time": "2022-04-25T07:21:55.404Z"
      },
      {
        "duration": 8,
        "start_time": "2022-04-25T07:21:55.457Z"
      },
      {
        "duration": 201,
        "start_time": "2022-04-25T07:21:55.467Z"
      },
      {
        "duration": 12,
        "start_time": "2022-04-25T07:21:55.670Z"
      },
      {
        "duration": 367,
        "start_time": "2022-04-25T07:21:55.685Z"
      },
      {
        "duration": 441,
        "start_time": "2022-04-25T07:21:56.054Z"
      },
      {
        "duration": 234,
        "start_time": "2022-04-25T07:21:56.498Z"
      },
      {
        "duration": 160,
        "start_time": "2022-04-25T07:21:56.735Z"
      },
      {
        "duration": 293,
        "start_time": "2022-04-25T07:21:56.897Z"
      },
      {
        "duration": 137,
        "start_time": "2022-04-25T07:21:57.192Z"
      },
      {
        "duration": 143,
        "start_time": "2022-04-25T07:21:57.331Z"
      },
      {
        "duration": 10,
        "start_time": "2022-04-25T07:21:57.476Z"
      },
      {
        "duration": 156,
        "start_time": "2022-04-25T07:36:49.532Z"
      },
      {
        "duration": 351,
        "start_time": "2022-04-25T07:37:51.580Z"
      },
      {
        "duration": 400,
        "start_time": "2022-04-25T07:39:31.052Z"
      },
      {
        "duration": 371,
        "start_time": "2022-04-25T07:39:48.119Z"
      },
      {
        "duration": 469,
        "start_time": "2022-04-25T08:07:33.889Z"
      },
      {
        "duration": 606,
        "start_time": "2022-04-25T08:10:52.262Z"
      },
      {
        "duration": 465,
        "start_time": "2022-04-25T09:18:21.207Z"
      },
      {
        "duration": 704,
        "start_time": "2022-04-25T09:59:36.593Z"
      },
      {
        "duration": 860,
        "start_time": "2022-04-25T10:01:44.184Z"
      },
      {
        "duration": 1446,
        "start_time": "2022-04-25T10:04:39.623Z"
      }
    ],
    "kernelspec": {
      "display_name": "Python 3 (ipykernel)",
      "language": "python",
      "name": "python3"
    },
    "language_info": {
      "codemirror_mode": {
        "name": "ipython",
        "version": 3
      },
      "file_extension": ".py",
      "mimetype": "text/x-python",
      "name": "python",
      "nbconvert_exporter": "python",
      "pygments_lexer": "ipython3",
      "version": "3.9.7"
    },
    "toc": {
      "base_numbering": 1,
      "nav_menu": {},
      "number_sections": true,
      "sideBar": true,
      "skip_h1_title": true,
      "title_cell": "Содержание",
      "title_sidebar": "Contents",
      "toc_cell": true,
      "toc_position": {
        "height": "calc(100% - 180px)",
        "left": "10px",
        "top": "150px",
        "width": "323.903px"
      },
      "toc_section_display": true,
      "toc_window_display": false
    },
    "colab": {
      "provenance": [],
      "toc_visible": true
    }
  },
  "nbformat": 4,
  "nbformat_minor": 0
}