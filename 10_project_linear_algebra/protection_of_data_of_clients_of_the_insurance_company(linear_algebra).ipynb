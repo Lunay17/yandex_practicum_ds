{
  "cells": [
    {
      "cell_type": "markdown",
      "metadata": {
        "id": "BHc2UATHO7OL"
      },
      "source": [
        "# Защита персональных данных клиентов"
      ]
    },
    {
      "cell_type": "markdown",
      "metadata": {
        "id": "2d6ffN5RO7ON"
      },
      "source": [
        "Вам нужно защитить данные клиентов страховой компании «Хоть потоп». Разработайте такой метод преобразования данных, чтобы по ним было сложно восстановить персональную информацию. Обоснуйте корректность его работы.\n",
        "\n",
        "Нужно защитить данные, чтобы при преобразовании качество моделей машинного обучения не ухудшилось. Подбирать наилучшую модель не требуется."
      ]
    },
    {
      "cell_type": "code",
      "execution_count": null,
      "metadata": {
        "id": "-FECGz3nO7OP"
      },
      "outputs": [],
      "source": [
        "import pandas as pd\n",
        "import numpy as np\n",
        "from sklearn.model_selection import train_test_split\n",
        "from sklearn.linear_model import LinearRegression\n",
        "from sklearn.metrics import r2_score"
      ]
    },
    {
      "cell_type": "markdown",
      "metadata": {
        "id": "GIY5SKz8O7OU"
      },
      "source": [
        "## Загрузка данных"
      ]
    },
    {
      "cell_type": "markdown",
      "metadata": {
        "id": "JyKHZnxMO7OV"
      },
      "source": [
        "Для начала загрузим и изучим данные."
      ]
    },
    {
      "cell_type": "code",
      "execution_count": null,
      "metadata": {
        "scrolled": true,
        "id": "Myvd5_xVO7OW",
        "outputId": "22597d44-09ff-4a98-c131-c18e3f087c5c"
      },
      "outputs": [
        {
          "data": {
            "text/html": [
              "<div>\n",
              "<style scoped>\n",
              "    .dataframe tbody tr th:only-of-type {\n",
              "        vertical-align: middle;\n",
              "    }\n",
              "\n",
              "    .dataframe tbody tr th {\n",
              "        vertical-align: top;\n",
              "    }\n",
              "\n",
              "    .dataframe thead th {\n",
              "        text-align: right;\n",
              "    }\n",
              "</style>\n",
              "<table border=\"1\" class=\"dataframe\">\n",
              "  <thead>\n",
              "    <tr style=\"text-align: right;\">\n",
              "      <th></th>\n",
              "      <th>Пол</th>\n",
              "      <th>Возраст</th>\n",
              "      <th>Зарплата</th>\n",
              "      <th>Члены семьи</th>\n",
              "      <th>Страховые выплаты</th>\n",
              "    </tr>\n",
              "  </thead>\n",
              "  <tbody>\n",
              "    <tr>\n",
              "      <th>0</th>\n",
              "      <td>1</td>\n",
              "      <td>41.0</td>\n",
              "      <td>49600.0</td>\n",
              "      <td>1</td>\n",
              "      <td>0</td>\n",
              "    </tr>\n",
              "    <tr>\n",
              "      <th>1</th>\n",
              "      <td>0</td>\n",
              "      <td>46.0</td>\n",
              "      <td>38000.0</td>\n",
              "      <td>1</td>\n",
              "      <td>1</td>\n",
              "    </tr>\n",
              "    <tr>\n",
              "      <th>2</th>\n",
              "      <td>0</td>\n",
              "      <td>29.0</td>\n",
              "      <td>21000.0</td>\n",
              "      <td>0</td>\n",
              "      <td>0</td>\n",
              "    </tr>\n",
              "    <tr>\n",
              "      <th>3</th>\n",
              "      <td>0</td>\n",
              "      <td>21.0</td>\n",
              "      <td>41700.0</td>\n",
              "      <td>2</td>\n",
              "      <td>0</td>\n",
              "    </tr>\n",
              "    <tr>\n",
              "      <th>4</th>\n",
              "      <td>1</td>\n",
              "      <td>28.0</td>\n",
              "      <td>26100.0</td>\n",
              "      <td>0</td>\n",
              "      <td>0</td>\n",
              "    </tr>\n",
              "  </tbody>\n",
              "</table>\n",
              "</div>"
            ],
            "text/plain": [
              "   Пол  Возраст  Зарплата  Члены семьи  Страховые выплаты\n",
              "0    1     41.0   49600.0            1                  0\n",
              "1    0     46.0   38000.0            1                  1\n",
              "2    0     29.0   21000.0            0                  0\n",
              "3    0     21.0   41700.0            2                  0\n",
              "4    1     28.0   26100.0            0                  0"
            ]
          },
          "execution_count": 3,
          "metadata": {},
          "output_type": "execute_result"
        }
      ],
      "source": [
        "df = pd.read_csv('/datasets/insurance.csv')\n",
        "df.head()"
      ]
    },
    {
      "cell_type": "markdown",
      "metadata": {
        "id": "LSBEnHasO7Oa"
      },
      "source": [
        "Посмотрим общую информацию о датасете."
      ]
    },
    {
      "cell_type": "code",
      "execution_count": null,
      "metadata": {
        "id": "5KxH_NxuO7Ob",
        "outputId": "d0db2ec2-9396-4cd4-a4ac-dc8c970dd9a0"
      },
      "outputs": [
        {
          "name": "stdout",
          "output_type": "stream",
          "text": [
            "<class 'pandas.core.frame.DataFrame'>\n",
            "RangeIndex: 5000 entries, 0 to 4999\n",
            "Data columns (total 5 columns):\n",
            " #   Column             Non-Null Count  Dtype  \n",
            "---  ------             --------------  -----  \n",
            " 0   Пол                5000 non-null   int64  \n",
            " 1   Возраст            5000 non-null   float64\n",
            " 2   Зарплата           5000 non-null   float64\n",
            " 3   Члены семьи        5000 non-null   int64  \n",
            " 4   Страховые выплаты  5000 non-null   int64  \n",
            "dtypes: float64(2), int64(3)\n",
            "memory usage: 195.4 KB\n"
          ]
        }
      ],
      "source": [
        "df.info()"
      ]
    },
    {
      "cell_type": "code",
      "execution_count": null,
      "metadata": {
        "scrolled": true,
        "id": "HMzl36IkO7Od",
        "outputId": "89aa8da1-79b9-41ef-c194-5803c7bc8d4f"
      },
      "outputs": [
        {
          "data": {
            "text/html": [
              "<div>\n",
              "<style scoped>\n",
              "    .dataframe tbody tr th:only-of-type {\n",
              "        vertical-align: middle;\n",
              "    }\n",
              "\n",
              "    .dataframe tbody tr th {\n",
              "        vertical-align: top;\n",
              "    }\n",
              "\n",
              "    .dataframe thead th {\n",
              "        text-align: right;\n",
              "    }\n",
              "</style>\n",
              "<table border=\"1\" class=\"dataframe\">\n",
              "  <thead>\n",
              "    <tr style=\"text-align: right;\">\n",
              "      <th></th>\n",
              "      <th>Пол</th>\n",
              "      <th>Возраст</th>\n",
              "      <th>Зарплата</th>\n",
              "      <th>Члены семьи</th>\n",
              "      <th>Страховые выплаты</th>\n",
              "    </tr>\n",
              "  </thead>\n",
              "  <tbody>\n",
              "    <tr>\n",
              "      <th>count</th>\n",
              "      <td>5000.000000</td>\n",
              "      <td>5000.000000</td>\n",
              "      <td>5000.000000</td>\n",
              "      <td>5000.000000</td>\n",
              "      <td>5000.000000</td>\n",
              "    </tr>\n",
              "    <tr>\n",
              "      <th>mean</th>\n",
              "      <td>0.499000</td>\n",
              "      <td>30.952800</td>\n",
              "      <td>39916.360000</td>\n",
              "      <td>1.194200</td>\n",
              "      <td>0.148000</td>\n",
              "    </tr>\n",
              "    <tr>\n",
              "      <th>std</th>\n",
              "      <td>0.500049</td>\n",
              "      <td>8.440807</td>\n",
              "      <td>9900.083569</td>\n",
              "      <td>1.091387</td>\n",
              "      <td>0.463183</td>\n",
              "    </tr>\n",
              "    <tr>\n",
              "      <th>min</th>\n",
              "      <td>0.000000</td>\n",
              "      <td>18.000000</td>\n",
              "      <td>5300.000000</td>\n",
              "      <td>0.000000</td>\n",
              "      <td>0.000000</td>\n",
              "    </tr>\n",
              "    <tr>\n",
              "      <th>25%</th>\n",
              "      <td>0.000000</td>\n",
              "      <td>24.000000</td>\n",
              "      <td>33300.000000</td>\n",
              "      <td>0.000000</td>\n",
              "      <td>0.000000</td>\n",
              "    </tr>\n",
              "    <tr>\n",
              "      <th>50%</th>\n",
              "      <td>0.000000</td>\n",
              "      <td>30.000000</td>\n",
              "      <td>40200.000000</td>\n",
              "      <td>1.000000</td>\n",
              "      <td>0.000000</td>\n",
              "    </tr>\n",
              "    <tr>\n",
              "      <th>75%</th>\n",
              "      <td>1.000000</td>\n",
              "      <td>37.000000</td>\n",
              "      <td>46600.000000</td>\n",
              "      <td>2.000000</td>\n",
              "      <td>0.000000</td>\n",
              "    </tr>\n",
              "    <tr>\n",
              "      <th>max</th>\n",
              "      <td>1.000000</td>\n",
              "      <td>65.000000</td>\n",
              "      <td>79000.000000</td>\n",
              "      <td>6.000000</td>\n",
              "      <td>5.000000</td>\n",
              "    </tr>\n",
              "  </tbody>\n",
              "</table>\n",
              "</div>"
            ],
            "text/plain": [
              "               Пол      Возраст      Зарплата  Члены семьи  Страховые выплаты\n",
              "count  5000.000000  5000.000000   5000.000000  5000.000000        5000.000000\n",
              "mean      0.499000    30.952800  39916.360000     1.194200           0.148000\n",
              "std       0.500049     8.440807   9900.083569     1.091387           0.463183\n",
              "min       0.000000    18.000000   5300.000000     0.000000           0.000000\n",
              "25%       0.000000    24.000000  33300.000000     0.000000           0.000000\n",
              "50%       0.000000    30.000000  40200.000000     1.000000           0.000000\n",
              "75%       1.000000    37.000000  46600.000000     2.000000           0.000000\n",
              "max       1.000000    65.000000  79000.000000     6.000000           5.000000"
            ]
          },
          "execution_count": 5,
          "metadata": {},
          "output_type": "execute_result"
        }
      ],
      "source": [
        "df.describe()"
      ]
    },
    {
      "cell_type": "markdown",
      "metadata": {
        "id": "1BhCjsIsO7Oe"
      },
      "source": [
        "Проверим есть ли дубликаты."
      ]
    },
    {
      "cell_type": "code",
      "execution_count": null,
      "metadata": {
        "id": "L-MldT4TO7Of",
        "outputId": "c3d8e545-16ab-4279-9386-8775cd7bba6b"
      },
      "outputs": [
        {
          "data": {
            "text/plain": [
              "153"
            ]
          },
          "execution_count": 6,
          "metadata": {},
          "output_type": "execute_result"
        }
      ],
      "source": [
        "df.duplicated().sum()"
      ]
    },
    {
      "cell_type": "markdown",
      "metadata": {
        "id": "fF5tUN5rO7Oh"
      },
      "source": [
        "Удалим дубликаты"
      ]
    },
    {
      "cell_type": "code",
      "execution_count": null,
      "metadata": {
        "id": "VKymsekAO7Oj",
        "outputId": "e40299eb-233a-4a6c-fd7b-b3aec365b370"
      },
      "outputs": [
        {
          "data": {
            "text/plain": [
              "(4847, 5)"
            ]
          },
          "execution_count": 7,
          "metadata": {},
          "output_type": "execute_result"
        }
      ],
      "source": [
        "df = df.drop_duplicates()\n",
        "df.shape"
      ]
    },
    {
      "cell_type": "markdown",
      "metadata": {
        "id": "8xrFrZPiO7Ok"
      },
      "source": [
        "Посмотрим какие данные содержат категориальные признаки."
      ]
    },
    {
      "cell_type": "code",
      "execution_count": null,
      "metadata": {
        "id": "KNYib307O7Ok",
        "outputId": "d6266dda-8c55-40cc-85f2-1545628415a1"
      },
      "outputs": [
        {
          "name": "stdout",
          "output_type": "stream",
          "text": [
            "Распределения признаков пола:\n",
            "0    2431\n",
            "1    2416\n",
            "Name: Пол, dtype: int64\n",
            "\n",
            "Распределение признаков \"члены семья\"\n",
            "1    1748\n",
            "0    1461\n",
            "2    1038\n",
            "3     437\n",
            "4     124\n",
            "5      32\n",
            "6       7\n",
            "Name: Члены семьи, dtype: int64\n",
            "\n",
            "Распределение признаков \"Страховые выплаты\"\n",
            "0    4284\n",
            "1     423\n",
            "2     114\n",
            "3      18\n",
            "4       7\n",
            "5       1\n",
            "Name: Страховые выплаты, dtype: int64\n"
          ]
        }
      ],
      "source": [
        "print('Распределения признаков пола:')\n",
        "print(df['Пол'].value_counts())\n",
        "print()\n",
        "print('Распределение признаков \"члены семья\"')\n",
        "print(df['Члены семьи'].value_counts())\n",
        "print()\n",
        "print('Распределение признаков \"Страховые выплаты\"')\n",
        "print(df['Страховые выплаты'].value_counts())"
      ]
    },
    {
      "cell_type": "markdown",
      "metadata": {
        "id": "Td4Z1LAcO7Om"
      },
      "source": [
        "### Выводы:"
      ]
    },
    {
      "cell_type": "markdown",
      "metadata": {
        "id": "tV6VGHSHO7Om"
      },
      "source": [
        "- Датасет состоит из 5 столбцов. \n",
        "- Пропусков и выбросов нет. \n",
        "- В процессе первичного изучения датасета удалили 153 дубликата. \n",
        "- Категориальные данные без видимых ошибок.\n",
        "- Количество мужчин и женщин в датасете примерно одинаковое."
      ]
    },
    {
      "cell_type": "markdown",
      "metadata": {
        "id": "AwcB1bzsO7Oo"
      },
      "source": [
        "## Умножение матриц"
      ]
    },
    {
      "cell_type": "markdown",
      "metadata": {
        "id": "5_rwGS8lO7Oo"
      },
      "source": [
        "### Качество исходной модели"
      ]
    },
    {
      "cell_type": "markdown",
      "metadata": {
        "id": "n2V0fVvIO7Op"
      },
      "source": [
        "Разделим наш датасет на обучающую и валидационную выборку."
      ]
    },
    {
      "cell_type": "code",
      "execution_count": null,
      "metadata": {
        "id": "qK4oH_YOO7Oq"
      },
      "outputs": [],
      "source": [
        "features = df.drop(['Страховые выплаты'], axis=1)\n",
        "target = df['Страховые выплаты']\n",
        "features_train, features_valid, target_train, target_valid = train_test_split(\n",
        "    features, target, test_size=0.25, random_state=12345)"
      ]
    },
    {
      "cell_type": "markdown",
      "metadata": {
        "id": "kWZkyeHiO7Or"
      },
      "source": [
        "Обучим модель линейной регрессии и вычислим качество модели."
      ]
    },
    {
      "cell_type": "code",
      "execution_count": null,
      "metadata": {
        "id": "YRKO1lglO7Os",
        "outputId": "85a217b8-71dc-44d5-98a4-3d78f8facfe5"
      },
      "outputs": [
        {
          "data": {
            "text/plain": [
              "0.42307727492147584"
            ]
          },
          "execution_count": 10,
          "metadata": {},
          "output_type": "execute_result"
        }
      ],
      "source": [
        "model = LinearRegression() # используем модель линейной регрессии\n",
        "model.fit(features_train, target_train) # обучим модель на тренировочной выборке\n",
        "predicted_valid = model.predict(features_valid) # предскажем целевой признак валидационной выборки\n",
        "\n",
        "r2_original = model.score(features_valid, target_valid) # определим качество модели\n",
        "r2_original"
      ]
    },
    {
      "cell_type": "markdown",
      "metadata": {
        "id": "qu7nF0fJO7Ot"
      },
      "source": [
        "### Создание матрицы"
      ]
    },
    {
      "cell_type": "markdown",
      "metadata": {
        "id": "LOlwVEM0O7Ou"
      },
      "source": [
        "Умножим признаки датасета на обратимую матрицу и проверим изменится ли качество линейной регрессии."
      ]
    },
    {
      "cell_type": "markdown",
      "metadata": {
        "id": "HfCO6eX6O7Ov"
      },
      "source": [
        "Обратимая матрица должна быть квадратной, быть размером с 4 х 4 (количество признаков в датасете). У нашей матрицы должна быть противоположная матрица при умножении на которую получатся 1 по главной диагонале."
      ]
    },
    {
      "cell_type": "markdown",
      "metadata": {
        "id": "VuaIw8ZOO7Ov"
      },
      "source": [
        "Создадим случайную обратимую\n",
        "матрицу."
      ]
    },
    {
      "cell_type": "code",
      "execution_count": null,
      "metadata": {
        "id": "W3yf7_QUO7Ow",
        "outputId": "dd99dd5e-1baf-4c9a-dffe-53d2678a9766"
      },
      "outputs": [
        {
          "data": {
            "text/plain": [
              "array([[ 1.16599548,  0.67674978,  1.98850426, -0.07799509],\n",
              "       [-0.85776141,  0.59147643, -0.1374552 , -0.08799634],\n",
              "       [ 0.96608835, -1.10808501,  0.94853487, -0.40658627],\n",
              "       [ 0.04435489,  0.51089887, -0.45857879,  0.56562344]])"
            ]
          },
          "execution_count": 11,
          "metadata": {},
          "output_type": "execute_result"
        }
      ],
      "source": [
        "matrix = np.random.randn(4, 4)\n",
        "matrix"
      ]
    },
    {
      "cell_type": "markdown",
      "metadata": {
        "id": "YNTuuJEbO7Ox"
      },
      "source": [
        "Проверим получившеюся матрицу на обратимость. Для этого умножим её на обратную ей матрицу. В результате должна получиться единичная матрица."
      ]
    },
    {
      "cell_type": "code",
      "execution_count": null,
      "metadata": {
        "id": "WmeUNeH0O7Oy",
        "outputId": "cad752bd-1f76-4cae-946c-a5e3359e0cf1"
      },
      "outputs": [
        {
          "data": {
            "text/plain": [
              "array([[ 1.,  0., -0., -0.],\n",
              "       [-0.,  1.,  0.,  0.],\n",
              "       [ 0.,  0.,  1.,  0.],\n",
              "       [-0.,  0.,  0.,  1.]])"
            ]
          },
          "execution_count": 12,
          "metadata": {},
          "output_type": "execute_result"
        }
      ],
      "source": [
        "np.round(np.dot(matrix, np.linalg.inv(matrix)))"
      ]
    },
    {
      "cell_type": "markdown",
      "metadata": {
        "id": "5cvUIuUWO7O0"
      },
      "source": [
        "Проверим матрицу на обратимость с помощью определителя квадратной матрицы."
      ]
    },
    {
      "cell_type": "code",
      "execution_count": null,
      "metadata": {
        "id": "fJNpXQaBO7O1",
        "outputId": "37e01c4b-1b64-4329-a39e-88feeca14cc8"
      },
      "outputs": [
        {
          "data": {
            "text/plain": [
              "0.26449790465268125"
            ]
          },
          "execution_count": 13,
          "metadata": {},
          "output_type": "execute_result"
        }
      ],
      "source": [
        "np.linalg.det(matrix)"
      ]
    },
    {
      "cell_type": "markdown",
      "metadata": {
        "id": "fbQIaMuXO7O2"
      },
      "source": [
        "Определитель не равен 0, значит матрица обратимая."
      ]
    },
    {
      "cell_type": "markdown",
      "metadata": {
        "id": "hR-myrk7O7O5"
      },
      "source": [
        "### Умножение обратной матрицы на датафрейм."
      ]
    },
    {
      "cell_type": "markdown",
      "metadata": {
        "id": "_fAT6V2hO7O6"
      },
      "source": [
        "Преобразуем датафрейм признаков в матрицу."
      ]
    },
    {
      "cell_type": "code",
      "execution_count": null,
      "metadata": {
        "id": "6hulXuqlO7O7"
      },
      "outputs": [],
      "source": [
        "features_train_matrix = features_train.values\n",
        "features_valid_matrix = features_valid.values"
      ]
    },
    {
      "cell_type": "markdown",
      "metadata": {
        "id": "3KE8tSFoO7O9"
      },
      "source": [
        "Перемножим тестовую и тренировочную матрицы на нашу обратимую матрицу"
      ]
    },
    {
      "cell_type": "code",
      "execution_count": null,
      "metadata": {
        "id": "am9ypzpoO7O-"
      },
      "outputs": [],
      "source": [
        "features_train_matrix = np.dot(features_train_matrix, matrix)\n",
        "features_valid_matrix = np.dot(features_valid_matrix, matrix)"
      ]
    },
    {
      "cell_type": "code",
      "execution_count": null,
      "metadata": {
        "id": "xreLaeB5O7O_",
        "outputId": "d2e41a43-f40d-4f5a-9d69-e28c3468c8b1"
      },
      "outputs": [
        {
          "data": {
            "text/plain": [
              "array([[ 52627.88628362, -60373.0497866 ,  51690.38425138,\n",
              "        -22160.28411141],\n",
              "       [ 48949.29459278, -56156.24614174,  48087.02429455,\n",
              "        -20616.77988509],\n",
              "       [ 27029.93178771, -31011.6738848 ,  26555.21872257,\n",
              "        -11385.96171813],\n",
              "       ...,\n",
              "       [ 27904.00834083, -32010.63954776,  27411.43842635,\n",
              "        -11751.61536665],\n",
              "       [ 37457.1320745 , -42972.99193123,  36800.14667442,\n",
              "        -15777.96334591],\n",
              "       [ 45660.89928929, -52387.14853687,  44859.14630413,\n",
              "        -19234.00695346]])"
            ]
          },
          "execution_count": 16,
          "metadata": {},
          "output_type": "execute_result"
        }
      ],
      "source": [
        "features_train_matrix"
      ]
    },
    {
      "cell_type": "markdown",
      "metadata": {
        "id": "xzbo4i4zO7PA"
      },
      "source": [
        "### Обучение измененных данных"
      ]
    },
    {
      "cell_type": "markdown",
      "metadata": {
        "id": "3zIDLJLmO7PA"
      },
      "source": [
        "Переводим получившуюся матрицу в датафрейм и обучаем моделью линейная регрессия."
      ]
    },
    {
      "cell_type": "code",
      "execution_count": null,
      "metadata": {
        "id": "f1wGj_JdO7PB",
        "outputId": "01b9f717-3057-4e6d-d21f-ca24b72faf15"
      },
      "outputs": [
        {
          "data": {
            "text/html": [
              "<div>\n",
              "<style scoped>\n",
              "    .dataframe tbody tr th:only-of-type {\n",
              "        vertical-align: middle;\n",
              "    }\n",
              "\n",
              "    .dataframe tbody tr th {\n",
              "        vertical-align: top;\n",
              "    }\n",
              "\n",
              "    .dataframe thead th {\n",
              "        text-align: right;\n",
              "    }\n",
              "</style>\n",
              "<table border=\"1\" class=\"dataframe\">\n",
              "  <thead>\n",
              "    <tr style=\"text-align: right;\">\n",
              "      <th></th>\n",
              "      <th>Пол</th>\n",
              "      <th>Возраст</th>\n",
              "      <th>Зарплата</th>\n",
              "      <th>Члены семьи</th>\n",
              "    </tr>\n",
              "  </thead>\n",
              "  <tbody>\n",
              "    <tr>\n",
              "      <th>0</th>\n",
              "      <td>45580.807446</td>\n",
              "      <td>-52287.331660</td>\n",
              "      <td>44769.672673</td>\n",
              "      <td>-19192.973635</td>\n",
              "    </tr>\n",
              "    <tr>\n",
              "      <th>1</th>\n",
              "      <td>63638.939676</td>\n",
              "      <td>-73003.198018</td>\n",
              "      <td>62506.037556</td>\n",
              "      <td>-26796.928764</td>\n",
              "    </tr>\n",
              "    <tr>\n",
              "      <th>2</th>\n",
              "      <td>32723.343531</td>\n",
              "      <td>-37542.864494</td>\n",
              "      <td>32151.867256</td>\n",
              "      <td>-13785.125022</td>\n",
              "    </tr>\n",
              "    <tr>\n",
              "      <th>3</th>\n",
              "      <td>18612.141105</td>\n",
              "      <td>-21361.951272</td>\n",
              "      <td>18300.444988</td>\n",
              "      <td>-7849.415531</td>\n",
              "    </tr>\n",
              "    <tr>\n",
              "      <th>4</th>\n",
              "      <td>26528.061218</td>\n",
              "      <td>-30444.108000</td>\n",
              "      <td>26077.468697</td>\n",
              "      <td>-11184.038882</td>\n",
              "    </tr>\n",
              "  </tbody>\n",
              "</table>\n",
              "</div>"
            ],
            "text/plain": [
              "            Пол       Возраст      Зарплата   Члены семьи\n",
              "0  45580.807446 -52287.331660  44769.672673 -19192.973635\n",
              "1  63638.939676 -73003.198018  62506.037556 -26796.928764\n",
              "2  32723.343531 -37542.864494  32151.867256 -13785.125022\n",
              "3  18612.141105 -21361.951272  18300.444988  -7849.415531\n",
              "4  26528.061218 -30444.108000  26077.468697 -11184.038882"
            ]
          },
          "execution_count": 17,
          "metadata": {},
          "output_type": "execute_result"
        }
      ],
      "source": [
        "converted_features_train = pd.DataFrame (features_train_matrix, columns = features_train.columns)\n",
        "converted_features_valid = pd.DataFrame (features_valid_matrix, columns = features_valid.columns)\n",
        "converted_features_valid.head()"
      ]
    },
    {
      "cell_type": "code",
      "execution_count": null,
      "metadata": {
        "id": "r1GOY2IFO7PC",
        "outputId": "974b0bda-5736-428a-be48-e1783dce302f"
      },
      "outputs": [
        {
          "name": "stdout",
          "output_type": "stream",
          "text": [
            "R2 исходной модели 0.42307727492147584\n",
            "R2 трансформированной модели 0.42307727491908564\n"
          ]
        }
      ],
      "source": [
        "model = LinearRegression()\n",
        "model.fit(converted_features_train, target_train)\n",
        "predicted_valid = model.predict(converted_features_valid)\n",
        "\n",
        "r2_converted = model.score(converted_features_valid, target_valid)\n",
        "print('R2 исходной модели', r2_original)\n",
        "print('R2 трансформированной модели', r2_converted)"
      ]
    },
    {
      "cell_type": "markdown",
      "metadata": {
        "id": "zsvuEn8xO7PE"
      },
      "source": [
        "Как видим, качество обучения линейной регрессии не меняет при умножении признаков на обратимую матрицу. "
      ]
    },
    {
      "cell_type": "markdown",
      "metadata": {
        "id": "OoEkjoPsO7PF"
      },
      "source": [
        "### Обоснование равенства"
      ]
    },
    {
      "cell_type": "markdown",
      "metadata": {
        "id": "CTkTOJZpO7PF"
      },
      "source": [
        "Обозначения:\n",
        "\n",
        "- $X$ — матрица признаков (нулевой столбец состоит из единиц)\n",
        "\n",
        "- $y$ — вектор целевого признака\n",
        "\n",
        "- $P$ — матрица, на которую умножаются признаки\n",
        "\n",
        "- $X_1$ — матрица признаков умноженная на обратимую матрицу\n",
        "\n",
        "- $w$ — вектор весов линейной регрессии (нулевой элемент равен сдвигу)"
      ]
    },
    {
      "cell_type": "markdown",
      "metadata": {
        "id": "5XdzmYkkO7PG"
      },
      "source": [
        "Предсказания:\n",
        "\n",
        "$$\n",
        "a = Xw\n",
        "$$\n",
        "\n",
        "Задача обучения:\n",
        "\n",
        "$$\n",
        "w = \\arg\\min_w MSE(Xw, y)\n",
        "$$\n",
        "\n",
        "Формула обучения:\n",
        "\n",
        "$$\n",
        "w = (X^T X)^{-1} X^T y\n",
        "$$"
      ]
    },
    {
      "cell_type": "markdown",
      "metadata": {
        "id": "Vuga_kgBO7PG"
      },
      "source": [
        "<b>Докажем, что качество линейной регрессии не изменится при умножении признаков на обратимую матрицу. </b>"
      ]
    },
    {
      "cell_type": "markdown",
      "metadata": {
        "id": "Xs_aKB8RO7PH"
      },
      "source": [
        "Формула матрицы признаков умноженная на обратимую матрицу выглядит следующим образом:"
      ]
    },
    {
      "cell_type": "markdown",
      "metadata": {
        "id": "Vo155Z7bO7PL"
      },
      "source": [
        "\n",
        "$$\n",
        "X_1 = XP\n",
        "$$"
      ]
    },
    {
      "cell_type": "markdown",
      "metadata": {
        "id": "t9FQtzYzO7PM"
      },
      "source": [
        "Предсказание для трансформированной матрицы выглядит следующим образом:"
      ]
    },
    {
      "cell_type": "markdown",
      "metadata": {
        "id": "klRhGrHQO7PM"
      },
      "source": [
        "$$\n",
        "a_1 = X_1w_1\n",
        "$$"
      ]
    },
    {
      "cell_type": "markdown",
      "metadata": {
        "id": "X9B_NlatO7PN"
      },
      "source": [
        "Где $w_1$ - вектор весов для линейной регрессии для матрицы $X_1$"
      ]
    },
    {
      "cell_type": "markdown",
      "metadata": {
        "id": "LZM3dIZoO7PN"
      },
      "source": [
        "$$\n",
        "w_1 = (X_1^T X_1)^{-1} X_1^T y\n",
        "$$"
      ]
    },
    {
      "cell_type": "markdown",
      "metadata": {
        "id": "Cgz99gY7O7PO"
      },
      "source": [
        "Заменим $w_1$ в формуле предсказания:"
      ]
    },
    {
      "cell_type": "markdown",
      "metadata": {
        "id": "mL0OwbR0O7PO"
      },
      "source": [
        "$$\n",
        "a_1 = X_1(X_1^T X_1)^{-1} X_1^T y\n",
        "$$"
      ]
    },
    {
      "cell_type": "markdown",
      "metadata": {
        "id": "3j3W9yazO7PP"
      },
      "source": [
        "Заменим $X_1$ на XP:"
      ]
    },
    {
      "cell_type": "markdown",
      "metadata": {
        "id": "tHJAdyU2O7PP"
      },
      "source": [
        "$$\n",
        "a_1 = XP((XP)^T (XP))^{-1} (XP)^T y\n",
        "$$"
      ]
    },
    {
      "cell_type": "markdown",
      "metadata": {
        "id": "CrjP8LO8O7PX"
      },
      "source": [
        "Раскроем скобки, воспользовавшись свойством $(AB)^T = B^TA^T$, а потом свойством $(ABС)^{-1} = С^{-1}B^{-1}A^{-1} $:"
      ]
    },
    {
      "cell_type": "markdown",
      "metadata": {
        "id": "lZbcNEyzO7PY"
      },
      "source": [
        "$$\n",
        "a_1 = XP((XP)^T (XP))^{-1} (XP)^T y = XP(P^T X^TX P)^{-1} P^T X^T y = XP(P)^{-1}(X^TX)^{-1}(P^T)^{-1}P^TX^Ty\n",
        "$$"
      ]
    },
    {
      "cell_type": "markdown",
      "metadata": {
        "id": "YDwccMA2O7PY"
      },
      "source": [
        "Произведение матрицы на обратную ей матрицу  $PP^{-1}$ и $(P^T)^{-1}P^T$ равна еденичной матрице E:"
      ]
    },
    {
      "cell_type": "markdown",
      "metadata": {
        "id": "8wVnSfDZO7PZ"
      },
      "source": [
        "$$\n",
        "a_1 = XE(X^TX)^{-1}EX^Ty\n",
        "$$"
      ]
    },
    {
      "cell_type": "markdown",
      "metadata": {
        "id": "ELjEBC2mO7PZ"
      },
      "source": [
        "Поскольку если любую матрицу умножить на единичную, то получится эта же матрица, убираем из формулы E:"
      ]
    },
    {
      "cell_type": "markdown",
      "metadata": {
        "id": "vGL1zBmlO7PZ"
      },
      "source": [
        "$$\n",
        "a_1 = X(X^TX)^{-1}X^Ty\n",
        "$$"
      ]
    },
    {
      "cell_type": "markdown",
      "metadata": {
        "id": "VowrLBr6O7Pa"
      },
      "source": [
        "Формула обучения $(X^T X)^{-1} X^T y = w $, заменим часть нашей формулы на $w$:"
      ]
    },
    {
      "cell_type": "markdown",
      "metadata": {
        "id": "MKy9yLtHO7Pb"
      },
      "source": [
        "$$a^1 = Xw = a $$"
      ]
    },
    {
      "cell_type": "markdown",
      "metadata": {
        "id": "iTPDMNZAO7Pc"
      },
      "source": [
        "Как видно, значение предсказания  не меняется, если умножать матрицу признаков на обратимую матрицу."
      ]
    },
    {
      "cell_type": "markdown",
      "metadata": {
        "id": "ZEcIp16CO7Pd"
      },
      "source": [
        "## Алгоритм преобразования"
      ]
    },
    {
      "cell_type": "markdown",
      "metadata": {
        "id": "ZPMV-zFlO7Pd"
      },
      "source": [
        "В качестве защиты персональных данных при работе с линейной регрессией можно использовать умножение матрицы признаков на обратимую матрицу, которая будет генерироваться случайным образом.\n",
        "\n",
        "Алгоритм:\n",
        "\n",
        "- Генерация матрицы.\n",
        "- Проверка матрицы на обратимость.\n",
        "- Умножение матрицы признаков на сгенерированную обратимую матрицу.\n",
        "- Применение модели линейной регрессии к измененной матрице признаков."
      ]
    }
  ],
  "metadata": {
    "ExecuteTimeLog": [
      {
        "duration": 418,
        "start_time": "2022-07-19T08:27:41.756Z"
      },
      {
        "duration": 82,
        "start_time": "2022-07-19T08:28:09.098Z"
      },
      {
        "duration": 2,
        "start_time": "2022-07-19T08:28:11.895Z"
      },
      {
        "duration": 53,
        "start_time": "2022-07-19T08:28:13.857Z"
      },
      {
        "duration": 67,
        "start_time": "2022-07-19T08:28:25.050Z"
      },
      {
        "duration": 7,
        "start_time": "2022-07-19T08:28:59.471Z"
      },
      {
        "duration": 126,
        "start_time": "2022-07-19T08:29:07.456Z"
      },
      {
        "duration": 13,
        "start_time": "2022-07-19T08:29:30.244Z"
      },
      {
        "duration": 19,
        "start_time": "2022-07-19T08:30:04.102Z"
      },
      {
        "duration": 10,
        "start_time": "2022-07-19T08:30:12.652Z"
      },
      {
        "duration": 8,
        "start_time": "2022-07-19T08:36:03.791Z"
      },
      {
        "duration": 850,
        "start_time": "2022-07-19T08:40:39.785Z"
      },
      {
        "duration": 39,
        "start_time": "2022-07-19T08:43:22.953Z"
      },
      {
        "duration": 11,
        "start_time": "2022-07-19T08:43:28.456Z"
      },
      {
        "duration": 47,
        "start_time": "2022-07-19T08:46:10.295Z"
      },
      {
        "duration": 12,
        "start_time": "2022-07-19T08:51:55.248Z"
      },
      {
        "duration": 8,
        "start_time": "2022-07-19T08:52:01.787Z"
      },
      {
        "duration": 1333,
        "start_time": "2022-07-19T08:55:18.948Z"
      },
      {
        "duration": 1346,
        "start_time": "2022-07-19T08:55:30.556Z"
      },
      {
        "duration": 7,
        "start_time": "2022-07-19T08:56:38.525Z"
      },
      {
        "duration": 7,
        "start_time": "2022-07-19T08:56:47.570Z"
      },
      {
        "duration": 9,
        "start_time": "2022-07-19T08:57:45.040Z"
      },
      {
        "duration": 31,
        "start_time": "2022-07-19T08:57:52.707Z"
      },
      {
        "duration": 19,
        "start_time": "2022-07-19T09:07:05.604Z"
      },
      {
        "duration": 10,
        "start_time": "2022-07-19T09:07:19.553Z"
      },
      {
        "duration": 116,
        "start_time": "2022-07-19T09:07:46.132Z"
      },
      {
        "duration": 169,
        "start_time": "2022-07-19T09:09:09.693Z"
      },
      {
        "duration": 103,
        "start_time": "2022-07-19T09:09:27.598Z"
      },
      {
        "duration": 74,
        "start_time": "2022-07-19T09:10:47.795Z"
      },
      {
        "duration": 21,
        "start_time": "2022-07-19T09:11:18.707Z"
      },
      {
        "duration": 13,
        "start_time": "2022-07-19T09:12:03.580Z"
      },
      {
        "duration": 37,
        "start_time": "2022-07-19T09:57:14.565Z"
      },
      {
        "duration": 57,
        "start_time": "2022-07-19T13:01:38.171Z"
      },
      {
        "duration": 1194,
        "start_time": "2022-07-19T13:01:47.287Z"
      },
      {
        "duration": 99,
        "start_time": "2022-07-19T13:01:48.483Z"
      },
      {
        "duration": 11,
        "start_time": "2022-07-19T13:01:48.583Z"
      },
      {
        "duration": 24,
        "start_time": "2022-07-19T13:01:48.596Z"
      },
      {
        "duration": 6,
        "start_time": "2022-07-19T13:01:48.622Z"
      },
      {
        "duration": 7,
        "start_time": "2022-07-19T13:01:48.630Z"
      },
      {
        "duration": 26,
        "start_time": "2022-07-19T13:01:48.640Z"
      },
      {
        "duration": 81,
        "start_time": "2022-07-19T13:01:53.332Z"
      },
      {
        "duration": 4,
        "start_time": "2022-07-19T13:02:06.793Z"
      },
      {
        "duration": 10,
        "start_time": "2022-07-19T13:10:14.435Z"
      },
      {
        "duration": 8,
        "start_time": "2022-07-19T13:10:36.772Z"
      },
      {
        "duration": 12,
        "start_time": "2022-07-19T13:10:39.279Z"
      },
      {
        "duration": 14,
        "start_time": "2022-07-19T13:10:54.347Z"
      },
      {
        "duration": 5,
        "start_time": "2022-07-19T13:14:49.124Z"
      },
      {
        "duration": 11,
        "start_time": "2022-07-19T13:17:04.588Z"
      },
      {
        "duration": 4,
        "start_time": "2022-07-19T13:18:15.875Z"
      },
      {
        "duration": 12,
        "start_time": "2022-07-19T13:19:45.644Z"
      },
      {
        "duration": 9,
        "start_time": "2022-07-19T13:19:57.482Z"
      },
      {
        "duration": 4,
        "start_time": "2022-07-19T13:33:01.907Z"
      },
      {
        "duration": 15,
        "start_time": "2022-07-19T13:34:14.452Z"
      },
      {
        "duration": 9,
        "start_time": "2022-07-19T13:35:22.700Z"
      },
      {
        "duration": 3,
        "start_time": "2022-07-19T13:35:34.445Z"
      },
      {
        "duration": 8,
        "start_time": "2022-07-19T13:35:42.148Z"
      },
      {
        "duration": 8,
        "start_time": "2022-07-19T13:37:53.528Z"
      },
      {
        "duration": 4,
        "start_time": "2022-07-19T13:38:19.322Z"
      },
      {
        "duration": 48,
        "start_time": "2022-07-19T13:38:19.330Z"
      },
      {
        "duration": 15,
        "start_time": "2022-07-19T13:38:19.381Z"
      },
      {
        "duration": 26,
        "start_time": "2022-07-19T13:38:19.398Z"
      },
      {
        "duration": 7,
        "start_time": "2022-07-19T13:38:19.426Z"
      },
      {
        "duration": 32,
        "start_time": "2022-07-19T13:38:19.435Z"
      },
      {
        "duration": 27,
        "start_time": "2022-07-19T13:38:19.469Z"
      },
      {
        "duration": 7,
        "start_time": "2022-07-19T13:38:19.498Z"
      },
      {
        "duration": 8,
        "start_time": "2022-07-19T13:38:19.506Z"
      },
      {
        "duration": 10,
        "start_time": "2022-07-19T13:38:19.515Z"
      },
      {
        "duration": 7,
        "start_time": "2022-07-19T13:38:19.527Z"
      },
      {
        "duration": 77,
        "start_time": "2022-07-19T13:38:19.543Z"
      },
      {
        "duration": 9,
        "start_time": "2022-07-19T13:38:32.463Z"
      },
      {
        "duration": 4,
        "start_time": "2022-07-19T13:41:14.487Z"
      },
      {
        "duration": 42,
        "start_time": "2022-07-19T13:41:14.493Z"
      },
      {
        "duration": 18,
        "start_time": "2022-07-19T13:41:14.537Z"
      },
      {
        "duration": 40,
        "start_time": "2022-07-19T13:41:14.558Z"
      },
      {
        "duration": 6,
        "start_time": "2022-07-19T13:41:14.600Z"
      },
      {
        "duration": 33,
        "start_time": "2022-07-19T13:41:14.608Z"
      },
      {
        "duration": 18,
        "start_time": "2022-07-19T13:41:14.644Z"
      },
      {
        "duration": 16,
        "start_time": "2022-07-19T13:41:14.664Z"
      },
      {
        "duration": 18,
        "start_time": "2022-07-19T13:41:14.682Z"
      },
      {
        "duration": 5,
        "start_time": "2022-07-19T13:41:14.702Z"
      },
      {
        "duration": 157,
        "start_time": "2022-07-19T13:41:14.711Z"
      },
      {
        "duration": 0,
        "start_time": "2022-07-19T13:41:14.870Z"
      },
      {
        "duration": 10,
        "start_time": "2022-07-19T13:46:07.219Z"
      },
      {
        "duration": 4,
        "start_time": "2022-07-19T13:46:28.064Z"
      },
      {
        "duration": 40,
        "start_time": "2022-07-19T13:46:28.070Z"
      },
      {
        "duration": 11,
        "start_time": "2022-07-19T13:46:28.112Z"
      },
      {
        "duration": 39,
        "start_time": "2022-07-19T13:46:28.125Z"
      },
      {
        "duration": 7,
        "start_time": "2022-07-19T13:46:28.166Z"
      },
      {
        "duration": 17,
        "start_time": "2022-07-19T13:46:28.174Z"
      },
      {
        "duration": 14,
        "start_time": "2022-07-19T13:46:28.192Z"
      },
      {
        "duration": 8,
        "start_time": "2022-07-19T13:46:28.207Z"
      },
      {
        "duration": 39,
        "start_time": "2022-07-19T13:46:28.217Z"
      },
      {
        "duration": 9,
        "start_time": "2022-07-19T13:46:28.259Z"
      },
      {
        "duration": 142,
        "start_time": "2022-07-19T13:46:28.270Z"
      },
      {
        "duration": 0,
        "start_time": "2022-07-19T13:46:28.413Z"
      },
      {
        "duration": 0,
        "start_time": "2022-07-19T13:46:28.415Z"
      },
      {
        "duration": 16,
        "start_time": "2022-07-19T13:46:45.450Z"
      },
      {
        "duration": 17,
        "start_time": "2022-07-19T13:46:55.663Z"
      },
      {
        "duration": 4,
        "start_time": "2022-07-19T13:46:58.932Z"
      },
      {
        "duration": 4,
        "start_time": "2022-07-19T13:47:00.560Z"
      },
      {
        "duration": 6,
        "start_time": "2022-07-19T13:47:01.419Z"
      },
      {
        "duration": 3,
        "start_time": "2022-07-19T13:49:11.523Z"
      },
      {
        "duration": 3,
        "start_time": "2022-07-19T13:55:55.093Z"
      },
      {
        "duration": 37,
        "start_time": "2022-07-19T13:55:55.100Z"
      },
      {
        "duration": 18,
        "start_time": "2022-07-19T13:55:55.139Z"
      },
      {
        "duration": 37,
        "start_time": "2022-07-19T13:55:55.160Z"
      },
      {
        "duration": 8,
        "start_time": "2022-07-19T13:55:55.200Z"
      },
      {
        "duration": 22,
        "start_time": "2022-07-19T13:55:55.211Z"
      },
      {
        "duration": 15,
        "start_time": "2022-07-19T13:55:55.235Z"
      },
      {
        "duration": 19,
        "start_time": "2022-07-19T13:55:55.253Z"
      },
      {
        "duration": 19,
        "start_time": "2022-07-19T13:55:55.275Z"
      },
      {
        "duration": 5,
        "start_time": "2022-07-19T13:55:55.297Z"
      },
      {
        "duration": 6,
        "start_time": "2022-07-19T13:56:00.806Z"
      },
      {
        "duration": 5,
        "start_time": "2022-07-19T13:57:36.398Z"
      },
      {
        "duration": 5,
        "start_time": "2022-07-19T13:57:41.494Z"
      },
      {
        "duration": 4,
        "start_time": "2022-07-19T13:57:45.894Z"
      },
      {
        "duration": 3,
        "start_time": "2022-07-19T13:57:52.512Z"
      },
      {
        "duration": 48,
        "start_time": "2022-07-19T13:57:52.516Z"
      },
      {
        "duration": 11,
        "start_time": "2022-07-19T13:57:52.566Z"
      },
      {
        "duration": 27,
        "start_time": "2022-07-19T13:57:52.579Z"
      },
      {
        "duration": 7,
        "start_time": "2022-07-19T13:57:52.608Z"
      },
      {
        "duration": 11,
        "start_time": "2022-07-19T13:57:52.641Z"
      },
      {
        "duration": 20,
        "start_time": "2022-07-19T13:57:52.655Z"
      },
      {
        "duration": 8,
        "start_time": "2022-07-19T13:57:52.676Z"
      },
      {
        "duration": 21,
        "start_time": "2022-07-19T13:57:52.685Z"
      },
      {
        "duration": 4,
        "start_time": "2022-07-19T13:57:52.708Z"
      },
      {
        "duration": 31,
        "start_time": "2022-07-19T13:57:52.715Z"
      },
      {
        "duration": 5,
        "start_time": "2022-07-19T13:57:55.483Z"
      },
      {
        "duration": 2,
        "start_time": "2022-07-19T15:01:22.214Z"
      },
      {
        "duration": 57,
        "start_time": "2022-07-19T15:01:22.218Z"
      },
      {
        "duration": 12,
        "start_time": "2022-07-19T15:01:22.277Z"
      },
      {
        "duration": 29,
        "start_time": "2022-07-19T15:01:22.291Z"
      },
      {
        "duration": 6,
        "start_time": "2022-07-19T15:01:22.322Z"
      },
      {
        "duration": 12,
        "start_time": "2022-07-19T15:01:22.330Z"
      },
      {
        "duration": 32,
        "start_time": "2022-07-19T15:01:22.344Z"
      },
      {
        "duration": 15,
        "start_time": "2022-07-19T15:01:22.378Z"
      },
      {
        "duration": 15,
        "start_time": "2022-07-19T15:01:22.395Z"
      },
      {
        "duration": 6,
        "start_time": "2022-07-19T15:01:22.412Z"
      },
      {
        "duration": 5,
        "start_time": "2022-07-19T15:01:26.184Z"
      },
      {
        "duration": 6,
        "start_time": "2022-07-19T15:01:46.066Z"
      },
      {
        "duration": 6,
        "start_time": "2022-07-19T15:05:44.896Z"
      },
      {
        "duration": 5,
        "start_time": "2022-07-19T15:07:19.945Z"
      },
      {
        "duration": 7,
        "start_time": "2022-07-19T15:07:22.238Z"
      },
      {
        "duration": 4,
        "start_time": "2022-07-19T15:07:31.069Z"
      },
      {
        "duration": 73,
        "start_time": "2022-07-19T15:07:31.076Z"
      },
      {
        "duration": 16,
        "start_time": "2022-07-19T15:07:31.151Z"
      },
      {
        "duration": 25,
        "start_time": "2022-07-19T15:07:31.169Z"
      },
      {
        "duration": 6,
        "start_time": "2022-07-19T15:07:31.197Z"
      },
      {
        "duration": 38,
        "start_time": "2022-07-19T15:07:31.205Z"
      },
      {
        "duration": 15,
        "start_time": "2022-07-19T15:07:31.245Z"
      },
      {
        "duration": 15,
        "start_time": "2022-07-19T15:07:31.262Z"
      },
      {
        "duration": 29,
        "start_time": "2022-07-19T15:07:31.280Z"
      },
      {
        "duration": 15,
        "start_time": "2022-07-19T15:07:31.311Z"
      },
      {
        "duration": 24,
        "start_time": "2022-07-19T15:07:31.329Z"
      },
      {
        "duration": 16,
        "start_time": "2022-07-19T15:07:31.357Z"
      },
      {
        "duration": 5,
        "start_time": "2022-07-19T15:07:31.440Z"
      },
      {
        "duration": 4,
        "start_time": "2022-07-19T15:07:35.221Z"
      },
      {
        "duration": 5,
        "start_time": "2022-07-19T15:07:36.166Z"
      },
      {
        "duration": 3,
        "start_time": "2022-07-19T15:16:09.948Z"
      },
      {
        "duration": 5,
        "start_time": "2022-07-19T15:16:24.850Z"
      },
      {
        "duration": 4,
        "start_time": "2022-07-19T15:17:17.925Z"
      },
      {
        "duration": 15,
        "start_time": "2022-07-19T15:17:26.859Z"
      },
      {
        "duration": 9,
        "start_time": "2022-07-19T15:43:10.515Z"
      },
      {
        "duration": 10,
        "start_time": "2022-07-19T15:43:12.694Z"
      },
      {
        "duration": 11,
        "start_time": "2022-07-19T15:45:13.676Z"
      },
      {
        "duration": 19,
        "start_time": "2022-07-19T15:59:09.859Z"
      },
      {
        "duration": 4,
        "start_time": "2022-07-19T15:59:17.368Z"
      },
      {
        "duration": 35,
        "start_time": "2022-07-19T15:59:17.375Z"
      },
      {
        "duration": 12,
        "start_time": "2022-07-19T15:59:17.411Z"
      },
      {
        "duration": 36,
        "start_time": "2022-07-19T15:59:17.425Z"
      },
      {
        "duration": 7,
        "start_time": "2022-07-19T15:59:17.464Z"
      },
      {
        "duration": 8,
        "start_time": "2022-07-19T15:59:17.472Z"
      },
      {
        "duration": 9,
        "start_time": "2022-07-19T15:59:17.482Z"
      },
      {
        "duration": 12,
        "start_time": "2022-07-19T15:59:17.493Z"
      },
      {
        "duration": 49,
        "start_time": "2022-07-19T15:59:17.507Z"
      },
      {
        "duration": 8,
        "start_time": "2022-07-19T15:59:17.559Z"
      },
      {
        "duration": 8,
        "start_time": "2022-07-19T15:59:17.569Z"
      },
      {
        "duration": 77,
        "start_time": "2022-07-19T15:59:17.579Z"
      },
      {
        "duration": 76,
        "start_time": "2022-07-19T15:59:17.669Z"
      },
      {
        "duration": 20,
        "start_time": "2022-07-19T15:59:17.750Z"
      },
      {
        "duration": 19,
        "start_time": "2022-07-19T15:59:17.772Z"
      },
      {
        "duration": 28,
        "start_time": "2022-07-19T15:59:17.793Z"
      },
      {
        "duration": 15,
        "start_time": "2022-07-19T15:59:57.552Z"
      },
      {
        "duration": 13,
        "start_time": "2022-07-19T16:03:22.974Z"
      },
      {
        "duration": 48,
        "start_time": "2022-07-20T10:44:20.843Z"
      },
      {
        "duration": 1098,
        "start_time": "2022-07-20T15:54:11.460Z"
      },
      {
        "duration": 41,
        "start_time": "2022-07-20T15:54:12.560Z"
      },
      {
        "duration": 10,
        "start_time": "2022-07-20T15:54:12.603Z"
      },
      {
        "duration": 24,
        "start_time": "2022-07-20T15:54:12.615Z"
      },
      {
        "duration": 6,
        "start_time": "2022-07-20T15:54:12.641Z"
      },
      {
        "duration": 6,
        "start_time": "2022-07-20T15:54:12.648Z"
      },
      {
        "duration": 8,
        "start_time": "2022-07-20T15:54:12.656Z"
      },
      {
        "duration": 6,
        "start_time": "2022-07-20T15:54:12.665Z"
      },
      {
        "duration": 11,
        "start_time": "2022-07-20T15:54:12.673Z"
      },
      {
        "duration": 5,
        "start_time": "2022-07-20T15:54:12.686Z"
      },
      {
        "duration": 50,
        "start_time": "2022-07-20T15:54:12.692Z"
      },
      {
        "duration": 10,
        "start_time": "2022-07-20T15:54:12.744Z"
      },
      {
        "duration": 85,
        "start_time": "2022-07-20T15:54:12.755Z"
      },
      {
        "duration": 11,
        "start_time": "2022-07-20T15:54:12.843Z"
      },
      {
        "duration": 13,
        "start_time": "2022-07-20T15:54:12.856Z"
      },
      {
        "duration": 14,
        "start_time": "2022-07-20T15:54:12.871Z"
      },
      {
        "duration": 41,
        "start_time": "2022-07-21T07:49:58.413Z"
      },
      {
        "duration": 1083,
        "start_time": "2022-07-21T07:50:05.793Z"
      },
      {
        "duration": 104,
        "start_time": "2022-07-21T07:50:06.878Z"
      },
      {
        "duration": 11,
        "start_time": "2022-07-21T07:50:06.983Z"
      },
      {
        "duration": 22,
        "start_time": "2022-07-21T07:50:06.995Z"
      },
      {
        "duration": 5,
        "start_time": "2022-07-21T07:50:07.018Z"
      },
      {
        "duration": 7,
        "start_time": "2022-07-21T07:50:07.025Z"
      },
      {
        "duration": 22,
        "start_time": "2022-07-21T07:50:07.033Z"
      },
      {
        "duration": 6,
        "start_time": "2022-07-21T07:50:07.057Z"
      },
      {
        "duration": 19,
        "start_time": "2022-07-21T07:50:07.065Z"
      },
      {
        "duration": 4,
        "start_time": "2022-07-21T07:50:07.087Z"
      },
      {
        "duration": 7,
        "start_time": "2022-07-21T07:50:07.093Z"
      },
      {
        "duration": 52,
        "start_time": "2022-07-21T07:50:07.101Z"
      },
      {
        "duration": 3,
        "start_time": "2022-07-21T07:50:07.155Z"
      },
      {
        "duration": 15,
        "start_time": "2022-07-21T07:50:07.160Z"
      },
      {
        "duration": 10,
        "start_time": "2022-07-21T07:50:07.252Z"
      },
      {
        "duration": 14,
        "start_time": "2022-07-21T07:50:07.264Z"
      },
      {
        "duration": 16,
        "start_time": "2022-07-21T07:50:07.279Z"
      }
    ],
    "kernelspec": {
      "display_name": "Python 3 (ipykernel)",
      "language": "python",
      "name": "python3"
    },
    "language_info": {
      "codemirror_mode": {
        "name": "ipython",
        "version": 3
      },
      "file_extension": ".py",
      "mimetype": "text/x-python",
      "name": "python",
      "nbconvert_exporter": "python",
      "pygments_lexer": "ipython3",
      "version": "3.9.5"
    },
    "toc": {
      "base_numbering": 1,
      "nav_menu": {},
      "number_sections": true,
      "sideBar": true,
      "skip_h1_title": true,
      "title_cell": "Содержание",
      "title_sidebar": "Contents",
      "toc_cell": true,
      "toc_position": {
        "height": "calc(100% - 180px)",
        "left": "10px",
        "top": "150px",
        "width": "286.237px"
      },
      "toc_section_display": true,
      "toc_window_display": false
    },
    "colab": {
      "provenance": []
    }
  },
  "nbformat": 4,
  "nbformat_minor": 0
}