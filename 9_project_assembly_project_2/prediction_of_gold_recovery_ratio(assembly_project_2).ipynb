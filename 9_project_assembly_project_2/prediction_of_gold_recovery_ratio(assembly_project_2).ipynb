{
  "cells": [
    {
      "cell_type": "markdown",
      "metadata": {
        "id": "25bpalTZr2wY"
      },
      "source": [
        "# Восстановление золота из руды"
      ]
    },
    {
      "cell_type": "markdown",
      "metadata": {
        "id": "yaQLvOlEr2wb"
      },
      "source": [
        "Подготовьте прототип модели машинного обучения для «Цифры». Компания разрабатывает решения для эффективной работы промышленных предприятий.\n",
        "\n",
        "Модель должна предсказать коэффициент восстановления золота из золотосодержащей руды. Используйте данные с параметрами добычи и очистки. \n",
        "\n",
        "Модель поможет оптимизировать производство, чтобы не запускать предприятие с убыточными характеристиками.\n",
        "\n",
        "Вам нужно:\n",
        "\n",
        "1. Подготовить данные;\n",
        "2. Провести исследовательский анализ данных;\n",
        "3. Построить и обучить модель.\n",
        "\n",
        "Чтобы выполнить проект, обращайтесь к библиотекам *pandas*, *matplotlib* и *sklearn.* Вам поможет их документация."
      ]
    },
    {
      "cell_type": "markdown",
      "metadata": {
        "id": "GLWWjq0nr2wc"
      },
      "source": [
        "## Подготовка данных"
      ]
    },
    {
      "cell_type": "markdown",
      "metadata": {
        "id": "P-ch1mDwr2wf"
      },
      "source": [
        "Загружаем необходимые библиотеки."
      ]
    },
    {
      "cell_type": "code",
      "execution_count": null,
      "metadata": {
        "id": "zKmehurDr2wh"
      },
      "outputs": [],
      "source": [
        "import pandas as pd\n",
        "import matplotlib.pyplot as plt\n",
        "import seaborn as sns\n",
        "\n",
        "from sklearn.metrics import (mean_absolute_error, make_scorer)\n",
        "from sklearn.model_selection import train_test_split\n",
        "from sklearn.preprocessing import StandardScaler\n",
        "from sklearn.model_selection import cross_val_score\n",
        "from sklearn.model_selection import GridSearchCV\n",
        "\n",
        "from sklearn.ensemble import RandomForestRegressor\n",
        "from sklearn.linear_model import LinearRegression\n",
        "from sklearn.tree import DecisionTreeRegressor\n",
        "\n",
        "from sklearn.dummy import DummyRegressor\n",
        "\n",
        "import warnings\n",
        "warnings.filterwarnings(\"ignore\")"
      ]
    },
    {
      "cell_type": "markdown",
      "metadata": {
        "id": "UjcZvMdrr2wo"
      },
      "source": [
        "Прочитаем датасеты."
      ]
    },
    {
      "cell_type": "code",
      "execution_count": null,
      "metadata": {
        "id": "a57bJ19hr2wq"
      },
      "outputs": [],
      "source": [
        "df_train = pd.read_csv('/datasets/gold_recovery_train_new.csv')\n",
        "df_test = pd.read_csv('/datasets/gold_recovery_test_new.csv')\n",
        "df_full = pd.read_csv('/datasets/gold_recovery_full_new.csv')"
      ]
    },
    {
      "cell_type": "markdown",
      "metadata": {
        "id": "cfA4haDjr2xW"
      },
      "source": [
        "Выведем на экран несколько строк итогового датасета."
      ]
    },
    {
      "cell_type": "code",
      "execution_count": null,
      "metadata": {
        "id": "yXenS_QEr2xX",
        "outputId": "a6abc72c-e432-448e-8362-dec75890dc85"
      },
      "outputs": [
        {
          "data": {
            "text/html": [
              "<div>\n",
              "<style scoped>\n",
              "    .dataframe tbody tr th:only-of-type {\n",
              "        vertical-align: middle;\n",
              "    }\n",
              "\n",
              "    .dataframe tbody tr th {\n",
              "        vertical-align: top;\n",
              "    }\n",
              "\n",
              "    .dataframe thead th {\n",
              "        text-align: right;\n",
              "    }\n",
              "</style>\n",
              "<table border=\"1\" class=\"dataframe\">\n",
              "  <thead>\n",
              "    <tr style=\"text-align: right;\">\n",
              "      <th></th>\n",
              "      <th>date</th>\n",
              "      <th>final.output.concentrate_ag</th>\n",
              "      <th>final.output.concentrate_pb</th>\n",
              "      <th>final.output.concentrate_sol</th>\n",
              "      <th>final.output.concentrate_au</th>\n",
              "      <th>final.output.recovery</th>\n",
              "      <th>final.output.tail_ag</th>\n",
              "      <th>final.output.tail_pb</th>\n",
              "      <th>final.output.tail_sol</th>\n",
              "      <th>final.output.tail_au</th>\n",
              "      <th>...</th>\n",
              "      <th>secondary_cleaner.state.floatbank4_a_air</th>\n",
              "      <th>secondary_cleaner.state.floatbank4_a_level</th>\n",
              "      <th>secondary_cleaner.state.floatbank4_b_air</th>\n",
              "      <th>secondary_cleaner.state.floatbank4_b_level</th>\n",
              "      <th>secondary_cleaner.state.floatbank5_a_air</th>\n",
              "      <th>secondary_cleaner.state.floatbank5_a_level</th>\n",
              "      <th>secondary_cleaner.state.floatbank5_b_air</th>\n",
              "      <th>secondary_cleaner.state.floatbank5_b_level</th>\n",
              "      <th>secondary_cleaner.state.floatbank6_a_air</th>\n",
              "      <th>secondary_cleaner.state.floatbank6_a_level</th>\n",
              "    </tr>\n",
              "  </thead>\n",
              "  <tbody>\n",
              "    <tr>\n",
              "      <th>0</th>\n",
              "      <td>2016-01-15 00:00:00</td>\n",
              "      <td>6.055403</td>\n",
              "      <td>9.889648</td>\n",
              "      <td>5.507324</td>\n",
              "      <td>42.192020</td>\n",
              "      <td>70.541216</td>\n",
              "      <td>10.411962</td>\n",
              "      <td>0.895447</td>\n",
              "      <td>16.904297</td>\n",
              "      <td>2.143149</td>\n",
              "      <td>...</td>\n",
              "      <td>14.016835</td>\n",
              "      <td>-502.488007</td>\n",
              "      <td>12.099931</td>\n",
              "      <td>-504.715942</td>\n",
              "      <td>9.925633</td>\n",
              "      <td>-498.310211</td>\n",
              "      <td>8.079666</td>\n",
              "      <td>-500.470978</td>\n",
              "      <td>14.151341</td>\n",
              "      <td>-605.841980</td>\n",
              "    </tr>\n",
              "    <tr>\n",
              "      <th>1</th>\n",
              "      <td>2016-01-15 01:00:00</td>\n",
              "      <td>6.029369</td>\n",
              "      <td>9.968944</td>\n",
              "      <td>5.257781</td>\n",
              "      <td>42.701629</td>\n",
              "      <td>69.266198</td>\n",
              "      <td>10.462676</td>\n",
              "      <td>0.927452</td>\n",
              "      <td>16.634514</td>\n",
              "      <td>2.224930</td>\n",
              "      <td>...</td>\n",
              "      <td>13.992281</td>\n",
              "      <td>-505.503262</td>\n",
              "      <td>11.950531</td>\n",
              "      <td>-501.331529</td>\n",
              "      <td>10.039245</td>\n",
              "      <td>-500.169983</td>\n",
              "      <td>7.984757</td>\n",
              "      <td>-500.582168</td>\n",
              "      <td>13.998353</td>\n",
              "      <td>-599.787184</td>\n",
              "    </tr>\n",
              "    <tr>\n",
              "      <th>2</th>\n",
              "      <td>2016-01-15 02:00:00</td>\n",
              "      <td>6.055926</td>\n",
              "      <td>10.213995</td>\n",
              "      <td>5.383759</td>\n",
              "      <td>42.657501</td>\n",
              "      <td>68.116445</td>\n",
              "      <td>10.507046</td>\n",
              "      <td>0.953716</td>\n",
              "      <td>16.208849</td>\n",
              "      <td>2.257889</td>\n",
              "      <td>...</td>\n",
              "      <td>14.015015</td>\n",
              "      <td>-502.520901</td>\n",
              "      <td>11.912783</td>\n",
              "      <td>-501.133383</td>\n",
              "      <td>10.070913</td>\n",
              "      <td>-500.129135</td>\n",
              "      <td>8.013877</td>\n",
              "      <td>-500.517572</td>\n",
              "      <td>14.028663</td>\n",
              "      <td>-601.427363</td>\n",
              "    </tr>\n",
              "    <tr>\n",
              "      <th>3</th>\n",
              "      <td>2016-01-15 03:00:00</td>\n",
              "      <td>6.047977</td>\n",
              "      <td>9.977019</td>\n",
              "      <td>4.858634</td>\n",
              "      <td>42.689819</td>\n",
              "      <td>68.347543</td>\n",
              "      <td>10.422762</td>\n",
              "      <td>0.883763</td>\n",
              "      <td>16.532835</td>\n",
              "      <td>2.146849</td>\n",
              "      <td>...</td>\n",
              "      <td>14.036510</td>\n",
              "      <td>-500.857308</td>\n",
              "      <td>11.999550</td>\n",
              "      <td>-501.193686</td>\n",
              "      <td>9.970366</td>\n",
              "      <td>-499.201640</td>\n",
              "      <td>7.977324</td>\n",
              "      <td>-500.255908</td>\n",
              "      <td>14.005551</td>\n",
              "      <td>-599.996129</td>\n",
              "    </tr>\n",
              "    <tr>\n",
              "      <th>4</th>\n",
              "      <td>2016-01-15 04:00:00</td>\n",
              "      <td>6.148599</td>\n",
              "      <td>10.142511</td>\n",
              "      <td>4.939416</td>\n",
              "      <td>42.774141</td>\n",
              "      <td>66.927016</td>\n",
              "      <td>10.360302</td>\n",
              "      <td>0.792826</td>\n",
              "      <td>16.525686</td>\n",
              "      <td>2.055292</td>\n",
              "      <td>...</td>\n",
              "      <td>14.027298</td>\n",
              "      <td>-499.838632</td>\n",
              "      <td>11.953070</td>\n",
              "      <td>-501.053894</td>\n",
              "      <td>9.925709</td>\n",
              "      <td>-501.686727</td>\n",
              "      <td>7.894242</td>\n",
              "      <td>-500.356035</td>\n",
              "      <td>13.996647</td>\n",
              "      <td>-601.496691</td>\n",
              "    </tr>\n",
              "  </tbody>\n",
              "</table>\n",
              "<p>5 rows × 87 columns</p>\n",
              "</div>"
            ],
            "text/plain": [
              "                  date  final.output.concentrate_ag  \\\n",
              "0  2016-01-15 00:00:00                     6.055403   \n",
              "1  2016-01-15 01:00:00                     6.029369   \n",
              "2  2016-01-15 02:00:00                     6.055926   \n",
              "3  2016-01-15 03:00:00                     6.047977   \n",
              "4  2016-01-15 04:00:00                     6.148599   \n",
              "\n",
              "   final.output.concentrate_pb  final.output.concentrate_sol  \\\n",
              "0                     9.889648                      5.507324   \n",
              "1                     9.968944                      5.257781   \n",
              "2                    10.213995                      5.383759   \n",
              "3                     9.977019                      4.858634   \n",
              "4                    10.142511                      4.939416   \n",
              "\n",
              "   final.output.concentrate_au  final.output.recovery  final.output.tail_ag  \\\n",
              "0                    42.192020              70.541216             10.411962   \n",
              "1                    42.701629              69.266198             10.462676   \n",
              "2                    42.657501              68.116445             10.507046   \n",
              "3                    42.689819              68.347543             10.422762   \n",
              "4                    42.774141              66.927016             10.360302   \n",
              "\n",
              "   final.output.tail_pb  final.output.tail_sol  final.output.tail_au  ...  \\\n",
              "0              0.895447              16.904297              2.143149  ...   \n",
              "1              0.927452              16.634514              2.224930  ...   \n",
              "2              0.953716              16.208849              2.257889  ...   \n",
              "3              0.883763              16.532835              2.146849  ...   \n",
              "4              0.792826              16.525686              2.055292  ...   \n",
              "\n",
              "   secondary_cleaner.state.floatbank4_a_air  \\\n",
              "0                                 14.016835   \n",
              "1                                 13.992281   \n",
              "2                                 14.015015   \n",
              "3                                 14.036510   \n",
              "4                                 14.027298   \n",
              "\n",
              "   secondary_cleaner.state.floatbank4_a_level  \\\n",
              "0                                 -502.488007   \n",
              "1                                 -505.503262   \n",
              "2                                 -502.520901   \n",
              "3                                 -500.857308   \n",
              "4                                 -499.838632   \n",
              "\n",
              "   secondary_cleaner.state.floatbank4_b_air  \\\n",
              "0                                 12.099931   \n",
              "1                                 11.950531   \n",
              "2                                 11.912783   \n",
              "3                                 11.999550   \n",
              "4                                 11.953070   \n",
              "\n",
              "   secondary_cleaner.state.floatbank4_b_level  \\\n",
              "0                                 -504.715942   \n",
              "1                                 -501.331529   \n",
              "2                                 -501.133383   \n",
              "3                                 -501.193686   \n",
              "4                                 -501.053894   \n",
              "\n",
              "   secondary_cleaner.state.floatbank5_a_air  \\\n",
              "0                                  9.925633   \n",
              "1                                 10.039245   \n",
              "2                                 10.070913   \n",
              "3                                  9.970366   \n",
              "4                                  9.925709   \n",
              "\n",
              "   secondary_cleaner.state.floatbank5_a_level  \\\n",
              "0                                 -498.310211   \n",
              "1                                 -500.169983   \n",
              "2                                 -500.129135   \n",
              "3                                 -499.201640   \n",
              "4                                 -501.686727   \n",
              "\n",
              "   secondary_cleaner.state.floatbank5_b_air  \\\n",
              "0                                  8.079666   \n",
              "1                                  7.984757   \n",
              "2                                  8.013877   \n",
              "3                                  7.977324   \n",
              "4                                  7.894242   \n",
              "\n",
              "   secondary_cleaner.state.floatbank5_b_level  \\\n",
              "0                                 -500.470978   \n",
              "1                                 -500.582168   \n",
              "2                                 -500.517572   \n",
              "3                                 -500.255908   \n",
              "4                                 -500.356035   \n",
              "\n",
              "   secondary_cleaner.state.floatbank6_a_air  \\\n",
              "0                                 14.151341   \n",
              "1                                 13.998353   \n",
              "2                                 14.028663   \n",
              "3                                 14.005551   \n",
              "4                                 13.996647   \n",
              "\n",
              "   secondary_cleaner.state.floatbank6_a_level  \n",
              "0                                 -605.841980  \n",
              "1                                 -599.787184  \n",
              "2                                 -601.427363  \n",
              "3                                 -599.996129  \n",
              "4                                 -601.496691  \n",
              "\n",
              "[5 rows x 87 columns]"
            ]
          },
          "execution_count": 3,
          "metadata": {},
          "output_type": "execute_result"
        }
      ],
      "source": [
        "df_full.head()"
      ]
    },
    {
      "cell_type": "markdown",
      "metadata": {
        "id": "huFwCSdYr2xb"
      },
      "source": [
        "### Проверка правильности расчета эффективности обогащения."
      ]
    },
    {
      "cell_type": "markdown",
      "metadata": {
        "id": "BU8D_HuGr2xc"
      },
      "source": [
        "Проверим правильность расчета эффективности обогащения в обучающей выборке. Вычислим её для признака rougher.output.recovery. <br/>\n"
      ]
    },
    {
      "cell_type": "code",
      "execution_count": null,
      "metadata": {
        "id": "DP2Q9d3hr2xd",
        "outputId": "5d6aca39-15f0-48b3-a6f8-29e00fd09177"
      },
      "outputs": [
        {
          "data": {
            "text/plain": [
              "rougher.output.recovery    0\n",
              "final.output.recovery      0\n",
              "dtype: int64"
            ]
          },
          "execution_count": 4,
          "metadata": {},
          "output_type": "execute_result"
        }
      ],
      "source": [
        "df_train[['rougher.output.recovery', 'final.output.recovery']].isna().sum()"
      ]
    },
    {
      "cell_type": "markdown",
      "metadata": {
        "id": "SHe-U3gir2xf"
      },
      "source": [
        "Уберем пропуски в столбцах, необходимых для расчетов, из тренировочного датасета."
      ]
    },
    {
      "cell_type": "code",
      "execution_count": null,
      "metadata": {
        "id": "Ng-1RqCVr2xg",
        "outputId": "0f8471fe-06e0-4dda-d679-c1b8dd080431"
      },
      "outputs": [
        {
          "data": {
            "text/plain": [
              "(14149, 87)"
            ]
          },
          "execution_count": 5,
          "metadata": {},
          "output_type": "execute_result"
        }
      ],
      "source": [
        "df_train.dropna(subset = ['rougher.output.recovery', 'final.output.recovery'], inplace=True)\n",
        "df_train.shape"
      ]
    },
    {
      "cell_type": "markdown",
      "metadata": {
        "id": "VZCl-7C6r2xh"
      },
      "source": [
        "Вычислим эффективность обогащения."
      ]
    },
    {
      "cell_type": "code",
      "execution_count": null,
      "metadata": {
        "id": "q6tLSiWBr2xi",
        "outputId": "9f78f1c4-34c1-4adf-b57c-ae4b4fa76186"
      },
      "outputs": [
        {
          "data": {
            "text/html": [
              "<div>\n",
              "<style scoped>\n",
              "    .dataframe tbody tr th:only-of-type {\n",
              "        vertical-align: middle;\n",
              "    }\n",
              "\n",
              "    .dataframe tbody tr th {\n",
              "        vertical-align: top;\n",
              "    }\n",
              "\n",
              "    .dataframe thead th {\n",
              "        text-align: right;\n",
              "    }\n",
              "</style>\n",
              "<table border=\"1\" class=\"dataframe\">\n",
              "  <thead>\n",
              "    <tr style=\"text-align: right;\">\n",
              "      <th></th>\n",
              "      <th>rougher.output.recovery</th>\n",
              "      <th>rougher.output.recovery.calculated</th>\n",
              "    </tr>\n",
              "  </thead>\n",
              "  <tbody>\n",
              "    <tr>\n",
              "      <th>0</th>\n",
              "      <td>87.107763</td>\n",
              "      <td>87.107763</td>\n",
              "    </tr>\n",
              "    <tr>\n",
              "      <th>1</th>\n",
              "      <td>86.843261</td>\n",
              "      <td>86.843261</td>\n",
              "    </tr>\n",
              "    <tr>\n",
              "      <th>2</th>\n",
              "      <td>86.842308</td>\n",
              "      <td>86.842308</td>\n",
              "    </tr>\n",
              "    <tr>\n",
              "      <th>3</th>\n",
              "      <td>87.226430</td>\n",
              "      <td>87.226430</td>\n",
              "    </tr>\n",
              "    <tr>\n",
              "      <th>4</th>\n",
              "      <td>86.688794</td>\n",
              "      <td>86.688794</td>\n",
              "    </tr>\n",
              "    <tr>\n",
              "      <th>...</th>\n",
              "      <td>...</td>\n",
              "      <td>...</td>\n",
              "    </tr>\n",
              "    <tr>\n",
              "      <th>14144</th>\n",
              "      <td>89.574376</td>\n",
              "      <td>89.574376</td>\n",
              "    </tr>\n",
              "    <tr>\n",
              "      <th>14145</th>\n",
              "      <td>87.724007</td>\n",
              "      <td>87.724007</td>\n",
              "    </tr>\n",
              "    <tr>\n",
              "      <th>14146</th>\n",
              "      <td>88.890579</td>\n",
              "      <td>88.890579</td>\n",
              "    </tr>\n",
              "    <tr>\n",
              "      <th>14147</th>\n",
              "      <td>89.858126</td>\n",
              "      <td>89.858126</td>\n",
              "    </tr>\n",
              "    <tr>\n",
              "      <th>14148</th>\n",
              "      <td>89.514960</td>\n",
              "      <td>89.514960</td>\n",
              "    </tr>\n",
              "  </tbody>\n",
              "</table>\n",
              "<p>14149 rows × 2 columns</p>\n",
              "</div>"
            ],
            "text/plain": [
              "       rougher.output.recovery  rougher.output.recovery.calculated\n",
              "0                    87.107763                           87.107763\n",
              "1                    86.843261                           86.843261\n",
              "2                    86.842308                           86.842308\n",
              "3                    87.226430                           87.226430\n",
              "4                    86.688794                           86.688794\n",
              "...                        ...                                 ...\n",
              "14144                89.574376                           89.574376\n",
              "14145                87.724007                           87.724007\n",
              "14146                88.890579                           88.890579\n",
              "14147                89.858126                           89.858126\n",
              "14148                89.514960                           89.514960\n",
              "\n",
              "[14149 rows x 2 columns]"
            ]
          },
          "execution_count": 6,
          "metadata": {},
          "output_type": "execute_result"
        }
      ],
      "source": [
        "df_train['rougher.output.recovery.calculated'] = ((df_train['rougher.output.concentrate_au'] *\n",
        "                       (df_train['rougher.input.feed_au'] - df_train['rougher.output.tail_au'])) / \n",
        "                      (df_train['rougher.input.feed_au'] * \n",
        "                      (df_train['rougher.output.concentrate_au'] - df_train['rougher.output.tail_au']))) * 100\n",
        "df_train[['rougher.output.recovery', 'rougher.output.recovery.calculated']]"
      ]
    },
    {
      "cell_type": "markdown",
      "metadata": {
        "id": "c82JBiUqr2xk"
      },
      "source": [
        "Найдем MAE между нашими расчётами и значением признака."
      ]
    },
    {
      "cell_type": "code",
      "execution_count": null,
      "metadata": {
        "id": "tKRbEcYXr2xl",
        "outputId": "0a7a65be-813a-4fab-f436-ab9b6d4ba578"
      },
      "outputs": [
        {
          "data": {
            "text/plain": [
              "0.0"
            ]
          },
          "execution_count": 7,
          "metadata": {},
          "output_type": "execute_result"
        }
      ],
      "source": [
        "mae = mean_absolute_error(df_train['rougher.output.recovery'], df_train['rougher.output.recovery.calculated'])\n",
        "mae.round(10)"
      ]
    },
    {
      "cell_type": "markdown",
      "metadata": {
        "id": "0XdaftUrr2xm"
      },
      "source": [
        "Значение MAE стремится к 0, что говорит о правильности расчетов recovery и достоверности информации, удалим столбец с проверкой расчетов и продолжим обработку данных."
      ]
    },
    {
      "cell_type": "code",
      "execution_count": null,
      "metadata": {
        "id": "2-Svhajir2xo"
      },
      "outputs": [],
      "source": [
        "df_train.drop('rougher.output.recovery.calculated', axis=1, inplace=True)"
      ]
    },
    {
      "cell_type": "markdown",
      "metadata": {
        "id": "h7weAUX0r2xp"
      },
      "source": [
        "### Анализ признаков в тестовой и обучающей выборке."
      ]
    },
    {
      "cell_type": "markdown",
      "metadata": {
        "id": "xUrqq7o7r2xq"
      },
      "source": [
        "Посмотрим какие столбцы есть в тренировочном сете, но нет в тестовом."
      ]
    },
    {
      "cell_type": "code",
      "execution_count": null,
      "metadata": {
        "id": "t4L6OleGr2xs",
        "outputId": "6b15a604-38ee-4b21-cc88-34b84bb4b4aa"
      },
      "outputs": [
        {
          "data": {
            "text/plain": [
              "{'final.output.concentrate_ag',\n",
              " 'final.output.concentrate_au',\n",
              " 'final.output.concentrate_pb',\n",
              " 'final.output.concentrate_sol',\n",
              " 'final.output.recovery',\n",
              " 'final.output.tail_ag',\n",
              " 'final.output.tail_au',\n",
              " 'final.output.tail_pb',\n",
              " 'final.output.tail_sol',\n",
              " 'primary_cleaner.output.concentrate_ag',\n",
              " 'primary_cleaner.output.concentrate_au',\n",
              " 'primary_cleaner.output.concentrate_pb',\n",
              " 'primary_cleaner.output.concentrate_sol',\n",
              " 'primary_cleaner.output.tail_ag',\n",
              " 'primary_cleaner.output.tail_au',\n",
              " 'primary_cleaner.output.tail_pb',\n",
              " 'primary_cleaner.output.tail_sol',\n",
              " 'rougher.calculation.au_pb_ratio',\n",
              " 'rougher.calculation.floatbank10_sulfate_to_au_feed',\n",
              " 'rougher.calculation.floatbank11_sulfate_to_au_feed',\n",
              " 'rougher.calculation.sulfate_to_au_concentrate',\n",
              " 'rougher.output.concentrate_ag',\n",
              " 'rougher.output.concentrate_au',\n",
              " 'rougher.output.concentrate_pb',\n",
              " 'rougher.output.concentrate_sol',\n",
              " 'rougher.output.recovery',\n",
              " 'rougher.output.tail_ag',\n",
              " 'rougher.output.tail_au',\n",
              " 'rougher.output.tail_pb',\n",
              " 'rougher.output.tail_sol',\n",
              " 'secondary_cleaner.output.tail_ag',\n",
              " 'secondary_cleaner.output.tail_au',\n",
              " 'secondary_cleaner.output.tail_pb',\n",
              " 'secondary_cleaner.output.tail_sol'}"
            ]
          },
          "execution_count": 9,
          "metadata": {},
          "output_type": "execute_result"
        }
      ],
      "source": [
        "set(df_train.columns) - set(df_test.columns)"
      ]
    },
    {
      "cell_type": "markdown",
      "metadata": {
        "id": "0A21AQTpr2xt"
      },
      "source": [
        "В тестовом датасете у нас нет признаков .output на всех этапах очистки, так как это целевые признаки.\n",
        "\n",
        "Так же в тестовом нет признаков calculation для этапа rougher, видимо эти данные рассчитываются позднее и не доступны во время процесса."
      ]
    },
    {
      "cell_type": "markdown",
      "metadata": {
        "id": "Gx4bi1nPr2xu"
      },
      "source": [
        "### Предобработка данных"
      ]
    },
    {
      "cell_type": "markdown",
      "metadata": {
        "id": "n0kWYDgrr2xv"
      },
      "source": [
        "Проверим есть ли дубликаты"
      ]
    },
    {
      "cell_type": "code",
      "execution_count": null,
      "metadata": {
        "id": "FnPXYUxer2xv",
        "outputId": "827feceb-5da5-451f-a4e8-0b5b77e48569"
      },
      "outputs": [
        {
          "name": "stdout",
          "output_type": "stream",
          "text": [
            "0\n",
            "0\n",
            "0\n"
          ]
        }
      ],
      "source": [
        "print(df_full.duplicated().sum())\n",
        "print(df_test.duplicated().sum())\n",
        "print(df_train.duplicated().sum())"
      ]
    },
    {
      "cell_type": "markdown",
      "metadata": {
        "id": "TgM-o4ZIr2xx"
      },
      "source": [
        "Проверим есть ли в датасетах пропуски. "
      ]
    },
    {
      "cell_type": "code",
      "execution_count": null,
      "metadata": {
        "scrolled": true,
        "id": "84a9E7FPr2xy",
        "outputId": "b03578ba-138f-4104-b67a-0da05269537a"
      },
      "outputs": [
        {
          "data": {
            "text/plain": [
              "date                                            0\n",
              "final.output.concentrate_ag                     1\n",
              "final.output.concentrate_pb                     1\n",
              "final.output.concentrate_sol                  211\n",
              "final.output.concentrate_au                     0\n",
              "                                             ... \n",
              "secondary_cleaner.state.floatbank5_a_level      1\n",
              "secondary_cleaner.state.floatbank5_b_air        1\n",
              "secondary_cleaner.state.floatbank5_b_level      1\n",
              "secondary_cleaner.state.floatbank6_a_air        2\n",
              "secondary_cleaner.state.floatbank6_a_level      1\n",
              "Length: 87, dtype: int64"
            ]
          },
          "execution_count": 11,
          "metadata": {},
          "output_type": "execute_result"
        }
      ],
      "source": [
        "df_train.isna().sum() # проверяем тренировочный датасет"
      ]
    },
    {
      "cell_type": "markdown",
      "metadata": {
        "id": "qQYsb065r2xz"
      },
      "source": [
        "В условиях задачи сказано, что данные индексируются датой и временем получения информации (признак date). Соседние по времени параметры часто похожи. Поэтому заполним пропуски последним существующим значением выше пропущенного значения."
      ]
    },
    {
      "cell_type": "code",
      "execution_count": null,
      "metadata": {
        "id": "rFcmDtANr2xz",
        "outputId": "6ecd13d8-7635-40b4-f23e-39e02d070773"
      },
      "outputs": [
        {
          "data": {
            "text/plain": [
              "date                                          0\n",
              "final.output.concentrate_ag                   0\n",
              "final.output.concentrate_pb                   0\n",
              "final.output.concentrate_sol                  0\n",
              "final.output.concentrate_au                   0\n",
              "                                             ..\n",
              "secondary_cleaner.state.floatbank5_a_level    0\n",
              "secondary_cleaner.state.floatbank5_b_air      0\n",
              "secondary_cleaner.state.floatbank5_b_level    0\n",
              "secondary_cleaner.state.floatbank6_a_air      0\n",
              "secondary_cleaner.state.floatbank6_a_level    0\n",
              "Length: 87, dtype: int64"
            ]
          },
          "execution_count": 12,
          "metadata": {},
          "output_type": "execute_result"
        }
      ],
      "source": [
        "df_train = df_train.fillna(method='ffill')\n",
        "df_train.isna().sum()"
      ]
    },
    {
      "cell_type": "markdown",
      "metadata": {
        "id": "2L41uGgzr2x0"
      },
      "source": [
        "То же самое проделываем с тестовым и полным датасетом."
      ]
    },
    {
      "cell_type": "code",
      "execution_count": null,
      "metadata": {
        "id": "KLpIpo5or2x1",
        "outputId": "9c0fceb7-c228-4e9d-ebd1-3ffd11344fbf"
      },
      "outputs": [
        {
          "data": {
            "text/plain": [
              "date                                           0\n",
              "primary_cleaner.input.sulfate                  4\n",
              "primary_cleaner.input.depressant               5\n",
              "primary_cleaner.input.feed_size                0\n",
              "primary_cleaner.input.xanthate                 4\n",
              "primary_cleaner.state.floatbank8_a_air         0\n",
              "primary_cleaner.state.floatbank8_a_level       0\n",
              "primary_cleaner.state.floatbank8_b_air         0\n",
              "primary_cleaner.state.floatbank8_b_level       0\n",
              "primary_cleaner.state.floatbank8_c_air         0\n",
              "primary_cleaner.state.floatbank8_c_level       0\n",
              "primary_cleaner.state.floatbank8_d_air         0\n",
              "primary_cleaner.state.floatbank8_d_level       0\n",
              "rougher.input.feed_ag                          0\n",
              "rougher.input.feed_pb                          0\n",
              "rougher.input.feed_rate                        3\n",
              "rougher.input.feed_size                        1\n",
              "rougher.input.feed_sol                        21\n",
              "rougher.input.feed_au                          0\n",
              "rougher.input.floatbank10_sulfate              5\n",
              "rougher.input.floatbank10_xanthate             0\n",
              "rougher.input.floatbank11_sulfate              8\n",
              "rougher.input.floatbank11_xanthate            25\n",
              "rougher.state.floatbank10_a_air                0\n",
              "rougher.state.floatbank10_a_level              0\n",
              "rougher.state.floatbank10_b_air                0\n",
              "rougher.state.floatbank10_b_level              0\n",
              "rougher.state.floatbank10_c_air                0\n",
              "rougher.state.floatbank10_c_level              0\n",
              "rougher.state.floatbank10_d_air                0\n",
              "rougher.state.floatbank10_d_level              0\n",
              "rougher.state.floatbank10_e_air                0\n",
              "rougher.state.floatbank10_e_level              0\n",
              "rougher.state.floatbank10_f_air                0\n",
              "rougher.state.floatbank10_f_level              0\n",
              "secondary_cleaner.state.floatbank2_a_air       3\n",
              "secondary_cleaner.state.floatbank2_a_level     0\n",
              "secondary_cleaner.state.floatbank2_b_air       2\n",
              "secondary_cleaner.state.floatbank2_b_level     0\n",
              "secondary_cleaner.state.floatbank3_a_air       9\n",
              "secondary_cleaner.state.floatbank3_a_level     0\n",
              "secondary_cleaner.state.floatbank3_b_air       0\n",
              "secondary_cleaner.state.floatbank3_b_level     0\n",
              "secondary_cleaner.state.floatbank4_a_air       0\n",
              "secondary_cleaner.state.floatbank4_a_level     0\n",
              "secondary_cleaner.state.floatbank4_b_air       0\n",
              "secondary_cleaner.state.floatbank4_b_level     0\n",
              "secondary_cleaner.state.floatbank5_a_air       0\n",
              "secondary_cleaner.state.floatbank5_a_level     0\n",
              "secondary_cleaner.state.floatbank5_b_air       0\n",
              "secondary_cleaner.state.floatbank5_b_level     0\n",
              "secondary_cleaner.state.floatbank6_a_air       0\n",
              "secondary_cleaner.state.floatbank6_a_level     0\n",
              "dtype: int64"
            ]
          },
          "execution_count": 13,
          "metadata": {},
          "output_type": "execute_result"
        }
      ],
      "source": [
        "df_test.isna().sum() # проверяем тестовый датасет"
      ]
    },
    {
      "cell_type": "code",
      "execution_count": null,
      "metadata": {
        "id": "4ZGlTnPnr2x3",
        "outputId": "4c9c3b5b-6ffc-400c-e1cb-980ce80ab817"
      },
      "outputs": [
        {
          "data": {
            "text/plain": [
              "date                                          0\n",
              "primary_cleaner.input.sulfate                 0\n",
              "primary_cleaner.input.depressant              0\n",
              "primary_cleaner.input.feed_size               0\n",
              "primary_cleaner.input.xanthate                0\n",
              "primary_cleaner.state.floatbank8_a_air        0\n",
              "primary_cleaner.state.floatbank8_a_level      0\n",
              "primary_cleaner.state.floatbank8_b_air        0\n",
              "primary_cleaner.state.floatbank8_b_level      0\n",
              "primary_cleaner.state.floatbank8_c_air        0\n",
              "primary_cleaner.state.floatbank8_c_level      0\n",
              "primary_cleaner.state.floatbank8_d_air        0\n",
              "primary_cleaner.state.floatbank8_d_level      0\n",
              "rougher.input.feed_ag                         0\n",
              "rougher.input.feed_pb                         0\n",
              "rougher.input.feed_rate                       0\n",
              "rougher.input.feed_size                       0\n",
              "rougher.input.feed_sol                        0\n",
              "rougher.input.feed_au                         0\n",
              "rougher.input.floatbank10_sulfate             0\n",
              "rougher.input.floatbank10_xanthate            0\n",
              "rougher.input.floatbank11_sulfate             0\n",
              "rougher.input.floatbank11_xanthate            0\n",
              "rougher.state.floatbank10_a_air               0\n",
              "rougher.state.floatbank10_a_level             0\n",
              "rougher.state.floatbank10_b_air               0\n",
              "rougher.state.floatbank10_b_level             0\n",
              "rougher.state.floatbank10_c_air               0\n",
              "rougher.state.floatbank10_c_level             0\n",
              "rougher.state.floatbank10_d_air               0\n",
              "rougher.state.floatbank10_d_level             0\n",
              "rougher.state.floatbank10_e_air               0\n",
              "rougher.state.floatbank10_e_level             0\n",
              "rougher.state.floatbank10_f_air               0\n",
              "rougher.state.floatbank10_f_level             0\n",
              "secondary_cleaner.state.floatbank2_a_air      0\n",
              "secondary_cleaner.state.floatbank2_a_level    0\n",
              "secondary_cleaner.state.floatbank2_b_air      0\n",
              "secondary_cleaner.state.floatbank2_b_level    0\n",
              "secondary_cleaner.state.floatbank3_a_air      0\n",
              "secondary_cleaner.state.floatbank3_a_level    0\n",
              "secondary_cleaner.state.floatbank3_b_air      0\n",
              "secondary_cleaner.state.floatbank3_b_level    0\n",
              "secondary_cleaner.state.floatbank4_a_air      0\n",
              "secondary_cleaner.state.floatbank4_a_level    0\n",
              "secondary_cleaner.state.floatbank4_b_air      0\n",
              "secondary_cleaner.state.floatbank4_b_level    0\n",
              "secondary_cleaner.state.floatbank5_a_air      0\n",
              "secondary_cleaner.state.floatbank5_a_level    0\n",
              "secondary_cleaner.state.floatbank5_b_air      0\n",
              "secondary_cleaner.state.floatbank5_b_level    0\n",
              "secondary_cleaner.state.floatbank6_a_air      0\n",
              "secondary_cleaner.state.floatbank6_a_level    0\n",
              "dtype: int64"
            ]
          },
          "execution_count": 14,
          "metadata": {},
          "output_type": "execute_result"
        }
      ],
      "source": [
        "df_test = df_test.fillna(method='ffill')\n",
        "df_test.isna().sum()"
      ]
    },
    {
      "cell_type": "code",
      "execution_count": null,
      "metadata": {
        "id": "2oqxELQor2x4",
        "outputId": "9fffb289-f022-44ad-d3ec-ecbaf52dbc3a"
      },
      "outputs": [
        {
          "data": {
            "text/plain": [
              "date                                            0\n",
              "final.output.concentrate_ag                     1\n",
              "final.output.concentrate_pb                     1\n",
              "final.output.concentrate_sol                  211\n",
              "final.output.concentrate_au                     0\n",
              "                                             ... \n",
              "secondary_cleaner.state.floatbank5_a_level      1\n",
              "secondary_cleaner.state.floatbank5_b_air        1\n",
              "secondary_cleaner.state.floatbank5_b_level      1\n",
              "secondary_cleaner.state.floatbank6_a_air        2\n",
              "secondary_cleaner.state.floatbank6_a_level      1\n",
              "Length: 87, dtype: int64"
            ]
          },
          "execution_count": 15,
          "metadata": {},
          "output_type": "execute_result"
        }
      ],
      "source": [
        "df_full.isna().sum() # проверяем тестовый датасет"
      ]
    },
    {
      "cell_type": "code",
      "execution_count": null,
      "metadata": {
        "id": "tHGSLgovr2x5",
        "outputId": "9d629184-0705-42c9-953c-8a4af7f50b0f"
      },
      "outputs": [
        {
          "data": {
            "text/plain": [
              "date                                          0\n",
              "final.output.concentrate_ag                   0\n",
              "final.output.concentrate_pb                   0\n",
              "final.output.concentrate_sol                  0\n",
              "final.output.concentrate_au                   0\n",
              "                                             ..\n",
              "secondary_cleaner.state.floatbank5_a_level    0\n",
              "secondary_cleaner.state.floatbank5_b_air      0\n",
              "secondary_cleaner.state.floatbank5_b_level    0\n",
              "secondary_cleaner.state.floatbank6_a_air      0\n",
              "secondary_cleaner.state.floatbank6_a_level    0\n",
              "Length: 87, dtype: int64"
            ]
          },
          "execution_count": 16,
          "metadata": {},
          "output_type": "execute_result"
        }
      ],
      "source": [
        "df_full = df_full.fillna(method='ffill')\n",
        "df_full.isna().sum()"
      ]
    },
    {
      "cell_type": "markdown",
      "metadata": {
        "id": "Y28HBnUcr2x8"
      },
      "source": [
        "### Выводы:\n",
        "В процессе подготовки и предобработки данных мы:\n",
        "- Убедились в правильности расчета эффективности обогащения руды.\n",
        "- Определили каких признаки отсутсвуют в тестовой выборке. \n",
        "- Заполнили пропуски в датасетах."
      ]
    },
    {
      "cell_type": "markdown",
      "metadata": {
        "id": "GSn475_hr2x9"
      },
      "source": [
        "## Анализ данных"
      ]
    },
    {
      "cell_type": "markdown",
      "metadata": {
        "id": "wPcTI4QYr2x-"
      },
      "source": [
        "### Анализ концентрации металлов на различных этапах очистки руды."
      ]
    },
    {
      "cell_type": "markdown",
      "metadata": {
        "id": "cdMAZMHnr2x-"
      },
      "source": [
        "Посмотрим, как меняется концентрация металлов (Au, Ag, Pb) на различных этапах очистки. Для удобства посмотрим распределение на графиках."
      ]
    },
    {
      "cell_type": "code",
      "execution_count": null,
      "metadata": {
        "scrolled": true,
        "id": "O_HnB0sfr2x_",
        "outputId": "03113453-ee94-4242-d07f-9f508068d380"
      },
      "outputs": [
        {
          "data": {
            "image/png": "[encoded data removed]",
            "text/plain": [
              "<Figure size 1440x432 with 4 Axes>"
            ]
          },
          "metadata": {
            "needs_background": "light"
          },
          "output_type": "display_data"
        },
        {
          "data": {
            "image/png": "[encoded data removed]",
            "text/plain": [
              "<Figure size 1440x432 with 4 Axes>"
            ]
          },
          "metadata": {
            "needs_background": "light"
          },
          "output_type": "display_data"
        }
      ],
      "source": [
        "# создадим список этапов очистки сырья по стадиям\n",
        "process = ['rougher.input.feed',\n",
        "           'rougher.output.concentrate',\n",
        "           'primary_cleaner.output.concentrate',\n",
        "           'final.output.concentrate']\n",
        "\n",
        "# создадим список стадий формирования хвоста\n",
        "process_tail = ['rougher.input.feed',\n",
        "                'rougher.output.tail',\n",
        "                'primary_cleaner.output.tail',\n",
        "                'final.output.tail']\n",
        "\n",
        "# создадим список с металлами.\n",
        "metals = ['au', 'ag', 'pb']\n",
        "\n",
        "# создадим оболочку для первого графика.\n",
        "fig, axs = plt.subplots(1, len(process), figsize=(20, 6), constrained_layout=True)\n",
        "fig.suptitle('Концентрация металлов на выходе по стадиям', fontsize=24)\n",
        "\n",
        "# через цикл создадим графики распределения концентрации металлов на каждом этапе очистки.\n",
        "for stage, ax in zip(process, axs):\n",
        "    ax.set_title(stage)\n",
        "    for metal in metals:        \n",
        "        cols = df_train.columns.str.contains(stage+'_'+metal)\n",
        "        sns_ax = sns.distplot(df_train.loc[:, cols].dropna(), label=metal, ax=ax)    \n",
        "plt.legend()\n",
        "\n",
        "# создадим оболочку для второго графика\n",
        "fig, axs = plt.subplots(1, 4, figsize=(20, 6), constrained_layout=True)\n",
        "fig.suptitle('Концентрация металлов в хвосте по стадиям', fontsize=24)\n",
        "\n",
        "# через цикл создадим графики распределения концентрации металлов в хвостах на каждом этапе очистки.\n",
        "for stage, ax in zip(process_tail, axs):\n",
        "    ax.set_title(stage)\n",
        "    for metal in metals:        \n",
        "        cols = df_train.columns.str.contains(stage+'_'+metal)\n",
        "        sns_ax = sns.distplot(df_train.loc[:, cols].dropna(), label=metal, ax=ax)   \n",
        "plt.legend()\n",
        "\n",
        "plt.show()"
      ]
    },
    {
      "cell_type": "markdown",
      "metadata": {
        "id": "ds-KZTAgr2yB"
      },
      "source": [
        "1) Из графиков видно что в процессе очистики концентрация золота возрастает, отметим достаточно большое количетсво нулевых значений\n",
        "\n",
        "2) Так же отмети различную концентрацию металлов в хвостовых отвалах в после различных этапов"
      ]
    },
    {
      "cell_type": "markdown",
      "metadata": {
        "id": "2jZ5rKCar2yB"
      },
      "source": [
        "Дополнительно посторим графики для концентрации каждого металла на разных процессах на выходе и в хвосте"
      ]
    },
    {
      "cell_type": "code",
      "execution_count": null,
      "metadata": {
        "id": "R3EaMS07r2yC",
        "outputId": "af26dae6-d78b-48ad-9137-28ec64fed13b"
      },
      "outputs": [
        {
          "data": {
            "image/png": "[encoded data removed]",
            "text/plain": [
              "<Figure size 1440x432 with 3 Axes>"
            ]
          },
          "metadata": {
            "needs_background": "light"
          },
          "output_type": "display_data"
        },
        {
          "data": {
            "image/png": "[encoded data removed]",
            "text/plain": [
              "<Figure size 1440x432 with 3 Axes>"
            ]
          },
          "metadata": {
            "needs_background": "light"
          },
          "output_type": "display_data"
        }
      ],
      "source": [
        "fig, axs = plt.subplots(1, len(metals), figsize=(20, 6), constrained_layout=True)\n",
        "fig.suptitle('Концентрация металлов в продукции', fontsize=24)\n",
        "\n",
        "for metal, ax in zip(metals, axs):\n",
        "    ax.set_title(metal)\n",
        "    for stage in process:\n",
        "        cols = df_train.columns.str.contains(stage + '_' + metal)\n",
        "        sns_ax = sns.distplot(df_train.loc[:, cols].dropna(), label=stage, ax=ax)   \n",
        "plt.legend() то\n",
        "\n",
        "fig, axs = plt.subplots(1, len(metals), figsize=(20, 6), constrained_layout=True)\n",
        "fig.suptitle('Концентрация металлов в хвосте', fontsize=24)\n",
        "\n",
        "for metal, ax in zip(metals, axs):\n",
        "    ax.set_title(metal)\n",
        "    for stage in process_tail:\n",
        "        cols = df_train.columns.str.contains(stage + '_' + metal)\n",
        "        sns_ax = sns.distplot(df_train.loc[:, cols].dropna(), label=stage, ax=ax)   \n",
        "plt.legend()\n",
        "\n",
        "plt.show()"
      ]
    },
    {
      "cell_type": "markdown",
      "metadata": {
        "id": "iuhe2dw2r2yH"
      },
      "source": [
        "Отметим, что концентрация золота по мере очистки значительно вырастает, так же вырастают концентрации серебра и свинца за исключением последнего (финального этапа).\n",
        "\n",
        "Самая большая концентрация золота в хвостах после флотации, при очистке концентрация золота в хвостах чуть меньше. Тоже самое характерно для других металлов."
      ]
    },
    {
      "cell_type": "markdown",
      "metadata": {
        "id": "MMvV7BOAr2yK"
      },
      "source": [
        "### Сравнение распределения размеров гранул сырья на обучающей и тестовой выборках."
      ]
    },
    {
      "cell_type": "code",
      "execution_count": null,
      "metadata": {
        "id": "PP1oDR8Or2yL",
        "outputId": "dfcec21f-0054-4d49-a12d-6ca3150a6e09"
      },
      "outputs": [
        {
          "data": {
            "image/png": "[encoded data removed]",
            "text/plain": [
              "<Figure size 432x288 with 1 Axes>"
            ]
          },
          "metadata": {
            "needs_background": "light"
          },
          "output_type": "display_data"
        }
      ],
      "source": [
        "sns.distplot(df_train['rougher.input.feed_size'].dropna(), label='train')\n",
        "sns.distplot(df_test['rougher.input.feed_size'].dropna(), label='test')\n",
        "plt.legend();"
      ]
    },
    {
      "cell_type": "markdown",
      "metadata": {
        "id": "VX0VRPotr2yN"
      },
      "source": [
        "Как мы видим распределения очень похожи в выборках."
      ]
    },
    {
      "cell_type": "markdown",
      "metadata": {
        "id": "N3AGbYeWr2yO"
      },
      "source": [
        "Рассмотрим распределение размера гранул перед первичной очисткой в тестовой и обучающей выборке.\n"
      ]
    },
    {
      "cell_type": "code",
      "execution_count": null,
      "metadata": {
        "id": "4av9PHFgr2yP",
        "outputId": "28689fb5-dc36-4d8b-a69c-1f29f9448f04"
      },
      "outputs": [
        {
          "data": {
            "image/png": "[encoded data removed]",
            "text/plain": [
              "<Figure size 432x288 with 1 Axes>"
            ]
          },
          "metadata": {
            "needs_background": "light"
          },
          "output_type": "display_data"
        }
      ],
      "source": [
        "sns.distplot(df_train['primary_cleaner.input.feed_size'].dropna(), label='train')\n",
        "sns.distplot(df_test['primary_cleaner.input.feed_size'].dropna(), label='test')\n",
        "plt.legend();"
      ]
    },
    {
      "cell_type": "markdown",
      "metadata": {
        "id": "SISqSqYdr2yQ"
      },
      "source": [
        "Распределение по выборкам похоже. Размер гранул существенно отличается от размера в черновом концентрате."
      ]
    },
    {
      "cell_type": "markdown",
      "metadata": {
        "id": "jNMX45sfr2yS"
      },
      "source": [
        "### Анализ суммарной концентрации всех веществ на разных стадиях: в сырье, в черновом и финальном концентратах."
      ]
    },
    {
      "cell_type": "markdown",
      "metadata": {
        "id": "OKrLZIX0r2yT"
      },
      "source": [
        "Посчитаем суммарную концентрацию всех металлов на каждом этапе обогащения руды."
      ]
    },
    {
      "cell_type": "code",
      "execution_count": null,
      "metadata": {
        "id": "NEDl56tEr2yU"
      },
      "outputs": [],
      "source": [
        "# Считаем сумму концентраций металлов после флотации\n",
        "df_full['sum_concentrate_rougher'] = df_full['rougher.output.concentrate_ag'] + df_full['rougher.output.concentrate_pb'] + df_full['rougher.output.concentrate_sol'] + df_full['rougher.output.concentrate_au']\n",
        "\n",
        "# Считаем сумму концентраций металлов после первичной очистки\n",
        "df_full['sum_primary_cleaner_output_concentrate'] = df_full['primary_cleaner.output.concentrate_ag'] + df_full['primary_cleaner.output.concentrate_pb'] + df_full['primary_cleaner.output.concentrate_sol'] + df_full['primary_cleaner.output.concentrate_au']\n",
        "\n",
        "# Считаем сумму концентраций металлов после финальной очистки\n",
        "df_full['sum_final_output_concentrate'] = df_full['final.output.concentrate_ag'] + df_full['final.output.concentrate_pb'] + df_full['final.output.concentrate_sol'] + df_full['final.output.concentrate_au']\n",
        "\n",
        "sum_concentrate = ['sum_concentrate_rougher','sum_primary_cleaner_output_concentrate','sum_final_output_concentrate'] "
      ]
    },
    {
      "cell_type": "markdown",
      "metadata": {
        "id": "l1qgJepSr2yU"
      },
      "source": [
        "Отразим данные на графике."
      ]
    },
    {
      "cell_type": "code",
      "execution_count": null,
      "metadata": {
        "id": "WAM8fAVEr2yV",
        "outputId": "d2e8b719-91a5-47b5-afec-d10f656e5855"
      },
      "outputs": [
        {
          "data": {
            "image/png": "[encoded data removed]",
            "text/plain": [
              "<Figure size 1008x576 with 1 Axes>"
            ]
          },
          "metadata": {
            "needs_background": "light"
          },
          "output_type": "display_data"
        }
      ],
      "source": [
        "plt.figure(figsize=(14,8))\n",
        "sns.distplot(df_full[df_full['sum_concentrate_rougher']>0.04]['sum_concentrate_rougher'],bins=80,label='sum_concentrate_rougher')\n",
        "sns.distplot(df_full[df_full['sum_primary_cleaner_output_concentrate']>0.04]['sum_primary_cleaner_output_concentrate'],bins=80,label='sum_primary_cleaner_output_concentrate')\n",
        "sns.distplot(df_full[df_full['sum_final_output_concentrate']>0.04]['sum_final_output_concentrate'],bins=80,label='sum_final_output_concentrate')\n",
        "plt.vlines(df_full[df_full['sum_concentrate_rougher']>0.3]['sum_concentrate_rougher'].mean(),0,0.07,color = 'r')\n",
        "plt.vlines(df_full[df_full['sum_primary_cleaner_output_concentrate']>0.3]['sum_primary_cleaner_output_concentrate'].mean(),0,0.10,color = 'r')\n",
        "plt.vlines(df_full[df_full['sum_final_output_concentrate']>0.3]['sum_final_output_concentrate'].mean(),0,0.17,color = 'r')\n",
        "plt.legend()\n",
        "plt.title('Суммарный концентрат металла в сырье, черновом и конечном состоянии')\n",
        "plt.xlabel(\"Суммарный концентрат металла\")\n",
        "plt.ylabel(\"Частота\");"
      ]
    },
    {
      "cell_type": "markdown",
      "metadata": {
        "id": "a-DqixdPr2yW"
      },
      "source": [
        "По распределению видно, что присутствуют выбросы. Есть много значению от 0 до 40, которые можно удалить. Удалим эти значения, чтобы не мешали обучению модели."
      ]
    },
    {
      "cell_type": "code",
      "execution_count": null,
      "metadata": {
        "scrolled": true,
        "id": "gmFV7_Lcr2yY",
        "outputId": "f5353065-83e0-455f-c17e-48a9b0ff5141"
      },
      "outputs": [
        {
          "data": {
            "text/html": [
              "<div>\n",
              "<style scoped>\n",
              "    .dataframe tbody tr th:only-of-type {\n",
              "        vertical-align: middle;\n",
              "    }\n",
              "\n",
              "    .dataframe tbody tr th {\n",
              "        vertical-align: top;\n",
              "    }\n",
              "\n",
              "    .dataframe thead th {\n",
              "        text-align: right;\n",
              "    }\n",
              "</style>\n",
              "<table border=\"1\" class=\"dataframe\">\n",
              "  <thead>\n",
              "    <tr style=\"text-align: right;\">\n",
              "      <th></th>\n",
              "      <th>date</th>\n",
              "      <th>final.output.concentrate_ag</th>\n",
              "      <th>final.output.concentrate_pb</th>\n",
              "      <th>final.output.concentrate_sol</th>\n",
              "      <th>final.output.concentrate_au</th>\n",
              "      <th>final.output.recovery</th>\n",
              "      <th>final.output.tail_ag</th>\n",
              "      <th>final.output.tail_pb</th>\n",
              "      <th>final.output.tail_sol</th>\n",
              "      <th>final.output.tail_au</th>\n",
              "      <th>...</th>\n",
              "      <th>secondary_cleaner.state.floatbank4_b_level</th>\n",
              "      <th>secondary_cleaner.state.floatbank5_a_air</th>\n",
              "      <th>secondary_cleaner.state.floatbank5_a_level</th>\n",
              "      <th>secondary_cleaner.state.floatbank5_b_air</th>\n",
              "      <th>secondary_cleaner.state.floatbank5_b_level</th>\n",
              "      <th>secondary_cleaner.state.floatbank6_a_air</th>\n",
              "      <th>secondary_cleaner.state.floatbank6_a_level</th>\n",
              "      <th>sum_concentrate_rougher</th>\n",
              "      <th>sum_primary_cleaner_output_concentrate</th>\n",
              "      <th>sum_final_output_concentrate</th>\n",
              "    </tr>\n",
              "  </thead>\n",
              "  <tbody>\n",
              "    <tr>\n",
              "      <th>0</th>\n",
              "      <td>2016-01-15 00:00:00</td>\n",
              "      <td>6.055403</td>\n",
              "      <td>9.889648</td>\n",
              "      <td>5.507324</td>\n",
              "      <td>42.192020</td>\n",
              "      <td>70.541216</td>\n",
              "      <td>10.411962</td>\n",
              "      <td>0.895447</td>\n",
              "      <td>16.904297</td>\n",
              "      <td>2.143149</td>\n",
              "      <td>...</td>\n",
              "      <td>-504.715942</td>\n",
              "      <td>9.925633</td>\n",
              "      <td>-498.310211</td>\n",
              "      <td>8.079666</td>\n",
              "      <td>-500.470978</td>\n",
              "      <td>14.151341</td>\n",
              "      <td>-605.841980</td>\n",
              "      <td>66.424950</td>\n",
              "      <td>72.640924</td>\n",
              "      <td>63.644396</td>\n",
              "    </tr>\n",
              "    <tr>\n",
              "      <th>1</th>\n",
              "      <td>2016-01-15 01:00:00</td>\n",
              "      <td>6.029369</td>\n",
              "      <td>9.968944</td>\n",
              "      <td>5.257781</td>\n",
              "      <td>42.701629</td>\n",
              "      <td>69.266198</td>\n",
              "      <td>10.462676</td>\n",
              "      <td>0.927452</td>\n",
              "      <td>16.634514</td>\n",
              "      <td>2.224930</td>\n",
              "      <td>...</td>\n",
              "      <td>-501.331529</td>\n",
              "      <td>10.039245</td>\n",
              "      <td>-500.169983</td>\n",
              "      <td>7.984757</td>\n",
              "      <td>-500.582168</td>\n",
              "      <td>13.998353</td>\n",
              "      <td>-599.787184</td>\n",
              "      <td>67.012710</td>\n",
              "      <td>72.543485</td>\n",
              "      <td>63.957723</td>\n",
              "    </tr>\n",
              "    <tr>\n",
              "      <th>2</th>\n",
              "      <td>2016-01-15 02:00:00</td>\n",
              "      <td>6.055926</td>\n",
              "      <td>10.213995</td>\n",
              "      <td>5.383759</td>\n",
              "      <td>42.657501</td>\n",
              "      <td>68.116445</td>\n",
              "      <td>10.507046</td>\n",
              "      <td>0.953716</td>\n",
              "      <td>16.208849</td>\n",
              "      <td>2.257889</td>\n",
              "      <td>...</td>\n",
              "      <td>-501.133383</td>\n",
              "      <td>10.070913</td>\n",
              "      <td>-500.129135</td>\n",
              "      <td>8.013877</td>\n",
              "      <td>-500.517572</td>\n",
              "      <td>14.028663</td>\n",
              "      <td>-601.427363</td>\n",
              "      <td>66.103793</td>\n",
              "      <td>72.095042</td>\n",
              "      <td>64.311180</td>\n",
              "    </tr>\n",
              "    <tr>\n",
              "      <th>3</th>\n",
              "      <td>2016-01-15 03:00:00</td>\n",
              "      <td>6.047977</td>\n",
              "      <td>9.977019</td>\n",
              "      <td>4.858634</td>\n",
              "      <td>42.689819</td>\n",
              "      <td>68.347543</td>\n",
              "      <td>10.422762</td>\n",
              "      <td>0.883763</td>\n",
              "      <td>16.532835</td>\n",
              "      <td>2.146849</td>\n",
              "      <td>...</td>\n",
              "      <td>-501.193686</td>\n",
              "      <td>9.970366</td>\n",
              "      <td>-499.201640</td>\n",
              "      <td>7.977324</td>\n",
              "      <td>-500.255908</td>\n",
              "      <td>14.005551</td>\n",
              "      <td>-599.996129</td>\n",
              "      <td>65.752751</td>\n",
              "      <td>59.957723</td>\n",
              "      <td>63.573449</td>\n",
              "    </tr>\n",
              "    <tr>\n",
              "      <th>4</th>\n",
              "      <td>2016-01-15 04:00:00</td>\n",
              "      <td>6.148599</td>\n",
              "      <td>10.142511</td>\n",
              "      <td>4.939416</td>\n",
              "      <td>42.774141</td>\n",
              "      <td>66.927016</td>\n",
              "      <td>10.360302</td>\n",
              "      <td>0.792826</td>\n",
              "      <td>16.525686</td>\n",
              "      <td>2.055292</td>\n",
              "      <td>...</td>\n",
              "      <td>-501.053894</td>\n",
              "      <td>9.925709</td>\n",
              "      <td>-501.686727</td>\n",
              "      <td>7.894242</td>\n",
              "      <td>-500.356035</td>\n",
              "      <td>13.996647</td>\n",
              "      <td>-601.496691</td>\n",
              "      <td>65.908382</td>\n",
              "      <td>71.321010</td>\n",
              "      <td>64.004667</td>\n",
              "    </tr>\n",
              "  </tbody>\n",
              "</table>\n",
              "<p>5 rows × 90 columns</p>\n",
              "</div>"
            ],
            "text/plain": [
              "                  date  final.output.concentrate_ag  \\\n",
              "0  2016-01-15 00:00:00                     6.055403   \n",
              "1  2016-01-15 01:00:00                     6.029369   \n",
              "2  2016-01-15 02:00:00                     6.055926   \n",
              "3  2016-01-15 03:00:00                     6.047977   \n",
              "4  2016-01-15 04:00:00                     6.148599   \n",
              "\n",
              "   final.output.concentrate_pb  final.output.concentrate_sol  \\\n",
              "0                     9.889648                      5.507324   \n",
              "1                     9.968944                      5.257781   \n",
              "2                    10.213995                      5.383759   \n",
              "3                     9.977019                      4.858634   \n",
              "4                    10.142511                      4.939416   \n",
              "\n",
              "   final.output.concentrate_au  final.output.recovery  final.output.tail_ag  \\\n",
              "0                    42.192020              70.541216             10.411962   \n",
              "1                    42.701629              69.266198             10.462676   \n",
              "2                    42.657501              68.116445             10.507046   \n",
              "3                    42.689819              68.347543             10.422762   \n",
              "4                    42.774141              66.927016             10.360302   \n",
              "\n",
              "   final.output.tail_pb  final.output.tail_sol  final.output.tail_au  ...  \\\n",
              "0              0.895447              16.904297              2.143149  ...   \n",
              "1              0.927452              16.634514              2.224930  ...   \n",
              "2              0.953716              16.208849              2.257889  ...   \n",
              "3              0.883763              16.532835              2.146849  ...   \n",
              "4              0.792826              16.525686              2.055292  ...   \n",
              "\n",
              "   secondary_cleaner.state.floatbank4_b_level  \\\n",
              "0                                 -504.715942   \n",
              "1                                 -501.331529   \n",
              "2                                 -501.133383   \n",
              "3                                 -501.193686   \n",
              "4                                 -501.053894   \n",
              "\n",
              "   secondary_cleaner.state.floatbank5_a_air  \\\n",
              "0                                  9.925633   \n",
              "1                                 10.039245   \n",
              "2                                 10.070913   \n",
              "3                                  9.970366   \n",
              "4                                  9.925709   \n",
              "\n",
              "   secondary_cleaner.state.floatbank5_a_level  \\\n",
              "0                                 -498.310211   \n",
              "1                                 -500.169983   \n",
              "2                                 -500.129135   \n",
              "3                                 -499.201640   \n",
              "4                                 -501.686727   \n",
              "\n",
              "   secondary_cleaner.state.floatbank5_b_air  \\\n",
              "0                                  8.079666   \n",
              "1                                  7.984757   \n",
              "2                                  8.013877   \n",
              "3                                  7.977324   \n",
              "4                                  7.894242   \n",
              "\n",
              "   secondary_cleaner.state.floatbank5_b_level  \\\n",
              "0                                 -500.470978   \n",
              "1                                 -500.582168   \n",
              "2                                 -500.517572   \n",
              "3                                 -500.255908   \n",
              "4                                 -500.356035   \n",
              "\n",
              "   secondary_cleaner.state.floatbank6_a_air  \\\n",
              "0                                 14.151341   \n",
              "1                                 13.998353   \n",
              "2                                 14.028663   \n",
              "3                                 14.005551   \n",
              "4                                 13.996647   \n",
              "\n",
              "   secondary_cleaner.state.floatbank6_a_level  sum_concentrate_rougher  \\\n",
              "0                                 -605.841980                66.424950   \n",
              "1                                 -599.787184                67.012710   \n",
              "2                                 -601.427363                66.103793   \n",
              "3                                 -599.996129                65.752751   \n",
              "4                                 -601.496691                65.908382   \n",
              "\n",
              "   sum_primary_cleaner_output_concentrate  sum_final_output_concentrate  \n",
              "0                               72.640924                     63.644396  \n",
              "1                               72.543485                     63.957723  \n",
              "2                               72.095042                     64.311180  \n",
              "3                               59.957723                     63.573449  \n",
              "4                               71.321010                     64.004667  \n",
              "\n",
              "[5 rows x 90 columns]"
            ]
          },
          "execution_count": 23,
          "metadata": {},
          "output_type": "execute_result"
        }
      ],
      "source": [
        "df_full=df_full[df_full['sum_final_output_concentrate']>40]\n",
        "df_full=df_full[df_full['sum_primary_cleaner_output_concentrate']>40]\n",
        "df_full=df_full[df_full['sum_concentrate_rougher']>40]\n",
        "df_full.head()"
      ]
    },
    {
      "cell_type": "code",
      "execution_count": null,
      "metadata": {
        "id": "2Vdryopfr2yZ",
        "outputId": "d4560022-5831-400f-da9b-14ae945c28a2"
      },
      "outputs": [
        {
          "data": {
            "image/png": "[encoded data removed]",
            "text/plain": [
              "<Figure size 1008x576 with 1 Axes>"
            ]
          },
          "metadata": {
            "needs_background": "light"
          },
          "output_type": "display_data"
        }
      ],
      "source": [
        "plt.figure(figsize=(14,8))\n",
        "sns.distplot(df_full['sum_concentrate_rougher'],bins=80,label='sum_concentrate_rougher')\n",
        "sns.distplot(df_full['sum_primary_cleaner_output_concentrate'],bins=80,label='sum_primary_cleaner_output_concentrate')\n",
        "sns.distplot(df_full['sum_final_output_concentrate'],bins=80,label='sum_final_output_concentrate')\n",
        "plt.vlines(df_full['sum_concentrate_rougher'].mean(),0,0.07,color = 'r')\n",
        "plt.vlines(df_full['sum_primary_cleaner_output_concentrate'].mean(),0,0.10,color = 'r')\n",
        "plt.vlines(df_full['sum_final_output_concentrate'].mean(),0,0.17,color = 'r')\n",
        "plt.legend()\n",
        "plt.title('Суммарный концентрат металла в более грубом, первично чистом и конечном состоянии')\n",
        "plt.xlabel(\"Суммарный концентрат металла\")\n",
        "plt.ylabel(\"Частота\");"
      ]
    },
    {
      "cell_type": "markdown",
      "metadata": {
        "id": "_GfHSfqsr2ya"
      },
      "source": [
        "### Выводы:\n",
        "- Концентрация золота и свинца растут с этапами очистки в разы, а концентрация серебра падает.\n",
        "- Распределение гранул в тренировочном и тестовом датасете похоже. \n",
        "- После флотации суммарно концентрация металлов выросла в среднем в 2 раза, после финальных стадий очистки концентрация мтеллов выросла еще на 50. Распределение становиться ближе к среднему после каждго этапа очистки. \n",
        "- Убрали из данных выбросы, которые возможно возникли из-за технических проблем с оборудованием."
      ]
    },
    {
      "cell_type": "markdown",
      "metadata": {
        "id": "3ucBi15rr2ya"
      },
      "source": [
        "## Модель"
      ]
    },
    {
      "cell_type": "markdown",
      "metadata": {
        "id": "JyRzetYEr2yb"
      },
      "source": [
        "### Функция расчета sMAPE."
      ]
    },
    {
      "cell_type": "markdown",
      "metadata": {
        "id": "TY73mPfsr2yb"
      },
      "source": [
        "Создадим функцию для расчета sMAPE. "
      ]
    },
    {
      "cell_type": "code",
      "execution_count": null,
      "metadata": {
        "id": "8QiecNvUr2yb"
      },
      "outputs": [],
      "source": [
        "def smape(target, predict):\n",
        "    res = abs(target - predict) / (((abs(target) + abs(predict)) / 2))\n",
        "    return res.sum() / len(res) * 100\n",
        " \n",
        "def smape_final(smape_1, smape_2):\n",
        "    return smape_1 * 0.25 + smape_2 * 0.75"
      ]
    },
    {
      "cell_type": "markdown",
      "metadata": {
        "id": "GX8lbWBgr2yd"
      },
      "source": [
        "### Подготовка данных."
      ]
    },
    {
      "cell_type": "markdown",
      "metadata": {
        "id": "8yvLoBOSr2ye"
      },
      "source": [
        "Создаем переменные с признаками."
      ]
    },
    {
      "cell_type": "markdown",
      "metadata": {
        "id": "4S8Un66Pr2yf"
      },
      "source": [
        "Поскольку предсказать нам нужно сразу 2 величины (эффективность обогащения чернового и финального концентрата), создадим 2 целевых признака. "
      ]
    },
    {
      "cell_type": "code",
      "execution_count": null,
      "metadata": {
        "id": "lQV2j5Sxr2yf"
      },
      "outputs": [],
      "source": [
        "# признаки для тренировочной выборки\n",
        "features_train = df_train[df_test.columns].drop(['date'], axis=1) # для признаков истользуем только те столбцы, которые есть в тестовом датасете.\n",
        "target_rougher_train = df_train['rougher.output.recovery'] # эффективность обогащения чернового концентрата. \n",
        "target_final_train = df_train['final.output.recovery'] # эффективность обогащения финального концентрата. "
      ]
    },
    {
      "cell_type": "markdown",
      "metadata": {
        "id": "E_kh7yfcr2yg"
      },
      "source": [
        "В тестовой выборке не хватает признаков, добавим их из полного датасета, через функцию merge, объеденив данные через столбец date."
      ]
    },
    {
      "cell_type": "code",
      "execution_count": null,
      "metadata": {
        "id": "SavjYT5Hr2yh"
      },
      "outputs": [],
      "source": [
        "# добавляем недостающие столбцы из исходного датасета.\n",
        "\n",
        "df_test = df_test.merge(df_full[['date','rougher.output.recovery','final.output.recovery']], on=['date'], how='left')\n",
        "\n",
        "df_test = df_test.dropna()\n",
        "\n",
        "# признаки для тестовой выборки. На ней мы проверим окончательный результат обучения.\n",
        "features_test = df_test.drop(['date','rougher.output.recovery','final.output.recovery'],axis=1)\n",
        "\n",
        "# создаем целевые признаки для тестовой выборки.\n",
        "\n",
        "target_rougher_test = df_test['rougher.output.recovery']\n",
        "target_final_test = df_test['final.output.recovery']"
      ]
    },
    {
      "cell_type": "markdown",
      "metadata": {
        "id": "v_bl0wx_r2yk"
      },
      "source": [
        "Проведем масштабирование количественных признаков"
      ]
    },
    {
      "cell_type": "code",
      "execution_count": null,
      "metadata": {
        "id": "j_gnvRa0r2yl",
        "outputId": "65595069-f554-4de6-88ef-133683c7638e"
      },
      "outputs": [
        {
          "data": {
            "text/html": [
              "<div>\n",
              "<style scoped>\n",
              "    .dataframe tbody tr th:only-of-type {\n",
              "        vertical-align: middle;\n",
              "    }\n",
              "\n",
              "    .dataframe tbody tr th {\n",
              "        vertical-align: top;\n",
              "    }\n",
              "\n",
              "    .dataframe thead th {\n",
              "        text-align: right;\n",
              "    }\n",
              "</style>\n",
              "<table border=\"1\" class=\"dataframe\">\n",
              "  <thead>\n",
              "    <tr style=\"text-align: right;\">\n",
              "      <th></th>\n",
              "      <th>primary_cleaner.input.sulfate</th>\n",
              "      <th>primary_cleaner.input.depressant</th>\n",
              "      <th>primary_cleaner.input.feed_size</th>\n",
              "      <th>primary_cleaner.input.xanthate</th>\n",
              "      <th>primary_cleaner.state.floatbank8_a_air</th>\n",
              "      <th>primary_cleaner.state.floatbank8_a_level</th>\n",
              "      <th>primary_cleaner.state.floatbank8_b_air</th>\n",
              "      <th>primary_cleaner.state.floatbank8_b_level</th>\n",
              "      <th>primary_cleaner.state.floatbank8_c_air</th>\n",
              "      <th>primary_cleaner.state.floatbank8_c_level</th>\n",
              "      <th>...</th>\n",
              "      <th>secondary_cleaner.state.floatbank4_a_air</th>\n",
              "      <th>secondary_cleaner.state.floatbank4_a_level</th>\n",
              "      <th>secondary_cleaner.state.floatbank4_b_air</th>\n",
              "      <th>secondary_cleaner.state.floatbank4_b_level</th>\n",
              "      <th>secondary_cleaner.state.floatbank5_a_air</th>\n",
              "      <th>secondary_cleaner.state.floatbank5_a_level</th>\n",
              "      <th>secondary_cleaner.state.floatbank5_b_air</th>\n",
              "      <th>secondary_cleaner.state.floatbank5_b_level</th>\n",
              "      <th>secondary_cleaner.state.floatbank6_a_air</th>\n",
              "      <th>secondary_cleaner.state.floatbank6_a_level</th>\n",
              "    </tr>\n",
              "  </thead>\n",
              "  <tbody>\n",
              "    <tr>\n",
              "      <th>0</th>\n",
              "      <td>-0.154580</td>\n",
              "      <td>0.377154</td>\n",
              "      <td>-0.117761</td>\n",
              "      <td>0.285633</td>\n",
              "      <td>-0.453621</td>\n",
              "      <td>-0.283904</td>\n",
              "      <td>-0.436246</td>\n",
              "      <td>-0.810391</td>\n",
              "      <td>-0.439519</td>\n",
              "      <td>-0.254349</td>\n",
              "      <td>...</td>\n",
              "      <td>-1.052891</td>\n",
              "      <td>-0.468787</td>\n",
              "      <td>-0.644461</td>\n",
              "      <td>-0.755839</td>\n",
              "      <td>-1.174433</td>\n",
              "      <td>-0.378783</td>\n",
              "      <td>-0.864572</td>\n",
              "      <td>-0.420943</td>\n",
              "      <td>-0.941197</td>\n",
              "      <td>-2.670558</td>\n",
              "    </tr>\n",
              "    <tr>\n",
              "      <th>1</th>\n",
              "      <td>-0.191516</td>\n",
              "      <td>0.426914</td>\n",
              "      <td>-0.117761</td>\n",
              "      <td>0.322644</td>\n",
              "      <td>-0.248048</td>\n",
              "      <td>-0.339722</td>\n",
              "      <td>-0.249235</td>\n",
              "      <td>-0.318234</td>\n",
              "      <td>-0.244963</td>\n",
              "      <td>-0.272554</td>\n",
              "      <td>...</td>\n",
              "      <td>-1.057226</td>\n",
              "      <td>-0.528215</td>\n",
              "      <td>-0.672889</td>\n",
              "      <td>-0.698327</td>\n",
              "      <td>-1.154951</td>\n",
              "      <td>-0.427866</td>\n",
              "      <td>-0.881034</td>\n",
              "      <td>-0.423780</td>\n",
              "      <td>-0.967738</td>\n",
              "      <td>-2.507288</td>\n",
              "    </tr>\n",
              "    <tr>\n",
              "      <th>2</th>\n",
              "      <td>-0.237204</td>\n",
              "      <td>0.729117</td>\n",
              "      <td>-0.117761</td>\n",
              "      <td>0.292305</td>\n",
              "      <td>-0.050275</td>\n",
              "      <td>-0.314313</td>\n",
              "      <td>-0.062837</td>\n",
              "      <td>-0.340312</td>\n",
              "      <td>-0.051233</td>\n",
              "      <td>-0.316207</td>\n",
              "      <td>...</td>\n",
              "      <td>-1.053212</td>\n",
              "      <td>-0.469435</td>\n",
              "      <td>-0.680072</td>\n",
              "      <td>-0.694960</td>\n",
              "      <td>-1.149521</td>\n",
              "      <td>-0.426788</td>\n",
              "      <td>-0.875983</td>\n",
              "      <td>-0.422132</td>\n",
              "      <td>-0.962479</td>\n",
              "      <td>-2.551516</td>\n",
              "    </tr>\n",
              "    <tr>\n",
              "      <th>3</th>\n",
              "      <td>-0.276332</td>\n",
              "      <td>0.730853</td>\n",
              "      <td>-0.117761</td>\n",
              "      <td>0.306874</td>\n",
              "      <td>-0.062640</td>\n",
              "      <td>-0.341034</td>\n",
              "      <td>-0.060758</td>\n",
              "      <td>-0.312616</td>\n",
              "      <td>-0.063891</td>\n",
              "      <td>-0.312218</td>\n",
              "      <td>...</td>\n",
              "      <td>-1.049417</td>\n",
              "      <td>-0.436647</td>\n",
              "      <td>-0.663562</td>\n",
              "      <td>-0.695985</td>\n",
              "      <td>-1.166762</td>\n",
              "      <td>-0.402310</td>\n",
              "      <td>-0.882323</td>\n",
              "      <td>-0.415458</td>\n",
              "      <td>-0.966489</td>\n",
              "      <td>-2.512923</td>\n",
              "    </tr>\n",
              "    <tr>\n",
              "      <th>4</th>\n",
              "      <td>-0.384454</td>\n",
              "      <td>0.906088</td>\n",
              "      <td>-0.117761</td>\n",
              "      <td>0.341826</td>\n",
              "      <td>-0.051961</td>\n",
              "      <td>-0.285677</td>\n",
              "      <td>-0.054819</td>\n",
              "      <td>-0.331845</td>\n",
              "      <td>-0.069271</td>\n",
              "      <td>-0.316714</td>\n",
              "      <td>...</td>\n",
              "      <td>-1.051043</td>\n",
              "      <td>-0.416569</td>\n",
              "      <td>-0.672406</td>\n",
              "      <td>-0.693609</td>\n",
              "      <td>-1.174420</td>\n",
              "      <td>-0.467895</td>\n",
              "      <td>-0.896733</td>\n",
              "      <td>-0.418012</td>\n",
              "      <td>-0.968033</td>\n",
              "      <td>-2.553386</td>\n",
              "    </tr>\n",
              "  </tbody>\n",
              "</table>\n",
              "<p>5 rows × 52 columns</p>\n",
              "</div>"
            ],
            "text/plain": [
              "   primary_cleaner.input.sulfate  primary_cleaner.input.depressant  \\\n",
              "0                      -0.154580                          0.377154   \n",
              "1                      -0.191516                          0.426914   \n",
              "2                      -0.237204                          0.729117   \n",
              "3                      -0.276332                          0.730853   \n",
              "4                      -0.384454                          0.906088   \n",
              "\n",
              "   primary_cleaner.input.feed_size  primary_cleaner.input.xanthate  \\\n",
              "0                        -0.117761                        0.285633   \n",
              "1                        -0.117761                        0.322644   \n",
              "2                        -0.117761                        0.292305   \n",
              "3                        -0.117761                        0.306874   \n",
              "4                        -0.117761                        0.341826   \n",
              "\n",
              "   primary_cleaner.state.floatbank8_a_air  \\\n",
              "0                               -0.453621   \n",
              "1                               -0.248048   \n",
              "2                               -0.050275   \n",
              "3                               -0.062640   \n",
              "4                               -0.051961   \n",
              "\n",
              "   primary_cleaner.state.floatbank8_a_level  \\\n",
              "0                                 -0.283904   \n",
              "1                                 -0.339722   \n",
              "2                                 -0.314313   \n",
              "3                                 -0.341034   \n",
              "4                                 -0.285677   \n",
              "\n",
              "   primary_cleaner.state.floatbank8_b_air  \\\n",
              "0                               -0.436246   \n",
              "1                               -0.249235   \n",
              "2                               -0.062837   \n",
              "3                               -0.060758   \n",
              "4                               -0.054819   \n",
              "\n",
              "   primary_cleaner.state.floatbank8_b_level  \\\n",
              "0                                 -0.810391   \n",
              "1                                 -0.318234   \n",
              "2                                 -0.340312   \n",
              "3                                 -0.312616   \n",
              "4                                 -0.331845   \n",
              "\n",
              "   primary_cleaner.state.floatbank8_c_air  \\\n",
              "0                               -0.439519   \n",
              "1                               -0.244963   \n",
              "2                               -0.051233   \n",
              "3                               -0.063891   \n",
              "4                               -0.069271   \n",
              "\n",
              "   primary_cleaner.state.floatbank8_c_level  ...  \\\n",
              "0                                 -0.254349  ...   \n",
              "1                                 -0.272554  ...   \n",
              "2                                 -0.316207  ...   \n",
              "3                                 -0.312218  ...   \n",
              "4                                 -0.316714  ...   \n",
              "\n",
              "   secondary_cleaner.state.floatbank4_a_air  \\\n",
              "0                                 -1.052891   \n",
              "1                                 -1.057226   \n",
              "2                                 -1.053212   \n",
              "3                                 -1.049417   \n",
              "4                                 -1.051043   \n",
              "\n",
              "   secondary_cleaner.state.floatbank4_a_level  \\\n",
              "0                                   -0.468787   \n",
              "1                                   -0.528215   \n",
              "2                                   -0.469435   \n",
              "3                                   -0.436647   \n",
              "4                                   -0.416569   \n",
              "\n",
              "   secondary_cleaner.state.floatbank4_b_air  \\\n",
              "0                                 -0.644461   \n",
              "1                                 -0.672889   \n",
              "2                                 -0.680072   \n",
              "3                                 -0.663562   \n",
              "4                                 -0.672406   \n",
              "\n",
              "   secondary_cleaner.state.floatbank4_b_level  \\\n",
              "0                                   -0.755839   \n",
              "1                                   -0.698327   \n",
              "2                                   -0.694960   \n",
              "3                                   -0.695985   \n",
              "4                                   -0.693609   \n",
              "\n",
              "   secondary_cleaner.state.floatbank5_a_air  \\\n",
              "0                                 -1.174433   \n",
              "1                                 -1.154951   \n",
              "2                                 -1.149521   \n",
              "3                                 -1.166762   \n",
              "4                                 -1.174420   \n",
              "\n",
              "   secondary_cleaner.state.floatbank5_a_level  \\\n",
              "0                                   -0.378783   \n",
              "1                                   -0.427866   \n",
              "2                                   -0.426788   \n",
              "3                                   -0.402310   \n",
              "4                                   -0.467895   \n",
              "\n",
              "   secondary_cleaner.state.floatbank5_b_air  \\\n",
              "0                                 -0.864572   \n",
              "1                                 -0.881034   \n",
              "2                                 -0.875983   \n",
              "3                                 -0.882323   \n",
              "4                                 -0.896733   \n",
              "\n",
              "   secondary_cleaner.state.floatbank5_b_level  \\\n",
              "0                                   -0.420943   \n",
              "1                                   -0.423780   \n",
              "2                                   -0.422132   \n",
              "3                                   -0.415458   \n",
              "4                                   -0.418012   \n",
              "\n",
              "   secondary_cleaner.state.floatbank6_a_air  \\\n",
              "0                                 -0.941197   \n",
              "1                                 -0.967738   \n",
              "2                                 -0.962479   \n",
              "3                                 -0.966489   \n",
              "4                                 -0.968033   \n",
              "\n",
              "   secondary_cleaner.state.floatbank6_a_level  \n",
              "0                                   -2.670558  \n",
              "1                                   -2.507288  \n",
              "2                                   -2.551516  \n",
              "3                                   -2.512923  \n",
              "4                                   -2.553386  \n",
              "\n",
              "[5 rows x 52 columns]"
            ]
          },
          "execution_count": 28,
          "metadata": {},
          "output_type": "execute_result"
        }
      ],
      "source": [
        "# создаем список со столбцами с количественными данными.\n",
        "numeric = features_train.columns\n",
        "# трансформируем данные\n",
        "scaler = StandardScaler()\n",
        "scaler.fit(features_train[numeric])\n",
        "features_train[numeric] = scaler.transform(features_train[numeric])\n",
        "features_test[numeric] = scaler.transform(features_test[numeric])\n",
        "pd.options.mode.chained_assignment = None;\n",
        "features_train.head()"
      ]
    },
    {
      "cell_type": "markdown",
      "metadata": {
        "id": "9XZJ-X5ar2yn"
      },
      "source": [
        "Данные подготовлены к обучению, обучим несколько моделей и изучим их качество. Т.к. мы решаем задачу на регрессию, то воспользуемся моделями линейной регрессией, решающего дерева и случайного леса."
      ]
    },
    {
      "cell_type": "markdown",
      "metadata": {
        "id": "YKfMVaW7r2yq"
      },
      "source": [
        "### Модель линейной регрессии."
      ]
    },
    {
      "cell_type": "markdown",
      "metadata": {
        "id": "UD-Tt5l9r2yr"
      },
      "source": [
        "Далее обучим модель линейной регрессии с крос валидацией, в которую в качестве параметра scoring зададим нашу функцию smape."
      ]
    },
    {
      "cell_type": "code",
      "execution_count": null,
      "metadata": {
        "scrolled": true,
        "id": "Bwn7QMXvr2yr",
        "outputId": "02367009-d0a2-44f8-d984-85c87996e1ea"
      },
      "outputs": [
        {
          "name": "stdout",
          "output_type": "stream",
          "text": [
            "sMAPE чернового концентрата 12.80248345848199\n",
            "sMAPE финального концентрата 12.245300320302249\n",
            "Итоговое sMAPE 12.384596104847184\n"
          ]
        }
      ],
      "source": [
        "# Обучаем модель для черной очистки\n",
        "model_rougher_regres = LinearRegression()\n",
        "# Оцениваем качество модели при помощи кросс-валидации. В качестве оценки используем sMAPE\n",
        "scores_rougher_regres = cross_val_score(model_rougher_regres, features_train, target_rougher_train, cv=5, scoring=make_scorer(smape))\n",
        "final_score_rougher_regres = scores_rougher_regres.mean()\n",
        "print ('sMAPE чернового концентрата', final_score_rougher_regres)\n",
        "\n",
        "\n",
        "# Обучаем модель для финальной очистки\n",
        "model_final_regres = LinearRegression()\n",
        "scores_final_regres = cross_val_score(model_final_regres, features_train, target_final_train, cv=5, scoring=make_scorer(smape))\n",
        "final_score_final_regres = scores_final_regres.mean()\n",
        "print ('sMAPE финального концентрата', final_score_final_regres)\n",
        "\n",
        "# расчет итогового sMAPE\n",
        "total_smape_final_regres = smape_final(final_score_rougher_regres, final_score_final_regres)\n",
        "    \n",
        "print('Итоговое sMAPE', total_smape_final_regres)"
      ]
    },
    {
      "cell_type": "markdown",
      "metadata": {
        "id": "U6DOGl8Vr2yz"
      },
      "source": [
        "### Модель решающего дерева."
      ]
    },
    {
      "cell_type": "markdown",
      "metadata": {
        "id": "TrjM2yF3r2y2"
      },
      "source": [
        "Обучаем модель для черновой очистки."
      ]
    },
    {
      "cell_type": "markdown",
      "metadata": {
        "id": "ibFAiBfkr2y3"
      },
      "source": [
        "Выберем наилучшие параметры модели."
      ]
    },
    {
      "cell_type": "code",
      "execution_count": null,
      "metadata": {
        "id": "2w8SxIfKr2y3",
        "outputId": "5e5466d6-6568-440e-c22d-2b6a8126df05"
      },
      "outputs": [
        {
          "data": {
            "text/plain": [
              "{'max_depth': 5}"
            ]
          },
          "execution_count": 30,
          "metadata": {},
          "output_type": "execute_result"
        }
      ],
      "source": [
        "#  объявляем классификатор TreeRegressor, не внося в него никаких параметров:\n",
        "clf = DecisionTreeRegressor(random_state=1234)\n",
        "\n",
        "# Отдельно создаем словарик, в который вписываем параметры, которые будем прогонять  \n",
        "parametr = {'max_depth': range (1, 20)}\n",
        "\n",
        "# Запускаем обучение\n",
        "grid = GridSearchCV(clf, parametr, cv=5, scoring = make_scorer(smape, greater_is_better=False))\n",
        "grid.fit(features_train, target_rougher_train)\n",
        "\n",
        "# Выводим лучший результат\n",
        "grid.best_params_"
      ]
    },
    {
      "cell_type": "markdown",
      "metadata": {
        "id": "O2ZVpKyCr2y7"
      },
      "source": [
        "Обучаем модель с наилучшим параментом и измереяем "
      ]
    },
    {
      "cell_type": "code",
      "execution_count": null,
      "metadata": {
        "id": "wU2LaNrur2y8",
        "outputId": "d31fcee0-5ef1-426d-f630-9cb09f624316"
      },
      "outputs": [
        {
          "name": "stdout",
          "output_type": "stream",
          "text": [
            "sMAPE чернового концентрата 11.361153901326634\n"
          ]
        }
      ],
      "source": [
        "model_rougher_tree = DecisionTreeRegressor(random_state=1234, max_depth=5)\n",
        "score_rougher_tree = (cross_val_score(\n",
        "    model_rougher_tree, features_train, target_rougher_train, cv = 5, scoring = make_scorer(smape))\n",
        "                     ) \n",
        "final_score_rougher_tree = score_rougher_tree.mean()\n",
        "print ('sMAPE чернового концентрата', final_score_rougher_tree)"
      ]
    },
    {
      "cell_type": "markdown",
      "metadata": {
        "id": "BCSDiE3cr2zC"
      },
      "source": [
        "Выберем наилучшие параметры модели."
      ]
    },
    {
      "cell_type": "code",
      "execution_count": null,
      "metadata": {
        "id": "DoUiD4Ror2zC",
        "outputId": "1136284d-8dcb-496f-d5d1-82d306268136"
      },
      "outputs": [
        {
          "data": {
            "text/plain": [
              "{'max_depth': 3}"
            ]
          },
          "execution_count": 32,
          "metadata": {},
          "output_type": "execute_result"
        }
      ],
      "source": [
        "clf = DecisionTreeRegressor(random_state=1234)\n",
        "parametr = {'max_depth': range (1, 20)}\n",
        "grid = GridSearchCV(clf, parametr, cv=5, scoring = make_scorer(smape, greater_is_better=False))\n",
        "grid.fit(features_train, target_final_train)\n",
        "grid.best_params_"
      ]
    },
    {
      "cell_type": "markdown",
      "metadata": {
        "id": "6jfYo96kr2zD"
      },
      "source": [
        "Обучаем модель с наилучшим параментом и измереяем "
      ]
    },
    {
      "cell_type": "code",
      "execution_count": null,
      "metadata": {
        "id": "kfjDxnEwr2zD",
        "outputId": "c9505261-86c8-462a-c17a-bb5775f44af5"
      },
      "outputs": [
        {
          "name": "stdout",
          "output_type": "stream",
          "text": [
            "sMAPE чернового концентрата 10.806104806167749\n"
          ]
        }
      ],
      "source": [
        "model_final_tree = DecisionTreeRegressor(random_state=1234, max_depth=3)\n",
        "score_final_tree = (cross_val_score\n",
        "                    (model_final_tree, features_train, target_final_train, cv = 5, scoring = make_scorer(smape)))\n",
        "final_score_final_tree = score_final_tree.mean()\n",
        "print ('sMAPE чернового концентрата', final_score_final_tree)"
      ]
    },
    {
      "cell_type": "markdown",
      "metadata": {
        "id": "dKKLu6Ulr2zE"
      },
      "source": [
        "Расчитываем итоговую sMAPE"
      ]
    },
    {
      "cell_type": "code",
      "execution_count": null,
      "metadata": {
        "id": "2n6wDXtTr2zF",
        "outputId": "e425577d-fe70-4e99-dbc0-1f7aba31c9d3"
      },
      "outputs": [
        {
          "name": "stdout",
          "output_type": "stream",
          "text": [
            "Итоговое sMAPE 10.944867079957469\n"
          ]
        }
      ],
      "source": [
        "total_smape_final_tree = smape_final(final_score_rougher_tree, final_score_final_tree)\n",
        "    \n",
        "print('Итоговое sMAPE', total_smape_final_tree)"
      ]
    },
    {
      "cell_type": "markdown",
      "metadata": {
        "id": "RsnZjynSr2zG"
      },
      "source": [
        "### Модель случайного леса."
      ]
    },
    {
      "cell_type": "markdown",
      "metadata": {
        "id": "p-hbun4Nr2zG"
      },
      "source": [
        "Выбираем наилучшие параметры"
      ]
    },
    {
      "cell_type": "code",
      "execution_count": null,
      "metadata": {
        "id": "kfutWQ9_r2zH",
        "outputId": "b925cc20-1f8f-4a46-c9c8-7c50123b1cd6"
      },
      "outputs": [
        {
          "data": {
            "text/plain": [
              "{'max_depth': 3, 'n_estimators': 6}"
            ]
          },
          "execution_count": 35,
          "metadata": {},
          "output_type": "execute_result"
        }
      ],
      "source": [
        "clf = RandomForestRegressor(random_state=1234)\n",
        "parametrs = { 'n_estimators': range (1, 10),\n",
        "              'max_depth': range (1,10)\n",
        "            }\n",
        "grid = GridSearchCV(clf, parametrs, cv=5, scoring=make_scorer(smape, greater_is_better=False))\n",
        "grid.fit(features_train, target_rougher_train)\n",
        "\n",
        "grid.best_params_"
      ]
    },
    {
      "cell_type": "markdown",
      "metadata": {
        "id": "IiRkLAIwr2zH"
      },
      "source": [
        "Запускаем модель обучения с лучшими параметрами."
      ]
    },
    {
      "cell_type": "code",
      "execution_count": null,
      "metadata": {
        "id": "sZ47Wiynr2zI",
        "outputId": "7dc7ffbc-5d83-487d-8d9f-0dc06fffbe5f"
      },
      "outputs": [
        {
          "name": "stdout",
          "output_type": "stream",
          "text": [
            "sMAPE чернового концентрата 11.37874972744462\n"
          ]
        }
      ],
      "source": [
        "model_rougher_forest = RandomForestRegressor(random_state=1234, max_depth=3, n_estimators=6)\n",
        "score_rougher_forest = cross_val_score(model_rougher_forest, features_train, target_rougher_train, cv = 5, scoring = make_scorer(smape))\n",
        "final_score_rougher_forest = score_rougher_forest.mean()\n",
        "print ('sMAPE чернового концентрата', final_score_rougher_forest)"
      ]
    },
    {
      "cell_type": "markdown",
      "metadata": {
        "id": "DC1zbKUZr2zI"
      },
      "source": [
        "Выбираем лучшие параметры"
      ]
    },
    {
      "cell_type": "code",
      "execution_count": null,
      "metadata": {
        "id": "ufK8sIWer2zJ",
        "outputId": "a6c34802-fae6-413b-83d1-eb909d992605"
      },
      "outputs": [
        {
          "data": {
            "text/plain": [
              "{'max_depth': 3, 'n_estimators': 8}"
            ]
          },
          "execution_count": 37,
          "metadata": {},
          "output_type": "execute_result"
        }
      ],
      "source": [
        "clf = RandomForestRegressor(random_state=1234) \n",
        "parametrs = { 'n_estimators': range (1, 10),\n",
        "              'max_depth': range (1,10)\n",
        "            }\n",
        "grid = GridSearchCV(clf, parametrs, cv=5, scoring=make_scorer(smape, greater_is_better=False))\n",
        "grid.fit(features_train, target_final_train)\n",
        "grid.best_params_"
      ]
    },
    {
      "cell_type": "code",
      "execution_count": null,
      "metadata": {
        "id": "EfHT1VzFr2zK",
        "outputId": "551f4646-308a-4236-88b7-5866aee9d2f7"
      },
      "outputs": [
        {
          "name": "stdout",
          "output_type": "stream",
          "text": [
            "sMAPE чернового концентрата 10.339176345892488\n"
          ]
        }
      ],
      "source": [
        "model_final_forest = RandomForestRegressor(random_state=1234, max_depth=3, n_estimators=8)\n",
        "score_final_forest = cross_val_score(model_final_forest, features_train, target_final_train, cv = 5, scoring = make_scorer(smape))\n",
        "final_score_final_forest = score_final_forest.mean()\n",
        "print ('sMAPE чернового концентрата', final_score_final_forest)"
      ]
    },
    {
      "cell_type": "markdown",
      "metadata": {
        "id": "jRJGPqHjr2zK"
      },
      "source": [
        "Расчитываем итоговую sMAPE."
      ]
    },
    {
      "cell_type": "code",
      "execution_count": null,
      "metadata": {
        "id": "1WZYtYj3r2zL",
        "outputId": "9fa89bb7-6a81-4f3c-d88c-2b873e994192"
      },
      "outputs": [
        {
          "name": "stdout",
          "output_type": "stream",
          "text": [
            "Итоговое sMAPE 10.599069691280521\n"
          ]
        }
      ],
      "source": [
        "total_smape_final_forest = smape_final(final_score_rougher_forest, final_score_final_forest)\n",
        "    \n",
        "print('Итоговое sMAPE', total_smape_final_forest)"
      ]
    },
    {
      "cell_type": "markdown",
      "metadata": {
        "id": "tKZiPFuWr2zM"
      },
      "source": [
        "### Итоги."
      ]
    },
    {
      "cell_type": "markdown",
      "metadata": {
        "id": "tVQaN_46r2zM"
      },
      "source": [
        "Выведем итоговые sMAPE всех обученных моделей и определимся с лучшей."
      ]
    },
    {
      "cell_type": "code",
      "execution_count": null,
      "metadata": {
        "id": "xryL-Nt8r2zM",
        "outputId": "847a12bc-11eb-4bba-f10c-ee1e755da810"
      },
      "outputs": [
        {
          "name": "stdout",
          "output_type": "stream",
          "text": [
            "Итоговое sMAPE линейной регресии: 12.384596104847184\n",
            "Итоговое sMAPE решающего дерева: 10.944867079957469\n",
            "Итоговое sMAPE случайного леса: 10.599069691280521\n"
          ]
        }
      ],
      "source": [
        "print('Итоговое sMAPE линейной регресии:', total_smape_final_regres)\n",
        "print('Итоговое sMAPE решающего дерева:', total_smape_final_tree)\n",
        "print('Итоговое sMAPE случайного леса:', total_smape_final_forest)"
      ]
    },
    {
      "cell_type": "markdown",
      "metadata": {
        "id": "V6pa96LUr2zN"
      },
      "source": [
        "Наилучшей моделью является модель Случайного леса. Проверим модель на тестовой выборке и оценим ее качество."
      ]
    },
    {
      "cell_type": "code",
      "execution_count": null,
      "metadata": {
        "id": "2qmCnRtVr2zO",
        "outputId": "1a7f9359-c963-45f8-c859-62bf98e3dc21"
      },
      "outputs": [
        {
          "name": "stdout",
          "output_type": "stream",
          "text": [
            "7.356791901706316\n",
            "7.704647945067165\n",
            "Итоговое sMAPE на тестовой выборке 7.617683934226953\n"
          ]
        }
      ],
      "source": [
        "# Обучим тренировочную выборку на лучшей моделе, предскажем результаты на тестовой выборке и расчитаем sMAPE.\n",
        "\n",
        "# Для чернового этапа\n",
        "model_total_rougher = (RandomForestRegressor(random_state=1234, max_depth=3, n_estimators=6)\n",
        "                       .fit(features_train, target_rougher_train))\n",
        "predictions_test_rougher = model_total_rougher.predict(features_test)\n",
        "smape_test_rougher = smape(target_rougher_test, predictions_test_rougher)\n",
        "print(smape_test_rougher)\n",
        "                       \n",
        "# Для финального этапа\n",
        "model_total_final = (RandomForestRegressor(random_state=1234, max_depth=3, n_estimators=8)\n",
        "                       .fit(features_train, target_final_train))\n",
        "predictions_test_final = model_total_final.predict(features_test)\n",
        "smape_test_final = smape(target_final_test, predictions_test_final)\n",
        "print(smape_test_final)                    \n",
        "\n",
        "# Считаем итоговый sMAPE и выводим результаты по моделям\n",
        "total_smape_test = smape_final(smape_test_rougher, smape_test_final)\n",
        "print('Итоговое sMAPE на тестовой выборке', total_smape_test)"
      ]
    },
    {
      "cell_type": "markdown",
      "metadata": {
        "id": "ayXldj3Ar2zU"
      },
      "source": [
        "### Проверка на адекватность"
      ]
    },
    {
      "cell_type": "markdown",
      "metadata": {
        "id": "nLXPn-nZr2zU"
      },
      "source": [
        "Проверим модель на адекватность. Сравним насколько наша модель предсказывает лучше, чем просто среднее значение целевого признака. "
      ]
    },
    {
      "cell_type": "code",
      "execution_count": null,
      "metadata": {
        "id": "l6d1UIIOr2zV",
        "outputId": "8b85c1c7-aa45-4f32-d379-2055794de7f3"
      },
      "outputs": [
        {
          "name": "stdout",
          "output_type": "stream",
          "text": [
            "6.508311262991199\n",
            "8.512622101140856\n",
            "Итоговое sMAPE dummy 8.011544391603442\n"
          ]
        }
      ],
      "source": [
        "# черновой этап\n",
        "dummy_rougher = DummyRegressor(strategy='mean').fit(features_train, target_rougher_train)\n",
        "dummy_pred_rougher = dummy_rougher.predict(features_test)\n",
        "dummy_smape_rougher = smape(target_rougher_test, dummy_pred_rougher)\n",
        "print(dummy_smape_rougher)\n",
        "\n",
        "# финальный этап очистки\n",
        "dummy_final = DummyRegressor(strategy='mean').fit(features_train, target_final_train)\n",
        "dummy_pred_final = dummy_final.predict(features_test)\n",
        "dummy_smape_final = smape(target_final_test, dummy_pred_final)\n",
        "print(dummy_smape_final)\n",
        "\n",
        "# итоговый sMAPE\n",
        "total_smape_dummy = smape_final(dummy_smape_rougher, dummy_smape_final)\n",
        "print('Итоговое sMAPE dummy', total_smape_dummy)"
      ]
    },
    {
      "cell_type": "markdown",
      "metadata": {
        "id": "irmooxVxr2zW"
      },
      "source": [
        "Наша модель предсказывает коэффициент в черновом концентрате хуже, чем среднее значение, а в финальном концентрате лучше. "
      ]
    },
    {
      "cell_type": "markdown",
      "metadata": {
        "id": "C3_P8wDdr2zZ"
      },
      "source": [
        "### Выводы: \n",
        "В результате проделанной работы был подготовлен прототип модели машинного обучения для компании «Цифра». Модель предсказывает коэффициент восстановления золота из золотосодержащей руды. Модель поможет оптимизировать производство золотодобывающей компании. <br/>\n",
        "\n",
        "При работе над проектом использовали три датасета, которые предварительно обработали (проверили правильность расчетов и заполнили пропуски). <br/>\n",
        "В процессе <b>анализа данных</b> рассмотрели как меняется концентрация металлов (по отдельности и в сумме) на различных этапах очистки. А также убедились, что распределение размеров гранул сырья в обучающей и тестовой выборке существенно не отличается.<br/>\n",
        "<b>Перед обучением модели</b> была проделана следующая работа:\n",
        " - создана функции для определения качества модели;\n",
        " - добавлены в тестовый датасет недостающие данные из исходного датасета;\n",
        " - разбиты данные тренировочной и тестовой выборки на признаки и целевой признак;\n",
        " - выбрана наилучшая модель машинного обучения.\n",
        " \n",
        "Качество наилучшей модели мы сравнили с базовой моделью (в качестве предсказания использовали среднее значение целевого признака). В результате сравнения обнаружили, что модель предсказывает коэффициент восстановления золота в черновом концентрате хуже чем, базовая модель. Этот вывод огорчает. Необходимо поработать еще над качеством модели.\n"
      ]
    }
  ],
  "metadata": {
    "ExecuteTimeLog": [
      {
        "duration": 60,
        "start_time": "2022-06-27T10:35:12.744Z"
      },
      {
        "duration": 444,
        "start_time": "2022-06-27T10:35:24.807Z"
      },
      {
        "duration": 80,
        "start_time": "2022-06-27T10:36:34.516Z"
      },
      {
        "duration": 8,
        "start_time": "2022-06-27T10:37:07.785Z"
      },
      {
        "duration": 728,
        "start_time": "2022-06-27T10:37:16.850Z"
      },
      {
        "duration": 853,
        "start_time": "2022-06-27T10:45:07.984Z"
      },
      {
        "duration": 152,
        "start_time": "2022-06-27T10:45:55.884Z"
      },
      {
        "duration": 93,
        "start_time": "2022-06-27T10:46:06.263Z"
      },
      {
        "duration": 388,
        "start_time": "2022-06-27T10:48:08.485Z"
      },
      {
        "duration": 25,
        "start_time": "2022-06-27T10:48:49.188Z"
      },
      {
        "duration": 19,
        "start_time": "2022-06-27T10:48:53.543Z"
      },
      {
        "duration": 10,
        "start_time": "2022-06-27T11:33:15.328Z"
      },
      {
        "duration": 50,
        "start_time": "2022-06-27T11:39:37.533Z"
      },
      {
        "duration": 10,
        "start_time": "2022-06-27T11:39:47.542Z"
      },
      {
        "duration": 6,
        "start_time": "2022-06-27T11:40:32.162Z"
      },
      {
        "duration": 22,
        "start_time": "2022-06-27T11:40:37.756Z"
      },
      {
        "duration": 110,
        "start_time": "2022-06-27T11:40:37.940Z"
      },
      {
        "duration": 8,
        "start_time": "2022-06-27T11:46:22.616Z"
      },
      {
        "duration": 13,
        "start_time": "2022-06-27T11:46:33.804Z"
      },
      {
        "duration": 10,
        "start_time": "2022-06-27T11:46:42.310Z"
      },
      {
        "duration": 10,
        "start_time": "2022-06-27T11:47:06.042Z"
      },
      {
        "duration": 7,
        "start_time": "2022-06-27T11:47:09.144Z"
      },
      {
        "duration": 19,
        "start_time": "2022-06-27T11:47:11.748Z"
      },
      {
        "duration": 8,
        "start_time": "2022-06-27T12:21:23.814Z"
      },
      {
        "duration": 725,
        "start_time": "2022-06-27T12:21:43.800Z"
      },
      {
        "duration": 41,
        "start_time": "2022-06-27T12:21:50.888Z"
      },
      {
        "duration": 784,
        "start_time": "2022-06-27T12:22:27.724Z"
      },
      {
        "duration": 5,
        "start_time": "2022-06-27T12:22:52.604Z"
      },
      {
        "duration": 5,
        "start_time": "2022-06-27T12:23:03.111Z"
      },
      {
        "duration": 759,
        "start_time": "2022-06-27T12:23:18.927Z"
      },
      {
        "duration": 382,
        "start_time": "2022-06-27T12:23:45.650Z"
      },
      {
        "duration": 357,
        "start_time": "2022-06-27T12:23:55.061Z"
      },
      {
        "duration": 10,
        "start_time": "2022-06-27T12:24:05.601Z"
      },
      {
        "duration": 7,
        "start_time": "2022-06-27T12:25:13.493Z"
      },
      {
        "duration": 7,
        "start_time": "2022-06-27T12:25:17.529Z"
      },
      {
        "duration": 5,
        "start_time": "2022-06-27T12:25:28.583Z"
      },
      {
        "duration": 1406,
        "start_time": "2022-06-27T12:39:25.739Z"
      },
      {
        "duration": 25,
        "start_time": "2022-06-27T12:41:13.141Z"
      },
      {
        "duration": 20,
        "start_time": "2022-06-27T12:41:32.312Z"
      },
      {
        "duration": 7,
        "start_time": "2022-06-27T12:41:36.997Z"
      },
      {
        "duration": 23,
        "start_time": "2022-06-27T12:41:51.733Z"
      },
      {
        "duration": 6,
        "start_time": "2022-06-27T12:42:01.829Z"
      },
      {
        "duration": 789,
        "start_time": "2022-06-27T12:42:04.521Z"
      },
      {
        "duration": 25,
        "start_time": "2022-06-27T12:42:07.276Z"
      },
      {
        "duration": 29,
        "start_time": "2022-06-27T12:42:17.937Z"
      },
      {
        "duration": 19,
        "start_time": "2022-06-27T12:42:21.069Z"
      },
      {
        "duration": 10,
        "start_time": "2022-06-27T12:42:26.967Z"
      },
      {
        "duration": 6,
        "start_time": "2022-06-27T12:42:44.540Z"
      },
      {
        "duration": 24,
        "start_time": "2022-06-27T12:42:50.750Z"
      },
      {
        "duration": 17,
        "start_time": "2022-06-27T12:44:31.540Z"
      },
      {
        "duration": 6,
        "start_time": "2022-06-27T12:44:34.063Z"
      },
      {
        "duration": 20,
        "start_time": "2022-06-27T12:44:37.091Z"
      },
      {
        "duration": 20,
        "start_time": "2022-06-27T12:44:53.840Z"
      },
      {
        "duration": 19,
        "start_time": "2022-06-27T12:45:42.753Z"
      },
      {
        "duration": 1069,
        "start_time": "2022-06-27T12:45:59.184Z"
      },
      {
        "duration": 807,
        "start_time": "2022-06-27T12:46:00.256Z"
      },
      {
        "duration": 36,
        "start_time": "2022-06-27T12:46:01.065Z"
      },
      {
        "duration": 34,
        "start_time": "2022-06-27T12:46:01.104Z"
      },
      {
        "duration": 33,
        "start_time": "2022-06-27T12:46:01.140Z"
      },
      {
        "duration": 45,
        "start_time": "2022-06-27T12:46:01.174Z"
      },
      {
        "duration": 127,
        "start_time": "2022-06-27T12:46:01.221Z"
      },
      {
        "duration": 0,
        "start_time": "2022-06-27T12:46:01.350Z"
      },
      {
        "duration": 14,
        "start_time": "2022-06-27T12:46:35.614Z"
      },
      {
        "duration": 1134,
        "start_time": "2022-06-27T18:59:23.215Z"
      },
      {
        "duration": 4367,
        "start_time": "2022-06-27T18:59:24.351Z"
      },
      {
        "duration": 29,
        "start_time": "2022-06-27T18:59:30.273Z"
      },
      {
        "duration": 24,
        "start_time": "2022-06-27T18:59:35.419Z"
      },
      {
        "duration": 7,
        "start_time": "2022-06-27T18:59:42.045Z"
      },
      {
        "duration": 17,
        "start_time": "2022-06-27T18:59:44.153Z"
      },
      {
        "duration": 102,
        "start_time": "2022-06-27T18:59:51.858Z"
      },
      {
        "duration": 8,
        "start_time": "2022-06-27T19:04:05.168Z"
      },
      {
        "duration": 5,
        "start_time": "2022-06-27T19:04:19.764Z"
      },
      {
        "duration": 6,
        "start_time": "2022-06-27T19:24:57.217Z"
      },
      {
        "duration": 7,
        "start_time": "2022-06-27T19:24:59.003Z"
      },
      {
        "duration": 7,
        "start_time": "2022-06-27T19:25:03.604Z"
      },
      {
        "duration": 9,
        "start_time": "2022-06-27T19:25:07.592Z"
      },
      {
        "duration": 13,
        "start_time": "2022-06-27T19:25:10.611Z"
      },
      {
        "duration": 50,
        "start_time": "2022-06-28T07:22:37.954Z"
      },
      {
        "duration": 1070,
        "start_time": "2022-06-28T07:22:44.232Z"
      },
      {
        "duration": 1403,
        "start_time": "2022-06-28T07:22:47.453Z"
      },
      {
        "duration": 10,
        "start_time": "2022-06-28T07:22:55.789Z"
      },
      {
        "duration": 13,
        "start_time": "2022-06-28T07:29:22.144Z"
      },
      {
        "duration": 10,
        "start_time": "2022-06-28T07:29:41.543Z"
      },
      {
        "duration": 66,
        "start_time": "2022-06-28T07:30:19.529Z"
      },
      {
        "duration": 8,
        "start_time": "2022-06-28T07:30:48.875Z"
      },
      {
        "duration": 17,
        "start_time": "2022-06-28T07:30:51.971Z"
      },
      {
        "duration": 5,
        "start_time": "2022-06-28T07:30:59.535Z"
      },
      {
        "duration": 6,
        "start_time": "2022-06-28T07:31:18.873Z"
      },
      {
        "duration": 6,
        "start_time": "2022-06-28T07:31:35.285Z"
      },
      {
        "duration": 6,
        "start_time": "2022-06-28T07:33:22.882Z"
      },
      {
        "duration": 63,
        "start_time": "2022-06-28T07:35:51.223Z"
      },
      {
        "duration": 9,
        "start_time": "2022-06-28T07:36:02.795Z"
      },
      {
        "duration": 6,
        "start_time": "2022-06-28T07:36:13.117Z"
      },
      {
        "duration": 5,
        "start_time": "2022-06-28T07:38:34.557Z"
      },
      {
        "duration": 5,
        "start_time": "2022-06-28T07:39:51.515Z"
      },
      {
        "duration": 4,
        "start_time": "2022-06-28T07:40:05.433Z"
      },
      {
        "duration": 9,
        "start_time": "2022-06-28T08:45:04.746Z"
      },
      {
        "duration": 19,
        "start_time": "2022-06-28T08:45:29.160Z"
      },
      {
        "duration": 14,
        "start_time": "2022-06-28T08:45:58.315Z"
      },
      {
        "duration": 35,
        "start_time": "2022-06-28T08:54:57.027Z"
      },
      {
        "duration": 9,
        "start_time": "2022-06-28T08:55:04.631Z"
      },
      {
        "duration": 17,
        "start_time": "2022-06-28T08:58:43.557Z"
      },
      {
        "duration": 25,
        "start_time": "2022-06-28T09:00:28.942Z"
      },
      {
        "duration": 8,
        "start_time": "2022-06-28T09:01:32.198Z"
      },
      {
        "duration": 12,
        "start_time": "2022-06-28T09:01:41.782Z"
      },
      {
        "duration": 22,
        "start_time": "2022-06-28T09:02:51.867Z"
      },
      {
        "duration": 25,
        "start_time": "2022-06-28T09:09:24.608Z"
      },
      {
        "duration": 24,
        "start_time": "2022-06-28T09:09:28.889Z"
      },
      {
        "duration": 11,
        "start_time": "2022-06-28T09:10:32.157Z"
      },
      {
        "duration": 76,
        "start_time": "2022-06-28T09:17:01.379Z"
      },
      {
        "duration": 80,
        "start_time": "2022-06-28T09:17:08.934Z"
      },
      {
        "duration": 52,
        "start_time": "2022-06-28T09:17:26.138Z"
      },
      {
        "duration": 54,
        "start_time": "2022-06-28T10:13:32.219Z"
      },
      {
        "duration": 46,
        "start_time": "2022-06-28T10:13:37.352Z"
      },
      {
        "duration": 50,
        "start_time": "2022-06-28T10:14:05.598Z"
      },
      {
        "duration": 9,
        "start_time": "2022-06-28T10:17:02.330Z"
      },
      {
        "duration": 13,
        "start_time": "2022-06-28T10:17:11.832Z"
      },
      {
        "duration": 20,
        "start_time": "2022-06-28T10:18:15.646Z"
      },
      {
        "duration": 20,
        "start_time": "2022-06-28T10:18:30.503Z"
      },
      {
        "duration": 20,
        "start_time": "2022-06-28T10:18:51.961Z"
      },
      {
        "duration": 17,
        "start_time": "2022-06-28T10:19:18.922Z"
      },
      {
        "duration": 20,
        "start_time": "2022-06-28T10:19:24.717Z"
      },
      {
        "duration": 1109,
        "start_time": "2022-06-28T10:19:48.197Z"
      },
      {
        "duration": 732,
        "start_time": "2022-06-28T10:19:49.308Z"
      },
      {
        "duration": 25,
        "start_time": "2022-06-28T10:19:50.042Z"
      },
      {
        "duration": 25,
        "start_time": "2022-06-28T10:19:50.069Z"
      },
      {
        "duration": 5,
        "start_time": "2022-06-28T10:19:50.095Z"
      },
      {
        "duration": 13,
        "start_time": "2022-06-28T10:19:50.102Z"
      },
      {
        "duration": 8,
        "start_time": "2022-06-28T10:19:50.117Z"
      },
      {
        "duration": 22,
        "start_time": "2022-06-28T10:19:50.126Z"
      },
      {
        "duration": 37,
        "start_time": "2022-06-28T10:19:50.150Z"
      },
      {
        "duration": 855,
        "start_time": "2022-06-28T10:22:54.207Z"
      },
      {
        "duration": 19,
        "start_time": "2022-06-28T10:23:11.803Z"
      },
      {
        "duration": 26,
        "start_time": "2022-06-28T10:23:39.087Z"
      },
      {
        "duration": 26,
        "start_time": "2022-06-28T10:23:52.655Z"
      },
      {
        "duration": 33,
        "start_time": "2022-06-28T10:29:17.399Z"
      },
      {
        "duration": 20,
        "start_time": "2022-06-28T10:30:13.893Z"
      },
      {
        "duration": 106,
        "start_time": "2022-06-28T10:33:08.144Z"
      },
      {
        "duration": 193,
        "start_time": "2022-06-28T10:33:25.212Z"
      },
      {
        "duration": 11,
        "start_time": "2022-06-28T10:34:08.756Z"
      },
      {
        "duration": 418,
        "start_time": "2022-06-28T10:34:20.870Z"
      },
      {
        "duration": 12,
        "start_time": "2022-06-28T10:34:44.720Z"
      },
      {
        "duration": 8,
        "start_time": "2022-06-28T10:39:19.966Z"
      },
      {
        "duration": 12,
        "start_time": "2022-06-28T10:39:36.152Z"
      },
      {
        "duration": 10,
        "start_time": "2022-06-28T10:40:22.489Z"
      },
      {
        "duration": 405,
        "start_time": "2022-06-28T10:41:29.693Z"
      },
      {
        "duration": 9,
        "start_time": "2022-06-28T10:41:52.405Z"
      },
      {
        "duration": 15,
        "start_time": "2022-06-28T10:42:45.828Z"
      },
      {
        "duration": 14,
        "start_time": "2022-06-28T10:43:01.903Z"
      },
      {
        "duration": 9,
        "start_time": "2022-06-28T10:45:41.231Z"
      },
      {
        "duration": 10,
        "start_time": "2022-06-28T10:46:18.713Z"
      },
      {
        "duration": 13,
        "start_time": "2022-06-28T10:47:00.351Z"
      },
      {
        "duration": 26,
        "start_time": "2022-06-28T10:47:33.927Z"
      },
      {
        "duration": 1015,
        "start_time": "2022-06-28T15:31:56.320Z"
      },
      {
        "duration": 1137,
        "start_time": "2022-06-28T15:31:57.337Z"
      },
      {
        "duration": 20,
        "start_time": "2022-06-28T15:31:58.476Z"
      },
      {
        "duration": 25,
        "start_time": "2022-06-28T15:31:58.498Z"
      },
      {
        "duration": 5,
        "start_time": "2022-06-28T15:31:58.525Z"
      },
      {
        "duration": 9,
        "start_time": "2022-06-28T15:31:58.532Z"
      },
      {
        "duration": 7,
        "start_time": "2022-06-28T15:31:58.542Z"
      },
      {
        "duration": 8,
        "start_time": "2022-06-28T15:31:58.568Z"
      },
      {
        "duration": 24,
        "start_time": "2022-06-28T15:31:58.577Z"
      },
      {
        "duration": 229,
        "start_time": "2022-06-28T15:31:58.603Z"
      },
      {
        "duration": 11,
        "start_time": "2022-06-28T15:31:58.834Z"
      },
      {
        "duration": 25,
        "start_time": "2022-06-28T15:31:58.847Z"
      },
      {
        "duration": 10,
        "start_time": "2022-06-28T15:31:58.874Z"
      },
      {
        "duration": 52,
        "start_time": "2022-06-28T15:31:58.886Z"
      },
      {
        "duration": 16,
        "start_time": "2022-06-28T15:31:58.940Z"
      },
      {
        "duration": 1034,
        "start_time": "2022-06-28T17:59:50.773Z"
      },
      {
        "duration": 1200,
        "start_time": "2022-06-28T17:59:51.809Z"
      },
      {
        "duration": 23,
        "start_time": "2022-06-28T17:59:53.012Z"
      },
      {
        "duration": 36,
        "start_time": "2022-06-28T17:59:53.037Z"
      },
      {
        "duration": 6,
        "start_time": "2022-06-28T17:59:53.075Z"
      },
      {
        "duration": 15,
        "start_time": "2022-06-28T17:59:53.083Z"
      },
      {
        "duration": 21,
        "start_time": "2022-06-28T17:59:53.100Z"
      },
      {
        "duration": 22,
        "start_time": "2022-06-28T17:59:53.123Z"
      },
      {
        "duration": 24,
        "start_time": "2022-06-28T17:59:53.146Z"
      },
      {
        "duration": 209,
        "start_time": "2022-06-28T17:59:53.173Z"
      },
      {
        "duration": 10,
        "start_time": "2022-06-28T17:59:53.383Z"
      },
      {
        "duration": 17,
        "start_time": "2022-06-28T17:59:53.395Z"
      },
      {
        "duration": 8,
        "start_time": "2022-06-28T17:59:53.414Z"
      },
      {
        "duration": 35,
        "start_time": "2022-06-28T17:59:53.424Z"
      },
      {
        "duration": 13,
        "start_time": "2022-06-28T17:59:53.460Z"
      },
      {
        "duration": 26,
        "start_time": "2022-06-28T17:59:57.622Z"
      },
      {
        "duration": 95,
        "start_time": "2022-06-28T18:15:15.114Z"
      },
      {
        "duration": 385,
        "start_time": "2022-06-28T18:15:49.405Z"
      },
      {
        "duration": 688,
        "start_time": "2022-06-28T18:15:57.509Z"
      },
      {
        "duration": 53,
        "start_time": "2022-06-28T18:17:06.218Z"
      },
      {
        "duration": 3538,
        "start_time": "2022-06-28T18:17:13.648Z"
      },
      {
        "duration": 3786,
        "start_time": "2022-06-28T18:17:49.847Z"
      },
      {
        "duration": 3,
        "start_time": "2022-06-28T18:20:26.786Z"
      },
      {
        "duration": 3354,
        "start_time": "2022-06-28T18:20:32.014Z"
      },
      {
        "duration": 849,
        "start_time": "2022-06-28T18:22:56.150Z"
      },
      {
        "duration": 6,
        "start_time": "2022-06-28T18:27:03.045Z"
      },
      {
        "duration": 9,
        "start_time": "2022-06-28T18:30:53.117Z"
      },
      {
        "duration": 1232,
        "start_time": "2022-06-28T18:31:12.889Z"
      },
      {
        "duration": 762,
        "start_time": "2022-06-28T18:31:14.123Z"
      },
      {
        "duration": 15,
        "start_time": "2022-06-28T18:31:14.887Z"
      },
      {
        "duration": 28,
        "start_time": "2022-06-28T18:31:14.904Z"
      },
      {
        "duration": 4,
        "start_time": "2022-06-28T18:31:14.935Z"
      },
      {
        "duration": 6,
        "start_time": "2022-06-28T18:31:14.959Z"
      },
      {
        "duration": 6,
        "start_time": "2022-06-28T18:31:14.967Z"
      },
      {
        "duration": 273,
        "start_time": "2022-06-28T18:31:14.975Z"
      },
      {
        "duration": 13,
        "start_time": "2022-06-28T18:31:15.249Z"
      },
      {
        "duration": 110,
        "start_time": "2022-06-28T18:31:15.263Z"
      },
      {
        "duration": 0,
        "start_time": "2022-06-28T18:31:15.375Z"
      },
      {
        "duration": 0,
        "start_time": "2022-06-28T18:31:15.376Z"
      },
      {
        "duration": 0,
        "start_time": "2022-06-28T18:31:15.377Z"
      },
      {
        "duration": 0,
        "start_time": "2022-06-28T18:31:15.379Z"
      },
      {
        "duration": 0,
        "start_time": "2022-06-28T18:31:15.380Z"
      },
      {
        "duration": 16,
        "start_time": "2022-06-28T18:31:53.108Z"
      },
      {
        "duration": 10,
        "start_time": "2022-06-28T18:32:20.891Z"
      },
      {
        "duration": 7,
        "start_time": "2022-06-28T18:32:22.929Z"
      },
      {
        "duration": 14,
        "start_time": "2022-06-28T18:32:33.024Z"
      },
      {
        "duration": 23,
        "start_time": "2022-06-28T18:32:41.106Z"
      },
      {
        "duration": 9241,
        "start_time": "2022-06-28T18:32:45.008Z"
      },
      {
        "duration": 9113,
        "start_time": "2022-06-28T19:01:06.270Z"
      },
      {
        "duration": 49,
        "start_time": "2022-06-28T19:01:55.993Z"
      },
      {
        "duration": 67,
        "start_time": "2022-06-28T19:02:04.053Z"
      },
      {
        "duration": 10,
        "start_time": "2022-06-28T19:02:48.275Z"
      },
      {
        "duration": 500,
        "start_time": "2022-06-28T19:02:57.573Z"
      },
      {
        "duration": 10,
        "start_time": "2022-06-28T19:07:05.774Z"
      },
      {
        "duration": 9,
        "start_time": "2022-06-28T19:09:21.674Z"
      },
      {
        "duration": 17,
        "start_time": "2022-06-28T19:10:07.504Z"
      },
      {
        "duration": 1448,
        "start_time": "2022-06-28T19:10:38.181Z"
      },
      {
        "duration": 1322,
        "start_time": "2022-06-28T19:11:00.299Z"
      },
      {
        "duration": 51,
        "start_time": "2022-06-28T19:12:17.563Z"
      },
      {
        "duration": 15,
        "start_time": "2022-06-28T19:22:33.034Z"
      },
      {
        "duration": 1429,
        "start_time": "2022-06-28T19:23:00.466Z"
      },
      {
        "duration": 1334,
        "start_time": "2022-06-28T19:23:08.776Z"
      },
      {
        "duration": 1450,
        "start_time": "2022-06-29T08:56:10.398Z"
      },
      {
        "duration": 1130,
        "start_time": "2022-06-29T08:56:11.850Z"
      },
      {
        "duration": 16,
        "start_time": "2022-06-29T08:56:12.982Z"
      },
      {
        "duration": 23,
        "start_time": "2022-06-29T08:56:13.000Z"
      },
      {
        "duration": 6,
        "start_time": "2022-06-29T08:56:13.025Z"
      },
      {
        "duration": 11,
        "start_time": "2022-06-29T08:56:13.052Z"
      },
      {
        "duration": 8,
        "start_time": "2022-06-29T08:56:13.064Z"
      },
      {
        "duration": 266,
        "start_time": "2022-06-29T08:56:13.073Z"
      },
      {
        "duration": 13,
        "start_time": "2022-06-29T08:56:13.341Z"
      },
      {
        "duration": 14,
        "start_time": "2022-06-29T08:56:13.356Z"
      },
      {
        "duration": 6,
        "start_time": "2022-06-29T08:56:13.371Z"
      },
      {
        "duration": 10,
        "start_time": "2022-06-29T08:56:13.379Z"
      },
      {
        "duration": 9,
        "start_time": "2022-06-29T08:56:13.391Z"
      },
      {
        "duration": 53,
        "start_time": "2022-06-29T08:56:13.402Z"
      },
      {
        "duration": 9635,
        "start_time": "2022-06-29T08:56:13.457Z"
      },
      {
        "duration": 9482,
        "start_time": "2022-06-29T08:56:23.094Z"
      },
      {
        "duration": 598,
        "start_time": "2022-06-29T08:56:32.578Z"
      },
      {
        "duration": 8,
        "start_time": "2022-06-29T08:56:33.178Z"
      },
      {
        "duration": 1594,
        "start_time": "2022-06-29T08:56:33.188Z"
      },
      {
        "duration": 38,
        "start_time": "2022-06-29T08:56:34.783Z"
      },
      {
        "duration": 1333,
        "start_time": "2022-06-29T08:56:34.822Z"
      },
      {
        "duration": 5,
        "start_time": "2022-06-29T09:14:14.037Z"
      },
      {
        "duration": 5,
        "start_time": "2022-06-29T09:15:13.822Z"
      },
      {
        "duration": 97,
        "start_time": "2022-06-29T09:26:18.776Z"
      },
      {
        "duration": 9,
        "start_time": "2022-06-29T09:26:24.654Z"
      },
      {
        "duration": 9,
        "start_time": "2022-06-29T09:26:32.293Z"
      },
      {
        "duration": 9,
        "start_time": "2022-06-29T09:28:00.895Z"
      },
      {
        "duration": 8,
        "start_time": "2022-06-29T09:28:41.746Z"
      },
      {
        "duration": 8,
        "start_time": "2022-06-29T09:32:41.742Z"
      },
      {
        "duration": 3,
        "start_time": "2022-06-29T09:39:54.523Z"
      },
      {
        "duration": 11,
        "start_time": "2022-06-29T09:58:01.265Z"
      },
      {
        "duration": 3,
        "start_time": "2022-06-29T09:58:44.413Z"
      },
      {
        "duration": 11,
        "start_time": "2022-06-29T10:00:26.940Z"
      },
      {
        "duration": 9,
        "start_time": "2022-06-29T10:05:42.560Z"
      },
      {
        "duration": 12,
        "start_time": "2022-06-29T10:12:13.612Z"
      },
      {
        "duration": 10,
        "start_time": "2022-06-29T10:18:58.739Z"
      },
      {
        "duration": 19,
        "start_time": "2022-06-29T10:19:15.879Z"
      },
      {
        "duration": 30,
        "start_time": "2022-06-29T10:19:46.168Z"
      },
      {
        "duration": 21,
        "start_time": "2022-06-29T10:26:12.418Z"
      },
      {
        "duration": 1625,
        "start_time": "2022-06-29T10:26:44.736Z"
      },
      {
        "duration": 23,
        "start_time": "2022-06-29T10:35:31.683Z"
      },
      {
        "duration": 10,
        "start_time": "2022-06-29T10:35:47.419Z"
      },
      {
        "duration": 13,
        "start_time": "2022-06-29T10:36:01.343Z"
      },
      {
        "duration": 12,
        "start_time": "2022-06-29T10:36:09.150Z"
      },
      {
        "duration": 1357,
        "start_time": "2022-06-29T10:37:33.967Z"
      },
      {
        "duration": 12,
        "start_time": "2022-06-29T10:37:46.907Z"
      },
      {
        "duration": 14,
        "start_time": "2022-06-29T10:42:34.615Z"
      },
      {
        "duration": 42,
        "start_time": "2022-06-29T10:42:50.510Z"
      },
      {
        "duration": 10,
        "start_time": "2022-06-29T10:46:24.380Z"
      },
      {
        "duration": 11,
        "start_time": "2022-06-29T10:46:44.834Z"
      },
      {
        "duration": 55,
        "start_time": "2022-06-29T10:53:21.812Z"
      },
      {
        "duration": 5,
        "start_time": "2022-06-29T10:54:03.897Z"
      },
      {
        "duration": 818,
        "start_time": "2022-06-29T10:54:35.416Z"
      },
      {
        "duration": 1009,
        "start_time": "2022-06-29T10:55:03.924Z"
      },
      {
        "duration": 41,
        "start_time": "2022-06-29T10:55:47.389Z"
      },
      {
        "duration": 50,
        "start_time": "2022-06-29T10:58:00.594Z"
      },
      {
        "duration": 15,
        "start_time": "2022-06-29T10:58:28.095Z"
      },
      {
        "duration": 22,
        "start_time": "2022-06-29T11:00:50.474Z"
      },
      {
        "duration": 31,
        "start_time": "2022-06-29T11:01:23.288Z"
      },
      {
        "duration": 1309,
        "start_time": "2022-06-29T11:01:56.291Z"
      },
      {
        "duration": 755,
        "start_time": "2022-06-29T11:01:57.602Z"
      },
      {
        "duration": 12,
        "start_time": "2022-06-29T11:01:58.358Z"
      },
      {
        "duration": 25,
        "start_time": "2022-06-29T11:01:58.372Z"
      },
      {
        "duration": 5,
        "start_time": "2022-06-29T11:01:58.399Z"
      },
      {
        "duration": 13,
        "start_time": "2022-06-29T11:01:58.406Z"
      },
      {
        "duration": 15,
        "start_time": "2022-06-29T11:01:58.421Z"
      },
      {
        "duration": 272,
        "start_time": "2022-06-29T11:01:58.438Z"
      },
      {
        "duration": 9,
        "start_time": "2022-06-29T11:01:58.712Z"
      },
      {
        "duration": 32,
        "start_time": "2022-06-29T11:01:58.724Z"
      },
      {
        "duration": 7,
        "start_time": "2022-06-29T11:01:58.758Z"
      },
      {
        "duration": 14,
        "start_time": "2022-06-29T11:01:58.766Z"
      },
      {
        "duration": 12,
        "start_time": "2022-06-29T11:01:58.781Z"
      },
      {
        "duration": 25,
        "start_time": "2022-06-29T11:01:58.794Z"
      },
      {
        "duration": 9739,
        "start_time": "2022-06-29T11:01:58.821Z"
      },
      {
        "duration": 9600,
        "start_time": "2022-06-29T11:02:08.562Z"
      },
      {
        "duration": 605,
        "start_time": "2022-06-29T11:02:18.164Z"
      },
      {
        "duration": 9,
        "start_time": "2022-06-29T11:02:18.771Z"
      },
      {
        "duration": 1556,
        "start_time": "2022-06-29T11:02:18.782Z"
      },
      {
        "duration": 38,
        "start_time": "2022-06-29T11:02:20.340Z"
      },
      {
        "duration": 1369,
        "start_time": "2022-06-29T11:02:20.379Z"
      },
      {
        "duration": 5,
        "start_time": "2022-06-29T11:02:21.749Z"
      },
      {
        "duration": 16,
        "start_time": "2022-06-29T11:02:21.755Z"
      },
      {
        "duration": 10,
        "start_time": "2022-06-29T11:02:21.772Z"
      },
      {
        "duration": 29,
        "start_time": "2022-06-29T11:02:21.783Z"
      },
      {
        "duration": 57,
        "start_time": "2022-06-29T11:02:21.815Z"
      },
      {
        "duration": 55,
        "start_time": "2022-06-29T11:38:54.624Z"
      },
      {
        "duration": 9,
        "start_time": "2022-06-29T11:39:26.424Z"
      },
      {
        "duration": 138,
        "start_time": "2022-06-29T11:39:41.754Z"
      },
      {
        "duration": 1477,
        "start_time": "2022-06-29T11:39:55.173Z"
      },
      {
        "duration": 775,
        "start_time": "2022-06-29T11:39:56.655Z"
      },
      {
        "duration": 35,
        "start_time": "2022-06-29T11:39:57.432Z"
      },
      {
        "duration": 28,
        "start_time": "2022-06-29T11:39:57.472Z"
      },
      {
        "duration": 7,
        "start_time": "2022-06-29T11:39:57.501Z"
      },
      {
        "duration": 14,
        "start_time": "2022-06-29T11:39:57.511Z"
      },
      {
        "duration": 8,
        "start_time": "2022-06-29T11:39:57.527Z"
      },
      {
        "duration": 302,
        "start_time": "2022-06-29T11:39:57.537Z"
      },
      {
        "duration": 29,
        "start_time": "2022-06-29T11:39:57.841Z"
      },
      {
        "duration": 22,
        "start_time": "2022-06-29T11:39:57.873Z"
      },
      {
        "duration": 8,
        "start_time": "2022-06-29T11:39:57.896Z"
      },
      {
        "duration": 15,
        "start_time": "2022-06-29T11:39:57.906Z"
      },
      {
        "duration": 43,
        "start_time": "2022-06-29T11:39:57.924Z"
      },
      {
        "duration": 32,
        "start_time": "2022-06-29T11:39:57.972Z"
      },
      {
        "duration": 9986,
        "start_time": "2022-06-29T11:39:58.007Z"
      },
      {
        "duration": 9599,
        "start_time": "2022-06-29T11:40:07.995Z"
      },
      {
        "duration": 619,
        "start_time": "2022-06-29T11:40:17.596Z"
      },
      {
        "duration": 11,
        "start_time": "2022-06-29T11:40:18.216Z"
      },
      {
        "duration": 1576,
        "start_time": "2022-06-29T11:40:18.229Z"
      },
      {
        "duration": 70,
        "start_time": "2022-06-29T11:40:19.806Z"
      },
      {
        "duration": 1397,
        "start_time": "2022-06-29T11:40:19.878Z"
      },
      {
        "duration": 6,
        "start_time": "2022-06-29T11:40:21.277Z"
      },
      {
        "duration": 24,
        "start_time": "2022-06-29T11:40:21.285Z"
      },
      {
        "duration": 33,
        "start_time": "2022-06-29T11:40:21.311Z"
      },
      {
        "duration": 89,
        "start_time": "2022-06-29T11:40:21.346Z"
      },
      {
        "duration": 500,
        "start_time": "2022-06-29T11:40:21.437Z"
      },
      {
        "duration": 10,
        "start_time": "2022-06-29T12:01:53.497Z"
      },
      {
        "duration": 4,
        "start_time": "2022-06-29T12:03:15.566Z"
      },
      {
        "duration": 1672,
        "start_time": "2022-06-29T12:03:22.388Z"
      },
      {
        "duration": 1341,
        "start_time": "2022-06-29T12:03:36.928Z"
      },
      {
        "duration": 1657,
        "start_time": "2022-06-29T12:03:46.305Z"
      },
      {
        "duration": 106,
        "start_time": "2022-06-29T12:06:37.436Z"
      },
      {
        "duration": 1585,
        "start_time": "2022-06-29T12:06:45.985Z"
      },
      {
        "duration": 3488,
        "start_time": "2022-06-29T12:08:12.665Z"
      },
      {
        "duration": 3383,
        "start_time": "2022-06-29T12:11:20.487Z"
      },
      {
        "duration": 4,
        "start_time": "2022-06-29T12:32:01.303Z"
      },
      {
        "duration": 4,
        "start_time": "2022-06-29T12:36:44.472Z"
      },
      {
        "duration": 755,
        "start_time": "2022-06-29T12:36:44.478Z"
      },
      {
        "duration": 30,
        "start_time": "2022-06-29T12:36:45.236Z"
      },
      {
        "duration": 21,
        "start_time": "2022-06-29T12:36:45.268Z"
      },
      {
        "duration": 6,
        "start_time": "2022-06-29T12:36:45.291Z"
      },
      {
        "duration": 14,
        "start_time": "2022-06-29T12:36:45.299Z"
      },
      {
        "duration": 9,
        "start_time": "2022-06-29T12:36:45.316Z"
      },
      {
        "duration": 297,
        "start_time": "2022-06-29T12:36:45.327Z"
      },
      {
        "duration": 39,
        "start_time": "2022-06-29T12:36:45.627Z"
      },
      {
        "duration": 16,
        "start_time": "2022-06-29T12:36:45.668Z"
      },
      {
        "duration": 7,
        "start_time": "2022-06-29T12:36:45.686Z"
      },
      {
        "duration": 16,
        "start_time": "2022-06-29T12:36:45.694Z"
      },
      {
        "duration": 53,
        "start_time": "2022-06-29T12:36:45.712Z"
      },
      {
        "duration": 20,
        "start_time": "2022-06-29T12:36:45.767Z"
      },
      {
        "duration": 10074,
        "start_time": "2022-06-29T12:36:45.789Z"
      },
      {
        "duration": 10625,
        "start_time": "2022-06-29T12:36:55.865Z"
      },
      {
        "duration": 718,
        "start_time": "2022-06-29T12:37:06.492Z"
      },
      {
        "duration": 8,
        "start_time": "2022-06-29T12:37:07.212Z"
      },
      {
        "duration": 1358,
        "start_time": "2022-06-29T12:37:07.221Z"
      },
      {
        "duration": 40,
        "start_time": "2022-06-29T12:37:08.581Z"
      },
      {
        "duration": 1322,
        "start_time": "2022-06-29T12:37:08.623Z"
      },
      {
        "duration": 13,
        "start_time": "2022-06-29T12:37:09.952Z"
      },
      {
        "duration": 9,
        "start_time": "2022-06-29T12:37:09.967Z"
      },
      {
        "duration": 16,
        "start_time": "2022-06-29T12:37:09.979Z"
      },
      {
        "duration": 66,
        "start_time": "2022-06-29T12:37:09.996Z"
      },
      {
        "duration": 4204,
        "start_time": "2022-06-29T12:37:10.064Z"
      },
      {
        "duration": 11,
        "start_time": "2022-06-29T12:39:07.288Z"
      },
      {
        "duration": 12,
        "start_time": "2022-06-29T12:39:53.739Z"
      },
      {
        "duration": 5,
        "start_time": "2022-06-29T12:40:00.603Z"
      },
      {
        "duration": 4,
        "start_time": "2022-06-29T12:40:03.179Z"
      },
      {
        "duration": 542,
        "start_time": "2022-06-29T12:40:10.469Z"
      },
      {
        "duration": 593,
        "start_time": "2022-06-29T12:42:23.284Z"
      },
      {
        "duration": 1662,
        "start_time": "2022-06-29T12:42:35.850Z"
      },
      {
        "duration": 878,
        "start_time": "2022-06-29T12:42:37.515Z"
      },
      {
        "duration": 17,
        "start_time": "2022-06-29T12:42:38.395Z"
      },
      {
        "duration": 46,
        "start_time": "2022-06-29T12:42:38.413Z"
      },
      {
        "duration": 12,
        "start_time": "2022-06-29T12:42:38.473Z"
      },
      {
        "duration": 10,
        "start_time": "2022-06-29T12:42:38.487Z"
      },
      {
        "duration": 17,
        "start_time": "2022-06-29T12:42:38.499Z"
      },
      {
        "duration": 293,
        "start_time": "2022-06-29T12:42:38.517Z"
      },
      {
        "duration": 9,
        "start_time": "2022-06-29T12:42:38.812Z"
      },
      {
        "duration": 16,
        "start_time": "2022-06-29T12:42:38.822Z"
      },
      {
        "duration": 24,
        "start_time": "2022-06-29T12:42:38.852Z"
      },
      {
        "duration": 17,
        "start_time": "2022-06-29T12:42:38.879Z"
      },
      {
        "duration": 13,
        "start_time": "2022-06-29T12:42:38.898Z"
      },
      {
        "duration": 25,
        "start_time": "2022-06-29T12:42:38.913Z"
      },
      {
        "duration": 10201,
        "start_time": "2022-06-29T12:42:38.960Z"
      },
      {
        "duration": 10160,
        "start_time": "2022-06-29T12:42:49.166Z"
      },
      {
        "duration": 589,
        "start_time": "2022-06-29T12:42:59.327Z"
      },
      {
        "duration": 9,
        "start_time": "2022-06-29T12:42:59.918Z"
      },
      {
        "duration": 1638,
        "start_time": "2022-06-29T12:42:59.928Z"
      },
      {
        "duration": 51,
        "start_time": "2022-06-29T12:43:01.570Z"
      },
      {
        "duration": 1570,
        "start_time": "2022-06-29T12:43:01.624Z"
      },
      {
        "duration": 7,
        "start_time": "2022-06-29T12:43:03.200Z"
      },
      {
        "duration": 35,
        "start_time": "2022-06-29T12:43:03.210Z"
      },
      {
        "duration": 50,
        "start_time": "2022-06-29T12:43:03.247Z"
      },
      {
        "duration": 78,
        "start_time": "2022-06-29T12:43:03.299Z"
      },
      {
        "duration": 7397,
        "start_time": "2022-06-29T12:43:03.383Z"
      },
      {
        "duration": 742,
        "start_time": "2022-06-29T12:43:10.790Z"
      },
      {
        "duration": 2832,
        "start_time": "2022-06-29T13:23:43.225Z"
      },
      {
        "duration": 11,
        "start_time": "2022-06-29T13:39:04.326Z"
      },
      {
        "duration": 4,
        "start_time": "2022-06-29T13:40:20.662Z"
      },
      {
        "duration": 66179,
        "start_time": "2022-06-29T13:40:50.385Z"
      },
      {
        "duration": 858,
        "start_time": "2022-06-29T17:43:51.177Z"
      },
      {
        "duration": 44717,
        "start_time": "2022-06-29T17:45:54.743Z"
      },
      {
        "duration": 1133,
        "start_time": "2022-06-29T17:47:02.995Z"
      },
      {
        "duration": 44111,
        "start_time": "2022-06-29T17:48:28.908Z"
      },
      {
        "duration": 594,
        "start_time": "2022-06-29T17:49:18.991Z"
      },
      {
        "duration": 3233,
        "start_time": "2022-06-29T17:51:16.836Z"
      },
      {
        "duration": 883,
        "start_time": "2022-06-29T17:51:36.298Z"
      },
      {
        "duration": 1359,
        "start_time": "2022-06-29T17:51:43.067Z"
      },
      {
        "duration": 1826,
        "start_time": "2022-06-29T17:51:58.001Z"
      },
      {
        "duration": 594,
        "start_time": "2022-06-29T17:52:05.776Z"
      },
      {
        "duration": 1758,
        "start_time": "2022-06-29T17:52:13.631Z"
      },
      {
        "duration": 598,
        "start_time": "2022-06-29T17:52:22.736Z"
      },
      {
        "duration": 4,
        "start_time": "2022-06-29T17:53:06.168Z"
      },
      {
        "duration": 586,
        "start_time": "2022-06-29T17:55:51.630Z"
      },
      {
        "duration": 8,
        "start_time": "2022-06-29T17:56:21.936Z"
      },
      {
        "duration": 11,
        "start_time": "2022-06-29T17:56:35.403Z"
      },
      {
        "duration": 10,
        "start_time": "2022-06-29T17:56:43.579Z"
      },
      {
        "duration": 1447,
        "start_time": "2022-06-29T17:57:37.092Z"
      },
      {
        "duration": 756,
        "start_time": "2022-06-29T17:57:38.541Z"
      },
      {
        "duration": 15,
        "start_time": "2022-06-29T17:57:39.298Z"
      },
      {
        "duration": 40,
        "start_time": "2022-06-29T17:57:39.316Z"
      },
      {
        "duration": 6,
        "start_time": "2022-06-29T17:57:39.358Z"
      },
      {
        "duration": 11,
        "start_time": "2022-06-29T17:57:39.366Z"
      },
      {
        "duration": 8,
        "start_time": "2022-06-29T17:57:39.379Z"
      },
      {
        "duration": 263,
        "start_time": "2022-06-29T17:57:39.389Z"
      },
      {
        "duration": 9,
        "start_time": "2022-06-29T17:57:39.654Z"
      },
      {
        "duration": 16,
        "start_time": "2022-06-29T17:57:39.666Z"
      },
      {
        "duration": 6,
        "start_time": "2022-06-29T17:57:39.684Z"
      },
      {
        "duration": 13,
        "start_time": "2022-06-29T17:57:39.692Z"
      },
      {
        "duration": 10,
        "start_time": "2022-06-29T17:57:39.706Z"
      },
      {
        "duration": 53,
        "start_time": "2022-06-29T17:57:39.718Z"
      },
      {
        "duration": 9321,
        "start_time": "2022-06-29T17:57:39.772Z"
      },
      {
        "duration": 9353,
        "start_time": "2022-06-29T17:57:49.095Z"
      },
      {
        "duration": 532,
        "start_time": "2022-06-29T17:57:58.450Z"
      },
      {
        "duration": 9,
        "start_time": "2022-06-29T17:57:58.984Z"
      },
      {
        "duration": 1562,
        "start_time": "2022-06-29T17:57:58.995Z"
      },
      {
        "duration": 36,
        "start_time": "2022-06-29T17:58:00.558Z"
      },
      {
        "duration": 1336,
        "start_time": "2022-06-29T17:58:00.596Z"
      },
      {
        "duration": 4,
        "start_time": "2022-06-29T17:58:01.933Z"
      },
      {
        "duration": 37,
        "start_time": "2022-06-29T17:58:01.938Z"
      },
      {
        "duration": 40,
        "start_time": "2022-06-29T17:58:01.977Z"
      },
      {
        "duration": 68,
        "start_time": "2022-06-29T17:58:02.019Z"
      },
      {
        "duration": 2272,
        "start_time": "2022-06-29T17:58:02.089Z"
      },
      {
        "duration": 43430,
        "start_time": "2022-06-29T17:58:04.453Z"
      },
      {
        "duration": 1099,
        "start_time": "2022-06-29T17:58:47.886Z"
      },
      {
        "duration": 43044,
        "start_time": "2022-06-29T17:58:48.987Z"
      },
      {
        "duration": 613,
        "start_time": "2022-06-29T17:59:32.033Z"
      },
      {
        "duration": 5,
        "start_time": "2022-06-29T17:59:32.648Z"
      },
      {
        "duration": 4,
        "start_time": "2022-06-29T18:06:33.317Z"
      },
      {
        "duration": 4208,
        "start_time": "2022-06-29T18:08:57.091Z"
      },
      {
        "duration": 1419,
        "start_time": "2022-06-29T18:22:08.926Z"
      },
      {
        "duration": 742,
        "start_time": "2022-06-29T18:22:10.347Z"
      },
      {
        "duration": 14,
        "start_time": "2022-06-29T18:22:11.091Z"
      },
      {
        "duration": 23,
        "start_time": "2022-06-29T18:22:11.107Z"
      },
      {
        "duration": 22,
        "start_time": "2022-06-29T18:22:11.131Z"
      },
      {
        "duration": 7,
        "start_time": "2022-06-29T18:22:11.154Z"
      },
      {
        "duration": 6,
        "start_time": "2022-06-29T18:22:11.163Z"
      },
      {
        "duration": 272,
        "start_time": "2022-06-29T18:22:11.171Z"
      },
      {
        "duration": 11,
        "start_time": "2022-06-29T18:22:11.445Z"
      },
      {
        "duration": 18,
        "start_time": "2022-06-29T18:22:11.459Z"
      },
      {
        "duration": 6,
        "start_time": "2022-06-29T18:22:11.479Z"
      },
      {
        "duration": 11,
        "start_time": "2022-06-29T18:22:11.487Z"
      },
      {
        "duration": 10,
        "start_time": "2022-06-29T18:22:11.499Z"
      },
      {
        "duration": 57,
        "start_time": "2022-06-29T18:22:11.512Z"
      },
      {
        "duration": 10105,
        "start_time": "2022-06-29T18:22:11.571Z"
      },
      {
        "duration": 9177,
        "start_time": "2022-06-29T18:22:21.678Z"
      },
      {
        "duration": 514,
        "start_time": "2022-06-29T18:22:30.857Z"
      },
      {
        "duration": 9,
        "start_time": "2022-06-29T18:22:31.372Z"
      },
      {
        "duration": 1588,
        "start_time": "2022-06-29T18:22:31.383Z"
      },
      {
        "duration": 37,
        "start_time": "2022-06-29T18:22:32.972Z"
      },
      {
        "duration": 1323,
        "start_time": "2022-06-29T18:22:33.011Z"
      },
      {
        "duration": 4,
        "start_time": "2022-06-29T18:22:34.336Z"
      },
      {
        "duration": 19,
        "start_time": "2022-06-29T18:22:34.341Z"
      },
      {
        "duration": 17,
        "start_time": "2022-06-29T18:22:34.362Z"
      },
      {
        "duration": 58,
        "start_time": "2022-06-29T18:22:34.380Z"
      },
      {
        "duration": 2713,
        "start_time": "2022-06-29T18:22:34.439Z"
      },
      {
        "duration": 43572,
        "start_time": "2022-06-29T18:22:37.155Z"
      },
      {
        "duration": 1063,
        "start_time": "2022-06-29T18:23:20.730Z"
      },
      {
        "duration": 4,
        "start_time": "2022-06-29T19:07:16.547Z"
      },
      {
        "duration": 717,
        "start_time": "2022-06-29T19:07:16.554Z"
      },
      {
        "duration": 11,
        "start_time": "2022-06-29T19:07:17.273Z"
      },
      {
        "duration": 18,
        "start_time": "2022-06-29T19:07:17.286Z"
      },
      {
        "duration": 5,
        "start_time": "2022-06-29T19:07:17.306Z"
      },
      {
        "duration": 11,
        "start_time": "2022-06-29T19:07:17.313Z"
      },
      {
        "duration": 36,
        "start_time": "2022-06-29T19:07:17.326Z"
      },
      {
        "duration": 378,
        "start_time": "2022-06-29T19:07:17.364Z"
      },
      {
        "duration": 10,
        "start_time": "2022-06-29T19:07:17.744Z"
      },
      {
        "duration": 60,
        "start_time": "2022-06-29T19:07:17.756Z"
      },
      {
        "duration": 7,
        "start_time": "2022-06-29T19:07:17.819Z"
      },
      {
        "duration": 15,
        "start_time": "2022-06-29T19:07:17.828Z"
      },
      {
        "duration": 17,
        "start_time": "2022-06-29T19:07:17.845Z"
      },
      {
        "duration": 59,
        "start_time": "2022-06-29T19:07:17.864Z"
      },
      {
        "duration": 9174,
        "start_time": "2022-06-29T19:07:17.925Z"
      },
      {
        "duration": 9179,
        "start_time": "2022-06-29T19:07:27.101Z"
      },
      {
        "duration": 587,
        "start_time": "2022-06-29T19:07:36.282Z"
      },
      {
        "duration": 12,
        "start_time": "2022-06-29T19:07:36.871Z"
      },
      {
        "duration": 1590,
        "start_time": "2022-06-29T19:07:36.885Z"
      },
      {
        "duration": 43,
        "start_time": "2022-06-29T19:07:38.477Z"
      },
      {
        "duration": 1511,
        "start_time": "2022-06-29T19:07:38.522Z"
      },
      {
        "duration": 4,
        "start_time": "2022-06-29T19:07:40.035Z"
      },
      {
        "duration": 20,
        "start_time": "2022-06-29T19:07:40.041Z"
      },
      {
        "duration": 17,
        "start_time": "2022-06-29T19:07:40.064Z"
      },
      {
        "duration": 77,
        "start_time": "2022-06-29T19:07:40.083Z"
      },
      {
        "duration": 3090,
        "start_time": "2022-06-29T19:07:40.163Z"
      },
      {
        "duration": 42891,
        "start_time": "2022-06-29T19:07:43.255Z"
      },
      {
        "duration": 1114,
        "start_time": "2022-06-29T19:08:26.153Z"
      },
      {
        "duration": 1453,
        "start_time": "2022-06-30T10:25:34.400Z"
      },
      {
        "duration": 3905,
        "start_time": "2022-06-30T10:25:35.855Z"
      },
      {
        "duration": 17,
        "start_time": "2022-06-30T10:25:49.624Z"
      },
      {
        "duration": 25,
        "start_time": "2022-06-30T10:25:52.350Z"
      },
      {
        "duration": 6,
        "start_time": "2022-06-30T10:25:56.761Z"
      },
      {
        "duration": 5,
        "start_time": "2022-06-30T10:26:15.487Z"
      },
      {
        "duration": 7,
        "start_time": "2022-06-30T10:26:25.602Z"
      },
      {
        "duration": 4,
        "start_time": "2022-06-30T10:26:27.783Z"
      },
      {
        "duration": 234,
        "start_time": "2022-06-30T10:27:09.292Z"
      },
      {
        "duration": 10,
        "start_time": "2022-06-30T10:27:12.938Z"
      },
      {
        "duration": 16,
        "start_time": "2022-06-30T10:27:29.204Z"
      },
      {
        "duration": 7,
        "start_time": "2022-06-30T10:27:34.280Z"
      },
      {
        "duration": 8,
        "start_time": "2022-06-30T10:27:40.375Z"
      },
      {
        "duration": 11,
        "start_time": "2022-06-30T10:27:48.708Z"
      },
      {
        "duration": 25,
        "start_time": "2022-06-30T10:27:52.846Z"
      },
      {
        "duration": 8890,
        "start_time": "2022-06-30T10:27:56.253Z"
      },
      {
        "duration": 8814,
        "start_time": "2022-06-30T10:28:15.001Z"
      },
      {
        "duration": 522,
        "start_time": "2022-06-30T10:28:43.414Z"
      },
      {
        "duration": 9,
        "start_time": "2022-06-30T10:29:00.783Z"
      },
      {
        "duration": 1611,
        "start_time": "2022-06-30T10:29:15.286Z"
      },
      {
        "duration": 8,
        "start_time": "2022-06-30T10:29:29.054Z"
      },
      {
        "duration": 1363,
        "start_time": "2022-06-30T10:29:33.866Z"
      },
      {
        "duration": 39,
        "start_time": "2022-06-30T10:29:40.879Z"
      },
      {
        "duration": 1529,
        "start_time": "2022-06-30T10:29:45.540Z"
      },
      {
        "duration": 3,
        "start_time": "2022-06-30T10:29:56.992Z"
      },
      {
        "duration": 8,
        "start_time": "2022-06-30T10:30:15.875Z"
      },
      {
        "duration": 14,
        "start_time": "2022-06-30T10:30:21.438Z"
      },
      {
        "duration": 44,
        "start_time": "2022-06-30T10:30:27.094Z"
      },
      {
        "duration": 2268,
        "start_time": "2022-06-30T10:30:40.557Z"
      },
      {
        "duration": 44235,
        "start_time": "2022-06-30T10:33:30.237Z"
      },
      {
        "duration": 1339,
        "start_time": "2022-06-30T10:35:18.518Z"
      },
      {
        "duration": 44445,
        "start_time": "2022-06-30T10:37:26.326Z"
      },
      {
        "duration": 593,
        "start_time": "2022-06-30T10:38:39.363Z"
      },
      {
        "duration": 3,
        "start_time": "2022-06-30T10:38:44.935Z"
      },
      {
        "duration": 103,
        "start_time": "2022-06-30T10:39:27.458Z"
      },
      {
        "duration": 333157,
        "start_time": "2022-06-30T12:00:33.835Z"
      },
      {
        "duration": 4284,
        "start_time": "2022-06-30T16:06:41.111Z"
      },
      {
        "duration": 1918,
        "start_time": "2022-06-30T16:07:00.195Z"
      },
      {
        "duration": 32,
        "start_time": "2022-06-30T16:07:03.824Z"
      },
      {
        "duration": 58,
        "start_time": "2022-06-30T16:07:06.729Z"
      },
      {
        "duration": 9,
        "start_time": "2022-06-30T16:07:11.086Z"
      },
      {
        "duration": 8,
        "start_time": "2022-06-30T16:07:15.285Z"
      },
      {
        "duration": 6,
        "start_time": "2022-06-30T16:07:17.389Z"
      },
      {
        "duration": 358,
        "start_time": "2022-06-30T16:07:22.333Z"
      },
      {
        "duration": 13,
        "start_time": "2022-06-30T16:07:25.409Z"
      },
      {
        "duration": 25,
        "start_time": "2022-06-30T16:07:28.384Z"
      },
      {
        "duration": 10,
        "start_time": "2022-06-30T16:07:31.269Z"
      },
      {
        "duration": 15,
        "start_time": "2022-06-30T16:07:34.739Z"
      },
      {
        "duration": 17,
        "start_time": "2022-06-30T16:07:38.522Z"
      },
      {
        "duration": 6,
        "start_time": "2022-06-30T16:07:56.544Z"
      },
      {
        "duration": 1218,
        "start_time": "2022-06-30T16:07:56.558Z"
      },
      {
        "duration": 13,
        "start_time": "2022-06-30T16:07:57.779Z"
      },
      {
        "duration": 41,
        "start_time": "2022-06-30T16:07:57.794Z"
      },
      {
        "duration": 8,
        "start_time": "2022-06-30T16:07:57.839Z"
      },
      {
        "duration": 12,
        "start_time": "2022-06-30T16:07:57.849Z"
      },
      {
        "duration": 10,
        "start_time": "2022-06-30T16:07:57.864Z"
      },
      {
        "duration": 416,
        "start_time": "2022-06-30T16:07:57.877Z"
      },
      {
        "duration": 14,
        "start_time": "2022-06-30T16:07:58.295Z"
      },
      {
        "duration": 37,
        "start_time": "2022-06-30T16:07:58.311Z"
      },
      {
        "duration": 9,
        "start_time": "2022-06-30T16:07:58.351Z"
      },
      {
        "duration": 16,
        "start_time": "2022-06-30T16:07:58.363Z"
      },
      {
        "duration": 50,
        "start_time": "2022-06-30T16:07:58.381Z"
      },
      {
        "duration": 34,
        "start_time": "2022-06-30T16:07:58.433Z"
      },
      {
        "duration": 11884,
        "start_time": "2022-06-30T16:07:58.470Z"
      },
      {
        "duration": 10703,
        "start_time": "2022-06-30T16:08:10.361Z"
      },
      {
        "duration": 1103,
        "start_time": "2022-06-30T16:08:21.067Z"
      },
      {
        "duration": 12,
        "start_time": "2022-06-30T16:08:22.172Z"
      },
      {
        "duration": 1903,
        "start_time": "2022-06-30T16:08:22.186Z"
      },
      {
        "duration": 67,
        "start_time": "2022-06-30T16:08:24.091Z"
      },
      {
        "duration": 1642,
        "start_time": "2022-06-30T16:08:24.160Z"
      },
      {
        "duration": 8,
        "start_time": "2022-06-30T16:08:25.804Z"
      },
      {
        "duration": 19,
        "start_time": "2022-06-30T16:08:25.816Z"
      },
      {
        "duration": 30,
        "start_time": "2022-06-30T16:08:25.838Z"
      },
      {
        "duration": 89,
        "start_time": "2022-06-30T16:08:25.871Z"
      },
      {
        "duration": 3839,
        "start_time": "2022-06-30T16:08:36.194Z"
      },
      {
        "duration": 52042,
        "start_time": "2022-06-30T16:08:45.235Z"
      },
      {
        "duration": 1180,
        "start_time": "2022-06-30T16:09:49.710Z"
      },
      {
        "duration": 55253,
        "start_time": "2022-06-30T16:10:01.297Z"
      },
      {
        "duration": 852,
        "start_time": "2022-06-30T16:11:01.174Z"
      },
      {
        "duration": 5,
        "start_time": "2022-06-30T16:11:06.680Z"
      },
      {
        "duration": 427817,
        "start_time": "2022-06-30T16:11:08.989Z"
      },
      {
        "duration": 9628,
        "start_time": "2022-06-30T16:18:40.280Z"
      },
      {
        "duration": 6,
        "start_time": "2022-06-30T17:48:31.139Z"
      },
      {
        "duration": 367248,
        "start_time": "2022-06-30T17:48:31.147Z"
      },
      {
        "duration": 5,
        "start_time": "2022-06-30T17:58:47.612Z"
      },
      {
        "duration": 5,
        "start_time": "2022-06-30T17:58:53.947Z"
      },
      {
        "duration": 6496,
        "start_time": "2022-06-30T17:59:25.097Z"
      },
      {
        "duration": 5,
        "start_time": "2022-06-30T18:08:07.291Z"
      },
      {
        "duration": 5,
        "start_time": "2022-06-30T18:08:12.085Z"
      },
      {
        "duration": 50,
        "start_time": "2022-06-30T20:19:04.831Z"
      },
      {
        "duration": 55,
        "start_time": "2022-06-30T20:19:56.363Z"
      },
      {
        "duration": 2899,
        "start_time": "2022-07-01T06:49:09.213Z"
      },
      {
        "duration": 1234,
        "start_time": "2022-07-01T06:49:19.358Z"
      },
      {
        "duration": 42,
        "start_time": "2022-07-01T06:49:24.554Z"
      },
      {
        "duration": 980,
        "start_time": "2022-07-01T06:51:16.307Z"
      },
      {
        "duration": 817,
        "start_time": "2022-07-01T06:51:23.629Z"
      },
      {
        "duration": 66,
        "start_time": "2022-07-01T06:52:45.700Z"
      },
      {
        "duration": 19,
        "start_time": "2022-07-01T06:53:03.367Z"
      },
      {
        "duration": 26,
        "start_time": "2022-07-01T06:53:05.121Z"
      },
      {
        "duration": 6,
        "start_time": "2022-07-01T06:53:09.838Z"
      },
      {
        "duration": 6,
        "start_time": "2022-07-01T06:53:16.834Z"
      },
      {
        "duration": 4,
        "start_time": "2022-07-01T06:53:24.887Z"
      },
      {
        "duration": 312,
        "start_time": "2022-07-01T06:53:34.688Z"
      },
      {
        "duration": 11,
        "start_time": "2022-07-01T06:53:37.997Z"
      },
      {
        "duration": 10016,
        "start_time": "2022-07-01T06:54:47.597Z"
      },
      {
        "duration": 9266,
        "start_time": "2022-07-01T07:02:41.045Z"
      },
      {
        "duration": 9784,
        "start_time": "2022-07-01T07:02:59.835Z"
      },
      {
        "duration": 80,
        "start_time": "2022-07-01T07:06:10.995Z"
      },
      {
        "duration": 8,
        "start_time": "2022-07-01T07:06:19.779Z"
      },
      {
        "duration": 1479,
        "start_time": "2022-07-01T07:07:28.623Z"
      },
      {
        "duration": 40,
        "start_time": "2022-07-01T07:10:19.526Z"
      },
      {
        "duration": 12,
        "start_time": "2022-07-01T07:18:52.990Z"
      },
      {
        "duration": 17,
        "start_time": "2022-07-01T07:24:47.671Z"
      },
      {
        "duration": 34,
        "start_time": "2022-07-01T07:25:00.015Z"
      },
      {
        "duration": 4,
        "start_time": "2022-07-01T07:25:23.137Z"
      },
      {
        "duration": 1117,
        "start_time": "2022-07-01T07:25:23.143Z"
      },
      {
        "duration": 21,
        "start_time": "2022-07-01T07:25:24.262Z"
      },
      {
        "duration": 10,
        "start_time": "2022-07-01T07:25:24.284Z"
      },
      {
        "duration": 11,
        "start_time": "2022-07-01T07:25:24.296Z"
      },
      {
        "duration": 35,
        "start_time": "2022-07-01T07:25:24.309Z"
      },
      {
        "duration": 5,
        "start_time": "2022-07-01T07:25:24.345Z"
      },
      {
        "duration": 10,
        "start_time": "2022-07-01T07:25:24.351Z"
      },
      {
        "duration": 7,
        "start_time": "2022-07-01T07:25:24.362Z"
      },
      {
        "duration": 261,
        "start_time": "2022-07-01T07:25:24.370Z"
      },
      {
        "duration": 10,
        "start_time": "2022-07-01T07:25:24.633Z"
      },
      {
        "duration": 15,
        "start_time": "2022-07-01T07:25:24.644Z"
      },
      {
        "duration": 6,
        "start_time": "2022-07-01T07:25:24.661Z"
      },
      {
        "duration": 12,
        "start_time": "2022-07-01T07:25:24.668Z"
      },
      {
        "duration": 11,
        "start_time": "2022-07-01T07:25:24.681Z"
      },
      {
        "duration": 19,
        "start_time": "2022-07-01T07:25:24.728Z"
      },
      {
        "duration": 9791,
        "start_time": "2022-07-01T07:25:24.749Z"
      },
      {
        "duration": 9194,
        "start_time": "2022-07-01T07:25:34.542Z"
      },
      {
        "duration": 745,
        "start_time": "2022-07-01T07:25:43.737Z"
      },
      {
        "duration": 8,
        "start_time": "2022-07-01T07:25:44.484Z"
      },
      {
        "duration": 1424,
        "start_time": "2022-07-01T07:25:44.493Z"
      },
      {
        "duration": 33,
        "start_time": "2022-07-01T07:25:45.919Z"
      },
      {
        "duration": 1324,
        "start_time": "2022-07-01T07:25:45.954Z"
      },
      {
        "duration": 4,
        "start_time": "2022-07-01T07:25:47.280Z"
      },
      {
        "duration": 15,
        "start_time": "2022-07-01T07:25:47.285Z"
      },
      {
        "duration": 15,
        "start_time": "2022-07-01T07:26:24.370Z"
      },
      {
        "duration": 7,
        "start_time": "2022-07-01T07:26:51.887Z"
      },
      {
        "duration": 5,
        "start_time": "2022-07-01T07:27:11.506Z"
      },
      {
        "duration": 5,
        "start_time": "2022-07-01T07:27:20.435Z"
      },
      {
        "duration": 5,
        "start_time": "2022-07-01T07:27:25.483Z"
      },
      {
        "duration": 29,
        "start_time": "2022-07-01T07:28:46.309Z"
      },
      {
        "duration": 4,
        "start_time": "2022-07-01T07:28:59.862Z"
      },
      {
        "duration": 759,
        "start_time": "2022-07-01T07:28:59.870Z"
      },
      {
        "duration": 22,
        "start_time": "2022-07-01T07:29:00.632Z"
      },
      {
        "duration": 12,
        "start_time": "2022-07-01T07:29:00.655Z"
      },
      {
        "duration": 19,
        "start_time": "2022-07-01T07:29:00.669Z"
      },
      {
        "duration": 21,
        "start_time": "2022-07-01T07:29:00.690Z"
      },
      {
        "duration": 19,
        "start_time": "2022-07-01T07:29:00.712Z"
      },
      {
        "duration": 12,
        "start_time": "2022-07-01T07:29:00.732Z"
      },
      {
        "duration": 19,
        "start_time": "2022-07-01T07:29:00.746Z"
      },
      {
        "duration": 266,
        "start_time": "2022-07-01T07:29:00.766Z"
      },
      {
        "duration": 9,
        "start_time": "2022-07-01T07:29:01.034Z"
      },
      {
        "duration": 26,
        "start_time": "2022-07-01T07:29:01.045Z"
      },
      {
        "duration": 12,
        "start_time": "2022-07-01T07:29:01.073Z"
      },
      {
        "duration": 26,
        "start_time": "2022-07-01T07:29:01.086Z"
      },
      {
        "duration": 28,
        "start_time": "2022-07-01T07:29:01.114Z"
      },
      {
        "duration": 32,
        "start_time": "2022-07-01T07:29:01.143Z"
      },
      {
        "duration": 10201,
        "start_time": "2022-07-01T07:29:01.177Z"
      },
      {
        "duration": 9772,
        "start_time": "2022-07-01T07:29:11.380Z"
      },
      {
        "duration": 693,
        "start_time": "2022-07-01T07:29:21.154Z"
      },
      {
        "duration": 9,
        "start_time": "2022-07-01T07:29:21.849Z"
      },
      {
        "duration": 1360,
        "start_time": "2022-07-01T07:29:21.859Z"
      },
      {
        "duration": 49,
        "start_time": "2022-07-01T07:29:23.221Z"
      },
      {
        "duration": 1314,
        "start_time": "2022-07-01T07:29:23.272Z"
      },
      {
        "duration": 4,
        "start_time": "2022-07-01T07:29:24.587Z"
      },
      {
        "duration": 12,
        "start_time": "2022-07-01T07:29:24.592Z"
      },
      {
        "duration": 15,
        "start_time": "2022-07-01T07:30:08.323Z"
      },
      {
        "duration": 4,
        "start_time": "2022-07-01T07:30:11.451Z"
      },
      {
        "duration": 1352,
        "start_time": "2022-07-01T07:30:49.437Z"
      },
      {
        "duration": 723,
        "start_time": "2022-07-01T07:30:50.791Z"
      },
      {
        "duration": 25,
        "start_time": "2022-07-01T07:30:51.515Z"
      },
      {
        "duration": 7,
        "start_time": "2022-07-01T07:30:51.542Z"
      },
      {
        "duration": 32,
        "start_time": "2022-07-01T07:30:51.551Z"
      },
      {
        "duration": 21,
        "start_time": "2022-07-01T07:30:51.585Z"
      },
      {
        "duration": 8,
        "start_time": "2022-07-01T07:30:51.607Z"
      },
      {
        "duration": 16,
        "start_time": "2022-07-01T07:30:51.616Z"
      },
      {
        "duration": 14,
        "start_time": "2022-07-01T07:30:51.634Z"
      },
      {
        "duration": 258,
        "start_time": "2022-07-01T07:30:51.651Z"
      },
      {
        "duration": 17,
        "start_time": "2022-07-01T07:30:51.910Z"
      },
      {
        "duration": 14,
        "start_time": "2022-07-01T07:30:51.929Z"
      },
      {
        "duration": 9,
        "start_time": "2022-07-01T07:30:51.945Z"
      },
      {
        "duration": 31,
        "start_time": "2022-07-01T07:30:51.956Z"
      },
      {
        "duration": 13,
        "start_time": "2022-07-01T07:30:51.989Z"
      },
      {
        "duration": 29,
        "start_time": "2022-07-01T07:30:52.004Z"
      },
      {
        "duration": 9314,
        "start_time": "2022-07-01T07:30:52.034Z"
      },
      {
        "duration": 9591,
        "start_time": "2022-07-01T07:31:01.350Z"
      },
      {
        "duration": 612,
        "start_time": "2022-07-01T07:31:10.943Z"
      },
      {
        "duration": 10,
        "start_time": "2022-07-01T07:31:11.557Z"
      },
      {
        "duration": 1548,
        "start_time": "2022-07-01T07:31:11.569Z"
      },
      {
        "duration": 41,
        "start_time": "2022-07-01T07:31:13.118Z"
      },
      {
        "duration": 1429,
        "start_time": "2022-07-01T07:31:13.161Z"
      },
      {
        "duration": 4,
        "start_time": "2022-07-01T07:31:14.591Z"
      },
      {
        "duration": 11,
        "start_time": "2022-07-01T07:31:14.597Z"
      },
      {
        "duration": 28,
        "start_time": "2022-07-01T07:31:14.610Z"
      },
      {
        "duration": 46,
        "start_time": "2022-07-01T07:31:14.640Z"
      },
      {
        "duration": 2941,
        "start_time": "2022-07-01T07:31:14.690Z"
      },
      {
        "duration": 45080,
        "start_time": "2022-07-01T07:31:17.649Z"
      },
      {
        "duration": 911,
        "start_time": "2022-07-01T07:32:02.730Z"
      },
      {
        "duration": 44851,
        "start_time": "2022-07-01T07:32:03.643Z"
      },
      {
        "duration": 620,
        "start_time": "2022-07-01T07:32:48.495Z"
      },
      {
        "duration": 10,
        "start_time": "2022-07-01T07:32:49.117Z"
      },
      {
        "duration": 336667,
        "start_time": "2022-07-01T07:32:49.129Z"
      },
      {
        "duration": 6851,
        "start_time": "2022-07-01T07:38:25.798Z"
      },
      {
        "duration": 329299,
        "start_time": "2022-07-01T07:38:32.651Z"
      },
      {
        "duration": 6310,
        "start_time": "2022-07-01T07:44:01.952Z"
      },
      {
        "duration": 4,
        "start_time": "2022-07-01T07:44:08.263Z"
      },
      {
        "duration": 17,
        "start_time": "2022-07-01T07:44:08.268Z"
      },
      {
        "duration": 122,
        "start_time": "2022-07-01T07:44:08.286Z"
      },
      {
        "duration": 1157,
        "start_time": "2022-07-01T07:44:27.468Z"
      },
      {
        "duration": 962,
        "start_time": "2022-07-01T07:44:35.737Z"
      },
      {
        "duration": 1136,
        "start_time": "2022-07-01T07:44:40.296Z"
      },
      {
        "duration": 4,
        "start_time": "2022-07-01T07:44:57.917Z"
      },
      {
        "duration": 9025,
        "start_time": "2022-07-01T07:45:06.850Z"
      },
      {
        "duration": 7377,
        "start_time": "2022-07-01T07:45:23.515Z"
      },
      {
        "duration": 4,
        "start_time": "2022-07-01T07:45:33.640Z"
      },
      {
        "duration": 16,
        "start_time": "2022-07-01T07:47:56.955Z"
      },
      {
        "duration": 16,
        "start_time": "2022-07-01T07:50:57.760Z"
      },
      {
        "duration": 27,
        "start_time": "2022-07-01T08:13:53.839Z"
      },
      {
        "duration": 4,
        "start_time": "2022-07-01T08:14:11.325Z"
      },
      {
        "duration": 739,
        "start_time": "2022-07-01T08:14:11.331Z"
      },
      {
        "duration": 20,
        "start_time": "2022-07-01T08:14:12.072Z"
      },
      {
        "duration": 14,
        "start_time": "2022-07-01T08:14:12.093Z"
      },
      {
        "duration": 20,
        "start_time": "2022-07-01T08:14:12.109Z"
      },
      {
        "duration": 19,
        "start_time": "2022-07-01T08:14:12.131Z"
      },
      {
        "duration": 5,
        "start_time": "2022-07-01T08:14:12.151Z"
      },
      {
        "duration": 9,
        "start_time": "2022-07-01T08:14:12.157Z"
      },
      {
        "duration": 11,
        "start_time": "2022-07-01T08:14:12.168Z"
      },
      {
        "duration": 264,
        "start_time": "2022-07-01T08:14:12.180Z"
      },
      {
        "duration": 9,
        "start_time": "2022-07-01T08:14:12.447Z"
      },
      {
        "duration": 16,
        "start_time": "2022-07-01T08:14:12.457Z"
      },
      {
        "duration": 6,
        "start_time": "2022-07-01T08:14:12.474Z"
      },
      {
        "duration": 11,
        "start_time": "2022-07-01T08:14:12.482Z"
      },
      {
        "duration": 37,
        "start_time": "2022-07-01T08:14:12.495Z"
      },
      {
        "duration": 20,
        "start_time": "2022-07-01T08:14:12.534Z"
      },
      {
        "duration": 0,
        "start_time": "2022-07-01T08:14:39.144Z"
      },
      {
        "duration": 0,
        "start_time": "2022-07-01T08:14:39.144Z"
      },
      {
        "duration": 0,
        "start_time": "2022-07-01T08:14:39.145Z"
      },
      {
        "duration": 0,
        "start_time": "2022-07-01T08:14:39.146Z"
      },
      {
        "duration": 0,
        "start_time": "2022-07-01T08:14:39.147Z"
      },
      {
        "duration": 0,
        "start_time": "2022-07-01T08:14:39.148Z"
      },
      {
        "duration": 0,
        "start_time": "2022-07-01T08:14:39.149Z"
      },
      {
        "duration": 0,
        "start_time": "2022-07-01T08:14:39.150Z"
      },
      {
        "duration": 0,
        "start_time": "2022-07-01T08:14:39.152Z"
      },
      {
        "duration": 0,
        "start_time": "2022-07-01T08:14:39.152Z"
      },
      {
        "duration": 0,
        "start_time": "2022-07-01T08:14:39.153Z"
      },
      {
        "duration": 0,
        "start_time": "2022-07-01T08:14:39.154Z"
      },
      {
        "duration": 0,
        "start_time": "2022-07-01T08:14:39.155Z"
      },
      {
        "duration": 0,
        "start_time": "2022-07-01T08:14:39.156Z"
      },
      {
        "duration": 0,
        "start_time": "2022-07-01T08:14:39.157Z"
      },
      {
        "duration": 0,
        "start_time": "2022-07-01T08:14:39.158Z"
      },
      {
        "duration": 0,
        "start_time": "2022-07-01T08:14:39.159Z"
      },
      {
        "duration": 0,
        "start_time": "2022-07-01T08:14:39.160Z"
      },
      {
        "duration": 0,
        "start_time": "2022-07-01T08:14:39.161Z"
      },
      {
        "duration": 0,
        "start_time": "2022-07-01T08:14:39.162Z"
      },
      {
        "duration": 0,
        "start_time": "2022-07-01T08:14:39.163Z"
      },
      {
        "duration": 0,
        "start_time": "2022-07-01T08:14:39.164Z"
      },
      {
        "duration": 0,
        "start_time": "2022-07-01T08:14:39.228Z"
      },
      {
        "duration": 0,
        "start_time": "2022-07-01T08:14:39.229Z"
      },
      {
        "duration": 0,
        "start_time": "2022-07-01T08:14:39.230Z"
      },
      {
        "duration": 0,
        "start_time": "2022-07-01T08:14:39.231Z"
      },
      {
        "duration": 0,
        "start_time": "2022-07-01T08:14:39.232Z"
      },
      {
        "duration": 0,
        "start_time": "2022-07-01T08:14:39.233Z"
      },
      {
        "duration": 0,
        "start_time": "2022-07-01T08:14:39.234Z"
      },
      {
        "duration": 0,
        "start_time": "2022-07-01T08:14:39.235Z"
      },
      {
        "duration": 0,
        "start_time": "2022-07-01T08:14:39.236Z"
      },
      {
        "duration": 0,
        "start_time": "2022-07-01T08:14:39.237Z"
      },
      {
        "duration": 0,
        "start_time": "2022-07-01T08:14:39.238Z"
      },
      {
        "duration": 0,
        "start_time": "2022-07-01T08:14:39.239Z"
      },
      {
        "duration": 0,
        "start_time": "2022-07-01T08:14:39.240Z"
      },
      {
        "duration": 0,
        "start_time": "2022-07-01T08:14:39.242Z"
      },
      {
        "duration": 0,
        "start_time": "2022-07-01T08:14:39.243Z"
      },
      {
        "duration": 0,
        "start_time": "2022-07-01T08:14:39.244Z"
      },
      {
        "duration": 0,
        "start_time": "2022-07-01T08:14:39.245Z"
      },
      {
        "duration": 0,
        "start_time": "2022-07-01T08:14:39.246Z"
      },
      {
        "duration": 4,
        "start_time": "2022-07-01T08:15:10.703Z"
      },
      {
        "duration": 726,
        "start_time": "2022-07-01T08:15:10.709Z"
      },
      {
        "duration": 21,
        "start_time": "2022-07-01T08:15:11.436Z"
      },
      {
        "duration": 7,
        "start_time": "2022-07-01T08:15:11.459Z"
      },
      {
        "duration": 11,
        "start_time": "2022-07-01T08:15:11.468Z"
      },
      {
        "duration": 20,
        "start_time": "2022-07-01T08:15:11.481Z"
      },
      {
        "duration": 27,
        "start_time": "2022-07-01T08:15:11.503Z"
      },
      {
        "duration": 16,
        "start_time": "2022-07-01T08:15:11.532Z"
      },
      {
        "duration": 8,
        "start_time": "2022-07-01T08:15:11.549Z"
      },
      {
        "duration": 256,
        "start_time": "2022-07-01T08:15:11.559Z"
      },
      {
        "duration": 15,
        "start_time": "2022-07-01T08:15:11.817Z"
      },
      {
        "duration": 16,
        "start_time": "2022-07-01T08:15:11.833Z"
      },
      {
        "duration": 7,
        "start_time": "2022-07-01T08:15:11.851Z"
      },
      {
        "duration": 9,
        "start_time": "2022-07-01T08:15:11.859Z"
      },
      {
        "duration": 11,
        "start_time": "2022-07-01T08:15:11.870Z"
      },
      {
        "duration": 54,
        "start_time": "2022-07-01T08:15:11.882Z"
      },
      {
        "duration": 10321,
        "start_time": "2022-07-01T08:15:11.938Z"
      },
      {
        "duration": 9456,
        "start_time": "2022-07-01T08:15:22.261Z"
      },
      {
        "duration": 534,
        "start_time": "2022-07-01T08:15:31.719Z"
      },
      {
        "duration": 9,
        "start_time": "2022-07-01T08:15:32.255Z"
      },
      {
        "duration": 1572,
        "start_time": "2022-07-01T08:15:32.265Z"
      },
      {
        "duration": 43,
        "start_time": "2022-07-01T08:15:33.839Z"
      },
      {
        "duration": 1421,
        "start_time": "2022-07-01T08:15:33.884Z"
      },
      {
        "duration": 4,
        "start_time": "2022-07-01T08:15:35.307Z"
      },
      {
        "duration": 32,
        "start_time": "2022-07-01T08:15:35.312Z"
      },
      {
        "duration": 24,
        "start_time": "2022-07-01T08:15:53.188Z"
      },
      {
        "duration": 36,
        "start_time": "2022-07-01T08:17:05.241Z"
      },
      {
        "duration": 68,
        "start_time": "2022-07-01T08:17:19.434Z"
      },
      {
        "duration": 66,
        "start_time": "2022-07-01T08:17:22.123Z"
      },
      {
        "duration": 7,
        "start_time": "2022-07-01T08:17:59.949Z"
      },
      {
        "duration": 11,
        "start_time": "2022-07-01T08:19:16.467Z"
      },
      {
        "duration": 18,
        "start_time": "2022-07-01T08:19:31.235Z"
      },
      {
        "duration": 17,
        "start_time": "2022-07-01T08:19:35.007Z"
      },
      {
        "duration": 15,
        "start_time": "2022-07-01T08:19:42.293Z"
      },
      {
        "duration": 11,
        "start_time": "2022-07-01T08:20:13.720Z"
      },
      {
        "duration": 862,
        "start_time": "2022-07-01T08:20:40.774Z"
      },
      {
        "duration": 52,
        "start_time": "2022-07-01T08:29:14.727Z"
      },
      {
        "duration": 36,
        "start_time": "2022-07-01T08:29:22.523Z"
      },
      {
        "duration": 5,
        "start_time": "2022-07-01T08:29:35.108Z"
      },
      {
        "duration": 759,
        "start_time": "2022-07-01T08:29:35.115Z"
      },
      {
        "duration": 25,
        "start_time": "2022-07-01T08:29:35.877Z"
      },
      {
        "duration": 11,
        "start_time": "2022-07-01T08:29:35.904Z"
      },
      {
        "duration": 14,
        "start_time": "2022-07-01T08:29:35.929Z"
      },
      {
        "duration": 19,
        "start_time": "2022-07-01T08:29:35.945Z"
      },
      {
        "duration": 6,
        "start_time": "2022-07-01T08:29:35.966Z"
      },
      {
        "duration": 11,
        "start_time": "2022-07-01T08:29:35.974Z"
      },
      {
        "duration": 8,
        "start_time": "2022-07-01T08:29:35.987Z"
      },
      {
        "duration": 290,
        "start_time": "2022-07-01T08:29:36.028Z"
      },
      {
        "duration": 14,
        "start_time": "2022-07-01T08:29:36.322Z"
      },
      {
        "duration": 29,
        "start_time": "2022-07-01T08:29:36.337Z"
      },
      {
        "duration": 11,
        "start_time": "2022-07-01T08:29:36.368Z"
      },
      {
        "duration": 24,
        "start_time": "2022-07-01T08:29:36.382Z"
      },
      {
        "duration": 26,
        "start_time": "2022-07-01T08:29:36.408Z"
      },
      {
        "duration": 30,
        "start_time": "2022-07-01T08:29:36.437Z"
      },
      {
        "duration": 9206,
        "start_time": "2022-07-01T08:29:36.469Z"
      },
      {
        "duration": 9191,
        "start_time": "2022-07-01T08:29:45.677Z"
      },
      {
        "duration": 606,
        "start_time": "2022-07-01T08:29:54.870Z"
      },
      {
        "duration": 9,
        "start_time": "2022-07-01T08:29:55.478Z"
      },
      {
        "duration": 1745,
        "start_time": "2022-07-01T08:29:55.488Z"
      },
      {
        "duration": 45,
        "start_time": "2022-07-01T08:29:57.235Z"
      },
      {
        "duration": 1565,
        "start_time": "2022-07-01T08:29:57.282Z"
      },
      {
        "duration": 4,
        "start_time": "2022-07-01T08:29:58.849Z"
      },
      {
        "duration": 15,
        "start_time": "2022-07-01T08:29:58.855Z"
      },
      {
        "duration": 23,
        "start_time": "2022-07-01T08:30:07.241Z"
      },
      {
        "duration": 11,
        "start_time": "2022-07-01T08:30:11.905Z"
      },
      {
        "duration": 8,
        "start_time": "2022-07-01T08:30:17.655Z"
      },
      {
        "duration": 26,
        "start_time": "2022-07-01T08:30:43.284Z"
      },
      {
        "duration": 8,
        "start_time": "2022-07-01T08:31:45.354Z"
      },
      {
        "duration": 28,
        "start_time": "2022-07-01T08:32:06.781Z"
      },
      {
        "duration": 4,
        "start_time": "2022-07-01T08:34:21.772Z"
      },
      {
        "duration": 707,
        "start_time": "2022-07-01T08:34:21.780Z"
      },
      {
        "duration": 24,
        "start_time": "2022-07-01T08:34:22.490Z"
      },
      {
        "duration": 17,
        "start_time": "2022-07-01T08:34:22.516Z"
      },
      {
        "duration": 16,
        "start_time": "2022-07-01T08:34:22.537Z"
      },
      {
        "duration": 25,
        "start_time": "2022-07-01T08:34:22.555Z"
      },
      {
        "duration": 6,
        "start_time": "2022-07-01T08:34:22.583Z"
      },
      {
        "duration": 36,
        "start_time": "2022-07-01T08:34:22.591Z"
      },
      {
        "duration": 10,
        "start_time": "2022-07-01T08:34:22.629Z"
      },
      {
        "duration": 269,
        "start_time": "2022-07-01T08:34:22.641Z"
      },
      {
        "duration": 19,
        "start_time": "2022-07-01T08:34:22.913Z"
      },
      {
        "duration": 17,
        "start_time": "2022-07-01T08:34:22.934Z"
      },
      {
        "duration": 9,
        "start_time": "2022-07-01T08:34:22.953Z"
      },
      {
        "duration": 22,
        "start_time": "2022-07-01T08:34:22.964Z"
      },
      {
        "duration": 11,
        "start_time": "2022-07-01T08:34:22.988Z"
      },
      {
        "duration": 55,
        "start_time": "2022-07-01T08:34:23.001Z"
      },
      {
        "duration": 9609,
        "start_time": "2022-07-01T08:34:23.058Z"
      },
      {
        "duration": 9587,
        "start_time": "2022-07-01T08:34:32.669Z"
      },
      {
        "duration": 653,
        "start_time": "2022-07-01T08:34:42.258Z"
      },
      {
        "duration": 15,
        "start_time": "2022-07-01T08:34:42.913Z"
      },
      {
        "duration": 1596,
        "start_time": "2022-07-01T08:34:42.930Z"
      },
      {
        "duration": 37,
        "start_time": "2022-07-01T08:34:44.527Z"
      },
      {
        "duration": 1342,
        "start_time": "2022-07-01T08:34:44.566Z"
      },
      {
        "duration": 4,
        "start_time": "2022-07-01T08:34:45.909Z"
      },
      {
        "duration": 17,
        "start_time": "2022-07-01T08:34:45.915Z"
      },
      {
        "duration": 23,
        "start_time": "2022-07-01T08:36:20.932Z"
      },
      {
        "duration": 9,
        "start_time": "2022-07-01T08:36:38.965Z"
      },
      {
        "duration": 11,
        "start_time": "2022-07-01T08:37:15.490Z"
      },
      {
        "duration": 11,
        "start_time": "2022-07-01T08:37:23.175Z"
      },
      {
        "duration": 4,
        "start_time": "2022-07-01T08:37:42.214Z"
      },
      {
        "duration": 18,
        "start_time": "2022-07-01T08:37:55.876Z"
      },
      {
        "duration": 13,
        "start_time": "2022-07-01T08:37:59.474Z"
      },
      {
        "duration": 8,
        "start_time": "2022-07-01T08:45:30.278Z"
      },
      {
        "duration": 6,
        "start_time": "2022-07-01T08:46:24.031Z"
      },
      {
        "duration": 6,
        "start_time": "2022-07-01T08:46:42.292Z"
      },
      {
        "duration": 5,
        "start_time": "2022-07-01T08:47:03.334Z"
      },
      {
        "duration": 10,
        "start_time": "2022-07-01T08:47:19.809Z"
      },
      {
        "duration": 4,
        "start_time": "2022-07-01T08:47:28.168Z"
      },
      {
        "duration": 5,
        "start_time": "2022-07-01T08:47:47.423Z"
      },
      {
        "duration": 4,
        "start_time": "2022-07-01T08:48:09.888Z"
      },
      {
        "duration": 3,
        "start_time": "2022-07-01T08:59:30.217Z"
      },
      {
        "duration": 37,
        "start_time": "2022-07-01T09:00:06.337Z"
      },
      {
        "duration": 4,
        "start_time": "2022-07-01T09:00:40.370Z"
      },
      {
        "duration": 694,
        "start_time": "2022-07-01T09:00:40.379Z"
      },
      {
        "duration": 21,
        "start_time": "2022-07-01T09:00:41.076Z"
      },
      {
        "duration": 9,
        "start_time": "2022-07-01T09:00:41.099Z"
      },
      {
        "duration": 23,
        "start_time": "2022-07-01T09:00:41.110Z"
      },
      {
        "duration": 18,
        "start_time": "2022-07-01T09:00:41.134Z"
      },
      {
        "duration": 5,
        "start_time": "2022-07-01T09:00:41.154Z"
      },
      {
        "duration": 8,
        "start_time": "2022-07-01T09:00:41.161Z"
      },
      {
        "duration": 6,
        "start_time": "2022-07-01T09:00:41.171Z"
      },
      {
        "duration": 273,
        "start_time": "2022-07-01T09:00:41.178Z"
      },
      {
        "duration": 9,
        "start_time": "2022-07-01T09:00:41.454Z"
      },
      {
        "duration": 17,
        "start_time": "2022-07-01T09:00:41.465Z"
      },
      {
        "duration": 7,
        "start_time": "2022-07-01T09:00:41.483Z"
      },
      {
        "duration": 37,
        "start_time": "2022-07-01T09:00:41.491Z"
      },
      {
        "duration": 11,
        "start_time": "2022-07-01T09:00:41.530Z"
      },
      {
        "duration": 20,
        "start_time": "2022-07-01T09:00:41.543Z"
      },
      {
        "duration": 9658,
        "start_time": "2022-07-01T09:00:41.564Z"
      },
      {
        "duration": 9585,
        "start_time": "2022-07-01T09:00:51.224Z"
      },
      {
        "duration": 672,
        "start_time": "2022-07-01T09:01:00.811Z"
      },
      {
        "duration": 10,
        "start_time": "2022-07-01T09:01:01.485Z"
      },
      {
        "duration": 1369,
        "start_time": "2022-07-01T09:01:01.497Z"
      },
      {
        "duration": 34,
        "start_time": "2022-07-01T09:01:02.867Z"
      },
      {
        "duration": 1321,
        "start_time": "2022-07-01T09:01:02.903Z"
      },
      {
        "duration": 3,
        "start_time": "2022-07-01T09:01:04.227Z"
      },
      {
        "duration": 10,
        "start_time": "2022-07-01T09:01:04.232Z"
      },
      {
        "duration": 17,
        "start_time": "2022-07-01T09:05:34.007Z"
      },
      {
        "duration": 3,
        "start_time": "2022-07-01T09:05:39.591Z"
      },
      {
        "duration": 4,
        "start_time": "2022-07-01T09:05:43.785Z"
      },
      {
        "duration": 4,
        "start_time": "2022-07-01T09:05:48.392Z"
      },
      {
        "duration": 4,
        "start_time": "2022-07-01T09:05:50.913Z"
      },
      {
        "duration": 65,
        "start_time": "2022-07-01T09:06:05.383Z"
      },
      {
        "duration": 30,
        "start_time": "2022-07-01T09:06:26.609Z"
      },
      {
        "duration": 5,
        "start_time": "2022-07-01T09:06:32.948Z"
      },
      {
        "duration": 720,
        "start_time": "2022-07-01T09:06:32.955Z"
      },
      {
        "duration": 20,
        "start_time": "2022-07-01T09:06:33.678Z"
      },
      {
        "duration": 7,
        "start_time": "2022-07-01T09:06:33.700Z"
      },
      {
        "duration": 11,
        "start_time": "2022-07-01T09:06:33.727Z"
      },
      {
        "duration": 20,
        "start_time": "2022-07-01T09:06:33.739Z"
      },
      {
        "duration": 6,
        "start_time": "2022-07-01T09:06:33.761Z"
      },
      {
        "duration": 9,
        "start_time": "2022-07-01T09:06:33.768Z"
      },
      {
        "duration": 8,
        "start_time": "2022-07-01T09:06:33.779Z"
      },
      {
        "duration": 293,
        "start_time": "2022-07-01T09:06:33.789Z"
      },
      {
        "duration": 9,
        "start_time": "2022-07-01T09:06:34.085Z"
      },
      {
        "duration": 32,
        "start_time": "2022-07-01T09:06:34.096Z"
      },
      {
        "duration": 8,
        "start_time": "2022-07-01T09:06:34.130Z"
      },
      {
        "duration": 10,
        "start_time": "2022-07-01T09:06:34.139Z"
      },
      {
        "duration": 11,
        "start_time": "2022-07-01T09:06:34.150Z"
      },
      {
        "duration": 21,
        "start_time": "2022-07-01T09:06:34.163Z"
      },
      {
        "duration": 9912,
        "start_time": "2022-07-01T09:06:34.186Z"
      },
      {
        "duration": 10056,
        "start_time": "2022-07-01T09:06:44.100Z"
      },
      {
        "duration": 752,
        "start_time": "2022-07-01T09:06:54.157Z"
      },
      {
        "duration": 17,
        "start_time": "2022-07-01T09:06:54.910Z"
      },
      {
        "duration": 1431,
        "start_time": "2022-07-01T09:06:54.929Z"
      },
      {
        "duration": 47,
        "start_time": "2022-07-01T09:06:56.362Z"
      },
      {
        "duration": 1424,
        "start_time": "2022-07-01T09:06:56.411Z"
      },
      {
        "duration": 4,
        "start_time": "2022-07-01T09:06:57.837Z"
      },
      {
        "duration": 10,
        "start_time": "2022-07-01T09:06:57.843Z"
      },
      {
        "duration": 23,
        "start_time": "2022-07-01T09:10:18.294Z"
      },
      {
        "duration": 5,
        "start_time": "2022-07-01T09:10:20.996Z"
      },
      {
        "duration": 15,
        "start_time": "2022-07-01T09:10:43.101Z"
      },
      {
        "duration": 4,
        "start_time": "2022-07-01T09:12:41.910Z"
      },
      {
        "duration": 5,
        "start_time": "2022-07-01T09:12:57.939Z"
      },
      {
        "duration": 5,
        "start_time": "2022-07-01T09:13:06.186Z"
      },
      {
        "duration": 28,
        "start_time": "2022-07-01T09:13:27.579Z"
      },
      {
        "duration": 4,
        "start_time": "2022-07-01T09:13:32.211Z"
      },
      {
        "duration": 683,
        "start_time": "2022-07-01T09:13:32.219Z"
      },
      {
        "duration": 24,
        "start_time": "2022-07-01T09:13:32.903Z"
      },
      {
        "duration": 18,
        "start_time": "2022-07-01T09:13:32.929Z"
      },
      {
        "duration": 27,
        "start_time": "2022-07-01T09:13:32.949Z"
      },
      {
        "duration": 34,
        "start_time": "2022-07-01T09:13:32.977Z"
      },
      {
        "duration": 17,
        "start_time": "2022-07-01T09:13:33.012Z"
      },
      {
        "duration": 22,
        "start_time": "2022-07-01T09:13:33.030Z"
      },
      {
        "duration": 27,
        "start_time": "2022-07-01T09:13:33.053Z"
      },
      {
        "duration": 261,
        "start_time": "2022-07-01T09:13:33.081Z"
      },
      {
        "duration": 9,
        "start_time": "2022-07-01T09:13:33.345Z"
      },
      {
        "duration": 14,
        "start_time": "2022-07-01T09:13:33.355Z"
      },
      {
        "duration": 6,
        "start_time": "2022-07-01T09:13:33.371Z"
      },
      {
        "duration": 9,
        "start_time": "2022-07-01T09:13:33.378Z"
      },
      {
        "duration": 40,
        "start_time": "2022-07-01T09:13:33.388Z"
      },
      {
        "duration": 23,
        "start_time": "2022-07-01T09:13:33.429Z"
      },
      {
        "duration": 9882,
        "start_time": "2022-07-01T09:13:33.453Z"
      },
      {
        "duration": 9512,
        "start_time": "2022-07-01T09:13:43.337Z"
      },
      {
        "duration": 603,
        "start_time": "2022-07-01T09:13:52.851Z"
      },
      {
        "duration": 10,
        "start_time": "2022-07-01T09:13:53.455Z"
      },
      {
        "duration": 1405,
        "start_time": "2022-07-01T09:13:53.466Z"
      },
      {
        "duration": 34,
        "start_time": "2022-07-01T09:13:54.873Z"
      },
      {
        "duration": 1451,
        "start_time": "2022-07-01T09:13:54.909Z"
      },
      {
        "duration": 5,
        "start_time": "2022-07-01T09:13:56.362Z"
      },
      {
        "duration": 19,
        "start_time": "2022-07-01T09:13:56.369Z"
      },
      {
        "duration": 20,
        "start_time": "2022-07-01T09:14:02.669Z"
      },
      {
        "duration": 5600,
        "start_time": "2022-07-01T09:14:12.667Z"
      },
      {
        "duration": 1440,
        "start_time": "2022-07-01T09:18:01.547Z"
      },
      {
        "duration": 765,
        "start_time": "2022-07-01T09:18:02.990Z"
      },
      {
        "duration": 23,
        "start_time": "2022-07-01T09:18:03.756Z"
      },
      {
        "duration": 10,
        "start_time": "2022-07-01T09:18:03.781Z"
      },
      {
        "duration": 15,
        "start_time": "2022-07-01T09:18:03.793Z"
      },
      {
        "duration": 30,
        "start_time": "2022-07-01T09:18:03.826Z"
      },
      {
        "duration": 6,
        "start_time": "2022-07-01T09:18:03.857Z"
      },
      {
        "duration": 9,
        "start_time": "2022-07-01T09:18:03.864Z"
      },
      {
        "duration": 21,
        "start_time": "2022-07-01T09:18:03.875Z"
      },
      {
        "duration": 277,
        "start_time": "2022-07-01T09:18:03.900Z"
      },
      {
        "duration": 10,
        "start_time": "2022-07-01T09:18:04.178Z"
      },
      {
        "duration": 15,
        "start_time": "2022-07-01T09:18:04.189Z"
      },
      {
        "duration": 26,
        "start_time": "2022-07-01T09:18:04.206Z"
      },
      {
        "duration": 9,
        "start_time": "2022-07-01T09:18:04.233Z"
      },
      {
        "duration": 11,
        "start_time": "2022-07-01T09:18:04.243Z"
      },
      {
        "duration": 24,
        "start_time": "2022-07-01T09:18:04.255Z"
      },
      {
        "duration": 9509,
        "start_time": "2022-07-01T09:18:04.281Z"
      },
      {
        "duration": 9638,
        "start_time": "2022-07-01T09:18:13.791Z"
      },
      {
        "duration": 625,
        "start_time": "2022-07-01T09:18:23.431Z"
      },
      {
        "duration": 9,
        "start_time": "2022-07-01T09:18:24.058Z"
      },
      {
        "duration": 1574,
        "start_time": "2022-07-01T09:18:24.068Z"
      },
      {
        "duration": 37,
        "start_time": "2022-07-01T09:18:25.643Z"
      },
      {
        "duration": 1313,
        "start_time": "2022-07-01T09:18:25.681Z"
      },
      {
        "duration": 4,
        "start_time": "2022-07-01T09:18:26.995Z"
      },
      {
        "duration": 14,
        "start_time": "2022-07-01T09:18:27.001Z"
      },
      {
        "duration": 26,
        "start_time": "2022-07-01T09:18:27.017Z"
      },
      {
        "duration": 43,
        "start_time": "2022-07-01T09:18:27.044Z"
      },
      {
        "duration": 2842,
        "start_time": "2022-07-01T09:18:27.090Z"
      },
      {
        "duration": 46256,
        "start_time": "2022-07-01T09:18:29.934Z"
      },
      {
        "duration": 1251,
        "start_time": "2022-07-01T09:19:16.192Z"
      },
      {
        "duration": 45770,
        "start_time": "2022-07-01T09:19:17.444Z"
      },
      {
        "duration": 660,
        "start_time": "2022-07-01T09:20:03.216Z"
      },
      {
        "duration": 4,
        "start_time": "2022-07-01T09:20:03.879Z"
      },
      {
        "duration": 342488,
        "start_time": "2022-07-01T09:20:03.885Z"
      },
      {
        "duration": 9394,
        "start_time": "2022-07-01T09:25:46.374Z"
      },
      {
        "duration": 335047,
        "start_time": "2022-07-01T09:25:55.770Z"
      },
      {
        "duration": 7478,
        "start_time": "2022-07-01T09:31:30.818Z"
      },
      {
        "duration": 4,
        "start_time": "2022-07-01T09:31:38.297Z"
      },
      {
        "duration": 19,
        "start_time": "2022-07-01T09:31:38.302Z"
      },
      {
        "duration": 5358,
        "start_time": "2022-07-01T09:31:38.323Z"
      },
      {
        "duration": 96,
        "start_time": "2022-07-04T10:50:41.503Z"
      },
      {
        "duration": 128,
        "start_time": "2022-07-04T11:43:08.654Z"
      },
      {
        "duration": 38,
        "start_time": "2022-07-04T11:48:00.269Z"
      },
      {
        "duration": 6,
        "start_time": "2022-07-04T11:48:05.297Z"
      },
      {
        "duration": 5,
        "start_time": "2022-07-04T11:48:10.103Z"
      },
      {
        "duration": 5,
        "start_time": "2022-07-04T11:48:20.920Z"
      },
      {
        "duration": 1436,
        "start_time": "2022-07-04T11:48:34.664Z"
      },
      {
        "duration": 3194,
        "start_time": "2022-07-04T11:48:38.705Z"
      },
      {
        "duration": 84,
        "start_time": "2022-07-04T11:49:10.123Z"
      },
      {
        "duration": 10,
        "start_time": "2022-07-04T11:49:17.749Z"
      },
      {
        "duration": 5,
        "start_time": "2022-07-04T11:49:47.839Z"
      },
      {
        "duration": 555,
        "start_time": "2022-07-04T11:50:54.018Z"
      },
      {
        "duration": 74,
        "start_time": "2022-07-04T12:04:30.910Z"
      },
      {
        "duration": 1557,
        "start_time": "2022-07-05T16:37:43.971Z"
      },
      {
        "duration": 1441,
        "start_time": "2022-07-05T16:37:45.530Z"
      },
      {
        "duration": 23,
        "start_time": "2022-07-05T16:37:46.973Z"
      },
      {
        "duration": 6,
        "start_time": "2022-07-05T16:37:46.998Z"
      },
      {
        "duration": 20,
        "start_time": "2022-07-05T16:37:47.005Z"
      },
      {
        "duration": 21,
        "start_time": "2022-07-05T16:37:47.026Z"
      },
      {
        "duration": 15,
        "start_time": "2022-07-05T16:37:47.048Z"
      },
      {
        "duration": 9,
        "start_time": "2022-07-05T16:37:47.065Z"
      },
      {
        "duration": 7,
        "start_time": "2022-07-05T16:37:47.076Z"
      },
      {
        "duration": 244,
        "start_time": "2022-07-05T16:37:47.086Z"
      },
      {
        "duration": 9,
        "start_time": "2022-07-05T16:37:47.331Z"
      },
      {
        "duration": 23,
        "start_time": "2022-07-05T16:37:47.342Z"
      },
      {
        "duration": 7,
        "start_time": "2022-07-05T16:37:47.367Z"
      },
      {
        "duration": 14,
        "start_time": "2022-07-05T16:37:47.376Z"
      },
      {
        "duration": 16,
        "start_time": "2022-07-05T16:37:47.392Z"
      },
      {
        "duration": 21,
        "start_time": "2022-07-05T16:37:47.410Z"
      },
      {
        "duration": 9943,
        "start_time": "2022-07-05T16:37:47.433Z"
      },
      {
        "duration": 9668,
        "start_time": "2022-07-05T16:37:57.378Z"
      },
      {
        "duration": 513,
        "start_time": "2022-07-05T16:38:07.048Z"
      },
      {
        "duration": 719,
        "start_time": "2022-07-05T16:38:07.563Z"
      },
      {
        "duration": 9,
        "start_time": "2022-07-05T16:38:08.284Z"
      },
      {
        "duration": 1329,
        "start_time": "2022-07-05T16:38:08.294Z"
      },
      {
        "duration": 39,
        "start_time": "2022-07-05T16:38:09.625Z"
      },
      {
        "duration": 1373,
        "start_time": "2022-07-05T16:38:09.666Z"
      },
      {
        "duration": 4,
        "start_time": "2022-07-05T16:38:11.040Z"
      },
      {
        "duration": 16,
        "start_time": "2022-07-05T16:38:11.045Z"
      },
      {
        "duration": 21,
        "start_time": "2022-07-05T16:38:11.062Z"
      },
      {
        "duration": 43,
        "start_time": "2022-07-05T16:38:11.087Z"
      },
      {
        "duration": 2138,
        "start_time": "2022-07-05T16:38:11.131Z"
      },
      {
        "duration": 105,
        "start_time": "2022-07-05T16:39:51.769Z"
      },
      {
        "duration": 44863,
        "start_time": "2022-07-05T17:25:49.086Z"
      },
      {
        "duration": 44842,
        "start_time": "2022-07-05T17:27:02.371Z"
      },
      {
        "duration": 1406,
        "start_time": "2022-07-05T17:28:08.329Z"
      },
      {
        "duration": 44,
        "start_time": "2022-07-05T17:29:08.696Z"
      },
      {
        "duration": 1361,
        "start_time": "2022-07-05T17:30:57.627Z"
      },
      {
        "duration": 44709,
        "start_time": "2022-07-05T17:31:58.369Z"
      },
      {
        "duration": 905,
        "start_time": "2022-07-05T17:32:54.183Z"
      },
      {
        "duration": 1409,
        "start_time": "2022-07-05T17:33:15.148Z"
      },
      {
        "duration": 1395,
        "start_time": "2022-07-05T17:33:25.266Z"
      },
      {
        "duration": 62,
        "start_time": "2022-07-05T17:35:01.097Z"
      },
      {
        "duration": 1399,
        "start_time": "2022-07-05T17:35:24.598Z"
      },
      {
        "duration": 44,
        "start_time": "2022-07-05T17:35:54.571Z"
      },
      {
        "duration": 1368,
        "start_time": "2022-07-05T17:35:58.626Z"
      },
      {
        "duration": 3,
        "start_time": "2022-07-05T17:37:26.052Z"
      },
      {
        "duration": 341606,
        "start_time": "2022-07-05T17:38:56.059Z"
      },
      {
        "duration": 3278,
        "start_time": "2022-07-05T17:45:07.243Z"
      },
      {
        "duration": 11,
        "start_time": "2022-07-05T17:45:22.480Z"
      },
      {
        "duration": 327811,
        "start_time": "2022-07-05T17:45:33.234Z"
      },
      {
        "duration": 338478,
        "start_time": "2022-07-05T17:54:54.381Z"
      },
      {
        "duration": 4247,
        "start_time": "2022-07-05T18:00:49.378Z"
      },
      {
        "duration": 4,
        "start_time": "2022-07-05T18:00:57.533Z"
      },
      {
        "duration": 4,
        "start_time": "2022-07-05T18:01:36.637Z"
      },
      {
        "duration": 54,
        "start_time": "2022-07-05T18:17:15.371Z"
      },
      {
        "duration": 1924,
        "start_time": "2022-07-05T18:17:22.689Z"
      },
      {
        "duration": 5,
        "start_time": "2022-07-05T18:31:48.733Z"
      },
      {
        "duration": 11,
        "start_time": "2022-07-05T18:43:14.875Z"
      },
      {
        "duration": 15,
        "start_time": "2022-07-05T18:43:32.474Z"
      },
      {
        "duration": 16,
        "start_time": "2022-07-05T18:43:46.059Z"
      },
      {
        "duration": 11,
        "start_time": "2022-07-05T18:46:42.783Z"
      },
      {
        "duration": 11,
        "start_time": "2022-07-05T18:48:10.084Z"
      },
      {
        "duration": 1666,
        "start_time": "2022-07-05T19:31:45.590Z"
      },
      {
        "duration": 874,
        "start_time": "2022-07-05T19:31:47.258Z"
      },
      {
        "duration": 34,
        "start_time": "2022-07-05T19:31:48.134Z"
      },
      {
        "duration": 10,
        "start_time": "2022-07-05T19:31:48.170Z"
      },
      {
        "duration": 34,
        "start_time": "2022-07-05T19:31:48.182Z"
      },
      {
        "duration": 24,
        "start_time": "2022-07-05T19:31:48.218Z"
      },
      {
        "duration": 6,
        "start_time": "2022-07-05T19:31:48.244Z"
      },
      {
        "duration": 10,
        "start_time": "2022-07-05T19:31:48.264Z"
      },
      {
        "duration": 31,
        "start_time": "2022-07-05T19:31:48.276Z"
      },
      {
        "duration": 308,
        "start_time": "2022-07-05T19:31:48.309Z"
      },
      {
        "duration": 9,
        "start_time": "2022-07-05T19:31:48.619Z"
      },
      {
        "duration": 25,
        "start_time": "2022-07-05T19:31:48.630Z"
      },
      {
        "duration": 15,
        "start_time": "2022-07-05T19:31:48.657Z"
      },
      {
        "duration": 50,
        "start_time": "2022-07-05T19:31:48.676Z"
      },
      {
        "duration": 25,
        "start_time": "2022-07-05T19:31:48.728Z"
      },
      {
        "duration": 46,
        "start_time": "2022-07-05T19:31:48.755Z"
      },
      {
        "duration": 11032,
        "start_time": "2022-07-05T19:31:48.803Z"
      },
      {
        "duration": 10420,
        "start_time": "2022-07-05T19:31:59.837Z"
      },
      {
        "duration": 673,
        "start_time": "2022-07-05T19:32:10.259Z"
      },
      {
        "duration": 815,
        "start_time": "2022-07-05T19:32:10.935Z"
      },
      {
        "duration": 14,
        "start_time": "2022-07-05T19:32:11.752Z"
      },
      {
        "duration": 1542,
        "start_time": "2022-07-05T19:32:11.769Z"
      },
      {
        "duration": 38,
        "start_time": "2022-07-05T19:32:13.312Z"
      },
      {
        "duration": 1588,
        "start_time": "2022-07-05T19:32:13.363Z"
      },
      {
        "duration": 4,
        "start_time": "2022-07-05T19:32:14.953Z"
      },
      {
        "duration": 42,
        "start_time": "2022-07-05T19:32:14.959Z"
      },
      {
        "duration": 41,
        "start_time": "2022-07-05T19:32:15.003Z"
      },
      {
        "duration": 61,
        "start_time": "2022-07-05T19:32:15.047Z"
      },
      {
        "duration": 4054,
        "start_time": "2022-07-05T19:32:15.110Z"
      },
      {
        "duration": 48443,
        "start_time": "2022-07-05T19:32:19.168Z"
      },
      {
        "duration": 1547,
        "start_time": "2022-07-05T19:33:07.613Z"
      },
      {
        "duration": 47122,
        "start_time": "2022-07-05T19:33:09.163Z"
      },
      {
        "duration": 950,
        "start_time": "2022-07-05T19:33:56.287Z"
      },
      {
        "duration": 4,
        "start_time": "2022-07-05T19:33:57.239Z"
      },
      {
        "duration": 370188,
        "start_time": "2022-07-05T19:33:57.245Z"
      },
      {
        "duration": 3454,
        "start_time": "2022-07-05T19:40:07.435Z"
      },
      {
        "duration": 354867,
        "start_time": "2022-07-05T19:40:10.890Z"
      },
      {
        "duration": 4765,
        "start_time": "2022-07-05T19:46:05.759Z"
      },
      {
        "duration": 4,
        "start_time": "2022-07-05T19:46:10.527Z"
      },
      {
        "duration": 13,
        "start_time": "2022-07-05T19:46:10.532Z"
      },
      {
        "duration": 2094,
        "start_time": "2022-07-05T19:46:10.560Z"
      },
      {
        "duration": 18,
        "start_time": "2022-07-05T19:46:12.656Z"
      }
    ],
    "kernelspec": {
      "display_name": "Python 3 (ipykernel)",
      "language": "python",
      "name": "python3"
    },
    "language_info": {
      "codemirror_mode": {
        "name": "ipython",
        "version": 3
      },
      "file_extension": ".py",
      "mimetype": "text/x-python",
      "name": "python",
      "nbconvert_exporter": "python",
      "pygments_lexer": "ipython3",
      "version": "3.9.5"
    },
    "toc": {
      "base_numbering": 1,
      "nav_menu": {},
      "number_sections": false,
      "sideBar": true,
      "skip_h1_title": true,
      "title_cell": "Содержание",
      "title_sidebar": "Contents",
      "toc_cell": true,
      "toc_position": {
        "height": "calc(100% - 180px)",
        "left": "10px",
        "top": "150px",
        "width": "165px"
      },
      "toc_section_display": true,
      "toc_window_display": true
    },
    "colab": {
      "provenance": []
    }
  },
  "nbformat": 4,
  "nbformat_minor": 0
}